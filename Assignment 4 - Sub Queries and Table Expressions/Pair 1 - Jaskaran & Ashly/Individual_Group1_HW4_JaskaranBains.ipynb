{
    "metadata": {
        "kernelspec": {
            "name": "SQL",
            "display_name": "SQL",
            "language": "sql"
        },
        "language_info": {
            "name": "sql",
            "version": ""
        }
    },
    "nbformat_minor": 2,
    "nbformat": 4,
    "cells": [
        {
            "cell_type": "markdown",
            "source": [
                "\\*\\*Assignment 4 (Chapters 4 & 5)\\*\\*"
            ],
            "metadata": {
                "language": "sql",
                "azdata_cell_guid": "dbaeb69b-8f9d-4de1-a78f-6dd965712570"
            },
            "attachments": {}
        },
        {
            "cell_type": "markdown",
            "source": [
                "Jaskaran Bains, partnered with Ashly Castillo for Assignement 4 members of Group 1. \n",
                "Assignment Overview:\n",
                "\n",
                "\\- 10 Proprietary SQL Propositions each for the database \"WorldWideImporters\"\n",
                "\n",
                "\\- Coordinate via Gannt Project Planner and To Do List\n",
                "\n",
                "\\- Record Walk through Presentation of the work\n",
                "\n",
                "\\- LLMS Used: Grok 3, ChatGPT-4o for mainly Syntax error debugging and some code logic"
            ],
            "metadata": {
                "azdata_cell_guid": "998be3ad-ca31-43a0-91ef-fc41a6d2931e",
                "language": ""
            },
            "attachments": {}
        },
        {
            "cell_type": "markdown",
            "source": [
                "**Proposition 1**\n",
                "\n",
                "\"Find the top 50 customers who have ordered the most items and order them high to low.\"\n",
                "\n",
                "This query finds the top 50 customers who have places orders, then ranks them by the ottal number of items they've ordered descendingly.\n",
                "\n",
                "\\- We use a subquery that joins the sales.orders table with the sales.orderlines table using the OrderID column\n",
                "\n",
                "\\- In our SELECT we use a SUM of the quanitities from orderlines table and publish the sum with the alias TotalItemsOrdered \n",
                "\n",
                "\\- In GROUP BY we group the results by CustomerID so we can associate a name to their respective order amounts\n",
                "\n",
                "\\- In our main query we use SELECT TOP 50 to narrow our output down to the top 50 and our FROM will use the Customers table aliased as c\n",
                "\n",
                "\\- Our JOIN function joins the customers table with the orderSummary table established in the subquery so we can match customer with their order amounts\n",
                "\n",
                "\\- ORDER BY simply to sort our output via TotalItemsOrderes going down descndingly"
            ],
            "metadata": {
                "azdata_cell_guid": "3f38b1db-b0b4-47f1-88f4-756957995626"
            },
            "attachments": {}
        },
        {
            "cell_type": "code",
            "source": [
                "SELECT TOP 50 c.CustomerID, c.CustomerName, TotalItemsOrdered\n",
                "FROM Sales.Customers c\n",
                "JOIN \n",
                "    (SELECT o.CustomerID, SUM(ol.Quantity) AS TotalItemsOrdered\n",
                "     FROM Sales.Orders o\n",
                "     JOIN Sales.OrderLines ol ON o.OrderID = ol.OrderID\n",
                "     GROUP BY o.CustomerID) AS OrderSummary\n",
                "ON c.CustomerID = OrderSummary.CustomerID\n",
                "ORDER BY TotalItemsOrdered DESC;"
            ],
            "metadata": {
                "azdata_cell_guid": "1313b7a5-de50-4a69-a265-b8f03fdeb59c",
                "language": "sql"
            },
            "outputs": [
                {
                    "output_type": "display_data",
                    "data": {
                        "text/html": "(50 rows affected)"
                    },
                    "metadata": {}
                },
                {
                    "output_type": "display_data",
                    "data": {
                        "text/html": "Total execution time: 00:00:00.063"
                    },
                    "metadata": {}
                },
                {
                    "output_type": "execute_result",
                    "execution_count": 12,
                    "data": {
                        "application/vnd.dataresource+json": {
                            "schema": {
                                "fields": [
                                    {
                                        "name": "CustomerID"
                                    },
                                    {
                                        "name": "CustomerName"
                                    },
                                    {
                                        "name": "TotalItemsOrdered"
                                    }
                                ]
                            },
                            "data": [
                                {
                                    "CustomerID": "569",
                                    "CustomerName": "Wingtip Toys (West Frostproof, FL)",
                                    "TotalItemsOrdered": "19544"
                                },
                                {
                                    "CustomerID": "185",
                                    "CustomerName": "Tailspin Toys (Vidrine, LA)",
                                    "TotalItemsOrdered": "19487"
                                },
                                {
                                    "CustomerID": "546",
                                    "CustomerName": "Wingtip Toys (Key Biscayne, FL)",
                                    "TotalItemsOrdered": "19306"
                                },
                                {
                                    "CustomerID": "980",
                                    "CustomerName": "Om Yadav",
                                    "TotalItemsOrdered": "19169"
                                },
                                {
                                    "CustomerID": "177",
                                    "CustomerName": "Tailspin Toys (Orrtanna, PA)",
                                    "TotalItemsOrdered": "19052"
                                },
                                {
                                    "CustomerID": "930",
                                    "CustomerName": "Shantanu Huq",
                                    "TotalItemsOrdered": "19034"
                                },
                                {
                                    "CustomerID": "558",
                                    "CustomerName": "Wingtip Toys (Bourneville, OH)",
                                    "TotalItemsOrdered": "18900"
                                },
                                {
                                    "CustomerID": "831",
                                    "CustomerName": "Bhaavan Rai",
                                    "TotalItemsOrdered": "18864"
                                },
                                {
                                    "CustomerID": "67",
                                    "CustomerName": "Tailspin Toys (Sentinel Butte, ND)",
                                    "TotalItemsOrdered": "18818"
                                },
                                {
                                    "CustomerID": "32",
                                    "CustomerName": "Tailspin Toys (Maypearl, TX)",
                                    "TotalItemsOrdered": "18627"
                                },
                                {
                                    "CustomerID": "78",
                                    "CustomerName": "Tailspin Toys (Sekiu, WA)",
                                    "TotalItemsOrdered": "18441"
                                },
                                {
                                    "CustomerID": "907",
                                    "CustomerName": "Eugen Agafitei",
                                    "TotalItemsOrdered": "18373"
                                },
                                {
                                    "CustomerID": "140",
                                    "CustomerName": "Tailspin Toys (Furley, KS)",
                                    "TotalItemsOrdered": "18291"
                                },
                                {
                                    "CustomerID": "510",
                                    "CustomerName": "Wingtip Toys (Grabill, IN)",
                                    "TotalItemsOrdered": "18215"
                                },
                                {
                                    "CustomerID": "110",
                                    "CustomerName": "Tailspin Toys (North Crows Nest, IN)",
                                    "TotalItemsOrdered": "18152"
                                },
                                {
                                    "CustomerID": "856",
                                    "CustomerName": "Satish Mittal",
                                    "TotalItemsOrdered": "18085"
                                },
                                {
                                    "CustomerID": "545",
                                    "CustomerName": "Wingtip Toys (Jamison, IA)",
                                    "TotalItemsOrdered": "18065"
                                },
                                {
                                    "CustomerID": "102",
                                    "CustomerName": "Tailspin Toys (Fieldbrook, CA)",
                                    "TotalItemsOrdered": "18059"
                                },
                                {
                                    "CustomerID": "1",
                                    "CustomerName": "Tailspin Toys (Head Office)",
                                    "TotalItemsOrdered": "18011"
                                },
                                {
                                    "CustomerID": "527",
                                    "CustomerName": "Wingtip Toys (Islip Terrace, NY)",
                                    "TotalItemsOrdered": "18005"
                                },
                                {
                                    "CustomerID": "65",
                                    "CustomerName": "Tailspin Toys (North Cowden, TX)",
                                    "TotalItemsOrdered": "17986"
                                },
                                {
                                    "CustomerID": "518",
                                    "CustomerName": "Wingtip Toys (Raton, NM)",
                                    "TotalItemsOrdered": "17971"
                                },
                                {
                                    "CustomerID": "70",
                                    "CustomerName": "Tailspin Toys (New Baden, IL)",
                                    "TotalItemsOrdered": "17968"
                                },
                                {
                                    "CustomerID": "448",
                                    "CustomerName": "Wingtip Toys (Salt Wells, NV)",
                                    "TotalItemsOrdered": "17943"
                                },
                                {
                                    "CustomerID": "981",
                                    "CustomerName": "Mahmut ozbek",
                                    "TotalItemsOrdered": "17807"
                                },
                                {
                                    "CustomerID": "841",
                                    "CustomerName": "Camille Authier",
                                    "TotalItemsOrdered": "17775"
                                },
                                {
                                    "CustomerID": "804",
                                    "CustomerName": "Aleksandrs Riekstins",
                                    "TotalItemsOrdered": "17743"
                                },
                                {
                                    "CustomerID": "906",
                                    "CustomerName": "Ajitaab Pakalapati",
                                    "TotalItemsOrdered": "17701"
                                },
                                {
                                    "CustomerID": "186",
                                    "CustomerName": "Tailspin Toys (Placer, OR)",
                                    "TotalItemsOrdered": "17660"
                                },
                                {
                                    "CustomerID": "968",
                                    "CustomerName": "Anca Gogean",
                                    "TotalItemsOrdered": "17625"
                                },
                                {
                                    "CustomerID": "118",
                                    "CustomerName": "Tailspin Toys (Vassalboro, ME)",
                                    "TotalItemsOrdered": "17612"
                                },
                                {
                                    "CustomerID": "900",
                                    "CustomerName": "Lilli Sokk",
                                    "TotalItemsOrdered": "17590"
                                },
                                {
                                    "CustomerID": "975",
                                    "CustomerName": "Prabodh Nair",
                                    "TotalItemsOrdered": "17555"
                                },
                                {
                                    "CustomerID": "537",
                                    "CustomerName": "Wingtip Toys (Akhiok, AK)",
                                    "TotalItemsOrdered": "17530"
                                },
                                {
                                    "CustomerID": "157",
                                    "CustomerName": "Tailspin Toys (Saks, AL)",
                                    "TotalItemsOrdered": "17449"
                                },
                                {
                                    "CustomerID": "35",
                                    "CustomerName": "Tailspin Toys (Slanesville, WV)",
                                    "TotalItemsOrdered": "17441"
                                },
                                {
                                    "CustomerID": "838",
                                    "CustomerName": "Pavel Bogdanov",
                                    "TotalItemsOrdered": "17426"
                                },
                                {
                                    "CustomerID": "38",
                                    "CustomerName": "Tailspin Toys (Airport Drive, MO)",
                                    "TotalItemsOrdered": "17365"
                                },
                                {
                                    "CustomerID": "133",
                                    "CustomerName": "Tailspin Toys (Lake Erie Beach, NY)",
                                    "TotalItemsOrdered": "17316"
                                },
                                {
                                    "CustomerID": "90",
                                    "CustomerName": "Tailspin Toys (Tolna, ND)",
                                    "TotalItemsOrdered": "17308"
                                },
                                {
                                    "CustomerID": "905",
                                    "CustomerName": "Sara Huiting",
                                    "TotalItemsOrdered": "17270"
                                },
                                {
                                    "CustomerID": "960",
                                    "CustomerName": "Edgar Jogi",
                                    "TotalItemsOrdered": "17247"
                                },
                                {
                                    "CustomerID": "410",
                                    "CustomerName": "Wingtip Toys (Bernstein, TX)",
                                    "TotalItemsOrdered": "17245"
                                },
                                {
                                    "CustomerID": "187",
                                    "CustomerName": "Tailspin Toys (Brown City, MI)",
                                    "TotalItemsOrdered": "17237"
                                },
                                {
                                    "CustomerID": "493",
                                    "CustomerName": "Wingtip Toys (Federalsburg, MD)",
                                    "TotalItemsOrdered": "17229"
                                },
                                {
                                    "CustomerID": "562",
                                    "CustomerName": "Wingtip Toys (Ware Shoals, SC)",
                                    "TotalItemsOrdered": "17225"
                                },
                                {
                                    "CustomerID": "976",
                                    "CustomerName": "Alinne Matos",
                                    "TotalItemsOrdered": "17215"
                                },
                                {
                                    "CustomerID": "910",
                                    "CustomerName": "Elina Kaleja",
                                    "TotalItemsOrdered": "17195"
                                },
                                {
                                    "CustomerID": "107",
                                    "CustomerName": "Tailspin Toys (Glen Avon, CA)",
                                    "TotalItemsOrdered": "17195"
                                },
                                {
                                    "CustomerID": "549",
                                    "CustomerName": "Wingtip Toys (Lake Ronkonkoma, NY)",
                                    "TotalItemsOrdered": "17178"
                                }
                            ]
                        },
                        "text/html": "<table><tr><th>CustomerID</th><th>CustomerName</th><th>TotalItemsOrdered</th></tr><tr><td>569</td><td>Wingtip Toys (West Frostproof, FL)</td><td>19544</td></tr><tr><td>185</td><td>Tailspin Toys (Vidrine, LA)</td><td>19487</td></tr><tr><td>546</td><td>Wingtip Toys (Key Biscayne, FL)</td><td>19306</td></tr><tr><td>980</td><td>Om Yadav</td><td>19169</td></tr><tr><td>177</td><td>Tailspin Toys (Orrtanna, PA)</td><td>19052</td></tr><tr><td>930</td><td>Shantanu Huq</td><td>19034</td></tr><tr><td>558</td><td>Wingtip Toys (Bourneville, OH)</td><td>18900</td></tr><tr><td>831</td><td>Bhaavan Rai</td><td>18864</td></tr><tr><td>67</td><td>Tailspin Toys (Sentinel Butte, ND)</td><td>18818</td></tr><tr><td>32</td><td>Tailspin Toys (Maypearl, TX)</td><td>18627</td></tr><tr><td>78</td><td>Tailspin Toys (Sekiu, WA)</td><td>18441</td></tr><tr><td>907</td><td>Eugen Agafitei</td><td>18373</td></tr><tr><td>140</td><td>Tailspin Toys (Furley, KS)</td><td>18291</td></tr><tr><td>510</td><td>Wingtip Toys (Grabill, IN)</td><td>18215</td></tr><tr><td>110</td><td>Tailspin Toys (North Crows Nest, IN)</td><td>18152</td></tr><tr><td>856</td><td>Satish Mittal</td><td>18085</td></tr><tr><td>545</td><td>Wingtip Toys (Jamison, IA)</td><td>18065</td></tr><tr><td>102</td><td>Tailspin Toys (Fieldbrook, CA)</td><td>18059</td></tr><tr><td>1</td><td>Tailspin Toys (Head Office)</td><td>18011</td></tr><tr><td>527</td><td>Wingtip Toys (Islip Terrace, NY)</td><td>18005</td></tr><tr><td>65</td><td>Tailspin Toys (North Cowden, TX)</td><td>17986</td></tr><tr><td>518</td><td>Wingtip Toys (Raton, NM)</td><td>17971</td></tr><tr><td>70</td><td>Tailspin Toys (New Baden, IL)</td><td>17968</td></tr><tr><td>448</td><td>Wingtip Toys (Salt Wells, NV)</td><td>17943</td></tr><tr><td>981</td><td>Mahmut ozbek</td><td>17807</td></tr><tr><td>841</td><td>Camille Authier</td><td>17775</td></tr><tr><td>804</td><td>Aleksandrs Riekstins</td><td>17743</td></tr><tr><td>906</td><td>Ajitaab Pakalapati</td><td>17701</td></tr><tr><td>186</td><td>Tailspin Toys (Placer, OR)</td><td>17660</td></tr><tr><td>968</td><td>Anca Gogean</td><td>17625</td></tr><tr><td>118</td><td>Tailspin Toys (Vassalboro, ME)</td><td>17612</td></tr><tr><td>900</td><td>Lilli Sokk</td><td>17590</td></tr><tr><td>975</td><td>Prabodh Nair</td><td>17555</td></tr><tr><td>537</td><td>Wingtip Toys (Akhiok, AK)</td><td>17530</td></tr><tr><td>157</td><td>Tailspin Toys (Saks, AL)</td><td>17449</td></tr><tr><td>35</td><td>Tailspin Toys (Slanesville, WV)</td><td>17441</td></tr><tr><td>838</td><td>Pavel Bogdanov</td><td>17426</td></tr><tr><td>38</td><td>Tailspin Toys (Airport Drive, MO)</td><td>17365</td></tr><tr><td>133</td><td>Tailspin Toys (Lake Erie Beach, NY)</td><td>17316</td></tr><tr><td>90</td><td>Tailspin Toys (Tolna, ND)</td><td>17308</td></tr><tr><td>905</td><td>Sara Huiting</td><td>17270</td></tr><tr><td>960</td><td>Edgar Jogi</td><td>17247</td></tr><tr><td>410</td><td>Wingtip Toys (Bernstein, TX)</td><td>17245</td></tr><tr><td>187</td><td>Tailspin Toys (Brown City, MI)</td><td>17237</td></tr><tr><td>493</td><td>Wingtip Toys (Federalsburg, MD)</td><td>17229</td></tr><tr><td>562</td><td>Wingtip Toys (Ware Shoals, SC)</td><td>17225</td></tr><tr><td>976</td><td>Alinne Matos</td><td>17215</td></tr><tr><td>910</td><td>Elina Kaleja</td><td>17195</td></tr><tr><td>107</td><td>Tailspin Toys (Glen Avon, CA)</td><td>17195</td></tr><tr><td>549</td><td>Wingtip Toys (Lake Ronkonkoma, NY)</td><td>17178</td></tr></table>"
                    },
                    "metadata": {}
                }
            ],
            "execution_count": 12
        },
        {
            "cell_type": "markdown",
            "source": [
                "**Proposition 2**\n",
                "\n",
                "\"Find the top 50 most expensive items by unit price sold in orders\"\n",
                "\n",
                "This query retrieves all unique items ordered from OrderLines table and ranks the top 50 of them most to least expensive\n",
                "\n",
                "\\- We use a subquery to SELECT items via stockitemID from the table ORderLiners, DISTINCT clause makes sure that we dont see the same item again even though its part of the top 50 orders by price\n",
                "\n",
                "\\- We use the alias for the subquery DistinctItems so that we can easily reference the data of distinct expensive items\n",
                "\n",
                "\\- Our main query's FROM clause uses the subquery and simply orders the data retrieved from the subquery descendingly with the ORDER BY clause.   \n",
                "\n",
                "\\- Items that looks the same are slightly different either by color or by size"
            ],
            "metadata": {
                "language": "sql",
                "azdata_cell_guid": "2ffceefe-530a-4eba-8415-e8b7d47d8b8f"
            },
            "attachments": {}
        },
        {
            "cell_type": "code",
            "source": [
                "SELECT TOP 50 StockItemID, Description, UnitPrice\n",
                "FROM (\n",
                "    SELECT DISTINCT StockItemID, Description, UnitPrice\n",
                "    FROM Sales.OrderLines\n",
                ") AS DistinctItems\n",
                "ORDER BY UnitPrice DESC;"
            ],
            "metadata": {
                "language": "sql",
                "azdata_cell_guid": "0f6fc652-0557-48a6-86ad-c6744f682ba6"
            },
            "outputs": [
                {
                    "output_type": "display_data",
                    "data": {
                        "text/html": "(50 rows affected)"
                    },
                    "metadata": {}
                },
                {
                    "output_type": "display_data",
                    "data": {
                        "text/html": "Total execution time: 00:00:00.378"
                    },
                    "metadata": {}
                },
                {
                    "output_type": "execute_result",
                    "execution_count": 25,
                    "data": {
                        "application/vnd.dataresource+json": {
                            "schema": {
                                "fields": [
                                    {
                                        "name": "StockItemID"
                                    },
                                    {
                                        "name": "Description"
                                    },
                                    {
                                        "name": "UnitPrice"
                                    }
                                ]
                            },
                            "data": [
                                {
                                    "StockItemID": "215",
                                    "Description": "Air cushion machine (Blue)",
                                    "UnitPrice": "1899.00"
                                },
                                {
                                    "StockItemID": "75",
                                    "Description": "Ride on big wheel monster truck (Black) 1/12 scale",
                                    "UnitPrice": "345.00"
                                },
                                {
                                    "StockItemID": "73",
                                    "Description": "Ride on vintage American toy coupe (Red) 1/12 scale",
                                    "UnitPrice": "285.00"
                                },
                                {
                                    "StockItemID": "74",
                                    "Description": "Ride on vintage American toy coupe (Black) 1/12 scale",
                                    "UnitPrice": "285.00"
                                },
                                {
                                    "StockItemID": "8",
                                    "Description": "USB food flash drive - dim sum 10 drive variety pack",
                                    "UnitPrice": "240.00"
                                },
                                {
                                    "StockItemID": "15",
                                    "Description": "USB food flash drive - dessert 10 drive variety pack",
                                    "UnitPrice": "240.00"
                                },
                                {
                                    "StockItemID": "174",
                                    "Description": "Bubblewrap dispenser (Black) 1.5m",
                                    "UnitPrice": "240.00"
                                },
                                {
                                    "StockItemID": "175",
                                    "Description": "Bubblewrap dispenser (Blue) 1.5m",
                                    "UnitPrice": "240.00"
                                },
                                {
                                    "StockItemID": "176",
                                    "Description": "Bubblewrap dispenser (Red) 1.5m",
                                    "UnitPrice": "240.00"
                                },
                                {
                                    "StockItemID": "67",
                                    "Description": "Ride on toy sedan car (Black) 1/12 scale",
                                    "UnitPrice": "230.00"
                                },
                                {
                                    "StockItemID": "68",
                                    "Description": "Ride on toy sedan car (Red) 1/12 scale",
                                    "UnitPrice": "230.00"
                                },
                                {
                                    "StockItemID": "69",
                                    "Description": "Ride on toy sedan car (Blue) 1/12 scale",
                                    "UnitPrice": "230.00"
                                },
                                {
                                    "StockItemID": "70",
                                    "Description": "Ride on toy sedan car (Green) 1/12 scale",
                                    "UnitPrice": "230.00"
                                },
                                {
                                    "StockItemID": "71",
                                    "Description": "Ride on toy sedan car (Yellow) 1/12 scale",
                                    "UnitPrice": "230.00"
                                },
                                {
                                    "StockItemID": "72",
                                    "Description": "Ride on toy sedan car (Pink) 1/12 scale",
                                    "UnitPrice": "230.00"
                                },
                                {
                                    "StockItemID": "164",
                                    "Description": "32 mm Double sided bubble wrap 50m",
                                    "UnitPrice": "112.00"
                                },
                                {
                                    "StockItemID": "161",
                                    "Description": "20 mm Double sided bubble wrap 50m",
                                    "UnitPrice": "108.00"
                                },
                                {
                                    "StockItemID": "158",
                                    "Description": "10 mm Double sided bubble wrap 50m",
                                    "UnitPrice": "105.00"
                                },
                                {
                                    "StockItemID": "173",
                                    "Description": "32 mm Anti static bubble wrap (Blue) 50m",
                                    "UnitPrice": "105.00"
                                },
                                {
                                    "StockItemID": "170",
                                    "Description": "20 mm Anti static bubble wrap (Blue) 50m",
                                    "UnitPrice": "102.00"
                                },
                                {
                                    "StockItemID": "167",
                                    "Description": "10 mm Anti static bubble wrap (Blue) 50m",
                                    "UnitPrice": "99.00"
                                },
                                {
                                    "StockItemID": "214",
                                    "Description": "Air cushion film 200mmx200mm 325m",
                                    "UnitPrice": "90.00"
                                },
                                {
                                    "StockItemID": "213",
                                    "Description": "Air cushion film 200mmx100mm 325m",
                                    "UnitPrice": "87.00"
                                },
                                {
                                    "StockItemID": "219",
                                    "Description": "Void fill 400 L bag (White) 400L",
                                    "UnitPrice": "50.00"
                                },
                                {
                                    "StockItemID": "172",
                                    "Description": "32 mm Anti static bubble wrap (Blue) 20m",
                                    "UnitPrice": "48.00"
                                },
                                {
                                    "StockItemID": "66",
                                    "Description": "RC big wheel monster truck with remote control (Black) 1/50 scale",
                                    "UnitPrice": "45.00"
                                },
                                {
                                    "StockItemID": "169",
                                    "Description": "20 mm Anti static bubble wrap (Blue) 20m",
                                    "UnitPrice": "45.00"
                                },
                                {
                                    "StockItemID": "166",
                                    "Description": "10 mm Anti static bubble wrap (Blue) 20m",
                                    "UnitPrice": "42.00"
                                },
                                {
                                    "StockItemID": "218",
                                    "Description": "Void fill 300 L bag (White) 300L",
                                    "UnitPrice": "37.50"
                                },
                                {
                                    "StockItemID": "163",
                                    "Description": "32 mm Double sided bubble wrap 20m",
                                    "UnitPrice": "37.00"
                                },
                                {
                                    "StockItemID": "8",
                                    "Description": "USB food flash drive - dim sum 10 drive variety pack",
                                    "UnitPrice": "36.00"
                                },
                                {
                                    "StockItemID": "15",
                                    "Description": "USB food flash drive - dessert 10 drive variety pack",
                                    "UnitPrice": "36.00"
                                },
                                {
                                    "StockItemID": "102",
                                    "Description": "Alien officer hoodie (Black) XL",
                                    "UnitPrice": "35.00"
                                },
                                {
                                    "StockItemID": "103",
                                    "Description": "Alien officer hoodie (Black) XXL",
                                    "UnitPrice": "35.00"
                                },
                                {
                                    "StockItemID": "104",
                                    "Description": "Alien officer hoodie (Black) 3XL",
                                    "UnitPrice": "35.00"
                                },
                                {
                                    "StockItemID": "105",
                                    "Description": "Alien officer hoodie (Black) 4XL",
                                    "UnitPrice": "35.00"
                                },
                                {
                                    "StockItemID": "106",
                                    "Description": "Alien officer hoodie (Black) 5XL",
                                    "UnitPrice": "35.00"
                                },
                                {
                                    "StockItemID": "115",
                                    "Description": "Superhero action jacket (Blue) 3XL",
                                    "UnitPrice": "34.00"
                                },
                                {
                                    "StockItemID": "116",
                                    "Description": "Superhero action jacket (Blue) 4XL",
                                    "UnitPrice": "34.00"
                                },
                                {
                                    "StockItemID": "117",
                                    "Description": "Superhero action jacket (Blue) 5XL",
                                    "UnitPrice": "34.00"
                                },
                                {
                                    "StockItemID": "160",
                                    "Description": "20 mm Double sided bubble wrap 20m",
                                    "UnitPrice": "33.00"
                                },
                                {
                                    "StockItemID": "4",
                                    "Description": "USB food flash drive - sushi roll",
                                    "UnitPrice": "32.00"
                                },
                                {
                                    "StockItemID": "5",
                                    "Description": "USB food flash drive - hamburger",
                                    "UnitPrice": "32.00"
                                },
                                {
                                    "StockItemID": "6",
                                    "Description": "USB food flash drive - hot dog",
                                    "UnitPrice": "32.00"
                                },
                                {
                                    "StockItemID": "7",
                                    "Description": "USB food flash drive - pizza slice",
                                    "UnitPrice": "32.00"
                                },
                                {
                                    "StockItemID": "9",
                                    "Description": "USB food flash drive - banana",
                                    "UnitPrice": "32.00"
                                },
                                {
                                    "StockItemID": "10",
                                    "Description": "USB food flash drive - chocolate bar",
                                    "UnitPrice": "32.00"
                                },
                                {
                                    "StockItemID": "11",
                                    "Description": "USB food flash drive - cookie",
                                    "UnitPrice": "32.00"
                                },
                                {
                                    "StockItemID": "12",
                                    "Description": "USB food flash drive - donut",
                                    "UnitPrice": "32.00"
                                },
                                {
                                    "StockItemID": "13",
                                    "Description": "USB food flash drive - shrimp cocktail",
                                    "UnitPrice": "32.00"
                                }
                            ]
                        },
                        "text/html": "<table><tr><th>StockItemID</th><th>Description</th><th>UnitPrice</th></tr><tr><td>215</td><td>Air cushion machine (Blue)</td><td>1899.00</td></tr><tr><td>75</td><td>Ride on big wheel monster truck (Black) 1/12 scale</td><td>345.00</td></tr><tr><td>73</td><td>Ride on vintage American toy coupe (Red) 1/12 scale</td><td>285.00</td></tr><tr><td>74</td><td>Ride on vintage American toy coupe (Black) 1/12 scale</td><td>285.00</td></tr><tr><td>8</td><td>USB food flash drive - dim sum 10 drive variety pack</td><td>240.00</td></tr><tr><td>15</td><td>USB food flash drive - dessert 10 drive variety pack</td><td>240.00</td></tr><tr><td>174</td><td>Bubblewrap dispenser (Black) 1.5m</td><td>240.00</td></tr><tr><td>175</td><td>Bubblewrap dispenser (Blue) 1.5m</td><td>240.00</td></tr><tr><td>176</td><td>Bubblewrap dispenser (Red) 1.5m</td><td>240.00</td></tr><tr><td>67</td><td>Ride on toy sedan car (Black) 1/12 scale</td><td>230.00</td></tr><tr><td>68</td><td>Ride on toy sedan car (Red) 1/12 scale</td><td>230.00</td></tr><tr><td>69</td><td>Ride on toy sedan car (Blue) 1/12 scale</td><td>230.00</td></tr><tr><td>70</td><td>Ride on toy sedan car (Green) 1/12 scale</td><td>230.00</td></tr><tr><td>71</td><td>Ride on toy sedan car (Yellow) 1/12 scale</td><td>230.00</td></tr><tr><td>72</td><td>Ride on toy sedan car (Pink) 1/12 scale</td><td>230.00</td></tr><tr><td>164</td><td>32 mm Double sided bubble wrap 50m</td><td>112.00</td></tr><tr><td>161</td><td>20 mm Double sided bubble wrap 50m</td><td>108.00</td></tr><tr><td>158</td><td>10 mm Double sided bubble wrap 50m</td><td>105.00</td></tr><tr><td>173</td><td>32 mm Anti static bubble wrap (Blue) 50m</td><td>105.00</td></tr><tr><td>170</td><td>20 mm Anti static bubble wrap (Blue) 50m</td><td>102.00</td></tr><tr><td>167</td><td>10 mm Anti static bubble wrap (Blue) 50m</td><td>99.00</td></tr><tr><td>214</td><td>Air cushion film 200mmx200mm 325m</td><td>90.00</td></tr><tr><td>213</td><td>Air cushion film 200mmx100mm 325m</td><td>87.00</td></tr><tr><td>219</td><td>Void fill 400 L bag (White) 400L</td><td>50.00</td></tr><tr><td>172</td><td>32 mm Anti static bubble wrap (Blue) 20m</td><td>48.00</td></tr><tr><td>66</td><td>RC big wheel monster truck with remote control (Black) 1/50 scale</td><td>45.00</td></tr><tr><td>169</td><td>20 mm Anti static bubble wrap (Blue) 20m</td><td>45.00</td></tr><tr><td>166</td><td>10 mm Anti static bubble wrap (Blue) 20m</td><td>42.00</td></tr><tr><td>218</td><td>Void fill 300 L bag (White) 300L</td><td>37.50</td></tr><tr><td>163</td><td>32 mm Double sided bubble wrap 20m</td><td>37.00</td></tr><tr><td>8</td><td>USB food flash drive - dim sum 10 drive variety pack</td><td>36.00</td></tr><tr><td>15</td><td>USB food flash drive - dessert 10 drive variety pack</td><td>36.00</td></tr><tr><td>102</td><td>Alien officer hoodie (Black) XL</td><td>35.00</td></tr><tr><td>103</td><td>Alien officer hoodie (Black) XXL</td><td>35.00</td></tr><tr><td>104</td><td>Alien officer hoodie (Black) 3XL</td><td>35.00</td></tr><tr><td>105</td><td>Alien officer hoodie (Black) 4XL</td><td>35.00</td></tr><tr><td>106</td><td>Alien officer hoodie (Black) 5XL</td><td>35.00</td></tr><tr><td>115</td><td>Superhero action jacket (Blue) 3XL</td><td>34.00</td></tr><tr><td>116</td><td>Superhero action jacket (Blue) 4XL</td><td>34.00</td></tr><tr><td>117</td><td>Superhero action jacket (Blue) 5XL</td><td>34.00</td></tr><tr><td>160</td><td>20 mm Double sided bubble wrap 20m</td><td>33.00</td></tr><tr><td>4</td><td>USB food flash drive - sushi roll</td><td>32.00</td></tr><tr><td>5</td><td>USB food flash drive - hamburger</td><td>32.00</td></tr><tr><td>6</td><td>USB food flash drive - hot dog</td><td>32.00</td></tr><tr><td>7</td><td>USB food flash drive - pizza slice</td><td>32.00</td></tr><tr><td>9</td><td>USB food flash drive - banana</td><td>32.00</td></tr><tr><td>10</td><td>USB food flash drive - chocolate bar</td><td>32.00</td></tr><tr><td>11</td><td>USB food flash drive - cookie</td><td>32.00</td></tr><tr><td>12</td><td>USB food flash drive - donut</td><td>32.00</td></tr><tr><td>13</td><td>USB food flash drive - shrimp cocktail</td><td>32.00</td></tr></table>"
                    },
                    "metadata": {}
                }
            ],
            "execution_count": 25
        },
        {
            "cell_type": "markdown",
            "source": [
                "**Proposition 3**\n",
                "\n",
                "\"Find the suppliers who have not been used\"  \n",
                "\n",
                "This query finds the names of suppliers that have not been used by checking if they exist in the table of supplier transactions.\n",
                "\n",
                "\\- We use a subquery that finds unique suppliers, using the SELECT DISTINCT clause, that are in the table SupplierTransactions\n",
                "\n",
                "\\- Now our subquery gives us essentially a list of all our suppliers that have recorded transactions\n",
                "\n",
                "\\- In out main query we use SELECT to get supplierid from the table of Suppliers\n",
                "\n",
                "\\- Now we have all suppliers and via our subquery, suppliers with transactions\n",
                "\n",
                "\\- We use the WHERE clause fitted with NOT IN to cross compare our 2 lists and then output those suppliers that were not found in the subquery"
            ],
            "metadata": {
                "language": "sql",
                "azdata_cell_guid": "cbb94a7a-d214-4cb2-9b87-6b5133d94ba4"
            },
            "attachments": {}
        },
        {
            "cell_type": "code",
            "source": [
                "SELECT supplierid, suppliername \n",
                "FROM Purchasing.Suppliers \n",
                "WHERE supplierid NOT IN (SELECT DISTINCT supplierid FROM Purchasing.SupplierTransactions);"
            ],
            "metadata": {
                "language": "sql",
                "azdata_cell_guid": "8220ee5e-353a-485b-b8c6-8a4187892656"
            },
            "outputs": [
                {
                    "output_type": "display_data",
                    "data": {
                        "text/html": "(6 rows affected)"
                    },
                    "metadata": {}
                },
                {
                    "output_type": "display_data",
                    "data": {
                        "text/html": "Total execution time: 00:00:00.034"
                    },
                    "metadata": {}
                },
                {
                    "output_type": "execute_result",
                    "execution_count": 27,
                    "data": {
                        "application/vnd.dataresource+json": {
                            "schema": {
                                "fields": [
                                    {
                                        "name": "supplierid"
                                    },
                                    {
                                        "name": "suppliername"
                                    }
                                ]
                            },
                            "data": [
                                {
                                    "supplierid": "3",
                                    "suppliername": "Consolidated Messenger"
                                },
                                {
                                    "supplierid": "6",
                                    "suppliername": "Humongous Insurance"
                                },
                                {
                                    "supplierid": "8",
                                    "suppliername": "Lucerne Publishing"
                                },
                                {
                                    "supplierid": "9",
                                    "suppliername": "Nod Publishers"
                                },
                                {
                                    "supplierid": "11",
                                    "suppliername": "Trey Research"
                                },
                                {
                                    "supplierid": "13",
                                    "suppliername": "Woodgrove Bank"
                                }
                            ]
                        },
                        "text/html": "<table><tr><th>supplierid</th><th>suppliername</th></tr><tr><td>3</td><td>Consolidated Messenger</td></tr><tr><td>6</td><td>Humongous Insurance</td></tr><tr><td>8</td><td>Lucerne Publishing</td></tr><tr><td>9</td><td>Nod Publishers</td></tr><tr><td>11</td><td>Trey Research</td></tr><tr><td>13</td><td>Woodgrove Bank</td></tr></table>"
                    },
                    "metadata": {}
                }
            ],
            "execution_count": 27
        },
        {
            "cell_type": "markdown",
            "source": [
                "**Proposition 4**\n",
                "\n",
                "\"Find the top 50 customers who have ordered the most expensive item\"\n",
                "\n",
                "This query finds the names of the topcustomers who ordered the most expensive item which we found in an earlier query to be the Air Cushion Machine\n",
                "\n",
                "\\- We use a sub sub query to get the the highest unit price item via the OrderLines tabls using the same method as the earlier query.\n",
                "\n",
                "\\- We use a sub query that joins the orders table and the orderlines table so we can associate orders with their items\n",
                "\n",
                "\\- Using SELECT DISTINCT we get unique customers from the orders that we've collected and thereby with the sub and sub query we can get the list of customer ids that have ordered atleast 1 air cushion machine.\n",
                "\n",
                "\\- In our main query we SELECT the customerid FROM the table of customers and using WHERE we filter out only the customers who appear in the subquery and then output the top 100 of them."
            ],
            "metadata": {
                "language": "sql",
                "azdata_cell_guid": "a78f1626-a271-4923-ab3f-289b07e46d6b"
            },
            "attachments": {}
        },
        {
            "cell_type": "code",
            "source": [
                "SELECT TOP 50 customerid, customername \n",
                "FROM Sales.Customers \n",
                "WHERE customerid IN (\n",
                "    SELECT DISTINCT o.customerid\n",
                "    FROM Sales.Orders o\n",
                "    JOIN Sales.OrderLines ol ON o.orderid = ol.orderid\n",
                "    WHERE ol.unitprice = (SELECT MAX(unitprice) FROM Sales.OrderLines));"
            ],
            "metadata": {
                "language": "sql",
                "azdata_cell_guid": "bfe05026-3106-4c19-b51c-3ce61699d370"
            },
            "outputs": [
                {
                    "output_type": "display_data",
                    "data": {
                        "text/html": "(50 rows affected)"
                    },
                    "metadata": {}
                },
                {
                    "output_type": "display_data",
                    "data": {
                        "text/html": "Total execution time: 00:00:00.061"
                    },
                    "metadata": {}
                },
                {
                    "output_type": "execute_result",
                    "metadata": {},
                    "execution_count": 4,
                    "data": {
                        "application/vnd.dataresource+json": {
                            "schema": {
                                "fields": [
                                    {
                                        "name": "customerid"
                                    },
                                    {
                                        "name": "customername"
                                    }
                                ]
                            },
                            "data": [
                                {
                                    "customerid": "1",
                                    "customername": "Tailspin Toys (Head Office)"
                                },
                                {
                                    "customerid": "4",
                                    "customername": "Tailspin Toys (Medicine Lodge, KS)"
                                },
                                {
                                    "customerid": "5",
                                    "customername": "Tailspin Toys (Gasport, NY)"
                                },
                                {
                                    "customerid": "6",
                                    "customername": "Tailspin Toys (Jessie, ND)"
                                },
                                {
                                    "customerid": "7",
                                    "customername": "Tailspin Toys (Frankewing, TN)"
                                },
                                {
                                    "customerid": "8",
                                    "customername": "Tailspin Toys (Bow Mar, CO)"
                                },
                                {
                                    "customerid": "9",
                                    "customername": "Tailspin Toys (Netcong, NJ)"
                                },
                                {
                                    "customerid": "10",
                                    "customername": "Tailspin Toys (Wimbledon, ND)"
                                },
                                {
                                    "customerid": "11",
                                    "customername": "Tailspin Toys (Devault, PA)"
                                },
                                {
                                    "customerid": "12",
                                    "customername": "Tailspin Toys (Biscay, MN)"
                                },
                                {
                                    "customerid": "13",
                                    "customername": "Tailspin Toys (Stonefort, IL)"
                                },
                                {
                                    "customerid": "14",
                                    "customername": "Tailspin Toys (Long Meadow, MD)"
                                },
                                {
                                    "customerid": "15",
                                    "customername": "Tailspin Toys (Batson, TX)"
                                },
                                {
                                    "customerid": "16",
                                    "customername": "Tailspin Toys (Coney Island, MO)"
                                },
                                {
                                    "customerid": "18",
                                    "customername": "Tailspin Toys (Goffstown, NH)"
                                },
                                {
                                    "customerid": "20",
                                    "customername": "Tailspin Toys (College Place, WA)"
                                },
                                {
                                    "customerid": "21",
                                    "customername": "Tailspin Toys (Tresckow, PA)"
                                },
                                {
                                    "customerid": "22",
                                    "customername": "Tailspin Toys (Ward Ridge, FL)"
                                },
                                {
                                    "customerid": "24",
                                    "customername": "Tailspin Toys (Dundarrach, NC)"
                                },
                                {
                                    "customerid": "25",
                                    "customername": "Tailspin Toys (Avenal, CA)"
                                },
                                {
                                    "customerid": "26",
                                    "customername": "Tailspin Toys (Hedrick, IA)"
                                },
                                {
                                    "customerid": "27",
                                    "customername": "Tailspin Toys (Bowlus, MN)"
                                },
                                {
                                    "customerid": "28",
                                    "customername": "Tailspin Toys (North Ridge, NY)"
                                },
                                {
                                    "customerid": "29",
                                    "customername": "Tailspin Toys (Eulaton, AL)"
                                },
                                {
                                    "customerid": "30",
                                    "customername": "Tailspin Toys (Koontzville, WA)"
                                },
                                {
                                    "customerid": "31",
                                    "customername": "Tailspin Toys (Lake Stevens, WA)"
                                },
                                {
                                    "customerid": "32",
                                    "customername": "Tailspin Toys (Maypearl, TX)"
                                },
                                {
                                    "customerid": "33",
                                    "customername": "Tailspin Toys (Boyden Arbor, SC)"
                                },
                                {
                                    "customerid": "34",
                                    "customername": "Tailspin Toys (Dallardsville, TX)"
                                },
                                {
                                    "customerid": "35",
                                    "customername": "Tailspin Toys (Slanesville, WV)"
                                },
                                {
                                    "customerid": "36",
                                    "customername": "Tailspin Toys (Ekron, KY)"
                                },
                                {
                                    "customerid": "37",
                                    "customername": "Tailspin Toys (Kerby, OR)"
                                },
                                {
                                    "customerid": "38",
                                    "customername": "Tailspin Toys (Airport Drive, MO)"
                                },
                                {
                                    "customerid": "40",
                                    "customername": "Tailspin Toys (Impact, TX)"
                                },
                                {
                                    "customerid": "41",
                                    "customername": "Tailspin Toys (Olivette, MO)"
                                },
                                {
                                    "customerid": "42",
                                    "customername": "Tailspin Toys (Arietta, NY)"
                                },
                                {
                                    "customerid": "43",
                                    "customername": "Tailspin Toys (Upper Preston, WA)"
                                },
                                {
                                    "customerid": "44",
                                    "customername": "Tailspin Toys (Amanda Park, WA)"
                                },
                                {
                                    "customerid": "45",
                                    "customername": "Tailspin Toys (Severna Park, MD)"
                                },
                                {
                                    "customerid": "46",
                                    "customername": "Tailspin Toys (Jemison, AL)"
                                },
                                {
                                    "customerid": "47",
                                    "customername": "Tailspin Toys (Lake Hughes, CA)"
                                },
                                {
                                    "customerid": "48",
                                    "customername": "Tailspin Toys (Trentwood, WA)"
                                },
                                {
                                    "customerid": "49",
                                    "customername": "Tailspin Toys (Muir, MI)"
                                },
                                {
                                    "customerid": "50",
                                    "customername": "Tailspin Toys (Hambleton, WV)"
                                },
                                {
                                    "customerid": "51",
                                    "customername": "Tailspin Toys (Imlaystown, NJ)"
                                },
                                {
                                    "customerid": "53",
                                    "customername": "Tailspin Toys (Nanafalia, AL)"
                                },
                                {
                                    "customerid": "54",
                                    "customername": "Tailspin Toys (Railroad, PA)"
                                },
                                {
                                    "customerid": "55",
                                    "customername": "Tailspin Toys (Gum Branch, GA)"
                                },
                                {
                                    "customerid": "56",
                                    "customername": "Tailspin Toys (Royal City, WA)"
                                },
                                {
                                    "customerid": "58",
                                    "customername": "Tailspin Toys (Mappsburg, VA)"
                                }
                            ]
                        },
                        "text/html": [
                            "<table>",
                            "<tr><th>customerid</th><th>customername</th></tr>",
                            "<tr><td>1</td><td>Tailspin Toys (Head Office)</td></tr>",
                            "<tr><td>4</td><td>Tailspin Toys (Medicine Lodge, KS)</td></tr>",
                            "<tr><td>5</td><td>Tailspin Toys (Gasport, NY)</td></tr>",
                            "<tr><td>6</td><td>Tailspin Toys (Jessie, ND)</td></tr>",
                            "<tr><td>7</td><td>Tailspin Toys (Frankewing, TN)</td></tr>",
                            "<tr><td>8</td><td>Tailspin Toys (Bow Mar, CO)</td></tr>",
                            "<tr><td>9</td><td>Tailspin Toys (Netcong, NJ)</td></tr>",
                            "<tr><td>10</td><td>Tailspin Toys (Wimbledon, ND)</td></tr>",
                            "<tr><td>11</td><td>Tailspin Toys (Devault, PA)</td></tr>",
                            "<tr><td>12</td><td>Tailspin Toys (Biscay, MN)</td></tr>",
                            "<tr><td>13</td><td>Tailspin Toys (Stonefort, IL)</td></tr>",
                            "<tr><td>14</td><td>Tailspin Toys (Long Meadow, MD)</td></tr>",
                            "<tr><td>15</td><td>Tailspin Toys (Batson, TX)</td></tr>",
                            "<tr><td>16</td><td>Tailspin Toys (Coney Island, MO)</td></tr>",
                            "<tr><td>18</td><td>Tailspin Toys (Goffstown, NH)</td></tr>",
                            "<tr><td>20</td><td>Tailspin Toys (College Place, WA)</td></tr>",
                            "<tr><td>21</td><td>Tailspin Toys (Tresckow, PA)</td></tr>",
                            "<tr><td>22</td><td>Tailspin Toys (Ward Ridge, FL)</td></tr>",
                            "<tr><td>24</td><td>Tailspin Toys (Dundarrach, NC)</td></tr>",
                            "<tr><td>25</td><td>Tailspin Toys (Avenal, CA)</td></tr>",
                            "<tr><td>26</td><td>Tailspin Toys (Hedrick, IA)</td></tr>",
                            "<tr><td>27</td><td>Tailspin Toys (Bowlus, MN)</td></tr>",
                            "<tr><td>28</td><td>Tailspin Toys (North Ridge, NY)</td></tr>",
                            "<tr><td>29</td><td>Tailspin Toys (Eulaton, AL)</td></tr>",
                            "<tr><td>30</td><td>Tailspin Toys (Koontzville, WA)</td></tr>",
                            "<tr><td>31</td><td>Tailspin Toys (Lake Stevens, WA)</td></tr>",
                            "<tr><td>32</td><td>Tailspin Toys (Maypearl, TX)</td></tr>",
                            "<tr><td>33</td><td>Tailspin Toys (Boyden Arbor, SC)</td></tr>",
                            "<tr><td>34</td><td>Tailspin Toys (Dallardsville, TX)</td></tr>",
                            "<tr><td>35</td><td>Tailspin Toys (Slanesville, WV)</td></tr>",
                            "<tr><td>36</td><td>Tailspin Toys (Ekron, KY)</td></tr>",
                            "<tr><td>37</td><td>Tailspin Toys (Kerby, OR)</td></tr>",
                            "<tr><td>38</td><td>Tailspin Toys (Airport Drive, MO)</td></tr>",
                            "<tr><td>40</td><td>Tailspin Toys (Impact, TX)</td></tr>",
                            "<tr><td>41</td><td>Tailspin Toys (Olivette, MO)</td></tr>",
                            "<tr><td>42</td><td>Tailspin Toys (Arietta, NY)</td></tr>",
                            "<tr><td>43</td><td>Tailspin Toys (Upper Preston, WA)</td></tr>",
                            "<tr><td>44</td><td>Tailspin Toys (Amanda Park, WA)</td></tr>",
                            "<tr><td>45</td><td>Tailspin Toys (Severna Park, MD)</td></tr>",
                            "<tr><td>46</td><td>Tailspin Toys (Jemison, AL)</td></tr>",
                            "<tr><td>47</td><td>Tailspin Toys (Lake Hughes, CA)</td></tr>",
                            "<tr><td>48</td><td>Tailspin Toys (Trentwood, WA)</td></tr>",
                            "<tr><td>49</td><td>Tailspin Toys (Muir, MI)</td></tr>",
                            "<tr><td>50</td><td>Tailspin Toys (Hambleton, WV)</td></tr>",
                            "<tr><td>51</td><td>Tailspin Toys (Imlaystown, NJ)</td></tr>",
                            "<tr><td>53</td><td>Tailspin Toys (Nanafalia, AL)</td></tr>",
                            "<tr><td>54</td><td>Tailspin Toys (Railroad, PA)</td></tr>",
                            "<tr><td>55</td><td>Tailspin Toys (Gum Branch, GA)</td></tr>",
                            "<tr><td>56</td><td>Tailspin Toys (Royal City, WA)</td></tr>",
                            "<tr><td>58</td><td>Tailspin Toys (Mappsburg, VA)</td></tr>",
                            "</table>"
                        ]
                    }
                }
            ],
            "execution_count": 4
        },
        {
            "cell_type": "markdown",
            "source": [
                "**Proposition 5**\n",
                "\n",
                "\"Find the top 5 suppliers ranked by total transaction amount\"\n",
                "\n",
                "This query finds the suppliers who have the most amount of transactions by total dollar amount\n",
                "\n",
                "\\- We use a subquery to get supplier ids FROM the table of purchaseOrders  \n",
                "\n",
                "\\- In the subquery we use the WHERE clause to get orders from the year 2015 of those suppliers\n",
                "\n",
                "\\- In the main query we get the list of suppliers and we join them, using JOIN, to their respective transactions\n",
                "\n",
                "\\- We use the SUM clause to obtain the sum of their transaction amounts aliased as Total Transaction Amount\n",
                "\n",
                "\\- We use the WHERE clause to filter through out subquery results and compare their purchases \n",
                "\n",
                "\\- We use GROUP BY to group together the total result of that suppliers transaction amounts\n",
                "\n",
                "\\- We order our output by total transaction amount descendingly  \n",
                "\n",
                "\\- It seems that althought we put top 5 expecting there to be alot more results we can see that in the year 2015 there was only 2 main suppliers"
            ],
            "metadata": {
                "language": "sql",
                "azdata_cell_guid": "72b2a468-2131-4c16-bb67-dbc6286bed34"
            },
            "attachments": {}
        },
        {
            "cell_type": "code",
            "source": [
                "SELECT TOP 5 s.supplierid, s.suppliername, SUM(st.transactionamount) AS TotalTransactionAmount\n",
                "FROM Purchasing.Suppliers s\n",
                "JOIN Purchasing.SupplierTransactions st ON s.supplierid = st.supplierid\n",
                "WHERE s.supplierid IN (\n",
                "    SELECT supplierid \n",
                "    FROM Purchasing.PurchaseOrders \n",
                "    WHERE YEAR(orderdate) = 2015\n",
                ")\n",
                "GROUP BY s.supplierid, s.suppliername\n",
                "ORDER BY TotalTransactionAmount DESC;"
            ],
            "metadata": {
                "language": "sql",
                "azdata_cell_guid": "ac6118e9-3d41-4325-aa12-1caa9864a513"
            },
            "outputs": [
                {
                    "output_type": "display_data",
                    "data": {
                        "text/html": "(2 rows affected)"
                    },
                    "metadata": {}
                },
                {
                    "output_type": "display_data",
                    "data": {
                        "text/html": "Total execution time: 00:00:00.021"
                    },
                    "metadata": {}
                },
                {
                    "output_type": "execute_result",
                    "metadata": {},
                    "execution_count": 15,
                    "data": {
                        "application/vnd.dataresource+json": {
                            "schema": {
                                "fields": [
                                    {
                                        "name": "supplierid"
                                    },
                                    {
                                        "name": "suppliername"
                                    },
                                    {
                                        "name": "TotalTransactionAmount"
                                    }
                                ]
                            },
                            "data": [
                                {
                                    "supplierid": "4",
                                    "suppliername": "Fabrikam, Inc.",
                                    "TotalTransactionAmount": "1871894.10"
                                },
                                {
                                    "supplierid": "7",
                                    "suppliername": "Litware, Inc.",
                                    "TotalTransactionAmount": "849784.11"
                                }
                            ]
                        },
                        "text/html": [
                            "<table>",
                            "<tr><th>supplierid</th><th>suppliername</th><th>TotalTransactionAmount</th></tr>",
                            "<tr><td>4</td><td>Fabrikam, Inc.</td><td>1871894.10</td></tr>",
                            "<tr><td>7</td><td>Litware, Inc.</td><td>849784.11</td></tr>",
                            "</table>"
                        ]
                    }
                }
            ],
            "execution_count": 15
        },
        {
            "cell_type": "markdown",
            "source": [
                "**Proposition 6**\n",
                "\n",
                "\"Find the top 50 customers by total sales\"\n",
                "\n",
                "This query finds the list of top 50 customers with the highest dollar amount in sales. \n",
                "\n",
                "\\- We use a table expression using WITH, where the table is called CustomerSales\n",
                "\n",
                "\\- We use SUM to get the total sales for the customer by adding the quanitities multiplied by the unit price and aliasing it into TotalSales\n",
                "\n",
                "\\- We use FROM to get all orders, using JOIN we join the tables of Orderlines and orderID so we can associate the orders with their items\n",
                "\n",
                "\\- We use GROUP BY to associate the orders with their customerid\n",
                "\n",
                "\\- In our main query we SELECT the TOP 50 customer ids and we join the query of customer sales from our expression to the list of customerIDs\n",
                "\n",
                "\\- We use ORDER BY to get the output sorted descendingly by TotalSales"
            ],
            "metadata": {
                "language": "sql",
                "azdata_cell_guid": "b52ab8c1-6478-4dbd-ba8a-bf796f88c9c0"
            },
            "attachments": {}
        },
        {
            "cell_type": "code",
            "source": [
                "WITH CustomerSales AS (\n",
                "    SELECT o.customerid, SUM(ol.quantity * ol.unitprice) AS TotalSales\n",
                "    FROM Sales.Orders o\n",
                "    JOIN Sales.OrderLines ol ON o.orderid = ol.orderid\n",
                "    GROUP BY o.customerid\n",
                ")\n",
                "SELECT TOP 50 c.customerid, c.customername, cs.TotalSales\n",
                "FROM Sales.Customers c\n",
                "JOIN CustomerSales cs ON c.customerid = cs.customerid\n",
                "ORDER BY cs.TotalSales DESC;"
            ],
            "metadata": {
                "language": "sql",
                "azdata_cell_guid": "dd6f00f3-6c8e-47d3-be4e-179e4f31e57f"
            },
            "outputs": [
                {
                    "output_type": "display_data",
                    "data": {
                        "text/html": "(50 rows affected)"
                    },
                    "metadata": {}
                },
                {
                    "output_type": "display_data",
                    "data": {
                        "text/html": "Total execution time: 00:00:00.066"
                    },
                    "metadata": {}
                },
                {
                    "output_type": "execute_result",
                    "metadata": {},
                    "execution_count": 18,
                    "data": {
                        "application/vnd.dataresource+json": {
                            "schema": {
                                "fields": [
                                    {
                                        "name": "customerid"
                                    },
                                    {
                                        "name": "customername"
                                    },
                                    {
                                        "name": "TotalSales"
                                    }
                                ]
                            },
                            "data": [
                                {
                                    "customerid": "149",
                                    "customername": "Tailspin Toys (Inguadona, MN)",
                                    "TotalSales": "384393.35"
                                },
                                {
                                    "customerid": "132",
                                    "customername": "Tailspin Toys (Minidoka, ID)",
                                    "TotalSales": "379660.70"
                                },
                                {
                                    "customerid": "977",
                                    "customername": "Mauno Laurila",
                                    "TotalSales": "377189.80"
                                },
                                {
                                    "customerid": "580",
                                    "customername": "Wingtip Toys (Sarversville, PA)",
                                    "TotalSales": "372350.00"
                                },
                                {
                                    "customerid": "964",
                                    "customername": "Ingrida Zeltina",
                                    "TotalSales": "368067.45"
                                },
                                {
                                    "customerid": "14",
                                    "customername": "Tailspin Toys (Long Meadow, MD)",
                                    "TotalSales": "367258.50"
                                },
                                {
                                    "customerid": "954",
                                    "customername": "Nasrin Omidzadeh",
                                    "TotalSales": "366883.75"
                                },
                                {
                                    "customerid": "593",
                                    "customername": "Wingtip Toys (Cuyamungue, NM)",
                                    "TotalSales": "365915.45"
                                },
                                {
                                    "customerid": "472",
                                    "customername": "Wingtip Toys (San Jacinto, CA)",
                                    "TotalSales": "365330.95"
                                },
                                {
                                    "customerid": "550",
                                    "customername": "Wingtip Toys (Morrison Bluff, AR)",
                                    "TotalSales": "360652.80"
                                },
                                {
                                    "customerid": "569",
                                    "customername": "Wingtip Toys (West Frostproof, FL)",
                                    "TotalSales": "360387.05"
                                },
                                {
                                    "customerid": "510",
                                    "customername": "Wingtip Toys (Grabill, IN)",
                                    "TotalSales": "359443.95"
                                },
                                {
                                    "customerid": "841",
                                    "customername": "Camille Authier",
                                    "TotalSales": "358675.15"
                                },
                                {
                                    "customerid": "874",
                                    "customername": "Daniel Martensson",
                                    "TotalSales": "358590.20"
                                },
                                {
                                    "customerid": "996",
                                    "customername": "Laszlo Gardenier",
                                    "TotalSales": "357499.80"
                                },
                                {
                                    "customerid": "1001",
                                    "customername": "Dinh Mai",
                                    "TotalSales": "357216.95"
                                },
                                {
                                    "customerid": "480",
                                    "customername": "Wingtip Toys (Wapinitia, OR)",
                                    "TotalSales": "356055.60"
                                },
                                {
                                    "customerid": "856",
                                    "customername": "Satish Mittal",
                                    "TotalSales": "354974.10"
                                },
                                {
                                    "customerid": "102",
                                    "customername": "Tailspin Toys (Fieldbrook, CA)",
                                    "TotalSales": "351196.05"
                                },
                                {
                                    "customerid": "949",
                                    "customername": "Seo-yun Paik",
                                    "TotalSales": "350658.85"
                                },
                                {
                                    "customerid": "185",
                                    "customername": "Tailspin Toys (Vidrine, LA)",
                                    "TotalSales": "349528.60"
                                },
                                {
                                    "customerid": "861",
                                    "customername": "Amarasimha Vinjamuri",
                                    "TotalSales": "349068.15"
                                },
                                {
                                    "customerid": "546",
                                    "customername": "Wingtip Toys (Key Biscayne, FL)",
                                    "TotalSales": "348397.55"
                                },
                                {
                                    "customerid": "71",
                                    "customername": "Tailspin Toys (Good Hart, MI)",
                                    "TotalSales": "347975.05"
                                },
                                {
                                    "customerid": "32",
                                    "customername": "Tailspin Toys (Maypearl, TX)",
                                    "TotalSales": "347065.90"
                                },
                                {
                                    "customerid": "67",
                                    "customername": "Tailspin Toys (Sentinel Butte, ND)",
                                    "TotalSales": "346391.60"
                                },
                                {
                                    "customerid": "81",
                                    "customername": "Tailspin Toys (Big Moose, NY)",
                                    "TotalSales": "345819.15"
                                },
                                {
                                    "customerid": "558",
                                    "customername": "Wingtip Toys (Bourneville, OH)",
                                    "TotalSales": "345187.15"
                                },
                                {
                                    "customerid": "565",
                                    "customername": "Wingtip Toys (Wapiti, WY)",
                                    "TotalSales": "344835.00"
                                },
                                {
                                    "customerid": "541",
                                    "customername": "Wingtip Toys (Mickleton, NJ)",
                                    "TotalSales": "343067.15"
                                },
                                {
                                    "customerid": "583",
                                    "customername": "Wingtip Toys (Knights Landing, CA)",
                                    "TotalSales": "341380.70"
                                },
                                {
                                    "customerid": "198",
                                    "customername": "Tailspin Toys (Buell, MO)",
                                    "TotalSales": "341135.45"
                                },
                                {
                                    "customerid": "489",
                                    "customername": "Wingtip Toys (Sayner, WI)",
                                    "TotalSales": "341075.20"
                                },
                                {
                                    "customerid": "982",
                                    "customername": "Yves Belisle",
                                    "TotalSales": "339400.85"
                                },
                                {
                                    "customerid": "804",
                                    "customername": "Aleksandrs Riekstins",
                                    "TotalSales": "339231.35"
                                },
                                {
                                    "customerid": "834",
                                    "customername": "Cong Hoa",
                                    "TotalSales": "338820.60"
                                },
                                {
                                    "customerid": "586",
                                    "customername": "Wingtip Toys (Lynne, FL)",
                                    "TotalSales": "337226.45"
                                },
                                {
                                    "customerid": "478",
                                    "customername": "Wingtip Toys (Stoneboro, PA)",
                                    "TotalSales": "336368.90"
                                },
                                {
                                    "customerid": "38",
                                    "customername": "Tailspin Toys (Airport Drive, MO)",
                                    "TotalSales": "336123.15"
                                },
                                {
                                    "customerid": "413",
                                    "customername": "Wingtip Toys (Truscott, TX)",
                                    "TotalSales": "336103.60"
                                },
                                {
                                    "customerid": "588",
                                    "customername": "Wingtip Toys (Oak Point, TX)",
                                    "TotalSales": "335853.55"
                                },
                                {
                                    "customerid": "187",
                                    "customername": "Tailspin Toys (Brown City, MI)",
                                    "TotalSales": "335329.15"
                                },
                                {
                                    "customerid": "442",
                                    "customername": "Wingtip Toys (Homer City, PA)",
                                    "TotalSales": "334574.40"
                                },
                                {
                                    "customerid": "928",
                                    "customername": "Arijit Bhuiyan",
                                    "TotalSales": "334157.45"
                                },
                                {
                                    "customerid": "930",
                                    "customername": "Shantanu Huq",
                                    "TotalSales": "333519.95"
                                },
                                {
                                    "customerid": "870",
                                    "customername": "In-Su Bae",
                                    "TotalSales": "333293.35"
                                },
                                {
                                    "customerid": "474",
                                    "customername": "Wingtip Toys (Bokeelia, FL)",
                                    "TotalSales": "333130.95"
                                },
                                {
                                    "customerid": "906",
                                    "customername": "Ajitaab Pakalapati",
                                    "TotalSales": "332966.65"
                                },
                                {
                                    "customerid": "89",
                                    "customername": "Tailspin Toys (Victory Gardens, NJ)",
                                    "TotalSales": "332814.90"
                                },
                                {
                                    "customerid": "7",
                                    "customername": "Tailspin Toys (Frankewing, TN)",
                                    "TotalSales": "332695.75"
                                }
                            ]
                        },
                        "text/html": [
                            "<table>",
                            "<tr><th>customerid</th><th>customername</th><th>TotalSales</th></tr>",
                            "<tr><td>149</td><td>Tailspin Toys (Inguadona, MN)</td><td>384393.35</td></tr>",
                            "<tr><td>132</td><td>Tailspin Toys (Minidoka, ID)</td><td>379660.70</td></tr>",
                            "<tr><td>977</td><td>Mauno Laurila</td><td>377189.80</td></tr>",
                            "<tr><td>580</td><td>Wingtip Toys (Sarversville, PA)</td><td>372350.00</td></tr>",
                            "<tr><td>964</td><td>Ingrida Zeltina</td><td>368067.45</td></tr>",
                            "<tr><td>14</td><td>Tailspin Toys (Long Meadow, MD)</td><td>367258.50</td></tr>",
                            "<tr><td>954</td><td>Nasrin Omidzadeh</td><td>366883.75</td></tr>",
                            "<tr><td>593</td><td>Wingtip Toys (Cuyamungue, NM)</td><td>365915.45</td></tr>",
                            "<tr><td>472</td><td>Wingtip Toys (San Jacinto, CA)</td><td>365330.95</td></tr>",
                            "<tr><td>550</td><td>Wingtip Toys (Morrison Bluff, AR)</td><td>360652.80</td></tr>",
                            "<tr><td>569</td><td>Wingtip Toys (West Frostproof, FL)</td><td>360387.05</td></tr>",
                            "<tr><td>510</td><td>Wingtip Toys (Grabill, IN)</td><td>359443.95</td></tr>",
                            "<tr><td>841</td><td>Camille Authier</td><td>358675.15</td></tr>",
                            "<tr><td>874</td><td>Daniel Martensson</td><td>358590.20</td></tr>",
                            "<tr><td>996</td><td>Laszlo Gardenier</td><td>357499.80</td></tr>",
                            "<tr><td>1001</td><td>Dinh Mai</td><td>357216.95</td></tr>",
                            "<tr><td>480</td><td>Wingtip Toys (Wapinitia, OR)</td><td>356055.60</td></tr>",
                            "<tr><td>856</td><td>Satish Mittal</td><td>354974.10</td></tr>",
                            "<tr><td>102</td><td>Tailspin Toys (Fieldbrook, CA)</td><td>351196.05</td></tr>",
                            "<tr><td>949</td><td>Seo-yun Paik</td><td>350658.85</td></tr>",
                            "<tr><td>185</td><td>Tailspin Toys (Vidrine, LA)</td><td>349528.60</td></tr>",
                            "<tr><td>861</td><td>Amarasimha Vinjamuri</td><td>349068.15</td></tr>",
                            "<tr><td>546</td><td>Wingtip Toys (Key Biscayne, FL)</td><td>348397.55</td></tr>",
                            "<tr><td>71</td><td>Tailspin Toys (Good Hart, MI)</td><td>347975.05</td></tr>",
                            "<tr><td>32</td><td>Tailspin Toys (Maypearl, TX)</td><td>347065.90</td></tr>",
                            "<tr><td>67</td><td>Tailspin Toys (Sentinel Butte, ND)</td><td>346391.60</td></tr>",
                            "<tr><td>81</td><td>Tailspin Toys (Big Moose, NY)</td><td>345819.15</td></tr>",
                            "<tr><td>558</td><td>Wingtip Toys (Bourneville, OH)</td><td>345187.15</td></tr>",
                            "<tr><td>565</td><td>Wingtip Toys (Wapiti, WY)</td><td>344835.00</td></tr>",
                            "<tr><td>541</td><td>Wingtip Toys (Mickleton, NJ)</td><td>343067.15</td></tr>",
                            "<tr><td>583</td><td>Wingtip Toys (Knights Landing, CA)</td><td>341380.70</td></tr>",
                            "<tr><td>198</td><td>Tailspin Toys (Buell, MO)</td><td>341135.45</td></tr>",
                            "<tr><td>489</td><td>Wingtip Toys (Sayner, WI)</td><td>341075.20</td></tr>",
                            "<tr><td>982</td><td>Yves Belisle</td><td>339400.85</td></tr>",
                            "<tr><td>804</td><td>Aleksandrs Riekstins</td><td>339231.35</td></tr>",
                            "<tr><td>834</td><td>Cong Hoa</td><td>338820.60</td></tr>",
                            "<tr><td>586</td><td>Wingtip Toys (Lynne, FL)</td><td>337226.45</td></tr>",
                            "<tr><td>478</td><td>Wingtip Toys (Stoneboro, PA)</td><td>336368.90</td></tr>",
                            "<tr><td>38</td><td>Tailspin Toys (Airport Drive, MO)</td><td>336123.15</td></tr>",
                            "<tr><td>413</td><td>Wingtip Toys (Truscott, TX)</td><td>336103.60</td></tr>",
                            "<tr><td>588</td><td>Wingtip Toys (Oak Point, TX)</td><td>335853.55</td></tr>",
                            "<tr><td>187</td><td>Tailspin Toys (Brown City, MI)</td><td>335329.15</td></tr>",
                            "<tr><td>442</td><td>Wingtip Toys (Homer City, PA)</td><td>334574.40</td></tr>",
                            "<tr><td>928</td><td>Arijit Bhuiyan</td><td>334157.45</td></tr>",
                            "<tr><td>930</td><td>Shantanu Huq</td><td>333519.95</td></tr>",
                            "<tr><td>870</td><td>In-Su Bae</td><td>333293.35</td></tr>",
                            "<tr><td>474</td><td>Wingtip Toys (Bokeelia, FL)</td><td>333130.95</td></tr>",
                            "<tr><td>906</td><td>Ajitaab Pakalapati</td><td>332966.65</td></tr>",
                            "<tr><td>89</td><td>Tailspin Toys (Victory Gardens, NJ)</td><td>332814.90</td></tr>",
                            "<tr><td>7</td><td>Tailspin Toys (Frankewing, TN)</td><td>332695.75</td></tr>",
                            "</table>"
                        ]
                    }
                }
            ],
            "execution_count": 18
        },
        {
            "cell_type": "markdown",
            "source": [
                "**Proposition 7**\n",
                "\n",
                "\"Find how much of each item we sold ordered by least to most sold\"\n",
                "\n",
                "This query finds how much of each item sold showing the least sold first\n",
                "\n",
                "\\- We use a table expression WITH, called ProductSales\n",
                "\n",
                "\\- FROM the table orderlines we get stock item id and we sum the quanitites in all the orders and alias the sum into TotalSold  \n",
                "\n",
                "\\- We use group by to get the item id grouped with its total quanitity sold\n",
                "\n",
                "\\- In our main query we use the Produce Sales table we made and JOIN the warehouses stock items to their stockitemid in from the orderLines so we can get the stockitem names\n",
                "\n",
                "\\- We use ORDER BY to display totalsold ascendingly to get least sold first"
            ],
            "metadata": {
                "language": "sql",
                "azdata_cell_guid": "0f92c12e-2754-4aeb-9d8d-c0a9761d7dd6"
            },
            "attachments": {}
        },
        {
            "cell_type": "code",
            "source": [
                "WITH ProductSales AS (\n",
                "    SELECT stockitemid, SUM(quantity) AS TotalSold\n",
                "    FROM Sales.OrderLines\n",
                "    GROUP BY stockitemid\n",
                ")\n",
                "SELECT ps.stockitemid, si.stockitemname, ps.TotalSold\n",
                "FROM ProductSales ps\n",
                "JOIN Warehouse.StockItems si ON ps.stockitemid = si.stockitemid\n",
                "ORDER BY TotalSold ASC"
            ],
            "metadata": {
                "language": "sql",
                "azdata_cell_guid": "b51ead83-96a1-46fd-bd6e-67a89e0b1b58"
            },
            "outputs": [
                {
                    "output_type": "display_data",
                    "data": {
                        "text/html": "(227 rows affected)"
                    },
                    "metadata": {}
                },
                {
                    "output_type": "display_data",
                    "data": {
                        "text/html": "Total execution time: 00:00:00.022"
                    },
                    "metadata": {}
                },
                {
                    "output_type": "execute_result",
                    "metadata": {},
                    "execution_count": 24,
                    "data": {
                        "application/vnd.dataresource+json": {
                            "schema": {
                                "fields": [
                                    {
                                        "name": "stockitemid"
                                    },
                                    {
                                        "name": "stockitemname"
                                    },
                                    {
                                        "name": "TotalSold"
                                    }
                                ]
                            },
                            "data": [
                                {
                                    "stockitemid": "113",
                                    "stockitemname": "Superhero action jacket (Blue) XL",
                                    "TotalSold": "5373"
                                },
                                {
                                    "stockitemid": "17",
                                    "stockitemname": "DBA joke mug - mind if I join you? (Black)",
                                    "TotalSold": "5402"
                                },
                                {
                                    "stockitemid": "114",
                                    "stockitemname": "Superhero action jacket (Blue) XXL",
                                    "TotalSold": "5404"
                                },
                                {
                                    "stockitemid": "110",
                                    "stockitemname": "Superhero action jacket (Blue) S",
                                    "TotalSold": "5426"
                                },
                                {
                                    "stockitemid": "112",
                                    "stockitemname": "Superhero action jacket (Blue) L",
                                    "TotalSold": "5464"
                                },
                                {
                                    "stockitemid": "27",
                                    "stockitemname": "DBA joke mug - SELECT caffeine FROM mug (Black)",
                                    "TotalSold": "5471"
                                },
                                {
                                    "stockitemid": "175",
                                    "stockitemname": "Bubblewrap dispenser (Blue) 1.5m",
                                    "TotalSold": "5486"
                                },
                                {
                                    "stockitemid": "174",
                                    "stockitemname": "Bubblewrap dispenser (Black) 1.5m",
                                    "TotalSold": "5501"
                                },
                                {
                                    "stockitemid": "59",
                                    "stockitemname": "RC toy sedan car with remote control (Red) 1/50 scale",
                                    "TotalSold": "5519"
                                },
                                {
                                    "stockitemid": "8",
                                    "stockitemname": "USB food flash drive - dim sum 10 drive variety pack",
                                    "TotalSold": "5537"
                                },
                                {
                                    "stockitemid": "7",
                                    "stockitemname": "USB food flash drive - pizza slice",
                                    "TotalSold": "5539"
                                },
                                {
                                    "stockitemid": "116",
                                    "stockitemname": "Superhero action jacket (Blue) 4XL",
                                    "TotalSold": "5546"
                                },
                                {
                                    "stockitemid": "106",
                                    "stockitemname": "Alien officer hoodie (Black) 5XL",
                                    "TotalSold": "5549"
                                },
                                {
                                    "stockitemid": "37",
                                    "stockitemname": "Developer joke mug - when your hammer is C++ (Black)",
                                    "TotalSold": "5559"
                                },
                                {
                                    "stockitemid": "150",
                                    "stockitemname": "Pack of 12 action figures (variety)",
                                    "TotalSold": "5559"
                                },
                                {
                                    "stockitemid": "43",
                                    "stockitemname": "Developer joke mug - understanding recursion requires understanding recursion (Black)",
                                    "TotalSold": "5560"
                                },
                                {
                                    "stockitemid": "5",
                                    "stockitemname": "USB food flash drive - hamburger",
                                    "TotalSold": "5571"
                                },
                                {
                                    "stockitemid": "51",
                                    "stockitemname": "Developer joke mug - old C developers never die (Black)",
                                    "TotalSold": "5572"
                                },
                                {
                                    "stockitemid": "6",
                                    "stockitemname": "USB food flash drive - hot dog",
                                    "TotalSold": "5573"
                                },
                                {
                                    "stockitemid": "103",
                                    "stockitemname": "Alien officer hoodie (Black) XXL",
                                    "TotalSold": "5583"
                                },
                                {
                                    "stockitemid": "63",
                                    "stockitemname": "RC toy sedan car with remote control (Pink) 1/50 scale",
                                    "TotalSold": "5583"
                                },
                                {
                                    "stockitemid": "24",
                                    "stockitemname": "DBA joke mug - I will get you in order (White)",
                                    "TotalSold": "5585"
                                },
                                {
                                    "stockitemid": "128",
                                    "stockitemname": "Plush shark slippers (Gray) L",
                                    "TotalSold": "5607"
                                },
                                {
                                    "stockitemid": "45",
                                    "stockitemname": "Developer joke mug - there are 10 types of people in the world (Black)",
                                    "TotalSold": "5612"
                                },
                                {
                                    "stockitemid": "38",
                                    "stockitemname": "Developer joke mug - inheritance is the OO way to become wealthy (White)",
                                    "TotalSold": "5612"
                                },
                                {
                                    "stockitemid": "49",
                                    "stockitemname": "Developer joke mug - this code was generated by a tool (Black)",
                                    "TotalSold": "5617"
                                },
                                {
                                    "stockitemid": "135",
                                    "stockitemname": "Animal with big feet slippers (Brown) M",
                                    "TotalSold": "5625"
                                },
                                {
                                    "stockitemid": "46",
                                    "stockitemname": "Developer joke mug - a foo walks into a bar (White)",
                                    "TotalSold": "5632"
                                },
                                {
                                    "stockitemid": "151",
                                    "stockitemname": "Pack of 12 action figures (male)",
                                    "TotalSold": "5638"
                                },
                                {
                                    "stockitemid": "70",
                                    "stockitemname": "Ride on toy sedan car (Green) 1/12 scale",
                                    "TotalSold": "5646"
                                },
                                {
                                    "stockitemid": "54",
                                    "stockitemname": "IT joke mug - that behavior is by design (White)",
                                    "TotalSold": "5647"
                                },
                                {
                                    "stockitemid": "126",
                                    "stockitemname": "Plush shark slippers (Gray) S",
                                    "TotalSold": "5648"
                                },
                                {
                                    "stockitemid": "134",
                                    "stockitemname": "Animal with big feet slippers (Brown) S",
                                    "TotalSold": "5654"
                                },
                                {
                                    "stockitemid": "73",
                                    "stockitemname": "Ride on vintage American toy coupe (Red) 1/12 scale",
                                    "TotalSold": "5658"
                                },
                                {
                                    "stockitemid": "66",
                                    "stockitemname": "RC big wheel monster truck with remote control (Black) 1/50 scale",
                                    "TotalSold": "5679"
                                },
                                {
                                    "stockitemid": "67",
                                    "stockitemname": "Ride on toy sedan car (Black) 1/12 scale",
                                    "TotalSold": "5688"
                                },
                                {
                                    "stockitemid": "52",
                                    "stockitemname": "IT joke mug - keyboard not found … press F1 to continue (White)",
                                    "TotalSold": "5690"
                                },
                                {
                                    "stockitemid": "9",
                                    "stockitemname": "USB food flash drive - banana",
                                    "TotalSold": "5697"
                                },
                                {
                                    "stockitemid": "107",
                                    "stockitemname": "Superhero action jacket (Blue) 3XS",
                                    "TotalSold": "5698"
                                },
                                {
                                    "stockitemid": "127",
                                    "stockitemname": "Plush shark slippers (Gray) M",
                                    "TotalSold": "5702"
                                },
                                {
                                    "stockitemid": "62",
                                    "stockitemname": "RC toy sedan car with remote control (Yellow) 1/50 scale",
                                    "TotalSold": "5703"
                                },
                                {
                                    "stockitemid": "53",
                                    "stockitemname": "IT joke mug - keyboard not found … press F1 to continue (Black)",
                                    "TotalSold": "5706"
                                },
                                {
                                    "stockitemid": "105",
                                    "stockitemname": "Alien officer hoodie (Black) 4XL",
                                    "TotalSold": "5717"
                                },
                                {
                                    "stockitemid": "30",
                                    "stockitemname": "Developer joke mug - Oct 31 = Dec 25 (White)",
                                    "TotalSold": "5718"
                                },
                                {
                                    "stockitemid": "19",
                                    "stockitemname": "DBA joke mug - daaaaaa-ta (Black)",
                                    "TotalSold": "5724"
                                },
                                {
                                    "stockitemid": "102",
                                    "stockitemname": "Alien officer hoodie (Black) XL",
                                    "TotalSold": "5728"
                                },
                                {
                                    "stockitemid": "20",
                                    "stockitemname": "DBA joke mug - you might be a DBA if (White)",
                                    "TotalSold": "5733"
                                },
                                {
                                    "stockitemid": "41",
                                    "stockitemname": "Developer joke mug - (hip, hip, array) (Black)",
                                    "TotalSold": "5741"
                                },
                                {
                                    "stockitemid": "11",
                                    "stockitemname": "USB food flash drive - cookie",
                                    "TotalSold": "5762"
                                },
                                {
                                    "stockitemid": "29",
                                    "stockitemname": "DBA joke mug - two types of DBAs (Black)",
                                    "TotalSold": "5767"
                                },
                                {
                                    "stockitemid": "10",
                                    "stockitemname": "USB food flash drive - chocolate bar",
                                    "TotalSold": "5769"
                                },
                                {
                                    "stockitemid": "75",
                                    "stockitemname": "Ride on big wheel monster truck (Black) 1/12 scale",
                                    "TotalSold": "5770"
                                },
                                {
                                    "stockitemid": "60",
                                    "stockitemname": "RC toy sedan car with remote control (Blue) 1/50 scale",
                                    "TotalSold": "5780"
                                },
                                {
                                    "stockitemid": "56",
                                    "stockitemname": "IT joke mug - hardware: part of the computer that can be kicked (White)",
                                    "TotalSold": "5781"
                                },
                                {
                                    "stockitemid": "133",
                                    "stockitemname": "Furry gorilla with big eyes slippers (Black) XL",
                                    "TotalSold": "5782"
                                },
                                {
                                    "stockitemid": "136",
                                    "stockitemname": "Animal with big feet slippers (Brown) L",
                                    "TotalSold": "5785"
                                },
                                {
                                    "stockitemid": "68",
                                    "stockitemname": "Ride on toy sedan car (Red) 1/12 scale",
                                    "TotalSold": "5788"
                                },
                                {
                                    "stockitemid": "26",
                                    "stockitemname": "DBA joke mug - SELECT caffeine FROM mug (White)",
                                    "TotalSold": "5797"
                                },
                                {
                                    "stockitemid": "131",
                                    "stockitemname": "Furry gorilla with big eyes slippers (Black) M",
                                    "TotalSold": "5798"
                                },
                                {
                                    "stockitemid": "47",
                                    "stockitemname": "Developer joke mug - a foo walks into a bar (Black)",
                                    "TotalSold": "5811"
                                },
                                {
                                    "stockitemid": "129",
                                    "stockitemname": "Plush shark slippers (Gray) XL",
                                    "TotalSold": "5814"
                                },
                                {
                                    "stockitemid": "31",
                                    "stockitemname": "Developer joke mug - Oct 31 = Dec 25 (Black)",
                                    "TotalSold": "5814"
                                },
                                {
                                    "stockitemid": "130",
                                    "stockitemname": "Furry gorilla with big eyes slippers (Black) S",
                                    "TotalSold": "5816"
                                },
                                {
                                    "stockitemid": "36",
                                    "stockitemname": "Developer joke mug - when your hammer is C++ (White)",
                                    "TotalSold": "5824"
                                },
                                {
                                    "stockitemid": "4",
                                    "stockitemname": "USB food flash drive - sushi roll",
                                    "TotalSold": "5826"
                                },
                                {
                                    "stockitemid": "14",
                                    "stockitemname": "USB food flash drive - fortune cookie",
                                    "TotalSold": "5827"
                                },
                                {
                                    "stockitemid": "25",
                                    "stockitemname": "DBA joke mug - I will get you in order (Black)",
                                    "TotalSold": "5827"
                                },
                                {
                                    "stockitemid": "23",
                                    "stockitemname": "DBA joke mug - it depends (Black)",
                                    "TotalSold": "5827"
                                },
                                {
                                    "stockitemid": "118",
                                    "stockitemname": "Dinosaur battery-powered slippers (Green) S",
                                    "TotalSold": "5843"
                                },
                                {
                                    "stockitemid": "117",
                                    "stockitemname": "Superhero action jacket (Blue) 5XL",
                                    "TotalSold": "5843"
                                },
                                {
                                    "stockitemid": "21",
                                    "stockitemname": "DBA joke mug - you might be a DBA if (Black)",
                                    "TotalSold": "5845"
                                },
                                {
                                    "stockitemid": "215",
                                    "stockitemname": "Air cushion machine (Blue)",
                                    "TotalSold": "5849"
                                },
                                {
                                    "stockitemid": "125",
                                    "stockitemname": "Ogre battery-powered slippers (Green) XL",
                                    "TotalSold": "5852"
                                },
                                {
                                    "stockitemid": "71",
                                    "stockitemname": "Ride on toy sedan car (Yellow) 1/12 scale",
                                    "TotalSold": "5859"
                                },
                                {
                                    "stockitemid": "72",
                                    "stockitemname": "Ride on toy sedan car (Pink) 1/12 scale",
                                    "TotalSold": "5865"
                                },
                                {
                                    "stockitemid": "61",
                                    "stockitemname": "RC toy sedan car with remote control (Green) 1/50 scale",
                                    "TotalSold": "5869"
                                },
                                {
                                    "stockitemid": "1",
                                    "stockitemname": "USB missile launcher (Green)",
                                    "TotalSold": "5869"
                                },
                                {
                                    "stockitemid": "50",
                                    "stockitemname": "Developer joke mug - old C developers never die (White)",
                                    "TotalSold": "5874"
                                },
                                {
                                    "stockitemid": "115",
                                    "stockitemname": "Superhero action jacket (Blue) 3XL",
                                    "TotalSold": "5879"
                                },
                                {
                                    "stockitemid": "55",
                                    "stockitemname": "IT joke mug - that behavior is by design (Black)",
                                    "TotalSold": "5880"
                                },
                                {
                                    "stockitemid": "69",
                                    "stockitemname": "Ride on toy sedan car (Blue) 1/12 scale",
                                    "TotalSold": "5881"
                                },
                                {
                                    "stockitemid": "15",
                                    "stockitemname": "USB food flash drive - dessert 10 drive variety pack",
                                    "TotalSold": "5884"
                                },
                                {
                                    "stockitemid": "58",
                                    "stockitemname": "RC toy sedan car with remote control (Black) 1/50 scale",
                                    "TotalSold": "5888"
                                },
                                {
                                    "stockitemid": "65",
                                    "stockitemname": "RC vintage American toy coupe with remote control (Black) 1/50 scale",
                                    "TotalSold": "5919"
                                },
                                {
                                    "stockitemid": "57",
                                    "stockitemname": "IT joke mug - hardware: part of the computer that can be kicked (Black)",
                                    "TotalSold": "5921"
                                },
                                {
                                    "stockitemid": "22",
                                    "stockitemname": "DBA joke mug - it depends (White)",
                                    "TotalSold": "5922"
                                },
                                {
                                    "stockitemid": "122",
                                    "stockitemname": "Ogre battery-powered slippers (Green) S",
                                    "TotalSold": "5924"
                                },
                                {
                                    "stockitemid": "124",
                                    "stockitemname": "Ogre battery-powered slippers (Green) L",
                                    "TotalSold": "5933"
                                },
                                {
                                    "stockitemid": "132",
                                    "stockitemname": "Furry gorilla with big eyes slippers (Black) L",
                                    "TotalSold": "5943"
                                },
                                {
                                    "stockitemid": "123",
                                    "stockitemname": "Ogre battery-powered slippers (Green) M",
                                    "TotalSold": "5950"
                                },
                                {
                                    "stockitemid": "12",
                                    "stockitemname": "USB food flash drive - donut",
                                    "TotalSold": "5951"
                                },
                                {
                                    "stockitemid": "44",
                                    "stockitemname": "Developer joke mug - there are 10 types of people in the world (White)",
                                    "TotalSold": "5952"
                                },
                                {
                                    "stockitemid": "33",
                                    "stockitemname": "Developer joke mug - that's a hardware problem (Black)",
                                    "TotalSold": "5956"
                                },
                                {
                                    "stockitemid": "64",
                                    "stockitemname": "RC vintage American toy coupe with remote control (Red) 1/50 scale",
                                    "TotalSold": "5960"
                                },
                                {
                                    "stockitemid": "42",
                                    "stockitemname": "Developer joke mug - understanding recursion requires understanding recursion (White)",
                                    "TotalSold": "5964"
                                },
                                {
                                    "stockitemid": "213",
                                    "stockitemname": "Air cushion film 200mmx100mm 325m",
                                    "TotalSold": "5975"
                                },
                                {
                                    "stockitemid": "121",
                                    "stockitemname": "Dinosaur battery-powered slippers (Green) XL",
                                    "TotalSold": "5987"
                                },
                                {
                                    "stockitemid": "152",
                                    "stockitemname": "Pack of 12 action figures (female)",
                                    "TotalSold": "5998"
                                },
                                {
                                    "stockitemid": "18",
                                    "stockitemname": "DBA joke mug - daaaaaa-ta (White)",
                                    "TotalSold": "6014"
                                },
                                {
                                    "stockitemid": "111",
                                    "stockitemname": "Superhero action jacket (Blue) M",
                                    "TotalSold": "6014"
                                },
                                {
                                    "stockitemid": "119",
                                    "stockitemname": "Dinosaur battery-powered slippers (Green) M",
                                    "TotalSold": "6023"
                                },
                                {
                                    "stockitemid": "108",
                                    "stockitemname": "Superhero action jacket (Blue) XXS",
                                    "TotalSold": "6039"
                                },
                                {
                                    "stockitemid": "48",
                                    "stockitemname": "Developer joke mug - this code was generated by a tool (White)",
                                    "TotalSold": "6044"
                                },
                                {
                                    "stockitemid": "137",
                                    "stockitemname": "Animal with big feet slippers (Brown) XL",
                                    "TotalSold": "6048"
                                },
                                {
                                    "stockitemid": "2",
                                    "stockitemname": "USB rocket launcher (Gray)",
                                    "TotalSold": "6048"
                                },
                                {
                                    "stockitemid": "40",
                                    "stockitemname": "Developer joke mug - (hip, hip, array) (White)",
                                    "TotalSold": "6054"
                                },
                                {
                                    "stockitemid": "28",
                                    "stockitemname": "DBA joke mug - two types of DBAs (White)",
                                    "TotalSold": "6062"
                                },
                                {
                                    "stockitemid": "34",
                                    "stockitemname": "Developer joke mug - fun was unexpected at this time (White)",
                                    "TotalSold": "6075"
                                },
                                {
                                    "stockitemid": "32",
                                    "stockitemname": "Developer joke mug - that's a hardware problem (White)",
                                    "TotalSold": "6085"
                                },
                                {
                                    "stockitemid": "109",
                                    "stockitemname": "Superhero action jacket (Blue) XS",
                                    "TotalSold": "6085"
                                },
                                {
                                    "stockitemid": "35",
                                    "stockitemname": "Developer joke mug - fun was unexpected at this time (Black)",
                                    "TotalSold": "6086"
                                },
                                {
                                    "stockitemid": "214",
                                    "stockitemname": "Air cushion film 200mmx200mm 325m",
                                    "TotalSold": "6097"
                                },
                                {
                                    "stockitemid": "176",
                                    "stockitemname": "Bubblewrap dispenser (Red) 1.5m",
                                    "TotalSold": "6108"
                                },
                                {
                                    "stockitemid": "74",
                                    "stockitemname": "Ride on vintage American toy coupe (Black) 1/12 scale",
                                    "TotalSold": "6110"
                                },
                                {
                                    "stockitemid": "39",
                                    "stockitemname": "Developer joke mug - inheritance is the OO way to become wealthy (Black)",
                                    "TotalSold": "6111"
                                },
                                {
                                    "stockitemid": "104",
                                    "stockitemname": "Alien officer hoodie (Black) 3XL",
                                    "TotalSold": "6121"
                                },
                                {
                                    "stockitemid": "120",
                                    "stockitemname": "Dinosaur battery-powered slippers (Green) L",
                                    "TotalSold": "6127"
                                },
                                {
                                    "stockitemid": "16",
                                    "stockitemname": "DBA joke mug - mind if I join you? (White)",
                                    "TotalSold": "6136"
                                },
                                {
                                    "stockitemid": "13",
                                    "stockitemname": "USB food flash drive - shrimp cocktail",
                                    "TotalSold": "6204"
                                },
                                {
                                    "stockitemid": "221",
                                    "stockitemname": "Novelty chilli chocolates 500g",
                                    "TotalSold": "9012"
                                },
                                {
                                    "stockitemid": "224",
                                    "stockitemname": "Chocolate frogs 250g",
                                    "TotalSold": "14976"
                                },
                                {
                                    "stockitemid": "223",
                                    "stockitemname": "Chocolate echidnas 250g",
                                    "TotalSold": "15504"
                                },
                                {
                                    "stockitemid": "225",
                                    "stockitemname": "Chocolate sharks 250g",
                                    "TotalSold": "15840"
                                },
                                {
                                    "stockitemid": "227",
                                    "stockitemname": "White chocolate moon rocks 250g",
                                    "TotalSold": "16056"
                                },
                                {
                                    "stockitemid": "220",
                                    "stockitemname": "Novelty chilli chocolates 250g",
                                    "TotalSold": "17136"
                                },
                                {
                                    "stockitemid": "226",
                                    "stockitemname": "White chocolate snow balls 250g",
                                    "TotalSold": "18408"
                                },
                                {
                                    "stockitemid": "222",
                                    "stockitemname": "Chocolate beetles 250g",
                                    "TotalSold": "20424"
                                },
                                {
                                    "stockitemid": "210",
                                    "stockitemname": "Packing knife with metal insert blade (Yellow) 18mm",
                                    "TotalSold": "27030"
                                },
                                {
                                    "stockitemid": "209",
                                    "stockitemname": "Packing knife with metal insert blade (Yellow) 9mm",
                                    "TotalSold": "30350"
                                },
                                {
                                    "stockitemid": "168",
                                    "stockitemname": "20 mm Anti static bubble wrap (Blue) 10m",
                                    "TotalSold": "52600"
                                },
                                {
                                    "stockitemid": "155",
                                    "stockitemname": "Large sized bubblewrap roll 50m",
                                    "TotalSold": "54030"
                                },
                                {
                                    "stockitemid": "159",
                                    "stockitemname": "20 mm Double sided bubble wrap 10m",
                                    "TotalSold": "54240"
                                },
                                {
                                    "stockitemid": "169",
                                    "stockitemname": "20 mm Anti static bubble wrap (Blue) 20m",
                                    "TotalSold": "54860"
                                },
                                {
                                    "stockitemid": "156",
                                    "stockitemname": "10 mm Double sided bubble wrap 10m",
                                    "TotalSold": "54960"
                                },
                                {
                                    "stockitemid": "164",
                                    "stockitemname": "32 mm Double sided bubble wrap 50m",
                                    "TotalSold": "55270"
                                },
                                {
                                    "stockitemid": "216",
                                    "stockitemname": "Void fill 100 L bag (White) 100L",
                                    "TotalSold": "55320"
                                },
                                {
                                    "stockitemid": "157",
                                    "stockitemname": "10 mm Double sided bubble wrap 20m",
                                    "TotalSold": "55810"
                                },
                                {
                                    "stockitemid": "3",
                                    "stockitemname": "Office cube periscope (Black)",
                                    "TotalSold": "56160"
                                },
                                {
                                    "stockitemid": "204",
                                    "stockitemname": "Tape dispenser (Red)",
                                    "TotalSold": "56230"
                                },
                                {
                                    "stockitemid": "217",
                                    "stockitemname": "Void fill 200 L bag (White) 200L",
                                    "TotalSold": "56420"
                                },
                                {
                                    "stockitemid": "158",
                                    "stockitemname": "10 mm Double sided bubble wrap 50m",
                                    "TotalSold": "56600"
                                },
                                {
                                    "stockitemid": "170",
                                    "stockitemname": "20 mm Anti static bubble wrap (Blue) 50m",
                                    "TotalSold": "56820"
                                },
                                {
                                    "stockitemid": "211",
                                    "stockitemname": "Small 9mm replacement blades 9mm",
                                    "TotalSold": "57050"
                                },
                                {
                                    "stockitemid": "166",
                                    "stockitemname": "10 mm Anti static bubble wrap (Blue) 20m",
                                    "TotalSold": "57270"
                                },
                                {
                                    "stockitemid": "218",
                                    "stockitemname": "Void fill 300 L bag (White) 300L",
                                    "TotalSold": "57280"
                                },
                                {
                                    "stockitemid": "219",
                                    "stockitemname": "Void fill 400 L bag (White) 400L",
                                    "TotalSold": "57430"
                                },
                                {
                                    "stockitemid": "163",
                                    "stockitemname": "32 mm Double sided bubble wrap 20m",
                                    "TotalSold": "57530"
                                },
                                {
                                    "stockitemid": "161",
                                    "stockitemname": "20 mm Double sided bubble wrap 50m",
                                    "TotalSold": "57540"
                                },
                                {
                                    "stockitemid": "203",
                                    "stockitemname": "Tape dispenser (Black)",
                                    "TotalSold": "57700"
                                },
                                {
                                    "stockitemid": "153",
                                    "stockitemname": "Small sized bubblewrap roll 10m",
                                    "TotalSold": "57900"
                                },
                                {
                                    "stockitemid": "205",
                                    "stockitemname": "Tape dispenser (Blue)",
                                    "TotalSold": "57920"
                                },
                                {
                                    "stockitemid": "171",
                                    "stockitemname": "32 mm Anti static bubble wrap (Blue) 10m",
                                    "TotalSold": "58120"
                                },
                                {
                                    "stockitemid": "160",
                                    "stockitemname": "20 mm Double sided bubble wrap 20m",
                                    "TotalSold": "59160"
                                },
                                {
                                    "stockitemid": "154",
                                    "stockitemname": "Medium sized bubblewrap roll 20m",
                                    "TotalSold": "59840"
                                },
                                {
                                    "stockitemid": "172",
                                    "stockitemname": "32 mm Anti static bubble wrap (Blue) 20m",
                                    "TotalSold": "60420"
                                },
                                {
                                    "stockitemid": "212",
                                    "stockitemname": "Large  replacement blades 18mm",
                                    "TotalSold": "60660"
                                },
                                {
                                    "stockitemid": "173",
                                    "stockitemname": "32 mm Anti static bubble wrap (Blue) 50m",
                                    "TotalSold": "60800"
                                },
                                {
                                    "stockitemid": "165",
                                    "stockitemname": "10 mm Anti static bubble wrap (Blue) 10m",
                                    "TotalSold": "61000"
                                },
                                {
                                    "stockitemid": "162",
                                    "stockitemname": "32 mm Double sided bubble wrap 10m",
                                    "TotalSold": "61280"
                                },
                                {
                                    "stockitemid": "167",
                                    "stockitemname": "10 mm Anti static bubble wrap (Blue) 50m",
                                    "TotalSold": "63930"
                                },
                                {
                                    "stockitemid": "144",
                                    "stockitemname": "Halloween zombie mask (Light Brown) L",
                                    "TotalSold": "64104"
                                },
                                {
                                    "stockitemid": "77",
                                    "stockitemname": "\"The Gu\" red shirt XML tag t-shirt (White) XXS",
                                    "TotalSold": "64152"
                                },
                                {
                                    "stockitemid": "99",
                                    "stockitemname": "\"The Gu\" red shirt XML tag t-shirt (Black) 5XL",
                                    "TotalSold": "65796"
                                },
                                {
                                    "stockitemid": "206",
                                    "stockitemname": "Permanent marker black 5mm nib (Black) 5mm",
                                    "TotalSold": "66120"
                                },
                                {
                                    "stockitemid": "94",
                                    "stockitemname": "\"The Gu\" red shirt XML tag t-shirt (Black) L",
                                    "TotalSold": "66432"
                                },
                                {
                                    "stockitemid": "92",
                                    "stockitemname": "\"The Gu\" red shirt XML tag t-shirt (Black) S",
                                    "TotalSold": "66876"
                                },
                                {
                                    "stockitemid": "143",
                                    "stockitemname": "Halloween zombie mask (Light Brown) M",
                                    "TotalSold": "67008"
                                },
                                {
                                    "stockitemid": "81",
                                    "stockitemname": "\"The Gu\" red shirt XML tag t-shirt (White) L",
                                    "TotalSold": "67200"
                                },
                                {
                                    "stockitemid": "78",
                                    "stockitemname": "\"The Gu\" red shirt XML tag t-shirt (White) XS",
                                    "TotalSold": "67200"
                                },
                                {
                                    "stockitemid": "89",
                                    "stockitemname": "\"The Gu\" red shirt XML tag t-shirt (Black) 3XS",
                                    "TotalSold": "67428"
                                },
                                {
                                    "stockitemid": "82",
                                    "stockitemname": "\"The Gu\" red shirt XML tag t-shirt (White) XL",
                                    "TotalSold": "67680"
                                },
                                {
                                    "stockitemid": "98",
                                    "stockitemname": "\"The Gu\" red shirt XML tag t-shirt (Black) 4XL",
                                    "TotalSold": "67860"
                                },
                                {
                                    "stockitemid": "147",
                                    "stockitemname": "Halloween skull mask (Gray) M",
                                    "TotalSold": "68040"
                                },
                                {
                                    "stockitemid": "85",
                                    "stockitemname": "\"The Gu\" red shirt XML tag t-shirt (White) 4XL",
                                    "TotalSold": "68052"
                                },
                                {
                                    "stockitemid": "140",
                                    "stockitemname": "Furry animal socks (Pink) L",
                                    "TotalSold": "68328"
                                },
                                {
                                    "stockitemid": "95",
                                    "stockitemname": "\"The Gu\" red shirt XML tag t-shirt (Black) XL",
                                    "TotalSold": "68460"
                                },
                                {
                                    "stockitemid": "86",
                                    "stockitemname": "\"The Gu\" red shirt XML tag t-shirt (White) 5XL",
                                    "TotalSold": "68472"
                                },
                                {
                                    "stockitemid": "96",
                                    "stockitemname": "\"The Gu\" red shirt XML tag t-shirt (Black) XXL",
                                    "TotalSold": "68616"
                                },
                                {
                                    "stockitemid": "149",
                                    "stockitemname": "Halloween skull mask (Gray) XL",
                                    "TotalSold": "68676"
                                },
                                {
                                    "stockitemid": "76",
                                    "stockitemname": "\"The Gu\" red shirt XML tag t-shirt (White) 3XS",
                                    "TotalSold": "68892"
                                },
                                {
                                    "stockitemid": "80",
                                    "stockitemname": "\"The Gu\" red shirt XML tag t-shirt (White) M",
                                    "TotalSold": "69072"
                                },
                                {
                                    "stockitemid": "84",
                                    "stockitemname": "\"The Gu\" red shirt XML tag t-shirt (White) 3XL",
                                    "TotalSold": "69132"
                                },
                                {
                                    "stockitemid": "208",
                                    "stockitemname": "Permanent marker red 5mm nib (Red) 5mm",
                                    "TotalSold": "69144"
                                },
                                {
                                    "stockitemid": "93",
                                    "stockitemname": "\"The Gu\" red shirt XML tag t-shirt (Black) M",
                                    "TotalSold": "69192"
                                },
                                {
                                    "stockitemid": "97",
                                    "stockitemname": "\"The Gu\" red shirt XML tag t-shirt (Black) 3XL",
                                    "TotalSold": "69252"
                                },
                                {
                                    "stockitemid": "141",
                                    "stockitemname": "Furry animal socks (Pink) XL",
                                    "TotalSold": "69324"
                                },
                                {
                                    "stockitemid": "138",
                                    "stockitemname": "Furry animal socks (Pink) S",
                                    "TotalSold": "69876"
                                },
                                {
                                    "stockitemid": "100",
                                    "stockitemname": "\"The Gu\" red shirt XML tag t-shirt (Black) 6XL",
                                    "TotalSold": "70080"
                                },
                                {
                                    "stockitemid": "146",
                                    "stockitemname": "Halloween skull mask (Gray) S",
                                    "TotalSold": "70416"
                                },
                                {
                                    "stockitemid": "87",
                                    "stockitemname": "\"The Gu\" red shirt XML tag t-shirt (White) 6XL",
                                    "TotalSold": "70584"
                                },
                                {
                                    "stockitemid": "142",
                                    "stockitemname": "Halloween zombie mask (Light Brown) S",
                                    "TotalSold": "71016"
                                },
                                {
                                    "stockitemid": "139",
                                    "stockitemname": "Furry animal socks (Pink) M",
                                    "TotalSold": "71460"
                                },
                                {
                                    "stockitemid": "83",
                                    "stockitemname": "\"The Gu\" red shirt XML tag t-shirt (White) XXL",
                                    "TotalSold": "71904"
                                },
                                {
                                    "stockitemid": "207",
                                    "stockitemname": "Permanent marker blue 5mm nib (Blue) 5mm",
                                    "TotalSold": "71928"
                                },
                                {
                                    "stockitemid": "145",
                                    "stockitemname": "Halloween zombie mask (Light Brown) XL",
                                    "TotalSold": "72372"
                                },
                                {
                                    "stockitemid": "91",
                                    "stockitemname": "\"The Gu\" red shirt XML tag t-shirt (Black) XS",
                                    "TotalSold": "72384"
                                },
                                {
                                    "stockitemid": "101",
                                    "stockitemname": "\"The Gu\" red shirt XML tag t-shirt (Black) 7XL",
                                    "TotalSold": "72636"
                                },
                                {
                                    "stockitemid": "90",
                                    "stockitemname": "\"The Gu\" red shirt XML tag t-shirt (Black) XXS",
                                    "TotalSold": "73104"
                                },
                                {
                                    "stockitemid": "148",
                                    "stockitemname": "Halloween skull mask (Gray) L",
                                    "TotalSold": "73896"
                                },
                                {
                                    "stockitemid": "79",
                                    "stockitemname": "\"The Gu\" red shirt XML tag t-shirt (White) S",
                                    "TotalSold": "74280"
                                },
                                {
                                    "stockitemid": "88",
                                    "stockitemname": "\"The Gu\" red shirt XML tag t-shirt (White) 7XL",
                                    "TotalSold": "75336"
                                },
                                {
                                    "stockitemid": "190",
                                    "stockitemname": "Clear packaging tape 48mmx100m",
                                    "TotalSold": "114500"
                                },
                                {
                                    "stockitemid": "193",
                                    "stockitemname": "Black and orange glass with care despatch tape 48mmx75m",
                                    "TotalSold": "125496"
                                },
                                {
                                    "stockitemid": "202",
                                    "stockitemname": "Red and white urgent  heavy despatch tape  48mmx100m",
                                    "TotalSold": "130008"
                                },
                                {
                                    "stockitemid": "197",
                                    "stockitemname": "Black and orange this way up despatch tape 48mmx75m",
                                    "TotalSold": "134184"
                                },
                                {
                                    "stockitemid": "196",
                                    "stockitemname": "Black and orange handle with care despatch tape  48mmx100m",
                                    "TotalSold": "137880"
                                },
                                {
                                    "stockitemid": "195",
                                    "stockitemname": "Black and orange handle with care despatch tape  48mmx75m",
                                    "TotalSold": "139056"
                                },
                                {
                                    "stockitemid": "182",
                                    "stockitemname": "Shipping carton (Brown) 457x279x279mm",
                                    "TotalSold": "139575"
                                },
                                {
                                    "stockitemid": "178",
                                    "stockitemname": "Shipping carton (Brown) 500x310x310mm",
                                    "TotalSold": "141025"
                                },
                                {
                                    "stockitemid": "200",
                                    "stockitemname": "Black and yellow heavy despatch tape 48mmx100m",
                                    "TotalSold": "142032"
                                },
                                {
                                    "stockitemid": "181",
                                    "stockitemname": "Shipping carton (Brown) 356x229x229mm",
                                    "TotalSold": "142525"
                                },
                                {
                                    "stockitemid": "194",
                                    "stockitemname": "Black and orange glass with care despatch tape  48mmx100m",
                                    "TotalSold": "142632"
                                },
                                {
                                    "stockitemid": "199",
                                    "stockitemname": "Black and yellow heavy despatch tape  48mmx75m",
                                    "TotalSold": "143184"
                                },
                                {
                                    "stockitemid": "201",
                                    "stockitemname": "Red and white urgent despatch tape 48mmx75m",
                                    "TotalSold": "143304"
                                },
                                {
                                    "stockitemid": "180",
                                    "stockitemname": "Shipping carton (Brown) 279x254x217mm",
                                    "TotalSold": "143675"
                                },
                                {
                                    "stockitemid": "198",
                                    "stockitemname": "Black and orange this way up despatch tape  48mmx100m",
                                    "TotalSold": "143784"
                                },
                                {
                                    "stockitemid": "183",
                                    "stockitemname": "Shipping carton (Brown) 480x270x320mm",
                                    "TotalSold": "144775"
                                },
                                {
                                    "stockitemid": "186",
                                    "stockitemname": "Shipping carton (Brown) 457x457x457mm",
                                    "TotalSold": "144950"
                                },
                                {
                                    "stockitemid": "179",
                                    "stockitemname": "Shipping carton (Brown) 229x229x229mm",
                                    "TotalSold": "146375"
                                },
                                {
                                    "stockitemid": "177",
                                    "stockitemname": "Shipping carton (Brown) 413x285x187mm",
                                    "TotalSold": "147675"
                                },
                                {
                                    "stockitemid": "187",
                                    "stockitemname": "Express post box 5kg (White) 350x280x130mm",
                                    "TotalSold": "149825"
                                },
                                {
                                    "stockitemid": "184",
                                    "stockitemname": "Shipping carton (Brown) 305x305x305mm",
                                    "TotalSold": "151875"
                                },
                                {
                                    "stockitemid": "185",
                                    "stockitemname": "Shipping carton (Brown) 356x356x279mm",
                                    "TotalSold": "152125"
                                },
                                {
                                    "stockitemid": "188",
                                    "stockitemname": "3 kg Courier post bag (White) 300x190x95mm",
                                    "TotalSold": "152375"
                                },
                                {
                                    "stockitemid": "189",
                                    "stockitemname": "Clear packaging tape 48mmx75m",
                                    "TotalSold": "158626"
                                },
                                {
                                    "stockitemid": "192",
                                    "stockitemname": "Black and orange fragile despatch tape 48mmx100m",
                                    "TotalSold": "193680"
                                },
                                {
                                    "stockitemid": "191",
                                    "stockitemname": "Black and orange fragile despatch tape 48mmx75m",
                                    "TotalSold": "207324"
                                }
                            ]
                        },
                        "text/html": [
                            "<table>",
                            "<tr><th>stockitemid</th><th>stockitemname</th><th>TotalSold</th></tr>",
                            "<tr><td>113</td><td>Superhero action jacket (Blue) XL</td><td>5373</td></tr>",
                            "<tr><td>17</td><td>DBA joke mug - mind if I join you? (Black)</td><td>5402</td></tr>",
                            "<tr><td>114</td><td>Superhero action jacket (Blue) XXL</td><td>5404</td></tr>",
                            "<tr><td>110</td><td>Superhero action jacket (Blue) S</td><td>5426</td></tr>",
                            "<tr><td>112</td><td>Superhero action jacket (Blue) L</td><td>5464</td></tr>",
                            "<tr><td>27</td><td>DBA joke mug - SELECT caffeine FROM mug (Black)</td><td>5471</td></tr>",
                            "<tr><td>175</td><td>Bubblewrap dispenser (Blue) 1.5m</td><td>5486</td></tr>",
                            "<tr><td>174</td><td>Bubblewrap dispenser (Black) 1.5m</td><td>5501</td></tr>",
                            "<tr><td>59</td><td>RC toy sedan car with remote control (Red) 1/50 scale</td><td>5519</td></tr>",
                            "<tr><td>8</td><td>USB food flash drive - dim sum 10 drive variety pack</td><td>5537</td></tr>",
                            "<tr><td>7</td><td>USB food flash drive - pizza slice</td><td>5539</td></tr>",
                            "<tr><td>116</td><td>Superhero action jacket (Blue) 4XL</td><td>5546</td></tr>",
                            "<tr><td>106</td><td>Alien officer hoodie (Black) 5XL</td><td>5549</td></tr>",
                            "<tr><td>37</td><td>Developer joke mug - when your hammer is C++ (Black)</td><td>5559</td></tr>",
                            "<tr><td>150</td><td>Pack of 12 action figures (variety)</td><td>5559</td></tr>",
                            "<tr><td>43</td><td>Developer joke mug - understanding recursion requires understanding recursion (Black)</td><td>5560</td></tr>",
                            "<tr><td>5</td><td>USB food flash drive - hamburger</td><td>5571</td></tr>",
                            "<tr><td>51</td><td>Developer joke mug - old C developers never die (Black)</td><td>5572</td></tr>",
                            "<tr><td>6</td><td>USB food flash drive - hot dog</td><td>5573</td></tr>",
                            "<tr><td>103</td><td>Alien officer hoodie (Black) XXL</td><td>5583</td></tr>",
                            "<tr><td>63</td><td>RC toy sedan car with remote control (Pink) 1/50 scale</td><td>5583</td></tr>",
                            "<tr><td>24</td><td>DBA joke mug - I will get you in order (White)</td><td>5585</td></tr>",
                            "<tr><td>128</td><td>Plush shark slippers (Gray) L</td><td>5607</td></tr>",
                            "<tr><td>45</td><td>Developer joke mug - there are 10 types of people in the world (Black)</td><td>5612</td></tr>",
                            "<tr><td>38</td><td>Developer joke mug - inheritance is the OO way to become wealthy (White)</td><td>5612</td></tr>",
                            "<tr><td>49</td><td>Developer joke mug - this code was generated by a tool (Black)</td><td>5617</td></tr>",
                            "<tr><td>135</td><td>Animal with big feet slippers (Brown) M</td><td>5625</td></tr>",
                            "<tr><td>46</td><td>Developer joke mug - a foo walks into a bar (White)</td><td>5632</td></tr>",
                            "<tr><td>151</td><td>Pack of 12 action figures (male)</td><td>5638</td></tr>",
                            "<tr><td>70</td><td>Ride on toy sedan car (Green) 1/12 scale</td><td>5646</td></tr>",
                            "<tr><td>54</td><td>IT joke mug - that behavior is by design (White)</td><td>5647</td></tr>",
                            "<tr><td>126</td><td>Plush shark slippers (Gray) S</td><td>5648</td></tr>",
                            "<tr><td>134</td><td>Animal with big feet slippers (Brown) S</td><td>5654</td></tr>",
                            "<tr><td>73</td><td>Ride on vintage American toy coupe (Red) 1/12 scale</td><td>5658</td></tr>",
                            "<tr><td>66</td><td>RC big wheel monster truck with remote control (Black) 1/50 scale</td><td>5679</td></tr>",
                            "<tr><td>67</td><td>Ride on toy sedan car (Black) 1/12 scale</td><td>5688</td></tr>",
                            "<tr><td>52</td><td>IT joke mug - keyboard not found … press F1 to continue (White)</td><td>5690</td></tr>",
                            "<tr><td>9</td><td>USB food flash drive - banana</td><td>5697</td></tr>",
                            "<tr><td>107</td><td>Superhero action jacket (Blue) 3XS</td><td>5698</td></tr>",
                            "<tr><td>127</td><td>Plush shark slippers (Gray) M</td><td>5702</td></tr>",
                            "<tr><td>62</td><td>RC toy sedan car with remote control (Yellow) 1/50 scale</td><td>5703</td></tr>",
                            "<tr><td>53</td><td>IT joke mug - keyboard not found … press F1 to continue (Black)</td><td>5706</td></tr>",
                            "<tr><td>105</td><td>Alien officer hoodie (Black) 4XL</td><td>5717</td></tr>",
                            "<tr><td>30</td><td>Developer joke mug - Oct 31 = Dec 25 (White)</td><td>5718</td></tr>",
                            "<tr><td>19</td><td>DBA joke mug - daaaaaa-ta (Black)</td><td>5724</td></tr>",
                            "<tr><td>102</td><td>Alien officer hoodie (Black) XL</td><td>5728</td></tr>",
                            "<tr><td>20</td><td>DBA joke mug - you might be a DBA if (White)</td><td>5733</td></tr>",
                            "<tr><td>41</td><td>Developer joke mug - (hip, hip, array) (Black)</td><td>5741</td></tr>",
                            "<tr><td>11</td><td>USB food flash drive - cookie</td><td>5762</td></tr>",
                            "<tr><td>29</td><td>DBA joke mug - two types of DBAs (Black)</td><td>5767</td></tr>",
                            "<tr><td>10</td><td>USB food flash drive - chocolate bar</td><td>5769</td></tr>",
                            "<tr><td>75</td><td>Ride on big wheel monster truck (Black) 1/12 scale</td><td>5770</td></tr>",
                            "<tr><td>60</td><td>RC toy sedan car with remote control (Blue) 1/50 scale</td><td>5780</td></tr>",
                            "<tr><td>56</td><td>IT joke mug - hardware: part of the computer that can be kicked (White)</td><td>5781</td></tr>",
                            "<tr><td>133</td><td>Furry gorilla with big eyes slippers (Black) XL</td><td>5782</td></tr>",
                            "<tr><td>136</td><td>Animal with big feet slippers (Brown) L</td><td>5785</td></tr>",
                            "<tr><td>68</td><td>Ride on toy sedan car (Red) 1/12 scale</td><td>5788</td></tr>",
                            "<tr><td>26</td><td>DBA joke mug - SELECT caffeine FROM mug (White)</td><td>5797</td></tr>",
                            "<tr><td>131</td><td>Furry gorilla with big eyes slippers (Black) M</td><td>5798</td></tr>",
                            "<tr><td>47</td><td>Developer joke mug - a foo walks into a bar (Black)</td><td>5811</td></tr>",
                            "<tr><td>129</td><td>Plush shark slippers (Gray) XL</td><td>5814</td></tr>",
                            "<tr><td>31</td><td>Developer joke mug - Oct 31 = Dec 25 (Black)</td><td>5814</td></tr>",
                            "<tr><td>130</td><td>Furry gorilla with big eyes slippers (Black) S</td><td>5816</td></tr>",
                            "<tr><td>36</td><td>Developer joke mug - when your hammer is C++ (White)</td><td>5824</td></tr>",
                            "<tr><td>4</td><td>USB food flash drive - sushi roll</td><td>5826</td></tr>",
                            "<tr><td>14</td><td>USB food flash drive - fortune cookie</td><td>5827</td></tr>",
                            "<tr><td>25</td><td>DBA joke mug - I will get you in order (Black)</td><td>5827</td></tr>",
                            "<tr><td>23</td><td>DBA joke mug - it depends (Black)</td><td>5827</td></tr>",
                            "<tr><td>118</td><td>Dinosaur battery-powered slippers (Green) S</td><td>5843</td></tr>",
                            "<tr><td>117</td><td>Superhero action jacket (Blue) 5XL</td><td>5843</td></tr>",
                            "<tr><td>21</td><td>DBA joke mug - you might be a DBA if (Black)</td><td>5845</td></tr>",
                            "<tr><td>215</td><td>Air cushion machine (Blue)</td><td>5849</td></tr>",
                            "<tr><td>125</td><td>Ogre battery-powered slippers (Green) XL</td><td>5852</td></tr>",
                            "<tr><td>71</td><td>Ride on toy sedan car (Yellow) 1/12 scale</td><td>5859</td></tr>",
                            "<tr><td>72</td><td>Ride on toy sedan car (Pink) 1/12 scale</td><td>5865</td></tr>",
                            "<tr><td>61</td><td>RC toy sedan car with remote control (Green) 1/50 scale</td><td>5869</td></tr>",
                            "<tr><td>1</td><td>USB missile launcher (Green)</td><td>5869</td></tr>",
                            "<tr><td>50</td><td>Developer joke mug - old C developers never die (White)</td><td>5874</td></tr>",
                            "<tr><td>115</td><td>Superhero action jacket (Blue) 3XL</td><td>5879</td></tr>",
                            "<tr><td>55</td><td>IT joke mug - that behavior is by design (Black)</td><td>5880</td></tr>",
                            "<tr><td>69</td><td>Ride on toy sedan car (Blue) 1/12 scale</td><td>5881</td></tr>",
                            "<tr><td>15</td><td>USB food flash drive - dessert 10 drive variety pack</td><td>5884</td></tr>",
                            "<tr><td>58</td><td>RC toy sedan car with remote control (Black) 1/50 scale</td><td>5888</td></tr>",
                            "<tr><td>65</td><td>RC vintage American toy coupe with remote control (Black) 1/50 scale</td><td>5919</td></tr>",
                            "<tr><td>57</td><td>IT joke mug - hardware: part of the computer that can be kicked (Black)</td><td>5921</td></tr>",
                            "<tr><td>22</td><td>DBA joke mug - it depends (White)</td><td>5922</td></tr>",
                            "<tr><td>122</td><td>Ogre battery-powered slippers (Green) S</td><td>5924</td></tr>",
                            "<tr><td>124</td><td>Ogre battery-powered slippers (Green) L</td><td>5933</td></tr>",
                            "<tr><td>132</td><td>Furry gorilla with big eyes slippers (Black) L</td><td>5943</td></tr>",
                            "<tr><td>123</td><td>Ogre battery-powered slippers (Green) M</td><td>5950</td></tr>",
                            "<tr><td>12</td><td>USB food flash drive - donut</td><td>5951</td></tr>",
                            "<tr><td>44</td><td>Developer joke mug - there are 10 types of people in the world (White)</td><td>5952</td></tr>",
                            "<tr><td>33</td><td>Developer joke mug - that&#39;s a hardware problem (Black)</td><td>5956</td></tr>",
                            "<tr><td>64</td><td>RC vintage American toy coupe with remote control (Red) 1/50 scale</td><td>5960</td></tr>",
                            "<tr><td>42</td><td>Developer joke mug - understanding recursion requires understanding recursion (White)</td><td>5964</td></tr>",
                            "<tr><td>213</td><td>Air cushion film 200mmx100mm 325m</td><td>5975</td></tr>",
                            "<tr><td>121</td><td>Dinosaur battery-powered slippers (Green) XL</td><td>5987</td></tr>",
                            "<tr><td>152</td><td>Pack of 12 action figures (female)</td><td>5998</td></tr>",
                            "<tr><td>18</td><td>DBA joke mug - daaaaaa-ta (White)</td><td>6014</td></tr>",
                            "<tr><td>111</td><td>Superhero action jacket (Blue) M</td><td>6014</td></tr>",
                            "<tr><td>119</td><td>Dinosaur battery-powered slippers (Green) M</td><td>6023</td></tr>",
                            "<tr><td>108</td><td>Superhero action jacket (Blue) XXS</td><td>6039</td></tr>",
                            "<tr><td>48</td><td>Developer joke mug - this code was generated by a tool (White)</td><td>6044</td></tr>",
                            "<tr><td>137</td><td>Animal with big feet slippers (Brown) XL</td><td>6048</td></tr>",
                            "<tr><td>2</td><td>USB rocket launcher (Gray)</td><td>6048</td></tr>",
                            "<tr><td>40</td><td>Developer joke mug - (hip, hip, array) (White)</td><td>6054</td></tr>",
                            "<tr><td>28</td><td>DBA joke mug - two types of DBAs (White)</td><td>6062</td></tr>",
                            "<tr><td>34</td><td>Developer joke mug - fun was unexpected at this time (White)</td><td>6075</td></tr>",
                            "<tr><td>32</td><td>Developer joke mug - that&#39;s a hardware problem (White)</td><td>6085</td></tr>",
                            "<tr><td>109</td><td>Superhero action jacket (Blue) XS</td><td>6085</td></tr>",
                            "<tr><td>35</td><td>Developer joke mug - fun was unexpected at this time (Black)</td><td>6086</td></tr>",
                            "<tr><td>214</td><td>Air cushion film 200mmx200mm 325m</td><td>6097</td></tr>",
                            "<tr><td>176</td><td>Bubblewrap dispenser (Red) 1.5m</td><td>6108</td></tr>",
                            "<tr><td>74</td><td>Ride on vintage American toy coupe (Black) 1/12 scale</td><td>6110</td></tr>",
                            "<tr><td>39</td><td>Developer joke mug - inheritance is the OO way to become wealthy (Black)</td><td>6111</td></tr>",
                            "<tr><td>104</td><td>Alien officer hoodie (Black) 3XL</td><td>6121</td></tr>",
                            "<tr><td>120</td><td>Dinosaur battery-powered slippers (Green) L</td><td>6127</td></tr>",
                            "<tr><td>16</td><td>DBA joke mug - mind if I join you? (White)</td><td>6136</td></tr>",
                            "<tr><td>13</td><td>USB food flash drive - shrimp cocktail</td><td>6204</td></tr>",
                            "<tr><td>221</td><td>Novelty chilli chocolates 500g</td><td>9012</td></tr>",
                            "<tr><td>224</td><td>Chocolate frogs 250g</td><td>14976</td></tr>",
                            "<tr><td>223</td><td>Chocolate echidnas 250g</td><td>15504</td></tr>",
                            "<tr><td>225</td><td>Chocolate sharks 250g</td><td>15840</td></tr>",
                            "<tr><td>227</td><td>White chocolate moon rocks 250g</td><td>16056</td></tr>",
                            "<tr><td>220</td><td>Novelty chilli chocolates 250g</td><td>17136</td></tr>",
                            "<tr><td>226</td><td>White chocolate snow balls 250g</td><td>18408</td></tr>",
                            "<tr><td>222</td><td>Chocolate beetles 250g</td><td>20424</td></tr>",
                            "<tr><td>210</td><td>Packing knife with metal insert blade (Yellow) 18mm</td><td>27030</td></tr>",
                            "<tr><td>209</td><td>Packing knife with metal insert blade (Yellow) 9mm</td><td>30350</td></tr>",
                            "<tr><td>168</td><td>20 mm Anti static bubble wrap (Blue) 10m</td><td>52600</td></tr>",
                            "<tr><td>155</td><td>Large sized bubblewrap roll 50m</td><td>54030</td></tr>",
                            "<tr><td>159</td><td>20 mm Double sided bubble wrap 10m</td><td>54240</td></tr>",
                            "<tr><td>169</td><td>20 mm Anti static bubble wrap (Blue) 20m</td><td>54860</td></tr>",
                            "<tr><td>156</td><td>10 mm Double sided bubble wrap 10m</td><td>54960</td></tr>",
                            "<tr><td>164</td><td>32 mm Double sided bubble wrap 50m</td><td>55270</td></tr>",
                            "<tr><td>216</td><td>Void fill 100 L bag (White) 100L</td><td>55320</td></tr>",
                            "<tr><td>157</td><td>10 mm Double sided bubble wrap 20m</td><td>55810</td></tr>",
                            "<tr><td>3</td><td>Office cube periscope (Black)</td><td>56160</td></tr>",
                            "<tr><td>204</td><td>Tape dispenser (Red)</td><td>56230</td></tr>",
                            "<tr><td>217</td><td>Void fill 200 L bag (White) 200L</td><td>56420</td></tr>",
                            "<tr><td>158</td><td>10 mm Double sided bubble wrap 50m</td><td>56600</td></tr>",
                            "<tr><td>170</td><td>20 mm Anti static bubble wrap (Blue) 50m</td><td>56820</td></tr>",
                            "<tr><td>211</td><td>Small 9mm replacement blades 9mm</td><td>57050</td></tr>",
                            "<tr><td>166</td><td>10 mm Anti static bubble wrap (Blue) 20m</td><td>57270</td></tr>",
                            "<tr><td>218</td><td>Void fill 300 L bag (White) 300L</td><td>57280</td></tr>",
                            "<tr><td>219</td><td>Void fill 400 L bag (White) 400L</td><td>57430</td></tr>",
                            "<tr><td>163</td><td>32 mm Double sided bubble wrap 20m</td><td>57530</td></tr>",
                            "<tr><td>161</td><td>20 mm Double sided bubble wrap 50m</td><td>57540</td></tr>",
                            "<tr><td>203</td><td>Tape dispenser (Black)</td><td>57700</td></tr>",
                            "<tr><td>153</td><td>Small sized bubblewrap roll 10m</td><td>57900</td></tr>",
                            "<tr><td>205</td><td>Tape dispenser (Blue)</td><td>57920</td></tr>",
                            "<tr><td>171</td><td>32 mm Anti static bubble wrap (Blue) 10m</td><td>58120</td></tr>",
                            "<tr><td>160</td><td>20 mm Double sided bubble wrap 20m</td><td>59160</td></tr>",
                            "<tr><td>154</td><td>Medium sized bubblewrap roll 20m</td><td>59840</td></tr>",
                            "<tr><td>172</td><td>32 mm Anti static bubble wrap (Blue) 20m</td><td>60420</td></tr>",
                            "<tr><td>212</td><td>Large  replacement blades 18mm</td><td>60660</td></tr>",
                            "<tr><td>173</td><td>32 mm Anti static bubble wrap (Blue) 50m</td><td>60800</td></tr>",
                            "<tr><td>165</td><td>10 mm Anti static bubble wrap (Blue) 10m</td><td>61000</td></tr>",
                            "<tr><td>162</td><td>32 mm Double sided bubble wrap 10m</td><td>61280</td></tr>",
                            "<tr><td>167</td><td>10 mm Anti static bubble wrap (Blue) 50m</td><td>63930</td></tr>",
                            "<tr><td>144</td><td>Halloween zombie mask (Light Brown) L</td><td>64104</td></tr>",
                            "<tr><td>77</td><td>&quot;The Gu&quot; red shirt XML tag t-shirt (White) XXS</td><td>64152</td></tr>",
                            "<tr><td>99</td><td>&quot;The Gu&quot; red shirt XML tag t-shirt (Black) 5XL</td><td>65796</td></tr>",
                            "<tr><td>206</td><td>Permanent marker black 5mm nib (Black) 5mm</td><td>66120</td></tr>",
                            "<tr><td>94</td><td>&quot;The Gu&quot; red shirt XML tag t-shirt (Black) L</td><td>66432</td></tr>",
                            "<tr><td>92</td><td>&quot;The Gu&quot; red shirt XML tag t-shirt (Black) S</td><td>66876</td></tr>",
                            "<tr><td>143</td><td>Halloween zombie mask (Light Brown) M</td><td>67008</td></tr>",
                            "<tr><td>81</td><td>&quot;The Gu&quot; red shirt XML tag t-shirt (White) L</td><td>67200</td></tr>",
                            "<tr><td>78</td><td>&quot;The Gu&quot; red shirt XML tag t-shirt (White) XS</td><td>67200</td></tr>",
                            "<tr><td>89</td><td>&quot;The Gu&quot; red shirt XML tag t-shirt (Black) 3XS</td><td>67428</td></tr>",
                            "<tr><td>82</td><td>&quot;The Gu&quot; red shirt XML tag t-shirt (White) XL</td><td>67680</td></tr>",
                            "<tr><td>98</td><td>&quot;The Gu&quot; red shirt XML tag t-shirt (Black) 4XL</td><td>67860</td></tr>",
                            "<tr><td>147</td><td>Halloween skull mask (Gray) M</td><td>68040</td></tr>",
                            "<tr><td>85</td><td>&quot;The Gu&quot; red shirt XML tag t-shirt (White) 4XL</td><td>68052</td></tr>",
                            "<tr><td>140</td><td>Furry animal socks (Pink) L</td><td>68328</td></tr>",
                            "<tr><td>95</td><td>&quot;The Gu&quot; red shirt XML tag t-shirt (Black) XL</td><td>68460</td></tr>",
                            "<tr><td>86</td><td>&quot;The Gu&quot; red shirt XML tag t-shirt (White) 5XL</td><td>68472</td></tr>",
                            "<tr><td>96</td><td>&quot;The Gu&quot; red shirt XML tag t-shirt (Black) XXL</td><td>68616</td></tr>",
                            "<tr><td>149</td><td>Halloween skull mask (Gray) XL</td><td>68676</td></tr>",
                            "<tr><td>76</td><td>&quot;The Gu&quot; red shirt XML tag t-shirt (White) 3XS</td><td>68892</td></tr>",
                            "<tr><td>80</td><td>&quot;The Gu&quot; red shirt XML tag t-shirt (White) M</td><td>69072</td></tr>",
                            "<tr><td>84</td><td>&quot;The Gu&quot; red shirt XML tag t-shirt (White) 3XL</td><td>69132</td></tr>",
                            "<tr><td>208</td><td>Permanent marker red 5mm nib (Red) 5mm</td><td>69144</td></tr>",
                            "<tr><td>93</td><td>&quot;The Gu&quot; red shirt XML tag t-shirt (Black) M</td><td>69192</td></tr>",
                            "<tr><td>97</td><td>&quot;The Gu&quot; red shirt XML tag t-shirt (Black) 3XL</td><td>69252</td></tr>",
                            "<tr><td>141</td><td>Furry animal socks (Pink) XL</td><td>69324</td></tr>",
                            "<tr><td>138</td><td>Furry animal socks (Pink) S</td><td>69876</td></tr>",
                            "<tr><td>100</td><td>&quot;The Gu&quot; red shirt XML tag t-shirt (Black) 6XL</td><td>70080</td></tr>",
                            "<tr><td>146</td><td>Halloween skull mask (Gray) S</td><td>70416</td></tr>",
                            "<tr><td>87</td><td>&quot;The Gu&quot; red shirt XML tag t-shirt (White) 6XL</td><td>70584</td></tr>",
                            "<tr><td>142</td><td>Halloween zombie mask (Light Brown) S</td><td>71016</td></tr>",
                            "<tr><td>139</td><td>Furry animal socks (Pink) M</td><td>71460</td></tr>",
                            "<tr><td>83</td><td>&quot;The Gu&quot; red shirt XML tag t-shirt (White) XXL</td><td>71904</td></tr>",
                            "<tr><td>207</td><td>Permanent marker blue 5mm nib (Blue) 5mm</td><td>71928</td></tr>",
                            "<tr><td>145</td><td>Halloween zombie mask (Light Brown) XL</td><td>72372</td></tr>",
                            "<tr><td>91</td><td>&quot;The Gu&quot; red shirt XML tag t-shirt (Black) XS</td><td>72384</td></tr>",
                            "<tr><td>101</td><td>&quot;The Gu&quot; red shirt XML tag t-shirt (Black) 7XL</td><td>72636</td></tr>",
                            "<tr><td>90</td><td>&quot;The Gu&quot; red shirt XML tag t-shirt (Black) XXS</td><td>73104</td></tr>",
                            "<tr><td>148</td><td>Halloween skull mask (Gray) L</td><td>73896</td></tr>",
                            "<tr><td>79</td><td>&quot;The Gu&quot; red shirt XML tag t-shirt (White) S</td><td>74280</td></tr>",
                            "<tr><td>88</td><td>&quot;The Gu&quot; red shirt XML tag t-shirt (White) 7XL</td><td>75336</td></tr>",
                            "<tr><td>190</td><td>Clear packaging tape 48mmx100m</td><td>114500</td></tr>",
                            "<tr><td>193</td><td>Black and orange glass with care despatch tape 48mmx75m</td><td>125496</td></tr>",
                            "<tr><td>202</td><td>Red and white urgent  heavy despatch tape  48mmx100m</td><td>130008</td></tr>",
                            "<tr><td>197</td><td>Black and orange this way up despatch tape 48mmx75m</td><td>134184</td></tr>",
                            "<tr><td>196</td><td>Black and orange handle with care despatch tape  48mmx100m</td><td>137880</td></tr>",
                            "<tr><td>195</td><td>Black and orange handle with care despatch tape  48mmx75m</td><td>139056</td></tr>",
                            "<tr><td>182</td><td>Shipping carton (Brown) 457x279x279mm</td><td>139575</td></tr>",
                            "<tr><td>178</td><td>Shipping carton (Brown) 500x310x310mm</td><td>141025</td></tr>",
                            "<tr><td>200</td><td>Black and yellow heavy despatch tape 48mmx100m</td><td>142032</td></tr>",
                            "<tr><td>181</td><td>Shipping carton (Brown) 356x229x229mm</td><td>142525</td></tr>",
                            "<tr><td>194</td><td>Black and orange glass with care despatch tape  48mmx100m</td><td>142632</td></tr>",
                            "<tr><td>199</td><td>Black and yellow heavy despatch tape  48mmx75m</td><td>143184</td></tr>",
                            "<tr><td>201</td><td>Red and white urgent despatch tape 48mmx75m</td><td>143304</td></tr>",
                            "<tr><td>180</td><td>Shipping carton (Brown) 279x254x217mm</td><td>143675</td></tr>",
                            "<tr><td>198</td><td>Black and orange this way up despatch tape  48mmx100m</td><td>143784</td></tr>",
                            "<tr><td>183</td><td>Shipping carton (Brown) 480x270x320mm</td><td>144775</td></tr>",
                            "<tr><td>186</td><td>Shipping carton (Brown) 457x457x457mm</td><td>144950</td></tr>",
                            "<tr><td>179</td><td>Shipping carton (Brown) 229x229x229mm</td><td>146375</td></tr>",
                            "<tr><td>177</td><td>Shipping carton (Brown) 413x285x187mm</td><td>147675</td></tr>",
                            "<tr><td>187</td><td>Express post box 5kg (White) 350x280x130mm</td><td>149825</td></tr>",
                            "<tr><td>184</td><td>Shipping carton (Brown) 305x305x305mm</td><td>151875</td></tr>",
                            "<tr><td>185</td><td>Shipping carton (Brown) 356x356x279mm</td><td>152125</td></tr>",
                            "<tr><td>188</td><td>3 kg Courier post bag (White) 300x190x95mm</td><td>152375</td></tr>",
                            "<tr><td>189</td><td>Clear packaging tape 48mmx75m</td><td>158626</td></tr>",
                            "<tr><td>192</td><td>Black and orange fragile despatch tape 48mmx100m</td><td>193680</td></tr>",
                            "<tr><td>191</td><td>Black and orange fragile despatch tape 48mmx75m</td><td>207324</td></tr>",
                            "</table>"
                        ]
                    }
                }
            ],
            "execution_count": 24
        },
        {
            "cell_type": "markdown",
            "source": [
                "**Proposition 8**\n",
                "\n",
                "\"Find the orders with more than 600 items\"\n",
                "\n",
                "This query simply finds all orders with more than 600 items\n",
                "\n",
                "\\- We use a table expression WITH, called OrderItemsCounts\n",
                "\n",
                "\\- We use the table FROM Orderlines and get the sum of quanitities for that order bc different items have different quanitities ordered, this sum is aliased into TotalItems\n",
                "\n",
                "\\- The table expression is grouped by orderid so that totalitems associates to the ordeid it belongs in\n",
                "\n",
                "\\- In the main query we use FROM to get the table of orders\n",
                "\n",
                "\\- We use JOIN to join the orderids from the order table with the orderids from our table expression\n",
                "\n",
                "\\- We use WHERE clause to define orderids who have atleast 600 items\n",
                "\n",
                "\\- We use ORDER BY to sort the output descendingly"
            ],
            "metadata": {
                "language": "sql",
                "azdata_cell_guid": "d9762697-432a-4cc7-af6c-5af3414585f1"
            },
            "attachments": {}
        },
        {
            "cell_type": "code",
            "source": [
                "WITH OrderItemCounts AS (\n",
                "    SELECT orderid, SUM(quantity) AS TotalItems\n",
                "    FROM Sales.OrderLines\n",
                "    GROUP BY orderid\n",
                ")\n",
                "SELECT o.orderid, o.customerid, o.orderdate, oi.TotalItems\n",
                "FROM Sales.Orders o\n",
                "JOIN OrderItemCounts oi ON o.orderid = oi.orderid\n",
                "WHERE oi.TotalItems > 600\n",
                "ORDER BY TotalItems DESC"
            ],
            "metadata": {
                "language": "sql",
                "azdata_cell_guid": "71675c7e-23d8-4993-9228-563e7ba8a9e2",
                "tags": []
            },
            "outputs": [
                {
                    "output_type": "display_data",
                    "data": {
                        "text/html": "(117 rows affected)"
                    },
                    "metadata": {}
                },
                {
                    "output_type": "display_data",
                    "data": {
                        "text/html": "Total execution time: 00:00:00.053"
                    },
                    "metadata": {}
                },
                {
                    "output_type": "execute_result",
                    "metadata": {},
                    "execution_count": 32,
                    "data": {
                        "application/vnd.dataresource+json": {
                            "schema": {
                                "fields": [
                                    {
                                        "name": "orderid"
                                    },
                                    {
                                        "name": "customerid"
                                    },
                                    {
                                        "name": "orderdate"
                                    },
                                    {
                                        "name": "TotalItems"
                                    }
                                ]
                            },
                            "data": [
                                {
                                    "orderid": "42479",
                                    "customerid": "980",
                                    "orderdate": "2015-02-02",
                                    "TotalItems": "854"
                                },
                                {
                                    "orderid": "56910",
                                    "customerid": "1010",
                                    "orderdate": "2015-09-11",
                                    "TotalItems": "795"
                                },
                                {
                                    "orderid": "24890",
                                    "customerid": "1003",
                                    "orderdate": "2014-04-10",
                                    "TotalItems": "794"
                                },
                                {
                                    "orderid": "53643",
                                    "customerid": "950",
                                    "orderdate": "2015-07-22",
                                    "TotalItems": "784"
                                },
                                {
                                    "orderid": "46297",
                                    "customerid": "90",
                                    "orderdate": "2015-04-03",
                                    "TotalItems": "780"
                                },
                                {
                                    "orderid": "49643",
                                    "customerid": "432",
                                    "orderdate": "2015-05-23",
                                    "TotalItems": "778"
                                },
                                {
                                    "orderid": "68751",
                                    "customerid": "1023",
                                    "orderdate": "2016-03-21",
                                    "TotalItems": "766"
                                },
                                {
                                    "orderid": "42025",
                                    "customerid": "1038",
                                    "orderdate": "2015-01-26",
                                    "TotalItems": "759"
                                },
                                {
                                    "orderid": "29868",
                                    "customerid": "132",
                                    "orderdate": "2014-06-30",
                                    "TotalItems": "757"
                                },
                                {
                                    "orderid": "6849",
                                    "customerid": "63",
                                    "orderdate": "2013-05-11",
                                    "TotalItems": "757"
                                },
                                {
                                    "orderid": "37667",
                                    "customerid": "890",
                                    "orderdate": "2014-11-10",
                                    "TotalItems": "754"
                                },
                                {
                                    "orderid": "17559",
                                    "customerid": "409",
                                    "orderdate": "2013-11-25",
                                    "TotalItems": "754"
                                },
                                {
                                    "orderid": "8711",
                                    "customerid": "829",
                                    "orderdate": "2013-06-13",
                                    "TotalItems": "748"
                                },
                                {
                                    "orderid": "58268",
                                    "customerid": "558",
                                    "orderdate": "2015-10-02",
                                    "TotalItems": "745"
                                },
                                {
                                    "orderid": "27041",
                                    "customerid": "417",
                                    "orderdate": "2014-05-15",
                                    "TotalItems": "744"
                                },
                                {
                                    "orderid": "3126",
                                    "customerid": "851",
                                    "orderdate": "2013-03-06",
                                    "TotalItems": "728"
                                },
                                {
                                    "orderid": "5040",
                                    "customerid": "972",
                                    "orderdate": "2013-04-10",
                                    "TotalItems": "728"
                                },
                                {
                                    "orderid": "5591",
                                    "customerid": "802",
                                    "orderdate": "2013-04-19",
                                    "TotalItems": "726"
                                },
                                {
                                    "orderid": "72717",
                                    "customerid": "3",
                                    "orderdate": "2016-05-19",
                                    "TotalItems": "723"
                                },
                                {
                                    "orderid": "11587",
                                    "customerid": "448",
                                    "orderdate": "2013-08-01",
                                    "TotalItems": "723"
                                },
                                {
                                    "orderid": "44360",
                                    "customerid": "60",
                                    "orderdate": "2015-03-04",
                                    "TotalItems": "710"
                                },
                                {
                                    "orderid": "35508",
                                    "customerid": "810",
                                    "orderdate": "2014-10-07",
                                    "TotalItems": "704"
                                },
                                {
                                    "orderid": "62425",
                                    "customerid": "1054",
                                    "orderdate": "2015-12-07",
                                    "TotalItems": "704"
                                },
                                {
                                    "orderid": "1634",
                                    "customerid": "995",
                                    "orderdate": "2013-01-31",
                                    "TotalItems": "703"
                                },
                                {
                                    "orderid": "73305",
                                    "customerid": "144",
                                    "orderdate": "2016-05-27",
                                    "TotalItems": "702"
                                },
                                {
                                    "orderid": "65921",
                                    "customerid": "1017",
                                    "orderdate": "2016-02-01",
                                    "TotalItems": "702"
                                },
                                {
                                    "orderid": "45315",
                                    "customerid": "475",
                                    "orderdate": "2015-03-19",
                                    "TotalItems": "699"
                                },
                                {
                                    "orderid": "49804",
                                    "customerid": "479",
                                    "orderdate": "2015-05-26",
                                    "TotalItems": "699"
                                },
                                {
                                    "orderid": "72500",
                                    "customerid": "137",
                                    "orderdate": "2016-05-14",
                                    "TotalItems": "698"
                                },
                                {
                                    "orderid": "16871",
                                    "customerid": "9",
                                    "orderdate": "2013-11-13",
                                    "TotalItems": "697"
                                },
                                {
                                    "orderid": "36075",
                                    "customerid": "146",
                                    "orderdate": "2014-10-16",
                                    "TotalItems": "696"
                                },
                                {
                                    "orderid": "8894",
                                    "customerid": "495",
                                    "orderdate": "2013-06-18",
                                    "TotalItems": "696"
                                },
                                {
                                    "orderid": "29678",
                                    "customerid": "13",
                                    "orderdate": "2014-06-26",
                                    "TotalItems": "694"
                                },
                                {
                                    "orderid": "2136",
                                    "customerid": "87",
                                    "orderdate": "2013-02-12",
                                    "TotalItems": "692"
                                },
                                {
                                    "orderid": "19003",
                                    "customerid": "549",
                                    "orderdate": "2013-12-24",
                                    "TotalItems": "690"
                                },
                                {
                                    "orderid": "59564",
                                    "customerid": "532",
                                    "orderdate": "2015-10-21",
                                    "TotalItems": "688"
                                },
                                {
                                    "orderid": "51038",
                                    "customerid": "412",
                                    "orderdate": "2015-06-11",
                                    "TotalItems": "686"
                                },
                                {
                                    "orderid": "25316",
                                    "customerid": "559",
                                    "orderdate": "2014-04-17",
                                    "TotalItems": "685"
                                },
                                {
                                    "orderid": "3689",
                                    "customerid": "836",
                                    "orderdate": "2013-03-15",
                                    "TotalItems": "673"
                                },
                                {
                                    "orderid": "8833",
                                    "customerid": "568",
                                    "orderdate": "2013-06-17",
                                    "TotalItems": "671"
                                },
                                {
                                    "orderid": "29226",
                                    "customerid": "498",
                                    "orderdate": "2014-06-19",
                                    "TotalItems": "670"
                                },
                                {
                                    "orderid": "12150",
                                    "customerid": "984",
                                    "orderdate": "2013-08-12",
                                    "TotalItems": "669"
                                },
                                {
                                    "orderid": "71517",
                                    "customerid": "815",
                                    "orderdate": "2016-04-30",
                                    "TotalItems": "669"
                                },
                                {
                                    "orderid": "28198",
                                    "customerid": "829",
                                    "orderdate": "2014-06-04",
                                    "TotalItems": "667"
                                },
                                {
                                    "orderid": "33622",
                                    "customerid": "981",
                                    "orderdate": "2014-09-02",
                                    "TotalItems": "667"
                                },
                                {
                                    "orderid": "11053",
                                    "customerid": "919",
                                    "orderdate": "2013-07-23",
                                    "TotalItems": "666"
                                },
                                {
                                    "orderid": "42083",
                                    "customerid": "11",
                                    "orderdate": "2015-01-26",
                                    "TotalItems": "662"
                                },
                                {
                                    "orderid": "58548",
                                    "customerid": "29",
                                    "orderdate": "2015-10-06",
                                    "TotalItems": "659"
                                },
                                {
                                    "orderid": "10732",
                                    "customerid": "427",
                                    "orderdate": "2013-07-17",
                                    "TotalItems": "653"
                                },
                                {
                                    "orderid": "41052",
                                    "customerid": "994",
                                    "orderdate": "2015-01-08",
                                    "TotalItems": "653"
                                },
                                {
                                    "orderid": "8121",
                                    "customerid": "116",
                                    "orderdate": "2013-06-04",
                                    "TotalItems": "653"
                                },
                                {
                                    "orderid": "12731",
                                    "customerid": "1005",
                                    "orderdate": "2013-08-24",
                                    "TotalItems": "652"
                                },
                                {
                                    "orderid": "24284",
                                    "customerid": "574",
                                    "orderdate": "2014-03-31",
                                    "TotalItems": "652"
                                },
                                {
                                    "orderid": "37619",
                                    "customerid": "584",
                                    "orderdate": "2014-11-10",
                                    "TotalItems": "650"
                                },
                                {
                                    "orderid": "48041",
                                    "customerid": "66",
                                    "orderdate": "2015-04-29",
                                    "TotalItems": "648"
                                },
                                {
                                    "orderid": "49819",
                                    "customerid": "809",
                                    "orderdate": "2015-05-26",
                                    "TotalItems": "646"
                                },
                                {
                                    "orderid": "12402",
                                    "customerid": "403",
                                    "orderdate": "2013-08-17",
                                    "TotalItems": "645"
                                },
                                {
                                    "orderid": "33805",
                                    "customerid": "410",
                                    "orderdate": "2014-09-04",
                                    "TotalItems": "643"
                                },
                                {
                                    "orderid": "19965",
                                    "customerid": "110",
                                    "orderdate": "2014-01-10",
                                    "TotalItems": "643"
                                },
                                {
                                    "orderid": "16341",
                                    "customerid": "61",
                                    "orderdate": "2013-11-01",
                                    "TotalItems": "643"
                                },
                                {
                                    "orderid": "4463",
                                    "customerid": "162",
                                    "orderdate": "2013-03-29",
                                    "TotalItems": "641"
                                },
                                {
                                    "orderid": "52901",
                                    "customerid": "459",
                                    "orderdate": "2015-07-11",
                                    "TotalItems": "641"
                                },
                                {
                                    "orderid": "30957",
                                    "customerid": "843",
                                    "orderdate": "2014-07-16",
                                    "TotalItems": "639"
                                },
                                {
                                    "orderid": "39188",
                                    "customerid": "997",
                                    "orderdate": "2014-12-09",
                                    "TotalItems": "639"
                                },
                                {
                                    "orderid": "30595",
                                    "customerid": "498",
                                    "orderdate": "2014-07-11",
                                    "TotalItems": "638"
                                },
                                {
                                    "orderid": "33882",
                                    "customerid": "509",
                                    "orderdate": "2014-09-06",
                                    "TotalItems": "638"
                                },
                                {
                                    "orderid": "26958",
                                    "customerid": "597",
                                    "orderdate": "2014-05-15",
                                    "TotalItems": "638"
                                },
                                {
                                    "orderid": "70799",
                                    "customerid": "1005",
                                    "orderdate": "2016-04-19",
                                    "TotalItems": "638"
                                },
                                {
                                    "orderid": "36296",
                                    "customerid": "420",
                                    "orderdate": "2014-10-20",
                                    "TotalItems": "636"
                                },
                                {
                                    "orderid": "9249",
                                    "customerid": "950",
                                    "orderdate": "2013-06-24",
                                    "TotalItems": "636"
                                },
                                {
                                    "orderid": "57371",
                                    "customerid": "1045",
                                    "orderdate": "2015-09-18",
                                    "TotalItems": "635"
                                },
                                {
                                    "orderid": "21184",
                                    "customerid": "193",
                                    "orderdate": "2014-01-31",
                                    "TotalItems": "631"
                                },
                                {
                                    "orderid": "7839",
                                    "customerid": "511",
                                    "orderdate": "2013-05-30",
                                    "TotalItems": "630"
                                },
                                {
                                    "orderid": "59420",
                                    "customerid": "501",
                                    "orderdate": "2015-10-20",
                                    "TotalItems": "630"
                                },
                                {
                                    "orderid": "17526",
                                    "customerid": "919",
                                    "orderdate": "2013-11-25",
                                    "TotalItems": "628"
                                },
                                {
                                    "orderid": "2141",
                                    "customerid": "186",
                                    "orderdate": "2013-02-12",
                                    "TotalItems": "627"
                                },
                                {
                                    "orderid": "56730",
                                    "customerid": "158",
                                    "orderdate": "2015-09-09",
                                    "TotalItems": "627"
                                },
                                {
                                    "orderid": "51771",
                                    "customerid": "909",
                                    "orderdate": "2015-06-25",
                                    "TotalItems": "625"
                                },
                                {
                                    "orderid": "3595",
                                    "customerid": "812",
                                    "orderdate": "2013-03-14",
                                    "TotalItems": "625"
                                },
                                {
                                    "orderid": "3228",
                                    "customerid": "40",
                                    "orderdate": "2013-03-07",
                                    "TotalItems": "625"
                                },
                                {
                                    "orderid": "6150",
                                    "customerid": "151",
                                    "orderdate": "2013-04-30",
                                    "TotalItems": "624"
                                },
                                {
                                    "orderid": "10761",
                                    "customerid": "932",
                                    "orderdate": "2013-07-17",
                                    "TotalItems": "623"
                                },
                                {
                                    "orderid": "42713",
                                    "customerid": "124",
                                    "orderdate": "2015-02-05",
                                    "TotalItems": "623"
                                },
                                {
                                    "orderid": "58416",
                                    "customerid": "959",
                                    "orderdate": "2015-10-05",
                                    "TotalItems": "623"
                                },
                                {
                                    "orderid": "7811",
                                    "customerid": "25",
                                    "orderdate": "2013-05-29",
                                    "TotalItems": "623"
                                },
                                {
                                    "orderid": "22954",
                                    "customerid": "1009",
                                    "orderdate": "2014-03-04",
                                    "TotalItems": "623"
                                },
                                {
                                    "orderid": "68819",
                                    "customerid": "584",
                                    "orderdate": "2016-03-22",
                                    "TotalItems": "622"
                                },
                                {
                                    "orderid": "72807",
                                    "customerid": "582",
                                    "orderdate": "2016-05-19",
                                    "TotalItems": "621"
                                },
                                {
                                    "orderid": "19755",
                                    "customerid": "447",
                                    "orderdate": "2014-01-06",
                                    "TotalItems": "620"
                                },
                                {
                                    "orderid": "66667",
                                    "customerid": "1015",
                                    "orderdate": "2016-02-15",
                                    "TotalItems": "620"
                                },
                                {
                                    "orderid": "65102",
                                    "customerid": "442",
                                    "orderdate": "2016-01-18",
                                    "TotalItems": "617"
                                },
                                {
                                    "orderid": "45469",
                                    "customerid": "591",
                                    "orderdate": "2015-03-21",
                                    "TotalItems": "616"
                                },
                                {
                                    "orderid": "17873",
                                    "customerid": "907",
                                    "orderdate": "2013-11-30",
                                    "TotalItems": "615"
                                },
                                {
                                    "orderid": "54139",
                                    "customerid": "22",
                                    "orderdate": "2015-07-29",
                                    "TotalItems": "613"
                                },
                                {
                                    "orderid": "49355",
                                    "customerid": "122",
                                    "orderdate": "2015-05-20",
                                    "TotalItems": "612"
                                },
                                {
                                    "orderid": "17639",
                                    "customerid": "461",
                                    "orderdate": "2013-11-26",
                                    "TotalItems": "610"
                                },
                                {
                                    "orderid": "71835",
                                    "customerid": "8",
                                    "orderdate": "2016-05-05",
                                    "TotalItems": "610"
                                },
                                {
                                    "orderid": "69153",
                                    "customerid": "524",
                                    "orderdate": "2016-03-25",
                                    "TotalItems": "608"
                                },
                                {
                                    "orderid": "46458",
                                    "customerid": "159",
                                    "orderdate": "2015-04-06",
                                    "TotalItems": "607"
                                },
                                {
                                    "orderid": "57510",
                                    "customerid": "552",
                                    "orderdate": "2015-09-21",
                                    "TotalItems": "607"
                                },
                                {
                                    "orderid": "71962",
                                    "customerid": "893",
                                    "orderdate": "2016-05-06",
                                    "TotalItems": "606"
                                },
                                {
                                    "orderid": "42716",
                                    "customerid": "102",
                                    "orderdate": "2015-02-05",
                                    "TotalItems": "605"
                                },
                                {
                                    "orderid": "8030",
                                    "customerid": "424",
                                    "orderdate": "2013-06-03",
                                    "TotalItems": "605"
                                },
                                {
                                    "orderid": "7688",
                                    "customerid": "133",
                                    "orderdate": "2013-05-28",
                                    "TotalItems": "605"
                                },
                                {
                                    "orderid": "8702",
                                    "customerid": "549",
                                    "orderdate": "2013-06-13",
                                    "TotalItems": "604"
                                },
                                {
                                    "orderid": "18912",
                                    "customerid": "451",
                                    "orderdate": "2013-12-21",
                                    "TotalItems": "604"
                                },
                                {
                                    "orderid": "17864",
                                    "customerid": "1008",
                                    "orderdate": "2013-11-30",
                                    "TotalItems": "603"
                                },
                                {
                                    "orderid": "45286",
                                    "customerid": "66",
                                    "orderdate": "2015-03-19",
                                    "TotalItems": "603"
                                },
                                {
                                    "orderid": "13665",
                                    "customerid": "446",
                                    "orderdate": "2013-09-11",
                                    "TotalItems": "603"
                                },
                                {
                                    "orderid": "18111",
                                    "customerid": "839",
                                    "orderdate": "2013-12-04",
                                    "TotalItems": "603"
                                },
                                {
                                    "orderid": "64401",
                                    "customerid": "125",
                                    "orderdate": "2016-01-07",
                                    "TotalItems": "602"
                                },
                                {
                                    "orderid": "28721",
                                    "customerid": "828",
                                    "orderdate": "2014-06-11",
                                    "TotalItems": "602"
                                },
                                {
                                    "orderid": "7840",
                                    "customerid": "42",
                                    "orderdate": "2013-05-30",
                                    "TotalItems": "601"
                                },
                                {
                                    "orderid": "41102",
                                    "customerid": "153",
                                    "orderdate": "2015-01-08",
                                    "TotalItems": "601"
                                },
                                {
                                    "orderid": "64561",
                                    "customerid": "102",
                                    "orderdate": "2016-01-08",
                                    "TotalItems": "601"
                                },
                                {
                                    "orderid": "66381",
                                    "customerid": "71",
                                    "orderdate": "2016-02-09",
                                    "TotalItems": "601"
                                },
                                {
                                    "orderid": "31129",
                                    "customerid": "15",
                                    "orderdate": "2014-07-19",
                                    "TotalItems": "601"
                                }
                            ]
                        },
                        "text/html": [
                            "<table>",
                            "<tr><th>orderid</th><th>customerid</th><th>orderdate</th><th>TotalItems</th></tr>",
                            "<tr><td>42479</td><td>980</td><td>2015-02-02</td><td>854</td></tr>",
                            "<tr><td>56910</td><td>1010</td><td>2015-09-11</td><td>795</td></tr>",
                            "<tr><td>24890</td><td>1003</td><td>2014-04-10</td><td>794</td></tr>",
                            "<tr><td>53643</td><td>950</td><td>2015-07-22</td><td>784</td></tr>",
                            "<tr><td>46297</td><td>90</td><td>2015-04-03</td><td>780</td></tr>",
                            "<tr><td>49643</td><td>432</td><td>2015-05-23</td><td>778</td></tr>",
                            "<tr><td>68751</td><td>1023</td><td>2016-03-21</td><td>766</td></tr>",
                            "<tr><td>42025</td><td>1038</td><td>2015-01-26</td><td>759</td></tr>",
                            "<tr><td>29868</td><td>132</td><td>2014-06-30</td><td>757</td></tr>",
                            "<tr><td>6849</td><td>63</td><td>2013-05-11</td><td>757</td></tr>",
                            "<tr><td>37667</td><td>890</td><td>2014-11-10</td><td>754</td></tr>",
                            "<tr><td>17559</td><td>409</td><td>2013-11-25</td><td>754</td></tr>",
                            "<tr><td>8711</td><td>829</td><td>2013-06-13</td><td>748</td></tr>",
                            "<tr><td>58268</td><td>558</td><td>2015-10-02</td><td>745</td></tr>",
                            "<tr><td>27041</td><td>417</td><td>2014-05-15</td><td>744</td></tr>",
                            "<tr><td>3126</td><td>851</td><td>2013-03-06</td><td>728</td></tr>",
                            "<tr><td>5040</td><td>972</td><td>2013-04-10</td><td>728</td></tr>",
                            "<tr><td>5591</td><td>802</td><td>2013-04-19</td><td>726</td></tr>",
                            "<tr><td>72717</td><td>3</td><td>2016-05-19</td><td>723</td></tr>",
                            "<tr><td>11587</td><td>448</td><td>2013-08-01</td><td>723</td></tr>",
                            "<tr><td>44360</td><td>60</td><td>2015-03-04</td><td>710</td></tr>",
                            "<tr><td>35508</td><td>810</td><td>2014-10-07</td><td>704</td></tr>",
                            "<tr><td>62425</td><td>1054</td><td>2015-12-07</td><td>704</td></tr>",
                            "<tr><td>1634</td><td>995</td><td>2013-01-31</td><td>703</td></tr>",
                            "<tr><td>73305</td><td>144</td><td>2016-05-27</td><td>702</td></tr>",
                            "<tr><td>65921</td><td>1017</td><td>2016-02-01</td><td>702</td></tr>",
                            "<tr><td>45315</td><td>475</td><td>2015-03-19</td><td>699</td></tr>",
                            "<tr><td>49804</td><td>479</td><td>2015-05-26</td><td>699</td></tr>",
                            "<tr><td>72500</td><td>137</td><td>2016-05-14</td><td>698</td></tr>",
                            "<tr><td>16871</td><td>9</td><td>2013-11-13</td><td>697</td></tr>",
                            "<tr><td>36075</td><td>146</td><td>2014-10-16</td><td>696</td></tr>",
                            "<tr><td>8894</td><td>495</td><td>2013-06-18</td><td>696</td></tr>",
                            "<tr><td>29678</td><td>13</td><td>2014-06-26</td><td>694</td></tr>",
                            "<tr><td>2136</td><td>87</td><td>2013-02-12</td><td>692</td></tr>",
                            "<tr><td>19003</td><td>549</td><td>2013-12-24</td><td>690</td></tr>",
                            "<tr><td>59564</td><td>532</td><td>2015-10-21</td><td>688</td></tr>",
                            "<tr><td>51038</td><td>412</td><td>2015-06-11</td><td>686</td></tr>",
                            "<tr><td>25316</td><td>559</td><td>2014-04-17</td><td>685</td></tr>",
                            "<tr><td>3689</td><td>836</td><td>2013-03-15</td><td>673</td></tr>",
                            "<tr><td>8833</td><td>568</td><td>2013-06-17</td><td>671</td></tr>",
                            "<tr><td>29226</td><td>498</td><td>2014-06-19</td><td>670</td></tr>",
                            "<tr><td>12150</td><td>984</td><td>2013-08-12</td><td>669</td></tr>",
                            "<tr><td>71517</td><td>815</td><td>2016-04-30</td><td>669</td></tr>",
                            "<tr><td>28198</td><td>829</td><td>2014-06-04</td><td>667</td></tr>",
                            "<tr><td>33622</td><td>981</td><td>2014-09-02</td><td>667</td></tr>",
                            "<tr><td>11053</td><td>919</td><td>2013-07-23</td><td>666</td></tr>",
                            "<tr><td>42083</td><td>11</td><td>2015-01-26</td><td>662</td></tr>",
                            "<tr><td>58548</td><td>29</td><td>2015-10-06</td><td>659</td></tr>",
                            "<tr><td>10732</td><td>427</td><td>2013-07-17</td><td>653</td></tr>",
                            "<tr><td>41052</td><td>994</td><td>2015-01-08</td><td>653</td></tr>",
                            "<tr><td>8121</td><td>116</td><td>2013-06-04</td><td>653</td></tr>",
                            "<tr><td>12731</td><td>1005</td><td>2013-08-24</td><td>652</td></tr>",
                            "<tr><td>24284</td><td>574</td><td>2014-03-31</td><td>652</td></tr>",
                            "<tr><td>37619</td><td>584</td><td>2014-11-10</td><td>650</td></tr>",
                            "<tr><td>48041</td><td>66</td><td>2015-04-29</td><td>648</td></tr>",
                            "<tr><td>49819</td><td>809</td><td>2015-05-26</td><td>646</td></tr>",
                            "<tr><td>12402</td><td>403</td><td>2013-08-17</td><td>645</td></tr>",
                            "<tr><td>33805</td><td>410</td><td>2014-09-04</td><td>643</td></tr>",
                            "<tr><td>19965</td><td>110</td><td>2014-01-10</td><td>643</td></tr>",
                            "<tr><td>16341</td><td>61</td><td>2013-11-01</td><td>643</td></tr>",
                            "<tr><td>4463</td><td>162</td><td>2013-03-29</td><td>641</td></tr>",
                            "<tr><td>52901</td><td>459</td><td>2015-07-11</td><td>641</td></tr>",
                            "<tr><td>30957</td><td>843</td><td>2014-07-16</td><td>639</td></tr>",
                            "<tr><td>39188</td><td>997</td><td>2014-12-09</td><td>639</td></tr>",
                            "<tr><td>30595</td><td>498</td><td>2014-07-11</td><td>638</td></tr>",
                            "<tr><td>33882</td><td>509</td><td>2014-09-06</td><td>638</td></tr>",
                            "<tr><td>26958</td><td>597</td><td>2014-05-15</td><td>638</td></tr>",
                            "<tr><td>70799</td><td>1005</td><td>2016-04-19</td><td>638</td></tr>",
                            "<tr><td>36296</td><td>420</td><td>2014-10-20</td><td>636</td></tr>",
                            "<tr><td>9249</td><td>950</td><td>2013-06-24</td><td>636</td></tr>",
                            "<tr><td>57371</td><td>1045</td><td>2015-09-18</td><td>635</td></tr>",
                            "<tr><td>21184</td><td>193</td><td>2014-01-31</td><td>631</td></tr>",
                            "<tr><td>7839</td><td>511</td><td>2013-05-30</td><td>630</td></tr>",
                            "<tr><td>59420</td><td>501</td><td>2015-10-20</td><td>630</td></tr>",
                            "<tr><td>17526</td><td>919</td><td>2013-11-25</td><td>628</td></tr>",
                            "<tr><td>2141</td><td>186</td><td>2013-02-12</td><td>627</td></tr>",
                            "<tr><td>56730</td><td>158</td><td>2015-09-09</td><td>627</td></tr>",
                            "<tr><td>51771</td><td>909</td><td>2015-06-25</td><td>625</td></tr>",
                            "<tr><td>3595</td><td>812</td><td>2013-03-14</td><td>625</td></tr>",
                            "<tr><td>3228</td><td>40</td><td>2013-03-07</td><td>625</td></tr>",
                            "<tr><td>6150</td><td>151</td><td>2013-04-30</td><td>624</td></tr>",
                            "<tr><td>10761</td><td>932</td><td>2013-07-17</td><td>623</td></tr>",
                            "<tr><td>42713</td><td>124</td><td>2015-02-05</td><td>623</td></tr>",
                            "<tr><td>58416</td><td>959</td><td>2015-10-05</td><td>623</td></tr>",
                            "<tr><td>7811</td><td>25</td><td>2013-05-29</td><td>623</td></tr>",
                            "<tr><td>22954</td><td>1009</td><td>2014-03-04</td><td>623</td></tr>",
                            "<tr><td>68819</td><td>584</td><td>2016-03-22</td><td>622</td></tr>",
                            "<tr><td>72807</td><td>582</td><td>2016-05-19</td><td>621</td></tr>",
                            "<tr><td>19755</td><td>447</td><td>2014-01-06</td><td>620</td></tr>",
                            "<tr><td>66667</td><td>1015</td><td>2016-02-15</td><td>620</td></tr>",
                            "<tr><td>65102</td><td>442</td><td>2016-01-18</td><td>617</td></tr>",
                            "<tr><td>45469</td><td>591</td><td>2015-03-21</td><td>616</td></tr>",
                            "<tr><td>17873</td><td>907</td><td>2013-11-30</td><td>615</td></tr>",
                            "<tr><td>54139</td><td>22</td><td>2015-07-29</td><td>613</td></tr>",
                            "<tr><td>49355</td><td>122</td><td>2015-05-20</td><td>612</td></tr>",
                            "<tr><td>17639</td><td>461</td><td>2013-11-26</td><td>610</td></tr>",
                            "<tr><td>71835</td><td>8</td><td>2016-05-05</td><td>610</td></tr>",
                            "<tr><td>69153</td><td>524</td><td>2016-03-25</td><td>608</td></tr>",
                            "<tr><td>46458</td><td>159</td><td>2015-04-06</td><td>607</td></tr>",
                            "<tr><td>57510</td><td>552</td><td>2015-09-21</td><td>607</td></tr>",
                            "<tr><td>71962</td><td>893</td><td>2016-05-06</td><td>606</td></tr>",
                            "<tr><td>42716</td><td>102</td><td>2015-02-05</td><td>605</td></tr>",
                            "<tr><td>8030</td><td>424</td><td>2013-06-03</td><td>605</td></tr>",
                            "<tr><td>7688</td><td>133</td><td>2013-05-28</td><td>605</td></tr>",
                            "<tr><td>8702</td><td>549</td><td>2013-06-13</td><td>604</td></tr>",
                            "<tr><td>18912</td><td>451</td><td>2013-12-21</td><td>604</td></tr>",
                            "<tr><td>17864</td><td>1008</td><td>2013-11-30</td><td>603</td></tr>",
                            "<tr><td>45286</td><td>66</td><td>2015-03-19</td><td>603</td></tr>",
                            "<tr><td>13665</td><td>446</td><td>2013-09-11</td><td>603</td></tr>",
                            "<tr><td>18111</td><td>839</td><td>2013-12-04</td><td>603</td></tr>",
                            "<tr><td>64401</td><td>125</td><td>2016-01-07</td><td>602</td></tr>",
                            "<tr><td>28721</td><td>828</td><td>2014-06-11</td><td>602</td></tr>",
                            "<tr><td>7840</td><td>42</td><td>2013-05-30</td><td>601</td></tr>",
                            "<tr><td>41102</td><td>153</td><td>2015-01-08</td><td>601</td></tr>",
                            "<tr><td>64561</td><td>102</td><td>2016-01-08</td><td>601</td></tr>",
                            "<tr><td>66381</td><td>71</td><td>2016-02-09</td><td>601</td></tr>",
                            "<tr><td>31129</td><td>15</td><td>2014-07-19</td><td>601</td></tr>",
                            "</table>"
                        ]
                    }
                }
            ],
            "execution_count": 32
        },
        {
            "cell_type": "markdown",
            "source": [
                "**Proposition 9**\n",
                "\n",
                "\"Find the most recent transactiosn from each customer\"\n",
                "\n",
                "This query gets all the customers and notes their most recent transactions\n",
                "\n",
                "\\- We use a table expression WITH, called RecentTransactions\n",
                "\n",
                "\\- In the table exppression we get the table of CustomerTransactions with the FROM clause\n",
                "\n",
                "\\- Then in SELECT we get the most recent transaction with the MAX function on their transaction date aliased as LatestTransaction\n",
                "\n",
                "\\- We group by customerID to associate the customer with the latest transaction\n",
                "\n",
                "\\- In our main query, we use FROM to get the list of customers \n",
                "\n",
                "\\- Using JOIN we get our customerids from Customers table to connect with the customerIDs from our table expression\n",
                "\n",
                "\\- Now that we have an association we ORDER BY latest transactions descending to get the latest transaction and their respective customername"
            ],
            "metadata": {
                "language": "sql",
                "azdata_cell_guid": "885c1b1d-a079-4645-8006-a05c5b51dcfd"
            },
            "attachments": {}
        },
        {
            "cell_type": "code",
            "source": [
                "WITH RecentTransactions AS (\n",
                "    SELECT customerid, MAX(transactiondate) AS LatestTransaction\n",
                "    FROM Sales.CustomerTransactions\n",
                "    GROUP BY customerid\n",
                ")\n",
                "SELECT c.customerid, c.customername, rt.LatestTransaction\n",
                "FROM Sales.Customers c\n",
                "JOIN RecentTransactions rt ON c.customerid = rt.customerid\n",
                "ORDER BY LatestTransaction DESC"
            ],
            "metadata": {
                "language": "sql",
                "azdata_cell_guid": "64daa019-09c6-40ac-9d55-ecf5ebb6c721"
            },
            "outputs": [
                {
                    "output_type": "display_data",
                    "data": {
                        "text/html": "(263 rows affected)"
                    },
                    "metadata": {}
                },
                {
                    "output_type": "display_data",
                    "data": {
                        "text/html": "Total execution time: 00:00:00.049"
                    },
                    "metadata": {}
                },
                {
                    "output_type": "execute_result",
                    "metadata": {},
                    "execution_count": 52,
                    "data": {
                        "application/vnd.dataresource+json": {
                            "schema": {
                                "fields": [
                                    {
                                        "name": "customerid"
                                    },
                                    {
                                        "name": "customername"
                                    },
                                    {
                                        "name": "LatestTransaction"
                                    }
                                ]
                            },
                            "data": [
                                {
                                    "customerid": "1",
                                    "customername": "Tailspin Toys (Head Office)",
                                    "LatestTransaction": "2016-05-31"
                                },
                                {
                                    "customerid": "401",
                                    "customername": "Wingtip Toys (Head Office)",
                                    "LatestTransaction": "2016-05-31"
                                },
                                {
                                    "customerid": "801",
                                    "customername": "Eric Torres",
                                    "LatestTransaction": "2016-05-31"
                                },
                                {
                                    "customerid": "802",
                                    "customername": "Cosmina Vlad",
                                    "LatestTransaction": "2016-05-31"
                                },
                                {
                                    "customerid": "810",
                                    "customername": "Alena Kellnerova",
                                    "LatestTransaction": "2016-05-31"
                                },
                                {
                                    "customerid": "813",
                                    "customername": "Shyam Poddar",
                                    "LatestTransaction": "2016-05-31"
                                },
                                {
                                    "customerid": "822",
                                    "customername": "Suparna Bhattacharya",
                                    "LatestTransaction": "2016-05-31"
                                },
                                {
                                    "customerid": "826",
                                    "customername": "Leila Carvalho",
                                    "LatestTransaction": "2016-05-31"
                                },
                                {
                                    "customerid": "827",
                                    "customername": "Crina Grasu",
                                    "LatestTransaction": "2016-05-31"
                                },
                                {
                                    "customerid": "829",
                                    "customername": "Jack Walker",
                                    "LatestTransaction": "2016-05-31"
                                },
                                {
                                    "customerid": "834",
                                    "customername": "Cong Hoa",
                                    "LatestTransaction": "2016-05-31"
                                },
                                {
                                    "customerid": "835",
                                    "customername": "Dominic Davignon",
                                    "LatestTransaction": "2016-05-31"
                                },
                                {
                                    "customerid": "838",
                                    "customername": "Pavel Bogdanov",
                                    "LatestTransaction": "2016-05-31"
                                },
                                {
                                    "customerid": "840",
                                    "customername": "Rodrigo Figueiredo",
                                    "LatestTransaction": "2016-05-31"
                                },
                                {
                                    "customerid": "847",
                                    "customername": "Kristiina Ivanov",
                                    "LatestTransaction": "2016-05-31"
                                },
                                {
                                    "customerid": "848",
                                    "customername": "Alvin Bollinger",
                                    "LatestTransaction": "2016-05-31"
                                },
                                {
                                    "customerid": "849",
                                    "customername": "Sabine Zalite",
                                    "LatestTransaction": "2016-05-31"
                                },
                                {
                                    "customerid": "856",
                                    "customername": "Satish Mittal",
                                    "LatestTransaction": "2016-05-31"
                                },
                                {
                                    "customerid": "853",
                                    "customername": "Caterina Pinto",
                                    "LatestTransaction": "2016-05-31"
                                },
                                {
                                    "customerid": "860",
                                    "customername": "Marcela Lucescu",
                                    "LatestTransaction": "2016-05-31"
                                },
                                {
                                    "customerid": "862",
                                    "customername": "Lana Goransson",
                                    "LatestTransaction": "2016-05-31"
                                },
                                {
                                    "customerid": "873",
                                    "customername": "Hana Hlouskova",
                                    "LatestTransaction": "2016-05-31"
                                },
                                {
                                    "customerid": "874",
                                    "customername": "Daniel Martensson",
                                    "LatestTransaction": "2016-05-31"
                                },
                                {
                                    "customerid": "890",
                                    "customername": "Olya Izmaylov",
                                    "LatestTransaction": "2016-05-31"
                                },
                                {
                                    "customerid": "891",
                                    "customername": "Taneli Riutta",
                                    "LatestTransaction": "2016-05-31"
                                },
                                {
                                    "customerid": "895",
                                    "customername": "Geza Roman",
                                    "LatestTransaction": "2016-05-31"
                                },
                                {
                                    "customerid": "900",
                                    "customername": "Lilli Sokk",
                                    "LatestTransaction": "2016-05-31"
                                },
                                {
                                    "customerid": "910",
                                    "customername": "Elina Kaleja",
                                    "LatestTransaction": "2016-05-31"
                                },
                                {
                                    "customerid": "911",
                                    "customername": "Liidia Lepp",
                                    "LatestTransaction": "2016-05-31"
                                },
                                {
                                    "customerid": "915",
                                    "customername": "Ana Florea",
                                    "LatestTransaction": "2016-05-31"
                                },
                                {
                                    "customerid": "919",
                                    "customername": "Kertu Sokk",
                                    "LatestTransaction": "2016-05-31"
                                },
                                {
                                    "customerid": "907",
                                    "customername": "Eugen Agafitei",
                                    "LatestTransaction": "2016-05-31"
                                },
                                {
                                    "customerid": "925",
                                    "customername": "Can ozcan",
                                    "LatestTransaction": "2016-05-31"
                                },
                                {
                                    "customerid": "927",
                                    "customername": "Matyas Sedlar",
                                    "LatestTransaction": "2016-05-31"
                                },
                                {
                                    "customerid": "929",
                                    "customername": "Vladimir Henzl",
                                    "LatestTransaction": "2016-05-31"
                                },
                                {
                                    "customerid": "930",
                                    "customername": "Shantanu Huq",
                                    "LatestTransaction": "2016-05-31"
                                },
                                {
                                    "customerid": "933",
                                    "customername": "Joel Carrillo",
                                    "LatestTransaction": "2016-05-31"
                                },
                                {
                                    "customerid": "937",
                                    "customername": "Manca Hrastovsek",
                                    "LatestTransaction": "2016-05-31"
                                },
                                {
                                    "customerid": "940",
                                    "customername": "Lorin Astrom",
                                    "LatestTransaction": "2016-05-31"
                                },
                                {
                                    "customerid": "945",
                                    "customername": "Hoc Tran",
                                    "LatestTransaction": "2016-05-31"
                                },
                                {
                                    "customerid": "953",
                                    "customername": "Linh Dao",
                                    "LatestTransaction": "2016-05-31"
                                },
                                {
                                    "customerid": "956",
                                    "customername": "Nhung Thach",
                                    "LatestTransaction": "2016-05-31"
                                },
                                {
                                    "customerid": "959",
                                    "customername": "Dhaatri Chavva",
                                    "LatestTransaction": "2016-05-31"
                                },
                                {
                                    "customerid": "961",
                                    "customername": "Rani Ganguly",
                                    "LatestTransaction": "2016-05-31"
                                },
                                {
                                    "customerid": "963",
                                    "customername": "Be Trang",
                                    "LatestTransaction": "2016-05-31"
                                },
                                {
                                    "customerid": "966",
                                    "customername": "Sara Walkky",
                                    "LatestTransaction": "2016-05-31"
                                },
                                {
                                    "customerid": "967",
                                    "customername": "Meera Patel",
                                    "LatestTransaction": "2016-05-31"
                                },
                                {
                                    "customerid": "972",
                                    "customername": "Lakshmi Benipal",
                                    "LatestTransaction": "2016-05-31"
                                },
                                {
                                    "customerid": "975",
                                    "customername": "Prabodh Nair",
                                    "LatestTransaction": "2016-05-31"
                                },
                                {
                                    "customerid": "978",
                                    "customername": "Baalaamjali Devulapalli",
                                    "LatestTransaction": "2016-05-31"
                                },
                                {
                                    "customerid": "983",
                                    "customername": "Sabine Alksne",
                                    "LatestTransaction": "2016-05-31"
                                },
                                {
                                    "customerid": "986",
                                    "customername": "Neil Farrelly",
                                    "LatestTransaction": "2016-05-31"
                                },
                                {
                                    "customerid": "987",
                                    "customername": "Akhil Nadar",
                                    "LatestTransaction": "2016-05-31"
                                },
                                {
                                    "customerid": "989",
                                    "customername": "Milinka Zujovic",
                                    "LatestTransaction": "2016-05-31"
                                },
                                {
                                    "customerid": "995",
                                    "customername": "Kumar Naicker",
                                    "LatestTransaction": "2016-05-31"
                                },
                                {
                                    "customerid": "993",
                                    "customername": "Gasper Havzija",
                                    "LatestTransaction": "2016-05-31"
                                },
                                {
                                    "customerid": "1004",
                                    "customername": "Drishti Bose",
                                    "LatestTransaction": "2016-05-31"
                                },
                                {
                                    "customerid": "1010",
                                    "customername": "Serdar ozCelik",
                                    "LatestTransaction": "2016-05-31"
                                },
                                {
                                    "customerid": "1014",
                                    "customername": "Narendra Tickoo",
                                    "LatestTransaction": "2016-05-31"
                                },
                                {
                                    "customerid": "1015",
                                    "customername": "Isa Hulsegge",
                                    "LatestTransaction": "2016-05-31"
                                },
                                {
                                    "customerid": "1018",
                                    "customername": "Nils Kaulins",
                                    "LatestTransaction": "2016-05-31"
                                },
                                {
                                    "customerid": "1025",
                                    "customername": "Tuulikki Linna",
                                    "LatestTransaction": "2016-05-31"
                                },
                                {
                                    "customerid": "1028",
                                    "customername": "Emma Van Zant",
                                    "LatestTransaction": "2016-05-31"
                                },
                                {
                                    "customerid": "1029",
                                    "customername": "Veronika Necesana",
                                    "LatestTransaction": "2016-05-31"
                                },
                                {
                                    "customerid": "1040",
                                    "customername": "Damodar Shenoy",
                                    "LatestTransaction": "2016-05-31"
                                },
                                {
                                    "customerid": "1053",
                                    "customername": "Luis Saucedo",
                                    "LatestTransaction": "2016-05-31"
                                },
                                {
                                    "customerid": "1054",
                                    "customername": "Emma Salpa",
                                    "LatestTransaction": "2016-05-31"
                                },
                                {
                                    "customerid": "1059",
                                    "customername": "Jibek Juniskyzy",
                                    "LatestTransaction": "2016-05-31"
                                },
                                {
                                    "customerid": "1051",
                                    "customername": "Sylvie Laramee",
                                    "LatestTransaction": "2016-05-29"
                                },
                                {
                                    "customerid": "1036",
                                    "customername": "Erik Malk",
                                    "LatestTransaction": "2016-05-29"
                                },
                                {
                                    "customerid": "1000",
                                    "customername": "Krishnam Allu",
                                    "LatestTransaction": "2016-05-29"
                                },
                                {
                                    "customerid": "901",
                                    "customername": "Adrian Andreasson",
                                    "LatestTransaction": "2016-05-29"
                                },
                                {
                                    "customerid": "875",
                                    "customername": "Philip Walker",
                                    "LatestTransaction": "2016-05-29"
                                },
                                {
                                    "customerid": "867",
                                    "customername": "Jasna Cerkez",
                                    "LatestTransaction": "2016-05-29"
                                },
                                {
                                    "customerid": "843",
                                    "customername": "Marija Justina Pasek",
                                    "LatestTransaction": "2016-05-28"
                                },
                                {
                                    "customerid": "828",
                                    "customername": "Sercan Celik",
                                    "LatestTransaction": "2016-05-28"
                                },
                                {
                                    "customerid": "821",
                                    "customername": "Kwanjai Saowaluk",
                                    "LatestTransaction": "2016-05-28"
                                },
                                {
                                    "customerid": "832",
                                    "customername": "Aakriti Byrraju",
                                    "LatestTransaction": "2016-05-28"
                                },
                                {
                                    "customerid": "824",
                                    "customername": "Risto Valbe",
                                    "LatestTransaction": "2016-05-28"
                                },
                                {
                                    "customerid": "817",
                                    "customername": "Agrita Kanepa",
                                    "LatestTransaction": "2016-05-28"
                                },
                                {
                                    "customerid": "885",
                                    "customername": "Chandrashekhar Dasgupta",
                                    "LatestTransaction": "2016-05-28"
                                },
                                {
                                    "customerid": "899",
                                    "customername": "Chin-Sun Chang",
                                    "LatestTransaction": "2016-05-28"
                                },
                                {
                                    "customerid": "897",
                                    "customername": "Allan Mannik",
                                    "LatestTransaction": "2016-05-28"
                                },
                                {
                                    "customerid": "939",
                                    "customername": "Ioana Florea",
                                    "LatestTransaction": "2016-05-28"
                                },
                                {
                                    "customerid": "916",
                                    "customername": "Pinja Jantunen",
                                    "LatestTransaction": "2016-05-28"
                                },
                                {
                                    "customerid": "912",
                                    "customername": "Volkan senturk",
                                    "LatestTransaction": "2016-05-28"
                                },
                                {
                                    "customerid": "1002",
                                    "customername": "Stefan Selezeanu",
                                    "LatestTransaction": "2016-05-28"
                                },
                                {
                                    "customerid": "996",
                                    "customername": "Laszlo Gardenier",
                                    "LatestTransaction": "2016-05-28"
                                },
                                {
                                    "customerid": "985",
                                    "customername": "Roko Ilic",
                                    "LatestTransaction": "2016-05-28"
                                },
                                {
                                    "customerid": "974",
                                    "customername": "Emil Roman",
                                    "LatestTransaction": "2016-05-28"
                                },
                                {
                                    "customerid": "977",
                                    "customername": "Mauno Laurila",
                                    "LatestTransaction": "2016-05-28"
                                },
                                {
                                    "customerid": "965",
                                    "customername": "Phoung Cu",
                                    "LatestTransaction": "2016-05-28"
                                },
                                {
                                    "customerid": "1038",
                                    "customername": "Damodara Trivedi",
                                    "LatestTransaction": "2016-05-28"
                                },
                                {
                                    "customerid": "1031",
                                    "customername": "Dipti Shah",
                                    "LatestTransaction": "2016-05-28"
                                },
                                {
                                    "customerid": "1012",
                                    "customername": "Urve Kasesalu",
                                    "LatestTransaction": "2016-05-28"
                                },
                                {
                                    "customerid": "1016",
                                    "customername": "Aive Petrov",
                                    "LatestTransaction": "2016-05-28"
                                },
                                {
                                    "customerid": "1007",
                                    "customername": "Irma Berzina",
                                    "LatestTransaction": "2016-05-28"
                                },
                                {
                                    "customerid": "1052",
                                    "customername": "Ian Olofsson",
                                    "LatestTransaction": "2016-05-28"
                                },
                                {
                                    "customerid": "1048",
                                    "customername": "Abhra Ganguly",
                                    "LatestTransaction": "2016-05-28"
                                },
                                {
                                    "customerid": "1046",
                                    "customername": "Christian Couet",
                                    "LatestTransaction": "2016-05-28"
                                },
                                {
                                    "customerid": "1057",
                                    "customername": "Ganesh Majumdar",
                                    "LatestTransaction": "2016-05-28"
                                },
                                {
                                    "customerid": "1055",
                                    "customername": "Adriana Pena",
                                    "LatestTransaction": "2016-05-28"
                                },
                                {
                                    "customerid": "1061",
                                    "customername": "Agrita Abele",
                                    "LatestTransaction": "2016-05-28"
                                },
                                {
                                    "customerid": "1058",
                                    "customername": "Jaroslav Fisar",
                                    "LatestTransaction": "2016-05-27"
                                },
                                {
                                    "customerid": "1017",
                                    "customername": "David Novacek ",
                                    "LatestTransaction": "2016-05-27"
                                },
                                {
                                    "customerid": "1019",
                                    "customername": "Dhanishta Pullela",
                                    "LatestTransaction": "2016-05-27"
                                },
                                {
                                    "customerid": "1021",
                                    "customername": "Fabrice Cloutier",
                                    "LatestTransaction": "2016-05-27"
                                },
                                {
                                    "customerid": "1033",
                                    "customername": "Cuneyt Arslan",
                                    "LatestTransaction": "2016-05-27"
                                },
                                {
                                    "customerid": "1034",
                                    "customername": "Aishwarya Dantuluri",
                                    "LatestTransaction": "2016-05-27"
                                },
                                {
                                    "customerid": "1039",
                                    "customername": "Bhaamini Palagummi",
                                    "LatestTransaction": "2016-05-27"
                                },
                                {
                                    "customerid": "1024",
                                    "customername": "Arka Chatterjee",
                                    "LatestTransaction": "2016-05-27"
                                },
                                {
                                    "customerid": "949",
                                    "customername": "Seo-yun Paik",
                                    "LatestTransaction": "2016-05-27"
                                },
                                {
                                    "customerid": "950",
                                    "customername": "Emily Whittle",
                                    "LatestTransaction": "2016-05-27"
                                },
                                {
                                    "customerid": "988",
                                    "customername": "Maksims Krastins",
                                    "LatestTransaction": "2016-05-27"
                                },
                                {
                                    "customerid": "991",
                                    "customername": "Valter Viiding",
                                    "LatestTransaction": "2016-05-27"
                                },
                                {
                                    "customerid": "1001",
                                    "customername": "Dinh Mai",
                                    "LatestTransaction": "2016-05-27"
                                },
                                {
                                    "customerid": "994",
                                    "customername": "Libuse Kuchtova",
                                    "LatestTransaction": "2016-05-27"
                                },
                                {
                                    "customerid": "935",
                                    "customername": "Daevasree Samavedam",
                                    "LatestTransaction": "2016-05-27"
                                },
                                {
                                    "customerid": "931",
                                    "customername": "Nada Jovanovic",
                                    "LatestTransaction": "2016-05-27"
                                },
                                {
                                    "customerid": "904",
                                    "customername": "Olafs Rozitis",
                                    "LatestTransaction": "2016-05-27"
                                },
                                {
                                    "customerid": "882",
                                    "customername": "Maryann Huddleston",
                                    "LatestTransaction": "2016-05-27"
                                },
                                {
                                    "customerid": "804",
                                    "customername": "Aleksandrs Riekstins",
                                    "LatestTransaction": "2016-05-27"
                                },
                                {
                                    "customerid": "850",
                                    "customername": "Daakshaayaani Sankaramanchi",
                                    "LatestTransaction": "2016-05-27"
                                },
                                {
                                    "customerid": "836",
                                    "customername": "Abel Spirlea",
                                    "LatestTransaction": "2016-05-27"
                                },
                                {
                                    "customerid": "837",
                                    "customername": "Anil Sarkar",
                                    "LatestTransaction": "2016-05-27"
                                },
                                {
                                    "customerid": "863",
                                    "customername": "Jakub Lukes",
                                    "LatestTransaction": "2016-05-27"
                                },
                                {
                                    "customerid": "868",
                                    "customername": "Laura Sykorova",
                                    "LatestTransaction": "2016-05-26"
                                },
                                {
                                    "customerid": "851",
                                    "customername": "Ebru Erdogan",
                                    "LatestTransaction": "2016-05-26"
                                },
                                {
                                    "customerid": "806",
                                    "customername": "Shi Tu",
                                    "LatestTransaction": "2016-05-26"
                                },
                                {
                                    "customerid": "884",
                                    "customername": "Anindya Ghatak",
                                    "LatestTransaction": "2016-05-26"
                                },
                                {
                                    "customerid": "887",
                                    "customername": "Baran Jonsson",
                                    "LatestTransaction": "2016-05-26"
                                },
                                {
                                    "customerid": "896",
                                    "customername": "Leonardo Folliero",
                                    "LatestTransaction": "2016-05-26"
                                },
                                {
                                    "customerid": "990",
                                    "customername": "Andris Saulitis",
                                    "LatestTransaction": "2016-05-26"
                                },
                                {
                                    "customerid": "948",
                                    "customername": "Richard Zahradnicek",
                                    "LatestTransaction": "2016-05-26"
                                },
                                {
                                    "customerid": "1041",
                                    "customername": "Tomo Vidovic",
                                    "LatestTransaction": "2016-05-26"
                                },
                                {
                                    "customerid": "1013",
                                    "customername": "Annette  Hetu",
                                    "LatestTransaction": "2016-05-26"
                                },
                                {
                                    "customerid": "1047",
                                    "customername": "Ivana Hadrabova",
                                    "LatestTransaction": "2016-05-26"
                                },
                                {
                                    "customerid": "1044",
                                    "customername": "Hanita Nookala",
                                    "LatestTransaction": "2016-05-26"
                                },
                                {
                                    "customerid": "1060",
                                    "customername": "Anand Mudaliyar",
                                    "LatestTransaction": "2016-05-25"
                                },
                                {
                                    "customerid": "1035",
                                    "customername": "Manjunatha Karnik",
                                    "LatestTransaction": "2016-05-25"
                                },
                                {
                                    "customerid": "951",
                                    "customername": "Eliza Persson",
                                    "LatestTransaction": "2016-05-25"
                                },
                                {
                                    "customerid": "971",
                                    "customername": "Dhanishta Mokkapati",
                                    "LatestTransaction": "2016-05-25"
                                },
                                {
                                    "customerid": "888",
                                    "customername": "Jai Lamble",
                                    "LatestTransaction": "2016-05-25"
                                },
                                {
                                    "customerid": "876",
                                    "customername": "Marie LeBatelier",
                                    "LatestTransaction": "2016-05-25"
                                },
                                {
                                    "customerid": "877",
                                    "customername": "Leyla Siavashi",
                                    "LatestTransaction": "2016-05-25"
                                },
                                {
                                    "customerid": "866",
                                    "customername": "Jay Bhuiyan",
                                    "LatestTransaction": "2016-05-25"
                                },
                                {
                                    "customerid": "906",
                                    "customername": "Ajitaab Pakalapati",
                                    "LatestTransaction": "2016-05-25"
                                },
                                {
                                    "customerid": "913",
                                    "customername": "Violetta KlanCisar",
                                    "LatestTransaction": "2016-05-25"
                                },
                                {
                                    "customerid": "823",
                                    "customername": "Francisca Laureano",
                                    "LatestTransaction": "2016-05-25"
                                },
                                {
                                    "customerid": "831",
                                    "customername": "Bhaavan Rai",
                                    "LatestTransaction": "2016-05-25"
                                },
                                {
                                    "customerid": "844",
                                    "customername": "Durdanah Abbasi",
                                    "LatestTransaction": "2016-05-25"
                                },
                                {
                                    "customerid": "861",
                                    "customername": "Amarasimha Vinjamuri",
                                    "LatestTransaction": "2016-05-25"
                                },
                                {
                                    "customerid": "857",
                                    "customername": "Clarissa Manfrin",
                                    "LatestTransaction": "2016-05-24"
                                },
                                {
                                    "customerid": "818",
                                    "customername": "Liia Orav",
                                    "LatestTransaction": "2016-05-24"
                                },
                                {
                                    "customerid": "883",
                                    "customername": "Radha Barua",
                                    "LatestTransaction": "2016-05-24"
                                },
                                {
                                    "customerid": "894",
                                    "customername": "Gabriela Hernandes",
                                    "LatestTransaction": "2016-05-24"
                                },
                                {
                                    "customerid": "902",
                                    "customername": "Kamila Michnova",
                                    "LatestTransaction": "2016-05-24"
                                },
                                {
                                    "customerid": "903",
                                    "customername": "Bing Han",
                                    "LatestTransaction": "2016-05-24"
                                },
                                {
                                    "customerid": "964",
                                    "customername": "Ingrida Zeltina",
                                    "LatestTransaction": "2016-05-24"
                                },
                                {
                                    "customerid": "1043",
                                    "customername": "Raj Verma",
                                    "LatestTransaction": "2016-05-24"
                                },
                                {
                                    "customerid": "1037",
                                    "customername": "David Jaramillo",
                                    "LatestTransaction": "2016-05-24"
                                },
                                {
                                    "customerid": "976",
                                    "customername": "Alinne Matos",
                                    "LatestTransaction": "2016-05-22"
                                },
                                {
                                    "customerid": "982",
                                    "customername": "Yves Belisle",
                                    "LatestTransaction": "2016-05-21"
                                },
                                {
                                    "customerid": "980",
                                    "customername": "Om Yadav",
                                    "LatestTransaction": "2016-05-21"
                                },
                                {
                                    "customerid": "955",
                                    "customername": "Raghu Sandhu",
                                    "LatestTransaction": "2016-05-21"
                                },
                                {
                                    "customerid": "1026",
                                    "customername": "Daniella Cavalcante",
                                    "LatestTransaction": "2016-05-21"
                                },
                                {
                                    "customerid": "1011",
                                    "customername": "Rajeev Sandhu",
                                    "LatestTransaction": "2016-05-21"
                                },
                                {
                                    "customerid": "908",
                                    "customername": "Sumati Bhat",
                                    "LatestTransaction": "2016-05-21"
                                },
                                {
                                    "customerid": "920",
                                    "customername": "Gayatri Gajula",
                                    "LatestTransaction": "2016-05-21"
                                },
                                {
                                    "customerid": "842",
                                    "customername": "Biju Deb",
                                    "LatestTransaction": "2016-05-21"
                                },
                                {
                                    "customerid": "852",
                                    "customername": "Bhagavaan Atluri",
                                    "LatestTransaction": "2016-05-21"
                                },
                                {
                                    "customerid": "865",
                                    "customername": "Bijoya Thakur",
                                    "LatestTransaction": "2016-05-20"
                                },
                                {
                                    "customerid": "858",
                                    "customername": "Bimla PrabhupÄda",
                                    "LatestTransaction": "2016-05-20"
                                },
                                {
                                    "customerid": "854",
                                    "customername": "Daakshaayaani Kommineni",
                                    "LatestTransaction": "2016-05-20"
                                },
                                {
                                    "customerid": "814",
                                    "customername": "Johanna Hoornstra",
                                    "LatestTransaction": "2016-05-20"
                                },
                                {
                                    "customerid": "872",
                                    "customername": "Katerina Hadrabova",
                                    "LatestTransaction": "2016-05-20"
                                },
                                {
                                    "customerid": "954",
                                    "customername": "Nasrin Omidzadeh",
                                    "LatestTransaction": "2016-05-20"
                                },
                                {
                                    "customerid": "941",
                                    "customername": "Bishwa Chatterjee",
                                    "LatestTransaction": "2016-05-20"
                                },
                                {
                                    "customerid": "968",
                                    "customername": "Anca Gogean",
                                    "LatestTransaction": "2016-05-20"
                                },
                                {
                                    "customerid": "981",
                                    "customername": "Mahmut ozbek",
                                    "LatestTransaction": "2016-05-20"
                                },
                                {
                                    "customerid": "992",
                                    "customername": "Amarakumaar Gadiyaram",
                                    "LatestTransaction": "2016-05-20"
                                },
                                {
                                    "customerid": "997",
                                    "customername": "Nada Ana Slosar",
                                    "LatestTransaction": "2016-05-20"
                                },
                                {
                                    "customerid": "1003",
                                    "customername": "Hue Ton",
                                    "LatestTransaction": "2016-05-19"
                                },
                                {
                                    "customerid": "984",
                                    "customername": "Kamala Nishad",
                                    "LatestTransaction": "2016-05-19"
                                },
                                {
                                    "customerid": "944",
                                    "customername": "Ida Celma",
                                    "LatestTransaction": "2016-05-19"
                                },
                                {
                                    "customerid": "1023",
                                    "customername": "Farzana Habibi",
                                    "LatestTransaction": "2016-05-19"
                                },
                                {
                                    "customerid": "1056",
                                    "customername": "Kalyani Benjaree",
                                    "LatestTransaction": "2016-05-19"
                                },
                                {
                                    "customerid": "820",
                                    "customername": "Knut Svensson",
                                    "LatestTransaction": "2016-05-19"
                                },
                                {
                                    "customerid": "859",
                                    "customername": "Shah Alizadeh",
                                    "LatestTransaction": "2016-05-19"
                                },
                                {
                                    "customerid": "845",
                                    "customername": "Emilie Hrdlickova",
                                    "LatestTransaction": "2016-05-18"
                                },
                                {
                                    "customerid": "871",
                                    "customername": "Darshana Madhunapantula",
                                    "LatestTransaction": "2016-05-18"
                                },
                                {
                                    "customerid": "881",
                                    "customername": "Magdalena Michnova",
                                    "LatestTransaction": "2016-05-18"
                                },
                                {
                                    "customerid": "909",
                                    "customername": "Dena Glissen",
                                    "LatestTransaction": "2016-05-18"
                                },
                                {
                                    "customerid": "917",
                                    "customername": "Pari Hosseini",
                                    "LatestTransaction": "2016-05-18"
                                },
                                {
                                    "customerid": "934",
                                    "customername": "Ivan Sepulveda",
                                    "LatestTransaction": "2016-05-18"
                                },
                                {
                                    "customerid": "1045",
                                    "customername": "Matteo Cattaneo",
                                    "LatestTransaction": "2016-05-18"
                                },
                                {
                                    "customerid": "947",
                                    "customername": "Svetlana Todorovic",
                                    "LatestTransaction": "2016-05-17"
                                },
                                {
                                    "customerid": "952",
                                    "customername": "Chuan Wattanasin",
                                    "LatestTransaction": "2016-05-17"
                                },
                                {
                                    "customerid": "962",
                                    "customername": "Bhagavati Vinjamuri",
                                    "LatestTransaction": "2016-05-17"
                                },
                                {
                                    "customerid": "938",
                                    "customername": "Anna Gyarmathi",
                                    "LatestTransaction": "2016-05-17"
                                },
                                {
                                    "customerid": "926",
                                    "customername": "Richard Friar",
                                    "LatestTransaction": "2016-05-17"
                                },
                                {
                                    "customerid": "812",
                                    "customername": "Celica Barajas",
                                    "LatestTransaction": "2016-05-17"
                                },
                                {
                                    "customerid": "825",
                                    "customername": "Jayanta Thakur",
                                    "LatestTransaction": "2016-05-17"
                                },
                                {
                                    "customerid": "808",
                                    "customername": "Jackson Kolios",
                                    "LatestTransaction": "2016-05-17"
                                },
                                {
                                    "customerid": "805",
                                    "customername": "Ratan Poddar",
                                    "LatestTransaction": "2016-05-15"
                                },
                                {
                                    "customerid": "830",
                                    "customername": "Jana Fialova",
                                    "LatestTransaction": "2016-05-15"
                                },
                                {
                                    "customerid": "921",
                                    "customername": "Victoria Lacusta",
                                    "LatestTransaction": "2016-05-15"
                                },
                                {
                                    "customerid": "889",
                                    "customername": "Sointu Savonheimo",
                                    "LatestTransaction": "2016-05-15"
                                },
                                {
                                    "customerid": "1050",
                                    "customername": "Amrita Ganguly",
                                    "LatestTransaction": "2016-05-15"
                                },
                                {
                                    "customerid": "1022",
                                    "customername": "Nadir Seddigh",
                                    "LatestTransaction": "2016-05-14"
                                },
                                {
                                    "customerid": "1027",
                                    "customername": "Serdar ozden",
                                    "LatestTransaction": "2016-05-14"
                                },
                                {
                                    "customerid": "970",
                                    "customername": "Isidora Urias",
                                    "LatestTransaction": "2016-05-14"
                                },
                                {
                                    "customerid": "942",
                                    "customername": "Chaayaadaevi Sonti",
                                    "LatestTransaction": "2016-05-14"
                                },
                                {
                                    "customerid": "1005",
                                    "customername": "Bhadram Kamasamudram",
                                    "LatestTransaction": "2016-05-14"
                                },
                                {
                                    "customerid": "880",
                                    "customername": "Edmee Glissen",
                                    "LatestTransaction": "2016-05-14"
                                },
                                {
                                    "customerid": "892",
                                    "customername": "Bahaar Asef zade",
                                    "LatestTransaction": "2016-05-14"
                                },
                                {
                                    "customerid": "923",
                                    "customername": "Tai Bach",
                                    "LatestTransaction": "2016-05-14"
                                },
                                {
                                    "customerid": "846",
                                    "customername": "Malorie Bousquet",
                                    "LatestTransaction": "2016-05-14"
                                },
                                {
                                    "customerid": "869",
                                    "customername": "Abel Tatarescu",
                                    "LatestTransaction": "2016-05-14"
                                },
                                {
                                    "customerid": "870",
                                    "customername": "In-Su Bae",
                                    "LatestTransaction": "2016-05-13"
                                },
                                {
                                    "customerid": "918",
                                    "customername": "Isidora Morales",
                                    "LatestTransaction": "2016-05-13"
                                },
                                {
                                    "customerid": "999",
                                    "customername": "Kristi Part",
                                    "LatestTransaction": "2016-05-13"
                                },
                                {
                                    "customerid": "1049",
                                    "customername": "Amet Shergill",
                                    "LatestTransaction": "2016-05-12"
                                },
                                {
                                    "customerid": "1006",
                                    "customername": "Taj Syme",
                                    "LatestTransaction": "2016-05-12"
                                },
                                {
                                    "customerid": "922",
                                    "customername": "Sumati Chatterjee",
                                    "LatestTransaction": "2016-05-12"
                                },
                                {
                                    "customerid": "928",
                                    "customername": "Arijit Bhuiyan",
                                    "LatestTransaction": "2016-05-12"
                                },
                                {
                                    "customerid": "886",
                                    "customername": "Debbie Molina",
                                    "LatestTransaction": "2016-05-12"
                                },
                                {
                                    "customerid": "807",
                                    "customername": "Gunnar Lohmus",
                                    "LatestTransaction": "2016-05-12"
                                },
                                {
                                    "customerid": "841",
                                    "customername": "Camille Authier",
                                    "LatestTransaction": "2016-05-10"
                                },
                                {
                                    "customerid": "878",
                                    "customername": "Miriam House",
                                    "LatestTransaction": "2016-05-10"
                                },
                                {
                                    "customerid": "1020",
                                    "customername": "Hai Banh",
                                    "LatestTransaction": "2016-05-10"
                                },
                                {
                                    "customerid": "1008",
                                    "customername": "Vedrana Kovacevic",
                                    "LatestTransaction": "2016-05-10"
                                },
                                {
                                    "customerid": "1042",
                                    "customername": "Nguyen Banh",
                                    "LatestTransaction": "2016-05-10"
                                },
                                {
                                    "customerid": "914",
                                    "customername": "Chandana Shasthri",
                                    "LatestTransaction": "2016-05-08"
                                },
                                {
                                    "customerid": "855",
                                    "customername": "Anna Mazzanti",
                                    "LatestTransaction": "2016-05-08"
                                },
                                {
                                    "customerid": "803",
                                    "customername": "Bala Dixit",
                                    "LatestTransaction": "2016-05-07"
                                },
                                {
                                    "customerid": "879",
                                    "customername": "Jitka Necesana",
                                    "LatestTransaction": "2016-05-07"
                                },
                                {
                                    "customerid": "893",
                                    "customername": "Leyla Asef zade",
                                    "LatestTransaction": "2016-05-07"
                                },
                                {
                                    "customerid": "1009",
                                    "customername": "Bhagavateeprasaad Malladi",
                                    "LatestTransaction": "2016-05-07"
                                },
                                {
                                    "customerid": "958",
                                    "customername": "Valentin Tirlea",
                                    "LatestTransaction": "2016-05-06"
                                },
                                {
                                    "customerid": "839",
                                    "customername": "Juan Morse",
                                    "LatestTransaction": "2016-05-06"
                                },
                                {
                                    "customerid": "833",
                                    "customername": "Devraj Rao",
                                    "LatestTransaction": "2016-05-05"
                                },
                                {
                                    "customerid": "819",
                                    "customername": "Santiago Vera",
                                    "LatestTransaction": "2016-05-05"
                                },
                                {
                                    "customerid": "943",
                                    "customername": "Drazenka Jelic",
                                    "LatestTransaction": "2016-05-05"
                                },
                                {
                                    "customerid": "960",
                                    "customername": "Edgar Jogi",
                                    "LatestTransaction": "2016-05-03"
                                },
                                {
                                    "customerid": "1032",
                                    "customername": "Som Mukherjee",
                                    "LatestTransaction": "2016-05-03"
                                },
                                {
                                    "customerid": "864",
                                    "customername": "Mikhail Degtyarev",
                                    "LatestTransaction": "2016-05-03"
                                },
                                {
                                    "customerid": "815",
                                    "customername": "Libuse Valentova",
                                    "LatestTransaction": "2016-05-01"
                                },
                                {
                                    "customerid": "816",
                                    "customername": "Harsha Huq",
                                    "LatestTransaction": "2016-04-30"
                                },
                                {
                                    "customerid": "898",
                                    "customername": "Gopalgobinda Sikdar",
                                    "LatestTransaction": "2016-04-30"
                                },
                                {
                                    "customerid": "924",
                                    "customername": "Eva Schulteisz",
                                    "LatestTransaction": "2016-04-30"
                                },
                                {
                                    "customerid": "979",
                                    "customername": "Melani Ravlen",
                                    "LatestTransaction": "2016-04-30"
                                },
                                {
                                    "customerid": "1030",
                                    "customername": "Chompoo Atitarn",
                                    "LatestTransaction": "2016-04-29"
                                },
                                {
                                    "customerid": "969",
                                    "customername": "Staffan Persson",
                                    "LatestTransaction": "2016-04-27"
                                },
                                {
                                    "customerid": "932",
                                    "customername": "Nicolo Cattaneo",
                                    "LatestTransaction": "2016-04-27"
                                },
                                {
                                    "customerid": "809",
                                    "customername": "Madhu Dwivedi",
                                    "LatestTransaction": "2016-04-27"
                                },
                                {
                                    "customerid": "998",
                                    "customername": "Mahavir Sonkar",
                                    "LatestTransaction": "2016-04-21"
                                },
                                {
                                    "customerid": "973",
                                    "customername": "Kumar Kamei",
                                    "LatestTransaction": "2016-04-20"
                                },
                                {
                                    "customerid": "957",
                                    "customername": "Hee-Young Suh",
                                    "LatestTransaction": "2016-04-20"
                                },
                                {
                                    "customerid": "946",
                                    "customername": "David safranek",
                                    "LatestTransaction": "2016-04-20"
                                },
                                {
                                    "customerid": "811",
                                    "customername": "Surendra Sahu",
                                    "LatestTransaction": "2016-04-19"
                                },
                                {
                                    "customerid": "936",
                                    "customername": "Ludmila Smidova",
                                    "LatestTransaction": "2016-04-19"
                                },
                                {
                                    "customerid": "905",
                                    "customername": "Sara Huiting",
                                    "LatestTransaction": "2016-04-01"
                                }
                            ]
                        },
                        "text/html": [
                            "<table>",
                            "<tr><th>customerid</th><th>customername</th><th>LatestTransaction</th></tr>",
                            "<tr><td>1</td><td>Tailspin Toys (Head Office)</td><td>2016-05-31</td></tr>",
                            "<tr><td>401</td><td>Wingtip Toys (Head Office)</td><td>2016-05-31</td></tr>",
                            "<tr><td>801</td><td>Eric Torres</td><td>2016-05-31</td></tr>",
                            "<tr><td>802</td><td>Cosmina Vlad</td><td>2016-05-31</td></tr>",
                            "<tr><td>810</td><td>Alena Kellnerova</td><td>2016-05-31</td></tr>",
                            "<tr><td>813</td><td>Shyam Poddar</td><td>2016-05-31</td></tr>",
                            "<tr><td>822</td><td>Suparna Bhattacharya</td><td>2016-05-31</td></tr>",
                            "<tr><td>826</td><td>Leila Carvalho</td><td>2016-05-31</td></tr>",
                            "<tr><td>827</td><td>Crina Grasu</td><td>2016-05-31</td></tr>",
                            "<tr><td>829</td><td>Jack Walker</td><td>2016-05-31</td></tr>",
                            "<tr><td>834</td><td>Cong Hoa</td><td>2016-05-31</td></tr>",
                            "<tr><td>835</td><td>Dominic Davignon</td><td>2016-05-31</td></tr>",
                            "<tr><td>838</td><td>Pavel Bogdanov</td><td>2016-05-31</td></tr>",
                            "<tr><td>840</td><td>Rodrigo Figueiredo</td><td>2016-05-31</td></tr>",
                            "<tr><td>847</td><td>Kristiina Ivanov</td><td>2016-05-31</td></tr>",
                            "<tr><td>848</td><td>Alvin Bollinger</td><td>2016-05-31</td></tr>",
                            "<tr><td>849</td><td>Sabine Zalite</td><td>2016-05-31</td></tr>",
                            "<tr><td>856</td><td>Satish Mittal</td><td>2016-05-31</td></tr>",
                            "<tr><td>853</td><td>Caterina Pinto</td><td>2016-05-31</td></tr>",
                            "<tr><td>860</td><td>Marcela Lucescu</td><td>2016-05-31</td></tr>",
                            "<tr><td>862</td><td>Lana Goransson</td><td>2016-05-31</td></tr>",
                            "<tr><td>873</td><td>Hana Hlouskova</td><td>2016-05-31</td></tr>",
                            "<tr><td>874</td><td>Daniel Martensson</td><td>2016-05-31</td></tr>",
                            "<tr><td>890</td><td>Olya Izmaylov</td><td>2016-05-31</td></tr>",
                            "<tr><td>891</td><td>Taneli Riutta</td><td>2016-05-31</td></tr>",
                            "<tr><td>895</td><td>Geza Roman</td><td>2016-05-31</td></tr>",
                            "<tr><td>900</td><td>Lilli Sokk</td><td>2016-05-31</td></tr>",
                            "<tr><td>910</td><td>Elina Kaleja</td><td>2016-05-31</td></tr>",
                            "<tr><td>911</td><td>Liidia Lepp</td><td>2016-05-31</td></tr>",
                            "<tr><td>915</td><td>Ana Florea</td><td>2016-05-31</td></tr>",
                            "<tr><td>919</td><td>Kertu Sokk</td><td>2016-05-31</td></tr>",
                            "<tr><td>907</td><td>Eugen Agafitei</td><td>2016-05-31</td></tr>",
                            "<tr><td>925</td><td>Can ozcan</td><td>2016-05-31</td></tr>",
                            "<tr><td>927</td><td>Matyas Sedlar</td><td>2016-05-31</td></tr>",
                            "<tr><td>929</td><td>Vladimir Henzl</td><td>2016-05-31</td></tr>",
                            "<tr><td>930</td><td>Shantanu Huq</td><td>2016-05-31</td></tr>",
                            "<tr><td>933</td><td>Joel Carrillo</td><td>2016-05-31</td></tr>",
                            "<tr><td>937</td><td>Manca Hrastovsek</td><td>2016-05-31</td></tr>",
                            "<tr><td>940</td><td>Lorin Astrom</td><td>2016-05-31</td></tr>",
                            "<tr><td>945</td><td>Hoc Tran</td><td>2016-05-31</td></tr>",
                            "<tr><td>953</td><td>Linh Dao</td><td>2016-05-31</td></tr>",
                            "<tr><td>956</td><td>Nhung Thach</td><td>2016-05-31</td></tr>",
                            "<tr><td>959</td><td>Dhaatri Chavva</td><td>2016-05-31</td></tr>",
                            "<tr><td>961</td><td>Rani Ganguly</td><td>2016-05-31</td></tr>",
                            "<tr><td>963</td><td>Be Trang</td><td>2016-05-31</td></tr>",
                            "<tr><td>966</td><td>Sara Walkky</td><td>2016-05-31</td></tr>",
                            "<tr><td>967</td><td>Meera Patel</td><td>2016-05-31</td></tr>",
                            "<tr><td>972</td><td>Lakshmi Benipal</td><td>2016-05-31</td></tr>",
                            "<tr><td>975</td><td>Prabodh Nair</td><td>2016-05-31</td></tr>",
                            "<tr><td>978</td><td>Baalaamjali Devulapalli</td><td>2016-05-31</td></tr>",
                            "<tr><td>983</td><td>Sabine Alksne</td><td>2016-05-31</td></tr>",
                            "<tr><td>986</td><td>Neil Farrelly</td><td>2016-05-31</td></tr>",
                            "<tr><td>987</td><td>Akhil Nadar</td><td>2016-05-31</td></tr>",
                            "<tr><td>989</td><td>Milinka Zujovic</td><td>2016-05-31</td></tr>",
                            "<tr><td>995</td><td>Kumar Naicker</td><td>2016-05-31</td></tr>",
                            "<tr><td>993</td><td>Gasper Havzija</td><td>2016-05-31</td></tr>",
                            "<tr><td>1004</td><td>Drishti Bose</td><td>2016-05-31</td></tr>",
                            "<tr><td>1010</td><td>Serdar ozCelik</td><td>2016-05-31</td></tr>",
                            "<tr><td>1014</td><td>Narendra Tickoo</td><td>2016-05-31</td></tr>",
                            "<tr><td>1015</td><td>Isa Hulsegge</td><td>2016-05-31</td></tr>",
                            "<tr><td>1018</td><td>Nils Kaulins</td><td>2016-05-31</td></tr>",
                            "<tr><td>1025</td><td>Tuulikki Linna</td><td>2016-05-31</td></tr>",
                            "<tr><td>1028</td><td>Emma Van Zant</td><td>2016-05-31</td></tr>",
                            "<tr><td>1029</td><td>Veronika Necesana</td><td>2016-05-31</td></tr>",
                            "<tr><td>1040</td><td>Damodar Shenoy</td><td>2016-05-31</td></tr>",
                            "<tr><td>1053</td><td>Luis Saucedo</td><td>2016-05-31</td></tr>",
                            "<tr><td>1054</td><td>Emma Salpa</td><td>2016-05-31</td></tr>",
                            "<tr><td>1059</td><td>Jibek Juniskyzy</td><td>2016-05-31</td></tr>",
                            "<tr><td>1051</td><td>Sylvie Laramee</td><td>2016-05-29</td></tr>",
                            "<tr><td>1036</td><td>Erik Malk</td><td>2016-05-29</td></tr>",
                            "<tr><td>1000</td><td>Krishnam Allu</td><td>2016-05-29</td></tr>",
                            "<tr><td>901</td><td>Adrian Andreasson</td><td>2016-05-29</td></tr>",
                            "<tr><td>875</td><td>Philip Walker</td><td>2016-05-29</td></tr>",
                            "<tr><td>867</td><td>Jasna Cerkez</td><td>2016-05-29</td></tr>",
                            "<tr><td>843</td><td>Marija Justina Pasek</td><td>2016-05-28</td></tr>",
                            "<tr><td>828</td><td>Sercan Celik</td><td>2016-05-28</td></tr>",
                            "<tr><td>821</td><td>Kwanjai Saowaluk</td><td>2016-05-28</td></tr>",
                            "<tr><td>832</td><td>Aakriti Byrraju</td><td>2016-05-28</td></tr>",
                            "<tr><td>824</td><td>Risto Valbe</td><td>2016-05-28</td></tr>",
                            "<tr><td>817</td><td>Agrita Kanepa</td><td>2016-05-28</td></tr>",
                            "<tr><td>885</td><td>Chandrashekhar Dasgupta</td><td>2016-05-28</td></tr>",
                            "<tr><td>899</td><td>Chin-Sun Chang</td><td>2016-05-28</td></tr>",
                            "<tr><td>897</td><td>Allan Mannik</td><td>2016-05-28</td></tr>",
                            "<tr><td>939</td><td>Ioana Florea</td><td>2016-05-28</td></tr>",
                            "<tr><td>916</td><td>Pinja Jantunen</td><td>2016-05-28</td></tr>",
                            "<tr><td>912</td><td>Volkan senturk</td><td>2016-05-28</td></tr>",
                            "<tr><td>1002</td><td>Stefan Selezeanu</td><td>2016-05-28</td></tr>",
                            "<tr><td>996</td><td>Laszlo Gardenier</td><td>2016-05-28</td></tr>",
                            "<tr><td>985</td><td>Roko Ilic</td><td>2016-05-28</td></tr>",
                            "<tr><td>974</td><td>Emil Roman</td><td>2016-05-28</td></tr>",
                            "<tr><td>977</td><td>Mauno Laurila</td><td>2016-05-28</td></tr>",
                            "<tr><td>965</td><td>Phoung Cu</td><td>2016-05-28</td></tr>",
                            "<tr><td>1038</td><td>Damodara Trivedi</td><td>2016-05-28</td></tr>",
                            "<tr><td>1031</td><td>Dipti Shah</td><td>2016-05-28</td></tr>",
                            "<tr><td>1012</td><td>Urve Kasesalu</td><td>2016-05-28</td></tr>",
                            "<tr><td>1016</td><td>Aive Petrov</td><td>2016-05-28</td></tr>",
                            "<tr><td>1007</td><td>Irma Berzina</td><td>2016-05-28</td></tr>",
                            "<tr><td>1052</td><td>Ian Olofsson</td><td>2016-05-28</td></tr>",
                            "<tr><td>1048</td><td>Abhra Ganguly</td><td>2016-05-28</td></tr>",
                            "<tr><td>1046</td><td>Christian Couet</td><td>2016-05-28</td></tr>",
                            "<tr><td>1057</td><td>Ganesh Majumdar</td><td>2016-05-28</td></tr>",
                            "<tr><td>1055</td><td>Adriana Pena</td><td>2016-05-28</td></tr>",
                            "<tr><td>1061</td><td>Agrita Abele</td><td>2016-05-28</td></tr>",
                            "<tr><td>1058</td><td>Jaroslav Fisar</td><td>2016-05-27</td></tr>",
                            "<tr><td>1017</td><td>David Novacek </td><td>2016-05-27</td></tr>",
                            "<tr><td>1019</td><td>Dhanishta Pullela</td><td>2016-05-27</td></tr>",
                            "<tr><td>1021</td><td>Fabrice Cloutier</td><td>2016-05-27</td></tr>",
                            "<tr><td>1033</td><td>Cuneyt Arslan</td><td>2016-05-27</td></tr>",
                            "<tr><td>1034</td><td>Aishwarya Dantuluri</td><td>2016-05-27</td></tr>",
                            "<tr><td>1039</td><td>Bhaamini Palagummi</td><td>2016-05-27</td></tr>",
                            "<tr><td>1024</td><td>Arka Chatterjee</td><td>2016-05-27</td></tr>",
                            "<tr><td>949</td><td>Seo-yun Paik</td><td>2016-05-27</td></tr>",
                            "<tr><td>950</td><td>Emily Whittle</td><td>2016-05-27</td></tr>",
                            "<tr><td>988</td><td>Maksims Krastins</td><td>2016-05-27</td></tr>",
                            "<tr><td>991</td><td>Valter Viiding</td><td>2016-05-27</td></tr>",
                            "<tr><td>1001</td><td>Dinh Mai</td><td>2016-05-27</td></tr>",
                            "<tr><td>994</td><td>Libuse Kuchtova</td><td>2016-05-27</td></tr>",
                            "<tr><td>935</td><td>Daevasree Samavedam</td><td>2016-05-27</td></tr>",
                            "<tr><td>931</td><td>Nada Jovanovic</td><td>2016-05-27</td></tr>",
                            "<tr><td>904</td><td>Olafs Rozitis</td><td>2016-05-27</td></tr>",
                            "<tr><td>882</td><td>Maryann Huddleston</td><td>2016-05-27</td></tr>",
                            "<tr><td>804</td><td>Aleksandrs Riekstins</td><td>2016-05-27</td></tr>",
                            "<tr><td>850</td><td>Daakshaayaani Sankaramanchi</td><td>2016-05-27</td></tr>",
                            "<tr><td>836</td><td>Abel Spirlea</td><td>2016-05-27</td></tr>",
                            "<tr><td>837</td><td>Anil Sarkar</td><td>2016-05-27</td></tr>",
                            "<tr><td>863</td><td>Jakub Lukes</td><td>2016-05-27</td></tr>",
                            "<tr><td>868</td><td>Laura Sykorova</td><td>2016-05-26</td></tr>",
                            "<tr><td>851</td><td>Ebru Erdogan</td><td>2016-05-26</td></tr>",
                            "<tr><td>806</td><td>Shi Tu</td><td>2016-05-26</td></tr>",
                            "<tr><td>884</td><td>Anindya Ghatak</td><td>2016-05-26</td></tr>",
                            "<tr><td>887</td><td>Baran Jonsson</td><td>2016-05-26</td></tr>",
                            "<tr><td>896</td><td>Leonardo Folliero</td><td>2016-05-26</td></tr>",
                            "<tr><td>990</td><td>Andris Saulitis</td><td>2016-05-26</td></tr>",
                            "<tr><td>948</td><td>Richard Zahradnicek</td><td>2016-05-26</td></tr>",
                            "<tr><td>1041</td><td>Tomo Vidovic</td><td>2016-05-26</td></tr>",
                            "<tr><td>1013</td><td>Annette  Hetu</td><td>2016-05-26</td></tr>",
                            "<tr><td>1047</td><td>Ivana Hadrabova</td><td>2016-05-26</td></tr>",
                            "<tr><td>1044</td><td>Hanita Nookala</td><td>2016-05-26</td></tr>",
                            "<tr><td>1060</td><td>Anand Mudaliyar</td><td>2016-05-25</td></tr>",
                            "<tr><td>1035</td><td>Manjunatha Karnik</td><td>2016-05-25</td></tr>",
                            "<tr><td>951</td><td>Eliza Persson</td><td>2016-05-25</td></tr>",
                            "<tr><td>971</td><td>Dhanishta Mokkapati</td><td>2016-05-25</td></tr>",
                            "<tr><td>888</td><td>Jai Lamble</td><td>2016-05-25</td></tr>",
                            "<tr><td>876</td><td>Marie LeBatelier</td><td>2016-05-25</td></tr>",
                            "<tr><td>877</td><td>Leyla Siavashi</td><td>2016-05-25</td></tr>",
                            "<tr><td>866</td><td>Jay Bhuiyan</td><td>2016-05-25</td></tr>",
                            "<tr><td>906</td><td>Ajitaab Pakalapati</td><td>2016-05-25</td></tr>",
                            "<tr><td>913</td><td>Violetta KlanCisar</td><td>2016-05-25</td></tr>",
                            "<tr><td>823</td><td>Francisca Laureano</td><td>2016-05-25</td></tr>",
                            "<tr><td>831</td><td>Bhaavan Rai</td><td>2016-05-25</td></tr>",
                            "<tr><td>844</td><td>Durdanah Abbasi</td><td>2016-05-25</td></tr>",
                            "<tr><td>861</td><td>Amarasimha Vinjamuri</td><td>2016-05-25</td></tr>",
                            "<tr><td>857</td><td>Clarissa Manfrin</td><td>2016-05-24</td></tr>",
                            "<tr><td>818</td><td>Liia Orav</td><td>2016-05-24</td></tr>",
                            "<tr><td>883</td><td>Radha Barua</td><td>2016-05-24</td></tr>",
                            "<tr><td>894</td><td>Gabriela Hernandes</td><td>2016-05-24</td></tr>",
                            "<tr><td>902</td><td>Kamila Michnova</td><td>2016-05-24</td></tr>",
                            "<tr><td>903</td><td>Bing Han</td><td>2016-05-24</td></tr>",
                            "<tr><td>964</td><td>Ingrida Zeltina</td><td>2016-05-24</td></tr>",
                            "<tr><td>1043</td><td>Raj Verma</td><td>2016-05-24</td></tr>",
                            "<tr><td>1037</td><td>David Jaramillo</td><td>2016-05-24</td></tr>",
                            "<tr><td>976</td><td>Alinne Matos</td><td>2016-05-22</td></tr>",
                            "<tr><td>982</td><td>Yves Belisle</td><td>2016-05-21</td></tr>",
                            "<tr><td>980</td><td>Om Yadav</td><td>2016-05-21</td></tr>",
                            "<tr><td>955</td><td>Raghu Sandhu</td><td>2016-05-21</td></tr>",
                            "<tr><td>1026</td><td>Daniella Cavalcante</td><td>2016-05-21</td></tr>",
                            "<tr><td>1011</td><td>Rajeev Sandhu</td><td>2016-05-21</td></tr>",
                            "<tr><td>908</td><td>Sumati Bhat</td><td>2016-05-21</td></tr>",
                            "<tr><td>920</td><td>Gayatri Gajula</td><td>2016-05-21</td></tr>",
                            "<tr><td>842</td><td>Biju Deb</td><td>2016-05-21</td></tr>",
                            "<tr><td>852</td><td>Bhagavaan Atluri</td><td>2016-05-21</td></tr>",
                            "<tr><td>865</td><td>Bijoya Thakur</td><td>2016-05-20</td></tr>",
                            "<tr><td>858</td><td>Bimla PrabhupÄda</td><td>2016-05-20</td></tr>",
                            "<tr><td>854</td><td>Daakshaayaani Kommineni</td><td>2016-05-20</td></tr>",
                            "<tr><td>814</td><td>Johanna Hoornstra</td><td>2016-05-20</td></tr>",
                            "<tr><td>872</td><td>Katerina Hadrabova</td><td>2016-05-20</td></tr>",
                            "<tr><td>954</td><td>Nasrin Omidzadeh</td><td>2016-05-20</td></tr>",
                            "<tr><td>941</td><td>Bishwa Chatterjee</td><td>2016-05-20</td></tr>",
                            "<tr><td>968</td><td>Anca Gogean</td><td>2016-05-20</td></tr>",
                            "<tr><td>981</td><td>Mahmut ozbek</td><td>2016-05-20</td></tr>",
                            "<tr><td>992</td><td>Amarakumaar Gadiyaram</td><td>2016-05-20</td></tr>",
                            "<tr><td>997</td><td>Nada Ana Slosar</td><td>2016-05-20</td></tr>",
                            "<tr><td>1003</td><td>Hue Ton</td><td>2016-05-19</td></tr>",
                            "<tr><td>984</td><td>Kamala Nishad</td><td>2016-05-19</td></tr>",
                            "<tr><td>944</td><td>Ida Celma</td><td>2016-05-19</td></tr>",
                            "<tr><td>1023</td><td>Farzana Habibi</td><td>2016-05-19</td></tr>",
                            "<tr><td>1056</td><td>Kalyani Benjaree</td><td>2016-05-19</td></tr>",
                            "<tr><td>820</td><td>Knut Svensson</td><td>2016-05-19</td></tr>",
                            "<tr><td>859</td><td>Shah Alizadeh</td><td>2016-05-19</td></tr>",
                            "<tr><td>845</td><td>Emilie Hrdlickova</td><td>2016-05-18</td></tr>",
                            "<tr><td>871</td><td>Darshana Madhunapantula</td><td>2016-05-18</td></tr>",
                            "<tr><td>881</td><td>Magdalena Michnova</td><td>2016-05-18</td></tr>",
                            "<tr><td>909</td><td>Dena Glissen</td><td>2016-05-18</td></tr>",
                            "<tr><td>917</td><td>Pari Hosseini</td><td>2016-05-18</td></tr>",
                            "<tr><td>934</td><td>Ivan Sepulveda</td><td>2016-05-18</td></tr>",
                            "<tr><td>1045</td><td>Matteo Cattaneo</td><td>2016-05-18</td></tr>",
                            "<tr><td>947</td><td>Svetlana Todorovic</td><td>2016-05-17</td></tr>",
                            "<tr><td>952</td><td>Chuan Wattanasin</td><td>2016-05-17</td></tr>",
                            "<tr><td>962</td><td>Bhagavati Vinjamuri</td><td>2016-05-17</td></tr>",
                            "<tr><td>938</td><td>Anna Gyarmathi</td><td>2016-05-17</td></tr>",
                            "<tr><td>926</td><td>Richard Friar</td><td>2016-05-17</td></tr>",
                            "<tr><td>812</td><td>Celica Barajas</td><td>2016-05-17</td></tr>",
                            "<tr><td>825</td><td>Jayanta Thakur</td><td>2016-05-17</td></tr>",
                            "<tr><td>808</td><td>Jackson Kolios</td><td>2016-05-17</td></tr>",
                            "<tr><td>805</td><td>Ratan Poddar</td><td>2016-05-15</td></tr>",
                            "<tr><td>830</td><td>Jana Fialova</td><td>2016-05-15</td></tr>",
                            "<tr><td>921</td><td>Victoria Lacusta</td><td>2016-05-15</td></tr>",
                            "<tr><td>889</td><td>Sointu Savonheimo</td><td>2016-05-15</td></tr>",
                            "<tr><td>1050</td><td>Amrita Ganguly</td><td>2016-05-15</td></tr>",
                            "<tr><td>1022</td><td>Nadir Seddigh</td><td>2016-05-14</td></tr>",
                            "<tr><td>1027</td><td>Serdar ozden</td><td>2016-05-14</td></tr>",
                            "<tr><td>970</td><td>Isidora Urias</td><td>2016-05-14</td></tr>",
                            "<tr><td>942</td><td>Chaayaadaevi Sonti</td><td>2016-05-14</td></tr>",
                            "<tr><td>1005</td><td>Bhadram Kamasamudram</td><td>2016-05-14</td></tr>",
                            "<tr><td>880</td><td>Edmee Glissen</td><td>2016-05-14</td></tr>",
                            "<tr><td>892</td><td>Bahaar Asef zade</td><td>2016-05-14</td></tr>",
                            "<tr><td>923</td><td>Tai Bach</td><td>2016-05-14</td></tr>",
                            "<tr><td>846</td><td>Malorie Bousquet</td><td>2016-05-14</td></tr>",
                            "<tr><td>869</td><td>Abel Tatarescu</td><td>2016-05-14</td></tr>",
                            "<tr><td>870</td><td>In-Su Bae</td><td>2016-05-13</td></tr>",
                            "<tr><td>918</td><td>Isidora Morales</td><td>2016-05-13</td></tr>",
                            "<tr><td>999</td><td>Kristi Part</td><td>2016-05-13</td></tr>",
                            "<tr><td>1049</td><td>Amet Shergill</td><td>2016-05-12</td></tr>",
                            "<tr><td>1006</td><td>Taj Syme</td><td>2016-05-12</td></tr>",
                            "<tr><td>922</td><td>Sumati Chatterjee</td><td>2016-05-12</td></tr>",
                            "<tr><td>928</td><td>Arijit Bhuiyan</td><td>2016-05-12</td></tr>",
                            "<tr><td>886</td><td>Debbie Molina</td><td>2016-05-12</td></tr>",
                            "<tr><td>807</td><td>Gunnar Lohmus</td><td>2016-05-12</td></tr>",
                            "<tr><td>841</td><td>Camille Authier</td><td>2016-05-10</td></tr>",
                            "<tr><td>878</td><td>Miriam House</td><td>2016-05-10</td></tr>",
                            "<tr><td>1020</td><td>Hai Banh</td><td>2016-05-10</td></tr>",
                            "<tr><td>1008</td><td>Vedrana Kovacevic</td><td>2016-05-10</td></tr>",
                            "<tr><td>1042</td><td>Nguyen Banh</td><td>2016-05-10</td></tr>",
                            "<tr><td>914</td><td>Chandana Shasthri</td><td>2016-05-08</td></tr>",
                            "<tr><td>855</td><td>Anna Mazzanti</td><td>2016-05-08</td></tr>",
                            "<tr><td>803</td><td>Bala Dixit</td><td>2016-05-07</td></tr>",
                            "<tr><td>879</td><td>Jitka Necesana</td><td>2016-05-07</td></tr>",
                            "<tr><td>893</td><td>Leyla Asef zade</td><td>2016-05-07</td></tr>",
                            "<tr><td>1009</td><td>Bhagavateeprasaad Malladi</td><td>2016-05-07</td></tr>",
                            "<tr><td>958</td><td>Valentin Tirlea</td><td>2016-05-06</td></tr>",
                            "<tr><td>839</td><td>Juan Morse</td><td>2016-05-06</td></tr>",
                            "<tr><td>833</td><td>Devraj Rao</td><td>2016-05-05</td></tr>",
                            "<tr><td>819</td><td>Santiago Vera</td><td>2016-05-05</td></tr>",
                            "<tr><td>943</td><td>Drazenka Jelic</td><td>2016-05-05</td></tr>",
                            "<tr><td>960</td><td>Edgar Jogi</td><td>2016-05-03</td></tr>",
                            "<tr><td>1032</td><td>Som Mukherjee</td><td>2016-05-03</td></tr>",
                            "<tr><td>864</td><td>Mikhail Degtyarev</td><td>2016-05-03</td></tr>",
                            "<tr><td>815</td><td>Libuse Valentova</td><td>2016-05-01</td></tr>",
                            "<tr><td>816</td><td>Harsha Huq</td><td>2016-04-30</td></tr>",
                            "<tr><td>898</td><td>Gopalgobinda Sikdar</td><td>2016-04-30</td></tr>",
                            "<tr><td>924</td><td>Eva Schulteisz</td><td>2016-04-30</td></tr>",
                            "<tr><td>979</td><td>Melani Ravlen</td><td>2016-04-30</td></tr>",
                            "<tr><td>1030</td><td>Chompoo Atitarn</td><td>2016-04-29</td></tr>",
                            "<tr><td>969</td><td>Staffan Persson</td><td>2016-04-27</td></tr>",
                            "<tr><td>932</td><td>Nicolo Cattaneo</td><td>2016-04-27</td></tr>",
                            "<tr><td>809</td><td>Madhu Dwivedi</td><td>2016-04-27</td></tr>",
                            "<tr><td>998</td><td>Mahavir Sonkar</td><td>2016-04-21</td></tr>",
                            "<tr><td>973</td><td>Kumar Kamei</td><td>2016-04-20</td></tr>",
                            "<tr><td>957</td><td>Hee-Young Suh</td><td>2016-04-20</td></tr>",
                            "<tr><td>946</td><td>David safranek</td><td>2016-04-20</td></tr>",
                            "<tr><td>811</td><td>Surendra Sahu</td><td>2016-04-19</td></tr>",
                            "<tr><td>936</td><td>Ludmila Smidova</td><td>2016-04-19</td></tr>",
                            "<tr><td>905</td><td>Sara Huiting</td><td>2016-04-01</td></tr>",
                            "</table>"
                        ]
                    }
                }
            ],
            "execution_count": 52
        },
        {
            "cell_type": "markdown",
            "source": [
                "**Proposition 10**\n",
                "\n",
                "\"Get the top 50 customers along with all their total orders and total items ordered\"\n",
                "\n",
                "In this query we find all the customers and all their orders and all the items they ordered and selecting the top 50 based on Total items they ordered\n",
                "\n",
                "\\- We use a table expression WITH, called CustomerOrderStats\n",
                "\n",
                "\\- We use FROM to get the Orders and then we use COUNT to count the amount of orders and SUM to get the total quanitity of items\n",
                "\n",
                "\\- In the table expression we use a left join to make sure that orders without a corresponding orderline are still included in case we get some null values that would disrupt out quantity\n",
                "\n",
                "\\- We group these by customer id so we have a relation between the customer, the order amount, and the total items ordered\n",
                "\n",
                "\\- In our main query, using FROM we get our Customers table\n",
                "\n",
                "\\- We use JOIN to combine the customer ids from the table expression with the customer id from the normal customers table so we can use their name\n",
                "\n",
                "\\- We then order by the total items ordered descendingly"
            ],
            "metadata": {
                "language": "sql",
                "azdata_cell_guid": "15e2b870-8159-417b-838e-9d0f2277fa3b"
            },
            "attachments": {}
        },
        {
            "cell_type": "code",
            "source": [
                "WITH CustomerOrderStats AS (\n",
                "    SELECT o.CustomerID, COUNT(o.OrderID) AS TotalOrders, SUM(ol.Quantity) AS TotalItemsOrdered\n",
                "    FROM Sales.Orders o\n",
                "    LEFT JOIN Sales.OrderLines ol ON o.OrderID = ol.OrderID\n",
                "    GROUP BY o.CustomerID\n",
                ")\n",
                "SELECT TOP 50 c.CustomerID, c.CustomerName, cos.TotalOrders, cos.TotalItemsOrdered\n",
                "FROM Sales.Customers c\n",
                "JOIN CustomerOrderStats cos ON c.CustomerID = cos.CustomerID\n",
                "ORDER BY cos.TotalItemsOrdered DESC;"
            ],
            "metadata": {
                "language": "sql",
                "azdata_cell_guid": "ab4400ff-0630-4d28-ab47-9d83319cd378"
            },
            "outputs": [
                {
                    "output_type": "display_data",
                    "data": {
                        "text/html": "(50 rows affected)"
                    },
                    "metadata": {}
                },
                {
                    "output_type": "display_data",
                    "data": {
                        "text/html": "Total execution time: 00:00:00.085"
                    },
                    "metadata": {}
                },
                {
                    "output_type": "execute_result",
                    "metadata": {},
                    "execution_count": 58,
                    "data": {
                        "application/vnd.dataresource+json": {
                            "schema": {
                                "fields": [
                                    {
                                        "name": "CustomerID"
                                    },
                                    {
                                        "name": "CustomerName"
                                    },
                                    {
                                        "name": "TotalOrders"
                                    },
                                    {
                                        "name": "TotalItemsOrdered"
                                    }
                                ]
                            },
                            "data": [
                                {
                                    "CustomerID": "569",
                                    "CustomerName": "Wingtip Toys (West Frostproof, FL)",
                                    "TotalOrders": "444",
                                    "TotalItemsOrdered": "19544"
                                },
                                {
                                    "CustomerID": "185",
                                    "CustomerName": "Tailspin Toys (Vidrine, LA)",
                                    "TotalOrders": "461",
                                    "TotalItemsOrdered": "19487"
                                },
                                {
                                    "CustomerID": "546",
                                    "CustomerName": "Wingtip Toys (Key Biscayne, FL)",
                                    "TotalOrders": "449",
                                    "TotalItemsOrdered": "19306"
                                },
                                {
                                    "CustomerID": "980",
                                    "CustomerName": "Om Yadav",
                                    "TotalOrders": "450",
                                    "TotalItemsOrdered": "19169"
                                },
                                {
                                    "CustomerID": "177",
                                    "CustomerName": "Tailspin Toys (Orrtanna, PA)",
                                    "TotalOrders": "398",
                                    "TotalItemsOrdered": "19052"
                                },
                                {
                                    "CustomerID": "930",
                                    "CustomerName": "Shantanu Huq",
                                    "TotalOrders": "423",
                                    "TotalItemsOrdered": "19034"
                                },
                                {
                                    "CustomerID": "558",
                                    "CustomerName": "Wingtip Toys (Bourneville, OH)",
                                    "TotalOrders": "434",
                                    "TotalItemsOrdered": "18900"
                                },
                                {
                                    "CustomerID": "831",
                                    "CustomerName": "Bhaavan Rai",
                                    "TotalOrders": "460",
                                    "TotalItemsOrdered": "18864"
                                },
                                {
                                    "CustomerID": "67",
                                    "CustomerName": "Tailspin Toys (Sentinel Butte, ND)",
                                    "TotalOrders": "422",
                                    "TotalItemsOrdered": "18818"
                                },
                                {
                                    "CustomerID": "32",
                                    "CustomerName": "Tailspin Toys (Maypearl, TX)",
                                    "TotalOrders": "440",
                                    "TotalItemsOrdered": "18627"
                                },
                                {
                                    "CustomerID": "78",
                                    "CustomerName": "Tailspin Toys (Sekiu, WA)",
                                    "TotalOrders": "437",
                                    "TotalItemsOrdered": "18441"
                                },
                                {
                                    "CustomerID": "907",
                                    "CustomerName": "Eugen Agafitei",
                                    "TotalOrders": "414",
                                    "TotalItemsOrdered": "18373"
                                },
                                {
                                    "CustomerID": "140",
                                    "CustomerName": "Tailspin Toys (Furley, KS)",
                                    "TotalOrders": "408",
                                    "TotalItemsOrdered": "18291"
                                },
                                {
                                    "CustomerID": "510",
                                    "CustomerName": "Wingtip Toys (Grabill, IN)",
                                    "TotalOrders": "396",
                                    "TotalItemsOrdered": "18215"
                                },
                                {
                                    "CustomerID": "110",
                                    "CustomerName": "Tailspin Toys (North Crows Nest, IN)",
                                    "TotalOrders": "448",
                                    "TotalItemsOrdered": "18152"
                                },
                                {
                                    "CustomerID": "856",
                                    "CustomerName": "Satish Mittal",
                                    "TotalOrders": "399",
                                    "TotalItemsOrdered": "18085"
                                },
                                {
                                    "CustomerID": "545",
                                    "CustomerName": "Wingtip Toys (Jamison, IA)",
                                    "TotalOrders": "426",
                                    "TotalItemsOrdered": "18065"
                                },
                                {
                                    "CustomerID": "102",
                                    "CustomerName": "Tailspin Toys (Fieldbrook, CA)",
                                    "TotalOrders": "410",
                                    "TotalItemsOrdered": "18059"
                                },
                                {
                                    "CustomerID": "1",
                                    "CustomerName": "Tailspin Toys (Head Office)",
                                    "TotalOrders": "412",
                                    "TotalItemsOrdered": "18011"
                                },
                                {
                                    "CustomerID": "527",
                                    "CustomerName": "Wingtip Toys (Islip Terrace, NY)",
                                    "TotalOrders": "401",
                                    "TotalItemsOrdered": "18005"
                                },
                                {
                                    "CustomerID": "65",
                                    "CustomerName": "Tailspin Toys (North Cowden, TX)",
                                    "TotalOrders": "363",
                                    "TotalItemsOrdered": "17986"
                                },
                                {
                                    "CustomerID": "518",
                                    "CustomerName": "Wingtip Toys (Raton, NM)",
                                    "TotalOrders": "390",
                                    "TotalItemsOrdered": "17971"
                                },
                                {
                                    "CustomerID": "70",
                                    "CustomerName": "Tailspin Toys (New Baden, IL)",
                                    "TotalOrders": "442",
                                    "TotalItemsOrdered": "17968"
                                },
                                {
                                    "CustomerID": "448",
                                    "CustomerName": "Wingtip Toys (Salt Wells, NV)",
                                    "TotalOrders": "409",
                                    "TotalItemsOrdered": "17943"
                                },
                                {
                                    "CustomerID": "981",
                                    "CustomerName": "Mahmut ozbek",
                                    "TotalOrders": "429",
                                    "TotalItemsOrdered": "17807"
                                },
                                {
                                    "CustomerID": "841",
                                    "CustomerName": "Camille Authier",
                                    "TotalOrders": "419",
                                    "TotalItemsOrdered": "17775"
                                },
                                {
                                    "CustomerID": "804",
                                    "CustomerName": "Aleksandrs Riekstins",
                                    "TotalOrders": "457",
                                    "TotalItemsOrdered": "17743"
                                },
                                {
                                    "CustomerID": "906",
                                    "CustomerName": "Ajitaab Pakalapati",
                                    "TotalOrders": "433",
                                    "TotalItemsOrdered": "17701"
                                },
                                {
                                    "CustomerID": "186",
                                    "CustomerName": "Tailspin Toys (Placer, OR)",
                                    "TotalOrders": "401",
                                    "TotalItemsOrdered": "17660"
                                },
                                {
                                    "CustomerID": "968",
                                    "CustomerName": "Anca Gogean",
                                    "TotalOrders": "416",
                                    "TotalItemsOrdered": "17625"
                                },
                                {
                                    "CustomerID": "118",
                                    "CustomerName": "Tailspin Toys (Vassalboro, ME)",
                                    "TotalOrders": "411",
                                    "TotalItemsOrdered": "17612"
                                },
                                {
                                    "CustomerID": "900",
                                    "CustomerName": "Lilli Sokk",
                                    "TotalOrders": "437",
                                    "TotalItemsOrdered": "17590"
                                },
                                {
                                    "CustomerID": "975",
                                    "CustomerName": "Prabodh Nair",
                                    "TotalOrders": "443",
                                    "TotalItemsOrdered": "17555"
                                },
                                {
                                    "CustomerID": "537",
                                    "CustomerName": "Wingtip Toys (Akhiok, AK)",
                                    "TotalOrders": "365",
                                    "TotalItemsOrdered": "17530"
                                },
                                {
                                    "CustomerID": "157",
                                    "CustomerName": "Tailspin Toys (Saks, AL)",
                                    "TotalOrders": "398",
                                    "TotalItemsOrdered": "17449"
                                },
                                {
                                    "CustomerID": "35",
                                    "CustomerName": "Tailspin Toys (Slanesville, WV)",
                                    "TotalOrders": "426",
                                    "TotalItemsOrdered": "17441"
                                },
                                {
                                    "CustomerID": "838",
                                    "CustomerName": "Pavel Bogdanov",
                                    "TotalOrders": "413",
                                    "TotalItemsOrdered": "17426"
                                },
                                {
                                    "CustomerID": "38",
                                    "CustomerName": "Tailspin Toys (Airport Drive, MO)",
                                    "TotalOrders": "411",
                                    "TotalItemsOrdered": "17365"
                                },
                                {
                                    "CustomerID": "133",
                                    "CustomerName": "Tailspin Toys (Lake Erie Beach, NY)",
                                    "TotalOrders": "410",
                                    "TotalItemsOrdered": "17316"
                                },
                                {
                                    "CustomerID": "90",
                                    "CustomerName": "Tailspin Toys (Tolna, ND)",
                                    "TotalOrders": "454",
                                    "TotalItemsOrdered": "17308"
                                },
                                {
                                    "CustomerID": "905",
                                    "CustomerName": "Sara Huiting",
                                    "TotalOrders": "372",
                                    "TotalItemsOrdered": "17270"
                                },
                                {
                                    "CustomerID": "960",
                                    "CustomerName": "Edgar Jogi",
                                    "TotalOrders": "414",
                                    "TotalItemsOrdered": "17247"
                                },
                                {
                                    "CustomerID": "410",
                                    "CustomerName": "Wingtip Toys (Bernstein, TX)",
                                    "TotalOrders": "417",
                                    "TotalItemsOrdered": "17245"
                                },
                                {
                                    "CustomerID": "187",
                                    "CustomerName": "Tailspin Toys (Brown City, MI)",
                                    "TotalOrders": "366",
                                    "TotalItemsOrdered": "17237"
                                },
                                {
                                    "CustomerID": "493",
                                    "CustomerName": "Wingtip Toys (Federalsburg, MD)",
                                    "TotalOrders": "423",
                                    "TotalItemsOrdered": "17229"
                                },
                                {
                                    "CustomerID": "562",
                                    "CustomerName": "Wingtip Toys (Ware Shoals, SC)",
                                    "TotalOrders": "386",
                                    "TotalItemsOrdered": "17225"
                                },
                                {
                                    "CustomerID": "976",
                                    "CustomerName": "Alinne Matos",
                                    "TotalOrders": "416",
                                    "TotalItemsOrdered": "17215"
                                },
                                {
                                    "CustomerID": "910",
                                    "CustomerName": "Elina Kaleja",
                                    "TotalOrders": "432",
                                    "TotalItemsOrdered": "17195"
                                },
                                {
                                    "CustomerID": "107",
                                    "CustomerName": "Tailspin Toys (Glen Avon, CA)",
                                    "TotalOrders": "386",
                                    "TotalItemsOrdered": "17195"
                                },
                                {
                                    "CustomerID": "549",
                                    "CustomerName": "Wingtip Toys (Lake Ronkonkoma, NY)",
                                    "TotalOrders": "369",
                                    "TotalItemsOrdered": "17178"
                                }
                            ]
                        },
                        "text/html": [
                            "<table>",
                            "<tr><th>CustomerID</th><th>CustomerName</th><th>TotalOrders</th><th>TotalItemsOrdered</th></tr>",
                            "<tr><td>569</td><td>Wingtip Toys (West Frostproof, FL)</td><td>444</td><td>19544</td></tr>",
                            "<tr><td>185</td><td>Tailspin Toys (Vidrine, LA)</td><td>461</td><td>19487</td></tr>",
                            "<tr><td>546</td><td>Wingtip Toys (Key Biscayne, FL)</td><td>449</td><td>19306</td></tr>",
                            "<tr><td>980</td><td>Om Yadav</td><td>450</td><td>19169</td></tr>",
                            "<tr><td>177</td><td>Tailspin Toys (Orrtanna, PA)</td><td>398</td><td>19052</td></tr>",
                            "<tr><td>930</td><td>Shantanu Huq</td><td>423</td><td>19034</td></tr>",
                            "<tr><td>558</td><td>Wingtip Toys (Bourneville, OH)</td><td>434</td><td>18900</td></tr>",
                            "<tr><td>831</td><td>Bhaavan Rai</td><td>460</td><td>18864</td></tr>",
                            "<tr><td>67</td><td>Tailspin Toys (Sentinel Butte, ND)</td><td>422</td><td>18818</td></tr>",
                            "<tr><td>32</td><td>Tailspin Toys (Maypearl, TX)</td><td>440</td><td>18627</td></tr>",
                            "<tr><td>78</td><td>Tailspin Toys (Sekiu, WA)</td><td>437</td><td>18441</td></tr>",
                            "<tr><td>907</td><td>Eugen Agafitei</td><td>414</td><td>18373</td></tr>",
                            "<tr><td>140</td><td>Tailspin Toys (Furley, KS)</td><td>408</td><td>18291</td></tr>",
                            "<tr><td>510</td><td>Wingtip Toys (Grabill, IN)</td><td>396</td><td>18215</td></tr>",
                            "<tr><td>110</td><td>Tailspin Toys (North Crows Nest, IN)</td><td>448</td><td>18152</td></tr>",
                            "<tr><td>856</td><td>Satish Mittal</td><td>399</td><td>18085</td></tr>",
                            "<tr><td>545</td><td>Wingtip Toys (Jamison, IA)</td><td>426</td><td>18065</td></tr>",
                            "<tr><td>102</td><td>Tailspin Toys (Fieldbrook, CA)</td><td>410</td><td>18059</td></tr>",
                            "<tr><td>1</td><td>Tailspin Toys (Head Office)</td><td>412</td><td>18011</td></tr>",
                            "<tr><td>527</td><td>Wingtip Toys (Islip Terrace, NY)</td><td>401</td><td>18005</td></tr>",
                            "<tr><td>65</td><td>Tailspin Toys (North Cowden, TX)</td><td>363</td><td>17986</td></tr>",
                            "<tr><td>518</td><td>Wingtip Toys (Raton, NM)</td><td>390</td><td>17971</td></tr>",
                            "<tr><td>70</td><td>Tailspin Toys (New Baden, IL)</td><td>442</td><td>17968</td></tr>",
                            "<tr><td>448</td><td>Wingtip Toys (Salt Wells, NV)</td><td>409</td><td>17943</td></tr>",
                            "<tr><td>981</td><td>Mahmut ozbek</td><td>429</td><td>17807</td></tr>",
                            "<tr><td>841</td><td>Camille Authier</td><td>419</td><td>17775</td></tr>",
                            "<tr><td>804</td><td>Aleksandrs Riekstins</td><td>457</td><td>17743</td></tr>",
                            "<tr><td>906</td><td>Ajitaab Pakalapati</td><td>433</td><td>17701</td></tr>",
                            "<tr><td>186</td><td>Tailspin Toys (Placer, OR)</td><td>401</td><td>17660</td></tr>",
                            "<tr><td>968</td><td>Anca Gogean</td><td>416</td><td>17625</td></tr>",
                            "<tr><td>118</td><td>Tailspin Toys (Vassalboro, ME)</td><td>411</td><td>17612</td></tr>",
                            "<tr><td>900</td><td>Lilli Sokk</td><td>437</td><td>17590</td></tr>",
                            "<tr><td>975</td><td>Prabodh Nair</td><td>443</td><td>17555</td></tr>",
                            "<tr><td>537</td><td>Wingtip Toys (Akhiok, AK)</td><td>365</td><td>17530</td></tr>",
                            "<tr><td>157</td><td>Tailspin Toys (Saks, AL)</td><td>398</td><td>17449</td></tr>",
                            "<tr><td>35</td><td>Tailspin Toys (Slanesville, WV)</td><td>426</td><td>17441</td></tr>",
                            "<tr><td>838</td><td>Pavel Bogdanov</td><td>413</td><td>17426</td></tr>",
                            "<tr><td>38</td><td>Tailspin Toys (Airport Drive, MO)</td><td>411</td><td>17365</td></tr>",
                            "<tr><td>133</td><td>Tailspin Toys (Lake Erie Beach, NY)</td><td>410</td><td>17316</td></tr>",
                            "<tr><td>90</td><td>Tailspin Toys (Tolna, ND)</td><td>454</td><td>17308</td></tr>",
                            "<tr><td>905</td><td>Sara Huiting</td><td>372</td><td>17270</td></tr>",
                            "<tr><td>960</td><td>Edgar Jogi</td><td>414</td><td>17247</td></tr>",
                            "<tr><td>410</td><td>Wingtip Toys (Bernstein, TX)</td><td>417</td><td>17245</td></tr>",
                            "<tr><td>187</td><td>Tailspin Toys (Brown City, MI)</td><td>366</td><td>17237</td></tr>",
                            "<tr><td>493</td><td>Wingtip Toys (Federalsburg, MD)</td><td>423</td><td>17229</td></tr>",
                            "<tr><td>562</td><td>Wingtip Toys (Ware Shoals, SC)</td><td>386</td><td>17225</td></tr>",
                            "<tr><td>976</td><td>Alinne Matos</td><td>416</td><td>17215</td></tr>",
                            "<tr><td>910</td><td>Elina Kaleja</td><td>432</td><td>17195</td></tr>",
                            "<tr><td>107</td><td>Tailspin Toys (Glen Avon, CA)</td><td>386</td><td>17195</td></tr>",
                            "<tr><td>549</td><td>Wingtip Toys (Lake Ronkonkoma, NY)</td><td>369</td><td>17178</td></tr>",
                            "</table>"
                        ]
                    }
                }
            ],
            "execution_count": 58
        }
    ]
}