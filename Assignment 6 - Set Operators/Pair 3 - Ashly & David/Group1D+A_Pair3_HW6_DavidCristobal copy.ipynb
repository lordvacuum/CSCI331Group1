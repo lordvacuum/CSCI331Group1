{
    "metadata": {
        "kernelspec": {
            "name": "SQL",
            "display_name": "SQL",
            "language": "sql"
        },
        "language_info": {
            "name": "sql",
            "version": ""
        }
    },
    "nbformat_minor": 2,
    "nbformat": 4,
    "cells": [
        {
            "cell_type": "markdown",
            "source": [
                "1\\. Query that returns Customer that had orders between MAY 2014 and  June 2014 with activity\n",
                "\n",
                "1.     Decided to look for customer that activity between May and June 2014. Reason I chose these was to show that its important to be able to find certain dates at any giving point to see customer activity in certain days or between dates"
            ],
            "metadata": {
                "azdata_cell_guid": "55e00205-231c-43fa-b807-4543fc830ee6"
            },
            "attachments": {}
        },
        {
            "cell_type": "code",
            "source": [
                "USE AdventureWorks2017\n",
                "GO\n",
                "SELECT CustomerID\n",
                "FROM Sales.SalesOrderHeader\n",
                "WHERE OrderDate >= '2014-05-01' AND OrderDate < '2014-05-31'\n",
                "\n",
                "INTERSECT\n",
                "\n",
                "(SELECT CustomerID\n",
                "FROM Sales.SalesOrderHeader\n",
                "WHERE OrderDate >= '2014-06-01' AND OrderDate < '2014-06-30'\n",
                ")\n",
                ""
            ],
            "metadata": {
                "azdata_cell_guid": "d935abe2-52b7-406c-afdb-0dbc6e6bc865",
                "language": "sql",
                "tags": []
            },
            "outputs": [
                {
                    "output_type": "display_data",
                    "data": {
                        "text/html": "Commands completed successfully."
                    },
                    "metadata": {}
                },
                {
                    "output_type": "display_data",
                    "data": {
                        "text/html": "(63 rows affected)"
                    },
                    "metadata": {}
                },
                {
                    "output_type": "display_data",
                    "data": {
                        "text/html": "Total execution time: 00:00:00.014"
                    },
                    "metadata": {}
                },
                {
                    "output_type": "execute_result",
                    "metadata": {},
                    "execution_count": 2,
                    "data": {
                        "application/vnd.dataresource+json": {
                            "schema": {
                                "fields": [
                                    {
                                        "name": "CustomerID"
                                    }
                                ]
                            },
                            "data": [
                                {
                                    "CustomerID": "11019"
                                },
                                {
                                    "CustomerID": "11085"
                                },
                                {
                                    "CustomerID": "11091"
                                },
                                {
                                    "CustomerID": "11115"
                                },
                                {
                                    "CustomerID": "11131"
                                },
                                {
                                    "CustomerID": "11142"
                                },
                                {
                                    "CustomerID": "11185"
                                },
                                {
                                    "CustomerID": "11200"
                                },
                                {
                                    "CustomerID": "11211"
                                },
                                {
                                    "CustomerID": "11212"
                                },
                                {
                                    "CustomerID": "11223"
                                },
                                {
                                    "CustomerID": "11262"
                                },
                                {
                                    "CustomerID": "11276"
                                },
                                {
                                    "CustomerID": "11287"
                                },
                                {
                                    "CustomerID": "11300"
                                },
                                {
                                    "CustomerID": "11330"
                                },
                                {
                                    "CustomerID": "11331"
                                },
                                {
                                    "CustomerID": "11498"
                                },
                                {
                                    "CustomerID": "11500"
                                },
                                {
                                    "CustomerID": "11501"
                                },
                                {
                                    "CustomerID": "11507"
                                },
                                {
                                    "CustomerID": "11520"
                                },
                                {
                                    "CustomerID": "11566"
                                },
                                {
                                    "CustomerID": "11632"
                                },
                                {
                                    "CustomerID": "11642"
                                },
                                {
                                    "CustomerID": "11659"
                                },
                                {
                                    "CustomerID": "11668"
                                },
                                {
                                    "CustomerID": "11711"
                                },
                                {
                                    "CustomerID": "11715"
                                },
                                {
                                    "CustomerID": "11801"
                                },
                                {
                                    "CustomerID": "11824"
                                },
                                {
                                    "CustomerID": "11856"
                                },
                                {
                                    "CustomerID": "12008"
                                },
                                {
                                    "CustomerID": "12056"
                                },
                                {
                                    "CustomerID": "12088"
                                },
                                {
                                    "CustomerID": "12159"
                                },
                                {
                                    "CustomerID": "12203"
                                },
                                {
                                    "CustomerID": "12351"
                                },
                                {
                                    "CustomerID": "12740"
                                },
                                {
                                    "CustomerID": "13624"
                                },
                                {
                                    "CustomerID": "13707"
                                },
                                {
                                    "CustomerID": "13762"
                                },
                                {
                                    "CustomerID": "13798"
                                },
                                {
                                    "CustomerID": "13830"
                                },
                                {
                                    "CustomerID": "14054"
                                },
                                {
                                    "CustomerID": "14079"
                                },
                                {
                                    "CustomerID": "14265"
                                },
                                {
                                    "CustomerID": "14282"
                                },
                                {
                                    "CustomerID": "14371"
                                },
                                {
                                    "CustomerID": "14632"
                                },
                                {
                                    "CustomerID": "14679"
                                },
                                {
                                    "CustomerID": "14684"
                                },
                                {
                                    "CustomerID": "15197"
                                },
                                {
                                    "CustomerID": "15594"
                                },
                                {
                                    "CustomerID": "15761"
                                },
                                {
                                    "CustomerID": "15796"
                                },
                                {
                                    "CustomerID": "16106"
                                },
                                {
                                    "CustomerID": "16133"
                                },
                                {
                                    "CustomerID": "16370"
                                },
                                {
                                    "CustomerID": "16730"
                                },
                                {
                                    "CustomerID": "16800"
                                },
                                {
                                    "CustomerID": "16849"
                                },
                                {
                                    "CustomerID": "19573"
                                }
                            ]
                        },
                        "text/html": [
                            "<table>",
                            "<tr><th>CustomerID</th></tr>",
                            "<tr><td>11019</td></tr>",
                            "<tr><td>11085</td></tr>",
                            "<tr><td>11091</td></tr>",
                            "<tr><td>11115</td></tr>",
                            "<tr><td>11131</td></tr>",
                            "<tr><td>11142</td></tr>",
                            "<tr><td>11185</td></tr>",
                            "<tr><td>11200</td></tr>",
                            "<tr><td>11211</td></tr>",
                            "<tr><td>11212</td></tr>",
                            "<tr><td>11223</td></tr>",
                            "<tr><td>11262</td></tr>",
                            "<tr><td>11276</td></tr>",
                            "<tr><td>11287</td></tr>",
                            "<tr><td>11300</td></tr>",
                            "<tr><td>11330</td></tr>",
                            "<tr><td>11331</td></tr>",
                            "<tr><td>11498</td></tr>",
                            "<tr><td>11500</td></tr>",
                            "<tr><td>11501</td></tr>",
                            "<tr><td>11507</td></tr>",
                            "<tr><td>11520</td></tr>",
                            "<tr><td>11566</td></tr>",
                            "<tr><td>11632</td></tr>",
                            "<tr><td>11642</td></tr>",
                            "<tr><td>11659</td></tr>",
                            "<tr><td>11668</td></tr>",
                            "<tr><td>11711</td></tr>",
                            "<tr><td>11715</td></tr>",
                            "<tr><td>11801</td></tr>",
                            "<tr><td>11824</td></tr>",
                            "<tr><td>11856</td></tr>",
                            "<tr><td>12008</td></tr>",
                            "<tr><td>12056</td></tr>",
                            "<tr><td>12088</td></tr>",
                            "<tr><td>12159</td></tr>",
                            "<tr><td>12203</td></tr>",
                            "<tr><td>12351</td></tr>",
                            "<tr><td>12740</td></tr>",
                            "<tr><td>13624</td></tr>",
                            "<tr><td>13707</td></tr>",
                            "<tr><td>13762</td></tr>",
                            "<tr><td>13798</td></tr>",
                            "<tr><td>13830</td></tr>",
                            "<tr><td>14054</td></tr>",
                            "<tr><td>14079</td></tr>",
                            "<tr><td>14265</td></tr>",
                            "<tr><td>14282</td></tr>",
                            "<tr><td>14371</td></tr>",
                            "<tr><td>14632</td></tr>",
                            "<tr><td>14679</td></tr>",
                            "<tr><td>14684</td></tr>",
                            "<tr><td>15197</td></tr>",
                            "<tr><td>15594</td></tr>",
                            "<tr><td>15761</td></tr>",
                            "<tr><td>15796</td></tr>",
                            "<tr><td>16106</td></tr>",
                            "<tr><td>16133</td></tr>",
                            "<tr><td>16370</td></tr>",
                            "<tr><td>16730</td></tr>",
                            "<tr><td>16800</td></tr>",
                            "<tr><td>16849</td></tr>",
                            "<tr><td>19573</td></tr>",
                            "</table>"
                        ]
                    }
                }
            ],
            "execution_count": 2
        },
        {
            "cell_type": "markdown",
            "source": [
                "2. Query that returns Employees that had quotas between MAY 2014 and  June 2014 with activity. \n",
                "\n",
                "        <span style=\"font-size: 12pt;\">Wanted to find employees with certain sales quotas within certain dates, but there weren’t any in those specific dates, as a business perspective it’s good to know if employees have them or meeting them. USING INTERSECT<o:p></o:p></span>"
            ],
            "metadata": {
                "azdata_cell_guid": "aad556cb-c06c-46da-9ef7-9f6fd8424d9b"
            },
            "attachments": {}
        },
        {
            "cell_type": "code",
            "source": [
                "USE AdventureWorks2017\n",
                "GO\n",
                "SELECT s.BusinessEntityID\n",
                "FROM Sales.SalesPerson s\n",
                "JOIN sales.SalesPersonQuotaHistory AS sp\n",
                "ON s.BusinessEntityID = sp.BusinessEntityID\n",
                "WHERE QuotaDate >= '2014-05-01' AND QuotaDate < '2014-05-30'\n",
                "\n",
                "INTERSECT\n",
                "\n",
                "(SELECT s.BusinessEntityID\n",
                "FROM Sales.SalesPerson AS s\n",
                "JOIN Sales.SalesPersonQuotaHistory AS sp \n",
                "ON s.BusinessEntityID = sp.BusinessEntityID\n",
                "WHERE QuotaDate >= '2014-06-01' AND QuotaDate < '2014-07-01'\n",
                ")\n",
                "\n",
                ""
            ],
            "metadata": {
                "azdata_cell_guid": "011efc31-3a5a-4d8f-9fb4-31f72165df98",
                "language": "sql",
                "tags": []
            },
            "outputs": [
                {
                    "output_type": "display_data",
                    "data": {
                        "text/html": "Commands completed successfully."
                    },
                    "metadata": {}
                },
                {
                    "output_type": "display_data",
                    "data": {
                        "text/html": "(0 rows affected)"
                    },
                    "metadata": {}
                },
                {
                    "output_type": "display_data",
                    "data": {
                        "text/html": "Total execution time: 00:00:00.017"
                    },
                    "metadata": {}
                },
                {
                    "output_type": "execute_result",
                    "metadata": {},
                    "execution_count": 3,
                    "data": {
                        "application/vnd.dataresource+json": {
                            "schema": {
                                "fields": [
                                    {
                                        "name": "BusinessEntityID"
                                    }
                                ]
                            },
                            "data": []
                        },
                        "text/html": [
                            "<table>",
                            "<tr><th>BusinessEntityID</th></tr>",
                            "</table>"
                        ]
                    }
                }
            ],
            "execution_count": 3
        },
        {
            "cell_type": "markdown",
            "source": [
                "3. Query that <span style=\"color: #0000ff;\">returns</span> Customer MAY <span style=\"color: #09885a;\">2014</span> <span style=\"color: #0000ff;\">with</span> activity <span style=\"color: #0000ff;\">except</span> november <span style=\"color: #09885a;\">2013</span>\n",
                "\n",
                "      <span style=\"font-size: 12pt;\">Picked this query to retrieve customers that made purchases in May 2014 and not in November 2013 with EXCEPT.<o:p></o:p></span>"
            ],
            "metadata": {
                "azdata_cell_guid": "de14f234-f571-40cf-bf9c-3d3e08512f0d"
            },
            "attachments": {}
        },
        {
            "cell_type": "code",
            "source": [
                "USE AdventureWorks2017\n",
                "GO\n",
                "SELECT CustomerID\n",
                "FROM Sales.SalesOrderHeader\n",
                "WHERE OrderDate >= '2014-05-01' AND OrderDate < '2014-06-01'\n",
                "EXCEPT\n",
                "SELECT CustomerID\n",
                "FROM Sales.SalesOrderHeader\n",
                "WHERE OrderDate >= '2013-11-01' AND OrderDate < '2013-12-01'"
            ],
            "metadata": {
                "azdata_cell_guid": "583647a5-0954-4239-a3a9-ed6bef1eddd7",
                "language": "sql",
                "tags": []
            },
            "outputs": [
                {
                    "output_type": "display_data",
                    "data": {
                        "text/html": "Commands completed successfully."
                    },
                    "metadata": {}
                },
                {
                    "output_type": "display_data",
                    "data": {
                        "text/html": "(2264 rows affected)"
                    },
                    "metadata": {}
                },
                {
                    "output_type": "display_data",
                    "data": {
                        "text/html": "Total execution time: 00:00:00.019"
                    },
                    "metadata": {}
                },
                {
                    "output_type": "execute_result",
                    "execution_count": 15,
                    "data": {
                        "application/vnd.dataresource+json": {
                            "schema": {
                                "fields": [
                                    {
                                        "name": "CustomerID"
                                    }
                                ]
                            },
                            "data": [
                                {
                                    "CustomerID": "24474"
                                },
                                {
                                    "CustomerID": "20561"
                                },
                                {
                                    "CustomerID": "27723"
                                },
                                {
                                    "CustomerID": "18878"
                                },
                                {
                                    "CustomerID": "25493"
                                },
                                {
                                    "CustomerID": "16671"
                                },
                                {
                                    "CustomerID": "19210"
                                },
                                {
                                    "CustomerID": "17550"
                                },
                                {
                                    "CustomerID": "14679"
                                },
                                {
                                    "CustomerID": "16531"
                                },
                                {
                                    "CustomerID": "29429"
                                },
                                {
                                    "CustomerID": "12117"
                                },
                                {
                                    "CustomerID": "28433"
                                },
                                {
                                    "CustomerID": "13777"
                                },
                                {
                                    "CustomerID": "17504"
                                },
                                {
                                    "CustomerID": "16176"
                                },
                                {
                                    "CustomerID": "23455"
                                },
                                {
                                    "CustomerID": "28078"
                                },
                                {
                                    "CustomerID": "18168"
                                },
                                {
                                    "CustomerID": "29552"
                                },
                                {
                                    "CustomerID": "28224"
                                },
                                {
                                    "CustomerID": "24311"
                                },
                                {
                                    "CustomerID": "28888"
                                },
                                {
                                    "CustomerID": "15134"
                                },
                                {
                                    "CustomerID": "18091"
                                },
                                {
                                    "CustomerID": "28247"
                                },
                                {
                                    "CustomerID": "12263"
                                },
                                {
                                    "CustomerID": "15529"
                                },
                                {
                                    "CustomerID": "27013"
                                },
                                {
                                    "CustomerID": "26867"
                                },
                                {
                                    "CustomerID": "15506"
                                },
                                {
                                    "CustomerID": "24334"
                                },
                                {
                                    "CustomerID": "13637"
                                },
                                {
                                    "CustomerID": "15088"
                                },
                                {
                                    "CustomerID": "29721"
                                },
                                {
                                    "CustomerID": "29638"
                                },
                                {
                                    "CustomerID": "12326"
                                },
                                {
                                    "CustomerID": "20235"
                                },
                                {
                                    "CustomerID": "24480"
                                },
                                {
                                    "CustomerID": "21480"
                                },
                                {
                                    "CustomerID": "25499"
                                },
                                {
                                    "CustomerID": "16216"
                                },
                                {
                                    "CustomerID": "28264"
                                },
                                {
                                    "CustomerID": "22605"
                                },
                                {
                                    "CustomerID": "28596"
                                },
                                {
                                    "CustomerID": "22854"
                                },
                                {
                                    "CustomerID": "22937"
                                },
                                {
                                    "CustomerID": "29343"
                                },
                                {
                                    "CustomerID": "16940"
                                },
                                {
                                    "CustomerID": "23873"
                                },
                                {
                                    "CustomerID": "11676"
                                },
                                {
                                    "CustomerID": "24328"
                                },
                                {
                                    "CustomerID": "27660"
                                },
                                {
                                    "CustomerID": "16402"
                                },
                                {
                                    "CustomerID": "13159"
                                },
                                {
                                    "CustomerID": "15466"
                                },
                                {
                                    "CustomerID": "26243"
                                },
                                {
                                    "CustomerID": "15761"
                                },
                                {
                                    "CustomerID": "26286"
                                },
                                {
                                    "CustomerID": "18028"
                                },
                                {
                                    "CustomerID": "26681"
                                },
                                {
                                    "CustomerID": "25599"
                                },
                                {
                                    "CustomerID": "12864"
                                },
                                {
                                    "CustomerID": "13700"
                                },
                                {
                                    "CustomerID": "19356"
                                },
                                {
                                    "CustomerID": "29535"
                                },
                                {
                                    "CustomerID": "18715"
                                },
                                {
                                    "CustomerID": "20043"
                                },
                                {
                                    "CustomerID": "19316"
                                },
                                {
                                    "CustomerID": "18818"
                                },
                                {
                                    "CustomerID": "29870"
                                },
                                {
                                    "CustomerID": "27829"
                                },
                                {
                                    "CustomerID": "14716"
                                },
                                {
                                    "CustomerID": "12011"
                                },
                                {
                                    "CustomerID": "23870"
                                },
                                {
                                    "CustomerID": "29678"
                                },
                                {
                                    "CustomerID": "29346"
                                },
                                {
                                    "CustomerID": "20690"
                                },
                                {
                                    "CustomerID": "12867"
                                },
                                {
                                    "CustomerID": "29701"
                                },
                                {
                                    "CustomerID": "21045"
                                },
                                {
                                    "CustomerID": "11848"
                                },
                                {
                                    "CustomerID": "22041"
                                },
                                {
                                    "CustomerID": "19840"
                                },
                                {
                                    "CustomerID": "19485"
                                },
                                {
                                    "CustomerID": "11991"
                                },
                                {
                                    "CustomerID": "24560"
                                },
                                {
                                    "CustomerID": "18460"
                                },
                                {
                                    "CustomerID": "21921"
                                },
                                {
                                    "CustomerID": "14032"
                                },
                                {
                                    "CustomerID": "12532"
                                },
                                {
                                    "CustomerID": "11842"
                                },
                                {
                                    "CustomerID": "19293"
                                },
                                {
                                    "CustomerID": "14547"
                                },
                                {
                                    "CustomerID": "20567"
                                },
                                {
                                    "CustomerID": "14069"
                                },
                                {
                                    "CustomerID": "29864"
                                },
                                {
                                    "CustomerID": "21835"
                                },
                                {
                                    "CustomerID": "13179"
                                },
                                {
                                    "CustomerID": "20212"
                                },
                                {
                                    "CustomerID": "12054"
                                },
                                {
                                    "CustomerID": "11556"
                                },
                                {
                                    "CustomerID": "28868"
                                },
                                {
                                    "CustomerID": "25038"
                                },
                                {
                                    "CustomerID": "21941"
                                },
                                {
                                    "CustomerID": "13534"
                                },
                                {
                                    "CustomerID": "16027"
                                },
                                {
                                    "CustomerID": "16276"
                                },
                                {
                                    "CustomerID": "18944"
                                },
                                {
                                    "CustomerID": "24291"
                                },
                                {
                                    "CustomerID": "16631"
                                },
                                {
                                    "CustomerID": "18881"
                                },
                                {
                                    "CustomerID": "29801"
                                },
                                {
                                    "CustomerID": "19236"
                                },
                                {
                                    "CustomerID": "19230"
                                },
                                {
                                    "CustomerID": "29950"
                                },
                                {
                                    "CustomerID": "21792"
                                },
                                {
                                    "CustomerID": "16923"
                                },
                                {
                                    "CustomerID": "27743"
                                },
                                {
                                    "CustomerID": "16966"
                                },
                                {
                                    "CustomerID": "28284"
                                },
                                {
                                    "CustomerID": "20753"
                                },
                                {
                                    "CustomerID": "11115"
                                },
                                {
                                    "CustomerID": "22774"
                                },
                                {
                                    "CustomerID": "11364"
                                },
                                {
                                    "CustomerID": "15051"
                                },
                                {
                                    "CustomerID": "11264"
                                },
                                {
                                    "CustomerID": "13969"
                                },
                                {
                                    "CustomerID": "18838"
                                },
                                {
                                    "CustomerID": "16133"
                                },
                                {
                                    "CustomerID": "25330"
                                },
                                {
                                    "CustomerID": "19731"
                                },
                                {
                                    "CustomerID": "14490"
                                },
                                {
                                    "CustomerID": "20063"
                                },
                                {
                                    "CustomerID": "15818"
                                },
                                {
                                    "CustomerID": "26561"
                                },
                                {
                                    "CustomerID": "18403"
                                },
                                {
                                    "CustomerID": "24308"
                                },
                                {
                                    "CustomerID": "24331"
                                },
                                {
                                    "CustomerID": "16505"
                                },
                                {
                                    "CustomerID": "16837"
                                },
                                {
                                    "CustomerID": "23667"
                                },
                                {
                                    "CustomerID": "26206"
                                },
                                {
                                    "CustomerID": "29100"
                                },
                                {
                                    "CustomerID": "25851"
                                },
                                {
                                    "CustomerID": "20773"
                                },
                                {
                                    "CustomerID": "21437"
                                },
                                {
                                    "CustomerID": "14991"
                                },
                                {
                                    "CustomerID": "12406"
                                },
                                {
                                    "CustomerID": "11078"
                                },
                                {
                                    "CustomerID": "29741"
                                },
                                {
                                    "CustomerID": "16296"
                                },
                                {
                                    "CustomerID": "13634"
                                },
                                {
                                    "CustomerID": "23126"
                                },
                                {
                                    "CustomerID": "22857"
                                },
                                {
                                    "CustomerID": "22934"
                                },
                                {
                                    "CustomerID": "15532"
                                },
                                {
                                    "CustomerID": "12778"
                                },
                                {
                                    "CustomerID": "30113"
                                },
                                {
                                    "CustomerID": "29572"
                                },
                                {
                                    "CustomerID": "21752"
                                },
                                {
                                    "CustomerID": "28244"
                                },
                                {
                                    "CustomerID": "23621"
                                },
                                {
                                    "CustomerID": "29887"
                                },
                                {
                                    "CustomerID": "12824"
                                },
                                {
                                    "CustomerID": "21065"
                                },
                                {
                                    "CustomerID": "18480"
                                },
                                {
                                    "CustomerID": "24231"
                                },
                                {
                                    "CustomerID": "21314"
                                },
                                {
                                    "CustomerID": "22061"
                                },
                                {
                                    "CustomerID": "13156"
                                },
                                {
                                    "CustomerID": "13511"
                                },
                                {
                                    "CustomerID": "27872"
                                },
                                {
                                    "CustomerID": "17839"
                                },
                                {
                                    "CustomerID": "15718"
                                },
                                {
                                    "CustomerID": "13548"
                                },
                                {
                                    "CustomerID": "29933"
                                },
                                {
                                    "CustomerID": "22608"
                                },
                                {
                                    "CustomerID": "18858"
                                },
                                {
                                    "CustomerID": "18526"
                                },
                                {
                                    "CustomerID": "19940"
                                },
                                {
                                    "CustomerID": "20936"
                                },
                                {
                                    "CustomerID": "21623"
                                },
                                {
                                    "CustomerID": "14344"
                                },
                                {
                                    "CustomerID": "15672"
                                },
                                {
                                    "CustomerID": "19004"
                                },
                                {
                                    "CustomerID": "29635"
                                },
                                {
                                    "CustomerID": "28058"
                                },
                                {
                                    "CustomerID": "29392"
                                },
                                {
                                    "CustomerID": "18566"
                                },
                                {
                                    "CustomerID": "27471"
                                },
                                {
                                    "CustomerID": "16259"
                                },
                                {
                                    "CustomerID": "22253"
                                },
                                {
                                    "CustomerID": "29927"
                                },
                                {
                                    "CustomerID": "12369"
                                },
                                {
                                    "CustomerID": "22602"
                                },
                                {
                                    "CustomerID": "17779"
                                },
                                {
                                    "CustomerID": "16946"
                                },
                                {
                                    "CustomerID": "15615"
                                },
                                {
                                    "CustomerID": "24517"
                                },
                                {
                                    "CustomerID": "29781"
                                },
                                {
                                    "CustomerID": "18420"
                                },
                                {
                                    "CustomerID": "11682"
                                },
                                {
                                    "CustomerID": "11928"
                                },
                                {
                                    "CustomerID": "27912"
                                },
                                {
                                    "CustomerID": "23043"
                                },
                                {
                                    "CustomerID": "29240"
                                },
                                {
                                    "CustomerID": "28158"
                                },
                                {
                                    "CustomerID": "22748"
                                },
                                {
                                    "CustomerID": "22207"
                                },
                                {
                                    "CustomerID": "23063"
                                },
                                {
                                    "CustomerID": "26644"
                                },
                                {
                                    "CustomerID": "28636"
                                },
                                {
                                    "CustomerID": "11679"
                                },
                                {
                                    "CustomerID": "15048"
                                },
                                {
                                    "CustomerID": "11845"
                                },
                                {
                                    "CustomerID": "20003"
                                },
                                {
                                    "CustomerID": "12841"
                                },
                                {
                                    "CustomerID": "15546"
                                },
                                {
                                    "CustomerID": "29847"
                                },
                                {
                                    "CustomerID": "22851"
                                },
                                {
                                    "CustomerID": "30033"
                                },
                                {
                                    "CustomerID": "29492"
                                },
                                {
                                    "CustomerID": "18463"
                                },
                                {
                                    "CustomerID": "25078"
                                },
                                {
                                    "CustomerID": "29369"
                                },
                                {
                                    "CustomerID": "12157"
                                },
                                {
                                    "CustomerID": "15240"
                                },
                                {
                                    "CustomerID": "23896"
                                },
                                {
                                    "CustomerID": "27305"
                                },
                                {
                                    "CustomerID": "19313"
                                },
                                {
                                    "CustomerID": "19319"
                                },
                                {
                                    "CustomerID": "21311"
                                },
                                {
                                    "CustomerID": "28616"
                                },
                                {
                                    "CustomerID": "17132"
                                },
                                {
                                    "CustomerID": "28118"
                                },
                                {
                                    "CustomerID": "19296"
                                },
                                {
                                    "CustomerID": "28516"
                                },
                                {
                                    "CustomerID": "19439"
                                },
                                {
                                    "CustomerID": "20521"
                                },
                                {
                                    "CustomerID": "15360"
                                },
                                {
                                    "CustomerID": "20670"
                                },
                                {
                                    "CustomerID": "14719"
                                },
                                {
                                    "CustomerID": "29804"
                                },
                                {
                                    "CustomerID": "30053"
                                },
                                {
                                    "CustomerID": "21148"
                                },
                                {
                                    "CustomerID": "16820"
                                },
                                {
                                    "CustomerID": "13239"
                                },
                                {
                                    "CustomerID": "16073"
                                },
                                {
                                    "CustomerID": "18337"
                                },
                                {
                                    "CustomerID": "11224"
                                },
                                {
                                    "CustomerID": "26993"
                                },
                                {
                                    "CustomerID": "27846"
                                },
                                {
                                    "CustomerID": "28679"
                                },
                                {
                                    "CustomerID": "18941"
                                },
                                {
                                    "CustomerID": "19276"
                                },
                                {
                                    "CustomerID": "23518"
                                },
                                {
                                    "CustomerID": "15340"
                                },
                                {
                                    "CustomerID": "25582"
                                },
                                {
                                    "CustomerID": "19668"
                                },
                                {
                                    "CustomerID": "21291"
                                },
                                {
                                    "CustomerID": "16926"
                                },
                                {
                                    "CustomerID": "13631"
                                },
                                {
                                    "CustomerID": "18586"
                                },
                                {
                                    "CustomerID": "11659"
                                },
                                {
                                    "CustomerID": "15489"
                                },
                                {
                                    "CustomerID": "20564"
                                },
                                {
                                    "CustomerID": "15738"
                                },
                                {
                                    "CustomerID": "24892"
                                },
                                {
                                    "CustomerID": "18400"
                                },
                                {
                                    "CustomerID": "11802"
                                },
                                {
                                    "CustomerID": "28579"
                                },
                                {
                                    "CustomerID": "28081"
                                },
                                {
                                    "CustomerID": "24245"
                                },
                                {
                                    "CustomerID": "16628"
                                },
                                {
                                    "CustomerID": "11261"
                                },
                                {
                                    "CustomerID": "13966"
                                },
                                {
                                    "CustomerID": "29512"
                                },
                                {
                                    "CustomerID": "20607"
                                },
                                {
                                    "CustomerID": "18443"
                                },
                                {
                                    "CustomerID": "15197"
                                },
                                {
                                    "CustomerID": "16379"
                                },
                                {
                                    "CustomerID": "25084"
                                },
                                {
                                    "CustomerID": "21297"
                                },
                                {
                                    "CustomerID": "11510"
                                },
                                {
                                    "CustomerID": "26166"
                                },
                                {
                                    "CustomerID": "29644"
                                },
                                {
                                    "CustomerID": "21154"
                                },
                                {
                                    "CustomerID": "11668"
                                },
                                {
                                    "CustomerID": "25067"
                                },
                                {
                                    "CustomerID": "25376"
                                },
                                {
                                    "CustomerID": "16554"
                                },
                                {
                                    "CustomerID": "21509"
                                },
                                {
                                    "CustomerID": "29690"
                                },
                                {
                                    "CustomerID": "25777"
                                },
                                {
                                    "CustomerID": "15867"
                                },
                                {
                                    "CustomerID": "14038"
                                },
                                {
                                    "CustomerID": "26441"
                                },
                                {
                                    "CustomerID": "13729"
                                },
                                {
                                    "CustomerID": "14725"
                                },
                                {
                                    "CustomerID": "25090"
                                },
                                {
                                    "CustomerID": "22906"
                                },
                                {
                                    "CustomerID": "14493"
                                },
                                {
                                    "CustomerID": "18993"
                                },
                                {
                                    "CustomerID": "15412"
                                },
                                {
                                    "CustomerID": "24234"
                                },
                                {
                                    "CustomerID": "26819"
                                },
                                {
                                    "CustomerID": "27483"
                                },
                                {
                                    "CustomerID": "18406"
                                },
                                {
                                    "CustomerID": "16099"
                                },
                                {
                                    "CustomerID": "18429"
                                },
                                {
                                    "CustomerID": "17642"
                                },
                                {
                                    "CustomerID": "26919"
                                },
                                {
                                    "CustomerID": "25591"
                                },
                                {
                                    "CustomerID": "25585"
                                },
                                {
                                    "CustomerID": "11791"
                                },
                                {
                                    "CustomerID": "22196"
                                },
                                {
                                    "CustomerID": "28193"
                                },
                                {
                                    "CustomerID": "13537"
                                },
                                {
                                    "CustomerID": "21532"
                                },
                                {
                                    "CustomerID": "22860"
                                },
                                {
                                    "CustomerID": "29498"
                                },
                                {
                                    "CustomerID": "13514"
                                },
                                {
                                    "CustomerID": "15727"
                                },
                                {
                                    "CustomerID": "16268"
                                },
                                {
                                    "CustomerID": "12973"
                                },
                                {
                                    "CustomerID": "29982"
                                },
                                {
                                    "CustomerID": "18824"
                                },
                                {
                                    "CustomerID": "15575"
                                },
                                {
                                    "CustomerID": "19156"
                                },
                                {
                                    "CustomerID": "17579"
                                },
                                {
                                    "CustomerID": "21824"
                                },
                                {
                                    "CustomerID": "14888"
                                },
                                {
                                    "CustomerID": "11685"
                                },
                                {
                                    "CustomerID": "18515"
                                },
                                {
                                    "CustomerID": "16560"
                                },
                                {
                                    "CustomerID": "15621"
                                },
                                {
                                    "CustomerID": "13643"
                                },
                                {
                                    "CustomerID": "26295"
                                },
                                {
                                    "CustomerID": "16262"
                                },
                                {
                                    "CustomerID": "23885"
                                },
                                {
                                    "CustomerID": "13311"
                                },
                                {
                                    "CustomerID": "25545"
                                },
                                {
                                    "CustomerID": "21672"
                                },
                                {
                                    "CustomerID": "29730"
                                },
                                {
                                    "CustomerID": "20736"
                                },
                                {
                                    "CustomerID": "16159"
                                },
                                {
                                    "CustomerID": "12810"
                                },
                                {
                                    "CustomerID": "19302"
                                },
                                {
                                    "CustomerID": "15472"
                                },
                                {
                                    "CustomerID": "26587"
                                },
                                {
                                    "CustomerID": "16308"
                                },
                                {
                                    "CustomerID": "18615"
                                },
                                {
                                    "CustomerID": "22943"
                                },
                                {
                                    "CustomerID": "22110"
                                },
                                {
                                    "CustomerID": "11877"
                                },
                                {
                                    "CustomerID": "22797"
                                },
                                {
                                    "CustomerID": "29395"
                                },
                                {
                                    "CustomerID": "16660"
                                },
                                {
                                    "CustomerID": "16494"
                                },
                                {
                                    "CustomerID": "21735"
                                },
                                {
                                    "CustomerID": "16351"
                                },
                                {
                                    "CustomerID": "18177"
                                },
                                {
                                    "CustomerID": "20716"
                                },
                                {
                                    "CustomerID": "19222"
                                },
                                {
                                    "CustomerID": "27712"
                                },
                                {
                                    "CustomerID": "30105"
                                },
                                {
                                    "CustomerID": "18867"
                                },
                                {
                                    "CustomerID": "12203"
                                },
                                {
                                    "CustomerID": "29750"
                                },
                                {
                                    "CustomerID": "19385"
                                },
                                {
                                    "CustomerID": "23799"
                                },
                                {
                                    "CustomerID": "22803"
                                },
                                {
                                    "CustomerID": "26647"
                                },
                                {
                                    "CustomerID": "17493"
                                },
                                {
                                    "CustomerID": "27898"
                                },
                                {
                                    "CustomerID": "29962"
                                },
                                {
                                    "CustomerID": "29421"
                                },
                                {
                                    "CustomerID": "26126"
                                },
                                {
                                    "CustomerID": "15804"
                                },
                                {
                                    "CustomerID": "24134"
                                },
                                {
                                    "CustomerID": "21429"
                                },
                                {
                                    "CustomerID": "21927"
                                },
                                {
                                    "CustomerID": "29770"
                                },
                                {
                                    "CustomerID": "13955"
                                },
                                {
                                    "CustomerID": "18532"
                                },
                                {
                                    "CustomerID": "26524"
                                },
                                {
                                    "CustomerID": "19365"
                                },
                                {
                                    "CustomerID": "17201"
                                },
                                {
                                    "CustomerID": "26547"
                                },
                                {
                                    "CustomerID": "16637"
                                },
                                {
                                    "CustomerID": "23301"
                                },
                                {
                                    "CustomerID": "17178"
                                },
                                {
                                    "CustomerID": "11940"
                                },
                                {
                                    "CustomerID": "14055"
                                },
                                {
                                    "CustomerID": "26567"
                                },
                                {
                                    "CustomerID": "19322"
                                },
                                {
                                    "CustomerID": "18160"
                                },
                                {
                                    "CustomerID": "25571"
                                },
                                {
                                    "CustomerID": "23009"
                                },
                                {
                                    "CustomerID": "17058"
                                },
                                {
                                    "CustomerID": "13726"
                                },
                                {
                                    "CustomerID": "12730"
                                },
                                {
                                    "CustomerID": "27208"
                                },
                                {
                                    "CustomerID": "21386"
                                },
                                {
                                    "CustomerID": "20367"
                                },
                                {
                                    "CustomerID": "26355"
                                },
                                {
                                    "CustomerID": "28190"
                                },
                                {
                                    "CustomerID": "16288"
                                },
                                {
                                    "CustomerID": "15598"
                                },
                                {
                                    "CustomerID": "20012"
                                },
                                {
                                    "CustomerID": "12893"
                                },
                                {
                                    "CustomerID": "24254"
                                },
                                {
                                    "CustomerID": "26653"
                                },
                                {
                                    "CustomerID": "22817"
                                },
                                {
                                    "CustomerID": "20659"
                                },
                                {
                                    "CustomerID": "29956"
                                },
                                {
                                    "CustomerID": "22923"
                                },
                                {
                                    "CustomerID": "29856"
                                },
                                {
                                    "CustomerID": "13036"
                                },
                                {
                                    "CustomerID": "25279"
                                },
                                {
                                    "CustomerID": "28525"
                                },
                                {
                                    "CustomerID": "29707"
                                },
                                {
                                    "CustomerID": "16182"
                                },
                                {
                                    "CustomerID": "18887"
                                },
                                {
                                    "CustomerID": "29810"
                                },
                                {
                                    "CustomerID": "24237"
                                },
                                {
                                    "CustomerID": "12830"
                                },
                                {
                                    "CustomerID": "27818"
                                },
                                {
                                    "CustomerID": "11170"
                                },
                                {
                                    "CustomerID": "29501"
                                },
                                {
                                    "CustomerID": "22007"
                                },
                                {
                                    "CustomerID": "23882"
                                },
                                {
                                    "CustomerID": "23218"
                                },
                                {
                                    "CustomerID": "15060"
                                },
                                {
                                    "CustomerID": "28104"
                                },
                                {
                                    "CustomerID": "22199"
                                },
                                {
                                    "CustomerID": "18117"
                                },
                                {
                                    "CustomerID": "18781"
                                },
                                {
                                    "CustomerID": "23713"
                                },
                                {
                                    "CustomerID": "18426"
                                },
                                {
                                    "CustomerID": "11001"
                                },
                                {
                                    "CustomerID": "18827"
                                },
                                {
                                    "CustomerID": "18263"
                                },
                                {
                                    "CustomerID": "23427"
                                },
                                {
                                    "CustomerID": "26298"
                                },
                                {
                                    "CustomerID": "28296"
                                },
                                {
                                    "CustomerID": "18804"
                                },
                                {
                                    "CustomerID": "11642"
                                },
                                {
                                    "CustomerID": "18286"
                                },
                                {
                                    "CustomerID": "19119"
                                },
                                {
                                    "CustomerID": "25047"
                                },
                                {
                                    "CustomerID": "18432"
                                },
                                {
                                    "CustomerID": "13022"
                                },
                                {
                                    "CustomerID": "14227"
                                },
                                {
                                    "CustomerID": "26129"
                                },
                                {
                                    "CustomerID": "21506"
                                },
                                {
                                    "CustomerID": "26916"
                                },
                                {
                                    "CustomerID": "15077"
                                },
                                {
                                    "CustomerID": "15515"
                                },
                                {
                                    "CustomerID": "14187"
                                },
                                {
                                    "CustomerID": "30019"
                                },
                                {
                                    "CustomerID": "29687"
                                },
                                {
                                    "CustomerID": "19952"
                                },
                                {
                                    "CustomerID": "21280"
                                },
                                {
                                    "CustomerID": "12870"
                                },
                                {
                                    "CustomerID": "18363"
                                },
                                {
                                    "CustomerID": "18280"
                                },
                                {
                                    "CustomerID": "29873"
                                },
                                {
                                    "CustomerID": "21967"
                                },
                                {
                                    "CustomerID": "28250"
                                },
                                {
                                    "CustomerID": "26922"
                                },
                                {
                                    "CustomerID": "16348"
                                },
                                {
                                    "CustomerID": "12916"
                                },
                                {
                                    "CustomerID": "16497"
                                },
                                {
                                    "CustomerID": "17825"
                                },
                                {
                                    "CustomerID": "14244"
                                },
                                {
                                    "CustomerID": "11974"
                                },
                                {
                                    "CustomerID": "13646"
                                },
                                {
                                    "CustomerID": "22800"
                                },
                                {
                                    "CustomerID": "27958"
                                },
                                {
                                    "CustomerID": "14974"
                                },
                                {
                                    "CustomerID": "28751"
                                },
                                {
                                    "CustomerID": "18864"
                                },
                                {
                                    "CustomerID": "24028"
                                },
                                {
                                    "CustomerID": "12959"
                                },
                                {
                                    "CustomerID": "29584"
                                },
                                {
                                    "CustomerID": "14682"
                                },
                                {
                                    "CustomerID": "19305"
                                },
                                {
                                    "CustomerID": "16305"
                                },
                                {
                                    "CustomerID": "25502"
                                },
                                {
                                    "CustomerID": "26146"
                                },
                                {
                                    "CustomerID": "20905"
                                },
                                {
                                    "CustomerID": "28565"
                                },
                                {
                                    "CustomerID": "16849"
                                },
                                {
                                    "CustomerID": "11230"
                                },
                                {
                                    "CustomerID": "24841"
                                },
                                {
                                    "CustomerID": "25694"
                                },
                                {
                                    "CustomerID": "13125"
                                },
                                {
                                    "CustomerID": "13792"
                                },
                                {
                                    "CustomerID": "29441"
                                },
                                {
                                    "CustomerID": "30082"
                                },
                                {
                                    "CustomerID": "16471"
                                },
                                {
                                    "CustomerID": "18512"
                                },
                                {
                                    "CustomerID": "15807"
                                },
                                {
                                    "CustomerID": "19053"
                                },
                                {
                                    "CustomerID": "20762"
                                },
                                {
                                    "CustomerID": "28422"
                                },
                                {
                                    "CustomerID": "29418"
                                },
                                {
                                    "CustomerID": "17516"
                                },
                                {
                                    "CustomerID": "15475"
                                },
                                {
                                    "CustomerID": "20576"
                                },
                                {
                                    "CustomerID": "16657"
                                },
                                {
                                    "CustomerID": "18578"
                                },
                                {
                                    "CustomerID": "18412"
                                },
                                {
                                    "CustomerID": "16806"
                                },
                                {
                                    "CustomerID": "22634"
                                },
                                {
                                    "CustomerID": "17304"
                                },
                                {
                                    "CustomerID": "29939"
                                },
                                {
                                    "CustomerID": "13958"
                                },
                                {
                                    "CustomerID": "29916"
                                },
                                {
                                    "CustomerID": "15973"
                                },
                                {
                                    "CustomerID": "15432"
                                },
                                {
                                    "CustomerID": "15850"
                                },
                                {
                                    "CustomerID": "29375"
                                },
                                {
                                    "CustomerID": "21924"
                                },
                                {
                                    "CustomerID": "13666"
                                },
                                {
                                    "CustomerID": "27895"
                                },
                                {
                                    "CustomerID": "19239"
                                },
                                {
                                    "CustomerID": "18386"
                                },
                                {
                                    "CustomerID": "27042"
                                },
                                {
                                    "CustomerID": "21054"
                                },
                                {
                                    "CustomerID": "24337"
                                },
                                {
                                    "CustomerID": "16726"
                                },
                                {
                                    "CustomerID": "29518"
                                },
                                {
                                    "CustomerID": "16620"
                                },
                                {
                                    "CustomerID": "12043"
                                },
                                {
                                    "CustomerID": "15538"
                                },
                                {
                                    "CustomerID": "19617"
                                },
                                {
                                    "CustomerID": "28273"
                                },
                                {
                                    "CustomerID": "29959"
                                },
                                {
                                    "CustomerID": "27881"
                                },
                                {
                                    "CustomerID": "22926"
                                },
                                {
                                    "CustomerID": "24586"
                                },
                                {
                                    "CustomerID": "19823"
                                },
                                {
                                    "CustomerID": "21738"
                                },
                                {
                                    "CustomerID": "24400"
                                },
                                {
                                    "CustomerID": "22236"
                                },
                                {
                                    "CustomerID": "15495"
                                },
                                {
                                    "CustomerID": "27589"
                                },
                                {
                                    "CustomerID": "23802"
                                },
                                {
                                    "CustomerID": "15103"
                                },
                                {
                                    "CustomerID": "17808"
                                },
                                {
                                    "CustomerID": "11310"
                                },
                                {
                                    "CustomerID": "13972"
                                },
                                {
                                    "CustomerID": "30102"
                                },
                                {
                                    "CustomerID": "22279"
                                },
                                {
                                    "CustomerID": "15787"
                                },
                                {
                                    "CustomerID": "12790"
                                },
                                {
                                    "CustomerID": "19282"
                                },
                                {
                                    "CustomerID": "24692"
                                },
                                {
                                    "CustomerID": "20364"
                                },
                                {
                                    "CustomerID": "28771"
                                },
                                {
                                    "CustomerID": "11559"
                                },
                                {
                                    "CustomerID": "18592"
                                },
                                {
                                    "CustomerID": "12641"
                                },
                                {
                                    "CustomerID": "18051"
                                },
                                {
                                    "CustomerID": "13182"
                                },
                                {
                                    "CustomerID": "24592"
                                },
                                {
                                    "CustomerID": "19133"
                                },
                                {
                                    "CustomerID": "17510"
                                },
                                {
                                    "CustomerID": "15887"
                                },
                                {
                                    "CustomerID": "26215"
                                },
                                {
                                    "CustomerID": "13257"
                                },
                                {
                                    "CustomerID": "17834"
                                },
                                {
                                    "CustomerID": "18166"
                                },
                                {
                                    "CustomerID": "29550"
                                },
                                {
                                    "CustomerID": "28886"
                                },
                                {
                                    "CustomerID": "11359"
                                },
                                {
                                    "CustomerID": "22720"
                                },
                                {
                                    "CustomerID": "27011"
                                },
                                {
                                    "CustomerID": "29527"
                                },
                                {
                                    "CustomerID": "27698"
                                },
                                {
                                    "CustomerID": "16128"
                                },
                                {
                                    "CustomerID": "15464"
                                },
                                {
                                    "CustomerID": "12215"
                                },
                                {
                                    "CustomerID": "12879"
                                },
                                {
                                    "CustomerID": "15796"
                                },
                                {
                                    "CustomerID": "13543"
                                },
                                {
                                    "CustomerID": "27180"
                                },
                                {
                                    "CustomerID": "17811"
                                },
                                {
                                    "CustomerID": "28508"
                                },
                                {
                                    "CustomerID": "28385"
                                },
                                {
                                    "CustomerID": "12192"
                                },
                                {
                                    "CustomerID": "29381"
                                },
                                {
                                    "CustomerID": "29172"
                                },
                                {
                                    "CustomerID": "28740"
                                },
                                {
                                    "CustomerID": "22248"
                                },
                                {
                                    "CustomerID": "18999"
                                },
                                {
                                    "CustomerID": "24240"
                                },
                                {
                                    "CustomerID": "11173"
                                },
                                {
                                    "CustomerID": "28076"
                                },
                                {
                                    "CustomerID": "22912"
                                },
                                {
                                    "CustomerID": "18976"
                                },
                                {
                                    "CustomerID": "22929"
                                },
                                {
                                    "CustomerID": "22935"
                                },
                                {
                                    "CustomerID": "15650"
                                },
                                {
                                    "CustomerID": "23599"
                                },
                                {
                                    "CustomerID": "29696"
                                },
                                {
                                    "CustomerID": "21037"
                                },
                                {
                                    "CustomerID": "18876"
                                },
                                {
                                    "CustomerID": "13466"
                                },
                                {
                                    "CustomerID": "13712"
                                },
                                {
                                    "CustomerID": "24286"
                                },
                                {
                                    "CustomerID": "26447"
                                },
                                {
                                    "CustomerID": "24309"
                                },
                                {
                                    "CustomerID": "13735"
                                },
                                {
                                    "CustomerID": "24326"
                                },
                                {
                                    "CustomerID": "16251"
                                },
                                {
                                    "CustomerID": "24409"
                                },
                                {
                                    "CustomerID": "15919"
                                },
                                {
                                    "CustomerID": "26888"
                                },
                                {
                                    "CustomerID": "16855"
                                },
                                {
                                    "CustomerID": "15527"
                                },
                                {
                                    "CustomerID": "16546"
                                },
                                {
                                    "CustomerID": "18375"
                                },
                                {
                                    "CustomerID": "22202"
                                },
                                {
                                    "CustomerID": "29922"
                                },
                                {
                                    "CustomerID": "23971"
                                },
                                {
                                    "CustomerID": "19016"
                                },
                                {
                                    "CustomerID": "16938"
                                },
                                {
                                    "CustomerID": "22016"
                                },
                                {
                                    "CustomerID": "18561"
                                },
                                {
                                    "CustomerID": "29736"
                                },
                                {
                                    "CustomerID": "29487"
                                },
                                {
                                    "CustomerID": "21910"
                                },
                                {
                                    "CustomerID": "28159"
                                },
                                {
                                    "CustomerID": "27472"
                                },
                                {
                                    "CustomerID": "15318"
                                },
                                {
                                    "CustomerID": "13111"
                                },
                                {
                                    "CustomerID": "20931"
                                },
                                {
                                    "CustomerID": "19308"
                                },
                                {
                                    "CustomerID": "24472"
                                },
                                {
                                    "CustomerID": "25597"
                                },
                                {
                                    "CustomerID": "19646"
                                },
                                {
                                    "CustomerID": "16646"
                                },
                                {
                                    "CustomerID": "13798"
                                },
                                {
                                    "CustomerID": "19454"
                                },
                                {
                                    "CustomerID": "25700"
                                },
                                {
                                    "CustomerID": "27861"
                                },
                                {
                                    "CustomerID": "19354"
                                },
                                {
                                    "CustomerID": "27715"
                                },
                                {
                                    "CustomerID": "14731"
                                },
                                {
                                    "CustomerID": "25551"
                                },
                                {
                                    "CustomerID": "26092"
                                },
                                {
                                    "CustomerID": "17585"
                                },
                                {
                                    "CustomerID": "18581"
                                },
                                {
                                    "CustomerID": "18415"
                                },
                                {
                                    "CustomerID": "13838"
                                },
                                {
                                    "CustomerID": "25577"
                                },
                                {
                                    "CustomerID": "23513"
                                },
                                {
                                    "CustomerID": "16211"
                                },
                                {
                                    "CustomerID": "19457"
                                },
                                {
                                    "CustomerID": "16374"
                                },
                                {
                                    "CustomerID": "15547"
                                },
                                {
                                    "CustomerID": "14714"
                                },
                                {
                                    "CustomerID": "29799"
                                },
                                {
                                    "CustomerID": "24844"
                                },
                                {
                                    "CustomerID": "14479"
                                },
                                {
                                    "CustomerID": "22829"
                                },
                                {
                                    "CustomerID": "28070"
                                },
                                {
                                    "CustomerID": "20665"
                                },
                                {
                                    "CustomerID": "21827"
                                },
                                {
                                    "CustomerID": "26404"
                                },
                                {
                                    "CustomerID": "21306"
                                },
                                {
                                    "CustomerID": "29470"
                                },
                                {
                                    "CustomerID": "19148"
                                },
                                {
                                    "CustomerID": "19314"
                                },
                                {
                                    "CustomerID": "27927"
                                },
                                {
                                    "CustomerID": "15876"
                                },
                                {
                                    "CustomerID": "25365"
                                },
                                {
                                    "CustomerID": "18458"
                                },
                                {
                                    "CustomerID": "22537"
                                },
                                {
                                    "CustomerID": "11966"
                                },
                                {
                                    "CustomerID": "16045"
                                },
                                {
                                    "CustomerID": "15212"
                                },
                                {
                                    "CustomerID": "29842"
                                },
                                {
                                    "CustomerID": "18481"
                                },
                                {
                                    "CustomerID": "22637"
                                },
                                {
                                    "CustomerID": "28760"
                                },
                                {
                                    "CustomerID": "11276"
                                },
                                {
                                    "CustomerID": "16686"
                                },
                                {
                                    "CustomerID": "27492"
                                },
                                {
                                    "CustomerID": "19832"
                                },
                                {
                                    "CustomerID": "25073"
                                },
                                {
                                    "CustomerID": "12587"
                                },
                                {
                                    "CustomerID": "24552"
                                },
                                {
                                    "CustomerID": "16025"
                                },
                                {
                                    "CustomerID": "29948"
                                },
                                {
                                    "CustomerID": "16629"
                                },
                                {
                                    "CustomerID": "22039"
                                },
                                {
                                    "CustomerID": "22617"
                                },
                                {
                                    "CustomerID": "28617"
                                },
                                {
                                    "CustomerID": "13632"
                                },
                                {
                                    "CustomerID": "18538"
                                },
                                {
                                    "CustomerID": "18979"
                                },
                                {
                                    "CustomerID": "26553"
                                },
                                {
                                    "CustomerID": "27635"
                                },
                                {
                                    "CustomerID": "13028"
                                },
                                {
                                    "CustomerID": "11946"
                                },
                                {
                                    "CustomerID": "13918"
                                },
                                {
                                    "CustomerID": "29072"
                                },
                                {
                                    "CustomerID": "19918"
                                },
                                {
                                    "CustomerID": "22474"
                                },
                                {
                                    "CustomerID": "18103"
                                },
                                {
                                    "CustomerID": "13775"
                                },
                                {
                                    "CustomerID": "13134"
                                },
                                {
                                    "CustomerID": "16380"
                                },
                                {
                                    "CustomerID": "20708"
                                },
                                {
                                    "CustomerID": "16623"
                                },
                                {
                                    "CustomerID": "12544"
                                },
                                {
                                    "CustomerID": "28133"
                                },
                                {
                                    "CustomerID": "17854"
                                },
                                {
                                    "CustomerID": "18395"
                                },
                                {
                                    "CustomerID": "21100"
                                },
                                {
                                    "CustomerID": "30071"
                                },
                                {
                                    "CustomerID": "15083"
                                },
                                {
                                    "CustomerID": "13755"
                                },
                                {
                                    "CustomerID": "27486"
                                },
                                {
                                    "CustomerID": "22245"
                                },
                                {
                                    "CustomerID": "21913"
                                },
                                {
                                    "CustomerID": "18996"
                                },
                                {
                                    "CustomerID": "27177"
                                },
                                {
                                    "CustomerID": "11857"
                                },
                                {
                                    "CustomerID": "20015"
                                },
                                {
                                    "CustomerID": "22222"
                                },
                                {
                                    "CustomerID": "18355"
                                },
                                {
                                    "CustomerID": "20562"
                                },
                                {
                                    "CustomerID": "18378"
                                },
                                {
                                    "CustomerID": "16125"
                                },
                                {
                                    "CustomerID": "15129"
                                },
                                {
                                    "CustomerID": "16789"
                                },
                                {
                                    "CustomerID": "26467"
                                },
                                {
                                    "CustomerID": "18524"
                                },
                                {
                                    "CustomerID": "20725"
                                },
                                {
                                    "CustomerID": "24475"
                                },
                                {
                                    "CustomerID": "18856"
                                },
                                {
                                    "CustomerID": "20084"
                                },
                                {
                                    "CustomerID": "24993"
                                },
                                {
                                    "CustomerID": "13586"
                                },
                                {
                                    "CustomerID": "24406"
                                },
                                {
                                    "CustomerID": "24329"
                                },
                                {
                                    "CustomerID": "15584"
                                },
                                {
                                    "CustomerID": "18478"
                                },
                                {
                                    "CustomerID": "16271"
                                },
                                {
                                    "CustomerID": "21435"
                                },
                                {
                                    "CustomerID": "26304"
                                },
                                {
                                    "CustomerID": "28196"
                                },
                                {
                                    "CustomerID": "27701"
                                },
                                {
                                    "CustomerID": "11717"
                                },
                                {
                                    "CustomerID": "27532"
                                },
                                {
                                    "CustomerID": "18850"
                                },
                                {
                                    "CustomerID": "24260"
                                },
                                {
                                    "CustomerID": "16858"
                                },
                                {
                                    "CustomerID": "22391"
                                },
                                {
                                    "CustomerID": "12899"
                                },
                                {
                                    "CustomerID": "20579"
                                },
                                {
                                    "CustomerID": "16749"
                                },
                                {
                                    "CustomerID": "28156"
                                },
                                {
                                    "CustomerID": "24575"
                                },
                                {
                                    "CustomerID": "19002"
                                },
                                {
                                    "CustomerID": "15670"
                                },
                                {
                                    "CustomerID": "11425"
                                },
                                {
                                    "CustomerID": "29839"
                                },
                                {
                                    "CustomerID": "22013"
                                },
                                {
                                    "CustomerID": "16062"
                                },
                                {
                                    "CustomerID": "12527"
                                },
                                {
                                    "CustomerID": "24515"
                                },
                                {
                                    "CustomerID": "28511"
                                },
                                {
                                    "CustomerID": "30031"
                                },
                                {
                                    "CustomerID": "13546"
                                },
                                {
                                    "CustomerID": "26281"
                                },
                                {
                                    "CustomerID": "18956"
                                },
                                {
                                    "CustomerID": "29676"
                                },
                                {
                                    "CustomerID": "25262"
                                },
                                {
                                    "CustomerID": "20934"
                                },
                                {
                                    "CustomerID": "13987"
                                },
                                {
                                    "CustomerID": "29344"
                                },
                                {
                                    "CustomerID": "26676"
                                },
                                {
                                    "CustomerID": "21266"
                                },
                                {
                                    "CustomerID": "11677"
                                },
                                {
                                    "CustomerID": "15916"
                                },
                                {
                                    "CustomerID": "24323"
                                },
                                {
                                    "CustomerID": "22159"
                                },
                                {
                                    "CustomerID": "18418"
                                },
                                {
                                    "CustomerID": "16941"
                                },
                                {
                                    "CustomerID": "20433"
                                },
                                {
                                    "CustomerID": "25302"
                                },
                                {
                                    "CustomerID": "13941"
                                },
                                {
                                    "CustomerID": "23974"
                                },
                                {
                                    "CustomerID": "28259"
                                },
                                {
                                    "CustomerID": "20144"
                                },
                                {
                                    "CustomerID": "30025"
                                },
                                {
                                    "CustomerID": "18372"
                                },
                                {
                                    "CustomerID": "19205"
                                },
                                {
                                    "CustomerID": "17731"
                                },
                                {
                                    "CustomerID": "15567"
                                },
                                {
                                    "CustomerID": "13108"
                                },
                                {
                                    "CustomerID": "13649"
                                },
                                {
                                    "CustomerID": "22600"
                                },
                                {
                                    "CustomerID": "18518"
                                },
                                {
                                    "CustomerID": "16649"
                                },
                                {
                                    "CustomerID": "27469"
                                },
                                {
                                    "CustomerID": "29822"
                                },
                                {
                                    "CustomerID": "14834"
                                },
                                {
                                    "CustomerID": "13008"
                                },
                                {
                                    "CustomerID": "22849"
                                },
                                {
                                    "CustomerID": "19125"
                                },
                                {
                                    "CustomerID": "18461"
                                },
                                {
                                    "CustomerID": "23871"
                                },
                                {
                                    "CustomerID": "15046"
                                },
                                {
                                    "CustomerID": "12129"
                                },
                                {
                                    "CustomerID": "13151"
                                },
                                {
                                    "CustomerID": "24057"
                                },
                                {
                                    "CustomerID": "11920"
                                },
                                {
                                    "CustomerID": "26570"
                                },
                                {
                                    "CustomerID": "19835"
                                },
                                {
                                    "CustomerID": "25076"
                                },
                                {
                                    "CustomerID": "29796"
                                },
                                {
                                    "CustomerID": "18435"
                                },
                                {
                                    "CustomerID": "17273"
                                },
                                {
                                    "CustomerID": "11943"
                                },
                                {
                                    "CustomerID": "26593"
                                },
                                {
                                    "CustomerID": "11130"
                                },
                                {
                                    "CustomerID": "19294"
                                },
                                {
                                    "CustomerID": "25786"
                                },
                                {
                                    "CustomerID": "29447"
                                },
                                {
                                    "CustomerID": "24037"
                                },
                                {
                                    "CustomerID": "29965"
                                },
                                {
                                    "CustomerID": "15358"
                                },
                                {
                                    "CustomerID": "18604"
                                },
                                {
                                    "CustomerID": "18727"
                                },
                                {
                                    "CustomerID": "15089"
                                },
                                {
                                    "CustomerID": "28571"
                                },
                                {
                                    "CustomerID": "11259"
                                },
                                {
                                    "CustomerID": "20519"
                                },
                                {
                                    "CustomerID": "18398"
                                },
                                {
                                    "CustomerID": "16228"
                                },
                                {
                                    "CustomerID": "20021"
                                },
                                {
                                    "CustomerID": "11365"
                                },
                                {
                                    "CustomerID": "13025"
                                },
                                {
                                    "CustomerID": "26009"
                                },
                                {
                                    "CustomerID": "22726"
                                },
                                {
                                    "CustomerID": "16191"
                                },
                                {
                                    "CustomerID": "27695"
                                },
                                {
                                    "CustomerID": "13878"
                                },
                                {
                                    "CustomerID": "13964"
                                },
                                {
                                    "CustomerID": "22534"
                                },
                                {
                                    "CustomerID": "21538"
                                },
                                {
                                    "CustomerID": "29553"
                                },
                                {
                                    "CustomerID": "30008"
                                },
                                {
                                    "CustomerID": "14319"
                                },
                                {
                                    "CustomerID": "24598"
                                },
                                {
                                    "CustomerID": "21930"
                                },
                                {
                                    "CustomerID": "29653"
                                },
                                {
                                    "CustomerID": "27987"
                                },
                                {
                                    "CustomerID": "19580"
                                },
                                {
                                    "CustomerID": "26072"
                                },
                                {
                                    "CustomerID": "18833"
                                },
                                {
                                    "CustomerID": "27489"
                                },
                                {
                                    "CustomerID": "21495"
                                },
                                {
                                    "CustomerID": "19331"
                                },
                                {
                                    "CustomerID": "19474"
                                },
                                {
                                    "CustomerID": "27595"
                                },
                                {
                                    "CustomerID": "12298"
                                },
                                {
                                    "CustomerID": "22036"
                                },
                                {
                                    "CustomerID": "20313"
                                },
                                {
                                    "CustomerID": "11608"
                                },
                                {
                                    "CustomerID": "17067"
                                },
                                {
                                    "CustomerID": "11929"
                                },
                                {
                                    "CustomerID": "24332"
                                },
                                {
                                    "CustomerID": "18427"
                                },
                                {
                                    "CustomerID": "20751"
                                },
                                {
                                    "CustomerID": "26585"
                                },
                                {
                                    "CustomerID": "26917"
                                },
                                {
                                    "CustomerID": "17193"
                                },
                                {
                                    "CustomerID": "21129"
                                },
                                {
                                    "CustomerID": "25042"
                                },
                                {
                                    "CustomerID": "26207"
                                },
                                {
                                    "CustomerID": "24733"
                                },
                                {
                                    "CustomerID": "19446"
                                },
                                {
                                    "CustomerID": "19114"
                                },
                                {
                                    "CustomerID": "11102"
                                },
                                {
                                    "CustomerID": "25165"
                                },
                                {
                                    "CustomerID": "29642"
                                },
                                {
                                    "CustomerID": "28437"
                                },
                                {
                                    "CustomerID": "23150"
                                },
                                {
                                    "CustomerID": "12330"
                                },
                                {
                                    "CustomerID": "28099"
                                },
                                {
                                    "CustomerID": "18945"
                                },
                                {
                                    "CustomerID": "18381"
                                },
                                {
                                    "CustomerID": "20966"
                                },
                                {
                                    "CustomerID": "13635"
                                },
                                {
                                    "CustomerID": "22958"
                                },
                                {
                                    "CustomerID": "28955"
                                },
                                {
                                    "CustomerID": "28368"
                                },
                                {
                                    "CustomerID": "28932"
                                },
                                {
                                    "CustomerID": "22981"
                                },
                                {
                                    "CustomerID": "28268"
                                },
                                {
                                    "CustomerID": "29579"
                                },
                                {
                                    "CustomerID": "29496"
                                },
                                {
                                    "CustomerID": "25251"
                                },
                                {
                                    "CustomerID": "12516"
                                },
                                {
                                    "CustomerID": "18527"
                                },
                                {
                                    "CustomerID": "24232"
                                },
                                {
                                    "CustomerID": "22062"
                                },
                                {
                                    "CustomerID": "16051"
                                },
                                {
                                    "CustomerID": "15905"
                                },
                                {
                                    "CustomerID": "18905"
                                },
                                {
                                    "CustomerID": "14282"
                                },
                                {
                                    "CustomerID": "15424"
                                },
                                {
                                    "CustomerID": "14677"
                                },
                                {
                                    "CustomerID": "12762"
                                },
                                {
                                    "CustomerID": "19941"
                                },
                                {
                                    "CustomerID": "12662"
                                },
                                {
                                    "CustomerID": "18613"
                                },
                                {
                                    "CustomerID": "15324"
                                },
                                {
                                    "CustomerID": "19154"
                                },
                                {
                                    "CustomerID": "26980"
                                },
                                {
                                    "CustomerID": "23877"
                                },
                                {
                                    "CustomerID": "18713"
                                },
                                {
                                    "CustomerID": "17880"
                                },
                                {
                                    "CustomerID": "29041"
                                },
                                {
                                    "CustomerID": "18026"
                                },
                                {
                                    "CustomerID": "19108"
                                },
                                {
                                    "CustomerID": "17780"
                                },
                                {
                                    "CustomerID": "14265"
                                },
                                {
                                    "CustomerID": "19340"
                                },
                                {
                                    "CustomerID": "20004"
                                },
                                {
                                    "CustomerID": "15427"
                                },
                                {
                                    "CustomerID": "20336"
                                },
                                {
                                    "CustomerID": "22921"
                                },
                                {
                                    "CustomerID": "14408"
                                },
                                {
                                    "CustomerID": "13412"
                                },
                                {
                                    "CustomerID": "28019"
                                },
                                {
                                    "CustomerID": "28517"
                                },
                                {
                                    "CustomerID": "30034"
                                },
                                {
                                    "CustomerID": "25789"
                                },
                                {
                                    "CustomerID": "25457"
                                },
                                {
                                    "CustomerID": "13054"
                                },
                                {
                                    "CustomerID": "12891"
                                },
                                {
                                    "CustomerID": "18464"
                                },
                                {
                                    "CustomerID": "14551"
                                },
                                {
                                    "CustomerID": "21733"
                                },
                                {
                                    "CustomerID": "15782"
                                },
                                {
                                    "CustomerID": "22188"
                                },
                                {
                                    "CustomerID": "17442"
                                },
                                {
                                    "CustomerID": "26147"
                                },
                                {
                                    "CustomerID": "25812"
                                },
                                {
                                    "CustomerID": "12158"
                                },
                                {
                                    "CustomerID": "16658"
                                },
                                {
                                    "CustomerID": "24601"
                                },
                                {
                                    "CustomerID": "13953"
                                },
                                {
                                    "CustomerID": "13389"
                                },
                                {
                                    "CustomerID": "28119"
                                },
                                {
                                    "CustomerID": "18630"
                                },
                                {
                                    "CustomerID": "25291"
                                },
                                {
                                    "CustomerID": "29891"
                                },
                                {
                                    "CustomerID": "26645"
                                },
                                {
                                    "CustomerID": "14030"
                                },
                                {
                                    "CustomerID": "24481"
                                },
                                {
                                    "CustomerID": "25440"
                                },
                                {
                                    "CustomerID": "18089"
                                },
                                {
                                    "CustomerID": "16180"
                                },
                                {
                                    "CustomerID": "18338"
                                },
                                {
                                    "CustomerID": "25583"
                                },
                                {
                                    "CustomerID": "24587"
                                },
                                {
                                    "CustomerID": "29413"
                                },
                                {
                                    "CustomerID": "28666"
                                },
                                {
                                    "CustomerID": "24338"
                                },
                                {
                                    "CustomerID": "16572"
                                },
                                {
                                    "CustomerID": "22523"
                                },
                                {
                                    "CustomerID": "18550"
                                },
                                {
                                    "CustomerID": "19961"
                                },
                                {
                                    "CustomerID": "13973"
                                },
                                {
                                    "CustomerID": "26957"
                                },
                                {
                                    "CustomerID": "14222"
                                },
                                {
                                    "CustomerID": "28288"
                                },
                                {
                                    "CustomerID": "11368"
                                },
                                {
                                    "CustomerID": "11995"
                                },
                                {
                                    "CustomerID": "17319"
                                },
                                {
                                    "CustomerID": "11019"
                                },
                                {
                                    "CustomerID": "21833"
                                },
                                {
                                    "CustomerID": "17760"
                                },
                                {
                                    "CustomerID": "30097"
                                },
                                {
                                    "CustomerID": "23605"
                                },
                                {
                                    "CustomerID": "14949"
                                },
                                {
                                    "CustomerID": "26808"
                                },
                                {
                                    "CustomerID": "28474"
                                },
                                {
                                    "CustomerID": "11560"
                                },
                                {
                                    "CustomerID": "13724"
                                },
                                {
                                    "CustomerID": "24295"
                                },
                                {
                                    "CustomerID": "13967"
                                },
                                {
                                    "CustomerID": "16721"
                                },
                                {
                                    "CustomerID": "18444"
                                },
                                {
                                    "CustomerID": "28079"
                                },
                                {
                                    "CustomerID": "27747"
                                },
                                {
                                    "CustomerID": "15012"
                                },
                                {
                                    "CustomerID": "17906"
                                },
                                {
                                    "CustomerID": "16031"
                                },
                                {
                                    "CustomerID": "19234"
                                },
                                {
                                    "CustomerID": "19898"
                                },
                                {
                                    "CustomerID": "28125"
                                },
                                {
                                    "CustomerID": "16054"
                                },
                                {
                                    "CustomerID": "18547"
                                },
                                {
                                    "CustomerID": "29762"
                                },
                                {
                                    "CustomerID": "22483"
                                },
                                {
                                    "CustomerID": "24143"
                                },
                                {
                                    "CustomerID": "28102"
                                },
                                {
                                    "CustomerID": "11786"
                                },
                                {
                                    "CustomerID": "29576"
                                },
                                {
                                    "CustomerID": "29499"
                                },
                                {
                                    "CustomerID": "18092"
                                },
                                {
                                    "CustomerID": "24335"
                                },
                                {
                                    "CustomerID": "19420"
                                },
                                {
                                    "CustomerID": "13515"
                                },
                                {
                                    "CustomerID": "22984"
                                },
                                {
                                    "CustomerID": "29622"
                                },
                                {
                                    "CustomerID": "13638"
                                },
                                {
                                    "CustomerID": "13120"
                                },
                                {
                                    "CustomerID": "15530"
                                },
                                {
                                    "CustomerID": "13784"
                                },
                                {
                                    "CustomerID": "16346"
                                },
                                {
                                    "CustomerID": "29722"
                                },
                                {
                                    "CustomerID": "29685"
                                },
                                {
                                    "CustomerID": "19357"
                                },
                                {
                                    "CustomerID": "14033"
                                },
                                {
                                    "CustomerID": "21232"
                                },
                                {
                                    "CustomerID": "21527"
                                },
                                {
                                    "CustomerID": "29284"
                                },
                                {
                                    "CustomerID": "14972"
                                },
                                {
                                    "CustomerID": "29035"
                                },
                                {
                                    "CustomerID": "16300"
                                },
                                {
                                    "CustomerID": "11972"
                                },
                                {
                                    "CustomerID": "19297"
                                },
                                {
                                    "CustomerID": "11640"
                                },
                                {
                                    "CustomerID": "29971"
                                },
                                {
                                    "CustomerID": "29639"
                                },
                                {
                                    "CustomerID": "11245"
                                },
                                {
                                    "CustomerID": "22938"
                                },
                                {
                                    "CustomerID": "23233"
                                },
                                {
                                    "CustomerID": "18610"
                                },
                                {
                                    "CustomerID": "29831"
                                },
                                {
                                    "CustomerID": "11185"
                                },
                                {
                                    "CustomerID": "27916"
                                },
                                {
                                    "CustomerID": "22005"
                                },
                                {
                                    "CustomerID": "29931"
                                },
                                {
                                    "CustomerID": "22111"
                                },
                                {
                                    "CustomerID": "27810"
                                },
                                {
                                    "CustomerID": "25603"
                                },
                                {
                                    "CustomerID": "23880"
                                },
                                {
                                    "CustomerID": "26290"
                                },
                                {
                                    "CustomerID": "13552"
                                },
                                {
                                    "CustomerID": "13306"
                                },
                                {
                                    "CustomerID": "15467"
                                },
                                {
                                    "CustomerID": "18862"
                                },
                                {
                                    "CustomerID": "16403"
                                },
                                {
                                    "CustomerID": "21813"
                                },
                                {
                                    "CustomerID": "21272"
                                },
                                {
                                    "CustomerID": "28328"
                                },
                                {
                                    "CustomerID": "19008"
                                },
                                {
                                    "CustomerID": "15095"
                                },
                                {
                                    "CustomerID": "22755"
                                },
                                {
                                    "CustomerID": "22732"
                                },
                                {
                                    "CustomerID": "19031"
                                },
                                {
                                    "CustomerID": "27687"
                                },
                                {
                                    "CustomerID": "11371"
                                },
                                {
                                    "CustomerID": "29702"
                                },
                                {
                                    "CustomerID": "11726"
                                },
                                {
                                    "CustomerID": "15805"
                                },
                                {
                                    "CustomerID": "25792"
                                },
                                {
                                    "CustomerID": "29038"
                                },
                                {
                                    "CustomerID": "18819"
                                },
                                {
                                    "CustomerID": "29061"
                                },
                                {
                                    "CustomerID": "27475"
                                },
                                {
                                    "CustomerID": "19337"
                                },
                                {
                                    "CustomerID": "11992"
                                },
                                {
                                    "CustomerID": "25437"
                                },
                                {
                                    "CustomerID": "30037"
                                },
                                {
                                    "CustomerID": "16638"
                                },
                                {
                                    "CustomerID": "19858"
                                },
                                {
                                    "CustomerID": "16612"
                                },
                                {
                                    "CustomerID": "24727"
                                },
                                {
                                    "CustomerID": "21730"
                                },
                                {
                                    "CustomerID": "13572"
                                },
                                {
                                    "CustomerID": "15550"
                                },
                                {
                                    "CustomerID": "24043"
                                },
                                {
                                    "CustomerID": "19878"
                                },
                                {
                                    "CustomerID": "28285"
                                },
                                {
                                    "CustomerID": "12304"
                                },
                                {
                                    "CustomerID": "19237"
                                },
                                {
                                    "CustomerID": "13323"
                                },
                                {
                                    "CustomerID": "16028"
                                },
                                {
                                    "CustomerID": "20356"
                                },
                                {
                                    "CustomerID": "23565"
                                },
                                {
                                    "CustomerID": "14262"
                                },
                                {
                                    "CustomerID": "12098"
                                },
                                {
                                    "CustomerID": "14013"
                                },
                                {
                                    "CustomerID": "18982"
                                },
                                {
                                    "CustomerID": "18441"
                                },
                                {
                                    "CustomerID": "29951"
                                },
                                {
                                    "CustomerID": "13970"
                                },
                                {
                                    "CustomerID": "19131"
                                },
                                {
                                    "CustomerID": "24541"
                                },
                                {
                                    "CustomerID": "29559"
                                },
                                {
                                    "CustomerID": "28477"
                                },
                                {
                                    "CustomerID": "19280"
                                },
                                {
                                    "CustomerID": "29834"
                                },
                                {
                                    "CustomerID": "22008"
                                },
                                {
                                    "CustomerID": "13518"
                                },
                                {
                                    "CustomerID": "24925"
                                },
                                {
                                    "CustomerID": "16435"
                                },
                                {
                                    "CustomerID": "25589"
                                },
                                {
                                    "CustomerID": "20680"
                                },
                                {
                                    "CustomerID": "21676"
                                },
                                {
                                    "CustomerID": "29193"
                                },
                                {
                                    "CustomerID": "24238"
                                },
                                {
                                    "CustomerID": "17076"
                                },
                                {
                                    "CustomerID": "28128"
                                },
                                {
                                    "CustomerID": "11148"
                                },
                                {
                                    "CustomerID": "21390"
                                },
                                {
                                    "CustomerID": "19137"
                                },
                                {
                                    "CustomerID": "24215"
                                },
                                {
                                    "CustomerID": "18141"
                                },
                                {
                                    "CustomerID": "23883"
                                },
                                {
                                    "CustomerID": "18118"
                                },
                                {
                                    "CustomerID": "22532"
                                },
                                {
                                    "CustomerID": "11503"
                                },
                                {
                                    "CustomerID": "22200"
                                },
                                {
                                    "CustomerID": "27487"
                                },
                                {
                                    "CustomerID": "18782"
                                },
                                {
                                    "CustomerID": "16790"
                                },
                                {
                                    "CustomerID": "29007"
                                },
                                {
                                    "CustomerID": "29001"
                                },
                                {
                                    "CustomerID": "28337"
                                },
                                {
                                    "CustomerID": "18851"
                                },
                                {
                                    "CustomerID": "12336"
                                },
                                {
                                    "CustomerID": "16289"
                                },
                                {
                                    "CustomerID": "20471"
                                },
                                {
                                    "CustomerID": "13564"
                                },
                                {
                                    "CustomerID": "26299"
                                },
                                {
                                    "CustomerID": "19638"
                                },
                                {
                                    "CustomerID": "20202"
                                },
                                {
                                    "CustomerID": "19120"
                                },
                                {
                                    "CustomerID": "20866"
                                },
                                {
                                    "CustomerID": "25489"
                                },
                                {
                                    "CustomerID": "13441"
                                },
                                {
                                    "CustomerID": "26591"
                                },
                                {
                                    "CustomerID": "26923"
                                },
                                {
                                    "CustomerID": "14437"
                                },
                                {
                                    "CustomerID": "23674"
                                },
                                {
                                    "CustomerID": "30066"
                                },
                                {
                                    "CustomerID": "24029"
                                },
                                {
                                    "CustomerID": "25904"
                                },
                                {
                                    "CustomerID": "20033"
                                },
                                {
                                    "CustomerID": "14082"
                                },
                                {
                                    "CustomerID": "11543"
                                },
                                {
                                    "CustomerID": "22904"
                                },
                                {
                                    "CustomerID": "15078"
                                },
                                {
                                    "CustomerID": "29625"
                                },
                                {
                                    "CustomerID": "28297"
                                },
                                {
                                    "CustomerID": "30020"
                                },
                                {
                                    "CustomerID": "22987"
                                },
                                {
                                    "CustomerID": "28692"
                                },
                                {
                                    "CustomerID": "15917"
                                },
                                {
                                    "CustomerID": "18513"
                                },
                                {
                                    "CustomerID": "28752"
                                },
                                {
                                    "CustomerID": "20926"
                                },
                                {
                                    "CustomerID": "16349"
                                },
                                {
                                    "CustomerID": "29339"
                                },
                                {
                                    "CustomerID": "20285"
                                },
                                {
                                    "CustomerID": "15619"
                                },
                                {
                                    "CustomerID": "24324"
                                },
                                {
                                    "CustomerID": "23388"
                                },
                                {
                                    "CustomerID": "26877"
                                },
                                {
                                    "CustomerID": "27713"
                                },
                                {
                                    "CustomerID": "13647"
                                },
                                {
                                    "CustomerID": "29485"
                                },
                                {
                                    "CustomerID": "14042"
                                },
                                {
                                    "CustomerID": "19452"
                                },
                                {
                                    "CustomerID": "29917"
                                },
                                {
                                    "CustomerID": "16684"
                                },
                                {
                                    "CustomerID": "13767"
                                },
                                {
                                    "CustomerID": "21759"
                                },
                                {
                                    "CustomerID": "11752"
                                },
                                {
                                    "CustomerID": "20906"
                                },
                                {
                                    "CustomerID": "16541"
                                },
                                {
                                    "CustomerID": "24699"
                                },
                                {
                                    "CustomerID": "18865"
                                },
                                {
                                    "CustomerID": "18914"
                                },
                                {
                                    "CustomerID": "11254"
                                },
                                {
                                    "CustomerID": "22137"
                                },
                                {
                                    "CustomerID": "19054"
                                },
                                {
                                    "CustomerID": "19887"
                                },
                                {
                                    "CustomerID": "15141"
                                },
                                {
                                    "CustomerID": "23468"
                                },
                                {
                                    "CustomerID": "28188"
                                },
                                {
                                    "CustomerID": "27733"
                                },
                                {
                                    "CustomerID": "18413"
                                },
                                {
                                    "CustomerID": "26528"
                                },
                                {
                                    "CustomerID": "15353"
                                },
                                {
                                    "CustomerID": "27335"
                                },
                                {
                                    "CustomerID": "18158"
                                },
                                {
                                    "CustomerID": "11131"
                                },
                                {
                                    "CustomerID": "16000"
                                },
                                {
                                    "CustomerID": "13959"
                                },
                                {
                                    "CustomerID": "15453"
                                },
                                {
                                    "CustomerID": "22635"
                                },
                                {
                                    "CustomerID": "13810"
                                },
                                {
                                    "CustomerID": "25463"
                                },
                                {
                                    "CustomerID": "14079"
                                },
                                {
                                    "CustomerID": "26571"
                                },
                                {
                                    "CustomerID": "21284"
                                },
                                {
                                    "CustomerID": "21825"
                                },
                                {
                                    "CustomerID": "30089"
                                },
                                {
                                    "CustomerID": "15433"
                                },
                                {
                                    "CustomerID": "11354"
                                },
                                {
                                    "CustomerID": "19761"
                                },
                                {
                                    "CustomerID": "21931"
                                },
                                {
                                    "CustomerID": "18848"
                                },
                                {
                                    "CustomerID": "22927"
                                },
                                {
                                    "CustomerID": "29568"
                                },
                                {
                                    "CustomerID": "11211"
                                },
                                {
                                    "CustomerID": "13916"
                                },
                                {
                                    "CustomerID": "29711"
                                },
                                {
                                    "CustomerID": "29960"
                                },
                                {
                                    "CustomerID": "21055"
                                },
                                {
                                    "CustomerID": "24387"
                                },
                                {
                                    "CustomerID": "29897"
                                },
                                {
                                    "CustomerID": "12044"
                                },
                                {
                                    "CustomerID": "18991"
                                },
                                {
                                    "CustomerID": "26651"
                                },
                                {
                                    "CustomerID": "16286"
                                },
                                {
                                    "CustomerID": "27696"
                                },
                                {
                                    "CustomerID": "21696"
                                },
                                {
                                    "CustomerID": "29754"
                                },
                                {
                                    "CustomerID": "17019"
                                },
                                {
                                    "CustomerID": "12691"
                                },
                                {
                                    "CustomerID": "18685"
                                },
                                {
                                    "CustomerID": "27590"
                                },
                                {
                                    "CustomerID": "12834"
                                },
                                {
                                    "CustomerID": "23113"
                                },
                                {
                                    "CustomerID": "18393"
                                },
                                {
                                    "CustomerID": "16229"
                                },
                                {
                                    "CustomerID": "28131"
                                },
                                {
                                    "CustomerID": "13475"
                                },
                                {
                                    "CustomerID": "25134"
                                },
                                {
                                    "CustomerID": "29854"
                                },
                                {
                                    "CustomerID": "13624"
                                },
                                {
                                    "CustomerID": "13684"
                                },
                                {
                                    "CustomerID": "24759"
                                },
                                {
                                    "CustomerID": "16269"
                                },
                                {
                                    "CustomerID": "16933"
                                },
                                {
                                    "CustomerID": "13020"
                                },
                                {
                                    "CustomerID": "19850"
                                },
                                {
                                    "CustomerID": "13707"
                                },
                                {
                                    "CustomerID": "13375"
                                },
                                {
                                    "CustomerID": "22197"
                                },
                                {
                                    "CustomerID": "14039"
                                },
                                {
                                    "CustomerID": "15582"
                                },
                                {
                                    "CustomerID": "29027"
                                },
                                {
                                    "CustomerID": "14371"
                                },
                                {
                                    "CustomerID": "23076"
                                },
                                {
                                    "CustomerID": "29714"
                                },
                                {
                                    "CustomerID": "30046"
                                },
                                {
                                    "CustomerID": "18144"
                                },
                                {
                                    "CustomerID": "15058"
                                },
                                {
                                    "CustomerID": "13730"
                                },
                                {
                                    "CustomerID": "18808"
                                },
                                {
                                    "CustomerID": "15891"
                                },
                                {
                                    "CustomerID": "15081"
                                },
                                {
                                    "CustomerID": "18831"
                                },
                                {
                                    "CustomerID": "15536"
                                },
                                {
                                    "CustomerID": "21009"
                                },
                                {
                                    "CustomerID": "13853"
                                },
                                {
                                    "CustomerID": "26920"
                                },
                                {
                                    "CustomerID": "22930"
                                },
                                {
                                    "CustomerID": "23617"
                                },
                                {
                                    "CustomerID": "13830"
                                },
                                {
                                    "CustomerID": "27484"
                                },
                                {
                                    "CustomerID": "11500"
                                },
                                {
                                    "CustomerID": "19117"
                                },
                                {
                                    "CustomerID": "20322"
                                },
                                {
                                    "CustomerID": "28958"
                                },
                                {
                                    "CustomerID": "18138"
                                },
                                {
                                    "CustomerID": "26302"
                                },
                                {
                                    "CustomerID": "23548"
                                },
                                {
                                    "CustomerID": "22884"
                                },
                                {
                                    "CustomerID": "22220"
                                },
                                {
                                    "CustomerID": "29645"
                                },
                                {
                                    "CustomerID": "13538"
                                },
                                {
                                    "CustomerID": "22243"
                                },
                                {
                                    "CustomerID": "28194"
                                },
                                {
                                    "CustomerID": "18267"
                                },
                                {
                                    "CustomerID": "11437"
                                },
                                {
                                    "CustomerID": "15267"
                                },
                                {
                                    "CustomerID": "18516"
                                },
                                {
                                    "CustomerID": "15373"
                                },
                                {
                                    "CustomerID": "28357"
                                },
                                {
                                    "CustomerID": "29628"
                                },
                                {
                                    "CustomerID": "23886"
                                },
                                {
                                    "CustomerID": "19309"
                                },
                                {
                                    "CustomerID": "22051"
                                },
                                {
                                    "CustomerID": "13644"
                                },
                                {
                                    "CustomerID": "26296"
                                },
                                {
                                    "CustomerID": "20577"
                                },
                                {
                                    "CustomerID": "24032"
                                },
                                {
                                    "CustomerID": "14626"
                                },
                                {
                                    "CustomerID": "26983"
                                },
                                {
                                    "CustomerID": "22011"
                                },
                                {
                                    "CustomerID": "26926"
                                },
                                {
                                    "CustomerID": "27169"
                                },
                                {
                                    "CustomerID": "26588"
                                },
                                {
                                    "CustomerID": "28503"
                                },
                                {
                                    "CustomerID": "20096"
                                },
                                {
                                    "CustomerID": "28154"
                                },
                                {
                                    "CustomerID": "15121"
                                },
                                {
                                    "CustomerID": "18324"
                                },
                                {
                                    "CustomerID": "25154"
                                },
                                {
                                    "CustomerID": "12957"
                                },
                                {
                                    "CustomerID": "29877"
                                },
                                {
                                    "CustomerID": "25552"
                                },
                                {
                                    "CustomerID": "22303"
                                },
                                {
                                    "CustomerID": "11878"
                                },
                                {
                                    "CustomerID": "24321"
                                },
                                {
                                    "CustomerID": "27862"
                                },
                                {
                                    "CustomerID": "19157"
                                },
                                {
                                    "CustomerID": "16352"
                                },
                                {
                                    "CustomerID": "28257"
                                },
                                {
                                    "CustomerID": "25008"
                                },
                                {
                                    "CustomerID": "11420"
                                },
                                {
                                    "CustomerID": "27736"
                                },
                                {
                                    "CustomerID": "19578"
                                },
                                {
                                    "CustomerID": "17371"
                                },
                                {
                                    "CustomerID": "28234"
                                },
                                {
                                    "CustomerID": "18533"
                                },
                                {
                                    "CustomerID": "18035"
                                },
                                {
                                    "CustomerID": "15473"
                                },
                                {
                                    "CustomerID": "28875"
                                },
                                {
                                    "CustomerID": "18868"
                                },
                                {
                                    "CustomerID": "16495"
                                },
                                {
                                    "CustomerID": "11085"
                                },
                                {
                                    "CustomerID": "18745"
                                },
                                {
                                    "CustomerID": "19200"
                                },
                                {
                                    "CustomerID": "21928"
                                },
                                {
                                    "CustomerID": "16853"
                                },
                                {
                                    "CustomerID": "19100"
                                },
                                {
                                    "CustomerID": "12602"
                                },
                                {
                                    "CustomerID": "14689"
                                },
                                {
                                    "CustomerID": "29943"
                                },
                                {
                                    "CustomerID": "17328"
                                },
                                {
                                    "CustomerID": "23820"
                                },
                                {
                                    "CustomerID": "21779"
                                },
                                {
                                    "CustomerID": "21138"
                                },
                                {
                                    "CustomerID": "26548"
                                },
                                {
                                    "CustomerID": "16561"
                                },
                                {
                                    "CustomerID": "24553"
                                },
                                {
                                    "CustomerID": "12482"
                                },
                                {
                                    "CustomerID": "12751"
                                },
                                {
                                    "CustomerID": "27899"
                                },
                                {
                                    "CustomerID": "16661"
                                },
                                {
                                    "CustomerID": "22489"
                                },
                                {
                                    "CustomerID": "15997"
                                },
                                {
                                    "CustomerID": "30006"
                                },
                                {
                                    "CustomerID": "15848"
                                },
                                {
                                    "CustomerID": "15599"
                                },
                                {
                                    "CustomerID": "12539"
                                },
                                {
                                    "CustomerID": "28191"
                                },
                                {
                                    "CustomerID": "20697"
                                },
                                {
                                    "CustomerID": "26568"
                                },
                                {
                                    "CustomerID": "18539"
                                },
                                {
                                    "CustomerID": "29957"
                                },
                                {
                                    "CustomerID": "30043"
                                },
                                {
                                    "CustomerID": "13727"
                                },
                                {
                                    "CustomerID": "29651"
                                },
                                {
                                    "CustomerID": "13335"
                                },
                                {
                                    "CustomerID": "16618"
                                },
                                {
                                    "CustomerID": "22618"
                                },
                                {
                                    "CustomerID": "23700"
                                },
                                {
                                    "CustomerID": "14958"
                                },
                                {
                                    "CustomerID": "28924"
                                },
                                {
                                    "CustomerID": "24590"
                                },
                                {
                                    "CustomerID": "20013"
                                },
                                {
                                    "CustomerID": "17457"
                                },
                                {
                                    "CustomerID": "15791"
                                },
                                {
                                    "CustomerID": "11463"
                                },
                                {
                                    "CustomerID": "22824"
                                },
                                {
                                    "CustomerID": "16332"
                                },
                                {
                                    "CustomerID": "11314"
                                },
                                {
                                    "CustomerID": "21052"
                                },
                                {
                                    "CustomerID": "15393"
                                },
                                {
                                    "CustomerID": "19329"
                                },
                                {
                                    "CustomerID": "14460"
                                },
                                {
                                    "CustomerID": "19870"
                                },
                                {
                                    "CustomerID": "21493"
                                },
                                {
                                    "CustomerID": "20952"
                                },
                                {
                                    "CustomerID": "28526"
                                },
                                {
                                    "CustomerID": "25280"
                                },
                                {
                                    "CustomerID": "16624"
                                },
                                {
                                    "CustomerID": "22933"
                                },
                                {
                                    "CustomerID": "21937"
                                },
                                {
                                    "CustomerID": "11194"
                                },
                                {
                                    "CustomerID": "26846"
                                },
                                {
                                    "CustomerID": "17360"
                                },
                                {
                                    "CustomerID": "27178"
                                },
                                {
                                    "CustomerID": "18356"
                                },
                                {
                                    "CustomerID": "30072"
                                },
                                {
                                    "CustomerID": "29740"
                                },
                                {
                                    "CustomerID": "26205"
                                },
                                {
                                    "CustomerID": "11881"
                                },
                                {
                                    "CustomerID": "22246"
                                },
                                {
                                    "CustomerID": "11549"
                                },
                                {
                                    "CustomerID": "29076"
                                },
                                {
                                    "CustomerID": "20895"
                                },
                                {
                                    "CustomerID": "16481"
                                },
                                {
                                    "CustomerID": "30118"
                                },
                                {
                                    "CustomerID": "20749"
                                },
                                {
                                    "CustomerID": "21081"
                                },
                                {
                                    "CustomerID": "15130"
                                },
                                {
                                    "CustomerID": "20540"
                                },
                                {
                                    "CustomerID": "26823"
                                },
                                {
                                    "CustomerID": "15794"
                                },
                                {
                                    "CustomerID": "18525"
                                },
                                {
                                    "CustomerID": "28930"
                                },
                                {
                                    "CustomerID": "14274"
                                },
                                {
                                    "CustomerID": "17523"
                                },
                                {
                                    "CustomerID": "21436"
                                },
                                {
                                    "CustomerID": "24330"
                                },
                                {
                                    "CustomerID": "13633"
                                },
                                {
                                    "CustomerID": "16836"
                                },
                                {
                                    "CustomerID": "17500"
                                },
                                {
                                    "CustomerID": "13733"
                                },
                                {
                                    "CustomerID": "22146"
                                },
                                {
                                    "CustomerID": "28884"
                                },
                                {
                                    "CustomerID": "18479"
                                },
                                {
                                    "CustomerID": "22810"
                                },
                                {
                                    "CustomerID": "27702"
                                },
                                {
                                    "CustomerID": "29030"
                                },
                                {
                                    "CustomerID": "28243"
                                },
                                {
                                    "CustomerID": "18333"
                                },
                                {
                                    "CustomerID": "29840"
                                },
                                {
                                    "CustomerID": "19939"
                                },
                                {
                                    "CustomerID": "11781"
                                },
                                {
                                    "CustomerID": "13109"
                                },
                                {
                                    "CustomerID": "25595"
                                },
                                {
                                    "CustomerID": "11532"
                                },
                                {
                                    "CustomerID": "29531"
                                },
                                {
                                    "CustomerID": "21705"
                                },
                                {
                                    "CustomerID": "15422"
                                },
                                {
                                    "CustomerID": "20248"
                                },
                                {
                                    "CustomerID": "29972"
                                },
                                {
                                    "CustomerID": "11735"
                                },
                                {
                                    "CustomerID": "14984"
                                },
                                {
                                    "CustomerID": "29577"
                                },
                                {
                                    "CustomerID": "13593"
                                },
                                {
                                    "CustomerID": "25950"
                                },
                                {
                                    "CustomerID": "26282"
                                },
                                {
                                    "CustomerID": "19003"
                                },
                                {
                                    "CustomerID": "11048"
                                },
                                {
                                    "CustomerID": "13693"
                                },
                                {
                                    "CustomerID": "18519"
                                },
                                {
                                    "CustomerID": "18857"
                                },
                                {
                                    "CustomerID": "14529"
                                },
                                {
                                    "CustomerID": "12963"
                                },
                                {
                                    "CustomerID": "27324"
                                },
                                {
                                    "CustomerID": "12319"
                                },
                                {
                                    "CustomerID": "24221"
                                },
                                {
                                    "CustomerID": "17978"
                                },
                                {
                                    "CustomerID": "27470"
                                },
                                {
                                    "CustomerID": "12322"
                                },
                                {
                                    "CustomerID": "13155"
                                },
                                {
                                    "CustomerID": "13650"
                                },
                                {
                                    "CustomerID": "13255"
                                },
                                {
                                    "CustomerID": "13009"
                                },
                                {
                                    "CustomerID": "26829"
                                },
                                {
                                    "CustomerID": "15190"
                                },
                                {
                                    "CustomerID": "22850"
                                },
                                {
                                    "CustomerID": "22186"
                                },
                                {
                                    "CustomerID": "16043"
                                },
                                {
                                    "CustomerID": "15047"
                                },
                                {
                                    "CustomerID": "16258"
                                },
                                {
                                    "CustomerID": "23895"
                                },
                                {
                                    "CustomerID": "24891"
                                },
                                {
                                    "CustomerID": "29133"
                                },
                                {
                                    "CustomerID": "29823"
                                },
                                {
                                    "CustomerID": "16876"
                                },
                                {
                                    "CustomerID": "18462"
                                },
                                {
                                    "CustomerID": "25077"
                                },
                                {
                                    "CustomerID": "26122"
                                },
                                {
                                    "CustomerID": "23872"
                                },
                                {
                                    "CustomerID": "19438"
                                },
                                {
                                    "CustomerID": "15525"
                                },
                                {
                                    "CustomerID": "18436"
                                },
                                {
                                    "CustomerID": "28592"
                                },
                                {
                                    "CustomerID": "28515"
                                },
                                {
                                    "CustomerID": "11944"
                                },
                                {
                                    "CustomerID": "13859"
                                },
                                {
                                    "CustomerID": "19936"
                                },
                                {
                                    "CustomerID": "19295"
                                },
                                {
                                    "CustomerID": "20002"
                                },
                                {
                                    "CustomerID": "17131"
                                },
                                {
                                    "CustomerID": "27951"
                                },
                                {
                                    "CustomerID": "15502"
                                },
                                {
                                    "CustomerID": "29966"
                                },
                                {
                                    "CustomerID": "23889"
                                },
                                {
                                    "CustomerID": "19146"
                                },
                                {
                                    "CustomerID": "14669"
                                },
                                {
                                    "CustomerID": "23915"
                                },
                                {
                                    "CustomerID": "20669"
                                },
                                {
                                    "CustomerID": "15923"
                                },
                                {
                                    "CustomerID": "24038"
                                },
                                {
                                    "CustomerID": "24579"
                                },
                                {
                                    "CustomerID": "28784"
                                },
                                {
                                    "CustomerID": "23603"
                                },
                                {
                                    "CustomerID": "28037"
                                },
                                {
                                    "CustomerID": "24207"
                                },
                                {
                                    "CustomerID": "14898"
                                },
                                {
                                    "CustomerID": "18399"
                                },
                                {
                                    "CustomerID": "18977"
                                },
                                {
                                    "CustomerID": "20649"
                                },
                                {
                                    "CustomerID": "21731"
                                },
                                {
                                    "CustomerID": "29305"
                                },
                                {
                                    "CustomerID": "25040"
                                },
                                {
                                    "CustomerID": "13630"
                                },
                                {
                                    "CustomerID": "22913"
                                },
                                {
                                    "CustomerID": "29760"
                                },
                                {
                                    "CustomerID": "24934"
                                },
                                {
                                    "CustomerID": "14612"
                                },
                                {
                                    "CustomerID": "16278"
                                },
                                {
                                    "CustomerID": "16029"
                                },
                                {
                                    "CustomerID": "18442"
                                },
                                {
                                    "CustomerID": "29660"
                                },
                                {
                                    "CustomerID": "20955"
                                },
                                {
                                    "CustomerID": "11801"
                                },
                                {
                                    "CustomerID": "27490"
                                },
                                {
                                    "CustomerID": "13965"
                                },
                                {
                                    "CustomerID": "18791"
                                },
                                {
                                    "CustomerID": "18834"
                                },
                                {
                                    "CustomerID": "29803"
                                },
                                {
                                    "CustomerID": "14904"
                                },
                                {
                                    "CustomerID": "22229"
                                },
                                {
                                    "CustomerID": "25475"
                                },
                                {
                                    "CustomerID": "27888"
                                },
                                {
                                    "CustomerID": "20065"
                                },
                                {
                                    "CustomerID": "12740"
                                },
                                {
                                    "CustomerID": "29903"
                                },
                                {
                                    "CustomerID": "25575"
                                },
                                {
                                    "CustomerID": "16378"
                                },
                                {
                                    "CustomerID": "16919"
                                },
                                {
                                    "CustomerID": "29929"
                                },
                                {
                                    "CustomerID": "18854"
                                },
                                {
                                    "CustomerID": "11360"
                                },
                                {
                                    "CustomerID": "29574"
                                },
                                {
                                    "CustomerID": "14586"
                                },
                                {
                                    "CustomerID": "13258"
                                },
                                {
                                    "CustomerID": "12594"
                                },
                                {
                                    "CustomerID": "27699"
                                },
                                {
                                    "CustomerID": "11715"
                                },
                                {
                                    "CustomerID": "11051"
                                },
                                {
                                    "CustomerID": "29551"
                                },
                                {
                                    "CustomerID": "23477"
                                },
                                {
                                    "CustomerID": "27390"
                                },
                                {
                                    "CustomerID": "29050"
                                },
                                {
                                    "CustomerID": "12239"
                                },
                                {
                                    "CustomerID": "13567"
                                },
                                {
                                    "CustomerID": "12070"
                                },
                                {
                                    "CustomerID": "29528"
                                },
                                {
                                    "CustomerID": "30069"
                                },
                                {
                                    "CustomerID": "11429"
                                },
                                {
                                    "CustomerID": "11220"
                                },
                                {
                                    "CustomerID": "28741"
                                },
                                {
                                    "CustomerID": "12216"
                                },
                                {
                                    "CustomerID": "17503"
                                },
                                {
                                    "CustomerID": "11884"
                                },
                                {
                                    "CustomerID": "30092"
                                },
                                {
                                    "CustomerID": "22936"
                                },
                                {
                                    "CustomerID": "15110"
                                },
                                {
                                    "CustomerID": "24287"
                                },
                                {
                                    "CustomerID": "18336"
                                },
                                {
                                    "CustomerID": "19664"
                                },
                                {
                                    "CustomerID": "20961"
                                },
                                {
                                    "CustomerID": "22959"
                                },
                                {
                                    "CustomerID": "15133"
                                },
                                {
                                    "CustomerID": "29720"
                                },
                                {
                                    "CustomerID": "14818"
                                },
                                {
                                    "CustomerID": "25143"
                                },
                                {
                                    "CustomerID": "13736"
                                },
                                {
                                    "CustomerID": "24310"
                                },
                                {
                                    "CustomerID": "25807"
                                },
                                {
                                    "CustomerID": "16169"
                                },
                                {
                                    "CustomerID": "13636"
                                },
                                {
                                    "CustomerID": "21038"
                                },
                                {
                                    "CustomerID": "14177"
                                },
                                {
                                    "CustomerID": "24997"
                                },
                                {
                                    "CustomerID": "20915"
                                },
                                {
                                    "CustomerID": "13095"
                                },
                                {
                                    "CustomerID": "15087"
                                },
                                {
                                    "CustomerID": "15528"
                                },
                                {
                                    "CustomerID": "12611"
                                },
                                {
                                    "CustomerID": "16607"
                                },
                                {
                                    "CustomerID": "25014"
                                },
                                {
                                    "CustomerID": "21516"
                                },
                                {
                                    "CustomerID": "19109"
                                },
                                {
                                    "CustomerID": "30029"
                                },
                                {
                                    "CustomerID": "21871"
                                },
                                {
                                    "CustomerID": "22203"
                                },
                                {
                                    "CustomerID": "18422"
                                },
                                {
                                    "CustomerID": "16215"
                                },
                                {
                                    "CustomerID": "14045"
                                },
                                {
                                    "CustomerID": "29637"
                                },
                                {
                                    "CustomerID": "18313"
                                },
                                {
                                    "CustomerID": "17234"
                                },
                                {
                                    "CustomerID": "12657"
                                },
                                {
                                    "CustomerID": "12325"
                                },
                                {
                                    "CustomerID": "18376"
                                },
                                {
                                    "CustomerID": "24327"
                                },
                                {
                                    "CustomerID": "12863"
                                },
                                {
                                    "CustomerID": "25598"
                                },
                                {
                                    "CustomerID": "13112"
                                },
                                {
                                    "CustomerID": "22604"
                                },
                                {
                                    "CustomerID": "29488"
                                },
                                {
                                    "CustomerID": "15127"
                                },
                                {
                                    "CustomerID": "17334"
                                },
                                {
                                    "CustomerID": "26285"
                                },
                                {
                                    "CustomerID": "13504"
                                },
                                {
                                    "CustomerID": "15668"
                                },
                                {
                                    "CustomerID": "14732"
                                },
                                {
                                    "CustomerID": "26388"
                                },
                                {
                                    "CustomerID": "24224"
                                },
                                {
                                    "CustomerID": "19650"
                                },
                                {
                                    "CustomerID": "19647"
                                },
                                {
                                    "CustomerID": "29534"
                                },
                                {
                                    "CustomerID": "21124"
                                },
                                {
                                    "CustomerID": "14632"
                                },
                                {
                                    "CustomerID": "15960"
                                },
                                {
                                    "CustomerID": "24124"
                                },
                                {
                                    "CustomerID": "29514"
                                },
                                {
                                    "CustomerID": "18937"
                                },
                                {
                                    "CustomerID": "25601"
                                },
                                {
                                    "CustomerID": "12866"
                                },
                                {
                                    "CustomerID": "26431"
                                },
                                {
                                    "CustomerID": "16945"
                                },
                                {
                                    "CustomerID": "18416"
                                },
                                {
                                    "CustomerID": "25578"
                                },
                                {
                                    "CustomerID": "18582"
                                },
                                {
                                    "CustomerID": "15877"
                                },
                                {
                                    "CustomerID": "16730"
                                },
                                {
                                    "CustomerID": "11824"
                                },
                                {
                                    "CustomerID": "18817"
                                },
                                {
                                    "CustomerID": "22140"
                                },
                                {
                                    "CustomerID": "28140"
                                },
                                {
                                    "CustomerID": "27473"
                                },
                                {
                                    "CustomerID": "12843"
                                },
                                {
                                    "CustomerID": "16212"
                                },
                                {
                                    "CustomerID": "25200"
                                },
                                {
                                    "CustomerID": "29843"
                                },
                                {
                                    "CustomerID": "14025"
                                },
                                {
                                    "CustomerID": "14031"
                                },
                                {
                                    "CustomerID": "24602"
                                },
                                {
                                    "CustomerID": "29345"
                                },
                                {
                                    "CustomerID": "12133"
                                },
                                {
                                    "CustomerID": "21828"
                                },
                                {
                                    "CustomerID": "23494"
                                },
                                {
                                    "CustomerID": "29322"
                                },
                                {
                                    "CustomerID": "14838"
                                },
                                {
                                    "CustomerID": "22830"
                                },
                                {
                                    "CustomerID": "19315"
                                },
                                {
                                    "CustomerID": "12823"
                                },
                                {
                                    "CustomerID": "28120"
                                },
                                {
                                    "CustomerID": "28071"
                                },
                                {
                                    "CustomerID": "19292"
                                },
                                {
                                    "CustomerID": "19415"
                                },
                                {
                                    "CustomerID": "16710"
                                },
                                {
                                    "CustomerID": "29508"
                                },
                                {
                                    "CustomerID": "16026"
                                },
                                {
                                    "CustomerID": "11947"
                                },
                                {
                                    "CustomerID": "13713"
                                },
                                {
                                    "CustomerID": "28240"
                                },
                                {
                                    "CustomerID": "27244"
                                },
                                {
                                    "CustomerID": "11071"
                                },
                                {
                                    "CustomerID": "18980"
                                },
                                {
                                    "CustomerID": "23308"
                                },
                                {
                                    "CustomerID": "14403"
                                },
                                {
                                    "CustomerID": "18894"
                                },
                                {
                                    "CustomerID": "26305"
                                },
                                {
                                    "CustomerID": "22973"
                                },
                                {
                                    "CustomerID": "13570"
                                },
                                {
                                    "CustomerID": "29700"
                                },
                                {
                                    "CustomerID": "16630"
                                },
                                {
                                    "CustomerID": "11257"
                                },
                                {
                                    "CustomerID": "12302"
                                },
                                {
                                    "CustomerID": "24596"
                                },
                                {
                                    "CustomerID": "17855"
                                },
                                {
                                    "CustomerID": "11363"
                                },
                                {
                                    "CustomerID": "11114"
                                },
                                {
                                    "CustomerID": "13670"
                                },
                                {
                                    "CustomerID": "26119"
                                },
                                {
                                    "CustomerID": "21293"
                                },
                                {
                                    "CustomerID": "23955"
                                },
                                {
                                    "CustomerID": "28283"
                                },
                                {
                                    "CustomerID": "11512"
                                },
                                {
                                    "CustomerID": "30049"
                                },
                                {
                                    "CustomerID": "24639"
                                },
                                {
                                    "CustomerID": "11655"
                                },
                                {
                                    "CustomerID": "28134"
                                },
                                {
                                    "CustomerID": "17314"
                                },
                                {
                                    "CustomerID": "18147"
                                },
                                {
                                    "CustomerID": "28034"
                                },
                                {
                                    "CustomerID": "21542"
                                },
                                {
                                    "CustomerID": "11263"
                                },
                                {
                                    "CustomerID": "27493"
                                },
                                {
                                    "CustomerID": "13968"
                                },
                                {
                                    "CustomerID": "19378"
                                },
                                {
                                    "CustomerID": "28103"
                                },
                                {
                                    "CustomerID": "26775"
                                },
                                {
                                    "CustomerID": "11432"
                                },
                                {
                                    "CustomerID": "23881"
                                },
                                {
                                    "CustomerID": "18594"
                                },
                                {
                                    "CustomerID": "16387"
                                },
                                {
                                    "CustomerID": "15059"
                                },
                                {
                                    "CustomerID": "18262"
                                },
                                {
                                    "CustomerID": "29809"
                                },
                                {
                                    "CustomerID": "22152"
                                },
                                {
                                    "CustomerID": "22816"
                                },
                                {
                                    "CustomerID": "17429"
                                },
                                {
                                    "CustomerID": "17097"
                                },
                                {
                                    "CustomerID": "13470"
                                },
                                {
                                    "CustomerID": "25687"
                                },
                                {
                                    "CustomerID": "21774"
                                },
                                {
                                    "CustomerID": "15531"
                                },
                                {
                                    "CustomerID": "17197"
                                },
                                {
                                    "CustomerID": "25610"
                                },
                                {
                                    "CustomerID": "18803"
                                },
                                {
                                    "CustomerID": "25000"
                                },
                                {
                                    "CustomerID": "15846"
                                },
                                {
                                    "CustomerID": "28289"
                                },
                                {
                                    "CustomerID": "20469"
                                },
                                {
                                    "CustomerID": "24336"
                                },
                                {
                                    "CustomerID": "12311"
                                },
                                {
                                    "CustomerID": "20131"
                                },
                                {
                                    "CustomerID": "21505"
                                },
                                {
                                    "CustomerID": "26251"
                                },
                                {
                                    "CustomerID": "25587"
                                },
                                {
                                    "CustomerID": "18362"
                                },
                                {
                                    "CustomerID": "13702"
                                },
                                {
                                    "CustomerID": "18611"
                                },
                                {
                                    "CustomerID": "18279"
                                },
                                {
                                    "CustomerID": "14034"
                                },
                                {
                                    "CustomerID": "20532"
                                },
                                {
                                    "CustomerID": "22939"
                                },
                                {
                                    "CustomerID": "14781"
                                },
                                {
                                    "CustomerID": "25856"
                                },
                                {
                                    "CustomerID": "14721"
                                },
                                {
                                    "CustomerID": "20592"
                                },
                                {
                                    "CustomerID": "28750"
                                },
                                {
                                    "CustomerID": "27871"
                                },
                                {
                                    "CustomerID": "28558"
                                },
                                {
                                    "CustomerID": "12660"
                                },
                                {
                                    "CustomerID": "16988"
                                },
                                {
                                    "CustomerID": "25063"
                                },
                                {
                                    "CustomerID": "16656"
                                },
                                {
                                    "CustomerID": "11246"
                                },
                                {
                                    "CustomerID": "15660"
                                },
                                {
                                    "CustomerID": "29245"
                                },
                                {
                                    "CustomerID": "24376"
                                },
                                {
                                    "CustomerID": "17638"
                                },
                                {
                                    "CustomerID": "26921"
                                },
                                {
                                    "CustomerID": "11724"
                                },
                                {
                                    "CustomerID": "16347"
                                },
                                {
                                    "CustomerID": "29932"
                                },
                                {
                                    "CustomerID": "13201"
                                },
                                {
                                    "CustomerID": "17778"
                                },
                                {
                                    "CustomerID": "15614"
                                },
                                {
                                    "CustomerID": "25693"
                                },
                                {
                                    "CustomerID": "25604"
                                },
                                {
                                    "CustomerID": "18863"
                                },
                                {
                                    "CustomerID": "20778"
                                },
                                {
                                    "CustomerID": "19112"
                                },
                                {
                                    "CustomerID": "18465"
                                },
                                {
                                    "CustomerID": "14827"
                                },
                                {
                                    "CustomerID": "19158"
                                },
                                {
                                    "CustomerID": "15076"
                                },
                                {
                                    "CustomerID": "19404"
                                },
                                {
                                    "CustomerID": "25501"
                                },
                                {
                                    "CustomerID": "16550"
                                },
                                {
                                    "CustomerID": "17091"
                                },
                                {
                                    "CustomerID": "27024"
                                },
                                {
                                    "CustomerID": "19032"
                                },
                                {
                                    "CustomerID": "11372"
                                },
                                {
                                    "CustomerID": "13934"
                                },
                                {
                                    "CustomerID": "20051"
                                },
                                {
                                    "CustomerID": "19387"
                                },
                                {
                                    "CustomerID": "15594"
                                },
                                {
                                    "CustomerID": "19885"
                                },
                                {
                                    "CustomerID": "22235"
                                },
                                {
                                    "CustomerID": "18156"
                                },
                                {
                                    "CustomerID": "15474"
                                },
                                {
                                    "CustomerID": "18511"
                                },
                                {
                                    "CustomerID": "13765"
                                },
                                {
                                    "CustomerID": "29938"
                                },
                                {
                                    "CustomerID": "16639"
                                },
                                {
                                    "CustomerID": "11913"
                                },
                                {
                                    "CustomerID": "19318"
                                },
                                {
                                    "CustomerID": "20569"
                                },
                                {
                                    "CustomerID": "17323"
                                },
                                {
                                    "CustomerID": "29915"
                                },
                                {
                                    "CustomerID": "30038"
                                },
                                {
                                    "CustomerID": "29374"
                                },
                                {
                                    "CustomerID": "21923"
                                },
                                {
                                    "CustomerID": "17472"
                                },
                                {
                                    "CustomerID": "29603"
                                },
                                {
                                    "CustomerID": "16370"
                                },
                                {
                                    "CustomerID": "14698"
                                },
                                {
                                    "CustomerID": "13536"
                                },
                                {
                                    "CustomerID": "29709"
                                },
                                {
                                    "CustomerID": "13928"
                                },
                                {
                                    "CustomerID": "22713"
                                },
                                {
                                    "CustomerID": "27731"
                                },
                                {
                                    "CustomerID": "11993"
                                },
                                {
                                    "CustomerID": "22029"
                                },
                                {
                                    "CustomerID": "15537"
                                },
                                {
                                    "CustomerID": "18840"
                                },
                                {
                                    "CustomerID": "24840"
                                },
                                {
                                    "CustomerID": "13971"
                                },
                                {
                                    "CustomerID": "11166"
                                },
                                {
                                    "CustomerID": "19573"
                                },
                                {
                                    "CustomerID": "11558"
                                },
                                {
                                    "CustomerID": "24542"
                                },
                                {
                                    "CustomerID": "17509"
                                },
                                {
                                    "CustomerID": "14263"
                                },
                                {
                                    "CustomerID": "19132"
                                },
                                {
                                    "CustomerID": "16530"
                                },
                                {
                                    "CustomerID": "19447"
                                },
                                {
                                    "CustomerID": "24356"
                                },
                                {
                                    "CustomerID": "18783"
                                },
                                {
                                    "CustomerID": "11930"
                                },
                                {
                                    "CustomerID": "18428"
                                },
                                {
                                    "CustomerID": "15889"
                                },
                                {
                                    "CustomerID": "26918"
                                },
                                {
                                    "CustomerID": "28246"
                                },
                                {
                                    "CustomerID": "29812"
                                },
                                {
                                    "CustomerID": "24402"
                                },
                                {
                                    "CustomerID": "21462"
                                },
                                {
                                    "CustomerID": "24880"
                                },
                                {
                                    "CustomerID": "22195"
                                },
                                {
                                    "CustomerID": "28438"
                                },
                                {
                                    "CustomerID": "13118"
                                },
                                {
                                    "CustomerID": "25853"
                                },
                                {
                                    "CustomerID": "14346"
                                },
                                {
                                    "CustomerID": "22836"
                                },
                                {
                                    "CustomerID": "12477"
                                },
                                {
                                    "CustomerID": "21508"
                                },
                                {
                                    "CustomerID": "12139"
                                },
                                {
                                    "CustomerID": "15010"
                                },
                                {
                                    "CustomerID": "24233"
                                },
                                {
                                    "CustomerID": "22318"
                                },
                                {
                                    "CustomerID": "24333"
                                },
                                {
                                    "CustomerID": "13513"
                                },
                                {
                                    "CustomerID": "23669"
                                },
                                {
                                    "CustomerID": "12849"
                                },
                                {
                                    "CustomerID": "18528"
                                },
                                {
                                    "CustomerID": "18860"
                                },
                                {
                                    "CustomerID": "26377"
                                },
                                {
                                    "CustomerID": "27705"
                                },
                                {
                                    "CustomerID": "13997"
                                },
                                {
                                    "CustomerID": "15906"
                                },
                                {
                                    "CustomerID": "24671"
                                },
                                {
                                    "CustomerID": "14638"
                                },
                                {
                                    "CustomerID": "18720"
                                },
                                {
                                    "CustomerID": "16052"
                                },
                                {
                                    "CustomerID": "27519"
                                },
                                {
                                    "CustomerID": "22942"
                                },
                                {
                                    "CustomerID": "14784"
                                },
                                {
                                    "CustomerID": "15620"
                                },
                                {
                                    "CustomerID": "19942"
                                },
                                {
                                    "CustomerID": "18614"
                                },
                                {
                                    "CustomerID": "15471"
                                },
                                {
                                    "CustomerID": "11684"
                                },
                                {
                                    "CustomerID": "19301"
                                },
                                {
                                    "CustomerID": "14684"
                                },
                                {
                                    "CustomerID": "19006"
                                },
                                {
                                    "CustomerID": "29975"
                                },
                                {
                                    "CustomerID": "18322"
                                },
                                {
                                    "CustomerID": "20483"
                                },
                                {
                                    "CustomerID": "18173"
                                },
                                {
                                    "CustomerID": "23878"
                                },
                                {
                                    "CustomerID": "12222"
                                },
                                {
                                    "CustomerID": "14787"
                                },
                                {
                                    "CustomerID": "19364"
                                },
                                {
                                    "CustomerID": "27854"
                                },
                                {
                                    "CustomerID": "24937"
                                },
                                {
                                    "CustomerID": "15119"
                                },
                                {
                                    "CustomerID": "18866"
                                },
                                {
                                    "CustomerID": "14621"
                                },
                                {
                                    "CustomerID": "29537"
                                },
                                {
                                    "CustomerID": "14764"
                                },
                                {
                                    "CustomerID": "21926"
                                },
                                {
                                    "CustomerID": "15428"
                                },
                                {
                                    "CustomerID": "29563"
                                },
                                {
                                    "CustomerID": "25149"
                                },
                                {
                                    "CustomerID": "25484"
                                },
                                {
                                    "CustomerID": "16493"
                                },
                                {
                                    "CustomerID": "12892"
                                },
                                {
                                    "CustomerID": "20552"
                                },
                                {
                                    "CustomerID": "25458"
                                },
                                {
                                    "CustomerID": "16616"
                                },
                                {
                                    "CustomerID": "13533"
                                },
                                {
                                    "CustomerID": "27187"
                                },
                                {
                                    "CustomerID": "28189"
                                },
                                {
                                    "CustomerID": "20695"
                                },
                                {
                                    "CustomerID": "11369"
                                },
                                {
                                    "CustomerID": "29494"
                                },
                                {
                                    "CustomerID": "18631"
                                },
                                {
                                    "CustomerID": "18508"
                                },
                                {
                                    "CustomerID": "27330"
                                },
                                {
                                    "CustomerID": "17967"
                                },
                                {
                                    "CustomerID": "25315"
                                },
                                {
                                    "CustomerID": "16659"
                                },
                                {
                                    "CustomerID": "26646"
                                },
                                {
                                    "CustomerID": "24482"
                                },
                                {
                                    "CustomerID": "23400"
                                },
                                {
                                    "CustomerID": "12159"
                                },
                                {
                                    "CustomerID": "14054"
                                },
                                {
                                    "CustomerID": "16636"
                                },
                                {
                                    "CustomerID": "25464"
                                },
                                {
                                    "CustomerID": "25584"
                                },
                                {
                                    "CustomerID": "21385"
                                },
                                {
                                    "CustomerID": "13762"
                                },
                                {
                                    "CustomerID": "13725"
                                },
                                {
                                    "CustomerID": "19321"
                                },
                                {
                                    "CustomerID": "24731"
                                },
                                {
                                    "CustomerID": "11661"
                                },
                                {
                                    "CustomerID": "20403"
                                },
                                {
                                    "CustomerID": "22238"
                                },
                                {
                                    "CustomerID": "15056"
                                },
                                {
                                    "CustomerID": "13974"
                                },
                                {
                                    "CustomerID": "28581"
                                },
                                {
                                    "CustomerID": "18388"
                                },
                                {
                                    "CustomerID": "19384"
                                },
                                {
                                    "CustomerID": "20011"
                                },
                                {
                                    "CustomerID": "26958"
                                },
                                {
                                    "CustomerID": "13035"
                                },
                                {
                                    "CustomerID": "23612"
                                },
                                {
                                    "CustomerID": "27685"
                                },
                                {
                                    "CustomerID": "27934"
                                },
                                {
                                    "CustomerID": "25770"
                                },
                                {
                                    "CustomerID": "13184"
                                },
                                {
                                    "CustomerID": "29557"
                                },
                                {
                                    "CustomerID": "29806"
                                },
                                {
                                    "CustomerID": "26560"
                                },
                                {
                                    "CustomerID": "20901"
                                },
                                {
                                    "CustomerID": "16573"
                                },
                                {
                                    "CustomerID": "24147"
                                },
                                {
                                    "CustomerID": "24296"
                                },
                                {
                                    "CustomerID": "16181"
                                },
                                {
                                    "CustomerID": "21591"
                                },
                                {
                                    "CustomerID": "28083"
                                },
                                {
                                    "CustomerID": "22198"
                                },
                                {
                                    "CustomerID": "16957"
                                },
                                {
                                    "CustomerID": "29715"
                                },
                                {
                                    "CustomerID": "16270"
                                },
                                {
                                    "CustomerID": "20893"
                                },
                                {
                                    "CustomerID": "22221"
                                },
                                {
                                    "CustomerID": "29738"
                                },
                                {
                                    "CustomerID": "27485"
                                },
                                {
                                    "CustomerID": "15746"
                                },
                                {
                                    "CustomerID": "11501"
                                },
                                {
                                    "CustomerID": "18500"
                                },
                                {
                                    "CustomerID": "18832"
                                },
                                {
                                    "CustomerID": "27817"
                                },
                                {
                                    "CustomerID": "13754"
                                },
                                {
                                    "CustomerID": "14564"
                                },
                                {
                                    "CustomerID": "28195"
                                },
                                {
                                    "CustomerID": "12875"
                                },
                                {
                                    "CustomerID": "26280"
                                },
                                {
                                    "CustomerID": "29838"
                                },
                                {
                                    "CustomerID": "26297"
                                },
                                {
                                    "CustomerID": "26303"
                                },
                                {
                                    "CustomerID": "29815"
                                },
                                {
                                    "CustomerID": "12257"
                                },
                                {
                                    "CustomerID": "22908"
                                },
                                {
                                    "CustomerID": "22413"
                                },
                                {
                                    "CustomerID": "29669"
                                },
                                {
                                    "CustomerID": "29546"
                                },
                                {
                                    "CustomerID": "18849"
                                },
                                {
                                    "CustomerID": "13021"
                                },
                                {
                                    "CustomerID": "28464"
                                },
                                {
                                    "CustomerID": "17767"
                                },
                                {
                                    "CustomerID": "18955"
                                },
                                {
                                    "CustomerID": "29592"
                                },
                                {
                                    "CustomerID": "23887"
                                },
                                {
                                    "CustomerID": "27717"
                                },
                                {
                                    "CustomerID": "26426"
                                },
                                {
                                    "CustomerID": "15268"
                                },
                                {
                                    "CustomerID": "26984"
                                },
                                {
                                    "CustomerID": "15669"
                                },
                                {
                                    "CustomerID": "20578"
                                },
                                {
                                    "CustomerID": "26589"
                                },
                                {
                                    "CustomerID": "29529"
                                },
                                {
                                    "CustomerID": "13545"
                                },
                                {
                                    "CustomerID": "13794"
                                },
                                {
                                    "CustomerID": "15122"
                                },
                                {
                                    "CustomerID": "27863"
                                },
                                {
                                    "CustomerID": "19456"
                                },
                                {
                                    "CustomerID": "29629"
                                },
                                {
                                    "CustomerID": "20137"
                                },
                                {
                                    "CustomerID": "27963"
                                },
                                {
                                    "CustomerID": "15520"
                                },
                                {
                                    "CustomerID": "13645"
                                },
                                {
                                    "CustomerID": "15815"
                                },
                                {
                                    "CustomerID": "23827"
                                },
                                {
                                    "CustomerID": "28155"
                                },
                                {
                                    "CustomerID": "16748"
                                },
                                {
                                    "CustomerID": "12666"
                                },
                                {
                                    "CustomerID": "29878"
                                },
                                {
                                    "CustomerID": "23681"
                                },
                                {
                                    "CustomerID": "21517"
                                },
                                {
                                    "CustomerID": "22058"
                                },
                                {
                                    "CustomerID": "15566"
                                },
                                {
                                    "CustomerID": "16648"
                                },
                                {
                                    "CustomerID": "28255"
                                },
                                {
                                    "CustomerID": "22845"
                                },
                                {
                                    "CustomerID": "26194"
                                },
                                {
                                    "CustomerID": "13957"
                                },
                                {
                                    "CustomerID": "18368"
                                },
                                {
                                    "CustomerID": "28756"
                                },
                                {
                                    "CustomerID": "26549"
                                },
                                {
                                    "CustomerID": "20100"
                                },
                                {
                                    "CustomerID": "11942"
                                },
                                {
                                    "CustomerID": "26051"
                                },
                                {
                                    "CustomerID": "29821"
                                },
                                {
                                    "CustomerID": "20575"
                                },
                                {
                                    "CustomerID": "26406"
                                },
                                {
                                    "CustomerID": "11086"
                                },
                                {
                                    "CustomerID": "11919"
                                },
                                {
                                    "CustomerID": "23489"
                                },
                                {
                                    "CustomerID": "28899"
                                },
                                {
                                    "CustomerID": "16496"
                                },
                                {
                                    "CustomerID": "18560"
                                },
                                {
                                    "CustomerID": "15523"
                                },
                                {
                                    "CustomerID": "18869"
                                },
                                {
                                    "CustomerID": "29446"
                                },
                                {
                                    "CustomerID": "19367"
                                },
                                {
                                    "CustomerID": "19124"
                                },
                                {
                                    "CustomerID": "25367"
                                },
                                {
                                    "CustomerID": "16190"
                                },
                                {
                                    "CustomerID": "22805"
                                },
                                {
                                    "CustomerID": "14026"
                                },
                                {
                                    "CustomerID": "29131"
                                },
                                {
                                    "CustomerID": "14690"
                                },
                                {
                                    "CustomerID": "30064"
                                },
                                {
                                    "CustomerID": "26569"
                                },
                                {
                                    "CustomerID": "11252"
                                },
                                {
                                    "CustomerID": "19908"
                                },
                                {
                                    "CustomerID": "30087"
                                },
                                {
                                    "CustomerID": "29964"
                                },
                                {
                                    "CustomerID": "21308"
                                },
                                {
                                    "CustomerID": "14816"
                                },
                                {
                                    "CustomerID": "13857"
                                },
                                {
                                    "CustomerID": "19267"
                                },
                                {
                                    "CustomerID": "21431"
                                },
                                {
                                    "CustomerID": "22619"
                                },
                                {
                                    "CustomerID": "22868"
                                },
                                {
                                    "CustomerID": "27694"
                                },
                                {
                                    "CustomerID": "18789"
                                },
                                {
                                    "CustomerID": "18540"
                                },
                                {
                                    "CustomerID": "19287"
                                },
                                {
                                    "CustomerID": "22370"
                                },
                                {
                                    "CustomerID": "12895"
                                },
                                {
                                    "CustomerID": "29211"
                                },
                                {
                                    "CustomerID": "16725"
                                },
                                {
                                    "CustomerID": "28713"
                                },
                                {
                                    "CustomerID": "24385"
                                },
                                {
                                    "CustomerID": "18434"
                                },
                                {
                                    "CustomerID": "29652"
                                },
                                {
                                    "CustomerID": "20747"
                                },
                                {
                                    "CustomerID": "21992"
                                },
                                {
                                    "CustomerID": "30007"
                                },
                                {
                                    "CustomerID": "24056"
                                },
                                {
                                    "CustomerID": "21929"
                                },
                                {
                                    "CustomerID": "24597"
                                },
                                {
                                    "CustomerID": "27302"
                                },
                                {
                                    "CustomerID": "11650"
                                },
                                {
                                    "CustomerID": "13728"
                                },
                                {
                                    "CustomerID": "21537"
                                },
                                {
                                    "CustomerID": "28527"
                                },
                                {
                                    "CustomerID": "11856"
                                },
                                {
                                    "CustomerID": "28135"
                                },
                                {
                                    "CustomerID": "14020"
                                },
                                {
                                    "CustomerID": "24342"
                                },
                                {
                                    "CustomerID": "11315"
                                },
                                {
                                    "CustomerID": "15835"
                                },
                                {
                                    "CustomerID": "11507"
                                },
                                {
                                    "CustomerID": "16917"
                                },
                                {
                                    "CustomerID": "27986"
                                },
                                {
                                    "CustomerID": "16084"
                                },
                                {
                                    "CustomerID": "30050"
                                },
                                {
                                    "CustomerID": "14853"
                                },
                                {
                                    "CustomerID": "26755"
                                },
                                {
                                    "CustomerID": "28378"
                                },
                                {
                                    "CustomerID": "28530"
                                },
                                {
                                    "CustomerID": "26277"
                                },
                                {
                                    "CustomerID": "13542"
                                },
                                {
                                    "CustomerID": "12214"
                                },
                                {
                                    "CustomerID": "29881"
                                },
                                {
                                    "CustomerID": "28885"
                                },
                                {
                                    "CustomerID": "25590"
                                },
                                {
                                    "CustomerID": "13565"
                                },
                                {
                                    "CustomerID": "24926"
                                },
                                {
                                    "CustomerID": "15440"
                                },
                                {
                                    "CustomerID": "24239"
                                },
                                {
                                    "CustomerID": "18829"
                                },
                                {
                                    "CustomerID": "23074"
                                },
                                {
                                    "CustomerID": "18497"
                                },
                                {
                                    "CustomerID": "27488"
                                },
                                {
                                    "CustomerID": "28152"
                                },
                                {
                                    "CustomerID": "21414"
                                },
                                {
                                    "CustomerID": "24571"
                                },
                                {
                                    "CustomerID": "19138"
                                },
                                {
                                    "CustomerID": "18806"
                                },
                                {
                                    "CustomerID": "11859"
                                },
                                {
                                    "CustomerID": "24216"
                                },
                                {
                                    "CustomerID": "24757"
                                },
                                {
                                    "CustomerID": "23884"
                                },
                                {
                                    "CustomerID": "29695"
                                },
                                {
                                    "CustomerID": "16290"
                                },
                                {
                                    "CustomerID": "21869"
                                },
                                {
                                    "CustomerID": "27697"
                                },
                                {
                                    "CustomerID": "13024"
                                },
                                {
                                    "CustomerID": "21182"
                                },
                                {
                                    "CustomerID": "18311"
                                },
                                {
                                    "CustomerID": "21577"
                                },
                                {
                                    "CustomerID": "18998"
                                },
                                {
                                    "CustomerID": "22241"
                                },
                                {
                                    "CustomerID": "15580"
                                },
                                {
                                    "CustomerID": "25072"
                                },
                                {
                                    "CustomerID": "11667"
                                },
                                {
                                    "CustomerID": "14252"
                                },
                                {
                                    "CustomerID": "22905"
                                },
                                {
                                    "CustomerID": "13734"
                                },
                                {
                                    "CustomerID": "26300"
                                },
                                {
                                    "CustomerID": "25636"
                                },
                                {
                                    "CustomerID": "15062"
                                },
                                {
                                    "CustomerID": "22218"
                                },
                                {
                                    "CustomerID": "15125"
                                },
                                {
                                    "CustomerID": "18457"
                                },
                                {
                                    "CustomerID": "19453"
                                },
                                {
                                    "CustomerID": "15872"
                                },
                                {
                                    "CustomerID": "26283"
                                },
                                {
                                    "CustomerID": "27860"
                                },
                                {
                                    "CustomerID": "13110"
                                },
                                {
                                    "CustomerID": "19098"
                                },
                                {
                                    "CustomerID": "18766"
                                },
                                {
                                    "CustomerID": "25596"
                                },
                                {
                                    "CustomerID": "26924"
                                },
                                {
                                    "CustomerID": "16559"
                                },
                                {
                                    "CustomerID": "29735"
                                },
                                {
                                    "CustomerID": "22988"
                                },
                                {
                                    "CustomerID": "24325"
                                },
                                {
                                    "CustomerID": "17332"
                                },
                                {
                                    "CustomerID": "16250"
                                },
                                {
                                    "CustomerID": "11736"
                                },
                                {
                                    "CustomerID": "17687"
                                },
                                {
                                    "CustomerID": "28593"
                                },
                                {
                                    "CustomerID": "16605"
                                },
                                {
                                    "CustomerID": "12314"
                                },
                                {
                                    "CustomerID": "30027"
                                },
                                {
                                    "CustomerID": "29440"
                                },
                                {
                                    "CustomerID": "12128"
                                },
                                {
                                    "CustomerID": "22201"
                                },
                                {
                                    "CustomerID": "28693"
                                },
                                {
                                    "CustomerID": "18620"
                                },
                                {
                                    "CustomerID": "18514"
                                },
                                {
                                    "CustomerID": "11487"
                                },
                                {
                                    "CustomerID": "19848"
                                },
                                {
                                    "CustomerID": "13651"
                                },
                                {
                                    "CustomerID": "17979"
                                },
                                {
                                    "CustomerID": "16350"
                                },
                                {
                                    "CustomerID": "29486"
                                },
                                {
                                    "CustomerID": "16499"
                                },
                                {
                                    "CustomerID": "27319"
                                },
                                {
                                    "CustomerID": "13256"
                                },
                                {
                                    "CustomerID": "27714"
                                },
                                {
                                    "CustomerID": "19353"
                                },
                                {
                                    "CustomerID": "13648"
                                },
                                {
                                    "CustomerID": "18271"
                                },
                                {
                                    "CustomerID": "25845"
                                },
                                {
                                    "CustomerID": "14730"
                                },
                                {
                                    "CustomerID": "29775"
                                },
                                {
                                    "CustomerID": "11965"
                                },
                                {
                                    "CustomerID": "16210"
                                },
                                {
                                    "CustomerID": "16542"
                                },
                                {
                                    "CustomerID": "21262"
                                },
                                {
                                    "CustomerID": "19055"
                                },
                                {
                                    "CustomerID": "26738"
                                },
                                {
                                    "CustomerID": "21497"
                                },
                                {
                                    "CustomerID": "11418"
                                },
                                {
                                    "CustomerID": "27070"
                                },
                                {
                                    "CustomerID": "22161"
                                },
                                {
                                    "CustomerID": "24488"
                                },
                                {
                                    "CustomerID": "15497"
                                },
                                {
                                    "CustomerID": "18437"
                                },
                                {
                                    "CustomerID": "13482"
                                },
                                {
                                    "CustomerID": "21142"
                                },
                                {
                                    "CustomerID": "27548"
                                },
                                {
                                    "CustomerID": "13462"
                                },
                                {
                                    "CustomerID": "13960"
                                },
                                {
                                    "CustomerID": "14813"
                                },
                                {
                                    "CustomerID": "15477"
                                },
                                {
                                    "CustomerID": "21305"
                                },
                                {
                                    "CustomerID": "21975"
                                },
                                {
                                    "CustomerID": "20744"
                                },
                                {
                                    "CustomerID": "15503"
                                },
                                {
                                    "CustomerID": "16167"
                                },
                                {
                                    "CustomerID": "12088"
                                },
                                {
                                    "CustomerID": "15334"
                                },
                                {
                                    "CustomerID": "29841"
                                },
                                {
                                    "CustomerID": "16685"
                                },
                                {
                                    "CustomerID": "28046"
                                },
                                {
                                    "CustomerID": "22636"
                                },
                                {
                                    "CustomerID": "28759"
                                },
                                {
                                    "CustomerID": "16287"
                                },
                                {
                                    "CustomerID": "16038"
                                },
                                {
                                    "CustomerID": "11710"
                                },
                                {
                                    "CustomerID": "11212"
                                },
                                {
                                    "CustomerID": "28275"
                                },
                                {
                                    "CustomerID": "23698"
                                },
                                {
                                    "CustomerID": "13276"
                                },
                                {
                                    "CustomerID": "21932"
                                },
                                {
                                    "CustomerID": "23057"
                                },
                                {
                                    "CustomerID": "21434"
                                },
                                {
                                    "CustomerID": "20223"
                                },
                                {
                                    "CustomerID": "13668"
                                },
                                {
                                    "CustomerID": "26652"
                                },
                                {
                                    "CustomerID": "28238"
                                },
                                {
                                    "CustomerID": "16273"
                                },
                                {
                                    "CustomerID": "24388"
                                },
                                {
                                    "CustomerID": "14023"
                                },
                                {
                                    "CustomerID": "29612"
                                },
                                {
                                    "CustomerID": "18537"
                                },
                                {
                                    "CustomerID": "23114"
                                },
                                {
                                    "CustomerID": "25135"
                                },
                                {
                                    "CustomerID": "21348"
                                },
                                {
                                    "CustomerID": "18643"
                                },
                                {
                                    "CustomerID": "20807"
                                },
                                {
                                    "CustomerID": "20658"
                                },
                                {
                                    "CustomerID": "19476"
                                },
                                {
                                    "CustomerID": "28132"
                                },
                                {
                                    "CustomerID": "20558"
                                },
                                {
                                    "CustomerID": "18394"
                                },
                                {
                                    "CustomerID": "16230"
                                },
                                {
                                    "CustomerID": "27591"
                                },
                                {
                                    "CustomerID": "20017"
                                },
                                {
                                    "CustomerID": "11902"
                                }
                            ]
                        },
                        "text/html": "<table><tr><th>CustomerID</th></tr><tr><td>24474</td></tr><tr><td>20561</td></tr><tr><td>27723</td></tr><tr><td>18878</td></tr><tr><td>25493</td></tr><tr><td>16671</td></tr><tr><td>19210</td></tr><tr><td>17550</td></tr><tr><td>14679</td></tr><tr><td>16531</td></tr><tr><td>29429</td></tr><tr><td>12117</td></tr><tr><td>28433</td></tr><tr><td>13777</td></tr><tr><td>17504</td></tr><tr><td>16176</td></tr><tr><td>23455</td></tr><tr><td>28078</td></tr><tr><td>18168</td></tr><tr><td>29552</td></tr><tr><td>28224</td></tr><tr><td>24311</td></tr><tr><td>28888</td></tr><tr><td>15134</td></tr><tr><td>18091</td></tr><tr><td>28247</td></tr><tr><td>12263</td></tr><tr><td>15529</td></tr><tr><td>27013</td></tr><tr><td>26867</td></tr><tr><td>15506</td></tr><tr><td>24334</td></tr><tr><td>13637</td></tr><tr><td>15088</td></tr><tr><td>29721</td></tr><tr><td>29638</td></tr><tr><td>12326</td></tr><tr><td>20235</td></tr><tr><td>24480</td></tr><tr><td>21480</td></tr><tr><td>25499</td></tr><tr><td>16216</td></tr><tr><td>28264</td></tr><tr><td>22605</td></tr><tr><td>28596</td></tr><tr><td>22854</td></tr><tr><td>22937</td></tr><tr><td>29343</td></tr><tr><td>16940</td></tr><tr><td>23873</td></tr><tr><td>11676</td></tr><tr><td>24328</td></tr><tr><td>27660</td></tr><tr><td>16402</td></tr><tr><td>13159</td></tr><tr><td>15466</td></tr><tr><td>26243</td></tr><tr><td>15761</td></tr><tr><td>26286</td></tr><tr><td>18028</td></tr><tr><td>26681</td></tr><tr><td>25599</td></tr><tr><td>12864</td></tr><tr><td>13700</td></tr><tr><td>19356</td></tr><tr><td>29535</td></tr><tr><td>18715</td></tr><tr><td>20043</td></tr><tr><td>19316</td></tr><tr><td>18818</td></tr><tr><td>29870</td></tr><tr><td>27829</td></tr><tr><td>14716</td></tr><tr><td>12011</td></tr><tr><td>23870</td></tr><tr><td>29678</td></tr><tr><td>29346</td></tr><tr><td>20690</td></tr><tr><td>12867</td></tr><tr><td>29701</td></tr><tr><td>21045</td></tr><tr><td>11848</td></tr><tr><td>22041</td></tr><tr><td>19840</td></tr><tr><td>19485</td></tr><tr><td>11991</td></tr><tr><td>24560</td></tr><tr><td>18460</td></tr><tr><td>21921</td></tr><tr><td>14032</td></tr><tr><td>12532</td></tr><tr><td>11842</td></tr><tr><td>19293</td></tr><tr><td>14547</td></tr><tr><td>20567</td></tr><tr><td>14069</td></tr><tr><td>29864</td></tr><tr><td>21835</td></tr><tr><td>13179</td></tr><tr><td>20212</td></tr><tr><td>12054</td></tr><tr><td>11556</td></tr><tr><td>28868</td></tr><tr><td>25038</td></tr><tr><td>21941</td></tr><tr><td>13534</td></tr><tr><td>16027</td></tr><tr><td>16276</td></tr><tr><td>18944</td></tr><tr><td>24291</td></tr><tr><td>16631</td></tr><tr><td>18881</td></tr><tr><td>29801</td></tr><tr><td>19236</td></tr><tr><td>19230</td></tr><tr><td>29950</td></tr><tr><td>21792</td></tr><tr><td>16923</td></tr><tr><td>27743</td></tr><tr><td>16966</td></tr><tr><td>28284</td></tr><tr><td>20753</td></tr><tr><td>11115</td></tr><tr><td>22774</td></tr><tr><td>11364</td></tr><tr><td>15051</td></tr><tr><td>11264</td></tr><tr><td>13969</td></tr><tr><td>18838</td></tr><tr><td>16133</td></tr><tr><td>25330</td></tr><tr><td>19731</td></tr><tr><td>14490</td></tr><tr><td>20063</td></tr><tr><td>15818</td></tr><tr><td>26561</td></tr><tr><td>18403</td></tr><tr><td>24308</td></tr><tr><td>24331</td></tr><tr><td>16505</td></tr><tr><td>16837</td></tr><tr><td>23667</td></tr><tr><td>26206</td></tr><tr><td>29100</td></tr><tr><td>25851</td></tr><tr><td>20773</td></tr><tr><td>21437</td></tr><tr><td>14991</td></tr><tr><td>12406</td></tr><tr><td>11078</td></tr><tr><td>29741</td></tr><tr><td>16296</td></tr><tr><td>13634</td></tr><tr><td>23126</td></tr><tr><td>22857</td></tr><tr><td>22934</td></tr><tr><td>15532</td></tr><tr><td>12778</td></tr><tr><td>30113</td></tr><tr><td>29572</td></tr><tr><td>21752</td></tr><tr><td>28244</td></tr><tr><td>23621</td></tr><tr><td>29887</td></tr><tr><td>12824</td></tr><tr><td>21065</td></tr><tr><td>18480</td></tr><tr><td>24231</td></tr><tr><td>21314</td></tr><tr><td>22061</td></tr><tr><td>13156</td></tr><tr><td>13511</td></tr><tr><td>27872</td></tr><tr><td>17839</td></tr><tr><td>15718</td></tr><tr><td>13548</td></tr><tr><td>29933</td></tr><tr><td>22608</td></tr><tr><td>18858</td></tr><tr><td>18526</td></tr><tr><td>19940</td></tr><tr><td>20936</td></tr><tr><td>21623</td></tr><tr><td>14344</td></tr><tr><td>15672</td></tr><tr><td>19004</td></tr><tr><td>29635</td></tr><tr><td>28058</td></tr><tr><td>29392</td></tr><tr><td>18566</td></tr><tr><td>27471</td></tr><tr><td>16259</td></tr><tr><td>22253</td></tr><tr><td>29927</td></tr><tr><td>12369</td></tr><tr><td>22602</td></tr><tr><td>17779</td></tr><tr><td>16946</td></tr><tr><td>15615</td></tr><tr><td>24517</td></tr><tr><td>29781</td></tr><tr><td>18420</td></tr><tr><td>11682</td></tr><tr><td>11928</td></tr><tr><td>27912</td></tr><tr><td>23043</td></tr><tr><td>29240</td></tr><tr><td>28158</td></tr><tr><td>22748</td></tr><tr><td>22207</td></tr><tr><td>23063</td></tr><tr><td>26644</td></tr><tr><td>28636</td></tr><tr><td>11679</td></tr><tr><td>15048</td></tr><tr><td>11845</td></tr><tr><td>20003</td></tr><tr><td>12841</td></tr><tr><td>15546</td></tr><tr><td>29847</td></tr><tr><td>22851</td></tr><tr><td>30033</td></tr><tr><td>29492</td></tr><tr><td>18463</td></tr><tr><td>25078</td></tr><tr><td>29369</td></tr><tr><td>12157</td></tr><tr><td>15240</td></tr><tr><td>23896</td></tr><tr><td>27305</td></tr><tr><td>19313</td></tr><tr><td>19319</td></tr><tr><td>21311</td></tr><tr><td>28616</td></tr><tr><td>17132</td></tr><tr><td>28118</td></tr><tr><td>19296</td></tr><tr><td>28516</td></tr><tr><td>19439</td></tr><tr><td>20521</td></tr><tr><td>15360</td></tr><tr><td>20670</td></tr><tr><td>14719</td></tr><tr><td>29804</td></tr><tr><td>30053</td></tr><tr><td>21148</td></tr><tr><td>16820</td></tr><tr><td>13239</td></tr><tr><td>16073</td></tr><tr><td>18337</td></tr><tr><td>11224</td></tr><tr><td>26993</td></tr><tr><td>27846</td></tr><tr><td>28679</td></tr><tr><td>18941</td></tr><tr><td>19276</td></tr><tr><td>23518</td></tr><tr><td>15340</td></tr><tr><td>25582</td></tr><tr><td>19668</td></tr><tr><td>21291</td></tr><tr><td>16926</td></tr><tr><td>13631</td></tr><tr><td>18586</td></tr><tr><td>11659</td></tr><tr><td>15489</td></tr><tr><td>20564</td></tr><tr><td>15738</td></tr><tr><td>24892</td></tr><tr><td>18400</td></tr><tr><td>11802</td></tr><tr><td>28579</td></tr><tr><td>28081</td></tr><tr><td>24245</td></tr><tr><td>16628</td></tr><tr><td>11261</td></tr><tr><td>13966</td></tr><tr><td>29512</td></tr><tr><td>20607</td></tr><tr><td>18443</td></tr><tr><td>15197</td></tr><tr><td>16379</td></tr><tr><td>25084</td></tr><tr><td>21297</td></tr><tr><td>11510</td></tr><tr><td>26166</td></tr><tr><td>29644</td></tr><tr><td>21154</td></tr><tr><td>11668</td></tr><tr><td>25067</td></tr><tr><td>25376</td></tr><tr><td>16554</td></tr><tr><td>21509</td></tr><tr><td>29690</td></tr><tr><td>25777</td></tr><tr><td>15867</td></tr><tr><td>14038</td></tr><tr><td>26441</td></tr><tr><td>13729</td></tr><tr><td>14725</td></tr><tr><td>25090</td></tr><tr><td>22906</td></tr><tr><td>14493</td></tr><tr><td>18993</td></tr><tr><td>15412</td></tr><tr><td>24234</td></tr><tr><td>26819</td></tr><tr><td>27483</td></tr><tr><td>18406</td></tr><tr><td>16099</td></tr><tr><td>18429</td></tr><tr><td>17642</td></tr><tr><td>26919</td></tr><tr><td>25591</td></tr><tr><td>25585</td></tr><tr><td>11791</td></tr><tr><td>22196</td></tr><tr><td>28193</td></tr><tr><td>13537</td></tr><tr><td>21532</td></tr><tr><td>22860</td></tr><tr><td>29498</td></tr><tr><td>13514</td></tr><tr><td>15727</td></tr><tr><td>16268</td></tr><tr><td>12973</td></tr><tr><td>29982</td></tr><tr><td>18824</td></tr><tr><td>15575</td></tr><tr><td>19156</td></tr><tr><td>17579</td></tr><tr><td>21824</td></tr><tr><td>14888</td></tr><tr><td>11685</td></tr><tr><td>18515</td></tr><tr><td>16560</td></tr><tr><td>15621</td></tr><tr><td>13643</td></tr><tr><td>26295</td></tr><tr><td>16262</td></tr><tr><td>23885</td></tr><tr><td>13311</td></tr><tr><td>25545</td></tr><tr><td>21672</td></tr><tr><td>29730</td></tr><tr><td>20736</td></tr><tr><td>16159</td></tr><tr><td>12810</td></tr><tr><td>19302</td></tr><tr><td>15472</td></tr><tr><td>26587</td></tr><tr><td>16308</td></tr><tr><td>18615</td></tr><tr><td>22943</td></tr><tr><td>22110</td></tr><tr><td>11877</td></tr><tr><td>22797</td></tr><tr><td>29395</td></tr><tr><td>16660</td></tr><tr><td>16494</td></tr><tr><td>21735</td></tr><tr><td>16351</td></tr><tr><td>18177</td></tr><tr><td>20716</td></tr><tr><td>19222</td></tr><tr><td>27712</td></tr><tr><td>30105</td></tr><tr><td>18867</td></tr><tr><td>12203</td></tr><tr><td>29750</td></tr><tr><td>19385</td></tr><tr><td>23799</td></tr><tr><td>22803</td></tr><tr><td>26647</td></tr><tr><td>17493</td></tr><tr><td>27898</td></tr><tr><td>29962</td></tr><tr><td>29421</td></tr><tr><td>26126</td></tr><tr><td>15804</td></tr><tr><td>24134</td></tr><tr><td>21429</td></tr><tr><td>21927</td></tr><tr><td>29770</td></tr><tr><td>13955</td></tr><tr><td>18532</td></tr><tr><td>26524</td></tr><tr><td>19365</td></tr><tr><td>17201</td></tr><tr><td>26547</td></tr><tr><td>16637</td></tr><tr><td>23301</td></tr><tr><td>17178</td></tr><tr><td>11940</td></tr><tr><td>14055</td></tr><tr><td>26567</td></tr><tr><td>19322</td></tr><tr><td>18160</td></tr><tr><td>25571</td></tr><tr><td>23009</td></tr><tr><td>17058</td></tr><tr><td>13726</td></tr><tr><td>12730</td></tr><tr><td>27208</td></tr><tr><td>21386</td></tr><tr><td>20367</td></tr><tr><td>26355</td></tr><tr><td>28190</td></tr><tr><td>16288</td></tr><tr><td>15598</td></tr><tr><td>20012</td></tr><tr><td>12893</td></tr><tr><td>24254</td></tr><tr><td>26653</td></tr><tr><td>22817</td></tr><tr><td>20659</td></tr><tr><td>29956</td></tr><tr><td>22923</td></tr><tr><td>29856</td></tr><tr><td>13036</td></tr><tr><td>25279</td></tr><tr><td>28525</td></tr><tr><td>29707</td></tr><tr><td>16182</td></tr><tr><td>18887</td></tr><tr><td>29810</td></tr><tr><td>24237</td></tr><tr><td>12830</td></tr><tr><td>27818</td></tr><tr><td>11170</td></tr><tr><td>29501</td></tr><tr><td>22007</td></tr><tr><td>23882</td></tr><tr><td>23218</td></tr><tr><td>15060</td></tr><tr><td>28104</td></tr><tr><td>22199</td></tr><tr><td>18117</td></tr><tr><td>18781</td></tr><tr><td>23713</td></tr><tr><td>18426</td></tr><tr><td>11001</td></tr><tr><td>18827</td></tr><tr><td>18263</td></tr><tr><td>23427</td></tr><tr><td>26298</td></tr><tr><td>28296</td></tr><tr><td>18804</td></tr><tr><td>11642</td></tr><tr><td>18286</td></tr><tr><td>19119</td></tr><tr><td>25047</td></tr><tr><td>18432</td></tr><tr><td>13022</td></tr><tr><td>14227</td></tr><tr><td>26129</td></tr><tr><td>21506</td></tr><tr><td>26916</td></tr><tr><td>15077</td></tr><tr><td>15515</td></tr><tr><td>14187</td></tr><tr><td>30019</td></tr><tr><td>29687</td></tr><tr><td>19952</td></tr><tr><td>21280</td></tr><tr><td>12870</td></tr><tr><td>18363</td></tr><tr><td>18280</td></tr><tr><td>29873</td></tr><tr><td>21967</td></tr><tr><td>28250</td></tr><tr><td>26922</td></tr><tr><td>16348</td></tr><tr><td>12916</td></tr><tr><td>16497</td></tr><tr><td>17825</td></tr><tr><td>14244</td></tr><tr><td>11974</td></tr><tr><td>13646</td></tr><tr><td>22800</td></tr><tr><td>27958</td></tr><tr><td>14974</td></tr><tr><td>28751</td></tr><tr><td>18864</td></tr><tr><td>24028</td></tr><tr><td>12959</td></tr><tr><td>29584</td></tr><tr><td>14682</td></tr><tr><td>19305</td></tr><tr><td>16305</td></tr><tr><td>25502</td></tr><tr><td>26146</td></tr><tr><td>20905</td></tr><tr><td>28565</td></tr><tr><td>16849</td></tr><tr><td>11230</td></tr><tr><td>24841</td></tr><tr><td>25694</td></tr><tr><td>13125</td></tr><tr><td>13792</td></tr><tr><td>29441</td></tr><tr><td>30082</td></tr><tr><td>16471</td></tr><tr><td>18512</td></tr><tr><td>15807</td></tr><tr><td>19053</td></tr><tr><td>20762</td></tr><tr><td>28422</td></tr><tr><td>29418</td></tr><tr><td>17516</td></tr><tr><td>15475</td></tr><tr><td>20576</td></tr><tr><td>16657</td></tr><tr><td>18578</td></tr><tr><td>18412</td></tr><tr><td>16806</td></tr><tr><td>22634</td></tr><tr><td>17304</td></tr><tr><td>29939</td></tr><tr><td>13958</td></tr><tr><td>29916</td></tr><tr><td>15973</td></tr><tr><td>15432</td></tr><tr><td>15850</td></tr><tr><td>29375</td></tr><tr><td>21924</td></tr><tr><td>13666</td></tr><tr><td>27895</td></tr><tr><td>19239</td></tr><tr><td>18386</td></tr><tr><td>27042</td></tr><tr><td>21054</td></tr><tr><td>24337</td></tr><tr><td>16726</td></tr><tr><td>29518</td></tr><tr><td>16620</td></tr><tr><td>12043</td></tr><tr><td>15538</td></tr><tr><td>19617</td></tr><tr><td>28273</td></tr><tr><td>29959</td></tr><tr><td>27881</td></tr><tr><td>22926</td></tr><tr><td>24586</td></tr><tr><td>19823</td></tr><tr><td>21738</td></tr><tr><td>24400</td></tr><tr><td>22236</td></tr><tr><td>15495</td></tr><tr><td>27589</td></tr><tr><td>23802</td></tr><tr><td>15103</td></tr><tr><td>17808</td></tr><tr><td>11310</td></tr><tr><td>13972</td></tr><tr><td>30102</td></tr><tr><td>22279</td></tr><tr><td>15787</td></tr><tr><td>12790</td></tr><tr><td>19282</td></tr><tr><td>24692</td></tr><tr><td>20364</td></tr><tr><td>28771</td></tr><tr><td>11559</td></tr><tr><td>18592</td></tr><tr><td>12641</td></tr><tr><td>18051</td></tr><tr><td>13182</td></tr><tr><td>24592</td></tr><tr><td>19133</td></tr><tr><td>17510</td></tr><tr><td>15887</td></tr><tr><td>26215</td></tr><tr><td>13257</td></tr><tr><td>17834</td></tr><tr><td>18166</td></tr><tr><td>29550</td></tr><tr><td>28886</td></tr><tr><td>11359</td></tr><tr><td>22720</td></tr><tr><td>27011</td></tr><tr><td>29527</td></tr><tr><td>27698</td></tr><tr><td>16128</td></tr><tr><td>15464</td></tr><tr><td>12215</td></tr><tr><td>12879</td></tr><tr><td>15796</td></tr><tr><td>13543</td></tr><tr><td>27180</td></tr><tr><td>17811</td></tr><tr><td>28508</td></tr><tr><td>28385</td></tr><tr><td>12192</td></tr><tr><td>29381</td></tr><tr><td>29172</td></tr><tr><td>28740</td></tr><tr><td>22248</td></tr><tr><td>18999</td></tr><tr><td>24240</td></tr><tr><td>11173</td></tr><tr><td>28076</td></tr><tr><td>22912</td></tr><tr><td>18976</td></tr><tr><td>22929</td></tr><tr><td>22935</td></tr><tr><td>15650</td></tr><tr><td>23599</td></tr><tr><td>29696</td></tr><tr><td>21037</td></tr><tr><td>18876</td></tr><tr><td>13466</td></tr><tr><td>13712</td></tr><tr><td>24286</td></tr><tr><td>26447</td></tr><tr><td>24309</td></tr><tr><td>13735</td></tr><tr><td>24326</td></tr><tr><td>16251</td></tr><tr><td>24409</td></tr><tr><td>15919</td></tr><tr><td>26888</td></tr><tr><td>16855</td></tr><tr><td>15527</td></tr><tr><td>16546</td></tr><tr><td>18375</td></tr><tr><td>22202</td></tr><tr><td>29922</td></tr><tr><td>23971</td></tr><tr><td>19016</td></tr><tr><td>16938</td></tr><tr><td>22016</td></tr><tr><td>18561</td></tr><tr><td>29736</td></tr><tr><td>29487</td></tr><tr><td>21910</td></tr><tr><td>28159</td></tr><tr><td>27472</td></tr><tr><td>15318</td></tr><tr><td>13111</td></tr><tr><td>20931</td></tr><tr><td>19308</td></tr><tr><td>24472</td></tr><tr><td>25597</td></tr><tr><td>19646</td></tr><tr><td>16646</td></tr><tr><td>13798</td></tr><tr><td>19454</td></tr><tr><td>25700</td></tr><tr><td>27861</td></tr><tr><td>19354</td></tr><tr><td>27715</td></tr><tr><td>14731</td></tr><tr><td>25551</td></tr><tr><td>26092</td></tr><tr><td>17585</td></tr><tr><td>18581</td></tr><tr><td>18415</td></tr><tr><td>13838</td></tr><tr><td>25577</td></tr><tr><td>23513</td></tr><tr><td>16211</td></tr><tr><td>19457</td></tr><tr><td>16374</td></tr><tr><td>15547</td></tr><tr><td>14714</td></tr><tr><td>29799</td></tr><tr><td>24844</td></tr><tr><td>14479</td></tr><tr><td>22829</td></tr><tr><td>28070</td></tr><tr><td>20665</td></tr><tr><td>21827</td></tr><tr><td>26404</td></tr><tr><td>21306</td></tr><tr><td>29470</td></tr><tr><td>19148</td></tr><tr><td>19314</td></tr><tr><td>27927</td></tr><tr><td>15876</td></tr><tr><td>25365</td></tr><tr><td>18458</td></tr><tr><td>22537</td></tr><tr><td>11966</td></tr><tr><td>16045</td></tr><tr><td>15212</td></tr><tr><td>29842</td></tr><tr><td>18481</td></tr><tr><td>22637</td></tr><tr><td>28760</td></tr><tr><td>11276</td></tr><tr><td>16686</td></tr><tr><td>27492</td></tr><tr><td>19832</td></tr><tr><td>25073</td></tr><tr><td>12587</td></tr><tr><td>24552</td></tr><tr><td>16025</td></tr><tr><td>29948</td></tr><tr><td>16629</td></tr><tr><td>22039</td></tr><tr><td>22617</td></tr><tr><td>28617</td></tr><tr><td>13632</td></tr><tr><td>18538</td></tr><tr><td>18979</td></tr><tr><td>26553</td></tr><tr><td>27635</td></tr><tr><td>13028</td></tr><tr><td>11946</td></tr><tr><td>13918</td></tr><tr><td>29072</td></tr><tr><td>19918</td></tr><tr><td>22474</td></tr><tr><td>18103</td></tr><tr><td>13775</td></tr><tr><td>13134</td></tr><tr><td>16380</td></tr><tr><td>20708</td></tr><tr><td>16623</td></tr><tr><td>12544</td></tr><tr><td>28133</td></tr><tr><td>17854</td></tr><tr><td>18395</td></tr><tr><td>21100</td></tr><tr><td>30071</td></tr><tr><td>15083</td></tr><tr><td>13755</td></tr><tr><td>27486</td></tr><tr><td>22245</td></tr><tr><td>21913</td></tr><tr><td>18996</td></tr><tr><td>27177</td></tr><tr><td>11857</td></tr><tr><td>20015</td></tr><tr><td>22222</td></tr><tr><td>18355</td></tr><tr><td>20562</td></tr><tr><td>18378</td></tr><tr><td>16125</td></tr><tr><td>15129</td></tr><tr><td>16789</td></tr><tr><td>26467</td></tr><tr><td>18524</td></tr><tr><td>20725</td></tr><tr><td>24475</td></tr><tr><td>18856</td></tr><tr><td>20084</td></tr><tr><td>24993</td></tr><tr><td>13586</td></tr><tr><td>24406</td></tr><tr><td>24329</td></tr><tr><td>15584</td></tr><tr><td>18478</td></tr><tr><td>16271</td></tr><tr><td>21435</td></tr><tr><td>26304</td></tr><tr><td>28196</td></tr><tr><td>27701</td></tr><tr><td>11717</td></tr><tr><td>27532</td></tr><tr><td>18850</td></tr><tr><td>24260</td></tr><tr><td>16858</td></tr><tr><td>22391</td></tr><tr><td>12899</td></tr><tr><td>20579</td></tr><tr><td>16749</td></tr><tr><td>28156</td></tr><tr><td>24575</td></tr><tr><td>19002</td></tr><tr><td>15670</td></tr><tr><td>11425</td></tr><tr><td>29839</td></tr><tr><td>22013</td></tr><tr><td>16062</td></tr><tr><td>12527</td></tr><tr><td>24515</td></tr><tr><td>28511</td></tr><tr><td>30031</td></tr><tr><td>13546</td></tr><tr><td>26281</td></tr><tr><td>18956</td></tr><tr><td>29676</td></tr><tr><td>25262</td></tr><tr><td>20934</td></tr><tr><td>13987</td></tr><tr><td>29344</td></tr><tr><td>26676</td></tr><tr><td>21266</td></tr><tr><td>11677</td></tr><tr><td>15916</td></tr><tr><td>24323</td></tr><tr><td>22159</td></tr><tr><td>18418</td></tr><tr><td>16941</td></tr><tr><td>20433</td></tr><tr><td>25302</td></tr><tr><td>13941</td></tr><tr><td>23974</td></tr><tr><td>28259</td></tr><tr><td>20144</td></tr><tr><td>30025</td></tr><tr><td>18372</td></tr><tr><td>19205</td></tr><tr><td>17731</td></tr><tr><td>15567</td></tr><tr><td>13108</td></tr><tr><td>13649</td></tr><tr><td>22600</td></tr><tr><td>18518</td></tr><tr><td>16649</td></tr><tr><td>27469</td></tr><tr><td>29822</td></tr><tr><td>14834</td></tr><tr><td>13008</td></tr><tr><td>22849</td></tr><tr><td>19125</td></tr><tr><td>18461</td></tr><tr><td>23871</td></tr><tr><td>15046</td></tr><tr><td>12129</td></tr><tr><td>13151</td></tr><tr><td>24057</td></tr><tr><td>11920</td></tr><tr><td>26570</td></tr><tr><td>19835</td></tr><tr><td>25076</td></tr><tr><td>29796</td></tr><tr><td>18435</td></tr><tr><td>17273</td></tr><tr><td>11943</td></tr><tr><td>26593</td></tr><tr><td>11130</td></tr><tr><td>19294</td></tr><tr><td>25786</td></tr><tr><td>29447</td></tr><tr><td>24037</td></tr><tr><td>29965</td></tr><tr><td>15358</td></tr><tr><td>18604</td></tr><tr><td>18727</td></tr><tr><td>15089</td></tr><tr><td>28571</td></tr><tr><td>11259</td></tr><tr><td>20519</td></tr><tr><td>18398</td></tr><tr><td>16228</td></tr><tr><td>20021</td></tr><tr><td>11365</td></tr><tr><td>13025</td></tr><tr><td>26009</td></tr><tr><td>22726</td></tr><tr><td>16191</td></tr><tr><td>27695</td></tr><tr><td>13878</td></tr><tr><td>13964</td></tr><tr><td>22534</td></tr><tr><td>21538</td></tr><tr><td>29553</td></tr><tr><td>30008</td></tr><tr><td>14319</td></tr><tr><td>24598</td></tr><tr><td>21930</td></tr><tr><td>29653</td></tr><tr><td>27987</td></tr><tr><td>19580</td></tr><tr><td>26072</td></tr><tr><td>18833</td></tr><tr><td>27489</td></tr><tr><td>21495</td></tr><tr><td>19331</td></tr><tr><td>19474</td></tr><tr><td>27595</td></tr><tr><td>12298</td></tr><tr><td>22036</td></tr><tr><td>20313</td></tr><tr><td>11608</td></tr><tr><td>17067</td></tr><tr><td>11929</td></tr><tr><td>24332</td></tr><tr><td>18427</td></tr><tr><td>20751</td></tr><tr><td>26585</td></tr><tr><td>26917</td></tr><tr><td>17193</td></tr><tr><td>21129</td></tr><tr><td>25042</td></tr><tr><td>26207</td></tr><tr><td>24733</td></tr><tr><td>19446</td></tr><tr><td>19114</td></tr><tr><td>11102</td></tr><tr><td>25165</td></tr><tr><td>29642</td></tr><tr><td>28437</td></tr><tr><td>23150</td></tr><tr><td>12330</td></tr><tr><td>28099</td></tr><tr><td>18945</td></tr><tr><td>18381</td></tr><tr><td>20966</td></tr><tr><td>13635</td></tr><tr><td>22958</td></tr><tr><td>28955</td></tr><tr><td>28368</td></tr><tr><td>28932</td></tr><tr><td>22981</td></tr><tr><td>28268</td></tr><tr><td>29579</td></tr><tr><td>29496</td></tr><tr><td>25251</td></tr><tr><td>12516</td></tr><tr><td>18527</td></tr><tr><td>24232</td></tr><tr><td>22062</td></tr><tr><td>16051</td></tr><tr><td>15905</td></tr><tr><td>18905</td></tr><tr><td>14282</td></tr><tr><td>15424</td></tr><tr><td>14677</td></tr><tr><td>12762</td></tr><tr><td>19941</td></tr><tr><td>12662</td></tr><tr><td>18613</td></tr><tr><td>15324</td></tr><tr><td>19154</td></tr><tr><td>26980</td></tr><tr><td>23877</td></tr><tr><td>18713</td></tr><tr><td>17880</td></tr><tr><td>29041</td></tr><tr><td>18026</td></tr><tr><td>19108</td></tr><tr><td>17780</td></tr><tr><td>14265</td></tr><tr><td>19340</td></tr><tr><td>20004</td></tr><tr><td>15427</td></tr><tr><td>20336</td></tr><tr><td>22921</td></tr><tr><td>14408</td></tr><tr><td>13412</td></tr><tr><td>28019</td></tr><tr><td>28517</td></tr><tr><td>30034</td></tr><tr><td>25789</td></tr><tr><td>25457</td></tr><tr><td>13054</td></tr><tr><td>12891</td></tr><tr><td>18464</td></tr><tr><td>14551</td></tr><tr><td>21733</td></tr><tr><td>15782</td></tr><tr><td>22188</td></tr><tr><td>17442</td></tr><tr><td>26147</td></tr><tr><td>25812</td></tr><tr><td>12158</td></tr><tr><td>16658</td></tr><tr><td>24601</td></tr><tr><td>13953</td></tr><tr><td>13389</td></tr><tr><td>28119</td></tr><tr><td>18630</td></tr><tr><td>25291</td></tr><tr><td>29891</td></tr><tr><td>26645</td></tr><tr><td>14030</td></tr><tr><td>24481</td></tr><tr><td>25440</td></tr><tr><td>18089</td></tr><tr><td>16180</td></tr><tr><td>18338</td></tr><tr><td>25583</td></tr><tr><td>24587</td></tr><tr><td>29413</td></tr><tr><td>28666</td></tr><tr><td>24338</td></tr><tr><td>16572</td></tr><tr><td>22523</td></tr><tr><td>18550</td></tr><tr><td>19961</td></tr><tr><td>13973</td></tr><tr><td>26957</td></tr><tr><td>14222</td></tr><tr><td>28288</td></tr><tr><td>11368</td></tr><tr><td>11995</td></tr><tr><td>17319</td></tr><tr><td>11019</td></tr><tr><td>21833</td></tr><tr><td>17760</td></tr><tr><td>30097</td></tr><tr><td>23605</td></tr><tr><td>14949</td></tr><tr><td>26808</td></tr><tr><td>28474</td></tr><tr><td>11560</td></tr><tr><td>13724</td></tr><tr><td>24295</td></tr><tr><td>13967</td></tr><tr><td>16721</td></tr><tr><td>18444</td></tr><tr><td>28079</td></tr><tr><td>27747</td></tr><tr><td>15012</td></tr><tr><td>17906</td></tr><tr><td>16031</td></tr><tr><td>19234</td></tr><tr><td>19898</td></tr><tr><td>28125</td></tr><tr><td>16054</td></tr><tr><td>18547</td></tr><tr><td>29762</td></tr><tr><td>22483</td></tr><tr><td>24143</td></tr><tr><td>28102</td></tr><tr><td>11786</td></tr><tr><td>29576</td></tr><tr><td>29499</td></tr><tr><td>18092</td></tr><tr><td>24335</td></tr><tr><td>19420</td></tr><tr><td>13515</td></tr><tr><td>22984</td></tr><tr><td>29622</td></tr><tr><td>13638</td></tr><tr><td>13120</td></tr><tr><td>15530</td></tr><tr><td>13784</td></tr><tr><td>16346</td></tr><tr><td>29722</td></tr><tr><td>29685</td></tr><tr><td>19357</td></tr><tr><td>14033</td></tr><tr><td>21232</td></tr><tr><td>21527</td></tr><tr><td>29284</td></tr><tr><td>14972</td></tr><tr><td>29035</td></tr><tr><td>16300</td></tr><tr><td>11972</td></tr><tr><td>19297</td></tr><tr><td>11640</td></tr><tr><td>29971</td></tr><tr><td>29639</td></tr><tr><td>11245</td></tr><tr><td>22938</td></tr><tr><td>23233</td></tr><tr><td>18610</td></tr><tr><td>29831</td></tr><tr><td>11185</td></tr><tr><td>27916</td></tr><tr><td>22005</td></tr><tr><td>29931</td></tr><tr><td>22111</td></tr><tr><td>27810</td></tr><tr><td>25603</td></tr><tr><td>23880</td></tr><tr><td>26290</td></tr><tr><td>13552</td></tr><tr><td>13306</td></tr><tr><td>15467</td></tr><tr><td>18862</td></tr><tr><td>16403</td></tr><tr><td>21813</td></tr><tr><td>21272</td></tr><tr><td>28328</td></tr><tr><td>19008</td></tr><tr><td>15095</td></tr><tr><td>22755</td></tr><tr><td>22732</td></tr><tr><td>19031</td></tr><tr><td>27687</td></tr><tr><td>11371</td></tr><tr><td>29702</td></tr><tr><td>11726</td></tr><tr><td>15805</td></tr><tr><td>25792</td></tr><tr><td>29038</td></tr><tr><td>18819</td></tr><tr><td>29061</td></tr><tr><td>27475</td></tr><tr><td>19337</td></tr><tr><td>11992</td></tr><tr><td>25437</td></tr><tr><td>30037</td></tr><tr><td>16638</td></tr><tr><td>19858</td></tr><tr><td>16612</td></tr><tr><td>24727</td></tr><tr><td>21730</td></tr><tr><td>13572</td></tr><tr><td>15550</td></tr><tr><td>24043</td></tr><tr><td>19878</td></tr><tr><td>28285</td></tr><tr><td>12304</td></tr><tr><td>19237</td></tr><tr><td>13323</td></tr><tr><td>16028</td></tr><tr><td>20356</td></tr><tr><td>23565</td></tr><tr><td>14262</td></tr><tr><td>12098</td></tr><tr><td>14013</td></tr><tr><td>18982</td></tr><tr><td>18441</td></tr><tr><td>29951</td></tr><tr><td>13970</td></tr><tr><td>19131</td></tr><tr><td>24541</td></tr><tr><td>29559</td></tr><tr><td>28477</td></tr><tr><td>19280</td></tr><tr><td>29834</td></tr><tr><td>22008</td></tr><tr><td>13518</td></tr><tr><td>24925</td></tr><tr><td>16435</td></tr><tr><td>25589</td></tr><tr><td>20680</td></tr><tr><td>21676</td></tr><tr><td>29193</td></tr><tr><td>24238</td></tr><tr><td>17076</td></tr><tr><td>28128</td></tr><tr><td>11148</td></tr><tr><td>21390</td></tr><tr><td>19137</td></tr><tr><td>24215</td></tr><tr><td>18141</td></tr><tr><td>23883</td></tr><tr><td>18118</td></tr><tr><td>22532</td></tr><tr><td>11503</td></tr><tr><td>22200</td></tr><tr><td>27487</td></tr><tr><td>18782</td></tr><tr><td>16790</td></tr><tr><td>29007</td></tr><tr><td>29001</td></tr><tr><td>28337</td></tr><tr><td>18851</td></tr><tr><td>12336</td></tr><tr><td>16289</td></tr><tr><td>20471</td></tr><tr><td>13564</td></tr><tr><td>26299</td></tr><tr><td>19638</td></tr><tr><td>20202</td></tr><tr><td>19120</td></tr><tr><td>20866</td></tr><tr><td>25489</td></tr><tr><td>13441</td></tr><tr><td>26591</td></tr><tr><td>26923</td></tr><tr><td>14437</td></tr><tr><td>23674</td></tr><tr><td>30066</td></tr><tr><td>24029</td></tr><tr><td>25904</td></tr><tr><td>20033</td></tr><tr><td>14082</td></tr><tr><td>11543</td></tr><tr><td>22904</td></tr><tr><td>15078</td></tr><tr><td>29625</td></tr><tr><td>28297</td></tr><tr><td>30020</td></tr><tr><td>22987</td></tr><tr><td>28692</td></tr><tr><td>15917</td></tr><tr><td>18513</td></tr><tr><td>28752</td></tr><tr><td>20926</td></tr><tr><td>16349</td></tr><tr><td>29339</td></tr><tr><td>20285</td></tr><tr><td>15619</td></tr><tr><td>24324</td></tr><tr><td>23388</td></tr><tr><td>26877</td></tr><tr><td>27713</td></tr><tr><td>13647</td></tr><tr><td>29485</td></tr><tr><td>14042</td></tr><tr><td>19452</td></tr><tr><td>29917</td></tr><tr><td>16684</td></tr><tr><td>13767</td></tr><tr><td>21759</td></tr><tr><td>11752</td></tr><tr><td>20906</td></tr><tr><td>16541</td></tr><tr><td>24699</td></tr><tr><td>18865</td></tr><tr><td>18914</td></tr><tr><td>11254</td></tr><tr><td>22137</td></tr><tr><td>19054</td></tr><tr><td>19887</td></tr><tr><td>15141</td></tr><tr><td>23468</td></tr><tr><td>28188</td></tr><tr><td>27733</td></tr><tr><td>18413</td></tr><tr><td>26528</td></tr><tr><td>15353</td></tr><tr><td>27335</td></tr><tr><td>18158</td></tr><tr><td>11131</td></tr><tr><td>16000</td></tr><tr><td>13959</td></tr><tr><td>15453</td></tr><tr><td>22635</td></tr><tr><td>13810</td></tr><tr><td>25463</td></tr><tr><td>14079</td></tr><tr><td>26571</td></tr><tr><td>21284</td></tr><tr><td>21825</td></tr><tr><td>30089</td></tr><tr><td>15433</td></tr><tr><td>11354</td></tr><tr><td>19761</td></tr><tr><td>21931</td></tr><tr><td>18848</td></tr><tr><td>22927</td></tr><tr><td>29568</td></tr><tr><td>11211</td></tr><tr><td>13916</td></tr><tr><td>29711</td></tr><tr><td>29960</td></tr><tr><td>21055</td></tr><tr><td>24387</td></tr><tr><td>29897</td></tr><tr><td>12044</td></tr><tr><td>18991</td></tr><tr><td>26651</td></tr><tr><td>16286</td></tr><tr><td>27696</td></tr><tr><td>21696</td></tr><tr><td>29754</td></tr><tr><td>17019</td></tr><tr><td>12691</td></tr><tr><td>18685</td></tr><tr><td>27590</td></tr><tr><td>12834</td></tr><tr><td>23113</td></tr><tr><td>18393</td></tr><tr><td>16229</td></tr><tr><td>28131</td></tr><tr><td>13475</td></tr><tr><td>25134</td></tr><tr><td>29854</td></tr><tr><td>13624</td></tr><tr><td>13684</td></tr><tr><td>24759</td></tr><tr><td>16269</td></tr><tr><td>16933</td></tr><tr><td>13020</td></tr><tr><td>19850</td></tr><tr><td>13707</td></tr><tr><td>13375</td></tr><tr><td>22197</td></tr><tr><td>14039</td></tr><tr><td>15582</td></tr><tr><td>29027</td></tr><tr><td>14371</td></tr><tr><td>23076</td></tr><tr><td>29714</td></tr><tr><td>30046</td></tr><tr><td>18144</td></tr><tr><td>15058</td></tr><tr><td>13730</td></tr><tr><td>18808</td></tr><tr><td>15891</td></tr><tr><td>15081</td></tr><tr><td>18831</td></tr><tr><td>15536</td></tr><tr><td>21009</td></tr><tr><td>13853</td></tr><tr><td>26920</td></tr><tr><td>22930</td></tr><tr><td>23617</td></tr><tr><td>13830</td></tr><tr><td>27484</td></tr><tr><td>11500</td></tr><tr><td>19117</td></tr><tr><td>20322</td></tr><tr><td>28958</td></tr><tr><td>18138</td></tr><tr><td>26302</td></tr><tr><td>23548</td></tr><tr><td>22884</td></tr><tr><td>22220</td></tr><tr><td>29645</td></tr><tr><td>13538</td></tr><tr><td>22243</td></tr><tr><td>28194</td></tr><tr><td>18267</td></tr><tr><td>11437</td></tr><tr><td>15267</td></tr><tr><td>18516</td></tr><tr><td>15373</td></tr><tr><td>28357</td></tr><tr><td>29628</td></tr><tr><td>23886</td></tr><tr><td>19309</td></tr><tr><td>22051</td></tr><tr><td>13644</td></tr><tr><td>26296</td></tr><tr><td>20577</td></tr><tr><td>24032</td></tr><tr><td>14626</td></tr><tr><td>26983</td></tr><tr><td>22011</td></tr><tr><td>26926</td></tr><tr><td>27169</td></tr><tr><td>26588</td></tr><tr><td>28503</td></tr><tr><td>20096</td></tr><tr><td>28154</td></tr><tr><td>15121</td></tr><tr><td>18324</td></tr><tr><td>25154</td></tr><tr><td>12957</td></tr><tr><td>29877</td></tr><tr><td>25552</td></tr><tr><td>22303</td></tr><tr><td>11878</td></tr><tr><td>24321</td></tr><tr><td>27862</td></tr><tr><td>19157</td></tr><tr><td>16352</td></tr><tr><td>28257</td></tr><tr><td>25008</td></tr><tr><td>11420</td></tr><tr><td>27736</td></tr><tr><td>19578</td></tr><tr><td>17371</td></tr><tr><td>28234</td></tr><tr><td>18533</td></tr><tr><td>18035</td></tr><tr><td>15473</td></tr><tr><td>28875</td></tr><tr><td>18868</td></tr><tr><td>16495</td></tr><tr><td>11085</td></tr><tr><td>18745</td></tr><tr><td>19200</td></tr><tr><td>21928</td></tr><tr><td>16853</td></tr><tr><td>19100</td></tr><tr><td>12602</td></tr><tr><td>14689</td></tr><tr><td>29943</td></tr><tr><td>17328</td></tr><tr><td>23820</td></tr><tr><td>21779</td></tr><tr><td>21138</td></tr><tr><td>26548</td></tr><tr><td>16561</td></tr><tr><td>24553</td></tr><tr><td>12482</td></tr><tr><td>12751</td></tr><tr><td>27899</td></tr><tr><td>16661</td></tr><tr><td>22489</td></tr><tr><td>15997</td></tr><tr><td>30006</td></tr><tr><td>15848</td></tr><tr><td>15599</td></tr><tr><td>12539</td></tr><tr><td>28191</td></tr><tr><td>20697</td></tr><tr><td>26568</td></tr><tr><td>18539</td></tr><tr><td>29957</td></tr><tr><td>30043</td></tr><tr><td>13727</td></tr><tr><td>29651</td></tr><tr><td>13335</td></tr><tr><td>16618</td></tr><tr><td>22618</td></tr><tr><td>23700</td></tr><tr><td>14958</td></tr><tr><td>28924</td></tr><tr><td>24590</td></tr><tr><td>20013</td></tr><tr><td>17457</td></tr><tr><td>15791</td></tr><tr><td>11463</td></tr><tr><td>22824</td></tr><tr><td>16332</td></tr><tr><td>11314</td></tr><tr><td>21052</td></tr><tr><td>15393</td></tr><tr><td>19329</td></tr><tr><td>14460</td></tr><tr><td>19870</td></tr><tr><td>21493</td></tr><tr><td>20952</td></tr><tr><td>28526</td></tr><tr><td>25280</td></tr><tr><td>16624</td></tr><tr><td>22933</td></tr><tr><td>21937</td></tr><tr><td>11194</td></tr><tr><td>26846</td></tr><tr><td>17360</td></tr><tr><td>27178</td></tr><tr><td>18356</td></tr><tr><td>30072</td></tr><tr><td>29740</td></tr><tr><td>26205</td></tr><tr><td>11881</td></tr><tr><td>22246</td></tr><tr><td>11549</td></tr><tr><td>29076</td></tr><tr><td>20895</td></tr><tr><td>16481</td></tr><tr><td>30118</td></tr><tr><td>20749</td></tr><tr><td>21081</td></tr><tr><td>15130</td></tr><tr><td>20540</td></tr><tr><td>26823</td></tr><tr><td>15794</td></tr><tr><td>18525</td></tr><tr><td>28930</td></tr><tr><td>14274</td></tr><tr><td>17523</td></tr><tr><td>21436</td></tr><tr><td>24330</td></tr><tr><td>13633</td></tr><tr><td>16836</td></tr><tr><td>17500</td></tr><tr><td>13733</td></tr><tr><td>22146</td></tr><tr><td>28884</td></tr><tr><td>18479</td></tr><tr><td>22810</td></tr><tr><td>27702</td></tr><tr><td>29030</td></tr><tr><td>28243</td></tr><tr><td>18333</td></tr><tr><td>29840</td></tr><tr><td>19939</td></tr><tr><td>11781</td></tr><tr><td>13109</td></tr><tr><td>25595</td></tr><tr><td>11532</td></tr><tr><td>29531</td></tr><tr><td>21705</td></tr><tr><td>15422</td></tr><tr><td>20248</td></tr><tr><td>29972</td></tr><tr><td>11735</td></tr><tr><td>14984</td></tr><tr><td>29577</td></tr><tr><td>13593</td></tr><tr><td>25950</td></tr><tr><td>26282</td></tr><tr><td>19003</td></tr><tr><td>11048</td></tr><tr><td>13693</td></tr><tr><td>18519</td></tr><tr><td>18857</td></tr><tr><td>14529</td></tr><tr><td>12963</td></tr><tr><td>27324</td></tr><tr><td>12319</td></tr><tr><td>24221</td></tr><tr><td>17978</td></tr><tr><td>27470</td></tr><tr><td>12322</td></tr><tr><td>13155</td></tr><tr><td>13650</td></tr><tr><td>13255</td></tr><tr><td>13009</td></tr><tr><td>26829</td></tr><tr><td>15190</td></tr><tr><td>22850</td></tr><tr><td>22186</td></tr><tr><td>16043</td></tr><tr><td>15047</td></tr><tr><td>16258</td></tr><tr><td>23895</td></tr><tr><td>24891</td></tr><tr><td>29133</td></tr><tr><td>29823</td></tr><tr><td>16876</td></tr><tr><td>18462</td></tr><tr><td>25077</td></tr><tr><td>26122</td></tr><tr><td>23872</td></tr><tr><td>19438</td></tr><tr><td>15525</td></tr><tr><td>18436</td></tr><tr><td>28592</td></tr><tr><td>28515</td></tr><tr><td>11944</td></tr><tr><td>13859</td></tr><tr><td>19936</td></tr><tr><td>19295</td></tr><tr><td>20002</td></tr><tr><td>17131</td></tr><tr><td>27951</td></tr><tr><td>15502</td></tr><tr><td>29966</td></tr><tr><td>23889</td></tr><tr><td>19146</td></tr><tr><td>14669</td></tr><tr><td>23915</td></tr><tr><td>20669</td></tr><tr><td>15923</td></tr><tr><td>24038</td></tr><tr><td>24579</td></tr><tr><td>28784</td></tr><tr><td>23603</td></tr><tr><td>28037</td></tr><tr><td>24207</td></tr><tr><td>14898</td></tr><tr><td>18399</td></tr><tr><td>18977</td></tr><tr><td>20649</td></tr><tr><td>21731</td></tr><tr><td>29305</td></tr><tr><td>25040</td></tr><tr><td>13630</td></tr><tr><td>22913</td></tr><tr><td>29760</td></tr><tr><td>24934</td></tr><tr><td>14612</td></tr><tr><td>16278</td></tr><tr><td>16029</td></tr><tr><td>18442</td></tr><tr><td>29660</td></tr><tr><td>20955</td></tr><tr><td>11801</td></tr><tr><td>27490</td></tr><tr><td>13965</td></tr><tr><td>18791</td></tr><tr><td>18834</td></tr><tr><td>29803</td></tr><tr><td>14904</td></tr><tr><td>22229</td></tr><tr><td>25475</td></tr><tr><td>27888</td></tr><tr><td>20065</td></tr><tr><td>12740</td></tr><tr><td>29903</td></tr><tr><td>25575</td></tr><tr><td>16378</td></tr><tr><td>16919</td></tr><tr><td>29929</td></tr><tr><td>18854</td></tr><tr><td>11360</td></tr><tr><td>29574</td></tr><tr><td>14586</td></tr><tr><td>13258</td></tr><tr><td>12594</td></tr><tr><td>27699</td></tr><tr><td>11715</td></tr><tr><td>11051</td></tr><tr><td>29551</td></tr><tr><td>23477</td></tr><tr><td>27390</td></tr><tr><td>29050</td></tr><tr><td>12239</td></tr><tr><td>13567</td></tr><tr><td>12070</td></tr><tr><td>29528</td></tr><tr><td>30069</td></tr><tr><td>11429</td></tr><tr><td>11220</td></tr><tr><td>28741</td></tr><tr><td>12216</td></tr><tr><td>17503</td></tr><tr><td>11884</td></tr><tr><td>30092</td></tr><tr><td>22936</td></tr><tr><td>15110</td></tr><tr><td>24287</td></tr><tr><td>18336</td></tr><tr><td>19664</td></tr><tr><td>20961</td></tr><tr><td>22959</td></tr><tr><td>15133</td></tr><tr><td>29720</td></tr><tr><td>14818</td></tr><tr><td>25143</td></tr><tr><td>13736</td></tr><tr><td>24310</td></tr><tr><td>25807</td></tr><tr><td>16169</td></tr><tr><td>13636</td></tr><tr><td>21038</td></tr><tr><td>14177</td></tr><tr><td>24997</td></tr><tr><td>20915</td></tr><tr><td>13095</td></tr><tr><td>15087</td></tr><tr><td>15528</td></tr><tr><td>12611</td></tr><tr><td>16607</td></tr><tr><td>25014</td></tr><tr><td>21516</td></tr><tr><td>19109</td></tr><tr><td>30029</td></tr><tr><td>21871</td></tr><tr><td>22203</td></tr><tr><td>18422</td></tr><tr><td>16215</td></tr><tr><td>14045</td></tr><tr><td>29637</td></tr><tr><td>18313</td></tr><tr><td>17234</td></tr><tr><td>12657</td></tr><tr><td>12325</td></tr><tr><td>18376</td></tr><tr><td>24327</td></tr><tr><td>12863</td></tr><tr><td>25598</td></tr><tr><td>13112</td></tr><tr><td>22604</td></tr><tr><td>29488</td></tr><tr><td>15127</td></tr><tr><td>17334</td></tr><tr><td>26285</td></tr><tr><td>13504</td></tr><tr><td>15668</td></tr><tr><td>14732</td></tr><tr><td>26388</td></tr><tr><td>24224</td></tr><tr><td>19650</td></tr><tr><td>19647</td></tr><tr><td>29534</td></tr><tr><td>21124</td></tr><tr><td>14632</td></tr><tr><td>15960</td></tr><tr><td>24124</td></tr><tr><td>29514</td></tr><tr><td>18937</td></tr><tr><td>25601</td></tr><tr><td>12866</td></tr><tr><td>26431</td></tr><tr><td>16945</td></tr><tr><td>18416</td></tr><tr><td>25578</td></tr><tr><td>18582</td></tr><tr><td>15877</td></tr><tr><td>16730</td></tr><tr><td>11824</td></tr><tr><td>18817</td></tr><tr><td>22140</td></tr><tr><td>28140</td></tr><tr><td>27473</td></tr><tr><td>12843</td></tr><tr><td>16212</td></tr><tr><td>25200</td></tr><tr><td>29843</td></tr><tr><td>14025</td></tr><tr><td>14031</td></tr><tr><td>24602</td></tr><tr><td>29345</td></tr><tr><td>12133</td></tr><tr><td>21828</td></tr><tr><td>23494</td></tr><tr><td>29322</td></tr><tr><td>14838</td></tr><tr><td>22830</td></tr><tr><td>19315</td></tr><tr><td>12823</td></tr><tr><td>28120</td></tr><tr><td>28071</td></tr><tr><td>19292</td></tr><tr><td>19415</td></tr><tr><td>16710</td></tr><tr><td>29508</td></tr><tr><td>16026</td></tr><tr><td>11947</td></tr><tr><td>13713</td></tr><tr><td>28240</td></tr><tr><td>27244</td></tr><tr><td>11071</td></tr><tr><td>18980</td></tr><tr><td>23308</td></tr><tr><td>14403</td></tr><tr><td>18894</td></tr><tr><td>26305</td></tr><tr><td>22973</td></tr><tr><td>13570</td></tr><tr><td>29700</td></tr><tr><td>16630</td></tr><tr><td>11257</td></tr><tr><td>12302</td></tr><tr><td>24596</td></tr><tr><td>17855</td></tr><tr><td>11363</td></tr><tr><td>11114</td></tr><tr><td>13670</td></tr><tr><td>26119</td></tr><tr><td>21293</td></tr><tr><td>23955</td></tr><tr><td>28283</td></tr><tr><td>11512</td></tr><tr><td>30049</td></tr><tr><td>24639</td></tr><tr><td>11655</td></tr><tr><td>28134</td></tr><tr><td>17314</td></tr><tr><td>18147</td></tr><tr><td>28034</td></tr><tr><td>21542</td></tr><tr><td>11263</td></tr><tr><td>27493</td></tr><tr><td>13968</td></tr><tr><td>19378</td></tr><tr><td>28103</td></tr><tr><td>26775</td></tr><tr><td>11432</td></tr><tr><td>23881</td></tr><tr><td>18594</td></tr><tr><td>16387</td></tr><tr><td>15059</td></tr><tr><td>18262</td></tr><tr><td>29809</td></tr><tr><td>22152</td></tr><tr><td>22816</td></tr><tr><td>17429</td></tr><tr><td>17097</td></tr><tr><td>13470</td></tr><tr><td>25687</td></tr><tr><td>21774</td></tr><tr><td>15531</td></tr><tr><td>17197</td></tr><tr><td>25610</td></tr><tr><td>18803</td></tr><tr><td>25000</td></tr><tr><td>15846</td></tr><tr><td>28289</td></tr><tr><td>20469</td></tr><tr><td>24336</td></tr><tr><td>12311</td></tr><tr><td>20131</td></tr><tr><td>21505</td></tr><tr><td>26251</td></tr><tr><td>25587</td></tr><tr><td>18362</td></tr><tr><td>13702</td></tr><tr><td>18611</td></tr><tr><td>18279</td></tr><tr><td>14034</td></tr><tr><td>20532</td></tr><tr><td>22939</td></tr><tr><td>14781</td></tr><tr><td>25856</td></tr><tr><td>14721</td></tr><tr><td>20592</td></tr><tr><td>28750</td></tr><tr><td>27871</td></tr><tr><td>28558</td></tr><tr><td>12660</td></tr><tr><td>16988</td></tr><tr><td>25063</td></tr><tr><td>16656</td></tr><tr><td>11246</td></tr><tr><td>15660</td></tr><tr><td>29245</td></tr><tr><td>24376</td></tr><tr><td>17638</td></tr><tr><td>26921</td></tr><tr><td>11724</td></tr><tr><td>16347</td></tr><tr><td>29932</td></tr><tr><td>13201</td></tr><tr><td>17778</td></tr><tr><td>15614</td></tr><tr><td>25693</td></tr><tr><td>25604</td></tr><tr><td>18863</td></tr><tr><td>20778</td></tr><tr><td>19112</td></tr><tr><td>18465</td></tr><tr><td>14827</td></tr><tr><td>19158</td></tr><tr><td>15076</td></tr><tr><td>19404</td></tr><tr><td>25501</td></tr><tr><td>16550</td></tr><tr><td>17091</td></tr><tr><td>27024</td></tr><tr><td>19032</td></tr><tr><td>11372</td></tr><tr><td>13934</td></tr><tr><td>20051</td></tr><tr><td>19387</td></tr><tr><td>15594</td></tr><tr><td>19885</td></tr><tr><td>22235</td></tr><tr><td>18156</td></tr><tr><td>15474</td></tr><tr><td>18511</td></tr><tr><td>13765</td></tr><tr><td>29938</td></tr><tr><td>16639</td></tr><tr><td>11913</td></tr><tr><td>19318</td></tr><tr><td>20569</td></tr><tr><td>17323</td></tr><tr><td>29915</td></tr><tr><td>30038</td></tr><tr><td>29374</td></tr><tr><td>21923</td></tr><tr><td>17472</td></tr><tr><td>29603</td></tr><tr><td>16370</td></tr><tr><td>14698</td></tr><tr><td>13536</td></tr><tr><td>29709</td></tr><tr><td>13928</td></tr><tr><td>22713</td></tr><tr><td>27731</td></tr><tr><td>11993</td></tr><tr><td>22029</td></tr><tr><td>15537</td></tr><tr><td>18840</td></tr><tr><td>24840</td></tr><tr><td>13971</td></tr><tr><td>11166</td></tr><tr><td>19573</td></tr><tr><td>11558</td></tr><tr><td>24542</td></tr><tr><td>17509</td></tr><tr><td>14263</td></tr><tr><td>19132</td></tr><tr><td>16530</td></tr><tr><td>19447</td></tr><tr><td>24356</td></tr><tr><td>18783</td></tr><tr><td>11930</td></tr><tr><td>18428</td></tr><tr><td>15889</td></tr><tr><td>26918</td></tr><tr><td>28246</td></tr><tr><td>29812</td></tr><tr><td>24402</td></tr><tr><td>21462</td></tr><tr><td>24880</td></tr><tr><td>22195</td></tr><tr><td>28438</td></tr><tr><td>13118</td></tr><tr><td>25853</td></tr><tr><td>14346</td></tr><tr><td>22836</td></tr><tr><td>12477</td></tr><tr><td>21508</td></tr><tr><td>12139</td></tr><tr><td>15010</td></tr><tr><td>24233</td></tr><tr><td>22318</td></tr><tr><td>24333</td></tr><tr><td>13513</td></tr><tr><td>23669</td></tr><tr><td>12849</td></tr><tr><td>18528</td></tr><tr><td>18860</td></tr><tr><td>26377</td></tr><tr><td>27705</td></tr><tr><td>13997</td></tr><tr><td>15906</td></tr><tr><td>24671</td></tr><tr><td>14638</td></tr><tr><td>18720</td></tr><tr><td>16052</td></tr><tr><td>27519</td></tr><tr><td>22942</td></tr><tr><td>14784</td></tr><tr><td>15620</td></tr><tr><td>19942</td></tr><tr><td>18614</td></tr><tr><td>15471</td></tr><tr><td>11684</td></tr><tr><td>19301</td></tr><tr><td>14684</td></tr><tr><td>19006</td></tr><tr><td>29975</td></tr><tr><td>18322</td></tr><tr><td>20483</td></tr><tr><td>18173</td></tr><tr><td>23878</td></tr><tr><td>12222</td></tr><tr><td>14787</td></tr><tr><td>19364</td></tr><tr><td>27854</td></tr><tr><td>24937</td></tr><tr><td>15119</td></tr><tr><td>18866</td></tr><tr><td>14621</td></tr><tr><td>29537</td></tr><tr><td>14764</td></tr><tr><td>21926</td></tr><tr><td>15428</td></tr><tr><td>29563</td></tr><tr><td>25149</td></tr><tr><td>25484</td></tr><tr><td>16493</td></tr><tr><td>12892</td></tr><tr><td>20552</td></tr><tr><td>25458</td></tr><tr><td>16616</td></tr><tr><td>13533</td></tr><tr><td>27187</td></tr><tr><td>28189</td></tr><tr><td>20695</td></tr><tr><td>11369</td></tr><tr><td>29494</td></tr><tr><td>18631</td></tr><tr><td>18508</td></tr><tr><td>27330</td></tr><tr><td>17967</td></tr><tr><td>25315</td></tr><tr><td>16659</td></tr><tr><td>26646</td></tr><tr><td>24482</td></tr><tr><td>23400</td></tr><tr><td>12159</td></tr><tr><td>14054</td></tr><tr><td>16636</td></tr><tr><td>25464</td></tr><tr><td>25584</td></tr><tr><td>21385</td></tr><tr><td>13762</td></tr><tr><td>13725</td></tr><tr><td>19321</td></tr><tr><td>24731</td></tr><tr><td>11661</td></tr><tr><td>20403</td></tr><tr><td>22238</td></tr><tr><td>15056</td></tr><tr><td>13974</td></tr><tr><td>28581</td></tr><tr><td>18388</td></tr><tr><td>19384</td></tr><tr><td>20011</td></tr><tr><td>26958</td></tr><tr><td>13035</td></tr><tr><td>23612</td></tr><tr><td>27685</td></tr><tr><td>27934</td></tr><tr><td>25770</td></tr><tr><td>13184</td></tr><tr><td>29557</td></tr><tr><td>29806</td></tr><tr><td>26560</td></tr><tr><td>20901</td></tr><tr><td>16573</td></tr><tr><td>24147</td></tr><tr><td>24296</td></tr><tr><td>16181</td></tr><tr><td>21591</td></tr><tr><td>28083</td></tr><tr><td>22198</td></tr><tr><td>16957</td></tr><tr><td>29715</td></tr><tr><td>16270</td></tr><tr><td>20893</td></tr><tr><td>22221</td></tr><tr><td>29738</td></tr><tr><td>27485</td></tr><tr><td>15746</td></tr><tr><td>11501</td></tr><tr><td>18500</td></tr><tr><td>18832</td></tr><tr><td>27817</td></tr><tr><td>13754</td></tr><tr><td>14564</td></tr><tr><td>28195</td></tr><tr><td>12875</td></tr><tr><td>26280</td></tr><tr><td>29838</td></tr><tr><td>26297</td></tr><tr><td>26303</td></tr><tr><td>29815</td></tr><tr><td>12257</td></tr><tr><td>22908</td></tr><tr><td>22413</td></tr><tr><td>29669</td></tr><tr><td>29546</td></tr><tr><td>18849</td></tr><tr><td>13021</td></tr><tr><td>28464</td></tr><tr><td>17767</td></tr><tr><td>18955</td></tr><tr><td>29592</td></tr><tr><td>23887</td></tr><tr><td>27717</td></tr><tr><td>26426</td></tr><tr><td>15268</td></tr><tr><td>26984</td></tr><tr><td>15669</td></tr><tr><td>20578</td></tr><tr><td>26589</td></tr><tr><td>29529</td></tr><tr><td>13545</td></tr><tr><td>13794</td></tr><tr><td>15122</td></tr><tr><td>27863</td></tr><tr><td>19456</td></tr><tr><td>29629</td></tr><tr><td>20137</td></tr><tr><td>27963</td></tr><tr><td>15520</td></tr><tr><td>13645</td></tr><tr><td>15815</td></tr><tr><td>23827</td></tr><tr><td>28155</td></tr><tr><td>16748</td></tr><tr><td>12666</td></tr><tr><td>29878</td></tr><tr><td>23681</td></tr><tr><td>21517</td></tr><tr><td>22058</td></tr><tr><td>15566</td></tr><tr><td>16648</td></tr><tr><td>28255</td></tr><tr><td>22845</td></tr><tr><td>26194</td></tr><tr><td>13957</td></tr><tr><td>18368</td></tr><tr><td>28756</td></tr><tr><td>26549</td></tr><tr><td>20100</td></tr><tr><td>11942</td></tr><tr><td>26051</td></tr><tr><td>29821</td></tr><tr><td>20575</td></tr><tr><td>26406</td></tr><tr><td>11086</td></tr><tr><td>11919</td></tr><tr><td>23489</td></tr><tr><td>28899</td></tr><tr><td>16496</td></tr><tr><td>18560</td></tr><tr><td>15523</td></tr><tr><td>18869</td></tr><tr><td>29446</td></tr><tr><td>19367</td></tr><tr><td>19124</td></tr><tr><td>25367</td></tr><tr><td>16190</td></tr><tr><td>22805</td></tr><tr><td>14026</td></tr><tr><td>29131</td></tr><tr><td>14690</td></tr><tr><td>30064</td></tr><tr><td>26569</td></tr><tr><td>11252</td></tr><tr><td>19908</td></tr><tr><td>30087</td></tr><tr><td>29964</td></tr><tr><td>21308</td></tr><tr><td>14816</td></tr><tr><td>13857</td></tr><tr><td>19267</td></tr><tr><td>21431</td></tr><tr><td>22619</td></tr><tr><td>22868</td></tr><tr><td>27694</td></tr><tr><td>18789</td></tr><tr><td>18540</td></tr><tr><td>19287</td></tr><tr><td>22370</td></tr><tr><td>12895</td></tr><tr><td>29211</td></tr><tr><td>16725</td></tr><tr><td>28713</td></tr><tr><td>24385</td></tr><tr><td>18434</td></tr><tr><td>29652</td></tr><tr><td>20747</td></tr><tr><td>21992</td></tr><tr><td>30007</td></tr><tr><td>24056</td></tr><tr><td>21929</td></tr><tr><td>24597</td></tr><tr><td>27302</td></tr><tr><td>11650</td></tr><tr><td>13728</td></tr><tr><td>21537</td></tr><tr><td>28527</td></tr><tr><td>11856</td></tr><tr><td>28135</td></tr><tr><td>14020</td></tr><tr><td>24342</td></tr><tr><td>11315</td></tr><tr><td>15835</td></tr><tr><td>11507</td></tr><tr><td>16917</td></tr><tr><td>27986</td></tr><tr><td>16084</td></tr><tr><td>30050</td></tr><tr><td>14853</td></tr><tr><td>26755</td></tr><tr><td>28378</td></tr><tr><td>28530</td></tr><tr><td>26277</td></tr><tr><td>13542</td></tr><tr><td>12214</td></tr><tr><td>29881</td></tr><tr><td>28885</td></tr><tr><td>25590</td></tr><tr><td>13565</td></tr><tr><td>24926</td></tr><tr><td>15440</td></tr><tr><td>24239</td></tr><tr><td>18829</td></tr><tr><td>23074</td></tr><tr><td>18497</td></tr><tr><td>27488</td></tr><tr><td>28152</td></tr><tr><td>21414</td></tr><tr><td>24571</td></tr><tr><td>19138</td></tr><tr><td>18806</td></tr><tr><td>11859</td></tr><tr><td>24216</td></tr><tr><td>24757</td></tr><tr><td>23884</td></tr><tr><td>29695</td></tr><tr><td>16290</td></tr><tr><td>21869</td></tr><tr><td>27697</td></tr><tr><td>13024</td></tr><tr><td>21182</td></tr><tr><td>18311</td></tr><tr><td>21577</td></tr><tr><td>18998</td></tr><tr><td>22241</td></tr><tr><td>15580</td></tr><tr><td>25072</td></tr><tr><td>11667</td></tr><tr><td>14252</td></tr><tr><td>22905</td></tr><tr><td>13734</td></tr><tr><td>26300</td></tr><tr><td>25636</td></tr><tr><td>15062</td></tr><tr><td>22218</td></tr><tr><td>15125</td></tr><tr><td>18457</td></tr><tr><td>19453</td></tr><tr><td>15872</td></tr><tr><td>26283</td></tr><tr><td>27860</td></tr><tr><td>13110</td></tr><tr><td>19098</td></tr><tr><td>18766</td></tr><tr><td>25596</td></tr><tr><td>26924</td></tr><tr><td>16559</td></tr><tr><td>29735</td></tr><tr><td>22988</td></tr><tr><td>24325</td></tr><tr><td>17332</td></tr><tr><td>16250</td></tr><tr><td>11736</td></tr><tr><td>17687</td></tr><tr><td>28593</td></tr><tr><td>16605</td></tr><tr><td>12314</td></tr><tr><td>30027</td></tr><tr><td>29440</td></tr><tr><td>12128</td></tr><tr><td>22201</td></tr><tr><td>28693</td></tr><tr><td>18620</td></tr><tr><td>18514</td></tr><tr><td>11487</td></tr><tr><td>19848</td></tr><tr><td>13651</td></tr><tr><td>17979</td></tr><tr><td>16350</td></tr><tr><td>29486</td></tr><tr><td>16499</td></tr><tr><td>27319</td></tr><tr><td>13256</td></tr><tr><td>27714</td></tr><tr><td>19353</td></tr><tr><td>13648</td></tr><tr><td>18271</td></tr><tr><td>25845</td></tr><tr><td>14730</td></tr><tr><td>29775</td></tr><tr><td>11965</td></tr><tr><td>16210</td></tr><tr><td>16542</td></tr><tr><td>21262</td></tr><tr><td>19055</td></tr><tr><td>26738</td></tr><tr><td>21497</td></tr><tr><td>11418</td></tr><tr><td>27070</td></tr><tr><td>22161</td></tr><tr><td>24488</td></tr><tr><td>15497</td></tr><tr><td>18437</td></tr><tr><td>13482</td></tr><tr><td>21142</td></tr><tr><td>27548</td></tr><tr><td>13462</td></tr><tr><td>13960</td></tr><tr><td>14813</td></tr><tr><td>15477</td></tr><tr><td>21305</td></tr><tr><td>21975</td></tr><tr><td>20744</td></tr><tr><td>15503</td></tr><tr><td>16167</td></tr><tr><td>12088</td></tr><tr><td>15334</td></tr><tr><td>29841</td></tr><tr><td>16685</td></tr><tr><td>28046</td></tr><tr><td>22636</td></tr><tr><td>28759</td></tr><tr><td>16287</td></tr><tr><td>16038</td></tr><tr><td>11710</td></tr><tr><td>11212</td></tr><tr><td>28275</td></tr><tr><td>23698</td></tr><tr><td>13276</td></tr><tr><td>21932</td></tr><tr><td>23057</td></tr><tr><td>21434</td></tr><tr><td>20223</td></tr><tr><td>13668</td></tr><tr><td>26652</td></tr><tr><td>28238</td></tr><tr><td>16273</td></tr><tr><td>24388</td></tr><tr><td>14023</td></tr><tr><td>29612</td></tr><tr><td>18537</td></tr><tr><td>23114</td></tr><tr><td>25135</td></tr><tr><td>21348</td></tr><tr><td>18643</td></tr><tr><td>20807</td></tr><tr><td>20658</td></tr><tr><td>19476</td></tr><tr><td>28132</td></tr><tr><td>20558</td></tr><tr><td>18394</td></tr><tr><td>16230</td></tr><tr><td>27591</td></tr><tr><td>20017</td></tr><tr><td>11902</td></tr></table>"
                    },
                    "metadata": {}
                }
            ],
            "execution_count": 15
        },
        {
            "cell_type": "markdown",
            "source": [
                "4. query that return employees first and last name but not customers\n",
                "\n",
                "      <span style=\"font-size: 12pt;\">Wanted to retrieve employees name but not customers that may have been linked to employees using EXCEPT&nbsp;<o:p></o:p></span>"
            ],
            "metadata": {
                "azdata_cell_guid": "fa6e4355-097f-445e-b713-5b848782f98a"
            },
            "attachments": {}
        },
        {
            "cell_type": "code",
            "source": [
                "USE AdventureWorks2017;\n",
                "GO\n",
                "\n",
                "\n",
                "SELECT DISTINCT p1.FirstName, p1.LastName\n",
                "FROM HumanResources.EmployeeDepartmentHistory AS eh\n",
                "JOIN Person.Person AS p1\n",
                "    ON eh.BusinessEntityID = p1.BusinessEntityID\n",
                "EXCEPT\n",
                "\n",
                "-- Customers\n",
                "SELECT DISTINCT p2.FirstName, p2.LastName\n",
                "FROM Sales.Customer c\n",
                "JOIN Person.Person AS p2\n",
                "    ON c.PersonID = p2.BusinessEntityID;"
            ],
            "metadata": {
                "azdata_cell_guid": "7c8d7e28-0326-44ec-a5f2-cfdada7213c8",
                "language": "sql"
            },
            "outputs": [
                {
                    "output_type": "display_data",
                    "data": {
                        "text/html": "Commands completed successfully."
                    },
                    "metadata": {}
                },
                {
                    "output_type": "display_data",
                    "data": {
                        "text/html": "(170 rows affected)"
                    },
                    "metadata": {}
                },
                {
                    "output_type": "display_data",
                    "data": {
                        "text/html": "Total execution time: 00:00:00.043"
                    },
                    "metadata": {}
                },
                {
                    "output_type": "execute_result",
                    "execution_count": 31,
                    "data": {
                        "application/vnd.dataresource+json": {
                            "schema": {
                                "fields": [
                                    {
                                        "name": "FirstName"
                                    },
                                    {
                                        "name": "LastName"
                                    }
                                ]
                            },
                            "data": [
                                {
                                    "FirstName": "A. Scott",
                                    "LastName": "Wright"
                                },
                                {
                                    "FirstName": "Alex",
                                    "LastName": "Nayberg"
                                },
                                {
                                    "FirstName": "Alice",
                                    "LastName": "Ciccu"
                                },
                                {
                                    "FirstName": "Andreas",
                                    "LastName": "Berglund"
                                },
                                {
                                    "FirstName": "Angela",
                                    "LastName": "Barbariol"
                                },
                                {
                                    "FirstName": "Annette",
                                    "LastName": "Hill"
                                },
                                {
                                    "FirstName": "Annik",
                                    "LastName": "Stahl"
                                },
                                {
                                    "FirstName": "Arvind",
                                    "LastName": "Rao"
                                },
                                {
                                    "FirstName": "Ashvini",
                                    "LastName": "Sharma"
                                },
                                {
                                    "FirstName": "Barbara",
                                    "LastName": "Moreland"
                                },
                                {
                                    "FirstName": "Belinda",
                                    "LastName": "Newman"
                                },
                                {
                                    "FirstName": "Betsy",
                                    "LastName": "Stadick"
                                },
                                {
                                    "FirstName": "Bjorn",
                                    "LastName": "Rettig"
                                },
                                {
                                    "FirstName": "Bob",
                                    "LastName": "Hohman"
                                },
                                {
                                    "FirstName": "Bonnie",
                                    "LastName": "Kearney"
                                },
                                {
                                    "FirstName": "Brandon",
                                    "LastName": "Heidepriem"
                                },
                                {
                                    "FirstName": "Brian",
                                    "LastName": "LaMee"
                                },
                                {
                                    "FirstName": "Brian",
                                    "LastName": "Lloyd"
                                },
                                {
                                    "FirstName": "Brian",
                                    "LastName": "Welcker"
                                },
                                {
                                    "FirstName": "Bryan",
                                    "LastName": "Baker"
                                },
                                {
                                    "FirstName": "Bryan",
                                    "LastName": "Walton"
                                },
                                {
                                    "FirstName": "Candy",
                                    "LastName": "Spoon"
                                },
                                {
                                    "FirstName": "Carol",
                                    "LastName": "Philips"
                                },
                                {
                                    "FirstName": "Carole",
                                    "LastName": "Poland"
                                },
                                {
                                    "FirstName": "Chad",
                                    "LastName": "Niswonger"
                                },
                                {
                                    "FirstName": "Charles",
                                    "LastName": "Fitzgerald"
                                },
                                {
                                    "FirstName": "Chris",
                                    "LastName": "Norred"
                                },
                                {
                                    "FirstName": "Chris",
                                    "LastName": "Okelberry"
                                },
                                {
                                    "FirstName": "Chris",
                                    "LastName": "Preston"
                                },
                                {
                                    "FirstName": "Christopher",
                                    "LastName": "Hill"
                                },
                                {
                                    "FirstName": "Cristian",
                                    "LastName": "Petculescu"
                                },
                                {
                                    "FirstName": "Cynthia",
                                    "LastName": "Randall"
                                },
                                {
                                    "FirstName": "Dan",
                                    "LastName": "Bacon"
                                },
                                {
                                    "FirstName": "Dan",
                                    "LastName": "Wilson"
                                },
                                {
                                    "FirstName": "David",
                                    "LastName": "Barber"
                                },
                                {
                                    "FirstName": "David",
                                    "LastName": "Hamilton"
                                },
                                {
                                    "FirstName": "David",
                                    "LastName": "Ortiz"
                                },
                                {
                                    "FirstName": "David",
                                    "LastName": "Yalovsky"
                                },
                                {
                                    "FirstName": "Deborah",
                                    "LastName": "Poe"
                                },
                                {
                                    "FirstName": "Diane",
                                    "LastName": "Margheim"
                                },
                                {
                                    "FirstName": "Don",
                                    "LastName": "Hall"
                                },
                                {
                                    "FirstName": "Dragan",
                                    "LastName": "Tomic"
                                },
                                {
                                    "FirstName": "Ebru",
                                    "LastName": "Ersan"
                                },
                                {
                                    "FirstName": "Eric",
                                    "LastName": "Brown"
                                },
                                {
                                    "FirstName": "Eric",
                                    "LastName": "Gubbels"
                                },
                                {
                                    "FirstName": "Eric",
                                    "LastName": "Kurjan"
                                },
                                {
                                    "FirstName": "Eugene",
                                    "LastName": "Zabokritski"
                                },
                                {
                                    "FirstName": "François",
                                    "LastName": "Ajenstat"
                                },
                                {
                                    "FirstName": "Frank",
                                    "LastName": "Lee"
                                },
                                {
                                    "FirstName": "Frank",
                                    "LastName": "Martinez"
                                },
                                {
                                    "FirstName": "Frank",
                                    "LastName": "Pellow"
                                },
                                {
                                    "FirstName": "Fred",
                                    "LastName": "Northup"
                                },
                                {
                                    "FirstName": "Fukiko",
                                    "LastName": "Ogisu"
                                },
                                {
                                    "FirstName": "Gabe",
                                    "LastName": "Mares"
                                },
                                {
                                    "FirstName": "Garrett",
                                    "LastName": "Vargas"
                                },
                                {
                                    "FirstName": "Garrett",
                                    "LastName": "Young"
                                },
                                {
                                    "FirstName": "Gary",
                                    "LastName": "Altman"
                                },
                                {
                                    "FirstName": "Gary",
                                    "LastName": "Yukish"
                                },
                                {
                                    "FirstName": "Gigi",
                                    "LastName": "Matthew"
                                },
                                {
                                    "FirstName": "Gordon",
                                    "LastName": "Hee"
                                },
                                {
                                    "FirstName": "Greg",
                                    "LastName": "Alderson"
                                },
                                {
                                    "FirstName": "Hao",
                                    "LastName": "Chen"
                                },
                                {
                                    "FirstName": "Hazem",
                                    "LastName": "Abolrous"
                                },
                                {
                                    "FirstName": "Houman",
                                    "LastName": "Pournasseh"
                                },
                                {
                                    "FirstName": "Hung-Fu",
                                    "LastName": "Ting"
                                },
                                {
                                    "FirstName": "Ivo",
                                    "LastName": "Salmre"
                                },
                                {
                                    "FirstName": "Jack",
                                    "LastName": "Richins"
                                },
                                {
                                    "FirstName": "Jae",
                                    "LastName": "Pak"
                                },
                                {
                                    "FirstName": "James",
                                    "LastName": "Kramer"
                                },
                                {
                                    "FirstName": "Janaina",
                                    "LastName": "Bueno"
                                },
                                {
                                    "FirstName": "Janice",
                                    "LastName": "Galvin"
                                },
                                {
                                    "FirstName": "Jason",
                                    "LastName": "Watters"
                                },
                                {
                                    "FirstName": "Jian Shuo",
                                    "LastName": "Wang"
                                },
                                {
                                    "FirstName": "Jill",
                                    "LastName": "Williams"
                                },
                                {
                                    "FirstName": "Jillian",
                                    "LastName": "Carson"
                                },
                                {
                                    "FirstName": "Jim",
                                    "LastName": "Scardelis"
                                },
                                {
                                    "FirstName": "Jo",
                                    "LastName": "Berry"
                                },
                                {
                                    "FirstName": "John",
                                    "LastName": "Campbell"
                                },
                                {
                                    "FirstName": "John",
                                    "LastName": "Chen"
                                },
                                {
                                    "FirstName": "John",
                                    "LastName": "Frum"
                                },
                                {
                                    "FirstName": "John",
                                    "LastName": "Wood"
                                },
                                {
                                    "FirstName": "JoLynn",
                                    "LastName": "Dobney"
                                },
                                {
                                    "FirstName": "Jossef",
                                    "LastName": "Goldberg"
                                },
                                {
                                    "FirstName": "Karen",
                                    "LastName": "Berg"
                                },
                                {
                                    "FirstName": "Karen",
                                    "LastName": "Berge"
                                },
                                {
                                    "FirstName": "Ken",
                                    "LastName": "Myer"
                                },
                                {
                                    "FirstName": "Kevin",
                                    "LastName": "Brown"
                                },
                                {
                                    "FirstName": "Kevin",
                                    "LastName": "Homer"
                                },
                                {
                                    "FirstName": "Kim",
                                    "LastName": "Ralls"
                                },
                                {
                                    "FirstName": "Kimberly",
                                    "LastName": "Zimmerman"
                                },
                                {
                                    "FirstName": "Kirk",
                                    "LastName": "Koenigsbauer"
                                },
                                {
                                    "FirstName": "Kitti",
                                    "LastName": "Lertpiriyasuwat"
                                },
                                {
                                    "FirstName": "Laura",
                                    "LastName": "Norman"
                                },
                                {
                                    "FirstName": "Linda",
                                    "LastName": "Meisner"
                                },
                                {
                                    "FirstName": "Linda",
                                    "LastName": "Moschell"
                                },
                                {
                                    "FirstName": "Linda",
                                    "LastName": "Randall"
                                },
                                {
                                    "FirstName": "Lionel",
                                    "LastName": "Penuchot"
                                },
                                {
                                    "FirstName": "Lori",
                                    "LastName": "Penor"
                                },
                                {
                                    "FirstName": "Lorraine",
                                    "LastName": "Nay"
                                },
                                {
                                    "FirstName": "Magnus",
                                    "LastName": "Hedlund"
                                },
                                {
                                    "FirstName": "Marc",
                                    "LastName": "Ingle"
                                },
                                {
                                    "FirstName": "Margie",
                                    "LastName": "Shoop"
                                },
                                {
                                    "FirstName": "Mark",
                                    "LastName": "Harrington"
                                },
                                {
                                    "FirstName": "Mark",
                                    "LastName": "McArthur"
                                },
                                {
                                    "FirstName": "Mary",
                                    "LastName": "Dempsey"
                                },
                                {
                                    "FirstName": "Mary",
                                    "LastName": "Gibson"
                                },
                                {
                                    "FirstName": "Merav",
                                    "LastName": "Netz"
                                },
                                {
                                    "FirstName": "Michael",
                                    "LastName": "Entin"
                                },
                                {
                                    "FirstName": "Michael",
                                    "LastName": "Hines"
                                },
                                {
                                    "FirstName": "Michael",
                                    "LastName": "Patten"
                                },
                                {
                                    "FirstName": "Michael",
                                    "LastName": "Raheem"
                                },
                                {
                                    "FirstName": "Michael",
                                    "LastName": "Ray"
                                },
                                {
                                    "FirstName": "Michael",
                                    "LastName": "Zwilling"
                                },
                                {
                                    "FirstName": "Michiko",
                                    "LastName": "Osada"
                                },
                                {
                                    "FirstName": "Mindaugas",
                                    "LastName": "Krapauskas"
                                },
                                {
                                    "FirstName": "Nancy",
                                    "LastName": "Anderson"
                                },
                                {
                                    "FirstName": "Nicole",
                                    "LastName": "Holliday"
                                },
                                {
                                    "FirstName": "Nitin",
                                    "LastName": "Mirchandani"
                                },
                                {
                                    "FirstName": "Nuan",
                                    "LastName": "Yu"
                                },
                                {
                                    "FirstName": "Olinda",
                                    "LastName": "Turner"
                                },
                                {
                                    "FirstName": "Ovidiu",
                                    "LastName": "Cracium"
                                },
                                {
                                    "FirstName": "Pamela",
                                    "LastName": "Ansman-Wolfe"
                                },
                                {
                                    "FirstName": "Patrick",
                                    "LastName": "Wedge"
                                },
                                {
                                    "FirstName": "Paul",
                                    "LastName": "Komosinski"
                                },
                                {
                                    "FirstName": "Paula",
                                    "LastName": "Barreto de Mattos"
                                },
                                {
                                    "FirstName": "Paula",
                                    "LastName": "Nartker"
                                },
                                {
                                    "FirstName": "Peng",
                                    "LastName": "Wu"
                                },
                                {
                                    "FirstName": "Pete",
                                    "LastName": "Male"
                                },
                                {
                                    "FirstName": "Peter",
                                    "LastName": "Krebs"
                                },
                                {
                                    "FirstName": "Prasanna",
                                    "LastName": "Samarawickrama"
                                },
                                {
                                    "FirstName": "Rajesh",
                                    "LastName": "Patel"
                                },
                                {
                                    "FirstName": "Randy",
                                    "LastName": "Reeves"
                                },
                                {
                                    "FirstName": "Rob",
                                    "LastName": "Walters"
                                },
                                {
                                    "FirstName": "Robert",
                                    "LastName": "Rounthwaite"
                                },
                                {
                                    "FirstName": "Roberto",
                                    "LastName": "Tamburello"
                                },
                                {
                                    "FirstName": "Rostislav",
                                    "LastName": "Shabalin"
                                },
                                {
                                    "FirstName": "Russell",
                                    "LastName": "Hunter"
                                },
                                {
                                    "FirstName": "Ruth",
                                    "LastName": "Ellerbrock"
                                },
                                {
                                    "FirstName": "Ryan",
                                    "LastName": "Cornelsen"
                                },
                                {
                                    "FirstName": "Sandra",
                                    "LastName": "Reátegui Alayo"
                                },
                                {
                                    "FirstName": "Sariya",
                                    "LastName": "Harnpadoungsataya"
                                },
                                {
                                    "FirstName": "Sean",
                                    "LastName": "Alexander"
                                },
                                {
                                    "FirstName": "Shammi",
                                    "LastName": "Mohamed"
                                },
                                {
                                    "FirstName": "Sheela",
                                    "LastName": "Word"
                                },
                                {
                                    "FirstName": "Shu",
                                    "LastName": "Ito"
                                },
                                {
                                    "FirstName": "Simon",
                                    "LastName": "Rapier"
                                },
                                {
                                    "FirstName": "Sootha",
                                    "LastName": "Charncherngkha"
                                },
                                {
                                    "FirstName": "Stefen",
                                    "LastName": "Hesse"
                                },
                                {
                                    "FirstName": "Stuart",
                                    "LastName": "Macrae"
                                },
                                {
                                    "FirstName": "Stuart",
                                    "LastName": "Munson"
                                },
                                {
                                    "FirstName": "Suchitra",
                                    "LastName": "Mohan"
                                },
                                {
                                    "FirstName": "Suroor",
                                    "LastName": "Fatima"
                                },
                                {
                                    "FirstName": "Susan",
                                    "LastName": "Eaton"
                                },
                                {
                                    "FirstName": "Susan",
                                    "LastName": "Metters"
                                },
                                {
                                    "FirstName": "Syed",
                                    "LastName": "Abbas"
                                },
                                {
                                    "FirstName": "Sylvester",
                                    "LastName": "Valdez"
                                },
                                {
                                    "FirstName": "Tawana",
                                    "LastName": "Nusbaum"
                                },
                                {
                                    "FirstName": "Taylor",
                                    "LastName": "Maxwell"
                                },
                                {
                                    "FirstName": "Tengiz",
                                    "LastName": "Kharatishvili"
                                },
                                {
                                    "FirstName": "Terrence",
                                    "LastName": "Earls"
                                },
                                {
                                    "FirstName": "Terri",
                                    "LastName": "Duffy"
                                },
                                {
                                    "FirstName": "Tete",
                                    "LastName": "Mensa-Annan"
                                },
                                {
                                    "FirstName": "Tom",
                                    "LastName": "Vande Velde"
                                },
                                {
                                    "FirstName": "Tsvi",
                                    "LastName": "Reiter"
                                },
                                {
                                    "FirstName": "Vidur",
                                    "LastName": "Luthra"
                                },
                                {
                                    "FirstName": "Wanida",
                                    "LastName": "Benshoof"
                                },
                                {
                                    "FirstName": "Wendy",
                                    "LastName": "Kahn"
                                },
                                {
                                    "FirstName": "William",
                                    "LastName": "Vong"
                                },
                                {
                                    "FirstName": "Zainal",
                                    "LastName": "Arifin"
                                },
                                {
                                    "FirstName": "Zheng",
                                    "LastName": "Mu"
                                }
                            ]
                        },
                        "text/html": "<table><tr><th>FirstName</th><th>LastName</th></tr><tr><td>A. Scott</td><td>Wright</td></tr><tr><td>Alex</td><td>Nayberg</td></tr><tr><td>Alice</td><td>Ciccu</td></tr><tr><td>Andreas</td><td>Berglund</td></tr><tr><td>Angela</td><td>Barbariol</td></tr><tr><td>Annette</td><td>Hill</td></tr><tr><td>Annik</td><td>Stahl</td></tr><tr><td>Arvind</td><td>Rao</td></tr><tr><td>Ashvini</td><td>Sharma</td></tr><tr><td>Barbara</td><td>Moreland</td></tr><tr><td>Belinda</td><td>Newman</td></tr><tr><td>Betsy</td><td>Stadick</td></tr><tr><td>Bjorn</td><td>Rettig</td></tr><tr><td>Bob</td><td>Hohman</td></tr><tr><td>Bonnie</td><td>Kearney</td></tr><tr><td>Brandon</td><td>Heidepriem</td></tr><tr><td>Brian</td><td>LaMee</td></tr><tr><td>Brian</td><td>Lloyd</td></tr><tr><td>Brian</td><td>Welcker</td></tr><tr><td>Bryan</td><td>Baker</td></tr><tr><td>Bryan</td><td>Walton</td></tr><tr><td>Candy</td><td>Spoon</td></tr><tr><td>Carol</td><td>Philips</td></tr><tr><td>Carole</td><td>Poland</td></tr><tr><td>Chad</td><td>Niswonger</td></tr><tr><td>Charles</td><td>Fitzgerald</td></tr><tr><td>Chris</td><td>Norred</td></tr><tr><td>Chris</td><td>Okelberry</td></tr><tr><td>Chris</td><td>Preston</td></tr><tr><td>Christopher</td><td>Hill</td></tr><tr><td>Cristian</td><td>Petculescu</td></tr><tr><td>Cynthia</td><td>Randall</td></tr><tr><td>Dan</td><td>Bacon</td></tr><tr><td>Dan</td><td>Wilson</td></tr><tr><td>David</td><td>Barber</td></tr><tr><td>David</td><td>Hamilton</td></tr><tr><td>David</td><td>Ortiz</td></tr><tr><td>David</td><td>Yalovsky</td></tr><tr><td>Deborah</td><td>Poe</td></tr><tr><td>Diane</td><td>Margheim</td></tr><tr><td>Don</td><td>Hall</td></tr><tr><td>Dragan</td><td>Tomic</td></tr><tr><td>Ebru</td><td>Ersan</td></tr><tr><td>Eric</td><td>Brown</td></tr><tr><td>Eric</td><td>Gubbels</td></tr><tr><td>Eric</td><td>Kurjan</td></tr><tr><td>Eugene</td><td>Zabokritski</td></tr><tr><td>François</td><td>Ajenstat</td></tr><tr><td>Frank</td><td>Lee</td></tr><tr><td>Frank</td><td>Martinez</td></tr><tr><td>Frank</td><td>Pellow</td></tr><tr><td>Fred</td><td>Northup</td></tr><tr><td>Fukiko</td><td>Ogisu</td></tr><tr><td>Gabe</td><td>Mares</td></tr><tr><td>Garrett</td><td>Vargas</td></tr><tr><td>Garrett</td><td>Young</td></tr><tr><td>Gary</td><td>Altman</td></tr><tr><td>Gary</td><td>Yukish</td></tr><tr><td>Gigi</td><td>Matthew</td></tr><tr><td>Gordon</td><td>Hee</td></tr><tr><td>Greg</td><td>Alderson</td></tr><tr><td>Hao</td><td>Chen</td></tr><tr><td>Hazem</td><td>Abolrous</td></tr><tr><td>Houman</td><td>Pournasseh</td></tr><tr><td>Hung-Fu</td><td>Ting</td></tr><tr><td>Ivo</td><td>Salmre</td></tr><tr><td>Jack</td><td>Richins</td></tr><tr><td>Jae</td><td>Pak</td></tr><tr><td>James</td><td>Kramer</td></tr><tr><td>Janaina</td><td>Bueno</td></tr><tr><td>Janice</td><td>Galvin</td></tr><tr><td>Jason</td><td>Watters</td></tr><tr><td>Jian Shuo</td><td>Wang</td></tr><tr><td>Jill</td><td>Williams</td></tr><tr><td>Jillian</td><td>Carson</td></tr><tr><td>Jim</td><td>Scardelis</td></tr><tr><td>Jo</td><td>Berry</td></tr><tr><td>John</td><td>Campbell</td></tr><tr><td>John</td><td>Chen</td></tr><tr><td>John</td><td>Frum</td></tr><tr><td>John</td><td>Wood</td></tr><tr><td>JoLynn</td><td>Dobney</td></tr><tr><td>Jossef</td><td>Goldberg</td></tr><tr><td>Karen</td><td>Berg</td></tr><tr><td>Karen</td><td>Berge</td></tr><tr><td>Ken</td><td>Myer</td></tr><tr><td>Kevin</td><td>Brown</td></tr><tr><td>Kevin</td><td>Homer</td></tr><tr><td>Kim</td><td>Ralls</td></tr><tr><td>Kimberly</td><td>Zimmerman</td></tr><tr><td>Kirk</td><td>Koenigsbauer</td></tr><tr><td>Kitti</td><td>Lertpiriyasuwat</td></tr><tr><td>Laura</td><td>Norman</td></tr><tr><td>Linda</td><td>Meisner</td></tr><tr><td>Linda</td><td>Moschell</td></tr><tr><td>Linda</td><td>Randall</td></tr><tr><td>Lionel</td><td>Penuchot</td></tr><tr><td>Lori</td><td>Penor</td></tr><tr><td>Lorraine</td><td>Nay</td></tr><tr><td>Magnus</td><td>Hedlund</td></tr><tr><td>Marc</td><td>Ingle</td></tr><tr><td>Margie</td><td>Shoop</td></tr><tr><td>Mark</td><td>Harrington</td></tr><tr><td>Mark</td><td>McArthur</td></tr><tr><td>Mary</td><td>Dempsey</td></tr><tr><td>Mary</td><td>Gibson</td></tr><tr><td>Merav</td><td>Netz</td></tr><tr><td>Michael</td><td>Entin</td></tr><tr><td>Michael</td><td>Hines</td></tr><tr><td>Michael</td><td>Patten</td></tr><tr><td>Michael</td><td>Raheem</td></tr><tr><td>Michael</td><td>Ray</td></tr><tr><td>Michael</td><td>Zwilling</td></tr><tr><td>Michiko</td><td>Osada</td></tr><tr><td>Mindaugas</td><td>Krapauskas</td></tr><tr><td>Nancy</td><td>Anderson</td></tr><tr><td>Nicole</td><td>Holliday</td></tr><tr><td>Nitin</td><td>Mirchandani</td></tr><tr><td>Nuan</td><td>Yu</td></tr><tr><td>Olinda</td><td>Turner</td></tr><tr><td>Ovidiu</td><td>Cracium</td></tr><tr><td>Pamela</td><td>Ansman-Wolfe</td></tr><tr><td>Patrick</td><td>Wedge</td></tr><tr><td>Paul</td><td>Komosinski</td></tr><tr><td>Paula</td><td>Barreto de Mattos</td></tr><tr><td>Paula</td><td>Nartker</td></tr><tr><td>Peng</td><td>Wu</td></tr><tr><td>Pete</td><td>Male</td></tr><tr><td>Peter</td><td>Krebs</td></tr><tr><td>Prasanna</td><td>Samarawickrama</td></tr><tr><td>Rajesh</td><td>Patel</td></tr><tr><td>Randy</td><td>Reeves</td></tr><tr><td>Rob</td><td>Walters</td></tr><tr><td>Robert</td><td>Rounthwaite</td></tr><tr><td>Roberto</td><td>Tamburello</td></tr><tr><td>Rostislav</td><td>Shabalin</td></tr><tr><td>Russell</td><td>Hunter</td></tr><tr><td>Ruth</td><td>Ellerbrock</td></tr><tr><td>Ryan</td><td>Cornelsen</td></tr><tr><td>Sandra</td><td>Reátegui Alayo</td></tr><tr><td>Sariya</td><td>Harnpadoungsataya</td></tr><tr><td>Sean</td><td>Alexander</td></tr><tr><td>Shammi</td><td>Mohamed</td></tr><tr><td>Sheela</td><td>Word</td></tr><tr><td>Shu</td><td>Ito</td></tr><tr><td>Simon</td><td>Rapier</td></tr><tr><td>Sootha</td><td>Charncherngkha</td></tr><tr><td>Stefen</td><td>Hesse</td></tr><tr><td>Stuart</td><td>Macrae</td></tr><tr><td>Stuart</td><td>Munson</td></tr><tr><td>Suchitra</td><td>Mohan</td></tr><tr><td>Suroor</td><td>Fatima</td></tr><tr><td>Susan</td><td>Eaton</td></tr><tr><td>Susan</td><td>Metters</td></tr><tr><td>Syed</td><td>Abbas</td></tr><tr><td>Sylvester</td><td>Valdez</td></tr><tr><td>Tawana</td><td>Nusbaum</td></tr><tr><td>Taylor</td><td>Maxwell</td></tr><tr><td>Tengiz</td><td>Kharatishvili</td></tr><tr><td>Terrence</td><td>Earls</td></tr><tr><td>Terri</td><td>Duffy</td></tr><tr><td>Tete</td><td>Mensa-Annan</td></tr><tr><td>Tom</td><td>Vande Velde</td></tr><tr><td>Tsvi</td><td>Reiter</td></tr><tr><td>Vidur</td><td>Luthra</td></tr><tr><td>Wanida</td><td>Benshoof</td></tr><tr><td>Wendy</td><td>Kahn</td></tr><tr><td>William</td><td>Vong</td></tr><tr><td>Zainal</td><td>Arifin</td></tr><tr><td>Zheng</td><td>Mu</td></tr></table>"
                    },
                    "metadata": {}
                }
            ],
            "execution_count": 31
        },
        {
            "cell_type": "markdown",
            "source": [
                "5. query outputs sales territories that are assigned to customers\n",
                "\n",
                "     Decided to output territories with customer because if there are territories with no customers is not worth doing business in those territories"
            ],
            "metadata": {
                "azdata_cell_guid": "b68096f0-0d54-4b8b-85da-8e1c59edb4f5"
            },
            "attachments": {}
        },
        {
            "cell_type": "code",
            "source": [
                "USE AdventureWorks2017;\n",
                "GO\n",
                "\n",
                "SELECT Name AS TerritoryName ---assigning name tn\n",
                "FROM Sales.SalesTerritory  \n",
                "\n",
                "INTERSECT\n",
                "\n",
                "(SELECT DISTINCT st.Name AS TerritoryName --name assign\n",
                "FROM Sales.Customer c\n",
                "\n",
                "JOIN Sales.SalesTerritory st \n",
                "ON c.TerritoryID = st.TerritoryID\n",
                ");"
            ],
            "metadata": {
                "azdata_cell_guid": "a76d7425-edd2-4971-8221-76b960a7a9f2",
                "language": "sql"
            },
            "outputs": [
                {
                    "output_type": "display_data",
                    "data": {
                        "text/html": "Commands completed successfully."
                    },
                    "metadata": {}
                },
                {
                    "output_type": "display_data",
                    "data": {
                        "text/html": "(10 rows affected)"
                    },
                    "metadata": {}
                },
                {
                    "output_type": "display_data",
                    "data": {
                        "text/html": "Total execution time: 00:00:00.013"
                    },
                    "metadata": {}
                },
                {
                    "output_type": "execute_result",
                    "metadata": {},
                    "execution_count": 4,
                    "data": {
                        "application/vnd.dataresource+json": {
                            "schema": {
                                "fields": [
                                    {
                                        "name": "TerritoryName"
                                    }
                                ]
                            },
                            "data": [
                                {
                                    "TerritoryName": "Australia"
                                },
                                {
                                    "TerritoryName": "Canada"
                                },
                                {
                                    "TerritoryName": "Central"
                                },
                                {
                                    "TerritoryName": "France"
                                },
                                {
                                    "TerritoryName": "Germany"
                                },
                                {
                                    "TerritoryName": "Northeast"
                                },
                                {
                                    "TerritoryName": "Northwest"
                                },
                                {
                                    "TerritoryName": "Southeast"
                                },
                                {
                                    "TerritoryName": "Southwest"
                                },
                                {
                                    "TerritoryName": "United Kingdom"
                                }
                            ]
                        },
                        "text/html": [
                            "<table>",
                            "<tr><th>TerritoryName</th></tr>",
                            "<tr><td>Australia</td></tr>",
                            "<tr><td>Canada</td></tr>",
                            "<tr><td>Central</td></tr>",
                            "<tr><td>France</td></tr>",
                            "<tr><td>Germany</td></tr>",
                            "<tr><td>Northeast</td></tr>",
                            "<tr><td>Northwest</td></tr>",
                            "<tr><td>Southeast</td></tr>",
                            "<tr><td>Southwest</td></tr>",
                            "<tr><td>United Kingdom</td></tr>",
                            "</table>"
                        ]
                    }
                }
            ],
            "execution_count": 4
        },
        {
            "cell_type": "markdown",
            "source": [
                "6. Query returns names of sales people who appear in Department history\n",
                "\n",
                "     This proposition returns names of people that do sales in the departmen  history as there could be other employees not in sales."
            ],
            "metadata": {
                "azdata_cell_guid": "14a93ac0-f592-4fc0-8911-9d29dee424c0"
            },
            "attachments": {}
        },
        {
            "cell_type": "code",
            "source": [
                "USE AdventureWorks2017\n",
                "GO\n",
                "--tables sales.salesperson| person.person| humanresources.employeedepartmenthistory\n",
                "SELECT p.FirstName, p.LastName\n",
                "FROM Sales.SalesPerson s  \n",
                "JOIN Person.Person p \n",
                "ON s.BusinessEntityID = p.BusinessEntityID --join\n",
                "\n",
                "INTERSECT\n",
                "\n",
                "(SELECT p.FirstName, p.LastName\n",
                "FROM HumanResources.EmployeeDepartmentHistory edh\n",
                "JOIN Person.Person p \n",
                "ON edh.BusinessEntityID = p.BusinessEntityID\n",
                ");"
            ],
            "metadata": {
                "azdata_cell_guid": "1d998d24-2680-4c56-b2ef-433baaafa8fb",
                "language": "sql"
            },
            "outputs": [
                {
                    "output_type": "display_data",
                    "data": {
                        "text/html": "Commands completed successfully."
                    },
                    "metadata": {}
                },
                {
                    "output_type": "display_data",
                    "data": {
                        "text/html": "(17 rows affected)"
                    },
                    "metadata": {}
                },
                {
                    "output_type": "display_data",
                    "data": {
                        "text/html": "Total execution time: 00:00:00.019"
                    },
                    "metadata": {}
                },
                {
                    "output_type": "execute_result",
                    "metadata": {},
                    "execution_count": 5,
                    "data": {
                        "application/vnd.dataresource+json": {
                            "schema": {
                                "fields": [
                                    {
                                        "name": "FirstName"
                                    },
                                    {
                                        "name": "LastName"
                                    }
                                ]
                            },
                            "data": [
                                {
                                    "FirstName": "Amy",
                                    "LastName": "Alberts"
                                },
                                {
                                    "FirstName": "David",
                                    "LastName": "Campbell"
                                },
                                {
                                    "FirstName": "Garrett",
                                    "LastName": "Vargas"
                                },
                                {
                                    "FirstName": "Jae",
                                    "LastName": "Pak"
                                },
                                {
                                    "FirstName": "Jillian",
                                    "LastName": "Carson"
                                },
                                {
                                    "FirstName": "José",
                                    "LastName": "Saraiva"
                                },
                                {
                                    "FirstName": "Linda",
                                    "LastName": "Mitchell"
                                },
                                {
                                    "FirstName": "Lynn",
                                    "LastName": "Tsoflias"
                                },
                                {
                                    "FirstName": "Michael",
                                    "LastName": "Blythe"
                                },
                                {
                                    "FirstName": "Pamela",
                                    "LastName": "Ansman-Wolfe"
                                },
                                {
                                    "FirstName": "Rachel",
                                    "LastName": "Valdez"
                                },
                                {
                                    "FirstName": "Ranjit",
                                    "LastName": "Varkey Chudukatil"
                                },
                                {
                                    "FirstName": "Shu",
                                    "LastName": "Ito"
                                },
                                {
                                    "FirstName": "Stephen",
                                    "LastName": "Jiang"
                                },
                                {
                                    "FirstName": "Syed",
                                    "LastName": "Abbas"
                                },
                                {
                                    "FirstName": "Tete",
                                    "LastName": "Mensa-Annan"
                                },
                                {
                                    "FirstName": "Tsvi",
                                    "LastName": "Reiter"
                                }
                            ]
                        },
                        "text/html": [
                            "<table>",
                            "<tr><th>FirstName</th><th>LastName</th></tr>",
                            "<tr><td>Amy</td><td>Alberts</td></tr>",
                            "<tr><td>David</td><td>Campbell</td></tr>",
                            "<tr><td>Garrett</td><td>Vargas</td></tr>",
                            "<tr><td>Jae</td><td>Pak</td></tr>",
                            "<tr><td>Jillian</td><td>Carson</td></tr>",
                            "<tr><td>José</td><td>Saraiva</td></tr>",
                            "<tr><td>Linda</td><td>Mitchell</td></tr>",
                            "<tr><td>Lynn</td><td>Tsoflias</td></tr>",
                            "<tr><td>Michael</td><td>Blythe</td></tr>",
                            "<tr><td>Pamela</td><td>Ansman-Wolfe</td></tr>",
                            "<tr><td>Rachel</td><td>Valdez</td></tr>",
                            "<tr><td>Ranjit</td><td>Varkey Chudukatil</td></tr>",
                            "<tr><td>Shu</td><td>Ito</td></tr>",
                            "<tr><td>Stephen</td><td>Jiang</td></tr>",
                            "<tr><td>Syed</td><td>Abbas</td></tr>",
                            "<tr><td>Tete</td><td>Mensa-Annan</td></tr>",
                            "<tr><td>Tsvi</td><td>Reiter</td></tr>",
                            "</table>"
                        ]
                    }
                }
            ],
            "execution_count": 5
        },
        {
            "cell_type": "markdown",
            "source": [
                "7\\. Query that returns productID of the products except the products that have a list price history\n",
                "\n",
                "  \n",
                "\n",
                "     Returns productid of products that have no list price history. This I thought was important because if there is no price history or ‘data’ then we must do further research on value for price at current year\n",
                "\n",
                "TABLES: Production.product | production.productListPriceHistory"
            ],
            "metadata": {
                "azdata_cell_guid": "55c4cb9e-66a7-42f5-a0ff-8f8646c85da5"
            },
            "attachments": {}
        },
        {
            "cell_type": "code",
            "source": [
                "USE AdventureWorks2017;\n",
                "GO\n",
                "\n",
                "-- All products\n",
                "SELECT ProductID\n",
                "FROM Production.Product\n",
                "\n",
                "EXCEPT\n",
                "\n",
                "-- Products that have a list price history\n",
                "SELECT DISTINCT ProductID\n",
                "FROM Production.ProductListPriceHistory;"
            ],
            "metadata": {
                "azdata_cell_guid": "eab7734e-7bfe-48ae-91c9-5739ebd1f0f7",
                "language": "sql"
            },
            "outputs": [
                {
                    "output_type": "display_data",
                    "data": {
                        "text/html": "Commands completed successfully."
                    },
                    "metadata": {}
                },
                {
                    "output_type": "display_data",
                    "data": {
                        "text/html": "(211 rows affected)"
                    },
                    "metadata": {}
                },
                {
                    "output_type": "display_data",
                    "data": {
                        "text/html": "Total execution time: 00:00:00.009"
                    },
                    "metadata": {}
                },
                {
                    "output_type": "execute_result",
                    "execution_count": 19,
                    "data": {
                        "application/vnd.dataresource+json": {
                            "schema": {
                                "fields": [
                                    {
                                        "name": "ProductID"
                                    }
                                ]
                            },
                            "data": [
                                {
                                    "ProductID": "1"
                                },
                                {
                                    "ProductID": "2"
                                },
                                {
                                    "ProductID": "3"
                                },
                                {
                                    "ProductID": "4"
                                },
                                {
                                    "ProductID": "316"
                                },
                                {
                                    "ProductID": "317"
                                },
                                {
                                    "ProductID": "318"
                                },
                                {
                                    "ProductID": "319"
                                },
                                {
                                    "ProductID": "320"
                                },
                                {
                                    "ProductID": "321"
                                },
                                {
                                    "ProductID": "322"
                                },
                                {
                                    "ProductID": "323"
                                },
                                {
                                    "ProductID": "324"
                                },
                                {
                                    "ProductID": "325"
                                },
                                {
                                    "ProductID": "326"
                                },
                                {
                                    "ProductID": "327"
                                },
                                {
                                    "ProductID": "328"
                                },
                                {
                                    "ProductID": "329"
                                },
                                {
                                    "ProductID": "330"
                                },
                                {
                                    "ProductID": "331"
                                },
                                {
                                    "ProductID": "332"
                                },
                                {
                                    "ProductID": "341"
                                },
                                {
                                    "ProductID": "342"
                                },
                                {
                                    "ProductID": "343"
                                },
                                {
                                    "ProductID": "344"
                                },
                                {
                                    "ProductID": "345"
                                },
                                {
                                    "ProductID": "346"
                                },
                                {
                                    "ProductID": "347"
                                },
                                {
                                    "ProductID": "348"
                                },
                                {
                                    "ProductID": "349"
                                },
                                {
                                    "ProductID": "350"
                                },
                                {
                                    "ProductID": "351"
                                },
                                {
                                    "ProductID": "352"
                                },
                                {
                                    "ProductID": "355"
                                },
                                {
                                    "ProductID": "356"
                                },
                                {
                                    "ProductID": "357"
                                },
                                {
                                    "ProductID": "358"
                                },
                                {
                                    "ProductID": "359"
                                },
                                {
                                    "ProductID": "360"
                                },
                                {
                                    "ProductID": "361"
                                },
                                {
                                    "ProductID": "362"
                                },
                                {
                                    "ProductID": "363"
                                },
                                {
                                    "ProductID": "364"
                                },
                                {
                                    "ProductID": "365"
                                },
                                {
                                    "ProductID": "366"
                                },
                                {
                                    "ProductID": "367"
                                },
                                {
                                    "ProductID": "368"
                                },
                                {
                                    "ProductID": "369"
                                },
                                {
                                    "ProductID": "370"
                                },
                                {
                                    "ProductID": "371"
                                },
                                {
                                    "ProductID": "372"
                                },
                                {
                                    "ProductID": "373"
                                },
                                {
                                    "ProductID": "374"
                                },
                                {
                                    "ProductID": "375"
                                },
                                {
                                    "ProductID": "376"
                                },
                                {
                                    "ProductID": "377"
                                },
                                {
                                    "ProductID": "378"
                                },
                                {
                                    "ProductID": "379"
                                },
                                {
                                    "ProductID": "380"
                                },
                                {
                                    "ProductID": "381"
                                },
                                {
                                    "ProductID": "382"
                                },
                                {
                                    "ProductID": "383"
                                },
                                {
                                    "ProductID": "384"
                                },
                                {
                                    "ProductID": "385"
                                },
                                {
                                    "ProductID": "386"
                                },
                                {
                                    "ProductID": "387"
                                },
                                {
                                    "ProductID": "388"
                                },
                                {
                                    "ProductID": "389"
                                },
                                {
                                    "ProductID": "390"
                                },
                                {
                                    "ProductID": "391"
                                },
                                {
                                    "ProductID": "392"
                                },
                                {
                                    "ProductID": "393"
                                },
                                {
                                    "ProductID": "394"
                                },
                                {
                                    "ProductID": "395"
                                },
                                {
                                    "ProductID": "396"
                                },
                                {
                                    "ProductID": "397"
                                },
                                {
                                    "ProductID": "398"
                                },
                                {
                                    "ProductID": "399"
                                },
                                {
                                    "ProductID": "400"
                                },
                                {
                                    "ProductID": "401"
                                },
                                {
                                    "ProductID": "402"
                                },
                                {
                                    "ProductID": "403"
                                },
                                {
                                    "ProductID": "404"
                                },
                                {
                                    "ProductID": "405"
                                },
                                {
                                    "ProductID": "406"
                                },
                                {
                                    "ProductID": "407"
                                },
                                {
                                    "ProductID": "408"
                                },
                                {
                                    "ProductID": "409"
                                },
                                {
                                    "ProductID": "410"
                                },
                                {
                                    "ProductID": "411"
                                },
                                {
                                    "ProductID": "412"
                                },
                                {
                                    "ProductID": "413"
                                },
                                {
                                    "ProductID": "414"
                                },
                                {
                                    "ProductID": "415"
                                },
                                {
                                    "ProductID": "416"
                                },
                                {
                                    "ProductID": "417"
                                },
                                {
                                    "ProductID": "418"
                                },
                                {
                                    "ProductID": "419"
                                },
                                {
                                    "ProductID": "420"
                                },
                                {
                                    "ProductID": "421"
                                },
                                {
                                    "ProductID": "422"
                                },
                                {
                                    "ProductID": "423"
                                },
                                {
                                    "ProductID": "424"
                                },
                                {
                                    "ProductID": "425"
                                },
                                {
                                    "ProductID": "426"
                                },
                                {
                                    "ProductID": "427"
                                },
                                {
                                    "ProductID": "428"
                                },
                                {
                                    "ProductID": "429"
                                },
                                {
                                    "ProductID": "430"
                                },
                                {
                                    "ProductID": "431"
                                },
                                {
                                    "ProductID": "432"
                                },
                                {
                                    "ProductID": "433"
                                },
                                {
                                    "ProductID": "434"
                                },
                                {
                                    "ProductID": "435"
                                },
                                {
                                    "ProductID": "436"
                                },
                                {
                                    "ProductID": "437"
                                },
                                {
                                    "ProductID": "438"
                                },
                                {
                                    "ProductID": "439"
                                },
                                {
                                    "ProductID": "440"
                                },
                                {
                                    "ProductID": "441"
                                },
                                {
                                    "ProductID": "442"
                                },
                                {
                                    "ProductID": "443"
                                },
                                {
                                    "ProductID": "444"
                                },
                                {
                                    "ProductID": "445"
                                },
                                {
                                    "ProductID": "446"
                                },
                                {
                                    "ProductID": "447"
                                },
                                {
                                    "ProductID": "448"
                                },
                                {
                                    "ProductID": "449"
                                },
                                {
                                    "ProductID": "450"
                                },
                                {
                                    "ProductID": "451"
                                },
                                {
                                    "ProductID": "452"
                                },
                                {
                                    "ProductID": "453"
                                },
                                {
                                    "ProductID": "454"
                                },
                                {
                                    "ProductID": "455"
                                },
                                {
                                    "ProductID": "456"
                                },
                                {
                                    "ProductID": "457"
                                },
                                {
                                    "ProductID": "458"
                                },
                                {
                                    "ProductID": "459"
                                },
                                {
                                    "ProductID": "460"
                                },
                                {
                                    "ProductID": "461"
                                },
                                {
                                    "ProductID": "462"
                                },
                                {
                                    "ProductID": "463"
                                },
                                {
                                    "ProductID": "464"
                                },
                                {
                                    "ProductID": "465"
                                },
                                {
                                    "ProductID": "466"
                                },
                                {
                                    "ProductID": "467"
                                },
                                {
                                    "ProductID": "468"
                                },
                                {
                                    "ProductID": "469"
                                },
                                {
                                    "ProductID": "470"
                                },
                                {
                                    "ProductID": "471"
                                },
                                {
                                    "ProductID": "472"
                                },
                                {
                                    "ProductID": "473"
                                },
                                {
                                    "ProductID": "474"
                                },
                                {
                                    "ProductID": "475"
                                },
                                {
                                    "ProductID": "476"
                                },
                                {
                                    "ProductID": "477"
                                },
                                {
                                    "ProductID": "478"
                                },
                                {
                                    "ProductID": "479"
                                },
                                {
                                    "ProductID": "480"
                                },
                                {
                                    "ProductID": "481"
                                },
                                {
                                    "ProductID": "482"
                                },
                                {
                                    "ProductID": "483"
                                },
                                {
                                    "ProductID": "484"
                                },
                                {
                                    "ProductID": "485"
                                },
                                {
                                    "ProductID": "486"
                                },
                                {
                                    "ProductID": "487"
                                },
                                {
                                    "ProductID": "488"
                                },
                                {
                                    "ProductID": "489"
                                },
                                {
                                    "ProductID": "490"
                                },
                                {
                                    "ProductID": "491"
                                },
                                {
                                    "ProductID": "492"
                                },
                                {
                                    "ProductID": "493"
                                },
                                {
                                    "ProductID": "494"
                                },
                                {
                                    "ProductID": "495"
                                },
                                {
                                    "ProductID": "496"
                                },
                                {
                                    "ProductID": "497"
                                },
                                {
                                    "ProductID": "504"
                                },
                                {
                                    "ProductID": "505"
                                },
                                {
                                    "ProductID": "506"
                                },
                                {
                                    "ProductID": "507"
                                },
                                {
                                    "ProductID": "508"
                                },
                                {
                                    "ProductID": "509"
                                },
                                {
                                    "ProductID": "510"
                                },
                                {
                                    "ProductID": "511"
                                },
                                {
                                    "ProductID": "512"
                                },
                                {
                                    "ProductID": "513"
                                },
                                {
                                    "ProductID": "514"
                                },
                                {
                                    "ProductID": "515"
                                },
                                {
                                    "ProductID": "516"
                                },
                                {
                                    "ProductID": "517"
                                },
                                {
                                    "ProductID": "518"
                                },
                                {
                                    "ProductID": "519"
                                },
                                {
                                    "ProductID": "520"
                                },
                                {
                                    "ProductID": "521"
                                },
                                {
                                    "ProductID": "522"
                                },
                                {
                                    "ProductID": "523"
                                },
                                {
                                    "ProductID": "524"
                                },
                                {
                                    "ProductID": "525"
                                },
                                {
                                    "ProductID": "526"
                                },
                                {
                                    "ProductID": "527"
                                },
                                {
                                    "ProductID": "528"
                                },
                                {
                                    "ProductID": "529"
                                },
                                {
                                    "ProductID": "530"
                                },
                                {
                                    "ProductID": "531"
                                },
                                {
                                    "ProductID": "532"
                                },
                                {
                                    "ProductID": "533"
                                },
                                {
                                    "ProductID": "534"
                                },
                                {
                                    "ProductID": "535"
                                },
                                {
                                    "ProductID": "679"
                                },
                                {
                                    "ProductID": "680"
                                },
                                {
                                    "ProductID": "706"
                                }
                            ]
                        },
                        "text/html": "<table><tr><th>ProductID</th></tr><tr><td>1</td></tr><tr><td>2</td></tr><tr><td>3</td></tr><tr><td>4</td></tr><tr><td>316</td></tr><tr><td>317</td></tr><tr><td>318</td></tr><tr><td>319</td></tr><tr><td>320</td></tr><tr><td>321</td></tr><tr><td>322</td></tr><tr><td>323</td></tr><tr><td>324</td></tr><tr><td>325</td></tr><tr><td>326</td></tr><tr><td>327</td></tr><tr><td>328</td></tr><tr><td>329</td></tr><tr><td>330</td></tr><tr><td>331</td></tr><tr><td>332</td></tr><tr><td>341</td></tr><tr><td>342</td></tr><tr><td>343</td></tr><tr><td>344</td></tr><tr><td>345</td></tr><tr><td>346</td></tr><tr><td>347</td></tr><tr><td>348</td></tr><tr><td>349</td></tr><tr><td>350</td></tr><tr><td>351</td></tr><tr><td>352</td></tr><tr><td>355</td></tr><tr><td>356</td></tr><tr><td>357</td></tr><tr><td>358</td></tr><tr><td>359</td></tr><tr><td>360</td></tr><tr><td>361</td></tr><tr><td>362</td></tr><tr><td>363</td></tr><tr><td>364</td></tr><tr><td>365</td></tr><tr><td>366</td></tr><tr><td>367</td></tr><tr><td>368</td></tr><tr><td>369</td></tr><tr><td>370</td></tr><tr><td>371</td></tr><tr><td>372</td></tr><tr><td>373</td></tr><tr><td>374</td></tr><tr><td>375</td></tr><tr><td>376</td></tr><tr><td>377</td></tr><tr><td>378</td></tr><tr><td>379</td></tr><tr><td>380</td></tr><tr><td>381</td></tr><tr><td>382</td></tr><tr><td>383</td></tr><tr><td>384</td></tr><tr><td>385</td></tr><tr><td>386</td></tr><tr><td>387</td></tr><tr><td>388</td></tr><tr><td>389</td></tr><tr><td>390</td></tr><tr><td>391</td></tr><tr><td>392</td></tr><tr><td>393</td></tr><tr><td>394</td></tr><tr><td>395</td></tr><tr><td>396</td></tr><tr><td>397</td></tr><tr><td>398</td></tr><tr><td>399</td></tr><tr><td>400</td></tr><tr><td>401</td></tr><tr><td>402</td></tr><tr><td>403</td></tr><tr><td>404</td></tr><tr><td>405</td></tr><tr><td>406</td></tr><tr><td>407</td></tr><tr><td>408</td></tr><tr><td>409</td></tr><tr><td>410</td></tr><tr><td>411</td></tr><tr><td>412</td></tr><tr><td>413</td></tr><tr><td>414</td></tr><tr><td>415</td></tr><tr><td>416</td></tr><tr><td>417</td></tr><tr><td>418</td></tr><tr><td>419</td></tr><tr><td>420</td></tr><tr><td>421</td></tr><tr><td>422</td></tr><tr><td>423</td></tr><tr><td>424</td></tr><tr><td>425</td></tr><tr><td>426</td></tr><tr><td>427</td></tr><tr><td>428</td></tr><tr><td>429</td></tr><tr><td>430</td></tr><tr><td>431</td></tr><tr><td>432</td></tr><tr><td>433</td></tr><tr><td>434</td></tr><tr><td>435</td></tr><tr><td>436</td></tr><tr><td>437</td></tr><tr><td>438</td></tr><tr><td>439</td></tr><tr><td>440</td></tr><tr><td>441</td></tr><tr><td>442</td></tr><tr><td>443</td></tr><tr><td>444</td></tr><tr><td>445</td></tr><tr><td>446</td></tr><tr><td>447</td></tr><tr><td>448</td></tr><tr><td>449</td></tr><tr><td>450</td></tr><tr><td>451</td></tr><tr><td>452</td></tr><tr><td>453</td></tr><tr><td>454</td></tr><tr><td>455</td></tr><tr><td>456</td></tr><tr><td>457</td></tr><tr><td>458</td></tr><tr><td>459</td></tr><tr><td>460</td></tr><tr><td>461</td></tr><tr><td>462</td></tr><tr><td>463</td></tr><tr><td>464</td></tr><tr><td>465</td></tr><tr><td>466</td></tr><tr><td>467</td></tr><tr><td>468</td></tr><tr><td>469</td></tr><tr><td>470</td></tr><tr><td>471</td></tr><tr><td>472</td></tr><tr><td>473</td></tr><tr><td>474</td></tr><tr><td>475</td></tr><tr><td>476</td></tr><tr><td>477</td></tr><tr><td>478</td></tr><tr><td>479</td></tr><tr><td>480</td></tr><tr><td>481</td></tr><tr><td>482</td></tr><tr><td>483</td></tr><tr><td>484</td></tr><tr><td>485</td></tr><tr><td>486</td></tr><tr><td>487</td></tr><tr><td>488</td></tr><tr><td>489</td></tr><tr><td>490</td></tr><tr><td>491</td></tr><tr><td>492</td></tr><tr><td>493</td></tr><tr><td>494</td></tr><tr><td>495</td></tr><tr><td>496</td></tr><tr><td>497</td></tr><tr><td>504</td></tr><tr><td>505</td></tr><tr><td>506</td></tr><tr><td>507</td></tr><tr><td>508</td></tr><tr><td>509</td></tr><tr><td>510</td></tr><tr><td>511</td></tr><tr><td>512</td></tr><tr><td>513</td></tr><tr><td>514</td></tr><tr><td>515</td></tr><tr><td>516</td></tr><tr><td>517</td></tr><tr><td>518</td></tr><tr><td>519</td></tr><tr><td>520</td></tr><tr><td>521</td></tr><tr><td>522</td></tr><tr><td>523</td></tr><tr><td>524</td></tr><tr><td>525</td></tr><tr><td>526</td></tr><tr><td>527</td></tr><tr><td>528</td></tr><tr><td>529</td></tr><tr><td>530</td></tr><tr><td>531</td></tr><tr><td>532</td></tr><tr><td>533</td></tr><tr><td>534</td></tr><tr><td>535</td></tr><tr><td>679</td></tr><tr><td>680</td></tr><tr><td>706</td></tr></table>"
                    },
                    "metadata": {}
                }
            ],
            "execution_count": 19
        },
        {
            "cell_type": "markdown",
            "source": [
                "8\\. Query that returns names of shifts that have never been assigned to any employees\n",
                "\n",
                "Tables HumanResources.Employee and humanResources.Shift\n",
                "\n",
                "  \n",
                "\n",
                "      Chose this proposition to return shifts that have never been assigned to employees to see if there could be changed to schedule where there might be a gap in certain shifts"
            ],
            "metadata": {
                "azdata_cell_guid": "d69eae2e-146c-4372-bcfb-6f528778d588"
            },
            "attachments": {}
        },
        {
            "cell_type": "code",
            "source": [
                "USE AdventureWorks2017\n",
                "GO\n",
                "\n",
                "SELECT Name\n",
                "FROM HumanResources.Shift\n",
                "\n",
                "EXCEPT --intersent would do opposite\n",
                "\n",
                "SELECT DISTINCT hs.Name\n",
                "FROM HumanResources.EmployeeDepartmentHistory AS hed\n",
                "JOIN HumanResources.Shift AS hs\n",
                "ON hed.ShiftID = hs.ShiftID"
            ],
            "metadata": {
                "azdata_cell_guid": "239a8337-e492-4d1b-95af-6655b4e85088",
                "language": "sql"
            },
            "outputs": [
                {
                    "output_type": "display_data",
                    "data": {
                        "text/html": "Commands completed successfully."
                    },
                    "metadata": {}
                },
                {
                    "output_type": "display_data",
                    "data": {
                        "text/html": "(3 rows affected)"
                    },
                    "metadata": {}
                },
                {
                    "output_type": "display_data",
                    "data": {
                        "text/html": "Total execution time: 00:00:00.015"
                    },
                    "metadata": {}
                },
                {
                    "output_type": "execute_result",
                    "execution_count": 21,
                    "data": {
                        "application/vnd.dataresource+json": {
                            "schema": {
                                "fields": [
                                    {
                                        "name": "Name"
                                    }
                                ]
                            },
                            "data": [
                                {
                                    "Name": "Day"
                                },
                                {
                                    "Name": "Evening"
                                },
                                {
                                    "Name": "Night"
                                }
                            ]
                        },
                        "text/html": "<table><tr><th>Name</th></tr><tr><td>Day</td></tr><tr><td>Evening</td></tr><tr><td>Night</td></tr></table>"
                    },
                    "metadata": {}
                }
            ],
            "execution_count": 21
        },
        {
            "cell_type": "markdown",
            "source": [
                "9\\. Query where we get the full name of employees that finish work at 3pm\n",
                "\n",
                "TABLES: humanResources.EmployeeDepartmentHistory | person.person| humanResources.shift\n",
                "\n",
                "  \n",
                "\n",
                "      Decided to find which employees left at 3 pm to check if more or less employees will be needed, and so make shift adjustments based if theres too many leaving too early and later shifts are not covered"
            ],
            "metadata": {
                "azdata_cell_guid": "80bbb3fd-e35c-4f04-aef8-f21ffe75d1fa"
            },
            "attachments": {}
        },
        {
            "cell_type": "code",
            "source": [
                "USE AdventureWorks2017;\n",
                "GO\n",
                "\n",
                "SELECT DISTINCT p.FirstName, p.LastName\n",
                "FROM HumanResources.EmployeeDepartmentHistory edh\n",
                "JOIN Person.Person p ON edh.BusinessEntityID = p.BusinessEntityID\n",
                "\n",
                "INTERSECT\n",
                "\n",
                "\n",
                "(SELECT DISTINCT p.FirstName, p.LastName\n",
                "FROM HumanResources.EmployeeDepartmentHistory hed\n",
                "JOIN HumanResources.Shift s \n",
                "ON hed.ShiftID = s.ShiftID\n",
                "JOIN Person.Person p \n",
                "ON hed.BusinessEntityID = p.BusinessEntityID\n",
                "WHERE CAST(s.EndTime AS TIME) = '15:00:00'); "
            ],
            "metadata": {
                "azdata_cell_guid": "d605cc05-1008-42c0-be88-ae8dd9beed63",
                "language": "sql"
            },
            "outputs": [
                {
                    "output_type": "display_data",
                    "data": {
                        "text/html": "Commands completed successfully."
                    },
                    "metadata": {}
                },
                {
                    "output_type": "display_data",
                    "data": {
                        "text/html": "(176 rows affected)"
                    },
                    "metadata": {}
                },
                {
                    "output_type": "display_data",
                    "data": {
                        "text/html": "Total execution time: 00:00:00.021"
                    },
                    "metadata": {}
                },
                {
                    "output_type": "execute_result",
                    "execution_count": 30,
                    "data": {
                        "application/vnd.dataresource+json": {
                            "schema": {
                                "fields": [
                                    {
                                        "name": "FirstName"
                                    },
                                    {
                                        "name": "LastName"
                                    }
                                ]
                            },
                            "data": [
                                {
                                    "FirstName": "A. Scott",
                                    "LastName": "Wright"
                                },
                                {
                                    "FirstName": "Alejandro",
                                    "LastName": "McGuel"
                                },
                                {
                                    "FirstName": "Alex",
                                    "LastName": "Nayberg"
                                },
                                {
                                    "FirstName": "Alice",
                                    "LastName": "Ciccu"
                                },
                                {
                                    "FirstName": "Amy",
                                    "LastName": "Alberts"
                                },
                                {
                                    "FirstName": "Andrew",
                                    "LastName": "Cencini"
                                },
                                {
                                    "FirstName": "Andrew",
                                    "LastName": "Hill"
                                },
                                {
                                    "FirstName": "Angela",
                                    "LastName": "Barbariol"
                                },
                                {
                                    "FirstName": "Anibal",
                                    "LastName": "Sousa"
                                },
                                {
                                    "FirstName": "Annette",
                                    "LastName": "Hill"
                                },
                                {
                                    "FirstName": "Annik",
                                    "LastName": "Stahl"
                                },
                                {
                                    "FirstName": "Arvind",
                                    "LastName": "Rao"
                                },
                                {
                                    "FirstName": "Barbara",
                                    "LastName": "Moreland"
                                },
                                {
                                    "FirstName": "Barry",
                                    "LastName": "Johnson"
                                },
                                {
                                    "FirstName": "Ben",
                                    "LastName": "Miller"
                                },
                                {
                                    "FirstName": "Benjamin",
                                    "LastName": "Martin"
                                },
                                {
                                    "FirstName": "Bonnie",
                                    "LastName": "Kearney"
                                },
                                {
                                    "FirstName": "Brandon",
                                    "LastName": "Heidepriem"
                                },
                                {
                                    "FirstName": "Brenda",
                                    "LastName": "Diaz"
                                },
                                {
                                    "FirstName": "Brian",
                                    "LastName": "Lloyd"
                                },
                                {
                                    "FirstName": "Brian",
                                    "LastName": "Welcker"
                                },
                                {
                                    "FirstName": "Britta",
                                    "LastName": "Simon"
                                },
                                {
                                    "FirstName": "Bryan",
                                    "LastName": "Walton"
                                },
                                {
                                    "FirstName": "Candy",
                                    "LastName": "Spoon"
                                },
                                {
                                    "FirstName": "Chad",
                                    "LastName": "Niswonger"
                                },
                                {
                                    "FirstName": "Chris",
                                    "LastName": "Okelberry"
                                },
                                {
                                    "FirstName": "Chris",
                                    "LastName": "Preston"
                                },
                                {
                                    "FirstName": "Christian",
                                    "LastName": "Kleinerman"
                                },
                                {
                                    "FirstName": "Dan",
                                    "LastName": "Bacon"
                                },
                                {
                                    "FirstName": "Dan",
                                    "LastName": "Wilson"
                                },
                                {
                                    "FirstName": "David",
                                    "LastName": "Barber"
                                },
                                {
                                    "FirstName": "David",
                                    "LastName": "Bradley"
                                },
                                {
                                    "FirstName": "David",
                                    "LastName": "Campbell"
                                },
                                {
                                    "FirstName": "David",
                                    "LastName": "Johnson"
                                },
                                {
                                    "FirstName": "David",
                                    "LastName": "Lawrence"
                                },
                                {
                                    "FirstName": "David",
                                    "LastName": "Liu"
                                },
                                {
                                    "FirstName": "David",
                                    "LastName": "Yalovsky"
                                },
                                {
                                    "FirstName": "Deborah",
                                    "LastName": "Poe"
                                },
                                {
                                    "FirstName": "Diane",
                                    "LastName": "Glimp"
                                },
                                {
                                    "FirstName": "Diane",
                                    "LastName": "Margheim"
                                },
                                {
                                    "FirstName": "Don",
                                    "LastName": "Hall"
                                },
                                {
                                    "FirstName": "Doris",
                                    "LastName": "Hartwig"
                                },
                                {
                                    "FirstName": "Dragan",
                                    "LastName": "Tomic"
                                },
                                {
                                    "FirstName": "Dylan",
                                    "LastName": "Miller"
                                },
                                {
                                    "FirstName": "Ed",
                                    "LastName": "Dudenhoefer"
                                },
                                {
                                    "FirstName": "Eric",
                                    "LastName": "Gubbels"
                                },
                                {
                                    "FirstName": "Eric",
                                    "LastName": "Kurjan"
                                },
                                {
                                    "FirstName": "Erin",
                                    "LastName": "Hagens"
                                },
                                {
                                    "FirstName": "Eugene",
                                    "LastName": "Zabokritski"
                                },
                                {
                                    "FirstName": "François",
                                    "LastName": "Ajenstat"
                                },
                                {
                                    "FirstName": "Frank",
                                    "LastName": "Lee"
                                },
                                {
                                    "FirstName": "Frank",
                                    "LastName": "Pellow"
                                },
                                {
                                    "FirstName": "Fred",
                                    "LastName": "Northup"
                                },
                                {
                                    "FirstName": "Fukiko",
                                    "LastName": "Ogisu"
                                },
                                {
                                    "FirstName": "Gabe",
                                    "LastName": "Mares"
                                },
                                {
                                    "FirstName": "Gail",
                                    "LastName": "Erickson"
                                },
                                {
                                    "FirstName": "Garrett",
                                    "LastName": "Vargas"
                                },
                                {
                                    "FirstName": "Garrett",
                                    "LastName": "Young"
                                },
                                {
                                    "FirstName": "Gary",
                                    "LastName": "Altman"
                                },
                                {
                                    "FirstName": "George",
                                    "LastName": "Li"
                                },
                                {
                                    "FirstName": "Gigi",
                                    "LastName": "Matthew"
                                },
                                {
                                    "FirstName": "Gordon",
                                    "LastName": "Hee"
                                },
                                {
                                    "FirstName": "Grant",
                                    "LastName": "Culbertson"
                                },
                                {
                                    "FirstName": "Guy",
                                    "LastName": "Gilbert"
                                },
                                {
                                    "FirstName": "Hao",
                                    "LastName": "Chen"
                                },
                                {
                                    "FirstName": "Hazem",
                                    "LastName": "Abolrous"
                                },
                                {
                                    "FirstName": "Hung-Fu",
                                    "LastName": "Ting"
                                },
                                {
                                    "FirstName": "Ivo",
                                    "LastName": "Salmre"
                                },
                                {
                                    "FirstName": "Jack",
                                    "LastName": "Richins"
                                },
                                {
                                    "FirstName": "Jae",
                                    "LastName": "Pak"
                                },
                                {
                                    "FirstName": "James",
                                    "LastName": "Hamilton"
                                },
                                {
                                    "FirstName": "Jan",
                                    "LastName": "Miksovsky"
                                },
                                {
                                    "FirstName": "Janaina",
                                    "LastName": "Bueno"
                                },
                                {
                                    "FirstName": "Janet",
                                    "LastName": "Sheperdigian"
                                },
                                {
                                    "FirstName": "Janice",
                                    "LastName": "Galvin"
                                },
                                {
                                    "FirstName": "Jean",
                                    "LastName": "Trenary"
                                },
                                {
                                    "FirstName": "Jeff",
                                    "LastName": "Hay"
                                },
                                {
                                    "FirstName": "Jeffrey",
                                    "LastName": "Ford"
                                },
                                {
                                    "FirstName": "Jill",
                                    "LastName": "Williams"
                                },
                                {
                                    "FirstName": "Jillian",
                                    "LastName": "Carson"
                                },
                                {
                                    "FirstName": "Jimmy",
                                    "LastName": "Bischoff"
                                },
                                {
                                    "FirstName": "Jinghao",
                                    "LastName": "Liu"
                                },
                                {
                                    "FirstName": "Jo",
                                    "LastName": "Brown"
                                },
                                {
                                    "FirstName": "John",
                                    "LastName": "Evans"
                                },
                                {
                                    "FirstName": "John",
                                    "LastName": "Frum"
                                },
                                {
                                    "FirstName": "John",
                                    "LastName": "Wood"
                                },
                                {
                                    "FirstName": "Jose",
                                    "LastName": "Lugo"
                                },
                                {
                                    "FirstName": "José",
                                    "LastName": "Saraiva"
                                },
                                {
                                    "FirstName": "Jossef",
                                    "LastName": "Goldberg"
                                },
                                {
                                    "FirstName": "Jun",
                                    "LastName": "Cao"
                                },
                                {
                                    "FirstName": "Karen",
                                    "LastName": "Berg"
                                },
                                {
                                    "FirstName": "Karen",
                                    "LastName": "Berge"
                                },
                                {
                                    "FirstName": "Ken",
                                    "LastName": "Myer"
                                },
                                {
                                    "FirstName": "Ken",
                                    "LastName": "Sánchez"
                                },
                                {
                                    "FirstName": "Kevin",
                                    "LastName": "Brown"
                                },
                                {
                                    "FirstName": "Kevin",
                                    "LastName": "Liu"
                                },
                                {
                                    "FirstName": "Kim",
                                    "LastName": "Abercrombie"
                                },
                                {
                                    "FirstName": "Kirk",
                                    "LastName": "Koenigsbauer"
                                },
                                {
                                    "FirstName": "Kitti",
                                    "LastName": "Lertpiriyasuwat"
                                },
                                {
                                    "FirstName": "Krishna",
                                    "LastName": "Sunkammurali"
                                },
                                {
                                    "FirstName": "Laura",
                                    "LastName": "Norman"
                                },
                                {
                                    "FirstName": "Laura",
                                    "LastName": "Steele"
                                },
                                {
                                    "FirstName": "Linda",
                                    "LastName": "Meisner"
                                },
                                {
                                    "FirstName": "Linda",
                                    "LastName": "Mitchell"
                                },
                                {
                                    "FirstName": "Linda",
                                    "LastName": "Moschell"
                                },
                                {
                                    "FirstName": "Lorraine",
                                    "LastName": "Nay"
                                },
                                {
                                    "FirstName": "Lynn",
                                    "LastName": "Tsoflias"
                                },
                                {
                                    "FirstName": "Magnus",
                                    "LastName": "Hedlund"
                                },
                                {
                                    "FirstName": "Marc",
                                    "LastName": "Ingle"
                                },
                                {
                                    "FirstName": "Margie",
                                    "LastName": "Shoop"
                                },
                                {
                                    "FirstName": "Mark",
                                    "LastName": "Harrington"
                                },
                                {
                                    "FirstName": "Mark",
                                    "LastName": "McArthur"
                                },
                                {
                                    "FirstName": "Mary",
                                    "LastName": "Dempsey"
                                },
                                {
                                    "FirstName": "Mary",
                                    "LastName": "Gibson"
                                },
                                {
                                    "FirstName": "Matthias",
                                    "LastName": "Berndt"
                                },
                                {
                                    "FirstName": "Michael",
                                    "LastName": "Blythe"
                                },
                                {
                                    "FirstName": "Michael",
                                    "LastName": "Entin"
                                },
                                {
                                    "FirstName": "Michael",
                                    "LastName": "Patten"
                                },
                                {
                                    "FirstName": "Michael",
                                    "LastName": "Raheem"
                                },
                                {
                                    "FirstName": "Michael",
                                    "LastName": "Sullivan"
                                },
                                {
                                    "FirstName": "Mikael",
                                    "LastName": "Sandberg"
                                },
                                {
                                    "FirstName": "Mike",
                                    "LastName": "Seamans"
                                },
                                {
                                    "FirstName": "Min",
                                    "LastName": "Su"
                                },
                                {
                                    "FirstName": "Mindaugas",
                                    "LastName": "Krapauskas"
                                },
                                {
                                    "FirstName": "Mindy",
                                    "LastName": "Martin"
                                },
                                {
                                    "FirstName": "Olinda",
                                    "LastName": "Turner"
                                },
                                {
                                    "FirstName": "Ovidiu",
                                    "LastName": "Cracium"
                                },
                                {
                                    "FirstName": "Pamela",
                                    "LastName": "Ansman-Wolfe"
                                },
                                {
                                    "FirstName": "Paul",
                                    "LastName": "Singh"
                                },
                                {
                                    "FirstName": "Paula",
                                    "LastName": "Barreto de Mattos"
                                },
                                {
                                    "FirstName": "Paula",
                                    "LastName": "Nartker"
                                },
                                {
                                    "FirstName": "Peng",
                                    "LastName": "Wu"
                                },
                                {
                                    "FirstName": "Peter",
                                    "LastName": "Connelly"
                                },
                                {
                                    "FirstName": "Peter",
                                    "LastName": "Krebs"
                                },
                                {
                                    "FirstName": "Pilar",
                                    "LastName": "Ackerman"
                                },
                                {
                                    "FirstName": "Prasanna",
                                    "LastName": "Samarawickrama"
                                },
                                {
                                    "FirstName": "Rachel",
                                    "LastName": "Valdez"
                                },
                                {
                                    "FirstName": "Rajesh",
                                    "LastName": "Patel"
                                },
                                {
                                    "FirstName": "Ramesh",
                                    "LastName": "Meyyappan"
                                },
                                {
                                    "FirstName": "Ranjit",
                                    "LastName": "Varkey Chudukatil"
                                },
                                {
                                    "FirstName": "Rebecca",
                                    "LastName": "Laszlo"
                                },
                                {
                                    "FirstName": "Reed",
                                    "LastName": "Koch"
                                },
                                {
                                    "FirstName": "Reinout",
                                    "LastName": "Hillmann"
                                },
                                {
                                    "FirstName": "Rob",
                                    "LastName": "Walters"
                                },
                                {
                                    "FirstName": "Roberto",
                                    "LastName": "Tamburello"
                                },
                                {
                                    "FirstName": "Russell",
                                    "LastName": "King"
                                },
                                {
                                    "FirstName": "Ruth",
                                    "LastName": "Ellerbrock"
                                },
                                {
                                    "FirstName": "Sairaj",
                                    "LastName": "Uddin"
                                },
                                {
                                    "FirstName": "Samantha",
                                    "LastName": "Smith"
                                },
                                {
                                    "FirstName": "Sariya",
                                    "LastName": "Harnpadoungsataya"
                                },
                                {
                                    "FirstName": "Sean",
                                    "LastName": "Alexander"
                                },
                                {
                                    "FirstName": "Sean",
                                    "LastName": "Chai"
                                },
                                {
                                    "FirstName": "Shammi",
                                    "LastName": "Mohamed"
                                },
                                {
                                    "FirstName": "Sharon",
                                    "LastName": "Salavaria"
                                },
                                {
                                    "FirstName": "Sheela",
                                    "LastName": "Word"
                                },
                                {
                                    "FirstName": "Shu",
                                    "LastName": "Ito"
                                },
                                {
                                    "FirstName": "Sidney",
                                    "LastName": "Higa"
                                },
                                {
                                    "FirstName": "Stephanie",
                                    "LastName": "Conroy"
                                },
                                {
                                    "FirstName": "Stephen",
                                    "LastName": "Jiang"
                                },
                                {
                                    "FirstName": "Suchitra",
                                    "LastName": "Mohan"
                                },
                                {
                                    "FirstName": "Suroor",
                                    "LastName": "Fatima"
                                },
                                {
                                    "FirstName": "Susan",
                                    "LastName": "Metters"
                                },
                                {
                                    "FirstName": "Syed",
                                    "LastName": "Abbas"
                                },
                                {
                                    "FirstName": "Sylvester",
                                    "LastName": "Valdez"
                                },
                                {
                                    "FirstName": "Tawana",
                                    "LastName": "Nusbaum"
                                },
                                {
                                    "FirstName": "Terri",
                                    "LastName": "Duffy"
                                },
                                {
                                    "FirstName": "Terry",
                                    "LastName": "Eminhizer"
                                },
                                {
                                    "FirstName": "Tete",
                                    "LastName": "Mensa-Annan"
                                },
                                {
                                    "FirstName": "Thierry",
                                    "LastName": "D'Hers"
                                },
                                {
                                    "FirstName": "Tsvi",
                                    "LastName": "Reiter"
                                },
                                {
                                    "FirstName": "Vidur",
                                    "LastName": "Luthra"
                                },
                                {
                                    "FirstName": "Wanida",
                                    "LastName": "Benshoof"
                                },
                                {
                                    "FirstName": "Wendy",
                                    "LastName": "Kahn"
                                },
                                {
                                    "FirstName": "William",
                                    "LastName": "Vong"
                                },
                                {
                                    "FirstName": "Willis",
                                    "LastName": "Johnson"
                                },
                                {
                                    "FirstName": "Zainal",
                                    "LastName": "Arifin"
                                }
                            ]
                        },
                        "text/html": "<table><tr><th>FirstName</th><th>LastName</th></tr><tr><td>A. Scott</td><td>Wright</td></tr><tr><td>Alejandro</td><td>McGuel</td></tr><tr><td>Alex</td><td>Nayberg</td></tr><tr><td>Alice</td><td>Ciccu</td></tr><tr><td>Amy</td><td>Alberts</td></tr><tr><td>Andrew</td><td>Cencini</td></tr><tr><td>Andrew</td><td>Hill</td></tr><tr><td>Angela</td><td>Barbariol</td></tr><tr><td>Anibal</td><td>Sousa</td></tr><tr><td>Annette</td><td>Hill</td></tr><tr><td>Annik</td><td>Stahl</td></tr><tr><td>Arvind</td><td>Rao</td></tr><tr><td>Barbara</td><td>Moreland</td></tr><tr><td>Barry</td><td>Johnson</td></tr><tr><td>Ben</td><td>Miller</td></tr><tr><td>Benjamin</td><td>Martin</td></tr><tr><td>Bonnie</td><td>Kearney</td></tr><tr><td>Brandon</td><td>Heidepriem</td></tr><tr><td>Brenda</td><td>Diaz</td></tr><tr><td>Brian</td><td>Lloyd</td></tr><tr><td>Brian</td><td>Welcker</td></tr><tr><td>Britta</td><td>Simon</td></tr><tr><td>Bryan</td><td>Walton</td></tr><tr><td>Candy</td><td>Spoon</td></tr><tr><td>Chad</td><td>Niswonger</td></tr><tr><td>Chris</td><td>Okelberry</td></tr><tr><td>Chris</td><td>Preston</td></tr><tr><td>Christian</td><td>Kleinerman</td></tr><tr><td>Dan</td><td>Bacon</td></tr><tr><td>Dan</td><td>Wilson</td></tr><tr><td>David</td><td>Barber</td></tr><tr><td>David</td><td>Bradley</td></tr><tr><td>David</td><td>Campbell</td></tr><tr><td>David</td><td>Johnson</td></tr><tr><td>David</td><td>Lawrence</td></tr><tr><td>David</td><td>Liu</td></tr><tr><td>David</td><td>Yalovsky</td></tr><tr><td>Deborah</td><td>Poe</td></tr><tr><td>Diane</td><td>Glimp</td></tr><tr><td>Diane</td><td>Margheim</td></tr><tr><td>Don</td><td>Hall</td></tr><tr><td>Doris</td><td>Hartwig</td></tr><tr><td>Dragan</td><td>Tomic</td></tr><tr><td>Dylan</td><td>Miller</td></tr><tr><td>Ed</td><td>Dudenhoefer</td></tr><tr><td>Eric</td><td>Gubbels</td></tr><tr><td>Eric</td><td>Kurjan</td></tr><tr><td>Erin</td><td>Hagens</td></tr><tr><td>Eugene</td><td>Zabokritski</td></tr><tr><td>François</td><td>Ajenstat</td></tr><tr><td>Frank</td><td>Lee</td></tr><tr><td>Frank</td><td>Pellow</td></tr><tr><td>Fred</td><td>Northup</td></tr><tr><td>Fukiko</td><td>Ogisu</td></tr><tr><td>Gabe</td><td>Mares</td></tr><tr><td>Gail</td><td>Erickson</td></tr><tr><td>Garrett</td><td>Vargas</td></tr><tr><td>Garrett</td><td>Young</td></tr><tr><td>Gary</td><td>Altman</td></tr><tr><td>George</td><td>Li</td></tr><tr><td>Gigi</td><td>Matthew</td></tr><tr><td>Gordon</td><td>Hee</td></tr><tr><td>Grant</td><td>Culbertson</td></tr><tr><td>Guy</td><td>Gilbert</td></tr><tr><td>Hao</td><td>Chen</td></tr><tr><td>Hazem</td><td>Abolrous</td></tr><tr><td>Hung-Fu</td><td>Ting</td></tr><tr><td>Ivo</td><td>Salmre</td></tr><tr><td>Jack</td><td>Richins</td></tr><tr><td>Jae</td><td>Pak</td></tr><tr><td>James</td><td>Hamilton</td></tr><tr><td>Jan</td><td>Miksovsky</td></tr><tr><td>Janaina</td><td>Bueno</td></tr><tr><td>Janet</td><td>Sheperdigian</td></tr><tr><td>Janice</td><td>Galvin</td></tr><tr><td>Jean</td><td>Trenary</td></tr><tr><td>Jeff</td><td>Hay</td></tr><tr><td>Jeffrey</td><td>Ford</td></tr><tr><td>Jill</td><td>Williams</td></tr><tr><td>Jillian</td><td>Carson</td></tr><tr><td>Jimmy</td><td>Bischoff</td></tr><tr><td>Jinghao</td><td>Liu</td></tr><tr><td>Jo</td><td>Brown</td></tr><tr><td>John</td><td>Evans</td></tr><tr><td>John</td><td>Frum</td></tr><tr><td>John</td><td>Wood</td></tr><tr><td>Jose</td><td>Lugo</td></tr><tr><td>José</td><td>Saraiva</td></tr><tr><td>Jossef</td><td>Goldberg</td></tr><tr><td>Jun</td><td>Cao</td></tr><tr><td>Karen</td><td>Berg</td></tr><tr><td>Karen</td><td>Berge</td></tr><tr><td>Ken</td><td>Myer</td></tr><tr><td>Ken</td><td>Sánchez</td></tr><tr><td>Kevin</td><td>Brown</td></tr><tr><td>Kevin</td><td>Liu</td></tr><tr><td>Kim</td><td>Abercrombie</td></tr><tr><td>Kirk</td><td>Koenigsbauer</td></tr><tr><td>Kitti</td><td>Lertpiriyasuwat</td></tr><tr><td>Krishna</td><td>Sunkammurali</td></tr><tr><td>Laura</td><td>Norman</td></tr><tr><td>Laura</td><td>Steele</td></tr><tr><td>Linda</td><td>Meisner</td></tr><tr><td>Linda</td><td>Mitchell</td></tr><tr><td>Linda</td><td>Moschell</td></tr><tr><td>Lorraine</td><td>Nay</td></tr><tr><td>Lynn</td><td>Tsoflias</td></tr><tr><td>Magnus</td><td>Hedlund</td></tr><tr><td>Marc</td><td>Ingle</td></tr><tr><td>Margie</td><td>Shoop</td></tr><tr><td>Mark</td><td>Harrington</td></tr><tr><td>Mark</td><td>McArthur</td></tr><tr><td>Mary</td><td>Dempsey</td></tr><tr><td>Mary</td><td>Gibson</td></tr><tr><td>Matthias</td><td>Berndt</td></tr><tr><td>Michael</td><td>Blythe</td></tr><tr><td>Michael</td><td>Entin</td></tr><tr><td>Michael</td><td>Patten</td></tr><tr><td>Michael</td><td>Raheem</td></tr><tr><td>Michael</td><td>Sullivan</td></tr><tr><td>Mikael</td><td>Sandberg</td></tr><tr><td>Mike</td><td>Seamans</td></tr><tr><td>Min</td><td>Su</td></tr><tr><td>Mindaugas</td><td>Krapauskas</td></tr><tr><td>Mindy</td><td>Martin</td></tr><tr><td>Olinda</td><td>Turner</td></tr><tr><td>Ovidiu</td><td>Cracium</td></tr><tr><td>Pamela</td><td>Ansman-Wolfe</td></tr><tr><td>Paul</td><td>Singh</td></tr><tr><td>Paula</td><td>Barreto de Mattos</td></tr><tr><td>Paula</td><td>Nartker</td></tr><tr><td>Peng</td><td>Wu</td></tr><tr><td>Peter</td><td>Connelly</td></tr><tr><td>Peter</td><td>Krebs</td></tr><tr><td>Pilar</td><td>Ackerman</td></tr><tr><td>Prasanna</td><td>Samarawickrama</td></tr><tr><td>Rachel</td><td>Valdez</td></tr><tr><td>Rajesh</td><td>Patel</td></tr><tr><td>Ramesh</td><td>Meyyappan</td></tr><tr><td>Ranjit</td><td>Varkey Chudukatil</td></tr><tr><td>Rebecca</td><td>Laszlo</td></tr><tr><td>Reed</td><td>Koch</td></tr><tr><td>Reinout</td><td>Hillmann</td></tr><tr><td>Rob</td><td>Walters</td></tr><tr><td>Roberto</td><td>Tamburello</td></tr><tr><td>Russell</td><td>King</td></tr><tr><td>Ruth</td><td>Ellerbrock</td></tr><tr><td>Sairaj</td><td>Uddin</td></tr><tr><td>Samantha</td><td>Smith</td></tr><tr><td>Sariya</td><td>Harnpadoungsataya</td></tr><tr><td>Sean</td><td>Alexander</td></tr><tr><td>Sean</td><td>Chai</td></tr><tr><td>Shammi</td><td>Mohamed</td></tr><tr><td>Sharon</td><td>Salavaria</td></tr><tr><td>Sheela</td><td>Word</td></tr><tr><td>Shu</td><td>Ito</td></tr><tr><td>Sidney</td><td>Higa</td></tr><tr><td>Stephanie</td><td>Conroy</td></tr><tr><td>Stephen</td><td>Jiang</td></tr><tr><td>Suchitra</td><td>Mohan</td></tr><tr><td>Suroor</td><td>Fatima</td></tr><tr><td>Susan</td><td>Metters</td></tr><tr><td>Syed</td><td>Abbas</td></tr><tr><td>Sylvester</td><td>Valdez</td></tr><tr><td>Tawana</td><td>Nusbaum</td></tr><tr><td>Terri</td><td>Duffy</td></tr><tr><td>Terry</td><td>Eminhizer</td></tr><tr><td>Tete</td><td>Mensa-Annan</td></tr><tr><td>Thierry</td><td>D&#39;Hers</td></tr><tr><td>Tsvi</td><td>Reiter</td></tr><tr><td>Vidur</td><td>Luthra</td></tr><tr><td>Wanida</td><td>Benshoof</td></tr><tr><td>Wendy</td><td>Kahn</td></tr><tr><td>William</td><td>Vong</td></tr><tr><td>Willis</td><td>Johnson</td></tr><tr><td>Zainal</td><td>Arifin</td></tr></table>"
                    },
                    "metadata": {}
                }
            ],
            "execution_count": 30
        },
        {
            "cell_type": "markdown",
            "source": [
                "10. Query where there were offers in 2013 except 2014\n",
                "\n",
                "      Wanted to see what kind of offers were in year 2013 but not in 2014 useful to know as from there we might be able to find what its Items sell more than others during special pricing offers"
            ],
            "metadata": {
                "azdata_cell_guid": "0ae8b92b-2bfb-427e-880a-f5de5ec2faa5"
            },
            "attachments": {}
        },
        {
            "cell_type": "code",
            "source": [
                "USE AdventureWorks2017;\n",
                "GO\n",
                "\n",
                "-- Offers that started in 2013\n",
                "SELECT Description\n",
                "FROM Sales.SpecialOffer\n",
                "WHERE StartDate >= '2013-01-01' AND StartDate < '2014-01-01'\n",
                "\n",
                "EXCEPT\n",
                "\n",
                "-- Offers that started in 2014\n",
                "SELECT Description\n",
                "FROM Sales.SpecialOffer\n",
                "WHERE StartDate >= '2014-01-01' AND StartDate < '2015-01-01';\n",
                ""
            ],
            "metadata": {
                "azdata_cell_guid": "51bfbe24-f1ff-4c2a-9da7-263ea1f40abe",
                "language": "sql"
            },
            "outputs": [
                {
                    "output_type": "display_data",
                    "data": {
                        "text/html": "Commands completed successfully."
                    },
                    "metadata": {}
                },
                {
                    "output_type": "display_data",
                    "data": {
                        "text/html": "(6 rows affected)"
                    },
                    "metadata": {}
                },
                {
                    "output_type": "display_data",
                    "data": {
                        "text/html": "Total execution time: 00:00:00.012"
                    },
                    "metadata": {}
                },
                {
                    "output_type": "execute_result",
                    "metadata": {},
                    "execution_count": 6,
                    "data": {
                        "application/vnd.dataresource+json": {
                            "schema": {
                                "fields": [
                                    {
                                        "name": "Description"
                                    }
                                ]
                            },
                            "data": [
                                {
                                    "Description": "Half-Price Pedal Sale"
                                },
                                {
                                    "Description": "LL Road Frame Sale"
                                },
                                {
                                    "Description": "Mountain Tire Sale"
                                },
                                {
                                    "Description": "Sport Helmet Discount-2003"
                                },
                                {
                                    "Description": "Touring-1000 Promotion"
                                },
                                {
                                    "Description": "Touring-3000 Promotion"
                                }
                            ]
                        },
                        "text/html": [
                            "<table>",
                            "<tr><th>Description</th></tr>",
                            "<tr><td>Half-Price Pedal Sale</td></tr>",
                            "<tr><td>LL Road Frame Sale</td></tr>",
                            "<tr><td>Mountain Tire Sale</td></tr>",
                            "<tr><td>Sport Helmet Discount-2003</td></tr>",
                            "<tr><td>Touring-1000 Promotion</td></tr>",
                            "<tr><td>Touring-3000 Promotion</td></tr>",
                            "</table>"
                        ]
                    }
                }
            ],
            "execution_count": 6
        }
    ]
}