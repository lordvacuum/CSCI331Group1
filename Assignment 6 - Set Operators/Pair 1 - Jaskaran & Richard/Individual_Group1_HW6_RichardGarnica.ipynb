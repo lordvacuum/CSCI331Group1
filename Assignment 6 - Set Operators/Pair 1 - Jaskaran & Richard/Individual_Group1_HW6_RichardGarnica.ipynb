{
    "metadata": {
        "kernelspec": {
            "name": "SQL",
            "display_name": "SQL",
            "language": "sql"
        },
        "language_info": {
            "name": "sql",
            "version": ""
        }
    },
    "nbformat_minor": 2,
    "nbformat": 4,
    "cells": [
        {
            "cell_type": "markdown",
            "source": [
                "Proposition1: There are more type 1 shifts than any other shifts\n",
                "\n",
                "This query counts the total # of shifts in each type of shift denoted by shiftID 1 is morning, 2 is afternoon, 3 is evening\n",
                "\n",
                "a subquery and union all are used to combine the shiftID values from two tables. Then the outer query simply counts the # of times a shiftID\n",
                "\n",
                "appears for each shiftID. As a final result, we will be getting back a table showcasing the shiftID along with the <span style=\"font-family: -apple-system, BlinkMacSystemFont, sans-serif; color: var(--vscode-foreground);\"># of shifts associated with it with it being ordered from highest to least</span>"
            ],
            "metadata": {
                "language": "sql",
                "azdata_cell_guid": "b9d9166a-a849-400b-a90e-eecf1aa66c6c"
            },
            "attachments": {}
        },
        {
            "cell_type": "code",
            "source": [
                "USE AdventureWorks2019\n",
                "Go\n",
                "\n",
                "SELECT ShiftID, COUNT(ShiftID) AS ShiftCount\n",
                "FROM (\n",
                "            SELECT ShiftID\n",
                "        FROM HumanResources.Shift\n",
                "\n",
                "    UNION ALL\n",
                "    \n",
                "        SELECT ShiftID\n",
                "        FROM HumanResources.EmployeeDepartmentHistory\n",
                ") AS DataUsed\n",
                "GROUP BY ShiftID\n",
                "ORDER BY ShiftCount DESC;"
            ],
            "metadata": {
                "azdata_cell_guid": "7436930a-1f4d-433c-8523-463bad88a206",
                "language": "sql"
            },
            "outputs": [
                {
                    "output_type": "display_data",
                    "data": {
                        "text/html": "Commands completed successfully."
                    },
                    "metadata": {}
                },
                {
                    "output_type": "display_data",
                    "data": {
                        "text/html": "(3 rows affected)"
                    },
                    "metadata": {}
                },
                {
                    "output_type": "display_data",
                    "data": {
                        "text/html": "Total execution time: 00:00:00.003"
                    },
                    "metadata": {}
                },
                {
                    "output_type": "execute_result",
                    "metadata": {},
                    "execution_count": 62,
                    "data": {
                        "application/vnd.dataresource+json": {
                            "schema": {
                                "fields": [
                                    {
                                        "name": "ShiftID"
                                    },
                                    {
                                        "name": "ShiftCount"
                                    }
                                ]
                            },
                            "data": [
                                {
                                    "ShiftID": "1",
                                    "ShiftCount": "183"
                                },
                                {
                                    "ShiftID": "2",
                                    "ShiftCount": "63"
                                },
                                {
                                    "ShiftID": "3",
                                    "ShiftCount": "53"
                                }
                            ]
                        },
                        "text/html": [
                            "<table>",
                            "<tr><th>ShiftID</th><th>ShiftCount</th></tr>",
                            "<tr><td>1</td><td>183</td></tr>",
                            "<tr><td>2</td><td>63</td></tr>",
                            "<tr><td>3</td><td>53</td></tr>",
                            "</table>"
                        ]
                    }
                }
            ],
            "execution_count": 62
        },
        {
            "cell_type": "markdown",
            "source": [
                "Proposition 2: SuperiorCard is the most frequently used card\n",
                "\n",
                "This query uses a subquery with a union all to combine the creditcardIDs and cardtype from each table, which one of the tables don't have the right column, so we fill it in by assigning it a phrase along with giving it an alias of cardtype to keep it consistent.\n",
                "\n",
                "Union all is used to include all rows from both tables that way the number of appearances is right. The main query than counts the cardtypes (COUNT(\\*) as cardtypecount) and will spew out a table in descending order showing the total # of cards and than lists the card with their number of appearances"
            ],
            "metadata": {
                "language": "sql",
                "azdata_cell_guid": "aa49e058-4f84-4499-8c05-67e446e5894a"
            },
            "attachments": {}
        },
        {
            "cell_type": "code",
            "source": [
                "USE AdventureWorks2019\n",
                "GO\n",
                "\n",
                "SELECT CardType, COUNT(*) as CardTypeCount\n",
                "FROM (\n",
                "            SELECT CreditCardID, CardType\n",
                "        FROM sales.CreditCard\n",
                "\n",
                "    UNION ALL\n",
                "\n",
                "        SELECT CreditCardID, 'total # of cards' as cardtype\n",
                "        FROM Sales.PersonCreditCard\n",
                ") AS CreditCard\n",
                "GRoup BY CardType\n",
                "ORDER BY CardTypeCount DESC"
            ],
            "metadata": {
                "azdata_cell_guid": "7fee3acb-b163-4fb7-86bc-a4ca28896b77",
                "language": "sql",
                "tags": []
            },
            "outputs": [
                {
                    "output_type": "display_data",
                    "data": {
                        "text/html": "Commands completed successfully."
                    },
                    "metadata": {}
                },
                {
                    "output_type": "display_data",
                    "data": {
                        "text/html": "(5 rows affected)"
                    },
                    "metadata": {}
                },
                {
                    "output_type": "display_data",
                    "data": {
                        "text/html": "Total execution time: 00:00:00.037"
                    },
                    "metadata": {}
                },
                {
                    "output_type": "execute_result",
                    "metadata": {},
                    "execution_count": 42,
                    "data": {
                        "application/vnd.dataresource+json": {
                            "schema": {
                                "fields": [
                                    {
                                        "name": "CardType"
                                    },
                                    {
                                        "name": "CardTypeCount"
                                    }
                                ]
                            },
                            "data": [
                                {
                                    "CardType": "total # of cards",
                                    "CardTypeCount": "19118"
                                },
                                {
                                    "CardType": "SuperiorCard",
                                    "CardTypeCount": "4839"
                                },
                                {
                                    "CardType": "Distinguish",
                                    "CardTypeCount": "4832"
                                },
                                {
                                    "CardType": "ColonialVoice",
                                    "CardTypeCount": "4782"
                                },
                                {
                                    "CardType": "Vista",
                                    "CardTypeCount": "4665"
                                }
                            ]
                        },
                        "text/html": [
                            "<table>",
                            "<tr><th>CardType</th><th>CardTypeCount</th></tr>",
                            "<tr><td>total # of cards</td><td>19118</td></tr>",
                            "<tr><td>SuperiorCard</td><td>4839</td></tr>",
                            "<tr><td>Distinguish</td><td>4832</td></tr>",
                            "<tr><td>ColonialVoice</td><td>4782</td></tr>",
                            "<tr><td>Vista</td><td>4665</td></tr>",
                            "</table>"
                        ]
                    }
                }
            ],
            "execution_count": 42
        },
        {
            "cell_type": "markdown",
            "source": [
                "Proposition 3: There are only two individuals that are being considered for a job at two different businesses\n",
                "\n",
                "This query is used to show who is currently in the middle of being considered for a job. The intersect set operator is used here between two to find the shared BusinessEntityID from both tables and returns a table showing the common BusinessEntityIDs which are to be interpreted as candidates for a job"
            ],
            "metadata": {
                "azdata_cell_guid": "9867a725-2bf9-4faf-9d07-4793b1722b16"
            },
            "attachments": {}
        },
        {
            "cell_type": "code",
            "source": [
                "USE AdventureWorks2019\n",
                "GO\n",
                "\n",
                "    SELECT BusinessEntityID\n",
                "    FROM Person.BusinessEntity\n",
                "INTERSECT\n",
                "    SELECT BusinessEntityID\n",
                "    FROM HumanResources.JobCandidate;"
            ],
            "metadata": {
                "azdata_cell_guid": "7b5f818d-8972-47c7-beca-ad85381ba43c",
                "language": "sql",
                "tags": []
            },
            "outputs": [
                {
                    "output_type": "display_data",
                    "data": {
                        "text/html": "Commands completed successfully."
                    },
                    "metadata": {}
                },
                {
                    "output_type": "display_data",
                    "data": {
                        "text/html": "(2 rows affected)"
                    },
                    "metadata": {}
                },
                {
                    "output_type": "display_data",
                    "data": {
                        "text/html": "Total execution time: 00:00:00.028"
                    },
                    "metadata": {}
                },
                {
                    "output_type": "execute_result",
                    "metadata": {},
                    "execution_count": 4,
                    "data": {
                        "application/vnd.dataresource+json": {
                            "schema": {
                                "fields": [
                                    {
                                        "name": "BusinessEntityID"
                                    }
                                ]
                            },
                            "data": [
                                {
                                    "BusinessEntityID": "212"
                                },
                                {
                                    "BusinessEntityID": "274"
                                }
                            ]
                        },
                        "text/html": [
                            "<table>",
                            "<tr><th>BusinessEntityID</th></tr>",
                            "<tr><td>212</td></tr>",
                            "<tr><td>274</td></tr>",
                            "</table>"
                        ]
                    }
                }
            ],
            "execution_count": 4
        },
        {
            "cell_type": "markdown",
            "source": [
                "Proposition 4: There are some products below their reorder Point\n",
                "\n",
                "This query shows products that have inventory below their reorder point\n",
                "\n",
                "The first select statement is used to get the ID, reorderPoint and quantity of products on table. The JOIN statement connects the current table (product) to the other one (ProductInventory) by the product ID. \n",
                "\n",
                "The second select statement essentially does the same, but this time focuses on where the inventory is greater than the reorder level\n",
                "\n",
                "The except operator used is to remove products where the inventory is greater than the reorder point\n",
                "\n",
                "final output is a table that shows productID, Reorder Point and Quantity"
            ],
            "metadata": {
                "azdata_cell_guid": "653ec8e2-e765-409b-94b2-3101938c9d49"
            },
            "attachments": {}
        },
        {
            "cell_type": "code",
            "source": [
                "USE AdventureWorks2019\n",
                "GO\n",
                "\n",
                "--gets the product information needed for the query \n",
                "    SELECT\n",
                "        p.ProductID,\n",
                "        p.ReorderPoint,\n",
                "        pi.Quantity\n",
                "    FROM\n",
                "        Production.Product AS p\n",
                "        JOIN Production.ProductInventory pi\n",
                "        ON p.ProductID = pi.ProductID\n",
                "\n",
                "EXCEPT\n",
                "\n",
                "    -- gets the products where Quantity is less than or equal to the reorder point\n",
                "    SELECT\n",
                "        p.ProductID,\n",
                "        p.ReorderPoint,\n",
                "        pi.Quantity\n",
                "    FROM Production.Product AS p\n",
                "        JOIN Production.ProductInventory AS pi\n",
                "        ON p.ProductID = pi.ProductID\n",
                "    WHERE pi.Quantity > p.ReorderPoint\n",
                "ORDER BY ProductID;"
            ],
            "metadata": {
                "azdata_cell_guid": "cb5d4724-a681-4f0d-9040-e9a73d11fd60",
                "language": "sql"
            },
            "outputs": [
                {
                    "output_type": "display_data",
                    "data": {
                        "text/html": "Commands completed successfully."
                    },
                    "metadata": {}
                },
                {
                    "output_type": "display_data",
                    "data": {
                        "text/html": "(859 rows affected)"
                    },
                    "metadata": {}
                },
                {
                    "output_type": "display_data",
                    "data": {
                        "text/html": "Total execution time: 00:00:00.056"
                    },
                    "metadata": {}
                },
                {
                    "output_type": "execute_result",
                    "metadata": {},
                    "execution_count": 67,
                    "data": {
                        "application/vnd.dataresource+json": {
                            "schema": {
                                "fields": [
                                    {
                                        "name": "ProductID"
                                    },
                                    {
                                        "name": "ReorderPoint"
                                    },
                                    {
                                        "name": "Quantity"
                                    }
                                ]
                            },
                            "data": [
                                {
                                    "ProductID": "1",
                                    "ReorderPoint": "750",
                                    "Quantity": "324"
                                },
                                {
                                    "ProductID": "1",
                                    "ReorderPoint": "750",
                                    "Quantity": "353"
                                },
                                {
                                    "ProductID": "1",
                                    "ReorderPoint": "750",
                                    "Quantity": "408"
                                },
                                {
                                    "ProductID": "2",
                                    "ReorderPoint": "750",
                                    "Quantity": "318"
                                },
                                {
                                    "ProductID": "2",
                                    "ReorderPoint": "750",
                                    "Quantity": "364"
                                },
                                {
                                    "ProductID": "2",
                                    "ReorderPoint": "750",
                                    "Quantity": "427"
                                },
                                {
                                    "ProductID": "3",
                                    "ReorderPoint": "600",
                                    "Quantity": "324"
                                },
                                {
                                    "ProductID": "3",
                                    "ReorderPoint": "600",
                                    "Quantity": "443"
                                },
                                {
                                    "ProductID": "3",
                                    "ReorderPoint": "600",
                                    "Quantity": "585"
                                },
                                {
                                    "ProductID": "4",
                                    "ReorderPoint": "600",
                                    "Quantity": "388"
                                },
                                {
                                    "ProductID": "4",
                                    "ReorderPoint": "600",
                                    "Quantity": "422"
                                },
                                {
                                    "ProductID": "4",
                                    "ReorderPoint": "600",
                                    "Quantity": "512"
                                },
                                {
                                    "ProductID": "316",
                                    "ReorderPoint": "600",
                                    "Quantity": "388"
                                },
                                {
                                    "ProductID": "316",
                                    "ReorderPoint": "600",
                                    "Quantity": "441"
                                },
                                {
                                    "ProductID": "316",
                                    "ReorderPoint": "600",
                                    "Quantity": "532"
                                },
                                {
                                    "ProductID": "317",
                                    "ReorderPoint": "375",
                                    "Quantity": "152"
                                },
                                {
                                    "ProductID": "317",
                                    "ReorderPoint": "375",
                                    "Quantity": "158"
                                },
                                {
                                    "ProductID": "317",
                                    "ReorderPoint": "375",
                                    "Quantity": "283"
                                },
                                {
                                    "ProductID": "318",
                                    "ReorderPoint": "375",
                                    "Quantity": "132"
                                },
                                {
                                    "ProductID": "318",
                                    "ReorderPoint": "375",
                                    "Quantity": "136"
                                },
                                {
                                    "ProductID": "318",
                                    "ReorderPoint": "375",
                                    "Quantity": "171"
                                },
                                {
                                    "ProductID": "319",
                                    "ReorderPoint": "375",
                                    "Quantity": "184"
                                },
                                {
                                    "ProductID": "319",
                                    "ReorderPoint": "375",
                                    "Quantity": "305"
                                },
                                {
                                    "ProductID": "319",
                                    "ReorderPoint": "375",
                                    "Quantity": "308"
                                },
                                {
                                    "ProductID": "320",
                                    "ReorderPoint": "750",
                                    "Quantity": "283"
                                },
                                {
                                    "ProductID": "320",
                                    "ReorderPoint": "750",
                                    "Quantity": "372"
                                },
                                {
                                    "ProductID": "320",
                                    "ReorderPoint": "750",
                                    "Quantity": "481"
                                },
                                {
                                    "ProductID": "321",
                                    "ReorderPoint": "750",
                                    "Quantity": "540"
                                },
                                {
                                    "ProductID": "321",
                                    "ReorderPoint": "750",
                                    "Quantity": "569"
                                },
                                {
                                    "ProductID": "321",
                                    "ReorderPoint": "750",
                                    "Quantity": "641"
                                },
                                {
                                    "ProductID": "322",
                                    "ReorderPoint": "750",
                                    "Quantity": "475"
                                },
                                {
                                    "ProductID": "322",
                                    "ReorderPoint": "750",
                                    "Quantity": "587"
                                },
                                {
                                    "ProductID": "322",
                                    "ReorderPoint": "750",
                                    "Quantity": "622"
                                },
                                {
                                    "ProductID": "323",
                                    "ReorderPoint": "750",
                                    "Quantity": "513"
                                },
                                {
                                    "ProductID": "323",
                                    "ReorderPoint": "750",
                                    "Quantity": "568"
                                },
                                {
                                    "ProductID": "323",
                                    "ReorderPoint": "750",
                                    "Quantity": "603"
                                },
                                {
                                    "ProductID": "324",
                                    "ReorderPoint": "750",
                                    "Quantity": "476"
                                },
                                {
                                    "ProductID": "324",
                                    "ReorderPoint": "750",
                                    "Quantity": "568"
                                },
                                {
                                    "ProductID": "324",
                                    "ReorderPoint": "750",
                                    "Quantity": "585"
                                },
                                {
                                    "ProductID": "325",
                                    "ReorderPoint": "750",
                                    "Quantity": "540"
                                },
                                {
                                    "ProductID": "325",
                                    "ReorderPoint": "750",
                                    "Quantity": "569"
                                },
                                {
                                    "ProductID": "325",
                                    "ReorderPoint": "750",
                                    "Quantity": "641"
                                },
                                {
                                    "ProductID": "326",
                                    "ReorderPoint": "750",
                                    "Quantity": "475"
                                },
                                {
                                    "ProductID": "326",
                                    "ReorderPoint": "750",
                                    "Quantity": "587"
                                },
                                {
                                    "ProductID": "326",
                                    "ReorderPoint": "750",
                                    "Quantity": "622"
                                },
                                {
                                    "ProductID": "327",
                                    "ReorderPoint": "600",
                                    "Quantity": "408"
                                },
                                {
                                    "ProductID": "327",
                                    "ReorderPoint": "600",
                                    "Quantity": "443"
                                },
                                {
                                    "ProductID": "327",
                                    "ReorderPoint": "600",
                                    "Quantity": "513"
                                },
                                {
                                    "ProductID": "328",
                                    "ReorderPoint": "750",
                                    "Quantity": "476"
                                },
                                {
                                    "ProductID": "328",
                                    "ReorderPoint": "750",
                                    "Quantity": "568"
                                },
                                {
                                    "ProductID": "328",
                                    "ReorderPoint": "750",
                                    "Quantity": "585"
                                },
                                {
                                    "ProductID": "329",
                                    "ReorderPoint": "750",
                                    "Quantity": "467"
                                },
                                {
                                    "ProductID": "329",
                                    "ReorderPoint": "750",
                                    "Quantity": "558"
                                },
                                {
                                    "ProductID": "329",
                                    "ReorderPoint": "750",
                                    "Quantity": "576"
                                },
                                {
                                    "ProductID": "330",
                                    "ReorderPoint": "750",
                                    "Quantity": "457"
                                },
                                {
                                    "ProductID": "330",
                                    "ReorderPoint": "750",
                                    "Quantity": "548"
                                },
                                {
                                    "ProductID": "330",
                                    "ReorderPoint": "750",
                                    "Quantity": "566"
                                },
                                {
                                    "ProductID": "331",
                                    "ReorderPoint": "600",
                                    "Quantity": "390"
                                },
                                {
                                    "ProductID": "331",
                                    "ReorderPoint": "600",
                                    "Quantity": "441"
                                },
                                {
                                    "ProductID": "331",
                                    "ReorderPoint": "600",
                                    "Quantity": "574"
                                },
                                {
                                    "ProductID": "332",
                                    "ReorderPoint": "375",
                                    "Quantity": "233"
                                },
                                {
                                    "ProductID": "332",
                                    "ReorderPoint": "375",
                                    "Quantity": "267"
                                },
                                {
                                    "ProductID": "332",
                                    "ReorderPoint": "375",
                                    "Quantity": "344"
                                },
                                {
                                    "ProductID": "341",
                                    "ReorderPoint": "750",
                                    "Quantity": "339"
                                },
                                {
                                    "ProductID": "341",
                                    "ReorderPoint": "750",
                                    "Quantity": "372"
                                },
                                {
                                    "ProductID": "341",
                                    "ReorderPoint": "750",
                                    "Quantity": "392"
                                },
                                {
                                    "ProductID": "342",
                                    "ReorderPoint": "750",
                                    "Quantity": "336"
                                },
                                {
                                    "ProductID": "342",
                                    "ReorderPoint": "750",
                                    "Quantity": "369"
                                },
                                {
                                    "ProductID": "342",
                                    "ReorderPoint": "750",
                                    "Quantity": "388"
                                },
                                {
                                    "ProductID": "343",
                                    "ReorderPoint": "750",
                                    "Quantity": "499"
                                },
                                {
                                    "ProductID": "343",
                                    "ReorderPoint": "750",
                                    "Quantity": "568"
                                },
                                {
                                    "ProductID": "343",
                                    "ReorderPoint": "750",
                                    "Quantity": "606"
                                },
                                {
                                    "ProductID": "344",
                                    "ReorderPoint": "750",
                                    "Quantity": "332"
                                },
                                {
                                    "ProductID": "344",
                                    "ReorderPoint": "750",
                                    "Quantity": "358"
                                },
                                {
                                    "ProductID": "344",
                                    "ReorderPoint": "750",
                                    "Quantity": "382"
                                },
                                {
                                    "ProductID": "345",
                                    "ReorderPoint": "750",
                                    "Quantity": "300"
                                },
                                {
                                    "ProductID": "345",
                                    "ReorderPoint": "750",
                                    "Quantity": "315"
                                },
                                {
                                    "ProductID": "345",
                                    "ReorderPoint": "750",
                                    "Quantity": "321"
                                },
                                {
                                    "ProductID": "346",
                                    "ReorderPoint": "750",
                                    "Quantity": "476"
                                },
                                {
                                    "ProductID": "346",
                                    "ReorderPoint": "750",
                                    "Quantity": "585"
                                },
                                {
                                    "ProductID": "346",
                                    "ReorderPoint": "750",
                                    "Quantity": "641"
                                },
                                {
                                    "ProductID": "347",
                                    "ReorderPoint": "750",
                                    "Quantity": "246"
                                },
                                {
                                    "ProductID": "347",
                                    "ReorderPoint": "750",
                                    "Quantity": "318"
                                },
                                {
                                    "ProductID": "347",
                                    "ReorderPoint": "750",
                                    "Quantity": "332"
                                },
                                {
                                    "ProductID": "348",
                                    "ReorderPoint": "750",
                                    "Quantity": "251"
                                },
                                {
                                    "ProductID": "348",
                                    "ReorderPoint": "750",
                                    "Quantity": "323"
                                },
                                {
                                    "ProductID": "348",
                                    "ReorderPoint": "750",
                                    "Quantity": "337"
                                },
                                {
                                    "ProductID": "349",
                                    "ReorderPoint": "750",
                                    "Quantity": "256"
                                },
                                {
                                    "ProductID": "349",
                                    "ReorderPoint": "750",
                                    "Quantity": "328"
                                },
                                {
                                    "ProductID": "349",
                                    "ReorderPoint": "750",
                                    "Quantity": "342"
                                },
                                {
                                    "ProductID": "350",
                                    "ReorderPoint": "600",
                                    "Quantity": "313"
                                },
                                {
                                    "ProductID": "350",
                                    "ReorderPoint": "600",
                                    "Quantity": "406"
                                },
                                {
                                    "ProductID": "351",
                                    "ReorderPoint": "600",
                                    "Quantity": "145"
                                },
                                {
                                    "ProductID": "351",
                                    "ReorderPoint": "600",
                                    "Quantity": "179"
                                },
                                {
                                    "ProductID": "351",
                                    "ReorderPoint": "600",
                                    "Quantity": "281"
                                },
                                {
                                    "ProductID": "352",
                                    "ReorderPoint": "600",
                                    "Quantity": "195"
                                },
                                {
                                    "ProductID": "352",
                                    "ReorderPoint": "600",
                                    "Quantity": "278"
                                },
                                {
                                    "ProductID": "352",
                                    "ReorderPoint": "600",
                                    "Quantity": "300"
                                },
                                {
                                    "ProductID": "355",
                                    "ReorderPoint": "600",
                                    "Quantity": "257"
                                },
                                {
                                    "ProductID": "355",
                                    "ReorderPoint": "600",
                                    "Quantity": "276"
                                },
                                {
                                    "ProductID": "355",
                                    "ReorderPoint": "600",
                                    "Quantity": "289"
                                },
                                {
                                    "ProductID": "356",
                                    "ReorderPoint": "600",
                                    "Quantity": "243"
                                },
                                {
                                    "ProductID": "356",
                                    "ReorderPoint": "600",
                                    "Quantity": "262"
                                },
                                {
                                    "ProductID": "356",
                                    "ReorderPoint": "600",
                                    "Quantity": "275"
                                },
                                {
                                    "ProductID": "357",
                                    "ReorderPoint": "600",
                                    "Quantity": "228"
                                },
                                {
                                    "ProductID": "357",
                                    "ReorderPoint": "600",
                                    "Quantity": "248"
                                },
                                {
                                    "ProductID": "357",
                                    "ReorderPoint": "600",
                                    "Quantity": "260"
                                },
                                {
                                    "ProductID": "358",
                                    "ReorderPoint": "600",
                                    "Quantity": "214"
                                },
                                {
                                    "ProductID": "358",
                                    "ReorderPoint": "600",
                                    "Quantity": "233"
                                },
                                {
                                    "ProductID": "358",
                                    "ReorderPoint": "600",
                                    "Quantity": "246"
                                },
                                {
                                    "ProductID": "359",
                                    "ReorderPoint": "750",
                                    "Quantity": "360"
                                },
                                {
                                    "ProductID": "359",
                                    "ReorderPoint": "750",
                                    "Quantity": "369"
                                },
                                {
                                    "ProductID": "359",
                                    "ReorderPoint": "750",
                                    "Quantity": "374"
                                },
                                {
                                    "ProductID": "360",
                                    "ReorderPoint": "750",
                                    "Quantity": "353"
                                },
                                {
                                    "ProductID": "360",
                                    "ReorderPoint": "750",
                                    "Quantity": "363"
                                },
                                {
                                    "ProductID": "360",
                                    "ReorderPoint": "750",
                                    "Quantity": "368"
                                },
                                {
                                    "ProductID": "361",
                                    "ReorderPoint": "750",
                                    "Quantity": "499"
                                },
                                {
                                    "ProductID": "361",
                                    "ReorderPoint": "750",
                                    "Quantity": "531"
                                },
                                {
                                    "ProductID": "361",
                                    "ReorderPoint": "750",
                                    "Quantity": "601"
                                },
                                {
                                    "ProductID": "362",
                                    "ReorderPoint": "750",
                                    "Quantity": "315"
                                },
                                {
                                    "ProductID": "362",
                                    "ReorderPoint": "750",
                                    "Quantity": "334"
                                },
                                {
                                    "ProductID": "362",
                                    "ReorderPoint": "750",
                                    "Quantity": "377"
                                },
                                {
                                    "ProductID": "363",
                                    "ReorderPoint": "750",
                                    "Quantity": "499"
                                },
                                {
                                    "ProductID": "363",
                                    "ReorderPoint": "750",
                                    "Quantity": "619"
                                },
                                {
                                    "ProductID": "363",
                                    "ReorderPoint": "750",
                                    "Quantity": "643"
                                },
                                {
                                    "ProductID": "364",
                                    "ReorderPoint": "750",
                                    "Quantity": "326"
                                },
                                {
                                    "ProductID": "364",
                                    "ReorderPoint": "750",
                                    "Quantity": "358"
                                },
                                {
                                    "ProductID": "364",
                                    "ReorderPoint": "750",
                                    "Quantity": "368"
                                },
                                {
                                    "ProductID": "365",
                                    "ReorderPoint": "750",
                                    "Quantity": "411"
                                },
                                {
                                    "ProductID": "365",
                                    "ReorderPoint": "750",
                                    "Quantity": "619"
                                },
                                {
                                    "ProductID": "365",
                                    "ReorderPoint": "750",
                                    "Quantity": "691"
                                },
                                {
                                    "ProductID": "366",
                                    "ReorderPoint": "750",
                                    "Quantity": "299"
                                },
                                {
                                    "ProductID": "366",
                                    "ReorderPoint": "750",
                                    "Quantity": "318"
                                },
                                {
                                    "ProductID": "366",
                                    "ReorderPoint": "750",
                                    "Quantity": "412"
                                },
                                {
                                    "ProductID": "367",
                                    "ReorderPoint": "750",
                                    "Quantity": "569"
                                },
                                {
                                    "ProductID": "367",
                                    "ReorderPoint": "750",
                                    "Quantity": "643"
                                },
                                {
                                    "ProductID": "367",
                                    "ReorderPoint": "750",
                                    "Quantity": "689"
                                },
                                {
                                    "ProductID": "368",
                                    "ReorderPoint": "750",
                                    "Quantity": "360"
                                },
                                {
                                    "ProductID": "368",
                                    "ReorderPoint": "750",
                                    "Quantity": "369"
                                },
                                {
                                    "ProductID": "368",
                                    "ReorderPoint": "750",
                                    "Quantity": "374"
                                },
                                {
                                    "ProductID": "369",
                                    "ReorderPoint": "750",
                                    "Quantity": "353"
                                },
                                {
                                    "ProductID": "369",
                                    "ReorderPoint": "750",
                                    "Quantity": "363"
                                },
                                {
                                    "ProductID": "369",
                                    "ReorderPoint": "750",
                                    "Quantity": "368"
                                },
                                {
                                    "ProductID": "370",
                                    "ReorderPoint": "750",
                                    "Quantity": "155"
                                },
                                {
                                    "ProductID": "370",
                                    "ReorderPoint": "750",
                                    "Quantity": "252"
                                },
                                {
                                    "ProductID": "370",
                                    "ReorderPoint": "750",
                                    "Quantity": "476"
                                },
                                {
                                    "ProductID": "371",
                                    "ReorderPoint": "750",
                                    "Quantity": "547"
                                },
                                {
                                    "ProductID": "371",
                                    "ReorderPoint": "750",
                                    "Quantity": "585"
                                },
                                {
                                    "ProductID": "371",
                                    "ReorderPoint": "750",
                                    "Quantity": "649"
                                },
                                {
                                    "ProductID": "372",
                                    "ReorderPoint": "750",
                                    "Quantity": "272"
                                },
                                {
                                    "ProductID": "372",
                                    "ReorderPoint": "750",
                                    "Quantity": "281"
                                },
                                {
                                    "ProductID": "372",
                                    "ReorderPoint": "750",
                                    "Quantity": "344"
                                },
                                {
                                    "ProductID": "373",
                                    "ReorderPoint": "750",
                                    "Quantity": "275"
                                },
                                {
                                    "ProductID": "373",
                                    "ReorderPoint": "750",
                                    "Quantity": "284"
                                },
                                {
                                    "ProductID": "373",
                                    "ReorderPoint": "750",
                                    "Quantity": "347"
                                },
                                {
                                    "ProductID": "374",
                                    "ReorderPoint": "750",
                                    "Quantity": "278"
                                },
                                {
                                    "ProductID": "374",
                                    "ReorderPoint": "750",
                                    "Quantity": "288"
                                },
                                {
                                    "ProductID": "374",
                                    "ReorderPoint": "750",
                                    "Quantity": "350"
                                },
                                {
                                    "ProductID": "375",
                                    "ReorderPoint": "750",
                                    "Quantity": "281"
                                },
                                {
                                    "ProductID": "375",
                                    "ReorderPoint": "750",
                                    "Quantity": "291"
                                },
                                {
                                    "ProductID": "375",
                                    "ReorderPoint": "750",
                                    "Quantity": "353"
                                },
                                {
                                    "ProductID": "376",
                                    "ReorderPoint": "750",
                                    "Quantity": "547"
                                },
                                {
                                    "ProductID": "376",
                                    "ReorderPoint": "750",
                                    "Quantity": "585"
                                },
                                {
                                    "ProductID": "376",
                                    "ReorderPoint": "750",
                                    "Quantity": "649"
                                },
                                {
                                    "ProductID": "377",
                                    "ReorderPoint": "750",
                                    "Quantity": "249"
                                },
                                {
                                    "ProductID": "377",
                                    "ReorderPoint": "750",
                                    "Quantity": "299"
                                },
                                {
                                    "ProductID": "377",
                                    "ReorderPoint": "750",
                                    "Quantity": "393"
                                },
                                {
                                    "ProductID": "378",
                                    "ReorderPoint": "750",
                                    "Quantity": "244"
                                },
                                {
                                    "ProductID": "378",
                                    "ReorderPoint": "750",
                                    "Quantity": "294"
                                },
                                {
                                    "ProductID": "378",
                                    "ReorderPoint": "750",
                                    "Quantity": "388"
                                },
                                {
                                    "ProductID": "379",
                                    "ReorderPoint": "750",
                                    "Quantity": "323"
                                },
                                {
                                    "ProductID": "379",
                                    "ReorderPoint": "750",
                                    "Quantity": "691"
                                },
                                {
                                    "ProductID": "380",
                                    "ReorderPoint": "750",
                                    "Quantity": "156"
                                },
                                {
                                    "ProductID": "380",
                                    "ReorderPoint": "750",
                                    "Quantity": "264"
                                },
                                {
                                    "ProductID": "380",
                                    "ReorderPoint": "750",
                                    "Quantity": "350"
                                },
                                {
                                    "ProductID": "381",
                                    "ReorderPoint": "750",
                                    "Quantity": "163"
                                },
                                {
                                    "ProductID": "381",
                                    "ReorderPoint": "750",
                                    "Quantity": "270"
                                },
                                {
                                    "ProductID": "381",
                                    "ReorderPoint": "750",
                                    "Quantity": "356"
                                },
                                {
                                    "ProductID": "382",
                                    "ReorderPoint": "750",
                                    "Quantity": "169"
                                },
                                {
                                    "ProductID": "382",
                                    "ReorderPoint": "750",
                                    "Quantity": "276"
                                },
                                {
                                    "ProductID": "382",
                                    "ReorderPoint": "750",
                                    "Quantity": "363"
                                },
                                {
                                    "ProductID": "383",
                                    "ReorderPoint": "750",
                                    "Quantity": "587"
                                },
                                {
                                    "ProductID": "383",
                                    "ReorderPoint": "750",
                                    "Quantity": "638"
                                },
                                {
                                    "ProductID": "383",
                                    "ReorderPoint": "750",
                                    "Quantity": "676"
                                },
                                {
                                    "ProductID": "384",
                                    "ReorderPoint": "750",
                                    "Quantity": "217"
                                },
                                {
                                    "ProductID": "384",
                                    "ReorderPoint": "750",
                                    "Quantity": "299"
                                },
                                {
                                    "ProductID": "384",
                                    "ReorderPoint": "750",
                                    "Quantity": "304"
                                },
                                {
                                    "ProductID": "385",
                                    "ReorderPoint": "750",
                                    "Quantity": "526"
                                },
                                {
                                    "ProductID": "385",
                                    "ReorderPoint": "750",
                                    "Quantity": "619"
                                },
                                {
                                    "ProductID": "385",
                                    "ReorderPoint": "750",
                                    "Quantity": "633"
                                },
                                {
                                    "ProductID": "386",
                                    "ReorderPoint": "750",
                                    "Quantity": "148"
                                },
                                {
                                    "ProductID": "386",
                                    "ReorderPoint": "750",
                                    "Quantity": "192"
                                },
                                {
                                    "ProductID": "386",
                                    "ReorderPoint": "750",
                                    "Quantity": "385"
                                },
                                {
                                    "ProductID": "387",
                                    "ReorderPoint": "750",
                                    "Quantity": "524"
                                },
                                {
                                    "ProductID": "387",
                                    "ReorderPoint": "750",
                                    "Quantity": "654"
                                },
                                {
                                    "ProductID": "387",
                                    "ReorderPoint": "750",
                                    "Quantity": "710"
                                },
                                {
                                    "ProductID": "388",
                                    "ReorderPoint": "750",
                                    "Quantity": "140"
                                },
                                {
                                    "ProductID": "388",
                                    "ReorderPoint": "750",
                                    "Quantity": "292"
                                },
                                {
                                    "ProductID": "388",
                                    "ReorderPoint": "750",
                                    "Quantity": "366"
                                },
                                {
                                    "ProductID": "389",
                                    "ReorderPoint": "750",
                                    "Quantity": "460"
                                },
                                {
                                    "ProductID": "389",
                                    "ReorderPoint": "750",
                                    "Quantity": "657"
                                },
                                {
                                    "ProductID": "389",
                                    "ReorderPoint": "750",
                                    "Quantity": "691"
                                },
                                {
                                    "ProductID": "390",
                                    "ReorderPoint": "750",
                                    "Quantity": "140"
                                },
                                {
                                    "ProductID": "390",
                                    "ReorderPoint": "750",
                                    "Quantity": "292"
                                },
                                {
                                    "ProductID": "390",
                                    "ReorderPoint": "750",
                                    "Quantity": "366"
                                },
                                {
                                    "ProductID": "391",
                                    "ReorderPoint": "750",
                                    "Quantity": "144"
                                },
                                {
                                    "ProductID": "391",
                                    "ReorderPoint": "750",
                                    "Quantity": "296"
                                },
                                {
                                    "ProductID": "391",
                                    "ReorderPoint": "750",
                                    "Quantity": "369"
                                },
                                {
                                    "ProductID": "392",
                                    "ReorderPoint": "750",
                                    "Quantity": "147"
                                },
                                {
                                    "ProductID": "392",
                                    "ReorderPoint": "750",
                                    "Quantity": "299"
                                },
                                {
                                    "ProductID": "392",
                                    "ReorderPoint": "750",
                                    "Quantity": "372"
                                },
                                {
                                    "ProductID": "393",
                                    "ReorderPoint": "750",
                                    "Quantity": "497"
                                },
                                {
                                    "ProductID": "393",
                                    "ReorderPoint": "750",
                                    "Quantity": "603"
                                },
                                {
                                    "ProductID": "394",
                                    "ReorderPoint": "750",
                                    "Quantity": "150"
                                },
                                {
                                    "ProductID": "394",
                                    "ReorderPoint": "750",
                                    "Quantity": "302"
                                },
                                {
                                    "ProductID": "394",
                                    "ReorderPoint": "750",
                                    "Quantity": "459"
                                },
                                {
                                    "ProductID": "395",
                                    "ReorderPoint": "750",
                                    "Quantity": "148"
                                },
                                {
                                    "ProductID": "395",
                                    "ReorderPoint": "750",
                                    "Quantity": "281"
                                },
                                {
                                    "ProductID": "395",
                                    "ReorderPoint": "750",
                                    "Quantity": "355"
                                },
                                {
                                    "ProductID": "396",
                                    "ReorderPoint": "750",
                                    "Quantity": "585"
                                },
                                {
                                    "ProductID": "396",
                                    "ReorderPoint": "750",
                                    "Quantity": "603"
                                },
                                {
                                    "ProductID": "396",
                                    "ReorderPoint": "750",
                                    "Quantity": "636"
                                },
                                {
                                    "ProductID": "397",
                                    "ReorderPoint": "750",
                                    "Quantity": "339"
                                },
                                {
                                    "ProductID": "397",
                                    "ReorderPoint": "750",
                                    "Quantity": "550"
                                },
                                {
                                    "ProductID": "398",
                                    "ReorderPoint": "600",
                                    "Quantity": "372"
                                },
                                {
                                    "ProductID": "398",
                                    "ReorderPoint": "600",
                                    "Quantity": "404"
                                },
                                {
                                    "ProductID": "398",
                                    "ReorderPoint": "600",
                                    "Quantity": "550"
                                },
                                {
                                    "ProductID": "399",
                                    "ReorderPoint": "600",
                                    "Quantity": "366"
                                },
                                {
                                    "ProductID": "399",
                                    "ReorderPoint": "600",
                                    "Quantity": "398"
                                },
                                {
                                    "ProductID": "399",
                                    "ReorderPoint": "600",
                                    "Quantity": "544"
                                },
                                {
                                    "ProductID": "400",
                                    "ReorderPoint": "375",
                                    "Quantity": "246"
                                },
                                {
                                    "ProductID": "400",
                                    "ReorderPoint": "375",
                                    "Quantity": "260"
                                },
                                {
                                    "ProductID": "400",
                                    "ReorderPoint": "375",
                                    "Quantity": "284"
                                },
                                {
                                    "ProductID": "401",
                                    "ReorderPoint": "375",
                                    "Quantity": "212"
                                },
                                {
                                    "ProductID": "401",
                                    "ReorderPoint": "375",
                                    "Quantity": "283"
                                },
                                {
                                    "ProductID": "401",
                                    "ReorderPoint": "375",
                                    "Quantity": "302"
                                },
                                {
                                    "ProductID": "402",
                                    "ReorderPoint": "750",
                                    "Quantity": "316"
                                },
                                {
                                    "ProductID": "402",
                                    "ReorderPoint": "750",
                                    "Quantity": "321"
                                },
                                {
                                    "ProductID": "402",
                                    "ReorderPoint": "750",
                                    "Quantity": "353"
                                },
                                {
                                    "ProductID": "403",
                                    "ReorderPoint": "750",
                                    "Quantity": "313"
                                },
                                {
                                    "ProductID": "403",
                                    "ReorderPoint": "750",
                                    "Quantity": "318"
                                },
                                {
                                    "ProductID": "403",
                                    "ReorderPoint": "750",
                                    "Quantity": "350"
                                },
                                {
                                    "ProductID": "404",
                                    "ReorderPoint": "750",
                                    "Quantity": "310"
                                },
                                {
                                    "ProductID": "404",
                                    "ReorderPoint": "750",
                                    "Quantity": "315"
                                },
                                {
                                    "ProductID": "404",
                                    "ReorderPoint": "750",
                                    "Quantity": "347"
                                },
                                {
                                    "ProductID": "405",
                                    "ReorderPoint": "750",
                                    "Quantity": "307"
                                },
                                {
                                    "ProductID": "405",
                                    "ReorderPoint": "750",
                                    "Quantity": "312"
                                },
                                {
                                    "ProductID": "405",
                                    "ReorderPoint": "750",
                                    "Quantity": "344"
                                },
                                {
                                    "ProductID": "406",
                                    "ReorderPoint": "750",
                                    "Quantity": "304"
                                },
                                {
                                    "ProductID": "406",
                                    "ReorderPoint": "750",
                                    "Quantity": "308"
                                },
                                {
                                    "ProductID": "406",
                                    "ReorderPoint": "750",
                                    "Quantity": "340"
                                },
                                {
                                    "ProductID": "407",
                                    "ReorderPoint": "750",
                                    "Quantity": "460"
                                },
                                {
                                    "ProductID": "407",
                                    "ReorderPoint": "750",
                                    "Quantity": "587"
                                },
                                {
                                    "ProductID": "407",
                                    "ReorderPoint": "750",
                                    "Quantity": "625"
                                },
                                {
                                    "ProductID": "408",
                                    "ReorderPoint": "750",
                                    "Quantity": "296"
                                },
                                {
                                    "ProductID": "408",
                                    "ReorderPoint": "750",
                                    "Quantity": "344"
                                },
                                {
                                    "ProductID": "408",
                                    "ReorderPoint": "750",
                                    "Quantity": "417"
                                },
                                {
                                    "ProductID": "409",
                                    "ReorderPoint": "750",
                                    "Quantity": "292"
                                },
                                {
                                    "ProductID": "409",
                                    "ReorderPoint": "750",
                                    "Quantity": "340"
                                },
                                {
                                    "ProductID": "409",
                                    "ReorderPoint": "750",
                                    "Quantity": "414"
                                },
                                {
                                    "ProductID": "410",
                                    "ReorderPoint": "750",
                                    "Quantity": "289"
                                },
                                {
                                    "ProductID": "410",
                                    "ReorderPoint": "750",
                                    "Quantity": "337"
                                },
                                {
                                    "ProductID": "410",
                                    "ReorderPoint": "750",
                                    "Quantity": "411"
                                },
                                {
                                    "ProductID": "411",
                                    "ReorderPoint": "750",
                                    "Quantity": "459"
                                },
                                {
                                    "ProductID": "411",
                                    "ReorderPoint": "750",
                                    "Quantity": "552"
                                },
                                {
                                    "ProductID": "411",
                                    "ReorderPoint": "750",
                                    "Quantity": "603"
                                },
                                {
                                    "ProductID": "412",
                                    "ReorderPoint": "750",
                                    "Quantity": "156"
                                },
                                {
                                    "ProductID": "412",
                                    "ReorderPoint": "750",
                                    "Quantity": "299"
                                },
                                {
                                    "ProductID": "412",
                                    "ReorderPoint": "750",
                                    "Quantity": "321"
                                },
                                {
                                    "ProductID": "413",
                                    "ReorderPoint": "750",
                                    "Quantity": "459"
                                },
                                {
                                    "ProductID": "413",
                                    "ReorderPoint": "750",
                                    "Quantity": "603"
                                },
                                {
                                    "ProductID": "413",
                                    "ReorderPoint": "750",
                                    "Quantity": "641"
                                },
                                {
                                    "ProductID": "414",
                                    "ReorderPoint": "750",
                                    "Quantity": "321"
                                },
                                {
                                    "ProductID": "414",
                                    "ReorderPoint": "750",
                                    "Quantity": "371"
                                },
                                {
                                    "ProductID": "414",
                                    "ReorderPoint": "750",
                                    "Quantity": "427"
                                },
                                {
                                    "ProductID": "415",
                                    "ReorderPoint": "750",
                                    "Quantity": "316"
                                },
                                {
                                    "ProductID": "415",
                                    "ReorderPoint": "750",
                                    "Quantity": "366"
                                },
                                {
                                    "ProductID": "415",
                                    "ReorderPoint": "750",
                                    "Quantity": "422"
                                },
                                {
                                    "ProductID": "416",
                                    "ReorderPoint": "750",
                                    "Quantity": "312"
                                },
                                {
                                    "ProductID": "416",
                                    "ReorderPoint": "750",
                                    "Quantity": "361"
                                },
                                {
                                    "ProductID": "416",
                                    "ReorderPoint": "750",
                                    "Quantity": "417"
                                },
                                {
                                    "ProductID": "417",
                                    "ReorderPoint": "750",
                                    "Quantity": "516"
                                },
                                {
                                    "ProductID": "417",
                                    "ReorderPoint": "750",
                                    "Quantity": "572"
                                },
                                {
                                    "ProductID": "417",
                                    "ReorderPoint": "750",
                                    "Quantity": "627"
                                },
                                {
                                    "ProductID": "418",
                                    "ReorderPoint": "750",
                                    "Quantity": "248"
                                },
                                {
                                    "ProductID": "418",
                                    "ReorderPoint": "750",
                                    "Quantity": "283"
                                },
                                {
                                    "ProductID": "418",
                                    "ReorderPoint": "750",
                                    "Quantity": "388"
                                },
                                {
                                    "ProductID": "419",
                                    "ReorderPoint": "750",
                                    "Quantity": "246"
                                },
                                {
                                    "ProductID": "419",
                                    "ReorderPoint": "750",
                                    "Quantity": "281"
                                },
                                {
                                    "ProductID": "419",
                                    "ReorderPoint": "750",
                                    "Quantity": "387"
                                },
                                {
                                    "ProductID": "420",
                                    "ReorderPoint": "750",
                                    "Quantity": "244"
                                },
                                {
                                    "ProductID": "420",
                                    "ReorderPoint": "750",
                                    "Quantity": "280"
                                },
                                {
                                    "ProductID": "420",
                                    "ReorderPoint": "750",
                                    "Quantity": "385"
                                },
                                {
                                    "ProductID": "421",
                                    "ReorderPoint": "750",
                                    "Quantity": "243"
                                },
                                {
                                    "ProductID": "421",
                                    "ReorderPoint": "750",
                                    "Quantity": "278"
                                },
                                {
                                    "ProductID": "421",
                                    "ReorderPoint": "750",
                                    "Quantity": "384"
                                },
                                {
                                    "ProductID": "422",
                                    "ReorderPoint": "750",
                                    "Quantity": "497"
                                },
                                {
                                    "ProductID": "422",
                                    "ReorderPoint": "750",
                                    "Quantity": "515"
                                },
                                {
                                    "ProductID": "422",
                                    "ReorderPoint": "750",
                                    "Quantity": "620"
                                },
                                {
                                    "ProductID": "423",
                                    "ReorderPoint": "750",
                                    "Quantity": "496"
                                },
                                {
                                    "ProductID": "423",
                                    "ReorderPoint": "750",
                                    "Quantity": "513"
                                },
                                {
                                    "ProductID": "423",
                                    "ReorderPoint": "750",
                                    "Quantity": "619"
                                },
                                {
                                    "ProductID": "424",
                                    "ReorderPoint": "750",
                                    "Quantity": "494"
                                },
                                {
                                    "ProductID": "424",
                                    "ReorderPoint": "750",
                                    "Quantity": "512"
                                },
                                {
                                    "ProductID": "424",
                                    "ReorderPoint": "750",
                                    "Quantity": "617"
                                },
                                {
                                    "ProductID": "425",
                                    "ReorderPoint": "750",
                                    "Quantity": "492"
                                },
                                {
                                    "ProductID": "425",
                                    "ReorderPoint": "750",
                                    "Quantity": "510"
                                },
                                {
                                    "ProductID": "425",
                                    "ReorderPoint": "750",
                                    "Quantity": "616"
                                },
                                {
                                    "ProductID": "426",
                                    "ReorderPoint": "750",
                                    "Quantity": "491"
                                },
                                {
                                    "ProductID": "426",
                                    "ReorderPoint": "750",
                                    "Quantity": "508"
                                },
                                {
                                    "ProductID": "426",
                                    "ReorderPoint": "750",
                                    "Quantity": "614"
                                },
                                {
                                    "ProductID": "427",
                                    "ReorderPoint": "750",
                                    "Quantity": "489"
                                },
                                {
                                    "ProductID": "427",
                                    "ReorderPoint": "750",
                                    "Quantity": "507"
                                },
                                {
                                    "ProductID": "427",
                                    "ReorderPoint": "750",
                                    "Quantity": "612"
                                },
                                {
                                    "ProductID": "428",
                                    "ReorderPoint": "750",
                                    "Quantity": "488"
                                },
                                {
                                    "ProductID": "428",
                                    "ReorderPoint": "750",
                                    "Quantity": "505"
                                },
                                {
                                    "ProductID": "428",
                                    "ReorderPoint": "750",
                                    "Quantity": "611"
                                },
                                {
                                    "ProductID": "429",
                                    "ReorderPoint": "750",
                                    "Quantity": "486"
                                },
                                {
                                    "ProductID": "429",
                                    "ReorderPoint": "750",
                                    "Quantity": "504"
                                },
                                {
                                    "ProductID": "429",
                                    "ReorderPoint": "750",
                                    "Quantity": "609"
                                },
                                {
                                    "ProductID": "430",
                                    "ReorderPoint": "750",
                                    "Quantity": "484"
                                },
                                {
                                    "ProductID": "430",
                                    "ReorderPoint": "750",
                                    "Quantity": "502"
                                },
                                {
                                    "ProductID": "430",
                                    "ReorderPoint": "750",
                                    "Quantity": "608"
                                },
                                {
                                    "ProductID": "431",
                                    "ReorderPoint": "750",
                                    "Quantity": "488"
                                },
                                {
                                    "ProductID": "431",
                                    "ReorderPoint": "750",
                                    "Quantity": "505"
                                },
                                {
                                    "ProductID": "431",
                                    "ReorderPoint": "750",
                                    "Quantity": "611"
                                },
                                {
                                    "ProductID": "432",
                                    "ReorderPoint": "750",
                                    "Quantity": "491"
                                },
                                {
                                    "ProductID": "432",
                                    "ReorderPoint": "750",
                                    "Quantity": "508"
                                },
                                {
                                    "ProductID": "432",
                                    "ReorderPoint": "750",
                                    "Quantity": "614"
                                },
                                {
                                    "ProductID": "433",
                                    "ReorderPoint": "750",
                                    "Quantity": "494"
                                },
                                {
                                    "ProductID": "433",
                                    "ReorderPoint": "750",
                                    "Quantity": "512"
                                },
                                {
                                    "ProductID": "433",
                                    "ReorderPoint": "750",
                                    "Quantity": "617"
                                },
                                {
                                    "ProductID": "434",
                                    "ReorderPoint": "750",
                                    "Quantity": "497"
                                },
                                {
                                    "ProductID": "434",
                                    "ReorderPoint": "750",
                                    "Quantity": "515"
                                },
                                {
                                    "ProductID": "434",
                                    "ReorderPoint": "750",
                                    "Quantity": "620"
                                },
                                {
                                    "ProductID": "435",
                                    "ReorderPoint": "750",
                                    "Quantity": "500"
                                },
                                {
                                    "ProductID": "435",
                                    "ReorderPoint": "750",
                                    "Quantity": "518"
                                },
                                {
                                    "ProductID": "435",
                                    "ReorderPoint": "750",
                                    "Quantity": "624"
                                },
                                {
                                    "ProductID": "436",
                                    "ReorderPoint": "750",
                                    "Quantity": "504"
                                },
                                {
                                    "ProductID": "436",
                                    "ReorderPoint": "750",
                                    "Quantity": "521"
                                },
                                {
                                    "ProductID": "436",
                                    "ReorderPoint": "750",
                                    "Quantity": "627"
                                },
                                {
                                    "ProductID": "437",
                                    "ReorderPoint": "750",
                                    "Quantity": "507"
                                },
                                {
                                    "ProductID": "437",
                                    "ReorderPoint": "750",
                                    "Quantity": "524"
                                },
                                {
                                    "ProductID": "437",
                                    "ReorderPoint": "750",
                                    "Quantity": "630"
                                },
                                {
                                    "ProductID": "438",
                                    "ReorderPoint": "750",
                                    "Quantity": "510"
                                },
                                {
                                    "ProductID": "438",
                                    "ReorderPoint": "750",
                                    "Quantity": "528"
                                },
                                {
                                    "ProductID": "438",
                                    "ReorderPoint": "750",
                                    "Quantity": "633"
                                },
                                {
                                    "ProductID": "439",
                                    "ReorderPoint": "750",
                                    "Quantity": "513"
                                },
                                {
                                    "ProductID": "439",
                                    "ReorderPoint": "750",
                                    "Quantity": "531"
                                },
                                {
                                    "ProductID": "439",
                                    "ReorderPoint": "750",
                                    "Quantity": "636"
                                },
                                {
                                    "ProductID": "440",
                                    "ReorderPoint": "750",
                                    "Quantity": "516"
                                },
                                {
                                    "ProductID": "440",
                                    "ReorderPoint": "750",
                                    "Quantity": "534"
                                },
                                {
                                    "ProductID": "440",
                                    "ReorderPoint": "750",
                                    "Quantity": "640"
                                },
                                {
                                    "ProductID": "441",
                                    "ReorderPoint": "750",
                                    "Quantity": "512"
                                },
                                {
                                    "ProductID": "441",
                                    "ReorderPoint": "750",
                                    "Quantity": "529"
                                },
                                {
                                    "ProductID": "441",
                                    "ReorderPoint": "750",
                                    "Quantity": "635"
                                },
                                {
                                    "ProductID": "442",
                                    "ReorderPoint": "750",
                                    "Quantity": "507"
                                },
                                {
                                    "ProductID": "442",
                                    "ReorderPoint": "750",
                                    "Quantity": "524"
                                },
                                {
                                    "ProductID": "442",
                                    "ReorderPoint": "750",
                                    "Quantity": "630"
                                },
                                {
                                    "ProductID": "443",
                                    "ReorderPoint": "750",
                                    "Quantity": "502"
                                },
                                {
                                    "ProductID": "443",
                                    "ReorderPoint": "750",
                                    "Quantity": "520"
                                },
                                {
                                    "ProductID": "443",
                                    "ReorderPoint": "750",
                                    "Quantity": "625"
                                },
                                {
                                    "ProductID": "444",
                                    "ReorderPoint": "750",
                                    "Quantity": "497"
                                },
                                {
                                    "ProductID": "444",
                                    "ReorderPoint": "750",
                                    "Quantity": "515"
                                },
                                {
                                    "ProductID": "444",
                                    "ReorderPoint": "750",
                                    "Quantity": "620"
                                },
                                {
                                    "ProductID": "445",
                                    "ReorderPoint": "750",
                                    "Quantity": "492"
                                },
                                {
                                    "ProductID": "445",
                                    "ReorderPoint": "750",
                                    "Quantity": "510"
                                },
                                {
                                    "ProductID": "445",
                                    "ReorderPoint": "750",
                                    "Quantity": "616"
                                },
                                {
                                    "ProductID": "446",
                                    "ReorderPoint": "750",
                                    "Quantity": "488"
                                },
                                {
                                    "ProductID": "446",
                                    "ReorderPoint": "750",
                                    "Quantity": "505"
                                },
                                {
                                    "ProductID": "446",
                                    "ReorderPoint": "750",
                                    "Quantity": "611"
                                },
                                {
                                    "ProductID": "447",
                                    "ReorderPoint": "750",
                                    "Quantity": "483"
                                },
                                {
                                    "ProductID": "447",
                                    "ReorderPoint": "750",
                                    "Quantity": "500"
                                },
                                {
                                    "ProductID": "447",
                                    "ReorderPoint": "750",
                                    "Quantity": "606"
                                },
                                {
                                    "ProductID": "448",
                                    "ReorderPoint": "750",
                                    "Quantity": "478"
                                },
                                {
                                    "ProductID": "448",
                                    "ReorderPoint": "750",
                                    "Quantity": "496"
                                },
                                {
                                    "ProductID": "448",
                                    "ReorderPoint": "750",
                                    "Quantity": "601"
                                },
                                {
                                    "ProductID": "449",
                                    "ReorderPoint": "750",
                                    "Quantity": "473"
                                },
                                {
                                    "ProductID": "449",
                                    "ReorderPoint": "750",
                                    "Quantity": "491"
                                },
                                {
                                    "ProductID": "449",
                                    "ReorderPoint": "750",
                                    "Quantity": "596"
                                },
                                {
                                    "ProductID": "450",
                                    "ReorderPoint": "750",
                                    "Quantity": "468"
                                },
                                {
                                    "ProductID": "450",
                                    "ReorderPoint": "750",
                                    "Quantity": "486"
                                },
                                {
                                    "ProductID": "450",
                                    "ReorderPoint": "750",
                                    "Quantity": "592"
                                },
                                {
                                    "ProductID": "451",
                                    "ReorderPoint": "750",
                                    "Quantity": "472"
                                },
                                {
                                    "ProductID": "451",
                                    "ReorderPoint": "750",
                                    "Quantity": "489"
                                },
                                {
                                    "ProductID": "451",
                                    "ReorderPoint": "750",
                                    "Quantity": "595"
                                },
                                {
                                    "ProductID": "452",
                                    "ReorderPoint": "750",
                                    "Quantity": "475"
                                },
                                {
                                    "ProductID": "452",
                                    "ReorderPoint": "750",
                                    "Quantity": "492"
                                },
                                {
                                    "ProductID": "452",
                                    "ReorderPoint": "750",
                                    "Quantity": "598"
                                },
                                {
                                    "ProductID": "453",
                                    "ReorderPoint": "750",
                                    "Quantity": "478"
                                },
                                {
                                    "ProductID": "453",
                                    "ReorderPoint": "750",
                                    "Quantity": "496"
                                },
                                {
                                    "ProductID": "453",
                                    "ReorderPoint": "750",
                                    "Quantity": "601"
                                },
                                {
                                    "ProductID": "454",
                                    "ReorderPoint": "750",
                                    "Quantity": "481"
                                },
                                {
                                    "ProductID": "454",
                                    "ReorderPoint": "750",
                                    "Quantity": "499"
                                },
                                {
                                    "ProductID": "454",
                                    "ReorderPoint": "750",
                                    "Quantity": "604"
                                },
                                {
                                    "ProductID": "455",
                                    "ReorderPoint": "750",
                                    "Quantity": "484"
                                },
                                {
                                    "ProductID": "455",
                                    "ReorderPoint": "750",
                                    "Quantity": "502"
                                },
                                {
                                    "ProductID": "455",
                                    "ReorderPoint": "750",
                                    "Quantity": "608"
                                },
                                {
                                    "ProductID": "456",
                                    "ReorderPoint": "750",
                                    "Quantity": "488"
                                },
                                {
                                    "ProductID": "456",
                                    "ReorderPoint": "750",
                                    "Quantity": "505"
                                },
                                {
                                    "ProductID": "456",
                                    "ReorderPoint": "750",
                                    "Quantity": "611"
                                },
                                {
                                    "ProductID": "457",
                                    "ReorderPoint": "750",
                                    "Quantity": "491"
                                },
                                {
                                    "ProductID": "457",
                                    "ReorderPoint": "750",
                                    "Quantity": "508"
                                },
                                {
                                    "ProductID": "457",
                                    "ReorderPoint": "750",
                                    "Quantity": "614"
                                },
                                {
                                    "ProductID": "458",
                                    "ReorderPoint": "750",
                                    "Quantity": "494"
                                },
                                {
                                    "ProductID": "458",
                                    "ReorderPoint": "750",
                                    "Quantity": "512"
                                },
                                {
                                    "ProductID": "458",
                                    "ReorderPoint": "750",
                                    "Quantity": "617"
                                },
                                {
                                    "ProductID": "459",
                                    "ReorderPoint": "750",
                                    "Quantity": "497"
                                },
                                {
                                    "ProductID": "459",
                                    "ReorderPoint": "750",
                                    "Quantity": "515"
                                },
                                {
                                    "ProductID": "459",
                                    "ReorderPoint": "750",
                                    "Quantity": "620"
                                },
                                {
                                    "ProductID": "460",
                                    "ReorderPoint": "750",
                                    "Quantity": "500"
                                },
                                {
                                    "ProductID": "460",
                                    "ReorderPoint": "750",
                                    "Quantity": "518"
                                },
                                {
                                    "ProductID": "460",
                                    "ReorderPoint": "750",
                                    "Quantity": "624"
                                },
                                {
                                    "ProductID": "461",
                                    "ReorderPoint": "750",
                                    "Quantity": "504"
                                },
                                {
                                    "ProductID": "461",
                                    "ReorderPoint": "750",
                                    "Quantity": "521"
                                },
                                {
                                    "ProductID": "461",
                                    "ReorderPoint": "750",
                                    "Quantity": "627"
                                },
                                {
                                    "ProductID": "462",
                                    "ReorderPoint": "750",
                                    "Quantity": "187"
                                },
                                {
                                    "ProductID": "462",
                                    "ReorderPoint": "750",
                                    "Quantity": "204"
                                },
                                {
                                    "ProductID": "462",
                                    "ReorderPoint": "750",
                                    "Quantity": "310"
                                },
                                {
                                    "ProductID": "463",
                                    "ReorderPoint": "750",
                                    "Quantity": "499"
                                },
                                {
                                    "ProductID": "463",
                                    "ReorderPoint": "750",
                                    "Quantity": "566"
                                },
                                {
                                    "ProductID": "463",
                                    "ReorderPoint": "750",
                                    "Quantity": "620"
                                },
                                {
                                    "ProductID": "464",
                                    "ReorderPoint": "750",
                                    "Quantity": "500"
                                },
                                {
                                    "ProductID": "464",
                                    "ReorderPoint": "750",
                                    "Quantity": "568"
                                },
                                {
                                    "ProductID": "464",
                                    "ReorderPoint": "750",
                                    "Quantity": "622"
                                },
                                {
                                    "ProductID": "465",
                                    "ReorderPoint": "750",
                                    "Quantity": "502"
                                },
                                {
                                    "ProductID": "465",
                                    "ReorderPoint": "750",
                                    "Quantity": "569"
                                },
                                {
                                    "ProductID": "465",
                                    "ReorderPoint": "750",
                                    "Quantity": "624"
                                },
                                {
                                    "ProductID": "466",
                                    "ReorderPoint": "750",
                                    "Quantity": "504"
                                },
                                {
                                    "ProductID": "466",
                                    "ReorderPoint": "750",
                                    "Quantity": "571"
                                },
                                {
                                    "ProductID": "466",
                                    "ReorderPoint": "750",
                                    "Quantity": "625"
                                },
                                {
                                    "ProductID": "467",
                                    "ReorderPoint": "750",
                                    "Quantity": "505"
                                },
                                {
                                    "ProductID": "467",
                                    "ReorderPoint": "750",
                                    "Quantity": "572"
                                },
                                {
                                    "ProductID": "467",
                                    "ReorderPoint": "750",
                                    "Quantity": "627"
                                },
                                {
                                    "ProductID": "468",
                                    "ReorderPoint": "750",
                                    "Quantity": "507"
                                },
                                {
                                    "ProductID": "468",
                                    "ReorderPoint": "750",
                                    "Quantity": "574"
                                },
                                {
                                    "ProductID": "468",
                                    "ReorderPoint": "750",
                                    "Quantity": "628"
                                },
                                {
                                    "ProductID": "469",
                                    "ReorderPoint": "750",
                                    "Quantity": "508"
                                },
                                {
                                    "ProductID": "469",
                                    "ReorderPoint": "750",
                                    "Quantity": "576"
                                },
                                {
                                    "ProductID": "469",
                                    "ReorderPoint": "750",
                                    "Quantity": "630"
                                },
                                {
                                    "ProductID": "470",
                                    "ReorderPoint": "750",
                                    "Quantity": "510"
                                },
                                {
                                    "ProductID": "470",
                                    "ReorderPoint": "750",
                                    "Quantity": "577"
                                },
                                {
                                    "ProductID": "470",
                                    "ReorderPoint": "750",
                                    "Quantity": "632"
                                },
                                {
                                    "ProductID": "471",
                                    "ReorderPoint": "750",
                                    "Quantity": "512"
                                },
                                {
                                    "ProductID": "471",
                                    "ReorderPoint": "750",
                                    "Quantity": "579"
                                },
                                {
                                    "ProductID": "471",
                                    "ReorderPoint": "750",
                                    "Quantity": "633"
                                },
                                {
                                    "ProductID": "472",
                                    "ReorderPoint": "750",
                                    "Quantity": "513"
                                },
                                {
                                    "ProductID": "472",
                                    "ReorderPoint": "750",
                                    "Quantity": "580"
                                },
                                {
                                    "ProductID": "472",
                                    "ReorderPoint": "750",
                                    "Quantity": "635"
                                },
                                {
                                    "ProductID": "473",
                                    "ReorderPoint": "750",
                                    "Quantity": "515"
                                },
                                {
                                    "ProductID": "473",
                                    "ReorderPoint": "750",
                                    "Quantity": "582"
                                },
                                {
                                    "ProductID": "473",
                                    "ReorderPoint": "750",
                                    "Quantity": "636"
                                },
                                {
                                    "ProductID": "474",
                                    "ReorderPoint": "750",
                                    "Quantity": "516"
                                },
                                {
                                    "ProductID": "474",
                                    "ReorderPoint": "750",
                                    "Quantity": "584"
                                },
                                {
                                    "ProductID": "474",
                                    "ReorderPoint": "750",
                                    "Quantity": "638"
                                },
                                {
                                    "ProductID": "475",
                                    "ReorderPoint": "750",
                                    "Quantity": "518"
                                },
                                {
                                    "ProductID": "475",
                                    "ReorderPoint": "750",
                                    "Quantity": "585"
                                },
                                {
                                    "ProductID": "475",
                                    "ReorderPoint": "750",
                                    "Quantity": "640"
                                },
                                {
                                    "ProductID": "476",
                                    "ReorderPoint": "750",
                                    "Quantity": "324"
                                },
                                {
                                    "ProductID": "476",
                                    "ReorderPoint": "750",
                                    "Quantity": "355"
                                },
                                {
                                    "ProductID": "476",
                                    "ReorderPoint": "750",
                                    "Quantity": "404"
                                },
                                {
                                    "ProductID": "477",
                                    "ReorderPoint": "750",
                                    "Quantity": "323"
                                },
                                {
                                    "ProductID": "477",
                                    "ReorderPoint": "750",
                                    "Quantity": "353"
                                },
                                {
                                    "ProductID": "477",
                                    "ReorderPoint": "750",
                                    "Quantity": "403"
                                },
                                {
                                    "ProductID": "478",
                                    "ReorderPoint": "750",
                                    "Quantity": "497"
                                },
                                {
                                    "ProductID": "478",
                                    "ReorderPoint": "750",
                                    "Quantity": "568"
                                },
                                {
                                    "ProductID": "478",
                                    "ReorderPoint": "750",
                                    "Quantity": "622"
                                },
                                {
                                    "ProductID": "479",
                                    "ReorderPoint": "750",
                                    "Quantity": "198"
                                },
                                {
                                    "ProductID": "479",
                                    "ReorderPoint": "750",
                                    "Quantity": "390"
                                },
                                {
                                    "ProductID": "479",
                                    "ReorderPoint": "750",
                                    "Quantity": "441"
                                },
                                {
                                    "ProductID": "480",
                                    "ReorderPoint": "750",
                                    "Quantity": "457"
                                },
                                {
                                    "ProductID": "480",
                                    "ReorderPoint": "750",
                                    "Quantity": "515"
                                },
                                {
                                    "ProductID": "480",
                                    "ReorderPoint": "750",
                                    "Quantity": "689"
                                },
                                {
                                    "ProductID": "481",
                                    "ReorderPoint": "750",
                                    "Quantity": "196"
                                },
                                {
                                    "ProductID": "481",
                                    "ReorderPoint": "750",
                                    "Quantity": "374"
                                },
                                {
                                    "ProductID": "481",
                                    "ReorderPoint": "750",
                                    "Quantity": "427"
                                },
                                {
                                    "ProductID": "482",
                                    "ReorderPoint": "750",
                                    "Quantity": "176"
                                },
                                {
                                    "ProductID": "482",
                                    "ReorderPoint": "750",
                                    "Quantity": "321"
                                },
                                {
                                    "ProductID": "482",
                                    "ReorderPoint": "750",
                                    "Quantity": "427"
                                },
                                {
                                    "ProductID": "483",
                                    "ReorderPoint": "750",
                                    "Quantity": "459"
                                },
                                {
                                    "ProductID": "483",
                                    "ReorderPoint": "750",
                                    "Quantity": "531"
                                },
                                {
                                    "ProductID": "483",
                                    "ReorderPoint": "750",
                                    "Quantity": "691"
                                },
                                {
                                    "ProductID": "484",
                                    "ReorderPoint": "750",
                                    "Quantity": "196"
                                },
                                {
                                    "ProductID": "484",
                                    "ReorderPoint": "750",
                                    "Quantity": "374"
                                },
                                {
                                    "ProductID": "484",
                                    "ReorderPoint": "750",
                                    "Quantity": "427"
                                },
                                {
                                    "ProductID": "485",
                                    "ReorderPoint": "750",
                                    "Quantity": "176"
                                },
                                {
                                    "ProductID": "485",
                                    "ReorderPoint": "750",
                                    "Quantity": "321"
                                },
                                {
                                    "ProductID": "485",
                                    "ReorderPoint": "750",
                                    "Quantity": "427"
                                },
                                {
                                    "ProductID": "486",
                                    "ReorderPoint": "750",
                                    "Quantity": "457"
                                },
                                {
                                    "ProductID": "486",
                                    "ReorderPoint": "750",
                                    "Quantity": "515"
                                },
                                {
                                    "ProductID": "486",
                                    "ReorderPoint": "750",
                                    "Quantity": "689"
                                },
                                {
                                    "ProductID": "487",
                                    "ReorderPoint": "750",
                                    "Quantity": "324"
                                },
                                {
                                    "ProductID": "487",
                                    "ReorderPoint": "750",
                                    "Quantity": "331"
                                },
                                {
                                    "ProductID": "487",
                                    "ReorderPoint": "750",
                                    "Quantity": "337"
                                },
                                {
                                    "ProductID": "488",
                                    "ReorderPoint": "750",
                                    "Quantity": "305"
                                },
                                {
                                    "ProductID": "488",
                                    "ReorderPoint": "750",
                                    "Quantity": "312"
                                },
                                {
                                    "ProductID": "488",
                                    "ReorderPoint": "750",
                                    "Quantity": "318"
                                },
                                {
                                    "ProductID": "489",
                                    "ReorderPoint": "750",
                                    "Quantity": "606"
                                },
                                {
                                    "ProductID": "489",
                                    "ReorderPoint": "750",
                                    "Quantity": "612"
                                },
                                {
                                    "ProductID": "489",
                                    "ReorderPoint": "750",
                                    "Quantity": "619"
                                },
                                {
                                    "ProductID": "490",
                                    "ReorderPoint": "750",
                                    "Quantity": "587"
                                },
                                {
                                    "ProductID": "490",
                                    "ReorderPoint": "750",
                                    "Quantity": "593"
                                },
                                {
                                    "ProductID": "490",
                                    "ReorderPoint": "750",
                                    "Quantity": "600"
                                },
                                {
                                    "ProductID": "491",
                                    "ReorderPoint": "750",
                                    "Quantity": "248"
                                },
                                {
                                    "ProductID": "491",
                                    "ReorderPoint": "750",
                                    "Quantity": "254"
                                },
                                {
                                    "ProductID": "491",
                                    "ReorderPoint": "750",
                                    "Quantity": "420"
                                },
                                {
                                    "ProductID": "492",
                                    "ReorderPoint": "45",
                                    "Quantity": "14"
                                },
                                {
                                    "ProductID": "492",
                                    "ReorderPoint": "45",
                                    "Quantity": "16"
                                },
                                {
                                    "ProductID": "492",
                                    "ReorderPoint": "45",
                                    "Quantity": "17"
                                },
                                {
                                    "ProductID": "493",
                                    "ReorderPoint": "45",
                                    "Quantity": "24"
                                },
                                {
                                    "ProductID": "493",
                                    "ReorderPoint": "45",
                                    "Quantity": "28"
                                },
                                {
                                    "ProductID": "493",
                                    "ReorderPoint": "45",
                                    "Quantity": "41"
                                },
                                {
                                    "ProductID": "494",
                                    "ReorderPoint": "45",
                                    "Quantity": "4"
                                },
                                {
                                    "ProductID": "494",
                                    "ReorderPoint": "45",
                                    "Quantity": "12"
                                },
                                {
                                    "ProductID": "495",
                                    "ReorderPoint": "45",
                                    "Quantity": "25"
                                },
                                {
                                    "ProductID": "495",
                                    "ReorderPoint": "45",
                                    "Quantity": "35"
                                },
                                {
                                    "ProductID": "496",
                                    "ReorderPoint": "45",
                                    "Quantity": "25"
                                },
                                {
                                    "ProductID": "496",
                                    "ReorderPoint": "45",
                                    "Quantity": "30"
                                },
                                {
                                    "ProductID": "496",
                                    "ReorderPoint": "45",
                                    "Quantity": "44"
                                },
                                {
                                    "ProductID": "497",
                                    "ReorderPoint": "750",
                                    "Quantity": "273"
                                },
                                {
                                    "ProductID": "497",
                                    "ReorderPoint": "750",
                                    "Quantity": "336"
                                },
                                {
                                    "ProductID": "497",
                                    "ReorderPoint": "750",
                                    "Quantity": "364"
                                },
                                {
                                    "ProductID": "504",
                                    "ReorderPoint": "750",
                                    "Quantity": "320"
                                },
                                {
                                    "ProductID": "504",
                                    "ReorderPoint": "750",
                                    "Quantity": "372"
                                },
                                {
                                    "ProductID": "504",
                                    "ReorderPoint": "750",
                                    "Quantity": "392"
                                },
                                {
                                    "ProductID": "505",
                                    "ReorderPoint": "750",
                                    "Quantity": "283"
                                },
                                {
                                    "ProductID": "505",
                                    "ReorderPoint": "750",
                                    "Quantity": "299"
                                },
                                {
                                    "ProductID": "505",
                                    "ReorderPoint": "750",
                                    "Quantity": "388"
                                },
                                {
                                    "ProductID": "506",
                                    "ReorderPoint": "750",
                                    "Quantity": "121"
                                },
                                {
                                    "ProductID": "506",
                                    "ReorderPoint": "750",
                                    "Quantity": "316"
                                },
                                {
                                    "ProductID": "506",
                                    "ReorderPoint": "750",
                                    "Quantity": "390"
                                },
                                {
                                    "ProductID": "507",
                                    "ReorderPoint": "600",
                                    "Quantity": "542"
                                },
                                {
                                    "ProductID": "508",
                                    "ReorderPoint": "600",
                                    "Quantity": "550"
                                },
                                {
                                    "ProductID": "509",
                                    "ReorderPoint": "600",
                                    "Quantity": "558"
                                },
                                {
                                    "ProductID": "510",
                                    "ReorderPoint": "600",
                                    "Quantity": "316"
                                },
                                {
                                    "ProductID": "510",
                                    "ReorderPoint": "600",
                                    "Quantity": "406"
                                },
                                {
                                    "ProductID": "511",
                                    "ReorderPoint": "600",
                                    "Quantity": "350"
                                },
                                {
                                    "ProductID": "511",
                                    "ReorderPoint": "600",
                                    "Quantity": "390"
                                },
                                {
                                    "ProductID": "512",
                                    "ReorderPoint": "600",
                                    "Quantity": "281"
                                },
                                {
                                    "ProductID": "512",
                                    "ReorderPoint": "600",
                                    "Quantity": "334"
                                },
                                {
                                    "ProductID": "514",
                                    "ReorderPoint": "375",
                                    "Quantity": "212"
                                },
                                {
                                    "ProductID": "514",
                                    "ReorderPoint": "375",
                                    "Quantity": "267"
                                },
                                {
                                    "ProductID": "514",
                                    "ReorderPoint": "375",
                                    "Quantity": "318"
                                },
                                {
                                    "ProductID": "515",
                                    "ReorderPoint": "375",
                                    "Quantity": "214"
                                },
                                {
                                    "ProductID": "515",
                                    "ReorderPoint": "375",
                                    "Quantity": "268"
                                },
                                {
                                    "ProductID": "515",
                                    "ReorderPoint": "375",
                                    "Quantity": "320"
                                },
                                {
                                    "ProductID": "516",
                                    "ReorderPoint": "375",
                                    "Quantity": "216"
                                },
                                {
                                    "ProductID": "516",
                                    "ReorderPoint": "375",
                                    "Quantity": "270"
                                },
                                {
                                    "ProductID": "516",
                                    "ReorderPoint": "375",
                                    "Quantity": "321"
                                },
                                {
                                    "ProductID": "517",
                                    "ReorderPoint": "375",
                                    "Quantity": "217"
                                },
                                {
                                    "ProductID": "517",
                                    "ReorderPoint": "375",
                                    "Quantity": "272"
                                },
                                {
                                    "ProductID": "517",
                                    "ReorderPoint": "375",
                                    "Quantity": "323"
                                },
                                {
                                    "ProductID": "518",
                                    "ReorderPoint": "375",
                                    "Quantity": "219"
                                },
                                {
                                    "ProductID": "518",
                                    "ReorderPoint": "375",
                                    "Quantity": "273"
                                },
                                {
                                    "ProductID": "518",
                                    "ReorderPoint": "375",
                                    "Quantity": "324"
                                },
                                {
                                    "ProductID": "519",
                                    "ReorderPoint": "375",
                                    "Quantity": "220"
                                },
                                {
                                    "ProductID": "519",
                                    "ReorderPoint": "375",
                                    "Quantity": "275"
                                },
                                {
                                    "ProductID": "519",
                                    "ReorderPoint": "375",
                                    "Quantity": "326"
                                },
                                {
                                    "ProductID": "520",
                                    "ReorderPoint": "375",
                                    "Quantity": "222"
                                },
                                {
                                    "ProductID": "520",
                                    "ReorderPoint": "375",
                                    "Quantity": "276"
                                },
                                {
                                    "ProductID": "520",
                                    "ReorderPoint": "375",
                                    "Quantity": "328"
                                },
                                {
                                    "ProductID": "521",
                                    "ReorderPoint": "375",
                                    "Quantity": "224"
                                },
                                {
                                    "ProductID": "521",
                                    "ReorderPoint": "375",
                                    "Quantity": "278"
                                },
                                {
                                    "ProductID": "521",
                                    "ReorderPoint": "375",
                                    "Quantity": "329"
                                },
                                {
                                    "ProductID": "522",
                                    "ReorderPoint": "375",
                                    "Quantity": "225"
                                },
                                {
                                    "ProductID": "522",
                                    "ReorderPoint": "375",
                                    "Quantity": "280"
                                },
                                {
                                    "ProductID": "522",
                                    "ReorderPoint": "375",
                                    "Quantity": "331"
                                },
                                {
                                    "ProductID": "523",
                                    "ReorderPoint": "375",
                                    "Quantity": "139"
                                },
                                {
                                    "ProductID": "523",
                                    "ReorderPoint": "375",
                                    "Quantity": "164"
                                },
                                {
                                    "ProductID": "523",
                                    "ReorderPoint": "375",
                                    "Quantity": "209"
                                },
                                {
                                    "ProductID": "524",
                                    "ReorderPoint": "375",
                                    "Quantity": "107"
                                },
                                {
                                    "ProductID": "524",
                                    "ReorderPoint": "375",
                                    "Quantity": "124"
                                },
                                {
                                    "ProductID": "524",
                                    "ReorderPoint": "375",
                                    "Quantity": "228"
                                },
                                {
                                    "ProductID": "526",
                                    "ReorderPoint": "600",
                                    "Quantity": "587"
                                },
                                {
                                    "ProductID": "527",
                                    "ReorderPoint": "750",
                                    "Quantity": "702"
                                },
                                {
                                    "ProductID": "528",
                                    "ReorderPoint": "750",
                                    "Quantity": "729"
                                },
                                {
                                    "ProductID": "529",
                                    "ReorderPoint": "375",
                                    "Quantity": "371"
                                },
                                {
                                    "ProductID": "530",
                                    "ReorderPoint": "375",
                                    "Quantity": "336"
                                },
                                {
                                    "ProductID": "531",
                                    "ReorderPoint": "375",
                                    "Quantity": "374"
                                },
                                {
                                    "ProductID": "532",
                                    "ReorderPoint": "600",
                                    "Quantity": "542"
                                },
                                {
                                    "ProductID": "534",
                                    "ReorderPoint": "375",
                                    "Quantity": "278"
                                },
                                {
                                    "ProductID": "535",
                                    "ReorderPoint": "600",
                                    "Quantity": "409"
                                },
                                {
                                    "ProductID": "535",
                                    "ReorderPoint": "600",
                                    "Quantity": "427"
                                },
                                {
                                    "ProductID": "679",
                                    "ReorderPoint": "375",
                                    "Quantity": "121"
                                },
                                {
                                    "ProductID": "679",
                                    "ReorderPoint": "375",
                                    "Quantity": "136"
                                },
                                {
                                    "ProductID": "679",
                                    "ReorderPoint": "375",
                                    "Quantity": "164"
                                },
                                {
                                    "ProductID": "747",
                                    "ReorderPoint": "375",
                                    "Quantity": "107"
                                },
                                {
                                    "ProductID": "747",
                                    "ReorderPoint": "375",
                                    "Quantity": "121"
                                },
                                {
                                    "ProductID": "747",
                                    "ReorderPoint": "375",
                                    "Quantity": "137"
                                },
                                {
                                    "ProductID": "747",
                                    "ReorderPoint": "375",
                                    "Quantity": "148"
                                },
                                {
                                    "ProductID": "747",
                                    "ReorderPoint": "375",
                                    "Quantity": "160"
                                },
                                {
                                    "ProductID": "747",
                                    "ReorderPoint": "375",
                                    "Quantity": "161"
                                },
                                {
                                    "ProductID": "748",
                                    "ReorderPoint": "375",
                                    "Quantity": "91"
                                },
                                {
                                    "ProductID": "748",
                                    "ReorderPoint": "375",
                                    "Quantity": "105"
                                },
                                {
                                    "ProductID": "748",
                                    "ReorderPoint": "375",
                                    "Quantity": "121"
                                },
                                {
                                    "ProductID": "748",
                                    "ReorderPoint": "375",
                                    "Quantity": "132"
                                },
                                {
                                    "ProductID": "748",
                                    "ReorderPoint": "375",
                                    "Quantity": "144"
                                },
                                {
                                    "ProductID": "748",
                                    "ReorderPoint": "375",
                                    "Quantity": "145"
                                },
                                {
                                    "ProductID": "749",
                                    "ReorderPoint": "75",
                                    "Quantity": "60"
                                },
                                {
                                    "ProductID": "749",
                                    "ReorderPoint": "75",
                                    "Quantity": "73"
                                },
                                {
                                    "ProductID": "751",
                                    "ReorderPoint": "75",
                                    "Quantity": "32"
                                },
                                {
                                    "ProductID": "752",
                                    "ReorderPoint": "75",
                                    "Quantity": "52"
                                },
                                {
                                    "ProductID": "753",
                                    "ReorderPoint": "75",
                                    "Quantity": "51"
                                },
                                {
                                    "ProductID": "754",
                                    "ReorderPoint": "75",
                                    "Quantity": "65"
                                },
                                {
                                    "ProductID": "755",
                                    "ReorderPoint": "75",
                                    "Quantity": "62"
                                },
                                {
                                    "ProductID": "755",
                                    "ReorderPoint": "75",
                                    "Quantity": "75"
                                },
                                {
                                    "ProductID": "756",
                                    "ReorderPoint": "75",
                                    "Quantity": "30"
                                },
                                {
                                    "ProductID": "757",
                                    "ReorderPoint": "75",
                                    "Quantity": "56"
                                },
                                {
                                    "ProductID": "758",
                                    "ReorderPoint": "75",
                                    "Quantity": "49"
                                },
                                {
                                    "ProductID": "759",
                                    "ReorderPoint": "75",
                                    "Quantity": "51"
                                },
                                {
                                    "ProductID": "761",
                                    "ReorderPoint": "75",
                                    "Quantity": "67"
                                },
                                {
                                    "ProductID": "762",
                                    "ReorderPoint": "75",
                                    "Quantity": "62"
                                },
                                {
                                    "ProductID": "762",
                                    "ReorderPoint": "75",
                                    "Quantity": "75"
                                },
                                {
                                    "ProductID": "764",
                                    "ReorderPoint": "75",
                                    "Quantity": "32"
                                },
                                {
                                    "ProductID": "765",
                                    "ReorderPoint": "75",
                                    "Quantity": "56"
                                },
                                {
                                    "ProductID": "766",
                                    "ReorderPoint": "75",
                                    "Quantity": "49"
                                },
                                {
                                    "ProductID": "768",
                                    "ReorderPoint": "75",
                                    "Quantity": "67"
                                },
                                {
                                    "ProductID": "769",
                                    "ReorderPoint": "75",
                                    "Quantity": "60"
                                },
                                {
                                    "ProductID": "769",
                                    "ReorderPoint": "75",
                                    "Quantity": "73"
                                },
                                {
                                    "ProductID": "771",
                                    "ReorderPoint": "75",
                                    "Quantity": "49"
                                },
                                {
                                    "ProductID": "772",
                                    "ReorderPoint": "75",
                                    "Quantity": "65"
                                },
                                {
                                    "ProductID": "773",
                                    "ReorderPoint": "75",
                                    "Quantity": "75"
                                },
                                {
                                    "ProductID": "774",
                                    "ReorderPoint": "75",
                                    "Quantity": "62"
                                },
                                {
                                    "ProductID": "775",
                                    "ReorderPoint": "75",
                                    "Quantity": "56"
                                },
                                {
                                    "ProductID": "777",
                                    "ReorderPoint": "75",
                                    "Quantity": "49"
                                },
                                {
                                    "ProductID": "778",
                                    "ReorderPoint": "75",
                                    "Quantity": "65"
                                },
                                {
                                    "ProductID": "779",
                                    "ReorderPoint": "75",
                                    "Quantity": "62"
                                },
                                {
                                    "ProductID": "779",
                                    "ReorderPoint": "75",
                                    "Quantity": "75"
                                },
                                {
                                    "ProductID": "781",
                                    "ReorderPoint": "75",
                                    "Quantity": "32"
                                },
                                {
                                    "ProductID": "783",
                                    "ReorderPoint": "75",
                                    "Quantity": "65"
                                },
                                {
                                    "ProductID": "784",
                                    "ReorderPoint": "75",
                                    "Quantity": "62"
                                },
                                {
                                    "ProductID": "784",
                                    "ReorderPoint": "75",
                                    "Quantity": "75"
                                },
                                {
                                    "ProductID": "785",
                                    "ReorderPoint": "75",
                                    "Quantity": "62"
                                },
                                {
                                    "ProductID": "785",
                                    "ReorderPoint": "75",
                                    "Quantity": "75"
                                },
                                {
                                    "ProductID": "787",
                                    "ReorderPoint": "75",
                                    "Quantity": "32"
                                },
                                {
                                    "ProductID": "788",
                                    "ReorderPoint": "75",
                                    "Quantity": "52"
                                },
                                {
                                    "ProductID": "789",
                                    "ReorderPoint": "75",
                                    "Quantity": "51"
                                },
                                {
                                    "ProductID": "791",
                                    "ReorderPoint": "75",
                                    "Quantity": "67"
                                },
                                {
                                    "ProductID": "793",
                                    "ReorderPoint": "75",
                                    "Quantity": "56"
                                },
                                {
                                    "ProductID": "794",
                                    "ReorderPoint": "75",
                                    "Quantity": "49"
                                },
                                {
                                    "ProductID": "796",
                                    "ReorderPoint": "75",
                                    "Quantity": "65"
                                },
                                {
                                    "ProductID": "797",
                                    "ReorderPoint": "75",
                                    "Quantity": "67"
                                },
                                {
                                    "ProductID": "798",
                                    "ReorderPoint": "75",
                                    "Quantity": "60"
                                },
                                {
                                    "ProductID": "798",
                                    "ReorderPoint": "75",
                                    "Quantity": "73"
                                },
                                {
                                    "ProductID": "800",
                                    "ReorderPoint": "75",
                                    "Quantity": "30"
                                },
                                {
                                    "ProductID": "801",
                                    "ReorderPoint": "75",
                                    "Quantity": "56"
                                },
                                {
                                    "ProductID": "802",
                                    "ReorderPoint": "375",
                                    "Quantity": "240"
                                },
                                {
                                    "ProductID": "802",
                                    "ReorderPoint": "375",
                                    "Quantity": "273"
                                },
                                {
                                    "ProductID": "802",
                                    "ReorderPoint": "375",
                                    "Quantity": "350"
                                },
                                {
                                    "ProductID": "803",
                                    "ReorderPoint": "375",
                                    "Quantity": "246"
                                },
                                {
                                    "ProductID": "803",
                                    "ReorderPoint": "375",
                                    "Quantity": "280"
                                },
                                {
                                    "ProductID": "803",
                                    "ReorderPoint": "375",
                                    "Quantity": "356"
                                },
                                {
                                    "ProductID": "804",
                                    "ReorderPoint": "375",
                                    "Quantity": "252"
                                },
                                {
                                    "ProductID": "804",
                                    "ReorderPoint": "375",
                                    "Quantity": "286"
                                },
                                {
                                    "ProductID": "804",
                                    "ReorderPoint": "375",
                                    "Quantity": "363"
                                },
                                {
                                    "ProductID": "805",
                                    "ReorderPoint": "375",
                                    "Quantity": "212"
                                },
                                {
                                    "ProductID": "805",
                                    "ReorderPoint": "375",
                                    "Quantity": "265"
                                },
                                {
                                    "ProductID": "805",
                                    "ReorderPoint": "375",
                                    "Quantity": "284"
                                },
                                {
                                    "ProductID": "806",
                                    "ReorderPoint": "375",
                                    "Quantity": "216"
                                },
                                {
                                    "ProductID": "806",
                                    "ReorderPoint": "375",
                                    "Quantity": "268"
                                },
                                {
                                    "ProductID": "806",
                                    "ReorderPoint": "375",
                                    "Quantity": "288"
                                },
                                {
                                    "ProductID": "807",
                                    "ReorderPoint": "375",
                                    "Quantity": "219"
                                },
                                {
                                    "ProductID": "807",
                                    "ReorderPoint": "375",
                                    "Quantity": "272"
                                },
                                {
                                    "ProductID": "807",
                                    "ReorderPoint": "375",
                                    "Quantity": "291"
                                },
                                {
                                    "ProductID": "808",
                                    "ReorderPoint": "375",
                                    "Quantity": "267"
                                },
                                {
                                    "ProductID": "808",
                                    "ReorderPoint": "375",
                                    "Quantity": "276"
                                },
                                {
                                    "ProductID": "808",
                                    "ReorderPoint": "375",
                                    "Quantity": "316"
                                },
                                {
                                    "ProductID": "809",
                                    "ReorderPoint": "375",
                                    "Quantity": "264"
                                },
                                {
                                    "ProductID": "809",
                                    "ReorderPoint": "375",
                                    "Quantity": "273"
                                },
                                {
                                    "ProductID": "809",
                                    "ReorderPoint": "375",
                                    "Quantity": "313"
                                },
                                {
                                    "ProductID": "810",
                                    "ReorderPoint": "375",
                                    "Quantity": "260"
                                },
                                {
                                    "ProductID": "810",
                                    "ReorderPoint": "375",
                                    "Quantity": "270"
                                },
                                {
                                    "ProductID": "810",
                                    "ReorderPoint": "375",
                                    "Quantity": "310"
                                },
                                {
                                    "ProductID": "811",
                                    "ReorderPoint": "375",
                                    "Quantity": "257"
                                },
                                {
                                    "ProductID": "811",
                                    "ReorderPoint": "375",
                                    "Quantity": "267"
                                },
                                {
                                    "ProductID": "811",
                                    "ReorderPoint": "375",
                                    "Quantity": "307"
                                },
                                {
                                    "ProductID": "812",
                                    "ReorderPoint": "375",
                                    "Quantity": "254"
                                },
                                {
                                    "ProductID": "812",
                                    "ReorderPoint": "375",
                                    "Quantity": "264"
                                },
                                {
                                    "ProductID": "812",
                                    "ReorderPoint": "375",
                                    "Quantity": "304"
                                },
                                {
                                    "ProductID": "813",
                                    "ReorderPoint": "375",
                                    "Quantity": "251"
                                },
                                {
                                    "ProductID": "813",
                                    "ReorderPoint": "375",
                                    "Quantity": "260"
                                },
                                {
                                    "ProductID": "813",
                                    "ReorderPoint": "375",
                                    "Quantity": "300"
                                },
                                {
                                    "ProductID": "814",
                                    "ReorderPoint": "375",
                                    "Quantity": "96"
                                },
                                {
                                    "ProductID": "814",
                                    "ReorderPoint": "375",
                                    "Quantity": "110"
                                },
                                {
                                    "ProductID": "814",
                                    "ReorderPoint": "375",
                                    "Quantity": "126"
                                },
                                {
                                    "ProductID": "814",
                                    "ReorderPoint": "375",
                                    "Quantity": "137"
                                },
                                {
                                    "ProductID": "814",
                                    "ReorderPoint": "375",
                                    "Quantity": "148"
                                },
                                {
                                    "ProductID": "814",
                                    "ReorderPoint": "375",
                                    "Quantity": "150"
                                },
                                {
                                    "ProductID": "815",
                                    "ReorderPoint": "375",
                                    "Quantity": "265"
                                },
                                {
                                    "ProductID": "820",
                                    "ReorderPoint": "375",
                                    "Quantity": "232"
                                },
                                {
                                    "ProductID": "821",
                                    "ReorderPoint": "375",
                                    "Quantity": "304"
                                },
                                {
                                    "ProductID": "822",
                                    "ReorderPoint": "375",
                                    "Quantity": "100"
                                },
                                {
                                    "ProductID": "822",
                                    "ReorderPoint": "375",
                                    "Quantity": "115"
                                },
                                {
                                    "ProductID": "822",
                                    "ReorderPoint": "375",
                                    "Quantity": "131"
                                },
                                {
                                    "ProductID": "822",
                                    "ReorderPoint": "375",
                                    "Quantity": "142"
                                },
                                {
                                    "ProductID": "822",
                                    "ReorderPoint": "375",
                                    "Quantity": "153"
                                },
                                {
                                    "ProductID": "822",
                                    "ReorderPoint": "375",
                                    "Quantity": "155"
                                },
                                {
                                    "ProductID": "823",
                                    "ReorderPoint": "375",
                                    "Quantity": "256"
                                },
                                {
                                    "ProductID": "828",
                                    "ReorderPoint": "375",
                                    "Quantity": "284"
                                },
                                {
                                    "ProductID": "829",
                                    "ReorderPoint": "375",
                                    "Quantity": "265"
                                },
                                {
                                    "ProductID": "853",
                                    "ReorderPoint": "3",
                                    "Quantity": "0"
                                },
                                {
                                    "ProductID": "859",
                                    "ReorderPoint": "3",
                                    "Quantity": "0"
                                },
                                {
                                    "ProductID": "876",
                                    "ReorderPoint": "3",
                                    "Quantity": "0"
                                },
                                {
                                    "ProductID": "882",
                                    "ReorderPoint": "3",
                                    "Quantity": "0"
                                },
                                {
                                    "ProductID": "894",
                                    "ReorderPoint": "375",
                                    "Quantity": "155"
                                },
                                {
                                    "ProductID": "894",
                                    "ReorderPoint": "375",
                                    "Quantity": "337"
                                },
                                {
                                    "ProductID": "894",
                                    "ReorderPoint": "375",
                                    "Quantity": "355"
                                },
                                {
                                    "ProductID": "907",
                                    "ReorderPoint": "375",
                                    "Quantity": "158"
                                },
                                {
                                    "ProductID": "907",
                                    "ReorderPoint": "375",
                                    "Quantity": "228"
                                },
                                {
                                    "ProductID": "907",
                                    "ReorderPoint": "375",
                                    "Quantity": "337"
                                },
                                {
                                    "ProductID": "908",
                                    "ReorderPoint": "375",
                                    "Quantity": "195"
                                },
                                {
                                    "ProductID": "908",
                                    "ReorderPoint": "375",
                                    "Quantity": "214"
                                },
                                {
                                    "ProductID": "909",
                                    "ReorderPoint": "375",
                                    "Quantity": "72"
                                },
                                {
                                    "ProductID": "909",
                                    "ReorderPoint": "375",
                                    "Quantity": "120"
                                },
                                {
                                    "ProductID": "909",
                                    "ReorderPoint": "375",
                                    "Quantity": "230"
                                },
                                {
                                    "ProductID": "910",
                                    "ReorderPoint": "375",
                                    "Quantity": "91"
                                },
                                {
                                    "ProductID": "910",
                                    "ReorderPoint": "375",
                                    "Quantity": "96"
                                },
                                {
                                    "ProductID": "910",
                                    "ReorderPoint": "375",
                                    "Quantity": "168"
                                },
                                {
                                    "ProductID": "911",
                                    "ReorderPoint": "375",
                                    "Quantity": "283"
                                },
                                {
                                    "ProductID": "911",
                                    "ReorderPoint": "375",
                                    "Quantity": "302"
                                },
                                {
                                    "ProductID": "911",
                                    "ReorderPoint": "375",
                                    "Quantity": "321"
                                },
                                {
                                    "ProductID": "912",
                                    "ReorderPoint": "375",
                                    "Quantity": "246"
                                },
                                {
                                    "ProductID": "912",
                                    "ReorderPoint": "375",
                                    "Quantity": "302"
                                },
                                {
                                    "ProductID": "912",
                                    "ReorderPoint": "375",
                                    "Quantity": "353"
                                },
                                {
                                    "ProductID": "913",
                                    "ReorderPoint": "375",
                                    "Quantity": "145"
                                },
                                {
                                    "ProductID": "913",
                                    "ReorderPoint": "375",
                                    "Quantity": "153"
                                },
                                {
                                    "ProductID": "913",
                                    "ReorderPoint": "375",
                                    "Quantity": "169"
                                },
                                {
                                    "ProductID": "914",
                                    "ReorderPoint": "375",
                                    "Quantity": "171"
                                },
                                {
                                    "ProductID": "914",
                                    "ReorderPoint": "375",
                                    "Quantity": "248"
                                },
                                {
                                    "ProductID": "915",
                                    "ReorderPoint": "375",
                                    "Quantity": "83"
                                },
                                {
                                    "ProductID": "915",
                                    "ReorderPoint": "375",
                                    "Quantity": "158"
                                },
                                {
                                    "ProductID": "915",
                                    "ReorderPoint": "375",
                                    "Quantity": "161"
                                },
                                {
                                    "ProductID": "916",
                                    "ReorderPoint": "375",
                                    "Quantity": "276"
                                },
                                {
                                    "ProductID": "916",
                                    "ReorderPoint": "375",
                                    "Quantity": "288"
                                },
                                {
                                    "ProductID": "921",
                                    "ReorderPoint": "375",
                                    "Quantity": "243"
                                },
                                {
                                    "ProductID": "921",
                                    "ReorderPoint": "375",
                                    "Quantity": "286"
                                },
                                {
                                    "ProductID": "922",
                                    "ReorderPoint": "375",
                                    "Quantity": "241"
                                },
                                {
                                    "ProductID": "922",
                                    "ReorderPoint": "375",
                                    "Quantity": "264"
                                },
                                {
                                    "ProductID": "923",
                                    "ReorderPoint": "375",
                                    "Quantity": "240"
                                },
                                {
                                    "ProductID": "923",
                                    "ReorderPoint": "375",
                                    "Quantity": "262"
                                },
                                {
                                    "ProductID": "928",
                                    "ReorderPoint": "375",
                                    "Quantity": "240"
                                },
                                {
                                    "ProductID": "928",
                                    "ReorderPoint": "375",
                                    "Quantity": "369"
                                },
                                {
                                    "ProductID": "929",
                                    "ReorderPoint": "375",
                                    "Quantity": "284"
                                },
                                {
                                    "ProductID": "930",
                                    "ReorderPoint": "375",
                                    "Quantity": "232"
                                },
                                {
                                    "ProductID": "930",
                                    "ReorderPoint": "375",
                                    "Quantity": "267"
                                },
                                {
                                    "ProductID": "931",
                                    "ReorderPoint": "375",
                                    "Quantity": "236"
                                },
                                {
                                    "ProductID": "931",
                                    "ReorderPoint": "375",
                                    "Quantity": "252"
                                },
                                {
                                    "ProductID": "932",
                                    "ReorderPoint": "375",
                                    "Quantity": "192"
                                },
                                {
                                    "ProductID": "933",
                                    "ReorderPoint": "375",
                                    "Quantity": "228"
                                },
                                {
                                    "ProductID": "933",
                                    "ReorderPoint": "375",
                                    "Quantity": "299"
                                },
                                {
                                    "ProductID": "934",
                                    "ReorderPoint": "375",
                                    "Quantity": "233"
                                },
                                {
                                    "ProductID": "934",
                                    "ReorderPoint": "375",
                                    "Quantity": "249"
                                },
                                {
                                    "ProductID": "935",
                                    "ReorderPoint": "375",
                                    "Quantity": "156"
                                },
                                {
                                    "ProductID": "935",
                                    "ReorderPoint": "375",
                                    "Quantity": "174"
                                },
                                {
                                    "ProductID": "935",
                                    "ReorderPoint": "375",
                                    "Quantity": "182"
                                },
                                {
                                    "ProductID": "936",
                                    "ReorderPoint": "375",
                                    "Quantity": "155"
                                },
                                {
                                    "ProductID": "936",
                                    "ReorderPoint": "375",
                                    "Quantity": "172"
                                },
                                {
                                    "ProductID": "936",
                                    "ReorderPoint": "375",
                                    "Quantity": "180"
                                },
                                {
                                    "ProductID": "937",
                                    "ReorderPoint": "375",
                                    "Quantity": "153"
                                },
                                {
                                    "ProductID": "937",
                                    "ReorderPoint": "375",
                                    "Quantity": "171"
                                },
                                {
                                    "ProductID": "937",
                                    "ReorderPoint": "375",
                                    "Quantity": "179"
                                },
                                {
                                    "ProductID": "938",
                                    "ReorderPoint": "375",
                                    "Quantity": "152"
                                },
                                {
                                    "ProductID": "938",
                                    "ReorderPoint": "375",
                                    "Quantity": "169"
                                },
                                {
                                    "ProductID": "938",
                                    "ReorderPoint": "375",
                                    "Quantity": "177"
                                },
                                {
                                    "ProductID": "939",
                                    "ReorderPoint": "375",
                                    "Quantity": "150"
                                },
                                {
                                    "ProductID": "939",
                                    "ReorderPoint": "375",
                                    "Quantity": "168"
                                },
                                {
                                    "ProductID": "939",
                                    "ReorderPoint": "375",
                                    "Quantity": "176"
                                },
                                {
                                    "ProductID": "940",
                                    "ReorderPoint": "375",
                                    "Quantity": "267"
                                },
                                {
                                    "ProductID": "940",
                                    "ReorderPoint": "375",
                                    "Quantity": "316"
                                },
                                {
                                    "ProductID": "940",
                                    "ReorderPoint": "375",
                                    "Quantity": "323"
                                },
                                {
                                    "ProductID": "941",
                                    "ReorderPoint": "375",
                                    "Quantity": "235"
                                },
                                {
                                    "ProductID": "941",
                                    "ReorderPoint": "375",
                                    "Quantity": "262"
                                },
                                {
                                    "ProductID": "942",
                                    "ReorderPoint": "375",
                                    "Quantity": "105"
                                },
                                {
                                    "ProductID": "942",
                                    "ReorderPoint": "375",
                                    "Quantity": "120"
                                },
                                {
                                    "ProductID": "942",
                                    "ReorderPoint": "375",
                                    "Quantity": "136"
                                },
                                {
                                    "ProductID": "942",
                                    "ReorderPoint": "375",
                                    "Quantity": "147"
                                },
                                {
                                    "ProductID": "942",
                                    "ReorderPoint": "375",
                                    "Quantity": "158"
                                },
                                {
                                    "ProductID": "942",
                                    "ReorderPoint": "375",
                                    "Quantity": "160"
                                },
                                {
                                    "ProductID": "943",
                                    "ReorderPoint": "375",
                                    "Quantity": "88"
                                },
                                {
                                    "ProductID": "943",
                                    "ReorderPoint": "375",
                                    "Quantity": "102"
                                },
                                {
                                    "ProductID": "943",
                                    "ReorderPoint": "375",
                                    "Quantity": "118"
                                },
                                {
                                    "ProductID": "943",
                                    "ReorderPoint": "375",
                                    "Quantity": "129"
                                },
                                {
                                    "ProductID": "943",
                                    "ReorderPoint": "375",
                                    "Quantity": "140"
                                },
                                {
                                    "ProductID": "943",
                                    "ReorderPoint": "375",
                                    "Quantity": "142"
                                },
                                {
                                    "ProductID": "944",
                                    "ReorderPoint": "375",
                                    "Quantity": "81"
                                },
                                {
                                    "ProductID": "944",
                                    "ReorderPoint": "375",
                                    "Quantity": "96"
                                },
                                {
                                    "ProductID": "944",
                                    "ReorderPoint": "375",
                                    "Quantity": "112"
                                },
                                {
                                    "ProductID": "944",
                                    "ReorderPoint": "375",
                                    "Quantity": "123"
                                },
                                {
                                    "ProductID": "944",
                                    "ReorderPoint": "375",
                                    "Quantity": "134"
                                },
                                {
                                    "ProductID": "944",
                                    "ReorderPoint": "375",
                                    "Quantity": "136"
                                },
                                {
                                    "ProductID": "945",
                                    "ReorderPoint": "375",
                                    "Quantity": "236"
                                },
                                {
                                    "ProductID": "945",
                                    "ReorderPoint": "375",
                                    "Quantity": "270"
                                },
                                {
                                    "ProductID": "945",
                                    "ReorderPoint": "375",
                                    "Quantity": "347"
                                },
                                {
                                    "ProductID": "946",
                                    "ReorderPoint": "375",
                                    "Quantity": "248"
                                },
                                {
                                    "ProductID": "946",
                                    "ReorderPoint": "375",
                                    "Quantity": "257"
                                },
                                {
                                    "ProductID": "946",
                                    "ReorderPoint": "375",
                                    "Quantity": "297"
                                },
                                {
                                    "ProductID": "947",
                                    "ReorderPoint": "375",
                                    "Quantity": "244"
                                },
                                {
                                    "ProductID": "947",
                                    "ReorderPoint": "375",
                                    "Quantity": "254"
                                },
                                {
                                    "ProductID": "947",
                                    "ReorderPoint": "375",
                                    "Quantity": "294"
                                },
                                {
                                    "ProductID": "948",
                                    "ReorderPoint": "375",
                                    "Quantity": "347"
                                },
                                {
                                    "ProductID": "949",
                                    "ReorderPoint": "375",
                                    "Quantity": "265"
                                },
                                {
                                    "ProductID": "949",
                                    "ReorderPoint": "375",
                                    "Quantity": "284"
                                },
                                {
                                    "ProductID": "949",
                                    "ReorderPoint": "375",
                                    "Quantity": "336"
                                },
                                {
                                    "ProductID": "950",
                                    "ReorderPoint": "375",
                                    "Quantity": "272"
                                },
                                {
                                    "ProductID": "950",
                                    "ReorderPoint": "375",
                                    "Quantity": "291"
                                },
                                {
                                    "ProductID": "950",
                                    "ReorderPoint": "375",
                                    "Quantity": "342"
                                },
                                {
                                    "ProductID": "951",
                                    "ReorderPoint": "375",
                                    "Quantity": "278"
                                },
                                {
                                    "ProductID": "951",
                                    "ReorderPoint": "375",
                                    "Quantity": "297"
                                },
                                {
                                    "ProductID": "951",
                                    "ReorderPoint": "375",
                                    "Quantity": "348"
                                },
                                {
                                    "ProductID": "952",
                                    "ReorderPoint": "375",
                                    "Quantity": "161"
                                },
                                {
                                    "ProductID": "952",
                                    "ReorderPoint": "375",
                                    "Quantity": "192"
                                },
                                {
                                    "ProductID": "952",
                                    "ReorderPoint": "375",
                                    "Quantity": "236"
                                },
                                {
                                    "ProductID": "953",
                                    "ReorderPoint": "75",
                                    "Quantity": "49"
                                },
                                {
                                    "ProductID": "954",
                                    "ReorderPoint": "75",
                                    "Quantity": "65"
                                },
                                {
                                    "ProductID": "955",
                                    "ReorderPoint": "75",
                                    "Quantity": "62"
                                },
                                {
                                    "ProductID": "955",
                                    "ReorderPoint": "75",
                                    "Quantity": "75"
                                },
                                {
                                    "ProductID": "956",
                                    "ReorderPoint": "75",
                                    "Quantity": "35"
                                },
                                {
                                    "ProductID": "956",
                                    "ReorderPoint": "75",
                                    "Quantity": "40"
                                },
                                {
                                    "ProductID": "957",
                                    "ReorderPoint": "75",
                                    "Quantity": "51"
                                },
                                {
                                    "ProductID": "958",
                                    "ReorderPoint": "75",
                                    "Quantity": "35"
                                },
                                {
                                    "ProductID": "960",
                                    "ReorderPoint": "75",
                                    "Quantity": "54"
                                },
                                {
                                    "ProductID": "962",
                                    "ReorderPoint": "75",
                                    "Quantity": "67"
                                },
                                {
                                    "ProductID": "963",
                                    "ReorderPoint": "75",
                                    "Quantity": "36"
                                },
                                {
                                    "ProductID": "965",
                                    "ReorderPoint": "75",
                                    "Quantity": "72"
                                },
                                {
                                    "ProductID": "967",
                                    "ReorderPoint": "75",
                                    "Quantity": "67"
                                },
                                {
                                    "ProductID": "968",
                                    "ReorderPoint": "75",
                                    "Quantity": "60"
                                },
                                {
                                    "ProductID": "968",
                                    "ReorderPoint": "75",
                                    "Quantity": "73"
                                },
                                {
                                    "ProductID": "969",
                                    "ReorderPoint": "75",
                                    "Quantity": "30"
                                },
                                {
                                    "ProductID": "970",
                                    "ReorderPoint": "75",
                                    "Quantity": "60"
                                },
                                {
                                    "ProductID": "970",
                                    "ReorderPoint": "75",
                                    "Quantity": "73"
                                },
                                {
                                    "ProductID": "972",
                                    "ReorderPoint": "75",
                                    "Quantity": "30"
                                },
                                {
                                    "ProductID": "974",
                                    "ReorderPoint": "75",
                                    "Quantity": "67"
                                },
                                {
                                    "ProductID": "975",
                                    "ReorderPoint": "75",
                                    "Quantity": "60"
                                },
                                {
                                    "ProductID": "975",
                                    "ReorderPoint": "75",
                                    "Quantity": "73"
                                },
                                {
                                    "ProductID": "977",
                                    "ReorderPoint": "75",
                                    "Quantity": "65"
                                },
                                {
                                    "ProductID": "978",
                                    "ReorderPoint": "75",
                                    "Quantity": "72"
                                },
                                {
                                    "ProductID": "980",
                                    "ReorderPoint": "75",
                                    "Quantity": "51"
                                },
                                {
                                    "ProductID": "981",
                                    "ReorderPoint": "75",
                                    "Quantity": "67"
                                },
                                {
                                    "ProductID": "982",
                                    "ReorderPoint": "75",
                                    "Quantity": "73"
                                },
                                {
                                    "ProductID": "983",
                                    "ReorderPoint": "75",
                                    "Quantity": "60"
                                },
                                {
                                    "ProductID": "984",
                                    "ReorderPoint": "75",
                                    "Quantity": "73"
                                },
                                {
                                    "ProductID": "985",
                                    "ReorderPoint": "75",
                                    "Quantity": "60"
                                },
                                {
                                    "ProductID": "986",
                                    "ReorderPoint": "75",
                                    "Quantity": "30"
                                },
                                {
                                    "ProductID": "987",
                                    "ReorderPoint": "75",
                                    "Quantity": "56"
                                },
                                {
                                    "ProductID": "989",
                                    "ReorderPoint": "75",
                                    "Quantity": "51"
                                },
                                {
                                    "ProductID": "990",
                                    "ReorderPoint": "75",
                                    "Quantity": "67"
                                },
                                {
                                    "ProductID": "991",
                                    "ReorderPoint": "75",
                                    "Quantity": "73"
                                },
                                {
                                    "ProductID": "992",
                                    "ReorderPoint": "75",
                                    "Quantity": "60"
                                },
                                {
                                    "ProductID": "993",
                                    "ReorderPoint": "75",
                                    "Quantity": "30"
                                },
                                {
                                    "ProductID": "994",
                                    "ReorderPoint": "375",
                                    "Quantity": "212"
                                },
                                {
                                    "ProductID": "994",
                                    "ReorderPoint": "375",
                                    "Quantity": "244"
                                },
                                {
                                    "ProductID": "994",
                                    "ReorderPoint": "375",
                                    "Quantity": "358"
                                },
                                {
                                    "ProductID": "995",
                                    "ReorderPoint": "375",
                                    "Quantity": "230"
                                },
                                {
                                    "ProductID": "995",
                                    "ReorderPoint": "375",
                                    "Quantity": "265"
                                },
                                {
                                    "ProductID": "995",
                                    "ReorderPoint": "375",
                                    "Quantity": "321"
                                },
                                {
                                    "ProductID": "996",
                                    "ReorderPoint": "375",
                                    "Quantity": "174"
                                },
                                {
                                    "ProductID": "996",
                                    "ReorderPoint": "375",
                                    "Quantity": "321"
                                },
                                {
                                    "ProductID": "997",
                                    "ReorderPoint": "75",
                                    "Quantity": "30"
                                },
                                {
                                    "ProductID": "998",
                                    "ReorderPoint": "75",
                                    "Quantity": "56"
                                }
                            ]
                        },
                        "text/html": [
                            "<table>",
                            "<tr><th>ProductID</th><th>ReorderPoint</th><th>Quantity</th></tr>",
                            "<tr><td>1</td><td>750</td><td>324</td></tr>",
                            "<tr><td>1</td><td>750</td><td>353</td></tr>",
                            "<tr><td>1</td><td>750</td><td>408</td></tr>",
                            "<tr><td>2</td><td>750</td><td>318</td></tr>",
                            "<tr><td>2</td><td>750</td><td>364</td></tr>",
                            "<tr><td>2</td><td>750</td><td>427</td></tr>",
                            "<tr><td>3</td><td>600</td><td>324</td></tr>",
                            "<tr><td>3</td><td>600</td><td>443</td></tr>",
                            "<tr><td>3</td><td>600</td><td>585</td></tr>",
                            "<tr><td>4</td><td>600</td><td>388</td></tr>",
                            "<tr><td>4</td><td>600</td><td>422</td></tr>",
                            "<tr><td>4</td><td>600</td><td>512</td></tr>",
                            "<tr><td>316</td><td>600</td><td>388</td></tr>",
                            "<tr><td>316</td><td>600</td><td>441</td></tr>",
                            "<tr><td>316</td><td>600</td><td>532</td></tr>",
                            "<tr><td>317</td><td>375</td><td>152</td></tr>",
                            "<tr><td>317</td><td>375</td><td>158</td></tr>",
                            "<tr><td>317</td><td>375</td><td>283</td></tr>",
                            "<tr><td>318</td><td>375</td><td>132</td></tr>",
                            "<tr><td>318</td><td>375</td><td>136</td></tr>",
                            "<tr><td>318</td><td>375</td><td>171</td></tr>",
                            "<tr><td>319</td><td>375</td><td>184</td></tr>",
                            "<tr><td>319</td><td>375</td><td>305</td></tr>",
                            "<tr><td>319</td><td>375</td><td>308</td></tr>",
                            "<tr><td>320</td><td>750</td><td>283</td></tr>",
                            "<tr><td>320</td><td>750</td><td>372</td></tr>",
                            "<tr><td>320</td><td>750</td><td>481</td></tr>",
                            "<tr><td>321</td><td>750</td><td>540</td></tr>",
                            "<tr><td>321</td><td>750</td><td>569</td></tr>",
                            "<tr><td>321</td><td>750</td><td>641</td></tr>",
                            "<tr><td>322</td><td>750</td><td>475</td></tr>",
                            "<tr><td>322</td><td>750</td><td>587</td></tr>",
                            "<tr><td>322</td><td>750</td><td>622</td></tr>",
                            "<tr><td>323</td><td>750</td><td>513</td></tr>",
                            "<tr><td>323</td><td>750</td><td>568</td></tr>",
                            "<tr><td>323</td><td>750</td><td>603</td></tr>",
                            "<tr><td>324</td><td>750</td><td>476</td></tr>",
                            "<tr><td>324</td><td>750</td><td>568</td></tr>",
                            "<tr><td>324</td><td>750</td><td>585</td></tr>",
                            "<tr><td>325</td><td>750</td><td>540</td></tr>",
                            "<tr><td>325</td><td>750</td><td>569</td></tr>",
                            "<tr><td>325</td><td>750</td><td>641</td></tr>",
                            "<tr><td>326</td><td>750</td><td>475</td></tr>",
                            "<tr><td>326</td><td>750</td><td>587</td></tr>",
                            "<tr><td>326</td><td>750</td><td>622</td></tr>",
                            "<tr><td>327</td><td>600</td><td>408</td></tr>",
                            "<tr><td>327</td><td>600</td><td>443</td></tr>",
                            "<tr><td>327</td><td>600</td><td>513</td></tr>",
                            "<tr><td>328</td><td>750</td><td>476</td></tr>",
                            "<tr><td>328</td><td>750</td><td>568</td></tr>",
                            "<tr><td>328</td><td>750</td><td>585</td></tr>",
                            "<tr><td>329</td><td>750</td><td>467</td></tr>",
                            "<tr><td>329</td><td>750</td><td>558</td></tr>",
                            "<tr><td>329</td><td>750</td><td>576</td></tr>",
                            "<tr><td>330</td><td>750</td><td>457</td></tr>",
                            "<tr><td>330</td><td>750</td><td>548</td></tr>",
                            "<tr><td>330</td><td>750</td><td>566</td></tr>",
                            "<tr><td>331</td><td>600</td><td>390</td></tr>",
                            "<tr><td>331</td><td>600</td><td>441</td></tr>",
                            "<tr><td>331</td><td>600</td><td>574</td></tr>",
                            "<tr><td>332</td><td>375</td><td>233</td></tr>",
                            "<tr><td>332</td><td>375</td><td>267</td></tr>",
                            "<tr><td>332</td><td>375</td><td>344</td></tr>",
                            "<tr><td>341</td><td>750</td><td>339</td></tr>",
                            "<tr><td>341</td><td>750</td><td>372</td></tr>",
                            "<tr><td>341</td><td>750</td><td>392</td></tr>",
                            "<tr><td>342</td><td>750</td><td>336</td></tr>",
                            "<tr><td>342</td><td>750</td><td>369</td></tr>",
                            "<tr><td>342</td><td>750</td><td>388</td></tr>",
                            "<tr><td>343</td><td>750</td><td>499</td></tr>",
                            "<tr><td>343</td><td>750</td><td>568</td></tr>",
                            "<tr><td>343</td><td>750</td><td>606</td></tr>",
                            "<tr><td>344</td><td>750</td><td>332</td></tr>",
                            "<tr><td>344</td><td>750</td><td>358</td></tr>",
                            "<tr><td>344</td><td>750</td><td>382</td></tr>",
                            "<tr><td>345</td><td>750</td><td>300</td></tr>",
                            "<tr><td>345</td><td>750</td><td>315</td></tr>",
                            "<tr><td>345</td><td>750</td><td>321</td></tr>",
                            "<tr><td>346</td><td>750</td><td>476</td></tr>",
                            "<tr><td>346</td><td>750</td><td>585</td></tr>",
                            "<tr><td>346</td><td>750</td><td>641</td></tr>",
                            "<tr><td>347</td><td>750</td><td>246</td></tr>",
                            "<tr><td>347</td><td>750</td><td>318</td></tr>",
                            "<tr><td>347</td><td>750</td><td>332</td></tr>",
                            "<tr><td>348</td><td>750</td><td>251</td></tr>",
                            "<tr><td>348</td><td>750</td><td>323</td></tr>",
                            "<tr><td>348</td><td>750</td><td>337</td></tr>",
                            "<tr><td>349</td><td>750</td><td>256</td></tr>",
                            "<tr><td>349</td><td>750</td><td>328</td></tr>",
                            "<tr><td>349</td><td>750</td><td>342</td></tr>",
                            "<tr><td>350</td><td>600</td><td>313</td></tr>",
                            "<tr><td>350</td><td>600</td><td>406</td></tr>",
                            "<tr><td>351</td><td>600</td><td>145</td></tr>",
                            "<tr><td>351</td><td>600</td><td>179</td></tr>",
                            "<tr><td>351</td><td>600</td><td>281</td></tr>",
                            "<tr><td>352</td><td>600</td><td>195</td></tr>",
                            "<tr><td>352</td><td>600</td><td>278</td></tr>",
                            "<tr><td>352</td><td>600</td><td>300</td></tr>",
                            "<tr><td>355</td><td>600</td><td>257</td></tr>",
                            "<tr><td>355</td><td>600</td><td>276</td></tr>",
                            "<tr><td>355</td><td>600</td><td>289</td></tr>",
                            "<tr><td>356</td><td>600</td><td>243</td></tr>",
                            "<tr><td>356</td><td>600</td><td>262</td></tr>",
                            "<tr><td>356</td><td>600</td><td>275</td></tr>",
                            "<tr><td>357</td><td>600</td><td>228</td></tr>",
                            "<tr><td>357</td><td>600</td><td>248</td></tr>",
                            "<tr><td>357</td><td>600</td><td>260</td></tr>",
                            "<tr><td>358</td><td>600</td><td>214</td></tr>",
                            "<tr><td>358</td><td>600</td><td>233</td></tr>",
                            "<tr><td>358</td><td>600</td><td>246</td></tr>",
                            "<tr><td>359</td><td>750</td><td>360</td></tr>",
                            "<tr><td>359</td><td>750</td><td>369</td></tr>",
                            "<tr><td>359</td><td>750</td><td>374</td></tr>",
                            "<tr><td>360</td><td>750</td><td>353</td></tr>",
                            "<tr><td>360</td><td>750</td><td>363</td></tr>",
                            "<tr><td>360</td><td>750</td><td>368</td></tr>",
                            "<tr><td>361</td><td>750</td><td>499</td></tr>",
                            "<tr><td>361</td><td>750</td><td>531</td></tr>",
                            "<tr><td>361</td><td>750</td><td>601</td></tr>",
                            "<tr><td>362</td><td>750</td><td>315</td></tr>",
                            "<tr><td>362</td><td>750</td><td>334</td></tr>",
                            "<tr><td>362</td><td>750</td><td>377</td></tr>",
                            "<tr><td>363</td><td>750</td><td>499</td></tr>",
                            "<tr><td>363</td><td>750</td><td>619</td></tr>",
                            "<tr><td>363</td><td>750</td><td>643</td></tr>",
                            "<tr><td>364</td><td>750</td><td>326</td></tr>",
                            "<tr><td>364</td><td>750</td><td>358</td></tr>",
                            "<tr><td>364</td><td>750</td><td>368</td></tr>",
                            "<tr><td>365</td><td>750</td><td>411</td></tr>",
                            "<tr><td>365</td><td>750</td><td>619</td></tr>",
                            "<tr><td>365</td><td>750</td><td>691</td></tr>",
                            "<tr><td>366</td><td>750</td><td>299</td></tr>",
                            "<tr><td>366</td><td>750</td><td>318</td></tr>",
                            "<tr><td>366</td><td>750</td><td>412</td></tr>",
                            "<tr><td>367</td><td>750</td><td>569</td></tr>",
                            "<tr><td>367</td><td>750</td><td>643</td></tr>",
                            "<tr><td>367</td><td>750</td><td>689</td></tr>",
                            "<tr><td>368</td><td>750</td><td>360</td></tr>",
                            "<tr><td>368</td><td>750</td><td>369</td></tr>",
                            "<tr><td>368</td><td>750</td><td>374</td></tr>",
                            "<tr><td>369</td><td>750</td><td>353</td></tr>",
                            "<tr><td>369</td><td>750</td><td>363</td></tr>",
                            "<tr><td>369</td><td>750</td><td>368</td></tr>",
                            "<tr><td>370</td><td>750</td><td>155</td></tr>",
                            "<tr><td>370</td><td>750</td><td>252</td></tr>",
                            "<tr><td>370</td><td>750</td><td>476</td></tr>",
                            "<tr><td>371</td><td>750</td><td>547</td></tr>",
                            "<tr><td>371</td><td>750</td><td>585</td></tr>",
                            "<tr><td>371</td><td>750</td><td>649</td></tr>",
                            "<tr><td>372</td><td>750</td><td>272</td></tr>",
                            "<tr><td>372</td><td>750</td><td>281</td></tr>",
                            "<tr><td>372</td><td>750</td><td>344</td></tr>",
                            "<tr><td>373</td><td>750</td><td>275</td></tr>",
                            "<tr><td>373</td><td>750</td><td>284</td></tr>",
                            "<tr><td>373</td><td>750</td><td>347</td></tr>",
                            "<tr><td>374</td><td>750</td><td>278</td></tr>",
                            "<tr><td>374</td><td>750</td><td>288</td></tr>",
                            "<tr><td>374</td><td>750</td><td>350</td></tr>",
                            "<tr><td>375</td><td>750</td><td>281</td></tr>",
                            "<tr><td>375</td><td>750</td><td>291</td></tr>",
                            "<tr><td>375</td><td>750</td><td>353</td></tr>",
                            "<tr><td>376</td><td>750</td><td>547</td></tr>",
                            "<tr><td>376</td><td>750</td><td>585</td></tr>",
                            "<tr><td>376</td><td>750</td><td>649</td></tr>",
                            "<tr><td>377</td><td>750</td><td>249</td></tr>",
                            "<tr><td>377</td><td>750</td><td>299</td></tr>",
                            "<tr><td>377</td><td>750</td><td>393</td></tr>",
                            "<tr><td>378</td><td>750</td><td>244</td></tr>",
                            "<tr><td>378</td><td>750</td><td>294</td></tr>",
                            "<tr><td>378</td><td>750</td><td>388</td></tr>",
                            "<tr><td>379</td><td>750</td><td>323</td></tr>",
                            "<tr><td>379</td><td>750</td><td>691</td></tr>",
                            "<tr><td>380</td><td>750</td><td>156</td></tr>",
                            "<tr><td>380</td><td>750</td><td>264</td></tr>",
                            "<tr><td>380</td><td>750</td><td>350</td></tr>",
                            "<tr><td>381</td><td>750</td><td>163</td></tr>",
                            "<tr><td>381</td><td>750</td><td>270</td></tr>",
                            "<tr><td>381</td><td>750</td><td>356</td></tr>",
                            "<tr><td>382</td><td>750</td><td>169</td></tr>",
                            "<tr><td>382</td><td>750</td><td>276</td></tr>",
                            "<tr><td>382</td><td>750</td><td>363</td></tr>",
                            "<tr><td>383</td><td>750</td><td>587</td></tr>",
                            "<tr><td>383</td><td>750</td><td>638</td></tr>",
                            "<tr><td>383</td><td>750</td><td>676</td></tr>",
                            "<tr><td>384</td><td>750</td><td>217</td></tr>",
                            "<tr><td>384</td><td>750</td><td>299</td></tr>",
                            "<tr><td>384</td><td>750</td><td>304</td></tr>",
                            "<tr><td>385</td><td>750</td><td>526</td></tr>",
                            "<tr><td>385</td><td>750</td><td>619</td></tr>",
                            "<tr><td>385</td><td>750</td><td>633</td></tr>",
                            "<tr><td>386</td><td>750</td><td>148</td></tr>",
                            "<tr><td>386</td><td>750</td><td>192</td></tr>",
                            "<tr><td>386</td><td>750</td><td>385</td></tr>",
                            "<tr><td>387</td><td>750</td><td>524</td></tr>",
                            "<tr><td>387</td><td>750</td><td>654</td></tr>",
                            "<tr><td>387</td><td>750</td><td>710</td></tr>",
                            "<tr><td>388</td><td>750</td><td>140</td></tr>",
                            "<tr><td>388</td><td>750</td><td>292</td></tr>",
                            "<tr><td>388</td><td>750</td><td>366</td></tr>",
                            "<tr><td>389</td><td>750</td><td>460</td></tr>",
                            "<tr><td>389</td><td>750</td><td>657</td></tr>",
                            "<tr><td>389</td><td>750</td><td>691</td></tr>",
                            "<tr><td>390</td><td>750</td><td>140</td></tr>",
                            "<tr><td>390</td><td>750</td><td>292</td></tr>",
                            "<tr><td>390</td><td>750</td><td>366</td></tr>",
                            "<tr><td>391</td><td>750</td><td>144</td></tr>",
                            "<tr><td>391</td><td>750</td><td>296</td></tr>",
                            "<tr><td>391</td><td>750</td><td>369</td></tr>",
                            "<tr><td>392</td><td>750</td><td>147</td></tr>",
                            "<tr><td>392</td><td>750</td><td>299</td></tr>",
                            "<tr><td>392</td><td>750</td><td>372</td></tr>",
                            "<tr><td>393</td><td>750</td><td>497</td></tr>",
                            "<tr><td>393</td><td>750</td><td>603</td></tr>",
                            "<tr><td>394</td><td>750</td><td>150</td></tr>",
                            "<tr><td>394</td><td>750</td><td>302</td></tr>",
                            "<tr><td>394</td><td>750</td><td>459</td></tr>",
                            "<tr><td>395</td><td>750</td><td>148</td></tr>",
                            "<tr><td>395</td><td>750</td><td>281</td></tr>",
                            "<tr><td>395</td><td>750</td><td>355</td></tr>",
                            "<tr><td>396</td><td>750</td><td>585</td></tr>",
                            "<tr><td>396</td><td>750</td><td>603</td></tr>",
                            "<tr><td>396</td><td>750</td><td>636</td></tr>",
                            "<tr><td>397</td><td>750</td><td>339</td></tr>",
                            "<tr><td>397</td><td>750</td><td>550</td></tr>",
                            "<tr><td>398</td><td>600</td><td>372</td></tr>",
                            "<tr><td>398</td><td>600</td><td>404</td></tr>",
                            "<tr><td>398</td><td>600</td><td>550</td></tr>",
                            "<tr><td>399</td><td>600</td><td>366</td></tr>",
                            "<tr><td>399</td><td>600</td><td>398</td></tr>",
                            "<tr><td>399</td><td>600</td><td>544</td></tr>",
                            "<tr><td>400</td><td>375</td><td>246</td></tr>",
                            "<tr><td>400</td><td>375</td><td>260</td></tr>",
                            "<tr><td>400</td><td>375</td><td>284</td></tr>",
                            "<tr><td>401</td><td>375</td><td>212</td></tr>",
                            "<tr><td>401</td><td>375</td><td>283</td></tr>",
                            "<tr><td>401</td><td>375</td><td>302</td></tr>",
                            "<tr><td>402</td><td>750</td><td>316</td></tr>",
                            "<tr><td>402</td><td>750</td><td>321</td></tr>",
                            "<tr><td>402</td><td>750</td><td>353</td></tr>",
                            "<tr><td>403</td><td>750</td><td>313</td></tr>",
                            "<tr><td>403</td><td>750</td><td>318</td></tr>",
                            "<tr><td>403</td><td>750</td><td>350</td></tr>",
                            "<tr><td>404</td><td>750</td><td>310</td></tr>",
                            "<tr><td>404</td><td>750</td><td>315</td></tr>",
                            "<tr><td>404</td><td>750</td><td>347</td></tr>",
                            "<tr><td>405</td><td>750</td><td>307</td></tr>",
                            "<tr><td>405</td><td>750</td><td>312</td></tr>",
                            "<tr><td>405</td><td>750</td><td>344</td></tr>",
                            "<tr><td>406</td><td>750</td><td>304</td></tr>",
                            "<tr><td>406</td><td>750</td><td>308</td></tr>",
                            "<tr><td>406</td><td>750</td><td>340</td></tr>",
                            "<tr><td>407</td><td>750</td><td>460</td></tr>",
                            "<tr><td>407</td><td>750</td><td>587</td></tr>",
                            "<tr><td>407</td><td>750</td><td>625</td></tr>",
                            "<tr><td>408</td><td>750</td><td>296</td></tr>",
                            "<tr><td>408</td><td>750</td><td>344</td></tr>",
                            "<tr><td>408</td><td>750</td><td>417</td></tr>",
                            "<tr><td>409</td><td>750</td><td>292</td></tr>",
                            "<tr><td>409</td><td>750</td><td>340</td></tr>",
                            "<tr><td>409</td><td>750</td><td>414</td></tr>",
                            "<tr><td>410</td><td>750</td><td>289</td></tr>",
                            "<tr><td>410</td><td>750</td><td>337</td></tr>",
                            "<tr><td>410</td><td>750</td><td>411</td></tr>",
                            "<tr><td>411</td><td>750</td><td>459</td></tr>",
                            "<tr><td>411</td><td>750</td><td>552</td></tr>",
                            "<tr><td>411</td><td>750</td><td>603</td></tr>",
                            "<tr><td>412</td><td>750</td><td>156</td></tr>",
                            "<tr><td>412</td><td>750</td><td>299</td></tr>",
                            "<tr><td>412</td><td>750</td><td>321</td></tr>",
                            "<tr><td>413</td><td>750</td><td>459</td></tr>",
                            "<tr><td>413</td><td>750</td><td>603</td></tr>",
                            "<tr><td>413</td><td>750</td><td>641</td></tr>",
                            "<tr><td>414</td><td>750</td><td>321</td></tr>",
                            "<tr><td>414</td><td>750</td><td>371</td></tr>",
                            "<tr><td>414</td><td>750</td><td>427</td></tr>",
                            "<tr><td>415</td><td>750</td><td>316</td></tr>",
                            "<tr><td>415</td><td>750</td><td>366</td></tr>",
                            "<tr><td>415</td><td>750</td><td>422</td></tr>",
                            "<tr><td>416</td><td>750</td><td>312</td></tr>",
                            "<tr><td>416</td><td>750</td><td>361</td></tr>",
                            "<tr><td>416</td><td>750</td><td>417</td></tr>",
                            "<tr><td>417</td><td>750</td><td>516</td></tr>",
                            "<tr><td>417</td><td>750</td><td>572</td></tr>",
                            "<tr><td>417</td><td>750</td><td>627</td></tr>",
                            "<tr><td>418</td><td>750</td><td>248</td></tr>",
                            "<tr><td>418</td><td>750</td><td>283</td></tr>",
                            "<tr><td>418</td><td>750</td><td>388</td></tr>",
                            "<tr><td>419</td><td>750</td><td>246</td></tr>",
                            "<tr><td>419</td><td>750</td><td>281</td></tr>",
                            "<tr><td>419</td><td>750</td><td>387</td></tr>",
                            "<tr><td>420</td><td>750</td><td>244</td></tr>",
                            "<tr><td>420</td><td>750</td><td>280</td></tr>",
                            "<tr><td>420</td><td>750</td><td>385</td></tr>",
                            "<tr><td>421</td><td>750</td><td>243</td></tr>",
                            "<tr><td>421</td><td>750</td><td>278</td></tr>",
                            "<tr><td>421</td><td>750</td><td>384</td></tr>",
                            "<tr><td>422</td><td>750</td><td>497</td></tr>",
                            "<tr><td>422</td><td>750</td><td>515</td></tr>",
                            "<tr><td>422</td><td>750</td><td>620</td></tr>",
                            "<tr><td>423</td><td>750</td><td>496</td></tr>",
                            "<tr><td>423</td><td>750</td><td>513</td></tr>",
                            "<tr><td>423</td><td>750</td><td>619</td></tr>",
                            "<tr><td>424</td><td>750</td><td>494</td></tr>",
                            "<tr><td>424</td><td>750</td><td>512</td></tr>",
                            "<tr><td>424</td><td>750</td><td>617</td></tr>",
                            "<tr><td>425</td><td>750</td><td>492</td></tr>",
                            "<tr><td>425</td><td>750</td><td>510</td></tr>",
                            "<tr><td>425</td><td>750</td><td>616</td></tr>",
                            "<tr><td>426</td><td>750</td><td>491</td></tr>",
                            "<tr><td>426</td><td>750</td><td>508</td></tr>",
                            "<tr><td>426</td><td>750</td><td>614</td></tr>",
                            "<tr><td>427</td><td>750</td><td>489</td></tr>",
                            "<tr><td>427</td><td>750</td><td>507</td></tr>",
                            "<tr><td>427</td><td>750</td><td>612</td></tr>",
                            "<tr><td>428</td><td>750</td><td>488</td></tr>",
                            "<tr><td>428</td><td>750</td><td>505</td></tr>",
                            "<tr><td>428</td><td>750</td><td>611</td></tr>",
                            "<tr><td>429</td><td>750</td><td>486</td></tr>",
                            "<tr><td>429</td><td>750</td><td>504</td></tr>",
                            "<tr><td>429</td><td>750</td><td>609</td></tr>",
                            "<tr><td>430</td><td>750</td><td>484</td></tr>",
                            "<tr><td>430</td><td>750</td><td>502</td></tr>",
                            "<tr><td>430</td><td>750</td><td>608</td></tr>",
                            "<tr><td>431</td><td>750</td><td>488</td></tr>",
                            "<tr><td>431</td><td>750</td><td>505</td></tr>",
                            "<tr><td>431</td><td>750</td><td>611</td></tr>",
                            "<tr><td>432</td><td>750</td><td>491</td></tr>",
                            "<tr><td>432</td><td>750</td><td>508</td></tr>",
                            "<tr><td>432</td><td>750</td><td>614</td></tr>",
                            "<tr><td>433</td><td>750</td><td>494</td></tr>",
                            "<tr><td>433</td><td>750</td><td>512</td></tr>",
                            "<tr><td>433</td><td>750</td><td>617</td></tr>",
                            "<tr><td>434</td><td>750</td><td>497</td></tr>",
                            "<tr><td>434</td><td>750</td><td>515</td></tr>",
                            "<tr><td>434</td><td>750</td><td>620</td></tr>",
                            "<tr><td>435</td><td>750</td><td>500</td></tr>",
                            "<tr><td>435</td><td>750</td><td>518</td></tr>",
                            "<tr><td>435</td><td>750</td><td>624</td></tr>",
                            "<tr><td>436</td><td>750</td><td>504</td></tr>",
                            "<tr><td>436</td><td>750</td><td>521</td></tr>",
                            "<tr><td>436</td><td>750</td><td>627</td></tr>",
                            "<tr><td>437</td><td>750</td><td>507</td></tr>",
                            "<tr><td>437</td><td>750</td><td>524</td></tr>",
                            "<tr><td>437</td><td>750</td><td>630</td></tr>",
                            "<tr><td>438</td><td>750</td><td>510</td></tr>",
                            "<tr><td>438</td><td>750</td><td>528</td></tr>",
                            "<tr><td>438</td><td>750</td><td>633</td></tr>",
                            "<tr><td>439</td><td>750</td><td>513</td></tr>",
                            "<tr><td>439</td><td>750</td><td>531</td></tr>",
                            "<tr><td>439</td><td>750</td><td>636</td></tr>",
                            "<tr><td>440</td><td>750</td><td>516</td></tr>",
                            "<tr><td>440</td><td>750</td><td>534</td></tr>",
                            "<tr><td>440</td><td>750</td><td>640</td></tr>",
                            "<tr><td>441</td><td>750</td><td>512</td></tr>",
                            "<tr><td>441</td><td>750</td><td>529</td></tr>",
                            "<tr><td>441</td><td>750</td><td>635</td></tr>",
                            "<tr><td>442</td><td>750</td><td>507</td></tr>",
                            "<tr><td>442</td><td>750</td><td>524</td></tr>",
                            "<tr><td>442</td><td>750</td><td>630</td></tr>",
                            "<tr><td>443</td><td>750</td><td>502</td></tr>",
                            "<tr><td>443</td><td>750</td><td>520</td></tr>",
                            "<tr><td>443</td><td>750</td><td>625</td></tr>",
                            "<tr><td>444</td><td>750</td><td>497</td></tr>",
                            "<tr><td>444</td><td>750</td><td>515</td></tr>",
                            "<tr><td>444</td><td>750</td><td>620</td></tr>",
                            "<tr><td>445</td><td>750</td><td>492</td></tr>",
                            "<tr><td>445</td><td>750</td><td>510</td></tr>",
                            "<tr><td>445</td><td>750</td><td>616</td></tr>",
                            "<tr><td>446</td><td>750</td><td>488</td></tr>",
                            "<tr><td>446</td><td>750</td><td>505</td></tr>",
                            "<tr><td>446</td><td>750</td><td>611</td></tr>",
                            "<tr><td>447</td><td>750</td><td>483</td></tr>",
                            "<tr><td>447</td><td>750</td><td>500</td></tr>",
                            "<tr><td>447</td><td>750</td><td>606</td></tr>",
                            "<tr><td>448</td><td>750</td><td>478</td></tr>",
                            "<tr><td>448</td><td>750</td><td>496</td></tr>",
                            "<tr><td>448</td><td>750</td><td>601</td></tr>",
                            "<tr><td>449</td><td>750</td><td>473</td></tr>",
                            "<tr><td>449</td><td>750</td><td>491</td></tr>",
                            "<tr><td>449</td><td>750</td><td>596</td></tr>",
                            "<tr><td>450</td><td>750</td><td>468</td></tr>",
                            "<tr><td>450</td><td>750</td><td>486</td></tr>",
                            "<tr><td>450</td><td>750</td><td>592</td></tr>",
                            "<tr><td>451</td><td>750</td><td>472</td></tr>",
                            "<tr><td>451</td><td>750</td><td>489</td></tr>",
                            "<tr><td>451</td><td>750</td><td>595</td></tr>",
                            "<tr><td>452</td><td>750</td><td>475</td></tr>",
                            "<tr><td>452</td><td>750</td><td>492</td></tr>",
                            "<tr><td>452</td><td>750</td><td>598</td></tr>",
                            "<tr><td>453</td><td>750</td><td>478</td></tr>",
                            "<tr><td>453</td><td>750</td><td>496</td></tr>",
                            "<tr><td>453</td><td>750</td><td>601</td></tr>",
                            "<tr><td>454</td><td>750</td><td>481</td></tr>",
                            "<tr><td>454</td><td>750</td><td>499</td></tr>",
                            "<tr><td>454</td><td>750</td><td>604</td></tr>",
                            "<tr><td>455</td><td>750</td><td>484</td></tr>",
                            "<tr><td>455</td><td>750</td><td>502</td></tr>",
                            "<tr><td>455</td><td>750</td><td>608</td></tr>",
                            "<tr><td>456</td><td>750</td><td>488</td></tr>",
                            "<tr><td>456</td><td>750</td><td>505</td></tr>",
                            "<tr><td>456</td><td>750</td><td>611</td></tr>",
                            "<tr><td>457</td><td>750</td><td>491</td></tr>",
                            "<tr><td>457</td><td>750</td><td>508</td></tr>",
                            "<tr><td>457</td><td>750</td><td>614</td></tr>",
                            "<tr><td>458</td><td>750</td><td>494</td></tr>",
                            "<tr><td>458</td><td>750</td><td>512</td></tr>",
                            "<tr><td>458</td><td>750</td><td>617</td></tr>",
                            "<tr><td>459</td><td>750</td><td>497</td></tr>",
                            "<tr><td>459</td><td>750</td><td>515</td></tr>",
                            "<tr><td>459</td><td>750</td><td>620</td></tr>",
                            "<tr><td>460</td><td>750</td><td>500</td></tr>",
                            "<tr><td>460</td><td>750</td><td>518</td></tr>",
                            "<tr><td>460</td><td>750</td><td>624</td></tr>",
                            "<tr><td>461</td><td>750</td><td>504</td></tr>",
                            "<tr><td>461</td><td>750</td><td>521</td></tr>",
                            "<tr><td>461</td><td>750</td><td>627</td></tr>",
                            "<tr><td>462</td><td>750</td><td>187</td></tr>",
                            "<tr><td>462</td><td>750</td><td>204</td></tr>",
                            "<tr><td>462</td><td>750</td><td>310</td></tr>",
                            "<tr><td>463</td><td>750</td><td>499</td></tr>",
                            "<tr><td>463</td><td>750</td><td>566</td></tr>",
                            "<tr><td>463</td><td>750</td><td>620</td></tr>",
                            "<tr><td>464</td><td>750</td><td>500</td></tr>",
                            "<tr><td>464</td><td>750</td><td>568</td></tr>",
                            "<tr><td>464</td><td>750</td><td>622</td></tr>",
                            "<tr><td>465</td><td>750</td><td>502</td></tr>",
                            "<tr><td>465</td><td>750</td><td>569</td></tr>",
                            "<tr><td>465</td><td>750</td><td>624</td></tr>",
                            "<tr><td>466</td><td>750</td><td>504</td></tr>",
                            "<tr><td>466</td><td>750</td><td>571</td></tr>",
                            "<tr><td>466</td><td>750</td><td>625</td></tr>",
                            "<tr><td>467</td><td>750</td><td>505</td></tr>",
                            "<tr><td>467</td><td>750</td><td>572</td></tr>",
                            "<tr><td>467</td><td>750</td><td>627</td></tr>",
                            "<tr><td>468</td><td>750</td><td>507</td></tr>",
                            "<tr><td>468</td><td>750</td><td>574</td></tr>",
                            "<tr><td>468</td><td>750</td><td>628</td></tr>",
                            "<tr><td>469</td><td>750</td><td>508</td></tr>",
                            "<tr><td>469</td><td>750</td><td>576</td></tr>",
                            "<tr><td>469</td><td>750</td><td>630</td></tr>",
                            "<tr><td>470</td><td>750</td><td>510</td></tr>",
                            "<tr><td>470</td><td>750</td><td>577</td></tr>",
                            "<tr><td>470</td><td>750</td><td>632</td></tr>",
                            "<tr><td>471</td><td>750</td><td>512</td></tr>",
                            "<tr><td>471</td><td>750</td><td>579</td></tr>",
                            "<tr><td>471</td><td>750</td><td>633</td></tr>",
                            "<tr><td>472</td><td>750</td><td>513</td></tr>",
                            "<tr><td>472</td><td>750</td><td>580</td></tr>",
                            "<tr><td>472</td><td>750</td><td>635</td></tr>",
                            "<tr><td>473</td><td>750</td><td>515</td></tr>",
                            "<tr><td>473</td><td>750</td><td>582</td></tr>",
                            "<tr><td>473</td><td>750</td><td>636</td></tr>",
                            "<tr><td>474</td><td>750</td><td>516</td></tr>",
                            "<tr><td>474</td><td>750</td><td>584</td></tr>",
                            "<tr><td>474</td><td>750</td><td>638</td></tr>",
                            "<tr><td>475</td><td>750</td><td>518</td></tr>",
                            "<tr><td>475</td><td>750</td><td>585</td></tr>",
                            "<tr><td>475</td><td>750</td><td>640</td></tr>",
                            "<tr><td>476</td><td>750</td><td>324</td></tr>",
                            "<tr><td>476</td><td>750</td><td>355</td></tr>",
                            "<tr><td>476</td><td>750</td><td>404</td></tr>",
                            "<tr><td>477</td><td>750</td><td>323</td></tr>",
                            "<tr><td>477</td><td>750</td><td>353</td></tr>",
                            "<tr><td>477</td><td>750</td><td>403</td></tr>",
                            "<tr><td>478</td><td>750</td><td>497</td></tr>",
                            "<tr><td>478</td><td>750</td><td>568</td></tr>",
                            "<tr><td>478</td><td>750</td><td>622</td></tr>",
                            "<tr><td>479</td><td>750</td><td>198</td></tr>",
                            "<tr><td>479</td><td>750</td><td>390</td></tr>",
                            "<tr><td>479</td><td>750</td><td>441</td></tr>",
                            "<tr><td>480</td><td>750</td><td>457</td></tr>",
                            "<tr><td>480</td><td>750</td><td>515</td></tr>",
                            "<tr><td>480</td><td>750</td><td>689</td></tr>",
                            "<tr><td>481</td><td>750</td><td>196</td></tr>",
                            "<tr><td>481</td><td>750</td><td>374</td></tr>",
                            "<tr><td>481</td><td>750</td><td>427</td></tr>",
                            "<tr><td>482</td><td>750</td><td>176</td></tr>",
                            "<tr><td>482</td><td>750</td><td>321</td></tr>",
                            "<tr><td>482</td><td>750</td><td>427</td></tr>",
                            "<tr><td>483</td><td>750</td><td>459</td></tr>",
                            "<tr><td>483</td><td>750</td><td>531</td></tr>",
                            "<tr><td>483</td><td>750</td><td>691</td></tr>",
                            "<tr><td>484</td><td>750</td><td>196</td></tr>",
                            "<tr><td>484</td><td>750</td><td>374</td></tr>",
                            "<tr><td>484</td><td>750</td><td>427</td></tr>",
                            "<tr><td>485</td><td>750</td><td>176</td></tr>",
                            "<tr><td>485</td><td>750</td><td>321</td></tr>",
                            "<tr><td>485</td><td>750</td><td>427</td></tr>",
                            "<tr><td>486</td><td>750</td><td>457</td></tr>",
                            "<tr><td>486</td><td>750</td><td>515</td></tr>",
                            "<tr><td>486</td><td>750</td><td>689</td></tr>",
                            "<tr><td>487</td><td>750</td><td>324</td></tr>",
                            "<tr><td>487</td><td>750</td><td>331</td></tr>",
                            "<tr><td>487</td><td>750</td><td>337</td></tr>",
                            "<tr><td>488</td><td>750</td><td>305</td></tr>",
                            "<tr><td>488</td><td>750</td><td>312</td></tr>",
                            "<tr><td>488</td><td>750</td><td>318</td></tr>",
                            "<tr><td>489</td><td>750</td><td>606</td></tr>",
                            "<tr><td>489</td><td>750</td><td>612</td></tr>",
                            "<tr><td>489</td><td>750</td><td>619</td></tr>",
                            "<tr><td>490</td><td>750</td><td>587</td></tr>",
                            "<tr><td>490</td><td>750</td><td>593</td></tr>",
                            "<tr><td>490</td><td>750</td><td>600</td></tr>",
                            "<tr><td>491</td><td>750</td><td>248</td></tr>",
                            "<tr><td>491</td><td>750</td><td>254</td></tr>",
                            "<tr><td>491</td><td>750</td><td>420</td></tr>",
                            "<tr><td>492</td><td>45</td><td>14</td></tr>",
                            "<tr><td>492</td><td>45</td><td>16</td></tr>",
                            "<tr><td>492</td><td>45</td><td>17</td></tr>",
                            "<tr><td>493</td><td>45</td><td>24</td></tr>",
                            "<tr><td>493</td><td>45</td><td>28</td></tr>",
                            "<tr><td>493</td><td>45</td><td>41</td></tr>",
                            "<tr><td>494</td><td>45</td><td>4</td></tr>",
                            "<tr><td>494</td><td>45</td><td>12</td></tr>",
                            "<tr><td>495</td><td>45</td><td>25</td></tr>",
                            "<tr><td>495</td><td>45</td><td>35</td></tr>",
                            "<tr><td>496</td><td>45</td><td>25</td></tr>",
                            "<tr><td>496</td><td>45</td><td>30</td></tr>",
                            "<tr><td>496</td><td>45</td><td>44</td></tr>",
                            "<tr><td>497</td><td>750</td><td>273</td></tr>",
                            "<tr><td>497</td><td>750</td><td>336</td></tr>",
                            "<tr><td>497</td><td>750</td><td>364</td></tr>",
                            "<tr><td>504</td><td>750</td><td>320</td></tr>",
                            "<tr><td>504</td><td>750</td><td>372</td></tr>",
                            "<tr><td>504</td><td>750</td><td>392</td></tr>",
                            "<tr><td>505</td><td>750</td><td>283</td></tr>",
                            "<tr><td>505</td><td>750</td><td>299</td></tr>",
                            "<tr><td>505</td><td>750</td><td>388</td></tr>",
                            "<tr><td>506</td><td>750</td><td>121</td></tr>",
                            "<tr><td>506</td><td>750</td><td>316</td></tr>",
                            "<tr><td>506</td><td>750</td><td>390</td></tr>",
                            "<tr><td>507</td><td>600</td><td>542</td></tr>",
                            "<tr><td>508</td><td>600</td><td>550</td></tr>",
                            "<tr><td>509</td><td>600</td><td>558</td></tr>",
                            "<tr><td>510</td><td>600</td><td>316</td></tr>",
                            "<tr><td>510</td><td>600</td><td>406</td></tr>",
                            "<tr><td>511</td><td>600</td><td>350</td></tr>",
                            "<tr><td>511</td><td>600</td><td>390</td></tr>",
                            "<tr><td>512</td><td>600</td><td>281</td></tr>",
                            "<tr><td>512</td><td>600</td><td>334</td></tr>",
                            "<tr><td>514</td><td>375</td><td>212</td></tr>",
                            "<tr><td>514</td><td>375</td><td>267</td></tr>",
                            "<tr><td>514</td><td>375</td><td>318</td></tr>",
                            "<tr><td>515</td><td>375</td><td>214</td></tr>",
                            "<tr><td>515</td><td>375</td><td>268</td></tr>",
                            "<tr><td>515</td><td>375</td><td>320</td></tr>",
                            "<tr><td>516</td><td>375</td><td>216</td></tr>",
                            "<tr><td>516</td><td>375</td><td>270</td></tr>",
                            "<tr><td>516</td><td>375</td><td>321</td></tr>",
                            "<tr><td>517</td><td>375</td><td>217</td></tr>",
                            "<tr><td>517</td><td>375</td><td>272</td></tr>",
                            "<tr><td>517</td><td>375</td><td>323</td></tr>",
                            "<tr><td>518</td><td>375</td><td>219</td></tr>",
                            "<tr><td>518</td><td>375</td><td>273</td></tr>",
                            "<tr><td>518</td><td>375</td><td>324</td></tr>",
                            "<tr><td>519</td><td>375</td><td>220</td></tr>",
                            "<tr><td>519</td><td>375</td><td>275</td></tr>",
                            "<tr><td>519</td><td>375</td><td>326</td></tr>",
                            "<tr><td>520</td><td>375</td><td>222</td></tr>",
                            "<tr><td>520</td><td>375</td><td>276</td></tr>",
                            "<tr><td>520</td><td>375</td><td>328</td></tr>",
                            "<tr><td>521</td><td>375</td><td>224</td></tr>",
                            "<tr><td>521</td><td>375</td><td>278</td></tr>",
                            "<tr><td>521</td><td>375</td><td>329</td></tr>",
                            "<tr><td>522</td><td>375</td><td>225</td></tr>",
                            "<tr><td>522</td><td>375</td><td>280</td></tr>",
                            "<tr><td>522</td><td>375</td><td>331</td></tr>",
                            "<tr><td>523</td><td>375</td><td>139</td></tr>",
                            "<tr><td>523</td><td>375</td><td>164</td></tr>",
                            "<tr><td>523</td><td>375</td><td>209</td></tr>",
                            "<tr><td>524</td><td>375</td><td>107</td></tr>",
                            "<tr><td>524</td><td>375</td><td>124</td></tr>",
                            "<tr><td>524</td><td>375</td><td>228</td></tr>",
                            "<tr><td>526</td><td>600</td><td>587</td></tr>",
                            "<tr><td>527</td><td>750</td><td>702</td></tr>",
                            "<tr><td>528</td><td>750</td><td>729</td></tr>",
                            "<tr><td>529</td><td>375</td><td>371</td></tr>",
                            "<tr><td>530</td><td>375</td><td>336</td></tr>",
                            "<tr><td>531</td><td>375</td><td>374</td></tr>",
                            "<tr><td>532</td><td>600</td><td>542</td></tr>",
                            "<tr><td>534</td><td>375</td><td>278</td></tr>",
                            "<tr><td>535</td><td>600</td><td>409</td></tr>",
                            "<tr><td>535</td><td>600</td><td>427</td></tr>",
                            "<tr><td>679</td><td>375</td><td>121</td></tr>",
                            "<tr><td>679</td><td>375</td><td>136</td></tr>",
                            "<tr><td>679</td><td>375</td><td>164</td></tr>",
                            "<tr><td>747</td><td>375</td><td>107</td></tr>",
                            "<tr><td>747</td><td>375</td><td>121</td></tr>",
                            "<tr><td>747</td><td>375</td><td>137</td></tr>",
                            "<tr><td>747</td><td>375</td><td>148</td></tr>",
                            "<tr><td>747</td><td>375</td><td>160</td></tr>",
                            "<tr><td>747</td><td>375</td><td>161</td></tr>",
                            "<tr><td>748</td><td>375</td><td>91</td></tr>",
                            "<tr><td>748</td><td>375</td><td>105</td></tr>",
                            "<tr><td>748</td><td>375</td><td>121</td></tr>",
                            "<tr><td>748</td><td>375</td><td>132</td></tr>",
                            "<tr><td>748</td><td>375</td><td>144</td></tr>",
                            "<tr><td>748</td><td>375</td><td>145</td></tr>",
                            "<tr><td>749</td><td>75</td><td>60</td></tr>",
                            "<tr><td>749</td><td>75</td><td>73</td></tr>",
                            "<tr><td>751</td><td>75</td><td>32</td></tr>",
                            "<tr><td>752</td><td>75</td><td>52</td></tr>",
                            "<tr><td>753</td><td>75</td><td>51</td></tr>",
                            "<tr><td>754</td><td>75</td><td>65</td></tr>",
                            "<tr><td>755</td><td>75</td><td>62</td></tr>",
                            "<tr><td>755</td><td>75</td><td>75</td></tr>",
                            "<tr><td>756</td><td>75</td><td>30</td></tr>",
                            "<tr><td>757</td><td>75</td><td>56</td></tr>",
                            "<tr><td>758</td><td>75</td><td>49</td></tr>",
                            "<tr><td>759</td><td>75</td><td>51</td></tr>",
                            "<tr><td>761</td><td>75</td><td>67</td></tr>",
                            "<tr><td>762</td><td>75</td><td>62</td></tr>",
                            "<tr><td>762</td><td>75</td><td>75</td></tr>",
                            "<tr><td>764</td><td>75</td><td>32</td></tr>",
                            "<tr><td>765</td><td>75</td><td>56</td></tr>",
                            "<tr><td>766</td><td>75</td><td>49</td></tr>",
                            "<tr><td>768</td><td>75</td><td>67</td></tr>",
                            "<tr><td>769</td><td>75</td><td>60</td></tr>",
                            "<tr><td>769</td><td>75</td><td>73</td></tr>",
                            "<tr><td>771</td><td>75</td><td>49</td></tr>",
                            "<tr><td>772</td><td>75</td><td>65</td></tr>",
                            "<tr><td>773</td><td>75</td><td>75</td></tr>",
                            "<tr><td>774</td><td>75</td><td>62</td></tr>",
                            "<tr><td>775</td><td>75</td><td>56</td></tr>",
                            "<tr><td>777</td><td>75</td><td>49</td></tr>",
                            "<tr><td>778</td><td>75</td><td>65</td></tr>",
                            "<tr><td>779</td><td>75</td><td>62</td></tr>",
                            "<tr><td>779</td><td>75</td><td>75</td></tr>",
                            "<tr><td>781</td><td>75</td><td>32</td></tr>",
                            "<tr><td>783</td><td>75</td><td>65</td></tr>",
                            "<tr><td>784</td><td>75</td><td>62</td></tr>",
                            "<tr><td>784</td><td>75</td><td>75</td></tr>",
                            "<tr><td>785</td><td>75</td><td>62</td></tr>",
                            "<tr><td>785</td><td>75</td><td>75</td></tr>",
                            "<tr><td>787</td><td>75</td><td>32</td></tr>",
                            "<tr><td>788</td><td>75</td><td>52</td></tr>",
                            "<tr><td>789</td><td>75</td><td>51</td></tr>",
                            "<tr><td>791</td><td>75</td><td>67</td></tr>",
                            "<tr><td>793</td><td>75</td><td>56</td></tr>",
                            "<tr><td>794</td><td>75</td><td>49</td></tr>",
                            "<tr><td>796</td><td>75</td><td>65</td></tr>",
                            "<tr><td>797</td><td>75</td><td>67</td></tr>",
                            "<tr><td>798</td><td>75</td><td>60</td></tr>",
                            "<tr><td>798</td><td>75</td><td>73</td></tr>",
                            "<tr><td>800</td><td>75</td><td>30</td></tr>",
                            "<tr><td>801</td><td>75</td><td>56</td></tr>",
                            "<tr><td>802</td><td>375</td><td>240</td></tr>",
                            "<tr><td>802</td><td>375</td><td>273</td></tr>",
                            "<tr><td>802</td><td>375</td><td>350</td></tr>",
                            "<tr><td>803</td><td>375</td><td>246</td></tr>",
                            "<tr><td>803</td><td>375</td><td>280</td></tr>",
                            "<tr><td>803</td><td>375</td><td>356</td></tr>",
                            "<tr><td>804</td><td>375</td><td>252</td></tr>",
                            "<tr><td>804</td><td>375</td><td>286</td></tr>",
                            "<tr><td>804</td><td>375</td><td>363</td></tr>",
                            "<tr><td>805</td><td>375</td><td>212</td></tr>",
                            "<tr><td>805</td><td>375</td><td>265</td></tr>",
                            "<tr><td>805</td><td>375</td><td>284</td></tr>",
                            "<tr><td>806</td><td>375</td><td>216</td></tr>",
                            "<tr><td>806</td><td>375</td><td>268</td></tr>",
                            "<tr><td>806</td><td>375</td><td>288</td></tr>",
                            "<tr><td>807</td><td>375</td><td>219</td></tr>",
                            "<tr><td>807</td><td>375</td><td>272</td></tr>",
                            "<tr><td>807</td><td>375</td><td>291</td></tr>",
                            "<tr><td>808</td><td>375</td><td>267</td></tr>",
                            "<tr><td>808</td><td>375</td><td>276</td></tr>",
                            "<tr><td>808</td><td>375</td><td>316</td></tr>",
                            "<tr><td>809</td><td>375</td><td>264</td></tr>",
                            "<tr><td>809</td><td>375</td><td>273</td></tr>",
                            "<tr><td>809</td><td>375</td><td>313</td></tr>",
                            "<tr><td>810</td><td>375</td><td>260</td></tr>",
                            "<tr><td>810</td><td>375</td><td>270</td></tr>",
                            "<tr><td>810</td><td>375</td><td>310</td></tr>",
                            "<tr><td>811</td><td>375</td><td>257</td></tr>",
                            "<tr><td>811</td><td>375</td><td>267</td></tr>",
                            "<tr><td>811</td><td>375</td><td>307</td></tr>",
                            "<tr><td>812</td><td>375</td><td>254</td></tr>",
                            "<tr><td>812</td><td>375</td><td>264</td></tr>",
                            "<tr><td>812</td><td>375</td><td>304</td></tr>",
                            "<tr><td>813</td><td>375</td><td>251</td></tr>",
                            "<tr><td>813</td><td>375</td><td>260</td></tr>",
                            "<tr><td>813</td><td>375</td><td>300</td></tr>",
                            "<tr><td>814</td><td>375</td><td>96</td></tr>",
                            "<tr><td>814</td><td>375</td><td>110</td></tr>",
                            "<tr><td>814</td><td>375</td><td>126</td></tr>",
                            "<tr><td>814</td><td>375</td><td>137</td></tr>",
                            "<tr><td>814</td><td>375</td><td>148</td></tr>",
                            "<tr><td>814</td><td>375</td><td>150</td></tr>",
                            "<tr><td>815</td><td>375</td><td>265</td></tr>",
                            "<tr><td>820</td><td>375</td><td>232</td></tr>",
                            "<tr><td>821</td><td>375</td><td>304</td></tr>",
                            "<tr><td>822</td><td>375</td><td>100</td></tr>",
                            "<tr><td>822</td><td>375</td><td>115</td></tr>",
                            "<tr><td>822</td><td>375</td><td>131</td></tr>",
                            "<tr><td>822</td><td>375</td><td>142</td></tr>",
                            "<tr><td>822</td><td>375</td><td>153</td></tr>",
                            "<tr><td>822</td><td>375</td><td>155</td></tr>",
                            "<tr><td>823</td><td>375</td><td>256</td></tr>",
                            "<tr><td>828</td><td>375</td><td>284</td></tr>",
                            "<tr><td>829</td><td>375</td><td>265</td></tr>",
                            "<tr><td>853</td><td>3</td><td>0</td></tr>",
                            "<tr><td>859</td><td>3</td><td>0</td></tr>",
                            "<tr><td>876</td><td>3</td><td>0</td></tr>",
                            "<tr><td>882</td><td>3</td><td>0</td></tr>",
                            "<tr><td>894</td><td>375</td><td>155</td></tr>",
                            "<tr><td>894</td><td>375</td><td>337</td></tr>",
                            "<tr><td>894</td><td>375</td><td>355</td></tr>",
                            "<tr><td>907</td><td>375</td><td>158</td></tr>",
                            "<tr><td>907</td><td>375</td><td>228</td></tr>",
                            "<tr><td>907</td><td>375</td><td>337</td></tr>",
                            "<tr><td>908</td><td>375</td><td>195</td></tr>",
                            "<tr><td>908</td><td>375</td><td>214</td></tr>",
                            "<tr><td>909</td><td>375</td><td>72</td></tr>",
                            "<tr><td>909</td><td>375</td><td>120</td></tr>",
                            "<tr><td>909</td><td>375</td><td>230</td></tr>",
                            "<tr><td>910</td><td>375</td><td>91</td></tr>",
                            "<tr><td>910</td><td>375</td><td>96</td></tr>",
                            "<tr><td>910</td><td>375</td><td>168</td></tr>",
                            "<tr><td>911</td><td>375</td><td>283</td></tr>",
                            "<tr><td>911</td><td>375</td><td>302</td></tr>",
                            "<tr><td>911</td><td>375</td><td>321</td></tr>",
                            "<tr><td>912</td><td>375</td><td>246</td></tr>",
                            "<tr><td>912</td><td>375</td><td>302</td></tr>",
                            "<tr><td>912</td><td>375</td><td>353</td></tr>",
                            "<tr><td>913</td><td>375</td><td>145</td></tr>",
                            "<tr><td>913</td><td>375</td><td>153</td></tr>",
                            "<tr><td>913</td><td>375</td><td>169</td></tr>",
                            "<tr><td>914</td><td>375</td><td>171</td></tr>",
                            "<tr><td>914</td><td>375</td><td>248</td></tr>",
                            "<tr><td>915</td><td>375</td><td>83</td></tr>",
                            "<tr><td>915</td><td>375</td><td>158</td></tr>",
                            "<tr><td>915</td><td>375</td><td>161</td></tr>",
                            "<tr><td>916</td><td>375</td><td>276</td></tr>",
                            "<tr><td>916</td><td>375</td><td>288</td></tr>",
                            "<tr><td>921</td><td>375</td><td>243</td></tr>",
                            "<tr><td>921</td><td>375</td><td>286</td></tr>",
                            "<tr><td>922</td><td>375</td><td>241</td></tr>",
                            "<tr><td>922</td><td>375</td><td>264</td></tr>",
                            "<tr><td>923</td><td>375</td><td>240</td></tr>",
                            "<tr><td>923</td><td>375</td><td>262</td></tr>",
                            "<tr><td>928</td><td>375</td><td>240</td></tr>",
                            "<tr><td>928</td><td>375</td><td>369</td></tr>",
                            "<tr><td>929</td><td>375</td><td>284</td></tr>",
                            "<tr><td>930</td><td>375</td><td>232</td></tr>",
                            "<tr><td>930</td><td>375</td><td>267</td></tr>",
                            "<tr><td>931</td><td>375</td><td>236</td></tr>",
                            "<tr><td>931</td><td>375</td><td>252</td></tr>",
                            "<tr><td>932</td><td>375</td><td>192</td></tr>",
                            "<tr><td>933</td><td>375</td><td>228</td></tr>",
                            "<tr><td>933</td><td>375</td><td>299</td></tr>",
                            "<tr><td>934</td><td>375</td><td>233</td></tr>",
                            "<tr><td>934</td><td>375</td><td>249</td></tr>",
                            "<tr><td>935</td><td>375</td><td>156</td></tr>",
                            "<tr><td>935</td><td>375</td><td>174</td></tr>",
                            "<tr><td>935</td><td>375</td><td>182</td></tr>",
                            "<tr><td>936</td><td>375</td><td>155</td></tr>",
                            "<tr><td>936</td><td>375</td><td>172</td></tr>",
                            "<tr><td>936</td><td>375</td><td>180</td></tr>",
                            "<tr><td>937</td><td>375</td><td>153</td></tr>",
                            "<tr><td>937</td><td>375</td><td>171</td></tr>",
                            "<tr><td>937</td><td>375</td><td>179</td></tr>",
                            "<tr><td>938</td><td>375</td><td>152</td></tr>",
                            "<tr><td>938</td><td>375</td><td>169</td></tr>",
                            "<tr><td>938</td><td>375</td><td>177</td></tr>",
                            "<tr><td>939</td><td>375</td><td>150</td></tr>",
                            "<tr><td>939</td><td>375</td><td>168</td></tr>",
                            "<tr><td>939</td><td>375</td><td>176</td></tr>",
                            "<tr><td>940</td><td>375</td><td>267</td></tr>",
                            "<tr><td>940</td><td>375</td><td>316</td></tr>",
                            "<tr><td>940</td><td>375</td><td>323</td></tr>",
                            "<tr><td>941</td><td>375</td><td>235</td></tr>",
                            "<tr><td>941</td><td>375</td><td>262</td></tr>",
                            "<tr><td>942</td><td>375</td><td>105</td></tr>",
                            "<tr><td>942</td><td>375</td><td>120</td></tr>",
                            "<tr><td>942</td><td>375</td><td>136</td></tr>",
                            "<tr><td>942</td><td>375</td><td>147</td></tr>",
                            "<tr><td>942</td><td>375</td><td>158</td></tr>",
                            "<tr><td>942</td><td>375</td><td>160</td></tr>",
                            "<tr><td>943</td><td>375</td><td>88</td></tr>",
                            "<tr><td>943</td><td>375</td><td>102</td></tr>",
                            "<tr><td>943</td><td>375</td><td>118</td></tr>",
                            "<tr><td>943</td><td>375</td><td>129</td></tr>",
                            "<tr><td>943</td><td>375</td><td>140</td></tr>",
                            "<tr><td>943</td><td>375</td><td>142</td></tr>",
                            "<tr><td>944</td><td>375</td><td>81</td></tr>",
                            "<tr><td>944</td><td>375</td><td>96</td></tr>",
                            "<tr><td>944</td><td>375</td><td>112</td></tr>",
                            "<tr><td>944</td><td>375</td><td>123</td></tr>",
                            "<tr><td>944</td><td>375</td><td>134</td></tr>",
                            "<tr><td>944</td><td>375</td><td>136</td></tr>",
                            "<tr><td>945</td><td>375</td><td>236</td></tr>",
                            "<tr><td>945</td><td>375</td><td>270</td></tr>",
                            "<tr><td>945</td><td>375</td><td>347</td></tr>",
                            "<tr><td>946</td><td>375</td><td>248</td></tr>",
                            "<tr><td>946</td><td>375</td><td>257</td></tr>",
                            "<tr><td>946</td><td>375</td><td>297</td></tr>",
                            "<tr><td>947</td><td>375</td><td>244</td></tr>",
                            "<tr><td>947</td><td>375</td><td>254</td></tr>",
                            "<tr><td>947</td><td>375</td><td>294</td></tr>",
                            "<tr><td>948</td><td>375</td><td>347</td></tr>",
                            "<tr><td>949</td><td>375</td><td>265</td></tr>",
                            "<tr><td>949</td><td>375</td><td>284</td></tr>",
                            "<tr><td>949</td><td>375</td><td>336</td></tr>",
                            "<tr><td>950</td><td>375</td><td>272</td></tr>",
                            "<tr><td>950</td><td>375</td><td>291</td></tr>",
                            "<tr><td>950</td><td>375</td><td>342</td></tr>",
                            "<tr><td>951</td><td>375</td><td>278</td></tr>",
                            "<tr><td>951</td><td>375</td><td>297</td></tr>",
                            "<tr><td>951</td><td>375</td><td>348</td></tr>",
                            "<tr><td>952</td><td>375</td><td>161</td></tr>",
                            "<tr><td>952</td><td>375</td><td>192</td></tr>",
                            "<tr><td>952</td><td>375</td><td>236</td></tr>",
                            "<tr><td>953</td><td>75</td><td>49</td></tr>",
                            "<tr><td>954</td><td>75</td><td>65</td></tr>",
                            "<tr><td>955</td><td>75</td><td>62</td></tr>",
                            "<tr><td>955</td><td>75</td><td>75</td></tr>",
                            "<tr><td>956</td><td>75</td><td>35</td></tr>",
                            "<tr><td>956</td><td>75</td><td>40</td></tr>",
                            "<tr><td>957</td><td>75</td><td>51</td></tr>",
                            "<tr><td>958</td><td>75</td><td>35</td></tr>",
                            "<tr><td>960</td><td>75</td><td>54</td></tr>",
                            "<tr><td>962</td><td>75</td><td>67</td></tr>",
                            "<tr><td>963</td><td>75</td><td>36</td></tr>",
                            "<tr><td>965</td><td>75</td><td>72</td></tr>",
                            "<tr><td>967</td><td>75</td><td>67</td></tr>",
                            "<tr><td>968</td><td>75</td><td>60</td></tr>",
                            "<tr><td>968</td><td>75</td><td>73</td></tr>",
                            "<tr><td>969</td><td>75</td><td>30</td></tr>",
                            "<tr><td>970</td><td>75</td><td>60</td></tr>",
                            "<tr><td>970</td><td>75</td><td>73</td></tr>",
                            "<tr><td>972</td><td>75</td><td>30</td></tr>",
                            "<tr><td>974</td><td>75</td><td>67</td></tr>",
                            "<tr><td>975</td><td>75</td><td>60</td></tr>",
                            "<tr><td>975</td><td>75</td><td>73</td></tr>",
                            "<tr><td>977</td><td>75</td><td>65</td></tr>",
                            "<tr><td>978</td><td>75</td><td>72</td></tr>",
                            "<tr><td>980</td><td>75</td><td>51</td></tr>",
                            "<tr><td>981</td><td>75</td><td>67</td></tr>",
                            "<tr><td>982</td><td>75</td><td>73</td></tr>",
                            "<tr><td>983</td><td>75</td><td>60</td></tr>",
                            "<tr><td>984</td><td>75</td><td>73</td></tr>",
                            "<tr><td>985</td><td>75</td><td>60</td></tr>",
                            "<tr><td>986</td><td>75</td><td>30</td></tr>",
                            "<tr><td>987</td><td>75</td><td>56</td></tr>",
                            "<tr><td>989</td><td>75</td><td>51</td></tr>",
                            "<tr><td>990</td><td>75</td><td>67</td></tr>",
                            "<tr><td>991</td><td>75</td><td>73</td></tr>",
                            "<tr><td>992</td><td>75</td><td>60</td></tr>",
                            "<tr><td>993</td><td>75</td><td>30</td></tr>",
                            "<tr><td>994</td><td>375</td><td>212</td></tr>",
                            "<tr><td>994</td><td>375</td><td>244</td></tr>",
                            "<tr><td>994</td><td>375</td><td>358</td></tr>",
                            "<tr><td>995</td><td>375</td><td>230</td></tr>",
                            "<tr><td>995</td><td>375</td><td>265</td></tr>",
                            "<tr><td>995</td><td>375</td><td>321</td></tr>",
                            "<tr><td>996</td><td>375</td><td>174</td></tr>",
                            "<tr><td>996</td><td>375</td><td>321</td></tr>",
                            "<tr><td>997</td><td>75</td><td>30</td></tr>",
                            "<tr><td>998</td><td>75</td><td>56</td></tr>",
                            "</table>"
                        ]
                    }
                }
            ],
            "execution_count": 67
        },
        {
            "cell_type": "markdown",
            "source": [
                "Proposition 5: London appears the most when it comes to addresses\n",
                "\n",
                "The query essentially looks at the data related to addresses in two tables. The inner query pulls out the AddressID and City from both tables. Then focuses on where the AddressID's are the same in both tables (JOIN statement) and from there the outer query simply counts the <span style=\"font-family: -apple-system, BlinkMacSystemFont, sans-serif; color: var(--vscode-foreground);\">number of addresses that are located in each city, (COUNT(AddressID) located in first select statement and spews out a table that shows corresponding cities and the amount of appearances it made in the tables</span>"
            ],
            "metadata": {
                "language": "sql",
                "azdata_cell_guid": "567ad10a-c2dd-40ca-a985-2ec59d398f0a"
            },
            "attachments": {}
        },
        {
            "cell_type": "code",
            "source": [
                "USE AdventureWorks2019\n",
                "GO\n",
                "\n",
                "SELECT City, COUNT(AddressID) AS AddressCount\n",
                "FROM (\n",
                "    -- Select AddressID and City from Address table\n",
                "    SELECT a.AddressID, a.City\n",
                "    FROM Person.Address AS a\n",
                "\n",
                "    UNION ALL\n",
                "\n",
                "    -- Select AddressID from BusinessEntityAddress table (City will be null)\n",
                "    SELECT be.AddressID, a.City\n",
                "    FROM Person.BusinessEntityAddress AS be\n",
                "    JOIN Person.Address AS a\n",
                "    ON be.AddressID = a.AddressID\n",
                ") AS Addresscombined\n",
                "GROUP BY City\n",
                "ORDER BY AddressCount DESC;"
            ],
            "metadata": {
                "language": "sql",
                "azdata_cell_guid": "dc974422-a05e-48d5-a649-91d308b4c764"
            },
            "outputs": [
                {
                    "output_type": "display_data",
                    "data": {
                        "text/html": "Commands completed successfully."
                    },
                    "metadata": {}
                },
                {
                    "output_type": "display_data",
                    "data": {
                        "text/html": "(575 rows affected)"
                    },
                    "metadata": {}
                },
                {
                    "output_type": "display_data",
                    "data": {
                        "text/html": "Total execution time: 00:00:00.090"
                    },
                    "metadata": {}
                },
                {
                    "output_type": "execute_result",
                    "metadata": {},
                    "execution_count": 80,
                    "data": {
                        "application/vnd.dataresource+json": {
                            "schema": {
                                "fields": [
                                    {
                                        "name": "City"
                                    },
                                    {
                                        "name": "AddressCount"
                                    }
                                ]
                            },
                            "data": [
                                {
                                    "City": "London",
                                    "AddressCount": "868"
                                },
                                {
                                    "City": "Paris",
                                    "AddressCount": "796"
                                },
                                {
                                    "City": "Burien",
                                    "AddressCount": "430"
                                },
                                {
                                    "City": "Concord",
                                    "AddressCount": "428"
                                },
                                {
                                    "City": "Bellingham",
                                    "AddressCount": "426"
                                },
                                {
                                    "City": "Beaverton",
                                    "AddressCount": "426"
                                },
                                {
                                    "City": "Chula Vista",
                                    "AddressCount": "414"
                                },
                                {
                                    "City": "Berkeley",
                                    "AddressCount": "404"
                                },
                                {
                                    "City": "Burlingame",
                                    "AddressCount": "402"
                                },
                                {
                                    "City": "Burbank",
                                    "AddressCount": "392"
                                },
                                {
                                    "City": "Bellflower",
                                    "AddressCount": "388"
                                },
                                {
                                    "City": "Berlin",
                                    "AddressCount": "386"
                                },
                                {
                                    "City": "Beverly Hills",
                                    "AddressCount": "376"
                                },
                                {
                                    "City": "Cliffside",
                                    "AddressCount": "376"
                                },
                                {
                                    "City": "Bremerton",
                                    "AddressCount": "368"
                                },
                                {
                                    "City": "Colma",
                                    "AddressCount": "336"
                                },
                                {
                                    "City": "Seattle",
                                    "AddressCount": "282"
                                },
                                {
                                    "City": "Coronado",
                                    "AddressCount": "268"
                                },
                                {
                                    "City": "Redmond",
                                    "AddressCount": "242"
                                },
                                {
                                    "City": "Everett",
                                    "AddressCount": "242"
                                },
                                {
                                    "City": "Issaquah",
                                    "AddressCount": "240"
                                },
                                {
                                    "City": "Edmonds",
                                    "AddressCount": "238"
                                },
                                {
                                    "City": "Hamburg",
                                    "AddressCount": "234"
                                },
                                {
                                    "City": "York",
                                    "AddressCount": "234"
                                },
                                {
                                    "City": "Renton",
                                    "AddressCount": "230"
                                },
                                {
                                    "City": "Downey",
                                    "AddressCount": "224"
                                },
                                {
                                    "City": "Shawnee",
                                    "AddressCount": "222"
                                },
                                {
                                    "City": "Lebanon",
                                    "AddressCount": "222"
                                },
                                {
                                    "City": "Melbourne",
                                    "AddressCount": "220"
                                },
                                {
                                    "City": "Lemon Grove",
                                    "AddressCount": "218"
                                },
                                {
                                    "City": "Gold Coast",
                                    "AddressCount": "212"
                                },
                                {
                                    "City": "Coffs Harbour",
                                    "AddressCount": "212"
                                },
                                {
                                    "City": "Cranbourne",
                                    "AddressCount": "212"
                                },
                                {
                                    "City": "Hobart",
                                    "AddressCount": "212"
                                },
                                {
                                    "City": "Goulburn",
                                    "AddressCount": "212"
                                },
                                {
                                    "City": "Geelong",
                                    "AddressCount": "212"
                                },
                                {
                                    "City": "Sydney",
                                    "AddressCount": "212"
                                },
                                {
                                    "City": "Brisbane",
                                    "AddressCount": "212"
                                },
                                {
                                    "City": "Caloundra",
                                    "AddressCount": "212"
                                },
                                {
                                    "City": "Lake Oswego",
                                    "AddressCount": "210"
                                },
                                {
                                    "City": "Rockhampton",
                                    "AddressCount": "210"
                                },
                                {
                                    "City": "El Cajon",
                                    "AddressCount": "210"
                                },
                                {
                                    "City": "Langford",
                                    "AddressCount": "210"
                                },
                                {
                                    "City": "Sunbury",
                                    "AddressCount": "210"
                                },
                                {
                                    "City": "Townsville",
                                    "AddressCount": "210"
                                },
                                {
                                    "City": "Milwaukie",
                                    "AddressCount": "210"
                                },
                                {
                                    "City": "Melton",
                                    "AddressCount": "210"
                                },
                                {
                                    "City": "Port Macquarie",
                                    "AddressCount": "210"
                                },
                                {
                                    "City": "Hervey Bay",
                                    "AddressCount": "210"
                                },
                                {
                                    "City": "Warrnambool",
                                    "AddressCount": "210"
                                },
                                {
                                    "City": "Wollongong",
                                    "AddressCount": "210"
                                },
                                {
                                    "City": "Glendale",
                                    "AddressCount": "208"
                                },
                                {
                                    "City": "Bendigo",
                                    "AddressCount": "208"
                                },
                                {
                                    "City": "Torrance",
                                    "AddressCount": "206"
                                },
                                {
                                    "City": "Lincoln Acres",
                                    "AddressCount": "204"
                                },
                                {
                                    "City": "Salem",
                                    "AddressCount": "202"
                                },
                                {
                                    "City": "Lynnwood",
                                    "AddressCount": "202"
                                },
                                {
                                    "City": "National City",
                                    "AddressCount": "202"
                                },
                                {
                                    "City": "Walla Walla",
                                    "AddressCount": "200"
                                },
                                {
                                    "City": "Grossmont",
                                    "AddressCount": "200"
                                },
                                {
                                    "City": "N. Vancouver",
                                    "AddressCount": "198"
                                },
                                {
                                    "City": "Oak Bay",
                                    "AddressCount": "198"
                                },
                                {
                                    "City": "Puyallup",
                                    "AddressCount": "198"
                                },
                                {
                                    "City": "Vancouver",
                                    "AddressCount": "196"
                                },
                                {
                                    "City": "Long Beach",
                                    "AddressCount": "194"
                                },
                                {
                                    "City": "Sooke",
                                    "AddressCount": "194"
                                },
                                {
                                    "City": "Yakima",
                                    "AddressCount": "192"
                                },
                                {
                                    "City": "Woodland Hills",
                                    "AddressCount": "192"
                                },
                                {
                                    "City": "Metchosin",
                                    "AddressCount": "192"
                                },
                                {
                                    "City": "San Gabriel",
                                    "AddressCount": "192"
                                },
                                {
                                    "City": "Tacoma",
                                    "AddressCount": "192"
                                },
                                {
                                    "City": "Port Hammond",
                                    "AddressCount": "190"
                                },
                                {
                                    "City": "Kirkland",
                                    "AddressCount": "190"
                                },
                                {
                                    "City": "Corvallis",
                                    "AddressCount": "190"
                                },
                                {
                                    "City": "Portland",
                                    "AddressCount": "190"
                                },
                                {
                                    "City": "Westminster",
                                    "AddressCount": "188"
                                },
                                {
                                    "City": "Royal Oak",
                                    "AddressCount": "188"
                                },
                                {
                                    "City": "Santa Cruz",
                                    "AddressCount": "188"
                                },
                                {
                                    "City": "München",
                                    "AddressCount": "188"
                                },
                                {
                                    "City": "Les Ulis",
                                    "AddressCount": "188"
                                },
                                {
                                    "City": "La Jolla",
                                    "AddressCount": "188"
                                },
                                {
                                    "City": "Imperial Beach",
                                    "AddressCount": "186"
                                },
                                {
                                    "City": "Victoria",
                                    "AddressCount": "186"
                                },
                                {
                                    "City": "Marysville",
                                    "AddressCount": "186"
                                },
                                {
                                    "City": "Palo Alto",
                                    "AddressCount": "186"
                                },
                                {
                                    "City": "San Diego",
                                    "AddressCount": "186"
                                },
                                {
                                    "City": "Los Angeles",
                                    "AddressCount": "186"
                                },
                                {
                                    "City": "Olympia",
                                    "AddressCount": "186"
                                },
                                {
                                    "City": "West Covina",
                                    "AddressCount": "184"
                                },
                                {
                                    "City": "Santa Monica",
                                    "AddressCount": "184"
                                },
                                {
                                    "City": "Spring Valley",
                                    "AddressCount": "184"
                                },
                                {
                                    "City": "Langley",
                                    "AddressCount": "184"
                                },
                                {
                                    "City": "Woodburn",
                                    "AddressCount": "182"
                                },
                                {
                                    "City": "Newport Beach",
                                    "AddressCount": "182"
                                },
                                {
                                    "City": "Daly City",
                                    "AddressCount": "180"
                                },
                                {
                                    "City": "Newton",
                                    "AddressCount": "180"
                                },
                                {
                                    "City": "Haney",
                                    "AddressCount": "180"
                                },
                                {
                                    "City": "Novato",
                                    "AddressCount": "180"
                                },
                                {
                                    "City": "Port Orchard",
                                    "AddressCount": "180"
                                },
                                {
                                    "City": "W. Linn",
                                    "AddressCount": "178"
                                },
                                {
                                    "City": "Spokane",
                                    "AddressCount": "178"
                                },
                                {
                                    "City": "Sedro Woolley",
                                    "AddressCount": "176"
                                },
                                {
                                    "City": "San Carlos",
                                    "AddressCount": "176"
                                },
                                {
                                    "City": "Oakland",
                                    "AddressCount": "176"
                                },
                                {
                                    "City": "Mill Valley",
                                    "AddressCount": "174"
                                },
                                {
                                    "City": "Oregon City",
                                    "AddressCount": "174"
                                },
                                {
                                    "City": "Frankfurt",
                                    "AddressCount": "172"
                                },
                                {
                                    "City": "Warrington",
                                    "AddressCount": "172"
                                },
                                {
                                    "City": "Oxford",
                                    "AddressCount": "172"
                                },
                                {
                                    "City": "Paderborn",
                                    "AddressCount": "172"
                                },
                                {
                                    "City": "Lakewood",
                                    "AddressCount": "170"
                                },
                                {
                                    "City": "Lavender Bay",
                                    "AddressCount": "170"
                                },
                                {
                                    "City": "Redwood City",
                                    "AddressCount": "168"
                                },
                                {
                                    "City": "Rhodes",
                                    "AddressCount": "166"
                                },
                                {
                                    "City": "Matraville",
                                    "AddressCount": "166"
                                },
                                {
                                    "City": "North Ryde",
                                    "AddressCount": "164"
                                },
                                {
                                    "City": "North Sydney",
                                    "AddressCount": "164"
                                },
                                {
                                    "City": "Lane Cove",
                                    "AddressCount": "162"
                                },
                                {
                                    "City": "East Brisbane",
                                    "AddressCount": "162"
                                },
                                {
                                    "City": "Malabar",
                                    "AddressCount": "162"
                                },
                                {
                                    "City": "Hawthorne",
                                    "AddressCount": "162"
                                },
                                {
                                    "City": "Findon",
                                    "AddressCount": "162"
                                },
                                {
                                    "City": "Darlinghurst",
                                    "AddressCount": "162"
                                },
                                {
                                    "City": "Cloverdale",
                                    "AddressCount": "162"
                                },
                                {
                                    "City": "Newcastle",
                                    "AddressCount": "160"
                                },
                                {
                                    "City": "Perth",
                                    "AddressCount": "160"
                                },
                                {
                                    "City": "South Melbourne",
                                    "AddressCount": "160"
                                },
                                {
                                    "City": "Milsons Point",
                                    "AddressCount": "160"
                                },
                                {
                                    "City": "Seaford",
                                    "AddressCount": "160"
                                },
                                {
                                    "City": "Silverwater",
                                    "AddressCount": "160"
                                },
                                {
                                    "City": "Springwood",
                                    "AddressCount": "160"
                                },
                                {
                                    "City": "St. Leonards",
                                    "AddressCount": "160"
                                },
                                {
                                    "City": "Fremont",
                                    "AddressCount": "152"
                                },
                                {
                                    "City": "Ballard",
                                    "AddressCount": "138"
                                },
                                {
                                    "City": "Bonn",
                                    "AddressCount": "128"
                                },
                                {
                                    "City": "Milton Keynes",
                                    "AddressCount": "126"
                                },
                                {
                                    "City": "Colombes",
                                    "AddressCount": "124"
                                },
                                {
                                    "City": "Frankfurt am Main",
                                    "AddressCount": "124"
                                },
                                {
                                    "City": "Stuttgart",
                                    "AddressCount": "124"
                                },
                                {
                                    "City": "Orleans",
                                    "AddressCount": "124"
                                },
                                {
                                    "City": "Saint Ouen",
                                    "AddressCount": "124"
                                },
                                {
                                    "City": "Pantin",
                                    "AddressCount": "124"
                                },
                                {
                                    "City": "Bobigny",
                                    "AddressCount": "116"
                                },
                                {
                                    "City": "Bottrop",
                                    "AddressCount": "114"
                                },
                                {
                                    "City": "Versailles",
                                    "AddressCount": "112"
                                },
                                {
                                    "City": "Werne",
                                    "AddressCount": "112"
                                },
                                {
                                    "City": "Hof",
                                    "AddressCount": "112"
                                },
                                {
                                    "City": "Chatou",
                                    "AddressCount": "112"
                                },
                                {
                                    "City": "Billericay",
                                    "AddressCount": "112"
                                },
                                {
                                    "City": "Dunkerque",
                                    "AddressCount": "112"
                                },
                                {
                                    "City": "Erlangen",
                                    "AddressCount": "112"
                                },
                                {
                                    "City": "Tremblay-en-France",
                                    "AddressCount": "112"
                                },
                                {
                                    "City": "Roubaix",
                                    "AddressCount": "112"
                                },
                                {
                                    "City": "Ingolstadt",
                                    "AddressCount": "112"
                                },
                                {
                                    "City": "Bury",
                                    "AddressCount": "112"
                                },
                                {
                                    "City": "Saint Germain en Laye",
                                    "AddressCount": "112"
                                },
                                {
                                    "City": "Lille",
                                    "AddressCount": "112"
                                },
                                {
                                    "City": "Saint-Denis",
                                    "AddressCount": "112"
                                },
                                {
                                    "City": "Metz",
                                    "AddressCount": "112"
                                },
                                {
                                    "City": "Drancy",
                                    "AddressCount": "112"
                                },
                                {
                                    "City": "Villeneuve-d'Ascq",
                                    "AddressCount": "112"
                                },
                                {
                                    "City": "Gateshead",
                                    "AddressCount": "110"
                                },
                                {
                                    "City": "Saarlouis",
                                    "AddressCount": "110"
                                },
                                {
                                    "City": "Newcastle upon Tyne",
                                    "AddressCount": "110"
                                },
                                {
                                    "City": "Cheltenham",
                                    "AddressCount": "110"
                                },
                                {
                                    "City": "Runcorn",
                                    "AddressCount": "110"
                                },
                                {
                                    "City": "Kassel",
                                    "AddressCount": "110"
                                },
                                {
                                    "City": "Esher-Molesey",
                                    "AddressCount": "110"
                                },
                                {
                                    "City": "Solingen",
                                    "AddressCount": "110"
                                },
                                {
                                    "City": "Watford",
                                    "AddressCount": "110"
                                },
                                {
                                    "City": "Stoke-on-Trent",
                                    "AddressCount": "110"
                                },
                                {
                                    "City": "Leeds",
                                    "AddressCount": "110"
                                },
                                {
                                    "City": "Darmstadt",
                                    "AddressCount": "110"
                                },
                                {
                                    "City": "Neunkirchen",
                                    "AddressCount": "110"
                                },
                                {
                                    "City": "Kirkby",
                                    "AddressCount": "110"
                                },
                                {
                                    "City": "Peterborough",
                                    "AddressCount": "110"
                                },
                                {
                                    "City": "San Francisco",
                                    "AddressCount": "102"
                                },
                                {
                                    "City": "Bellevue",
                                    "AddressCount": "82"
                                },
                                {
                                    "City": "Birmingham",
                                    "AddressCount": "68"
                                },
                                {
                                    "City": "Cambridge",
                                    "AddressCount": "66"
                                },
                                {
                                    "City": "Burnaby",
                                    "AddressCount": "64"
                                },
                                {
                                    "City": "W. York",
                                    "AddressCount": "64"
                                },
                                {
                                    "City": "Berkshire",
                                    "AddressCount": "64"
                                },
                                {
                                    "City": "Sulzbach Taunus",
                                    "AddressCount": "64"
                                },
                                {
                                    "City": "Braunschweig",
                                    "AddressCount": "64"
                                },
                                {
                                    "City": "Bracknell",
                                    "AddressCount": "64"
                                },
                                {
                                    "City": "Berks",
                                    "AddressCount": "64"
                                },
                                {
                                    "City": "Morangis",
                                    "AddressCount": "62"
                                },
                                {
                                    "City": "Gloucestershire",
                                    "AddressCount": "62"
                                },
                                {
                                    "City": "Grevenbroich",
                                    "AddressCount": "62"
                                },
                                {
                                    "City": "Offenbach",
                                    "AddressCount": "62"
                                },
                                {
                                    "City": "Hannover",
                                    "AddressCount": "62"
                                },
                                {
                                    "City": "Lieusaint",
                                    "AddressCount": "62"
                                },
                                {
                                    "City": "Sèvres",
                                    "AddressCount": "62"
                                },
                                {
                                    "City": "Maidenhead",
                                    "AddressCount": "62"
                                },
                                {
                                    "City": "Roissy en Brie",
                                    "AddressCount": "62"
                                },
                                {
                                    "City": "Duesseldorf",
                                    "AddressCount": "62"
                                },
                                {
                                    "City": "Suresnes",
                                    "AddressCount": "62"
                                },
                                {
                                    "City": "Reading",
                                    "AddressCount": "62"
                                },
                                {
                                    "City": "Oxon",
                                    "AddressCount": "62"
                                },
                                {
                                    "City": "Eilenburg",
                                    "AddressCount": "62"
                                },
                                {
                                    "City": "Courbevoie",
                                    "AddressCount": "62"
                                },
                                {
                                    "City": "Saarbrücken",
                                    "AddressCount": "62"
                                },
                                {
                                    "City": "Orly",
                                    "AddressCount": "62"
                                },
                                {
                                    "City": "Lancaster",
                                    "AddressCount": "62"
                                },
                                {
                                    "City": "Kiel",
                                    "AddressCount": "62"
                                },
                                {
                                    "City": "Liverpool",
                                    "AddressCount": "62"
                                },
                                {
                                    "City": "Salzgitter",
                                    "AddressCount": "62"
                                },
                                {
                                    "City": "Cergy",
                                    "AddressCount": "62"
                                },
                                {
                                    "City": "Colomiers",
                                    "AddressCount": "62"
                                },
                                {
                                    "City": "Roncq",
                                    "AddressCount": "62"
                                },
                                {
                                    "City": "Dresden",
                                    "AddressCount": "62"
                                },
                                {
                                    "City": "Essen",
                                    "AddressCount": "62"
                                },
                                {
                                    "City": "Poing",
                                    "AddressCount": "62"
                                },
                                {
                                    "City": "Woolston",
                                    "AddressCount": "62"
                                },
                                {
                                    "City": "West Sussex",
                                    "AddressCount": "62"
                                },
                                {
                                    "City": "Paris La Defense",
                                    "AddressCount": "62"
                                },
                                {
                                    "City": "Croix",
                                    "AddressCount": "62"
                                },
                                {
                                    "City": "High Wycombe",
                                    "AddressCount": "62"
                                },
                                {
                                    "City": "Verrieres Le Buisson",
                                    "AddressCount": "62"
                                },
                                {
                                    "City": "Leipzig",
                                    "AddressCount": "62"
                                },
                                {
                                    "City": "Wokingham",
                                    "AddressCount": "62"
                                },
                                {
                                    "City": "Mühlheim",
                                    "AddressCount": "60"
                                },
                                {
                                    "City": "Münster",
                                    "AddressCount": "60"
                                },
                                {
                                    "City": "Bothell",
                                    "AddressCount": "52"
                                },
                                {
                                    "City": "Toronto",
                                    "AddressCount": "48"
                                },
                                {
                                    "City": "Calgary",
                                    "AddressCount": "46"
                                },
                                {
                                    "City": "Sammamish",
                                    "AddressCount": "38"
                                },
                                {
                                    "City": "Boulogne-sur-Mer",
                                    "AddressCount": "34"
                                },
                                {
                                    "City": "Monroe",
                                    "AddressCount": "32"
                                },
                                {
                                    "City": "Boulogne-Billancourt",
                                    "AddressCount": "30"
                                },
                                {
                                    "City": "Montreal",
                                    "AddressCount": "26"
                                },
                                {
                                    "City": "Kenmore",
                                    "AddressCount": "26"
                                },
                                {
                                    "City": "Chicago",
                                    "AddressCount": "22"
                                },
                                {
                                    "City": "Duvall",
                                    "AddressCount": "20"
                                },
                                {
                                    "City": "Miami",
                                    "AddressCount": "20"
                                },
                                {
                                    "City": "Snohomish",
                                    "AddressCount": "20"
                                },
                                {
                                    "City": "Newport Hills",
                                    "AddressCount": "16"
                                },
                                {
                                    "City": "Dallas",
                                    "AddressCount": "14"
                                },
                                {
                                    "City": "Ottawa",
                                    "AddressCount": "14"
                                },
                                {
                                    "City": "Richmond",
                                    "AddressCount": "14"
                                },
                                {
                                    "City": "Mississauga",
                                    "AddressCount": "12"
                                },
                                {
                                    "City": "San Antonio",
                                    "AddressCount": "12"
                                },
                                {
                                    "City": "Houston",
                                    "AddressCount": "10"
                                },
                                {
                                    "City": "Camarillo",
                                    "AddressCount": "10"
                                },
                                {
                                    "City": "Phoenix",
                                    "AddressCount": "10"
                                },
                                {
                                    "City": "Index",
                                    "AddressCount": "10"
                                },
                                {
                                    "City": "Gold Bar",
                                    "AddressCount": "10"
                                },
                                {
                                    "City": "Carnation",
                                    "AddressCount": "10"
                                },
                                {
                                    "City": "Memphis",
                                    "AddressCount": "10"
                                },
                                {
                                    "City": "Columbus",
                                    "AddressCount": "8"
                                },
                                {
                                    "City": "Cincinnati",
                                    "AddressCount": "8"
                                },
                                {
                                    "City": "Orlando",
                                    "AddressCount": "8"
                                },
                                {
                                    "City": "Salt Lake City",
                                    "AddressCount": "8"
                                },
                                {
                                    "City": "Clearwater",
                                    "AddressCount": "8"
                                },
                                {
                                    "City": "Saint Louis",
                                    "AddressCount": "8"
                                },
                                {
                                    "City": "Cheyenne",
                                    "AddressCount": "8"
                                },
                                {
                                    "City": "Clackamas",
                                    "AddressCount": "8"
                                },
                                {
                                    "City": "Albany",
                                    "AddressCount": "8"
                                },
                                {
                                    "City": "Chandler",
                                    "AddressCount": "8"
                                },
                                {
                                    "City": "Kent",
                                    "AddressCount": "6"
                                },
                                {
                                    "City": "Denver",
                                    "AddressCount": "6"
                                },
                                {
                                    "City": "Medford",
                                    "AddressCount": "6"
                                },
                                {
                                    "City": "Basingstoke Hants",
                                    "AddressCount": "6"
                                },
                                {
                                    "City": "Minneapolis",
                                    "AddressCount": "6"
                                },
                                {
                                    "City": "El Segundo",
                                    "AddressCount": "6"
                                },
                                {
                                    "City": "Surrey",
                                    "AddressCount": "6"
                                },
                                {
                                    "City": "Nashville",
                                    "AddressCount": "6"
                                },
                                {
                                    "City": "Anacortes",
                                    "AddressCount": "6"
                                },
                                {
                                    "City": "Detroit",
                                    "AddressCount": "6"
                                },
                                {
                                    "City": "Millington",
                                    "AddressCount": "6"
                                },
                                {
                                    "City": "Las Vegas",
                                    "AddressCount": "6"
                                },
                                {
                                    "City": "Indianapolis",
                                    "AddressCount": "6"
                                },
                                {
                                    "City": "Byron",
                                    "AddressCount": "4"
                                },
                                {
                                    "City": "Wood Dale",
                                    "AddressCount": "4"
                                },
                                {
                                    "City": "Cheektowaga",
                                    "AddressCount": "4"
                                },
                                {
                                    "City": "Alexandria",
                                    "AddressCount": "4"
                                },
                                {
                                    "City": "Chehalis",
                                    "AddressCount": "4"
                                },
                                {
                                    "City": "Brossard",
                                    "AddressCount": "4"
                                },
                                {
                                    "City": "Scottsdale",
                                    "AddressCount": "4"
                                },
                                {
                                    "City": "Cedar City",
                                    "AddressCount": "4"
                                },
                                {
                                    "City": "Citrus Heights",
                                    "AddressCount": "4"
                                },
                                {
                                    "City": "Billings",
                                    "AddressCount": "4"
                                },
                                {
                                    "City": "Culver City",
                                    "AddressCount": "4"
                                },
                                {
                                    "City": "Augsburg",
                                    "AddressCount": "4"
                                },
                                {
                                    "City": "Loveland",
                                    "AddressCount": "4"
                                },
                                {
                                    "City": "Carson",
                                    "AddressCount": "4"
                                },
                                {
                                    "City": "Bountiful",
                                    "AddressCount": "4"
                                },
                                {
                                    "City": "Campbellsville",
                                    "AddressCount": "4"
                                },
                                {
                                    "City": "Central Valley",
                                    "AddressCount": "4"
                                },
                                {
                                    "City": "Garland",
                                    "AddressCount": "4"
                                },
                                {
                                    "City": "Edmonton",
                                    "AddressCount": "4"
                                },
                                {
                                    "City": "Chantilly",
                                    "AddressCount": "4"
                                },
                                {
                                    "City": "Florence",
                                    "AddressCount": "4"
                                },
                                {
                                    "City": "Missoula",
                                    "AddressCount": "4"
                                },
                                {
                                    "City": "Carrollton",
                                    "AddressCount": "4"
                                },
                                {
                                    "City": "Winnipeg",
                                    "AddressCount": "4"
                                },
                                {
                                    "City": "La Mesa",
                                    "AddressCount": "4"
                                },
                                {
                                    "City": "Barstow",
                                    "AddressCount": "4"
                                },
                                {
                                    "City": "Bradenton",
                                    "AddressCount": "4"
                                },
                                {
                                    "City": "Holland",
                                    "AddressCount": "4"
                                },
                                {
                                    "City": "Clarkston",
                                    "AddressCount": "4"
                                },
                                {
                                    "City": "San Jose",
                                    "AddressCount": "4"
                                },
                                {
                                    "City": "Vista",
                                    "AddressCount": "4"
                                },
                                {
                                    "City": "Baytown",
                                    "AddressCount": "4"
                                },
                                {
                                    "City": "Cedar Park",
                                    "AddressCount": "4"
                                },
                                {
                                    "City": "Quebec",
                                    "AddressCount": "4"
                                },
                                {
                                    "City": "Bluffton",
                                    "AddressCount": "4"
                                },
                                {
                                    "City": "Atlanta",
                                    "AddressCount": "4"
                                },
                                {
                                    "City": "Austin",
                                    "AddressCount": "4"
                                },
                                {
                                    "City": "Etobicoke",
                                    "AddressCount": "4"
                                },
                                {
                                    "City": "Carol Stream",
                                    "AddressCount": "4"
                                },
                                {
                                    "City": "Tucson",
                                    "AddressCount": "4"
                                },
                                {
                                    "City": "Modesto",
                                    "AddressCount": "4"
                                },
                                {
                                    "City": "Charlotte",
                                    "AddressCount": "4"
                                },
                                {
                                    "City": "Oxnard",
                                    "AddressCount": "4"
                                },
                                {
                                    "City": "Richmond Hill",
                                    "AddressCount": "4"
                                },
                                {
                                    "City": "Kansas City",
                                    "AddressCount": "4"
                                },
                                {
                                    "City": "Round Rock",
                                    "AddressCount": "4"
                                },
                                {
                                    "City": "Chalk Riber",
                                    "AddressCount": "4"
                                },
                                {
                                    "City": "Kittery",
                                    "AddressCount": "4"
                                },
                                {
                                    "City": "Saginaw",
                                    "AddressCount": "4"
                                },
                                {
                                    "City": "Santa Ana",
                                    "AddressCount": "4"
                                },
                                {
                                    "City": "Cerritos",
                                    "AddressCount": "4"
                                },
                                {
                                    "City": "Kingston",
                                    "AddressCount": "4"
                                },
                                {
                                    "City": "Nashua",
                                    "AddressCount": "4"
                                },
                                {
                                    "City": "Irving",
                                    "AddressCount": "4"
                                },
                                {
                                    "City": "Waterloo",
                                    "AddressCount": "4"
                                },
                                {
                                    "City": "Duluth",
                                    "AddressCount": "4"
                                },
                                {
                                    "City": "Branch",
                                    "AddressCount": "4"
                                },
                                {
                                    "City": "Branson",
                                    "AddressCount": "4"
                                },
                                {
                                    "City": "Mcdonough",
                                    "AddressCount": "4"
                                },
                                {
                                    "City": "Huntsville",
                                    "AddressCount": "4"
                                },
                                {
                                    "City": "Canoga Park",
                                    "AddressCount": "4"
                                },
                                {
                                    "City": "Hillsboro",
                                    "AddressCount": "4"
                                },
                                {
                                    "City": "City Of Commerce",
                                    "AddressCount": "4"
                                },
                                {
                                    "City": "Clay",
                                    "AddressCount": "4"
                                },
                                {
                                    "City": "Milford",
                                    "AddressCount": "4"
                                },
                                {
                                    "City": "Braintree",
                                    "AddressCount": "4"
                                },
                                {
                                    "City": "Norwalk",
                                    "AddressCount": "4"
                                },
                                {
                                    "City": "Kelso",
                                    "AddressCount": "4"
                                },
                                {
                                    "City": "Casper",
                                    "AddressCount": "4"
                                },
                                {
                                    "City": "New York",
                                    "AddressCount": "4"
                                },
                                {
                                    "City": "Altadena",
                                    "AddressCount": "4"
                                },
                                {
                                    "City": "Biloxi",
                                    "AddressCount": "4"
                                },
                                {
                                    "City": "College Station",
                                    "AddressCount": "4"
                                },
                                {
                                    "City": "Bell Gardens",
                                    "AddressCount": "4"
                                },
                                {
                                    "City": "Ontario",
                                    "AddressCount": "4"
                                },
                                {
                                    "City": "Abingdon",
                                    "AddressCount": "2"
                                },
                                {
                                    "City": "Washougal",
                                    "AddressCount": "2"
                                },
                                {
                                    "City": "Vero Beach",
                                    "AddressCount": "2"
                                },
                                {
                                    "City": "Tigard",
                                    "AddressCount": "2"
                                },
                                {
                                    "City": "Hooksett",
                                    "AddressCount": "2"
                                },
                                {
                                    "City": "La Grange",
                                    "AddressCount": "2"
                                },
                                {
                                    "City": "Springfield",
                                    "AddressCount": "2"
                                },
                                {
                                    "City": "Plaistow",
                                    "AddressCount": "2"
                                },
                                {
                                    "City": "Oberlin",
                                    "AddressCount": "2"
                                },
                                {
                                    "City": "Leesburg",
                                    "AddressCount": "2"
                                },
                                {
                                    "City": "Arlington",
                                    "AddressCount": "2"
                                },
                                {
                                    "City": "Markham",
                                    "AddressCount": "2"
                                },
                                {
                                    "City": "Shelton",
                                    "AddressCount": "2"
                                },
                                {
                                    "City": "Hayward",
                                    "AddressCount": "2"
                                },
                                {
                                    "City": "Pigeon Forge",
                                    "AddressCount": "2"
                                },
                                {
                                    "City": "Hanford",
                                    "AddressCount": "2"
                                },
                                {
                                    "City": "Visalia",
                                    "AddressCount": "2"
                                },
                                {
                                    "City": "Ellensburg",
                                    "AddressCount": "2"
                                },
                                {
                                    "City": "Auburn",
                                    "AddressCount": "2"
                                },
                                {
                                    "City": "Walnut Creek",
                                    "AddressCount": "2"
                                },
                                {
                                    "City": "Philadelphia",
                                    "AddressCount": "2"
                                },
                                {
                                    "City": "Rocky Mount",
                                    "AddressCount": "2"
                                },
                                {
                                    "City": "Wrentham",
                                    "AddressCount": "2"
                                },
                                {
                                    "City": "Tooele",
                                    "AddressCount": "2"
                                },
                                {
                                    "City": "Southfield",
                                    "AddressCount": "2"
                                },
                                {
                                    "City": "Sherman Oaks",
                                    "AddressCount": "2"
                                },
                                {
                                    "City": "Sequim",
                                    "AddressCount": "2"
                                },
                                {
                                    "City": "Sparks",
                                    "AddressCount": "2"
                                },
                                {
                                    "City": "Sandpoint",
                                    "AddressCount": "2"
                                },
                                {
                                    "City": "Tilton",
                                    "AddressCount": "2"
                                },
                                {
                                    "City": "North Miami Beach",
                                    "AddressCount": "2"
                                },
                                {
                                    "City": "Moline",
                                    "AddressCount": "2"
                                },
                                {
                                    "City": "De Witt",
                                    "AddressCount": "2"
                                },
                                {
                                    "City": "Weston",
                                    "AddressCount": "2"
                                },
                                {
                                    "City": "Edina",
                                    "AddressCount": "2"
                                },
                                {
                                    "City": "Greensboro",
                                    "AddressCount": "2"
                                },
                                {
                                    "City": "Melville",
                                    "AddressCount": "2"
                                },
                                {
                                    "City": "Great Falls",
                                    "AddressCount": "2"
                                },
                                {
                                    "City": "St. Louis",
                                    "AddressCount": "2"
                                },
                                {
                                    "City": "Rock Springs",
                                    "AddressCount": "2"
                                },
                                {
                                    "City": "Kanata",
                                    "AddressCount": "2"
                                },
                                {
                                    "City": "Endicott",
                                    "AddressCount": "2"
                                },
                                {
                                    "City": "Novi",
                                    "AddressCount": "2"
                                },
                                {
                                    "City": "Lacey",
                                    "AddressCount": "2"
                                },
                                {
                                    "City": "Whittier",
                                    "AddressCount": "2"
                                },
                                {
                                    "City": "Surprise",
                                    "AddressCount": "2"
                                },
                                {
                                    "City": "Westland",
                                    "AddressCount": "2"
                                },
                                {
                                    "City": "Boston",
                                    "AddressCount": "2"
                                },
                                {
                                    "City": "La Vergne",
                                    "AddressCount": "2"
                                },
                                {
                                    "City": "Mesa",
                                    "AddressCount": "2"
                                },
                                {
                                    "City": "San Bruno",
                                    "AddressCount": "2"
                                },
                                {
                                    "City": "Newport News",
                                    "AddressCount": "2"
                                },
                                {
                                    "City": "New Castle",
                                    "AddressCount": "2"
                                },
                                {
                                    "City": "Lake George",
                                    "AddressCount": "2"
                                },
                                {
                                    "City": "Aurora",
                                    "AddressCount": "2"
                                },
                                {
                                    "City": "Alhambra",
                                    "AddressCount": "2"
                                },
                                {
                                    "City": "North York",
                                    "AddressCount": "2"
                                },
                                {
                                    "City": "Springdale",
                                    "AddressCount": "2"
                                },
                                {
                                    "City": "Dorval",
                                    "AddressCount": "2"
                                },
                                {
                                    "City": "Warwick",
                                    "AddressCount": "2"
                                },
                                {
                                    "City": "Muehlheim",
                                    "AddressCount": "2"
                                },
                                {
                                    "City": "Simi Valley",
                                    "AddressCount": "2"
                                },
                                {
                                    "City": "Randolph",
                                    "AddressCount": "2"
                                },
                                {
                                    "City": "Woodbury",
                                    "AddressCount": "2"
                                },
                                {
                                    "City": "Port Huron",
                                    "AddressCount": "2"
                                },
                                {
                                    "City": "Barrie",
                                    "AddressCount": "2"
                                },
                                {
                                    "City": "Aujan Mournede",
                                    "AddressCount": "2"
                                },
                                {
                                    "City": "Van Nuys",
                                    "AddressCount": "2"
                                },
                                {
                                    "City": "Reno",
                                    "AddressCount": "2"
                                },
                                {
                                    "City": "Sand City",
                                    "AddressCount": "2"
                                },
                                {
                                    "City": "La Marque",
                                    "AddressCount": "2"
                                },
                                {
                                    "City": "Corpus Christi",
                                    "AddressCount": "2"
                                },
                                {
                                    "City": "Denby",
                                    "AddressCount": "2"
                                },
                                {
                                    "City": "Raleigh",
                                    "AddressCount": "2"
                                },
                                {
                                    "City": "Merritt Island",
                                    "AddressCount": "2"
                                },
                                {
                                    "City": "Gulfport",
                                    "AddressCount": "2"
                                },
                                {
                                    "City": "Gilbert",
                                    "AddressCount": "2"
                                },
                                {
                                    "City": "Redford",
                                    "AddressCount": "2"
                                },
                                {
                                    "City": "Mentor",
                                    "AddressCount": "2"
                                },
                                {
                                    "City": "Ville De'anjou",
                                    "AddressCount": "2"
                                },
                                {
                                    "City": "Fullerton",
                                    "AddressCount": "2"
                                },
                                {
                                    "City": "Ogden",
                                    "AddressCount": "2"
                                },
                                {
                                    "City": "Gilroy",
                                    "AddressCount": "2"
                                },
                                {
                                    "City": "Longmont",
                                    "AddressCount": "2"
                                },
                                {
                                    "City": "Englewood",
                                    "AddressCount": "2"
                                },
                                {
                                    "City": "Mansfield",
                                    "AddressCount": "2"
                                },
                                {
                                    "City": "Sacramento",
                                    "AddressCount": "2"
                                },
                                {
                                    "City": "Longview",
                                    "AddressCount": "2"
                                },
                                {
                                    "City": "Logansport",
                                    "AddressCount": "2"
                                },
                                {
                                    "City": "Plano",
                                    "AddressCount": "2"
                                },
                                {
                                    "City": "North Randall",
                                    "AddressCount": "2"
                                },
                                {
                                    "City": "Elk Grove",
                                    "AddressCount": "2"
                                },
                                {
                                    "City": "Sillery",
                                    "AddressCount": "2"
                                },
                                {
                                    "City": "Kannapolis",
                                    "AddressCount": "2"
                                },
                                {
                                    "City": "Norwood",
                                    "AddressCount": "2"
                                },
                                {
                                    "City": "Monrovia",
                                    "AddressCount": "2"
                                },
                                {
                                    "City": "Fontana",
                                    "AddressCount": "2"
                                },
                                {
                                    "City": "Newark",
                                    "AddressCount": "2"
                                },
                                {
                                    "City": "Baltimore",
                                    "AddressCount": "2"
                                },
                                {
                                    "City": "Kingsport",
                                    "AddressCount": "2"
                                },
                                {
                                    "City": "Pontiac",
                                    "AddressCount": "2"
                                },
                                {
                                    "City": "Parker",
                                    "AddressCount": "2"
                                },
                                {
                                    "City": "Escondido",
                                    "AddressCount": "2"
                                },
                                {
                                    "City": "Crossville",
                                    "AddressCount": "2"
                                },
                                {
                                    "City": "Sandy",
                                    "AddressCount": "2"
                                },
                                {
                                    "City": "South Bend",
                                    "AddressCount": "2"
                                },
                                {
                                    "City": "Winston-Salem",
                                    "AddressCount": "2"
                                },
                                {
                                    "City": "Las Cruces",
                                    "AddressCount": "2"
                                },
                                {
                                    "City": "Saint John",
                                    "AddressCount": "2"
                                },
                                {
                                    "City": "Greeley",
                                    "AddressCount": "2"
                                },
                                {
                                    "City": "Klamath Falls",
                                    "AddressCount": "2"
                                },
                                {
                                    "City": "Marietta",
                                    "AddressCount": "2"
                                },
                                {
                                    "City": "Sunrise",
                                    "AddressCount": "2"
                                },
                                {
                                    "City": "Waterbury",
                                    "AddressCount": "2"
                                },
                                {
                                    "City": "Eureka",
                                    "AddressCount": "2"
                                },
                                {
                                    "City": "Brampton",
                                    "AddressCount": "2"
                                },
                                {
                                    "City": "Southgate",
                                    "AddressCount": "2"
                                },
                                {
                                    "City": "Lakeland",
                                    "AddressCount": "2"
                                },
                                {
                                    "City": "Woonsocket",
                                    "AddressCount": "2"
                                },
                                {
                                    "City": "Stockton",
                                    "AddressCount": "2"
                                },
                                {
                                    "City": "Altamonte Springs",
                                    "AddressCount": "2"
                                },
                                {
                                    "City": "Stamford",
                                    "AddressCount": "2"
                                },
                                {
                                    "City": "Riverton",
                                    "AddressCount": "2"
                                },
                                {
                                    "City": "Lake Elsinore",
                                    "AddressCount": "2"
                                },
                                {
                                    "City": "Kennewick",
                                    "AddressCount": "2"
                                },
                                {
                                    "City": "Saugus",
                                    "AddressCount": "2"
                                },
                                {
                                    "City": "Michigan City",
                                    "AddressCount": "2"
                                },
                                {
                                    "City": "Virginia Beach",
                                    "AddressCount": "2"
                                },
                                {
                                    "City": "Maryville",
                                    "AddressCount": "2"
                                },
                                {
                                    "City": "Johnson Creek",
                                    "AddressCount": "2"
                                },
                                {
                                    "City": "Outremont",
                                    "AddressCount": "2"
                                },
                                {
                                    "City": "Euclid",
                                    "AddressCount": "2"
                                },
                                {
                                    "City": "Sugar Land",
                                    "AddressCount": "2"
                                },
                                {
                                    "City": "Ascheim",
                                    "AddressCount": "2"
                                },
                                {
                                    "City": "Union Gap",
                                    "AddressCount": "2"
                                },
                                {
                                    "City": "Killeen",
                                    "AddressCount": "2"
                                },
                                {
                                    "City": "Bordeaux",
                                    "AddressCount": "2"
                                },
                                {
                                    "City": "North Bend",
                                    "AddressCount": "2"
                                },
                                {
                                    "City": "Midland",
                                    "AddressCount": "2"
                                },
                                {
                                    "City": "Milwaukee",
                                    "AddressCount": "2"
                                },
                                {
                                    "City": "Troutdale",
                                    "AddressCount": "2"
                                },
                                {
                                    "City": "Vacaville",
                                    "AddressCount": "2"
                                },
                                {
                                    "City": "Zeeland",
                                    "AddressCount": "2"
                                },
                                {
                                    "City": "Laredo",
                                    "AddressCount": "2"
                                },
                                {
                                    "City": "Alpine",
                                    "AddressCount": "2"
                                },
                                {
                                    "City": "Montgomery",
                                    "AddressCount": "2"
                                },
                                {
                                    "City": "Stafford",
                                    "AddressCount": "2"
                                },
                                {
                                    "City": "Park City",
                                    "AddressCount": "2"
                                },
                                {
                                    "City": "Elgin",
                                    "AddressCount": "2"
                                },
                                {
                                    "City": "Woodinville",
                                    "AddressCount": "2"
                                },
                                {
                                    "City": "Baldwin Park",
                                    "AddressCount": "2"
                                },
                                {
                                    "City": "Saint Matthews",
                                    "AddressCount": "2"
                                },
                                {
                                    "City": "Fort Wayne",
                                    "AddressCount": "2"
                                },
                                {
                                    "City": "San Ramon",
                                    "AddressCount": "2"
                                },
                                {
                                    "City": "Hollywood",
                                    "AddressCount": "2"
                                },
                                {
                                    "City": "San Mateo",
                                    "AddressCount": "2"
                                },
                                {
                                    "City": "Joliet",
                                    "AddressCount": "2"
                                },
                                {
                                    "City": "Peoria",
                                    "AddressCount": "2"
                                },
                                {
                                    "City": "Scarborough",
                                    "AddressCount": "2"
                                },
                                {
                                    "City": "Austell",
                                    "AddressCount": "2"
                                },
                                {
                                    "City": "Fort Worth",
                                    "AddressCount": "2"
                                },
                                {
                                    "City": "Nepean",
                                    "AddressCount": "2"
                                },
                                {
                                    "City": "Idaho Falls",
                                    "AddressCount": "2"
                                },
                                {
                                    "City": "Jefferson City",
                                    "AddressCount": "2"
                                },
                                {
                                    "City": "Somerset",
                                    "AddressCount": "2"
                                },
                                {
                                    "City": "Gaffney",
                                    "AddressCount": "2"
                                },
                                {
                                    "City": "Tupelo",
                                    "AddressCount": "2"
                                },
                                {
                                    "City": "Myrtle Beach",
                                    "AddressCount": "2"
                                },
                                {
                                    "City": "Kendall",
                                    "AddressCount": "2"
                                },
                                {
                                    "City": "Decatur",
                                    "AddressCount": "2"
                                },
                                {
                                    "City": "Ferguson",
                                    "AddressCount": "2"
                                },
                                {
                                    "City": "Smithfield",
                                    "AddressCount": "2"
                                },
                                {
                                    "City": "Federal Way",
                                    "AddressCount": "2"
                                },
                                {
                                    "City": "Rio Rancho",
                                    "AddressCount": "2"
                                },
                                {
                                    "City": "Bad Soden",
                                    "AddressCount": "2"
                                },
                                {
                                    "City": "New Hartford",
                                    "AddressCount": "2"
                                },
                                {
                                    "City": "Newport",
                                    "AddressCount": "2"
                                },
                                {
                                    "City": "Mosinee",
                                    "AddressCount": "2"
                                },
                                {
                                    "City": "West Kingston",
                                    "AddressCount": "2"
                                },
                                {
                                    "City": "Madison Heights",
                                    "AddressCount": "2"
                                },
                                {
                                    "City": "Daleville",
                                    "AddressCount": "2"
                                },
                                {
                                    "City": "East Haven",
                                    "AddressCount": "2"
                                },
                                {
                                    "City": "Irvine",
                                    "AddressCount": "2"
                                },
                                {
                                    "City": "Suwanee",
                                    "AddressCount": "2"
                                },
                                {
                                    "City": "West Chicago",
                                    "AddressCount": "2"
                                },
                                {
                                    "City": "Valley Stream",
                                    "AddressCount": "2"
                                },
                                {
                                    "City": "Nevada",
                                    "AddressCount": "2"
                                },
                                {
                                    "City": "New Haven",
                                    "AddressCount": "2"
                                },
                                {
                                    "City": "Redlands",
                                    "AddressCount": "2"
                                },
                                {
                                    "City": "Santa Fe",
                                    "AddressCount": "2"
                                },
                                {
                                    "City": "Savannah",
                                    "AddressCount": "2"
                                },
                                {
                                    "City": "Orange",
                                    "AddressCount": "2"
                                },
                                {
                                    "City": "Norridge",
                                    "AddressCount": "2"
                                },
                                {
                                    "City": "Fernley",
                                    "AddressCount": "2"
                                },
                                {
                                    "City": "Upland",
                                    "AddressCount": "2"
                                },
                                {
                                    "City": "Trabuco Canyon",
                                    "AddressCount": "2"
                                },
                                {
                                    "City": "Sarasota",
                                    "AddressCount": "2"
                                },
                                {
                                    "City": "Pnot-Rouge",
                                    "AddressCount": "2"
                                },
                                {
                                    "City": "Destin",
                                    "AddressCount": "2"
                                },
                                {
                                    "City": "Tampa",
                                    "AddressCount": "2"
                                },
                                {
                                    "City": "Milpitas",
                                    "AddressCount": "2"
                                },
                                {
                                    "City": "North Las Vegas",
                                    "AddressCount": "2"
                                },
                                {
                                    "City": "Falls Church",
                                    "AddressCount": "2"
                                },
                                {
                                    "City": "Odessa",
                                    "AddressCount": "2"
                                },
                                {
                                    "City": "Sainte-Foy",
                                    "AddressCount": "2"
                                },
                                {
                                    "City": "Tuscola",
                                    "AddressCount": "2"
                                },
                                {
                                    "City": "Howell",
                                    "AddressCount": "2"
                                },
                                {
                                    "City": "Saint Ann",
                                    "AddressCount": "2"
                                },
                                {
                                    "City": "Humble",
                                    "AddressCount": "2"
                                },
                                {
                                    "City": "Union City",
                                    "AddressCount": "2"
                                },
                                {
                                    "City": "Hull",
                                    "AddressCount": "2"
                                },
                                {
                                    "City": "Lewiston",
                                    "AddressCount": "2"
                                },
                                {
                                    "City": "North Sioux City",
                                    "AddressCount": "2"
                                },
                                {
                                    "City": "Westport",
                                    "AddressCount": "2"
                                },
                                {
                                    "City": "Boise",
                                    "AddressCount": "2"
                                },
                                {
                                    "City": "Augusta",
                                    "AddressCount": "2"
                                },
                                {
                                    "City": "San Ysidro",
                                    "AddressCount": "2"
                                },
                                {
                                    "City": "Racine",
                                    "AddressCount": "2"
                                },
                                {
                                    "City": "Mesquite",
                                    "AddressCount": "2"
                                },
                                {
                                    "City": "Heath",
                                    "AddressCount": "2"
                                },
                                {
                                    "City": "Ithaca",
                                    "AddressCount": "2"
                                },
                                {
                                    "City": "Farmington",
                                    "AddressCount": "2"
                                },
                                {
                                    "City": "Pleasanton",
                                    "AddressCount": "2"
                                },
                                {
                                    "City": "Hamden",
                                    "AddressCount": "2"
                                },
                                {
                                    "City": "Wenatchee",
                                    "AddressCount": "2"
                                },
                                {
                                    "City": "Mobile",
                                    "AddressCount": "2"
                                },
                                {
                                    "City": "Hixson",
                                    "AddressCount": "2"
                                }
                            ]
                        },
                        "text/html": [
                            "<table>",
                            "<tr><th>City</th><th>AddressCount</th></tr>",
                            "<tr><td>London</td><td>868</td></tr>",
                            "<tr><td>Paris</td><td>796</td></tr>",
                            "<tr><td>Burien</td><td>430</td></tr>",
                            "<tr><td>Concord</td><td>428</td></tr>",
                            "<tr><td>Bellingham</td><td>426</td></tr>",
                            "<tr><td>Beaverton</td><td>426</td></tr>",
                            "<tr><td>Chula Vista</td><td>414</td></tr>",
                            "<tr><td>Berkeley</td><td>404</td></tr>",
                            "<tr><td>Burlingame</td><td>402</td></tr>",
                            "<tr><td>Burbank</td><td>392</td></tr>",
                            "<tr><td>Bellflower</td><td>388</td></tr>",
                            "<tr><td>Berlin</td><td>386</td></tr>",
                            "<tr><td>Beverly Hills</td><td>376</td></tr>",
                            "<tr><td>Cliffside</td><td>376</td></tr>",
                            "<tr><td>Bremerton</td><td>368</td></tr>",
                            "<tr><td>Colma</td><td>336</td></tr>",
                            "<tr><td>Seattle</td><td>282</td></tr>",
                            "<tr><td>Coronado</td><td>268</td></tr>",
                            "<tr><td>Redmond</td><td>242</td></tr>",
                            "<tr><td>Everett</td><td>242</td></tr>",
                            "<tr><td>Issaquah</td><td>240</td></tr>",
                            "<tr><td>Edmonds</td><td>238</td></tr>",
                            "<tr><td>Hamburg</td><td>234</td></tr>",
                            "<tr><td>York</td><td>234</td></tr>",
                            "<tr><td>Renton</td><td>230</td></tr>",
                            "<tr><td>Downey</td><td>224</td></tr>",
                            "<tr><td>Shawnee</td><td>222</td></tr>",
                            "<tr><td>Lebanon</td><td>222</td></tr>",
                            "<tr><td>Melbourne</td><td>220</td></tr>",
                            "<tr><td>Lemon Grove</td><td>218</td></tr>",
                            "<tr><td>Gold Coast</td><td>212</td></tr>",
                            "<tr><td>Coffs Harbour</td><td>212</td></tr>",
                            "<tr><td>Cranbourne</td><td>212</td></tr>",
                            "<tr><td>Hobart</td><td>212</td></tr>",
                            "<tr><td>Goulburn</td><td>212</td></tr>",
                            "<tr><td>Geelong</td><td>212</td></tr>",
                            "<tr><td>Sydney</td><td>212</td></tr>",
                            "<tr><td>Brisbane</td><td>212</td></tr>",
                            "<tr><td>Caloundra</td><td>212</td></tr>",
                            "<tr><td>Lake Oswego</td><td>210</td></tr>",
                            "<tr><td>Rockhampton</td><td>210</td></tr>",
                            "<tr><td>El Cajon</td><td>210</td></tr>",
                            "<tr><td>Langford</td><td>210</td></tr>",
                            "<tr><td>Sunbury</td><td>210</td></tr>",
                            "<tr><td>Townsville</td><td>210</td></tr>",
                            "<tr><td>Milwaukie</td><td>210</td></tr>",
                            "<tr><td>Melton</td><td>210</td></tr>",
                            "<tr><td>Port Macquarie</td><td>210</td></tr>",
                            "<tr><td>Hervey Bay</td><td>210</td></tr>",
                            "<tr><td>Warrnambool</td><td>210</td></tr>",
                            "<tr><td>Wollongong</td><td>210</td></tr>",
                            "<tr><td>Glendale</td><td>208</td></tr>",
                            "<tr><td>Bendigo</td><td>208</td></tr>",
                            "<tr><td>Torrance</td><td>206</td></tr>",
                            "<tr><td>Lincoln Acres</td><td>204</td></tr>",
                            "<tr><td>Salem</td><td>202</td></tr>",
                            "<tr><td>Lynnwood</td><td>202</td></tr>",
                            "<tr><td>National City</td><td>202</td></tr>",
                            "<tr><td>Walla Walla</td><td>200</td></tr>",
                            "<tr><td>Grossmont</td><td>200</td></tr>",
                            "<tr><td>N. Vancouver</td><td>198</td></tr>",
                            "<tr><td>Oak Bay</td><td>198</td></tr>",
                            "<tr><td>Puyallup</td><td>198</td></tr>",
                            "<tr><td>Vancouver</td><td>196</td></tr>",
                            "<tr><td>Long Beach</td><td>194</td></tr>",
                            "<tr><td>Sooke</td><td>194</td></tr>",
                            "<tr><td>Yakima</td><td>192</td></tr>",
                            "<tr><td>Woodland Hills</td><td>192</td></tr>",
                            "<tr><td>Metchosin</td><td>192</td></tr>",
                            "<tr><td>San Gabriel</td><td>192</td></tr>",
                            "<tr><td>Tacoma</td><td>192</td></tr>",
                            "<tr><td>Port Hammond</td><td>190</td></tr>",
                            "<tr><td>Kirkland</td><td>190</td></tr>",
                            "<tr><td>Corvallis</td><td>190</td></tr>",
                            "<tr><td>Portland</td><td>190</td></tr>",
                            "<tr><td>Westminster</td><td>188</td></tr>",
                            "<tr><td>Royal Oak</td><td>188</td></tr>",
                            "<tr><td>Santa Cruz</td><td>188</td></tr>",
                            "<tr><td>München</td><td>188</td></tr>",
                            "<tr><td>Les Ulis</td><td>188</td></tr>",
                            "<tr><td>La Jolla</td><td>188</td></tr>",
                            "<tr><td>Imperial Beach</td><td>186</td></tr>",
                            "<tr><td>Victoria</td><td>186</td></tr>",
                            "<tr><td>Marysville</td><td>186</td></tr>",
                            "<tr><td>Palo Alto</td><td>186</td></tr>",
                            "<tr><td>San Diego</td><td>186</td></tr>",
                            "<tr><td>Los Angeles</td><td>186</td></tr>",
                            "<tr><td>Olympia</td><td>186</td></tr>",
                            "<tr><td>West Covina</td><td>184</td></tr>",
                            "<tr><td>Santa Monica</td><td>184</td></tr>",
                            "<tr><td>Spring Valley</td><td>184</td></tr>",
                            "<tr><td>Langley</td><td>184</td></tr>",
                            "<tr><td>Woodburn</td><td>182</td></tr>",
                            "<tr><td>Newport Beach</td><td>182</td></tr>",
                            "<tr><td>Daly City</td><td>180</td></tr>",
                            "<tr><td>Newton</td><td>180</td></tr>",
                            "<tr><td>Haney</td><td>180</td></tr>",
                            "<tr><td>Novato</td><td>180</td></tr>",
                            "<tr><td>Port Orchard</td><td>180</td></tr>",
                            "<tr><td>W. Linn</td><td>178</td></tr>",
                            "<tr><td>Spokane</td><td>178</td></tr>",
                            "<tr><td>Sedro Woolley</td><td>176</td></tr>",
                            "<tr><td>San Carlos</td><td>176</td></tr>",
                            "<tr><td>Oakland</td><td>176</td></tr>",
                            "<tr><td>Mill Valley</td><td>174</td></tr>",
                            "<tr><td>Oregon City</td><td>174</td></tr>",
                            "<tr><td>Frankfurt</td><td>172</td></tr>",
                            "<tr><td>Warrington</td><td>172</td></tr>",
                            "<tr><td>Oxford</td><td>172</td></tr>",
                            "<tr><td>Paderborn</td><td>172</td></tr>",
                            "<tr><td>Lakewood</td><td>170</td></tr>",
                            "<tr><td>Lavender Bay</td><td>170</td></tr>",
                            "<tr><td>Redwood City</td><td>168</td></tr>",
                            "<tr><td>Rhodes</td><td>166</td></tr>",
                            "<tr><td>Matraville</td><td>166</td></tr>",
                            "<tr><td>North Ryde</td><td>164</td></tr>",
                            "<tr><td>North Sydney</td><td>164</td></tr>",
                            "<tr><td>Lane Cove</td><td>162</td></tr>",
                            "<tr><td>East Brisbane</td><td>162</td></tr>",
                            "<tr><td>Malabar</td><td>162</td></tr>",
                            "<tr><td>Hawthorne</td><td>162</td></tr>",
                            "<tr><td>Findon</td><td>162</td></tr>",
                            "<tr><td>Darlinghurst</td><td>162</td></tr>",
                            "<tr><td>Cloverdale</td><td>162</td></tr>",
                            "<tr><td>Newcastle</td><td>160</td></tr>",
                            "<tr><td>Perth</td><td>160</td></tr>",
                            "<tr><td>South Melbourne</td><td>160</td></tr>",
                            "<tr><td>Milsons Point</td><td>160</td></tr>",
                            "<tr><td>Seaford</td><td>160</td></tr>",
                            "<tr><td>Silverwater</td><td>160</td></tr>",
                            "<tr><td>Springwood</td><td>160</td></tr>",
                            "<tr><td>St. Leonards</td><td>160</td></tr>",
                            "<tr><td>Fremont</td><td>152</td></tr>",
                            "<tr><td>Ballard</td><td>138</td></tr>",
                            "<tr><td>Bonn</td><td>128</td></tr>",
                            "<tr><td>Milton Keynes</td><td>126</td></tr>",
                            "<tr><td>Colombes</td><td>124</td></tr>",
                            "<tr><td>Frankfurt am Main</td><td>124</td></tr>",
                            "<tr><td>Stuttgart</td><td>124</td></tr>",
                            "<tr><td>Orleans</td><td>124</td></tr>",
                            "<tr><td>Saint Ouen</td><td>124</td></tr>",
                            "<tr><td>Pantin</td><td>124</td></tr>",
                            "<tr><td>Bobigny</td><td>116</td></tr>",
                            "<tr><td>Bottrop</td><td>114</td></tr>",
                            "<tr><td>Versailles</td><td>112</td></tr>",
                            "<tr><td>Werne</td><td>112</td></tr>",
                            "<tr><td>Hof</td><td>112</td></tr>",
                            "<tr><td>Chatou</td><td>112</td></tr>",
                            "<tr><td>Billericay</td><td>112</td></tr>",
                            "<tr><td>Dunkerque</td><td>112</td></tr>",
                            "<tr><td>Erlangen</td><td>112</td></tr>",
                            "<tr><td>Tremblay-en-France</td><td>112</td></tr>",
                            "<tr><td>Roubaix</td><td>112</td></tr>",
                            "<tr><td>Ingolstadt</td><td>112</td></tr>",
                            "<tr><td>Bury</td><td>112</td></tr>",
                            "<tr><td>Saint Germain en Laye</td><td>112</td></tr>",
                            "<tr><td>Lille</td><td>112</td></tr>",
                            "<tr><td>Saint-Denis</td><td>112</td></tr>",
                            "<tr><td>Metz</td><td>112</td></tr>",
                            "<tr><td>Drancy</td><td>112</td></tr>",
                            "<tr><td>Villeneuve-d&#39;Ascq</td><td>112</td></tr>",
                            "<tr><td>Gateshead</td><td>110</td></tr>",
                            "<tr><td>Saarlouis</td><td>110</td></tr>",
                            "<tr><td>Newcastle upon Tyne</td><td>110</td></tr>",
                            "<tr><td>Cheltenham</td><td>110</td></tr>",
                            "<tr><td>Runcorn</td><td>110</td></tr>",
                            "<tr><td>Kassel</td><td>110</td></tr>",
                            "<tr><td>Esher-Molesey</td><td>110</td></tr>",
                            "<tr><td>Solingen</td><td>110</td></tr>",
                            "<tr><td>Watford</td><td>110</td></tr>",
                            "<tr><td>Stoke-on-Trent</td><td>110</td></tr>",
                            "<tr><td>Leeds</td><td>110</td></tr>",
                            "<tr><td>Darmstadt</td><td>110</td></tr>",
                            "<tr><td>Neunkirchen</td><td>110</td></tr>",
                            "<tr><td>Kirkby</td><td>110</td></tr>",
                            "<tr><td>Peterborough</td><td>110</td></tr>",
                            "<tr><td>San Francisco</td><td>102</td></tr>",
                            "<tr><td>Bellevue</td><td>82</td></tr>",
                            "<tr><td>Birmingham</td><td>68</td></tr>",
                            "<tr><td>Cambridge</td><td>66</td></tr>",
                            "<tr><td>Burnaby</td><td>64</td></tr>",
                            "<tr><td>W. York</td><td>64</td></tr>",
                            "<tr><td>Berkshire</td><td>64</td></tr>",
                            "<tr><td>Sulzbach Taunus</td><td>64</td></tr>",
                            "<tr><td>Braunschweig</td><td>64</td></tr>",
                            "<tr><td>Bracknell</td><td>64</td></tr>",
                            "<tr><td>Berks</td><td>64</td></tr>",
                            "<tr><td>Morangis</td><td>62</td></tr>",
                            "<tr><td>Gloucestershire</td><td>62</td></tr>",
                            "<tr><td>Grevenbroich</td><td>62</td></tr>",
                            "<tr><td>Offenbach</td><td>62</td></tr>",
                            "<tr><td>Hannover</td><td>62</td></tr>",
                            "<tr><td>Lieusaint</td><td>62</td></tr>",
                            "<tr><td>Sèvres</td><td>62</td></tr>",
                            "<tr><td>Maidenhead</td><td>62</td></tr>",
                            "<tr><td>Roissy en Brie</td><td>62</td></tr>",
                            "<tr><td>Duesseldorf</td><td>62</td></tr>",
                            "<tr><td>Suresnes</td><td>62</td></tr>",
                            "<tr><td>Reading</td><td>62</td></tr>",
                            "<tr><td>Oxon</td><td>62</td></tr>",
                            "<tr><td>Eilenburg</td><td>62</td></tr>",
                            "<tr><td>Courbevoie</td><td>62</td></tr>",
                            "<tr><td>Saarbrücken</td><td>62</td></tr>",
                            "<tr><td>Orly</td><td>62</td></tr>",
                            "<tr><td>Lancaster</td><td>62</td></tr>",
                            "<tr><td>Kiel</td><td>62</td></tr>",
                            "<tr><td>Liverpool</td><td>62</td></tr>",
                            "<tr><td>Salzgitter</td><td>62</td></tr>",
                            "<tr><td>Cergy</td><td>62</td></tr>",
                            "<tr><td>Colomiers</td><td>62</td></tr>",
                            "<tr><td>Roncq</td><td>62</td></tr>",
                            "<tr><td>Dresden</td><td>62</td></tr>",
                            "<tr><td>Essen</td><td>62</td></tr>",
                            "<tr><td>Poing</td><td>62</td></tr>",
                            "<tr><td>Woolston</td><td>62</td></tr>",
                            "<tr><td>West Sussex</td><td>62</td></tr>",
                            "<tr><td>Paris La Defense</td><td>62</td></tr>",
                            "<tr><td>Croix</td><td>62</td></tr>",
                            "<tr><td>High Wycombe</td><td>62</td></tr>",
                            "<tr><td>Verrieres Le Buisson</td><td>62</td></tr>",
                            "<tr><td>Leipzig</td><td>62</td></tr>",
                            "<tr><td>Wokingham</td><td>62</td></tr>",
                            "<tr><td>Mühlheim</td><td>60</td></tr>",
                            "<tr><td>Münster</td><td>60</td></tr>",
                            "<tr><td>Bothell</td><td>52</td></tr>",
                            "<tr><td>Toronto</td><td>48</td></tr>",
                            "<tr><td>Calgary</td><td>46</td></tr>",
                            "<tr><td>Sammamish</td><td>38</td></tr>",
                            "<tr><td>Boulogne-sur-Mer</td><td>34</td></tr>",
                            "<tr><td>Monroe</td><td>32</td></tr>",
                            "<tr><td>Boulogne-Billancourt</td><td>30</td></tr>",
                            "<tr><td>Montreal</td><td>26</td></tr>",
                            "<tr><td>Kenmore</td><td>26</td></tr>",
                            "<tr><td>Chicago</td><td>22</td></tr>",
                            "<tr><td>Duvall</td><td>20</td></tr>",
                            "<tr><td>Miami</td><td>20</td></tr>",
                            "<tr><td>Snohomish</td><td>20</td></tr>",
                            "<tr><td>Newport Hills</td><td>16</td></tr>",
                            "<tr><td>Dallas</td><td>14</td></tr>",
                            "<tr><td>Ottawa</td><td>14</td></tr>",
                            "<tr><td>Richmond</td><td>14</td></tr>",
                            "<tr><td>Mississauga</td><td>12</td></tr>",
                            "<tr><td>San Antonio</td><td>12</td></tr>",
                            "<tr><td>Houston</td><td>10</td></tr>",
                            "<tr><td>Camarillo</td><td>10</td></tr>",
                            "<tr><td>Phoenix</td><td>10</td></tr>",
                            "<tr><td>Index</td><td>10</td></tr>",
                            "<tr><td>Gold Bar</td><td>10</td></tr>",
                            "<tr><td>Carnation</td><td>10</td></tr>",
                            "<tr><td>Memphis</td><td>10</td></tr>",
                            "<tr><td>Columbus</td><td>8</td></tr>",
                            "<tr><td>Cincinnati</td><td>8</td></tr>",
                            "<tr><td>Orlando</td><td>8</td></tr>",
                            "<tr><td>Salt Lake City</td><td>8</td></tr>",
                            "<tr><td>Clearwater</td><td>8</td></tr>",
                            "<tr><td>Saint Louis</td><td>8</td></tr>",
                            "<tr><td>Cheyenne</td><td>8</td></tr>",
                            "<tr><td>Clackamas</td><td>8</td></tr>",
                            "<tr><td>Albany</td><td>8</td></tr>",
                            "<tr><td>Chandler</td><td>8</td></tr>",
                            "<tr><td>Kent</td><td>6</td></tr>",
                            "<tr><td>Denver</td><td>6</td></tr>",
                            "<tr><td>Medford</td><td>6</td></tr>",
                            "<tr><td>Basingstoke Hants</td><td>6</td></tr>",
                            "<tr><td>Minneapolis</td><td>6</td></tr>",
                            "<tr><td>El Segundo</td><td>6</td></tr>",
                            "<tr><td>Surrey</td><td>6</td></tr>",
                            "<tr><td>Nashville</td><td>6</td></tr>",
                            "<tr><td>Anacortes</td><td>6</td></tr>",
                            "<tr><td>Detroit</td><td>6</td></tr>",
                            "<tr><td>Millington</td><td>6</td></tr>",
                            "<tr><td>Las Vegas</td><td>6</td></tr>",
                            "<tr><td>Indianapolis</td><td>6</td></tr>",
                            "<tr><td>Byron</td><td>4</td></tr>",
                            "<tr><td>Wood Dale</td><td>4</td></tr>",
                            "<tr><td>Cheektowaga</td><td>4</td></tr>",
                            "<tr><td>Alexandria</td><td>4</td></tr>",
                            "<tr><td>Chehalis</td><td>4</td></tr>",
                            "<tr><td>Brossard</td><td>4</td></tr>",
                            "<tr><td>Scottsdale</td><td>4</td></tr>",
                            "<tr><td>Cedar City</td><td>4</td></tr>",
                            "<tr><td>Citrus Heights</td><td>4</td></tr>",
                            "<tr><td>Billings</td><td>4</td></tr>",
                            "<tr><td>Culver City</td><td>4</td></tr>",
                            "<tr><td>Augsburg</td><td>4</td></tr>",
                            "<tr><td>Loveland</td><td>4</td></tr>",
                            "<tr><td>Carson</td><td>4</td></tr>",
                            "<tr><td>Bountiful</td><td>4</td></tr>",
                            "<tr><td>Campbellsville</td><td>4</td></tr>",
                            "<tr><td>Central Valley</td><td>4</td></tr>",
                            "<tr><td>Garland</td><td>4</td></tr>",
                            "<tr><td>Edmonton</td><td>4</td></tr>",
                            "<tr><td>Chantilly</td><td>4</td></tr>",
                            "<tr><td>Florence</td><td>4</td></tr>",
                            "<tr><td>Missoula</td><td>4</td></tr>",
                            "<tr><td>Carrollton</td><td>4</td></tr>",
                            "<tr><td>Winnipeg</td><td>4</td></tr>",
                            "<tr><td>La Mesa</td><td>4</td></tr>",
                            "<tr><td>Barstow</td><td>4</td></tr>",
                            "<tr><td>Bradenton</td><td>4</td></tr>",
                            "<tr><td>Holland</td><td>4</td></tr>",
                            "<tr><td>Clarkston</td><td>4</td></tr>",
                            "<tr><td>San Jose</td><td>4</td></tr>",
                            "<tr><td>Vista</td><td>4</td></tr>",
                            "<tr><td>Baytown</td><td>4</td></tr>",
                            "<tr><td>Cedar Park</td><td>4</td></tr>",
                            "<tr><td>Quebec</td><td>4</td></tr>",
                            "<tr><td>Bluffton</td><td>4</td></tr>",
                            "<tr><td>Atlanta</td><td>4</td></tr>",
                            "<tr><td>Austin</td><td>4</td></tr>",
                            "<tr><td>Etobicoke</td><td>4</td></tr>",
                            "<tr><td>Carol Stream</td><td>4</td></tr>",
                            "<tr><td>Tucson</td><td>4</td></tr>",
                            "<tr><td>Modesto</td><td>4</td></tr>",
                            "<tr><td>Charlotte</td><td>4</td></tr>",
                            "<tr><td>Oxnard</td><td>4</td></tr>",
                            "<tr><td>Richmond Hill</td><td>4</td></tr>",
                            "<tr><td>Kansas City</td><td>4</td></tr>",
                            "<tr><td>Round Rock</td><td>4</td></tr>",
                            "<tr><td>Chalk Riber</td><td>4</td></tr>",
                            "<tr><td>Kittery</td><td>4</td></tr>",
                            "<tr><td>Saginaw</td><td>4</td></tr>",
                            "<tr><td>Santa Ana</td><td>4</td></tr>",
                            "<tr><td>Cerritos</td><td>4</td></tr>",
                            "<tr><td>Kingston</td><td>4</td></tr>",
                            "<tr><td>Nashua</td><td>4</td></tr>",
                            "<tr><td>Irving</td><td>4</td></tr>",
                            "<tr><td>Waterloo</td><td>4</td></tr>",
                            "<tr><td>Duluth</td><td>4</td></tr>",
                            "<tr><td>Branch</td><td>4</td></tr>",
                            "<tr><td>Branson</td><td>4</td></tr>",
                            "<tr><td>Mcdonough</td><td>4</td></tr>",
                            "<tr><td>Huntsville</td><td>4</td></tr>",
                            "<tr><td>Canoga Park</td><td>4</td></tr>",
                            "<tr><td>Hillsboro</td><td>4</td></tr>",
                            "<tr><td>City Of Commerce</td><td>4</td></tr>",
                            "<tr><td>Clay</td><td>4</td></tr>",
                            "<tr><td>Milford</td><td>4</td></tr>",
                            "<tr><td>Braintree</td><td>4</td></tr>",
                            "<tr><td>Norwalk</td><td>4</td></tr>",
                            "<tr><td>Kelso</td><td>4</td></tr>",
                            "<tr><td>Casper</td><td>4</td></tr>",
                            "<tr><td>New York</td><td>4</td></tr>",
                            "<tr><td>Altadena</td><td>4</td></tr>",
                            "<tr><td>Biloxi</td><td>4</td></tr>",
                            "<tr><td>College Station</td><td>4</td></tr>",
                            "<tr><td>Bell Gardens</td><td>4</td></tr>",
                            "<tr><td>Ontario</td><td>4</td></tr>",
                            "<tr><td>Abingdon</td><td>2</td></tr>",
                            "<tr><td>Washougal</td><td>2</td></tr>",
                            "<tr><td>Vero Beach</td><td>2</td></tr>",
                            "<tr><td>Tigard</td><td>2</td></tr>",
                            "<tr><td>Hooksett</td><td>2</td></tr>",
                            "<tr><td>La Grange</td><td>2</td></tr>",
                            "<tr><td>Springfield</td><td>2</td></tr>",
                            "<tr><td>Plaistow</td><td>2</td></tr>",
                            "<tr><td>Oberlin</td><td>2</td></tr>",
                            "<tr><td>Leesburg</td><td>2</td></tr>",
                            "<tr><td>Arlington</td><td>2</td></tr>",
                            "<tr><td>Markham</td><td>2</td></tr>",
                            "<tr><td>Shelton</td><td>2</td></tr>",
                            "<tr><td>Hayward</td><td>2</td></tr>",
                            "<tr><td>Pigeon Forge</td><td>2</td></tr>",
                            "<tr><td>Hanford</td><td>2</td></tr>",
                            "<tr><td>Visalia</td><td>2</td></tr>",
                            "<tr><td>Ellensburg</td><td>2</td></tr>",
                            "<tr><td>Auburn</td><td>2</td></tr>",
                            "<tr><td>Walnut Creek</td><td>2</td></tr>",
                            "<tr><td>Philadelphia</td><td>2</td></tr>",
                            "<tr><td>Rocky Mount</td><td>2</td></tr>",
                            "<tr><td>Wrentham</td><td>2</td></tr>",
                            "<tr><td>Tooele</td><td>2</td></tr>",
                            "<tr><td>Southfield</td><td>2</td></tr>",
                            "<tr><td>Sherman Oaks</td><td>2</td></tr>",
                            "<tr><td>Sequim</td><td>2</td></tr>",
                            "<tr><td>Sparks</td><td>2</td></tr>",
                            "<tr><td>Sandpoint</td><td>2</td></tr>",
                            "<tr><td>Tilton</td><td>2</td></tr>",
                            "<tr><td>North Miami Beach</td><td>2</td></tr>",
                            "<tr><td>Moline</td><td>2</td></tr>",
                            "<tr><td>De Witt</td><td>2</td></tr>",
                            "<tr><td>Weston</td><td>2</td></tr>",
                            "<tr><td>Edina</td><td>2</td></tr>",
                            "<tr><td>Greensboro</td><td>2</td></tr>",
                            "<tr><td>Melville</td><td>2</td></tr>",
                            "<tr><td>Great Falls</td><td>2</td></tr>",
                            "<tr><td>St. Louis</td><td>2</td></tr>",
                            "<tr><td>Rock Springs</td><td>2</td></tr>",
                            "<tr><td>Kanata</td><td>2</td></tr>",
                            "<tr><td>Endicott</td><td>2</td></tr>",
                            "<tr><td>Novi</td><td>2</td></tr>",
                            "<tr><td>Lacey</td><td>2</td></tr>",
                            "<tr><td>Whittier</td><td>2</td></tr>",
                            "<tr><td>Surprise</td><td>2</td></tr>",
                            "<tr><td>Westland</td><td>2</td></tr>",
                            "<tr><td>Boston</td><td>2</td></tr>",
                            "<tr><td>La Vergne</td><td>2</td></tr>",
                            "<tr><td>Mesa</td><td>2</td></tr>",
                            "<tr><td>San Bruno</td><td>2</td></tr>",
                            "<tr><td>Newport News</td><td>2</td></tr>",
                            "<tr><td>New Castle</td><td>2</td></tr>",
                            "<tr><td>Lake George</td><td>2</td></tr>",
                            "<tr><td>Aurora</td><td>2</td></tr>",
                            "<tr><td>Alhambra</td><td>2</td></tr>",
                            "<tr><td>North York</td><td>2</td></tr>",
                            "<tr><td>Springdale</td><td>2</td></tr>",
                            "<tr><td>Dorval</td><td>2</td></tr>",
                            "<tr><td>Warwick</td><td>2</td></tr>",
                            "<tr><td>Muehlheim</td><td>2</td></tr>",
                            "<tr><td>Simi Valley</td><td>2</td></tr>",
                            "<tr><td>Randolph</td><td>2</td></tr>",
                            "<tr><td>Woodbury</td><td>2</td></tr>",
                            "<tr><td>Port Huron</td><td>2</td></tr>",
                            "<tr><td>Barrie</td><td>2</td></tr>",
                            "<tr><td>Aujan Mournede</td><td>2</td></tr>",
                            "<tr><td>Van Nuys</td><td>2</td></tr>",
                            "<tr><td>Reno</td><td>2</td></tr>",
                            "<tr><td>Sand City</td><td>2</td></tr>",
                            "<tr><td>La Marque</td><td>2</td></tr>",
                            "<tr><td>Corpus Christi</td><td>2</td></tr>",
                            "<tr><td>Denby</td><td>2</td></tr>",
                            "<tr><td>Raleigh</td><td>2</td></tr>",
                            "<tr><td>Merritt Island</td><td>2</td></tr>",
                            "<tr><td>Gulfport</td><td>2</td></tr>",
                            "<tr><td>Gilbert</td><td>2</td></tr>",
                            "<tr><td>Redford</td><td>2</td></tr>",
                            "<tr><td>Mentor</td><td>2</td></tr>",
                            "<tr><td>Ville De&#39;anjou</td><td>2</td></tr>",
                            "<tr><td>Fullerton</td><td>2</td></tr>",
                            "<tr><td>Ogden</td><td>2</td></tr>",
                            "<tr><td>Gilroy</td><td>2</td></tr>",
                            "<tr><td>Longmont</td><td>2</td></tr>",
                            "<tr><td>Englewood</td><td>2</td></tr>",
                            "<tr><td>Mansfield</td><td>2</td></tr>",
                            "<tr><td>Sacramento</td><td>2</td></tr>",
                            "<tr><td>Longview</td><td>2</td></tr>",
                            "<tr><td>Logansport</td><td>2</td></tr>",
                            "<tr><td>Plano</td><td>2</td></tr>",
                            "<tr><td>North Randall</td><td>2</td></tr>",
                            "<tr><td>Elk Grove</td><td>2</td></tr>",
                            "<tr><td>Sillery</td><td>2</td></tr>",
                            "<tr><td>Kannapolis</td><td>2</td></tr>",
                            "<tr><td>Norwood</td><td>2</td></tr>",
                            "<tr><td>Monrovia</td><td>2</td></tr>",
                            "<tr><td>Fontana</td><td>2</td></tr>",
                            "<tr><td>Newark</td><td>2</td></tr>",
                            "<tr><td>Baltimore</td><td>2</td></tr>",
                            "<tr><td>Kingsport</td><td>2</td></tr>",
                            "<tr><td>Pontiac</td><td>2</td></tr>",
                            "<tr><td>Parker</td><td>2</td></tr>",
                            "<tr><td>Escondido</td><td>2</td></tr>",
                            "<tr><td>Crossville</td><td>2</td></tr>",
                            "<tr><td>Sandy</td><td>2</td></tr>",
                            "<tr><td>South Bend</td><td>2</td></tr>",
                            "<tr><td>Winston-Salem</td><td>2</td></tr>",
                            "<tr><td>Las Cruces</td><td>2</td></tr>",
                            "<tr><td>Saint John</td><td>2</td></tr>",
                            "<tr><td>Greeley</td><td>2</td></tr>",
                            "<tr><td>Klamath Falls</td><td>2</td></tr>",
                            "<tr><td>Marietta</td><td>2</td></tr>",
                            "<tr><td>Sunrise</td><td>2</td></tr>",
                            "<tr><td>Waterbury</td><td>2</td></tr>",
                            "<tr><td>Eureka</td><td>2</td></tr>",
                            "<tr><td>Brampton</td><td>2</td></tr>",
                            "<tr><td>Southgate</td><td>2</td></tr>",
                            "<tr><td>Lakeland</td><td>2</td></tr>",
                            "<tr><td>Woonsocket</td><td>2</td></tr>",
                            "<tr><td>Stockton</td><td>2</td></tr>",
                            "<tr><td>Altamonte Springs</td><td>2</td></tr>",
                            "<tr><td>Stamford</td><td>2</td></tr>",
                            "<tr><td>Riverton</td><td>2</td></tr>",
                            "<tr><td>Lake Elsinore</td><td>2</td></tr>",
                            "<tr><td>Kennewick</td><td>2</td></tr>",
                            "<tr><td>Saugus</td><td>2</td></tr>",
                            "<tr><td>Michigan City</td><td>2</td></tr>",
                            "<tr><td>Virginia Beach</td><td>2</td></tr>",
                            "<tr><td>Maryville</td><td>2</td></tr>",
                            "<tr><td>Johnson Creek</td><td>2</td></tr>",
                            "<tr><td>Outremont</td><td>2</td></tr>",
                            "<tr><td>Euclid</td><td>2</td></tr>",
                            "<tr><td>Sugar Land</td><td>2</td></tr>",
                            "<tr><td>Ascheim</td><td>2</td></tr>",
                            "<tr><td>Union Gap</td><td>2</td></tr>",
                            "<tr><td>Killeen</td><td>2</td></tr>",
                            "<tr><td>Bordeaux</td><td>2</td></tr>",
                            "<tr><td>North Bend</td><td>2</td></tr>",
                            "<tr><td>Midland</td><td>2</td></tr>",
                            "<tr><td>Milwaukee</td><td>2</td></tr>",
                            "<tr><td>Troutdale</td><td>2</td></tr>",
                            "<tr><td>Vacaville</td><td>2</td></tr>",
                            "<tr><td>Zeeland</td><td>2</td></tr>",
                            "<tr><td>Laredo</td><td>2</td></tr>",
                            "<tr><td>Alpine</td><td>2</td></tr>",
                            "<tr><td>Montgomery</td><td>2</td></tr>",
                            "<tr><td>Stafford</td><td>2</td></tr>",
                            "<tr><td>Park City</td><td>2</td></tr>",
                            "<tr><td>Elgin</td><td>2</td></tr>",
                            "<tr><td>Woodinville</td><td>2</td></tr>",
                            "<tr><td>Baldwin Park</td><td>2</td></tr>",
                            "<tr><td>Saint Matthews</td><td>2</td></tr>",
                            "<tr><td>Fort Wayne</td><td>2</td></tr>",
                            "<tr><td>San Ramon</td><td>2</td></tr>",
                            "<tr><td>Hollywood</td><td>2</td></tr>",
                            "<tr><td>San Mateo</td><td>2</td></tr>",
                            "<tr><td>Joliet</td><td>2</td></tr>",
                            "<tr><td>Peoria</td><td>2</td></tr>",
                            "<tr><td>Scarborough</td><td>2</td></tr>",
                            "<tr><td>Austell</td><td>2</td></tr>",
                            "<tr><td>Fort Worth</td><td>2</td></tr>",
                            "<tr><td>Nepean</td><td>2</td></tr>",
                            "<tr><td>Idaho Falls</td><td>2</td></tr>",
                            "<tr><td>Jefferson City</td><td>2</td></tr>",
                            "<tr><td>Somerset</td><td>2</td></tr>",
                            "<tr><td>Gaffney</td><td>2</td></tr>",
                            "<tr><td>Tupelo</td><td>2</td></tr>",
                            "<tr><td>Myrtle Beach</td><td>2</td></tr>",
                            "<tr><td>Kendall</td><td>2</td></tr>",
                            "<tr><td>Decatur</td><td>2</td></tr>",
                            "<tr><td>Ferguson</td><td>2</td></tr>",
                            "<tr><td>Smithfield</td><td>2</td></tr>",
                            "<tr><td>Federal Way</td><td>2</td></tr>",
                            "<tr><td>Rio Rancho</td><td>2</td></tr>",
                            "<tr><td>Bad Soden</td><td>2</td></tr>",
                            "<tr><td>New Hartford</td><td>2</td></tr>",
                            "<tr><td>Newport</td><td>2</td></tr>",
                            "<tr><td>Mosinee</td><td>2</td></tr>",
                            "<tr><td>West Kingston</td><td>2</td></tr>",
                            "<tr><td>Madison Heights</td><td>2</td></tr>",
                            "<tr><td>Daleville</td><td>2</td></tr>",
                            "<tr><td>East Haven</td><td>2</td></tr>",
                            "<tr><td>Irvine</td><td>2</td></tr>",
                            "<tr><td>Suwanee</td><td>2</td></tr>",
                            "<tr><td>West Chicago</td><td>2</td></tr>",
                            "<tr><td>Valley Stream</td><td>2</td></tr>",
                            "<tr><td>Nevada</td><td>2</td></tr>",
                            "<tr><td>New Haven</td><td>2</td></tr>",
                            "<tr><td>Redlands</td><td>2</td></tr>",
                            "<tr><td>Santa Fe</td><td>2</td></tr>",
                            "<tr><td>Savannah</td><td>2</td></tr>",
                            "<tr><td>Orange</td><td>2</td></tr>",
                            "<tr><td>Norridge</td><td>2</td></tr>",
                            "<tr><td>Fernley</td><td>2</td></tr>",
                            "<tr><td>Upland</td><td>2</td></tr>",
                            "<tr><td>Trabuco Canyon</td><td>2</td></tr>",
                            "<tr><td>Sarasota</td><td>2</td></tr>",
                            "<tr><td>Pnot-Rouge</td><td>2</td></tr>",
                            "<tr><td>Destin</td><td>2</td></tr>",
                            "<tr><td>Tampa</td><td>2</td></tr>",
                            "<tr><td>Milpitas</td><td>2</td></tr>",
                            "<tr><td>North Las Vegas</td><td>2</td></tr>",
                            "<tr><td>Falls Church</td><td>2</td></tr>",
                            "<tr><td>Odessa</td><td>2</td></tr>",
                            "<tr><td>Sainte-Foy</td><td>2</td></tr>",
                            "<tr><td>Tuscola</td><td>2</td></tr>",
                            "<tr><td>Howell</td><td>2</td></tr>",
                            "<tr><td>Saint Ann</td><td>2</td></tr>",
                            "<tr><td>Humble</td><td>2</td></tr>",
                            "<tr><td>Union City</td><td>2</td></tr>",
                            "<tr><td>Hull</td><td>2</td></tr>",
                            "<tr><td>Lewiston</td><td>2</td></tr>",
                            "<tr><td>North Sioux City</td><td>2</td></tr>",
                            "<tr><td>Westport</td><td>2</td></tr>",
                            "<tr><td>Boise</td><td>2</td></tr>",
                            "<tr><td>Augusta</td><td>2</td></tr>",
                            "<tr><td>San Ysidro</td><td>2</td></tr>",
                            "<tr><td>Racine</td><td>2</td></tr>",
                            "<tr><td>Mesquite</td><td>2</td></tr>",
                            "<tr><td>Heath</td><td>2</td></tr>",
                            "<tr><td>Ithaca</td><td>2</td></tr>",
                            "<tr><td>Farmington</td><td>2</td></tr>",
                            "<tr><td>Pleasanton</td><td>2</td></tr>",
                            "<tr><td>Hamden</td><td>2</td></tr>",
                            "<tr><td>Wenatchee</td><td>2</td></tr>",
                            "<tr><td>Mobile</td><td>2</td></tr>",
                            "<tr><td>Hixson</td><td>2</td></tr>",
                            "</table>"
                        ]
                    }
                }
            ],
            "execution_count": 80
        },
        {
            "cell_type": "markdown",
            "source": [
                "Proposition 6: the greatest latest cost of a product exceeds $3500\n",
                "\n",
                "The query gets the latest cost and price for all product, along with both of their productID from two different tables(both select statements). The select statement gets the most recent cost from the ProductCostHistory table, while the second one gets its from the Product table. While combining both tables through the use of a union all to ensure all data is kept"
            ],
            "metadata": {
                "language": "sql",
                "azdata_cell_guid": "949d5aa2-22d2-4b90-a785-8908212ed8ed"
            },
            "attachments": {}
        },
        {
            "cell_type": "code",
            "source": [
                "USE AdventureWorks2019\n",
                "GO\n",
                "\n",
                "-- Latest cost for each product\n",
                "    SELECT ProductID, MAX(StandardCost) AS LatestCost\n",
                "    FROM Production.ProductCostHistory\n",
                "    GROUP BY ProductID\n",
                "\n",
                "UNION ALL\n",
                "\n",
                "    -- Price for each product\n",
                "    SELECT ProductID, MAX(ListPrice) AS LatestPrice\n",
                "    FROM Production.Product\n",
                "    GROUP BY ProductID\n",
                "ORDER BY LatestCost DESC;"
            ],
            "metadata": {
                "language": "sql",
                "azdata_cell_guid": "c034519d-6740-4c47-a43a-2f8f61ee361f"
            },
            "outputs": [
                {
                    "output_type": "display_data",
                    "data": {
                        "text/html": "Commands completed successfully."
                    },
                    "metadata": {}
                },
                {
                    "output_type": "display_data",
                    "data": {
                        "text/html": "(797 rows affected)"
                    },
                    "metadata": {}
                },
                {
                    "output_type": "display_data",
                    "data": {
                        "text/html": "Total execution time: 00:00:00.046"
                    },
                    "metadata": {}
                },
                {
                    "output_type": "execute_result",
                    "metadata": {},
                    "execution_count": 81,
                    "data": {
                        "application/vnd.dataresource+json": {
                            "schema": {
                                "fields": [
                                    {
                                        "name": "ProductID"
                                    },
                                    {
                                        "name": "LatestCost"
                                    }
                                ]
                            },
                            "data": [
                                {
                                    "ProductID": "749",
                                    "LatestCost": "3578.27"
                                },
                                {
                                    "ProductID": "750",
                                    "LatestCost": "3578.27"
                                },
                                {
                                    "ProductID": "751",
                                    "LatestCost": "3578.27"
                                },
                                {
                                    "ProductID": "752",
                                    "LatestCost": "3578.27"
                                },
                                {
                                    "ProductID": "753",
                                    "LatestCost": "3578.27"
                                },
                                {
                                    "ProductID": "771",
                                    "LatestCost": "3399.99"
                                },
                                {
                                    "ProductID": "772",
                                    "LatestCost": "3399.99"
                                },
                                {
                                    "ProductID": "773",
                                    "LatestCost": "3399.99"
                                },
                                {
                                    "ProductID": "774",
                                    "LatestCost": "3399.99"
                                },
                                {
                                    "ProductID": "775",
                                    "LatestCost": "3374.99"
                                },
                                {
                                    "ProductID": "776",
                                    "LatestCost": "3374.99"
                                },
                                {
                                    "ProductID": "777",
                                    "LatestCost": "3374.99"
                                },
                                {
                                    "ProductID": "778",
                                    "LatestCost": "3374.99"
                                },
                                {
                                    "ProductID": "789",
                                    "LatestCost": "2443.35"
                                },
                                {
                                    "ProductID": "790",
                                    "LatestCost": "2443.35"
                                },
                                {
                                    "ProductID": "791",
                                    "LatestCost": "2443.35"
                                },
                                {
                                    "ProductID": "792",
                                    "LatestCost": "2443.35"
                                },
                                {
                                    "ProductID": "793",
                                    "LatestCost": "2443.35"
                                },
                                {
                                    "ProductID": "794",
                                    "LatestCost": "2443.35"
                                },
                                {
                                    "ProductID": "795",
                                    "LatestCost": "2443.35"
                                },
                                {
                                    "ProductID": "796",
                                    "LatestCost": "2443.35"
                                },
                                {
                                    "ProductID": "954",
                                    "LatestCost": "2384.07"
                                },
                                {
                                    "ProductID": "955",
                                    "LatestCost": "2384.07"
                                },
                                {
                                    "ProductID": "956",
                                    "LatestCost": "2384.07"
                                },
                                {
                                    "ProductID": "957",
                                    "LatestCost": "2384.07"
                                },
                                {
                                    "ProductID": "966",
                                    "LatestCost": "2384.07"
                                },
                                {
                                    "ProductID": "967",
                                    "LatestCost": "2384.07"
                                },
                                {
                                    "ProductID": "968",
                                    "LatestCost": "2384.07"
                                },
                                {
                                    "ProductID": "969",
                                    "LatestCost": "2384.07"
                                },
                                {
                                    "ProductID": "779",
                                    "LatestCost": "2319.99"
                                },
                                {
                                    "ProductID": "780",
                                    "LatestCost": "2319.99"
                                },
                                {
                                    "ProductID": "781",
                                    "LatestCost": "2319.99"
                                },
                                {
                                    "ProductID": "782",
                                    "LatestCost": "2294.99"
                                },
                                {
                                    "ProductID": "783",
                                    "LatestCost": "2294.99"
                                },
                                {
                                    "ProductID": "784",
                                    "LatestCost": "2294.99"
                                },
                                {
                                    "ProductID": "749",
                                    "LatestCost": "2171.2942"
                                },
                                {
                                    "ProductID": "750",
                                    "LatestCost": "2171.2942"
                                },
                                {
                                    "ProductID": "751",
                                    "LatestCost": "2171.2942"
                                },
                                {
                                    "ProductID": "752",
                                    "LatestCost": "2171.2942"
                                },
                                {
                                    "ProductID": "753",
                                    "LatestCost": "2171.2942"
                                },
                                {
                                    "ProductID": "771",
                                    "LatestCost": "1912.1544"
                                },
                                {
                                    "ProductID": "772",
                                    "LatestCost": "1912.1544"
                                },
                                {
                                    "ProductID": "773",
                                    "LatestCost": "1912.1544"
                                },
                                {
                                    "ProductID": "774",
                                    "LatestCost": "1912.1544"
                                },
                                {
                                    "ProductID": "775",
                                    "LatestCost": "1898.0944"
                                },
                                {
                                    "ProductID": "776",
                                    "LatestCost": "1898.0944"
                                },
                                {
                                    "ProductID": "777",
                                    "LatestCost": "1898.0944"
                                },
                                {
                                    "ProductID": "778",
                                    "LatestCost": "1898.0944"
                                },
                                {
                                    "ProductID": "973",
                                    "LatestCost": "1700.99"
                                },
                                {
                                    "ProductID": "974",
                                    "LatestCost": "1700.99"
                                },
                                {
                                    "ProductID": "975",
                                    "LatestCost": "1700.99"
                                },
                                {
                                    "ProductID": "976",
                                    "LatestCost": "1700.99"
                                },
                                {
                                    "ProductID": "792",
                                    "LatestCost": "1554.9479"
                                },
                                {
                                    "ProductID": "793",
                                    "LatestCost": "1554.9479"
                                },
                                {
                                    "ProductID": "794",
                                    "LatestCost": "1554.9479"
                                },
                                {
                                    "ProductID": "795",
                                    "LatestCost": "1554.9479"
                                },
                                {
                                    "ProductID": "796",
                                    "LatestCost": "1554.9479"
                                },
                                {
                                    "ProductID": "789",
                                    "LatestCost": "1518.7864"
                                },
                                {
                                    "ProductID": "790",
                                    "LatestCost": "1518.7864"
                                },
                                {
                                    "ProductID": "791",
                                    "LatestCost": "1518.7864"
                                },
                                {
                                    "ProductID": "954",
                                    "LatestCost": "1481.9379"
                                },
                                {
                                    "ProductID": "955",
                                    "LatestCost": "1481.9379"
                                },
                                {
                                    "ProductID": "956",
                                    "LatestCost": "1481.9379"
                                },
                                {
                                    "ProductID": "957",
                                    "LatestCost": "1481.9379"
                                },
                                {
                                    "ProductID": "966",
                                    "LatestCost": "1481.9379"
                                },
                                {
                                    "ProductID": "967",
                                    "LatestCost": "1481.9379"
                                },
                                {
                                    "ProductID": "968",
                                    "LatestCost": "1481.9379"
                                },
                                {
                                    "ProductID": "969",
                                    "LatestCost": "1481.9379"
                                },
                                {
                                    "ProductID": "754",
                                    "LatestCost": "1457.99"
                                },
                                {
                                    "ProductID": "755",
                                    "LatestCost": "1457.99"
                                },
                                {
                                    "ProductID": "756",
                                    "LatestCost": "1457.99"
                                },
                                {
                                    "ProductID": "757",
                                    "LatestCost": "1457.99"
                                },
                                {
                                    "ProductID": "758",
                                    "LatestCost": "1457.99"
                                },
                                {
                                    "ProductID": "680",
                                    "LatestCost": "1431.50"
                                },
                                {
                                    "ProductID": "706",
                                    "LatestCost": "1431.50"
                                },
                                {
                                    "ProductID": "717",
                                    "LatestCost": "1431.50"
                                },
                                {
                                    "ProductID": "718",
                                    "LatestCost": "1431.50"
                                },
                                {
                                    "ProductID": "719",
                                    "LatestCost": "1431.50"
                                },
                                {
                                    "ProductID": "720",
                                    "LatestCost": "1431.50"
                                },
                                {
                                    "ProductID": "721",
                                    "LatestCost": "1431.50"
                                },
                                {
                                    "ProductID": "837",
                                    "LatestCost": "1431.50"
                                },
                                {
                                    "ProductID": "838",
                                    "LatestCost": "1431.50"
                                },
                                {
                                    "ProductID": "839",
                                    "LatestCost": "1431.50"
                                },
                                {
                                    "ProductID": "840",
                                    "LatestCost": "1431.50"
                                },
                                {
                                    "ProductID": "739",
                                    "LatestCost": "1364.50"
                                },
                                {
                                    "ProductID": "740",
                                    "LatestCost": "1364.50"
                                },
                                {
                                    "ProductID": "741",
                                    "LatestCost": "1364.50"
                                },
                                {
                                    "ProductID": "742",
                                    "LatestCost": "1364.50"
                                },
                                {
                                    "ProductID": "748",
                                    "LatestCost": "1364.50"
                                },
                                {
                                    "ProductID": "743",
                                    "LatestCost": "1349.60"
                                },
                                {
                                    "ProductID": "744",
                                    "LatestCost": "1349.60"
                                },
                                {
                                    "ProductID": "745",
                                    "LatestCost": "1349.60"
                                },
                                {
                                    "ProductID": "746",
                                    "LatestCost": "1349.60"
                                },
                                {
                                    "ProductID": "747",
                                    "LatestCost": "1349.60"
                                },
                                {
                                    "ProductID": "779",
                                    "LatestCost": "1265.6195"
                                },
                                {
                                    "ProductID": "780",
                                    "LatestCost": "1265.6195"
                                },
                                {
                                    "ProductID": "781",
                                    "LatestCost": "1265.6195"
                                },
                                {
                                    "ProductID": "782",
                                    "LatestCost": "1251.9813"
                                },
                                {
                                    "ProductID": "783",
                                    "LatestCost": "1251.9813"
                                },
                                {
                                    "ProductID": "784",
                                    "LatestCost": "1251.9813"
                                },
                                {
                                    "ProductID": "953",
                                    "LatestCost": "1214.85"
                                },
                                {
                                    "ProductID": "970",
                                    "LatestCost": "1214.85"
                                },
                                {
                                    "ProductID": "971",
                                    "LatestCost": "1214.85"
                                },
                                {
                                    "ProductID": "972",
                                    "LatestCost": "1214.85"
                                },
                                {
                                    "ProductID": "797",
                                    "LatestCost": "1120.49"
                                },
                                {
                                    "ProductID": "798",
                                    "LatestCost": "1120.49"
                                },
                                {
                                    "ProductID": "799",
                                    "LatestCost": "1120.49"
                                },
                                {
                                    "ProductID": "800",
                                    "LatestCost": "1120.49"
                                },
                                {
                                    "ProductID": "801",
                                    "LatestCost": "1120.49"
                                },
                                {
                                    "ProductID": "973",
                                    "LatestCost": "1082.51"
                                },
                                {
                                    "ProductID": "974",
                                    "LatestCost": "1082.51"
                                },
                                {
                                    "ProductID": "975",
                                    "LatestCost": "1082.51"
                                },
                                {
                                    "ProductID": "976",
                                    "LatestCost": "1082.51"
                                },
                                {
                                    "ProductID": "785",
                                    "LatestCost": "1079.99"
                                },
                                {
                                    "ProductID": "786",
                                    "LatestCost": "1079.99"
                                },
                                {
                                    "ProductID": "787",
                                    "LatestCost": "1079.99"
                                },
                                {
                                    "ProductID": "788",
                                    "LatestCost": "1079.99"
                                },
                                {
                                    "ProductID": "885",
                                    "LatestCost": "1003.91"
                                },
                                {
                                    "ProductID": "887",
                                    "LatestCost": "1003.91"
                                },
                                {
                                    "ProductID": "888",
                                    "LatestCost": "1003.91"
                                },
                                {
                                    "ProductID": "889",
                                    "LatestCost": "1003.91"
                                },
                                {
                                    "ProductID": "890",
                                    "LatestCost": "1003.91"
                                },
                                {
                                    "ProductID": "891",
                                    "LatestCost": "1003.91"
                                },
                                {
                                    "ProductID": "892",
                                    "LatestCost": "1003.91"
                                },
                                {
                                    "ProductID": "893",
                                    "LatestCost": "1003.91"
                                },
                                {
                                    "ProductID": "754",
                                    "LatestCost": "884.7083"
                                },
                                {
                                    "ProductID": "755",
                                    "LatestCost": "884.7083"
                                },
                                {
                                    "ProductID": "756",
                                    "LatestCost": "884.7083"
                                },
                                {
                                    "ProductID": "757",
                                    "LatestCost": "884.7083"
                                },
                                {
                                    "ProductID": "758",
                                    "LatestCost": "884.7083"
                                },
                                {
                                    "ProductID": "717",
                                    "LatestCost": "868.6342"
                                },
                                {
                                    "ProductID": "718",
                                    "LatestCost": "868.6342"
                                },
                                {
                                    "ProductID": "719",
                                    "LatestCost": "868.6342"
                                },
                                {
                                    "ProductID": "720",
                                    "LatestCost": "868.6342"
                                },
                                {
                                    "ProductID": "721",
                                    "LatestCost": "868.6342"
                                },
                                {
                                    "ProductID": "837",
                                    "LatestCost": "868.6342"
                                },
                                {
                                    "ProductID": "838",
                                    "LatestCost": "868.6342"
                                },
                                {
                                    "ProductID": "839",
                                    "LatestCost": "868.6342"
                                },
                                {
                                    "ProductID": "840",
                                    "LatestCost": "868.6342"
                                },
                                {
                                    "ProductID": "759",
                                    "LatestCost": "782.99"
                                },
                                {
                                    "ProductID": "760",
                                    "LatestCost": "782.99"
                                },
                                {
                                    "ProductID": "761",
                                    "LatestCost": "782.99"
                                },
                                {
                                    "ProductID": "762",
                                    "LatestCost": "782.99"
                                },
                                {
                                    "ProductID": "763",
                                    "LatestCost": "782.99"
                                },
                                {
                                    "ProductID": "764",
                                    "LatestCost": "782.99"
                                },
                                {
                                    "ProductID": "765",
                                    "LatestCost": "782.99"
                                },
                                {
                                    "ProductID": "766",
                                    "LatestCost": "782.99"
                                },
                                {
                                    "ProductID": "767",
                                    "LatestCost": "782.99"
                                },
                                {
                                    "ProductID": "768",
                                    "LatestCost": "782.99"
                                },
                                {
                                    "ProductID": "769",
                                    "LatestCost": "782.99"
                                },
                                {
                                    "ProductID": "770",
                                    "LatestCost": "782.99"
                                },
                                {
                                    "ProductID": "980",
                                    "LatestCost": "769.49"
                                },
                                {
                                    "ProductID": "981",
                                    "LatestCost": "769.49"
                                },
                                {
                                    "ProductID": "982",
                                    "LatestCost": "769.49"
                                },
                                {
                                    "ProductID": "983",
                                    "LatestCost": "769.49"
                                },
                                {
                                    "ProductID": "953",
                                    "LatestCost": "755.1508"
                                },
                                {
                                    "ProductID": "970",
                                    "LatestCost": "755.1508"
                                },
                                {
                                    "ProductID": "971",
                                    "LatestCost": "755.1508"
                                },
                                {
                                    "ProductID": "972",
                                    "LatestCost": "755.1508"
                                },
                                {
                                    "ProductID": "739",
                                    "LatestCost": "747.2002"
                                },
                                {
                                    "ProductID": "742",
                                    "LatestCost": "747.2002"
                                },
                                {
                                    "ProductID": "748",
                                    "LatestCost": "747.2002"
                                },
                                {
                                    "ProductID": "958",
                                    "LatestCost": "742.35"
                                },
                                {
                                    "ProductID": "959",
                                    "LatestCost": "742.35"
                                },
                                {
                                    "ProductID": "960",
                                    "LatestCost": "742.35"
                                },
                                {
                                    "ProductID": "961",
                                    "LatestCost": "742.35"
                                },
                                {
                                    "ProductID": "962",
                                    "LatestCost": "742.35"
                                },
                                {
                                    "ProductID": "963",
                                    "LatestCost": "742.35"
                                },
                                {
                                    "ProductID": "964",
                                    "LatestCost": "742.35"
                                },
                                {
                                    "ProductID": "965",
                                    "LatestCost": "742.35"
                                },
                                {
                                    "ProductID": "978",
                                    "LatestCost": "742.35"
                                },
                                {
                                    "ProductID": "979",
                                    "LatestCost": "742.35"
                                },
                                {
                                    "ProductID": "743",
                                    "LatestCost": "739.041"
                                },
                                {
                                    "ProductID": "746",
                                    "LatestCost": "739.041"
                                },
                                {
                                    "ProductID": "747",
                                    "LatestCost": "739.041"
                                },
                                {
                                    "ProductID": "797",
                                    "LatestCost": "713.0798"
                                },
                                {
                                    "ProductID": "798",
                                    "LatestCost": "713.0798"
                                },
                                {
                                    "ProductID": "799",
                                    "LatestCost": "713.0798"
                                },
                                {
                                    "ProductID": "800",
                                    "LatestCost": "713.0798"
                                },
                                {
                                    "ProductID": "801",
                                    "LatestCost": "713.0798"
                                },
                                {
                                    "ProductID": "740",
                                    "LatestCost": "706.811"
                                },
                                {
                                    "ProductID": "741",
                                    "LatestCost": "706.811"
                                },
                                {
                                    "ProductID": "744",
                                    "LatestCost": "699.0928"
                                },
                                {
                                    "ProductID": "745",
                                    "LatestCost": "699.0928"
                                },
                                {
                                    "ProductID": "885",
                                    "LatestCost": "601.7437"
                                },
                                {
                                    "ProductID": "887",
                                    "LatestCost": "601.7437"
                                },
                                {
                                    "ProductID": "888",
                                    "LatestCost": "601.7437"
                                },
                                {
                                    "ProductID": "889",
                                    "LatestCost": "601.7437"
                                },
                                {
                                    "ProductID": "890",
                                    "LatestCost": "601.7437"
                                },
                                {
                                    "ProductID": "891",
                                    "LatestCost": "601.7437"
                                },
                                {
                                    "ProductID": "892",
                                    "LatestCost": "601.7437"
                                },
                                {
                                    "ProductID": "893",
                                    "LatestCost": "601.7437"
                                },
                                {
                                    "ProductID": "785",
                                    "LatestCost": "598.4354"
                                },
                                {
                                    "ProductID": "786",
                                    "LatestCost": "598.4354"
                                },
                                {
                                    "ProductID": "787",
                                    "LatestCost": "598.4354"
                                },
                                {
                                    "ProductID": "788",
                                    "LatestCost": "598.4354"
                                },
                                {
                                    "ProductID": "731",
                                    "LatestCost": "594.83"
                                },
                                {
                                    "ProductID": "732",
                                    "LatestCost": "594.83"
                                },
                                {
                                    "ProductID": "733",
                                    "LatestCost": "594.83"
                                },
                                {
                                    "ProductID": "734",
                                    "LatestCost": "594.83"
                                },
                                {
                                    "ProductID": "735",
                                    "LatestCost": "594.83"
                                },
                                {
                                    "ProductID": "822",
                                    "LatestCost": "594.83"
                                },
                                {
                                    "ProductID": "833",
                                    "LatestCost": "594.83"
                                },
                                {
                                    "ProductID": "834",
                                    "LatestCost": "594.83"
                                },
                                {
                                    "ProductID": "835",
                                    "LatestCost": "594.83"
                                },
                                {
                                    "ProductID": "836",
                                    "LatestCost": "594.83"
                                },
                                {
                                    "ProductID": "984",
                                    "LatestCost": "564.99"
                                },
                                {
                                    "ProductID": "985",
                                    "LatestCost": "564.99"
                                },
                                {
                                    "ProductID": "986",
                                    "LatestCost": "564.99"
                                },
                                {
                                    "ProductID": "987",
                                    "LatestCost": "564.99"
                                },
                                {
                                    "ProductID": "988",
                                    "LatestCost": "564.99"
                                },
                                {
                                    "ProductID": "977",
                                    "LatestCost": "539.99"
                                },
                                {
                                    "ProductID": "989",
                                    "LatestCost": "539.99"
                                },
                                {
                                    "ProductID": "990",
                                    "LatestCost": "539.99"
                                },
                                {
                                    "ProductID": "991",
                                    "LatestCost": "539.99"
                                },
                                {
                                    "ProductID": "992",
                                    "LatestCost": "539.99"
                                },
                                {
                                    "ProductID": "993",
                                    "LatestCost": "539.99"
                                },
                                {
                                    "ProductID": "997",
                                    "LatestCost": "539.99"
                                },
                                {
                                    "ProductID": "998",
                                    "LatestCost": "539.99"
                                },
                                {
                                    "ProductID": "999",
                                    "LatestCost": "539.99"
                                },
                                {
                                    "ProductID": "759",
                                    "LatestCost": "486.7066"
                                },
                                {
                                    "ProductID": "760",
                                    "LatestCost": "486.7066"
                                },
                                {
                                    "ProductID": "761",
                                    "LatestCost": "486.7066"
                                },
                                {
                                    "ProductID": "762",
                                    "LatestCost": "486.7066"
                                },
                                {
                                    "ProductID": "763",
                                    "LatestCost": "486.7066"
                                },
                                {
                                    "ProductID": "764",
                                    "LatestCost": "486.7066"
                                },
                                {
                                    "ProductID": "765",
                                    "LatestCost": "486.7066"
                                },
                                {
                                    "ProductID": "766",
                                    "LatestCost": "486.7066"
                                },
                                {
                                    "ProductID": "767",
                                    "LatestCost": "486.7066"
                                },
                                {
                                    "ProductID": "768",
                                    "LatestCost": "486.7066"
                                },
                                {
                                    "ProductID": "769",
                                    "LatestCost": "486.7066"
                                },
                                {
                                    "ProductID": "770",
                                    "LatestCost": "486.7066"
                                },
                                {
                                    "ProductID": "958",
                                    "LatestCost": "461.4448"
                                },
                                {
                                    "ProductID": "959",
                                    "LatestCost": "461.4448"
                                },
                                {
                                    "ProductID": "960",
                                    "LatestCost": "461.4448"
                                },
                                {
                                    "ProductID": "961",
                                    "LatestCost": "461.4448"
                                },
                                {
                                    "ProductID": "962",
                                    "LatestCost": "461.4448"
                                },
                                {
                                    "ProductID": "963",
                                    "LatestCost": "461.4448"
                                },
                                {
                                    "ProductID": "964",
                                    "LatestCost": "461.4448"
                                },
                                {
                                    "ProductID": "965",
                                    "LatestCost": "461.4448"
                                },
                                {
                                    "ProductID": "978",
                                    "LatestCost": "461.4448"
                                },
                                {
                                    "ProductID": "979",
                                    "LatestCost": "461.4448"
                                },
                                {
                                    "ProductID": "980",
                                    "LatestCost": "419.7784"
                                },
                                {
                                    "ProductID": "981",
                                    "LatestCost": "419.7784"
                                },
                                {
                                    "ProductID": "982",
                                    "LatestCost": "419.7784"
                                },
                                {
                                    "ProductID": "983",
                                    "LatestCost": "419.7784"
                                },
                                {
                                    "ProductID": "951",
                                    "LatestCost": "404.99"
                                },
                                {
                                    "ProductID": "904",
                                    "LatestCost": "364.09"
                                },
                                {
                                    "ProductID": "905",
                                    "LatestCost": "364.09"
                                },
                                {
                                    "ProductID": "906",
                                    "LatestCost": "364.09"
                                },
                                {
                                    "ProductID": "942",
                                    "LatestCost": "364.09"
                                },
                                {
                                    "ProductID": "822",
                                    "LatestCost": "360.9428"
                                },
                                {
                                    "ProductID": "833",
                                    "LatestCost": "360.9428"
                                },
                                {
                                    "ProductID": "834",
                                    "LatestCost": "360.9428"
                                },
                                {
                                    "ProductID": "835",
                                    "LatestCost": "360.9428"
                                },
                                {
                                    "ProductID": "836",
                                    "LatestCost": "360.9428"
                                },
                                {
                                    "ProductID": "828",
                                    "LatestCost": "357.06"
                                },
                                {
                                    "ProductID": "731",
                                    "LatestCost": "352.1394"
                                },
                                {
                                    "ProductID": "732",
                                    "LatestCost": "352.1394"
                                },
                                {
                                    "ProductID": "733",
                                    "LatestCost": "352.1394"
                                },
                                {
                                    "ProductID": "734",
                                    "LatestCost": "352.1394"
                                },
                                {
                                    "ProductID": "735",
                                    "LatestCost": "352.1394"
                                },
                                {
                                    "ProductID": "814",
                                    "LatestCost": "348.76"
                                },
                                {
                                    "ProductID": "830",
                                    "LatestCost": "348.76"
                                },
                                {
                                    "ProductID": "831",
                                    "LatestCost": "348.76"
                                },
                                {
                                    "ProductID": "832",
                                    "LatestCost": "348.76"
                                },
                                {
                                    "ProductID": "977",
                                    "LatestCost": "343.6496"
                                },
                                {
                                    "ProductID": "997",
                                    "LatestCost": "343.6496"
                                },
                                {
                                    "ProductID": "998",
                                    "LatestCost": "343.6496"
                                },
                                {
                                    "ProductID": "999",
                                    "LatestCost": "343.6496"
                                },
                                {
                                    "ProductID": "722",
                                    "LatestCost": "337.22"
                                },
                                {
                                    "ProductID": "723",
                                    "LatestCost": "337.22"
                                },
                                {
                                    "ProductID": "724",
                                    "LatestCost": "337.22"
                                },
                                {
                                    "ProductID": "725",
                                    "LatestCost": "337.22"
                                },
                                {
                                    "ProductID": "726",
                                    "LatestCost": "337.22"
                                },
                                {
                                    "ProductID": "727",
                                    "LatestCost": "337.22"
                                },
                                {
                                    "ProductID": "728",
                                    "LatestCost": "337.22"
                                },
                                {
                                    "ProductID": "729",
                                    "LatestCost": "337.22"
                                },
                                {
                                    "ProductID": "730",
                                    "LatestCost": "337.22"
                                },
                                {
                                    "ProductID": "736",
                                    "LatestCost": "337.22"
                                },
                                {
                                    "ProductID": "737",
                                    "LatestCost": "337.22"
                                },
                                {
                                    "ProductID": "738",
                                    "LatestCost": "337.22"
                                },
                                {
                                    "ProductID": "886",
                                    "LatestCost": "333.42"
                                },
                                {
                                    "ProductID": "895",
                                    "LatestCost": "333.42"
                                },
                                {
                                    "ProductID": "896",
                                    "LatestCost": "333.42"
                                },
                                {
                                    "ProductID": "897",
                                    "LatestCost": "333.42"
                                },
                                {
                                    "ProductID": "898",
                                    "LatestCost": "333.42"
                                },
                                {
                                    "ProductID": "899",
                                    "LatestCost": "333.42"
                                },
                                {
                                    "ProductID": "900",
                                    "LatestCost": "333.42"
                                },
                                {
                                    "ProductID": "901",
                                    "LatestCost": "333.42"
                                },
                                {
                                    "ProductID": "902",
                                    "LatestCost": "333.42"
                                },
                                {
                                    "ProductID": "903",
                                    "LatestCost": "333.42"
                                },
                                {
                                    "ProductID": "820",
                                    "LatestCost": "330.06"
                                },
                                {
                                    "ProductID": "825",
                                    "LatestCost": "327.215"
                                },
                                {
                                    "ProductID": "984",
                                    "LatestCost": "308.2179"
                                },
                                {
                                    "ProductID": "985",
                                    "LatestCost": "308.2179"
                                },
                                {
                                    "ProductID": "986",
                                    "LatestCost": "308.2179"
                                },
                                {
                                    "ProductID": "987",
                                    "LatestCost": "308.2179"
                                },
                                {
                                    "ProductID": "988",
                                    "LatestCost": "308.2179"
                                },
                                {
                                    "ProductID": "817",
                                    "LatestCost": "300.215"
                                },
                                {
                                    "ProductID": "989",
                                    "LatestCost": "294.5797"
                                },
                                {
                                    "ProductID": "990",
                                    "LatestCost": "294.5797"
                                },
                                {
                                    "ProductID": "991",
                                    "LatestCost": "294.5797"
                                },
                                {
                                    "ProductID": "992",
                                    "LatestCost": "294.5797"
                                },
                                {
                                    "ProductID": "993",
                                    "LatestCost": "294.5797"
                                },
                                {
                                    "ProductID": "827",
                                    "LatestCost": "275.385"
                                },
                                {
                                    "ProductID": "917",
                                    "LatestCost": "264.05"
                                },
                                {
                                    "ProductID": "918",
                                    "LatestCost": "264.05"
                                },
                                {
                                    "ProductID": "919",
                                    "LatestCost": "264.05"
                                },
                                {
                                    "ProductID": "920",
                                    "LatestCost": "264.05"
                                },
                                {
                                    "ProductID": "944",
                                    "LatestCost": "264.05"
                                },
                                {
                                    "ProductID": "950",
                                    "LatestCost": "256.49"
                                },
                                {
                                    "ProductID": "924",
                                    "LatestCost": "249.79"
                                },
                                {
                                    "ProductID": "925",
                                    "LatestCost": "249.79"
                                },
                                {
                                    "ProductID": "926",
                                    "LatestCost": "249.79"
                                },
                                {
                                    "ProductID": "927",
                                    "LatestCost": "249.79"
                                },
                                {
                                    "ProductID": "943",
                                    "LatestCost": "249.79"
                                },
                                {
                                    "ProductID": "819",
                                    "LatestCost": "248.385"
                                },
                                {
                                    "ProductID": "829",
                                    "LatestCost": "245.01"
                                },
                                {
                                    "ProductID": "824",
                                    "LatestCost": "236.025"
                                },
                                {
                                    "ProductID": "804",
                                    "LatestCost": "229.49"
                                },
                                {
                                    "ProductID": "821",
                                    "LatestCost": "218.01"
                                },
                                {
                                    "ProductID": "816",
                                    "LatestCost": "209.025"
                                },
                                {
                                    "ProductID": "722",
                                    "LatestCost": "204.6251"
                                },
                                {
                                    "ProductID": "723",
                                    "LatestCost": "204.6251"
                                },
                                {
                                    "ProductID": "724",
                                    "LatestCost": "204.6251"
                                },
                                {
                                    "ProductID": "736",
                                    "LatestCost": "204.6251"
                                },
                                {
                                    "ProductID": "737",
                                    "LatestCost": "204.6251"
                                },
                                {
                                    "ProductID": "738",
                                    "LatestCost": "204.6251"
                                },
                                {
                                    "ProductID": "886",
                                    "LatestCost": "199.8519"
                                },
                                {
                                    "ProductID": "895",
                                    "LatestCost": "199.8519"
                                },
                                {
                                    "ProductID": "896",
                                    "LatestCost": "199.8519"
                                },
                                {
                                    "ProductID": "897",
                                    "LatestCost": "199.8519"
                                },
                                {
                                    "ProductID": "898",
                                    "LatestCost": "199.8519"
                                },
                                {
                                    "ProductID": "899",
                                    "LatestCost": "199.8519"
                                },
                                {
                                    "ProductID": "900",
                                    "LatestCost": "199.8519"
                                },
                                {
                                    "ProductID": "901",
                                    "LatestCost": "199.8519"
                                },
                                {
                                    "ProductID": "902",
                                    "LatestCost": "199.8519"
                                },
                                {
                                    "ProductID": "903",
                                    "LatestCost": "199.8519"
                                },
                                {
                                    "ProductID": "904",
                                    "LatestCost": "199.3757"
                                },
                                {
                                    "ProductID": "905",
                                    "LatestCost": "199.3757"
                                },
                                {
                                    "ProductID": "906",
                                    "LatestCost": "199.3757"
                                },
                                {
                                    "ProductID": "942",
                                    "LatestCost": "199.3757"
                                },
                                {
                                    "ProductID": "516",
                                    "LatestCost": "196.92"
                                },
                                {
                                    "ProductID": "519",
                                    "LatestCost": "196.92"
                                },
                                {
                                    "ProductID": "522",
                                    "LatestCost": "196.92"
                                },
                                {
                                    "ProductID": "725",
                                    "LatestCost": "187.1571"
                                },
                                {
                                    "ProductID": "726",
                                    "LatestCost": "187.1571"
                                },
                                {
                                    "ProductID": "727",
                                    "LatestCost": "187.1571"
                                },
                                {
                                    "ProductID": "728",
                                    "LatestCost": "187.1571"
                                },
                                {
                                    "ProductID": "729",
                                    "LatestCost": "187.1571"
                                },
                                {
                                    "ProductID": "730",
                                    "LatestCost": "187.1571"
                                },
                                {
                                    "ProductID": "814",
                                    "LatestCost": "185.8193"
                                },
                                {
                                    "ProductID": "830",
                                    "LatestCost": "185.8193"
                                },
                                {
                                    "ProductID": "831",
                                    "LatestCost": "185.8193"
                                },
                                {
                                    "ProductID": "832",
                                    "LatestCost": "185.8193"
                                },
                                {
                                    "ProductID": "951",
                                    "LatestCost": "179.8156"
                                },
                                {
                                    "ProductID": "803",
                                    "LatestCost": "175.49"
                                },
                                {
                                    "ProductID": "949",
                                    "LatestCost": "175.49"
                                },
                                {
                                    "ProductID": "879",
                                    "LatestCost": "159.00"
                                },
                                {
                                    "ProductID": "828",
                                    "LatestCost": "158.5346"
                                },
                                {
                                    "ProductID": "802",
                                    "LatestCost": "148.22"
                                },
                                {
                                    "ProductID": "515",
                                    "LatestCost": "147.14"
                                },
                                {
                                    "ProductID": "518",
                                    "LatestCost": "147.14"
                                },
                                {
                                    "ProductID": "521",
                                    "LatestCost": "147.14"
                                },
                                {
                                    "ProductID": "820",
                                    "LatestCost": "146.5466"
                                },
                                {
                                    "ProductID": "825",
                                    "LatestCost": "145.2835"
                                },
                                {
                                    "ProductID": "917",
                                    "LatestCost": "144.5938"
                                },
                                {
                                    "ProductID": "918",
                                    "LatestCost": "144.5938"
                                },
                                {
                                    "ProductID": "919",
                                    "LatestCost": "144.5938"
                                },
                                {
                                    "ProductID": "920",
                                    "LatestCost": "144.5938"
                                },
                                {
                                    "ProductID": "944",
                                    "LatestCost": "144.5938"
                                },
                                {
                                    "ProductID": "924",
                                    "LatestCost": "136.785"
                                },
                                {
                                    "ProductID": "925",
                                    "LatestCost": "136.785"
                                },
                                {
                                    "ProductID": "926",
                                    "LatestCost": "136.785"
                                },
                                {
                                    "ProductID": "927",
                                    "LatestCost": "136.785"
                                },
                                {
                                    "ProductID": "943",
                                    "LatestCost": "136.785"
                                },
                                {
                                    "ProductID": "514",
                                    "LatestCost": "133.34"
                                },
                                {
                                    "ProductID": "517",
                                    "LatestCost": "133.34"
                                },
                                {
                                    "ProductID": "520",
                                    "LatestCost": "133.34"
                                },
                                {
                                    "ProductID": "817",
                                    "LatestCost": "133.2955"
                                },
                                {
                                    "ProductID": "842",
                                    "LatestCost": "125.00"
                                },
                                {
                                    "ProductID": "807",
                                    "LatestCost": "124.73"
                                },
                                {
                                    "ProductID": "827",
                                    "LatestCost": "122.2709"
                                },
                                {
                                    "ProductID": "996",
                                    "LatestCost": "121.49"
                                },
                                {
                                    "ProductID": "894",
                                    "LatestCost": "121.46"
                                },
                                {
                                    "ProductID": "810",
                                    "LatestCost": "120.27"
                                },
                                {
                                    "ProductID": "813",
                                    "LatestCost": "120.27"
                                },
                                {
                                    "ProductID": "876",
                                    "LatestCost": "120.00"
                                },
                                {
                                    "ProductID": "950",
                                    "LatestCost": "113.8816"
                                },
                                {
                                    "ProductID": "826",
                                    "LatestCost": "112.565"
                                },
                                {
                                    "ProductID": "819",
                                    "LatestCost": "110.2829"
                                },
                                {
                                    "ProductID": "829",
                                    "LatestCost": "108.7844"
                                },
                                {
                                    "ProductID": "907",
                                    "LatestCost": "106.50"
                                },
                                {
                                    "ProductID": "948",
                                    "LatestCost": "106.50"
                                },
                                {
                                    "ProductID": "824",
                                    "LatestCost": "104.7951"
                                },
                                {
                                    "ProductID": "806",
                                    "LatestCost": "102.29"
                                },
                                {
                                    "ProductID": "804",
                                    "LatestCost": "101.8936"
                                },
                                {
                                    "ProductID": "995",
                                    "LatestCost": "101.24"
                                },
                                {
                                    "ProductID": "821",
                                    "LatestCost": "96.7964"
                                },
                                {
                                    "ProductID": "816",
                                    "LatestCost": "92.8071"
                                },
                                {
                                    "ProductID": "947",
                                    "LatestCost": "91.57"
                                },
                                {
                                    "ProductID": "945",
                                    "LatestCost": "91.49"
                                },
                                {
                                    "ProductID": "855",
                                    "LatestCost": "89.99"
                                },
                                {
                                    "ProductID": "856",
                                    "LatestCost": "89.99"
                                },
                                {
                                    "ProductID": "857",
                                    "LatestCost": "89.99"
                                },
                                {
                                    "ProductID": "823",
                                    "LatestCost": "87.745"
                                },
                                {
                                    "ProductID": "818",
                                    "LatestCost": "85.565"
                                },
                                {
                                    "ProductID": "937",
                                    "LatestCost": "80.99"
                                },
                                {
                                    "ProductID": "940",
                                    "LatestCost": "80.99"
                                },
                                {
                                    "ProductID": "941",
                                    "LatestCost": "80.99"
                                },
                                {
                                    "ProductID": "803",
                                    "LatestCost": "77.9176"
                                },
                                {
                                    "ProductID": "949",
                                    "LatestCost": "77.9176"
                                },
                                {
                                    "ProductID": "852",
                                    "LatestCost": "74.99"
                                },
                                {
                                    "ProductID": "853",
                                    "LatestCost": "74.99"
                                },
                                {
                                    "ProductID": "854",
                                    "LatestCost": "74.99"
                                },
                                {
                                    "ProductID": "867",
                                    "LatestCost": "69.99"
                                },
                                {
                                    "ProductID": "868",
                                    "LatestCost": "69.99"
                                },
                                {
                                    "ProductID": "869",
                                    "LatestCost": "69.99"
                                },
                                {
                                    "ProductID": "802",
                                    "LatestCost": "65.8097"
                                },
                                {
                                    "ProductID": "864",
                                    "LatestCost": "63.50"
                                },
                                {
                                    "ProductID": "865",
                                    "LatestCost": "63.50"
                                },
                                {
                                    "ProductID": "866",
                                    "LatestCost": "63.50"
                                },
                                {
                                    "ProductID": "936",
                                    "LatestCost": "62.09"
                                },
                                {
                                    "ProductID": "939",
                                    "LatestCost": "62.09"
                                },
                                {
                                    "ProductID": "809",
                                    "LatestCost": "61.92"
                                },
                                {
                                    "ProductID": "812",
                                    "LatestCost": "61.92"
                                },
                                {
                                    "ProductID": "815",
                                    "LatestCost": "60.745"
                                },
                                {
                                    "ProductID": "841",
                                    "LatestCost": "59.99"
                                },
                                {
                                    "ProductID": "849",
                                    "LatestCost": "59.99"
                                },
                                {
                                    "ProductID": "850",
                                    "LatestCost": "59.99"
                                },
                                {
                                    "ProductID": "851",
                                    "LatestCost": "59.99"
                                },
                                {
                                    "ProductID": "879",
                                    "LatestCost": "59.466"
                                },
                                {
                                    "ProductID": "807",
                                    "LatestCost": "55.3801"
                                },
                                {
                                    "ProductID": "880",
                                    "LatestCost": "54.99"
                                },
                                {
                                    "ProductID": "881",
                                    "LatestCost": "53.99"
                                },
                                {
                                    "ProductID": "882",
                                    "LatestCost": "53.99"
                                },
                                {
                                    "ProductID": "883",
                                    "LatestCost": "53.99"
                                },
                                {
                                    "ProductID": "884",
                                    "LatestCost": "53.99"
                                },
                                {
                                    "ProductID": "994",
                                    "LatestCost": "53.99"
                                },
                                {
                                    "ProductID": "996",
                                    "LatestCost": "53.9416"
                                },
                                {
                                    "ProductID": "894",
                                    "LatestCost": "53.9282"
                                },
                                {
                                    "ProductID": "810",
                                    "LatestCost": "53.3999"
                                },
                                {
                                    "ProductID": "813",
                                    "LatestCost": "53.3999"
                                },
                                {
                                    "ProductID": "910",
                                    "LatestCost": "52.64"
                                },
                                {
                                    "ProductID": "913",
                                    "LatestCost": "52.64"
                                },
                                {
                                    "ProductID": "916",
                                    "LatestCost": "52.64"
                                },
                                {
                                    "ProductID": "842",
                                    "LatestCost": "51.5625"
                                },
                                {
                                    "ProductID": "713",
                                    "LatestCost": "49.99"
                                },
                                {
                                    "ProductID": "714",
                                    "LatestCost": "49.99"
                                },
                                {
                                    "ProductID": "715",
                                    "LatestCost": "49.99"
                                },
                                {
                                    "ProductID": "716",
                                    "LatestCost": "49.99"
                                },
                                {
                                    "ProductID": "826",
                                    "LatestCost": "49.9789"
                                },
                                {
                                    "ProductID": "907",
                                    "LatestCost": "47.286"
                                },
                                {
                                    "ProductID": "948",
                                    "LatestCost": "47.286"
                                },
                                {
                                    "ProductID": "946",
                                    "LatestCost": "46.09"
                                },
                                {
                                    "ProductID": "806",
                                    "LatestCost": "45.4168"
                                },
                                {
                                    "ProductID": "848",
                                    "LatestCost": "44.99"
                                },
                                {
                                    "ProductID": "995",
                                    "LatestCost": "44.9506"
                                },
                                {
                                    "ProductID": "876",
                                    "LatestCost": "44.88"
                                },
                                {
                                    "ProductID": "808",
                                    "LatestCost": "44.54"
                                },
                                {
                                    "ProductID": "811",
                                    "LatestCost": "44.54"
                                },
                                {
                                    "ProductID": "881",
                                    "LatestCost": "41.5723"
                                },
                                {
                                    "ProductID": "882",
                                    "LatestCost": "41.5723"
                                },
                                {
                                    "ProductID": "883",
                                    "LatestCost": "41.5723"
                                },
                                {
                                    "ProductID": "884",
                                    "LatestCost": "41.5723"
                                },
                                {
                                    "ProductID": "947",
                                    "LatestCost": "40.6571"
                                },
                                {
                                    "ProductID": "945",
                                    "LatestCost": "40.6216"
                                },
                                {
                                    "ProductID": "935",
                                    "LatestCost": "40.49"
                                },
                                {
                                    "ProductID": "938",
                                    "LatestCost": "40.49"
                                },
                                {
                                    "ProductID": "909",
                                    "LatestCost": "39.14"
                                },
                                {
                                    "ProductID": "912",
                                    "LatestCost": "39.14"
                                },
                                {
                                    "ProductID": "915",
                                    "LatestCost": "39.14"
                                },
                                {
                                    "ProductID": "823",
                                    "LatestCost": "38.9588"
                                },
                                {
                                    "ProductID": "713",
                                    "LatestCost": "38.4923"
                                },
                                {
                                    "ProductID": "714",
                                    "LatestCost": "38.4923"
                                },
                                {
                                    "ProductID": "715",
                                    "LatestCost": "38.4923"
                                },
                                {
                                    "ProductID": "716",
                                    "LatestCost": "38.4923"
                                },
                                {
                                    "ProductID": "818",
                                    "LatestCost": "37.9909"
                                },
                                {
                                    "ProductID": "861",
                                    "LatestCost": "37.99"
                                },
                                {
                                    "ProductID": "862",
                                    "LatestCost": "37.99"
                                },
                                {
                                    "ProductID": "863",
                                    "LatestCost": "37.99"
                                },
                                {
                                    "ProductID": "855",
                                    "LatestCost": "37.1209"
                                },
                                {
                                    "ProductID": "856",
                                    "LatestCost": "37.1209"
                                },
                                {
                                    "ProductID": "857",
                                    "LatestCost": "37.1209"
                                },
                                {
                                    "ProductID": "937",
                                    "LatestCost": "35.9596"
                                },
                                {
                                    "ProductID": "940",
                                    "LatestCost": "35.9596"
                                },
                                {
                                    "ProductID": "941",
                                    "LatestCost": "35.9596"
                                },
                                {
                                    "ProductID": "930",
                                    "LatestCost": "35.00"
                                },
                                {
                                    "ProductID": "707",
                                    "LatestCost": "34.99"
                                },
                                {
                                    "ProductID": "708",
                                    "LatestCost": "34.99"
                                },
                                {
                                    "ProductID": "711",
                                    "LatestCost": "34.99"
                                },
                                {
                                    "ProductID": "847",
                                    "LatestCost": "34.99"
                                },
                                {
                                    "ProductID": "805",
                                    "LatestCost": "34.20"
                                },
                                {
                                    "ProductID": "933",
                                    "LatestCost": "32.60"
                                },
                                {
                                    "ProductID": "852",
                                    "LatestCost": "30.9334"
                                },
                                {
                                    "ProductID": "853",
                                    "LatestCost": "30.9334"
                                },
                                {
                                    "ProductID": "854",
                                    "LatestCost": "30.9334"
                                },
                                {
                                    "ProductID": "929",
                                    "LatestCost": "29.99"
                                },
                                {
                                    "ProductID": "934",
                                    "LatestCost": "28.99"
                                },
                                {
                                    "ProductID": "936",
                                    "LatestCost": "27.568"
                                },
                                {
                                    "ProductID": "939",
                                    "LatestCost": "27.568"
                                },
                                {
                                    "ProductID": "809",
                                    "LatestCost": "27.4925"
                                },
                                {
                                    "ProductID": "812",
                                    "LatestCost": "27.4925"
                                },
                                {
                                    "ProductID": "908",
                                    "LatestCost": "27.12"
                                },
                                {
                                    "ProductID": "911",
                                    "LatestCost": "27.12"
                                },
                                {
                                    "ProductID": "914",
                                    "LatestCost": "27.12"
                                },
                                {
                                    "ProductID": "815",
                                    "LatestCost": "26.9708"
                                },
                                {
                                    "ProductID": "867",
                                    "LatestCost": "26.1763"
                                },
                                {
                                    "ProductID": "868",
                                    "LatestCost": "26.1763"
                                },
                                {
                                    "ProductID": "869",
                                    "LatestCost": "26.1763"
                                },
                                {
                                    "ProductID": "843",
                                    "LatestCost": "25.00"
                                },
                                {
                                    "ProductID": "845",
                                    "LatestCost": "24.99"
                                },
                                {
                                    "ProductID": "928",
                                    "LatestCost": "24.99"
                                },
                                {
                                    "ProductID": "932",
                                    "LatestCost": "24.99"
                                },
                                {
                                    "ProductID": "841",
                                    "LatestCost": "24.7459"
                                },
                                {
                                    "ProductID": "849",
                                    "LatestCost": "24.7459"
                                },
                                {
                                    "ProductID": "850",
                                    "LatestCost": "24.7459"
                                },
                                {
                                    "ProductID": "851",
                                    "LatestCost": "24.7459"
                                },
                                {
                                    "ProductID": "858",
                                    "LatestCost": "24.49"
                                },
                                {
                                    "ProductID": "859",
                                    "LatestCost": "24.49"
                                },
                                {
                                    "ProductID": "860",
                                    "LatestCost": "24.49"
                                },
                                {
                                    "ProductID": "994",
                                    "LatestCost": "23.9716"
                                },
                                {
                                    "ProductID": "864",
                                    "LatestCost": "23.749"
                                },
                                {
                                    "ProductID": "865",
                                    "LatestCost": "23.749"
                                },
                                {
                                    "ProductID": "866",
                                    "LatestCost": "23.749"
                                },
                                {
                                    "ProductID": "910",
                                    "LatestCost": "23.3722"
                                },
                                {
                                    "ProductID": "913",
                                    "LatestCost": "23.3722"
                                },
                                {
                                    "ProductID": "916",
                                    "LatestCost": "23.3722"
                                },
                                {
                                    "ProductID": "878",
                                    "LatestCost": "21.98"
                                },
                                {
                                    "ProductID": "931",
                                    "LatestCost": "21.49"
                                },
                                {
                                    "ProductID": "880",
                                    "LatestCost": "20.5663"
                                },
                                {
                                    "ProductID": "946",
                                    "LatestCost": "20.464"
                                },
                                {
                                    "ProductID": "952",
                                    "LatestCost": "20.24"
                                },
                                {
                                    "ProductID": "844",
                                    "LatestCost": "19.99"
                                },
                                {
                                    "ProductID": "808",
                                    "LatestCost": "19.7758"
                                },
                                {
                                    "ProductID": "811",
                                    "LatestCost": "19.7758"
                                },
                                {
                                    "ProductID": "848",
                                    "LatestCost": "18.5584"
                                },
                                {
                                    "ProductID": "935",
                                    "LatestCost": "17.9776"
                                },
                                {
                                    "ProductID": "938",
                                    "LatestCost": "17.9776"
                                },
                                {
                                    "ProductID": "909",
                                    "LatestCost": "17.3782"
                                },
                                {
                                    "ProductID": "912",
                                    "LatestCost": "17.3782"
                                },
                                {
                                    "ProductID": "915",
                                    "LatestCost": "17.3782"
                                },
                                {
                                    "ProductID": "861",
                                    "LatestCost": "15.6709"
                                },
                                {
                                    "ProductID": "862",
                                    "LatestCost": "15.6709"
                                },
                                {
                                    "ProductID": "863",
                                    "LatestCost": "15.6709"
                                },
                                {
                                    "ProductID": "805",
                                    "LatestCost": "15.1848"
                                },
                                {
                                    "ProductID": "847",
                                    "LatestCost": "14.4334"
                                },
                                {
                                    "ProductID": "846",
                                    "LatestCost": "13.99"
                                },
                                {
                                    "ProductID": "707",
                                    "LatestCost": "13.8782"
                                },
                                {
                                    "ProductID": "708",
                                    "LatestCost": "13.8782"
                                },
                                {
                                    "ProductID": "711",
                                    "LatestCost": "13.8782"
                                },
                                {
                                    "ProductID": "930",
                                    "LatestCost": "13.09"
                                },
                                {
                                    "ProductID": "933",
                                    "LatestCost": "12.1924"
                                },
                                {
                                    "ProductID": "908",
                                    "LatestCost": "12.0413"
                                },
                                {
                                    "ProductID": "911",
                                    "LatestCost": "12.0413"
                                },
                                {
                                    "ProductID": "914",
                                    "LatestCost": "12.0413"
                                },
                                {
                                    "ProductID": "929",
                                    "LatestCost": "11.2163"
                                },
                                {
                                    "ProductID": "934",
                                    "LatestCost": "10.8423"
                                },
                                {
                                    "ProductID": "843",
                                    "LatestCost": "10.3125"
                                },
                                {
                                    "ProductID": "845",
                                    "LatestCost": "10.3084"
                                },
                                {
                                    "ProductID": "871",
                                    "LatestCost": "9.99"
                                },
                                {
                                    "ProductID": "858",
                                    "LatestCost": "9.7136"
                                },
                                {
                                    "ProductID": "859",
                                    "LatestCost": "9.7136"
                                },
                                {
                                    "ProductID": "860",
                                    "LatestCost": "9.7136"
                                },
                                {
                                    "ProductID": "709",
                                    "LatestCost": "9.50"
                                },
                                {
                                    "ProductID": "710",
                                    "LatestCost": "9.50"
                                },
                                {
                                    "ProductID": "928",
                                    "LatestCost": "9.3463"
                                },
                                {
                                    "ProductID": "932",
                                    "LatestCost": "9.3463"
                                },
                                {
                                    "ProductID": "712",
                                    "LatestCost": "8.99"
                                },
                                {
                                    "ProductID": "872",
                                    "LatestCost": "8.99"
                                },
                                {
                                    "ProductID": "874",
                                    "LatestCost": "8.99"
                                },
                                {
                                    "ProductID": "875",
                                    "LatestCost": "8.99"
                                },
                                {
                                    "ProductID": "952",
                                    "LatestCost": "8.9866"
                                },
                                {
                                    "ProductID": "844",
                                    "LatestCost": "8.2459"
                                },
                                {
                                    "ProductID": "878",
                                    "LatestCost": "8.2205"
                                },
                                {
                                    "ProductID": "931",
                                    "LatestCost": "8.0373"
                                },
                                {
                                    "ProductID": "877",
                                    "LatestCost": "7.95"
                                },
                                {
                                    "ProductID": "712",
                                    "LatestCost": "6.9223"
                                },
                                {
                                    "ProductID": "846",
                                    "LatestCost": "5.7709"
                                },
                                {
                                    "ProductID": "870",
                                    "LatestCost": "4.99"
                                },
                                {
                                    "ProductID": "921",
                                    "LatestCost": "4.99"
                                },
                                {
                                    "ProductID": "923",
                                    "LatestCost": "4.99"
                                },
                                {
                                    "ProductID": "922",
                                    "LatestCost": "3.99"
                                },
                                {
                                    "ProductID": "871",
                                    "LatestCost": "3.7363"
                                },
                                {
                                    "ProductID": "709",
                                    "LatestCost": "3.3963"
                                },
                                {
                                    "ProductID": "710",
                                    "LatestCost": "3.3963"
                                },
                                {
                                    "ProductID": "872",
                                    "LatestCost": "3.3623"
                                },
                                {
                                    "ProductID": "874",
                                    "LatestCost": "3.3623"
                                },
                                {
                                    "ProductID": "875",
                                    "LatestCost": "3.3623"
                                },
                                {
                                    "ProductID": "877",
                                    "LatestCost": "2.9733"
                                },
                                {
                                    "ProductID": "873",
                                    "LatestCost": "2.29"
                                },
                                {
                                    "ProductID": "870",
                                    "LatestCost": "1.8663"
                                },
                                {
                                    "ProductID": "921",
                                    "LatestCost": "1.8663"
                                },
                                {
                                    "ProductID": "923",
                                    "LatestCost": "1.8663"
                                },
                                {
                                    "ProductID": "922",
                                    "LatestCost": "1.4923"
                                },
                                {
                                    "ProductID": "873",
                                    "LatestCost": "0.8565"
                                },
                                {
                                    "ProductID": "1",
                                    "LatestCost": "0.00"
                                },
                                {
                                    "ProductID": "2",
                                    "LatestCost": "0.00"
                                },
                                {
                                    "ProductID": "3",
                                    "LatestCost": "0.00"
                                },
                                {
                                    "ProductID": "4",
                                    "LatestCost": "0.00"
                                },
                                {
                                    "ProductID": "316",
                                    "LatestCost": "0.00"
                                },
                                {
                                    "ProductID": "317",
                                    "LatestCost": "0.00"
                                },
                                {
                                    "ProductID": "318",
                                    "LatestCost": "0.00"
                                },
                                {
                                    "ProductID": "319",
                                    "LatestCost": "0.00"
                                },
                                {
                                    "ProductID": "320",
                                    "LatestCost": "0.00"
                                },
                                {
                                    "ProductID": "321",
                                    "LatestCost": "0.00"
                                },
                                {
                                    "ProductID": "322",
                                    "LatestCost": "0.00"
                                },
                                {
                                    "ProductID": "323",
                                    "LatestCost": "0.00"
                                },
                                {
                                    "ProductID": "324",
                                    "LatestCost": "0.00"
                                },
                                {
                                    "ProductID": "325",
                                    "LatestCost": "0.00"
                                },
                                {
                                    "ProductID": "326",
                                    "LatestCost": "0.00"
                                },
                                {
                                    "ProductID": "327",
                                    "LatestCost": "0.00"
                                },
                                {
                                    "ProductID": "328",
                                    "LatestCost": "0.00"
                                },
                                {
                                    "ProductID": "329",
                                    "LatestCost": "0.00"
                                },
                                {
                                    "ProductID": "330",
                                    "LatestCost": "0.00"
                                },
                                {
                                    "ProductID": "331",
                                    "LatestCost": "0.00"
                                },
                                {
                                    "ProductID": "332",
                                    "LatestCost": "0.00"
                                },
                                {
                                    "ProductID": "341",
                                    "LatestCost": "0.00"
                                },
                                {
                                    "ProductID": "342",
                                    "LatestCost": "0.00"
                                },
                                {
                                    "ProductID": "343",
                                    "LatestCost": "0.00"
                                },
                                {
                                    "ProductID": "344",
                                    "LatestCost": "0.00"
                                },
                                {
                                    "ProductID": "345",
                                    "LatestCost": "0.00"
                                },
                                {
                                    "ProductID": "346",
                                    "LatestCost": "0.00"
                                },
                                {
                                    "ProductID": "347",
                                    "LatestCost": "0.00"
                                },
                                {
                                    "ProductID": "348",
                                    "LatestCost": "0.00"
                                },
                                {
                                    "ProductID": "349",
                                    "LatestCost": "0.00"
                                },
                                {
                                    "ProductID": "350",
                                    "LatestCost": "0.00"
                                },
                                {
                                    "ProductID": "351",
                                    "LatestCost": "0.00"
                                },
                                {
                                    "ProductID": "352",
                                    "LatestCost": "0.00"
                                },
                                {
                                    "ProductID": "355",
                                    "LatestCost": "0.00"
                                },
                                {
                                    "ProductID": "356",
                                    "LatestCost": "0.00"
                                },
                                {
                                    "ProductID": "357",
                                    "LatestCost": "0.00"
                                },
                                {
                                    "ProductID": "358",
                                    "LatestCost": "0.00"
                                },
                                {
                                    "ProductID": "359",
                                    "LatestCost": "0.00"
                                },
                                {
                                    "ProductID": "360",
                                    "LatestCost": "0.00"
                                },
                                {
                                    "ProductID": "361",
                                    "LatestCost": "0.00"
                                },
                                {
                                    "ProductID": "362",
                                    "LatestCost": "0.00"
                                },
                                {
                                    "ProductID": "363",
                                    "LatestCost": "0.00"
                                },
                                {
                                    "ProductID": "364",
                                    "LatestCost": "0.00"
                                },
                                {
                                    "ProductID": "365",
                                    "LatestCost": "0.00"
                                },
                                {
                                    "ProductID": "366",
                                    "LatestCost": "0.00"
                                },
                                {
                                    "ProductID": "367",
                                    "LatestCost": "0.00"
                                },
                                {
                                    "ProductID": "368",
                                    "LatestCost": "0.00"
                                },
                                {
                                    "ProductID": "369",
                                    "LatestCost": "0.00"
                                },
                                {
                                    "ProductID": "370",
                                    "LatestCost": "0.00"
                                },
                                {
                                    "ProductID": "371",
                                    "LatestCost": "0.00"
                                },
                                {
                                    "ProductID": "372",
                                    "LatestCost": "0.00"
                                },
                                {
                                    "ProductID": "373",
                                    "LatestCost": "0.00"
                                },
                                {
                                    "ProductID": "374",
                                    "LatestCost": "0.00"
                                },
                                {
                                    "ProductID": "375",
                                    "LatestCost": "0.00"
                                },
                                {
                                    "ProductID": "376",
                                    "LatestCost": "0.00"
                                },
                                {
                                    "ProductID": "377",
                                    "LatestCost": "0.00"
                                },
                                {
                                    "ProductID": "378",
                                    "LatestCost": "0.00"
                                },
                                {
                                    "ProductID": "379",
                                    "LatestCost": "0.00"
                                },
                                {
                                    "ProductID": "380",
                                    "LatestCost": "0.00"
                                },
                                {
                                    "ProductID": "381",
                                    "LatestCost": "0.00"
                                },
                                {
                                    "ProductID": "382",
                                    "LatestCost": "0.00"
                                },
                                {
                                    "ProductID": "383",
                                    "LatestCost": "0.00"
                                },
                                {
                                    "ProductID": "384",
                                    "LatestCost": "0.00"
                                },
                                {
                                    "ProductID": "385",
                                    "LatestCost": "0.00"
                                },
                                {
                                    "ProductID": "386",
                                    "LatestCost": "0.00"
                                },
                                {
                                    "ProductID": "387",
                                    "LatestCost": "0.00"
                                },
                                {
                                    "ProductID": "388",
                                    "LatestCost": "0.00"
                                },
                                {
                                    "ProductID": "389",
                                    "LatestCost": "0.00"
                                },
                                {
                                    "ProductID": "390",
                                    "LatestCost": "0.00"
                                },
                                {
                                    "ProductID": "391",
                                    "LatestCost": "0.00"
                                },
                                {
                                    "ProductID": "392",
                                    "LatestCost": "0.00"
                                },
                                {
                                    "ProductID": "393",
                                    "LatestCost": "0.00"
                                },
                                {
                                    "ProductID": "394",
                                    "LatestCost": "0.00"
                                },
                                {
                                    "ProductID": "395",
                                    "LatestCost": "0.00"
                                },
                                {
                                    "ProductID": "396",
                                    "LatestCost": "0.00"
                                },
                                {
                                    "ProductID": "397",
                                    "LatestCost": "0.00"
                                },
                                {
                                    "ProductID": "398",
                                    "LatestCost": "0.00"
                                },
                                {
                                    "ProductID": "399",
                                    "LatestCost": "0.00"
                                },
                                {
                                    "ProductID": "400",
                                    "LatestCost": "0.00"
                                },
                                {
                                    "ProductID": "401",
                                    "LatestCost": "0.00"
                                },
                                {
                                    "ProductID": "402",
                                    "LatestCost": "0.00"
                                },
                                {
                                    "ProductID": "403",
                                    "LatestCost": "0.00"
                                },
                                {
                                    "ProductID": "404",
                                    "LatestCost": "0.00"
                                },
                                {
                                    "ProductID": "405",
                                    "LatestCost": "0.00"
                                },
                                {
                                    "ProductID": "406",
                                    "LatestCost": "0.00"
                                },
                                {
                                    "ProductID": "407",
                                    "LatestCost": "0.00"
                                },
                                {
                                    "ProductID": "408",
                                    "LatestCost": "0.00"
                                },
                                {
                                    "ProductID": "409",
                                    "LatestCost": "0.00"
                                },
                                {
                                    "ProductID": "410",
                                    "LatestCost": "0.00"
                                },
                                {
                                    "ProductID": "411",
                                    "LatestCost": "0.00"
                                },
                                {
                                    "ProductID": "412",
                                    "LatestCost": "0.00"
                                },
                                {
                                    "ProductID": "413",
                                    "LatestCost": "0.00"
                                },
                                {
                                    "ProductID": "414",
                                    "LatestCost": "0.00"
                                },
                                {
                                    "ProductID": "415",
                                    "LatestCost": "0.00"
                                },
                                {
                                    "ProductID": "416",
                                    "LatestCost": "0.00"
                                },
                                {
                                    "ProductID": "417",
                                    "LatestCost": "0.00"
                                },
                                {
                                    "ProductID": "418",
                                    "LatestCost": "0.00"
                                },
                                {
                                    "ProductID": "419",
                                    "LatestCost": "0.00"
                                },
                                {
                                    "ProductID": "420",
                                    "LatestCost": "0.00"
                                },
                                {
                                    "ProductID": "421",
                                    "LatestCost": "0.00"
                                },
                                {
                                    "ProductID": "422",
                                    "LatestCost": "0.00"
                                },
                                {
                                    "ProductID": "423",
                                    "LatestCost": "0.00"
                                },
                                {
                                    "ProductID": "424",
                                    "LatestCost": "0.00"
                                },
                                {
                                    "ProductID": "425",
                                    "LatestCost": "0.00"
                                },
                                {
                                    "ProductID": "426",
                                    "LatestCost": "0.00"
                                },
                                {
                                    "ProductID": "427",
                                    "LatestCost": "0.00"
                                },
                                {
                                    "ProductID": "428",
                                    "LatestCost": "0.00"
                                },
                                {
                                    "ProductID": "429",
                                    "LatestCost": "0.00"
                                },
                                {
                                    "ProductID": "430",
                                    "LatestCost": "0.00"
                                },
                                {
                                    "ProductID": "431",
                                    "LatestCost": "0.00"
                                },
                                {
                                    "ProductID": "432",
                                    "LatestCost": "0.00"
                                },
                                {
                                    "ProductID": "433",
                                    "LatestCost": "0.00"
                                },
                                {
                                    "ProductID": "434",
                                    "LatestCost": "0.00"
                                },
                                {
                                    "ProductID": "435",
                                    "LatestCost": "0.00"
                                },
                                {
                                    "ProductID": "436",
                                    "LatestCost": "0.00"
                                },
                                {
                                    "ProductID": "437",
                                    "LatestCost": "0.00"
                                },
                                {
                                    "ProductID": "438",
                                    "LatestCost": "0.00"
                                },
                                {
                                    "ProductID": "439",
                                    "LatestCost": "0.00"
                                },
                                {
                                    "ProductID": "440",
                                    "LatestCost": "0.00"
                                },
                                {
                                    "ProductID": "441",
                                    "LatestCost": "0.00"
                                },
                                {
                                    "ProductID": "442",
                                    "LatestCost": "0.00"
                                },
                                {
                                    "ProductID": "443",
                                    "LatestCost": "0.00"
                                },
                                {
                                    "ProductID": "444",
                                    "LatestCost": "0.00"
                                },
                                {
                                    "ProductID": "445",
                                    "LatestCost": "0.00"
                                },
                                {
                                    "ProductID": "446",
                                    "LatestCost": "0.00"
                                },
                                {
                                    "ProductID": "447",
                                    "LatestCost": "0.00"
                                },
                                {
                                    "ProductID": "448",
                                    "LatestCost": "0.00"
                                },
                                {
                                    "ProductID": "449",
                                    "LatestCost": "0.00"
                                },
                                {
                                    "ProductID": "450",
                                    "LatestCost": "0.00"
                                },
                                {
                                    "ProductID": "451",
                                    "LatestCost": "0.00"
                                },
                                {
                                    "ProductID": "452",
                                    "LatestCost": "0.00"
                                },
                                {
                                    "ProductID": "453",
                                    "LatestCost": "0.00"
                                },
                                {
                                    "ProductID": "454",
                                    "LatestCost": "0.00"
                                },
                                {
                                    "ProductID": "455",
                                    "LatestCost": "0.00"
                                },
                                {
                                    "ProductID": "456",
                                    "LatestCost": "0.00"
                                },
                                {
                                    "ProductID": "457",
                                    "LatestCost": "0.00"
                                },
                                {
                                    "ProductID": "458",
                                    "LatestCost": "0.00"
                                },
                                {
                                    "ProductID": "459",
                                    "LatestCost": "0.00"
                                },
                                {
                                    "ProductID": "460",
                                    "LatestCost": "0.00"
                                },
                                {
                                    "ProductID": "461",
                                    "LatestCost": "0.00"
                                },
                                {
                                    "ProductID": "462",
                                    "LatestCost": "0.00"
                                },
                                {
                                    "ProductID": "463",
                                    "LatestCost": "0.00"
                                },
                                {
                                    "ProductID": "464",
                                    "LatestCost": "0.00"
                                },
                                {
                                    "ProductID": "465",
                                    "LatestCost": "0.00"
                                },
                                {
                                    "ProductID": "466",
                                    "LatestCost": "0.00"
                                },
                                {
                                    "ProductID": "467",
                                    "LatestCost": "0.00"
                                },
                                {
                                    "ProductID": "468",
                                    "LatestCost": "0.00"
                                },
                                {
                                    "ProductID": "469",
                                    "LatestCost": "0.00"
                                },
                                {
                                    "ProductID": "470",
                                    "LatestCost": "0.00"
                                },
                                {
                                    "ProductID": "471",
                                    "LatestCost": "0.00"
                                },
                                {
                                    "ProductID": "472",
                                    "LatestCost": "0.00"
                                },
                                {
                                    "ProductID": "473",
                                    "LatestCost": "0.00"
                                },
                                {
                                    "ProductID": "474",
                                    "LatestCost": "0.00"
                                },
                                {
                                    "ProductID": "475",
                                    "LatestCost": "0.00"
                                },
                                {
                                    "ProductID": "476",
                                    "LatestCost": "0.00"
                                },
                                {
                                    "ProductID": "477",
                                    "LatestCost": "0.00"
                                },
                                {
                                    "ProductID": "478",
                                    "LatestCost": "0.00"
                                },
                                {
                                    "ProductID": "479",
                                    "LatestCost": "0.00"
                                },
                                {
                                    "ProductID": "480",
                                    "LatestCost": "0.00"
                                },
                                {
                                    "ProductID": "481",
                                    "LatestCost": "0.00"
                                },
                                {
                                    "ProductID": "482",
                                    "LatestCost": "0.00"
                                },
                                {
                                    "ProductID": "483",
                                    "LatestCost": "0.00"
                                },
                                {
                                    "ProductID": "484",
                                    "LatestCost": "0.00"
                                },
                                {
                                    "ProductID": "485",
                                    "LatestCost": "0.00"
                                },
                                {
                                    "ProductID": "486",
                                    "LatestCost": "0.00"
                                },
                                {
                                    "ProductID": "487",
                                    "LatestCost": "0.00"
                                },
                                {
                                    "ProductID": "488",
                                    "LatestCost": "0.00"
                                },
                                {
                                    "ProductID": "489",
                                    "LatestCost": "0.00"
                                },
                                {
                                    "ProductID": "490",
                                    "LatestCost": "0.00"
                                },
                                {
                                    "ProductID": "491",
                                    "LatestCost": "0.00"
                                },
                                {
                                    "ProductID": "492",
                                    "LatestCost": "0.00"
                                },
                                {
                                    "ProductID": "493",
                                    "LatestCost": "0.00"
                                },
                                {
                                    "ProductID": "494",
                                    "LatestCost": "0.00"
                                },
                                {
                                    "ProductID": "495",
                                    "LatestCost": "0.00"
                                },
                                {
                                    "ProductID": "496",
                                    "LatestCost": "0.00"
                                },
                                {
                                    "ProductID": "497",
                                    "LatestCost": "0.00"
                                },
                                {
                                    "ProductID": "504",
                                    "LatestCost": "0.00"
                                },
                                {
                                    "ProductID": "505",
                                    "LatestCost": "0.00"
                                },
                                {
                                    "ProductID": "506",
                                    "LatestCost": "0.00"
                                },
                                {
                                    "ProductID": "507",
                                    "LatestCost": "0.00"
                                },
                                {
                                    "ProductID": "508",
                                    "LatestCost": "0.00"
                                },
                                {
                                    "ProductID": "509",
                                    "LatestCost": "0.00"
                                },
                                {
                                    "ProductID": "510",
                                    "LatestCost": "0.00"
                                },
                                {
                                    "ProductID": "511",
                                    "LatestCost": "0.00"
                                },
                                {
                                    "ProductID": "512",
                                    "LatestCost": "0.00"
                                },
                                {
                                    "ProductID": "513",
                                    "LatestCost": "0.00"
                                },
                                {
                                    "ProductID": "523",
                                    "LatestCost": "0.00"
                                },
                                {
                                    "ProductID": "524",
                                    "LatestCost": "0.00"
                                },
                                {
                                    "ProductID": "525",
                                    "LatestCost": "0.00"
                                },
                                {
                                    "ProductID": "526",
                                    "LatestCost": "0.00"
                                },
                                {
                                    "ProductID": "527",
                                    "LatestCost": "0.00"
                                },
                                {
                                    "ProductID": "528",
                                    "LatestCost": "0.00"
                                },
                                {
                                    "ProductID": "529",
                                    "LatestCost": "0.00"
                                },
                                {
                                    "ProductID": "530",
                                    "LatestCost": "0.00"
                                },
                                {
                                    "ProductID": "531",
                                    "LatestCost": "0.00"
                                },
                                {
                                    "ProductID": "532",
                                    "LatestCost": "0.00"
                                },
                                {
                                    "ProductID": "533",
                                    "LatestCost": "0.00"
                                },
                                {
                                    "ProductID": "534",
                                    "LatestCost": "0.00"
                                },
                                {
                                    "ProductID": "535",
                                    "LatestCost": "0.00"
                                },
                                {
                                    "ProductID": "679",
                                    "LatestCost": "0.00"
                                }
                            ]
                        },
                        "text/html": [
                            "<table>",
                            "<tr><th>ProductID</th><th>LatestCost</th></tr>",
                            "<tr><td>749</td><td>3578.27</td></tr>",
                            "<tr><td>750</td><td>3578.27</td></tr>",
                            "<tr><td>751</td><td>3578.27</td></tr>",
                            "<tr><td>752</td><td>3578.27</td></tr>",
                            "<tr><td>753</td><td>3578.27</td></tr>",
                            "<tr><td>771</td><td>3399.99</td></tr>",
                            "<tr><td>772</td><td>3399.99</td></tr>",
                            "<tr><td>773</td><td>3399.99</td></tr>",
                            "<tr><td>774</td><td>3399.99</td></tr>",
                            "<tr><td>775</td><td>3374.99</td></tr>",
                            "<tr><td>776</td><td>3374.99</td></tr>",
                            "<tr><td>777</td><td>3374.99</td></tr>",
                            "<tr><td>778</td><td>3374.99</td></tr>",
                            "<tr><td>789</td><td>2443.35</td></tr>",
                            "<tr><td>790</td><td>2443.35</td></tr>",
                            "<tr><td>791</td><td>2443.35</td></tr>",
                            "<tr><td>792</td><td>2443.35</td></tr>",
                            "<tr><td>793</td><td>2443.35</td></tr>",
                            "<tr><td>794</td><td>2443.35</td></tr>",
                            "<tr><td>795</td><td>2443.35</td></tr>",
                            "<tr><td>796</td><td>2443.35</td></tr>",
                            "<tr><td>954</td><td>2384.07</td></tr>",
                            "<tr><td>955</td><td>2384.07</td></tr>",
                            "<tr><td>956</td><td>2384.07</td></tr>",
                            "<tr><td>957</td><td>2384.07</td></tr>",
                            "<tr><td>966</td><td>2384.07</td></tr>",
                            "<tr><td>967</td><td>2384.07</td></tr>",
                            "<tr><td>968</td><td>2384.07</td></tr>",
                            "<tr><td>969</td><td>2384.07</td></tr>",
                            "<tr><td>779</td><td>2319.99</td></tr>",
                            "<tr><td>780</td><td>2319.99</td></tr>",
                            "<tr><td>781</td><td>2319.99</td></tr>",
                            "<tr><td>782</td><td>2294.99</td></tr>",
                            "<tr><td>783</td><td>2294.99</td></tr>",
                            "<tr><td>784</td><td>2294.99</td></tr>",
                            "<tr><td>749</td><td>2171.2942</td></tr>",
                            "<tr><td>750</td><td>2171.2942</td></tr>",
                            "<tr><td>751</td><td>2171.2942</td></tr>",
                            "<tr><td>752</td><td>2171.2942</td></tr>",
                            "<tr><td>753</td><td>2171.2942</td></tr>",
                            "<tr><td>771</td><td>1912.1544</td></tr>",
                            "<tr><td>772</td><td>1912.1544</td></tr>",
                            "<tr><td>773</td><td>1912.1544</td></tr>",
                            "<tr><td>774</td><td>1912.1544</td></tr>",
                            "<tr><td>775</td><td>1898.0944</td></tr>",
                            "<tr><td>776</td><td>1898.0944</td></tr>",
                            "<tr><td>777</td><td>1898.0944</td></tr>",
                            "<tr><td>778</td><td>1898.0944</td></tr>",
                            "<tr><td>973</td><td>1700.99</td></tr>",
                            "<tr><td>974</td><td>1700.99</td></tr>",
                            "<tr><td>975</td><td>1700.99</td></tr>",
                            "<tr><td>976</td><td>1700.99</td></tr>",
                            "<tr><td>792</td><td>1554.9479</td></tr>",
                            "<tr><td>793</td><td>1554.9479</td></tr>",
                            "<tr><td>794</td><td>1554.9479</td></tr>",
                            "<tr><td>795</td><td>1554.9479</td></tr>",
                            "<tr><td>796</td><td>1554.9479</td></tr>",
                            "<tr><td>789</td><td>1518.7864</td></tr>",
                            "<tr><td>790</td><td>1518.7864</td></tr>",
                            "<tr><td>791</td><td>1518.7864</td></tr>",
                            "<tr><td>954</td><td>1481.9379</td></tr>",
                            "<tr><td>955</td><td>1481.9379</td></tr>",
                            "<tr><td>956</td><td>1481.9379</td></tr>",
                            "<tr><td>957</td><td>1481.9379</td></tr>",
                            "<tr><td>966</td><td>1481.9379</td></tr>",
                            "<tr><td>967</td><td>1481.9379</td></tr>",
                            "<tr><td>968</td><td>1481.9379</td></tr>",
                            "<tr><td>969</td><td>1481.9379</td></tr>",
                            "<tr><td>754</td><td>1457.99</td></tr>",
                            "<tr><td>755</td><td>1457.99</td></tr>",
                            "<tr><td>756</td><td>1457.99</td></tr>",
                            "<tr><td>757</td><td>1457.99</td></tr>",
                            "<tr><td>758</td><td>1457.99</td></tr>",
                            "<tr><td>680</td><td>1431.50</td></tr>",
                            "<tr><td>706</td><td>1431.50</td></tr>",
                            "<tr><td>717</td><td>1431.50</td></tr>",
                            "<tr><td>718</td><td>1431.50</td></tr>",
                            "<tr><td>719</td><td>1431.50</td></tr>",
                            "<tr><td>720</td><td>1431.50</td></tr>",
                            "<tr><td>721</td><td>1431.50</td></tr>",
                            "<tr><td>837</td><td>1431.50</td></tr>",
                            "<tr><td>838</td><td>1431.50</td></tr>",
                            "<tr><td>839</td><td>1431.50</td></tr>",
                            "<tr><td>840</td><td>1431.50</td></tr>",
                            "<tr><td>739</td><td>1364.50</td></tr>",
                            "<tr><td>740</td><td>1364.50</td></tr>",
                            "<tr><td>741</td><td>1364.50</td></tr>",
                            "<tr><td>742</td><td>1364.50</td></tr>",
                            "<tr><td>748</td><td>1364.50</td></tr>",
                            "<tr><td>743</td><td>1349.60</td></tr>",
                            "<tr><td>744</td><td>1349.60</td></tr>",
                            "<tr><td>745</td><td>1349.60</td></tr>",
                            "<tr><td>746</td><td>1349.60</td></tr>",
                            "<tr><td>747</td><td>1349.60</td></tr>",
                            "<tr><td>779</td><td>1265.6195</td></tr>",
                            "<tr><td>780</td><td>1265.6195</td></tr>",
                            "<tr><td>781</td><td>1265.6195</td></tr>",
                            "<tr><td>782</td><td>1251.9813</td></tr>",
                            "<tr><td>783</td><td>1251.9813</td></tr>",
                            "<tr><td>784</td><td>1251.9813</td></tr>",
                            "<tr><td>953</td><td>1214.85</td></tr>",
                            "<tr><td>970</td><td>1214.85</td></tr>",
                            "<tr><td>971</td><td>1214.85</td></tr>",
                            "<tr><td>972</td><td>1214.85</td></tr>",
                            "<tr><td>797</td><td>1120.49</td></tr>",
                            "<tr><td>798</td><td>1120.49</td></tr>",
                            "<tr><td>799</td><td>1120.49</td></tr>",
                            "<tr><td>800</td><td>1120.49</td></tr>",
                            "<tr><td>801</td><td>1120.49</td></tr>",
                            "<tr><td>973</td><td>1082.51</td></tr>",
                            "<tr><td>974</td><td>1082.51</td></tr>",
                            "<tr><td>975</td><td>1082.51</td></tr>",
                            "<tr><td>976</td><td>1082.51</td></tr>",
                            "<tr><td>785</td><td>1079.99</td></tr>",
                            "<tr><td>786</td><td>1079.99</td></tr>",
                            "<tr><td>787</td><td>1079.99</td></tr>",
                            "<tr><td>788</td><td>1079.99</td></tr>",
                            "<tr><td>885</td><td>1003.91</td></tr>",
                            "<tr><td>887</td><td>1003.91</td></tr>",
                            "<tr><td>888</td><td>1003.91</td></tr>",
                            "<tr><td>889</td><td>1003.91</td></tr>",
                            "<tr><td>890</td><td>1003.91</td></tr>",
                            "<tr><td>891</td><td>1003.91</td></tr>",
                            "<tr><td>892</td><td>1003.91</td></tr>",
                            "<tr><td>893</td><td>1003.91</td></tr>",
                            "<tr><td>754</td><td>884.7083</td></tr>",
                            "<tr><td>755</td><td>884.7083</td></tr>",
                            "<tr><td>756</td><td>884.7083</td></tr>",
                            "<tr><td>757</td><td>884.7083</td></tr>",
                            "<tr><td>758</td><td>884.7083</td></tr>",
                            "<tr><td>717</td><td>868.6342</td></tr>",
                            "<tr><td>718</td><td>868.6342</td></tr>",
                            "<tr><td>719</td><td>868.6342</td></tr>",
                            "<tr><td>720</td><td>868.6342</td></tr>",
                            "<tr><td>721</td><td>868.6342</td></tr>",
                            "<tr><td>837</td><td>868.6342</td></tr>",
                            "<tr><td>838</td><td>868.6342</td></tr>",
                            "<tr><td>839</td><td>868.6342</td></tr>",
                            "<tr><td>840</td><td>868.6342</td></tr>",
                            "<tr><td>759</td><td>782.99</td></tr>",
                            "<tr><td>760</td><td>782.99</td></tr>",
                            "<tr><td>761</td><td>782.99</td></tr>",
                            "<tr><td>762</td><td>782.99</td></tr>",
                            "<tr><td>763</td><td>782.99</td></tr>",
                            "<tr><td>764</td><td>782.99</td></tr>",
                            "<tr><td>765</td><td>782.99</td></tr>",
                            "<tr><td>766</td><td>782.99</td></tr>",
                            "<tr><td>767</td><td>782.99</td></tr>",
                            "<tr><td>768</td><td>782.99</td></tr>",
                            "<tr><td>769</td><td>782.99</td></tr>",
                            "<tr><td>770</td><td>782.99</td></tr>",
                            "<tr><td>980</td><td>769.49</td></tr>",
                            "<tr><td>981</td><td>769.49</td></tr>",
                            "<tr><td>982</td><td>769.49</td></tr>",
                            "<tr><td>983</td><td>769.49</td></tr>",
                            "<tr><td>953</td><td>755.1508</td></tr>",
                            "<tr><td>970</td><td>755.1508</td></tr>",
                            "<tr><td>971</td><td>755.1508</td></tr>",
                            "<tr><td>972</td><td>755.1508</td></tr>",
                            "<tr><td>739</td><td>747.2002</td></tr>",
                            "<tr><td>742</td><td>747.2002</td></tr>",
                            "<tr><td>748</td><td>747.2002</td></tr>",
                            "<tr><td>958</td><td>742.35</td></tr>",
                            "<tr><td>959</td><td>742.35</td></tr>",
                            "<tr><td>960</td><td>742.35</td></tr>",
                            "<tr><td>961</td><td>742.35</td></tr>",
                            "<tr><td>962</td><td>742.35</td></tr>",
                            "<tr><td>963</td><td>742.35</td></tr>",
                            "<tr><td>964</td><td>742.35</td></tr>",
                            "<tr><td>965</td><td>742.35</td></tr>",
                            "<tr><td>978</td><td>742.35</td></tr>",
                            "<tr><td>979</td><td>742.35</td></tr>",
                            "<tr><td>743</td><td>739.041</td></tr>",
                            "<tr><td>746</td><td>739.041</td></tr>",
                            "<tr><td>747</td><td>739.041</td></tr>",
                            "<tr><td>797</td><td>713.0798</td></tr>",
                            "<tr><td>798</td><td>713.0798</td></tr>",
                            "<tr><td>799</td><td>713.0798</td></tr>",
                            "<tr><td>800</td><td>713.0798</td></tr>",
                            "<tr><td>801</td><td>713.0798</td></tr>",
                            "<tr><td>740</td><td>706.811</td></tr>",
                            "<tr><td>741</td><td>706.811</td></tr>",
                            "<tr><td>744</td><td>699.0928</td></tr>",
                            "<tr><td>745</td><td>699.0928</td></tr>",
                            "<tr><td>885</td><td>601.7437</td></tr>",
                            "<tr><td>887</td><td>601.7437</td></tr>",
                            "<tr><td>888</td><td>601.7437</td></tr>",
                            "<tr><td>889</td><td>601.7437</td></tr>",
                            "<tr><td>890</td><td>601.7437</td></tr>",
                            "<tr><td>891</td><td>601.7437</td></tr>",
                            "<tr><td>892</td><td>601.7437</td></tr>",
                            "<tr><td>893</td><td>601.7437</td></tr>",
                            "<tr><td>785</td><td>598.4354</td></tr>",
                            "<tr><td>786</td><td>598.4354</td></tr>",
                            "<tr><td>787</td><td>598.4354</td></tr>",
                            "<tr><td>788</td><td>598.4354</td></tr>",
                            "<tr><td>731</td><td>594.83</td></tr>",
                            "<tr><td>732</td><td>594.83</td></tr>",
                            "<tr><td>733</td><td>594.83</td></tr>",
                            "<tr><td>734</td><td>594.83</td></tr>",
                            "<tr><td>735</td><td>594.83</td></tr>",
                            "<tr><td>822</td><td>594.83</td></tr>",
                            "<tr><td>833</td><td>594.83</td></tr>",
                            "<tr><td>834</td><td>594.83</td></tr>",
                            "<tr><td>835</td><td>594.83</td></tr>",
                            "<tr><td>836</td><td>594.83</td></tr>",
                            "<tr><td>984</td><td>564.99</td></tr>",
                            "<tr><td>985</td><td>564.99</td></tr>",
                            "<tr><td>986</td><td>564.99</td></tr>",
                            "<tr><td>987</td><td>564.99</td></tr>",
                            "<tr><td>988</td><td>564.99</td></tr>",
                            "<tr><td>977</td><td>539.99</td></tr>",
                            "<tr><td>989</td><td>539.99</td></tr>",
                            "<tr><td>990</td><td>539.99</td></tr>",
                            "<tr><td>991</td><td>539.99</td></tr>",
                            "<tr><td>992</td><td>539.99</td></tr>",
                            "<tr><td>993</td><td>539.99</td></tr>",
                            "<tr><td>997</td><td>539.99</td></tr>",
                            "<tr><td>998</td><td>539.99</td></tr>",
                            "<tr><td>999</td><td>539.99</td></tr>",
                            "<tr><td>759</td><td>486.7066</td></tr>",
                            "<tr><td>760</td><td>486.7066</td></tr>",
                            "<tr><td>761</td><td>486.7066</td></tr>",
                            "<tr><td>762</td><td>486.7066</td></tr>",
                            "<tr><td>763</td><td>486.7066</td></tr>",
                            "<tr><td>764</td><td>486.7066</td></tr>",
                            "<tr><td>765</td><td>486.7066</td></tr>",
                            "<tr><td>766</td><td>486.7066</td></tr>",
                            "<tr><td>767</td><td>486.7066</td></tr>",
                            "<tr><td>768</td><td>486.7066</td></tr>",
                            "<tr><td>769</td><td>486.7066</td></tr>",
                            "<tr><td>770</td><td>486.7066</td></tr>",
                            "<tr><td>958</td><td>461.4448</td></tr>",
                            "<tr><td>959</td><td>461.4448</td></tr>",
                            "<tr><td>960</td><td>461.4448</td></tr>",
                            "<tr><td>961</td><td>461.4448</td></tr>",
                            "<tr><td>962</td><td>461.4448</td></tr>",
                            "<tr><td>963</td><td>461.4448</td></tr>",
                            "<tr><td>964</td><td>461.4448</td></tr>",
                            "<tr><td>965</td><td>461.4448</td></tr>",
                            "<tr><td>978</td><td>461.4448</td></tr>",
                            "<tr><td>979</td><td>461.4448</td></tr>",
                            "<tr><td>980</td><td>419.7784</td></tr>",
                            "<tr><td>981</td><td>419.7784</td></tr>",
                            "<tr><td>982</td><td>419.7784</td></tr>",
                            "<tr><td>983</td><td>419.7784</td></tr>",
                            "<tr><td>951</td><td>404.99</td></tr>",
                            "<tr><td>904</td><td>364.09</td></tr>",
                            "<tr><td>905</td><td>364.09</td></tr>",
                            "<tr><td>906</td><td>364.09</td></tr>",
                            "<tr><td>942</td><td>364.09</td></tr>",
                            "<tr><td>822</td><td>360.9428</td></tr>",
                            "<tr><td>833</td><td>360.9428</td></tr>",
                            "<tr><td>834</td><td>360.9428</td></tr>",
                            "<tr><td>835</td><td>360.9428</td></tr>",
                            "<tr><td>836</td><td>360.9428</td></tr>",
                            "<tr><td>828</td><td>357.06</td></tr>",
                            "<tr><td>731</td><td>352.1394</td></tr>",
                            "<tr><td>732</td><td>352.1394</td></tr>",
                            "<tr><td>733</td><td>352.1394</td></tr>",
                            "<tr><td>734</td><td>352.1394</td></tr>",
                            "<tr><td>735</td><td>352.1394</td></tr>",
                            "<tr><td>814</td><td>348.76</td></tr>",
                            "<tr><td>830</td><td>348.76</td></tr>",
                            "<tr><td>831</td><td>348.76</td></tr>",
                            "<tr><td>832</td><td>348.76</td></tr>",
                            "<tr><td>977</td><td>343.6496</td></tr>",
                            "<tr><td>997</td><td>343.6496</td></tr>",
                            "<tr><td>998</td><td>343.6496</td></tr>",
                            "<tr><td>999</td><td>343.6496</td></tr>",
                            "<tr><td>722</td><td>337.22</td></tr>",
                            "<tr><td>723</td><td>337.22</td></tr>",
                            "<tr><td>724</td><td>337.22</td></tr>",
                            "<tr><td>725</td><td>337.22</td></tr>",
                            "<tr><td>726</td><td>337.22</td></tr>",
                            "<tr><td>727</td><td>337.22</td></tr>",
                            "<tr><td>728</td><td>337.22</td></tr>",
                            "<tr><td>729</td><td>337.22</td></tr>",
                            "<tr><td>730</td><td>337.22</td></tr>",
                            "<tr><td>736</td><td>337.22</td></tr>",
                            "<tr><td>737</td><td>337.22</td></tr>",
                            "<tr><td>738</td><td>337.22</td></tr>",
                            "<tr><td>886</td><td>333.42</td></tr>",
                            "<tr><td>895</td><td>333.42</td></tr>",
                            "<tr><td>896</td><td>333.42</td></tr>",
                            "<tr><td>897</td><td>333.42</td></tr>",
                            "<tr><td>898</td><td>333.42</td></tr>",
                            "<tr><td>899</td><td>333.42</td></tr>",
                            "<tr><td>900</td><td>333.42</td></tr>",
                            "<tr><td>901</td><td>333.42</td></tr>",
                            "<tr><td>902</td><td>333.42</td></tr>",
                            "<tr><td>903</td><td>333.42</td></tr>",
                            "<tr><td>820</td><td>330.06</td></tr>",
                            "<tr><td>825</td><td>327.215</td></tr>",
                            "<tr><td>984</td><td>308.2179</td></tr>",
                            "<tr><td>985</td><td>308.2179</td></tr>",
                            "<tr><td>986</td><td>308.2179</td></tr>",
                            "<tr><td>987</td><td>308.2179</td></tr>",
                            "<tr><td>988</td><td>308.2179</td></tr>",
                            "<tr><td>817</td><td>300.215</td></tr>",
                            "<tr><td>989</td><td>294.5797</td></tr>",
                            "<tr><td>990</td><td>294.5797</td></tr>",
                            "<tr><td>991</td><td>294.5797</td></tr>",
                            "<tr><td>992</td><td>294.5797</td></tr>",
                            "<tr><td>993</td><td>294.5797</td></tr>",
                            "<tr><td>827</td><td>275.385</td></tr>",
                            "<tr><td>917</td><td>264.05</td></tr>",
                            "<tr><td>918</td><td>264.05</td></tr>",
                            "<tr><td>919</td><td>264.05</td></tr>",
                            "<tr><td>920</td><td>264.05</td></tr>",
                            "<tr><td>944</td><td>264.05</td></tr>",
                            "<tr><td>950</td><td>256.49</td></tr>",
                            "<tr><td>924</td><td>249.79</td></tr>",
                            "<tr><td>925</td><td>249.79</td></tr>",
                            "<tr><td>926</td><td>249.79</td></tr>",
                            "<tr><td>927</td><td>249.79</td></tr>",
                            "<tr><td>943</td><td>249.79</td></tr>",
                            "<tr><td>819</td><td>248.385</td></tr>",
                            "<tr><td>829</td><td>245.01</td></tr>",
                            "<tr><td>824</td><td>236.025</td></tr>",
                            "<tr><td>804</td><td>229.49</td></tr>",
                            "<tr><td>821</td><td>218.01</td></tr>",
                            "<tr><td>816</td><td>209.025</td></tr>",
                            "<tr><td>722</td><td>204.6251</td></tr>",
                            "<tr><td>723</td><td>204.6251</td></tr>",
                            "<tr><td>724</td><td>204.6251</td></tr>",
                            "<tr><td>736</td><td>204.6251</td></tr>",
                            "<tr><td>737</td><td>204.6251</td></tr>",
                            "<tr><td>738</td><td>204.6251</td></tr>",
                            "<tr><td>886</td><td>199.8519</td></tr>",
                            "<tr><td>895</td><td>199.8519</td></tr>",
                            "<tr><td>896</td><td>199.8519</td></tr>",
                            "<tr><td>897</td><td>199.8519</td></tr>",
                            "<tr><td>898</td><td>199.8519</td></tr>",
                            "<tr><td>899</td><td>199.8519</td></tr>",
                            "<tr><td>900</td><td>199.8519</td></tr>",
                            "<tr><td>901</td><td>199.8519</td></tr>",
                            "<tr><td>902</td><td>199.8519</td></tr>",
                            "<tr><td>903</td><td>199.8519</td></tr>",
                            "<tr><td>904</td><td>199.3757</td></tr>",
                            "<tr><td>905</td><td>199.3757</td></tr>",
                            "<tr><td>906</td><td>199.3757</td></tr>",
                            "<tr><td>942</td><td>199.3757</td></tr>",
                            "<tr><td>516</td><td>196.92</td></tr>",
                            "<tr><td>519</td><td>196.92</td></tr>",
                            "<tr><td>522</td><td>196.92</td></tr>",
                            "<tr><td>725</td><td>187.1571</td></tr>",
                            "<tr><td>726</td><td>187.1571</td></tr>",
                            "<tr><td>727</td><td>187.1571</td></tr>",
                            "<tr><td>728</td><td>187.1571</td></tr>",
                            "<tr><td>729</td><td>187.1571</td></tr>",
                            "<tr><td>730</td><td>187.1571</td></tr>",
                            "<tr><td>814</td><td>185.8193</td></tr>",
                            "<tr><td>830</td><td>185.8193</td></tr>",
                            "<tr><td>831</td><td>185.8193</td></tr>",
                            "<tr><td>832</td><td>185.8193</td></tr>",
                            "<tr><td>951</td><td>179.8156</td></tr>",
                            "<tr><td>803</td><td>175.49</td></tr>",
                            "<tr><td>949</td><td>175.49</td></tr>",
                            "<tr><td>879</td><td>159.00</td></tr>",
                            "<tr><td>828</td><td>158.5346</td></tr>",
                            "<tr><td>802</td><td>148.22</td></tr>",
                            "<tr><td>515</td><td>147.14</td></tr>",
                            "<tr><td>518</td><td>147.14</td></tr>",
                            "<tr><td>521</td><td>147.14</td></tr>",
                            "<tr><td>820</td><td>146.5466</td></tr>",
                            "<tr><td>825</td><td>145.2835</td></tr>",
                            "<tr><td>917</td><td>144.5938</td></tr>",
                            "<tr><td>918</td><td>144.5938</td></tr>",
                            "<tr><td>919</td><td>144.5938</td></tr>",
                            "<tr><td>920</td><td>144.5938</td></tr>",
                            "<tr><td>944</td><td>144.5938</td></tr>",
                            "<tr><td>924</td><td>136.785</td></tr>",
                            "<tr><td>925</td><td>136.785</td></tr>",
                            "<tr><td>926</td><td>136.785</td></tr>",
                            "<tr><td>927</td><td>136.785</td></tr>",
                            "<tr><td>943</td><td>136.785</td></tr>",
                            "<tr><td>514</td><td>133.34</td></tr>",
                            "<tr><td>517</td><td>133.34</td></tr>",
                            "<tr><td>520</td><td>133.34</td></tr>",
                            "<tr><td>817</td><td>133.2955</td></tr>",
                            "<tr><td>842</td><td>125.00</td></tr>",
                            "<tr><td>807</td><td>124.73</td></tr>",
                            "<tr><td>827</td><td>122.2709</td></tr>",
                            "<tr><td>996</td><td>121.49</td></tr>",
                            "<tr><td>894</td><td>121.46</td></tr>",
                            "<tr><td>810</td><td>120.27</td></tr>",
                            "<tr><td>813</td><td>120.27</td></tr>",
                            "<tr><td>876</td><td>120.00</td></tr>",
                            "<tr><td>950</td><td>113.8816</td></tr>",
                            "<tr><td>826</td><td>112.565</td></tr>",
                            "<tr><td>819</td><td>110.2829</td></tr>",
                            "<tr><td>829</td><td>108.7844</td></tr>",
                            "<tr><td>907</td><td>106.50</td></tr>",
                            "<tr><td>948</td><td>106.50</td></tr>",
                            "<tr><td>824</td><td>104.7951</td></tr>",
                            "<tr><td>806</td><td>102.29</td></tr>",
                            "<tr><td>804</td><td>101.8936</td></tr>",
                            "<tr><td>995</td><td>101.24</td></tr>",
                            "<tr><td>821</td><td>96.7964</td></tr>",
                            "<tr><td>816</td><td>92.8071</td></tr>",
                            "<tr><td>947</td><td>91.57</td></tr>",
                            "<tr><td>945</td><td>91.49</td></tr>",
                            "<tr><td>855</td><td>89.99</td></tr>",
                            "<tr><td>856</td><td>89.99</td></tr>",
                            "<tr><td>857</td><td>89.99</td></tr>",
                            "<tr><td>823</td><td>87.745</td></tr>",
                            "<tr><td>818</td><td>85.565</td></tr>",
                            "<tr><td>937</td><td>80.99</td></tr>",
                            "<tr><td>940</td><td>80.99</td></tr>",
                            "<tr><td>941</td><td>80.99</td></tr>",
                            "<tr><td>803</td><td>77.9176</td></tr>",
                            "<tr><td>949</td><td>77.9176</td></tr>",
                            "<tr><td>852</td><td>74.99</td></tr>",
                            "<tr><td>853</td><td>74.99</td></tr>",
                            "<tr><td>854</td><td>74.99</td></tr>",
                            "<tr><td>867</td><td>69.99</td></tr>",
                            "<tr><td>868</td><td>69.99</td></tr>",
                            "<tr><td>869</td><td>69.99</td></tr>",
                            "<tr><td>802</td><td>65.8097</td></tr>",
                            "<tr><td>864</td><td>63.50</td></tr>",
                            "<tr><td>865</td><td>63.50</td></tr>",
                            "<tr><td>866</td><td>63.50</td></tr>",
                            "<tr><td>936</td><td>62.09</td></tr>",
                            "<tr><td>939</td><td>62.09</td></tr>",
                            "<tr><td>809</td><td>61.92</td></tr>",
                            "<tr><td>812</td><td>61.92</td></tr>",
                            "<tr><td>815</td><td>60.745</td></tr>",
                            "<tr><td>841</td><td>59.99</td></tr>",
                            "<tr><td>849</td><td>59.99</td></tr>",
                            "<tr><td>850</td><td>59.99</td></tr>",
                            "<tr><td>851</td><td>59.99</td></tr>",
                            "<tr><td>879</td><td>59.466</td></tr>",
                            "<tr><td>807</td><td>55.3801</td></tr>",
                            "<tr><td>880</td><td>54.99</td></tr>",
                            "<tr><td>881</td><td>53.99</td></tr>",
                            "<tr><td>882</td><td>53.99</td></tr>",
                            "<tr><td>883</td><td>53.99</td></tr>",
                            "<tr><td>884</td><td>53.99</td></tr>",
                            "<tr><td>994</td><td>53.99</td></tr>",
                            "<tr><td>996</td><td>53.9416</td></tr>",
                            "<tr><td>894</td><td>53.9282</td></tr>",
                            "<tr><td>810</td><td>53.3999</td></tr>",
                            "<tr><td>813</td><td>53.3999</td></tr>",
                            "<tr><td>910</td><td>52.64</td></tr>",
                            "<tr><td>913</td><td>52.64</td></tr>",
                            "<tr><td>916</td><td>52.64</td></tr>",
                            "<tr><td>842</td><td>51.5625</td></tr>",
                            "<tr><td>713</td><td>49.99</td></tr>",
                            "<tr><td>714</td><td>49.99</td></tr>",
                            "<tr><td>715</td><td>49.99</td></tr>",
                            "<tr><td>716</td><td>49.99</td></tr>",
                            "<tr><td>826</td><td>49.9789</td></tr>",
                            "<tr><td>907</td><td>47.286</td></tr>",
                            "<tr><td>948</td><td>47.286</td></tr>",
                            "<tr><td>946</td><td>46.09</td></tr>",
                            "<tr><td>806</td><td>45.4168</td></tr>",
                            "<tr><td>848</td><td>44.99</td></tr>",
                            "<tr><td>995</td><td>44.9506</td></tr>",
                            "<tr><td>876</td><td>44.88</td></tr>",
                            "<tr><td>808</td><td>44.54</td></tr>",
                            "<tr><td>811</td><td>44.54</td></tr>",
                            "<tr><td>881</td><td>41.5723</td></tr>",
                            "<tr><td>882</td><td>41.5723</td></tr>",
                            "<tr><td>883</td><td>41.5723</td></tr>",
                            "<tr><td>884</td><td>41.5723</td></tr>",
                            "<tr><td>947</td><td>40.6571</td></tr>",
                            "<tr><td>945</td><td>40.6216</td></tr>",
                            "<tr><td>935</td><td>40.49</td></tr>",
                            "<tr><td>938</td><td>40.49</td></tr>",
                            "<tr><td>909</td><td>39.14</td></tr>",
                            "<tr><td>912</td><td>39.14</td></tr>",
                            "<tr><td>915</td><td>39.14</td></tr>",
                            "<tr><td>823</td><td>38.9588</td></tr>",
                            "<tr><td>713</td><td>38.4923</td></tr>",
                            "<tr><td>714</td><td>38.4923</td></tr>",
                            "<tr><td>715</td><td>38.4923</td></tr>",
                            "<tr><td>716</td><td>38.4923</td></tr>",
                            "<tr><td>818</td><td>37.9909</td></tr>",
                            "<tr><td>861</td><td>37.99</td></tr>",
                            "<tr><td>862</td><td>37.99</td></tr>",
                            "<tr><td>863</td><td>37.99</td></tr>",
                            "<tr><td>855</td><td>37.1209</td></tr>",
                            "<tr><td>856</td><td>37.1209</td></tr>",
                            "<tr><td>857</td><td>37.1209</td></tr>",
                            "<tr><td>937</td><td>35.9596</td></tr>",
                            "<tr><td>940</td><td>35.9596</td></tr>",
                            "<tr><td>941</td><td>35.9596</td></tr>",
                            "<tr><td>930</td><td>35.00</td></tr>",
                            "<tr><td>707</td><td>34.99</td></tr>",
                            "<tr><td>708</td><td>34.99</td></tr>",
                            "<tr><td>711</td><td>34.99</td></tr>",
                            "<tr><td>847</td><td>34.99</td></tr>",
                            "<tr><td>805</td><td>34.20</td></tr>",
                            "<tr><td>933</td><td>32.60</td></tr>",
                            "<tr><td>852</td><td>30.9334</td></tr>",
                            "<tr><td>853</td><td>30.9334</td></tr>",
                            "<tr><td>854</td><td>30.9334</td></tr>",
                            "<tr><td>929</td><td>29.99</td></tr>",
                            "<tr><td>934</td><td>28.99</td></tr>",
                            "<tr><td>936</td><td>27.568</td></tr>",
                            "<tr><td>939</td><td>27.568</td></tr>",
                            "<tr><td>809</td><td>27.4925</td></tr>",
                            "<tr><td>812</td><td>27.4925</td></tr>",
                            "<tr><td>908</td><td>27.12</td></tr>",
                            "<tr><td>911</td><td>27.12</td></tr>",
                            "<tr><td>914</td><td>27.12</td></tr>",
                            "<tr><td>815</td><td>26.9708</td></tr>",
                            "<tr><td>867</td><td>26.1763</td></tr>",
                            "<tr><td>868</td><td>26.1763</td></tr>",
                            "<tr><td>869</td><td>26.1763</td></tr>",
                            "<tr><td>843</td><td>25.00</td></tr>",
                            "<tr><td>845</td><td>24.99</td></tr>",
                            "<tr><td>928</td><td>24.99</td></tr>",
                            "<tr><td>932</td><td>24.99</td></tr>",
                            "<tr><td>841</td><td>24.7459</td></tr>",
                            "<tr><td>849</td><td>24.7459</td></tr>",
                            "<tr><td>850</td><td>24.7459</td></tr>",
                            "<tr><td>851</td><td>24.7459</td></tr>",
                            "<tr><td>858</td><td>24.49</td></tr>",
                            "<tr><td>859</td><td>24.49</td></tr>",
                            "<tr><td>860</td><td>24.49</td></tr>",
                            "<tr><td>994</td><td>23.9716</td></tr>",
                            "<tr><td>864</td><td>23.749</td></tr>",
                            "<tr><td>865</td><td>23.749</td></tr>",
                            "<tr><td>866</td><td>23.749</td></tr>",
                            "<tr><td>910</td><td>23.3722</td></tr>",
                            "<tr><td>913</td><td>23.3722</td></tr>",
                            "<tr><td>916</td><td>23.3722</td></tr>",
                            "<tr><td>878</td><td>21.98</td></tr>",
                            "<tr><td>931</td><td>21.49</td></tr>",
                            "<tr><td>880</td><td>20.5663</td></tr>",
                            "<tr><td>946</td><td>20.464</td></tr>",
                            "<tr><td>952</td><td>20.24</td></tr>",
                            "<tr><td>844</td><td>19.99</td></tr>",
                            "<tr><td>808</td><td>19.7758</td></tr>",
                            "<tr><td>811</td><td>19.7758</td></tr>",
                            "<tr><td>848</td><td>18.5584</td></tr>",
                            "<tr><td>935</td><td>17.9776</td></tr>",
                            "<tr><td>938</td><td>17.9776</td></tr>",
                            "<tr><td>909</td><td>17.3782</td></tr>",
                            "<tr><td>912</td><td>17.3782</td></tr>",
                            "<tr><td>915</td><td>17.3782</td></tr>",
                            "<tr><td>861</td><td>15.6709</td></tr>",
                            "<tr><td>862</td><td>15.6709</td></tr>",
                            "<tr><td>863</td><td>15.6709</td></tr>",
                            "<tr><td>805</td><td>15.1848</td></tr>",
                            "<tr><td>847</td><td>14.4334</td></tr>",
                            "<tr><td>846</td><td>13.99</td></tr>",
                            "<tr><td>707</td><td>13.8782</td></tr>",
                            "<tr><td>708</td><td>13.8782</td></tr>",
                            "<tr><td>711</td><td>13.8782</td></tr>",
                            "<tr><td>930</td><td>13.09</td></tr>",
                            "<tr><td>933</td><td>12.1924</td></tr>",
                            "<tr><td>908</td><td>12.0413</td></tr>",
                            "<tr><td>911</td><td>12.0413</td></tr>",
                            "<tr><td>914</td><td>12.0413</td></tr>",
                            "<tr><td>929</td><td>11.2163</td></tr>",
                            "<tr><td>934</td><td>10.8423</td></tr>",
                            "<tr><td>843</td><td>10.3125</td></tr>",
                            "<tr><td>845</td><td>10.3084</td></tr>",
                            "<tr><td>871</td><td>9.99</td></tr>",
                            "<tr><td>858</td><td>9.7136</td></tr>",
                            "<tr><td>859</td><td>9.7136</td></tr>",
                            "<tr><td>860</td><td>9.7136</td></tr>",
                            "<tr><td>709</td><td>9.50</td></tr>",
                            "<tr><td>710</td><td>9.50</td></tr>",
                            "<tr><td>928</td><td>9.3463</td></tr>",
                            "<tr><td>932</td><td>9.3463</td></tr>",
                            "<tr><td>712</td><td>8.99</td></tr>",
                            "<tr><td>872</td><td>8.99</td></tr>",
                            "<tr><td>874</td><td>8.99</td></tr>",
                            "<tr><td>875</td><td>8.99</td></tr>",
                            "<tr><td>952</td><td>8.9866</td></tr>",
                            "<tr><td>844</td><td>8.2459</td></tr>",
                            "<tr><td>878</td><td>8.2205</td></tr>",
                            "<tr><td>931</td><td>8.0373</td></tr>",
                            "<tr><td>877</td><td>7.95</td></tr>",
                            "<tr><td>712</td><td>6.9223</td></tr>",
                            "<tr><td>846</td><td>5.7709</td></tr>",
                            "<tr><td>870</td><td>4.99</td></tr>",
                            "<tr><td>921</td><td>4.99</td></tr>",
                            "<tr><td>923</td><td>4.99</td></tr>",
                            "<tr><td>922</td><td>3.99</td></tr>",
                            "<tr><td>871</td><td>3.7363</td></tr>",
                            "<tr><td>709</td><td>3.3963</td></tr>",
                            "<tr><td>710</td><td>3.3963</td></tr>",
                            "<tr><td>872</td><td>3.3623</td></tr>",
                            "<tr><td>874</td><td>3.3623</td></tr>",
                            "<tr><td>875</td><td>3.3623</td></tr>",
                            "<tr><td>877</td><td>2.9733</td></tr>",
                            "<tr><td>873</td><td>2.29</td></tr>",
                            "<tr><td>870</td><td>1.8663</td></tr>",
                            "<tr><td>921</td><td>1.8663</td></tr>",
                            "<tr><td>923</td><td>1.8663</td></tr>",
                            "<tr><td>922</td><td>1.4923</td></tr>",
                            "<tr><td>873</td><td>0.8565</td></tr>",
                            "<tr><td>1</td><td>0.00</td></tr>",
                            "<tr><td>2</td><td>0.00</td></tr>",
                            "<tr><td>3</td><td>0.00</td></tr>",
                            "<tr><td>4</td><td>0.00</td></tr>",
                            "<tr><td>316</td><td>0.00</td></tr>",
                            "<tr><td>317</td><td>0.00</td></tr>",
                            "<tr><td>318</td><td>0.00</td></tr>",
                            "<tr><td>319</td><td>0.00</td></tr>",
                            "<tr><td>320</td><td>0.00</td></tr>",
                            "<tr><td>321</td><td>0.00</td></tr>",
                            "<tr><td>322</td><td>0.00</td></tr>",
                            "<tr><td>323</td><td>0.00</td></tr>",
                            "<tr><td>324</td><td>0.00</td></tr>",
                            "<tr><td>325</td><td>0.00</td></tr>",
                            "<tr><td>326</td><td>0.00</td></tr>",
                            "<tr><td>327</td><td>0.00</td></tr>",
                            "<tr><td>328</td><td>0.00</td></tr>",
                            "<tr><td>329</td><td>0.00</td></tr>",
                            "<tr><td>330</td><td>0.00</td></tr>",
                            "<tr><td>331</td><td>0.00</td></tr>",
                            "<tr><td>332</td><td>0.00</td></tr>",
                            "<tr><td>341</td><td>0.00</td></tr>",
                            "<tr><td>342</td><td>0.00</td></tr>",
                            "<tr><td>343</td><td>0.00</td></tr>",
                            "<tr><td>344</td><td>0.00</td></tr>",
                            "<tr><td>345</td><td>0.00</td></tr>",
                            "<tr><td>346</td><td>0.00</td></tr>",
                            "<tr><td>347</td><td>0.00</td></tr>",
                            "<tr><td>348</td><td>0.00</td></tr>",
                            "<tr><td>349</td><td>0.00</td></tr>",
                            "<tr><td>350</td><td>0.00</td></tr>",
                            "<tr><td>351</td><td>0.00</td></tr>",
                            "<tr><td>352</td><td>0.00</td></tr>",
                            "<tr><td>355</td><td>0.00</td></tr>",
                            "<tr><td>356</td><td>0.00</td></tr>",
                            "<tr><td>357</td><td>0.00</td></tr>",
                            "<tr><td>358</td><td>0.00</td></tr>",
                            "<tr><td>359</td><td>0.00</td></tr>",
                            "<tr><td>360</td><td>0.00</td></tr>",
                            "<tr><td>361</td><td>0.00</td></tr>",
                            "<tr><td>362</td><td>0.00</td></tr>",
                            "<tr><td>363</td><td>0.00</td></tr>",
                            "<tr><td>364</td><td>0.00</td></tr>",
                            "<tr><td>365</td><td>0.00</td></tr>",
                            "<tr><td>366</td><td>0.00</td></tr>",
                            "<tr><td>367</td><td>0.00</td></tr>",
                            "<tr><td>368</td><td>0.00</td></tr>",
                            "<tr><td>369</td><td>0.00</td></tr>",
                            "<tr><td>370</td><td>0.00</td></tr>",
                            "<tr><td>371</td><td>0.00</td></tr>",
                            "<tr><td>372</td><td>0.00</td></tr>",
                            "<tr><td>373</td><td>0.00</td></tr>",
                            "<tr><td>374</td><td>0.00</td></tr>",
                            "<tr><td>375</td><td>0.00</td></tr>",
                            "<tr><td>376</td><td>0.00</td></tr>",
                            "<tr><td>377</td><td>0.00</td></tr>",
                            "<tr><td>378</td><td>0.00</td></tr>",
                            "<tr><td>379</td><td>0.00</td></tr>",
                            "<tr><td>380</td><td>0.00</td></tr>",
                            "<tr><td>381</td><td>0.00</td></tr>",
                            "<tr><td>382</td><td>0.00</td></tr>",
                            "<tr><td>383</td><td>0.00</td></tr>",
                            "<tr><td>384</td><td>0.00</td></tr>",
                            "<tr><td>385</td><td>0.00</td></tr>",
                            "<tr><td>386</td><td>0.00</td></tr>",
                            "<tr><td>387</td><td>0.00</td></tr>",
                            "<tr><td>388</td><td>0.00</td></tr>",
                            "<tr><td>389</td><td>0.00</td></tr>",
                            "<tr><td>390</td><td>0.00</td></tr>",
                            "<tr><td>391</td><td>0.00</td></tr>",
                            "<tr><td>392</td><td>0.00</td></tr>",
                            "<tr><td>393</td><td>0.00</td></tr>",
                            "<tr><td>394</td><td>0.00</td></tr>",
                            "<tr><td>395</td><td>0.00</td></tr>",
                            "<tr><td>396</td><td>0.00</td></tr>",
                            "<tr><td>397</td><td>0.00</td></tr>",
                            "<tr><td>398</td><td>0.00</td></tr>",
                            "<tr><td>399</td><td>0.00</td></tr>",
                            "<tr><td>400</td><td>0.00</td></tr>",
                            "<tr><td>401</td><td>0.00</td></tr>",
                            "<tr><td>402</td><td>0.00</td></tr>",
                            "<tr><td>403</td><td>0.00</td></tr>",
                            "<tr><td>404</td><td>0.00</td></tr>",
                            "<tr><td>405</td><td>0.00</td></tr>",
                            "<tr><td>406</td><td>0.00</td></tr>",
                            "<tr><td>407</td><td>0.00</td></tr>",
                            "<tr><td>408</td><td>0.00</td></tr>",
                            "<tr><td>409</td><td>0.00</td></tr>",
                            "<tr><td>410</td><td>0.00</td></tr>",
                            "<tr><td>411</td><td>0.00</td></tr>",
                            "<tr><td>412</td><td>0.00</td></tr>",
                            "<tr><td>413</td><td>0.00</td></tr>",
                            "<tr><td>414</td><td>0.00</td></tr>",
                            "<tr><td>415</td><td>0.00</td></tr>",
                            "<tr><td>416</td><td>0.00</td></tr>",
                            "<tr><td>417</td><td>0.00</td></tr>",
                            "<tr><td>418</td><td>0.00</td></tr>",
                            "<tr><td>419</td><td>0.00</td></tr>",
                            "<tr><td>420</td><td>0.00</td></tr>",
                            "<tr><td>421</td><td>0.00</td></tr>",
                            "<tr><td>422</td><td>0.00</td></tr>",
                            "<tr><td>423</td><td>0.00</td></tr>",
                            "<tr><td>424</td><td>0.00</td></tr>",
                            "<tr><td>425</td><td>0.00</td></tr>",
                            "<tr><td>426</td><td>0.00</td></tr>",
                            "<tr><td>427</td><td>0.00</td></tr>",
                            "<tr><td>428</td><td>0.00</td></tr>",
                            "<tr><td>429</td><td>0.00</td></tr>",
                            "<tr><td>430</td><td>0.00</td></tr>",
                            "<tr><td>431</td><td>0.00</td></tr>",
                            "<tr><td>432</td><td>0.00</td></tr>",
                            "<tr><td>433</td><td>0.00</td></tr>",
                            "<tr><td>434</td><td>0.00</td></tr>",
                            "<tr><td>435</td><td>0.00</td></tr>",
                            "<tr><td>436</td><td>0.00</td></tr>",
                            "<tr><td>437</td><td>0.00</td></tr>",
                            "<tr><td>438</td><td>0.00</td></tr>",
                            "<tr><td>439</td><td>0.00</td></tr>",
                            "<tr><td>440</td><td>0.00</td></tr>",
                            "<tr><td>441</td><td>0.00</td></tr>",
                            "<tr><td>442</td><td>0.00</td></tr>",
                            "<tr><td>443</td><td>0.00</td></tr>",
                            "<tr><td>444</td><td>0.00</td></tr>",
                            "<tr><td>445</td><td>0.00</td></tr>",
                            "<tr><td>446</td><td>0.00</td></tr>",
                            "<tr><td>447</td><td>0.00</td></tr>",
                            "<tr><td>448</td><td>0.00</td></tr>",
                            "<tr><td>449</td><td>0.00</td></tr>",
                            "<tr><td>450</td><td>0.00</td></tr>",
                            "<tr><td>451</td><td>0.00</td></tr>",
                            "<tr><td>452</td><td>0.00</td></tr>",
                            "<tr><td>453</td><td>0.00</td></tr>",
                            "<tr><td>454</td><td>0.00</td></tr>",
                            "<tr><td>455</td><td>0.00</td></tr>",
                            "<tr><td>456</td><td>0.00</td></tr>",
                            "<tr><td>457</td><td>0.00</td></tr>",
                            "<tr><td>458</td><td>0.00</td></tr>",
                            "<tr><td>459</td><td>0.00</td></tr>",
                            "<tr><td>460</td><td>0.00</td></tr>",
                            "<tr><td>461</td><td>0.00</td></tr>",
                            "<tr><td>462</td><td>0.00</td></tr>",
                            "<tr><td>463</td><td>0.00</td></tr>",
                            "<tr><td>464</td><td>0.00</td></tr>",
                            "<tr><td>465</td><td>0.00</td></tr>",
                            "<tr><td>466</td><td>0.00</td></tr>",
                            "<tr><td>467</td><td>0.00</td></tr>",
                            "<tr><td>468</td><td>0.00</td></tr>",
                            "<tr><td>469</td><td>0.00</td></tr>",
                            "<tr><td>470</td><td>0.00</td></tr>",
                            "<tr><td>471</td><td>0.00</td></tr>",
                            "<tr><td>472</td><td>0.00</td></tr>",
                            "<tr><td>473</td><td>0.00</td></tr>",
                            "<tr><td>474</td><td>0.00</td></tr>",
                            "<tr><td>475</td><td>0.00</td></tr>",
                            "<tr><td>476</td><td>0.00</td></tr>",
                            "<tr><td>477</td><td>0.00</td></tr>",
                            "<tr><td>478</td><td>0.00</td></tr>",
                            "<tr><td>479</td><td>0.00</td></tr>",
                            "<tr><td>480</td><td>0.00</td></tr>",
                            "<tr><td>481</td><td>0.00</td></tr>",
                            "<tr><td>482</td><td>0.00</td></tr>",
                            "<tr><td>483</td><td>0.00</td></tr>",
                            "<tr><td>484</td><td>0.00</td></tr>",
                            "<tr><td>485</td><td>0.00</td></tr>",
                            "<tr><td>486</td><td>0.00</td></tr>",
                            "<tr><td>487</td><td>0.00</td></tr>",
                            "<tr><td>488</td><td>0.00</td></tr>",
                            "<tr><td>489</td><td>0.00</td></tr>",
                            "<tr><td>490</td><td>0.00</td></tr>",
                            "<tr><td>491</td><td>0.00</td></tr>",
                            "<tr><td>492</td><td>0.00</td></tr>",
                            "<tr><td>493</td><td>0.00</td></tr>",
                            "<tr><td>494</td><td>0.00</td></tr>",
                            "<tr><td>495</td><td>0.00</td></tr>",
                            "<tr><td>496</td><td>0.00</td></tr>",
                            "<tr><td>497</td><td>0.00</td></tr>",
                            "<tr><td>504</td><td>0.00</td></tr>",
                            "<tr><td>505</td><td>0.00</td></tr>",
                            "<tr><td>506</td><td>0.00</td></tr>",
                            "<tr><td>507</td><td>0.00</td></tr>",
                            "<tr><td>508</td><td>0.00</td></tr>",
                            "<tr><td>509</td><td>0.00</td></tr>",
                            "<tr><td>510</td><td>0.00</td></tr>",
                            "<tr><td>511</td><td>0.00</td></tr>",
                            "<tr><td>512</td><td>0.00</td></tr>",
                            "<tr><td>513</td><td>0.00</td></tr>",
                            "<tr><td>523</td><td>0.00</td></tr>",
                            "<tr><td>524</td><td>0.00</td></tr>",
                            "<tr><td>525</td><td>0.00</td></tr>",
                            "<tr><td>526</td><td>0.00</td></tr>",
                            "<tr><td>527</td><td>0.00</td></tr>",
                            "<tr><td>528</td><td>0.00</td></tr>",
                            "<tr><td>529</td><td>0.00</td></tr>",
                            "<tr><td>530</td><td>0.00</td></tr>",
                            "<tr><td>531</td><td>0.00</td></tr>",
                            "<tr><td>532</td><td>0.00</td></tr>",
                            "<tr><td>533</td><td>0.00</td></tr>",
                            "<tr><td>534</td><td>0.00</td></tr>",
                            "<tr><td>535</td><td>0.00</td></tr>",
                            "<tr><td>679</td><td>0.00</td></tr>",
                            "</table>"
                        ]
                    }
                }
            ],
            "execution_count": 81
        },
        {
            "cell_type": "markdown",
            "source": [
                "Proposition 7: There are items which aren't selling\n",
                "\n",
                "The query gets products that exist in inventory but have never been sold. The first select statement gets products from the ProductInventoy table and joins it with the Product table in order to pull out the details associated with the product.\n",
                "\n",
                "The second select statements pulls out the ID, name of products that have been sold (allowed by join statement between both tables)\n",
                "\n",
                "The except operator finally removes the sold products from the first query, which now leaves us items that have never sold"
            ],
            "metadata": {
                "azdata_cell_guid": "118d038d-1844-4f0e-80fe-44b11dfdc75e"
            },
            "attachments": {}
        },
        {
            "cell_type": "code",
            "source": [
                "USE AdventureWorks2019\n",
                "Go\n",
                "\n",
                "-- Get products in inventory but not sold, including the product names\n",
                "    SELECT pi.ProductID, p.Name AS ProductName\n",
                "    FROM Production.ProductInventory AS pi\n",
                "        JOIN Production.Product p ON pi.ProductID = p.ProductID\n",
                "\n",
                "EXCEPT\n",
                "\n",
                "    -- Get products that have been sold, including the product names\n",
                "    SELECT sod.ProductID, p.Name AS ProductName\n",
                "    FROM Sales.SalesOrderDetail AS sod\n",
                "        JOIN Production.Product p\n",
                "        ON sod.ProductID = p.ProductID;"
            ],
            "metadata": {
                "azdata_cell_guid": "dc35bae3-cc7b-4998-bf12-d88daac2a65d",
                "language": "sql"
            },
            "outputs": [
                {
                    "output_type": "display_data",
                    "data": {
                        "text/html": "Commands completed successfully."
                    },
                    "metadata": {}
                },
                {
                    "output_type": "display_data",
                    "data": {
                        "text/html": "(222 rows affected)"
                    },
                    "metadata": {}
                },
                {
                    "output_type": "display_data",
                    "data": {
                        "text/html": "Total execution time: 00:00:00.025"
                    },
                    "metadata": {}
                },
                {
                    "output_type": "execute_result",
                    "metadata": {},
                    "execution_count": 19,
                    "data": {
                        "application/vnd.dataresource+json": {
                            "schema": {
                                "fields": [
                                    {
                                        "name": "ProductID"
                                    },
                                    {
                                        "name": "ProductName"
                                    }
                                ]
                            },
                            "data": [
                                {
                                    "ProductID": "1",
                                    "ProductName": "Adjustable Race"
                                },
                                {
                                    "ProductID": "2",
                                    "ProductName": "Bearing Ball"
                                },
                                {
                                    "ProductID": "3",
                                    "ProductName": "BB Ball Bearing"
                                },
                                {
                                    "ProductID": "4",
                                    "ProductName": "Headset Ball Bearings"
                                },
                                {
                                    "ProductID": "316",
                                    "ProductName": "Blade"
                                },
                                {
                                    "ProductID": "317",
                                    "ProductName": "LL Crankarm"
                                },
                                {
                                    "ProductID": "318",
                                    "ProductName": "ML Crankarm"
                                },
                                {
                                    "ProductID": "319",
                                    "ProductName": "HL Crankarm"
                                },
                                {
                                    "ProductID": "320",
                                    "ProductName": "Chainring Bolts"
                                },
                                {
                                    "ProductID": "321",
                                    "ProductName": "Chainring Nut"
                                },
                                {
                                    "ProductID": "322",
                                    "ProductName": "Chainring"
                                },
                                {
                                    "ProductID": "323",
                                    "ProductName": "Crown Race"
                                },
                                {
                                    "ProductID": "324",
                                    "ProductName": "Chain Stays"
                                },
                                {
                                    "ProductID": "325",
                                    "ProductName": "Decal 1"
                                },
                                {
                                    "ProductID": "326",
                                    "ProductName": "Decal 2"
                                },
                                {
                                    "ProductID": "327",
                                    "ProductName": "Down Tube"
                                },
                                {
                                    "ProductID": "328",
                                    "ProductName": "Mountain End Caps"
                                },
                                {
                                    "ProductID": "329",
                                    "ProductName": "Road End Caps"
                                },
                                {
                                    "ProductID": "330",
                                    "ProductName": "Touring End Caps"
                                },
                                {
                                    "ProductID": "331",
                                    "ProductName": "Fork End"
                                },
                                {
                                    "ProductID": "332",
                                    "ProductName": "Freewheel"
                                },
                                {
                                    "ProductID": "341",
                                    "ProductName": "Flat Washer 1"
                                },
                                {
                                    "ProductID": "342",
                                    "ProductName": "Flat Washer 6"
                                },
                                {
                                    "ProductID": "343",
                                    "ProductName": "Flat Washer 2"
                                },
                                {
                                    "ProductID": "344",
                                    "ProductName": "Flat Washer 9"
                                },
                                {
                                    "ProductID": "345",
                                    "ProductName": "Flat Washer 4"
                                },
                                {
                                    "ProductID": "346",
                                    "ProductName": "Flat Washer 3"
                                },
                                {
                                    "ProductID": "347",
                                    "ProductName": "Flat Washer 8"
                                },
                                {
                                    "ProductID": "348",
                                    "ProductName": "Flat Washer 5"
                                },
                                {
                                    "ProductID": "349",
                                    "ProductName": "Flat Washer 7"
                                },
                                {
                                    "ProductID": "350",
                                    "ProductName": "Fork Crown"
                                },
                                {
                                    "ProductID": "351",
                                    "ProductName": "Front Derailleur Cage"
                                },
                                {
                                    "ProductID": "352",
                                    "ProductName": "Front Derailleur Linkage"
                                },
                                {
                                    "ProductID": "355",
                                    "ProductName": "Guide Pulley"
                                },
                                {
                                    "ProductID": "356",
                                    "ProductName": "LL Grip Tape"
                                },
                                {
                                    "ProductID": "357",
                                    "ProductName": "ML Grip Tape"
                                },
                                {
                                    "ProductID": "358",
                                    "ProductName": "HL Grip Tape"
                                },
                                {
                                    "ProductID": "359",
                                    "ProductName": "Thin-Jam Hex Nut 9"
                                },
                                {
                                    "ProductID": "360",
                                    "ProductName": "Thin-Jam Hex Nut 10"
                                },
                                {
                                    "ProductID": "361",
                                    "ProductName": "Thin-Jam Hex Nut 1"
                                },
                                {
                                    "ProductID": "362",
                                    "ProductName": "Thin-Jam Hex Nut 2"
                                },
                                {
                                    "ProductID": "363",
                                    "ProductName": "Thin-Jam Hex Nut 15"
                                },
                                {
                                    "ProductID": "364",
                                    "ProductName": "Thin-Jam Hex Nut 16"
                                },
                                {
                                    "ProductID": "365",
                                    "ProductName": "Thin-Jam Hex Nut 5"
                                },
                                {
                                    "ProductID": "366",
                                    "ProductName": "Thin-Jam Hex Nut 6"
                                },
                                {
                                    "ProductID": "367",
                                    "ProductName": "Thin-Jam Hex Nut 3"
                                },
                                {
                                    "ProductID": "368",
                                    "ProductName": "Thin-Jam Hex Nut 4"
                                },
                                {
                                    "ProductID": "369",
                                    "ProductName": "Thin-Jam Hex Nut 13"
                                },
                                {
                                    "ProductID": "370",
                                    "ProductName": "Thin-Jam Hex Nut 14"
                                },
                                {
                                    "ProductID": "371",
                                    "ProductName": "Thin-Jam Hex Nut 7"
                                },
                                {
                                    "ProductID": "372",
                                    "ProductName": "Thin-Jam Hex Nut 8"
                                },
                                {
                                    "ProductID": "373",
                                    "ProductName": "Thin-Jam Hex Nut 12"
                                },
                                {
                                    "ProductID": "374",
                                    "ProductName": "Thin-Jam Hex Nut 11"
                                },
                                {
                                    "ProductID": "375",
                                    "ProductName": "Hex Nut 5"
                                },
                                {
                                    "ProductID": "376",
                                    "ProductName": "Hex Nut 6"
                                },
                                {
                                    "ProductID": "377",
                                    "ProductName": "Hex Nut 16"
                                },
                                {
                                    "ProductID": "378",
                                    "ProductName": "Hex Nut 17"
                                },
                                {
                                    "ProductID": "379",
                                    "ProductName": "Hex Nut 7"
                                },
                                {
                                    "ProductID": "380",
                                    "ProductName": "Hex Nut 8"
                                },
                                {
                                    "ProductID": "381",
                                    "ProductName": "Hex Nut 9"
                                },
                                {
                                    "ProductID": "382",
                                    "ProductName": "Hex Nut 22"
                                },
                                {
                                    "ProductID": "383",
                                    "ProductName": "Hex Nut 23"
                                },
                                {
                                    "ProductID": "384",
                                    "ProductName": "Hex Nut 12"
                                },
                                {
                                    "ProductID": "385",
                                    "ProductName": "Hex Nut 13"
                                },
                                {
                                    "ProductID": "386",
                                    "ProductName": "Hex Nut 1"
                                },
                                {
                                    "ProductID": "387",
                                    "ProductName": "Hex Nut 10"
                                },
                                {
                                    "ProductID": "388",
                                    "ProductName": "Hex Nut 11"
                                },
                                {
                                    "ProductID": "389",
                                    "ProductName": "Hex Nut 2"
                                },
                                {
                                    "ProductID": "390",
                                    "ProductName": "Hex Nut 20"
                                },
                                {
                                    "ProductID": "391",
                                    "ProductName": "Hex Nut 21"
                                },
                                {
                                    "ProductID": "392",
                                    "ProductName": "Hex Nut 3"
                                },
                                {
                                    "ProductID": "393",
                                    "ProductName": "Hex Nut 14"
                                },
                                {
                                    "ProductID": "394",
                                    "ProductName": "Hex Nut 15"
                                },
                                {
                                    "ProductID": "395",
                                    "ProductName": "Hex Nut 4"
                                },
                                {
                                    "ProductID": "396",
                                    "ProductName": "Hex Nut 18"
                                },
                                {
                                    "ProductID": "397",
                                    "ProductName": "Hex Nut 19"
                                },
                                {
                                    "ProductID": "398",
                                    "ProductName": "Handlebar Tube"
                                },
                                {
                                    "ProductID": "399",
                                    "ProductName": "Head Tube"
                                },
                                {
                                    "ProductID": "400",
                                    "ProductName": "LL Hub"
                                },
                                {
                                    "ProductID": "401",
                                    "ProductName": "HL Hub"
                                },
                                {
                                    "ProductID": "402",
                                    "ProductName": "Keyed Washer"
                                },
                                {
                                    "ProductID": "403",
                                    "ProductName": "External Lock Washer 3"
                                },
                                {
                                    "ProductID": "404",
                                    "ProductName": "External Lock Washer 4"
                                },
                                {
                                    "ProductID": "405",
                                    "ProductName": "External Lock Washer 9"
                                },
                                {
                                    "ProductID": "406",
                                    "ProductName": "External Lock Washer 5"
                                },
                                {
                                    "ProductID": "407",
                                    "ProductName": "External Lock Washer 7"
                                },
                                {
                                    "ProductID": "408",
                                    "ProductName": "External Lock Washer 6"
                                },
                                {
                                    "ProductID": "409",
                                    "ProductName": "External Lock Washer 1"
                                },
                                {
                                    "ProductID": "410",
                                    "ProductName": "External Lock Washer 8"
                                },
                                {
                                    "ProductID": "411",
                                    "ProductName": "External Lock Washer 2"
                                },
                                {
                                    "ProductID": "412",
                                    "ProductName": "Internal Lock Washer 3"
                                },
                                {
                                    "ProductID": "413",
                                    "ProductName": "Internal Lock Washer 4"
                                },
                                {
                                    "ProductID": "414",
                                    "ProductName": "Internal Lock Washer 9"
                                },
                                {
                                    "ProductID": "415",
                                    "ProductName": "Internal Lock Washer 5"
                                },
                                {
                                    "ProductID": "416",
                                    "ProductName": "Internal Lock Washer 7"
                                },
                                {
                                    "ProductID": "417",
                                    "ProductName": "Internal Lock Washer 6"
                                },
                                {
                                    "ProductID": "418",
                                    "ProductName": "Internal Lock Washer 10"
                                },
                                {
                                    "ProductID": "419",
                                    "ProductName": "Internal Lock Washer 1"
                                },
                                {
                                    "ProductID": "420",
                                    "ProductName": "Internal Lock Washer 8"
                                },
                                {
                                    "ProductID": "421",
                                    "ProductName": "Internal Lock Washer 2"
                                },
                                {
                                    "ProductID": "422",
                                    "ProductName": "Thin-Jam Lock Nut 9"
                                },
                                {
                                    "ProductID": "423",
                                    "ProductName": "Thin-Jam Lock Nut 10"
                                },
                                {
                                    "ProductID": "424",
                                    "ProductName": "Thin-Jam Lock Nut 1"
                                },
                                {
                                    "ProductID": "425",
                                    "ProductName": "Thin-Jam Lock Nut 2"
                                },
                                {
                                    "ProductID": "426",
                                    "ProductName": "Thin-Jam Lock Nut 15"
                                },
                                {
                                    "ProductID": "427",
                                    "ProductName": "Thin-Jam Lock Nut 16"
                                },
                                {
                                    "ProductID": "428",
                                    "ProductName": "Thin-Jam Lock Nut 5"
                                },
                                {
                                    "ProductID": "429",
                                    "ProductName": "Thin-Jam Lock Nut 6"
                                },
                                {
                                    "ProductID": "430",
                                    "ProductName": "Thin-Jam Lock Nut 3"
                                },
                                {
                                    "ProductID": "431",
                                    "ProductName": "Thin-Jam Lock Nut 4"
                                },
                                {
                                    "ProductID": "432",
                                    "ProductName": "Thin-Jam Lock Nut 13"
                                },
                                {
                                    "ProductID": "433",
                                    "ProductName": "Thin-Jam Lock Nut 14"
                                },
                                {
                                    "ProductID": "434",
                                    "ProductName": "Thin-Jam Lock Nut 7"
                                },
                                {
                                    "ProductID": "435",
                                    "ProductName": "Thin-Jam Lock Nut 8"
                                },
                                {
                                    "ProductID": "436",
                                    "ProductName": "Thin-Jam Lock Nut 12"
                                },
                                {
                                    "ProductID": "437",
                                    "ProductName": "Thin-Jam Lock Nut 11"
                                },
                                {
                                    "ProductID": "438",
                                    "ProductName": "Lock Nut 5"
                                },
                                {
                                    "ProductID": "439",
                                    "ProductName": "Lock Nut 6"
                                },
                                {
                                    "ProductID": "440",
                                    "ProductName": "Lock Nut 16"
                                },
                                {
                                    "ProductID": "441",
                                    "ProductName": "Lock Nut 17"
                                },
                                {
                                    "ProductID": "442",
                                    "ProductName": "Lock Nut 7"
                                },
                                {
                                    "ProductID": "443",
                                    "ProductName": "Lock Nut 8"
                                },
                                {
                                    "ProductID": "444",
                                    "ProductName": "Lock Nut 9"
                                },
                                {
                                    "ProductID": "445",
                                    "ProductName": "Lock Nut 22"
                                },
                                {
                                    "ProductID": "446",
                                    "ProductName": "Lock Nut 23"
                                },
                                {
                                    "ProductID": "447",
                                    "ProductName": "Lock Nut 12"
                                },
                                {
                                    "ProductID": "448",
                                    "ProductName": "Lock Nut 13"
                                },
                                {
                                    "ProductID": "449",
                                    "ProductName": "Lock Nut 1"
                                },
                                {
                                    "ProductID": "450",
                                    "ProductName": "Lock Nut 10"
                                },
                                {
                                    "ProductID": "451",
                                    "ProductName": "Lock Nut 11"
                                },
                                {
                                    "ProductID": "452",
                                    "ProductName": "Lock Nut 2"
                                },
                                {
                                    "ProductID": "453",
                                    "ProductName": "Lock Nut 20"
                                },
                                {
                                    "ProductID": "454",
                                    "ProductName": "Lock Nut 21"
                                },
                                {
                                    "ProductID": "455",
                                    "ProductName": "Lock Nut 3"
                                },
                                {
                                    "ProductID": "456",
                                    "ProductName": "Lock Nut 14"
                                },
                                {
                                    "ProductID": "457",
                                    "ProductName": "Lock Nut 15"
                                },
                                {
                                    "ProductID": "458",
                                    "ProductName": "Lock Nut 4"
                                },
                                {
                                    "ProductID": "459",
                                    "ProductName": "Lock Nut 19"
                                },
                                {
                                    "ProductID": "460",
                                    "ProductName": "Lock Nut 18"
                                },
                                {
                                    "ProductID": "461",
                                    "ProductName": "Lock Ring"
                                },
                                {
                                    "ProductID": "462",
                                    "ProductName": "Lower Head Race"
                                },
                                {
                                    "ProductID": "463",
                                    "ProductName": "Lock Washer 4"
                                },
                                {
                                    "ProductID": "464",
                                    "ProductName": "Lock Washer 5"
                                },
                                {
                                    "ProductID": "465",
                                    "ProductName": "Lock Washer 10"
                                },
                                {
                                    "ProductID": "466",
                                    "ProductName": "Lock Washer 6"
                                },
                                {
                                    "ProductID": "467",
                                    "ProductName": "Lock Washer 13"
                                },
                                {
                                    "ProductID": "468",
                                    "ProductName": "Lock Washer 8"
                                },
                                {
                                    "ProductID": "469",
                                    "ProductName": "Lock Washer 1"
                                },
                                {
                                    "ProductID": "470",
                                    "ProductName": "Lock Washer 7"
                                },
                                {
                                    "ProductID": "471",
                                    "ProductName": "Lock Washer 12"
                                },
                                {
                                    "ProductID": "472",
                                    "ProductName": "Lock Washer 2"
                                },
                                {
                                    "ProductID": "473",
                                    "ProductName": "Lock Washer 9"
                                },
                                {
                                    "ProductID": "474",
                                    "ProductName": "Lock Washer 3"
                                },
                                {
                                    "ProductID": "475",
                                    "ProductName": "Lock Washer 11"
                                },
                                {
                                    "ProductID": "476",
                                    "ProductName": "Metal Angle"
                                },
                                {
                                    "ProductID": "477",
                                    "ProductName": "Metal Bar 1"
                                },
                                {
                                    "ProductID": "478",
                                    "ProductName": "Metal Bar 2"
                                },
                                {
                                    "ProductID": "479",
                                    "ProductName": "Metal Plate 2"
                                },
                                {
                                    "ProductID": "480",
                                    "ProductName": "Metal Plate 1"
                                },
                                {
                                    "ProductID": "481",
                                    "ProductName": "Metal Plate 3"
                                },
                                {
                                    "ProductID": "482",
                                    "ProductName": "Metal Sheet 2"
                                },
                                {
                                    "ProductID": "483",
                                    "ProductName": "Metal Sheet 3"
                                },
                                {
                                    "ProductID": "484",
                                    "ProductName": "Metal Sheet 7"
                                },
                                {
                                    "ProductID": "485",
                                    "ProductName": "Metal Sheet 4"
                                },
                                {
                                    "ProductID": "486",
                                    "ProductName": "Metal Sheet 5"
                                },
                                {
                                    "ProductID": "487",
                                    "ProductName": "Metal Sheet 6"
                                },
                                {
                                    "ProductID": "488",
                                    "ProductName": "Metal Sheet 1"
                                },
                                {
                                    "ProductID": "489",
                                    "ProductName": "Metal Tread Plate"
                                },
                                {
                                    "ProductID": "490",
                                    "ProductName": "LL Nipple"
                                },
                                {
                                    "ProductID": "491",
                                    "ProductName": "HL Nipple"
                                },
                                {
                                    "ProductID": "492",
                                    "ProductName": "Paint - Black"
                                },
                                {
                                    "ProductID": "493",
                                    "ProductName": "Paint - Red"
                                },
                                {
                                    "ProductID": "494",
                                    "ProductName": "Paint - Silver"
                                },
                                {
                                    "ProductID": "495",
                                    "ProductName": "Paint - Blue"
                                },
                                {
                                    "ProductID": "496",
                                    "ProductName": "Paint - Yellow"
                                },
                                {
                                    "ProductID": "497",
                                    "ProductName": "Pinch Bolt"
                                },
                                {
                                    "ProductID": "504",
                                    "ProductName": "Cup-Shaped Race"
                                },
                                {
                                    "ProductID": "505",
                                    "ProductName": "Cone-Shaped Race"
                                },
                                {
                                    "ProductID": "506",
                                    "ProductName": "Reflector"
                                },
                                {
                                    "ProductID": "507",
                                    "ProductName": "LL Mountain Rim"
                                },
                                {
                                    "ProductID": "508",
                                    "ProductName": "ML Mountain Rim"
                                },
                                {
                                    "ProductID": "509",
                                    "ProductName": "HL Mountain Rim"
                                },
                                {
                                    "ProductID": "510",
                                    "ProductName": "LL Road Rim"
                                },
                                {
                                    "ProductID": "511",
                                    "ProductName": "ML Road Rim"
                                },
                                {
                                    "ProductID": "512",
                                    "ProductName": "HL Road Rim"
                                },
                                {
                                    "ProductID": "513",
                                    "ProductName": "Touring Rim"
                                },
                                {
                                    "ProductID": "514",
                                    "ProductName": "LL Mountain Seat Assembly"
                                },
                                {
                                    "ProductID": "515",
                                    "ProductName": "ML Mountain Seat Assembly"
                                },
                                {
                                    "ProductID": "516",
                                    "ProductName": "HL Mountain Seat Assembly"
                                },
                                {
                                    "ProductID": "517",
                                    "ProductName": "LL Road Seat Assembly"
                                },
                                {
                                    "ProductID": "518",
                                    "ProductName": "ML Road Seat Assembly"
                                },
                                {
                                    "ProductID": "519",
                                    "ProductName": "HL Road Seat Assembly"
                                },
                                {
                                    "ProductID": "520",
                                    "ProductName": "LL Touring Seat Assembly"
                                },
                                {
                                    "ProductID": "521",
                                    "ProductName": "ML Touring Seat Assembly"
                                },
                                {
                                    "ProductID": "522",
                                    "ProductName": "HL Touring Seat Assembly"
                                },
                                {
                                    "ProductID": "523",
                                    "ProductName": "LL Spindle/Axle"
                                },
                                {
                                    "ProductID": "524",
                                    "ProductName": "HL Spindle/Axle"
                                },
                                {
                                    "ProductID": "525",
                                    "ProductName": "LL Shell"
                                },
                                {
                                    "ProductID": "526",
                                    "ProductName": "HL Shell"
                                },
                                {
                                    "ProductID": "527",
                                    "ProductName": "Spokes"
                                },
                                {
                                    "ProductID": "528",
                                    "ProductName": "Seat Lug"
                                },
                                {
                                    "ProductID": "529",
                                    "ProductName": "Stem"
                                },
                                {
                                    "ProductID": "530",
                                    "ProductName": "Seat Post"
                                },
                                {
                                    "ProductID": "531",
                                    "ProductName": "Steerer"
                                },
                                {
                                    "ProductID": "532",
                                    "ProductName": "Seat Stays"
                                },
                                {
                                    "ProductID": "533",
                                    "ProductName": "Seat Tube"
                                },
                                {
                                    "ProductID": "534",
                                    "ProductName": "Top Tube"
                                },
                                {
                                    "ProductID": "535",
                                    "ProductName": "Tension Pulley"
                                },
                                {
                                    "ProductID": "679",
                                    "ProductName": "Rear Derailleur Cage"
                                },
                                {
                                    "ProductID": "803",
                                    "ProductName": "ML Fork"
                                },
                                {
                                    "ProductID": "812",
                                    "ProductName": "ML Road Handlebars"
                                },
                                {
                                    "ProductID": "818",
                                    "ProductName": "LL Road Front Wheel"
                                },
                                {
                                    "ProductID": "821",
                                    "ProductName": "Touring Front Wheel"
                                },
                                {
                                    "ProductID": "829",
                                    "ProductName": "Touring Rear Wheel"
                                },
                                {
                                    "ProductID": "842",
                                    "ProductName": "Touring-Panniers, Large"
                                },
                                {
                                    "ProductID": "845",
                                    "ProductName": "Mountain Pump"
                                },
                                {
                                    "ProductID": "846",
                                    "ProductName": "Taillights - Battery-Powered"
                                },
                                {
                                    "ProductID": "847",
                                    "ProductName": "Headlights - Dual-Beam"
                                },
                                {
                                    "ProductID": "848",
                                    "ProductName": "Headlights - Weatherproof"
                                },
                                {
                                    "ProductID": "851",
                                    "ProductName": "Men's Sports Shorts, XL"
                                },
                                {
                                    "ProductID": "912",
                                    "ProductName": "ML Road Seat/Saddle"
                                },
                                {
                                    "ProductID": "995",
                                    "ProductName": "ML Bottom Bracket"
                                }
                            ]
                        },
                        "text/html": [
                            "<table>",
                            "<tr><th>ProductID</th><th>ProductName</th></tr>",
                            "<tr><td>1</td><td>Adjustable Race</td></tr>",
                            "<tr><td>2</td><td>Bearing Ball</td></tr>",
                            "<tr><td>3</td><td>BB Ball Bearing</td></tr>",
                            "<tr><td>4</td><td>Headset Ball Bearings</td></tr>",
                            "<tr><td>316</td><td>Blade</td></tr>",
                            "<tr><td>317</td><td>LL Crankarm</td></tr>",
                            "<tr><td>318</td><td>ML Crankarm</td></tr>",
                            "<tr><td>319</td><td>HL Crankarm</td></tr>",
                            "<tr><td>320</td><td>Chainring Bolts</td></tr>",
                            "<tr><td>321</td><td>Chainring Nut</td></tr>",
                            "<tr><td>322</td><td>Chainring</td></tr>",
                            "<tr><td>323</td><td>Crown Race</td></tr>",
                            "<tr><td>324</td><td>Chain Stays</td></tr>",
                            "<tr><td>325</td><td>Decal 1</td></tr>",
                            "<tr><td>326</td><td>Decal 2</td></tr>",
                            "<tr><td>327</td><td>Down Tube</td></tr>",
                            "<tr><td>328</td><td>Mountain End Caps</td></tr>",
                            "<tr><td>329</td><td>Road End Caps</td></tr>",
                            "<tr><td>330</td><td>Touring End Caps</td></tr>",
                            "<tr><td>331</td><td>Fork End</td></tr>",
                            "<tr><td>332</td><td>Freewheel</td></tr>",
                            "<tr><td>341</td><td>Flat Washer 1</td></tr>",
                            "<tr><td>342</td><td>Flat Washer 6</td></tr>",
                            "<tr><td>343</td><td>Flat Washer 2</td></tr>",
                            "<tr><td>344</td><td>Flat Washer 9</td></tr>",
                            "<tr><td>345</td><td>Flat Washer 4</td></tr>",
                            "<tr><td>346</td><td>Flat Washer 3</td></tr>",
                            "<tr><td>347</td><td>Flat Washer 8</td></tr>",
                            "<tr><td>348</td><td>Flat Washer 5</td></tr>",
                            "<tr><td>349</td><td>Flat Washer 7</td></tr>",
                            "<tr><td>350</td><td>Fork Crown</td></tr>",
                            "<tr><td>351</td><td>Front Derailleur Cage</td></tr>",
                            "<tr><td>352</td><td>Front Derailleur Linkage</td></tr>",
                            "<tr><td>355</td><td>Guide Pulley</td></tr>",
                            "<tr><td>356</td><td>LL Grip Tape</td></tr>",
                            "<tr><td>357</td><td>ML Grip Tape</td></tr>",
                            "<tr><td>358</td><td>HL Grip Tape</td></tr>",
                            "<tr><td>359</td><td>Thin-Jam Hex Nut 9</td></tr>",
                            "<tr><td>360</td><td>Thin-Jam Hex Nut 10</td></tr>",
                            "<tr><td>361</td><td>Thin-Jam Hex Nut 1</td></tr>",
                            "<tr><td>362</td><td>Thin-Jam Hex Nut 2</td></tr>",
                            "<tr><td>363</td><td>Thin-Jam Hex Nut 15</td></tr>",
                            "<tr><td>364</td><td>Thin-Jam Hex Nut 16</td></tr>",
                            "<tr><td>365</td><td>Thin-Jam Hex Nut 5</td></tr>",
                            "<tr><td>366</td><td>Thin-Jam Hex Nut 6</td></tr>",
                            "<tr><td>367</td><td>Thin-Jam Hex Nut 3</td></tr>",
                            "<tr><td>368</td><td>Thin-Jam Hex Nut 4</td></tr>",
                            "<tr><td>369</td><td>Thin-Jam Hex Nut 13</td></tr>",
                            "<tr><td>370</td><td>Thin-Jam Hex Nut 14</td></tr>",
                            "<tr><td>371</td><td>Thin-Jam Hex Nut 7</td></tr>",
                            "<tr><td>372</td><td>Thin-Jam Hex Nut 8</td></tr>",
                            "<tr><td>373</td><td>Thin-Jam Hex Nut 12</td></tr>",
                            "<tr><td>374</td><td>Thin-Jam Hex Nut 11</td></tr>",
                            "<tr><td>375</td><td>Hex Nut 5</td></tr>",
                            "<tr><td>376</td><td>Hex Nut 6</td></tr>",
                            "<tr><td>377</td><td>Hex Nut 16</td></tr>",
                            "<tr><td>378</td><td>Hex Nut 17</td></tr>",
                            "<tr><td>379</td><td>Hex Nut 7</td></tr>",
                            "<tr><td>380</td><td>Hex Nut 8</td></tr>",
                            "<tr><td>381</td><td>Hex Nut 9</td></tr>",
                            "<tr><td>382</td><td>Hex Nut 22</td></tr>",
                            "<tr><td>383</td><td>Hex Nut 23</td></tr>",
                            "<tr><td>384</td><td>Hex Nut 12</td></tr>",
                            "<tr><td>385</td><td>Hex Nut 13</td></tr>",
                            "<tr><td>386</td><td>Hex Nut 1</td></tr>",
                            "<tr><td>387</td><td>Hex Nut 10</td></tr>",
                            "<tr><td>388</td><td>Hex Nut 11</td></tr>",
                            "<tr><td>389</td><td>Hex Nut 2</td></tr>",
                            "<tr><td>390</td><td>Hex Nut 20</td></tr>",
                            "<tr><td>391</td><td>Hex Nut 21</td></tr>",
                            "<tr><td>392</td><td>Hex Nut 3</td></tr>",
                            "<tr><td>393</td><td>Hex Nut 14</td></tr>",
                            "<tr><td>394</td><td>Hex Nut 15</td></tr>",
                            "<tr><td>395</td><td>Hex Nut 4</td></tr>",
                            "<tr><td>396</td><td>Hex Nut 18</td></tr>",
                            "<tr><td>397</td><td>Hex Nut 19</td></tr>",
                            "<tr><td>398</td><td>Handlebar Tube</td></tr>",
                            "<tr><td>399</td><td>Head Tube</td></tr>",
                            "<tr><td>400</td><td>LL Hub</td></tr>",
                            "<tr><td>401</td><td>HL Hub</td></tr>",
                            "<tr><td>402</td><td>Keyed Washer</td></tr>",
                            "<tr><td>403</td><td>External Lock Washer 3</td></tr>",
                            "<tr><td>404</td><td>External Lock Washer 4</td></tr>",
                            "<tr><td>405</td><td>External Lock Washer 9</td></tr>",
                            "<tr><td>406</td><td>External Lock Washer 5</td></tr>",
                            "<tr><td>407</td><td>External Lock Washer 7</td></tr>",
                            "<tr><td>408</td><td>External Lock Washer 6</td></tr>",
                            "<tr><td>409</td><td>External Lock Washer 1</td></tr>",
                            "<tr><td>410</td><td>External Lock Washer 8</td></tr>",
                            "<tr><td>411</td><td>External Lock Washer 2</td></tr>",
                            "<tr><td>412</td><td>Internal Lock Washer 3</td></tr>",
                            "<tr><td>413</td><td>Internal Lock Washer 4</td></tr>",
                            "<tr><td>414</td><td>Internal Lock Washer 9</td></tr>",
                            "<tr><td>415</td><td>Internal Lock Washer 5</td></tr>",
                            "<tr><td>416</td><td>Internal Lock Washer 7</td></tr>",
                            "<tr><td>417</td><td>Internal Lock Washer 6</td></tr>",
                            "<tr><td>418</td><td>Internal Lock Washer 10</td></tr>",
                            "<tr><td>419</td><td>Internal Lock Washer 1</td></tr>",
                            "<tr><td>420</td><td>Internal Lock Washer 8</td></tr>",
                            "<tr><td>421</td><td>Internal Lock Washer 2</td></tr>",
                            "<tr><td>422</td><td>Thin-Jam Lock Nut 9</td></tr>",
                            "<tr><td>423</td><td>Thin-Jam Lock Nut 10</td></tr>",
                            "<tr><td>424</td><td>Thin-Jam Lock Nut 1</td></tr>",
                            "<tr><td>425</td><td>Thin-Jam Lock Nut 2</td></tr>",
                            "<tr><td>426</td><td>Thin-Jam Lock Nut 15</td></tr>",
                            "<tr><td>427</td><td>Thin-Jam Lock Nut 16</td></tr>",
                            "<tr><td>428</td><td>Thin-Jam Lock Nut 5</td></tr>",
                            "<tr><td>429</td><td>Thin-Jam Lock Nut 6</td></tr>",
                            "<tr><td>430</td><td>Thin-Jam Lock Nut 3</td></tr>",
                            "<tr><td>431</td><td>Thin-Jam Lock Nut 4</td></tr>",
                            "<tr><td>432</td><td>Thin-Jam Lock Nut 13</td></tr>",
                            "<tr><td>433</td><td>Thin-Jam Lock Nut 14</td></tr>",
                            "<tr><td>434</td><td>Thin-Jam Lock Nut 7</td></tr>",
                            "<tr><td>435</td><td>Thin-Jam Lock Nut 8</td></tr>",
                            "<tr><td>436</td><td>Thin-Jam Lock Nut 12</td></tr>",
                            "<tr><td>437</td><td>Thin-Jam Lock Nut 11</td></tr>",
                            "<tr><td>438</td><td>Lock Nut 5</td></tr>",
                            "<tr><td>439</td><td>Lock Nut 6</td></tr>",
                            "<tr><td>440</td><td>Lock Nut 16</td></tr>",
                            "<tr><td>441</td><td>Lock Nut 17</td></tr>",
                            "<tr><td>442</td><td>Lock Nut 7</td></tr>",
                            "<tr><td>443</td><td>Lock Nut 8</td></tr>",
                            "<tr><td>444</td><td>Lock Nut 9</td></tr>",
                            "<tr><td>445</td><td>Lock Nut 22</td></tr>",
                            "<tr><td>446</td><td>Lock Nut 23</td></tr>",
                            "<tr><td>447</td><td>Lock Nut 12</td></tr>",
                            "<tr><td>448</td><td>Lock Nut 13</td></tr>",
                            "<tr><td>449</td><td>Lock Nut 1</td></tr>",
                            "<tr><td>450</td><td>Lock Nut 10</td></tr>",
                            "<tr><td>451</td><td>Lock Nut 11</td></tr>",
                            "<tr><td>452</td><td>Lock Nut 2</td></tr>",
                            "<tr><td>453</td><td>Lock Nut 20</td></tr>",
                            "<tr><td>454</td><td>Lock Nut 21</td></tr>",
                            "<tr><td>455</td><td>Lock Nut 3</td></tr>",
                            "<tr><td>456</td><td>Lock Nut 14</td></tr>",
                            "<tr><td>457</td><td>Lock Nut 15</td></tr>",
                            "<tr><td>458</td><td>Lock Nut 4</td></tr>",
                            "<tr><td>459</td><td>Lock Nut 19</td></tr>",
                            "<tr><td>460</td><td>Lock Nut 18</td></tr>",
                            "<tr><td>461</td><td>Lock Ring</td></tr>",
                            "<tr><td>462</td><td>Lower Head Race</td></tr>",
                            "<tr><td>463</td><td>Lock Washer 4</td></tr>",
                            "<tr><td>464</td><td>Lock Washer 5</td></tr>",
                            "<tr><td>465</td><td>Lock Washer 10</td></tr>",
                            "<tr><td>466</td><td>Lock Washer 6</td></tr>",
                            "<tr><td>467</td><td>Lock Washer 13</td></tr>",
                            "<tr><td>468</td><td>Lock Washer 8</td></tr>",
                            "<tr><td>469</td><td>Lock Washer 1</td></tr>",
                            "<tr><td>470</td><td>Lock Washer 7</td></tr>",
                            "<tr><td>471</td><td>Lock Washer 12</td></tr>",
                            "<tr><td>472</td><td>Lock Washer 2</td></tr>",
                            "<tr><td>473</td><td>Lock Washer 9</td></tr>",
                            "<tr><td>474</td><td>Lock Washer 3</td></tr>",
                            "<tr><td>475</td><td>Lock Washer 11</td></tr>",
                            "<tr><td>476</td><td>Metal Angle</td></tr>",
                            "<tr><td>477</td><td>Metal Bar 1</td></tr>",
                            "<tr><td>478</td><td>Metal Bar 2</td></tr>",
                            "<tr><td>479</td><td>Metal Plate 2</td></tr>",
                            "<tr><td>480</td><td>Metal Plate 1</td></tr>",
                            "<tr><td>481</td><td>Metal Plate 3</td></tr>",
                            "<tr><td>482</td><td>Metal Sheet 2</td></tr>",
                            "<tr><td>483</td><td>Metal Sheet 3</td></tr>",
                            "<tr><td>484</td><td>Metal Sheet 7</td></tr>",
                            "<tr><td>485</td><td>Metal Sheet 4</td></tr>",
                            "<tr><td>486</td><td>Metal Sheet 5</td></tr>",
                            "<tr><td>487</td><td>Metal Sheet 6</td></tr>",
                            "<tr><td>488</td><td>Metal Sheet 1</td></tr>",
                            "<tr><td>489</td><td>Metal Tread Plate</td></tr>",
                            "<tr><td>490</td><td>LL Nipple</td></tr>",
                            "<tr><td>491</td><td>HL Nipple</td></tr>",
                            "<tr><td>492</td><td>Paint - Black</td></tr>",
                            "<tr><td>493</td><td>Paint - Red</td></tr>",
                            "<tr><td>494</td><td>Paint - Silver</td></tr>",
                            "<tr><td>495</td><td>Paint - Blue</td></tr>",
                            "<tr><td>496</td><td>Paint - Yellow</td></tr>",
                            "<tr><td>497</td><td>Pinch Bolt</td></tr>",
                            "<tr><td>504</td><td>Cup-Shaped Race</td></tr>",
                            "<tr><td>505</td><td>Cone-Shaped Race</td></tr>",
                            "<tr><td>506</td><td>Reflector</td></tr>",
                            "<tr><td>507</td><td>LL Mountain Rim</td></tr>",
                            "<tr><td>508</td><td>ML Mountain Rim</td></tr>",
                            "<tr><td>509</td><td>HL Mountain Rim</td></tr>",
                            "<tr><td>510</td><td>LL Road Rim</td></tr>",
                            "<tr><td>511</td><td>ML Road Rim</td></tr>",
                            "<tr><td>512</td><td>HL Road Rim</td></tr>",
                            "<tr><td>513</td><td>Touring Rim</td></tr>",
                            "<tr><td>514</td><td>LL Mountain Seat Assembly</td></tr>",
                            "<tr><td>515</td><td>ML Mountain Seat Assembly</td></tr>",
                            "<tr><td>516</td><td>HL Mountain Seat Assembly</td></tr>",
                            "<tr><td>517</td><td>LL Road Seat Assembly</td></tr>",
                            "<tr><td>518</td><td>ML Road Seat Assembly</td></tr>",
                            "<tr><td>519</td><td>HL Road Seat Assembly</td></tr>",
                            "<tr><td>520</td><td>LL Touring Seat Assembly</td></tr>",
                            "<tr><td>521</td><td>ML Touring Seat Assembly</td></tr>",
                            "<tr><td>522</td><td>HL Touring Seat Assembly</td></tr>",
                            "<tr><td>523</td><td>LL Spindle/Axle</td></tr>",
                            "<tr><td>524</td><td>HL Spindle/Axle</td></tr>",
                            "<tr><td>525</td><td>LL Shell</td></tr>",
                            "<tr><td>526</td><td>HL Shell</td></tr>",
                            "<tr><td>527</td><td>Spokes</td></tr>",
                            "<tr><td>528</td><td>Seat Lug</td></tr>",
                            "<tr><td>529</td><td>Stem</td></tr>",
                            "<tr><td>530</td><td>Seat Post</td></tr>",
                            "<tr><td>531</td><td>Steerer</td></tr>",
                            "<tr><td>532</td><td>Seat Stays</td></tr>",
                            "<tr><td>533</td><td>Seat Tube</td></tr>",
                            "<tr><td>534</td><td>Top Tube</td></tr>",
                            "<tr><td>535</td><td>Tension Pulley</td></tr>",
                            "<tr><td>679</td><td>Rear Derailleur Cage</td></tr>",
                            "<tr><td>803</td><td>ML Fork</td></tr>",
                            "<tr><td>812</td><td>ML Road Handlebars</td></tr>",
                            "<tr><td>818</td><td>LL Road Front Wheel</td></tr>",
                            "<tr><td>821</td><td>Touring Front Wheel</td></tr>",
                            "<tr><td>829</td><td>Touring Rear Wheel</td></tr>",
                            "<tr><td>842</td><td>Touring-Panniers, Large</td></tr>",
                            "<tr><td>845</td><td>Mountain Pump</td></tr>",
                            "<tr><td>846</td><td>Taillights - Battery-Powered</td></tr>",
                            "<tr><td>847</td><td>Headlights - Dual-Beam</td></tr>",
                            "<tr><td>848</td><td>Headlights - Weatherproof</td></tr>",
                            "<tr><td>851</td><td>Men&#39;s Sports Shorts, XL</td></tr>",
                            "<tr><td>912</td><td>ML Road Seat/Saddle</td></tr>",
                            "<tr><td>995</td><td>ML Bottom Bracket</td></tr>",
                            "</table>"
                        ]
                    }
                }
            ],
            "execution_count": 19
        },
        {
            "cell_type": "markdown",
            "source": [
                "Proposition 8: There are items which have a special offer on them, yet they aren't selling\n",
                "\n",
                "The query gets products that are part of a special offer, but have never been sold. The first select statement gets the product ID and names from the SpecialOfferProduct table and joins it with the Product table to include product details  \n",
                "\n",
                "The second select statement simply gets products that have been sold according to the SalesOrderDetail table and joining it to the product table\n",
                "\n",
                "The Except operator removes sold products from the first select statement leaving products that are on special offer but have never been purchased/sold"
            ],
            "metadata": {
                "azdata_cell_guid": "7aaf7614-af65-49bb-95a1-e553c15f50e6"
            },
            "attachments": {}
        },
        {
            "cell_type": "code",
            "source": [
                "USE AdventureWorks2019\n",
                "GO\n",
                "\n",
                "-- Products with special offers\n",
                "SELECT sp.ProductID, p.Name AS ProductName\n",
                "FROM Sales.SpecialOfferProduct sp\n",
                "JOIN Production.Product p ON sp.ProductID = p.ProductID\n",
                "\n",
                "EXCEPT\n",
                "\n",
                "-- Products that have been sold\n",
                "SELECT sod.ProductID, p.Name AS ProductName\n",
                "FROM Sales.SalesOrderDetail sod\n",
                "JOIN Production.Product p ON sod.ProductID = p.ProductID;"
            ],
            "metadata": {
                "azdata_cell_guid": "a103cd31-02c4-4f44-b511-cd934fba169e",
                "language": "sql"
            },
            "outputs": [
                {
                    "output_type": "display_data",
                    "data": {
                        "text/html": "Commands completed successfully."
                    },
                    "metadata": {}
                },
                {
                    "output_type": "display_data",
                    "data": {
                        "text/html": "(29 rows affected)"
                    },
                    "metadata": {}
                },
                {
                    "output_type": "display_data",
                    "data": {
                        "text/html": "Total execution time: 00:00:00.037"
                    },
                    "metadata": {}
                },
                {
                    "output_type": "execute_result",
                    "metadata": {},
                    "execution_count": 32,
                    "data": {
                        "application/vnd.dataresource+json": {
                            "schema": {
                                "fields": [
                                    {
                                        "name": "ProductID"
                                    },
                                    {
                                        "name": "ProductName"
                                    }
                                ]
                            },
                            "data": [
                                {
                                    "ProductID": "680",
                                    "ProductName": "HL Road Frame - Black, 58"
                                },
                                {
                                    "ProductID": "706",
                                    "ProductName": "HL Road Frame - Red, 58"
                                },
                                {
                                    "ProductID": "720",
                                    "ProductName": "HL Road Frame - Red, 52"
                                },
                                {
                                    "ProductID": "721",
                                    "ProductName": "HL Road Frame - Red, 56"
                                },
                                {
                                    "ProductID": "724",
                                    "ProductName": "LL Road Frame - Black, 62"
                                },
                                {
                                    "ProductID": "728",
                                    "ProductName": "LL Road Frame - Red, 58"
                                },
                                {
                                    "ProductID": "731",
                                    "ProductName": "ML Road Frame - Red, 44"
                                },
                                {
                                    "ProductID": "734",
                                    "ProductName": "ML Road Frame - Red, 58"
                                },
                                {
                                    "ProductID": "735",
                                    "ProductName": "ML Road Frame - Red, 60"
                                },
                                {
                                    "ProductID": "737",
                                    "ProductName": "LL Road Frame - Black, 48"
                                },
                                {
                                    "ProductID": "740",
                                    "ProductName": "HL Mountain Frame - Silver, 44"
                                },
                                {
                                    "ProductID": "746",
                                    "ProductName": "HL Mountain Frame - Black, 46"
                                },
                                {
                                    "ProductID": "803",
                                    "ProductName": "ML Fork"
                                },
                                {
                                    "ProductID": "812",
                                    "ProductName": "ML Road Handlebars"
                                },
                                {
                                    "ProductID": "818",
                                    "ProductName": "LL Road Front Wheel"
                                },
                                {
                                    "ProductID": "821",
                                    "ProductName": "Touring Front Wheel"
                                },
                                {
                                    "ProductID": "829",
                                    "ProductName": "Touring Rear Wheel"
                                },
                                {
                                    "ProductID": "834",
                                    "ProductName": "ML Road Frame-W - Yellow, 42"
                                },
                                {
                                    "ProductID": "837",
                                    "ProductName": "HL Road Frame - Black, 62"
                                },
                                {
                                    "ProductID": "840",
                                    "ProductName": "HL Road Frame - Black, 52"
                                },
                                {
                                    "ProductID": "842",
                                    "ProductName": "Touring-Panniers, Large"
                                },
                                {
                                    "ProductID": "845",
                                    "ProductName": "Mountain Pump"
                                },
                                {
                                    "ProductID": "846",
                                    "ProductName": "Taillights - Battery-Powered"
                                },
                                {
                                    "ProductID": "847",
                                    "ProductName": "Headlights - Dual-Beam"
                                },
                                {
                                    "ProductID": "848",
                                    "ProductName": "Headlights - Weatherproof"
                                },
                                {
                                    "ProductID": "851",
                                    "ProductName": "Men's Sports Shorts, XL"
                                },
                                {
                                    "ProductID": "901",
                                    "ProductName": "LL Touring Frame - Yellow, 54"
                                },
                                {
                                    "ProductID": "912",
                                    "ProductName": "ML Road Seat/Saddle"
                                },
                                {
                                    "ProductID": "995",
                                    "ProductName": "ML Bottom Bracket"
                                }
                            ]
                        },
                        "text/html": [
                            "<table>",
                            "<tr><th>ProductID</th><th>ProductName</th></tr>",
                            "<tr><td>680</td><td>HL Road Frame - Black, 58</td></tr>",
                            "<tr><td>706</td><td>HL Road Frame - Red, 58</td></tr>",
                            "<tr><td>720</td><td>HL Road Frame - Red, 52</td></tr>",
                            "<tr><td>721</td><td>HL Road Frame - Red, 56</td></tr>",
                            "<tr><td>724</td><td>LL Road Frame - Black, 62</td></tr>",
                            "<tr><td>728</td><td>LL Road Frame - Red, 58</td></tr>",
                            "<tr><td>731</td><td>ML Road Frame - Red, 44</td></tr>",
                            "<tr><td>734</td><td>ML Road Frame - Red, 58</td></tr>",
                            "<tr><td>735</td><td>ML Road Frame - Red, 60</td></tr>",
                            "<tr><td>737</td><td>LL Road Frame - Black, 48</td></tr>",
                            "<tr><td>740</td><td>HL Mountain Frame - Silver, 44</td></tr>",
                            "<tr><td>746</td><td>HL Mountain Frame - Black, 46</td></tr>",
                            "<tr><td>803</td><td>ML Fork</td></tr>",
                            "<tr><td>812</td><td>ML Road Handlebars</td></tr>",
                            "<tr><td>818</td><td>LL Road Front Wheel</td></tr>",
                            "<tr><td>821</td><td>Touring Front Wheel</td></tr>",
                            "<tr><td>829</td><td>Touring Rear Wheel</td></tr>",
                            "<tr><td>834</td><td>ML Road Frame-W - Yellow, 42</td></tr>",
                            "<tr><td>837</td><td>HL Road Frame - Black, 62</td></tr>",
                            "<tr><td>840</td><td>HL Road Frame - Black, 52</td></tr>",
                            "<tr><td>842</td><td>Touring-Panniers, Large</td></tr>",
                            "<tr><td>845</td><td>Mountain Pump</td></tr>",
                            "<tr><td>846</td><td>Taillights - Battery-Powered</td></tr>",
                            "<tr><td>847</td><td>Headlights - Dual-Beam</td></tr>",
                            "<tr><td>848</td><td>Headlights - Weatherproof</td></tr>",
                            "<tr><td>851</td><td>Men&#39;s Sports Shorts, XL</td></tr>",
                            "<tr><td>901</td><td>LL Touring Frame - Yellow, 54</td></tr>",
                            "<tr><td>912</td><td>ML Road Seat/Saddle</td></tr>",
                            "<tr><td>995</td><td>ML Bottom Bracket</td></tr>",
                            "</table>"
                        ]
                    }
                }
            ],
            "execution_count": 32
        },
        {
            "cell_type": "markdown",
            "source": [
                "Proposition 9: There items that have been sold, but according to inventory there are none left (they don't appear in product inventory table)\n",
                "\n",
                "The query essentially checks for items that are sold, but none are in inventory\n",
                "\n",
                "Join statements in both are allowing the merging of two tables focusing on the productID of each item used so that way we can pull out the information needed for each product (productID and Name are pulled)\n",
                "\n",
                "Except operator used to remove products that exist in inventory from the list of sold products, which leaves the items that have been sold, yet don't exist in our inventory"
            ],
            "metadata": {
                "azdata_cell_guid": "58dd766f-bc2c-4377-be5a-fc51a5ae7473"
            },
            "attachments": {}
        },
        {
            "cell_type": "code",
            "source": [
                "USE AdventureWorks2019\n",
                "GO\n",
                "--overall, query checks for inconsistencies where are products sold, but none in inventory\n",
                "--does not match what we have in inventory\n",
                "\n",
                "-- Products sold\n",
                "    SELECT sod.ProductID, p.Name AS ProductName\n",
                "    FROM Sales.SalesOrderDetail AS sod\n",
                "        JOIN Production.Product AS p\n",
                "        ON sod.ProductID = p.ProductID\n",
                "\n",
                "EXCEPT\n",
                "    --checks if the productID in the sales order detail table is located in our product inventory table\n",
                "\n",
                "    -- Products in inventory\n",
                "    SELECT pi.ProductID, p.Name AS ProductName\n",
                "    FROM Production.ProductInventory AS pi\n",
                "        JOIN Production.Product AS p \n",
                "        ON pi.ProductID = p.ProductID;"
            ],
            "metadata": {
                "azdata_cell_guid": "08fc9816-0663-420e-ab29-d09c2a2bd459",
                "language": "sql"
            },
            "outputs": [
                {
                    "output_type": "display_data",
                    "data": {
                        "text/html": "Commands completed successfully."
                    },
                    "metadata": {}
                },
                {
                    "output_type": "display_data",
                    "data": {
                        "text/html": "(56 rows affected)"
                    },
                    "metadata": {}
                },
                {
                    "output_type": "display_data",
                    "data": {
                        "text/html": "Total execution time: 00:00:00.085"
                    },
                    "metadata": {}
                },
                {
                    "output_type": "execute_result",
                    "metadata": {},
                    "execution_count": 33,
                    "data": {
                        "application/vnd.dataresource+json": {
                            "schema": {
                                "fields": [
                                    {
                                        "name": "ProductID"
                                    },
                                    {
                                        "name": "ProductName"
                                    }
                                ]
                            },
                            "data": [
                                {
                                    "ProductID": "717",
                                    "ProductName": "HL Road Frame - Red, 62"
                                },
                                {
                                    "ProductID": "718",
                                    "ProductName": "HL Road Frame - Red, 44"
                                },
                                {
                                    "ProductID": "719",
                                    "ProductName": "HL Road Frame - Red, 48"
                                },
                                {
                                    "ProductID": "722",
                                    "ProductName": "LL Road Frame - Black, 58"
                                },
                                {
                                    "ProductID": "723",
                                    "ProductName": "LL Road Frame - Black, 60"
                                },
                                {
                                    "ProductID": "725",
                                    "ProductName": "LL Road Frame - Red, 44"
                                },
                                {
                                    "ProductID": "726",
                                    "ProductName": "LL Road Frame - Red, 48"
                                },
                                {
                                    "ProductID": "727",
                                    "ProductName": "LL Road Frame - Red, 52"
                                },
                                {
                                    "ProductID": "729",
                                    "ProductName": "LL Road Frame - Red, 60"
                                },
                                {
                                    "ProductID": "730",
                                    "ProductName": "LL Road Frame - Red, 62"
                                },
                                {
                                    "ProductID": "732",
                                    "ProductName": "ML Road Frame - Red, 48"
                                },
                                {
                                    "ProductID": "733",
                                    "ProductName": "ML Road Frame - Red, 52"
                                },
                                {
                                    "ProductID": "736",
                                    "ProductName": "LL Road Frame - Black, 44"
                                },
                                {
                                    "ProductID": "738",
                                    "ProductName": "LL Road Frame - Black, 52"
                                },
                                {
                                    "ProductID": "739",
                                    "ProductName": "HL Mountain Frame - Silver, 42"
                                },
                                {
                                    "ProductID": "741",
                                    "ProductName": "HL Mountain Frame - Silver, 48"
                                },
                                {
                                    "ProductID": "742",
                                    "ProductName": "HL Mountain Frame - Silver, 46"
                                },
                                {
                                    "ProductID": "743",
                                    "ProductName": "HL Mountain Frame - Black, 42"
                                },
                                {
                                    "ProductID": "744",
                                    "ProductName": "HL Mountain Frame - Black, 44"
                                },
                                {
                                    "ProductID": "745",
                                    "ProductName": "HL Mountain Frame - Black, 48"
                                },
                                {
                                    "ProductID": "830",
                                    "ProductName": "ML Mountain Frame - Black, 40"
                                },
                                {
                                    "ProductID": "831",
                                    "ProductName": "ML Mountain Frame - Black, 44"
                                },
                                {
                                    "ProductID": "832",
                                    "ProductName": "ML Mountain Frame - Black, 48"
                                },
                                {
                                    "ProductID": "833",
                                    "ProductName": "ML Road Frame-W - Yellow, 40"
                                },
                                {
                                    "ProductID": "835",
                                    "ProductName": "ML Road Frame-W - Yellow, 44"
                                },
                                {
                                    "ProductID": "836",
                                    "ProductName": "ML Road Frame-W - Yellow, 48"
                                },
                                {
                                    "ProductID": "838",
                                    "ProductName": "HL Road Frame - Black, 44"
                                },
                                {
                                    "ProductID": "839",
                                    "ProductName": "HL Road Frame - Black, 48"
                                },
                                {
                                    "ProductID": "885",
                                    "ProductName": "HL Touring Frame - Yellow, 60"
                                },
                                {
                                    "ProductID": "886",
                                    "ProductName": "LL Touring Frame - Yellow, 62"
                                },
                                {
                                    "ProductID": "887",
                                    "ProductName": "HL Touring Frame - Yellow, 46"
                                },
                                {
                                    "ProductID": "888",
                                    "ProductName": "HL Touring Frame - Yellow, 50"
                                },
                                {
                                    "ProductID": "889",
                                    "ProductName": "HL Touring Frame - Yellow, 54"
                                },
                                {
                                    "ProductID": "890",
                                    "ProductName": "HL Touring Frame - Blue, 46"
                                },
                                {
                                    "ProductID": "891",
                                    "ProductName": "HL Touring Frame - Blue, 50"
                                },
                                {
                                    "ProductID": "892",
                                    "ProductName": "HL Touring Frame - Blue, 54"
                                },
                                {
                                    "ProductID": "893",
                                    "ProductName": "HL Touring Frame - Blue, 60"
                                },
                                {
                                    "ProductID": "895",
                                    "ProductName": "LL Touring Frame - Blue, 50"
                                },
                                {
                                    "ProductID": "896",
                                    "ProductName": "LL Touring Frame - Blue, 54"
                                },
                                {
                                    "ProductID": "897",
                                    "ProductName": "LL Touring Frame - Blue, 58"
                                },
                                {
                                    "ProductID": "898",
                                    "ProductName": "LL Touring Frame - Blue, 62"
                                },
                                {
                                    "ProductID": "899",
                                    "ProductName": "LL Touring Frame - Yellow, 44"
                                },
                                {
                                    "ProductID": "900",
                                    "ProductName": "LL Touring Frame - Yellow, 50"
                                },
                                {
                                    "ProductID": "902",
                                    "ProductName": "LL Touring Frame - Yellow, 58"
                                },
                                {
                                    "ProductID": "903",
                                    "ProductName": "LL Touring Frame - Blue, 44"
                                },
                                {
                                    "ProductID": "904",
                                    "ProductName": "ML Mountain Frame-W - Silver, 40"
                                },
                                {
                                    "ProductID": "905",
                                    "ProductName": "ML Mountain Frame-W - Silver, 42"
                                },
                                {
                                    "ProductID": "906",
                                    "ProductName": "ML Mountain Frame-W - Silver, 46"
                                },
                                {
                                    "ProductID": "917",
                                    "ProductName": "LL Mountain Frame - Silver, 42"
                                },
                                {
                                    "ProductID": "918",
                                    "ProductName": "LL Mountain Frame - Silver, 44"
                                },
                                {
                                    "ProductID": "919",
                                    "ProductName": "LL Mountain Frame - Silver, 48"
                                },
                                {
                                    "ProductID": "920",
                                    "ProductName": "LL Mountain Frame - Silver, 52"
                                },
                                {
                                    "ProductID": "924",
                                    "ProductName": "LL Mountain Frame - Black, 42"
                                },
                                {
                                    "ProductID": "925",
                                    "ProductName": "LL Mountain Frame - Black, 44"
                                },
                                {
                                    "ProductID": "926",
                                    "ProductName": "LL Mountain Frame - Black, 48"
                                },
                                {
                                    "ProductID": "927",
                                    "ProductName": "LL Mountain Frame - Black, 52"
                                }
                            ]
                        },
                        "text/html": [
                            "<table>",
                            "<tr><th>ProductID</th><th>ProductName</th></tr>",
                            "<tr><td>717</td><td>HL Road Frame - Red, 62</td></tr>",
                            "<tr><td>718</td><td>HL Road Frame - Red, 44</td></tr>",
                            "<tr><td>719</td><td>HL Road Frame - Red, 48</td></tr>",
                            "<tr><td>722</td><td>LL Road Frame - Black, 58</td></tr>",
                            "<tr><td>723</td><td>LL Road Frame - Black, 60</td></tr>",
                            "<tr><td>725</td><td>LL Road Frame - Red, 44</td></tr>",
                            "<tr><td>726</td><td>LL Road Frame - Red, 48</td></tr>",
                            "<tr><td>727</td><td>LL Road Frame - Red, 52</td></tr>",
                            "<tr><td>729</td><td>LL Road Frame - Red, 60</td></tr>",
                            "<tr><td>730</td><td>LL Road Frame - Red, 62</td></tr>",
                            "<tr><td>732</td><td>ML Road Frame - Red, 48</td></tr>",
                            "<tr><td>733</td><td>ML Road Frame - Red, 52</td></tr>",
                            "<tr><td>736</td><td>LL Road Frame - Black, 44</td></tr>",
                            "<tr><td>738</td><td>LL Road Frame - Black, 52</td></tr>",
                            "<tr><td>739</td><td>HL Mountain Frame - Silver, 42</td></tr>",
                            "<tr><td>741</td><td>HL Mountain Frame - Silver, 48</td></tr>",
                            "<tr><td>742</td><td>HL Mountain Frame - Silver, 46</td></tr>",
                            "<tr><td>743</td><td>HL Mountain Frame - Black, 42</td></tr>",
                            "<tr><td>744</td><td>HL Mountain Frame - Black, 44</td></tr>",
                            "<tr><td>745</td><td>HL Mountain Frame - Black, 48</td></tr>",
                            "<tr><td>830</td><td>ML Mountain Frame - Black, 40</td></tr>",
                            "<tr><td>831</td><td>ML Mountain Frame - Black, 44</td></tr>",
                            "<tr><td>832</td><td>ML Mountain Frame - Black, 48</td></tr>",
                            "<tr><td>833</td><td>ML Road Frame-W - Yellow, 40</td></tr>",
                            "<tr><td>835</td><td>ML Road Frame-W - Yellow, 44</td></tr>",
                            "<tr><td>836</td><td>ML Road Frame-W - Yellow, 48</td></tr>",
                            "<tr><td>838</td><td>HL Road Frame - Black, 44</td></tr>",
                            "<tr><td>839</td><td>HL Road Frame - Black, 48</td></tr>",
                            "<tr><td>885</td><td>HL Touring Frame - Yellow, 60</td></tr>",
                            "<tr><td>886</td><td>LL Touring Frame - Yellow, 62</td></tr>",
                            "<tr><td>887</td><td>HL Touring Frame - Yellow, 46</td></tr>",
                            "<tr><td>888</td><td>HL Touring Frame - Yellow, 50</td></tr>",
                            "<tr><td>889</td><td>HL Touring Frame - Yellow, 54</td></tr>",
                            "<tr><td>890</td><td>HL Touring Frame - Blue, 46</td></tr>",
                            "<tr><td>891</td><td>HL Touring Frame - Blue, 50</td></tr>",
                            "<tr><td>892</td><td>HL Touring Frame - Blue, 54</td></tr>",
                            "<tr><td>893</td><td>HL Touring Frame - Blue, 60</td></tr>",
                            "<tr><td>895</td><td>LL Touring Frame - Blue, 50</td></tr>",
                            "<tr><td>896</td><td>LL Touring Frame - Blue, 54</td></tr>",
                            "<tr><td>897</td><td>LL Touring Frame - Blue, 58</td></tr>",
                            "<tr><td>898</td><td>LL Touring Frame - Blue, 62</td></tr>",
                            "<tr><td>899</td><td>LL Touring Frame - Yellow, 44</td></tr>",
                            "<tr><td>900</td><td>LL Touring Frame - Yellow, 50</td></tr>",
                            "<tr><td>902</td><td>LL Touring Frame - Yellow, 58</td></tr>",
                            "<tr><td>903</td><td>LL Touring Frame - Blue, 44</td></tr>",
                            "<tr><td>904</td><td>ML Mountain Frame-W - Silver, 40</td></tr>",
                            "<tr><td>905</td><td>ML Mountain Frame-W - Silver, 42</td></tr>",
                            "<tr><td>906</td><td>ML Mountain Frame-W - Silver, 46</td></tr>",
                            "<tr><td>917</td><td>LL Mountain Frame - Silver, 42</td></tr>",
                            "<tr><td>918</td><td>LL Mountain Frame - Silver, 44</td></tr>",
                            "<tr><td>919</td><td>LL Mountain Frame - Silver, 48</td></tr>",
                            "<tr><td>920</td><td>LL Mountain Frame - Silver, 52</td></tr>",
                            "<tr><td>924</td><td>LL Mountain Frame - Black, 42</td></tr>",
                            "<tr><td>925</td><td>LL Mountain Frame - Black, 44</td></tr>",
                            "<tr><td>926</td><td>LL Mountain Frame - Black, 48</td></tr>",
                            "<tr><td>927</td><td>LL Mountain Frame - Black, 52</td></tr>",
                            "</table>"
                        ]
                    }
                }
            ],
            "execution_count": 33
        },
        {
            "cell_type": "markdown",
            "source": [
                "Proposition 10: there are only three items that have a review on them\n",
                "\n",
                "This query finds items that exist in both tables (INTERSECT operator between Product table and ProductReview table and basically spews out only the productIDs that have a review on them."
            ],
            "metadata": {
                "language": "sql",
                "azdata_cell_guid": "d85643a2-a991-44d2-9793-3c3c40128ab8"
            },
            "attachments": {}
        },
        {
            "cell_type": "code",
            "source": [
                "USE AdventureWorks2019\n",
                "GO\n",
                "\n",
                "-- ProductIDs that exist in both Product and ProductReview\n",
                "    SELECT ProductID\n",
                "    FROM Production.Product\n",
                "INTERSECT\n",
                "    SELECT ProductID\n",
                "    FROM Production.ProductReview;"
            ],
            "metadata": {
                "language": "sql",
                "azdata_cell_guid": "6e919ab7-be7d-477e-974d-011d5aa031e7"
            },
            "outputs": [
                {
                    "output_type": "display_data",
                    "data": {
                        "text/html": "Commands completed successfully."
                    },
                    "metadata": {}
                },
                {
                    "output_type": "display_data",
                    "data": {
                        "text/html": "(3 rows affected)"
                    },
                    "metadata": {}
                },
                {
                    "output_type": "display_data",
                    "data": {
                        "text/html": "Total execution time: 00:00:00.036"
                    },
                    "metadata": {}
                },
                {
                    "output_type": "execute_result",
                    "metadata": {},
                    "execution_count": 41,
                    "data": {
                        "application/vnd.dataresource+json": {
                            "schema": {
                                "fields": [
                                    {
                                        "name": "ProductID"
                                    }
                                ]
                            },
                            "data": [
                                {
                                    "ProductID": "709"
                                },
                                {
                                    "ProductID": "798"
                                },
                                {
                                    "ProductID": "937"
                                }
                            ]
                        },
                        "text/html": [
                            "<table>",
                            "<tr><th>ProductID</th></tr>",
                            "<tr><td>709</td></tr>",
                            "<tr><td>798</td></tr>",
                            "<tr><td>937</td></tr>",
                            "</table>"
                        ]
                    }
                }
            ],
            "execution_count": 41
        }
    ]
}