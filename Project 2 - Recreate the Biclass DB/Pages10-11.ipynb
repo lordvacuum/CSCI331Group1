{
    "metadata": {
        "kernelspec": {
            "name": "SQL",
            "display_name": "SQL",
            "language": "sql"
        },
        "language_info": {
            "name": "sql",
            "version": ""
        }
    },
    "nbformat_minor": 2,
    "nbformat": 4,
    "cells": [
        {
            "cell_type": "markdown",
            "source": [
                "CREATE SCHEMA Process;"
            ],
            "metadata": {
                "azdata_cell_guid": "714d6e15-36e9-492f-8273-0b46f1d2d722"
            }
        },
        {
            "cell_type": "code",
            "source": [
                "CREATE TABLE Process.WorkflowSteps (\n",
                "    WorkFlowStepKey INT NOT NULL PRIMARY KEY,\n",
                "    WorkFlowStepDescription NVARCHAR(100) NOT NULL,\n",
                "    WorkFlowStepTableRowCount INT NULL DEFAULT 0,\n",
                "    StartingDateTime DATETIME2(7) NULL DEFAULT SYSDATETIME(),\n",
                "    EndingDateTime DATETIME2(7) NULL DEFAULT SYSDATETIME(),\n",
                "    ClassTime CHAR(5) NULL DEFAULT '10:45' CHECK (ClassTime = '10:45'),\n",
                "    UserAuthorizationKey INT NOT NULL\n",
                ");"
            ],
            "metadata": {
                "azdata_cell_guid": "ab3f2d36-4edf-474d-89b2-bd97457d7abf",
                "language": "sql",
                "tags": [
                    "hide_input"
                ]
            },
            "outputs": [],
            "execution_count": null
        },
        {
            "cell_type": "markdown",
            "source": [
                "THE FOLLOWING IS THE Create a stored procedure Process.usp\\_TrackWorkFlow to track each of the steps of your entire workflow of your project"
            ],
            "metadata": {
                "azdata_cell_guid": "1c6b5ad6-cf95-4669-9847-e1c29f410512"
            },
            "attachments": {}
        },
        {
            "cell_type": "code",
            "source": [
                "\r\n",
                "CREATE OR ALTER PROCEDURE [Process].[usp_TrackWorkFlows]\r\n",
                "    @StartTime DATETIME2,\r\n",
                "    @WorkFlowDescription NVARCHAR(100),\r\n",
                "    @WorkFlowStepTableRowCount INT,\r\n",
                "    @UserAuthorizationKey INT\r\n",
                "AS\r\n",
                "BEGIN\r\n",
                "    SET NOCOUNT ON;\r\n",
                "\r\n",
                "    INSERT INTO Process.WorkflowSteps (\r\n",
                "        WorkFlowStepKey,\r\n",
                "        WorkFlowStepDescription,\r\n",
                "        WorkFlowStepTableRowCount,\r\n",
                "        StartingDateTime,\r\n",
                "        EndingDateTime,\r\n",
                "        ClassTime,\r\n",
                "        UserAuthorizationKey\r\n",
                "    )\r\n",
                "    VALUES (\r\n",
                "        (SELECT ISNULL(MAX(WorkFlowStepKey), 0) + 1 FROM Process.WorkflowSteps),\r\n",
                "        @WorkFlowDescription,\r\n",
                "        @WorkFlowStepTableRowCount,\r\n",
                "        @StartTime,\r\n",
                "        SYSDATETIME(),\r\n",
                "        (SELECT ClassTime FROM DbSecurity.UserAuthorization WHERE UserAuthorizationKey = @UserAuthorizationKey),\r\n",
                "        @UserAuthorizationKey\r\n",
                "    );\r\n",
                "END;"
            ],
            "metadata": {
                "azdata_cell_guid": "fc3fa69b-e930-4206-af5a-f4422217367b",
                "language": "sql"
            },
            "outputs": [],
            "execution_count": null
        },
        {
            "cell_type": "markdown",
            "source": [
                "This is how we;d call the function"
            ],
            "metadata": {
                "language": "sql",
                "azdata_cell_guid": "9ae3e1f6-f8a0-479b-8a82-915aa9a5aca5"
            },
            "attachments": {}
        },
        {
            "cell_type": "code",
            "source": [
                "DECLARE @StartTime DATETIME2 = SYSDATETIME();\r\n",
                "\r\n",
                "/* Do your loading logic here */\r\n",
                "\r\n",
                "EXEC Process.usp_TrackWorkFlows\r\n",
                "    @StartTime = @StartTime,\r\n",
                "    @WorkFlowDescription = 'Load DimProduct',\r\n",
                "    @WorkFlowStepTableRowCount = (SELECT COUNT(*) FROM CH01-01-Dimension.DimProduct),\r\n",
                "    @UserAuthorizationKey = 2;\r\n",
                ""
            ],
            "metadata": {
                "language": "sql",
                "azdata_cell_guid": "1a17938c-ba2b-4735-a72c-777ceb8bd9bb",
                "tags": []
            },
            "outputs": [],
            "execution_count": null
        }
    ]
}