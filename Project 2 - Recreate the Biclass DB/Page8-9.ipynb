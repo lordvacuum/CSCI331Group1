{
    "metadata": {
        "kernelspec": {
            "name": "SQL",
            "display_name": "SQL",
            "language": "sql"
        },
        "language_info": {
            "name": "sql",
            "version": ""
        }
    },
    "nbformat_minor": 2,
    "nbformat": 4,
    "cells": [
        {
            "cell_type": "code",
            "source": [
                "CREATE TABLE DbSecurity.UserAuthorization (\n",
                "    UserAuthorizationKey INT NOT NULL PRIMARY KEY,\n",
                "    ClassTime NCHAR(5) NULL CHECK (ClassTime IN ('10:45')),\n",
                "    IndividualProject NVARCHAR(60) NULL DEFAULT 'PROJECT 2 RECREATE THE BICLASS DATABASE STAR SCHEMA',\n",
                "    GroupMemberLastName NVARCHAR(35) NOT NULL,\n",
                "    GroupMemberFirstName NVARCHAR(25) NOT NULL,\n",
                "    GroupName NVARCHAR(20) NOT NULL,\n",
                "    DateAdded DATETIME2 DEFAULT SYSDATETIME()\n",
                ");\n",
                "\n",
                "INSERT INTO DbSecurity.UserAuthorization (\n",
                "    UserAuthorizationKey,\n",
                "    ClassTime,\n",
                "    IndividualProject,\n",
                "    GroupMemberLastName,\n",
                "    GroupMemberFirstName,\n",
                "    GroupName\n",
                ")\n",
                "VALUES\n",
                "(1, '10:45', 'create store procedures', 'Bains', 'Jasky', 'Group#1'),\n",
                "(2, '10:45', 'drop foreign keys', 'Vathada', 'Mai', 'Group#1'),\n",
                "(3, '10:45', 'load data', 'Garnica', 'Richard', 'Group#1'),\n",
                "(4, '10:45', 'truncate tables', 'Wang', 'William', 'Group#1'),\n",
                "(5, '10:45', 'Create first tables', 'Felix', 'Ashly', 'Group#1'),\n",
                "(6, '10:45', 'load data', 'Cristobal', 'David', 'Group#1'),\n",
                "(7, '10:45', 'default', 'default','default', 'default');\n",
                ""
            ],
            "metadata": {
                "azdata_cell_guid": "d696e9d2-b782-4558-85c5-5d2dd5fd902b",
                "language": "sql"
            },
            "outputs": [],
            "execution_count": null
        },
        {
            "cell_type": "markdown",
            "source": [
                "DO THE FOLLOWING FOR ALL TABLES"
            ],
            "metadata": {
                "azdata_cell_guid": "39379301-4e82-45fe-909b-8b7c393b6691"
            },
            "attachments": {}
        },
        {
            "cell_type": "code",
            "source": [
                "ALTER TABLE [CH01-01-Dimension].DimCustomer\r\n",
                "ADD UserAuthorizationKey INT NOT NULL DEFAULT 7;\r\n",
                "\r\n",
                "ALTER TABLE [CH01-01-Dimension].DimGender\r\n",
                "ADD UserAuthorizationKey INT NOT NULL DEFAULT 7;\r\n",
                "\r\n",
                "ALTER TABLE [CH01-01-Dimension].DimMaritalStatus\r\n",
                "ADD UserAuthorizationKey INT NOT NULL DEFAULT 7;\r\n",
                "\r\n",
                "ALTER TABLE [CH01-01-Dimension].DimOccupation\r\n",
                "ADD UserAuthorizationKey INT NOT NULL DEFAULT 7;\r\n",
                "\r\n",
                "ALTER TABLE [CH01-01-Dimension].DimOrderDate\r\n",
                "ADD UserAuthorizationKey INT NOT NULL DEFAULT 7;\r\n",
                "\r\n",
                "ALTER TABLE [CH01-01-Dimension].DimProduct\r\n",
                "ADD UserAuthorizationKey INT NOT NULL DEFAULT 7;\r\n",
                "\r\n",
                "ALTER TABLE [CH01-01-Dimension].DimTerritory\r\n",
                "ADD UserAuthorizationKey INT NOT NULL DEFAULT 7;\r\n",
                "\r\n",
                "ALTER TABLE [CH01-01-Dimension].SalesManagers\r\n",
                "ADD UserAuthorizationKey INT NOT NULL DEFAULT 7;\r\n",
                "\r\n",
                "ALTER TABLE [CH01-01-Fact].Data\r\n",
                "ADD UserAuthorizationKey INT NOT NULL DEFAULT 7;\r\n",
                "\r\n",
                "ALTER TABLE [FileUpload].ProductCategories\r\n",
                "ADD UserAuthorizationKey INT NOT NULL DEFAULT 7;\r\n",
                "\r\n",
                "ALTER TABLE [FileUpload].ProductSubcategories\r\n",
                "ADD UserAuthorizationKey INT NOT NULL DEFAULT 7;\r\n",
                ""
            ],
            "metadata": {
                "azdata_cell_guid": "a4684b75-a62f-4748-8150-b6354f819a7c",
                "language": "sql"
            },
            "outputs": [],
            "execution_count": null
        },
        {
            "cell_type": "markdown",
            "source": [
                "YOU CAN CHECK that the tables now have a new column userauthorization by running the following:"
            ],
            "metadata": {
                "language": "sql",
                "azdata_cell_guid": "a657c9cf-be18-4600-9220-78d8a28b7bd3"
            },
            "attachments": {}
        },
        {
            "cell_type": "code",
            "source": [
                "SELECT *\r\n",
                "FROM [FileUpload].OriginallyLoadedData"
            ],
            "metadata": {
                "language": "sql",
                "azdata_cell_guid": "add87380-9354-4f42-8000-2c2c7c3ae185"
            },
            "outputs": [],
            "execution_count": null
        },
        {
            "cell_type": "markdown",
            "source": [
                "create table process.workflows"
            ],
            "metadata": {
                "azdata_cell_guid": "601fa283-5765-42d0-ba48-c013348ac15b"
            },
            "attachments": {}
        },
        {
            "cell_type": "code",
            "source": [
                "CREATE SCHEMA Process\r\n",
                "CREATE TABLE Process.WorkflowSteps (\r\n",
                "    WorkFlowStepKey INT NOT NULL PRIMARY KEY,\r\n",
                "    WorkFlowStepDescription NVARCHAR(100) NOT NULL,\r\n",
                "    WorkFlowStepTableRowCount INT NULL DEFAULT 0,\r\n",
                "    StartingDateTime DATETIME2(7) NULL DEFAULT SYSDATETIME(),\r\n",
                "    EndingDateTime DATETIME2(7) NULL DEFAULT SYSDATETIME(),\r\n",
                "    ClassTime CHAR(5) NULL DEFAULT '10:45' CHECK (ClassTime = '10:45'),\r\n",
                "    UserAuthorizationKey INT NOT NULL\r\n",
                ");"
            ],
            "metadata": {
                "azdata_cell_guid": "b2a2d424-e944-4264-98be-92ba60189e14",
                "language": "sql"
            },
            "outputs": [],
            "execution_count": null
        },
        {
            "cell_type": "markdown",
            "source": [
                "now create a \"function\" that you can call everytimt you do smt you call this and decribe what you did and enter useridentificationkey"
            ],
            "metadata": {
                "language": "sql",
                "azdata_cell_guid": "3fafc5e9-bad9-4a1d-ad23-d7f28f75ac55"
            },
            "attachments": {}
        },
        {
            "cell_type": "code",
            "source": [
                "\r\n",
                "CREATE OR ALTER PROCEDURE [Process].[usp_TrackWorkFlows]\r\n",
                "    @StartTime DATETIME2,\r\n",
                "    @WorkFlowDescription NVARCHAR(100),\r\n",
                "    @WorkFlowStepTableRowCount INT,\r\n",
                "    @UserAuthorizationKey INT\r\n",
                "AS\r\n",
                "BEGIN\r\n",
                "    SET NOCOUNT ON;\r\n",
                "\r\n",
                "    INSERT INTO Process.WorkflowSteps (\r\n",
                "        WorkFlowStepKey,\r\n",
                "        WorkFlowStepDescription,\r\n",
                "        WorkFlowStepTableRowCount,\r\n",
                "        StartingDateTime,\r\n",
                "        EndingDateTime,\r\n",
                "        ClassTime,\r\n",
                "        UserAuthorizationKey\r\n",
                "    )\r\n",
                "    VALUES (\r\n",
                "        (SELECT ISNULL(MAX(WorkFlowStepKey), 0) + 1 FROM Process.WorkflowSteps),\r\n",
                "        @WorkFlowDescription,\r\n",
                "        @WorkFlowStepTableRowCount,\r\n",
                "        @StartTime,\r\n",
                "        SYSDATETIME(),\r\n",
                "        (SELECT ClassTime FROM DbSecurity.UserAuthorization WHERE UserAuthorizationKey = @UserAuthorizationKey),\r\n",
                "        @UserAuthorizationKey\r\n",
                "    );\r\n",
                "END;\r\n",
                ""
            ],
            "metadata": {
                "language": "sql",
                "azdata_cell_guid": "1d0394be-3051-4b24-a0f4-f6e095bfe19e",
                "tags": []
            },
            "outputs": [],
            "execution_count": null
        },
        {
            "cell_type": "markdown",
            "source": [
                "this is how we call the function"
            ],
            "metadata": {
                "language": "sql",
                "azdata_cell_guid": "e6d8268a-2bf0-4502-985a-d2c5dee8d1f1"
            },
            "attachments": {}
        },
        {
            "cell_type": "code",
            "source": [
                "DECLARE @StartTime DATETIME2 = SYSDATETIME();\r\n",
                "DECLARE @RowCount INT;\r\n",
                "\r\n",
                "SELECT @RowCount = COUNT(*) FROM [CH01-01-Dimension].DimProduct;\r\n",
                "\r\n",
                "EXEC Process.usp_TrackWorkFlows\r\n",
                "    @StartTime = @StartTime,\r\n",
                "    @WorkFlowDescription = 'Created DbSecurity.UserAuthorization table', --describe what you did\r\n",
                "    @WorkFlowStepTableRowCount = @RowCount,\r\n",
                "    @UserAuthorizationKey = 5; -- use ur authorizationkey"
            ],
            "metadata": {
                "language": "sql",
                "azdata_cell_guid": "4c520415-6231-4a74-bd2d-7cfc19a09c00"
            },
            "outputs": [],
            "execution_count": null
        },
        {
            "cell_type": "markdown",
            "source": [
                "<span style=\"color: #0000ff;\">CREATE</span> <span style=\"color: #0000ff;\">TABLE</span> \\[CH01-01-Dimension\\].DimProductCategory"
            ],
            "metadata": {
                "language": "sql",
                "azdata_cell_guid": "482d85d9-edb1-4f67-8c8b-a525cdeee683"
            },
            "attachments": {}
        },
        {
            "cell_type": "code",
            "source": [
                "CREATE TABLE [CH01-01-Dimension].DimProductCategory (\r\n",
                "    ProductCategoryKey INT NOT NULL PRIMARY KEY,\r\n",
                "    CategoryName NVARCHAR(50) NOT NULL,\r\n",
                "    UserAuthorizationKey INT NOT NULL,\r\n",
                "    DateAdded DATETIME2 NULL DEFAULT SYSDATETIME(),\r\n",
                "    DateOfLastUpdate DATETIME2 NULL DEFAULT SYSDATETIME(),\r\n",
                "    CONSTRAINT FK_DimProductCategory_UserAuthorization \r\n",
                "        FOREIGN KEY (UserAuthorizationKey) \r\n",
                "        REFERENCES DbSecurity.UserAuthorization (UserAuthorizationKey)\r\n",
                ");"
            ],
            "metadata": {
                "language": "sql",
                "azdata_cell_guid": "e4664d6e-894c-47c8-ae65-d5dbb3eedc4c"
            },
            "outputs": [],
            "execution_count": null
        },
        {
            "cell_type": "markdown",
            "source": [
                "<span style=\"color: #0000ff;\">CREATE</span> <span style=\"color: #0000ff;\">TABLE</span> \\[CH01-01-Dimension\\].DimProductSubcategory"
            ],
            "metadata": {
                "language": "sql",
                "azdata_cell_guid": "bacc147a-e689-45aa-bab0-b041df5523ab"
            },
            "attachments": {}
        },
        {
            "cell_type": "code",
            "source": [
                "CREATE TABLE [CH01-01-Dimension].DimProductSubcategory (\r\n",
                "    ProductSubcategoryKey INT NOT NULL PRIMARY KEY,\r\n",
                "    SubcategoryName NVARCHAR(50) NOT NULL,\r\n",
                "    ProductCategoryKey INT NOT NULL,\r\n",
                "    UserAuthorizationKey INT NOT NULL,\r\n",
                "    DateAdded DATETIME2 NULL DEFAULT SYSDATETIME(),\r\n",
                "    DateOfLastUpdate DATETIME2 NULL DEFAULT SYSDATETIME(),\r\n",
                "    CONSTRAINT FK_DimProductSubcategory_ProductCategory \r\n",
                "        FOREIGN KEY (ProductCategoryKey) \r\n",
                "        REFERENCES [CH01-01-Dimension].DimProductCategory (ProductCategoryKey),\r\n",
                "    CONSTRAINT FK_DimProductSubcategory_UserAuthorization \r\n",
                "        FOREIGN KEY (UserAuthorizationKey) \r\n",
                "        REFERENCES DbSecurity.UserAuthorization (UserAuthorizationKey)\r\n",
                ");"
            ],
            "metadata": {
                "language": "sql",
                "azdata_cell_guid": "fc6a77a7-29ad-4855-a230-3bede9ffbab6"
            },
            "outputs": [],
            "execution_count": null
        },
        {
            "cell_type": "markdown",
            "source": [
                "check foreign keys in db"
            ],
            "metadata": {
                "language": "sql",
                "azdata_cell_guid": "fc9a48c7-abb7-43be-9ac1-5254ed5e5d97"
            },
            "attachments": {}
        },
        {
            "cell_type": "code",
            "source": [
                "SELECT \r\n",
                "    fk.name AS ForeignKeyName,\r\n",
                "    tp.name AS ParentTable,\r\n",
                "    cp.name AS ParentColumn,\r\n",
                "    tr.name AS ReferencedTable,\r\n",
                "    cr.name AS ReferencedColumn\r\n",
                "FROM sys.foreign_keys AS fk\r\n",
                "JOIN sys.foreign_key_columns AS fkc \r\n",
                "    ON fk.object_id = fkc.constraint_object_id\r\n",
                "JOIN sys.tables AS tp \r\n",
                "    ON fkc.parent_object_id = tp.object_id\r\n",
                "JOIN sys.columns AS cp \r\n",
                "    ON fkc.parent_object_id = cp.object_id AND fkc.parent_column_id = cp.column_id\r\n",
                "JOIN sys.tables AS tr \r\n",
                "    ON fkc.referenced_object_id = tr.object_id\r\n",
                "JOIN sys.columns AS cr \r\n",
                "    ON fkc.referenced_object_id = cr.object_id AND fkc.referenced_column_id = cr.column_id\r\n",
                "WHERE tp.name IN (\r\n",
                "    'DimCustomer', 'DimGender', 'DimMaritalStatus', 'DimOccupation', 'DimOrderDate',\r\n",
                "    'DimProduct', 'DimProductCategory', 'DimProductSubcategory', 'DimTerritory', 'SalesManagers',\r\n",
                "    'Data', 'UserAuthorization', 'OriginallyLoadedData', 'ProductCategories', \r\n",
                "    'ProductSubcategories', 'WorkflowSteps'\r\n",
                ");"
            ],
            "metadata": {
                "language": "sql",
                "azdata_cell_guid": "ec510a8c-8322-4328-8a8b-c29f7974315f",
                "tags": []
            },
            "outputs": [],
            "execution_count": null
        },
        {
            "cell_type": "markdown",
            "source": [
                "drop all foreign keys"
            ],
            "metadata": {
                "language": "sql",
                "azdata_cell_guid": "71a5cd7c-f033-47ea-89c8-539c84bb3cb0"
            },
            "attachments": {}
        },
        {
            "cell_type": "code",
            "source": [
                "ALTER TABLE [CH01-01-Fact].[Data] DROP CONSTRAINT FK_Data_SalesManagers;\r\n",
                "ALTER TABLE [CH01-01-Fact].[Data] DROP CONSTRAINT FK_Data_DimGender;\r\n",
                "ALTER TABLE [CH01-01-Dimension].[DimProductSubcategory] DROP CONSTRAINT FK_DimProductSubcategory_ProductCategory;\r\n",
                "ALTER TABLE [CH01-01-Fact].[Data] DROP CONSTRAINT FK_Data_DimMaritalStatus;\r\n",
                "ALTER TABLE [CH01-01-Fact].[Data] DROP CONSTRAINT FK_Data_DimOccupation;\r\n",
                "ALTER TABLE [CH01-01-Fact].[Data] DROP CONSTRAINT FK_Data_DimOrderDate;\r\n",
                "ALTER TABLE [CH01-01-Fact].[Data] DROP CONSTRAINT FK_Data_DimTerritory;\r\n",
                "ALTER TABLE [CH01-01-Fact].[Data] DROP CONSTRAINT FK_Data_DimProduct;\r\n",
                "ALTER TABLE [CH01-01-Fact].[Data] DROP CONSTRAINT FK_Data_DimCustomer;\r\n",
                "ALTER TABLE [CH01-01-Dimension].[DimProductCategory] DROP CONSTRAINT FK_DimProductCategory_UserAuthorization;\r\n",
                "ALTER TABLE [CH01-01-Dimension].[DimProductSubcategory] DROP CONSTRAINT FK_DimProductSubcategory_UserAuthorization;\r\n",
                ""
            ],
            "metadata": {
                "language": "sql",
                "azdata_cell_guid": "3a8ddd50-f42f-419a-8b62-b2f800f2bce8",
                "tags": []
            },
            "outputs": [],
            "execution_count": null
        },
        {
            "cell_type": "markdown",
            "source": [
                "truncate 13 tables"
            ],
            "metadata": {
                "language": "sql",
                "azdata_cell_guid": "13902e66-ca0f-4f79-b104-7850fb3847bf"
            },
            "attachments": {}
        },
        {
            "cell_type": "code",
            "source": [
                "TRUNCATE TABLE [CH01-01-Dimension].[DimCustomer];\r\n",
                "TRUNCATE TABLE [CH01-01-Dimension].[DimGender];\r\n",
                "TRUNCATE TABLE [CH01-01-Dimension].[DimMaritalStatus];\r\n",
                "TRUNCATE TABLE [CH01-01-Dimension].[DimOccupation];\r\n",
                "TRUNCATE TABLE [CH01-01-Dimension].[DimOrderDate];\r\n",
                "TRUNCATE TABLE [CH01-01-Dimension].[DimProduct];\r\n",
                "TRUNCATE TABLE [CH01-01-Dimension].[DimProductCategory];\r\n",
                "TRUNCATE TABLE [CH01-01-Dimension].[DimProductSubcategory];\r\n",
                "TRUNCATE TABLE [CH01-01-Dimension].[DimTerritory];\r\n",
                "TRUNCATE TABLE [CH01-01-Dimension].[SalesManagers];\r\n",
                "TRUNCATE TABLE [CH01-01-Fact].[Data];\r\n",
                "TRUNCATE TABLE [FileUpload].[ProductCategories];\r\n",
                "TRUNCATE TABLE [FileUpload].[ProductSubcategories];\r\n",
                ""
            ],
            "metadata": {
                "language": "sql",
                "azdata_cell_guid": "ffe596ed-9f84-423b-a78d-26f998a8724b"
            },
            "outputs": [],
            "execution_count": null
        },
        {
            "cell_type": "markdown",
            "source": [
                "check that we truncated tables"
            ],
            "metadata": {
                "language": "sql",
                "azdata_cell_guid": "5e0d2a2f-107e-4ebc-8092-e6b360ef3f4c"
            },
            "attachments": {}
        },
        {
            "cell_type": "code",
            "source": [
                "SELECT \r\n",
                "    s.name AS SchemaName,\r\n",
                "    t.name AS TableName,\r\n",
                "    SUM(p.[rows]) AS [TotalRows]\r\n",
                "FROM sys.tables t\r\n",
                "JOIN sys.schemas s ON t.schema_id = s.schema_id\r\n",
                "JOIN sys.partitions p ON t.object_id = p.object_id\r\n",
                "WHERE p.index_id IN (0, 1)  -- 0 = heap, 1 = clustered index\r\n",
                "GROUP BY s.name, t.name\r\n",
                "ORDER BY s.name, t.name;\r\n",
                ""
            ],
            "metadata": {
                "language": "sql",
                "azdata_cell_guid": "ddcb3252-c55d-4d3c-84d1-b09ae98e94e5",
                "tags": []
            },
            "outputs": [],
            "execution_count": null
        },
        {
            "cell_type": "markdown",
            "source": [
                "create the parsed table"
            ],
            "metadata": {
                "language": "sql",
                "azdata_cell_guid": "0409d14e-2c42-4dcc-8e2c-a2dadbec772a"
            },
            "attachments": {}
        },
        {
            "cell_type": "code",
            "source": [
                "--DROP TABLE IF EXISTS ParsedFileUpload.OriginallyLoadedData;\r\n",
                "\r\n",
                "\r\n",
                "CREATE SCHEMA ParsedFileUpload\r\n",
                "-- Create the table\r\n",
                "CREATE TABLE ParsedFileUpload.OriginallyLoadedData (\r\n",
                "    SalesKey INT NOT NULL,\r\n",
                "    ProductCategory VARCHAR(20) NULL,\r\n",
                "    ProductSubcategory VARCHAR(20) NULL,\r\n",
                "    SalesManager VARCHAR(20) NULL,\r\n",
                "    ProductCode VARCHAR(10) NULL,\r\n",
                "    ProductName VARCHAR(40) NULL,\r\n",
                "    Color VARCHAR(10) NULL,\r\n",
                "    ModelName VARCHAR(30) NULL,\r\n",
                "    OrderQuantity INT NULL,\r\n",
                "    UnitPrice MONEY NULL,\r\n",
                "    ProductStandardCost MONEY NULL,\r\n",
                "    SalesAmount MONEY NULL,\r\n",
                "    OrderDate DATE NULL,\r\n",
                "    MonthName VARCHAR(10) NULL,\r\n",
                "    MonthNumber INT NULL,\r\n",
                "    Year INT NULL,\r\n",
                "    CustomerName VARCHAR(30) NULL,\r\n",
                "    MaritalStatus CHAR(1) NULL,\r\n",
                "    Gender CHAR(1) NULL,\r\n",
                "    Education VARCHAR(20) NULL,\r\n",
                "    Occupation VARCHAR(20) NULL,\r\n",
                "    TerritoryRegion VARCHAR(20) NULL,\r\n",
                "    TerritoryCountry VARCHAR(20) NULL,\r\n",
                "    TerritoryGroup VARCHAR(20) NULL\r\n",
                ");\r\n",
                "GO"
            ],
            "metadata": {
                "language": "sql",
                "azdata_cell_guid": "994446af-ff2a-49e3-a521-dcab4d311a3a"
            },
            "outputs": [],
            "execution_count": null
        },
        {
            "cell_type": "markdown",
            "source": [
                "now load all data back"
            ],
            "metadata": {
                "language": "sql",
                "azdata_cell_guid": "8ac403d4-f4d1-4866-b5a6-c52f7e0dd4b8"
            },
            "attachments": {}
        },
        {
            "cell_type": "code",
            "source": [
                "INSERT INTO [CH01-01-Dimension].[DimCustomer] (\r\n",
                "    CustomerName,\r\n",
                "    UserAuthorizationKey\r\n",
                ")\r\n",
                "SELECT DISTINCT\r\n",
                "    d.CustomerName, 5\r\n",
                "      -- Replace with your actual UserAuthorizationKey\r\n",
                "FROM FileUpload.OriginallyLoadedData d\r\n",
                "WHERE d.CustomerName IS NOT NULL;\r\n",
                ""
            ],
            "metadata": {
                "language": "sql",
                "azdata_cell_guid": "ea7d367c-b2b5-43d5-81b3-c37c20c4aa97",
                "tags": []
            },
            "outputs": [],
            "execution_count": null
        },
        {
            "cell_type": "code",
            "source": [
                "INSERT INTO [CH01-01-Dimension].[DimGender] (\r\n",
                "    Gender,\r\n",
                "    GenderDescription,\r\n",
                "    UserAuthorizationKey\r\n",
                ")\r\n",
                "SELECT DISTINCT\r\n",
                "    d.Gender,\r\n",
                "    CASE \r\n",
                "        WHEN d.Gender = 'M' THEN 'Male'\r\n",
                "        WHEN d.Gender = 'F' THEN 'Female'\r\n",
                "        ELSE 'Other'\r\n",
                "    END,\r\n",
                "    5\r\n",
                "FROM FileUpload.OriginallyLoadedData d\r\n",
                "WHERE d.Gender IS NOT NULL;\r\n",
                ""
            ],
            "metadata": {
                "language": "sql",
                "azdata_cell_guid": "ee2bf81e-80a8-411d-a338-a88641bff745",
                "tags": []
            },
            "outputs": [],
            "execution_count": null
        },
        {
            "cell_type": "code",
            "source": [
                "INSERT INTO [CH01-01-Dimension].[DimMaritalStatus] (\r\n",
                "    MaritalStatus,\r\n",
                "    MaritalStatusDescription,\r\n",
                "    UserAuthorizationKey\r\n",
                ")\r\n",
                "SELECT DISTINCT\r\n",
                "    d.MaritalStatus,\r\n",
                "    CASE \r\n",
                "        WHEN d.MaritalStatus = 'M' THEN 'Married'\r\n",
                "        WHEN d.MaritalStatus = 'S' THEN 'Single'\r\n",
                "        ELSE 'Other'\r\n",
                "    END,\r\n",
                "    5\r\n",
                "FROM FileUpload.OriginallyLoadedData d\r\n",
                "WHERE d.MaritalStatus IS NOT NULL;\r\n",
                ""
            ],
            "metadata": {
                "language": "sql",
                "azdata_cell_guid": "32c010dc-9fef-4673-8b24-b90a48a99684",
                "tags": []
            },
            "outputs": [],
            "execution_count": null
        },
        {
            "cell_type": "code",
            "source": [
                "INSERT INTO [CH01-01-Dimension].[DimOccupation] (\r\n",
                "    OccupationKey,\r\n",
                "    Occupation,\r\n",
                "    UserAuthorizationKey\r\n",
                ")\r\n",
                "SELECT \r\n",
                "    ROW_NUMBER() OVER (ORDER BY Occupation) AS OccupationKey,\r\n",
                "    Occupation,\r\n",
                "    5\r\n",
                "FROM (\r\n",
                "    SELECT DISTINCT d.Occupation\r\n",
                "    FROM FileUpload.OriginallyLoadedData d\r\n",
                "    WHERE d.Occupation IS NOT NULL\r\n",
                ") AS UniqueOccupations;\r\n",
                ""
            ],
            "metadata": {
                "language": "sql",
                "azdata_cell_guid": "3cc36d9b-0d30-4f5b-aaa2-d7a1a77cd576",
                "tags": []
            },
            "outputs": [],
            "execution_count": null
        },
        {
            "cell_type": "code",
            "source": [
                "INSERT INTO [CH01-01-Dimension].[DimOrderDate] (\r\n",
                "    OrderDate,\r\n",
                "    MonthName,\r\n",
                "    MonthNumber,\r\n",
                "    Year,\r\n",
                "    UserAuthorizationKey\r\n",
                ")\r\n",
                "SELECT DISTINCT\r\n",
                "    d.OrderDate,\r\n",
                "    d.MonthName,\r\n",
                "    d.MonthNumber,\r\n",
                "    d.Year,\r\n",
                "    5\r\n",
                "FROM FileUpload.OriginallyLoadedData d\r\n",
                "WHERE d.OrderDate IS NOT NULL;\r\n",
                ""
            ],
            "metadata": {
                "language": "sql",
                "azdata_cell_guid": "de891a9f-0e47-409a-84a6-52eba93a40c9"
            },
            "outputs": [],
            "execution_count": null
        },
        {
            "cell_type": "code",
            "source": [
                ""
            ],
            "metadata": {
                "language": "sql",
                "azdata_cell_guid": "c58306b0-4f57-488a-b86f-fe5fc041fff8"
            },
            "outputs": [],
            "execution_count": null
        }
    ]
}