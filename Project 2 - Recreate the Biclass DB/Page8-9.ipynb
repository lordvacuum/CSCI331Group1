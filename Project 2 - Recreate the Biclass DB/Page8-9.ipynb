{
    "metadata": {
        "kernelspec": {
            "name": "SQL",
            "display_name": "SQL",
            "language": "sql"
        },
        "language_info": {
            "name": "sql",
            "version": ""
        }
    },
    "nbformat_minor": 2,
    "nbformat": 4,
    "cells": [
        {
            "cell_type": "code",
            "source": [
                "CREATE TABLE DbSecurity.UserAuthorization (\n",
                "    UserAuthorizationKey INT NOT NULL PRIMARY KEY,\n",
                "    ClassTime NCHAR(5) NULL CHECK (ClassTime IN ('10:45')),\n",
                "    IndividualProject NVARCHAR(60) NULL DEFAULT 'PROJECT 2 RECREATE THE BICLASS DATABASE STAR SCHEMA',\n",
                "    GroupMemberLastName NVARCHAR(35) NOT NULL,\n",
                "    GroupMemberFirstName NVARCHAR(25) NOT NULL,\n",
                "    GroupName NVARCHAR(20) NOT NULL,\n",
                "    DateAdded DATETIME2 DEFAULT SYSDATETIME()\n",
                ");\n",
                "\n",
                "INSERT INTO DbSecurity.UserAuthorization (\n",
                "    UserAuthorizationKey,\n",
                "    ClassTime,\n",
                "    IndividualProject,\n",
                "    GroupMemberLastName,\n",
                "    GroupMemberFirstName,\n",
                "    GroupName\n",
                ")\n",
                "VALUES\n",
                "(1, '10:45', 'create store procedures', 'Bains', 'Jasky', 'Group#1'),\n",
                "(2, '10:45', 'drop foreign keys', 'Vathada', 'Mai', 'Group#1'),\n",
                "(3, '10:45', 'load data', 'Garnica', 'Richard', 'Group#1'),\n",
                "(4, '10:45', 'truncate tables', 'Wang', 'William', 'Group#1'),\n",
                "(5, '10:45', 'Create first tables', 'Felix', 'Ashly', 'Group#1'),\n",
                "(6, '10:45', 'load data', 'Cristobal', 'David', 'Group#1'),\n",
                "(7, '10:45', 'default', 'default','default', 'default');\n",
                "\n",
                "\n",
                "ALTER TABLE FileUpload.ProductSubCategories\n",
                "ADD UserAuthorizationKey INT NOT NULL DEFAULT 7;\n",
                "\n",
                "\n",
                "SELECT *\n",
                "FROM [CH01-01-Dimension].[DimOccupation]"
            ],
            "metadata": {
                "azdata_cell_guid": "d696e9d2-b782-4558-85c5-5d2dd5fd902b",
                "language": "sql"
            },
            "outputs": [],
            "execution_count": null
        }
    ]
}