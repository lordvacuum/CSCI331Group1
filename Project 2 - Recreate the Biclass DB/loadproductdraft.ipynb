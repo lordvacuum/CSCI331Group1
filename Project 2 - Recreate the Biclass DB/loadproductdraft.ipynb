{
    "cells": [
        {
            "attachments": {},
            "cell_type": "markdown",
            "metadata": {
                "azdata_cell_guid": "375405eb-81ee-407c-ad1b-d238b0a6ca78"
            },
            "source": [
                "YO I NEED SOMEONE TO CHECK OVER THIS !!!!!!!!!"
            ]
        },
        {
            "attachments": {},
            "cell_type": "markdown",
            "metadata": {
                "azdata_cell_guid": "a89266fa-820e-4dc3-9180-ab83c0a6a089"
            },
            "source": [
                "loading product"
            ]
        },
        {
            "cell_type": "code",
            "execution_count": null,
            "metadata": {
                "azdata_cell_guid": "d740bdf8-abbf-48f1-9dbf-93c76a888d3b",
                "language": "sql",
                "tags": []
            },
            "outputs": [],
            "source": [
                "INSERT INTO [CH01-01-Dimension].[DimProduct] (\n",
                "    ProductKey,\n",
                "    ProductSubcategoryKey,\n",
                "    ProductCategoryKey,\n",
                "    ProductCode,\n",
                "    ProductName,\n",
                "    Color,\n",
                "    ModelNumber,\n",
                "    UserAuthorizationKey\n",
                ")\n",
                "SELECT \n",
                "    ROW_NUMBER() OVER (ORDER BY d.ProductCode) AS ProductKey,\n",
                "    NULL as ProductSubcategoryKey,\n",
                "    d.ProductSubcategory as ProductCategoryKey,\n",
                "    d.ProductCode,\n",
                "    d.ProductName,\n",
                "    d.Color,\n",
                "    -- Remove trailing numbers from ProductName to create ModelNumber\n",
                "    RTRIM(\n",
                "        SUBSTRING(\n",
                "            d.ProductName, \n",
                "            1, \n",
                "            CASE \n",
                "                -- Find the last non-digit character\n",
                "                WHEN PATINDEX('%[^0-9]%', REVERSE(d.ProductName)) > 0 \n",
                "                THEN LEN(d.ProductName) - PATINDEX('%[^0-9]%', REVERSE(d.ProductName)) + 1\n",
                "                ELSE LEN(d.ProductName)\n",
                "            END\n",
                "        )\n",
                "    ) AS ModelNumber,\n",
                "    2\n",
                "FROM FileUpload.OriginallyLoadedData d\n",
                "WHERE d.OrderDate IS NOT NULL\n",
                "GROUP BY \n",
                "    d.ProductSubcategory,\n",
                "    d.ProductCode,\n",
                "    d.ProductName,\n",
                "    d.Color;"
            ]
        },
        {
            "attachments": {},
            "cell_type": "markdown",
            "metadata": {
                "azdata_cell_guid": "3ffe16bb-f2b3-4cac-b710-772261d903e3"
            },
            "source": [
                "loading product category"
            ]
        },
        {
            "cell_type": "code",
            "execution_count": null,
            "metadata": {
                "azdata_cell_guid": "9a424772-2864-435a-b6ca-a5bad878b167",
                "language": "sql"
            },
            "outputs": [],
            "source": [
                "INSERT INTO [FileUpload].[ProductCategories] (\n",
                "    ProductCategory,\n",
                "    UserAuthorizationKey\n",
                ")\n",
                "SELECT DISTINCT \n",
                "    ProductCategory,\n",
                "    2\n",
                "FROM FileUpload.OriginallyLoadedData\n",
                "WHERE ProductCategory IS NOT NULL;"
            ]
        },
        {
            "attachments": {},
            "cell_type": "markdown",
            "metadata": {
                "azdata_cell_guid": "12025946-809c-4eab-bff7-4eb3278ccc13"
            },
            "source": [
                "loading product subcategories"
            ]
        },
        {
            "cell_type": "code",
            "execution_count": null,
            "metadata": {
                "azdata_cell_guid": "62762c5f-6232-49a6-ae98-7dd04e00fddb",
                "language": "sql"
            },
            "outputs": [],
            "source": [
                "Insert into [FileUpload].[ProductSubcategories](\n",
                "    ProductSubcategory,\n",
                "    UserAuthorizationKey\n",
                ")\n",
                "Select Distinct \n",
                "    ProductSubCategory,\n",
                "    2\n",
                "From FileUpload.OriginallyLoadedData"
            ]
        },
        {
            "cell_type": "markdown",
            "metadata": {},
            "source": [
                "loading territory"
            ]
        },
        {
            "cell_type": "code",
            "execution_count": null,
            "metadata": {},
            "outputs": [],
            "source": [
                "INSERT INTO [CH01-01-Dimension].[DimTerritory] (\n",
                "    TerritoryGroup,\n",
                "    TerritoryCountry,\n",
                "    TerritoryRegion,\n",
                "    UserAuthorizationKey\n",
                ")\n",
                "Select Distinct\n",
                "    ROW_NUMBER() OVER (ORDER BY d.TerritoryCountry, d.TerritoryRegion, d.TerritoryGroup) AS TerritoryKey,\n",
                "    TerritoryGroup,\n",
                "    TerritoryCountry,\n",
                "    TerritoryRegion,\n",
                "    2\n",
                "From FileUpload.OriginallyLoadedData as d\n",
                "Group by \n",
                "    TerritoryGroup,\n",
                "    TerritoryCountry,\n",
                "    TerritoryRegion"
            ]
        }
    ],
    "metadata": {
        "kernelspec": {
            "display_name": "SQL",
            "language": "sql",
            "name": "SQL"
        },
        "language_info": {
            "name": "sql",
            "version": ""
        }
    },
    "nbformat": 4,
    "nbformat_minor": 2
}
