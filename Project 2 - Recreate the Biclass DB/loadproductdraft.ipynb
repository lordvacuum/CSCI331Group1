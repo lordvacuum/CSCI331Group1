{
    "metadata": {
        "kernelspec": {
            "name": "SQL",
            "display_name": "SQL",
            "language": "sql"
        },
        "language_info": {
            "name": "sql",
            "version": ""
        }
    },
    "nbformat_minor": 2,
    "nbformat": 4,
    "cells": [
        {
            "cell_type": "markdown",
            "source": [
                "YO I NEED SOMEONE TO CHECK OVER THIS !!!!!!!!!"
            ],
            "metadata": {
                "azdata_cell_guid": "375405eb-81ee-407c-ad1b-d238b0a6ca78"
            },
            "attachments": {}
        },
        {
            "cell_type": "markdown",
            "source": [
                "loading product"
            ],
            "metadata": {
                "azdata_cell_guid": "a89266fa-820e-4dc3-9180-ab83c0a6a089"
            },
            "attachments": {}
        },
        {
            "cell_type": "code",
            "source": [
                "INSERT INTO [CH01-01-Dimension].[DimProduct] (\r\n",
                "    ProductKey,\r\n",
                "    ProductSubcategoryKey,\r\n",
                "    ProductCategoryKey,\r\n",
                "    ProductCode,\r\n",
                "    ProductName,\r\n",
                "    Color,\r\n",
                "    ModelNumber,\r\n",
                "    UserAuthorizationKey\r\n",
                ")\r\n",
                "SELECT \r\n",
                "    ROW_NUMBER() OVER (ORDER BY d.ProductCode) AS ProductKey,\r\n",
                "    NULL as ProductSubcategoryKey,\r\n",
                "    d.ProductSubcategory as ProductCategoryKey,\r\n",
                "    d.ProductCode,\r\n",
                "    d.ProductName,\r\n",
                "    d.Color,\r\n",
                "    -- Remove trailing numbers from ProductName to create ModelNumber\r\n",
                "    RTRIM(\r\n",
                "        SUBSTRING(\r\n",
                "            d.ProductName, \r\n",
                "            1, \r\n",
                "            CASE \r\n",
                "                -- Find the last non-digit character\r\n",
                "                WHEN PATINDEX('%[^0-9]%', REVERSE(d.ProductName)) > 0 \r\n",
                "                THEN LEN(d.ProductName) - PATINDEX('%[^0-9]%', REVERSE(d.ProductName)) + 1\r\n",
                "                ELSE LEN(d.ProductName)\r\n",
                "            END\r\n",
                "        )\r\n",
                "    ) AS ModelNumber,\r\n",
                "    2\r\n",
                "FROM FileUpload.OriginallyLoadedData d\r\n",
                "WHERE d.OrderDate IS NOT NULL\r\n",
                "GROUP BY \r\n",
                "    d.ProductSubcategory,\r\n",
                "    d.ProductCode,\r\n",
                "    d.ProductName,\r\n",
                "    d.Color;"
            ],
            "metadata": {
                "azdata_cell_guid": "d740bdf8-abbf-48f1-9dbf-93c76a888d3b",
                "language": "sql",
                "tags": []
            },
            "outputs": [],
            "execution_count": null
        },
        {
            "cell_type": "markdown",
            "source": [
                "loading product category"
            ],
            "metadata": {
                "azdata_cell_guid": "3ffe16bb-f2b3-4cac-b710-772261d903e3"
            },
            "attachments": {}
        },
        {
            "cell_type": "code",
            "source": [
                "INSERT INTO [FileUpload].[ProductCategories] (\r\n",
                "    ProductCategory,\r\n",
                "    UserAuthorizationKey\r\n",
                ")\r\n",
                "SELECT DISTINCT \r\n",
                "    ProductCategory,\r\n",
                "    2\r\n",
                "FROM FileUpload.OriginallyLoadedData\r\n",
                "WHERE ProductCategory IS NOT NULL;"
            ],
            "metadata": {
                "azdata_cell_guid": "9a424772-2864-435a-b6ca-a5bad878b167",
                "language": "sql"
            },
            "outputs": [],
            "execution_count": null
        },
        {
            "cell_type": "markdown",
            "source": [
                "loading product subcategories"
            ],
            "metadata": {
                "azdata_cell_guid": "12025946-809c-4eab-bff7-4eb3278ccc13"
            },
            "attachments": {}
        },
        {
            "cell_type": "code",
            "source": [
                "Insert into [FileUpload].[ProductSubcategories](\r\n",
                "    ProductSubcategory,\r\n",
                "    UserAuthorizationKey\r\n",
                ")\r\n",
                "Select Distinct \r\n",
                "    ProductSubCategory,\r\n",
                "    2\r\n",
                "From FileUpload.OriginallyLoadedData"
            ],
            "metadata": {
                "azdata_cell_guid": "62762c5f-6232-49a6-ae98-7dd04e00fddb",
                "language": "sql"
            },
            "outputs": [],
            "execution_count": null
        }
    ]
}