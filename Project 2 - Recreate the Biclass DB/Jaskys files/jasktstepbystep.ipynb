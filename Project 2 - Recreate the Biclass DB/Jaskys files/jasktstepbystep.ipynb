{
    "metadata": {
        "kernelspec": {
            "name": "SQL",
            "display_name": "SQL",
            "language": "sql"
        },
        "language_info": {
            "name": "sql",
            "version": ""
        }
    },
    "nbformat_minor": 2,
    "nbformat": 4,
    "cells": [
        {
            "cell_type": "markdown",
            "source": [
                "**Group 1 Project 2 Recreate the Biclass Data base, Instructions and Grievances**"
            ],
            "metadata": {
                "azdata_cell_guid": "c9127fa4-53c4-4451-a4a6-aac3fd8ebf01"
            },
            "attachments": {}
        },
        {
            "cell_type": "markdown",
            "source": [
                "Create a table, dbsecurity.UserAuthorization, this table essentially provides peoples keys that are working on the prohjevt imagine i you had yto sing work off with a stamp, this stamp will be your authorizaiton key, when someone queries the keysm it qill shoq the information and identity fo the stamper."
            ],
            "metadata": {
                "azdata_cell_guid": "b9da9e8a-762f-45e0-8ec2-2c6a1add4848"
            },
            "attachments": {}
        },
        {
            "cell_type": "code",
            "source": [
                "-- Create a schema dbsecuirty (dont knwo hwo to yet)"
            ],
            "metadata": {
                "azdata_cell_guid": "2db07ffe-8bd8-46eb-9f8e-92a5d8651d00",
                "language": "sql"
            },
            "outputs": [],
            "execution_count": null
        },
        {
            "cell_type": "code",
            "source": [
                "CREATE TABLE DbSecurity.UserAuthorization (\n",
                "    UserAuthorizationKey INT NOT NULL PRIMARY KEY,\n",
                "    ClassTime VARCHAR(5) NULL DEFAULT '10:45', \n",
                "    IndividualProject NVARCHAR(60) NULL DEFAULT 'PROJECT 2 RECREATE THE BICLASS DATABASE STAR SCHEMA',\n",
                "    GroupMember1Name NVARCHAR(35) NOT NULL,\n",
                "    GroupMember2Name NVARCHAR(35) NOT NULL,\n",
                "    GroupName NVARCHAR(20) NOT NULL,\n",
                "    DateAdded DATETIME2 NULL DEFAULT SYSDATETIME(),\n",
                "    DateofLastUpdate DATETIME2 NULL DEFAULT SYSDATETIME()\n",
                ");"
            ],
            "metadata": {
                "azdata_cell_guid": "0ba32acc-8939-4e9c-afbf-60476e8af1fa",
                "language": "sql"
            },
            "outputs": [],
            "execution_count": null
        },
        {
            "cell_type": "markdown",
            "source": [
                "Fill table <span style=\"font-family: Menlo, Monaco, &quot;Courier New&quot;, monospace; font-size: 12px; white-space: pre; color: rgb(220, 220, 170);\">DbSecurity</span><span style=\"font-family: Menlo, Monaco, &quot;Courier New&quot;, monospace; font-size: 12px; white-space: pre; color: var(--vscode-foreground);\">.UserAuthorization</span>"
            ],
            "metadata": {
                "language": "sql",
                "azdata_cell_guid": "b7a73120-4511-4888-bdf1-1adb39b4e741"
            },
            "attachments": {}
        },
        {
            "cell_type": "code",
            "source": [
                "INSERT INTO DbSecurity.UserAuthorization (\n",
                "    UserAuthorizationKey,\n",
                "    ClassTime,\n",
                "    GroupMember1Name,\n",
                "    GroupMember2Name,\n",
                "    GroupName\n",
                ")\n",
                "VALUES\n",
                "(1, '10:45', 'David Cristobal', 'Jaskaran Bains', 'GROUP #1'),\n",
                "(2, '10:45', 'Ashly Felix', 'Richard Garnica', 'GROUP #1'),\n",
                "(3, '10:45', 'Mai Vathada', 'William Wang', 'GROUP #1');\n",
                "\n",
                "SELECT *\n",
                "FROM DbSecurity.UserAuthorization"
            ],
            "metadata": {
                "language": "sql",
                "azdata_cell_guid": "f1828a10-f65b-4a90-af54-b98003cd835c"
            },
            "outputs": [],
            "execution_count": null
        },
        {
            "cell_type": "markdown",
            "source": [
                "Create the Process.WorkflowSteps Table"
            ],
            "metadata": {
                "language": "sql",
                "azdata_cell_guid": "de27e455-03fb-4bfb-934d-a7c279474a6d"
            },
            "attachments": {}
        },
        {
            "cell_type": "code",
            "source": [
                "CREATE TABLE Process.WorkflowSteps (\n",
                "    WorkFlowStepKey INT NOT NULL PRIMARY KEY,\n",
                "    WorkFlowStepDescription NVARCHAR(100) NOT NULL,\n",
                "    WorkFlowStepTableRowCount INT NULL DEFAULT 0,\n",
                "    StartingDateTime DATETIME2 NULL DEFAULT SYSDATETIME(),\n",
                "    EndingDateTime DATETIME2 NULL DEFAULT SYSDATETIME(),\n",
                "    ClassTime VARCHAR(5) NULL DEFAULT '10:45',\n",
                "    UserAuthorizationKey INT NOT NULL,\n",
                "    CONSTRAINT FK_WorkflowSteps_UserAuthorization FOREIGN KEY (UserAuthorizationKey) \n",
                "        REFERENCES DbSecurity.UserAuthorization (UserAuthorizationKey)\n",
                ");"
            ],
            "metadata": {
                "language": "sql",
                "azdata_cell_guid": "c3aa118d-e850-44db-b3ae-5f21d2ecea8a"
            },
            "outputs": [],
            "execution_count": null
        },
        {
            "cell_type": "markdown",
            "source": [
                "Create the Process.usp\\_TrackWorkFlow Stored Procedure"
            ],
            "metadata": {
                "language": "sql",
                "azdata_cell_guid": "244d46fe-19fa-4571-9776-1111c929a14f"
            },
            "attachments": {}
        },
        {
            "cell_type": "code",
            "source": [
                "-- =============================================\n",
                "-- Author: [Your Name]\n",
                "-- Procedure: Process.usp_TrackWorkFlow\n",
                "-- Create date: 2025-04-12\n",
                "-- Description: Logs a workflow step into Process.WorkflowSteps with description, row count, and timing details.\n",
                "-- =============================================\n",
                "CREATE PROCEDURE Process.usp_TrackWorkFlow\n",
                "    @StartTime DATETIME2,\n",
                "    @WorkFlowDescription NVARCHAR(100),\n",
                "    @WorkFlowStepTableRowCount INT,\n",
                "    @UserAuthorizationKey INT\n",
                "AS\n",
                "BEGIN\n",
                "    SET NOCOUNT ON;\n",
                "\n",
                "    -- Insert workflow step details\n",
                "    INSERT INTO Process.WorkflowSteps (\n",
                "        WorkFlowStepKey,\n",
                "        WorkFlowStepDescription,\n",
                "        WorkFlowStepTableRowCount,\n",
                "        StartingDateTime,\n",
                "        EndingDateTime,\n",
                "        ClassTime,\n",
                "        UserAuthorizationKey\n",
                "    )\n",
                "    VALUES (\n",
                "        (SELECT ISNULL(MAX(WorkFlowStepKey), 0) + 1 FROM Process.WorkflowSteps), -- Auto-increment WorkFlowStepKey\n",
                "        @WorkFlowDescription,\n",
                "        @WorkFlowStepTableRowCount,\n",
                "        @StartTime,\n",
                "        SYSDATETIME(), -- Capture end time as current time\n",
                "        '10:45', -- Default class time\n",
                "        @UserAuthorizationKey\n",
                "    );\n",
                "END;\n",
                "GO"
            ],
            "metadata": {
                "language": "sql",
                "azdata_cell_guid": "575f45e2-54cb-47c8-9243-e11b0635bde9"
            },
            "outputs": [],
            "execution_count": null
        },
        {
            "cell_type": "markdown",
            "source": [
                "Create the <span style=\"font-family: -apple-system, BlinkMacSystemFont, sans-serif; color: var(--vscode-foreground);\">[CH01</span><span style=\"font-family: -apple-system, BlinkMacSystemFont, sans-serif; color: rgb(209, 154, 102);\">-01</span><span class=\"hljs-operator\" style=\"font-family: -apple-system, BlinkMacSystemFont, sans-serif; color: var(--vscode-foreground);\">-</span><span style=\"font-family: -apple-system, BlinkMacSystemFont, sans-serif; color: var(--vscode-foreground);\">Dimension].DimProductCategory table</span>"
            ],
            "metadata": {
                "language": "sql",
                "azdata_cell_guid": "08e5a794-9b2d-4e36-8752-3d8f26566b6f"
            },
            "attachments": {}
        },
        {
            "cell_type": "code",
            "source": [
                "CREATE TABLE [CH01-01-Dimension].DimProductCategory (\n",
                "    ProductCategoryKey INT NOT NULL PRIMARY KEY,\n",
                "    CategoryName NVARCHAR(50) NOT NULL,\n",
                "    UserAuthorizationKey INT NOT NULL,\n",
                "    DateAdded DATETIME2 NULL DEFAULT SYSDATETIME(),\n",
                "    DateOfLastUpdate DATETIME2 NULL DEFAULT SYSDATETIME(),\n",
                "    CONSTRAINT FK_DimProductCategory_UserAuthorization \n",
                "        FOREIGN KEY (UserAuthorizationKey) \n",
                "        REFERENCES DbSecurity.UserAuthorization (UserAuthorizationKey)\n",
                ");\n",
                ""
            ],
            "metadata": {
                "language": "sql",
                "azdata_cell_guid": "aa8a68f7-fb47-4b76-8c36-a63d03570ae5"
            },
            "outputs": [],
            "execution_count": null
        },
        {
            "cell_type": "markdown",
            "source": [
                "Create the <span style=\"color: var(--vscode-foreground); font-family: -apple-system, BlinkMacSystemFont, sans-serif;\">[CH01</span><span style=\"font-family: -apple-system, BlinkMacSystemFont, sans-serif; color: rgb(209, 154, 102);\">-01</span><span class=\"hljs-operator\" style=\"color: var(--vscode-foreground); font-family: -apple-system, BlinkMacSystemFont, sans-serif;\">-</span><span style=\"color: var(--vscode-foreground); font-family: -apple-system, BlinkMacSystemFont, sans-serif;\">Dimension].DimProductSubCategory table</span>"
            ],
            "metadata": {
                "language": "sql",
                "azdata_cell_guid": "0b08ed32-28b1-402c-8cdf-a5c28b7fd4c5"
            },
            "attachments": {}
        },
        {
            "cell_type": "code",
            "source": [
                "CREATE TABLE [CH01-01-Dimension].DimProductSubcategory (\n",
                "    ProductSubcategoryKey INT NOT NULL PRIMARY KEY,\n",
                "    SubcategoryName NVARCHAR(50) NOT NULL,\n",
                "    ProductCategoryKey INT NOT NULL,\n",
                "    UserAuthorizationKey INT NOT NULL,\n",
                "    DateAdded DATETIME2 NULL DEFAULT SYSDATETIME(),\n",
                "    DateOfLastUpdate DATETIME2 NULL DEFAULT SYSDATETIME(),\n",
                "    CONSTRAINT FK_DimProductSubcategory_ProductCategory \n",
                "        FOREIGN KEY (ProductCategoryKey) \n",
                "        REFERENCES [CH01-01-Dimension].DimProductCategory (ProductCategoryKey),\n",
                "    CONSTRAINT FK_DimProductSubcategory_UserAuthorization \n",
                "        FOREIGN KEY (UserAuthorizationKey) \n",
                "        REFERENCES DbSecurity.UserAuthorization (UserAuthorizationKey)\n",
                ");"
            ],
            "metadata": {
                "language": "sql",
                "azdata_cell_guid": "01493591-028c-452d-b58f-4bb681f0f21d"
            },
            "outputs": [],
            "execution_count": null
        }
    ]
}