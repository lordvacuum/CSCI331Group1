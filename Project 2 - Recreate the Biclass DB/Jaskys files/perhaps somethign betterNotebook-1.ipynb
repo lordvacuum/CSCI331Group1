{
    "metadata": {
        "kernelspec": {
            "name": "SQL",
            "display_name": "SQL",
            "language": "sql"
        },
        "language_info": {
            "name": "sql",
            "version": ""
        }
    },
    "nbformat_minor": 2,
    "nbformat": 4,
    "cells": [
        {
            "cell_type": "code",
            "source": [
                "SET ANSI_NULLS ON\n",
                "GO\n",
                "SET QUOTED_IDENTIFIER ON\n",
                "GO\n",
                "-- =============================================\n",
                "-- Author: Ashly Felix and Jaskaran Bains\n",
                "-- Create date: 2025-04-12\n",
                "-- Description: Creates the DbSecurity schema\n",
                "-- =============================================\n",
                "CREATE PROCEDURE [Project2].[CreateSchemaDbSecurity]\n",
                "AS\n",
                "BEGIN\n",
                "    SET NOCOUNT ON;\n",
                "\n",
                "\n",
                "    -- Create the Process schema if it doesn't exist\n",
                "    IF NOT EXISTS (SELECT 1 FROM sys.schemas WHERE name = 'DbSecurity')\n",
                "    BEGIN\n",
                "        -- Use dynamic SQL to isolate CREATE SCHEMA in its own batch\n",
                "        EXEC sp_executesql N'CREATE SCHEMA DbSecurity';\n",
                "    END\n",
                "END;\n",
                "GO"
            ],
            "metadata": {
                "azdata_cell_guid": "2de180b8-9662-4895-bfad-14ba5443bde7",
                "language": "sql"
            },
            "outputs": [
                {
                    "output_type": "display_data",
                    "data": {
                        "text/html": "Commands completed successfully."
                    },
                    "metadata": {}
                },
                {
                    "output_type": "display_data",
                    "data": {
                        "text/html": "Commands completed successfully."
                    },
                    "metadata": {}
                },
                {
                    "output_type": "error",
                    "evalue": "Msg 2714, Level 16, State 3, Procedure CreateSchemaDbSecurity, Line 6\nThere is already an object named 'CreateSchemaDbSecurity' in the database.",
                    "ename": "",
                    "traceback": []
                },
                {
                    "output_type": "display_data",
                    "data": {
                        "text/html": "Total execution time: 00:00:00.013"
                    },
                    "metadata": {}
                }
            ],
            "execution_count": 2
        },
        {
            "cell_type": "code",
            "source": [
                "EXEC [Project2].[CreateSchemaDbSecurity];"
            ],
            "metadata": {
                "language": "sql",
                "azdata_cell_guid": "c116aa6c-3a6f-4b61-887f-97c024606765"
            },
            "outputs": [
                {
                    "output_type": "display_data",
                    "data": {
                        "text/html": "Commands completed successfully."
                    },
                    "metadata": {}
                },
                {
                    "output_type": "display_data",
                    "data": {
                        "text/html": "Total execution time: 00:00:00.020"
                    },
                    "metadata": {}
                }
            ],
            "execution_count": 3
        },
        {
            "cell_type": "code",
            "source": [
                "SET ANSI_NULLS ON\n",
                "GO\n",
                "SET QUOTED_IDENTIFIER ON\n",
                "GO\n",
                "-- =============================================\n",
                "-- Author: Ashly Felix \n",
                "-- Create date: 2025-04-12\n",
                "-- Description: Creates the Process schema\n",
                "-- =============================================\n",
                "CREATE PROCEDURE [Project2].[CreateSchemaProcess]\n",
                "AS\n",
                "BEGIN\n",
                "    SET NOCOUNT ON;\n",
                "\n",
                "    -- Create the Process schema if it doesn't exist\n",
                "    IF NOT EXISTS (SELECT 1 FROM sys.schemas WHERE name = 'Process')\n",
                "    BEGIN\n",
                "        -- Use dynamic SQL to isolate CREATE SCHEMA in its own batch\n",
                "        EXEC sp_executesql N'CREATE SCHEMA Process';\n",
                "    END\n",
                "END;\n",
                "GO"
            ],
            "metadata": {
                "language": "sql",
                "azdata_cell_guid": "dcf31c77-e22c-474f-9b15-35de7749ef68"
            },
            "outputs": [
                {
                    "output_type": "display_data",
                    "data": {
                        "text/html": "Commands completed successfully."
                    },
                    "metadata": {}
                },
                {
                    "output_type": "display_data",
                    "data": {
                        "text/html": "Commands completed successfully."
                    },
                    "metadata": {}
                },
                {
                    "output_type": "error",
                    "evalue": "Msg 2714, Level 16, State 3, Procedure CreateSchemaProcess, Line 6\nThere is already an object named 'CreateSchemaProcess' in the database.",
                    "ename": "",
                    "traceback": []
                },
                {
                    "output_type": "display_data",
                    "data": {
                        "text/html": "Total execution time: 00:00:00.008"
                    },
                    "metadata": {}
                }
            ],
            "execution_count": 4
        },
        {
            "cell_type": "code",
            "source": [
                "EXEC [Project2].[CreateSchemaProcess];"
            ],
            "metadata": {
                "language": "sql",
                "azdata_cell_guid": "3208d93b-efae-4088-9644-3cc1d14bed89"
            },
            "outputs": [
                {
                    "output_type": "display_data",
                    "data": {
                        "text/html": "Commands completed successfully."
                    },
                    "metadata": {}
                },
                {
                    "output_type": "display_data",
                    "data": {
                        "text/html": "Total execution time: 00:00:00.005"
                    },
                    "metadata": {}
                }
            ],
            "execution_count": 5
        },
        {
            "cell_type": "code",
            "source": [
                "SET ANSI_NULLS ON\n",
                "GO\n",
                "SET QUOTED_IDENTIFIER ON\n",
                "GO\n",
                "-- =============================================\n",
                "-- Author: Ashly Felix\n",
                "-- Create date: 2025-04-12\n",
                "-- Description: Creates the DbSecurity.UserAuthorization table\n",
                "-- =============================================\n",
                "CREATE PROCEDURE [Project2].[CreateUserAuthorizationTable]\n",
                "AS\n",
                "BEGIN\n",
                "    SET NOCOUNT ON;\n",
                "\n",
                "\n",
                "    -- Drop the table if it exists\n",
                "    IF EXISTS (SELECT 1 FROM INFORMATION_SCHEMA.TABLES \n",
                "               WHERE TABLE_SCHEMA = 'DbSecurity' AND TABLE_NAME = 'UserAuthorization')\n",
                "    BEGIN\n",
                "        DROP TABLE DbSecurity.UserAuthorization;\n",
                "    END;\n",
                "\n",
                "    -- Create the DbSecurity.UserAuthorization table\n",
                "    CREATE TABLE DbSecurity.UserAuthorization (\n",
                "        UserAuthorizationKey INT NOT NULL PRIMARY KEY,\n",
                "        ClassTime NCHAR(5) NULL CHECK (ClassTime IN ('10:45')),\n",
                "        IndividualProject NVARCHAR(60) NULL DEFAULT 'PROJECT 2 RECREATE THE BICLASS DATABASE STAR SCHEMA',\n",
                "        GroupMemberLastName NVARCHAR(35) NOT NULL,\n",
                "        GroupMemberFirstName NVARCHAR(25) NOT NULL,\n",
                "        GroupName NVARCHAR(20) NOT NULL,\n",
                "        DateAdded DATETIME2 NULL DEFAULT SYSDATETIME(),\n",
                "        DateOfLastUpdate DATETIME2 NULL DEFAULT SYSDATETIME()\n",
                "    );\n",
                "\n",
                "    -- Insert initial data\n",
                "    INSERT INTO DbSecurity.UserAuthorization (\n",
                "        UserAuthorizationKey,\n",
                "        ClassTime,\n",
                "        IndividualProject,\n",
                "        GroupMemberLastName,\n",
                "        GroupMemberFirstName,\n",
                "        GroupName,\n",
                "        DateAdded,\n",
                "        DateOfLastUpdate\n",
                "    )\n",
                "    VALUES\n",
                "        (1, '10:45', 'create store procedures', 'Bains', 'Jasky', 'Group#1', DEFAULT, DEFAULT),\n",
                "        (2, '10:45', 'drop foreign keys', 'Vathada', 'Mai', 'Group#1', DEFAULT, DEFAULT),\n",
                "        (3, '10:45', 'load data', 'Garnica', 'Richard', 'Group#1', DEFAULT, DEFAULT),\n",
                "        (4, '10:45', 'truncate tables', 'Wang', 'William', 'Group#1', DEFAULT, DEFAULT),\n",
                "        (5, '10:45', 'Create first tables', 'Felix', 'Ashly', 'Group#1', DEFAULT, DEFAULT),\n",
                "        (6, '10:45', 'load data', 'Cristobal', 'David', 'Group#1', DEFAULT, DEFAULT),\n",
                "        (7, '10:45', 'default', 'default', 'default', 'default', DEFAULT, DEFAULT);\n",
                "\n",
                "END;\n",
                "GO"
            ],
            "metadata": {
                "language": "sql",
                "azdata_cell_guid": "4747ff88-e905-4a26-9499-d3a4ec45b195"
            },
            "outputs": [
                {
                    "output_type": "display_data",
                    "data": {
                        "text/html": "Commands completed successfully."
                    },
                    "metadata": {}
                },
                {
                    "output_type": "display_data",
                    "data": {
                        "text/html": "Commands completed successfully."
                    },
                    "metadata": {}
                },
                {
                    "output_type": "error",
                    "evalue": "Msg 2714, Level 16, State 3, Procedure CreateUserAuthorizationTable, Line 6\nThere is already an object named 'CreateUserAuthorizationTable' in the database.",
                    "ename": "",
                    "traceback": []
                },
                {
                    "output_type": "display_data",
                    "data": {
                        "text/html": "Total execution time: 00:00:00.013"
                    },
                    "metadata": {}
                }
            ],
            "execution_count": 6
        },
        {
            "cell_type": "code",
            "source": [
                "EXEC [Project2].[CreateUserAuthorizationTable];"
            ],
            "metadata": {
                "language": "sql",
                "azdata_cell_guid": "42451988-e062-41d3-8b73-7e84c6f77e87"
            },
            "outputs": [
                {
                    "output_type": "error",
                    "evalue": "Msg 3726, Level 16, State 1, Procedure Project2.CreateUserAuthorizationTable, Line 16\nCould not drop object 'DbSecurity.UserAuthorization' because it is referenced by a FOREIGN KEY constraint.",
                    "ename": "",
                    "traceback": []
                },
                {
                    "output_type": "error",
                    "evalue": "Msg 2714, Level 16, State 6, Procedure Project2.CreateUserAuthorizationTable, Line 20\nThere is already an object named 'UserAuthorization' in the database.",
                    "ename": "",
                    "traceback": []
                },
                {
                    "output_type": "display_data",
                    "data": {
                        "text/html": "Total execution time: 00:00:00.011"
                    },
                    "metadata": {}
                }
            ],
            "execution_count": 25
        },
        {
            "cell_type": "code",
            "source": [
                "SET ANSI_NULLS ON\n",
                "GO \n",
                "SET QUOTED_IDENTIFIER ON\n",
                "GO\n",
                "-- =============================================\n",
                "-- Author: Ashly Felix \n",
                "-- Create date: 2025-04-12\n",
                "-- Description: Create the [Process].WorkflowSteps Table\n",
                "-- =============================================\n",
                "CREATE PROCEDURE [Project2].[CreateWorkFlowTable]\n",
                "AS\n",
                "BEGIN\n",
                "    SET NOCOUNT ON;\n",
                "    DECLARE @StartTime DATETIME2 = SYSDATETIME();\n",
                "    \n",
                "CREATE TABLE [Process].WorkflowSteps (\n",
                "    WorkFlowStepKey INT NOT NULL PRIMARY KEY,\n",
                "    WorkFlowStepDescription NVARCHAR(100) NOT NULL,\n",
                "    WorkFlowStepTableRowCount INT NULL DEFAULT 0,\n",
                "    StartingDateTime DATETIME2 NULL DEFAULT SYSDATETIME(),\n",
                "    EndingDateTime DATETIME2 NULL DEFAULT SYSDATETIME(),\n",
                "    ClassTime VARCHAR(5) NULL DEFAULT '10:45',\n",
                "    UserAuthorizationKey INT NOT NULL,\n",
                "    CONSTRAINT FK_WorkflowSteps_UserAuthorization FOREIGN KEY (UserAuthorizationKey) \n",
                "        REFERENCES DbSecurity.UserAuthorization (UserAuthorizationKey)\n",
                ");\n",
                "\n",
                "END;\n",
                "GO\n",
                ""
            ],
            "metadata": {
                "language": "sql",
                "azdata_cell_guid": "fe39c695-c186-461e-85cb-e0504938ca8e"
            },
            "outputs": [
                {
                    "output_type": "display_data",
                    "data": {
                        "text/html": "Commands completed successfully."
                    },
                    "metadata": {}
                },
                {
                    "output_type": "display_data",
                    "data": {
                        "text/html": "Commands completed successfully."
                    },
                    "metadata": {}
                },
                {
                    "output_type": "display_data",
                    "data": {
                        "text/html": "Commands completed successfully."
                    },
                    "metadata": {}
                },
                {
                    "output_type": "display_data",
                    "data": {
                        "text/html": "Total execution time: 00:00:00.011"
                    },
                    "metadata": {}
                }
            ],
            "execution_count": 23
        },
        {
            "cell_type": "code",
            "source": [
                "EXEC [Project2].[CreateWorkFlowTable];"
            ],
            "metadata": {
                "language": "sql",
                "azdata_cell_guid": "c885c199-ea44-41b1-9c78-3b2c016ec996"
            },
            "outputs": [
                {
                    "output_type": "display_data",
                    "data": {
                        "text/html": "Commands completed successfully."
                    },
                    "metadata": {}
                },
                {
                    "output_type": "display_data",
                    "data": {
                        "text/html": "Total execution time: 00:00:00.012"
                    },
                    "metadata": {}
                }
            ],
            "execution_count": 24
        },
        {
            "cell_type": "code",
            "source": [
                "-- =============================================\n",
                "-- Author: Ashly Felix\n",
                "-- Procedure: [Process].usp_TrackWorkFlow\n",
                "-- Create date: 2025-04-12\n",
                "-- Description: Logs a workflow step into [Process].WorkflowSteps with description, row count, and timing details.\n",
                "-- =============================================\n",
                "CREATE PROCEDURE [Process].[usp_TrackWorkFlow]\n",
                "    @StartTime DATETIME2,\n",
                "    @WorkFlowDescription NVARCHAR(100),\n",
                "    @WorkFlowStepTableRowCount INT,\n",
                "    @UserAuthorizationKey INT\n",
                "AS\n",
                "BEGIN\n",
                "    SET NOCOUNT ON;\n",
                "\n",
                "    -- Insert workflow step details\n",
                "    INSERT INTO [Process].[WorkflowSteps] (\n",
                "        WorkFlowStepKey,\n",
                "        WorkFlowStepDescription,\n",
                "        WorkFlowStepTableRowCount,\n",
                "        StartingDateTime,\n",
                "        EndingDateTime,\n",
                "        ClassTime,\n",
                "        UserAuthorizationKey\n",
                "    )\n",
                "    VALUES (\n",
                "        (SELECT ISNULL(MAX(WorkFlowStepKey), 0) + 1 FROM [Process].WorkflowSteps),\n",
                "        @WorkFlowDescription,\n",
                "        @WorkFlowStepTableRowCount,\n",
                "        @StartTime,\n",
                "        SYSDATETIME(),\n",
                "        (SELECT ClassTime FROM DbSecurity.UserAuthorization WHERE UserAuthorizationKey = @UserAuthorizationKey),\n",
                "        @UserAuthorizationKey\n",
                "    );\n",
                "END;\n",
                "GO"
            ],
            "metadata": {
                "language": "sql",
                "azdata_cell_guid": "dcfa93bf-e4c4-4df9-9b43-f4ffa144d814"
            },
            "outputs": [
                {
                    "output_type": "display_data",
                    "data": {
                        "text/html": "Commands completed successfully."
                    },
                    "metadata": {}
                },
                {
                    "output_type": "display_data",
                    "data": {
                        "text/html": "Total execution time: 00:00:00.017"
                    },
                    "metadata": {}
                }
            ],
            "execution_count": 47
        },
        {
            "cell_type": "code",
            "source": [
                "SET ANSI_NULLS ON\n",
                "GO\n",
                "SET QUOTED_IDENTIFIER ON\n",
                "GO\n",
                "-- =============================================\n",
                "-- Author: Ashly Felix and Jaskaran Bains\n",
                "-- Create date: 2025-04-13\n",
                "-- Description: Queries the [Process].WorkflowSteps table to display all logged workflow steps\n",
                "-- =============================================\n",
                "CREATE PROCEDURE [Process].[usp_ShowWorkflowSteps]\n",
                "    @UserAuthorizationKey INT -- To log who executed this\n",
                "AS\n",
                "BEGIN\n",
                "    SET NOCOUNT ON;\n",
                "\n",
                "    DECLARE @StartTime DATETIME2 = SYSDATETIME();\n",
                "\n",
                "    -- Select all columns from [Process].WorkflowSteps, ordered by WorkFlowStepKey\n",
                "    SELECT \n",
                "        WorkFlowStepKey,\n",
                "        WorkFlowStepDescription,\n",
                "        WorkFlowStepTableRowCount,\n",
                "        StartingDateTime,\n",
                "        EndingDateTime,\n",
                "        ClassTime,\n",
                "        UserAuthorizationKey\n",
                "    FROM [Process].WorkflowSteps\n",
                "    ORDER BY WorkFlowStepKey;\n",
                "\n",
                "    -- Log the operation\n",
                "    EXEC [Process].usp_TrackWorkFlow\n",
                "        @StartTime = @StartTime,\n",
                "        @WorkFlowDescription = 'Queried [Process].WorkflowSteps table to display workflow steps',\n",
                "        @WorkFlowStepTableRowCount = @@ROWCOUNT,\n",
                "        @UserAuthorizationKey = @UserAuthorizationKey;\n",
                "END;\n",
                "GO"
            ],
            "metadata": {
                "language": "sql",
                "azdata_cell_guid": "f797cf45-9e17-4424-8c52-5cd478733e8b"
            },
            "outputs": [
                {
                    "output_type": "display_data",
                    "data": {
                        "text/html": "Commands completed successfully."
                    },
                    "metadata": {}
                },
                {
                    "output_type": "display_data",
                    "data": {
                        "text/html": "Commands completed successfully."
                    },
                    "metadata": {}
                },
                {
                    "output_type": "error",
                    "evalue": "Msg 2714, Level 16, State 3, Procedure usp_ShowWorkflowSteps, Line 6\nThere is already an object named 'usp_ShowWorkflowSteps' in the database.",
                    "ename": "",
                    "traceback": []
                },
                {
                    "output_type": "display_data",
                    "data": {
                        "text/html": "Total execution time: 00:00:00.007"
                    },
                    "metadata": {}
                }
            ],
            "execution_count": 19
        },
        {
            "cell_type": "code",
            "source": [
                "SET ANSI_NULLS ON\n",
                "GO\n",
                "SET QUOTED_IDENTIFIER ON\n",
                "GO\n",
                "-- =============================================\n",
                "-- Author: Ashly Felix\n",
                "-- Create date: 4/13/25\n",
                "-- Description:\tDrops all the stored procedures that came in the db bc we will make our own\n",
                "-- =============================================\n",
                "ALTER procedure [Utils].[DropProcsInCSCI331FinalProject]\n",
                "        @UserAuthorizationKey INT -- To log who executed this\n",
                "as\n",
                "begin\n",
                "    set nocount on;\n",
                "    DECLARE @StartTime DATETIME2 = SYSDATETIME();\n",
                "    --select concat('drop prodcedure if exists  ', schema_name(o.schema_id), '.', name)\n",
                "    --from sys.objects as o\n",
                "    --where o.type = 'P'\n",
                "    --      and o.schema_id = 9;\n",
                "\n",
                "    drop proc if exists Project2.Load_SalesManagers;\n",
                "    drop proc if exists Project2.Load_DimProductSubcategory;\n",
                "    drop proc if exists Project2.Load_DimProductCategory;\n",
                "    drop proc if exists Project2.Load_DimGender;\n",
                "    drop proc if exists Project2.Load_DimMaritalStatus;\n",
                "    drop proc if exists Project2.Load_DimOccupation;\n",
                "    drop proc if exists Project2.Load_DimOrderDate;\n",
                "    drop proc if exists Project2.Load_DimTerritory;\n",
                "    drop proc if exists Project2.Load_DimProduct;\n",
                "    drop proc if exists Project2.Load_DimCustomer;\n",
                "    drop proc if exists Project2.Load_Data;\n",
                "    drop proc if exists Project2.LoadSalesManagers;\n",
                "    drop proc if exists Project2.LoaDimProductSubcategory;\n",
                "    drop proc if exists Project2.LoadDimProductCategory;\n",
                "    drop proc if exists Project2.LoadDimGender;\n",
                "    drop proc if exists Project2.LoadDimMaritalStatus;\n",
                "    drop proc if exists Project2.LoadDimOccupation;\n",
                "    drop proc if exists Project2.LoadDimOrderDate;\n",
                "    drop proc if exists Project2.LoadDimTerritory;\n",
                "    drop proc if exists Project2.LoadDimProduct;\n",
                "    drop proc if exists Project2.LoadDimCustomer;\n",
                "    drop proc if exists Project2.LoadData;\n",
                "    drop proc if exists Project2.TruncateStarSchemaData;\n",
                "    drop proc if exists Project2.LoadStarSchemaData;\n",
                "\n",
                "    EXEC [Process].usp_TrackWorkFlow\n",
                "         @StartTime = @StartTime,\n",
                "         @WorkFlowDescription = 'Dropped all stored procedures in Project2',\n",
                "         @WorkFlowStepTableRowCount = 0,\n",
                "         @UserAuthorizationKey = @UserAuthorizationKey;\n",
                "end;\n",
                "GO\n",
                ""
            ],
            "metadata": {
                "language": "sql",
                "azdata_cell_guid": "c88f5e5e-2696-49d7-b6e9-a880008be337"
            },
            "outputs": [
                {
                    "output_type": "display_data",
                    "data": {
                        "text/html": "Commands completed successfully."
                    },
                    "metadata": {}
                },
                {
                    "output_type": "display_data",
                    "data": {
                        "text/html": "Commands completed successfully."
                    },
                    "metadata": {}
                },
                {
                    "output_type": "display_data",
                    "data": {
                        "text/html": "Commands completed successfully."
                    },
                    "metadata": {}
                },
                {
                    "output_type": "display_data",
                    "data": {
                        "text/html": "Total execution time: 00:00:00.010"
                    },
                    "metadata": {}
                }
            ],
            "execution_count": 31
        },
        {
            "cell_type": "code",
            "source": [
                "EXEC [Utils].[DropProcsInCSCI331FinalProject] 1;"
            ],
            "metadata": {
                "language": "sql",
                "azdata_cell_guid": "ca243033-a193-4c00-adf0-9b0eed224e99"
            },
            "outputs": [
                {
                    "output_type": "display_data",
                    "data": {
                        "text/html": "Commands completed successfully."
                    },
                    "metadata": {}
                },
                {
                    "output_type": "display_data",
                    "data": {
                        "text/html": "Total execution time: 00:00:00.032"
                    },
                    "metadata": {}
                }
            ],
            "execution_count": 32
        },
        {
            "cell_type": "code",
            "source": [
                "SET ANSI_NULLS ON\n",
                "GO\n",
                "SET QUOTED_IDENTIFIER ON\n",
                "GO\n",
                "-- =============================================\n",
                "-- Author: Jaskaran Bains\n",
                "-- Create date: 2025-04-13\n",
                "-- Description: Creates the PkSequence schema if it does not already exist. This schema is used to store all sequence objects for surrogate keys.\n",
                "-- =============================================\n",
                "CREATE PROCEDURE [Project2].[CreatePkSequenceSchema]\n",
                "    @UserAuthorizationKey INT\n",
                "AS\n",
                "BEGIN\n",
                "    SET NOCOUNT ON;\n",
                "\n",
                "    DECLARE @StartTime DATETIME2 = SYSDATETIME();\n",
                "\n",
                "    -- Check if schema exists, create if missing\n",
                "    IF NOT EXISTS (\n",
                "        SELECT 1 \n",
                "        FROM sys.schemas \n",
                "        WHERE name = 'PkSequence'\n",
                "    )\n",
                "    BEGIN\n",
                "        EXEC('CREATE SCHEMA PkSequence');\n",
                "    END\n",
                "\n",
                "    -- Log operation\n",
                "    EXEC [Process].usp_TrackWorkFlow\n",
                "        @StartTime = @StartTime,\n",
                "        @WorkFlowDescription = 'Checked and created schema: PkSequence for sequence object storage',\n",
                "        @WorkFlowStepTableRowCount = 0,\n",
                "        @UserAuthorizationKey = @UserAuthorizationKey;\n",
                "END;\n",
                "GO"
            ],
            "metadata": {
                "language": "sql",
                "azdata_cell_guid": "5011cbec-f66b-449c-800f-9b84b98eff57"
            },
            "outputs": [
                {
                    "output_type": "display_data",
                    "data": {
                        "text/html": "Commands completed successfully."
                    },
                    "metadata": {}
                },
                {
                    "output_type": "display_data",
                    "data": {
                        "text/html": "Commands completed successfully."
                    },
                    "metadata": {}
                },
                {
                    "output_type": "error",
                    "evalue": "Msg 2714, Level 16, State 3, Procedure CreatePkSequenceSchema, Line 6\nThere is already an object named 'CreatePkSequenceSchema' in the database.",
                    "ename": "",
                    "traceback": []
                },
                {
                    "output_type": "display_data",
                    "data": {
                        "text/html": "Total execution time: 00:00:00.008"
                    },
                    "metadata": {}
                }
            ],
            "execution_count": 33
        },
        {
            "cell_type": "code",
            "source": [
                "EXEC [Project2].[CreatePkSequenceSchema] 1;"
            ],
            "metadata": {
                "language": "sql",
                "azdata_cell_guid": "6bcda420-91ea-4f85-8e39-871a4a3e0c3c"
            },
            "outputs": [
                {
                    "output_type": "display_data",
                    "data": {
                        "text/html": "Commands completed successfully."
                    },
                    "metadata": {}
                },
                {
                    "output_type": "display_data",
                    "data": {
                        "text/html": "Total execution time: 00:00:00.004"
                    },
                    "metadata": {}
                }
            ],
            "execution_count": 34
        },
        {
            "cell_type": "code",
            "source": [
                "SET ANSI_NULLS ON\n",
                "GO\n",
                "SET QUOTED_IDENTIFIER ON\n",
                "GO\n",
                "-- =============================================\n",
                "-- Author: Ashly Felix\n",
                "-- Create date: 4/12/25\n",
                "-- Description: Creates the DimProductCategory table\n",
                "-- =============================================\n",
                "CREATE PROCEDURE [Project2].[CreateProductCategory]\n",
                "    @UserAuthorizationKey INT -- To log who executed this\n",
                "AS\n",
                "BEGIN\n",
                "    SET NOCOUNT ON;\n",
                "\n",
                "    DECLARE @StartTime DATETIME2 = SYSDATETIME();\n",
                "\n",
                "    -- Drop the table if it exists\n",
                "    IF EXISTS (SELECT 1 FROM INFORMATION_SCHEMA.TABLES \n",
                "               WHERE TABLE_SCHEMA = 'CH01-01-Dimension' AND TABLE_NAME = 'DimProductCategory')\n",
                "    BEGIN\n",
                "        DROP TABLE [CH01-01-Dimension].DimProductCategory;\n",
                "    END;\n",
                "\n",
                "    -- Create the DimProductCategory table\n",
                "    CREATE TABLE [CH01-01-Dimension].DimProductCategory (\n",
                "        ProductCategoryKey INT NOT NULL PRIMARY KEY,\n",
                "        ProductCategory NVARCHAR(50) NOT NULL, -- Corrected column name to match diagram\n",
                "        UserAuthorizationKey INT NOT NULL,\n",
                "        DateAdded DATETIME2 NULL DEFAULT SYSDATETIME(),\n",
                "        DateOfLastUpdate DATETIME2 NULL DEFAULT SYSDATETIME(),\n",
                "        CONSTRAINT FK_DimProductCategory_UserAuthorization \n",
                "            FOREIGN KEY (UserAuthorizationKey) \n",
                "            REFERENCES DbSecurity.UserAuthorization (UserAuthorizationKey)\n",
                "    );\n",
                "\n",
                "    -- Log the operation\n",
                "    EXEC [Process].usp_TrackWorkFlow\n",
                "        @StartTime = @StartTime,\n",
                "        @WorkFlowDescription = 'Created Table DimProductCategory',\n",
                "        @WorkFlowStepTableRowCount = 0,\n",
                "        @UserAuthorizationKey = @UserAuthorizationKey;\n",
                "END;\n",
                "GO"
            ],
            "metadata": {
                "language": "sql",
                "azdata_cell_guid": "89e7be30-bf6e-46ae-a3fb-a60196b1e20f"
            },
            "outputs": [
                {
                    "output_type": "display_data",
                    "data": {
                        "text/html": "Commands completed successfully."
                    },
                    "metadata": {}
                },
                {
                    "output_type": "display_data",
                    "data": {
                        "text/html": "Commands completed successfully."
                    },
                    "metadata": {}
                },
                {
                    "output_type": "error",
                    "evalue": "Msg 2714, Level 16, State 3, Procedure CreateProductCategory, Line 6\nThere is already an object named 'CreateProductCategory' in the database.",
                    "ename": "",
                    "traceback": []
                },
                {
                    "output_type": "display_data",
                    "data": {
                        "text/html": "Total execution time: 00:00:00.009"
                    },
                    "metadata": {}
                }
            ],
            "execution_count": 35
        },
        {
            "cell_type": "code",
            "source": [
                "EXEC [Project2].[CreateProductCategory] 1;"
            ],
            "metadata": {
                "language": "sql",
                "azdata_cell_guid": "e2a970e0-ab79-4250-8e61-787993fce941"
            },
            "outputs": [
                {
                    "output_type": "display_data",
                    "data": {
                        "text/html": "Commands completed successfully."
                    },
                    "metadata": {}
                },
                {
                    "output_type": "display_data",
                    "data": {
                        "text/html": "Total execution time: 00:00:00.020"
                    },
                    "metadata": {}
                }
            ],
            "execution_count": 36
        },
        {
            "cell_type": "code",
            "source": [
                "SET ANSI_NULLS ON\n",
                "GO\n",
                "SET QUOTED_IDENTIFIER ON\n",
                "GO\n",
                "-- =============================================\n",
                "-- Author: Ashly Felix\n",
                "-- Create date: 4/12/25\n",
                "-- Description: Creates the DimProductSubcategory table\n",
                "-- =============================================\n",
                "CREATE PROCEDURE [Project2].[CreateProductSubcategory]\n",
                "    @UserAuthorizationKey INT -- To log who executed this\n",
                "AS\n",
                "BEGIN\n",
                "    SET NOCOUNT ON;\n",
                "\n",
                "    DECLARE @StartTime DATETIME2 = SYSDATETIME();\n",
                "\n",
                "    -- Drop the table if it exists\n",
                "    IF EXISTS (SELECT 1 FROM INFORMATION_SCHEMA.TABLES \n",
                "               WHERE TABLE_SCHEMA = 'CH01-01-Dimension' AND TABLE_NAME = 'DimProductSubcategory')\n",
                "    BEGIN\n",
                "        DROP TABLE [CH01-01-Dimension].DimProductSubcategory;\n",
                "    END;\n",
                "\n",
                "    -- Create the DimProductSubcategory table\n",
                "    CREATE TABLE [CH01-01-Dimension].DimProductSubcategory (\n",
                "        ProductSubcategoryKey INT NOT NULL PRIMARY KEY,\n",
                "        ProductSubcategory NVARCHAR(50) NOT NULL, -- Changed from SubcategoryName to ProductSubcategory\n",
                "        ProductCategoryKey INT NOT NULL,\n",
                "        UserAuthorizationKey INT NOT NULL,\n",
                "        DateAdded DATETIME2 NULL DEFAULT SYSDATETIME(),\n",
                "        DateOfLastUpdate DATETIME2 NULL DEFAULT SYSDATETIME(),\n",
                "        CONSTRAINT FK_DimProductSubcategory_ProductCategory \n",
                "            FOREIGN KEY (ProductCategoryKey) \n",
                "            REFERENCES [CH01-01-Dimension].DimProductCategory (ProductCategoryKey),\n",
                "        CONSTRAINT FK_DimProductSubcategory_UserAuthorization \n",
                "            FOREIGN KEY (UserAuthorizationKey) \n",
                "            REFERENCES DbSecurity.UserAuthorization (UserAuthorizationKey)\n",
                "    );\n",
                "\n",
                "    -- Log the operation\n",
                "    EXEC [Process].usp_TrackWorkFlow\n",
                "        @StartTime = @StartTime,\n",
                "        @WorkFlowDescription = 'Created Table DimProductSubcategory',\n",
                "        @WorkFlowStepTableRowCount = 0,\n",
                "        @UserAuthorizationKey = @UserAuthorizationKey;\n",
                "END;\n",
                "GO"
            ],
            "metadata": {
                "language": "sql",
                "azdata_cell_guid": "37a3e9ae-b1e9-4cb9-9766-b19cde277ccd"
            },
            "outputs": [
                {
                    "output_type": "display_data",
                    "data": {
                        "text/html": "Commands completed successfully."
                    },
                    "metadata": {}
                },
                {
                    "output_type": "display_data",
                    "data": {
                        "text/html": "Commands completed successfully."
                    },
                    "metadata": {}
                },
                {
                    "output_type": "error",
                    "evalue": "Msg 2714, Level 16, State 3, Procedure CreateProductSubcategory, Line 6\nThere is already an object named 'CreateProductSubcategory' in the database.",
                    "ename": "",
                    "traceback": []
                },
                {
                    "output_type": "display_data",
                    "data": {
                        "text/html": "Total execution time: 00:00:00.012"
                    },
                    "metadata": {}
                }
            ],
            "execution_count": 37
        },
        {
            "cell_type": "code",
            "source": [
                "EXEC [Project2].[CreateProductSubcategory] 1;"
            ],
            "metadata": {
                "language": "sql",
                "azdata_cell_guid": "f70020aa-fd4e-4801-92cc-ca136d392f6e"
            },
            "outputs": [
                {
                    "output_type": "display_data",
                    "data": {
                        "text/html": "Commands completed successfully."
                    },
                    "metadata": {}
                },
                {
                    "output_type": "display_data",
                    "data": {
                        "text/html": "Total execution time: 00:00:00.017"
                    },
                    "metadata": {}
                }
            ],
            "execution_count": 38
        },
        {
            "cell_type": "code",
            "source": [
                "SET ANSI_NULLS ON\n",
                "GO\n",
                "SET QUOTED_IDENTIFIER ON\n",
                "GO\n",
                "-- =============================================\n",
                "-- Author: Ashly Felix\n",
                "-- Create date: 2025-04-12\n",
                "-- Description: Adds UserAuthorizationKey column to star schema tables\n",
                "-- =============================================\n",
                "create PROCEDURE [Project2].[AddUserAuthorizationKeyToTables]\n",
                "    @UserAuthorizationKey INT -- To log who executed this\n",
                "AS\n",
                "BEGIN\n",
                "    SET NOCOUNT ON;\n",
                "\n",
                "    DECLARE @StartTime DATETIME2 = SYSDATETIME();\n",
                "\n",
                "    -- Add UserAuthorizationKey to dimension tables in CH01-01-Dimension schema\n",
                "    ALTER TABLE [CH01-01-Dimension].DimCustomer\n",
                "    ADD UserAuthorizationKey INT NOT NULL DEFAULT 7;\n",
                "\n",
                "    ALTER TABLE [CH01-01-Dimension].DimGender\n",
                "    ADD UserAuthorizationKey INT NOT NULL DEFAULT 7;\n",
                "\n",
                "    ALTER TABLE [CH01-01-Dimension].DimMaritalStatus\n",
                "    ADD UserAuthorizationKey INT NOT NULL DEFAULT 7;\n",
                "\n",
                "    ALTER TABLE [CH01-01-Dimension].DimOccupation\n",
                "    ADD UserAuthorizationKey INT NOT NULL DEFAULT 7;\n",
                "\n",
                "    ALTER TABLE [CH01-01-Dimension].DimOrderDate\n",
                "    ADD UserAuthorizationKey INT NOT NULL DEFAULT 7;\n",
                "\n",
                "    ALTER TABLE [CH01-01-Dimension].DimProduct\n",
                "    ADD UserAuthorizationKey INT NOT NULL DEFAULT 7;\n",
                "\n",
                "    ALTER TABLE [CH01-01-Dimension].DimTerritory\n",
                "    ADD UserAuthorizationKey INT NOT NULL DEFAULT 7;\n",
                "\n",
                "    ALTER TABLE [CH01-01-Dimension].SalesManagers\n",
                "    ADD UserAuthorizationKey INT NOT NULL DEFAULT 7;\n",
                "\n",
                "    -- Add UserAuthorizationKey to fact table in CH01-01-Fact schema\n",
                "    ALTER TABLE [CH01-01-Fact].Data\n",
                "    ADD UserAuthorizationKey INT NOT NULL DEFAULT 7;\n",
                "\n",
                "    -- Log the operation\n",
                "    EXEC [Process].usp_TrackWorkFlow\n",
                "        @StartTime = @StartTime,\n",
                "        @WorkFlowDescription = 'Added UserAuthorizationKey column to star schema tables',\n",
                "        @WorkFlowStepTableRowCount = 0,\n",
                "        @UserAuthorizationKey = @UserAuthorizationKey;\n",
                "END;\n",
                "GO"
            ],
            "metadata": {
                "language": "sql",
                "azdata_cell_guid": "87a08743-300c-4a95-8b51-c4848ba25755"
            },
            "outputs": [
                {
                    "output_type": "display_data",
                    "data": {
                        "text/html": "Commands completed successfully."
                    },
                    "metadata": {}
                },
                {
                    "output_type": "display_data",
                    "data": {
                        "text/html": "Commands completed successfully."
                    },
                    "metadata": {}
                },
                {
                    "output_type": "display_data",
                    "data": {
                        "text/html": "Commands completed successfully."
                    },
                    "metadata": {}
                },
                {
                    "output_type": "display_data",
                    "data": {
                        "text/html": "Total execution time: 00:00:00.011"
                    },
                    "metadata": {}
                }
            ],
            "execution_count": 41
        },
        {
            "cell_type": "code",
            "source": [
                "EXEC [Project2].[AddUserAuthorizationKeyToTables] 1;"
            ],
            "metadata": {
                "language": "sql",
                "azdata_cell_guid": "66846d18-8b4e-43eb-a429-adc8fcd3994c"
            },
            "outputs": [
                {
                    "output_type": "error",
                    "evalue": "Msg 2705, Level 16, State 4, Procedure Project2.AddUserAuthorizationKeyToTables, Line 18\nColumn names in each table must be unique. Column name 'UserAuthorizationKey' in table 'CH01-01-Dimension.DimGender' is specified more than once.",
                    "ename": "",
                    "traceback": []
                },
                {
                    "output_type": "display_data",
                    "data": {
                        "text/html": "Total execution time: 00:00:00.006"
                    },
                    "metadata": {}
                }
            ],
            "execution_count": 42
        },
        {
            "cell_type": "code",
            "source": [
                "SET ANSI_NULLS ON\n",
                "GO\n",
                "SET QUOTED_IDENTIFIER ON\n",
                "GO\n",
                "-- =============================================\n",
                "-- Author:\t\tAshly Felix\n",
                "-- Create date: 4/12/25\n",
                "-- Description:\tDrop the Foreign Keys From the Star Schema\n",
                "-- =============================================\n",
                "create PROCEDURE [Project2].[DropForeignKeysFromStarSchemaData]\n",
                "    @UserAuthorizationKey INT\n",
                "AS\n",
                "BEGIN\n",
                "    SET NOCOUNT ON;\n",
                "\n",
                "\tDECLARE @StartTime DATETIME2 = SYSDATETIME();\n",
                "    DECLARE @SQL NVARCHAR(MAX);\n",
                "\n",
                "ALTER TABLE [CH01-01-Fact].[Data] DROP CONSTRAINT FK_Data_SalesManagers;\n",
                "ALTER TABLE [CH01-01-Fact].[Data] DROP CONSTRAINT FK_Data_DimGender;\n",
                "ALTER TABLE [CH01-01-Dimension].[DimProductSubcategory] DROP CONSTRAINT FK_DimProductSubcategory_ProductCategory;\n",
                "ALTER TABLE [CH01-01-Fact].[Data] DROP CONSTRAINT FK_Data_DimMaritalStatus;\n",
                "ALTER TABLE [CH01-01-Fact].[Data] DROP CONSTRAINT FK_Data_DimOccupation;\n",
                "ALTER TABLE [CH01-01-Fact].[Data] DROP CONSTRAINT FK_Data_DimOrderDate;\n",
                "ALTER TABLE [CH01-01-Fact].[Data] DROP CONSTRAINT FK_Data_DimTerritory;\n",
                "ALTER TABLE [CH01-01-Fact].[Data] DROP CONSTRAINT FK_Data_DimProduct;\n",
                "ALTER TABLE [CH01-01-Fact].[Data] DROP CONSTRAINT FK_Data_DimCustomer;\n",
                "ALTER TABLE [CH01-01-Dimension].[DimProductCategory] DROP CONSTRAINT FK_DimProductCategory_UserAuthorization;\n",
                "ALTER TABLE [CH01-01-Dimension].[DimProductSubcategory] DROP CONSTRAINT FK_DimProductSubcategory_UserAuthorization;\n",
                "\n",
                "    EXEC [Process].usp_TrackWorkFlow\n",
                "        @StartTime = @StartTime,\n",
                "        @WorkFlowDescription = 'Dropped foreign keys from star schema',\n",
                "        @WorkFlowStepTableRowCount = 0,\n",
                "        @UserAuthorizationKey = @UserAuthorizationKey;\n",
                "\n",
                "END;\n",
                "GO\n",
                ""
            ],
            "metadata": {
                "language": "sql",
                "azdata_cell_guid": "e416728e-8c8d-4555-9851-859c66877b2f"
            },
            "outputs": [
                {
                    "output_type": "display_data",
                    "data": {
                        "text/html": "Commands completed successfully."
                    },
                    "metadata": {}
                },
                {
                    "output_type": "display_data",
                    "data": {
                        "text/html": "Commands completed successfully."
                    },
                    "metadata": {}
                },
                {
                    "output_type": "display_data",
                    "data": {
                        "text/html": "Commands completed successfully."
                    },
                    "metadata": {}
                },
                {
                    "output_type": "display_data",
                    "data": {
                        "text/html": "Total execution time: 00:00:00.013"
                    },
                    "metadata": {}
                }
            ],
            "execution_count": 46
        },
        {
            "cell_type": "code",
            "source": [
                "EXEC [Project2].[DropForeignKeysFromStarSchemaData] 1;"
            ],
            "metadata": {
                "language": "sql",
                "azdata_cell_guid": "85a4fb23-89c5-4b58-8bdf-7d1cb347b3fb"
            },
            "outputs": [
                {
                    "output_type": "display_data",
                    "data": {
                        "text/html": "Commands completed successfully."
                    },
                    "metadata": {}
                },
                {
                    "output_type": "display_data",
                    "data": {
                        "text/html": "Total execution time: 00:00:00.039"
                    },
                    "metadata": {}
                }
            ],
            "execution_count": 47
        },
        {
            "cell_type": "code",
            "source": [
                "SET ANSI_NULLS ON\n",
                "GO\n",
                "SET QUOTED_IDENTIFIER ON\n",
                "GO\n",
                "-- =============================================\n",
                "-- Author: Ashly Felix\n",
                "-- Create date: 2025-04-12\n",
                "-- Description: Removes identity property from star schema tables\n",
                "-- =============================================\n",
                "alter PROCEDURE [Project2].[RemoveIdentityFromStarSchemaTables]\n",
                "    @UserAuthorizationKey INT -- To log who executed this\n",
                "AS\n",
                "BEGIN\n",
                "    SET NOCOUNT ON;\n",
                "\n",
                "    DECLARE @StartTime DATETIME2 = SYSDATETIME();\n",
                "\n",
                "    -- Step 1: Drop all primary key constraints in Dimension and Fact schemas\n",
                "    DECLARE @DropPKSql NVARCHAR(MAX);\n",
                "\n",
                "    SELECT @DropPKSql = STRING_AGG('ALTER TABLE [' + s.name + '].[' + t.name + '] DROP CONSTRAINT [' + kc.name + ']', '; ')\n",
                "    FROM sys.key_constraints kc\n",
                "    JOIN sys.tables t ON kc.parent_object_id = t.object_id\n",
                "    JOIN sys.schemas s ON t.schema_id = s.schema_id\n",
                "    WHERE kc.type = 'PK'\n",
                "      AND s.name IN ('CH01-01-Dimension', 'CH01-01-Fact');\n",
                "\n",
                "    EXEC sp_executesql @DropPKSql;\n",
                "\n",
                "    -- Step 2: Drop identity columns and re-add plain INT columns with PKs\n",
                "    -- Manual column replacement for identity removal\n",
                "\n",
                "    -- NOTE: This step assumes the tables are truncated beforehand (to avoid data loss)\n",
                "\n",
                "    -- SalesManagers\n",
                "    ALTER TABLE [CH01-01-Dimension].SalesManagers DROP COLUMN SalesManagerKey;\n",
                "    ALTER TABLE [CH01-01-Dimension].SalesManagers ADD SalesManagerKey INT NOT NULL;\n",
                "    ALTER TABLE [CH01-01-Dimension].SalesManagers ADD CONSTRAINT PK_SalesManagers PRIMARY KEY (SalesManagerKey);\n",
                "\n",
                "    -- DimOccupation\n",
                "    ALTER TABLE [CH01-01-Dimension].DimOccupation DROP COLUMN OccupationKey;\n",
                "    ALTER TABLE [CH01-01-Dimension].DimOccupation ADD OccupationKey INT NOT NULL;\n",
                "    ALTER TABLE [CH01-01-Dimension].DimOccupation ADD CONSTRAINT PK_DimOccupation PRIMARY KEY (OccupationKey);\n",
                "\n",
                "    -- DimOrderDate\n",
                "    ALTER TABLE [CH01-01-Dimension].DimOrderDate DROP COLUMN OrderDate;\n",
                "    ALTER TABLE [CH01-01-Dimension].DimOrderDate ADD OrderDate INT NOT NULL;\n",
                "    ALTER TABLE [CH01-01-Dimension].DimOrderDate ADD CONSTRAINT PK_DimOrderDate PRIMARY KEY (OrderDate);\n",
                "\n",
                "    -- DimTerritory\n",
                "    ALTER TABLE [CH01-01-Dimension].DimTerritory DROP COLUMN TerritoryKey;\n",
                "    ALTER TABLE [CH01-01-Dimension].DimTerritory ADD TerritoryKey INT NOT NULL;\n",
                "    ALTER TABLE [CH01-01-Dimension].DimTerritory ADD CONSTRAINT PK_DimTerritory PRIMARY KEY (TerritoryKey);\n",
                "\n",
                "    -- DimProduct\n",
                "    ALTER TABLE [CH01-01-Dimension].DimProduct DROP COLUMN ProductKey;\n",
                "    ALTER TABLE [CH01-01-Dimension].DimProduct ADD ProductKey INT NOT NULL;\n",
                "    ALTER TABLE [CH01-01-Dimension].DimProduct ADD CONSTRAINT PK_DimProduct PRIMARY KEY (ProductKey);\n",
                "\n",
                "    -- DimCustomer\n",
                "    ALTER TABLE [CH01-01-Dimension].DimCustomer DROP COLUMN CustomerKey;\n",
                "    ALTER TABLE [CH01-01-Dimension].DimCustomer ADD CustomerKey INT NOT NULL;\n",
                "    ALTER TABLE [CH01-01-Dimension].DimCustomer ADD CONSTRAINT PK_DimCustomer PRIMARY KEY (CustomerKey);\n",
                "\n",
                "    -- ProductCategories\n",
                "    ALTER TABLE [CH01-01-Dimension].DimProductCategory DROP COLUMN ProductCategoryKey;\n",
                "    ALTER TABLE [CH01-01-Dimension].DimProductCategory ADD ProductCategoryKey INT NOT NULL;\n",
                "    ALTER TABLE [CH01-01-Dimension].DimProductCategory ADD CONSTRAINT PK_ProductCategories PRIMARY KEY (ProductCategoryKey);\n",
                "\n",
                "    -- ProductSubcategories\n",
                "    ALTER TABLE [CH01-01-Dimension].DimProductSubcategory DROP COLUMN ProductSubcategoryKey;\n",
                "    ALTER TABLE [CH01-01-Dimension].DimProductSubcategory ADD ProductSubcategoryKey INT NOT NULL;\n",
                "    ALTER TABLE [CH01-01-Dimension].DimProductSubcategory ADD CONSTRAINT PK_ProductSubcategories PRIMARY KEY (ProductSubcategoryKey);\n",
                "\n",
                "    -- Fact Table: Data\n",
                "    ALTER TABLE [CH01-01-Fact].Data DROP COLUMN SalesKey;\n",
                "    ALTER TABLE [CH01-01-Fact].Data ADD SalesKey INT NOT NULL;\n",
                "    ALTER TABLE [CH01-01-Fact].Data ADD CONSTRAINT PK_Data PRIMARY KEY (SalesKey);\n",
                "\n",
                "    -- Step 3: Log the operation\n",
                "    EXEC [Process].[usp_TrackWorkFlow]\n",
                "        @StartTime = @StartTime,\n",
                "        @WorkFlowDescription = 'Removed identity property from star schema tables',\n",
                "        @WorkFlowStepTableRowCount = 0,\n",
                "        @UserAuthorizationKey = @UserAuthorizationKey;\n",
                "END;\n",
                "GO"
            ],
            "metadata": {
                "language": "sql",
                "azdata_cell_guid": "532723a9-33a2-477c-9780-65dc93184e5a"
            },
            "outputs": [
                {
                    "output_type": "display_data",
                    "data": {
                        "text/html": "Commands completed successfully."
                    },
                    "metadata": {}
                },
                {
                    "output_type": "display_data",
                    "data": {
                        "text/html": "Commands completed successfully."
                    },
                    "metadata": {}
                },
                {
                    "output_type": "display_data",
                    "data": {
                        "text/html": "Commands completed successfully."
                    },
                    "metadata": {}
                },
                {
                    "output_type": "display_data",
                    "data": {
                        "text/html": "Total execution time: 00:00:00.011"
                    },
                    "metadata": {}
                }
            ],
            "execution_count": 80
        },
        {
            "cell_type": "code",
            "source": [
                "EXEC [Project2].[RemoveIdentityFromStarSchemaTables] 1;"
            ],
            "metadata": {
                "language": "sql",
                "azdata_cell_guid": "fcd0260f-f189-478b-aa1d-9df7f0536d4f"
            },
            "outputs": [
                {
                    "output_type": "display_data",
                    "data": {
                        "text/html": "Commands completed successfully."
                    },
                    "metadata": {}
                },
                {
                    "output_type": "display_data",
                    "data": {
                        "text/html": "Total execution time: 00:00:00.109"
                    },
                    "metadata": {}
                }
            ],
            "execution_count": 81
        },
        {
            "cell_type": "code",
            "source": [
                "SET ANSI_NULLS ON\n",
                "GO\n",
                "SET QUOTED_IDENTIFIER ON\n",
                "GO\n",
                "-- =============================================\n",
                "-- Author: Ashly Felix\n",
                "-- Create date: 4/12/25\n",
                "-- Description: Truncates all star schema tables\n",
                "-- =============================================\n",
                "Create PROCEDURE [Project2].[TruncateStarSchemaTables]\n",
                "    @UserAuthorizationKey INT -- To log who executed this\n",
                "AS\n",
                "BEGIN\n",
                "    SET NOCOUNT ON;\n",
                "\n",
                "    DECLARE @StartTime DATETIME2 = SYSDATETIME();\n",
                "\n",
                "    -- Truncate dimension tables in CH01-01-Dimension schema\n",
                "    TRUNCATE TABLE [CH01-01-Dimension].[DimCustomer];\n",
                "    TRUNCATE TABLE [CH01-01-Dimension].[DimGender];\n",
                "    TRUNCATE TABLE [CH01-01-Dimension].[DimMaritalStatus];\n",
                "    TRUNCATE TABLE [CH01-01-Dimension].[DimOccupation];\n",
                "    TRUNCATE TABLE [CH01-01-Dimension].[DimOrderDate];\n",
                "    TRUNCATE TABLE [CH01-01-Dimension].[DimProduct];\n",
                "    TRUNCATE TABLE [CH01-01-Dimension].[DimProductCategory];\n",
                "    TRUNCATE TABLE [CH01-01-Dimension].[DimProductSubcategory];\n",
                "    TRUNCATE TABLE [CH01-01-Dimension].[DimTerritory];\n",
                "    TRUNCATE TABLE [CH01-01-Dimension].[SalesManagers];\n",
                "    TRUNCATE TABLE [CH01-01-Fact].[Data];\n",
                "\n",
                "    EXEC [Process].usp_TrackWorkFlow\n",
                "        @StartTime = @StartTime,\n",
                "        @WorkFlowDescription = 'Truncated all star schema tables',\n",
                "        @WorkFlowStepTableRowCount = 0,\n",
                "        @UserAuthorizationKey = @UserAuthorizationKey;\n",
                "END;\n",
                "GO"
            ],
            "metadata": {
                "language": "sql",
                "azdata_cell_guid": "48ec6757-5c75-4db2-ac42-b3c98eb39608"
            },
            "outputs": [
                {
                    "output_type": "display_data",
                    "data": {
                        "text/html": "Commands completed successfully."
                    },
                    "metadata": {}
                },
                {
                    "output_type": "display_data",
                    "data": {
                        "text/html": "Commands completed successfully."
                    },
                    "metadata": {}
                },
                {
                    "output_type": "error",
                    "evalue": "Msg 2714, Level 16, State 3, Procedure TruncateStarSchemaTables, Line 6\nThere is already an object named 'TruncateStarSchemaTables' in the database.",
                    "ename": "",
                    "traceback": []
                },
                {
                    "output_type": "display_data",
                    "data": {
                        "text/html": "Total execution time: 00:00:00.007"
                    },
                    "metadata": {}
                }
            ],
            "execution_count": 82
        },
        {
            "cell_type": "code",
            "source": [
                "EXEC [Project2].[TruncateStarSchemaTables] 1;"
            ],
            "metadata": {
                "language": "sql",
                "azdata_cell_guid": "f4769435-8d87-4fbf-9ca1-9aa41194cbec"
            },
            "outputs": [
                {
                    "output_type": "display_data",
                    "data": {
                        "text/html": "Commands completed successfully."
                    },
                    "metadata": {}
                },
                {
                    "output_type": "display_data",
                    "data": {
                        "text/html": "Total execution time: 00:00:00.017"
                    },
                    "metadata": {}
                }
            ],
            "execution_count": 83
        },
        {
            "cell_type": "code",
            "source": [
                "SET ANSI_NULLS ON\n",
                "GO\n",
                "SET QUOTED_IDENTIFIER ON\n",
                "GO\n",
                "-- =============================================\n",
                "-- Author: Richard Garnica\n",
                "-- Create date: 2025-04-13\n",
                "-- Description: Shows amount of rows in the tables\n",
                "-- =============================================\n",
                "create PROCEDURE [Project2].[ShowTableStatusRowCount] \n",
                "@TableStatus VARCHAR(64),\n",
                "@UserAuthorizationKey INT\n",
                "\n",
                "AS\n",
                "BEGIN\n",
                "\t-- SET NOCOUNT ON added to prevent extra result sets from\n",
                "\t-- interfering with SELECT statements.\n",
                "\tSET NOCOUNT ON;\n",
                "\n",
                "\n",
                "\tselect TableStatus = @TableStatus, TableName ='CH01-01-Dimension.DimCustomer', COUNT(*) FROM [CH01-01-Dimension].DimCustomer\n",
                "\tselect TableStatus = @TableStatus, TableName ='CH01-01-Dimension.DimGender', COUNT(*) FROM [CH01-01-Dimension].DimGender\n",
                "\tselect TableStatus = @TableStatus, TableName ='CH01-01-Dimension.DimMaritalStatus', COUNT(*) FROM [CH01-01-Dimension].DimMaritalStatus\n",
                "\tselect TableStatus = @TableStatus, TableName ='CH01-01-Dimension.DimOccupation', COUNT(*) FROM [CH01-01-Dimension].DimOccupation\n",
                "\tselect TableStatus = @TableStatus, TableName ='CH01-01-Dimension.DimOrderDate', COUNT(*) FROM [CH01-01-Dimension].DimOrderDate\n",
                "\tselect TableStatus = @TableStatus, TableName ='CH01-01-Dimension.DimProduct', COUNT(*) FROM [CH01-01-Dimension].DimProduct\n",
                "\tselect TableStatus = @TableStatus, TableName ='CH01-01-Dimension.DimProductCategory', COUNT(*) FROM [CH01-01-Dimension].DimProductCategory\n",
                "\tselect TableStatus = @TableStatus, TableName ='CH01-01-Dimension.DimProductSubcategory', COUNT(*) FROM [CH01-01-Dimension].DimProductSubcategory\n",
                "\tselect TableStatus = @TableStatus, TableName ='CH01-01-Dimension.DimTerritory', COUNT(*) FROM [CH01-01-Dimension].DimTerritory\n",
                "\tselect TableStatus = @TableStatus, TableName ='CH01-01-Dimension.SalesManagers', COUNT(*) FROM [CH01-01-Dimension].SalesManagers\n",
                "\tselect TableStatus = @TableStatus, TableName ='CH01-01-Fact.Data', COUNT(*) FROM [CH01-01-Fact].Data\n",
                "\n",
                "\t-- Log the operation\n",
                "    EXEC [Process].usp_TrackWorkFlow\n",
                "        @StartTime = @StartTime,\n",
                "        @WorkFlowDescription = 'Dynamically reported row counts for star schema tables',\n",
                "        @WorkFlowStepTableRowCount = 0,\n",
                "        @UserAuthorizationKey = @UserAuthorizationKey;\n",
                "\t\t\n",
                "END\n",
                "GO\n",
                ""
            ],
            "metadata": {
                "language": "sql",
                "azdata_cell_guid": "16174d31-4741-4e94-a82e-552f9a246b26"
            },
            "outputs": [
                {
                    "output_type": "display_data",
                    "data": {
                        "text/html": "Commands completed successfully."
                    },
                    "metadata": {}
                },
                {
                    "output_type": "display_data",
                    "data": {
                        "text/html": "Commands completed successfully."
                    },
                    "metadata": {}
                },
                {
                    "output_type": "error",
                    "evalue": "Msg 137, Level 15, State 2, Procedure ShowTableStatusRowCount, Line 31\nMust declare the scalar variable \"@StartTime\".",
                    "ename": "",
                    "traceback": []
                },
                {
                    "output_type": "display_data",
                    "data": {
                        "text/html": "Total execution time: 00:00:00.006"
                    },
                    "metadata": {}
                }
            ],
            "execution_count": 84
        },
        {
            "cell_type": "code",
            "source": [
                "EXEC [Project2].[ShowTableStatusRowCount]\n",
                "            @TableStatus = N'Row Count after truncating',\n",
                "            @UserAuthorizationKey = 1;"
            ],
            "metadata": {
                "language": "sql",
                "azdata_cell_guid": "51bd9a3b-17bf-46d6-bc89-2f1791297176"
            },
            "outputs": [
                {
                    "output_type": "display_data",
                    "data": {
                        "text/html": "Commands completed successfully."
                    },
                    "metadata": {}
                },
                {
                    "output_type": "display_data",
                    "data": {
                        "text/html": "Total execution time: 00:00:00.026"
                    },
                    "metadata": {}
                },
                {
                    "output_type": "execute_result",
                    "metadata": {},
                    "execution_count": 85,
                    "data": {
                        "application/vnd.dataresource+json": {
                            "schema": {
                                "fields": [
                                    {
                                        "name": "TableStatus"
                                    },
                                    {
                                        "name": "TableName"
                                    },
                                    {
                                        "name": "(No column name)"
                                    }
                                ]
                            },
                            "data": [
                                {
                                    "TableStatus": "Row Count after truncating",
                                    "TableName": "CH01-01-Dimension.DimCustomer",
                                    "(No column name)": "0"
                                }
                            ]
                        },
                        "text/html": [
                            "<table>",
                            "<tr><th>TableStatus</th><th>TableName</th><th>(No column name)</th></tr>",
                            "<tr><td>Row Count after truncating</td><td>CH01-01-Dimension.DimCustomer</td><td>0</td></tr>",
                            "</table>"
                        ]
                    }
                },
                {
                    "output_type": "execute_result",
                    "metadata": {},
                    "execution_count": 85,
                    "data": {
                        "application/vnd.dataresource+json": {
                            "schema": {
                                "fields": [
                                    {
                                        "name": "TableStatus"
                                    },
                                    {
                                        "name": "TableName"
                                    },
                                    {
                                        "name": "(No column name)"
                                    }
                                ]
                            },
                            "data": [
                                {
                                    "TableStatus": "Row Count after truncating",
                                    "TableName": "CH01-01-Dimension.DimGender",
                                    "(No column name)": "0"
                                }
                            ]
                        },
                        "text/html": [
                            "<table>",
                            "<tr><th>TableStatus</th><th>TableName</th><th>(No column name)</th></tr>",
                            "<tr><td>Row Count after truncating</td><td>CH01-01-Dimension.DimGender</td><td>0</td></tr>",
                            "</table>"
                        ]
                    }
                },
                {
                    "output_type": "execute_result",
                    "metadata": {},
                    "execution_count": 85,
                    "data": {
                        "application/vnd.dataresource+json": {
                            "schema": {
                                "fields": [
                                    {
                                        "name": "TableStatus"
                                    },
                                    {
                                        "name": "TableName"
                                    },
                                    {
                                        "name": "(No column name)"
                                    }
                                ]
                            },
                            "data": [
                                {
                                    "TableStatus": "Row Count after truncating",
                                    "TableName": "CH01-01-Dimension.DimMaritalStatus",
                                    "(No column name)": "0"
                                }
                            ]
                        },
                        "text/html": [
                            "<table>",
                            "<tr><th>TableStatus</th><th>TableName</th><th>(No column name)</th></tr>",
                            "<tr><td>Row Count after truncating</td><td>CH01-01-Dimension.DimMaritalStatus</td><td>0</td></tr>",
                            "</table>"
                        ]
                    }
                },
                {
                    "output_type": "execute_result",
                    "metadata": {},
                    "execution_count": 85,
                    "data": {
                        "application/vnd.dataresource+json": {
                            "schema": {
                                "fields": [
                                    {
                                        "name": "TableStatus"
                                    },
                                    {
                                        "name": "TableName"
                                    },
                                    {
                                        "name": "(No column name)"
                                    }
                                ]
                            },
                            "data": [
                                {
                                    "TableStatus": "Row Count after truncating",
                                    "TableName": "CH01-01-Dimension.DimOccupation",
                                    "(No column name)": "0"
                                }
                            ]
                        },
                        "text/html": [
                            "<table>",
                            "<tr><th>TableStatus</th><th>TableName</th><th>(No column name)</th></tr>",
                            "<tr><td>Row Count after truncating</td><td>CH01-01-Dimension.DimOccupation</td><td>0</td></tr>",
                            "</table>"
                        ]
                    }
                },
                {
                    "output_type": "execute_result",
                    "metadata": {},
                    "execution_count": 85,
                    "data": {
                        "application/vnd.dataresource+json": {
                            "schema": {
                                "fields": [
                                    {
                                        "name": "TableStatus"
                                    },
                                    {
                                        "name": "TableName"
                                    },
                                    {
                                        "name": "(No column name)"
                                    }
                                ]
                            },
                            "data": [
                                {
                                    "TableStatus": "Row Count after truncating",
                                    "TableName": "CH01-01-Dimension.DimOrderDate",
                                    "(No column name)": "0"
                                }
                            ]
                        },
                        "text/html": [
                            "<table>",
                            "<tr><th>TableStatus</th><th>TableName</th><th>(No column name)</th></tr>",
                            "<tr><td>Row Count after truncating</td><td>CH01-01-Dimension.DimOrderDate</td><td>0</td></tr>",
                            "</table>"
                        ]
                    }
                },
                {
                    "output_type": "execute_result",
                    "metadata": {},
                    "execution_count": 85,
                    "data": {
                        "application/vnd.dataresource+json": {
                            "schema": {
                                "fields": [
                                    {
                                        "name": "TableStatus"
                                    },
                                    {
                                        "name": "TableName"
                                    },
                                    {
                                        "name": "(No column name)"
                                    }
                                ]
                            },
                            "data": [
                                {
                                    "TableStatus": "Row Count after truncating",
                                    "TableName": "CH01-01-Dimension.DimProduct",
                                    "(No column name)": "0"
                                }
                            ]
                        },
                        "text/html": [
                            "<table>",
                            "<tr><th>TableStatus</th><th>TableName</th><th>(No column name)</th></tr>",
                            "<tr><td>Row Count after truncating</td><td>CH01-01-Dimension.DimProduct</td><td>0</td></tr>",
                            "</table>"
                        ]
                    }
                },
                {
                    "output_type": "execute_result",
                    "metadata": {},
                    "execution_count": 85,
                    "data": {
                        "application/vnd.dataresource+json": {
                            "schema": {
                                "fields": [
                                    {
                                        "name": "TableStatus"
                                    },
                                    {
                                        "name": "TableName"
                                    },
                                    {
                                        "name": "(No column name)"
                                    }
                                ]
                            },
                            "data": [
                                {
                                    "TableStatus": "Row Count after truncating",
                                    "TableName": "CH01-01-Dimension.DimProductCategory",
                                    "(No column name)": "0"
                                }
                            ]
                        },
                        "text/html": [
                            "<table>",
                            "<tr><th>TableStatus</th><th>TableName</th><th>(No column name)</th></tr>",
                            "<tr><td>Row Count after truncating</td><td>CH01-01-Dimension.DimProductCategory</td><td>0</td></tr>",
                            "</table>"
                        ]
                    }
                },
                {
                    "output_type": "execute_result",
                    "metadata": {},
                    "execution_count": 85,
                    "data": {
                        "application/vnd.dataresource+json": {
                            "schema": {
                                "fields": [
                                    {
                                        "name": "TableStatus"
                                    },
                                    {
                                        "name": "TableName"
                                    },
                                    {
                                        "name": "(No column name)"
                                    }
                                ]
                            },
                            "data": [
                                {
                                    "TableStatus": "Row Count after truncating",
                                    "TableName": "CH01-01-Dimension.DimProductSubcategory",
                                    "(No column name)": "0"
                                }
                            ]
                        },
                        "text/html": [
                            "<table>",
                            "<tr><th>TableStatus</th><th>TableName</th><th>(No column name)</th></tr>",
                            "<tr><td>Row Count after truncating</td><td>CH01-01-Dimension.DimProductSubcategory</td><td>0</td></tr>",
                            "</table>"
                        ]
                    }
                },
                {
                    "output_type": "execute_result",
                    "metadata": {},
                    "execution_count": 85,
                    "data": {
                        "application/vnd.dataresource+json": {
                            "schema": {
                                "fields": [
                                    {
                                        "name": "TableStatus"
                                    },
                                    {
                                        "name": "TableName"
                                    },
                                    {
                                        "name": "(No column name)"
                                    }
                                ]
                            },
                            "data": [
                                {
                                    "TableStatus": "Row Count after truncating",
                                    "TableName": "CH01-01-Dimension.DimTerritory",
                                    "(No column name)": "0"
                                }
                            ]
                        },
                        "text/html": [
                            "<table>",
                            "<tr><th>TableStatus</th><th>TableName</th><th>(No column name)</th></tr>",
                            "<tr><td>Row Count after truncating</td><td>CH01-01-Dimension.DimTerritory</td><td>0</td></tr>",
                            "</table>"
                        ]
                    }
                },
                {
                    "output_type": "execute_result",
                    "metadata": {},
                    "execution_count": 85,
                    "data": {
                        "application/vnd.dataresource+json": {
                            "schema": {
                                "fields": [
                                    {
                                        "name": "TableStatus"
                                    },
                                    {
                                        "name": "TableName"
                                    },
                                    {
                                        "name": "(No column name)"
                                    }
                                ]
                            },
                            "data": [
                                {
                                    "TableStatus": "Row Count after truncating",
                                    "TableName": "CH01-01-Dimension.SalesManagers",
                                    "(No column name)": "0"
                                }
                            ]
                        },
                        "text/html": [
                            "<table>",
                            "<tr><th>TableStatus</th><th>TableName</th><th>(No column name)</th></tr>",
                            "<tr><td>Row Count after truncating</td><td>CH01-01-Dimension.SalesManagers</td><td>0</td></tr>",
                            "</table>"
                        ]
                    }
                },
                {
                    "output_type": "execute_result",
                    "metadata": {},
                    "execution_count": 85,
                    "data": {
                        "application/vnd.dataresource+json": {
                            "schema": {
                                "fields": [
                                    {
                                        "name": "TableStatus"
                                    },
                                    {
                                        "name": "TableName"
                                    },
                                    {
                                        "name": "(No column name)"
                                    }
                                ]
                            },
                            "data": [
                                {
                                    "TableStatus": "Row Count after truncating",
                                    "TableName": "CH01-01-Fact.Data",
                                    "(No column name)": "0"
                                }
                            ]
                        },
                        "text/html": [
                            "<table>",
                            "<tr><th>TableStatus</th><th>TableName</th><th>(No column name)</th></tr>",
                            "<tr><td>Row Count after truncating</td><td>CH01-01-Fact.Data</td><td>0</td></tr>",
                            "</table>"
                        ]
                    }
                }
            ],
            "execution_count": 85
        },
        {
            "cell_type": "code",
            "source": [
                "SET ANSI_NULLS ON\n",
                "GO\n",
                "SET QUOTED_IDENTIFIER ON\n",
                "GO\n",
                "-- =============================================\n",
                "-- Author: Ashly Felix\n",
                "-- Create date: 2025-04-13\n",
                "-- Description: Loads distinct customers into DimCustomer using surrogate keys from sequence object\n",
                "-- =============================================\n",
                "CREATE PROCEDURE [Project2].[LoadDimCustomer]\n",
                "    @UserAuthorizationKey INT\n",
                "AS\n",
                "BEGIN\n",
                "    SET NOCOUNT ON;\n",
                "\n",
                "    DECLARE @StartTime DATETIME2 = SYSDATETIME();\n",
                "\n",
                "    -- Ensure sequence exists and restart it\n",
                "    IF NOT EXISTS (\n",
                "        SELECT 1 FROM sys.sequences \n",
                "        WHERE name = 'DimCustomerSequenceObject' \n",
                "          AND SCHEMA_NAME(schema_id) = 'PkSequence'\n",
                "    )\n",
                "    BEGIN\n",
                "        CREATE SEQUENCE PkSequence.DimCustomerSequenceObject\n",
                "            AS INT START WITH 1 INCREMENT BY 1 MINVALUE 1 MAXVALUE 2147483647 CACHE;\n",
                "    END\n",
                "    ELSE\n",
                "    BEGIN\n",
                "        ALTER SEQUENCE PkSequence.DimCustomerSequenceObject RESTART WITH 1;\n",
                "    END;\n",
                "\n",
                "    -- Insert distinct customers\n",
                "    INSERT INTO [CH01-01-Dimension].[DimCustomer] (\n",
                "        CustomerKey,\n",
                "        CustomerName,\n",
                "        UserAuthorizationKey\n",
                "    )\n",
                "    SELECT \n",
                "        NEXT VALUE FOR PkSequence.DimCustomerSequenceObject,\n",
                "        d.CustomerName,\n",
                "        @UserAuthorizationKey\n",
                "    FROM FileUpload.OriginallyLoadedData d\n",
                "    WHERE d.CustomerName IS NOT NULL\n",
                "    GROUP BY d.CustomerName;\n",
                "\n",
                "    -- Log operation\n",
                "    EXEC [Process].usp_TrackWorkFlow\n",
                "        @StartTime = @StartTime,\n",
                "        @WorkFlowDescription = 'Loaded DimCustomer with surrogate keys from sequence object',\n",
                "        @WorkFlowStepTableRowCount = @@ROWCOUNT,\n",
                "        @UserAuthorizationKey = @UserAuthorizationKey;\n",
                "END;\n",
                "GO"
            ],
            "metadata": {
                "language": "sql",
                "azdata_cell_guid": "4c0238d0-5187-4b92-9901-6e27bf14c6a6"
            },
            "outputs": [
                {
                    "output_type": "display_data",
                    "data": {
                        "text/html": "Commands completed successfully."
                    },
                    "metadata": {}
                },
                {
                    "output_type": "display_data",
                    "data": {
                        "text/html": "Commands completed successfully."
                    },
                    "metadata": {}
                },
                {
                    "output_type": "error",
                    "evalue": "Msg 2714, Level 16, State 3, Procedure LoadDimCustomer, Line 6\nThere is already an object named 'LoadDimCustomer' in the database.",
                    "ename": "",
                    "traceback": []
                },
                {
                    "output_type": "display_data",
                    "data": {
                        "text/html": "Total execution time: 00:00:00.014"
                    },
                    "metadata": {}
                }
            ],
            "execution_count": 86
        },
        {
            "cell_type": "code",
            "source": [
                "EXEC [Project2].[LoadDimCustomer] 1;"
            ],
            "metadata": {
                "language": "sql",
                "azdata_cell_guid": "c877e120-8582-41d5-b95d-62f7ca8d4b0a"
            },
            "outputs": [
                {
                    "output_type": "display_data",
                    "data": {
                        "text/html": "Commands completed successfully."
                    },
                    "metadata": {}
                },
                {
                    "output_type": "display_data",
                    "data": {
                        "text/html": "Total execution time: 00:00:00.402"
                    },
                    "metadata": {}
                }
            ],
            "execution_count": 87
        },
        {
            "cell_type": "code",
            "source": [
                "SET ANSI_NULLS ON\n",
                "GO\n",
                "SET QUOTED_IDENTIFIER ON\n",
                "GO\n",
                "-- =============================================\n",
                "-- Author: Ashly Felix\n",
                "-- Create date: 2025-04-13\n",
                "-- Description: Loads distinct gender values into DimGender using surrogate keys from sequence object\n",
                "-- =============================================\n",
                "create PROCEDURE [Project2].[LoadDimGender]\n",
                "    @UserAuthorizationKey INT\n",
                "AS\n",
                "BEGIN\n",
                "    SET NOCOUNT ON;\n",
                "\n",
                "    DECLARE @StartTime DATETIME2 = SYSDATETIME();\n",
                "\n",
                "    -- Ensure sequence exists and restart it\n",
                "    IF NOT EXISTS (\n",
                "        SELECT 1 FROM sys.sequences \n",
                "        WHERE name = 'DimGenderSequenceObject' \n",
                "          AND SCHEMA_NAME(schema_id) = 'PkSequence'\n",
                "    )\n",
                "    BEGIN\n",
                "        CREATE SEQUENCE PkSequence.DimGenderSequenceObject\n",
                "            AS INT START WITH 1 INCREMENT BY 1 MINVALUE 1 MAXVALUE 2147483647 CACHE;\n",
                "    END\n",
                "    ELSE\n",
                "    BEGIN\n",
                "        ALTER SEQUENCE PkSequence.DimGenderSequenceObject RESTART WITH 1;\n",
                "    END;\n",
                "\n",
                "    -- Insert distinct gender values with surrogate key\n",
                "    INSERT INTO [CH01-01-Dimension].[DimGender] (\n",
                "        Gender,\n",
                "        GenderDescription,\n",
                "        UserAuthorizationKey\n",
                "    )\n",
                "    SELECT \n",
                "        NEXT VALUE FOR PkSequence.DimGenderSequenceObject,\n",
                "        d.Gender,\n",
                "        CASE \n",
                "            WHEN d.Gender = 'M' THEN 'Male'\n",
                "            WHEN d.Gender = 'F' THEN 'Female'\n",
                "            ELSE 'Other'\n",
                "        END,\n",
                "        @UserAuthorizationKey\n",
                "    FROM FileUpload.OriginallyLoadedData d\n",
                "    WHERE d.Gender IS NOT NULL\n",
                "    GROUP BY d.Gender;\n",
                "\n",
                "    -- Log operation\n",
                "    EXEC [Process].usp_TrackWorkFlow\n",
                "        @StartTime = @StartTime,\n",
                "        @WorkFlowDescription = 'Loaded DimGender with surrogate keys from sequence object',\n",
                "        @WorkFlowStepTableRowCount = @@ROWCOUNT,\n",
                "        @UserAuthorizationKey = @UserAuthorizationKey;\n",
                "END;\n",
                "GO"
            ],
            "metadata": {
                "language": "sql",
                "azdata_cell_guid": "95e3d01b-ebbf-4ade-a8b7-81646d8a7701"
            },
            "outputs": [
                {
                    "output_type": "display_data",
                    "data": {
                        "text/html": "Commands completed successfully."
                    },
                    "metadata": {}
                },
                {
                    "output_type": "display_data",
                    "data": {
                        "text/html": "Commands completed successfully."
                    },
                    "metadata": {}
                },
                {
                    "output_type": "error",
                    "evalue": "Msg 121, Level 15, State 1, Procedure LoadDimGender, Line 30\nThe select list for the INSERT statement contains more items than the insert list. The number of SELECT values must match the number of INSERT columns.",
                    "ename": "",
                    "traceback": []
                },
                {
                    "output_type": "display_data",
                    "data": {
                        "text/html": "Total execution time: 00:00:00.007"
                    },
                    "metadata": {}
                }
            ],
            "execution_count": 96
        },
        {
            "cell_type": "code",
            "source": [
                "EXEC [Project2].[LoadDimGender] 1;"
            ],
            "metadata": {
                "language": "sql",
                "azdata_cell_guid": "9a76aac9-54d1-49ea-8679-99a235f7326c"
            },
            "outputs": [
                {
                    "output_type": "error",
                    "evalue": "Msg 2812, Level 16, State 62, Line 1\nCould not find stored procedure 'Project2.LoadDimGender'.",
                    "ename": "",
                    "traceback": []
                },
                {
                    "output_type": "display_data",
                    "data": {
                        "text/html": "Total execution time: 00:00:00.004"
                    },
                    "metadata": {}
                }
            ],
            "execution_count": 95
        },
        {
            "cell_type": "code",
            "source": [
                "SET ANSI_NULLS ON\n",
                "GO\n",
                "SET QUOTED_IDENTIFIER ON\n",
                "GO\n",
                "-- =============================================\n",
                "-- Author: Ashly Felix\n",
                "-- Create date: 2025-04-13\n",
                "-- Description: Loads distinct marital statuses into DimMaritalStatus using surrogate keys from sequence object\n",
                "-- =============================================\n",
                "CREATE PROCEDURE [Project2].[LoadDimMaritalStatus]\n",
                "    @UserAuthorizationKey INT\n",
                "AS\n",
                "BEGIN\n",
                "    SET NOCOUNT ON;\n",
                "\n",
                "    DECLARE @StartTime DATETIME2 = SYSDATETIME();\n",
                "\n",
                "    -- Ensure sequence exists and restart it\n",
                "    IF NOT EXISTS (\n",
                "        SELECT 1 FROM sys.sequences \n",
                "        WHERE name = 'DimMaritalStatusSequenceObject' \n",
                "          AND SCHEMA_NAME(schema_id) = 'PkSequence'\n",
                "    )\n",
                "    BEGIN\n",
                "        CREATE SEQUENCE PkSequence.DimMaritalStatusSequenceObject\n",
                "            AS INT START WITH 1 INCREMENT BY 1 MINVALUE 1 MAXVALUE 2147483647 CACHE;\n",
                "    END\n",
                "    ELSE\n",
                "    BEGIN\n",
                "        ALTER SEQUENCE PkSequence.DimMaritalStatusSequenceObject RESTART WITH 1;\n",
                "    END;\n",
                "\n",
                "    -- Insert distinct marital statuses with surrogate key\n",
                "    INSERT INTO [CH01-01-Dimension].[DimMaritalStatus] (\n",
                "        MaritalStatus,\n",
                "        MaritalStatusDescription,\n",
                "        UserAuthorizationKey\n",
                "    )\n",
                "    SELECT \n",
                "        NEXT VALUE FOR PkSequence.DimMaritalStatusSequenceObject,\n",
                "        d.MaritalStatus,\n",
                "        CASE \n",
                "            WHEN d.MaritalStatus = 'M' THEN 'Married'\n",
                "            WHEN d.MaritalStatus = 'S' THEN 'Single'\n",
                "            ELSE 'Other'\n",
                "        END,\n",
                "        @UserAuthorizationKey\n",
                "    FROM FileUpload.OriginallyLoadedData d\n",
                "    WHERE d.MaritalStatus IS NOT NULL\n",
                "    GROUP BY d.MaritalStatus;\n",
                "\n",
                "    -- Log operation\n",
                "    EXEC [Process].usp_TrackWorkFlow\n",
                "        @StartTime = @StartTime,\n",
                "        @WorkFlowDescription = 'Loaded DimMaritalStatus with surrogate keys from sequence object',\n",
                "        @WorkFlowStepTableRowCount = @@ROWCOUNT,\n",
                "        @UserAuthorizationKey = @UserAuthorizationKey;\n",
                "END;\n",
                "GO"
            ],
            "metadata": {
                "language": "sql",
                "azdata_cell_guid": "33a814fc-6c52-485e-ade5-b2f5953e98f8"
            },
            "outputs": [
                {
                    "output_type": "display_data",
                    "data": {
                        "text/html": "Commands completed successfully."
                    },
                    "metadata": {}
                },
                {
                    "output_type": "display_data",
                    "data": {
                        "text/html": "Commands completed successfully."
                    },
                    "metadata": {}
                },
                {
                    "output_type": "error",
                    "evalue": "Msg 207, Level 16, State 1, Procedure LoadDimMaritalStatus, Line 31\nInvalid column name 'MaritalStatusKey'.",
                    "ename": "",
                    "traceback": []
                },
                {
                    "output_type": "display_data",
                    "data": {
                        "text/html": "Total execution time: 00:00:00.012"
                    },
                    "metadata": {}
                }
            ],
            "execution_count": 92
        },
        {
            "cell_type": "code",
            "source": [
                "EXEC [Project2].[LoadDimMaritalStatus] 1;"
            ],
            "metadata": {
                "language": "sql",
                "azdata_cell_guid": "e4f967ec-a254-4bae-aa4d-e7a4106c9cf8"
            },
            "outputs": [
                {
                    "output_type": "error",
                    "evalue": "Msg 2812, Level 16, State 62, Line 1\nCould not find stored procedure 'Project2.LoadDimMaritalStatus'.",
                    "ename": "",
                    "traceback": []
                },
                {
                    "output_type": "display_data",
                    "data": {
                        "text/html": "Total execution time: 00:00:00.002"
                    },
                    "metadata": {}
                }
            ],
            "execution_count": 93
        },
        {
            "cell_type": "code",
            "source": [
                "SET ANSI_NULLS ON\n",
                "GO\n",
                "SET QUOTED_IDENTIFIER ON\n",
                "GO\n",
                "-- =============================================\n",
                "-- Author: Ashly Felix\n",
                "-- Create date: 2025-04-13\n",
                "-- Description: Loads distinct occupations into DimOccupation using surrogate keys via sequence object\n",
                "-- =============================================\n",
                "alter PROCEDURE [Project2].[LoadDimOccupation]\n",
                "    @UserAuthorizationKey INT\n",
                "AS\n",
                "BEGIN\n",
                "    SET NOCOUNT ON;\n",
                "\n",
                "    DECLARE @StartTime DATETIME2 = SYSDATETIME();\n",
                "\n",
                "    -- Ensure sequence exists and restart it\n",
                "    IF NOT EXISTS (\n",
                "        SELECT 1 FROM sys.sequences \n",
                "        WHERE name = 'DimOccupationSequenceObject' \n",
                "          AND SCHEMA_NAME(schema_id) = 'PkSequence'\n",
                "    )\n",
                "    BEGIN\n",
                "        CREATE SEQUENCE PkSequence.DimOccupationSequenceObject\n",
                "            AS INT START WITH 1 INCREMENT BY 1 MINVALUE 1 MAXVALUE 2147483647 CACHE;\n",
                "    END\n",
                "    ELSE\n",
                "    BEGIN\n",
                "        ALTER SEQUENCE PkSequence.DimOccupationSequenceObject RESTART WITH 1;\n",
                "    END;\n",
                "\n",
                "    -- Insert distinct occupations using surrogate keys\n",
                "    INSERT INTO [CH01-01-Dimension].[DimOccupation] (\n",
                "        OccupationKey,\n",
                "        Occupation,\n",
                "        UserAuthorizationKey\n",
                "    )\n",
                "    SELECT \n",
                "        NEXT VALUE FOR PkSequence.DimOccupationSequenceObject,\n",
                "        d.Occupation,\n",
                "        @UserAuthorizationKey\n",
                "    FROM (\n",
                "        SELECT DISTINCT d.Occupation\n",
                "        FROM FileUpload.OriginallyLoadedData d\n",
                "        WHERE d.Occupation IS NOT NULL\n",
                "    ) AS UniqueOccupations;\n",
                "\n",
                "    -- Log operation\n",
                "    EXEC [Process].usp_TrackWorkFlow\n",
                "        @StartTime = @StartTime,\n",
                "        @WorkFlowDescription = 'Loaded DimOccupation with surrogate keys from sequence object',\n",
                "        @WorkFlowStepTableRowCount = @@ROWCOUNT,\n",
                "        @UserAuthorizationKey = @UserAuthorizationKey;\n",
                "END;\n",
                "GO"
            ],
            "metadata": {
                "language": "sql",
                "azdata_cell_guid": "e70030ea-ea40-4bc8-be91-f80598b1ab43"
            },
            "outputs": [
                {
                    "output_type": "display_data",
                    "data": {
                        "text/html": "Commands completed successfully."
                    },
                    "metadata": {}
                },
                {
                    "output_type": "display_data",
                    "data": {
                        "text/html": "Commands completed successfully."
                    },
                    "metadata": {}
                },
                {
                    "output_type": "error",
                    "evalue": "Msg 4104, Level 16, State 1, Procedure LoadDimOccupation, Line 37\nThe multi-part identifier \"d.Occupation\" could not be bound.",
                    "ename": "",
                    "traceback": []
                },
                {
                    "output_type": "display_data",
                    "data": {
                        "text/html": "Total execution time: 00:00:00.009"
                    },
                    "metadata": {}
                }
            ],
            "execution_count": 99
        },
        {
            "cell_type": "code",
            "source": [
                "EXEC [Project2].[LoadDimOccupation] 1;"
            ],
            "metadata": {
                "language": "sql",
                "azdata_cell_guid": "4dd0fc06-9d74-4cc5-856a-e996531f8fcc"
            },
            "outputs": [
                {
                    "output_type": "error",
                    "evalue": "Msg 2812, Level 16, State 62, Line 1\nCould not find stored procedure 'Project2.LoadDimOccupation'.",
                    "ename": "",
                    "traceback": []
                },
                {
                    "output_type": "display_data",
                    "data": {
                        "text/html": "Total execution time: 00:00:00.004"
                    },
                    "metadata": {}
                }
            ],
            "execution_count": 100
        },
        {
            "cell_type": "code",
            "source": [
                "SET ANSI_NULLS ON\n",
                "GO\n",
                "SET QUOTED_IDENTIFIER ON\n",
                "GO\n",
                "-- =============================================\n",
                "-- Author: Ashly Felix\n",
                "-- Create date: 2025-04-13\n",
                "-- Description: Loads distinct order dates into DimOrderDate using surrogate keys from sequence object\n",
                "-- =============================================\n",
                "CREATE PROCEDURE [Project2].[LoadDimOrderDate]\n",
                "    @UserAuthorizationKey INT\n",
                "AS\n",
                "BEGIN\n",
                "    SET NOCOUNT ON;\n",
                "\n",
                "    DECLARE @StartTime DATETIME2 = SYSDATETIME();\n",
                "\n",
                "    -- Ensure sequence exists and restart it\n",
                "    IF NOT EXISTS (\n",
                "        SELECT 1 FROM sys.sequences \n",
                "        WHERE name = 'DimOrderDateSequenceObject' \n",
                "          AND SCHEMA_NAME(schema_id) = 'PkSequence'\n",
                "    )\n",
                "    BEGIN\n",
                "        CREATE SEQUENCE PkSequence.DimOrderDateSequenceObject\n",
                "            AS INT START WITH 1 INCREMENT BY 1 MINVALUE 1 MAXVALUE 2147483647 CACHE;\n",
                "    END\n",
                "    ELSE\n",
                "    BEGIN\n",
                "        ALTER SEQUENCE PkSequence.DimOrderDateSequenceObject RESTART WITH 1;\n",
                "    END;\n",
                "\n",
                "    -- Insert distinct order dates\n",
                "    INSERT INTO [CH01-01-Dimension].[DimOrderDate] (\n",
                "        OrderDateKey,\n",
                "        OrderDate,\n",
                "        MonthName,\n",
                "        MonthNumber,\n",
                "        Year,\n",
                "        UserAuthorizationKey\n",
                "    )\n",
                "    SELECT \n",
                "        NEXT VALUE FOR PkSequence.DimOrderDateSequenceObject,\n",
                "        d.OrderDate,\n",
                "        d.MonthName,\n",
                "        d.MonthNumber,\n",
                "        d.Year,\n",
                "        @UserAuthorizationKey\n",
                "    FROM FileUpload.OriginallyLoadedData d\n",
                "    WHERE d.OrderDate IS NOT NULL\n",
                "    GROUP BY d.OrderDate, d.MonthName, d.MonthNumber, d.Year;\n",
                "\n",
                "    -- Log operation\n",
                "    EXEC [Process].usp_TrackWorkFlow\n",
                "        @StartTime = @StartTime,\n",
                "        @WorkFlowDescription = 'Loaded DimOrderDate with surrogate keys from sequence object',\n",
                "        @WorkFlowStepTableRowCount = @@ROWCOUNT,\n",
                "        @UserAuthorizationKey = @UserAuthorizationKey;\n",
                "END;\n",
                "GO"
            ],
            "metadata": {
                "language": "sql",
                "azdata_cell_guid": "db034426-141b-4963-b4ba-b7e347312e29"
            },
            "outputs": [
                {
                    "output_type": "display_data",
                    "data": {
                        "text/html": "Commands completed successfully."
                    },
                    "metadata": {}
                },
                {
                    "output_type": "display_data",
                    "data": {
                        "text/html": "Commands completed successfully."
                    },
                    "metadata": {}
                },
                {
                    "output_type": "error",
                    "evalue": "Msg 207, Level 16, State 1, Procedure LoadDimOrderDate, Line 31\nInvalid column name 'OrderDateKey'.",
                    "ename": "",
                    "traceback": []
                },
                {
                    "output_type": "display_data",
                    "data": {
                        "text/html": "Total execution time: 00:00:00.012"
                    },
                    "metadata": {}
                }
            ],
            "execution_count": 101
        },
        {
            "cell_type": "code",
            "source": [
                "EXEC [Project2].[LoadDimOrderDate] 1;"
            ],
            "metadata": {
                "language": "sql",
                "azdata_cell_guid": "f2aabfec-c3b9-4582-a863-5e330d542bda"
            },
            "outputs": [
                {
                    "output_type": "error",
                    "evalue": "Msg 2812, Level 16, State 62, Line 1\nCould not find stored procedure 'Project2.LoadDimOrderDate'.",
                    "ename": "",
                    "traceback": []
                },
                {
                    "output_type": "display_data",
                    "data": {
                        "text/html": "Total execution time: 00:00:00.005"
                    },
                    "metadata": {}
                }
            ],
            "execution_count": 102
        },
        {
            "cell_type": "code",
            "source": [
                "SET ANSI_NULLS ON\n",
                "GO\n",
                "SET QUOTED_IDENTIFIER ON\n",
                "GO\n",
                "-- =============================================\n",
                "-- Author: Ashly Felix\n",
                "-- Create date: 2025-04-13\n",
                "-- Description: Loads distinct products into DimProduct with surrogate keys via sequence object\n",
                "-- =============================================\n",
                "alter PROCEDURE [Project2].[LoadDimProduct]\n",
                "    @UserAuthorizationKey INT\n",
                "AS\n",
                "BEGIN\n",
                "    SET NOCOUNT ON;\n",
                "\n",
                "    DECLARE @StartTime DATETIME2 = SYSDATETIME();\n",
                "\n",
                "    -- Ensure sequence exists and restart it\n",
                "    IF NOT EXISTS (\n",
                "        SELECT 1 FROM sys.sequences \n",
                "        WHERE name = 'DimProductSequenceObject' \n",
                "          AND SCHEMA_NAME(schema_id) = 'PkSequence'\n",
                "    )\n",
                "    BEGIN\n",
                "        CREATE SEQUENCE PkSequence.DimProductSequenceObject\n",
                "            AS INT START WITH 1 INCREMENT BY 1 MINVALUE 1 MAXVALUE 2147483647 CACHE;\n",
                "    END\n",
                "    ELSE\n",
                "    BEGIN\n",
                "        ALTER SEQUENCE PkSequence.DimProductSequenceObject RESTART WITH 1;\n",
                "    END;\n",
                "\n",
                "    -- Load distinct products by ProductCode (1st name per code)\n",
                "    INSERT INTO [CH01-01-Dimension].[DimProduct] (\n",
                "        ProductKey,\n",
                "        ProductSubcategoryKey,\n",
                "        ProductCategory,\n",
                "        ProductSubcategory,\n",
                "        ProductCode,\n",
                "        ProductName,\n",
                "        Color,\n",
                "        ModelName,\n",
                "        UserAuthorizationKey\n",
                "    )\n",
                "    SELECT \n",
                "        NEXT VALUE FOR PkSequence.DimProductSequenceObject,\n",
                "        NULL AS ProductSubcategoryKey,\n",
                "        ProductCategory,\n",
                "        ProductSubcategory,\n",
                "        ProductCode,\n",
                "        ProductName,\n",
                "        Color,\n",
                "        ModelName,\n",
                "        @UserAuthorizationKey\n",
                "    FROM (\n",
                "        SELECT *,\n",
                "               ROW_NUMBER() OVER (PARTITION BY ProductCode ORDER BY ProductName) AS rn\n",
                "        FROM FileUpload.OriginallyLoadedData\n",
                "        WHERE ProductCode IS NOT NULL\n",
                "    ) AS Ranked\n",
                "    WHERE rn = 1;\n",
                "\n",
                "    -- Log operation\n",
                "    EXEC [Process].usp_TrackWorkFlow\n",
                "        @StartTime = @StartTime,\n",
                "        @WorkFlowDescription = 'Loaded DimProduct with surrogate keys from sequence object',\n",
                "        @WorkFlowStepTableRowCount = @@ROWCOUNT,\n",
                "        @UserAuthorizationKey = @UserAuthorizationKey;\n",
                "END;\n",
                "GO"
            ],
            "metadata": {
                "language": "sql",
                "azdata_cell_guid": "bcbe2636-e096-424b-9fb0-4255ec73843a"
            },
            "outputs": [
                {
                    "output_type": "display_data",
                    "data": {
                        "text/html": "Commands completed successfully."
                    },
                    "metadata": {}
                },
                {
                    "output_type": "display_data",
                    "data": {
                        "text/html": "Commands completed successfully."
                    },
                    "metadata": {}
                },
                {
                    "output_type": "error",
                    "evalue": "Msg 208, Level 16, State 6, Procedure LoadDimProduct, Line 6\nInvalid object name 'Project2.LoadDimProduct'.",
                    "ename": "",
                    "traceback": []
                },
                {
                    "output_type": "display_data",
                    "data": {
                        "text/html": "Total execution time: 00:00:00.008"
                    },
                    "metadata": {}
                }
            ],
            "execution_count": 103
        },
        {
            "cell_type": "code",
            "source": [
                "EXEC [Project2].[LoadDimProduct] 1;"
            ],
            "metadata": {
                "language": "sql",
                "azdata_cell_guid": "35f01a4a-035d-478e-a51f-48271b62d66c"
            },
            "outputs": [
                {
                    "output_type": "error",
                    "evalue": "Msg 2812, Level 16, State 62, Line 1\nCould not find stored procedure 'Project2.LoadDimProduct'.",
                    "ename": "",
                    "traceback": []
                },
                {
                    "output_type": "display_data",
                    "data": {
                        "text/html": "Total execution time: 00:00:00.004"
                    },
                    "metadata": {}
                }
            ],
            "execution_count": 104
        },
        {
            "cell_type": "code",
            "source": [
                "SET ANSI_NULLS ON\n",
                "GO\n",
                "SET QUOTED_IDENTIFIER ON\n",
                "GO\n",
                "-- =============================================\n",
                "-- Author: Maitri Vathada\n",
                "-- Create date: 2025-04-13\n",
                "-- Description: Loads distinct territory combinations into DimTerritory using surrogate keys from a sequence object\n",
                "-- =============================================\n",
                "CREATE PROCEDURE [Project2].[LoadDimTerritory]\n",
                "    @UserAuthorizationKey INT\n",
                "AS\n",
                "BEGIN\n",
                "    SET NOCOUNT ON;\n",
                "\n",
                "    DECLARE @StartTime DATETIME2 = SYSDATETIME();\n",
                "\n",
                "    -- Ensure sequence exists and restart it\n",
                "    IF NOT EXISTS (\n",
                "        SELECT 1 FROM sys.sequences \n",
                "        WHERE name = 'DimTerritorySequenceObject' \n",
                "          AND SCHEMA_NAME(schema_id) = 'PkSequence'\n",
                "    )\n",
                "    BEGIN\n",
                "        CREATE SEQUENCE PkSequence.DimTerritorySequenceObject\n",
                "            AS INT START WITH 1 INCREMENT BY 1 MINVALUE 1 MAXVALUE 2147483647 CACHE;\n",
                "    END\n",
                "    ELSE\n",
                "    BEGIN\n",
                "        ALTER SEQUENCE PkSequence.DimTerritorySequenceObject RESTART WITH 1;\n",
                "    END;\n",
                "\n",
                "    -- Insert distinct territory values\n",
                "    INSERT INTO [CH01-01-Dimension].[DimTerritory] (\n",
                "        TerritoryKey,\n",
                "        TerritoryGroup,\n",
                "        TerritoryCountry,\n",
                "        TerritoryRegion,\n",
                "        UserAuthorizationKey\n",
                "    )\n",
                "    SELECT \n",
                "        NEXT VALUE FOR PkSequence.DimTerritorySequenceObject,\n",
                "        d.TerritoryGroup,\n",
                "        d.TerritoryCountry,\n",
                "        d.TerritoryRegion,\n",
                "        @UserAuthorizationKey\n",
                "    FROM (\n",
                "        SELECT DISTINCT TerritoryGroup, TerritoryCountry, TerritoryRegion\n",
                "        FROM FileUpload.OriginallyLoadedData\n",
                "        WHERE TerritoryGroup IS NOT NULL\n",
                "          AND TerritoryCountry IS NOT NULL\n",
                "          AND TerritoryRegion IS NOT NULL\n",
                "    ) AS d;\n",
                "\n",
                "    -- Log operation\n",
                "    EXEC [Process].usp_TrackWorkFlow\n",
                "        @StartTime = @StartTime,\n",
                "        @WorkFlowDescription = 'Loaded DimTerritory with surrogate keys from sequence object',\n",
                "        @WorkFlowStepTableRowCount = @@ROWCOUNT,\n",
                "        @UserAuthorizationKey = @UserAuthorizationKey;\n",
                "END;\n",
                "GO"
            ],
            "metadata": {
                "language": "sql",
                "azdata_cell_guid": "e881b6f6-2291-472a-9143-097a29a079e7"
            },
            "outputs": [
                {
                    "output_type": "display_data",
                    "data": {
                        "text/html": "Commands completed successfully."
                    },
                    "metadata": {}
                },
                {
                    "output_type": "display_data",
                    "data": {
                        "text/html": "Commands completed successfully."
                    },
                    "metadata": {}
                },
                {
                    "output_type": "display_data",
                    "data": {
                        "text/html": "Commands completed successfully."
                    },
                    "metadata": {}
                },
                {
                    "output_type": "display_data",
                    "data": {
                        "text/html": "Total execution time: 00:00:00.022"
                    },
                    "metadata": {}
                }
            ],
            "execution_count": 105
        },
        {
            "cell_type": "code",
            "source": [
                "EXEC [Project2].[LoadDimTerritory] 1;"
            ],
            "metadata": {
                "language": "sql",
                "azdata_cell_guid": "af5c55a3-9bbf-4d73-9818-ef8771dc4130"
            },
            "outputs": [
                {
                    "output_type": "display_data",
                    "data": {
                        "text/html": "Commands completed successfully."
                    },
                    "metadata": {}
                },
                {
                    "output_type": "display_data",
                    "data": {
                        "text/html": "Total execution time: 00:00:00.277"
                    },
                    "metadata": {}
                }
            ],
            "execution_count": 106
        },
        {
            "cell_type": "code",
            "source": [
                "SET ANSI_NULLS ON\n",
                "GO\n",
                "SET QUOTED_IDENTIFIER ON\n",
                "GO\n",
                "-- =============================================\n",
                "-- Author: Jaskaran Bains\n",
                "-- Create date: 2025-04-13\n",
                "-- Description: Loads distinct sales managers into Dim table using surrogate key sequence and conditional office logic\n",
                "-- =============================================\n",
                "CREATE PROCEDURE [Project2].[LoadSalesManagers] \n",
                "    @UserAuthorizationKey INT\n",
                "AS\n",
                "BEGIN\n",
                "    SET NOCOUNT ON;\n",
                "\n",
                "    DECLARE @StartTime DATETIME2 = SYSDATETIME();\n",
                "\n",
                "    -- Ensure sequence exists and restart it\n",
                "    IF NOT EXISTS (\n",
                "        SELECT 1 FROM sys.sequences \n",
                "        WHERE name = 'SalesManagersSequenceObject' \n",
                "          AND SCHEMA_NAME(schema_id) = 'PkSequence'\n",
                "    )\n",
                "    BEGIN\n",
                "        CREATE SEQUENCE PkSequence.SalesManagersSequenceObject\n",
                "            AS INT START WITH 1 INCREMENT BY 1 MINVALUE 1 MAXVALUE 2147483647 CACHE;\n",
                "    END\n",
                "    ELSE\n",
                "    BEGIN\n",
                "        ALTER SEQUENCE PkSequence.SalesManagersSequenceObject RESTART WITH 1;\n",
                "    END;\n",
                "\n",
                "    -- Insert distinct sales managers\n",
                "    INSERT INTO [CH01-01-Dimension].SalesManagers (\n",
                "        SalesManagerKey,\n",
                "        Category,\n",
                "        SalesManager,\n",
                "        Office,\n",
                "        UserAuthorizationKey\n",
                "    )\n",
                "    SELECT \n",
                "        NEXT VALUE FOR PkSequence.SalesManagersSequenceObject,\n",
                "        ProductCategory,\n",
                "        SalesManager,\n",
                "        CASE\n",
                "            WHEN SalesManager LIKE 'Marco%' THEN 'Redmond'\n",
                "            WHEN SalesManager LIKE 'Alberto%' THEN 'Seattle'\n",
                "            WHEN SalesManager LIKE 'Maurizio%' THEN 'Redmond'\n",
                "            ELSE 'Seattle'\n",
                "        END,\n",
                "        @UserAuthorizationKey\n",
                "    FROM FileUpload.OriginallyLoadedData\n",
                "    WHERE SalesManager IS NOT NULL AND ProductCategory IS NOT NULL\n",
                "    GROUP BY ProductCategory, SalesManager;\n",
                "\n",
                "    -- Log operation\n",
                "    EXEC [Process].usp_TrackWorkFlow\n",
                "        @StartTime = @StartTime,\n",
                "        @WorkFlowDescription = 'Loaded SalesManagers with surrogate keys from sequence object and assigned office values',\n",
                "        @WorkFlowStepTableRowCount = @@ROWCOUNT,\n",
                "        @UserAuthorizationKey = @UserAuthorizationKey;\n",
                "END\n",
                "GO"
            ],
            "metadata": {
                "language": "sql",
                "azdata_cell_guid": "fb698c3f-072b-4870-9338-a645b8e0476c"
            },
            "outputs": [
                {
                    "output_type": "display_data",
                    "data": {
                        "text/html": "Commands completed successfully."
                    },
                    "metadata": {}
                },
                {
                    "output_type": "display_data",
                    "data": {
                        "text/html": "Commands completed successfully."
                    },
                    "metadata": {}
                },
                {
                    "output_type": "display_data",
                    "data": {
                        "text/html": "Commands completed successfully."
                    },
                    "metadata": {}
                },
                {
                    "output_type": "display_data",
                    "data": {
                        "text/html": "Total execution time: 00:00:00.008"
                    },
                    "metadata": {}
                }
            ],
            "execution_count": 107
        },
        {
            "cell_type": "code",
            "source": [
                "EXEC [Project2].[LoadSalesManagers]  1;"
            ],
            "metadata": {
                "language": "sql",
                "azdata_cell_guid": "7dcf0ad1-4c57-4eaf-bfc0-0ac8d9618422"
            },
            "outputs": [
                {
                    "output_type": "display_data",
                    "data": {
                        "text/html": "Commands completed successfully."
                    },
                    "metadata": {}
                },
                {
                    "output_type": "display_data",
                    "data": {
                        "text/html": "Total execution time: 00:00:00.122"
                    },
                    "metadata": {}
                }
            ],
            "execution_count": 108
        },
        {
            "cell_type": "code",
            "source": [
                "SET ANSI_NULLS ON\n",
                "GO\n",
                "SET QUOTED_IDENTIFIER ON\n",
                "GO\n",
                "-- =============================================\n",
                "-- Author: Jaskaran Bains\n",
                "-- Create date: 2025-04-13\n",
                "-- Description: Loads distinct product categories into Dim table using surrogate key sequence\n",
                "-- =============================================\n",
                "create PROCEDURE [Project2].[LoadProductCategory]\n",
                "    @UserAuthorizationKey INT\n",
                "AS\n",
                "BEGIN\n",
                "    SET NOCOUNT ON;\n",
                "\n",
                "    DECLARE @StartTime DATETIME2 = SYSDATETIME();\n",
                "\n",
                "    -- Ensure sequence exists and restart it\n",
                "    IF NOT EXISTS (\n",
                "        SELECT 1 FROM sys.sequences \n",
                "        WHERE name = 'ProductCategoriesSequenceObject' \n",
                "          AND SCHEMA_NAME(schema_id) = 'PkSequence'\n",
                "    )\n",
                "    BEGIN\n",
                "        CREATE SEQUENCE PkSequence.ProductCategoriesSequenceObject\n",
                "            AS INT START WITH 1 INCREMENT BY 1 MINVALUE 1 MAXVALUE 2147483647 CACHE;\n",
                "    END\n",
                "    ELSE\n",
                "    BEGIN\n",
                "        ALTER SEQUENCE PkSequence.ProductCategoriesSequenceObject RESTART WITH 1;\n",
                "    END;\n",
                "\n",
                "    -- Insert distinct product categories\n",
                "    INSERT INTO [CH01-01-Dimension].[DimProductCategory] (\n",
                "        ProductCategoryKey,\n",
                "        ProductCategory,\n",
                "        UserAuthorizationKey\n",
                "    )\n",
                "    SELECT \n",
                "        NEXT VALUE FOR PkSequence.ProductCategoriesSequenceObject,\n",
                "        d.ProductCategory,\n",
                "        @UserAuthorizationKey\n",
                "    FROM FileUpload.OriginallyLoadedData d\n",
                "    WHERE d.ProductCategory IS NOT NULL\n",
                "    GROUP BY d.ProductCategory;\n",
                "\n",
                "    -- Log operation\n",
                "    EXEC [Process].usp_TrackWorkFlow\n",
                "        @StartTime = @StartTime,\n",
                "        @WorkFlowDescription = 'Loaded ProductCategories with surrogate keys from sequence object',\n",
                "        @WorkFlowStepTableRowCount = @@ROWCOUNT,\n",
                "        @UserAuthorizationKey = @UserAuthorizationKey;\n",
                "END;\n",
                "GO"
            ],
            "metadata": {
                "language": "sql",
                "azdata_cell_guid": "2075af51-4a0c-4442-b125-64f8676f86f7"
            },
            "outputs": [
                {
                    "output_type": "display_data",
                    "data": {
                        "text/html": "Commands completed successfully."
                    },
                    "metadata": {}
                },
                {
                    "output_type": "display_data",
                    "data": {
                        "text/html": "Commands completed successfully."
                    },
                    "metadata": {}
                },
                {
                    "output_type": "display_data",
                    "data": {
                        "text/html": "Commands completed successfully."
                    },
                    "metadata": {}
                },
                {
                    "output_type": "display_data",
                    "data": {
                        "text/html": "Total execution time: 00:00:00.014"
                    },
                    "metadata": {}
                }
            ],
            "execution_count": 118
        },
        {
            "cell_type": "code",
            "source": [
                "EXEC [Project2].[LoadProductCategory] 1;"
            ],
            "metadata": {
                "language": "sql",
                "azdata_cell_guid": "fda40b56-4cc2-45f9-a581-f672bea5295e"
            },
            "outputs": [
                {
                    "output_type": "display_data",
                    "data": {
                        "text/html": "Commands completed successfully."
                    },
                    "metadata": {}
                },
                {
                    "output_type": "display_data",
                    "data": {
                        "text/html": "Total execution time: 00:00:00.049"
                    },
                    "metadata": {}
                }
            ],
            "execution_count": 119
        },
        {
            "cell_type": "code",
            "source": [
                "SET ANSI_NULLS ON\n",
                "GO\n",
                "SET QUOTED_IDENTIFIER ON\n",
                "GO\n",
                "-- =============================================\n",
                "-- Author: Jaskaran Bains\n",
                "-- Create date: 2025-04-13\n",
                "-- Description: Loads distinct product subcategories into Dim table using surrogate keys\n",
                "-- =============================================\n",
                "alter PROCEDURE [Project2].[LoadProductSubcategories]\n",
                "    @UserAuthorizationKey INT\n",
                "AS\n",
                "BEGIN\n",
                "    SET NOCOUNT ON;\n",
                "\n",
                "    DECLARE @StartTime DATETIME2 = SYSDATETIME();\n",
                "\n",
                "    -- Ensure sequence exists and restart it\n",
                "    IF NOT EXISTS (\n",
                "        SELECT 1 FROM sys.sequences \n",
                "        WHERE name = 'ProductSubcategoriesSequenceObject' \n",
                "          AND SCHEMA_NAME(schema_id) = 'PkSequence'\n",
                "    )\n",
                "    BEGIN\n",
                "        CREATE SEQUENCE PkSequence.ProductSubcategoriesSequenceObject\n",
                "            AS INT START WITH 1 INCREMENT BY 1 MINVALUE 1 MAXVALUE 2147483647 CACHE;\n",
                "    END\n",
                "    ELSE\n",
                "    BEGIN\n",
                "        ALTER SEQUENCE PkSequence.ProductSubcategoriesSequenceObject RESTART WITH 1;\n",
                "    END;\n",
                "\n",
                "    -- Insert distinct product subcategories with resolved ProductCategoryKey\n",
                "    INSERT INTO [CH01-01-Dimension].[DimProductSubcategory] (\n",
                "        ProductSubcategoryKey,\n",
                "        ProductCategoryKey,\n",
                "        ProductSubcategory,\n",
                "        UserAuthorizationKey\n",
                "    )\n",
                "    SELECT \n",
                "        NEXT VALUE FOR PkSequence.ProductSubcategoriesSequenceObject,\n",
                "        pc.ProductCategoryKey,\n",
                "        d.ProductSubcategory,\n",
                "        @UserAuthorizationKey\n",
                "    FROM (\n",
                "        SELECT DISTINCT ProductCategory, ProductSubcategory\n",
                "        FROM FileUpload.OriginallyLoadedData\n",
                "        WHERE ProductSubcategory IS NOT NULL AND ProductCategory IS NOT NULL\n",
                "    ) d\n",
                "    INNER JOIN [CH01-01-Dimension].[DimProductCategory] pc\n",
                "        ON d.ProductCategory = pc.ProductCategory;\n",
                "\n",
                "    -- Log operation\n",
                "    EXEC [Process].usp_TrackWorkFlow\n",
                "        @StartTime = @StartTime,\n",
                "        @WorkFlowDescription = 'Loaded ProductSubcategories with surrogate keys and foreign keys from sequence object',\n",
                "        @WorkFlowStepTableRowCount = @@ROWCOUNT,\n",
                "        @UserAuthorizationKey = @UserAuthorizationKey;\n",
                "END;\n",
                "GO"
            ],
            "metadata": {
                "language": "sql",
                "azdata_cell_guid": "04e50eab-757e-4a10-80fb-ed388c166602"
            },
            "outputs": [
                {
                    "output_type": "display_data",
                    "data": {
                        "text/html": "Commands completed successfully."
                    },
                    "metadata": {}
                },
                {
                    "output_type": "display_data",
                    "data": {
                        "text/html": "Commands completed successfully."
                    },
                    "metadata": {}
                },
                {
                    "output_type": "display_data",
                    "data": {
                        "text/html": "Commands completed successfully."
                    },
                    "metadata": {}
                },
                {
                    "output_type": "display_data",
                    "data": {
                        "text/html": "Total execution time: 00:00:00.012"
                    },
                    "metadata": {}
                }
            ],
            "execution_count": 123
        },
        {
            "cell_type": "code",
            "source": [
                "EXEC [Project2].[LoadProductSubcategories] 1;"
            ],
            "metadata": {
                "language": "sql",
                "azdata_cell_guid": "522af74d-ab29-4c58-8915-e9c53a4a6be2"
            },
            "outputs": [
                {
                    "output_type": "display_data",
                    "data": {
                        "text/html": "Commands completed successfully."
                    },
                    "metadata": {}
                },
                {
                    "output_type": "display_data",
                    "data": {
                        "text/html": "Total execution time: 00:00:00.071"
                    },
                    "metadata": {}
                }
            ],
            "execution_count": 124
        },
        {
            "cell_type": "code",
            "source": [
                "SET ANSI_NULLS ON\n",
                "GO\n",
                "SET QUOTED_IDENTIFIER ON\n",
                "GO\n",
                "-- =============================================\n",
                "-- Author: Ashly Felix\n",
                "-- Create date: 2025-04-13\n",
                "-- Description: Loads fact table Data using surrogate keys from sequence object\n",
                "-- =============================================\n",
                "CREATE PROCEDURE [Project2].[LoadData]\n",
                "    @UserAuthorizationKey INT\n",
                "AS\n",
                "BEGIN\n",
                "    SET NOCOUNT ON;\n",
                "\n",
                "    DECLARE @StartTime DATETIME2 = SYSDATETIME();\n",
                "\n",
                "    -- Ensure sequence exists and restart it\n",
                "    IF NOT EXISTS (\n",
                "        SELECT 1 FROM sys.sequences \n",
                "        WHERE name = 'DataSequenceObject' \n",
                "          AND SCHEMA_NAME(schema_id) = 'PkSequence'\n",
                "    )\n",
                "    BEGIN\n",
                "        CREATE SEQUENCE PkSequence.DataSequenceObject\n",
                "            AS INT START WITH 1 INCREMENT BY 1 MINVALUE 1 MAXVALUE 2147483647 CACHE;\n",
                "    END\n",
                "    ELSE\n",
                "    BEGIN\n",
                "        ALTER SEQUENCE PkSequence.DataSequenceObject RESTART WITH 1;\n",
                "    END;\n",
                "\n",
                "    -- Insert data into the fact table by joining with dimension tables\n",
                "    INSERT INTO [CH01-01-Fact].[Data] (\n",
                "        SalesKey,\n",
                "        SalesManagerKey,\n",
                "        OccupationKey,\n",
                "        TerritoryKey,\n",
                "        ProductKey,\n",
                "        CustomerKey,\n",
                "        ProductCategory,\n",
                "        SalesManager,\n",
                "        ProductSubcategory,\n",
                "        ProductCode,\n",
                "        ProductName,\n",
                "        Color,\n",
                "        ModelName,\n",
                "        OrderQuantity,\n",
                "        UnitPrice,\n",
                "        ProductStandardCost,\n",
                "        SalesAmount,\n",
                "        OrderDate,\n",
                "        MonthName,\n",
                "        MonthNumber,\n",
                "        Year,\n",
                "        CustomerName,\n",
                "        MaritalStatus,\n",
                "        Gender,\n",
                "        Education,\n",
                "        Occupation,\n",
                "        TerritoryRegion,\n",
                "        TerritoryCountry,\n",
                "        TerritoryGroup,\n",
                "        UserAuthorizationKey\n",
                "    )\n",
                "    SELECT \n",
                "        NEXT VALUE FOR PkSequence.DataSequenceObject AS SalesKey,\n",
                "        sm.SalesManagerKey,\n",
                "        occ.OccupationKey,\n",
                "        terr.TerritoryKey,\n",
                "        prod.ProductKey,\n",
                "        cust.CustomerKey,\n",
                "        f.ProductCategory,\n",
                "        f.SalesManager,\n",
                "        f.ProductSubcategory,\n",
                "        f.ProductCode,\n",
                "        f.ProductName,\n",
                "        f.Color,\n",
                "        f.ModelName,\n",
                "        f.OrderQuantity,\n",
                "        f.UnitPrice,\n",
                "        f.ProductStandardCost,\n",
                "        f.SalesAmount,\n",
                "        f.OrderDate,\n",
                "        f.MonthName,\n",
                "        f.MonthNumber,\n",
                "        f.Year,\n",
                "        f.CustomerName,\n",
                "        f.MaritalStatus,\n",
                "        f.Gender,\n",
                "        f.Education,\n",
                "        f.Occupation,\n",
                "        f.TerritoryRegion,\n",
                "        f.TerritoryCountry,\n",
                "        f.TerritoryGroup,\n",
                "        @UserAuthorizationKey\n",
                "    FROM FileUpload.OriginallyLoadedData f\n",
                "    LEFT JOIN [CH01-01-Dimension].SalesManagers sm\n",
                "        ON f.SalesManager = sm.SalesManager AND f.ProductCategory = sm.Category\n",
                "    LEFT JOIN [CH01-01-Dimension].DimOccupation occ\n",
                "        ON f.Occupation = occ.Occupation\n",
                "    LEFT JOIN [CH01-01-Dimension].DimTerritory terr\n",
                "        ON f.TerritoryRegion = terr.TerritoryRegion\n",
                "        AND f.TerritoryCountry = terr.TerritoryCountry\n",
                "        AND f.TerritoryGroup = terr.TerritoryGroup\n",
                "    LEFT JOIN [CH01-01-Dimension].DimProduct prod\n",
                "        ON f.ProductCode = prod.ProductCode\n",
                "    LEFT JOIN [CH01-01-Dimension].DimCustomer cust\n",
                "        ON f.CustomerName = cust.CustomerName;\n",
                "\n",
                "    -- Log operation\n",
                "    EXEC [Process].usp_TrackWorkFlow\n",
                "        @StartTime = @StartTime,\n",
                "        @WorkFlowDescription = 'Loaded Data fact table with surrogate keys from sequence object',\n",
                "        @WorkFlowStepTableRowCount = @@ROWCOUNT,\n",
                "        @UserAuthorizationKey = @UserAuthorizationKey;\n",
                "END;\n",
                "GO"
            ],
            "metadata": {
                "language": "sql",
                "azdata_cell_guid": "f3b1539e-d998-4980-908a-add826d449f0"
            },
            "outputs": [
                {
                    "output_type": "display_data",
                    "data": {
                        "text/html": "Commands completed successfully."
                    },
                    "metadata": {}
                },
                {
                    "output_type": "display_data",
                    "data": {
                        "text/html": "Commands completed successfully."
                    },
                    "metadata": {}
                },
                {
                    "output_type": "display_data",
                    "data": {
                        "text/html": "Commands completed successfully."
                    },
                    "metadata": {}
                },
                {
                    "output_type": "display_data",
                    "data": {
                        "text/html": "Total execution time: 00:00:00.008"
                    },
                    "metadata": {}
                }
            ],
            "execution_count": 125
        },
        {
            "cell_type": "code",
            "source": [
                "EXEC [Project2].[LoadData] 1;"
            ],
            "metadata": {
                "language": "sql",
                "azdata_cell_guid": "99581143-d44c-49d0-b927-e09e290be806"
            },
            "outputs": [
                {
                    "output_type": "display_data",
                    "data": {
                        "text/html": "Commands completed successfully."
                    },
                    "metadata": {}
                },
                {
                    "output_type": "display_data",
                    "data": {
                        "text/html": "Total execution time: 00:00:01.874"
                    },
                    "metadata": {}
                }
            ],
            "execution_count": 126
        },
        {
            "cell_type": "code",
            "source": [
                "SET ANSI_NULLS ON\n",
                "GO\n",
                "SET QUOTED_IDENTIFIER ON\n",
                "GO\n",
                "-- =============================================\n",
                "-- Author: Ashly Felix\n",
                "-- Create date: 2025-04-13\n",
                "-- Description: Creates the ParsedFileUpload schema and populates OriginallyLoadedData table with data from dimension tables\n",
                "-- =============================================\n",
                "CREATE PROCEDURE [Project2].[CreateParsedFileUpload]\n",
                "    @UserAuthorizationKey INT -- To log who executed this\n",
                "AS\n",
                "BEGIN\n",
                "    SET NOCOUNT ON;\n",
                "\n",
                "    DECLARE @StartTime DATETIME2 = SYSDATETIME();\n",
                "\n",
                "    -- Create the ParsedFileUpload schema if it doesn't exist\n",
                "    IF SCHEMA_ID('ParsedFileUpload') IS NULL\n",
                "    BEGIN\n",
                "        EXEC sp_executesql N'CREATE SCHEMA ParsedFileUpload';\n",
                "    END;\n",
                "\n",
                "    -- Drop the table if it exists\n",
                "    IF OBJECT_ID('ParsedFileUpload.OriginallyLoadedData') IS NOT NULL\n",
                "    BEGIN\n",
                "        DROP TABLE ParsedFileUpload.OriginallyLoadedData;\n",
                "    END;\n",
                "\n",
                "    -- Populate ParsedFileUpload.OriginallyLoadedData by joining dimension tables\n",
                "    SELECT\n",
                "        cust.CustomerKey,\n",
                "        cust.CustomerName,\n",
                "        gen.GenderKey,\n",
                "        gen.Gender,\n",
                "        gen.GenderDescription,\n",
                "        ms.MaritalStatusKey,\n",
                "        ms.MaritalStatus,\n",
                "        ms.MaritalStatusDescription,\n",
                "        occ.OccupationKey,\n",
                "        occ.Occupation,\n",
                "        od.OrderDateKey,\n",
                "        od.OrderDate,\n",
                "        od.MonthName,\n",
                "        od.MonthNumber,\n",
                "        od.Year,\n",
                "        terr.TerritoryKey,\n",
                "        terr.TerritoryRegion,\n",
                "        terr.TerritoryCountry,\n",
                "        terr.TerritoryGroup,\n",
                "        sm.SalesManagerKey,\n",
                "        sm.SalesManager,\n",
                "        sm.Category AS ProductCategory,\n",
                "        sm.Office,\n",
                "        pc.ProductCategoryKey,\n",
                "        pc.ProductCategory,\n",
                "        psc.ProductSubcategoryKey,\n",
                "        psc.ProductSubcategory,\n",
                "        prod.ProductKey,\n",
                "        prod.ProductCode,\n",
                "        prod.ProductName,\n",
                "        prod.Color,\n",
                "        prod.ModelName\n",
                "    INTO ParsedFileUpload.OriginallyLoadedData\n",
                "    FROM [CH01-01-Dimension].DimCustomer cust\n",
                "    CROSS JOIN [CH01-01-Dimension].DimGender gen\n",
                "    CROSS JOIN [CH01-01-Dimension].DimMaritalStatus ms\n",
                "    CROSS JOIN [CH01-01-Dimension].DimOccupation occ\n",
                "    CROSS JOIN [CH01-01-Dimension].DimOrderDate od\n",
                "    CROSS JOIN [CH01-01-Dimension].DimTerritory terr\n",
                "    CROSS JOIN [CH01-01-Dimension].SalesManagers sm\n",
                "    CROSS JOIN [CH01-01-Dimension].ProductCategories pc\n",
                "    CROSS JOIN [CH01-01-Dimension].ProductSubcategories psc\n",
                "    CROSS JOIN [CH01-01-Dimension].DimProduct prod;\n",
                "\n",
                "    -- Log the operation\n",
                "    EXEC [Process].usp_TrackWorkFlow\n",
                "        @StartTime = @StartTime,\n",
                "        @WorkFlowDescription = 'Created ParsedFileUpload schema and populated OriginallyLoadedData table with dimension data',\n",
                "        @WorkFlowStepTableRowCount = @@ROWCOUNT,\n",
                "        @UserAuthorizationKey = @UserAuthorizationKey;\n",
                "END;\n",
                "GO"
            ],
            "metadata": {
                "language": "sql",
                "azdata_cell_guid": "ebead848-16c8-44ef-bc85-37ee7ed2b2ec"
            },
            "outputs": [
                {
                    "output_type": "display_data",
                    "data": {
                        "text/html": "Commands completed successfully."
                    },
                    "metadata": {}
                },
                {
                    "output_type": "display_data",
                    "data": {
                        "text/html": "Commands completed successfully."
                    },
                    "metadata": {}
                },
                {
                    "output_type": "error",
                    "evalue": "Msg 2714, Level 16, State 3, Procedure CreateParsedFileUpload, Line 6\nThere is already an object named 'CreateParsedFileUpload' in the database.",
                    "ename": "",
                    "traceback": []
                },
                {
                    "output_type": "display_data",
                    "data": {
                        "text/html": "Total execution time: 00:00:00.012"
                    },
                    "metadata": {}
                }
            ],
            "execution_count": 127
        },
        {
            "cell_type": "code",
            "source": [
                "SET ANSI_NULLS ON\n",
                "GO\n",
                "SET QUOTED_IDENTIFIER ON\n",
                "GO\n",
                "-- =============================================\n",
                "-- Author: Jaskaran Bains\n",
                "-- Create date: 2025-04-13\n",
                "-- Description:\tRestores foreign keys to star schema tables\n",
                "-- =============================================\n",
                "alter PROCEDURE [Project2].[AddForeignKeysToStarSchemaData]\n",
                "        @UserAuthorizationKey INT\n",
                "AS\n",
                "BEGIN\n",
                "    SET NOCOUNT ON;\n",
                "\n",
                "    DECLARE @StartTime DATETIME2 = SYSDATETIME();\n",
                "\n",
                "    -- Restore foreign keys in ProductSubcategories\n",
                "    ALTER TABLE [CH01-01-Dimension].DimProductSubcategory\n",
                "    ADD CONSTRAINT FK_ProductSubcategory_DimProductCategory\n",
                "    FOREIGN KEY (ProductCategoryKey)\n",
                "    REFERENCES [CH01-01-Dimension].DimProductCategory (ProductCategoryKey);\n",
                "\n",
                "    -- Restore foreign keys in DimProduct\n",
                "    ALTER TABLE [CH01-01-Dimension].DimProduct\n",
                "    ADD CONSTRAINT FK_DimProduct_ProductSubcategory\n",
                "    FOREIGN KEY (ProductSubcategoryKey)\n",
                "    REFERENCES [CH01-01-Dimension].DimProductSubcategory (ProductSubcategoryKey);\n",
                "\n",
                "    -- Restore foreign keys in Data\n",
                "    ALTER TABLE [CH01-01-Fact].Data\n",
                "    ADD CONSTRAINT FK_Data_SalesManagers\n",
                "    FOREIGN KEY (SalesManagerKey)\n",
                "    REFERENCES [CH01-01-Dimension].SalesManagers (SalesManagerKey);\n",
                "\n",
                "    --ALTER TABLE [CH01-01-Fact].Data\n",
                "    --ADD CONSTRAINT FK_Data_DimGender\n",
                "    --FOREIGN KEY (GenderKey)\n",
                "    --REFERENCES [CH01-01-Dimension].DimGender (GenderKey);\n",
                "\n",
                "    --ALTER TABLE [CH01-01-Fact].Data\n",
                "    --ADD CONSTRAINT FK_Data_DimMaritalStatus\n",
                "    --FOREIGN KEY (MaritalStatusKey)\n",
                "    --REFERENCES [CH01-01-Dimension].DimMaritalStatus (MaritalStatusKey);\n",
                "\n",
                "    ALTER TABLE [CH01-01-Fact].Data\n",
                "    ADD CONSTRAINT FK_Data_DimOccupation\n",
                "    FOREIGN KEY (OccupationKey)\n",
                "    REFERENCES [CH01-01-Dimension].DimOccupation (OccupationKey);\n",
                "\n",
                "    ALTER TABLE [CH01-01-Fact].Data\n",
                "    ADD CONSTRAINT FK_Data_DimOrderDate\n",
                "    FOREIGN KEY (OrderDateKey)\n",
                "    REFERENCES [CH01-01-Dimension].DimOrderDate (OrderDateKey);\n",
                "\n",
                "    ALTER TABLE [CH01-01-Fact].Data\n",
                "    ADD CONSTRAINT FK_Data_DimTerritory\n",
                "    FOREIGN KEY (TerritoryKey)\n",
                "    REFERENCES [CH01-01-Dimension].DimTerritory (TerritoryKey);\n",
                "\n",
                "    ALTER TABLE [CH01-01-Fact].Data\n",
                "    ADD CONSTRAINT FK_Data_DimProduct\n",
                "    FOREIGN KEY (ProductKey)\n",
                "    REFERENCES [CH01-01-Dimension].DimProduct (ProductKey);\n",
                "\n",
                "    ALTER TABLE [CH01-01-Fact].Data\n",
                "    ADD CONSTRAINT FK_Data_DimCustomer\n",
                "    FOREIGN KEY (CustomerKey)\n",
                "    REFERENCES [CH01-01-Dimension].DimCustomer (CustomerKey);\n",
                "\n",
                "    ALTER TABLE [CH01-01-Fact].Data\n",
                "    ADD CONSTRAINT FK_Data_DimProductCategory\n",
                "    FOREIGN KEY (ProductCategoryKey)\n",
                "    REFERENCES [CH01-01-Dimension].DimProductCategory (ProductCategoryKey);\n",
                "\n",
                "    ALTER TABLE [CH01-01-Fact].Data\n",
                "    ADD CONSTRAINT FK_Data_DimProductSubcategory\n",
                "    FOREIGN KEY (ProductSubcategoryKey)\n",
                "    REFERENCES [CH01-01-Dimension].DimProductSubcategory (ProductSubcategoryKey);\n",
                "\n",
                "    -- Log the operation\n",
                "    EXEC [Process].[usp_TrackWorkFlow]\n",
                "        @StartTime = @StartTime,\n",
                "        @WorkFlowDescription = 'Restored foreign keys to star schema tables',\n",
                "        @WorkFlowStepTableRowCount = 0,\n",
                "        @UserAuthorizationKey = @UserAuthorizationKey;\n",
                "END;\n",
                "GO\n",
                ""
            ],
            "metadata": {
                "language": "sql",
                "azdata_cell_guid": "a3df7514-c632-4340-807d-7045c07aa7c2"
            },
            "outputs": [
                {
                    "output_type": "display_data",
                    "data": {
                        "text/html": "Commands completed successfully."
                    },
                    "metadata": {}
                },
                {
                    "output_type": "display_data",
                    "data": {
                        "text/html": "Commands completed successfully."
                    },
                    "metadata": {}
                },
                {
                    "output_type": "display_data",
                    "data": {
                        "text/html": "Commands completed successfully."
                    },
                    "metadata": {}
                },
                {
                    "output_type": "display_data",
                    "data": {
                        "text/html": "Total execution time: 00:00:00.010"
                    },
                    "metadata": {}
                }
            ],
            "execution_count": 136
        },
        {
            "cell_type": "code",
            "source": [
                "EXEC [Project2].[AddForeignKeysToStarSchemaData] 1;"
            ],
            "metadata": {
                "language": "sql",
                "azdata_cell_guid": "456f2c0d-5888-49fe-ae08-27ce15564dfc"
            },
            "outputs": [
                {
                    "output_type": "error",
                    "evalue": "Msg 2714, Level 16, State 5, Procedure Project2.AddForeignKeysToStarSchemaData, Line 15\nThere is already an object named 'FK_ProductSubcategory_DimProductCategory' in the database.",
                    "ename": "",
                    "traceback": []
                },
                {
                    "output_type": "error",
                    "evalue": "Msg 1750, Level 16, State 1, Procedure Project2.AddForeignKeysToStarSchemaData, Line 15\nCould not create constraint or index. See previous errors.",
                    "ename": "",
                    "traceback": []
                },
                {
                    "output_type": "display_data",
                    "data": {
                        "text/html": "Total execution time: 00:00:00.007"
                    },
                    "metadata": {}
                }
            ],
            "execution_count": 137
        },
        {
            "cell_type": "code",
            "source": [
                "SET ANSI_NULLS ON\n",
                "GO\n",
                "SET QUOTED_IDENTIFIER ON\n",
                "GO\n",
                "-- =============================================\n",
                "-- Author: Ashly Felix and Jaskaran Bains\n",
                "-- Create date: 2025-04-13\n",
                "-- Description: Orchestrates the entire star schema loading process by executing all procedures in order\n",
                "-- =============================================\n",
                "ALTER PROCEDURE [Project2].[LoadStarSchemaData]\n",
                "@UserAuthorizationKey INT\n",
                "AS\n",
                "BEGIN\n",
                "    SET NOCOUNT ON;\n",
                "\n",
                "    DECLARE @StartTime DATETIME2 = SYSDATETIME();\n",
                "\n",
                "    -- Begin a transaction to ensure consistency\n",
                "    BEGIN TRY\n",
                "        BEGIN TRANSACTION;\n",
                "\n",
                "        --\n",
                "        -- Create schemas (logging not possible yet)\n",
                "        --\n",
                "        EXEC [Project2].[CreateSchemaDbSecurity];\n",
                "        EXEC [Project2].[CreateSchemaProcess];\n",
                "\n",
                "        --\n",
                "        -- Create metadata tables for logging\n",
                "        --\n",
                "        EXEC [Project2].[CreateUserAuthorizationTable];\n",
                "        EXEC [Project2].[CreateWorkFlowTable] 1;\n",
                "        --EXEC [Process].[usp_TrackWorkFlows];\n",
                "\n",
                "        --\n",
                "        -- Drop all the prior stored procedures\n",
                "        --\n",
                "        EXEC [Utils].[DropProcsInCSCI331FinalProject] 5;\n",
                "\n",
                "\n",
                "        --\n",
                "        -- Create remaining schemas (logging now possible)\n",
                "        --\n",
                "        EXEC [Project2].[CreatePkSequenceSchema] 6;\n",
                "\n",
                "        --\n",
                "        -- Add required columns (e.g., UserAuthorizationKey) to star schema tables\n",
                "        --\n",
                "        EXEC [Project2].[AddUserAuthorizationKeyToTables] 1;\n",
                "\n",
                "        --\n",
                "        -- Drop all foreign keys prior to truncating tables in the star schema\n",
                "        --\n",
                "        EXEC [Project2].[DropForeignKeysFromStarSchemaData] 2;\n",
                "\n",
                "        --\n",
                "        -- Remove identity properties from star schema tables\n",
                "        --\n",
                "        EXEC [Project2].[RemoveIdentityFromStarSchemaTables] 3;\n",
                "\n",
                "        --\n",
                "        -- Check row count before truncation\n",
                "        --\n",
                "        EXEC [Project2].[ShowTableStatusRowCount]\n",
                "            @TableStatus = N'Pre-truncate of tables',\n",
                "            @UserAuthorizationKey = 4;\n",
                "\n",
                "        --\n",
                "        -- Always truncate the star schema data\n",
                "        --\n",
                "        EXEC [Project2].[TruncateStarSchemaTables] 5;\n",
                "\n",
                "        --\n",
                "        -- Load the star schema\n",
                "        --\n",
                "        EXEC [Project2].[LoadProductCategories] 6;\n",
                "        EXEC [Project2].[LoadProductSubcategories] 1;\n",
                "        EXEC [Project2].[LoadDimProduct] 2;\n",
                "        EXEC [Project2].[LoadSalesManagers] 3;\n",
                "        EXEC [Project2].[LoadDimCustomer] 4;\n",
                "        EXEC [Project2].[LoadDimGender] 5;\n",
                "        EXEC [Project2].[LoadDimMaritalStatus] 6;\n",
                "        EXEC [Project2].[LoadDimOccupation] 1;\n",
                "        EXEC [Project2].[LoadDimOrderDate] 2;\n",
                "        EXEC [Project2].[LoadDimTerritory] 3;\n",
                "        EXEC [Project2].[LoadData] 4;\n",
                "\n",
                "        --\n",
                "        -- Check row count after loading the star schema\n",
                "        --\n",
                "        EXEC [Project2].[ShowTableStatusRowCount]\n",
                "            @TableStatus = N'Row Count after loading the star schema',\n",
                "            @UserAuthorizationKey = 5;\n",
                "\n",
                "        --\n",
                "        -- Create ParsedFileUpload.OriginallyLoadedData with data from dimension tables\n",
                "        --\n",
                "        EXEC [Project2].[CreateParsedFileUpload] 6;\n",
                "\n",
                "        --\n",
                "        -- Recreate all foreign keys after loading the star schema\n",
                "        --\n",
                "        EXEC [Project2].[AddForeignKeysToStarSchemaData] 1;\n",
                "\n",
                "        --\n",
                "        --Show Workflow Steps \n",
                "        --\n",
                "        EXEC [Process].[usp_ShowWorkflowSteps] 2;\n",
                "\n",
                "        --\n",
                "        -- Commit the transaction if all steps succeed\n",
                "        --\n",
                "        COMMIT TRANSACTION;\n",
                "\n",
                "        --\n",
                "        -- Log the overall operation\n",
                "        --\n",
                "        EXEC [Process].usp_TrackWorkFlow\n",
                "            @StartTime = @StartTime,\n",
                "            @WorkFlowDescription = 'Successfully executed all steps to load star schema data',\n",
                "            @WorkFlowStepTableRowCount = 0,\n",
                "            @UserAuthorizationKey = 3;\n",
                "    END TRY\n",
                "    BEGIN CATCH\n",
                "        -- Rollback the transaction if any step fails\n",
                "        IF @@TRANCOUNT > 0\n",
                "            ROLLBACK TRANSACTION;\n",
                "\n",
                "        -- Log the error\n",
                "        DECLARE @ErrorMessage NVARCHAR(4000) = ERROR_MESSAGE();\n",
                "        EXEC [Process].usp_TrackWorkFlow\n",
                "            @StartTime = @StartTime,\n",
                "            @WorkFlowDescription = @ErrorMessage,\n",
                "            @WorkFlowStepTableRowCount = 0,\n",
                "            @UserAuthorizationKey = 4;\n",
                "\n",
                "        -- Re-throw the error to the caller\n",
                "        THROW;\n",
                "    END CATCH;\n",
                "END;\n",
                "GO"
            ],
            "metadata": {
                "language": "sql",
                "azdata_cell_guid": "5204f3c3-5b9d-46f2-b7eb-59d0db1c924e"
            },
            "outputs": [
                {
                    "output_type": "display_data",
                    "data": {
                        "text/html": "Commands completed successfully."
                    },
                    "metadata": {}
                },
                {
                    "output_type": "display_data",
                    "data": {
                        "text/html": "Commands completed successfully."
                    },
                    "metadata": {}
                },
                {
                    "output_type": "error",
                    "evalue": "Msg 208, Level 16, State 6, Procedure LoadStarSchemaData, Line 6\nInvalid object name 'Project2.LoadStarSchemaData'.",
                    "ename": "",
                    "traceback": []
                },
                {
                    "output_type": "display_data",
                    "data": {
                        "text/html": "Total execution time: 00:00:00.007"
                    },
                    "metadata": {}
                }
            ],
            "execution_count": 138
        },
        {
            "cell_type": "code",
            "source": [
                "EXEC [Project2].[LoadStarSchemaData] 1;"
            ],
            "metadata": {
                "language": "sql",
                "azdata_cell_guid": "48617967-7989-49c5-a768-9941c09a41fc"
            },
            "outputs": [
                {
                    "output_type": "error",
                    "evalue": "Msg 2812, Level 16, State 62, Line 1\nCould not find stored procedure 'Project2.LoadStarSchemaData'.",
                    "ename": "",
                    "traceback": []
                },
                {
                    "output_type": "display_data",
                    "data": {
                        "text/html": "Total execution time: 00:00:00.004"
                    },
                    "metadata": {}
                }
            ],
            "execution_count": 140
        },
        {
            "cell_type": "code",
            "source": [
                "EXEC [Project2].[ShowTableStatusRowCount]\n",
                "            @TableStatus = N'Row Count after loading the star schema',\n",
                "            @UserAuthorizationKey = 1;"
            ],
            "metadata": {
                "language": "sql",
                "azdata_cell_guid": "9a821ec9-4104-403b-8480-ea25320b11a2"
            },
            "outputs": [
                {
                    "output_type": "display_data",
                    "data": {
                        "text/html": "Commands completed successfully."
                    },
                    "metadata": {}
                },
                {
                    "output_type": "display_data",
                    "data": {
                        "text/html": "Total execution time: 00:00:00.034"
                    },
                    "metadata": {}
                },
                {
                    "output_type": "execute_result",
                    "metadata": {},
                    "execution_count": 142,
                    "data": {
                        "application/vnd.dataresource+json": {
                            "schema": {
                                "fields": [
                                    {
                                        "name": "TableStatus"
                                    },
                                    {
                                        "name": "TableName"
                                    },
                                    {
                                        "name": "(No column name)"
                                    }
                                ]
                            },
                            "data": [
                                {
                                    "TableStatus": "Row Count after loading the star schema",
                                    "TableName": "CH01-01-Dimension.DimCustomer",
                                    "(No column name)": "18400"
                                }
                            ]
                        },
                        "text/html": [
                            "<table>",
                            "<tr><th>TableStatus</th><th>TableName</th><th>(No column name)</th></tr>",
                            "<tr><td>Row Count after loading the star schema</td><td>CH01-01-Dimension.DimCustomer</td><td>18400</td></tr>",
                            "</table>"
                        ]
                    }
                },
                {
                    "output_type": "execute_result",
                    "metadata": {},
                    "execution_count": 142,
                    "data": {
                        "application/vnd.dataresource+json": {
                            "schema": {
                                "fields": [
                                    {
                                        "name": "TableStatus"
                                    },
                                    {
                                        "name": "TableName"
                                    },
                                    {
                                        "name": "(No column name)"
                                    }
                                ]
                            },
                            "data": [
                                {
                                    "TableStatus": "Row Count after loading the star schema",
                                    "TableName": "CH01-01-Dimension.DimGender",
                                    "(No column name)": "0"
                                }
                            ]
                        },
                        "text/html": [
                            "<table>",
                            "<tr><th>TableStatus</th><th>TableName</th><th>(No column name)</th></tr>",
                            "<tr><td>Row Count after loading the star schema</td><td>CH01-01-Dimension.DimGender</td><td>0</td></tr>",
                            "</table>"
                        ]
                    }
                },
                {
                    "output_type": "execute_result",
                    "metadata": {},
                    "execution_count": 142,
                    "data": {
                        "application/vnd.dataresource+json": {
                            "schema": {
                                "fields": [
                                    {
                                        "name": "TableStatus"
                                    },
                                    {
                                        "name": "TableName"
                                    },
                                    {
                                        "name": "(No column name)"
                                    }
                                ]
                            },
                            "data": [
                                {
                                    "TableStatus": "Row Count after loading the star schema",
                                    "TableName": "CH01-01-Dimension.DimMaritalStatus",
                                    "(No column name)": "0"
                                }
                            ]
                        },
                        "text/html": [
                            "<table>",
                            "<tr><th>TableStatus</th><th>TableName</th><th>(No column name)</th></tr>",
                            "<tr><td>Row Count after loading the star schema</td><td>CH01-01-Dimension.DimMaritalStatus</td><td>0</td></tr>",
                            "</table>"
                        ]
                    }
                },
                {
                    "output_type": "execute_result",
                    "metadata": {},
                    "execution_count": 142,
                    "data": {
                        "application/vnd.dataresource+json": {
                            "schema": {
                                "fields": [
                                    {
                                        "name": "TableStatus"
                                    },
                                    {
                                        "name": "TableName"
                                    },
                                    {
                                        "name": "(No column name)"
                                    }
                                ]
                            },
                            "data": [
                                {
                                    "TableStatus": "Row Count after loading the star schema",
                                    "TableName": "CH01-01-Dimension.DimOccupation",
                                    "(No column name)": "0"
                                }
                            ]
                        },
                        "text/html": [
                            "<table>",
                            "<tr><th>TableStatus</th><th>TableName</th><th>(No column name)</th></tr>",
                            "<tr><td>Row Count after loading the star schema</td><td>CH01-01-Dimension.DimOccupation</td><td>0</td></tr>",
                            "</table>"
                        ]
                    }
                },
                {
                    "output_type": "execute_result",
                    "metadata": {},
                    "execution_count": 142,
                    "data": {
                        "application/vnd.dataresource+json": {
                            "schema": {
                                "fields": [
                                    {
                                        "name": "TableStatus"
                                    },
                                    {
                                        "name": "TableName"
                                    },
                                    {
                                        "name": "(No column name)"
                                    }
                                ]
                            },
                            "data": [
                                {
                                    "TableStatus": "Row Count after loading the star schema",
                                    "TableName": "CH01-01-Dimension.DimOrderDate",
                                    "(No column name)": "0"
                                }
                            ]
                        },
                        "text/html": [
                            "<table>",
                            "<tr><th>TableStatus</th><th>TableName</th><th>(No column name)</th></tr>",
                            "<tr><td>Row Count after loading the star schema</td><td>CH01-01-Dimension.DimOrderDate</td><td>0</td></tr>",
                            "</table>"
                        ]
                    }
                },
                {
                    "output_type": "execute_result",
                    "metadata": {},
                    "execution_count": 142,
                    "data": {
                        "application/vnd.dataresource+json": {
                            "schema": {
                                "fields": [
                                    {
                                        "name": "TableStatus"
                                    },
                                    {
                                        "name": "TableName"
                                    },
                                    {
                                        "name": "(No column name)"
                                    }
                                ]
                            },
                            "data": [
                                {
                                    "TableStatus": "Row Count after loading the star schema",
                                    "TableName": "CH01-01-Dimension.DimProduct",
                                    "(No column name)": "0"
                                }
                            ]
                        },
                        "text/html": [
                            "<table>",
                            "<tr><th>TableStatus</th><th>TableName</th><th>(No column name)</th></tr>",
                            "<tr><td>Row Count after loading the star schema</td><td>CH01-01-Dimension.DimProduct</td><td>0</td></tr>",
                            "</table>"
                        ]
                    }
                },
                {
                    "output_type": "execute_result",
                    "metadata": {},
                    "execution_count": 142,
                    "data": {
                        "application/vnd.dataresource+json": {
                            "schema": {
                                "fields": [
                                    {
                                        "name": "TableStatus"
                                    },
                                    {
                                        "name": "TableName"
                                    },
                                    {
                                        "name": "(No column name)"
                                    }
                                ]
                            },
                            "data": [
                                {
                                    "TableStatus": "Row Count after loading the star schema",
                                    "TableName": "CH01-01-Dimension.DimProductCategory",
                                    "(No column name)": "3"
                                }
                            ]
                        },
                        "text/html": [
                            "<table>",
                            "<tr><th>TableStatus</th><th>TableName</th><th>(No column name)</th></tr>",
                            "<tr><td>Row Count after loading the star schema</td><td>CH01-01-Dimension.DimProductCategory</td><td>3</td></tr>",
                            "</table>"
                        ]
                    }
                },
                {
                    "output_type": "execute_result",
                    "metadata": {},
                    "execution_count": 142,
                    "data": {
                        "application/vnd.dataresource+json": {
                            "schema": {
                                "fields": [
                                    {
                                        "name": "TableStatus"
                                    },
                                    {
                                        "name": "TableName"
                                    },
                                    {
                                        "name": "(No column name)"
                                    }
                                ]
                            },
                            "data": [
                                {
                                    "TableStatus": "Row Count after loading the star schema",
                                    "TableName": "CH01-01-Dimension.DimProductSubcategory",
                                    "(No column name)": "17"
                                }
                            ]
                        },
                        "text/html": [
                            "<table>",
                            "<tr><th>TableStatus</th><th>TableName</th><th>(No column name)</th></tr>",
                            "<tr><td>Row Count after loading the star schema</td><td>CH01-01-Dimension.DimProductSubcategory</td><td>17</td></tr>",
                            "</table>"
                        ]
                    }
                },
                {
                    "output_type": "execute_result",
                    "metadata": {},
                    "execution_count": 142,
                    "data": {
                        "application/vnd.dataresource+json": {
                            "schema": {
                                "fields": [
                                    {
                                        "name": "TableStatus"
                                    },
                                    {
                                        "name": "TableName"
                                    },
                                    {
                                        "name": "(No column name)"
                                    }
                                ]
                            },
                            "data": [
                                {
                                    "TableStatus": "Row Count after loading the star schema",
                                    "TableName": "CH01-01-Dimension.DimTerritory",
                                    "(No column name)": "10"
                                }
                            ]
                        },
                        "text/html": [
                            "<table>",
                            "<tr><th>TableStatus</th><th>TableName</th><th>(No column name)</th></tr>",
                            "<tr><td>Row Count after loading the star schema</td><td>CH01-01-Dimension.DimTerritory</td><td>10</td></tr>",
                            "</table>"
                        ]
                    }
                },
                {
                    "output_type": "execute_result",
                    "metadata": {},
                    "execution_count": 142,
                    "data": {
                        "application/vnd.dataresource+json": {
                            "schema": {
                                "fields": [
                                    {
                                        "name": "TableStatus"
                                    },
                                    {
                                        "name": "TableName"
                                    },
                                    {
                                        "name": "(No column name)"
                                    }
                                ]
                            },
                            "data": [
                                {
                                    "TableStatus": "Row Count after loading the star schema",
                                    "TableName": "CH01-01-Dimension.SalesManagers",
                                    "(No column name)": "9"
                                }
                            ]
                        },
                        "text/html": [
                            "<table>",
                            "<tr><th>TableStatus</th><th>TableName</th><th>(No column name)</th></tr>",
                            "<tr><td>Row Count after loading the star schema</td><td>CH01-01-Dimension.SalesManagers</td><td>9</td></tr>",
                            "</table>"
                        ]
                    }
                },
                {
                    "output_type": "execute_result",
                    "metadata": {},
                    "execution_count": 142,
                    "data": {
                        "application/vnd.dataresource+json": {
                            "schema": {
                                "fields": [
                                    {
                                        "name": "TableStatus"
                                    },
                                    {
                                        "name": "TableName"
                                    },
                                    {
                                        "name": "(No column name)"
                                    }
                                ]
                            },
                            "data": [
                                {
                                    "TableStatus": "Row Count after loading the star schema",
                                    "TableName": "CH01-01-Fact.Data",
                                    "(No column name)": "60398"
                                }
                            ]
                        },
                        "text/html": [
                            "<table>",
                            "<tr><th>TableStatus</th><th>TableName</th><th>(No column name)</th></tr>",
                            "<tr><td>Row Count after loading the star schema</td><td>CH01-01-Fact.Data</td><td>60398</td></tr>",
                            "</table>"
                        ]
                    }
                }
            ],
            "execution_count": 142
        }
    ]
}