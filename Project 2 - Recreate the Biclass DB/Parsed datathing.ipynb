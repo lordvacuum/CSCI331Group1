{
    "metadata": {
        "kernelspec": {
            "name": "SQL",
            "display_name": "SQL",
            "language": "sql"
        },
        "language_info": {
            "name": "sql",
            "version": ""
        }
    },
    "nbformat_minor": 2,
    "nbformat": 4,
    "cells": [
        {
            "cell_type": "markdown",
            "source": [
                "This creates the tables"
            ],
            "metadata": {
                "azdata_cell_guid": "f5b3031a-3754-49d1-84c4-793793ffa21d"
            },
            "attachments": {}
        },
        {
            "cell_type": "code",
            "source": [
                "DROP TABLE IF EXISTS ParsedFileUpload.OriginallyLoadedData;\n",
                "\n",
                "CREATE TABLE ParsedFileUpload.OriginallyLoadedData (\n",
                "    SalesKey INT PRIMARY KEY,\n",
                "\n",
                "    ProductCategory NVARCHAR(50),\n",
                "    ProductSubcategory NVARCHAR(50),\n",
                "    \n",
                "    -- Split SalesManager into first and last name\n",
                "    SalesManagerFirstName NVARCHAR(50),\n",
                "    SalesManagerLastName NVARCHAR(50),\n",
                "\n",
                "    ProductCode NVARCHAR(25),\n",
                "    ProductName NVARCHAR(100),\n",
                "    Color NVARCHAR(25),\n",
                "    ModelName NVARCHAR(100),\n",
                "\n",
                "    OrderQuantity INT,\n",
                "    UnitPrice DECIMAL(10,2),\n",
                "    ProductStandardCost DECIMAL(10,2),\n",
                "    SalesAmount DECIMAL(12,2),\n",
                "\n",
                "    OrderDate DATE,\n",
                "    MonthName AS DATENAME(MONTH, OrderDate),\n",
                "    MonthNumber AS MONTH(OrderDate),\n",
                "    Year AS YEAR(OrderDate),\n",
                "\n",
                "    -- Split CustomerName into first and last\n",
                "    CustomerFirstName NVARCHAR(50),\n",
                "    CustomerLastName NVARCHAR(50),\n",
                "\n",
                "    MaritalStatus CHAR(1),\n",
                "    Gender CHAR(1),\n",
                "    Education NVARCHAR(50),\n",
                "    Occupation NVARCHAR(50),\n",
                "\n",
                "    TerritoryRegion NVARCHAR(50),\n",
                "    TerritoryCountry NVARCHAR(50),\n",
                "    TerritoryGroup NVARCHAR(50)\n",
                ");"
            ],
            "metadata": {
                "azdata_cell_guid": "26d98ccf-cb8a-451b-bade-cee14895aa9a",
                "language": "sql"
            },
            "outputs": [],
            "execution_count": null
        },
        {
            "cell_type": "markdown",
            "source": [
                "This uploads all the raw data into the new table we created ^"
            ],
            "metadata": {
                "language": "sql",
                "azdata_cell_guid": "d142fe0a-47ac-459f-b726-17581685f8a3"
            },
            "attachments": {}
        },
        {
            "cell_type": "code",
            "source": [
                "INSERT INTO ParsedFileUpload.OriginallyLoadedData (\r\n",
                "    SalesKey,\r\n",
                "    ProductCategory,\r\n",
                "    ProductSubcategory,\r\n",
                "    SalesManagerFirstName,\r\n",
                "    SalesManagerLastName,\r\n",
                "    ProductCode,\r\n",
                "    ProductName,\r\n",
                "    Color,\r\n",
                "    ModelName,\r\n",
                "    OrderQuantity,\r\n",
                "    UnitPrice,\r\n",
                "    ProductStandardCost,\r\n",
                "    SalesAmount,\r\n",
                "    OrderDate,\r\n",
                "    CustomerFirstName,\r\n",
                "    CustomerLastName,\r\n",
                "    MaritalStatus,\r\n",
                "    Gender,\r\n",
                "    Education,\r\n",
                "    Occupation,\r\n",
                "    TerritoryRegion,\r\n",
                "    TerritoryCountry,\r\n",
                "    TerritoryGroup\r\n",
                ")\r\n",
                "SELECT\r\n",
                "    SalesKey,\r\n",
                "    ProductCategory,\r\n",
                "    ProductSubcategory,\r\n",
                "\r\n",
                "    -- Split SalesManager into first and last\r\n",
                "    LEFT(SalesManager, CHARINDEX(' ', SalesManager + ' ') - 1),\r\n",
                "    LTRIM(RIGHT(SalesManager, LEN(SalesManager) - CHARINDEX(' ', SalesManager + ' '))),\r\n",
                "\r\n",
                "    ProductCode,\r\n",
                "    ProductName,\r\n",
                "    Color,\r\n",
                "    ModelName,\r\n",
                "    OrderQuantity,\r\n",
                "    CAST(UnitPrice AS DECIMAL(10,2)),\r\n",
                "    CAST(ProductStandardCost AS DECIMAL(10,2)),\r\n",
                "    CAST(SalesAmount AS DECIMAL(12,2)),\r\n",
                "    CAST(OrderDate AS DATE),\r\n",
                "\r\n",
                "    -- Split CustomerName into first and last\r\n",
                "    LEFT(CustomerName, CHARINDEX(' ', CustomerName + ' ') - 1),\r\n",
                "    LTRIM(RIGHT(CustomerName, LEN(CustomerName) - CHARINDEX(' ', CustomerName + ' '))),\r\n",
                "\r\n",
                "    MaritalStatus,\r\n",
                "    Gender,\r\n",
                "    Education,\r\n",
                "    Occupation,\r\n",
                "    TerritoryRegion,\r\n",
                "    TerritoryCountry,\r\n",
                "    TerritoryGroup\r\n",
                "FROM FileUpload.OriginallyLoadedData;"
            ],
            "metadata": {
                "azdata_cell_guid": "f7ab6ebf-c43f-4596-a668-f554ef020f8b",
                "language": "sql"
            },
            "outputs": [],
            "execution_count": null
        }
    ]
}