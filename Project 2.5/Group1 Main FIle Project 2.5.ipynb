{
    "metadata": {
        "kernelspec": {
            "name": "SQL",
            "display_name": "SQL",
            "language": "sql"
        },
        "language_info": {
            "name": "sql",
            "version": ""
        }
    },
    "nbformat_minor": 2,
    "nbformat": 4,
    "cells": [
        {
            "cell_type": "markdown",
            "source": [
                "**Project 2.5 Group 1**   \n",
                "Big Collection of procedures code and notes"
            ],
            "metadata": {
                "azdata_cell_guid": "9c662d19-c53b-4e7e-b35b-247690794d97"
            },
            "attachments": {}
        },
        {
            "cell_type": "markdown",
            "source": [
                "**HEADING (Put this at the beginning of every procedure)**"
            ],
            "metadata": {
                "azdata_cell_guid": "87090ea6-27ae-460f-ab90-fbc80c4d0d0c"
            },
            "attachments": {}
        },
        {
            "cell_type": "code",
            "source": [
                "-- =============================================\n",
                "-- Author:        FIRSTNAME LASTNAME\n",
                "-- Create date:   2025-05-03\n",
                "-- Description:   [WHAT DOES THIS DO]\n",
                "-- Object type:   [PICK 1 (what is this?): Stored Procedure | Function | View | Table | Trigger]\n",
                "-- Usage:         [How or where to call this]\n",
                "-- Parameters:    [@UserAuthorizationKey INT + others]\n",
                "-- Change History:\n",
                "--   YYYY-MM-DD   FIRSTNAME LASTNAME   Initial creation\n",
                "--   YYYY-MM-DD   [Your Name]   [Description of change]\n",
                "-- ============================================="
            ],
            "metadata": {
                "azdata_cell_guid": "7d47cb6b-4677-4f54-9174-349e1b586c36",
                "language": "sql"
            },
            "outputs": [],
            "execution_count": null
        },
        {
            "cell_type": "code",
            "source": [
                "-- =============================================\n",
                "-- Author:        Jaskaran Bains\n",
                "-- Create date:   2025-05-03\n",
                "-- Description:   [Creates schema to place the procedures of workflow]\n",
                "-- Object type:   [Single Line Query]\n",
                "-- Usage:         [Call before running the backing up stored procedure]\n",
                "-- Parameters:    [N/A]\n",
                "-- Change History:\n",
                "--   YYYY-MM-DD   Jaskaran Bains   Initial creation\n",
                "-- =============================================\n",
                "CREATE SCHEMA Group1;"
            ],
            "metadata": {
                "language": "sql",
                "azdata_cell_guid": "6bd8c4cb-a1be-48af-8bc5-474943373882"
            },
            "outputs": [
                {
                    "output_type": "error",
                    "ename": "",
                    "evalue": "Msg 2714, Level 16, State 6, Line 11\nThere is already an object named 'Group1' in the database.",
                    "traceback": []
                },
                {
                    "output_type": "error",
                    "ename": "",
                    "evalue": "Msg 2759, Level 16, State 0, Line 11\nCREATE SCHEMA failed due to previous errors.",
                    "traceback": []
                },
                {
                    "output_type": "display_data",
                    "data": {
                        "text/html": "Total execution time: 00:00:00.020"
                    },
                    "metadata": {}
                }
            ],
            "execution_count": 1
        },
        {
            "cell_type": "code",
            "source": [
                "-- =============================================\n",
                "-- Author:        Jaskaran Bains\n",
                "-- Create date:   2025-05-03\n",
                "-- Description:   [Creates UserAuthorizationTable]\n",
                "-- Object type:   [Stored Procedure]\n",
                "-- Usage:         [Call before running the backing up stored procedure + run as exec]\n",
                "-- Parameters:    [N/A]\n",
                "-- Change History:\n",
                "-- 2025-05-04   Jaskaran Bains   Initial creation\n",
                "-- =============================================\n",
                "SET ANSI_NULLS ON\n",
                "GO\n",
                "SET QUOTED_IDENTIFIER ON\n",
                "GO\n",
                "CREATE PROCEDURE [Group1].[CreateUserAuthorizationTable]\n",
                "AS\n",
                "BEGIN\n",
                "    SET NOCOUNT ON;\n",
                "\n",
                "    IF EXISTS (SELECT 1 FROM INFORMATION_SCHEMA.TABLES \n",
                "               WHERE TABLE_SCHEMA = 'Group1' AND TABLE_NAME = 'UserAuthorizationTable')\n",
                "    BEGIN\n",
                "        DROP TABLE [Group1].[UserAuthorizationTable];\n",
                "    END;\n",
                "\n",
                "    \n",
                "    CREATE TABLE [Group1].[UserAuthorizationTable] (\n",
                "        UserAuthorizationKey INT NOT NULL PRIMARY KEY,\n",
                "        ClassTime NCHAR(5) NULL CHECK (ClassTime IN ('10:45')),\n",
                "        IndividualProject NVARCHAR(60) NULL DEFAULT 'PROJECT 2.5 Prestige Cars',\n",
                "        GroupMemberLastName NVARCHAR(35) NOT NULL,\n",
                "        GroupMemberFirstName NVARCHAR(25) NOT NULL,\n",
                "        GroupName NVARCHAR(20) NOT NULL,\n",
                "        DateAdded DATETIME2 NULL DEFAULT SYSDATETIME(),\n",
                "        DateOfLastUpdate DATETIME2 NULL DEFAULT SYSDATETIME()\n",
                "    );\n",
                "\n",
                "    INSERT INTO [Group1].[UserAuthorizationTable] (\n",
                "        UserAuthorizationKey,\n",
                "        ClassTime,\n",
                "        IndividualProject,\n",
                "        GroupMemberLastName,\n",
                "        GroupMemberFirstName,\n",
                "        GroupName,\n",
                "        DateAdded,\n",
                "        DateOfLastUpdate\n",
                "    )\n",
                "    VALUES\n",
                "        (1, '10:45', 'Normalize, Backup, TrackWorkFLow, Clean, Truncate', 'Bains', 'Jaskaran', 'Group#1', DEFAULT, DEFAULT),\n",
                "        (2, '10:45', 'Country, Customer, UDT', 'Ahamed', 'Sabir', 'Group#1', DEFAULT, DEFAULT),\n",
                "        (3, '10:45', 'Make, Sale, UDT', 'Cristobal', 'David', 'Group#1', DEFAULT, DEFAULT),\n",
                "        (4, '10:45', 'Mode, UDT', 'Maysoon', 'Zhian', 'Group#1', DEFAULT, DEFAULT),\n",
                "        (5, '10:45', 'Stock, UDT', 'Weng Jiang', 'Bryan', 'Group#1', DEFAULT, DEFAULT),\n",
                "        (6, '10:45', 'Detail, UDT', 'Zheng', 'Zheng', 'Group#1', DEFAULT, DEFAULT);\n",
                "\n",
                "END;\n",
                "GO"
            ],
            "metadata": {
                "language": "sql",
                "azdata_cell_guid": "e38f3bd1-8c0d-45ad-b6eb-3def1649f842"
            },
            "outputs": [
                {
                    "output_type": "display_data",
                    "data": {
                        "text/html": "Commands completed successfully."
                    },
                    "metadata": {}
                },
                {
                    "output_type": "display_data",
                    "data": {
                        "text/html": "Commands completed successfully."
                    },
                    "metadata": {}
                },
                {
                    "output_type": "error",
                    "ename": "",
                    "evalue": "Msg 2714, Level 16, State 3, Procedure CreateUserAuthorizationTable, Line 1\nThere is already an object named 'CreateUserAuthorizationTable' in the database.",
                    "traceback": []
                },
                {
                    "output_type": "display_data",
                    "data": {
                        "text/html": "Total execution time: 00:00:00.019"
                    },
                    "metadata": {}
                }
            ],
            "execution_count": 2
        },
        {
            "cell_type": "code",
            "source": [
                "-- =============================================\n",
                "-- Author:        Jaskaran Bains\n",
                "-- Create date:   2025-05-03\n",
                "-- Description:   Creates table to store workflow steps\n",
                "-- Object type:   Stored Procedure\n",
                "-- Usage:         Call before running the backup stored procedure + run as exec\n",
                "-- Parameters:    N/A\n",
                "-- Change History:\n",
                "-- 2025-05-04   Jaskaran Bains   Initial creation\n",
                "-- 2025-05-18   [Your Name]      Added IDENTITY to WorkFlowStepKey\n",
                "-- =============================================\n",
                "SET ANSI_NULLS ON\n",
                "GO\n",
                "SET QUOTED_IDENTIFIER ON\n",
                "GO\n",
                "create PROCEDURE [Group1].[CreateWorkFlowTable]\n",
                "AS\n",
                "BEGIN\n",
                "    SET NOCOUNT ON;\n",
                "\n",
                "    CREATE TABLE [Group1].[WorkflowSteps] (\n",
                "        WorkFlowStepKey INT IDENTITY(1,1) NOT NULL PRIMARY KEY,\n",
                "        WorkFlowStepDescription NVARCHAR(100) NOT NULL,\n",
                "        WorkFlowStepTableRowCount INT NULL DEFAULT 0,\n",
                "        StartingDateTime DATETIME2 NULL DEFAULT SYSDATETIME(),\n",
                "        EndingDateTime DATETIME2 NULL DEFAULT SYSDATETIME(),\n",
                "        ClassTime VARCHAR(5) NULL DEFAULT '10:45',\n",
                "        UserAuthorizationKey INT NOT NULL,\n",
                "        CONSTRAINT FK_WorkflowSteps_UserAuthorization FOREIGN KEY (UserAuthorizationKey) \n",
                "            REFERENCES Group1.UserAuthorizationTable (UserAuthorizationKey)\n",
                "    );\n",
                "\n",
                "END;\n",
                "GO"
            ],
            "metadata": {
                "language": "sql",
                "azdata_cell_guid": "9124e0a6-93ce-48c9-8ef9-a1a9adafc596"
            },
            "outputs": [
                {
                    "output_type": "display_data",
                    "data": {
                        "text/html": "Commands completed successfully."
                    },
                    "metadata": {}
                },
                {
                    "output_type": "display_data",
                    "data": {
                        "text/html": "Commands completed successfully."
                    },
                    "metadata": {}
                },
                {
                    "output_type": "display_data",
                    "data": {
                        "text/html": "Commands completed successfully."
                    },
                    "metadata": {}
                },
                {
                    "output_type": "display_data",
                    "data": {
                        "text/html": "Total execution time: 00:00:00.057"
                    },
                    "metadata": {}
                }
            ],
            "execution_count": 4
        },
        {
            "cell_type": "code",
            "source": [
                "SET ANSI_NULLS ON\n",
                "GO\n",
                "SET QUOTED_IDENTIFIER ON\n",
                "GO\n",
                "-- =============================================\n",
                "-- Author:        Jaskaran Bains\n",
                "-- Create date:   2025-05-03\n",
                "-- Description:   [Creates the function that tracks work flows and inserts them into the tabls]\n",
                "-- Object type:   [Stored Procedure]\n",
                "-- Usage:         [Call before running the backing up stored procedure + run as exec]\n",
                "-- Parameters:    [N/A]\n",
                "-- Change History:\n",
                "-- 2025-05-04   Jaskaran Bains   Initial creation\n",
                "-- =============================================\n",
                "CREATE PROCEDURE [Group1].[TrackWorkFlow]\n",
                "    @StartTime DATETIME2,\n",
                "    @WorkFlowDescription NVARCHAR(100),\n",
                "    @WorkFlowStepTableRowCount INT,\n",
                "    @UserAuthorizationKey INT\n",
                "AS\n",
                "BEGIN\n",
                "    SET NOCOUNT ON;\n",
                "\n",
                "    -- Insert workflow step details\n",
                "    INSERT INTO [Group1].[WorkflowSteps] (\n",
                "        WorkFlowStepDescription,\n",
                "        WorkFlowStepTableRowCount,\n",
                "        StartingDateTime,\n",
                "        EndingDateTime,\n",
                "        ClassTime,\n",
                "        UserAuthorizationKey\n",
                "    )\n",
                "    VALUES (\n",
                "        @WorkFlowDescription,\n",
                "        @WorkFlowStepTableRowCount,\n",
                "        @StartTime,\n",
                "        SYSDATETIME(),\n",
                "        (SELECT ClassTime FROM [Group1].[UserAuthorizationTable] WHERE UserAuthorizationKey = @UserAuthorizationKey),\n",
                "        @UserAuthorizationKey\n",
                "    );\n",
                "END;\n",
                "GO\n",
                ""
            ],
            "metadata": {
                "language": "sql",
                "azdata_cell_guid": "60b33e0d-b0d5-452d-a1b9-1c21a552138d"
            },
            "outputs": [
                {
                    "output_type": "display_data",
                    "data": {
                        "text/html": "Commands completed successfully."
                    },
                    "metadata": {}
                },
                {
                    "output_type": "display_data",
                    "data": {
                        "text/html": "Total execution time: 00:00:00.020"
                    },
                    "metadata": {}
                }
            ],
            "execution_count": 2
        },
        {
            "cell_type": "code",
            "source": [
                "-- =============================================\n",
                "-- Author:        Jaskaran Bains\n",
                "-- Create date:   2025-05-03\n",
                "-- Description:   [Creates schema to place the backup of Data schema]\n",
                "-- Object type:   [Single Line Query]\n",
                "-- Usage:         [Call before running the backing up stored procedure]\n",
                "-- Parameters:    [N/A]\n",
                "-- Change History:\n",
                "--   YYYY-MM-DD   Jaskaran Bains   Initial creation\n",
                "-- =============================================\n",
                "CREATE SCHEMA BackupData;"
            ],
            "metadata": {
                "azdata_cell_guid": "d7fe880a-6107-4931-9d7e-4391f53c0fc2",
                "language": "sql",
                "tags": []
            },
            "outputs": [
                {
                    "output_type": "error",
                    "ename": "",
                    "evalue": "Msg 2714, Level 16, State 6, Line 11\nThere is already an object named 'BackupData' in the database.",
                    "traceback": []
                },
                {
                    "output_type": "error",
                    "ename": "",
                    "evalue": "Msg 2759, Level 16, State 0, Line 11\nCREATE SCHEMA failed due to previous errors.",
                    "traceback": []
                },
                {
                    "output_type": "display_data",
                    "data": {
                        "text/html": "Total execution time: 00:00:00.029"
                    },
                    "metadata": {}
                }
            ],
            "execution_count": 18
        },
        {
            "cell_type": "code",
            "source": [
                "-- Uncomment to test\n",
                "drop table \n",
                "[BackupData].Country, \n",
                "[BackupData].Customer, \n",
                "[BackupData].Make, \n",
                "[BackupData].Model, \n",
                "[BackupData].Sale, \n",
                "[BackupData].SaleDetail, \n",
                "[BackupData].Stock;\n",
                "-- for testing purposes"
            ],
            "metadata": {
                "language": "sql",
                "azdata_cell_guid": "71dbb049-c5ac-4e9f-9787-a89591a9104a"
            },
            "outputs": [
                {
                    "output_type": "display_data",
                    "data": {
                        "text/html": "Commands completed successfully."
                    },
                    "metadata": {}
                },
                {
                    "output_type": "display_data",
                    "data": {
                        "text/html": "Total execution time: 00:00:00.036"
                    },
                    "metadata": {}
                }
            ],
            "execution_count": 8
        },
        {
            "cell_type": "code",
            "source": [
                "-- =============================================\n",
                "-- Author:        Jaskaran Bains\n",
                "-- Create date:   2025-05-03\n",
                "-- Description:   Creates a full backup of all tables in the [Data] schema into [BackupData] schema\n",
                "-- Object type:   Stored Procedure\n",
                "-- Usage:         EXEC [BackupData].[BackupDataSchema] @UserAuthorizationKey = 1;\n",
                "-- Parameters:    @UserAuthorizationKey INT\n",
                "-- Change History:\n",
                "-- 2025-05-03   Your Full Name   Initial creation\n",
                "-- =============================================\n",
                "\n",
                "Create PROCEDURE [BackupData].[BackupDataSchema]\n",
                "    @UserAuthorizationKey INT\n",
                "AS\n",
                "BEGIN\n",
                "    SET NOCOUNT ON;\n",
                "\n",
                "    DECLARE @StartTime DATETIME2 = SYSDATETIME();\n",
                "\n",
                "    IF NOT EXISTS (SELECT * FROM sys.schemas WHERE name = 'BackupData')\n",
                "    EXEC('CREATE SCHEMA BackupData');\n",
                "\n",
                "    -- Backup Country\n",
                "    SELECT * INTO [BackupData].[Country]\n",
                "    FROM [Data].[Country];\n",
                "\n",
                "    EXEC sp_rename 'BackupData.Country.SalesRegion', 'SaleRegion', 'COLUMN';\n",
                "    ALTER TABLE [BackupData].[Country]\n",
                "    DROP COLUMN CountryFlag, FlagFileName, FlagFileType;\n",
                "\n",
                "    -- Backup Customer\n",
                "    SELECT * INTO [BackupData].[Customer]\n",
                "    FROM [Data].[Customer];\n",
                "\n",
                "    EXEC sp_rename 'BackupData.Customer.PostCode', 'PostalCode', 'COLUMN';\n",
                "\n",
                "    -- Backup Make\n",
                "    SELECT * INTO [BackupData].[Make]\n",
                "    FROM [Data].[Make];\n",
                "\n",
                "    -- Backup Model\n",
                "    SELECT * INTO [BackupData].[Model]\n",
                "    FROM [Data].[Model];\n",
                "\n",
                "    -- Backup Sale\n",
                "    SELECT * INTO [BackupData].[Sale]\n",
                "    FROM [Data].[Sales];\n",
                "\n",
                "    EXEC sp_rename 'BackupData.Sale.SalesID', 'SaleID', 'COLUMN';\n",
                "    EXEC sp_rename 'BackupData.Sale.TotalSalePrice', 'SaleTotal', 'COLUMN';\n",
                "    ALTER TABLE [BackupData].[Sale]\n",
                "    DROP COLUMN ID, SaleDate;\n",
                "\n",
                "    -- Backup SaleDetail\n",
                "    SELECT * INTO [BackupData].[SaleDetail]\n",
                "    FROM [Data].[SalesDetails];\n",
                "\n",
                "    EXEC sp_rename 'BackupData.SaleDetail.SalesDetailsID', 'SaleDetailID', 'COLUMN';\n",
                "    EXEC sp_rename 'BackupData.SaleDetail.SalesID', 'SaleID', 'COLUMN';\n",
                "\n",
                "    ALTER TABLE [BackupData].[SaleDetail]\n",
                "    ADD DateBought DATE, TimeBought TIME;\n",
                "\n",
                "    UPDATE sd\n",
                "    SET \n",
                "        sd.DateBought = s.DateBought,\n",
                "        sd.TimeBought = s.TimeBought\n",
                "    FROM [BackupData].[SaleDetail] sd\n",
                "    JOIN [Data].[Stock] s ON sd.StockID = s.StockCode;\n",
                "\n",
                "    -- Backup Stock\n",
                "    SELECT * INTO [BackupData].[Stock]\n",
                "    FROM [Data].[Stock];\n",
                "\n",
                "    EXEC sp_rename 'BackupData.Stock.StockCode', 'StockID', 'COLUMN';\n",
                "    EXEC sp_rename 'BackupData.Stock.RepairsCost', 'RepairCost', 'COLUMN';\n",
                "    EXEC sp_rename 'BackupData.Stock.PartsCost', 'PartCost', 'COLUMN';\n",
                "    EXEC sp_rename 'BackupData.Stock.TransportInCost', 'TransportCost', 'COLUMN';\n",
                "    EXEC sp_rename 'BackupData.Stock.BuyerComments', 'BuyerComment', 'COLUMN';\n",
                "\n",
                "    DECLARE @WorkFlowStepTableRowCount INT;\n",
                "SET @WorkFlowStepTableRowCount = @@ROWCOUNT;\n",
                "\n",
                "-- Log workflow step\n",
                "EXEC [Group1].[TrackWorkFlow]\n",
                "        @StartTime,\n",
                "        'Backed up all of [Data] to [BackupData]',\n",
                "        @WorkFlowStepTableRowCount,\n",
                "        @UserAuthorizationKey;\n",
                "\n",
                "END;"
            ],
            "metadata": {
                "azdata_cell_guid": "acc41aa1-1001-42c9-9339-43da33cfb364",
                "language": "sql"
            },
            "outputs": [
                {
                    "output_type": "error",
                    "ename": "",
                    "evalue": "Msg 2714, Level 16, State 3, Procedure BackupDataSchema, Line 12\nThere is already an object named 'BackupDataSchema' in the database.",
                    "traceback": []
                },
                {
                    "output_type": "display_data",
                    "data": {
                        "text/html": "Total execution time: 00:00:00.019"
                    },
                    "metadata": {}
                }
            ],
            "execution_count": 7
        },
        {
            "cell_type": "code",
            "source": [
                "-- =============================================\n",
                "-- Author:        Jaskaran Bains\n",
                "-- Create date:   2025-05-03\n",
                "-- Description:   [Drops FKs and Tables in Data Schema]\n",
                "-- Object type:   [Script]\n",
                "-- Usage:         [Exec to drop fk and truncate tables]\n",
                "-- Parameters:    [NA]\n",
                "-- Change History:\n",
                "-- YYYY-MM-DD   Jaskaran Bains   Initial creation\n",
                "-- =============================================\n",
                "\n",
                "\n",
                "ALTER TABLE [Data].[Model] DROP CONSTRAINT IF EXISTS [FK_Model_Make];\n",
                "ALTER TABLE [Data].[Make] DROP CONSTRAINT IF EXISTS [FK_Make_Country];\n",
                "ALTER TABLE [Data].[Country] DROP CONSTRAINT IF EXISTS [FK_Country_SalesRegion];\n",
                "ALTER TABLE [Data].[Customer] DROP CONSTRAINT IF EXISTS [FK_Customer_Country];\n",
                "ALTER TABLE [Data].[SalesDetails] DROP CONSTRAINT IF EXISTS [FK_SalesDetails_Sales];\n",
                "ALTER TABLE [Data].[SalesDetails] DROP CONSTRAINT IF EXISTS [FK_SalesDetails_Stock];\n",
                "ALTER TABLE [Data].[Sales] DROP CONSTRAINT IF EXISTS [FK_Sales_Customer];\n",
                "ALTER TABLE [Data].[Stock] DROP CONSTRAINT IF EXISTS [FK_Stock_Model];\n",
                "GO\n",
                "\n",
                "-- Truncate tables in the Data schema\n",
                "TRUNCATE TABLE [Data].[SalesRegion];\n",
                "TRUNCATE TABLE [Data].[Country];\n",
                "TRUNCATE TABLE [Data].[Customer];\n",
                "TRUNCATE TABLE [Data].[Make];\n",
                "TRUNCATE TABLE [Data].[Model];\n",
                "TRUNCATE TABLE [Data].[SalesDetails];\n",
                "TRUNCATE TABLE [Data].[Stock];\n",
                "TRUNCATE TABLE [Data].[Sales];\n",
                "GO\n",
                ""
            ],
            "metadata": {
                "azdata_cell_guid": "f83de15d-5a2a-4a19-944e-eb844ef0ebb7",
                "language": "sql"
            },
            "outputs": [
                {
                    "output_type": "display_data",
                    "data": {
                        "text/html": "Commands completed successfully."
                    },
                    "metadata": {}
                },
                {
                    "output_type": "display_data",
                    "data": {
                        "text/html": "Commands completed successfully."
                    },
                    "metadata": {}
                },
                {
                    "output_type": "display_data",
                    "data": {
                        "text/html": "Total execution time: 00:00:00.127"
                    },
                    "metadata": {}
                }
            ],
            "execution_count": 5
        },
        {
            "cell_type": "code",
            "source": [
                "\n",
                "-- NOMRMALIZAITON OF DATA BASE VIA COMPILED CODE FROM GROUP\n",
                "-- ALTER TABLES BY DROPPING THE COLUMNS NOT USED AND OR ADDING REQUIRED ONES\n",
                "\n",
                "-- Alter Country\n",
                "ALTER TABLE [Data].[Country]\n",
                "ADD [CountryID] [int] NOT NULL DEFAULT (0);\n",
                "GO\n",
                "\n",
                "UPDATE [Data].[Country]\n",
                "SET [CountryId] = 0; -- Placeholder; we'll update this after restoring data\n",
                "\n",
                "\n",
                "ALTER TABLE [Data].[Country]\n",
                "DROP COLUMN [CountryFlag], [FlagFileName], [FlagFileType];\n",
                "GO \n",
                "\n",
                "\n",
                ""
            ],
            "metadata": {
                "language": "sql",
                "azdata_cell_guid": "df45f3d9-c8bf-4365-863f-0d6b523917a1",
                "tags": []
            },
            "outputs": [
                {
                    "output_type": "display_data",
                    "data": {
                        "text/html": "Caution: Changing any part of an object name could break scripts and stored procedures."
                    },
                    "metadata": {}
                },
                {
                    "output_type": "display_data",
                    "data": {
                        "text/html": "Total execution time: 00:00:00.064"
                    },
                    "metadata": {}
                }
            ],
            "execution_count": 16
        },
        {
            "cell_type": "code",
            "source": [
                "-- Alter Customer\n",
                "\n",
                "EXEC sp_rename 'Data.Customer.PostCode', 'PostalCode', 'COLUMN';\n",
                "GO\n",
                "\n",
                "EXEC sp_rename 'Data.Customer.Town', 'City', 'COLUMN';\n",
                "GO\n",
                "\n",
                "EXEC sp_rename 'Data.Customer.Country', 'CountryId', 'COLUMN';\n",
                "GO\n",
                ""
            ],
            "metadata": {
                "language": "sql",
                "azdata_cell_guid": "bce18edc-1250-4df0-9311-2ba6fd2b6bbc"
            },
            "outputs": [
                {
                    "output_type": "display_data",
                    "data": {
                        "text/html": "Caution: Changing any part of an object name could break scripts and stored procedures."
                    },
                    "metadata": {}
                },
                {
                    "output_type": "display_data",
                    "data": {
                        "text/html": "Caution: Changing any part of an object name could break scripts and stored procedures."
                    },
                    "metadata": {}
                },
                {
                    "output_type": "display_data",
                    "data": {
                        "text/html": "Caution: Changing any part of an object name could break scripts and stored procedures."
                    },
                    "metadata": {}
                },
                {
                    "output_type": "display_data",
                    "data": {
                        "text/html": "Total execution time: 00:00:00.174"
                    },
                    "metadata": {}
                }
            ],
            "execution_count": 17
        },
        {
            "cell_type": "code",
            "source": [
                "-- Alter Sales\n",
                "EXEC sp_rename 'Data.Sales', 'Sale';\n",
                "GO\n",
                "EXEC sp_rename 'Data.Sale.TotalSalePrice', 'SaleTotal', 'COLUMN';\n",
                "GO\n",
                "EXEC sp_rename 'Data.Sale.SalesID', 'SaleID', 'COLUMN';\n",
                "GO\n",
                "ALTER TABLE [Data].[Sale]\n",
                "DROP COLUMN [SaleDate], [ID];\n",
                "GO "
            ],
            "metadata": {
                "language": "sql",
                "azdata_cell_guid": "0d3e025e-a655-408f-a73c-35d21577e2d2"
            },
            "outputs": [
                {
                    "output_type": "error",
                    "ename": "",
                    "evalue": "Msg 15225, Level 11, State 1, Procedure sp_rename, Line 436\nNo item by the name of 'Data.Sales' could be found in the current database 'PrestigeCars', given that @itemtype was input as '(null)'.",
                    "traceback": []
                },
                {
                    "output_type": "error",
                    "ename": "",
                    "evalue": "Msg 15248, Level 11, State 1, Procedure sp_rename, Line 247\nEither the parameter @objname is ambiguous or the claimed @objtype (COLUMN) is wrong.",
                    "traceback": []
                },
                {
                    "output_type": "display_data",
                    "data": {
                        "text/html": "Caution: Changing any part of an object name could break scripts and stored procedures."
                    },
                    "metadata": {}
                },
                {
                    "output_type": "error",
                    "ename": "",
                    "evalue": "Msg 4924, Level 16, State 1, Line 8\nALTER TABLE DROP COLUMN failed because column 'SaleDate' does not exist in table 'Sale'.",
                    "traceback": []
                },
                {
                    "output_type": "display_data",
                    "data": {
                        "text/html": "Total execution time: 00:00:00.049"
                    },
                    "metadata": {}
                }
            ],
            "execution_count": 20
        },
        {
            "cell_type": "code",
            "source": [
                "-- Alter SalesDetails\n",
                "EXEC sp_rename 'Data.SalesDetails', 'SaleDetail';\n",
                "GO\n",
                "EXEC sp_rename 'Data.SaleDetail.SalesDetailsID', 'SaleDetailID', 'COLUMN';\n",
                "GO\n",
                "EXEC sp_rename 'Data.SaleDetail.SalesID', 'SaleID', 'COLUMN';\n",
                "GO\n",
                "ALTER TABLE [Data].[SaleDetail]\n",
                "ADD [DateBought] DATE,\n",
                "    [TimeBought] TIME;\n",
                "GO"
            ],
            "metadata": {
                "language": "sql",
                "azdata_cell_guid": "a566ce96-79a8-4692-a179-6a929e5aeee0"
            },
            "outputs": [
                {
                    "output_type": "display_data",
                    "data": {
                        "text/html": "Caution: Changing any part of an object name could break scripts and stored procedures."
                    },
                    "metadata": {}
                },
                {
                    "output_type": "display_data",
                    "data": {
                        "text/html": "Caution: Changing any part of an object name could break scripts and stored procedures."
                    },
                    "metadata": {}
                },
                {
                    "output_type": "display_data",
                    "data": {
                        "text/html": "Caution: Changing any part of an object name could break scripts and stored procedures."
                    },
                    "metadata": {}
                },
                {
                    "output_type": "display_data",
                    "data": {
                        "text/html": "Commands completed successfully."
                    },
                    "metadata": {}
                },
                {
                    "output_type": "display_data",
                    "data": {
                        "text/html": "Total execution time: 00:00:00.103"
                    },
                    "metadata": {}
                }
            ],
            "execution_count": 21
        },
        {
            "cell_type": "code",
            "source": [
                "-- Alter Stock\n",
                "\n",
                "EXEC sp_rename 'Data.Stock.StockCode', 'StockID', 'COLUMN';\n",
                "EXEC sp_rename 'Data.Stock.RepairsCost', 'RepairCost', 'COLUMN';\n",
                "EXEC sp_rename 'Data.Stock.PartsCost', 'PartCost', 'COLUMN';\n",
                "EXEC sp_rename 'Data.Stock.TransportInCost', 'TransportCost', 'COLUMN';\n",
                "EXEC sp_rename 'Data.Stock.IsRHD', 'IsRightHandDrive', 'COLUMN';\n",
                "GO\n",
                "\n",
                "ALTER TABLE [Data].[Stock]\n",
                "DROP COLUMN [BuyerComments],[DateBought],[TimeBought];\n",
                "GO\n",
                ""
            ],
            "metadata": {
                "language": "sql",
                "azdata_cell_guid": "f17b448e-237b-407b-b8b7-c6b680004df1"
            },
            "outputs": [
                {
                    "output_type": "display_data",
                    "data": {
                        "text/html": "Caution: Changing any part of an object name could break scripts and stored procedures."
                    },
                    "metadata": {}
                },
                {
                    "output_type": "display_data",
                    "data": {
                        "text/html": "Caution: Changing any part of an object name could break scripts and stored procedures."
                    },
                    "metadata": {}
                },
                {
                    "output_type": "display_data",
                    "data": {
                        "text/html": "Caution: Changing any part of an object name could break scripts and stored procedures."
                    },
                    "metadata": {}
                },
                {
                    "output_type": "display_data",
                    "data": {
                        "text/html": "Caution: Changing any part of an object name could break scripts and stored procedures."
                    },
                    "metadata": {}
                },
                {
                    "output_type": "display_data",
                    "data": {
                        "text/html": "Caution: Changing any part of an object name could break scripts and stored procedures."
                    },
                    "metadata": {}
                },
                {
                    "output_type": "display_data",
                    "data": {
                        "text/html": "Commands completed successfully."
                    },
                    "metadata": {}
                },
                {
                    "output_type": "display_data",
                    "data": {
                        "text/html": "Total execution time: 00:00:00.095"
                    },
                    "metadata": {}
                }
            ],
            "execution_count": 23
        },
        {
            "cell_type": "code",
            "source": [
                "USE [PrestigeCars]\n",
                "GO\n",
                "\n",
                "/****** Object:  Schema [Udt]    Script Date: 5/18/2025 02:33:00 PM ******/\n",
                "CREATE SCHEMA [Udt]\n",
                "GO\n",
                "\n",
                "/****** Object:  UserDefinedDataType [Udt].[SurrogateKeyInt]    Script Date: 5/18/2025 02:33:00 PM ******/\n",
                "CREATE TYPE [Udt].[SurrogateKeyInt] FROM [int] NOT NULL\n",
                "GO\n",
                "\n",
                "/****** Object:  UserDefinedDataType [Udt].[SalesRegion]    Script Date: 5/18/2025 02:33:00 PM ******/\n",
                "CREATE TYPE [Udt].[SalesRegion] FROM [nvarchar](15) NOT NULL\n",
                "GO\n",
                "\n",
                "/****** Object:  UserDefinedDataType [Udt].[CountryName]    Script Date: 5/18/2025 02:33:00 PM ******/\n",
                "CREATE TYPE [Udt].[CountryName] FROM [nvarchar](150) NOT NULL\n",
                "GO\n",
                "\n",
                "/****** Object:  UserDefinedDataType [Udt].[ISO2]    Script Date: 5/18/2025 02:33:00 PM ******/\n",
                "CREATE TYPE [Udt].[ISO2] FROM [nchar](2) NOT NULL\n",
                "GO\n",
                "\n",
                "/****** Object:  UserDefinedDataType [Udt].[ISO3]    Script Date: 5/18/2025 02:33:00 PM ******/\n",
                "CREATE TYPE [Udt].[ISO3] FROM [nchar](3) NOT NULL\n",
                "GO\n",
                "\n",
                "/****** Object:  UserDefinedDataType [Udt].[CustomerIDType]    Script Date: 5/18/2025 02:33:00 PM ******/\n",
                "CREATE TYPE [Udt].[CustomerIDType] FROM [nvarchar](5) NOT NULL\n",
                "GO\n",
                "\n",
                "/****** Object:  UserDefinedDataType [Udt].[CustomerNameType]    Script Date: 5/18/2025 02:33:00 PM ******/\n",
                "CREATE TYPE [Udt].[CustomerNameType] FROM [nvarchar](150) NOT NULL\n",
                "GO\n",
                "\n",
                "/****** Object:  UserDefinedDataType [Udt].[AddressType]    Script Date: 5/18/2025 02:33:00 PM ******/\n",
                "CREATE TYPE [Udt].[AddressType] FROM [nvarchar](50) NOT NULL\n",
                "GO\n",
                "\n",
                "/****** Object:  UserDefinedDataType [Udt].[TownType]    Script Date: 5/18/2025 02:33:00 PM ******/\n",
                "CREATE TYPE [Udt].[CityType] FROM [nvarchar](50) NOT NULL\n",
                "GO\n",
                "\n",
                "/****** Object:  UserDefinedDataType [Udt].[PostalCodeType]    Script Date: 5/18/2025 02:33:00 PM ******/\n",
                "CREATE TYPE [Udt].[PostalCodeType] FROM [nvarchar](50) NOT NULL\n",
                "GO\n",
                "\n",
                "/****** Object:  UserDefinedDataType [Udt].[BitType]    Script Date: 5/18/2025 02:33:00 PM ******/\n",
                "CREATE TYPE [Udt].[BitType] FROM [bit] NOT NULL\n",
                "GO\n",
                "\n",
                "/****** Object:  UserDefinedDataType [Udt].[ModelNameType]    Script Date: 5/18/2025 02:33:00 PM ******/\n",
                "CREATE TYPE [Udt].[ModelNameType] FROM [nvarchar](150) NOT NULL\n",
                "GO\n",
                "\n",
                "/****** Object:  UserDefinedDataType [Udt].[ModelVariantType]    Script Date: 5/18/2025 02:33:00 PM ******/\n",
                "CREATE TYPE [Udt].[ModelVariantType] FROM [nvarchar](150) NOT NULL\n",
                "GO\n",
                "\n",
                "/****** Object:  UserDefinedDataType [Udt].[YearType]    Script Date: 5/18/2025 02:33:00 PM ******/\n",
                "CREATE TYPE [Udt].[YearType] FROM [char](4) NOT NULL\n",
                "GO\n",
                "\n",
                "/****** Object:  UserDefinedDataType [Udt].[InvoiceNumberType]    Script Date: 5/18/2025 02:33:00 PM ******/\n",
                "CREATE TYPE [Udt].[InvoiceNumberType] FROM [char](8) NOT NULL\n",
                "GO\n",
                "\n",
                "/****** Object:  UserDefinedDataType [Udt].[MoneyType]    Script Date: 5/18/2025 02:33:00 PM ******/\n",
                "CREATE TYPE [Udt].[SaleTotalType] FROM [numeric](18, 2) NOT NULL\n",
                "GO\n",
                "\n",
                "/****** Object:  UserDefinedDataType [Udt].[TinyIntType]    Script Date: 5/18/2025 02:33:00 PM ******/\n",
                "CREATE TYPE [Udt].[TinyIntType] FROM [tinyint] NOT NULL\n",
                "GO\n",
                "\n",
                "/****** Object:  UserDefinedDataType [Udt].[StockIDType]    Script Date: 5/18/2025 02:33:00 PM ******/\n",
                "CREATE TYPE [Udt].[StockIDType] FROM [nvarchar](50) NOT NULL\n",
                "GO\n",
                "\n",
                "/****** Object:  UserDefinedDataType [Udt].[DateType]    Script Date: 5/18/2025 02:33:00 PM ******/\n",
                "CREATE TYPE [Udt].[DateType] FROM [date] NOT NULL\n",
                "GO\n",
                "\n",
                "/****** Object:  UserDefinedDataType [Udt].[TimeType]    Script Date: 5/18/2025 02:33:00 PM ******/\n",
                "CREATE TYPE [Udt].[TimeType] FROM [time](7) NOT NULL\n",
                "GO\n",
                "\n",
                "/****** Object:  UserDefinedDataType [Udt].[ColorType]    Script Date: 5/18/2025 02:33:00 PM ******/\n",
                "CREATE TYPE [Udt].[ColorType] FROM [nvarchar](50) NOT NULL\n",
                "GO\n",
                "\n",
                "/****** Object:  UserDefinedDataType [Udt].[CommentType]    Script Date: 5/18/2025 02:33:00 PM ******/\n",
                "CREATE TYPE [Udt].[CommentType] FROM [nvarchar](4000) NOT NULL\n",
                "GO"
            ],
            "metadata": {
                "language": "sql",
                "azdata_cell_guid": "d140490e-8b15-4da0-9a23-6c0cafa00f0f"
            },
            "outputs": [
                {
                    "output_type": "display_data",
                    "data": {
                        "text/html": "Commands completed successfully."
                    },
                    "metadata": {}
                },
                {
                    "output_type": "error",
                    "ename": "",
                    "evalue": "Msg 2714, Level 16, State 6, Line 5\nThere is already an object named 'Udt' in the database.",
                    "traceback": []
                },
                {
                    "output_type": "error",
                    "ename": "",
                    "evalue": "Msg 2759, Level 16, State 0, Line 5\nCREATE SCHEMA failed due to previous errors.",
                    "traceback": []
                },
                {
                    "output_type": "error",
                    "ename": "",
                    "evalue": "Msg 219, Level 16, State 1, Line 9\nThe type 'Udt.SurrogateKeyInt' already exists, or you do not have permission to create it.",
                    "traceback": []
                },
                {
                    "output_type": "error",
                    "ename": "",
                    "evalue": "Msg 219, Level 16, State 1, Line 13\nThe type 'Udt.SalesRegion' already exists, or you do not have permission to create it.",
                    "traceback": []
                },
                {
                    "output_type": "error",
                    "ename": "",
                    "evalue": "Msg 219, Level 16, State 1, Line 17\nThe type 'Udt.CountryName' already exists, or you do not have permission to create it.",
                    "traceback": []
                },
                {
                    "output_type": "error",
                    "ename": "",
                    "evalue": "Msg 219, Level 16, State 1, Line 21\nThe type 'Udt.ISO2' already exists, or you do not have permission to create it.",
                    "traceback": []
                },
                {
                    "output_type": "error",
                    "ename": "",
                    "evalue": "Msg 219, Level 16, State 1, Line 25\nThe type 'Udt.ISO3' already exists, or you do not have permission to create it.",
                    "traceback": []
                },
                {
                    "output_type": "display_data",
                    "data": {
                        "text/html": "Commands completed successfully."
                    },
                    "metadata": {}
                },
                {
                    "output_type": "display_data",
                    "data": {
                        "text/html": "Commands completed successfully."
                    },
                    "metadata": {}
                },
                {
                    "output_type": "display_data",
                    "data": {
                        "text/html": "Commands completed successfully."
                    },
                    "metadata": {}
                },
                {
                    "output_type": "display_data",
                    "data": {
                        "text/html": "Commands completed successfully."
                    },
                    "metadata": {}
                },
                {
                    "output_type": "display_data",
                    "data": {
                        "text/html": "Commands completed successfully."
                    },
                    "metadata": {}
                },
                {
                    "output_type": "display_data",
                    "data": {
                        "text/html": "Commands completed successfully."
                    },
                    "metadata": {}
                },
                {
                    "output_type": "error",
                    "ename": "",
                    "evalue": "Msg 219, Level 16, State 1, Line 53\nThe type 'Udt.ModelNameType' already exists, or you do not have permission to create it.",
                    "traceback": []
                },
                {
                    "output_type": "error",
                    "ename": "",
                    "evalue": "Msg 219, Level 16, State 1, Line 57\nThe type 'Udt.ModelVariantType' already exists, or you do not have permission to create it.",
                    "traceback": []
                },
                {
                    "output_type": "error",
                    "ename": "",
                    "evalue": "Msg 219, Level 16, State 1, Line 61\nThe type 'Udt.YearType' already exists, or you do not have permission to create it.",
                    "traceback": []
                },
                {
                    "output_type": "display_data",
                    "data": {
                        "text/html": "Commands completed successfully."
                    },
                    "metadata": {}
                },
                {
                    "output_type": "display_data",
                    "data": {
                        "text/html": "Commands completed successfully."
                    },
                    "metadata": {}
                },
                {
                    "output_type": "display_data",
                    "data": {
                        "text/html": "Commands completed successfully."
                    },
                    "metadata": {}
                },
                {
                    "output_type": "display_data",
                    "data": {
                        "text/html": "Commands completed successfully."
                    },
                    "metadata": {}
                },
                {
                    "output_type": "display_data",
                    "data": {
                        "text/html": "Commands completed successfully."
                    },
                    "metadata": {}
                },
                {
                    "output_type": "display_data",
                    "data": {
                        "text/html": "Commands completed successfully."
                    },
                    "metadata": {}
                },
                {
                    "output_type": "display_data",
                    "data": {
                        "text/html": "Commands completed successfully."
                    },
                    "metadata": {}
                },
                {
                    "output_type": "display_data",
                    "data": {
                        "text/html": "Commands completed successfully."
                    },
                    "metadata": {}
                },
                {
                    "output_type": "display_data",
                    "data": {
                        "text/html": "Total execution time: 00:00:00.183"
                    },
                    "metadata": {}
                }
            ],
            "execution_count": 24
        },
        {
            "cell_type": "code",
            "source": [
                "ALTER TABLE [Data].[Country]\n",
                "ADD [CountryId] [Udt].[SurrogateKeyInt] IDENTITY(1,1) NOT NULL;\n",
                "GO\n",
                "\n",
                "ALTER TABLE [Data].[Country]\n",
                "ADD CONSTRAINT [PK_Country] PRIMARY KEY CLUSTERED \n",
                "(\n",
                "    [CountryId] ASC\n",
                ") WITH (PAD_INDEX = OFF, STATISTICS_NORECOMPUTE = OFF, IGNORE_DUP_KEY = OFF, ALLOW_ROW_LOCKS = ON, ALLOW_PAGE_LOCKS = ON, OPTIMIZE_FOR_SEQUENTIAL_KEY = OFF) ON [PRIMARY];\n",
                "GO\n",
                "\n",
                "ALTER TABLE [Data].[Country]\n",
                "ALTER COLUMN [CountryName] [Udt].[CountryName] NOT NULL;\n",
                "GO\n",
                "\n",
                "ALTER TABLE [Data].[Country]\n",
                "ALTER COLUMN [CountryISO2] [Udt].[ISO2] NOT NULL;\n",
                "GO\n",
                "\n",
                "ALTER TABLE [Data].[Country]\n",
                "ALTER COLUMN [CountryISO3] [Udt].[ISO3] NOT NULL;\n",
                "GO\n",
                "\n",
                "ALTER TABLE [Data].[Country]\n",
                "ALTER COLUMN [SalesRegionId] [Udt].[SurrogateKeyInt] NOT NULL;\n",
                "GO\n",
                "\n",
                "ALTER TABLE [Data].[Country]\n",
                "ADD CONSTRAINT [DF_CountryId] DEFAULT (0) FOR [CountryId];\n",
                "GO\n",
                "\n",
                "ALTER TABLE [Data].[Country]\n",
                "ADD CONSTRAINT [DF_CountryName] DEFAULT ('UNSPECIFIED') FOR [CountryName];\n",
                "GO\n",
                "\n",
                "ALTER TABLE [Data].[Country]\n",
                "ADD CONSTRAINT [DF_CountryISO2] DEFAULT ('ZZ') FOR [CountryISO2];\n",
                "GO\n",
                "\n",
                "ALTER TABLE [Data].[Country]\n",
                "ADD CONSTRAINT [DF_CountryISO3] DEFAULT ('ZZZ') FOR [CountryISO3];\n",
                "GO\n",
                "\n",
                "ALTER TABLE [Data].[Country] CHECK CONSTRAINT [FK_Country_SalesRegion]\n",
                "GO\n",
                "\n",
                "ALTER TABLE [Data].[Country] WITH CHECK ADD CONSTRAINT [CK_CountryISO2] CHECK (([CountryISO2] LIKE '[A-Z][A-Z]'))\n",
                "GO\n",
                "\n",
                "ALTER TABLE [Data].[Country] CHECK CONSTRAINT [CK_CountryISO2]\n",
                "GO\n",
                "\n",
                "ALTER TABLE [Data].[Country] WITH CHECK ADD CONSTRAINT [CK_CountryISO3] CHECK (([CountryISO3] LIKE '[A-Z][A-Z][A-Z]'))\n",
                "GO\n",
                "\n",
                "ALTER TABLE [Data].[Country] CHECK CONSTRAINT [CK_CountryISO3]\n",
                "GO\n",
                "\n",
                "CREATE UNIQUE NONCLUSTERED INDEX [UniqueCountryName_idx] ON [Data].[Country]\n",
                "(\n",
                "    [CountryName] ASC\n",
                ") WITH (PAD_INDEX = OFF, STATISTICS_NORECOMPUTE = OFF, SORT_IN_TEMPDB = OFF, IGNORE_DUP_KEY = OFF, DROP_EXISTING = OFF, ONLINE = OFF, ALLOW_ROW_LOCKS = ON, ALLOW_PAGE_LOCKS = ON, OPTIMIZE_FOR_SEQUENTIAL_KEY = OFF) ON [PRIMARY]\n",
                "GO\n",
                "\n",
                "CREATE UNIQUE NONCLUSTERED INDEX [UniqueCountryISO3_idx] ON [Data].[Country]\n",
                "(\n",
                "    [CountryISO3] ASC\n",
                ") WITH (PAD_INDEX = OFF, STATISTICS_NORECOMPUTE = OFF, SORT_IN_TEMPDB = OFF, IGNORE_DUP_KEY = OFF, DROP_EXISTING = OFF, ONLINE = OFF, ALLOW_ROW_LOCKS = ON, ALLOW_PAGE_LOCKS = ON, OPTIMIZE_FOR_SEQUENTIAL_KEY = OFF) ON [PRIMARY]\n",
                "GO"
            ],
            "metadata": {
                "language": "sql",
                "azdata_cell_guid": "bc5ba7a3-746b-46ee-9d0b-80e7c8fed3fb"
            },
            "outputs": [
                {
                    "output_type": "error",
                    "ename": "",
                    "evalue": "Msg 2705, Level 16, State 4, Line 1\nColumn names in each table must be unique. Column name 'CountryId' in table 'Data.Country' is specified more than once.",
                    "traceback": []
                },
                {
                    "output_type": "error",
                    "ename": "",
                    "evalue": "Msg 1779, Level 16, State 0, Line 5\nTable 'Country' already has a primary key defined on it.",
                    "traceback": []
                },
                {
                    "output_type": "error",
                    "ename": "",
                    "evalue": "Msg 1750, Level 16, State 0, Line 5\nCould not create constraint or index. See previous errors.",
                    "traceback": []
                },
                {
                    "output_type": "display_data",
                    "data": {
                        "text/html": "Commands completed successfully."
                    },
                    "metadata": {}
                },
                {
                    "output_type": "display_data",
                    "data": {
                        "text/html": "Commands completed successfully."
                    },
                    "metadata": {}
                },
                {
                    "output_type": "display_data",
                    "data": {
                        "text/html": "Commands completed successfully."
                    },
                    "metadata": {}
                },
                {
                    "output_type": "error",
                    "ename": "",
                    "evalue": "Msg 4924, Level 16, State 1, Line 24\nALTER TABLE ALTER COLUMN failed because column 'SalesRegionId' does not exist in table 'Country'.",
                    "traceback": []
                },
                {
                    "output_type": "error",
                    "ename": "",
                    "evalue": "Msg 1754, Level 16, State 0, Line 28\nDefaults cannot be created on columns with an IDENTITY attribute. Table 'Country', column 'CountryId'.",
                    "traceback": []
                },
                {
                    "output_type": "error",
                    "ename": "",
                    "evalue": "Msg 1750, Level 16, State 0, Line 28\nCould not create constraint or index. See previous errors.",
                    "traceback": []
                },
                {
                    "output_type": "error",
                    "ename": "",
                    "evalue": "Msg 1781, Level 16, State 1, Line 32\nColumn already has a DEFAULT bound to it.",
                    "traceback": []
                },
                {
                    "output_type": "error",
                    "ename": "",
                    "evalue": "Msg 1750, Level 16, State 0, Line 32\nCould not create constraint or index. See previous errors.",
                    "traceback": []
                },
                {
                    "output_type": "error",
                    "ename": "",
                    "evalue": "Msg 1781, Level 16, State 1, Line 36\nColumn already has a DEFAULT bound to it.",
                    "traceback": []
                },
                {
                    "output_type": "error",
                    "ename": "",
                    "evalue": "Msg 1750, Level 16, State 0, Line 36\nCould not create constraint or index. See previous errors.",
                    "traceback": []
                },
                {
                    "output_type": "error",
                    "ename": "",
                    "evalue": "Msg 1781, Level 16, State 1, Line 40\nColumn already has a DEFAULT bound to it.",
                    "traceback": []
                },
                {
                    "output_type": "error",
                    "ename": "",
                    "evalue": "Msg 1750, Level 16, State 0, Line 40\nCould not create constraint or index. See previous errors.",
                    "traceback": []
                },
                {
                    "output_type": "error",
                    "ename": "",
                    "evalue": "Msg 4917, Level 16, State 0, Line 44\nConstraint 'FK_Country_SalesRegion' does not exist.",
                    "traceback": []
                },
                {
                    "output_type": "error",
                    "ename": "",
                    "evalue": "Msg 4916, Level 16, State 0, Line 44\nCould not enable or disable the constraint. See previous errors.",
                    "traceback": []
                },
                {
                    "output_type": "error",
                    "ename": "",
                    "evalue": "Msg 2714, Level 16, State 5, Line 47\nThere is already an object named 'CK_CountryISO2' in the database.",
                    "traceback": []
                },
                {
                    "output_type": "error",
                    "ename": "",
                    "evalue": "Msg 1750, Level 16, State 1, Line 47\nCould not create constraint or index. See previous errors.",
                    "traceback": []
                },
                {
                    "output_type": "display_data",
                    "data": {
                        "text/html": "Commands completed successfully."
                    },
                    "metadata": {}
                },
                {
                    "output_type": "error",
                    "ename": "",
                    "evalue": "Msg 2714, Level 16, State 5, Line 53\nThere is already an object named 'CK_CountryISO3' in the database.",
                    "traceback": []
                },
                {
                    "output_type": "error",
                    "ename": "",
                    "evalue": "Msg 1750, Level 16, State 1, Line 53\nCould not create constraint or index. See previous errors.",
                    "traceback": []
                },
                {
                    "output_type": "display_data",
                    "data": {
                        "text/html": "Commands completed successfully."
                    },
                    "metadata": {}
                },
                {
                    "output_type": "error",
                    "ename": "",
                    "evalue": "Msg 1913, Level 16, State 1, Line 59\nThe operation failed because an index or statistics with name 'UniqueCountryName_idx' already exists on table 'Data.Country'.",
                    "traceback": []
                },
                {
                    "output_type": "error",
                    "ename": "",
                    "evalue": "Msg 1913, Level 16, State 1, Line 65\nThe operation failed because an index or statistics with name 'UniqueCountryISO3_idx' already exists on table 'Data.Country'.",
                    "traceback": []
                },
                {
                    "output_type": "display_data",
                    "data": {
                        "text/html": "Total execution time: 00:00:00.056"
                    },
                    "metadata": {}
                }
            ],
            "execution_count": 26
        },
        {
            "cell_type": "code",
            "source": [
                "ALTER TABLE [Data].[Customer]\n",
                "ADD [CountryId] [Udt].[SurrogateKeyInt] NOT NULL CONSTRAINT [DF_CountryId] DEFAULT (0);\n",
                "GO\n",
                "\n",
                "UPDATE [Data].[Customer]\n",
                "SET [CountryId] = 0;\n",
                "\n",
                "ALTER TABLE [Data].[Customer]\n",
                "DROP COLUMN [Country];\n",
                "GO\n",
                "\n",
                "ALTER TABLE [Data].[Customer]\n",
                "ALTER COLUMN [CustomerID] [nvarchar](5) NOT NULL;\n",
                "GO\n",
                "\n",
                "ALTER TABLE [Data].[Customer]\n",
                "ALTER COLUMN [CustomerName] [Udt].[CustomerNameType] NOT NULL;\n",
                "GO\n",
                "\n",
                "ALTER TABLE [Data].[Customer]\n",
                "ALTER COLUMN [Address1] [nvarchar](50) NOT NULL;\n",
                "GO\n",
                "\n",
                "ALTER TABLE [Data].[Customer]\n",
                "ALTER COLUMN [Address2] [nvarchar](50) NOT NULL;\n",
                "GO\n",
                "\n",
                "ALTER TABLE [Data].[Customer]\n",
                "ALTER COLUMN [City] [nvarchar](50) NOT NULL;\n",
                "GO\n",
                "\n",
                "ALTER TABLE [Data].[Customer]\n",
                "ALTER COLUMN [PostalCode] [nvarchar](50) NOT NULL;\n",
                "GO\n",
                "\n",
                "ALTER TABLE [Data].[Customer]\n",
                "ALTER COLUMN [IsReseller] [bit] NOT NULL;\n",
                "GO\n",
                "\n",
                "ALTER TABLE [Data].[Customer]\n",
                "ALTER COLUMN [IsCreditRisk] [bit] NOT NULL;\n",
                "GO\n",
                "\n",
                "ALTER TABLE [Data].[Customer]\n",
                "ADD CONSTRAINT [DF_CustomerID] DEFAULT ('00000') FOR [CustomerID];\n",
                "GO\n",
                "\n",
                "ALTER TABLE [Data].[Customer]\n",
                "ADD CONSTRAINT [DF_CustomerName] DEFAULT ('UNSPECIFIED') FOR [CustomerName];\n",
                "GO\n",
                "\n",
                "ALTER TABLE [Data].[Customer]\n",
                "ADD CONSTRAINT [DF_Address1] DEFAULT ('UNSPECIFIED') FOR [Address1];\n",
                "GO\n",
                "\n",
                "ALTER TABLE [Data].[Customer]\n",
                "ADD CONSTRAINT [DF_Address2] DEFAULT ('UNSPECIFIED') FOR [Address2];\n",
                "GO\n",
                "\n",
                "ALTER TABLE [Data].[Customer]\n",
                "ADD CONSTRAINT [DF_Town] DEFAULT ('UNSPECIFIED') FOR [Town];\n",
                "GO\n",
                "\n",
                "ALTER TABLE [Data].[Customer]\n",
                "ADD CONSTRAINT [DF_PostalCode] DEFAULT ('UNSPECIFIED') FOR [PostalCode];\n",
                "GO\n",
                "\n",
                "ALTER TABLE [Data].[Customer]\n",
                "ADD CONSTRAINT [DF_IsReseller] DEFAULT (0) FOR [IsReseller];\n",
                "GO\n",
                "\n",
                "ALTER TABLE [Data].[Customer]\n",
                "ADD CONSTRAINT [DF_IsCreditRisk] DEFAULT (0) FOR [IsCreditRisk];\n",
                "GO\n",
                "\n",
                "ALTER TABLE [Data].[Customer] WITH CHECK ADD CONSTRAINT [FK_Customer_Country] FOREIGN KEY ([CountryId])\n",
                "REFERENCES [Data].[CountryId] ([CountryId])\n",
                "GO\n",
                "\n",
                "ALTER TABLE [Data].[Customer] CHECK CONSTRAINT [FK_Customer_Country]\n",
                "GO\n",
                "\n",
                "ALTER TABLE [Data].[Customer] WITH CHECK ADD CONSTRAINT [CK_Customer_PostalCode] \n",
                "CHECK ((PostalCode = 'UNSPECIFIED' OR LEN(PostalCode) >= 5))\n",
                "GO\n",
                "\n",
                "ALTER TABLE [Data].[Customer] CHECK CONSTRAINT [CK_Customer_PostalCode]\n",
                "GO\n",
                "\n",
                "CREATE UNIQUE NONCLUSTERED INDEX [UniqueCustomerID_idx] ON [Data].[Customer]\n",
                "(\n",
                "    [CustomerID] ASC\n",
                ") WITH (PAD_INDEX = OFF, STATISTICS_NORECOMPUTE = OFF, SORT_IN_TEMPDB = OFF, IGNORE_DUP_KEY = OFF, DROP_EXISTING = OFF, ONLINE = OFF, ALLOW_ROW_LOCKS = ON, ALLOW_PAGE_LOCKS = ON, OPTIMIZE_FOR_SEQUENTIAL_KEY = OFF) ON [PRIMARY]\n",
                "GO"
            ],
            "metadata": {
                "language": "sql",
                "azdata_cell_guid": "a040c33b-647f-440d-801a-212c8195f41a"
            },
            "outputs": [
                {
                    "output_type": "error",
                    "ename": "",
                    "evalue": "Msg 2705, Level 16, State 4, Line 1\nColumn names in each table must be unique. Column name 'CountryId' in table 'Data.Customer' is specified more than once.",
                    "traceback": []
                },
                {
                    "output_type": "display_data",
                    "data": {
                        "text/html": "(0 rows affected)"
                    },
                    "metadata": {}
                },
                {
                    "output_type": "error",
                    "ename": "",
                    "evalue": "Msg 4924, Level 16, State 1, Line 8\nALTER TABLE DROP COLUMN failed because column 'Country' does not exist in table 'Customer'.",
                    "traceback": []
                },
                {
                    "output_type": "display_data",
                    "data": {
                        "text/html": "Commands completed successfully."
                    },
                    "metadata": {}
                },
                {
                    "output_type": "display_data",
                    "data": {
                        "text/html": "Commands completed successfully."
                    },
                    "metadata": {}
                },
                {
                    "output_type": "display_data",
                    "data": {
                        "text/html": "Commands completed successfully."
                    },
                    "metadata": {}
                },
                {
                    "output_type": "display_data",
                    "data": {
                        "text/html": "Commands completed successfully."
                    },
                    "metadata": {}
                },
                {
                    "output_type": "error",
                    "ename": "",
                    "evalue": "Msg 4924, Level 16, State 1, Line 28\nALTER TABLE ALTER COLUMN failed because column 'City' does not exist in table 'Customer'.",
                    "traceback": []
                },
                {
                    "output_type": "display_data",
                    "data": {
                        "text/html": "Commands completed successfully."
                    },
                    "metadata": {}
                },
                {
                    "output_type": "display_data",
                    "data": {
                        "text/html": "Commands completed successfully."
                    },
                    "metadata": {}
                },
                {
                    "output_type": "display_data",
                    "data": {
                        "text/html": "Commands completed successfully."
                    },
                    "metadata": {}
                },
                {
                    "output_type": "error",
                    "ename": "",
                    "evalue": "Msg 1781, Level 16, State 1, Line 44\nColumn already has a DEFAULT bound to it.",
                    "traceback": []
                },
                {
                    "output_type": "error",
                    "ename": "",
                    "evalue": "Msg 1750, Level 16, State 0, Line 44\nCould not create constraint or index. See previous errors.",
                    "traceback": []
                },
                {
                    "output_type": "error",
                    "ename": "",
                    "evalue": "Msg 1781, Level 16, State 1, Line 48\nColumn already has a DEFAULT bound to it.",
                    "traceback": []
                },
                {
                    "output_type": "error",
                    "ename": "",
                    "evalue": "Msg 1750, Level 16, State 0, Line 48\nCould not create constraint or index. See previous errors.",
                    "traceback": []
                },
                {
                    "output_type": "error",
                    "ename": "",
                    "evalue": "Msg 1781, Level 16, State 1, Line 52\nColumn already has a DEFAULT bound to it.",
                    "traceback": []
                },
                {
                    "output_type": "error",
                    "ename": "",
                    "evalue": "Msg 1750, Level 16, State 0, Line 52\nCould not create constraint or index. See previous errors.",
                    "traceback": []
                },
                {
                    "output_type": "error",
                    "ename": "",
                    "evalue": "Msg 1781, Level 16, State 1, Line 56\nColumn already has a DEFAULT bound to it.",
                    "traceback": []
                },
                {
                    "output_type": "error",
                    "ename": "",
                    "evalue": "Msg 1750, Level 16, State 0, Line 56\nCould not create constraint or index. See previous errors.",
                    "traceback": []
                },
                {
                    "output_type": "display_data",
                    "data": {
                        "text/html": "Commands completed successfully."
                    },
                    "metadata": {}
                },
                {
                    "output_type": "error",
                    "ename": "",
                    "evalue": "Msg 1781, Level 16, State 1, Line 64\nColumn already has a DEFAULT bound to it.",
                    "traceback": []
                },
                {
                    "output_type": "error",
                    "ename": "",
                    "evalue": "Msg 1750, Level 16, State 0, Line 64\nCould not create constraint or index. See previous errors.",
                    "traceback": []
                },
                {
                    "output_type": "error",
                    "ename": "",
                    "evalue": "Msg 1781, Level 16, State 1, Line 68\nColumn already has a DEFAULT bound to it.",
                    "traceback": []
                },
                {
                    "output_type": "error",
                    "ename": "",
                    "evalue": "Msg 1750, Level 16, State 0, Line 68\nCould not create constraint or index. See previous errors.",
                    "traceback": []
                },
                {
                    "output_type": "error",
                    "ename": "",
                    "evalue": "Msg 1781, Level 16, State 1, Line 72\nColumn already has a DEFAULT bound to it.",
                    "traceback": []
                },
                {
                    "output_type": "error",
                    "ename": "",
                    "evalue": "Msg 1750, Level 16, State 0, Line 72\nCould not create constraint or index. See previous errors.",
                    "traceback": []
                },
                {
                    "output_type": "error",
                    "ename": "",
                    "evalue": "Msg 1767, Level 16, State 0, Line 76\nForeign key 'FK_Customer_Country' references invalid table 'Data.CountryId'.",
                    "traceback": []
                },
                {
                    "output_type": "error",
                    "ename": "",
                    "evalue": "Msg 1750, Level 16, State 1, Line 76\nCould not create constraint or index. See previous errors.",
                    "traceback": []
                },
                {
                    "output_type": "error",
                    "ename": "",
                    "evalue": "Msg 4917, Level 16, State 0, Line 80\nConstraint 'FK_Customer_Country' does not exist.",
                    "traceback": []
                },
                {
                    "output_type": "error",
                    "ename": "",
                    "evalue": "Msg 4916, Level 16, State 0, Line 80\nCould not enable or disable the constraint. See previous errors.",
                    "traceback": []
                },
                {
                    "output_type": "error",
                    "ename": "",
                    "evalue": "Msg 2714, Level 16, State 5, Line 83\nThere is already an object named 'CK_Customer_PostalCode' in the database.",
                    "traceback": []
                },
                {
                    "output_type": "error",
                    "ename": "",
                    "evalue": "Msg 1750, Level 16, State 1, Line 83\nCould not create constraint or index. See previous errors.",
                    "traceback": []
                },
                {
                    "output_type": "display_data",
                    "data": {
                        "text/html": "Commands completed successfully."
                    },
                    "metadata": {}
                },
                {
                    "output_type": "error",
                    "ename": "",
                    "evalue": "Msg 1913, Level 16, State 1, Line 90\nThe operation failed because an index or statistics with name 'UniqueCustomerID_idx' already exists on table 'Data.Customer'.",
                    "traceback": []
                },
                {
                    "output_type": "display_data",
                    "data": {
                        "text/html": "Total execution time: 00:00:00.131"
                    },
                    "metadata": {}
                }
            ],
            "execution_count": 44
        },
        {
            "cell_type": "code",
            "source": [
                "-- data make\n",
                "ALTER TABLE [Data].[Make]\n",
                "ALTER COLUMN [MakeID] [Udt].[SurrogateKeyInt] NOT NULL;\n",
                "GO\n",
                "\n",
                "ALTER TABLE [Data].[Make]\n",
                "ALTER COLUMN [MakeName] [Udt].[ModelNameType] NOT NULL;\n",
                "GO\n",
                "\n",
                "ALTER TABLE [Data].[Make]\n",
                "ALTER COLUMN [CountryId] [Udt].[SurrogateKeyInt] NOT NULL;\n",
                "GO\n",
                "\n",
                "ALTER TABLE [Data].[Make]\n",
                "ADD CONSTRAINT [DF_MakeID] DEFAULT (0) FOR [MakeID];\n",
                "GO\n",
                "\n",
                "ALTER TABLE [Data].[Make]\n",
                "ADD CONSTRAINT [DF_MakeName] DEFAULT ('UNSPECIFIED') FOR [MakeName];\n",
                "GO\n",
                "\n",
                "ALTER TABLE [Data].[Make]\n",
                "ADD CONSTRAINT [DF_CountryId] DEFAULT (0) FOR [CountryId];\n",
                "GO\n",
                "\n",
                "ALTER TABLE [Data].[Make] WITH CHECK ADD CONSTRAINT [FK_Make_Country] FOREIGN KEY ([CountryId])\n",
                "REFERENCES [Data].[Country] ([CountryId])\n",
                "GO\n",
                "\n",
                "ALTER TABLE [Data].[Make] CHECK CONSTRAINT [FK_Make_Country]\n",
                "GO\n",
                "\n",
                "CREATE UNIQUE NONCLUSTERED INDEX [UniqueMakeName_idx] ON [Data].[Make]\n",
                "(\n",
                "    [MakeName] ASC\n",
                ") WITH (PAD_INDEX = OFF, STATISTICS_NORECOMPUTE = OFF, SORT_IN_TEMPDB = OFF, IGNORE_DUP_KEY = OFF, DROP_EXISTING = OFF, ONLINE = OFF, ALLOW_ROW_LOCKS = ON, ALLOW_PAGE_LOCKS = ON, OPTIMIZE_FOR_SEQUENTIAL_KEY = OFF) ON [PRIMARY]\n",
                "GO"
            ],
            "metadata": {
                "language": "sql",
                "azdata_cell_guid": "a36b6a1a-60df-443d-8d76-46d78d124204"
            },
            "outputs": [
                {
                    "output_type": "display_data",
                    "data": {
                        "text/html": "Commands completed successfully."
                    },
                    "metadata": {}
                },
                {
                    "output_type": "display_data",
                    "data": {
                        "text/html": "Commands completed successfully."
                    },
                    "metadata": {}
                },
                {
                    "output_type": "display_data",
                    "data": {
                        "text/html": "Commands completed successfully."
                    },
                    "metadata": {}
                },
                {
                    "output_type": "error",
                    "ename": "",
                    "evalue": "Msg 1754, Level 16, State 0, Line 14\nDefaults cannot be created on columns with an IDENTITY attribute. Table 'Make', column 'MakeID'.",
                    "traceback": []
                },
                {
                    "output_type": "error",
                    "ename": "",
                    "evalue": "Msg 1750, Level 16, State 0, Line 14\nCould not create constraint or index. See previous errors.",
                    "traceback": []
                },
                {
                    "output_type": "display_data",
                    "data": {
                        "text/html": "Commands completed successfully."
                    },
                    "metadata": {}
                },
                {
                    "output_type": "display_data",
                    "data": {
                        "text/html": "Commands completed successfully."
                    },
                    "metadata": {}
                },
                {
                    "output_type": "display_data",
                    "data": {
                        "text/html": "Commands completed successfully."
                    },
                    "metadata": {}
                },
                {
                    "output_type": "display_data",
                    "data": {
                        "text/html": "Commands completed successfully."
                    },
                    "metadata": {}
                },
                {
                    "output_type": "error",
                    "ename": "",
                    "evalue": "Msg 1913, Level 16, State 1, Line 33\nThe operation failed because an index or statistics with name 'UniqueMakeName_idx' already exists on table 'Data.Make'.",
                    "traceback": []
                },
                {
                    "output_type": "display_data",
                    "data": {
                        "text/html": "Total execution time: 00:00:00.385"
                    },
                    "metadata": {}
                }
            ],
            "execution_count": 29
        },
        {
            "cell_type": "code",
            "source": [
                "ALTER TABLE [Data].[Model]\n",
                "ALTER COLUMN [ModelID] [Udt].[SurrogateKeyInt] NOT NULL;\n",
                "GO\n",
                "\n",
                "ALTER TABLE [Data].[Model]\n",
                "ALTER COLUMN [MakeID] [Udt].[SurrogateKeyInt] NOT NULL;\n",
                "GO\n",
                "\n",
                "ALTER TABLE [Data].[Model]\n",
                "ALTER COLUMN [ModelName] [Udt].[ModelNameType] NOT NULL;\n",
                "GO\n",
                "\n",
                "ALTER TABLE [Data].[Model]\n",
                "ALTER COLUMN [ModelVariant] [Udt].[ModelVariantType] NOT NULL;\n",
                "GO\n",
                "\n",
                "ALTER TABLE [Data].[Model]\n",
                "ALTER COLUMN [YearFirstProduced] [Udt].[YearType] NOT NULL;\n",
                "GO\n",
                "\n",
                "ALTER TABLE [Data].[Model]\n",
                "ALTER COLUMN [YearLastProduced] [Udt].[YearType] NOT NULL;\n",
                "GO\n",
                "\n",
                "ALTER TABLE [Data].[Model]\n",
                "ADD CONSTRAINT [DF_ModelID] DEFAULT (0) FOR [ModelID];\n",
                "GO\n",
                "\n",
                "ALTER TABLE [Data].[Model]\n",
                "ADD CONSTRAINT [DF_MakeID] DEFAULT (0) FOR [MakeID];\n",
                "GO\n",
                "\n",
                "ALTER TABLE [Data].[Model]\n",
                "ADD CONSTRAINT [DF_ModelName] DEFAULT ('UNSPECIFIED') FOR [ModelName];\n",
                "GO\n",
                "\n",
                "ALTER TABLE [Data].[Model]\n",
                "ADD CONSTRAINT [DF_ModelVariant] DEFAULT ('Standard') FOR [ModelVariant];\n",
                "GO\n",
                "\n",
                "ALTER TABLE [Data].[Model]\n",
                "ADD CONSTRAINT [DF_YearFirstProduced] DEFAULT ('1900') FOR [YearFirstProduced];\n",
                "GO\n",
                "\n",
                "ALTER TABLE [Data].[Model]\n",
                "ADD CONSTRAINT [DF_YearLastProduced] DEFAULT ('1900') FOR [YearLastProduced];\n",
                "GO\n",
                "\n",
                "ALTER TABLE [Data].[Model] WITH CHECK ADD CONSTRAINT [FK_Model_Make] FOREIGN KEY ([MakeID])\n",
                "REFERENCES [Data].[Make] ([MakeID])\n",
                "GO\n",
                "\n",
                "ALTER TABLE [Data].[Model] CHECK CONSTRAINT [FK_Model_Make]\n",
                "GO\n",
                "\n",
                "ALTER TABLE [Data].[Model] WITH CHECK ADD CONSTRAINT [CK_Model_YearRange] \n",
                "CHECK ((YearLastProduced >= YearFirstProduced))\n",
                "GO\n",
                "\n",
                "ALTER TABLE [Data].[Model] CHECK CONSTRAINT [CK_Model_YearRange]\n",
                "GO\n",
                "\n",
                "ALTER TABLE [Data].[Model] WITH CHECK ADD CONSTRAINT [CK_Model_YearFirstProducedValid] \n",
                "CHECK ((TRY_CONVERT(INT, YearFirstProduced) BETWEEN 1900 AND YEAR(GETDATE()) + 1))\n",
                "GO\n",
                "\n",
                "ALTER TABLE [Data].[Model] CHECK CONSTRAINT [CK_Model_YearFirstProducedValid]\n",
                "GO\n",
                "\n",
                "ALTER TABLE [Data].[Model] WITH CHECK ADD CONSTRAINT [CK_Model_YearLastProducedValid] \n",
                "CHECK ((TRY_CONVERT(INT, YearLastProduced) BETWEEN 1900 AND YEAR(GETDATE()) + 10))\n",
                "GO\n",
                "\n",
                "ALTER TABLE [Data].[Model] CHECK CONSTRAINT [CK_Model_YearLastProducedValid]\n",
                "GO\n",
                "\n",
                "CREATE UNIQUE NONCLUSTERED INDEX [UniqueModelName_idx] ON [Data].[Model]\n",
                "(\n",
                "    [ModelName] ASC,\n",
                "    [MakeID] ASC\n",
                ") WITH (PAD_INDEX = OFF, STATISTICS_NORECOMPUTE = OFF, SORT_IN_TEMPDB = OFF, IGNORE_DUP_KEY = OFF, DROP_EXISTING = OFF, ONLINE = OFF, ALLOW_ROW_LOCKS = ON, ALLOW_PAGE_LOCKS = ON, OPTIMIZE_FOR_SEQUENTIAL_KEY = OFF) ON [PRIMARY]\n",
                "GO"
            ],
            "metadata": {
                "language": "sql",
                "azdata_cell_guid": "6e809ef4-d4f9-4a21-acbf-10b8017dacc6"
            },
            "outputs": [
                {
                    "output_type": "display_data",
                    "data": {
                        "text/html": "Commands completed successfully."
                    },
                    "metadata": {}
                },
                {
                    "output_type": "display_data",
                    "data": {
                        "text/html": "Commands completed successfully."
                    },
                    "metadata": {}
                },
                {
                    "output_type": "display_data",
                    "data": {
                        "text/html": "Commands completed successfully."
                    },
                    "metadata": {}
                },
                {
                    "output_type": "display_data",
                    "data": {
                        "text/html": "Commands completed successfully."
                    },
                    "metadata": {}
                },
                {
                    "output_type": "display_data",
                    "data": {
                        "text/html": "Commands completed successfully."
                    },
                    "metadata": {}
                },
                {
                    "output_type": "display_data",
                    "data": {
                        "text/html": "Commands completed successfully."
                    },
                    "metadata": {}
                },
                {
                    "output_type": "error",
                    "ename": "",
                    "evalue": "Msg 1754, Level 16, State 0, Line 25\nDefaults cannot be created on columns with an IDENTITY attribute. Table 'Model', column 'ModelID'.",
                    "traceback": []
                },
                {
                    "output_type": "error",
                    "ename": "",
                    "evalue": "Msg 1750, Level 16, State 0, Line 25\nCould not create constraint or index. See previous errors.",
                    "traceback": []
                },
                {
                    "output_type": "display_data",
                    "data": {
                        "text/html": "Commands completed successfully."
                    },
                    "metadata": {}
                },
                {
                    "output_type": "display_data",
                    "data": {
                        "text/html": "Commands completed successfully."
                    },
                    "metadata": {}
                },
                {
                    "output_type": "error",
                    "ename": "",
                    "evalue": "Msg 1781, Level 16, State 1, Line 37\nColumn already has a DEFAULT bound to it.",
                    "traceback": []
                },
                {
                    "output_type": "error",
                    "ename": "",
                    "evalue": "Msg 1750, Level 16, State 0, Line 37\nCould not create constraint or index. See previous errors.",
                    "traceback": []
                },
                {
                    "output_type": "display_data",
                    "data": {
                        "text/html": "Commands completed successfully."
                    },
                    "metadata": {}
                },
                {
                    "output_type": "display_data",
                    "data": {
                        "text/html": "Commands completed successfully."
                    },
                    "metadata": {}
                },
                {
                    "output_type": "display_data",
                    "data": {
                        "text/html": "Commands completed successfully."
                    },
                    "metadata": {}
                },
                {
                    "output_type": "display_data",
                    "data": {
                        "text/html": "Commands completed successfully."
                    },
                    "metadata": {}
                },
                {
                    "output_type": "error",
                    "ename": "",
                    "evalue": "Msg 2714, Level 16, State 5, Line 56\nThere is already an object named 'CK_Model_YearRange' in the database.",
                    "traceback": []
                },
                {
                    "output_type": "error",
                    "ename": "",
                    "evalue": "Msg 1750, Level 16, State 1, Line 56\nCould not create constraint or index. See previous errors.",
                    "traceback": []
                },
                {
                    "output_type": "display_data",
                    "data": {
                        "text/html": "Commands completed successfully."
                    },
                    "metadata": {}
                },
                {
                    "output_type": "error",
                    "ename": "",
                    "evalue": "Msg 2714, Level 16, State 5, Line 63\nThere is already an object named 'CK_Model_YearFirstProducedValid' in the database.",
                    "traceback": []
                },
                {
                    "output_type": "error",
                    "ename": "",
                    "evalue": "Msg 1750, Level 16, State 1, Line 63\nCould not create constraint or index. See previous errors.",
                    "traceback": []
                },
                {
                    "output_type": "display_data",
                    "data": {
                        "text/html": "Commands completed successfully."
                    },
                    "metadata": {}
                },
                {
                    "output_type": "error",
                    "ename": "",
                    "evalue": "Msg 2714, Level 16, State 5, Line 70\nThere is already an object named 'CK_Model_YearLastProducedValid' in the database.",
                    "traceback": []
                },
                {
                    "output_type": "error",
                    "ename": "",
                    "evalue": "Msg 1750, Level 16, State 1, Line 70\nCould not create constraint or index. See previous errors.",
                    "traceback": []
                },
                {
                    "output_type": "display_data",
                    "data": {
                        "text/html": "Commands completed successfully."
                    },
                    "metadata": {}
                },
                {
                    "output_type": "error",
                    "ename": "",
                    "evalue": "Msg 1913, Level 16, State 1, Line 77\nThe operation failed because an index or statistics with name 'UniqueModelName_idx' already exists on table 'Data.Model'.",
                    "traceback": []
                },
                {
                    "output_type": "display_data",
                    "data": {
                        "text/html": "Total execution time: 00:00:00.137"
                    },
                    "metadata": {}
                }
            ],
            "execution_count": 30
        },
        {
            "cell_type": "code",
            "source": [
                "-- stock\n",
                "ALTER TABLE [Data].[Stock]\n",
                "ALTER COLUMN [StockID] [nvarchar](50) NOT NULL;\n",
                "GO\n",
                "\n",
                "ALTER TABLE [Data].[Stock]\n",
                "ALTER COLUMN [ModelID] [Udt].[SurrogateKeyInt] NOT NULL;\n",
                "GO\n",
                "\n",
                "ALTER TABLE [Data].[Stock]\n",
                "ALTER COLUMN [Cost] [money] NOT NULL;\n",
                "GO\n",
                "\n",
                "ALTER TABLE [Data].[Stock]\n",
                "ALTER COLUMN [RepairCost] [money] NOT NULL;\n",
                "GO\n",
                "\n",
                "ALTER TABLE [Data].[Stock]\n",
                "ALTER COLUMN [PartCost] [money] NOT NULL;\n",
                "GO\n",
                "\n",
                "ALTER TABLE [Data].[Stock]\n",
                "ALTER COLUMN [TransportCost] [money] NOT NULL;\n",
                "GO\n",
                "\n",
                "ALTER TABLE [Data].[Stock]\n",
                "ALTER COLUMN [IsRHD] [bit] NOT NULL;\n",
                "GO\n",
                "\n",
                "ALTER TABLE [Data].[Stock]\n",
                "ALTER COLUMN [Color] [nvarchar](50) NOT NULL;\n",
                "GO\n",
                "\n",
                "ALTER TABLE [Data].[Stock]\n",
                "ALTER COLUMN [BuyerComment] [nvarchar](4000) NOT NULL;\n",
                "GO\n",
                "\n",
                "ALTER TABLE [Data].[Stock]\n",
                "ALTER COLUMN [DateBought] [date] NOT NULL;\n",
                "GO\n",
                "\n",
                "ALTER TABLE [Data].[Stock]\n",
                "ALTER COLUMN [TimeBought] [time](7) NOT NULL;\n",
                "GO\n",
                "\n",
                "ALTER TABLE [Data].[Stock]\n",
                "ADD CONSTRAINT [DF_StockID] DEFAULT (NEWID()) FOR [StockID];\n",
                "GO\n",
                "\n",
                "ALTER TABLE [Data].[Stock]\n",
                "ADD CONSTRAINT [DF_Cost] DEFAULT (0) FOR [Cost];\n",
                "GO\n",
                "\n",
                "ALTER TABLE [Data].[Stock]\n",
                "ADD CONSTRAINT [DF_RepairCost] DEFAULT (0) FOR [RepairCost];\n",
                "GO\n",
                "\n",
                "ALTER TABLE [Data].[Stock]\n",
                "ADD CONSTRAINT [DF_PartCost] DEFAULT (0) FOR [PartCost];\n",
                "GO\n",
                "\n",
                "ALTER TABLE [Data].[Stock]\n",
                "ADD CONSTRAINT [DF_TransportCost] DEFAULT (0) FOR [TransportCost];\n",
                "GO\n",
                "\n",
                "ALTER TABLE [Data].[Stock]\n",
                "ADD CONSTRAINT [DF_IsRHD] DEFAULT (0) FOR [IsRHD];\n",
                "GO\n",
                "\n",
                "ALTER TABLE [Data].[Stock]\n",
                "ADD CONSTRAINT [DF_Color] DEFAULT ('UNSPECIFIED') FOR [Color];\n",
                "GO\n",
                "\n",
                "ALTER TABLE [Data].[Stock]\n",
                "ADD CONSTRAINT [DF_BuyerComment] DEFAULT ('UNSPECIFIED') FOR [BuyerComment];\n",
                "GO\n",
                "\n",
                "ALTER TABLE [Data].[Stock]\n",
                "ADD CONSTRAINT [DF_DateBought] DEFAULT (GETDATE()) FOR [DateBought];\n",
                "GO\n",
                "\n",
                "ALTER TABLE [Data].[Stock]\n",
                "ADD CONSTRAINT [DF_TimeBought] DEFAULT ('00:00:00') FOR [TimeBought];\n",
                "GO\n",
                "\n",
                "ALTER TABLE [Data].[Stock] WITH CHECK ADD CONSTRAINT [FK_Stock_Model] FOREIGN KEY ([ModelID])\n",
                "REFERENCES [Data].[Model] ([ModelID])\n",
                "GO\n",
                "\n",
                "ALTER TABLE [Data].[Stock] CHECK CONSTRAINT [FK_Stock_Model]\n",
                "GO\n",
                "\n",
                "ALTER TABLE [Data].[Stock] WITH CHECK ADD CONSTRAINT [CK_Stock_Cost] \n",
                "CHECK ((Cost >= 0 AND RepairCost >= 0 AND PartCost >= 0 AND TransportCost >= 0))\n",
                "GO\n",
                "\n",
                "ALTER TABLE [Data].[Stock] CHECK CONSTRAINT [CK_Stock_Cost]\n",
                "GO\n",
                "\n",
                "CREATE UNIQUE NONCLUSTERED INDEX [UniqueStockID_idx] ON [Data].[Stock]\n",
                "(\n",
                "    [StockID] ASC\n",
                ") WITH (PAD_INDEX = OFF, STATISTICS_NORECOMPUTE = OFF, SORT_IN_TEMPDB = OFF, IGNORE_DUP_KEY = OFF, DROP_EXISTING = OFF, ONLINE = OFF, ALLOW_ROW_LOCKS = ON, ALLOW_PAGE_LOCKS = ON, OPTIMIZE_FOR_SEQUENTIAL_KEY = OFF) ON [PRIMARY]\n",
                "GO"
            ],
            "metadata": {
                "language": "sql",
                "azdata_cell_guid": "5742b202-7244-4a35-9fbd-4932d9da3f17"
            },
            "outputs": [
                {
                    "output_type": "display_data",
                    "data": {
                        "text/html": "Commands completed successfully."
                    },
                    "metadata": {}
                },
                {
                    "output_type": "display_data",
                    "data": {
                        "text/html": "Commands completed successfully."
                    },
                    "metadata": {}
                },
                {
                    "output_type": "display_data",
                    "data": {
                        "text/html": "Commands completed successfully."
                    },
                    "metadata": {}
                },
                {
                    "output_type": "display_data",
                    "data": {
                        "text/html": "Commands completed successfully."
                    },
                    "metadata": {}
                },
                {
                    "output_type": "display_data",
                    "data": {
                        "text/html": "Commands completed successfully."
                    },
                    "metadata": {}
                },
                {
                    "output_type": "display_data",
                    "data": {
                        "text/html": "Commands completed successfully."
                    },
                    "metadata": {}
                },
                {
                    "output_type": "error",
                    "ename": "",
                    "evalue": "Msg 4924, Level 16, State 1, Line 26\nALTER TABLE ALTER COLUMN failed because column 'IsRHD' does not exist in table 'Stock'.",
                    "traceback": []
                },
                {
                    "output_type": "display_data",
                    "data": {
                        "text/html": "Commands completed successfully."
                    },
                    "metadata": {}
                },
                {
                    "output_type": "error",
                    "ename": "",
                    "evalue": "Msg 4924, Level 16, State 1, Line 34\nALTER TABLE ALTER COLUMN failed because column 'BuyerComment' does not exist in table 'Stock'.",
                    "traceback": []
                },
                {
                    "output_type": "error",
                    "ename": "",
                    "evalue": "Msg 4924, Level 16, State 1, Line 38\nALTER TABLE ALTER COLUMN failed because column 'DateBought' does not exist in table 'Stock'.",
                    "traceback": []
                },
                {
                    "output_type": "error",
                    "ename": "",
                    "evalue": "Msg 4924, Level 16, State 1, Line 42\nALTER TABLE ALTER COLUMN failed because column 'TimeBought' does not exist in table 'Stock'.",
                    "traceback": []
                },
                {
                    "output_type": "display_data",
                    "data": {
                        "text/html": "Commands completed successfully."
                    },
                    "metadata": {}
                },
                {
                    "output_type": "display_data",
                    "data": {
                        "text/html": "Commands completed successfully."
                    },
                    "metadata": {}
                },
                {
                    "output_type": "display_data",
                    "data": {
                        "text/html": "Commands completed successfully."
                    },
                    "metadata": {}
                },
                {
                    "output_type": "display_data",
                    "data": {
                        "text/html": "Commands completed successfully."
                    },
                    "metadata": {}
                },
                {
                    "output_type": "display_data",
                    "data": {
                        "text/html": "Commands completed successfully."
                    },
                    "metadata": {}
                },
                {
                    "output_type": "error",
                    "ename": "",
                    "evalue": "Msg 1752, Level 16, State 0, Line 66\nColumn 'IsRHD' in table 'Stock' is invalid for creating a default constraint.",
                    "traceback": []
                },
                {
                    "output_type": "error",
                    "ename": "",
                    "evalue": "Msg 1750, Level 16, State 0, Line 66\nCould not create constraint or index. See previous errors.",
                    "traceback": []
                },
                {
                    "output_type": "display_data",
                    "data": {
                        "text/html": "Commands completed successfully."
                    },
                    "metadata": {}
                },
                {
                    "output_type": "error",
                    "ename": "",
                    "evalue": "Msg 1752, Level 16, State 0, Line 74\nColumn 'BuyerComment' in table 'Stock' is invalid for creating a default constraint.",
                    "traceback": []
                },
                {
                    "output_type": "error",
                    "ename": "",
                    "evalue": "Msg 1750, Level 16, State 0, Line 74\nCould not create constraint or index. See previous errors.",
                    "traceback": []
                },
                {
                    "output_type": "error",
                    "ename": "",
                    "evalue": "Msg 1752, Level 16, State 0, Line 78\nColumn 'DateBought' in table 'Stock' is invalid for creating a default constraint.",
                    "traceback": []
                },
                {
                    "output_type": "error",
                    "ename": "",
                    "evalue": "Msg 1750, Level 16, State 0, Line 78\nCould not create constraint or index. See previous errors.",
                    "traceback": []
                },
                {
                    "output_type": "error",
                    "ename": "",
                    "evalue": "Msg 1752, Level 16, State 0, Line 82\nColumn 'TimeBought' in table 'Stock' is invalid for creating a default constraint.",
                    "traceback": []
                },
                {
                    "output_type": "error",
                    "ename": "",
                    "evalue": "Msg 1750, Level 16, State 0, Line 82\nCould not create constraint or index. See previous errors.",
                    "traceback": []
                },
                {
                    "output_type": "display_data",
                    "data": {
                        "text/html": "Commands completed successfully."
                    },
                    "metadata": {}
                },
                {
                    "output_type": "display_data",
                    "data": {
                        "text/html": "Commands completed successfully."
                    },
                    "metadata": {}
                },
                {
                    "output_type": "display_data",
                    "data": {
                        "text/html": "Commands completed successfully."
                    },
                    "metadata": {}
                },
                {
                    "output_type": "display_data",
                    "data": {
                        "text/html": "Commands completed successfully."
                    },
                    "metadata": {}
                },
                {
                    "output_type": "display_data",
                    "data": {
                        "text/html": "Commands completed successfully."
                    },
                    "metadata": {}
                },
                {
                    "output_type": "display_data",
                    "data": {
                        "text/html": "Total execution time: 00:00:00.122"
                    },
                    "metadata": {}
                }
            ],
            "execution_count": 31
        },
        {
            "cell_type": "code",
            "source": [
                "-- sales\n",
                "ALTER TABLE [Data].[Sale]\n",
                "ALTER COLUMN [SaleID] [Udt].[SurrogateKeyInt] NOT NULL;\n",
                "GO\n",
                "\n",
                "ALTER TABLE [Data].[Sale]\n",
                "ALTER COLUMN [CustomerID] [nvarchar](5) NOT NULL;\n",
                "GO\n",
                "\n",
                "ALTER TABLE [Data].[Sale]\n",
                "ALTER COLUMN [InvoiceNumber] [char](8) NOT NULL;\n",
                "GO\n",
                "\n",
                "ALTER TABLE [Data].[Sale]\n",
                "ALTER COLUMN [SaleTotal] [numeric](18, 2) NOT NULL;\n",
                "GO\n",
                "\n",
                "ALTER TABLE [Data].[Sale]\n",
                "ADD CONSTRAINT [DF_SaleID] DEFAULT (0) FOR [SaleID];\n",
                "GO\n",
                "\n",
                "ALTER TABLE [Data].[Sale]\n",
                "ADD CONSTRAINT [DF_CustomerID] DEFAULT ('00000') FOR [CustomerID];\n",
                "GO\n",
                "\n",
                "ALTER TABLE [Data].[Sale]\n",
                "ADD CONSTRAINT [DF_InvoiceNumber] DEFAULT ('00000000') FOR [InvoiceNumber];\n",
                "GO\n",
                "\n",
                "ALTER TABLE [Data].[Sale]\n",
                "ADD CONSTRAINT [DF_SaleTotal] DEFAULT (0) FOR [SaleTotal];\n",
                "GO\n",
                "\n",
                "ALTER TABLE [Data].[Sale] WITH CHECK ADD CONSTRAINT [FK_Sales_Customer] FOREIGN KEY ([CustomerID])\n",
                "REFERENCES [Data].[Customer] ([CustomerID])\n",
                "GO\n",
                "\n",
                "ALTER TABLE [Data].[Sale] CHECK CONSTRAINT [FK_Sales_Customer]\n",
                "GO\n",
                "\n",
                "ALTER TABLE [Data].[Sale] WITH CHECK ADD CONSTRAINT [CK_Sales_SaleTotal] \n",
                "CHECK ((SaleTotal >= 0))\n",
                "GO\n",
                "\n",
                "ALTER TABLE [Data].[Sale] CHECK CONSTRAINT [CK_Sales_SaleTotal]\n",
                "GO\n",
                "\n",
                "CREATE UNIQUE NONCLUSTERED INDEX [UniqueSaleID_idx] ON [Data].[Sale]\n",
                "(\n",
                "    [SaleID] ASC\n",
                ") WITH (PAD_INDEX = OFF, STATISTICS_NORECOMPUTE = OFF, SORT_IN_TEMPDB = OFF, IGNORE_DUP_KEY = OFF, DROP_EXISTING = OFF, ONLINE = OFF, ALLOW_ROW_LOCKS = ON, ALLOW_PAGE_LOCKS = ON, OPTIMIZE_FOR_SEQUENTIAL_KEY = OFF) ON [PRIMARY]\n",
                "GO\n",
                "\n",
                "CREATE UNIQUE NONCLUSTERED INDEX [UniqueInvoiceNumber_idx] ON [Data].[Sale]\n",
                "(\n",
                "    [InvoiceNumber] ASC\n",
                ") WITH (PAD_INDEX = OFF, STATISTICS_NORECOMPUTE = OFF, SORT_IN_TEMPDB = OFF, IGNORE_DUP_KEY = OFF, DROP_EXISTING = OFF, ONLINE = OFF, ALLOW_ROW_LOCKS = ON, ALLOW_PAGE_LOCKS = ON, OPTIMIZE_FOR_SEQUENTIAL_KEY = OFF) ON [PRIMARY]\n",
                "GO"
            ],
            "metadata": {
                "language": "sql",
                "azdata_cell_guid": "b28718be-6d1b-4449-b5ea-6a3ac6fb6722"
            },
            "outputs": [
                {
                    "output_type": "display_data",
                    "data": {
                        "text/html": "Commands completed successfully."
                    },
                    "metadata": {}
                },
                {
                    "output_type": "display_data",
                    "data": {
                        "text/html": "Commands completed successfully."
                    },
                    "metadata": {}
                },
                {
                    "output_type": "display_data",
                    "data": {
                        "text/html": "Commands completed successfully."
                    },
                    "metadata": {}
                },
                {
                    "output_type": "display_data",
                    "data": {
                        "text/html": "Commands completed successfully."
                    },
                    "metadata": {}
                },
                {
                    "output_type": "display_data",
                    "data": {
                        "text/html": "Commands completed successfully."
                    },
                    "metadata": {}
                },
                {
                    "output_type": "error",
                    "ename": "",
                    "evalue": "Msg 2714, Level 16, State 5, Line 22\nThere is already an object named 'DF_CustomerID' in the database.",
                    "traceback": []
                },
                {
                    "output_type": "error",
                    "ename": "",
                    "evalue": "Msg 1750, Level 16, State 1, Line 22\nCould not create constraint or index. See previous errors.",
                    "traceback": []
                },
                {
                    "output_type": "display_data",
                    "data": {
                        "text/html": "Commands completed successfully."
                    },
                    "metadata": {}
                },
                {
                    "output_type": "display_data",
                    "data": {
                        "text/html": "Commands completed successfully."
                    },
                    "metadata": {}
                },
                {
                    "output_type": "display_data",
                    "data": {
                        "text/html": "Commands completed successfully."
                    },
                    "metadata": {}
                },
                {
                    "output_type": "display_data",
                    "data": {
                        "text/html": "Commands completed successfully."
                    },
                    "metadata": {}
                },
                {
                    "output_type": "display_data",
                    "data": {
                        "text/html": "Commands completed successfully."
                    },
                    "metadata": {}
                },
                {
                    "output_type": "display_data",
                    "data": {
                        "text/html": "Commands completed successfully."
                    },
                    "metadata": {}
                },
                {
                    "output_type": "display_data",
                    "data": {
                        "text/html": "Commands completed successfully."
                    },
                    "metadata": {}
                },
                {
                    "output_type": "display_data",
                    "data": {
                        "text/html": "Commands completed successfully."
                    },
                    "metadata": {}
                },
                {
                    "output_type": "display_data",
                    "data": {
                        "text/html": "Total execution time: 00:00:00.081"
                    },
                    "metadata": {}
                }
            ],
            "execution_count": 33
        },
        {
            "cell_type": "code",
            "source": [
                "-- sale detail\n",
                "ALTER TABLE [Data].[SaleDetail]\n",
                "ALTER COLUMN [SaleDetailID] [Udt].[SurrogateKeyInt] NOT NULL;\n",
                "GO\n",
                "\n",
                "ALTER TABLE [Data].[SaleDetail]\n",
                "ALTER COLUMN [SaleID] [Udt].[SurrogateKeyInt] NOT NULL;\n",
                "GO\n",
                "\n",
                "ALTER TABLE [Data].[SaleDetail]\n",
                "ALTER COLUMN [LineItemNumber] [tinyint] NOT NULL;\n",
                "GO\n",
                "\n",
                "ALTER TABLE [Data].[SaleDetail]\n",
                "ALTER COLUMN [StockID] [nvarchar](50) NOT NULL;\n",
                "GO\n",
                "\n",
                "ALTER TABLE [Data].[SaleDetail]\n",
                "ALTER COLUMN [SalePrice] [numeric](18, 2) NOT NULL;\n",
                "GO\n",
                "\n",
                "ALTER TABLE [Data].[SaleDetail]\n",
                "ALTER COLUMN [LineItemDiscount] [numeric](18, 2) NOT NULL;\n",
                "GO\n",
                "\n",
                "ALTER TABLE [Data].[SaleDetail]\n",
                "ALTER COLUMN [DateBought] [date] NOT NULL;\n",
                "GO\n",
                "\n",
                "ALTER TABLE [Data].[SaleDetail]\n",
                "ALTER COLUMN [TimeBought] [time](7) NOT NULL;\n",
                "GO\n",
                "\n",
                "ALTER TABLE [Data].[SaleDetail]\n",
                "ADD CONSTRAINT [DF_SaleDetailID] DEFAULT (0) FOR [SaleDetailID];\n",
                "GO\n",
                "\n",
                "ALTER TABLE [Data].[SaleDetail]\n",
                "ADD CONSTRAINT [DF_SaleID] DEFAULT (0) FOR [SaleID];\n",
                "GO\n",
                "\n",
                "ALTER TABLE [Data].[SaleDetail]\n",
                "ADD CONSTRAINT [DF_LineItemNumber] DEFAULT (0) FOR [LineItemNumber];\n",
                "GO\n",
                "\n",
                "ALTER TABLE [Data].[SaleDetail]\n",
                "ADD CONSTRAINT [DF_StockID] DEFAULT (NEWID()) FOR [StockID];\n",
                "GO\n",
                "\n",
                "ALTER TABLE [Data].[SaleDetail]\n",
                "ADD CONSTRAINT [DF_SalePrice] DEFAULT (0) FOR [SalePrice];\n",
                "GO\n",
                "\n",
                "ALTER TABLE [Data].[SaleDetail]\n",
                "ADD CONSTRAINT [DF_LineItemDiscount] DEFAULT (0) FOR [LineItemDiscount];\n",
                "GO\n",
                "\n",
                "ALTER TABLE [Data].[SaleDetail]\n",
                "ADD CONSTRAINT [DF_DateBought] DEFAULT (GETDATE()) FOR [DateBought];\n",
                "GO\n",
                "\n",
                "ALTER TABLE [Data].[SaleDetail]\n",
                "ADD CONSTRAINT [DF_TimeBought] DEFAULT ('00:00:00') FOR [TimeBought];\n",
                "GO\n",
                "\n",
                "ALTER TABLE [Data].[SaleDetail] WITH CHECK ADD CONSTRAINT [FK_SalesDetails_Sales] FOREIGN KEY ([SaleID])\n",
                "REFERENCES [Data].[Sale] ([SaleID])\n",
                "GO\n",
                "\n",
                "ALTER TABLE [Data].[SaleDetail] CHECK CONSTRAINT [FK_SalesDetails_Sales]\n",
                "GO\n",
                "\n",
                "ALTER TABLE [Data].[SaleDetail] WITH CHECK ADD CONSTRAINT [FK_SalesDetails_Stock] FOREIGN KEY ([StockID])\n",
                "REFERENCES [Data].[Stock] ([StockID])\n",
                "GO\n",
                "\n",
                "ALTER TABLE [Data].[SaleDetail] CHECK CONSTRAINT [FK_SalesDetails_Stock]\n",
                "GO\n",
                "\n",
                "ALTER TABLE [Data].[SaleDetail] WITH CHECK ADD CONSTRAINT [CK_SalesDetails_Prices] \n",
                "CHECK ((SalePrice >= 0 AND LineItemDiscount >= 0))\n",
                "GO\n",
                "\n",
                "ALTER TABLE [Data].[SaleDetail] CHECK CONSTRAINT [CK_SalesDetails_Prices]\n",
                "GO\n",
                "\n",
                "ALTER TABLE [Data].[SaleDetail] WITH CHECK ADD CONSTRAINT [CK_SalesDetails_LineItemNumber] \n",
                "CHECK ((LineItemNumber > 0))\n",
                "GO\n",
                "\n",
                "ALTER TABLE [Data].[SaleDetail] CHECK CONSTRAINT [CK_SalesDetails_LineItemNumber]\n",
                "GO\n",
                "\n",
                "CREATE UNIQUE NONCLUSTERED INDEX [UniqueSaleDetailID_idx] ON [Data].[SaleDetail]\n",
                "(\n",
                "    [SaleDetailID] ASC\n",
                ") WITH (PAD_INDEX = OFF, STATISTICS_NORECOMPUTE = OFF, SORT_IN_TEMPDB = OFF, IGNORE_DUP_KEY = OFF, DROP_EXISTING = OFF, ONLINE = OFF, ALLOW_ROW_LOCKS = ON, ALLOW_PAGE_LOCKS = ON, OPTIMIZE_FOR_SEQUENTIAL_KEY = OFF) ON [PRIMARY]\n",
                "GO"
            ],
            "metadata": {
                "language": "sql",
                "azdata_cell_guid": "83779de4-90bc-4d49-92fb-9e7652630b92"
            },
            "outputs": [
                {
                    "output_type": "display_data",
                    "data": {
                        "text/html": "Commands completed successfully."
                    },
                    "metadata": {}
                },
                {
                    "output_type": "display_data",
                    "data": {
                        "text/html": "Commands completed successfully."
                    },
                    "metadata": {}
                },
                {
                    "output_type": "display_data",
                    "data": {
                        "text/html": "Commands completed successfully."
                    },
                    "metadata": {}
                },
                {
                    "output_type": "display_data",
                    "data": {
                        "text/html": "Commands completed successfully."
                    },
                    "metadata": {}
                },
                {
                    "output_type": "display_data",
                    "data": {
                        "text/html": "Commands completed successfully."
                    },
                    "metadata": {}
                },
                {
                    "output_type": "display_data",
                    "data": {
                        "text/html": "Commands completed successfully."
                    },
                    "metadata": {}
                },
                {
                    "output_type": "display_data",
                    "data": {
                        "text/html": "Commands completed successfully."
                    },
                    "metadata": {}
                },
                {
                    "output_type": "display_data",
                    "data": {
                        "text/html": "Commands completed successfully."
                    },
                    "metadata": {}
                },
                {
                    "output_type": "error",
                    "ename": "",
                    "evalue": "Msg 1754, Level 16, State 0, Line 34\nDefaults cannot be created on columns with an IDENTITY attribute. Table 'SaleDetail', column 'SaleDetailID'.",
                    "traceback": []
                },
                {
                    "output_type": "error",
                    "ename": "",
                    "evalue": "Msg 1750, Level 16, State 0, Line 34\nCould not create constraint or index. See previous errors.",
                    "traceback": []
                },
                {
                    "output_type": "error",
                    "ename": "",
                    "evalue": "Msg 2714, Level 16, State 5, Line 38\nThere is already an object named 'DF_SaleID' in the database.",
                    "traceback": []
                },
                {
                    "output_type": "error",
                    "ename": "",
                    "evalue": "Msg 1750, Level 16, State 1, Line 38\nCould not create constraint or index. See previous errors.",
                    "traceback": []
                },
                {
                    "output_type": "display_data",
                    "data": {
                        "text/html": "Commands completed successfully."
                    },
                    "metadata": {}
                },
                {
                    "output_type": "error",
                    "ename": "",
                    "evalue": "Msg 2714, Level 16, State 5, Line 46\nThere is already an object named 'DF_StockID' in the database.",
                    "traceback": []
                },
                {
                    "output_type": "error",
                    "ename": "",
                    "evalue": "Msg 1750, Level 16, State 1, Line 46\nCould not create constraint or index. See previous errors.",
                    "traceback": []
                },
                {
                    "output_type": "display_data",
                    "data": {
                        "text/html": "Commands completed successfully."
                    },
                    "metadata": {}
                },
                {
                    "output_type": "display_data",
                    "data": {
                        "text/html": "Commands completed successfully."
                    },
                    "metadata": {}
                },
                {
                    "output_type": "display_data",
                    "data": {
                        "text/html": "Commands completed successfully."
                    },
                    "metadata": {}
                },
                {
                    "output_type": "display_data",
                    "data": {
                        "text/html": "Commands completed successfully."
                    },
                    "metadata": {}
                },
                {
                    "output_type": "display_data",
                    "data": {
                        "text/html": "Commands completed successfully."
                    },
                    "metadata": {}
                },
                {
                    "output_type": "display_data",
                    "data": {
                        "text/html": "Commands completed successfully."
                    },
                    "metadata": {}
                },
                {
                    "output_type": "display_data",
                    "data": {
                        "text/html": "Commands completed successfully."
                    },
                    "metadata": {}
                },
                {
                    "output_type": "display_data",
                    "data": {
                        "text/html": "Commands completed successfully."
                    },
                    "metadata": {}
                },
                {
                    "output_type": "display_data",
                    "data": {
                        "text/html": "Commands completed successfully."
                    },
                    "metadata": {}
                },
                {
                    "output_type": "display_data",
                    "data": {
                        "text/html": "Commands completed successfully."
                    },
                    "metadata": {}
                },
                {
                    "output_type": "display_data",
                    "data": {
                        "text/html": "Commands completed successfully."
                    },
                    "metadata": {}
                },
                {
                    "output_type": "display_data",
                    "data": {
                        "text/html": "Commands completed successfully."
                    },
                    "metadata": {}
                },
                {
                    "output_type": "display_data",
                    "data": {
                        "text/html": "Commands completed successfully."
                    },
                    "metadata": {}
                },
                {
                    "output_type": "display_data",
                    "data": {
                        "text/html": "Total execution time: 00:00:00.176"
                    },
                    "metadata": {}
                }
            ],
            "execution_count": 34
        },
        {
            "cell_type": "code",
            "source": [
                "INSERT INTO [Data].[Customer] (CustomerID, CustomerName, Address1, Address2, Town, PostalCode, CountryId, IsReseller, IsCreditRisk)\n",
                "SELECT \n",
                "    COALESCE(BC.CustomerID, '00000'),\n",
                "    COALESCE(BC.CustomerName, 'UNSPECIFIED'),\n",
                "    COALESCE(BC.Address1, 'UNSPECIFIED'),\n",
                "    COALESCE(BC.Address2, 'UNSPECIFIED'),\n",
                "    COALESCE(BC.Town, 'UNSPECIFIED'),\n",
                "    COALESCE(BC.PostalCode, 'UNSPECIFIED'),\n",
                "    COALESCE(C.CountryId, 0),\n",
                "    COALESCE(BC.IsReseller, 0),\n",
                "    COALESCE(BC.IsCreditRisk, 0)\n",
                "FROM [BackupData].[Customer] BC\n",
                "LEFT JOIN [Data].[Country] C ON TRIM(BC.Country) = TRIM(C.CountryISO2);"
            ],
            "metadata": {
                "language": "sql",
                "azdata_cell_guid": "8fde929a-8ec3-4036-90c5-331c941cbc1c"
            },
            "outputs": [
                {
                    "output_type": "display_data",
                    "data": {
                        "text/html": "(88 rows affected)"
                    },
                    "metadata": {}
                },
                {
                    "output_type": "display_data",
                    "data": {
                        "text/html": "Total execution time: 00:00:00.090"
                    },
                    "metadata": {}
                }
            ],
            "execution_count": 45
        },
        {
            "cell_type": "code",
            "source": [
                "USE [PrestigeCars]\n",
                "GO\n",
                "\n",
                "-- Insert into [Data].[Country] from [BackupData].[Country]\n",
                "INSERT INTO [Data].[Country] (CountryName, CountryISO2, CountryISO3, SalesRegion)\n",
                "SELECT \n",
                "    COALESCE(LEFT(TRIM(BC.CountryName), 150), 'UNSPECIFIED'),\n",
                "    COALESCE(LEFT(TRIM(BC.CountryISO2), 2), 'ZZ'),\n",
                "    COALESCE(LEFT(TRIM(BC.CountryISO3), 3), 'ZZZ'),\n",
                "    COALESCE(LEFT(TRIM(BC.SaleRegion), 3), 'UNK')\n",
                "FROM [BackupData].[Country] BC;\n",
                "GO"
            ],
            "metadata": {
                "language": "sql",
                "azdata_cell_guid": "3d211367-eab3-48ad-b036-e4772dc21f9d",
                "tags": []
            },
            "outputs": [
                {
                    "output_type": "display_data",
                    "data": {
                        "text/html": "Commands completed successfully."
                    },
                    "metadata": {}
                },
                {
                    "output_type": "display_data",
                    "data": {
                        "text/html": "(10 rows affected)"
                    },
                    "metadata": {}
                },
                {
                    "output_type": "display_data",
                    "data": {
                        "text/html": "Total execution time: 00:00:00.099"
                    },
                    "metadata": {}
                }
            ],
            "execution_count": 54
        },
        {
            "cell_type": "code",
            "source": [
                "-- insert into make\n",
                "SET IDENTITY_INSERT [Data].[Make] ON;\n",
                "GO\n",
                "\n",
                "INSERT INTO [Data].[Make] (MakeID, MakeName, CountryId)\n",
                "SELECT \n",
                "    BM.MakeID,\n",
                "    COALESCE(LEFT(TRIM(BM.MakeName), 150), 'UNSPECIFIED'),\n",
                "    C.CountryId\n",
                "FROM [BackupData].[Make] BM\n",
                "INNER JOIN [Data].[Country] C ON TRIM(BM.MakeCountry) = TRIM(C.CountryISO3);\n",
                "GO\n",
                "\n",
                "SET IDENTITY_INSERT [Data].[Make] OFF;\n",
                "GO"
            ],
            "metadata": {
                "language": "sql",
                "azdata_cell_guid": "8ddff413-b7c9-4e7a-b942-88504cc14499"
            },
            "outputs": [
                {
                    "output_type": "display_data",
                    "data": {
                        "text/html": "Commands completed successfully."
                    },
                    "metadata": {}
                },
                {
                    "output_type": "display_data",
                    "data": {
                        "text/html": "(20 rows affected)"
                    },
                    "metadata": {}
                },
                {
                    "output_type": "display_data",
                    "data": {
                        "text/html": "Commands completed successfully."
                    },
                    "metadata": {}
                },
                {
                    "output_type": "display_data",
                    "data": {
                        "text/html": "Total execution time: 00:00:00.034"
                    },
                    "metadata": {}
                }
            ],
            "execution_count": 67
        },
        {
            "cell_type": "code",
            "source": [
                "SET IDENTITY_INSERT [Data].[Make] ON;\n",
                "\n",
                "WITH RankedMakes AS (\n",
                "    SELECT \n",
                "        MakeID,\n",
                "        MakeName,\n",
                "        MakeCountry,\n",
                "        ROW_NUMBER() OVER (PARTITION BY MakeID ORDER BY MakeID) AS RN\n",
                "    FROM [BackupData].[Make]\n",
                ")\n",
                "INSERT INTO [Data].[Make] (MakeID, MakeName, CountryId)\n",
                "SELECT \n",
                "    RM.MakeID,\n",
                "    COALESCE(LEFT(TRIM(RM.MakeName), 150), 'UNSPECIFIED'),\n",
                "    COALESCE(C.CountryId, 0)\n",
                "FROM RankedMakes RM\n",
                "LEFT JOIN [Data].[Country] C ON TRIM(RM.MakeCountry) = TRIM(C.CountryISO3)\n",
                "WHERE RM.RN = 1;\n",
                "\n",
                "SET IDENTITY_INSERT [Data].[Make] OFF;"
            ],
            "metadata": {
                "language": "sql",
                "azdata_cell_guid": "68864770-e72e-4ea3-8f97-ce8583388cd9"
            },
            "outputs": [
                {
                    "output_type": "display_data",
                    "data": {
                        "text/html": "(26 rows affected)"
                    },
                    "metadata": {}
                },
                {
                    "output_type": "display_data",
                    "data": {
                        "text/html": "Total execution time: 00:00:00.028"
                    },
                    "metadata": {}
                }
            ],
            "execution_count": 92
        },
        {
            "cell_type": "code",
            "source": [
                "USE [PrestigeCars]\n",
                "GO\n",
                "\n",
                "-- Drop foreign key constraints referencing [Data].[Model]\n",
                "ALTER TABLE [Data].[Stock] DROP CONSTRAINT IF EXISTS [FK_Stock_Model];\n",
                "GO\n",
                "\n",
                "-- Drop existing index on [Data].[Model] if it exists\n",
                "IF EXISTS (SELECT * FROM sys.indexes WHERE name = 'UniqueModelName_idx' AND object_id = OBJECT_ID('[Data].[Model]'))\n",
                "BEGIN\n",
                "    DROP INDEX [UniqueModelName_idx] ON [Data].[Model];\n",
                "END\n",
                "GO\n",
                "\n",
                "-- Drop the primary key constraint to allow truncation\n",
                "IF EXISTS (SELECT * FROM sys.indexes WHERE name = 'PK_Model' AND object_id = OBJECT_ID('[Data].[Model]'))\n",
                "BEGIN\n",
                "    ALTER TABLE [Data].[Model] DROP CONSTRAINT [PK_Model];\n",
                "END\n",
                "GO\n",
                "\n",
                "-- Truncate [Data].[Model] to start fresh\n",
                "TRUNCATE TABLE [Data].[Model];\n",
                "GO\n",
                "\n",
                "-- Recreate the primary key constraint\n",
                "ALTER TABLE [Data].[Model]\n",
                "ADD CONSTRAINT [PK_Model] PRIMARY KEY CLUSTERED ([ModelID] ASC);\n",
                "GO\n",
                "\n",
                "-- Set IDENTITY_INSERT ON for [Data].[Model]\n",
                "SET IDENTITY_INSERT [Data].[Model] ON;\n",
                "GO\n",
                "\n",
                "-- Insert data, handling duplicates in ModelID and ModelName/MakeID\n",
                "WITH RankedModels AS (\n",
                "    SELECT \n",
                "        ModelID,\n",
                "        MakeID,\n",
                "        ModelName,\n",
                "        ModelVariant,\n",
                "        YearFirstProduced,\n",
                "        YearLastProduced,\n",
                "        ROW_NUMBER() OVER (PARTITION BY ModelID ORDER BY ModelID) AS RN_ModelID,\n",
                "        ROW_NUMBER() OVER (PARTITION BY ModelName, MakeID ORDER BY ModelID) AS RN_ModelName_MakeID\n",
                "    FROM [BackupData].[Model]\n",
                ")\n",
                "INSERT INTO [Data].[Model] (ModelID, MakeID, ModelName, ModelVariant, YearFirstProduced, YearLastProduced)\n",
                "SELECT \n",
                "    RM.ModelID,\n",
                "    COALESCE(M.MakeID, 0),\n",
                "    COALESCE(LEFT(TRIM(RM.ModelName), 150), 'UNSPECIFIED'),\n",
                "    COALESCE(LEFT(TRIM(RM.ModelVariant), 150), 'Standard'),\n",
                "    COALESCE(LEFT(TRIM(RM.YearFirstProduced), 4), '1900'),\n",
                "    COALESCE(LEFT(TRIM(RM.YearLastProduced), 4), '1900')\n",
                "FROM RankedModels RM\n",
                "LEFT JOIN [Data].[Make] M ON RM.MakeID = M.MakeID\n",
                "WHERE RM.RN_ModelID = 1  -- Handle duplicates in ModelID\n",
                "  AND RM.RN_ModelName_MakeID = 1;  -- Handle duplicates in ModelName/MakeID\n",
                "GO\n",
                "\n",
                "-- Turn IDENTITY_INSERT OFF\n",
                "SET IDENTITY_INSERT [Data].[Model] OFF;\n",
                "GO\n",
                "\n",
                "-- Recreate the unique index\n",
                "CREATE UNIQUE NONCLUSTERED INDEX [UniqueModelName_idx] ON [Data].[Model]\n",
                "(\n",
                "    [ModelName] ASC,\n",
                "    [MakeID] ASC\n",
                ") WITH (PAD_INDEX = OFF, STATISTICS_NORECOMPUTE = OFF, SORT_IN_TEMPDB = OFF, IGNORE_DUP_KEY = OFF, DROP_EXISTING = OFF, ONLINE = OFF, ALLOW_ROW_LOCKS = ON, ALLOW_PAGE_LOCKS = ON, OPTIMIZE_FOR_SEQUENTIAL_KEY = OFF) ON [PRIMARY]\n",
                "GO\n",
                "\n",
                "-- Recreate the foreign key constraint\n",
                "ALTER TABLE [Data].[Stock] WITH CHECK ADD CONSTRAINT [FK_Stock_Model] FOREIGN KEY ([ModelID])\n",
                "REFERENCES [Data].[Model] ([ModelID]);\n",
                "GO\n",
                "\n",
                "ALTER TABLE [Data].[Stock] CHECK CONSTRAINT [FK_Stock_Model];\n",
                "GO"
            ],
            "metadata": {
                "language": "sql",
                "azdata_cell_guid": "12ff6cea-ae5d-45e0-94b1-64e9fdfc70e1"
            },
            "outputs": [
                {
                    "output_type": "display_data",
                    "data": {
                        "text/html": "Commands completed successfully."
                    },
                    "metadata": {}
                },
                {
                    "output_type": "display_data",
                    "data": {
                        "text/html": "Commands completed successfully."
                    },
                    "metadata": {}
                },
                {
                    "output_type": "display_data",
                    "data": {
                        "text/html": "Commands completed successfully."
                    },
                    "metadata": {}
                },
                {
                    "output_type": "display_data",
                    "data": {
                        "text/html": "Commands completed successfully."
                    },
                    "metadata": {}
                },
                {
                    "output_type": "display_data",
                    "data": {
                        "text/html": "Commands completed successfully."
                    },
                    "metadata": {}
                },
                {
                    "output_type": "display_data",
                    "data": {
                        "text/html": "Commands completed successfully."
                    },
                    "metadata": {}
                },
                {
                    "output_type": "display_data",
                    "data": {
                        "text/html": "Commands completed successfully."
                    },
                    "metadata": {}
                },
                {
                    "output_type": "display_data",
                    "data": {
                        "text/html": "(100 rows affected)"
                    },
                    "metadata": {}
                },
                {
                    "output_type": "display_data",
                    "data": {
                        "text/html": "Commands completed successfully."
                    },
                    "metadata": {}
                },
                {
                    "output_type": "display_data",
                    "data": {
                        "text/html": "Commands completed successfully."
                    },
                    "metadata": {}
                },
                {
                    "output_type": "display_data",
                    "data": {
                        "text/html": "Commands completed successfully."
                    },
                    "metadata": {}
                },
                {
                    "output_type": "display_data",
                    "data": {
                        "text/html": "Commands completed successfully."
                    },
                    "metadata": {}
                },
                {
                    "output_type": "display_data",
                    "data": {
                        "text/html": "Total execution time: 00:00:00.217"
                    },
                    "metadata": {}
                }
            ],
            "execution_count": 93
        },
        {
            "cell_type": "code",
            "source": [
                "USE [PrestigeCars]\n",
                "GO\n",
                "\n",
                "-- Insert data from backup, avoiding duplicate StockIDs and ensuring ModelID exists\n",
                "WITH RankedStock AS (\n",
                "    SELECT \n",
                "        StockID,\n",
                "        ModelID,\n",
                "        Cost,\n",
                "        RepairCost,\n",
                "        PartCost,\n",
                "        TransportCost,\n",
                "        IsRHD AS IsRightHandDrive, -- Map IsRHD to IsRightHandDrive\n",
                "        Color,\n",
                "        ROW_NUMBER() OVER (PARTITION BY StockID ORDER BY StockID) AS RN\n",
                "    FROM [BackupData].[Stock]\n",
                ")\n",
                "INSERT INTO [Data].[Stock] (\n",
                "    StockID,\n",
                "    ModelID,\n",
                "    Cost,\n",
                "    RepairCost,\n",
                "    PartCost,\n",
                "    TransportCost,\n",
                "    IsRightHandDrive,\n",
                "    Color\n",
                ")\n",
                "SELECT \n",
                "    COALESCE(NULLIF(LTRIM(RTRIM(RS.StockID)), ''), NEWID()),           -- Cleaned or generated StockID\n",
                "    RS.ModelID,                                                         -- Assumed valid due to INNER JOIN\n",
                "    COALESCE(RS.Cost, 0),\n",
                "    COALESCE(RS.RepairCost, 0),\n",
                "    COALESCE(RS.PartCost, 0),\n",
                "    COALESCE(RS.TransportCost, 0),\n",
                "    COALESCE(RS.IsRightHandDrive, 0),\n",
                "    COALESCE(LEFT(TRIM(RS.Color), 50), 'UNSPECIFIED')\n",
                "FROM RankedStock RS\n",
                "INNER JOIN [Data].[Model] M ON RS.ModelID = M.ModelID -- Ensures valid FK\n",
                "WHERE RS.RN = 1;\n",
                "GO\n",
                "\n",
                "-- Create the unique index on StockID\n",
                "CREATE UNIQUE NONCLUSTERED INDEX [UniqueStockID_idx] ON [Data].[Stock] (\n",
                "    [StockID] ASC\n",
                ") WITH (\n",
                "    PAD_INDEX = OFF, \n",
                "    STATISTICS_NORECOMPUTE = OFF, \n",
                "    SORT_IN_TEMPDB = OFF, \n",
                "    IGNORE_DUP_KEY = OFF, \n",
                "    DROP_EXISTING = OFF, \n",
                "    ONLINE = OFF, \n",
                "    ALLOW_ROW_LOCKS = ON, \n",
                "    ALLOW_PAGE_LOCKS = ON, \n",
                "    OPTIMIZE_FOR_SEQUENTIAL_KEY = OFF\n",
                ") ON [PRIMARY];\n",
                "GO"
            ],
            "metadata": {
                "language": "sql",
                "azdata_cell_guid": "e1c714f5-ab7f-46b6-9cc8-122ebdbbd11f",
                "tags": []
            },
            "outputs": [
                {
                    "output_type": "display_data",
                    "data": {
                        "text/html": "Commands completed successfully."
                    },
                    "metadata": {}
                },
                {
                    "output_type": "display_data",
                    "data": {
                        "text/html": "(391 rows affected)"
                    },
                    "metadata": {}
                },
                {
                    "output_type": "error",
                    "ename": "",
                    "evalue": "Msg 1913, Level 16, State 1, Line 43\nThe operation failed because an index or statistics with name 'UniqueStockID_idx' already exists on table 'Data.Stock'.",
                    "traceback": []
                },
                {
                    "output_type": "display_data",
                    "data": {
                        "text/html": "Total execution time: 00:00:00.064"
                    },
                    "metadata": {}
                }
            ],
            "execution_count": 112
        },
        {
            "cell_type": "code",
            "source": [
                "USE [PrestigeCars]\n",
                "GO\n",
                "\n",
                "-- Step 1: Drop and recreate [Data].[SaleDetail]\n",
                "IF OBJECT_ID('Data.SaleDetail') IS NOT NULL\n",
                "    DROP TABLE [Data].[SaleDetail];\n",
                "GO\n",
                "\n",
                "-- Step 2: Create table\n",
                "CREATE TABLE [Data].[SaleDetail]\n",
                "(\n",
                "    SaleDetailID [Udt].[SurrogateKeyInt] NOT NULL,\n",
                "    SaleID [Udt].[SurrogateKeyInt] NOT NULL,\n",
                "    LineItemNumber [Udt].[TinyIntType] NOT NULL,\n",
                "    StockID [Udt].[StockIDType] NOT NULL,\n",
                "    SalePrice [Udt].[MoneyType] NOT NULL,\n",
                "    LineItemDiscount [Udt].[MoneyType] NOT NULL,\n",
                "    DateBought [Udt].[DateType] NOT NULL,\n",
                "    TimeBought [Udt].[TimeType] NOT NULL,\n",
                "    CONSTRAINT [PK_SaleDetail] PRIMARY KEY CLUSTERED ([SaleDetailID] ASC),\n",
                "    CONSTRAINT [FK_SaleDetail_Sales] FOREIGN KEY ([SaleID]) REFERENCES [Data].[Sales] ([SaleID]),\n",
                "    CONSTRAINT [FK_SaleDetail_Stock] FOREIGN KEY ([StockID]) REFERENCES [Data].[Stock] ([StockID])\n",
                ");\n",
                "GO\n",
                "\n",
                "-- Step 3: Declare and insert default StockID (in same batch)\n",
                "DECLARE @DefaultStockID NVARCHAR(50) = CAST(NEWID() AS NVARCHAR(50));\n",
                "\n",
                "IF NOT EXISTS (SELECT 1 FROM [Data].[Stock] WHERE StockID = @DefaultStockID)\n",
                "BEGIN\n",
                "    INSERT INTO [Data].[Stock] (StockID, ModelID, Cost, RepairCost, PartCost, TransportCost, IsRightHandDrive, Color)\n",
                "    VALUES (@DefaultStockID, 0, 0, 0, 0, 0, 0, 'UNSPECIFIED');\n",
                "END;\n",
                "\n",
                "-- Step 4: Insert data into SaleDetail\n",
                ";WITH RankedSalesDetails AS (\n",
                "    SELECT \n",
                "        SaleDetailID,\n",
                "        SaleID,\n",
                "        LineItemNumber,\n",
                "        StockID,\n",
                "        SalePrice,\n",
                "        LineItemDiscount,\n",
                "        DateBought,\n",
                "        TimeBought,\n",
                "        ROW_NUMBER() OVER (PARTITION BY SaleDetailID ORDER BY SaleDetailID) AS RN\n",
                "    FROM [BackupData].[SaleDetail]\n",
                ")\n",
                "INSERT INTO [Data].[SaleDetail] (\n",
                "    SaleDetailID, SaleID, LineItemNumber, StockID, \n",
                "    SalePrice, LineItemDiscount, DateBought, TimeBought)\n",
                "SELECT \n",
                "    RS.SaleDetailID,\n",
                "    COALESCE(S.SaleID, 0),\n",
                "    COALESCE(RS.LineItemNumber, 0),\n",
                "    COALESCE(ST.StockID, @DefaultStockID),\n",
                "    COALESCE(RS.SalePrice, 0),\n",
                "    COALESCE(RS.LineItemDiscount, 0),\n",
                "    COALESCE(RS.DateBought, GETDATE()),\n",
                "    COALESCE(RS.TimeBought, '00:00:00')\n",
                "FROM RankedSalesDetails RS\n",
                "LEFT JOIN [Data].[Sales] S ON RS.SaleID = S.SaleID\n",
                "LEFT JOIN [Data].[Stock] ST ON LEFT(TRIM(RS.StockID), 50) = LEFT(TRIM(ST.StockID), 50)\n",
                "WHERE RS.RN = 1;\n",
                "GO\n",
                "\n",
                "-- Step 5: Drop and recreate index if necessary\n",
                "IF EXISTS (\n",
                "    SELECT * \n",
                "    FROM sys.indexes \n",
                "    WHERE name = 'UniqueSaleDetailID_idx' \n",
                "    AND object_id = OBJECT_ID('Data.SaleDetail')\n",
                ")\n",
                "DROP INDEX [UniqueSaleDetailID_idx] ON [Data].[SaleDetail];\n",
                "GO\n",
                "\n",
                "CREATE UNIQUE NONCLUSTERED INDEX [UniqueSaleDetailID_idx] ON [Data].[SaleDetail] ([SaleDetailID] ASC)\n",
                "WITH (\n",
                "    PAD_INDEX = OFF, STATISTICS_NORECOMPUTE = OFF, SORT_IN_TEMPDB = OFF,\n",
                "    IGNORE_DUP_KEY = OFF, DROP_EXISTING = OFF, ONLINE = OFF,\n",
                "    ALLOW_ROW_LOCKS = ON, ALLOW_PAGE_LOCKS = ON, OPTIMIZE_FOR_SEQUENTIAL_KEY = OFF\n",
                ") ON [PRIMARY];\n",
                "GO"
            ],
            "metadata": {
                "language": "sql",
                "azdata_cell_guid": "84703ab9-90dc-476f-96ce-588c54b04b5a"
            },
            "outputs": [
                {
                    "output_type": "display_data",
                    "data": {
                        "text/html": "Commands completed successfully."
                    },
                    "metadata": {}
                },
                {
                    "output_type": "display_data",
                    "data": {
                        "text/html": "Commands completed successfully."
                    },
                    "metadata": {}
                },
                {
                    "output_type": "display_data",
                    "data": {
                        "text/html": "Commands completed successfully."
                    },
                    "metadata": {}
                },
                {
                    "output_type": "display_data",
                    "data": {
                        "text/html": "(1 row affected)"
                    },
                    "metadata": {}
                },
                {
                    "output_type": "display_data",
                    "data": {
                        "text/html": "(351 rows affected)"
                    },
                    "metadata": {}
                },
                {
                    "output_type": "display_data",
                    "data": {
                        "text/html": "Commands completed successfully."
                    },
                    "metadata": {}
                },
                {
                    "output_type": "display_data",
                    "data": {
                        "text/html": "Commands completed successfully."
                    },
                    "metadata": {}
                },
                {
                    "output_type": "display_data",
                    "data": {
                        "text/html": "Total execution time: 00:00:00.332"
                    },
                    "metadata": {}
                }
            ],
            "execution_count": 129
        },
        {
            "cell_type": "code",
            "source": [
                "USE [PrestigeCars];\n",
                "GO\n",
                "\n",
                "-- Ensure default customer exists\n",
                "IF NOT EXISTS (SELECT 1 FROM [Data].[Customer] WHERE CustomerID = '00000')\n",
                "BEGIN\n",
                "    INSERT INTO [Data].[Customer] (CustomerID, CountryID, CustomerName)\n",
                "    VALUES ('00000', '000', 'UNKNOWN');\n",
                "END\n",
                "GO\n",
                "\n",
                "-- Drop existing FK on SaleDetail -> Sale (if present)\n",
                "IF EXISTS (\n",
                "    SELECT * FROM sys.foreign_keys \n",
                "    WHERE name = 'FK_SaleDetail_Sales' AND parent_object_id = OBJECT_ID('[Data].[SaleDetail]')\n",
                ")\n",
                "BEGIN\n",
                "    ALTER TABLE [Data].[SaleDetail] DROP CONSTRAINT [FK_SaleDetail_Sales];\n",
                "END\n",
                "GO\n",
                "\n",
                "-- Drop and recreate [Data].[Sale]\n",
                "IF OBJECT_ID('[Data].[Sale]', 'U') IS NOT NULL\n",
                "BEGIN\n",
                "    DROP TABLE [Data].[Sale];\n",
                "END\n",
                "GO\n",
                "\n",
                "CREATE TABLE [Data].[Sale]\n",
                "(\n",
                "    SaleID [Udt].[SurrogateKeyInt] NOT NULL,\n",
                "    CustomerID [Udt].[CustomerIDType] NOT NULL,\n",
                "    InvoiceNumber [Udt].[InvoiceNumberType] NOT NULL,\n",
                "    SaleTotal [Udt].[MoneyType] NOT NULL,\n",
                "    CONSTRAINT [PK_Sale] PRIMARY KEY CLUSTERED ([SaleID]),\n",
                "    CONSTRAINT [FK_Sales_Customer] FOREIGN KEY ([CustomerID]) REFERENCES [Data].[Customer] ([CustomerID])\n",
                ");\n",
                "GO\n",
                "\n",
                "-- Insert default sale\n",
                "IF NOT EXISTS (SELECT 1 FROM [Data].[Sale] WHERE SaleID = 0)\n",
                "BEGIN\n",
                "    INSERT INTO [Data].[Sale] (SaleID, CustomerID, InvoiceNumber, SaleTotal)\n",
                "    VALUES (0, '00000', '00000000', 0);\n",
                "END\n",
                "GO\n",
                "\n",
                "-- Insert deduplicated and validated sales from backup\n",
                "WITH RankedSales AS (\n",
                "    SELECT \n",
                "        SaleID,\n",
                "        CustomerID,\n",
                "        InvoiceNumber,\n",
                "        SaleTotal,\n",
                "        ROW_NUMBER() OVER (PARTITION BY SaleID ORDER BY SaleID) AS RN\n",
                "    FROM [BackupData].[Sale]\n",
                ")\n",
                "INSERT INTO [Data].[Sale] (SaleID, CustomerID, InvoiceNumber, SaleTotal)\n",
                "SELECT \n",
                "    RS.SaleID,\n",
                "    CASE \n",
                "        WHEN C.CustomerID IS NOT NULL THEN C.CustomerID \n",
                "        ELSE '00000' \n",
                "    END,\n",
                "    COALESCE(LEFT(TRIM(RS.InvoiceNumber), 8), '00000000'),\n",
                "    COALESCE(RS.SaleTotal, 0)\n",
                "FROM RankedSales RS\n",
                "LEFT JOIN [Data].[Customer] C ON LEFT(TRIM(RS.CustomerID), 5) = LEFT(TRIM(C.CustomerID), 5)\n",
                "WHERE RS.RN = 1;\n",
                "GO\n",
                "\n",
                "-- Recreate indexes\n",
                "IF EXISTS (SELECT * FROM sys.indexes WHERE name = 'UniqueSaleID_idx' AND object_id = OBJECT_ID('[Data].[Sale]'))\n",
                "BEGIN\n",
                "    DROP INDEX [UniqueSaleID_idx] ON [Data].[Sale];\n",
                "END\n",
                "\n",
                "CREATE UNIQUE NONCLUSTERED INDEX [UniqueSaleID_idx] ON [Data].[Sale] (SaleID);\n",
                "GO\n",
                "\n",
                "IF EXISTS (SELECT * FROM sys.indexes WHERE name = 'UniqueInvoiceNumber_idx' AND object_id = OBJECT_ID('[Data].[Sale]'))\n",
                "BEGIN\n",
                "    DROP INDEX [UniqueInvoiceNumber_idx] ON [Data].[Sale];\n",
                "END\n",
                "\n",
                "CREATE UNIQUE NONCLUSTERED INDEX [UniqueInvoiceNumber_idx] ON [Data].[Sale] (InvoiceNumber);\n",
                "GO\n",
                "\n",
                "-- Recreate FK constraint (only after successful insert)\n",
                "ALTER TABLE [Data].[SaleDetail] WITH CHECK \n",
                "ADD CONSTRAINT [FK_SaleDetail_Sales] FOREIGN KEY ([SaleID]) REFERENCES [Data].[Sale] ([SaleID]);\n",
                "\n",
                "ALTER TABLE [Data].[SaleDetail] CHECK CONSTRAINT [FK_SaleDetail_Sales];\n",
                "GO"
            ],
            "metadata": {
                "language": "sql",
                "azdata_cell_guid": "5939783b-2d72-41e7-9769-95caf0cdac26",
                "tags": []
            },
            "outputs": [
                {
                    "output_type": "display_data",
                    "data": {
                        "text/html": "Commands completed successfully."
                    },
                    "metadata": {}
                },
                {
                    "output_type": "display_data",
                    "data": {
                        "text/html": "(1 row affected)"
                    },
                    "metadata": {}
                },
                {
                    "output_type": "display_data",
                    "data": {
                        "text/html": "Commands completed successfully."
                    },
                    "metadata": {}
                },
                {
                    "output_type": "display_data",
                    "data": {
                        "text/html": "Commands completed successfully."
                    },
                    "metadata": {}
                },
                {
                    "output_type": "display_data",
                    "data": {
                        "text/html": "Commands completed successfully."
                    },
                    "metadata": {}
                },
                {
                    "output_type": "display_data",
                    "data": {
                        "text/html": "(1 row affected)"
                    },
                    "metadata": {}
                },
                {
                    "output_type": "display_data",
                    "data": {
                        "text/html": "(324 rows affected)"
                    },
                    "metadata": {}
                },
                {
                    "output_type": "display_data",
                    "data": {
                        "text/html": "Commands completed successfully."
                    },
                    "metadata": {}
                },
                {
                    "output_type": "display_data",
                    "data": {
                        "text/html": "Commands completed successfully."
                    },
                    "metadata": {}
                },
                {
                    "output_type": "display_data",
                    "data": {
                        "text/html": "Commands completed successfully."
                    },
                    "metadata": {}
                },
                {
                    "output_type": "display_data",
                    "data": {
                        "text/html": "Total execution time: 00:00:00.238"
                    },
                    "metadata": {}
                }
            ],
            "execution_count": 128
        },
        {
            "cell_type": "code",
            "source": [
                "-- okay turn datatransfer.sales2015 into a view\n",
                "\n",
                "CREATE FUNCTION [DataTransfer].[GetSalesByYear]\n",
                "(\n",
                "    @Year INT\n",
                ")\n",
                "RETURNS TABLE\n",
                "AS\n",
                "RETURN\n",
                "(\n",
                "    SELECT *, 2015 AS SalesYear FROM [DataTransfer].[Sales2015] WHERE @Year = 2015\n",
                "    UNION ALL\n",
                "    SELECT *, 2016 AS SalesYear FROM [DataTransfer].[Sales2016] WHERE @Year = 2016\n",
                "    UNION ALL\n",
                "    SELECT *, 2017 AS SalesYear FROM [DataTransfer].[Sales2017] WHERE @Year = 2017\n",
                "    UNION ALL\n",
                "    SELECT *, 2018 AS SalesYear FROM [DataTransfer].[Sales2018] WHERE @Year = 2018\n",
                ");\n",
                ""
            ],
            "metadata": {
                "language": "sql",
                "azdata_cell_guid": "a121b996-4404-4c86-9a7f-503fd4f354ee"
            },
            "outputs": [
                {
                    "output_type": "display_data",
                    "data": {
                        "text/html": "Commands completed successfully."
                    },
                    "metadata": {}
                },
                {
                    "output_type": "display_data",
                    "data": {
                        "text/html": "Total execution time: 00:00:00.041"
                    },
                    "metadata": {}
                }
            ],
            "execution_count": 130
        },
        {
            "cell_type": "code",
            "source": [
                "-- turn pivot table into a view\n",
                "CREATE VIEW [Data].[ColorSalesByYear]\n",
                "AS\n",
                "SELECT \n",
                "    s.Color,\n",
                "    SUM(CASE WHEN YEAR(sd.DateBought) = 2015 THEN sd.SalePrice ELSE 0 END) AS [2015],\n",
                "    SUM(CASE WHEN YEAR(sd.DateBought) = 2016 THEN sd.SalePrice ELSE 0 END) AS [2016],\n",
                "    SUM(CASE WHEN YEAR(sd.DateBought) = 2017 THEN sd.SalePrice ELSE 0 END) AS [2017],\n",
                "    SUM(CASE WHEN YEAR(sd.DateBought) = 2018 THEN sd.SalePrice ELSE 0 END) AS [2018]\n",
                "FROM [Data].[SaleDetail] sd\n",
                "INNER JOIN [Data].[Stock] s ON sd.StockID = s.StockID\n",
                "GROUP BY s.Color;"
            ],
            "metadata": {
                "language": "sql",
                "azdata_cell_guid": "d23b13ab-293f-468e-bff3-db60e2d45b42"
            },
            "outputs": [
                {
                    "output_type": "display_data",
                    "data": {
                        "text/html": "Commands completed successfully."
                    },
                    "metadata": {}
                },
                {
                    "output_type": "display_data",
                    "data": {
                        "text/html": "Total execution time: 00:00:00.028"
                    },
                    "metadata": {}
                }
            ],
            "execution_count": 131
        },
        {
            "cell_type": "code",
            "source": [
                "-- flatten script for reference \n",
                "\n",
                "SET ANSI_NULLS ON\n",
                "GO\n",
                "SET QUOTED_IDENTIFIER ON\n",
                "GO\n",
                "\n",
                "-- =============================================\n",
                "-- Author:        Jaskaran Bains\n",
                "-- Create date:   2025-05-20\n",
                "-- Description:   Creates a full backup of all tables in the [Reference] schema into [BackupReference]\n",
                "-- Object type:   Stored Procedure\n",
                "-- Usage:         EXEC [BackupReference].[BackupReferenceSchema] @UserAuthorizationKey = 1;\n",
                "-- =============================================\n",
                "CREATE PROCEDURE [BackupReference].[BackupReferenceSchema]\n",
                "    @UserAuthorizationKey INT\n",
                "AS\n",
                "BEGIN\n",
                "    SET NOCOUNT ON;\n",
                "\n",
                "    DECLARE @StartTime DATETIME2 = SYSDATETIME();\n",
                "\n",
                "    -- Create BackupReference schema if not exists\n",
                "    IF NOT EXISTS (SELECT * FROM sys.schemas WHERE name = 'BackupReference')\n",
                "    BEGIN\n",
                "        EXEC('CREATE SCHEMA BackupReference');\n",
                "    END\n",
                "\n",
                "    -- Backup each Reference table\n",
                "    SELECT * INTO [BackupReference].[Budget] FROM [Reference].[Budget];\n",
                "    SELECT * INTO [BackupReference].[Forex] FROM [Reference].[Forex];\n",
                "    SELECT * INTO [BackupReference].[MarketingCategories] FROM [Reference].[MarketingCategories];\n",
                "    SELECT * INTO [BackupReference].[MarketingInformation] FROM [Reference].[MarketingInformation];\n",
                "    SELECT * INTO [BackupReference].[SalesBudgets] FROM [Reference].[SalesBudgets];\n",
                "    SELECT * INTO [BackupReference].[SalesCategory] FROM [Reference].[SalesCategory];\n",
                "    SELECT * INTO [BackupReference].[Staff] FROM [Reference].[Staff];\n",
                "    SELECT * INTO [BackupReference].[StaffHierarchy] FROM [Reference].[StaffHierarchy];\n",
                "    SELECT * INTO [BackupReference].[YearlySales] FROM [Reference].[YearlySales];\n",
                "\n",
                "    -- Log row count for the last insert (or modify if you want to count all)\n",
                "    DECLARE @WorkFlowStepTableRowCount INT = @@ROWCOUNT;\n",
                "\n",
                "    -- Log to workflow tracker\n",
                "    EXEC [Group1].[TrackWorkFlow]\n",
                "        @StartTime = @StartTime,\n",
                "        @WorkFlowDescription = 'Backed up all of [Reference] to [BackupReference]',\n",
                "        @WorkFlowStepTableRowCount = @WorkFlowStepTableRowCount,\n",
                "        @UserAuthorizationKey = @UserAuthorizationKey;\n",
                "\n",
                "END;\n",
                "GO\n",
                "\n",
                ""
            ],
            "metadata": {
                "language": "sql",
                "azdata_cell_guid": "dc45c8a8-3c41-4c15-8356-70c31390b6fa"
            },
            "outputs": [
                {
                    "output_type": "display_data",
                    "data": {
                        "text/html": "Commands completed successfully."
                    },
                    "metadata": {}
                },
                {
                    "output_type": "display_data",
                    "data": {
                        "text/html": "Commands completed successfully."
                    },
                    "metadata": {}
                },
                {
                    "output_type": "display_data",
                    "data": {
                        "text/html": "Commands completed successfully."
                    },
                    "metadata": {}
                },
                {
                    "output_type": "display_data",
                    "data": {
                        "text/html": "Total execution time: 00:00:00.046"
                    },
                    "metadata": {}
                }
            ],
            "execution_count": 133
        },
        {
            "cell_type": "code",
            "source": [
                "--complete truncation and or table dropping script for reference \n",
                "USE [PrestigeCars];\n",
                "GO\n",
                "\n",
                "-- Drop Reference tables in the correct dependency order (child to parent if needed)\n",
                "IF OBJECT_ID('[Reference].[YearlySales]', 'U') IS NOT NULL\n",
                "    DROP TABLE [Reference].[YearlySales];\n",
                "GO\n",
                "\n",
                "IF OBJECT_ID('[Reference].[StaffHierarchy]', 'U') IS NOT NULL\n",
                "    DROP TABLE [Reference].[StaffHierarchy];\n",
                "GO\n",
                "\n",
                "IF OBJECT_ID('[Reference].[Staff]', 'U') IS NOT NULL\n",
                "    DROP TABLE [Reference].[Staff];\n",
                "GO\n",
                "\n",
                "IF OBJECT_ID('[Reference].[SalesCategory]', 'U') IS NOT NULL\n",
                "    DROP TABLE [Reference].[SalesCategory];\n",
                "GO\n",
                "\n",
                "IF OBJECT_ID('[Reference].[SalesBudgets]', 'U') IS NOT NULL\n",
                "    DROP TABLE [Reference].[SalesBudgets];\n",
                "GO\n",
                "\n",
                "IF OBJECT_ID('[Reference].[MarketingInformation]', 'U') IS NOT NULL\n",
                "    DROP TABLE [Reference].[MarketingInformation];\n",
                "GO\n",
                "\n",
                "IF OBJECT_ID('[Reference].[MarketingCategories]', 'U') IS NOT NULL\n",
                "    DROP TABLE [Reference].[MarketingCategories];\n",
                "GO\n",
                "\n",
                "IF OBJECT_ID('[Reference].[Forex]', 'U') IS NOT NULL\n",
                "    DROP TABLE [Reference].[Forex];\n",
                "GO\n",
                "\n",
                "IF OBJECT_ID('[Reference].[Budget]', 'U') IS NOT NULL\n",
                "    DROP TABLE [Reference].[Budget];\n",
                "GO\n",
                ""
            ],
            "metadata": {
                "language": "sql",
                "azdata_cell_guid": "466bdd48-b10d-41b1-b2cf-2fef792cb25f",
                "tags": []
            },
            "outputs": [
                {
                    "output_type": "display_data",
                    "data": {
                        "text/html": "Commands completed successfully."
                    },
                    "metadata": {}
                },
                {
                    "output_type": "display_data",
                    "data": {
                        "text/html": "Commands completed successfully."
                    },
                    "metadata": {}
                },
                {
                    "output_type": "display_data",
                    "data": {
                        "text/html": "Commands completed successfully."
                    },
                    "metadata": {}
                },
                {
                    "output_type": "display_data",
                    "data": {
                        "text/html": "Commands completed successfully."
                    },
                    "metadata": {}
                },
                {
                    "output_type": "display_data",
                    "data": {
                        "text/html": "Commands completed successfully."
                    },
                    "metadata": {}
                },
                {
                    "output_type": "display_data",
                    "data": {
                        "text/html": "Commands completed successfully."
                    },
                    "metadata": {}
                },
                {
                    "output_type": "display_data",
                    "data": {
                        "text/html": "Commands completed successfully."
                    },
                    "metadata": {}
                },
                {
                    "output_type": "display_data",
                    "data": {
                        "text/html": "Commands completed successfully."
                    },
                    "metadata": {}
                },
                {
                    "output_type": "display_data",
                    "data": {
                        "text/html": "Commands completed successfully."
                    },
                    "metadata": {}
                },
                {
                    "output_type": "display_data",
                    "data": {
                        "text/html": "Commands completed successfully."
                    },
                    "metadata": {}
                },
                {
                    "output_type": "display_data",
                    "data": {
                        "text/html": "Total execution time: 00:00:00.023"
                    },
                    "metadata": {}
                }
            ],
            "execution_count": 136
        },
        {
            "cell_type": "code",
            "source": [
                "-- turn all of refrence into views\n",
                "USE [PrestigeCars];\n",
                "GO\n",
                "\n",
                "-- Budget\n",
                "CREATE VIEW [Reference].[Budget]\n",
                "AS\n",
                "SELECT * FROM [BackupReference].[Budget];\n",
                "GO\n",
                "\n",
                "-- Forex\n",
                "CREATE VIEW [Reference].[Forex]\n",
                "AS\n",
                "SELECT * FROM [BackupReference].[Forex];\n",
                "GO\n",
                "\n",
                "-- MarketingCategories\n",
                "CREATE VIEW [Reference].[MarketingCategories]\n",
                "AS\n",
                "SELECT * FROM [BackupReference].[MarketingCategories];\n",
                "GO\n",
                "\n",
                "-- MarketingInformation\n",
                "CREATE VIEW [Reference].[MarketingInformation]\n",
                "AS\n",
                "SELECT * FROM [BackupReference].[MarketingInformation];\n",
                "GO\n",
                "\n",
                "-- SalesBudgets\n",
                "CREATE VIEW [Reference].[SalesBudgets]\n",
                "AS\n",
                "SELECT * FROM [BackupReference].[SalesBudgets];\n",
                "GO\n",
                "\n",
                "-- SalesCategory\n",
                "CREATE VIEW [Reference].[SalesCategory]\n",
                "AS\n",
                "SELECT * FROM [BackupReference].[SalesCategory];\n",
                "GO\n",
                "\n",
                "-- Staff\n",
                "CREATE VIEW [Reference].[Staff]\n",
                "AS\n",
                "SELECT * FROM [BackupReference].[Staff];\n",
                "GO\n",
                "\n",
                "-- StaffHierarchy\n",
                "CREATE VIEW [Reference].[StaffHierarchy]\n",
                "AS\n",
                "SELECT * FROM [BackupReference].[StaffHierarchy];\n",
                "GO\n",
                "\n",
                "-- YearlySales\n",
                "CREATE VIEW [Reference].[YearlySales]\n",
                "AS\n",
                "SELECT * FROM [BackupReference].[YearlySales];\n",
                "GO"
            ],
            "metadata": {
                "language": "sql",
                "azdata_cell_guid": "68972927-b496-4dd5-9527-377481030d31"
            },
            "outputs": [
                {
                    "output_type": "display_data",
                    "data": {
                        "text/html": "Commands completed successfully."
                    },
                    "metadata": {}
                },
                {
                    "output_type": "display_data",
                    "data": {
                        "text/html": "Commands completed successfully."
                    },
                    "metadata": {}
                },
                {
                    "output_type": "display_data",
                    "data": {
                        "text/html": "Commands completed successfully."
                    },
                    "metadata": {}
                },
                {
                    "output_type": "display_data",
                    "data": {
                        "text/html": "Commands completed successfully."
                    },
                    "metadata": {}
                },
                {
                    "output_type": "display_data",
                    "data": {
                        "text/html": "Commands completed successfully."
                    },
                    "metadata": {}
                },
                {
                    "output_type": "display_data",
                    "data": {
                        "text/html": "Commands completed successfully."
                    },
                    "metadata": {}
                },
                {
                    "output_type": "display_data",
                    "data": {
                        "text/html": "Commands completed successfully."
                    },
                    "metadata": {}
                },
                {
                    "output_type": "display_data",
                    "data": {
                        "text/html": "Commands completed successfully."
                    },
                    "metadata": {}
                },
                {
                    "output_type": "display_data",
                    "data": {
                        "text/html": "Commands completed successfully."
                    },
                    "metadata": {}
                },
                {
                    "output_type": "display_data",
                    "data": {
                        "text/html": "Commands completed successfully."
                    },
                    "metadata": {}
                },
                {
                    "output_type": "display_data",
                    "data": {
                        "text/html": "Total execution time: 00:00:00.070"
                    },
                    "metadata": {}
                }
            ],
            "execution_count": 137
        }
    ]
}