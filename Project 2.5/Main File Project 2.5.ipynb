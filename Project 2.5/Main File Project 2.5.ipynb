{
    "metadata": {
        "kernelspec": {
            "name": "SQL",
            "display_name": "SQL",
            "language": "sql"
        },
        "language_info": {
            "name": "sql",
            "version": ""
        }
    },
    "nbformat_minor": 2,
    "nbformat": 4,
    "cells": [
        {
            "cell_type": "markdown",
            "source": [
                "**Project 2.5 Group 1**   \n",
                "Big Collection of procedures code and notes"
            ],
            "metadata": {
                "azdata_cell_guid": "9c662d19-c53b-4e7e-b35b-247690794d97"
            },
            "attachments": {}
        },
        {
            "cell_type": "markdown",
            "source": [
                "**HEADING**"
            ],
            "metadata": {
                "azdata_cell_guid": "87090ea6-27ae-460f-ab90-fbc80c4d0d0c"
            },
            "attachments": {}
        },
        {
            "cell_type": "code",
            "source": [
                "-- =============================================\n",
                "-- Author:        Jaskaran Bains\n",
                "-- Create date:   2025-05-03\n",
                "-- Description:   [Creates schema to place the backup of Data schema]\n",
                "-- Object type:   [Single Line Query]\n",
                "-- Usage:         [Call before running the backing up stored procedure]\n",
                "-- Parameters:    [N/A]\n",
                "-- Change History:\n",
                "--   YYYY-MM-DD   Jaskaran Bains   Initial creation\n",
                "-- =============================================\n",
                "CREATE SCHEMA BackupData;"
            ],
            "metadata": {
                "azdata_cell_guid": "d7fe880a-6107-4931-9d7e-4391f53c0fc2",
                "language": "sql"
            },
            "outputs": [],
            "execution_count": null
        },
        {
            "cell_type": "code",
            "source": [
                "-- =============================================\n",
                "-- Author:        Jaskaran Bains\n",
                "-- Create date:   2025-05-03\n",
                "-- Description:   Creates a full backup of all tables in the [Data] schema into [BackupData] schema\n",
                "-- Object type:   Stored Procedure\n",
                "-- Usage:         EXEC [BackupData].[BackupDataSchema] @UserAuthorizationKey = 1;\n",
                "-- Parameters:    @UserAuthorizationKey INT\n",
                "-- Change History:\n",
                "--   2025-05-03   Your Full Name   Initial creation\n",
                "-- =============================================\n",
                "\n",
                "CREATE PROCEDURE [BackupData].[BackupDataSchema]\n",
                "    @UserAuthorizationKey INT\n",
                "AS\n",
                "BEGIN\n",
                "    SET NOCOUNT ON;\n",
                "\n",
                "    DECLARE @StartTime DATETIME2 = SYSDATETIME();\n",
                "\n",
                "    -- Backup Country\n",
                "    SELECT * INTO [BackupData].[Country]\n",
                "    FROM [Data].[Country];\n",
                "\n",
                "    EXEC sp_rename 'BackupData.Country.SalesRegion', 'SaleRegion', 'COLUMN';\n",
                "    ALTER TABLE [BackupData].[Country]\n",
                "    DROP COLUMN CountryFlag, FlagFileName, FlagFileType;\n",
                "\n",
                "    -- Backup Customer\n",
                "    SELECT * INTO [BackupData].[Customer]\n",
                "    FROM [Data].[Customer];\n",
                "\n",
                "    EXEC sp_rename 'BackupData.Customer.PostCode', 'PostalCode', 'COLUMN';\n",
                "\n",
                "    -- Backup Make\n",
                "    SELECT * INTO [BackupData].[Make]\n",
                "    FROM [Data].[Make];\n",
                "\n",
                "    -- Backup Model\n",
                "    SELECT * INTO [BackupData].[Model]\n",
                "    FROM [Data].[Model];\n",
                "\n",
                "    -- Backup Sale\n",
                "    SELECT * INTO [BackupData].[Sale]\n",
                "    FROM [Data].[Sales];\n",
                "\n",
                "    EXEC sp_rename 'BackupData.Sale.SalesID', 'SaleID', 'COLUMN';\n",
                "    EXEC sp_rename 'BackupData.Sale.TotalSalePrice', 'SaleTotal', 'COLUMN';\n",
                "    ALTER TABLE [BackupData].[Sale]\n",
                "    DROP COLUMN ID, SaleDate;\n",
                "\n",
                "    -- Backup SaleDetail\n",
                "    SELECT * INTO [BackupData].[SaleDetail]\n",
                "    FROM [Data].[SalesDetails];\n",
                "\n",
                "    EXEC sp_rename 'BackupData.SaleDetail.SalesDetailsID', 'SaleDetailID', 'COLUMN';\n",
                "    EXEC sp_rename 'BackupData.SaleDetail.SalesID', 'SaleID', 'COLUMN';\n",
                "\n",
                "    ALTER TABLE [BackupData].[SaleDetail]\n",
                "    ADD DateBought DATE, TimeBought TIME;\n",
                "\n",
                "    UPDATE sd\n",
                "    SET \n",
                "        sd.DateBought = s.DateBought,\n",
                "        sd.TimeBought = s.TimeBought\n",
                "    FROM [BackupData].[SaleDetail] sd\n",
                "    JOIN [Data].[Stock] s ON sd.StockID = s.StockCode;\n",
                "\n",
                "    -- Backup Stock\n",
                "    SELECT * INTO [BackupData].[Stock]\n",
                "    FROM [Data].[Stock];\n",
                "\n",
                "    EXEC sp_rename 'BackupData.Stock.StockCode', 'StockID', 'COLUMN';\n",
                "    EXEC sp_rename 'BackupData.Stock.RepairsCost', 'RepairCost', 'COLUMN';\n",
                "    EXEC sp_rename 'BackupData.Stock.PartsCost', 'PartCost', 'COLUMN';\n",
                "    EXEC sp_rename 'BackupData.Stock.TransportInCost', 'TransportCost', 'COLUMN';\n",
                "    EXEC sp_rename 'BackupData.Stock.BuyerComments', 'BuyerComment', 'COLUMN';\n",
                "\n",
                "    -- You can log workflow metadata here if needed\n",
                "    -- Example: INSERT INTO [Audit].[Workflows] (...) VALUES (...)\n",
                "\n",
                "END;"
            ],
            "metadata": {
                "azdata_cell_guid": "acc41aa1-1001-42c9-9339-43da33cfb364",
                "language": "sql"
            },
            "outputs": [
                {
                    "output_type": "display_data",
                    "data": {
                        "text/html": "Commands completed successfully."
                    },
                    "metadata": {}
                },
                {
                    "output_type": "display_data",
                    "data": {
                        "text/html": "Total execution time: 00:00:00.014"
                    },
                    "metadata": {}
                }
            ],
            "execution_count": 1
        },
        {
            "cell_type": "code",
            "source": [
                "-- =============================================\n",
                "-- Author:        Jaskaran Bains\n",
                "-- Create date:   2025-05-03\n",
                "-- Description:   [Creates a copy of the schema Data]\n",
                "-- Object type:   [Stored Procedure]\n",
                "-- Usage:         [Call to make a copy of the schema Data pre truncation]\n",
                "-- Parameters:    [@UserAuthorizationKey INT]\n",
                "-- Change History:\n",
                "--   YYYY-MM-DD   Jaskaran Bains   Initial creation\n",
                "-- =============================================\n",
                "\n",
                ""
            ],
            "metadata": {
                "azdata_cell_guid": "f83de15d-5a2a-4a19-944e-eb844ef0ebb7",
                "language": "sql"
            },
            "outputs": [],
            "execution_count": null
        },
        {
            "cell_type": "code",
            "source": [
                "-- process track work flows (create table + create procedure)"
            ],
            "metadata": {
                "language": "sql",
                "azdata_cell_guid": "dbfdf04e-c060-45b9-9b6a-6de00d960479"
            },
            "outputs": [],
            "execution_count": null
        },
        {
            "cell_type": "code",
            "source": [
                "-- Truncation ocde"
            ],
            "metadata": {
                "language": "sql",
                "azdata_cell_guid": "8b9e0972-c64a-4f54-9c07-e2b826916ba8"
            },
            "outputs": [],
            "execution_count": null
        },
        {
            "cell_type": "markdown",
            "source": [
                "Sabir Code stuff:"
            ],
            "metadata": {
                "language": "sql",
                "azdata_cell_guid": "d0d32fc6-7ddd-4ae2-82fd-ca6c9c4ce0fb"
            },
            "attachments": {}
        },
        {
            "cell_type": "code",
            "source": [
                "-- =============================================\n",
                "-- Author:        FIRSTNAME LASTNAME\n",
                "-- Create date:   2025-05-03\n",
                "-- Description:   [WHAT DOES THIS DO]\n",
                "-- Object type:   [PICK 1 (what is this?): Stored Procedure | Function | View | Table | Trigger]\n",
                "-- Usage:         [How or where to call this]\n",
                "-- Parameters:    [@UserAuthorizationKey INT + others]\n",
                "-- Change History:\n",
                "--   YYYY-MM-DD   FIRSTNAME LASTNAME   Initial creation\n",
                "--   YYYY-MM-DD   [Your Name]   [Description of change]\n",
                "-- ============================================="
            ],
            "metadata": {
                "language": "sql",
                "azdata_cell_guid": "3ab57655-cd7f-42fd-a259-27b637e5e7e4"
            },
            "outputs": [],
            "execution_count": null
        },
        {
            "cell_type": "markdown",
            "source": [
                "David Code stuff:"
            ],
            "metadata": {
                "language": "sql",
                "azdata_cell_guid": "0610b5dc-9b33-443f-8b79-005ddaabd323"
            },
            "attachments": {}
        },
        {
            "cell_type": "code",
            "source": [
                "-- =============================================\n",
                "-- Author:        FIRSTNAME LASTNAME\n",
                "-- Create date:   2025-05-03\n",
                "-- Description:   [WHAT DOES THIS DO]\n",
                "-- Object type:   [PICK 1 (what is this?): Stored Procedure | Function | View | Table | Trigger]\n",
                "-- Usage:         [How or where to call this]\n",
                "-- Parameters:    [@UserAuthorizationKey INT + others]\n",
                "-- Change History:\n",
                "--   YYYY-MM-DD   FIRSTNAME LASTNAME   Initial creation\n",
                "--   YYYY-MM-DD   [Your Name]   [Description of change]\n",
                "-- ============================================="
            ],
            "metadata": {
                "language": "sql",
                "azdata_cell_guid": "d0d776e8-8c97-4e09-848d-7e05d5e2c33c"
            },
            "outputs": [],
            "execution_count": null
        },
        {
            "cell_type": "markdown",
            "source": [
                "Zhian Code stuff:"
            ],
            "metadata": {
                "language": "sql",
                "azdata_cell_guid": "04b56a67-5b1a-4555-ad68-3d8791a7a5d6"
            },
            "attachments": {}
        },
        {
            "cell_type": "code",
            "source": [
                "-- =============================================\n",
                "-- Author:        FIRSTNAME LASTNAME\n",
                "-- Create date:   2025-05-03\n",
                "-- Description:   [WHAT DOES THIS DO]\n",
                "-- Object type:   [PICK 1 (what is this?): Stored Procedure | Function | View | Table | Trigger]\n",
                "-- Usage:         [How or where to call this]\n",
                "-- Parameters:    [@UserAuthorizationKey INT + others]\n",
                "-- Change History:\n",
                "--   YYYY-MM-DD   FIRSTNAME LASTNAME   Initial creation\n",
                "--   YYYY-MM-DD   [Your Name]   [Description of change]\n",
                "-- ============================================="
            ],
            "metadata": {
                "language": "sql",
                "azdata_cell_guid": "952cb473-1c9c-4752-a216-230a535dceeb"
            },
            "outputs": [],
            "execution_count": null
        },
        {
            "cell_type": "markdown",
            "source": [
                "Bryan Code Stuff:"
            ],
            "metadata": {
                "language": "sql",
                "azdata_cell_guid": "abd9ae65-e8b6-4ad6-af32-393dceb233b1"
            },
            "attachments": {}
        },
        {
            "cell_type": "code",
            "source": [
                "-- =============================================\n",
                "-- Author:        FIRSTNAME LASTNAME\n",
                "-- Create date:   2025-05-03\n",
                "-- Description:   [WHAT DOES THIS DO]\n",
                "-- Object type:   [PICK 1 (what is this?): Stored Procedure | Function | View | Table | Trigger]\n",
                "-- Usage:         [How or where to call this]\n",
                "-- Parameters:    [@UserAuthorizationKey INT + others]\n",
                "-- Change History:\n",
                "--   YYYY-MM-DD   FIRSTNAME LASTNAME   Initial creation\n",
                "--   YYYY-MM-DD   [Your Name]   [Description of change]\n",
                "-- ============================================="
            ],
            "metadata": {
                "language": "sql",
                "azdata_cell_guid": "599f3150-686a-4afd-8ed6-e166a86dcd16"
            },
            "outputs": [],
            "execution_count": null
        },
        {
            "cell_type": "markdown",
            "source": [
                "Zheng Code stuff:"
            ],
            "metadata": {
                "language": "sql",
                "azdata_cell_guid": "bf7181bd-73f0-4c75-a6eb-16d3d4e214da"
            },
            "attachments": {}
        },
        {
            "cell_type": "code",
            "source": [
                "-- =============================================\n",
                "-- Author:        FIRSTNAME LASTNAME\n",
                "-- Create date:   2025-05-03\n",
                "-- Description:   [WHAT DOES THIS DO]\n",
                "-- Object type:   [PICK 1 (what is this?): Stored Procedure | Function | View | Table | Trigger]\n",
                "-- Usage:         [How or where to call this]\n",
                "-- Parameters:    [@UserAuthorizationKey INT + others]\n",
                "-- Change History:\n",
                "--   YYYY-MM-DD   FIRSTNAME LASTNAME   Initial creation\n",
                "--   YYYY-MM-DD   [Your Name]   [Description of change]\n",
                "-- ============================================="
            ],
            "metadata": {
                "language": "sql",
                "azdata_cell_guid": "f802442c-3ed2-4309-af0d-2dc9ee287c96"
            },
            "outputs": [],
            "execution_count": null
        }
    ]
}