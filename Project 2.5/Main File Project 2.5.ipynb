{
    "metadata": {
        "kernelspec": {
            "name": "SQL",
            "display_name": "SQL",
            "language": "sql"
        },
        "language_info": {
            "name": "sql",
            "version": ""
        }
    },
    "nbformat_minor": 2,
    "nbformat": 4,
    "cells": [
        {
            "cell_type": "markdown",
            "source": [
                "**Project 2.5 Group 1**   \n",
                "Big Collection of procedures code and notes"
            ],
            "metadata": {
                "azdata_cell_guid": "9c662d19-c53b-4e7e-b35b-247690794d97"
            },
            "attachments": {}
        },
        {
            "cell_type": "markdown",
            "source": [
                "**HEADING**"
            ],
            "metadata": {
                "azdata_cell_guid": "87090ea6-27ae-460f-ab90-fbc80c4d0d0c"
            },
            "attachments": {}
        },
        {
            "cell_type": "code",
            "source": [
                "-- =============================================\n",
                "-- Author:        FIRSTNAME LASTNAME\n",
                "-- Create date:   2025-05-03\n",
                "-- Description:   [WHAT DOES THIS DO]\n",
                "-- Object type:   [PICK 1 (what is this?): Stored Procedure | Function | View | Table | Trigger]\n",
                "-- Usage:         [How or where to call this]\n",
                "-- Parameters:    [@UserAuthorizationKey INT + others]\n",
                "-- Change History:\n",
                "--   YYYY-MM-DD   FIRSTNAME LASTNAME   Initial creation\n",
                "--   YYYY-MM-DD   [Your Name]   [Description of change]\n",
                "-- =============================================\n",
                "\n",
                "CREATE PROCEDURE [Data].[LoadWHATEVER_YOUR_TABLE_IS]\n",
                "@UserAuthorizationKey INT -- To log who executed this it will be your own key number\n",
                "AS\n",
                "BEGIN\n",
                "    SET NOCOUNT ON;\n",
                "    DECLARE @StartTime DATETIME2 = SYSDATETIME();\n",
                "\n",
                "\n",
                "-- INSERT ALL OF YOUR CODE LOGIC HERE \n",
                "\n",
                "\n",
                "@StartTime DATETIME2,\n",
                "@WorkFlowDescription NVARCHAR(100),\n",
                "@WorkFlowStepTableRowCount int,\n",
                "@ UserAuthorizationKey int"
            ],
            "metadata": {
                "azdata_cell_guid": "acc41aa1-1001-42c9-9339-43da33cfb364",
                "language": "sql"
            },
            "outputs": [],
            "execution_count": null
        },
        {
            "cell_type": "code",
            "source": [
                "-- =============================================\n",
                "-- Author:        Jaskaran Bains\n",
                "-- Create date:   2025-05-03\n",
                "-- Description:   [Creates a copy of the schema Data]\n",
                "-- Object type:   [Stored Procedure]\n",
                "-- Usage:         [Call to make a copy of the schema Data pre truncation]\n",
                "-- Parameters:    [@UserAuthorizationKey INT]\n",
                "-- Change History:\n",
                "--   YYYY-MM-DD   Jaskaran Bains   Initial creation\n",
                "-- =============================================\n",
                "\n",
                ""
            ],
            "metadata": {
                "azdata_cell_guid": "f83de15d-5a2a-4a19-944e-eb844ef0ebb7",
                "language": "sql"
            },
            "outputs": [],
            "execution_count": null
        },
        {
            "cell_type": "code",
            "source": [
                "-- process track work flows (create table + create procedure)"
            ],
            "metadata": {
                "language": "sql",
                "azdata_cell_guid": "dbfdf04e-c060-45b9-9b6a-6de00d960479"
            },
            "outputs": [],
            "execution_count": null
        },
        {
            "cell_type": "code",
            "source": [
                "-- Truncation ocde"
            ],
            "metadata": {
                "language": "sql",
                "azdata_cell_guid": "8b9e0972-c64a-4f54-9c07-e2b826916ba8"
            },
            "outputs": [],
            "execution_count": null
        },
        {
            "cell_type": "markdown",
            "source": [
                "Sabir Code stuff:"
            ],
            "metadata": {
                "language": "sql",
                "azdata_cell_guid": "d0d32fc6-7ddd-4ae2-82fd-ca6c9c4ce0fb"
            },
            "attachments": {}
        },
        {
            "cell_type": "code",
            "source": [
                "-- =============================================\n",
                "-- Author:        FIRSTNAME LASTNAME\n",
                "-- Create date:   2025-05-03\n",
                "-- Description:   [WHAT DOES THIS DO]\n",
                "-- Object type:   [PICK 1 (what is this?): Stored Procedure | Function | View | Table | Trigger]\n",
                "-- Usage:         [How or where to call this]\n",
                "-- Parameters:    [@UserAuthorizationKey INT + others]\n",
                "-- Change History:\n",
                "--   YYYY-MM-DD   FIRSTNAME LASTNAME   Initial creation\n",
                "--   YYYY-MM-DD   [Your Name]   [Description of change]\n",
                "-- ============================================="
            ],
            "metadata": {
                "language": "sql",
                "azdata_cell_guid": "3ab57655-cd7f-42fd-a259-27b637e5e7e4"
            },
            "outputs": [],
            "execution_count": null
        },
        {
            "cell_type": "markdown",
            "source": [
                "David Code stuff:"
            ],
            "metadata": {
                "language": "sql",
                "azdata_cell_guid": "0610b5dc-9b33-443f-8b79-005ddaabd323"
            },
            "attachments": {}
        },
        {
            "cell_type": "code",
            "source": [
                "-- =============================================\n",
                "-- Author:        FIRSTNAME LASTNAME\n",
                "-- Create date:   2025-05-03\n",
                "-- Description:   [WHAT DOES THIS DO]\n",
                "-- Object type:   [PICK 1 (what is this?): Stored Procedure | Function | View | Table | Trigger]\n",
                "-- Usage:         [How or where to call this]\n",
                "-- Parameters:    [@UserAuthorizationKey INT + others]\n",
                "-- Change History:\n",
                "--   YYYY-MM-DD   FIRSTNAME LASTNAME   Initial creation\n",
                "--   YYYY-MM-DD   [Your Name]   [Description of change]\n",
                "-- ============================================="
            ],
            "metadata": {
                "language": "sql",
                "azdata_cell_guid": "d0d776e8-8c97-4e09-848d-7e05d5e2c33c"
            },
            "outputs": [],
            "execution_count": null
        },
        {
            "cell_type": "markdown",
            "source": [
                "Zhian Code stuff:"
            ],
            "metadata": {
                "language": "sql",
                "azdata_cell_guid": "04b56a67-5b1a-4555-ad68-3d8791a7a5d6"
            },
            "attachments": {}
        },
        {
            "cell_type": "code",
            "source": [
                "-- =============================================\n",
                "-- Author:        FIRSTNAME LASTNAME\n",
                "-- Create date:   2025-05-03\n",
                "-- Description:   [WHAT DOES THIS DO]\n",
                "-- Object type:   [PICK 1 (what is this?): Stored Procedure | Function | View | Table | Trigger]\n",
                "-- Usage:         [How or where to call this]\n",
                "-- Parameters:    [@UserAuthorizationKey INT + others]\n",
                "-- Change History:\n",
                "--   YYYY-MM-DD   FIRSTNAME LASTNAME   Initial creation\n",
                "--   YYYY-MM-DD   [Your Name]   [Description of change]\n",
                "-- ============================================="
            ],
            "metadata": {
                "language": "sql",
                "azdata_cell_guid": "952cb473-1c9c-4752-a216-230a535dceeb"
            },
            "outputs": [],
            "execution_count": null
        },
        {
            "cell_type": "markdown",
            "source": [
                "Bryan Code Stuff:"
            ],
            "metadata": {
                "language": "sql",
                "azdata_cell_guid": "abd9ae65-e8b6-4ad6-af32-393dceb233b1"
            },
            "attachments": {}
        },
        {
            "cell_type": "code",
            "source": [
                "-- =============================================\n",
                "-- Author:        FIRSTNAME LASTNAME\n",
                "-- Create date:   2025-05-03\n",
                "-- Description:   [WHAT DOES THIS DO]\n",
                "-- Object type:   [PICK 1 (what is this?): Stored Procedure | Function | View | Table | Trigger]\n",
                "-- Usage:         [How or where to call this]\n",
                "-- Parameters:    [@UserAuthorizationKey INT + others]\n",
                "-- Change History:\n",
                "--   YYYY-MM-DD   FIRSTNAME LASTNAME   Initial creation\n",
                "--   YYYY-MM-DD   [Your Name]   [Description of change]\n",
                "-- ============================================="
            ],
            "metadata": {
                "language": "sql",
                "azdata_cell_guid": "599f3150-686a-4afd-8ed6-e166a86dcd16"
            },
            "outputs": [],
            "execution_count": null
        },
        {
            "cell_type": "markdown",
            "source": [
                "Zheng Code stuff:"
            ],
            "metadata": {
                "language": "sql",
                "azdata_cell_guid": "bf7181bd-73f0-4c75-a6eb-16d3d4e214da"
            },
            "attachments": {}
        },
        {
            "cell_type": "code",
            "source": [
                "-- =============================================\n",
                "-- Author:        FIRSTNAME LASTNAME\n",
                "-- Create date:   2025-05-03\n",
                "-- Description:   [WHAT DOES THIS DO]\n",
                "-- Object type:   [PICK 1 (what is this?): Stored Procedure | Function | View | Table | Trigger]\n",
                "-- Usage:         [How or where to call this]\n",
                "-- Parameters:    [@UserAuthorizationKey INT + others]\n",
                "-- Change History:\n",
                "--   YYYY-MM-DD   FIRSTNAME LASTNAME   Initial creation\n",
                "--   YYYY-MM-DD   [Your Name]   [Description of change]\n",
                "-- ============================================="
            ],
            "metadata": {
                "language": "sql",
                "azdata_cell_guid": "f802442c-3ed2-4309-af0d-2dc9ee287c96"
            },
            "outputs": [],
            "execution_count": null
        }
    ]
}