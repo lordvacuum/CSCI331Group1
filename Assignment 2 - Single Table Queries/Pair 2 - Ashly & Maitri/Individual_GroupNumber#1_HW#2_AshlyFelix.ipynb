{
    "metadata": {
        "kernelspec": {
            "name": "SQL",
            "display_name": "SQL",
            "language": "sql"
        },
        "language_info": {
            "name": "sql",
            "version": ""
        }
    },
    "nbformat_minor": 2,
    "nbformat": 4,
    "cells": [
        {
            "cell_type": "code",
            "source": [
                "USE WideWorldImporters\r\n",
                "SELECT PhoneNumber,PostalCityID, PrimaryContactPersonID\r\n",
                "FROM  Sales.Customers"
            ],
            "metadata": {
                "azdata_cell_guid": "8cb2262e-68fb-45b5-ba61-f6f7a294da4b",
                "language": "sql",
                "tags": []
            },
            "outputs": [],
            "execution_count": null
        },
        {
            "cell_type": "code",
            "source": [
                "USE WideWorldImporters\r\n",
                "SELECT ContactPersonID, DeliveryMethodID, ExpectedDeliveryDate\r\n",
                "FROM  Purchasing.PurchaseOrders\r\n",
                "ORDER BY ExpectedDeliveryDate;"
            ],
            "metadata": {
                "azdata_cell_guid": "2ff6b3ff-7c57-4434-a538-1e000a3aaa39",
                "language": "sql",
                "tags": []
            },
            "outputs": [],
            "execution_count": null
        },
        {
            "cell_type": "code",
            "source": [
                "USE WideWorldImporters\r\n",
                "SELECT ContactPersonID, DeliveryMethodID, ExpectedDeliveryDate\r\n",
                "FROM  Purchasing.PurchaseOrders\r\n",
                "ORDER BY ExpectedDeliveryDate DESC;"
            ],
            "metadata": {
                "azdata_cell_guid": "906646a2-c1f6-4ca6-9de4-5e1b179aca97",
                "language": "sql",
                "tags": []
            },
            "outputs": [],
            "execution_count": null
        },
        {
            "cell_type": "code",
            "source": [
                "USE WideWorldImporters\r\n",
                "SELECT CustomerTransactionID, CustomerID, TransactionAmount\r\n",
                "FROM  Sales.CustomerTransactions\r\n",
                "WHERE TransactionAmount >13590;"
            ],
            "metadata": {
                "azdata_cell_guid": "c0049b3b-eda2-4432-85dc-509c552a8b56",
                "language": "sql",
                "tags": []
            },
            "outputs": [],
            "execution_count": null
        },
        {
            "cell_type": "code",
            "source": [
                "USE WideWorldImporters\r\n",
                "SELECT CustomerID, OrderDate\r\n",
                "FROM  sales.Orders\r\n",
                "WHERE CustomerID =77 AND OrderDate= '2015-05-25';"
            ],
            "metadata": {
                "azdata_cell_guid": "c30242ee-6401-48fc-b380-5e1723888db1",
                "language": "sql",
                "tags": []
            },
            "outputs": [],
            "execution_count": null
        },
        {
            "cell_type": "code",
            "source": [
                "USE WideWorldImporters\r\n",
                "SELECT StockItemID, StockItemName\r\n",
                "FROM  Warehouse.StockItems\r\n",
                "WHERE StockItemID >210 AND StockItemID <230;\r\n",
                ""
            ],
            "metadata": {
                "azdata_cell_guid": "36bf4ac2-538c-484c-a051-8de73f22e06d",
                "language": "sql",
                "tags": []
            },
            "outputs": [],
            "execution_count": null
        },
        {
            "cell_type": "code",
            "source": [
                "USE WideWorldImporters\n",
                "SELECT StockItemID, StockItemName, ColorID\n",
                "FROM Warehouse.StockItems\n",
                "WHERE ColorID = 3\n",
                "ORDER BY StockItemID DESC;"
            ],
            "metadata": {
                "tags": [],
                "azdata_cell_guid": "3aae558b-70d0-4594-a544-11250a77abd2",
                "language": "sql"
            },
            "outputs": [],
            "execution_count": null
        },
        {
            "cell_type": "code",
            "source": [
                "USE WideWorldImporters\r\n",
                "SELECT CountryID, CountryName,Continent, Subregion\r\n",
                "FROM  Application.Countries\r\n",
                "WHERE Continent= 'asia'AND Subregion= 'Western asia';"
            ],
            "metadata": {
                "language": "sql",
                "azdata_cell_guid": "230d7a70-624a-40b4-95b7-b55326de6c56",
                "tags": []
            },
            "outputs": [],
            "execution_count": null
        },
        {
            "cell_type": "code",
            "source": [
                "USE WideWorldImporters\r\n",
                "SELECT PersonID, FullName,PhoneNumber, IsPermittedToLogon\r\n",
                "FROM  Application.People\r\n",
                "WHERE FullName ='Leena De';"
            ],
            "metadata": {
                "azdata_cell_guid": "7a479c47-3264-484a-89ca-80ab8770fdb1",
                "language": "sql",
                "tags": []
            },
            "outputs": [],
            "execution_count": null
        },
        {
            "cell_type": "code",
            "source": [
                "USE WideWorldImporters\r\n",
                "SELECT PaymentMethodName, ValidFrom ,ValidTo, LastEditedBy\r\n",
                "FROM  Application.PaymentMethods\r\n",
                "WHERE PaymentMethodName = 'cash';"
            ],
            "metadata": {
                "azdata_cell_guid": "f1301a26-f32f-4333-aeda-ab0b64cb6f33",
                "language": "sql",
                "tags": []
            },
            "outputs": [],
            "execution_count": null
        }
    ]
}