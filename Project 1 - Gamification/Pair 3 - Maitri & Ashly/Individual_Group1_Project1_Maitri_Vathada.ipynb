{
    "metadata": {
        "kernelspec": {
            "name": "SQL",
            "display_name": "SQL",
            "language": "sql"
        },
        "language_info": {
            "name": "sql",
            "version": ""
        }
    },
    "nbformat_minor": 2,
    "nbformat": 4,
    "cells": [
        {
            "cell_type": "markdown",
            "source": [
                "CASE#01\n",
                "\n",
                "The HR department discovered that some merchandise has gone missing from the Aventure\n",
                "\n",
                "Works 2019 warehouse. The witnesses have stated that the employee who was seen grabbing the\n",
                "\n",
                "goods has the job title of “research and development....” The hr department knows that their\n",
                "\n",
                "login ends with ‘ne1.’ Find out the suspect:"
            ],
            "metadata": {
                "azdata_cell_guid": "a754b72a-b28a-42b9-9cce-f7dcd0968ee1"
            },
            "attachments": {}
        },
        {
            "cell_type": "code",
            "source": [
                "Use AdventureWorks2019\r\n",
                "\r\n",
                "Select BusinessEntityID, LoginID, JobTitle\r\n",
                "From HumanResources.Employee\r\n",
                "Where JobTitle like 'Research%' and LoginID like '%ne1'\r\n",
                "\r\n",
                "Select FirstName, LastName\r\n",
                "From Person.Person\r\n",
                "Where BusinessEntityID = 8"
            ],
            "metadata": {
                "azdata_cell_guid": "c67a0b93-3706-49d9-98f0-51a1cb34abb6",
                "language": "sql",
                "tags": []
            },
            "outputs": [
                {
                    "output_type": "display_data",
                    "data": {
                        "text/html": "(1 row affected)"
                    },
                    "metadata": {}
                },
                {
                    "output_type": "display_data",
                    "data": {
                        "text/html": "(1 row affected)"
                    },
                    "metadata": {}
                },
                {
                    "output_type": "display_data",
                    "data": {
                        "text/html": "Total execution time: 00:00:00.014"
                    },
                    "metadata": {}
                },
                {
                    "output_type": "execute_result",
                    "metadata": {},
                    "execution_count": 53,
                    "data": {
                        "application/vnd.dataresource+json": {
                            "schema": {
                                "fields": [
                                    {
                                        "name": "BusinessEntityID"
                                    },
                                    {
                                        "name": "LoginID"
                                    },
                                    {
                                        "name": "JobTitle"
                                    }
                                ]
                            },
                            "data": [
                                {
                                    "BusinessEntityID": "8",
                                    "LoginID": "adventure-works\\diane1",
                                    "JobTitle": "Research and Development Engineer"
                                }
                            ]
                        },
                        "text/html": [
                            "<table>",
                            "<tr><th>BusinessEntityID</th><th>LoginID</th><th>JobTitle</th></tr>",
                            "<tr><td>8</td><td>adventure-works\\diane1</td><td>Research and Development Engineer</td></tr>",
                            "</table>"
                        ]
                    }
                },
                {
                    "output_type": "execute_result",
                    "metadata": {},
                    "execution_count": 53,
                    "data": {
                        "application/vnd.dataresource+json": {
                            "schema": {
                                "fields": [
                                    {
                                        "name": "FirstName"
                                    },
                                    {
                                        "name": "LastName"
                                    }
                                ]
                            },
                            "data": [
                                {
                                    "FirstName": "Diane",
                                    "LastName": "Margheim"
                                }
                            ]
                        },
                        "text/html": [
                            "<table>",
                            "<tr><th>FirstName</th><th>LastName</th></tr>",
                            "<tr><td>Diane</td><td>Margheim</td></tr>",
                            "</table>"
                        ]
                    }
                }
            ],
            "execution_count": 53
        },
        {
            "cell_type": "markdown",
            "source": [
                "CASE#10\n",
                "\n",
                "The police came to talk to the AdventureWorksDW2019 company because of some suspicious\n",
                "\n",
                "activity with one of our customers. Their order is expected to arrive on 2013-05-14. They found\n",
                "\n",
                "out their activity was suspicious because their TotalProductCost was 0.8565. Find out who this\n",
                "\n",
                "person is and where they are located. Hint their customkey key includes a ‘2’ and ‘8’ and first name’s\n",
                "\n",
                "initial is ‘W’."
            ],
            "metadata": {
                "azdata_cell_guid": "45f9470e-f571-485c-8e6a-a47645c1fea0"
            },
            "attachments": {}
        },
        {
            "cell_type": "code",
            "source": [
                "Use AdventureWorksDW2019\r\n",
                "\r\n",
                "Select ProductKey, DueDate, TotalProductCost, CAST(CustomerKey as varchar) as customerkey_varchar\r\n",
                "From FactInternetSales\r\n",
                "Where TotalProductCost = 0.8565 and DueDate = '20130514' and CustomerKey like '%2%8%'\r\n",
                "\r\n",
                "Select FirstName, LastName, CustomerKey\r\n",
                "From DimCustomer\r\n",
                "Where Customerkey = 21818 and FirstName like 'W%'"
            ],
            "metadata": {
                "azdata_cell_guid": "73d8dfe8-7042-44c8-a7eb-4574d790d72c",
                "language": "sql"
            },
            "outputs": [
                {
                    "output_type": "display_data",
                    "data": {
                        "text/html": "(2 rows affected)"
                    },
                    "metadata": {}
                },
                {
                    "output_type": "display_data",
                    "data": {
                        "text/html": "(1 row affected)"
                    },
                    "metadata": {}
                },
                {
                    "output_type": "display_data",
                    "data": {
                        "text/html": "Total execution time: 00:00:00.015"
                    },
                    "metadata": {}
                },
                {
                    "output_type": "execute_result",
                    "metadata": {},
                    "execution_count": 54,
                    "data": {
                        "application/vnd.dataresource+json": {
                            "schema": {
                                "fields": [
                                    {
                                        "name": "ProductKey"
                                    },
                                    {
                                        "name": "DueDate"
                                    },
                                    {
                                        "name": "TotalProductCost"
                                    },
                                    {
                                        "name": "customerkey_varchar"
                                    }
                                ]
                            },
                            "data": [
                                {
                                    "ProductKey": "480",
                                    "DueDate": "2013-05-14 00:00:00.000",
                                    "TotalProductCost": "0.8565",
                                    "customerkey_varchar": "21818"
                                },
                                {
                                    "ProductKey": "480",
                                    "DueDate": "2013-05-14 00:00:00.000",
                                    "TotalProductCost": "0.8565",
                                    "customerkey_varchar": "11284"
                                }
                            ]
                        },
                        "text/html": [
                            "<table>",
                            "<tr><th>ProductKey</th><th>DueDate</th><th>TotalProductCost</th><th>customerkey_varchar</th></tr>",
                            "<tr><td>480</td><td>2013-05-14 00:00:00.000</td><td>0.8565</td><td>21818</td></tr>",
                            "<tr><td>480</td><td>2013-05-14 00:00:00.000</td><td>0.8565</td><td>11284</td></tr>",
                            "</table>"
                        ]
                    }
                },
                {
                    "output_type": "execute_result",
                    "metadata": {},
                    "execution_count": 54,
                    "data": {
                        "application/vnd.dataresource+json": {
                            "schema": {
                                "fields": [
                                    {
                                        "name": "FirstName"
                                    },
                                    {
                                        "name": "LastName"
                                    },
                                    {
                                        "name": "CustomerKey"
                                    }
                                ]
                            },
                            "data": [
                                {
                                    "FirstName": "Willie",
                                    "LastName": "Chander",
                                    "CustomerKey": "21818"
                                }
                            ]
                        },
                        "text/html": [
                            "<table>",
                            "<tr><th>FirstName</th><th>LastName</th><th>CustomerKey</th></tr>",
                            "<tr><td>Willie</td><td>Chander</td><td>21818</td></tr>",
                            "</table>"
                        ]
                    }
                }
            ],
            "execution_count": 54
        },
        {
            "cell_type": "markdown",
            "source": [
                "CASE#11\n",
                "\n",
                "The CEO has noticed that some products have gone missing. The movement day was\n",
                "\n",
                "2013-01-28. The unit balance is in the negatives. The Manager who receives the product\n",
                "\n",
                "estimates that the thief stole more than 470 units. Find the ProductKey to confirm the theft."
            ],
            "metadata": {
                "azdata_cell_guid": "2bab2519-f0bd-4561-83b1-a506345c9eb2"
            },
            "attachments": {}
        },
        {
            "cell_type": "code",
            "source": [
                "Use AdventureWorksDW2019\r\n",
                "\r\n",
                "Select *\r\n",
                "From dbo.FactProductInventory\r\n",
                "Where MovementDate = '20130128' and UnitsBalance < 0 and UnitsOut > 470"
            ],
            "metadata": {
                "azdata_cell_guid": "37f42bd9-ce09-4b0d-af31-2849596f5e43",
                "language": "sql"
            },
            "outputs": [
                {
                    "output_type": "display_data",
                    "data": {
                        "text/html": "(1 row affected)"
                    },
                    "metadata": {}
                },
                {
                    "output_type": "display_data",
                    "data": {
                        "text/html": "Total execution time: 00:00:00.047"
                    },
                    "metadata": {}
                },
                {
                    "output_type": "execute_result",
                    "metadata": {},
                    "execution_count": 55,
                    "data": {
                        "application/vnd.dataresource+json": {
                            "schema": {
                                "fields": [
                                    {
                                        "name": "ProductKey"
                                    },
                                    {
                                        "name": "DateKey"
                                    },
                                    {
                                        "name": "MovementDate"
                                    },
                                    {
                                        "name": "UnitCost"
                                    },
                                    {
                                        "name": "UnitsIn"
                                    },
                                    {
                                        "name": "UnitsOut"
                                    },
                                    {
                                        "name": "UnitsBalance"
                                    }
                                ]
                            },
                            "data": [
                                {
                                    "ProductKey": "471",
                                    "DateKey": "20130128",
                                    "MovementDate": "2013-01-28",
                                    "UnitCost": "17.32",
                                    "UnitsIn": "0",
                                    "UnitsOut": "498",
                                    "UnitsBalance": "-494"
                                }
                            ]
                        },
                        "text/html": [
                            "<table>",
                            "<tr><th>ProductKey</th><th>DateKey</th><th>MovementDate</th><th>UnitCost</th><th>UnitsIn</th><th>UnitsOut</th><th>UnitsBalance</th></tr>",
                            "<tr><td>471</td><td>20130128</td><td>2013-01-28</td><td>17.32</td><td>0</td><td>498</td><td>-494</td></tr>",
                            "</table>"
                        ]
                    }
                }
            ],
            "execution_count": 55
        },
        {
            "cell_type": "markdown",
            "source": [
                "CASE#100\n",
                "\n",
                "There was a murder on June 21st 2013 at the WideworldImportersDW station in Illinois. Two\n",
                "\n",
                "people saw the mudder. One said that the suspect wore a “Superhero action jacket (Blue) 3XL”\n",
                "\n",
                "With the information find out who the murderer is."
            ],
            "metadata": {
                "azdata_cell_guid": "e06e6170-b30b-4f7b-8181-a4dd3a5ffe1a"
            },
            "attachments": {}
        },
        {
            "cell_type": "code",
            "source": [
                "Use WideWorldImportersDW\r\n",
                "\r\n",
                "Select [Customer Key], [Description], [Picked Date Key]\r\n",
                "From Fact.[Order]\r\n",
                "Where [Description] like '%Superhero action jacket (Blue) 3XL' and [Picked Date Key] = '20130621'\r\n",
                "\r\n",
                "Select *\r\n",
                "From Dimension.Customer\r\n",
                "Where [Customer Key] = 206\r\n",
                ""
            ],
            "metadata": {
                "azdata_cell_guid": "67dc5893-5d2a-4f83-90f0-d298fea7a975",
                "language": "sql"
            },
            "outputs": [
                {
                    "output_type": "display_data",
                    "data": {
                        "text/html": "(2 rows affected)"
                    },
                    "metadata": {}
                },
                {
                    "output_type": "display_data",
                    "data": {
                        "text/html": "(1 row affected)"
                    },
                    "metadata": {}
                },
                {
                    "output_type": "display_data",
                    "data": {
                        "text/html": "Total execution time: 00:00:00.032"
                    },
                    "metadata": {}
                },
                {
                    "output_type": "execute_result",
                    "metadata": {},
                    "execution_count": 56,
                    "data": {
                        "application/vnd.dataresource+json": {
                            "schema": {
                                "fields": [
                                    {
                                        "name": "Customer Key"
                                    },
                                    {
                                        "name": "Description"
                                    },
                                    {
                                        "name": "Picked Date Key"
                                    }
                                ]
                            },
                            "data": [
                                {
                                    "Customer Key": "206",
                                    "Description": "Superhero action jacket (Blue) 3XL",
                                    "Picked Date Key": "2013-06-21"
                                },
                                {
                                    "Customer Key": "203",
                                    "Description": "Superhero action jacket (Blue) 3XL",
                                    "Picked Date Key": "2013-06-21"
                                }
                            ]
                        },
                        "text/html": [
                            "<table>",
                            "<tr><th>Customer Key</th><th>Description</th><th>Picked Date Key</th></tr>",
                            "<tr><td>206</td><td>Superhero action jacket (Blue) 3XL</td><td>2013-06-21</td></tr>",
                            "<tr><td>203</td><td>Superhero action jacket (Blue) 3XL</td><td>2013-06-21</td></tr>",
                            "</table>"
                        ]
                    }
                },
                {
                    "output_type": "execute_result",
                    "metadata": {},
                    "execution_count": 56,
                    "data": {
                        "application/vnd.dataresource+json": {
                            "schema": {
                                "fields": [
                                    {
                                        "name": "Customer Key"
                                    },
                                    {
                                        "name": "WWI Customer ID"
                                    },
                                    {
                                        "name": "Customer"
                                    },
                                    {
                                        "name": "Bill To Customer"
                                    },
                                    {
                                        "name": "Category"
                                    },
                                    {
                                        "name": "Buying Group"
                                    },
                                    {
                                        "name": "Primary Contact"
                                    },
                                    {
                                        "name": "Postal Code"
                                    },
                                    {
                                        "name": "Valid From"
                                    },
                                    {
                                        "name": "Valid To"
                                    },
                                    {
                                        "name": "Lineage Key"
                                    }
                                ]
                            },
                            "data": [
                                {
                                    "Customer Key": "206",
                                    "WWI Customer ID": "405",
                                    "Customer": "Wingtip Toys (Bourbonnais, IL)",
                                    "Bill To Customer": "Wingtip Toys (Head Office)",
                                    "Category": "Novelty Shop",
                                    "Buying Group": "Wingtip Toys",
                                    "Primary Contact": "Miran Nikolic",
                                    "Postal Code": "90582",
                                    "Valid From": "2013-01-01 00:00:00.0000000",
                                    "Valid To": "9999-12-31 23:59:59.9999999",
                                    "Lineage Key": "2"
                                }
                            ]
                        },
                        "text/html": [
                            "<table>",
                            "<tr><th>Customer Key</th><th>WWI Customer ID</th><th>Customer</th><th>Bill To Customer</th><th>Category</th><th>Buying Group</th><th>Primary Contact</th><th>Postal Code</th><th>Valid From</th><th>Valid To</th><th>Lineage Key</th></tr>",
                            "<tr><td>206</td><td>405</td><td>Wingtip Toys (Bourbonnais, IL)</td><td>Wingtip Toys (Head Office)</td><td>Novelty Shop</td><td>Wingtip Toys</td><td>Miran Nikolic</td><td>90582</td><td>2013-01-01 00:00:00.0000000</td><td>9999-12-31 23:59:59.9999999</td><td>2</td></tr>",
                            "</table>"
                        ]
                    }
                }
            ],
            "execution_count": 56
        },
        {
            "cell_type": "markdown",
            "source": [
                "CASE#101\n",
                "\n",
                "There are 3 employees who are suspected of stealing several items of clothing. Your job is to find\n",
                "\n",
                "out who the suspect is. We know that the suspect is an employee at ContosoRetailDW clothing\n",
                "\n",
                "store. Their Firstname starts with the letter G and has an e. The suspects are Greg Chapman,\n",
                "\n",
                "Greg Winston and Gabe Frost. The suspect is also known for their under-10-hour vacation hours."
            ],
            "metadata": {
                "azdata_cell_guid": "b8c322fb-3cdc-4ca2-8d25-01c0d231b4b6"
            },
            "attachments": {}
        },
        {
            "cell_type": "code",
            "source": [
                "Use ContosoRetailDW\r\n",
                "\r\n",
                "Select FirstName, LastName, VacationHours\r\n",
                "From dbo.DimEmployee\r\n",
                "Where FirstName in ('Greg', 'Gabe') and VacationHours < 10"
            ],
            "metadata": {
                "azdata_cell_guid": "06b26b44-b4b5-48e2-878a-1731c362ab2d",
                "language": "sql"
            },
            "outputs": [
                {
                    "output_type": "display_data",
                    "data": {
                        "text/html": "(1 row affected)"
                    },
                    "metadata": {}
                },
                {
                    "output_type": "display_data",
                    "data": {
                        "text/html": "Total execution time: 00:00:00.011"
                    },
                    "metadata": {}
                },
                {
                    "output_type": "execute_result",
                    "metadata": {},
                    "execution_count": 57,
                    "data": {
                        "application/vnd.dataresource+json": {
                            "schema": {
                                "fields": [
                                    {
                                        "name": "FirstName"
                                    },
                                    {
                                        "name": "LastName"
                                    },
                                    {
                                        "name": "VacationHours"
                                    }
                                ]
                            },
                            "data": [
                                {
                                    "FirstName": "Gabe",
                                    "LastName": "Frost",
                                    "VacationHours": "7"
                                }
                            ]
                        },
                        "text/html": [
                            "<table>",
                            "<tr><th>FirstName</th><th>LastName</th><th>VacationHours</th></tr>",
                            "<tr><td>Gabe</td><td>Frost</td><td>7</td></tr>",
                            "</table>"
                        ]
                    }
                }
            ],
            "execution_count": 57
        },
        {
            "cell_type": "markdown",
            "source": [
                "CASE#110\n",
                "\n",
                "The WideWorldImporters suspects that one of their suppliers is stealing. The employee who\n",
                "\n",
                "noticed this said that the supplier carried out one of their most recent orders. Their delivered\n",
                "\n",
                "method was 2. Find otu the SupplierID."
            ],
            "metadata": {
                "azdata_cell_guid": "87c12368-8d28-4459-a800-055da3617427"
            },
            "attachments": {}
        },
        {
            "cell_type": "code",
            "source": [
                "Use WideWorldImporters\r\n",
                "\r\n",
                "-- Select *\r\n",
                "-- From INFORMATION_SCHEMA.COLUMNS\r\n",
                "-- Where COLUMN_NAME like '%DeliveryMethod%'\r\n",
                "\r\n",
                "Select SupplierID, MAX(OrderDate) as recentorder\r\n",
                "From Purchasing.PurchaseOrders\r\n",
                "Where DeliveryMethodID = 2\r\n",
                "Group by SupplierID"
            ],
            "metadata": {
                "azdata_cell_guid": "c9b5c24f-cc77-49cd-bbde-02c226a30fe9",
                "language": "sql"
            },
            "outputs": [
                {
                    "output_type": "display_data",
                    "data": {
                        "text/html": "(1 row affected)"
                    },
                    "metadata": {}
                },
                {
                    "output_type": "display_data",
                    "data": {
                        "text/html": "Total execution time: 00:00:00.009"
                    },
                    "metadata": {}
                },
                {
                    "output_type": "execute_result",
                    "metadata": {},
                    "execution_count": 58,
                    "data": {
                        "application/vnd.dataresource+json": {
                            "schema": {
                                "fields": [
                                    {
                                        "name": "SupplierID"
                                    },
                                    {
                                        "name": "recentorder"
                                    }
                                ]
                            },
                            "data": [
                                {
                                    "SupplierID": "7",
                                    "recentorder": "2016-05-31"
                                }
                            ]
                        },
                        "text/html": [
                            "<table>",
                            "<tr><th>SupplierID</th><th>recentorder</th></tr>",
                            "<tr><td>7</td><td>2016-05-31</td></tr>",
                            "</table>"
                        ]
                    }
                }
            ],
            "execution_count": 58
        },
        {
            "cell_type": "markdown",
            "source": [
                "CASE#111\n",
                "\n",
                "The suspect in this situation was wearing a “The Gu\" red shirt XML tag t-shirt (Black) 3XS”.\n",
                "\n",
                "The suspect logged out of our system but wasn’t able to delete his password. The last thing that\n",
                "\n",
                "was kept on the password bar was ‘4BXwmv’ The suspect's last name end w the letter ‘n’. Find\n",
                "\n",
                "the suspect who was seen at AventureWorks2019 street."
            ],
            "metadata": {
                "azdata_cell_guid": "7c013911-7269-4275-8cd8-696937282e88"
            },
            "attachments": {}
        },
        {
            "cell_type": "code",
            "source": [
                "Use AdventureWorks2019\r\n",
                "\r\n",
                "Select BusinessEntityID, PasswordHash\r\n",
                "From Person.[Password]\r\n",
                "Where PasswordHash like '%4BXwmv%'\r\n",
                "\r\n",
                "Select FirstName, LastName, BusinessEntityID\r\n",
                "From Person.Person\r\n",
                "Where BusinessEntityID = 5764"
            ],
            "metadata": {
                "azdata_cell_guid": "16fa0aee-d5d6-4da4-ad04-547d4c29525c",
                "language": "sql",
                "tags": []
            },
            "outputs": [
                {
                    "output_type": "display_data",
                    "data": {
                        "text/html": "(1 row affected)"
                    },
                    "metadata": {}
                },
                {
                    "output_type": "display_data",
                    "data": {
                        "text/html": "(1 row affected)"
                    },
                    "metadata": {}
                },
                {
                    "output_type": "display_data",
                    "data": {
                        "text/html": "Total execution time: 00:00:00.017"
                    },
                    "metadata": {}
                },
                {
                    "output_type": "execute_result",
                    "metadata": {},
                    "execution_count": 59,
                    "data": {
                        "application/vnd.dataresource+json": {
                            "schema": {
                                "fields": [
                                    {
                                        "name": "BusinessEntityID"
                                    },
                                    {
                                        "name": "PasswordHash"
                                    }
                                ]
                            },
                            "data": [
                                {
                                    "BusinessEntityID": "5764",
                                    "PasswordHash": "sIgIY4BXwmvCPZeaYbEYAW/wSzlBPO5GWLf5caDh770="
                                }
                            ]
                        },
                        "text/html": [
                            "<table>",
                            "<tr><th>BusinessEntityID</th><th>PasswordHash</th></tr>",
                            "<tr><td>5764</td><td>sIgIY4BXwmvCPZeaYbEYAW/wSzlBPO5GWLf5caDh770=</td></tr>",
                            "</table>"
                        ]
                    }
                },
                {
                    "output_type": "execute_result",
                    "metadata": {},
                    "execution_count": 59,
                    "data": {
                        "application/vnd.dataresource+json": {
                            "schema": {
                                "fields": [
                                    {
                                        "name": "FirstName"
                                    },
                                    {
                                        "name": "LastName"
                                    },
                                    {
                                        "name": "BusinessEntityID"
                                    }
                                ]
                            },
                            "data": [
                                {
                                    "FirstName": "Kyle",
                                    "LastName": "Griffin",
                                    "BusinessEntityID": "5764"
                                }
                            ]
                        },
                        "text/html": [
                            "<table>",
                            "<tr><th>FirstName</th><th>LastName</th><th>BusinessEntityID</th></tr>",
                            "<tr><td>Kyle</td><td>Griffin</td><td>5764</td></tr>",
                            "</table>"
                        ]
                    }
                }
            ],
            "execution_count": 59
        }
    ]
}