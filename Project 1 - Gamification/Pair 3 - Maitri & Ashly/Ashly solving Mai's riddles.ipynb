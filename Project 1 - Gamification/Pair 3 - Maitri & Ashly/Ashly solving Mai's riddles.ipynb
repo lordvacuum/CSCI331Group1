{
    "metadata": {
        "kernelspec": {
            "name": "SQL",
            "display_name": "SQL",
            "language": "sql"
        },
        "language_info": {
            "name": "sql",
            "version": ""
        }
    },
    "nbformat_minor": 2,
    "nbformat": 4,
    "cells": [
        {
            "cell_type": "markdown",
            "source": [
                "A man with a German accent was seen fleeing from the store TSQLV6 after Employee Yael Peled was murdered on Halloween 2020. Find out who did it.\n",
                "\n",
                "answer: Louverdis, George"
            ],
            "metadata": {
                "azdata_cell_guid": "b8e79a87-33cb-4017-b274-2ad0c3ff4dea"
            },
            "attachments": {}
        },
        {
            "cell_type": "code",
            "source": [
                "USE TSQLV6\r\n",
                "SELECT c.*, o.*\r\n",
                "FROM Sales.Orders o\r\n",
                "JOIN Sales.Customers c ON o.custid = c.custid\r\n",
                "WHERE o.OrderDate = '2020-10-31';\r\n",
                "--find customer who placed order on halloween whihc we find out is cusif 44"
            ],
            "metadata": {
                "azdata_cell_guid": "309d9acb-4fab-4d5b-81b0-f7c42d6434d5",
                "language": "sql",
                "tags": []
            },
            "outputs": [
                {
                    "output_type": "display_data",
                    "data": {
                        "text/html": "(1 row affected)"
                    },
                    "metadata": {}
                },
                {
                    "output_type": "display_data",
                    "data": {
                        "text/html": "Total execution time: 00:00:00.078"
                    },
                    "metadata": {}
                },
                {
                    "output_type": "execute_result",
                    "execution_count": 3,
                    "data": {
                        "application/vnd.dataresource+json": {
                            "schema": {
                                "fields": [
                                    {
                                        "name": "custid"
                                    },
                                    {
                                        "name": "companyname"
                                    },
                                    {
                                        "name": "contactname"
                                    },
                                    {
                                        "name": "contacttitle"
                                    },
                                    {
                                        "name": "address"
                                    },
                                    {
                                        "name": "city"
                                    },
                                    {
                                        "name": "region"
                                    },
                                    {
                                        "name": "postalcode"
                                    },
                                    {
                                        "name": "country"
                                    },
                                    {
                                        "name": "phone"
                                    },
                                    {
                                        "name": "fax"
                                    },
                                    {
                                        "name": "orderid"
                                    },
                                    {
                                        "name": "custid"
                                    },
                                    {
                                        "name": "empid"
                                    },
                                    {
                                        "name": "orderdate"
                                    },
                                    {
                                        "name": "requireddate"
                                    },
                                    {
                                        "name": "shippeddate"
                                    },
                                    {
                                        "name": "shipperid"
                                    },
                                    {
                                        "name": "freight"
                                    },
                                    {
                                        "name": "shipname"
                                    },
                                    {
                                        "name": "shipaddress"
                                    },
                                    {
                                        "name": "shipcity"
                                    },
                                    {
                                        "name": "shipregion"
                                    },
                                    {
                                        "name": "shippostalcode"
                                    },
                                    {
                                        "name": "shipcountry"
                                    }
                                ]
                            },
                            "data": [
                                {
                                    "custid": "44",
                                    "companyname": "Customer OXFRU",
                                    "contactname": "Louverdis, George",
                                    "contacttitle": "Sales Representative",
                                    "address": "Magazinweg 8901",
                                    "city": "Frankfurt a.M.",
                                    "region": "NULL",
                                    "postalcode": "10095",
                                    "country": "Germany",
                                    "phone": "069-7890123",
                                    "fax": "069-4567890",
                                    "orderid": "10343",
                                    "empid": "4",
                                    "orderdate": "2020-10-31",
                                    "requireddate": "2020-11-28",
                                    "shippeddate": "2020-11-06",
                                    "shipperid": "1",
                                    "freight": "110.37",
                                    "shipname": "Ship to 44-A",
                                    "shipaddress": "Magazinweg 4567",
                                    "shipcity": "Frankfurt a.M.",
                                    "shipregion": "NULL",
                                    "shippostalcode": "10222",
                                    "shipcountry": "Germany"
                                }
                            ]
                        },
                        "text/html": "<table><tr><th>custid</th><th>companyname</th><th>contactname</th><th>contacttitle</th><th>address</th><th>city</th><th>region</th><th>postalcode</th><th>country</th><th>phone</th><th>fax</th><th>orderid</th><th>custid</th><th>empid</th><th>orderdate</th><th>requireddate</th><th>shippeddate</th><th>shipperid</th><th>freight</th><th>shipname</th><th>shipaddress</th><th>shipcity</th><th>shipregion</th><th>shippostalcode</th><th>shipcountry</th></tr><tr><td>44</td><td>Customer OXFRU</td><td>Louverdis, George</td><td>Sales Representative</td><td>Magazinweg 8901</td><td>Frankfurt a.M.</td><td>NULL</td><td>10095</td><td>Germany</td><td>069-7890123</td><td>069-4567890</td><td>10343</td><td>44</td><td>4</td><td>2020-10-31</td><td>2020-11-28</td><td>2020-11-06</td><td>1</td><td>110.37</td><td>Ship to 44-A</td><td>Magazinweg 4567</td><td>Frankfurt a.M.</td><td>NULL</td><td>10222</td><td>Germany</td></tr></table>"
                    },
                    "metadata": {}
                }
            ],
            "execution_count": 3
        },
        {
            "cell_type": "markdown",
            "source": [
                "A report has been made at TSQLV6 that 3 companies, QZURI, JYPSC, and KSLQF have complained that their orders have never shown up. Find out who was responsible for taking care of their orders."
            ],
            "metadata": {
                "azdata_cell_guid": "c921dde8-bf5c-4f0a-b0d8-e749e5d5ef1e"
            },
            "attachments": {}
        },
        {
            "cell_type": "code",
            "source": [
                "USE TSQLV6\r\n",
                "SELECT *  \r\n",
                "FROM Sales.Customers  \r\n",
                "WHERE companyname LIKE '%QZURI%'  \r\n",
                "   OR companyname LIKE '%JYPSC%'  \r\n",
                "   OR companyname LIKE '%KSLQF%';  \r\n",
                "--find order infor"
            ],
            "metadata": {
                "azdata_cell_guid": "4b420349-df44-4aba-a13e-a38ab8de3e8d",
                "language": "sql"
            },
            "outputs": [
                {
                    "output_type": "display_data",
                    "data": {
                        "text/html": "(3 rows affected)"
                    },
                    "metadata": {}
                },
                {
                    "output_type": "display_data",
                    "data": {
                        "text/html": "Total execution time: 00:00:00.045"
                    },
                    "metadata": {}
                },
                {
                    "output_type": "execute_result",
                    "execution_count": 4,
                    "data": {
                        "application/vnd.dataresource+json": {
                            "schema": {
                                "fields": [
                                    {
                                        "name": "custid"
                                    },
                                    {
                                        "name": "companyname"
                                    },
                                    {
                                        "name": "contactname"
                                    },
                                    {
                                        "name": "contacttitle"
                                    },
                                    {
                                        "name": "address"
                                    },
                                    {
                                        "name": "city"
                                    },
                                    {
                                        "name": "region"
                                    },
                                    {
                                        "name": "postalcode"
                                    },
                                    {
                                        "name": "country"
                                    },
                                    {
                                        "name": "phone"
                                    },
                                    {
                                        "name": "fax"
                                    }
                                ]
                            },
                            "data": [
                                {
                                    "custid": "30",
                                    "companyname": "Customer KSLQF",
                                    "contactname": "Grossman, Seth",
                                    "contacttitle": "Sales Manager",
                                    "address": "C/ Romero, 1234",
                                    "city": "Sevilla",
                                    "region": "NULL",
                                    "postalcode": "10075",
                                    "country": "Spain",
                                    "phone": "(95) 901 23 45",
                                    "fax": "NULL"
                                },
                                {
                                    "custid": "50",
                                    "companyname": "Customer JYPSC",
                                    "contactname": "Goldin, Maxim",
                                    "contacttitle": "Sales Agent",
                                    "address": "Rue Joseph-Bens 0123",
                                    "city": "Bruxelles",
                                    "region": "NULL",
                                    "postalcode": "10074",
                                    "country": "Belgium",
                                    "phone": "(02) 890 12 34",
                                    "fax": "(02) 567 89 01"
                                },
                                {
                                    "custid": "60",
                                    "companyname": "Customer QZURI",
                                    "contactname": "Uppal, Sunil",
                                    "contacttitle": "Sales Representative",
                                    "address": "Estrada da saúde n. 6789",
                                    "city": "Lisboa",
                                    "region": "NULL",
                                    "postalcode": "10083",
                                    "country": "Portugal",
                                    "phone": "(1) 789-0123",
                                    "fax": "NULL"
                                }
                            ]
                        },
                        "text/html": "<table><tr><th>custid</th><th>companyname</th><th>contactname</th><th>contacttitle</th><th>address</th><th>city</th><th>region</th><th>postalcode</th><th>country</th><th>phone</th><th>fax</th></tr><tr><td>30</td><td>Customer KSLQF</td><td>Grossman, Seth</td><td>Sales Manager</td><td>C/ Romero, 1234</td><td>Sevilla</td><td>NULL</td><td>10075</td><td>Spain</td><td>(95) 901 23 45</td><td>NULL</td></tr><tr><td>50</td><td>Customer JYPSC</td><td>Goldin, Maxim</td><td>Sales Agent</td><td>Rue Joseph-Bens 0123</td><td>Bruxelles</td><td>NULL</td><td>10074</td><td>Belgium</td><td>(02) 890 12 34</td><td>(02) 567 89 01</td></tr><tr><td>60</td><td>Customer QZURI</td><td>Uppal, Sunil</td><td>Sales Representative</td><td>Estrada da saúde n. 6789</td><td>Lisboa</td><td>NULL</td><td>10083</td><td>Portugal</td><td>(1) 789-0123</td><td>NULL</td></tr></table>"
                    },
                    "metadata": {}
                }
            ],
            "execution_count": 4
        },
        {
            "cell_type": "code",
            "source": [
                "USE TSQLV6\r\n",
                "SELECT *  \r\n",
                "FROM Sales.Orders  \r\n",
                "WHERE custid IN (30, 50, 60);\r\n",
                "--find who helped them EMPID= 5"
            ],
            "metadata": {
                "language": "sql",
                "azdata_cell_guid": "c92f6059-ed46-4416-932d-6d0f4589f736"
            },
            "outputs": [
                {
                    "output_type": "display_data",
                    "data": {
                        "text/html": "(22 rows affected)"
                    },
                    "metadata": {}
                },
                {
                    "output_type": "display_data",
                    "data": {
                        "text/html": "Total execution time: 00:00:00.034"
                    },
                    "metadata": {}
                },
                {
                    "output_type": "execute_result",
                    "execution_count": 5,
                    "data": {
                        "application/vnd.dataresource+json": {
                            "schema": {
                                "fields": [
                                    {
                                        "name": "orderid"
                                    },
                                    {
                                        "name": "custid"
                                    },
                                    {
                                        "name": "empid"
                                    },
                                    {
                                        "name": "orderdate"
                                    },
                                    {
                                        "name": "requireddate"
                                    },
                                    {
                                        "name": "shippeddate"
                                    },
                                    {
                                        "name": "shipperid"
                                    },
                                    {
                                        "name": "freight"
                                    },
                                    {
                                        "name": "shipname"
                                    },
                                    {
                                        "name": "shipaddress"
                                    },
                                    {
                                        "name": "shipcity"
                                    },
                                    {
                                        "name": "shipregion"
                                    },
                                    {
                                        "name": "shippostalcode"
                                    },
                                    {
                                        "name": "shipcountry"
                                    }
                                ]
                            },
                            "data": [
                                {
                                    "orderid": "10303",
                                    "custid": "30",
                                    "empid": "7",
                                    "orderdate": "2020-09-11",
                                    "requireddate": "2020-10-09",
                                    "shippeddate": "2020-09-18",
                                    "shipperid": "2",
                                    "freight": "107.83",
                                    "shipname": "Destination IIYDD",
                                    "shipaddress": "C/ Romero, 5678",
                                    "shipcity": "Sevilla",
                                    "shipregion": "NULL",
                                    "shippostalcode": "10183",
                                    "shipcountry": "Spain"
                                },
                                {
                                    "orderid": "10336",
                                    "custid": "60",
                                    "empid": "7",
                                    "orderdate": "2020-10-23",
                                    "requireddate": "2020-11-20",
                                    "shippeddate": "2020-10-25",
                                    "shipperid": "2",
                                    "freight": "15.51",
                                    "shipname": "Ship to 60-B",
                                    "shipaddress": "Estrada da saúde n. 3456",
                                    "shipcity": "Lisboa",
                                    "shipregion": "NULL",
                                    "shippostalcode": "10271",
                                    "shipcountry": "Portugal"
                                },
                                {
                                    "orderid": "10397",
                                    "custid": "60",
                                    "empid": "5",
                                    "orderdate": "2020-12-27",
                                    "requireddate": "2021-01-24",
                                    "shippeddate": "2021-01-02",
                                    "shipperid": "1",
                                    "freight": "60.26",
                                    "shipname": "Ship to 60-A",
                                    "shipaddress": "Estrada da saúde n. 2345",
                                    "shipcity": "Lisboa",
                                    "shipregion": "NULL",
                                    "shippostalcode": "10270",
                                    "shipcountry": "Portugal"
                                },
                                {
                                    "orderid": "10433",
                                    "custid": "60",
                                    "empid": "3",
                                    "orderdate": "2021-02-03",
                                    "requireddate": "2021-03-03",
                                    "shippeddate": "2021-03-04",
                                    "shipperid": "3",
                                    "freight": "73.83",
                                    "shipname": "Ship to 60-A",
                                    "shipaddress": "Estrada da saúde n. 2345",
                                    "shipcity": "Lisboa",
                                    "shipregion": "NULL",
                                    "shippostalcode": "10270",
                                    "shipcountry": "Portugal"
                                },
                                {
                                    "orderid": "10477",
                                    "custid": "60",
                                    "empid": "5",
                                    "orderdate": "2021-03-17",
                                    "requireddate": "2021-04-14",
                                    "shippeddate": "2021-03-25",
                                    "shipperid": "2",
                                    "freight": "13.02",
                                    "shipname": "Ship to 60-A",
                                    "shipaddress": "Estrada da saúde n. 2345",
                                    "shipcity": "Lisboa",
                                    "shipregion": "NULL",
                                    "shippostalcode": "10270",
                                    "shipcountry": "Portugal"
                                },
                                {
                                    "orderid": "10529",
                                    "custid": "50",
                                    "empid": "5",
                                    "orderdate": "2021-05-07",
                                    "requireddate": "2021-06-04",
                                    "shippeddate": "2021-05-09",
                                    "shipperid": "2",
                                    "freight": "66.69",
                                    "shipname": "Ship to 50-B",
                                    "shipaddress": "Rue Joseph-Bens 4567",
                                    "shipcity": "Bruxelles",
                                    "shipregion": "NULL",
                                    "shippostalcode": "10242",
                                    "shipcountry": "Belgium"
                                },
                                {
                                    "orderid": "10550",
                                    "custid": "30",
                                    "empid": "7",
                                    "orderdate": "2021-05-28",
                                    "requireddate": "2021-06-25",
                                    "shippeddate": "2021-06-06",
                                    "shipperid": "3",
                                    "freight": "4.32",
                                    "shipname": "Destination GGQIR",
                                    "shipaddress": "C/ Romero, 6789",
                                    "shipcity": "Sevilla",
                                    "shipregion": "NULL",
                                    "shippostalcode": "10184",
                                    "shipcountry": "Spain"
                                },
                                {
                                    "orderid": "10629",
                                    "custid": "30",
                                    "empid": "4",
                                    "orderdate": "2021-08-12",
                                    "requireddate": "2021-09-09",
                                    "shippeddate": "2021-08-20",
                                    "shipperid": "3",
                                    "freight": "85.46",
                                    "shipname": "Destination IIYDD",
                                    "shipaddress": "C/ Romero, 5678",
                                    "shipcity": "Sevilla",
                                    "shipregion": "NULL",
                                    "shippostalcode": "10183",
                                    "shipcountry": "Spain"
                                },
                                {
                                    "orderid": "10649",
                                    "custid": "50",
                                    "empid": "5",
                                    "orderdate": "2021-08-28",
                                    "requireddate": "2021-09-25",
                                    "shippeddate": "2021-08-29",
                                    "shipperid": "3",
                                    "freight": "6.20",
                                    "shipname": "Ship to 50-B",
                                    "shipaddress": "Rue Joseph-Bens 4567",
                                    "shipcity": "Bruxelles",
                                    "shipregion": "NULL",
                                    "shippostalcode": "10242",
                                    "shipcountry": "Belgium"
                                },
                                {
                                    "orderid": "10760",
                                    "custid": "50",
                                    "empid": "4",
                                    "orderdate": "2021-12-01",
                                    "requireddate": "2021-12-29",
                                    "shippeddate": "2021-12-10",
                                    "shipperid": "1",
                                    "freight": "155.64",
                                    "shipname": "Ship to 50-B",
                                    "shipaddress": "Rue Joseph-Bens 4567",
                                    "shipcity": "Bruxelles",
                                    "shipregion": "NULL",
                                    "shippostalcode": "10242",
                                    "shipcountry": "Belgium"
                                },
                                {
                                    "orderid": "10872",
                                    "custid": "30",
                                    "empid": "5",
                                    "orderdate": "2022-02-05",
                                    "requireddate": "2022-03-05",
                                    "shippeddate": "2022-02-09",
                                    "shipperid": "2",
                                    "freight": "175.32",
                                    "shipname": "Destination GGQIR",
                                    "shipaddress": "C/ Romero, 6789",
                                    "shipcity": "Sevilla",
                                    "shipregion": "NULL",
                                    "shippostalcode": "10184",
                                    "shipcountry": "Spain"
                                },
                                {
                                    "orderid": "10874",
                                    "custid": "30",
                                    "empid": "5",
                                    "orderdate": "2022-02-06",
                                    "requireddate": "2022-03-06",
                                    "shippeddate": "2022-02-11",
                                    "shipperid": "2",
                                    "freight": "19.58",
                                    "shipname": "Destination IIYDD",
                                    "shipaddress": "C/ Romero, 5678",
                                    "shipcity": "Sevilla",
                                    "shipregion": "NULL",
                                    "shippostalcode": "10183",
                                    "shipcountry": "Spain"
                                },
                                {
                                    "orderid": "10888",
                                    "custid": "30",
                                    "empid": "1",
                                    "orderdate": "2022-02-16",
                                    "requireddate": "2022-03-16",
                                    "shippeddate": "2022-02-23",
                                    "shipperid": "2",
                                    "freight": "51.87",
                                    "shipname": "Destination IIYDD",
                                    "shipaddress": "C/ Romero, 5678",
                                    "shipcity": "Sevilla",
                                    "shipregion": "NULL",
                                    "shippostalcode": "10183",
                                    "shipcountry": "Spain"
                                },
                                {
                                    "orderid": "10892",
                                    "custid": "50",
                                    "empid": "4",
                                    "orderdate": "2022-02-17",
                                    "requireddate": "2022-03-17",
                                    "shippeddate": "2022-02-19",
                                    "shipperid": "2",
                                    "freight": "120.27",
                                    "shipname": "Ship to 50-A",
                                    "shipaddress": "Rue Joseph-Bens 3456",
                                    "shipcity": "Bruxelles",
                                    "shipregion": "NULL",
                                    "shippostalcode": "10241",
                                    "shipcountry": "Belgium"
                                },
                                {
                                    "orderid": "10896",
                                    "custid": "50",
                                    "empid": "7",
                                    "orderdate": "2022-02-19",
                                    "requireddate": "2022-03-19",
                                    "shippeddate": "2022-02-27",
                                    "shipperid": "3",
                                    "freight": "32.45",
                                    "shipname": "Ship to 50-A",
                                    "shipaddress": "Rue Joseph-Bens 3456",
                                    "shipcity": "Bruxelles",
                                    "shipregion": "NULL",
                                    "shippostalcode": "10241",
                                    "shipcountry": "Belgium"
                                },
                                {
                                    "orderid": "10911",
                                    "custid": "30",
                                    "empid": "3",
                                    "orderdate": "2022-02-26",
                                    "requireddate": "2022-03-26",
                                    "shippeddate": "2022-03-05",
                                    "shipperid": "1",
                                    "freight": "38.19",
                                    "shipname": "Destination IIYDD",
                                    "shipaddress": "C/ Romero, 5678",
                                    "shipcity": "Sevilla",
                                    "shipregion": "NULL",
                                    "shippostalcode": "10183",
                                    "shipcountry": "Spain"
                                },
                                {
                                    "orderid": "10948",
                                    "custid": "30",
                                    "empid": "3",
                                    "orderdate": "2022-03-13",
                                    "requireddate": "2022-04-10",
                                    "shippeddate": "2022-03-19",
                                    "shipperid": "3",
                                    "freight": "23.39",
                                    "shipname": "Destination GGQIR",
                                    "shipaddress": "C/ Romero, 6789",
                                    "shipcity": "Sevilla",
                                    "shipregion": "NULL",
                                    "shippostalcode": "10184",
                                    "shipcountry": "Spain"
                                },
                                {
                                    "orderid": "10978",
                                    "custid": "50",
                                    "empid": "9",
                                    "orderdate": "2022-03-26",
                                    "requireddate": "2022-04-23",
                                    "shippeddate": "2022-04-23",
                                    "shipperid": "2",
                                    "freight": "32.82",
                                    "shipname": "Ship to 50-A",
                                    "shipaddress": "Rue Joseph-Bens 3456",
                                    "shipcity": "Bruxelles",
                                    "shipregion": "NULL",
                                    "shippostalcode": "10241",
                                    "shipcountry": "Belgium"
                                },
                                {
                                    "orderid": "11004",
                                    "custid": "50",
                                    "empid": "3",
                                    "orderdate": "2022-04-07",
                                    "requireddate": "2022-05-05",
                                    "shippeddate": "2022-04-20",
                                    "shipperid": "1",
                                    "freight": "44.84",
                                    "shipname": "Ship to 50-C",
                                    "shipaddress": "Rue Joseph-Bens 5678",
                                    "shipcity": "Bruxelles",
                                    "shipregion": "NULL",
                                    "shippostalcode": "10243",
                                    "shipcountry": "Belgium"
                                },
                                {
                                    "orderid": "11007",
                                    "custid": "60",
                                    "empid": "8",
                                    "orderdate": "2022-04-08",
                                    "requireddate": "2022-05-06",
                                    "shippeddate": "2022-04-13",
                                    "shipperid": "2",
                                    "freight": "202.24",
                                    "shipname": "Ship to 60-C",
                                    "shipaddress": "Estrada da saúde n. 4567",
                                    "shipcity": "Lisboa",
                                    "shipregion": "NULL",
                                    "shippostalcode": "10272",
                                    "shipcountry": "Portugal"
                                },
                                {
                                    "orderid": "11009",
                                    "custid": "30",
                                    "empid": "2",
                                    "orderdate": "2022-04-08",
                                    "requireddate": "2022-05-06",
                                    "shippeddate": "2022-04-10",
                                    "shipperid": "1",
                                    "freight": "59.11",
                                    "shipname": "Destination WVLDH",
                                    "shipaddress": "C/ Romero, 7890",
                                    "shipcity": "Sevilla",
                                    "shipregion": "NULL",
                                    "shippostalcode": "10185",
                                    "shipcountry": "Spain"
                                },
                                {
                                    "orderid": "11037",
                                    "custid": "30",
                                    "empid": "7",
                                    "orderdate": "2022-04-21",
                                    "requireddate": "2022-05-19",
                                    "shippeddate": "2022-04-27",
                                    "shipperid": "1",
                                    "freight": "3.20",
                                    "shipname": "Destination GGQIR",
                                    "shipaddress": "C/ Romero, 6789",
                                    "shipcity": "Sevilla",
                                    "shipregion": "NULL",
                                    "shippostalcode": "10184",
                                    "shipcountry": "Spain"
                                }
                            ]
                        },
                        "text/html": "<table><tr><th>orderid</th><th>custid</th><th>empid</th><th>orderdate</th><th>requireddate</th><th>shippeddate</th><th>shipperid</th><th>freight</th><th>shipname</th><th>shipaddress</th><th>shipcity</th><th>shipregion</th><th>shippostalcode</th><th>shipcountry</th></tr><tr><td>10303</td><td>30</td><td>7</td><td>2020-09-11</td><td>2020-10-09</td><td>2020-09-18</td><td>2</td><td>107.83</td><td>Destination IIYDD</td><td>C/ Romero, 5678</td><td>Sevilla</td><td>NULL</td><td>10183</td><td>Spain</td></tr><tr><td>10336</td><td>60</td><td>7</td><td>2020-10-23</td><td>2020-11-20</td><td>2020-10-25</td><td>2</td><td>15.51</td><td>Ship to 60-B</td><td>Estrada da saúde n. 3456</td><td>Lisboa</td><td>NULL</td><td>10271</td><td>Portugal</td></tr><tr><td>10397</td><td>60</td><td>5</td><td>2020-12-27</td><td>2021-01-24</td><td>2021-01-02</td><td>1</td><td>60.26</td><td>Ship to 60-A</td><td>Estrada da saúde n. 2345</td><td>Lisboa</td><td>NULL</td><td>10270</td><td>Portugal</td></tr><tr><td>10433</td><td>60</td><td>3</td><td>2021-02-03</td><td>2021-03-03</td><td>2021-03-04</td><td>3</td><td>73.83</td><td>Ship to 60-A</td><td>Estrada da saúde n. 2345</td><td>Lisboa</td><td>NULL</td><td>10270</td><td>Portugal</td></tr><tr><td>10477</td><td>60</td><td>5</td><td>2021-03-17</td><td>2021-04-14</td><td>2021-03-25</td><td>2</td><td>13.02</td><td>Ship to 60-A</td><td>Estrada da saúde n. 2345</td><td>Lisboa</td><td>NULL</td><td>10270</td><td>Portugal</td></tr><tr><td>10529</td><td>50</td><td>5</td><td>2021-05-07</td><td>2021-06-04</td><td>2021-05-09</td><td>2</td><td>66.69</td><td>Ship to 50-B</td><td>Rue Joseph-Bens 4567</td><td>Bruxelles</td><td>NULL</td><td>10242</td><td>Belgium</td></tr><tr><td>10550</td><td>30</td><td>7</td><td>2021-05-28</td><td>2021-06-25</td><td>2021-06-06</td><td>3</td><td>4.32</td><td>Destination GGQIR</td><td>C/ Romero, 6789</td><td>Sevilla</td><td>NULL</td><td>10184</td><td>Spain</td></tr><tr><td>10629</td><td>30</td><td>4</td><td>2021-08-12</td><td>2021-09-09</td><td>2021-08-20</td><td>3</td><td>85.46</td><td>Destination IIYDD</td><td>C/ Romero, 5678</td><td>Sevilla</td><td>NULL</td><td>10183</td><td>Spain</td></tr><tr><td>10649</td><td>50</td><td>5</td><td>2021-08-28</td><td>2021-09-25</td><td>2021-08-29</td><td>3</td><td>6.20</td><td>Ship to 50-B</td><td>Rue Joseph-Bens 4567</td><td>Bruxelles</td><td>NULL</td><td>10242</td><td>Belgium</td></tr><tr><td>10760</td><td>50</td><td>4</td><td>2021-12-01</td><td>2021-12-29</td><td>2021-12-10</td><td>1</td><td>155.64</td><td>Ship to 50-B</td><td>Rue Joseph-Bens 4567</td><td>Bruxelles</td><td>NULL</td><td>10242</td><td>Belgium</td></tr><tr><td>10872</td><td>30</td><td>5</td><td>2022-02-05</td><td>2022-03-05</td><td>2022-02-09</td><td>2</td><td>175.32</td><td>Destination GGQIR</td><td>C/ Romero, 6789</td><td>Sevilla</td><td>NULL</td><td>10184</td><td>Spain</td></tr><tr><td>10874</td><td>30</td><td>5</td><td>2022-02-06</td><td>2022-03-06</td><td>2022-02-11</td><td>2</td><td>19.58</td><td>Destination IIYDD</td><td>C/ Romero, 5678</td><td>Sevilla</td><td>NULL</td><td>10183</td><td>Spain</td></tr><tr><td>10888</td><td>30</td><td>1</td><td>2022-02-16</td><td>2022-03-16</td><td>2022-02-23</td><td>2</td><td>51.87</td><td>Destination IIYDD</td><td>C/ Romero, 5678</td><td>Sevilla</td><td>NULL</td><td>10183</td><td>Spain</td></tr><tr><td>10892</td><td>50</td><td>4</td><td>2022-02-17</td><td>2022-03-17</td><td>2022-02-19</td><td>2</td><td>120.27</td><td>Ship to 50-A</td><td>Rue Joseph-Bens 3456</td><td>Bruxelles</td><td>NULL</td><td>10241</td><td>Belgium</td></tr><tr><td>10896</td><td>50</td><td>7</td><td>2022-02-19</td><td>2022-03-19</td><td>2022-02-27</td><td>3</td><td>32.45</td><td>Ship to 50-A</td><td>Rue Joseph-Bens 3456</td><td>Bruxelles</td><td>NULL</td><td>10241</td><td>Belgium</td></tr><tr><td>10911</td><td>30</td><td>3</td><td>2022-02-26</td><td>2022-03-26</td><td>2022-03-05</td><td>1</td><td>38.19</td><td>Destination IIYDD</td><td>C/ Romero, 5678</td><td>Sevilla</td><td>NULL</td><td>10183</td><td>Spain</td></tr><tr><td>10948</td><td>30</td><td>3</td><td>2022-03-13</td><td>2022-04-10</td><td>2022-03-19</td><td>3</td><td>23.39</td><td>Destination GGQIR</td><td>C/ Romero, 6789</td><td>Sevilla</td><td>NULL</td><td>10184</td><td>Spain</td></tr><tr><td>10978</td><td>50</td><td>9</td><td>2022-03-26</td><td>2022-04-23</td><td>2022-04-23</td><td>2</td><td>32.82</td><td>Ship to 50-A</td><td>Rue Joseph-Bens 3456</td><td>Bruxelles</td><td>NULL</td><td>10241</td><td>Belgium</td></tr><tr><td>11004</td><td>50</td><td>3</td><td>2022-04-07</td><td>2022-05-05</td><td>2022-04-20</td><td>1</td><td>44.84</td><td>Ship to 50-C</td><td>Rue Joseph-Bens 5678</td><td>Bruxelles</td><td>NULL</td><td>10243</td><td>Belgium</td></tr><tr><td>11007</td><td>60</td><td>8</td><td>2022-04-08</td><td>2022-05-06</td><td>2022-04-13</td><td>2</td><td>202.24</td><td>Ship to 60-C</td><td>Estrada da saúde n. 4567</td><td>Lisboa</td><td>NULL</td><td>10272</td><td>Portugal</td></tr><tr><td>11009</td><td>30</td><td>2</td><td>2022-04-08</td><td>2022-05-06</td><td>2022-04-10</td><td>1</td><td>59.11</td><td>Destination WVLDH</td><td>C/ Romero, 7890</td><td>Sevilla</td><td>NULL</td><td>10185</td><td>Spain</td></tr><tr><td>11037</td><td>30</td><td>7</td><td>2022-04-21</td><td>2022-05-19</td><td>2022-04-27</td><td>1</td><td>3.20</td><td>Destination GGQIR</td><td>C/ Romero, 6789</td><td>Sevilla</td><td>NULL</td><td>10184</td><td>Spain</td></tr></table>"
                    },
                    "metadata": {}
                }
            ],
            "execution_count": 5
        },
        {
            "cell_type": "markdown",
            "source": [
                "The store TSQLV6 had a raffle recently and the winner was pulled from a box. Due to some unfortunate events, coffee spilled onto the raffle paper and the only information about the winner is that the name contained the letters ‘Kat’ and the phone number contained ‘3456’. Who is the raffle winner?"
            ],
            "metadata": {
                "azdata_cell_guid": "81ad2790-0b8d-4d6e-8dd0-a461659244fe"
            },
            "attachments": {}
        },
        {
            "cell_type": "code",
            "source": [
                "USE TSQLV6\r\n",
                "SELECT *\r\n",
                "FROM Sales.Customers\r\n",
                "WHERE contactname LIKE '%Kat%'\r\n",
                "AND phone LIKE '%3456%';\r\n",
                "--The person is Larsson, Katarina"
            ],
            "metadata": {
                "azdata_cell_guid": "a3b83bee-a1a9-43a8-a67d-e61ec54c611a",
                "language": "sql"
            },
            "outputs": [
                {
                    "output_type": "display_data",
                    "data": {
                        "text/html": "(1 row affected)"
                    },
                    "metadata": {}
                },
                {
                    "output_type": "display_data",
                    "data": {
                        "text/html": "Total execution time: 00:00:00.017"
                    },
                    "metadata": {}
                },
                {
                    "output_type": "execute_result",
                    "execution_count": 6,
                    "data": {
                        "application/vnd.dataresource+json": {
                            "schema": {
                                "fields": [
                                    {
                                        "name": "custid"
                                    },
                                    {
                                        "name": "companyname"
                                    },
                                    {
                                        "name": "contactname"
                                    },
                                    {
                                        "name": "contacttitle"
                                    },
                                    {
                                        "name": "address"
                                    },
                                    {
                                        "name": "city"
                                    },
                                    {
                                        "name": "region"
                                    },
                                    {
                                        "name": "postalcode"
                                    },
                                    {
                                        "name": "country"
                                    },
                                    {
                                        "name": "phone"
                                    },
                                    {
                                        "name": "fax"
                                    }
                                ]
                            },
                            "data": [
                                {
                                    "custid": "90",
                                    "companyname": "Customer XBBVR",
                                    "contactname": "Larsson, Katarina",
                                    "contacttitle": "Owner/Marketing Assistant",
                                    "address": "Keskuskatu 2345",
                                    "city": "Helsinki",
                                    "region": "NULL",
                                    "postalcode": "10055",
                                    "country": "Finland",
                                    "phone": "90-012 3456",
                                    "fax": "90-789 0123"
                                }
                            ]
                        },
                        "text/html": "<table><tr><th>custid</th><th>companyname</th><th>contactname</th><th>contacttitle</th><th>address</th><th>city</th><th>region</th><th>postalcode</th><th>country</th><th>phone</th><th>fax</th></tr><tr><td>90</td><td>Customer XBBVR</td><td>Larsson, Katarina</td><td>Owner/Marketing Assistant</td><td>Keskuskatu 2345</td><td>Helsinki</td><td>NULL</td><td>10055</td><td>Finland</td><td>90-012 3456</td><td>90-789 0123</td></tr></table>"
                    },
                    "metadata": {}
                }
            ],
            "execution_count": 6
        },
        {
            "cell_type": "markdown",
            "source": [
                "Over at AdventureWorks2019 a notebook was found inside of an Engineer Department. It contained sensitive information so you want to find the owner, however the only clue is a faint 2 letters at the front of the book that looks like “GM”. Find the owne"
            ],
            "metadata": {
                "language": "sql",
                "azdata_cell_guid": "4d23c1c9-6584-4cc1-be19-26033c9aaf77"
            },
            "attachments": {}
        },
        {
            "cell_type": "code",
            "source": [
                "USE AdventureWorks2019\r\n",
                "SELECT *\r\n",
                "FROM HumanResources.Department\r\n",
                "--find about department engineer is DepertmnetID=1"
            ],
            "metadata": {
                "language": "sql",
                "azdata_cell_guid": "e8cc2d0d-1d79-4f43-b14b-ae31a4689780"
            },
            "outputs": [
                {
                    "output_type": "display_data",
                    "data": {
                        "text/html": "(16 rows affected)"
                    },
                    "metadata": {}
                },
                {
                    "output_type": "display_data",
                    "data": {
                        "text/html": "Total execution time: 00:00:00.053"
                    },
                    "metadata": {}
                },
                {
                    "output_type": "execute_result",
                    "execution_count": 7,
                    "data": {
                        "application/vnd.dataresource+json": {
                            "schema": {
                                "fields": [
                                    {
                                        "name": "DepartmentID"
                                    },
                                    {
                                        "name": "Name"
                                    },
                                    {
                                        "name": "GroupName"
                                    },
                                    {
                                        "name": "ModifiedDate"
                                    }
                                ]
                            },
                            "data": [
                                {
                                    "DepartmentID": "1",
                                    "Name": "Engineering",
                                    "GroupName": "Research and Development",
                                    "ModifiedDate": "2008-04-30 00:00:00.000"
                                },
                                {
                                    "DepartmentID": "2",
                                    "Name": "Tool Design",
                                    "GroupName": "Research and Development",
                                    "ModifiedDate": "2008-04-30 00:00:00.000"
                                },
                                {
                                    "DepartmentID": "3",
                                    "Name": "Sales",
                                    "GroupName": "Sales and Marketing",
                                    "ModifiedDate": "2008-04-30 00:00:00.000"
                                },
                                {
                                    "DepartmentID": "4",
                                    "Name": "Marketing",
                                    "GroupName": "Sales and Marketing",
                                    "ModifiedDate": "2008-04-30 00:00:00.000"
                                },
                                {
                                    "DepartmentID": "5",
                                    "Name": "Purchasing",
                                    "GroupName": "Inventory Management",
                                    "ModifiedDate": "2008-04-30 00:00:00.000"
                                },
                                {
                                    "DepartmentID": "6",
                                    "Name": "Research and Development",
                                    "GroupName": "Research and Development",
                                    "ModifiedDate": "2008-04-30 00:00:00.000"
                                },
                                {
                                    "DepartmentID": "7",
                                    "Name": "Production",
                                    "GroupName": "Manufacturing",
                                    "ModifiedDate": "2008-04-30 00:00:00.000"
                                },
                                {
                                    "DepartmentID": "8",
                                    "Name": "Production Control",
                                    "GroupName": "Manufacturing",
                                    "ModifiedDate": "2008-04-30 00:00:00.000"
                                },
                                {
                                    "DepartmentID": "9",
                                    "Name": "Human Resources",
                                    "GroupName": "Executive General and Administration",
                                    "ModifiedDate": "2008-04-30 00:00:00.000"
                                },
                                {
                                    "DepartmentID": "10",
                                    "Name": "Finance",
                                    "GroupName": "Executive General and Administration",
                                    "ModifiedDate": "2008-04-30 00:00:00.000"
                                },
                                {
                                    "DepartmentID": "11",
                                    "Name": "Information Services",
                                    "GroupName": "Executive General and Administration",
                                    "ModifiedDate": "2008-04-30 00:00:00.000"
                                },
                                {
                                    "DepartmentID": "12",
                                    "Name": "Document Control",
                                    "GroupName": "Quality Assurance",
                                    "ModifiedDate": "2008-04-30 00:00:00.000"
                                },
                                {
                                    "DepartmentID": "13",
                                    "Name": "Quality Assurance",
                                    "GroupName": "Quality Assurance",
                                    "ModifiedDate": "2008-04-30 00:00:00.000"
                                },
                                {
                                    "DepartmentID": "14",
                                    "Name": "Facilities and Maintenance",
                                    "GroupName": "Executive General and Administration",
                                    "ModifiedDate": "2008-04-30 00:00:00.000"
                                },
                                {
                                    "DepartmentID": "15",
                                    "Name": "Shipping and Receiving",
                                    "GroupName": "Inventory Management",
                                    "ModifiedDate": "2008-04-30 00:00:00.000"
                                },
                                {
                                    "DepartmentID": "16",
                                    "Name": "Executive",
                                    "GroupName": "Executive General and Administration",
                                    "ModifiedDate": "2008-04-30 00:00:00.000"
                                }
                            ]
                        },
                        "text/html": "<table><tr><th>DepartmentID</th><th>Name</th><th>GroupName</th><th>ModifiedDate</th></tr><tr><td>1</td><td>Engineering</td><td>Research and Development</td><td>2008-04-30 00:00:00.000</td></tr><tr><td>2</td><td>Tool Design</td><td>Research and Development</td><td>2008-04-30 00:00:00.000</td></tr><tr><td>3</td><td>Sales</td><td>Sales and Marketing</td><td>2008-04-30 00:00:00.000</td></tr><tr><td>4</td><td>Marketing</td><td>Sales and Marketing</td><td>2008-04-30 00:00:00.000</td></tr><tr><td>5</td><td>Purchasing</td><td>Inventory Management</td><td>2008-04-30 00:00:00.000</td></tr><tr><td>6</td><td>Research and Development</td><td>Research and Development</td><td>2008-04-30 00:00:00.000</td></tr><tr><td>7</td><td>Production</td><td>Manufacturing</td><td>2008-04-30 00:00:00.000</td></tr><tr><td>8</td><td>Production Control</td><td>Manufacturing</td><td>2008-04-30 00:00:00.000</td></tr><tr><td>9</td><td>Human Resources</td><td>Executive General and Administration</td><td>2008-04-30 00:00:00.000</td></tr><tr><td>10</td><td>Finance</td><td>Executive General and Administration</td><td>2008-04-30 00:00:00.000</td></tr><tr><td>11</td><td>Information Services</td><td>Executive General and Administration</td><td>2008-04-30 00:00:00.000</td></tr><tr><td>12</td><td>Document Control</td><td>Quality Assurance</td><td>2008-04-30 00:00:00.000</td></tr><tr><td>13</td><td>Quality Assurance</td><td>Quality Assurance</td><td>2008-04-30 00:00:00.000</td></tr><tr><td>14</td><td>Facilities and Maintenance</td><td>Executive General and Administration</td><td>2008-04-30 00:00:00.000</td></tr><tr><td>15</td><td>Shipping and Receiving</td><td>Inventory Management</td><td>2008-04-30 00:00:00.000</td></tr><tr><td>16</td><td>Executive</td><td>Executive General and Administration</td><td>2008-04-30 00:00:00.000</td></tr></table>"
                    },
                    "metadata": {}
                }
            ],
            "execution_count": 7
        },
        {
            "cell_type": "code",
            "source": [
                "USE AdventureWorks2019\r\n",
                "SELECT *\r\n",
                "FROM HumanResources.Employee\r\n",
                "WHERE JobTitle LIKE '%Engineer%' \r\n",
                "AND LoginID LIKE '%g%';\r\n",
                "--possible answers BusinessEntityID = 5,9"
            ],
            "metadata": {
                "language": "sql",
                "azdata_cell_guid": "74027cee-d03b-42fa-8bca-c8333c901247"
            },
            "outputs": [
                {
                    "output_type": "display_data",
                    "data": {
                        "text/html": "(2 rows affected)"
                    },
                    "metadata": {}
                },
                {
                    "output_type": "display_data",
                    "data": {
                        "text/html": "Total execution time: 00:00:00.009"
                    },
                    "metadata": {}
                },
                {
                    "output_type": "execute_result",
                    "execution_count": 10,
                    "data": {
                        "application/vnd.dataresource+json": {
                            "schema": {
                                "fields": [
                                    {
                                        "name": "BusinessEntityID"
                                    },
                                    {
                                        "name": "NationalIDNumber"
                                    },
                                    {
                                        "name": "LoginID"
                                    },
                                    {
                                        "name": "OrganizationNode"
                                    },
                                    {
                                        "name": "OrganizationLevel"
                                    },
                                    {
                                        "name": "JobTitle"
                                    },
                                    {
                                        "name": "BirthDate"
                                    },
                                    {
                                        "name": "MaritalStatus"
                                    },
                                    {
                                        "name": "Gender"
                                    },
                                    {
                                        "name": "HireDate"
                                    },
                                    {
                                        "name": "SalariedFlag"
                                    },
                                    {
                                        "name": "VacationHours"
                                    },
                                    {
                                        "name": "SickLeaveHours"
                                    },
                                    {
                                        "name": "CurrentFlag"
                                    },
                                    {
                                        "name": "rowguid"
                                    },
                                    {
                                        "name": "ModifiedDate"
                                    }
                                ]
                            },
                            "data": [
                                {
                                    "BusinessEntityID": "5",
                                    "NationalIDNumber": "695256908",
                                    "LoginID": "adventure-works\\gail0",
                                    "OrganizationNode": "0x5ADA",
                                    "OrganizationLevel": "3",
                                    "JobTitle": "Design Engineer",
                                    "BirthDate": "1952-09-27",
                                    "MaritalStatus": "M",
                                    "Gender": "F",
                                    "HireDate": "2008-01-06",
                                    "SalariedFlag": "1",
                                    "VacationHours": "5",
                                    "SickLeaveHours": "22",
                                    "CurrentFlag": "1",
                                    "rowguid": "ec84ae09-f9b8-4a15-b4a9-6ccbab919b08",
                                    "ModifiedDate": "2014-06-30 00:00:00.000"
                                },
                                {
                                    "BusinessEntityID": "9",
                                    "NationalIDNumber": "658797903",
                                    "LoginID": "adventure-works\\gigi0",
                                    "OrganizationNode": "0x5AE168",
                                    "OrganizationLevel": "4",
                                    "JobTitle": "Research and Development Engineer",
                                    "BirthDate": "1979-01-21",
                                    "MaritalStatus": "M",
                                    "Gender": "F",
                                    "HireDate": "2009-01-16",
                                    "SalariedFlag": "1",
                                    "VacationHours": "63",
                                    "SickLeaveHours": "51",
                                    "CurrentFlag": "1",
                                    "rowguid": "50b6cdc6-7570-47ef-9570-48a64b5f2ecf",
                                    "ModifiedDate": "2014-06-30 00:00:00.000"
                                }
                            ]
                        },
                        "text/html": "<table><tr><th>BusinessEntityID</th><th>NationalIDNumber</th><th>LoginID</th><th>OrganizationNode</th><th>OrganizationLevel</th><th>JobTitle</th><th>BirthDate</th><th>MaritalStatus</th><th>Gender</th><th>HireDate</th><th>SalariedFlag</th><th>VacationHours</th><th>SickLeaveHours</th><th>CurrentFlag</th><th>rowguid</th><th>ModifiedDate</th></tr><tr><td>5</td><td>695256908</td><td>adventure-works\\gail0</td><td>0x5ADA</td><td>3</td><td>Design Engineer</td><td>1952-09-27</td><td>M</td><td>F</td><td>2008-01-06</td><td>1</td><td>5</td><td>22</td><td>1</td><td>ec84ae09-f9b8-4a15-b4a9-6ccbab919b08</td><td>2014-06-30 00:00:00.000</td></tr><tr><td>9</td><td>658797903</td><td>adventure-works\\gigi0</td><td>0x5AE168</td><td>4</td><td>Research and Development Engineer</td><td>1979-01-21</td><td>M</td><td>F</td><td>2009-01-16</td><td>1</td><td>63</td><td>51</td><td>1</td><td>50b6cdc6-7570-47ef-9570-48a64b5f2ecf</td><td>2014-06-30 00:00:00.000</td></tr></table>"
                    },
                    "metadata": {}
                }
            ],
            "execution_count": 10
        },
        {
            "cell_type": "code",
            "source": [
                "USE AdventureWorks2019\r\n",
                "SELECT *\r\n",
                "FROM Person.Person\r\n",
                "WHERE BusinessEntityID IN(5,9);\r\n",
                "--answer is GIGI, MATHEW ='GM'"
            ],
            "metadata": {
                "language": "sql",
                "azdata_cell_guid": "00079f2f-5cd7-4d77-9f44-af54d00bbc93"
            },
            "outputs": [
                {
                    "output_type": "display_data",
                    "data": {
                        "text/html": "(2 rows affected)"
                    },
                    "metadata": {}
                },
                {
                    "output_type": "display_data",
                    "data": {
                        "text/html": "Total execution time: 00:00:00.061"
                    },
                    "metadata": {}
                },
                {
                    "output_type": "execute_result",
                    "execution_count": 11,
                    "data": {
                        "application/vnd.dataresource+json": {
                            "schema": {
                                "fields": [
                                    {
                                        "name": "BusinessEntityID"
                                    },
                                    {
                                        "name": "PersonType"
                                    },
                                    {
                                        "name": "NameStyle"
                                    },
                                    {
                                        "name": "Title"
                                    },
                                    {
                                        "name": "FirstName"
                                    },
                                    {
                                        "name": "MiddleName"
                                    },
                                    {
                                        "name": "LastName"
                                    },
                                    {
                                        "name": "Suffix"
                                    },
                                    {
                                        "name": "EmailPromotion"
                                    },
                                    {
                                        "name": "AdditionalContactInfo"
                                    },
                                    {
                                        "name": "Demographics"
                                    },
                                    {
                                        "name": "rowguid"
                                    },
                                    {
                                        "name": "ModifiedDate"
                                    }
                                ]
                            },
                            "data": [
                                {
                                    "BusinessEntityID": "5",
                                    "PersonType": "EM",
                                    "NameStyle": "0",
                                    "Title": "Ms.",
                                    "FirstName": "Gail",
                                    "MiddleName": "A",
                                    "LastName": "Erickson",
                                    "Suffix": "NULL",
                                    "EmailPromotion": "0",
                                    "AdditionalContactInfo": "NULL",
                                    "Demographics": "<IndividualSurvey xmlns=\"http://schemas.microsoft.com/sqlserver/2004/07/adventure-works/IndividualSurvey\"><TotalPurchaseYTD>0</TotalPurchaseYTD></IndividualSurvey>",
                                    "rowguid": "f3a3f6b4-ae3b-430c-a754-9f2231ba6fef",
                                    "ModifiedDate": "2007-12-30 00:00:00.000"
                                },
                                {
                                    "BusinessEntityID": "9",
                                    "PersonType": "EM",
                                    "NameStyle": "0",
                                    "Title": "NULL",
                                    "FirstName": "Gigi",
                                    "MiddleName": "N",
                                    "LastName": "Matthew",
                                    "Suffix": "NULL",
                                    "EmailPromotion": "0",
                                    "AdditionalContactInfo": "NULL",
                                    "Demographics": "<IndividualSurvey xmlns=\"http://schemas.microsoft.com/sqlserver/2004/07/adventure-works/IndividualSurvey\"><TotalPurchaseYTD>0</TotalPurchaseYTD></IndividualSurvey>",
                                    "rowguid": "5fc28c0e-6d36-4252-9846-05caa0b1f6c5",
                                    "ModifiedDate": "2009-01-09 00:00:00.000"
                                }
                            ]
                        },
                        "text/html": "<table><tr><th>BusinessEntityID</th><th>PersonType</th><th>NameStyle</th><th>Title</th><th>FirstName</th><th>MiddleName</th><th>LastName</th><th>Suffix</th><th>EmailPromotion</th><th>AdditionalContactInfo</th><th>Demographics</th><th>rowguid</th><th>ModifiedDate</th></tr><tr><td>5</td><td>EM</td><td>0</td><td>Ms.</td><td>Gail</td><td>A</td><td>Erickson</td><td>NULL</td><td>0</td><td>NULL</td><td>&lt;IndividualSurvey xmlns=&quot;http://schemas.microsoft.com/sqlserver/2004/07/adventure-works/IndividualSurvey&quot;&gt;&lt;TotalPurchaseYTD&gt;0&lt;/TotalPurchaseYTD&gt;&lt;/IndividualSurvey&gt;</td><td>f3a3f6b4-ae3b-430c-a754-9f2231ba6fef</td><td>2007-12-30 00:00:00.000</td></tr><tr><td>9</td><td>EM</td><td>0</td><td>NULL</td><td>Gigi</td><td>N</td><td>Matthew</td><td>NULL</td><td>0</td><td>NULL</td><td>&lt;IndividualSurvey xmlns=&quot;http://schemas.microsoft.com/sqlserver/2004/07/adventure-works/IndividualSurvey&quot;&gt;&lt;TotalPurchaseYTD&gt;0&lt;/TotalPurchaseYTD&gt;&lt;/IndividualSurvey&gt;</td><td>5fc28c0e-6d36-4252-9846-05caa0b1f6c5</td><td>2009-01-09 00:00:00.000</td></tr></table>"
                    },
                    "metadata": {}
                }
            ],
            "execution_count": 11
        },
        {
            "cell_type": "markdown",
            "source": [
                "Rumors are going around at AdventureWorks2019 that there’s a singing ghost that wanders and haunts the buildings late at night but some say it's a real woman. Get to the bottom of this. Who might have access to all of the departments late at night?"
            ],
            "metadata": {
                "language": "sql",
                "azdata_cell_guid": "ae614fc5-4215-40f5-87ec-f792d946e7c8"
            },
            "attachments": {}
        },
        {
            "cell_type": "code",
            "source": [
                "USE AdventureWorks2019\r\n",
                "SELECT *\r\n",
                "FROM HumanResources.Employee\r\n",
                "WHERE JobTitle LIKE '%jANITOR%';\r\n",
                "--AND Gender LIKE '&F&';\r\n",
                "-- Answers: businessID= 229 and 231. "
            ],
            "metadata": {
                "language": "sql",
                "azdata_cell_guid": "ac3e6a90-bc46-417d-bb3d-96f5f41fecbf"
            },
            "outputs": [
                {
                    "output_type": "display_data",
                    "data": {
                        "text/html": "(4 rows affected)"
                    },
                    "metadata": {}
                },
                {
                    "output_type": "display_data",
                    "data": {
                        "text/html": "Total execution time: 00:00:00.024"
                    },
                    "metadata": {}
                },
                {
                    "output_type": "execute_result",
                    "execution_count": 12,
                    "data": {
                        "application/vnd.dataresource+json": {
                            "schema": {
                                "fields": [
                                    {
                                        "name": "BusinessEntityID"
                                    },
                                    {
                                        "name": "NationalIDNumber"
                                    },
                                    {
                                        "name": "LoginID"
                                    },
                                    {
                                        "name": "OrganizationNode"
                                    },
                                    {
                                        "name": "OrganizationLevel"
                                    },
                                    {
                                        "name": "JobTitle"
                                    },
                                    {
                                        "name": "BirthDate"
                                    },
                                    {
                                        "name": "MaritalStatus"
                                    },
                                    {
                                        "name": "Gender"
                                    },
                                    {
                                        "name": "HireDate"
                                    },
                                    {
                                        "name": "SalariedFlag"
                                    },
                                    {
                                        "name": "VacationHours"
                                    },
                                    {
                                        "name": "SickLeaveHours"
                                    },
                                    {
                                        "name": "CurrentFlag"
                                    },
                                    {
                                        "name": "rowguid"
                                    },
                                    {
                                        "name": "ModifiedDate"
                                    }
                                ]
                            },
                            "data": [
                                {
                                    "BusinessEntityID": "229",
                                    "NationalIDNumber": "879334904",
                                    "LoginID": "adventure-works\\lori1",
                                    "OrganizationNode": "0x7C2B58",
                                    "OrganizationLevel": "4",
                                    "JobTitle": "Janitor",
                                    "BirthDate": "1970-07-31",
                                    "MaritalStatus": "M",
                                    "Gender": "F",
                                    "HireDate": "2010-02-16",
                                    "SalariedFlag": "0",
                                    "VacationHours": "90",
                                    "SickLeaveHours": "65",
                                    "CurrentFlag": "1",
                                    "rowguid": "929fe187-ee24-4f5f-af2a-f96324f09423",
                                    "ModifiedDate": "2014-06-30 00:00:00.000"
                                },
                                {
                                    "BusinessEntityID": "230",
                                    "NationalIDNumber": "28414965",
                                    "LoginID": "adventure-works\\stuart1",
                                    "OrganizationNode": "0x7C2B68",
                                    "OrganizationLevel": "4",
                                    "JobTitle": "Janitor",
                                    "BirthDate": "1971-12-17",
                                    "MaritalStatus": "M",
                                    "Gender": "M",
                                    "HireDate": "2010-03-05",
                                    "SalariedFlag": "0",
                                    "VacationHours": "88",
                                    "SickLeaveHours": "64",
                                    "CurrentFlag": "1",
                                    "rowguid": "cc2791e6-7629-49c5-922a-81445afdf033",
                                    "ModifiedDate": "2014-06-30 00:00:00.000"
                                },
                                {
                                    "BusinessEntityID": "231",
                                    "NationalIDNumber": "153479919",
                                    "LoginID": "adventure-works\\jo1",
                                    "OrganizationNode": "0x7C2B78",
                                    "OrganizationLevel": "4",
                                    "JobTitle": "Janitor",
                                    "BirthDate": "1954-04-24",
                                    "MaritalStatus": "M",
                                    "Gender": "F",
                                    "HireDate": "2010-03-07",
                                    "SalariedFlag": "0",
                                    "VacationHours": "91",
                                    "SickLeaveHours": "65",
                                    "CurrentFlag": "1",
                                    "rowguid": "39af5cca-9b52-41e5-b510-72901d2578f6",
                                    "ModifiedDate": "2014-06-30 00:00:00.000"
                                },
                                {
                                    "BusinessEntityID": "232",
                                    "NationalIDNumber": "646304055",
                                    "LoginID": "adventure-works\\pat0",
                                    "OrganizationNode": "0x7C2B84",
                                    "OrganizationLevel": "4",
                                    "JobTitle": "Janitor",
                                    "BirthDate": "1970-12-03",
                                    "MaritalStatus": "S",
                                    "Gender": "M",
                                    "HireDate": "2010-01-27",
                                    "SalariedFlag": "0",
                                    "VacationHours": "89",
                                    "SickLeaveHours": "64",
                                    "CurrentFlag": "1",
                                    "rowguid": "49238447-30ee-4009-993f-0b6c756ab436",
                                    "ModifiedDate": "2014-06-30 00:00:00.000"
                                }
                            ]
                        },
                        "text/html": "<table><tr><th>BusinessEntityID</th><th>NationalIDNumber</th><th>LoginID</th><th>OrganizationNode</th><th>OrganizationLevel</th><th>JobTitle</th><th>BirthDate</th><th>MaritalStatus</th><th>Gender</th><th>HireDate</th><th>SalariedFlag</th><th>VacationHours</th><th>SickLeaveHours</th><th>CurrentFlag</th><th>rowguid</th><th>ModifiedDate</th></tr><tr><td>229</td><td>879334904</td><td>adventure-works\\lori1</td><td>0x7C2B58</td><td>4</td><td>Janitor</td><td>1970-07-31</td><td>M</td><td>F</td><td>2010-02-16</td><td>0</td><td>90</td><td>65</td><td>1</td><td>929fe187-ee24-4f5f-af2a-f96324f09423</td><td>2014-06-30 00:00:00.000</td></tr><tr><td>230</td><td>28414965</td><td>adventure-works\\stuart1</td><td>0x7C2B68</td><td>4</td><td>Janitor</td><td>1971-12-17</td><td>M</td><td>M</td><td>2010-03-05</td><td>0</td><td>88</td><td>64</td><td>1</td><td>cc2791e6-7629-49c5-922a-81445afdf033</td><td>2014-06-30 00:00:00.000</td></tr><tr><td>231</td><td>153479919</td><td>adventure-works\\jo1</td><td>0x7C2B78</td><td>4</td><td>Janitor</td><td>1954-04-24</td><td>M</td><td>F</td><td>2010-03-07</td><td>0</td><td>91</td><td>65</td><td>1</td><td>39af5cca-9b52-41e5-b510-72901d2578f6</td><td>2014-06-30 00:00:00.000</td></tr><tr><td>232</td><td>646304055</td><td>adventure-works\\pat0</td><td>0x7C2B84</td><td>4</td><td>Janitor</td><td>1970-12-03</td><td>S</td><td>M</td><td>2010-01-27</td><td>0</td><td>89</td><td>64</td><td>1</td><td>49238447-30ee-4009-993f-0b6c756ab436</td><td>2014-06-30 00:00:00.000</td></tr></table>"
                    },
                    "metadata": {}
                }
            ],
            "execution_count": 12
        },
        {
            "cell_type": "markdown",
            "source": [
                "A WideWorldImporters ticket has been made about a complaint that CustomerID-33 received their joke mug in the wrong color. Their transaction 28012 had occurred 2015-1-18. Find out the correct color that they were supposed to get so their complaint can be processed quickly."
            ],
            "metadata": {
                "language": "sql",
                "azdata_cell_guid": "033031dc-e697-46c2-a793-efb0995fef81"
            },
            "attachments": {}
        },
        {
            "cell_type": "code",
            "source": [
                "USE WideWorldImporters\r\n",
                "SELECT *\r\n",
                "FROM Sales.Customers\r\n",
                "WHERE CustomerID =33;\r\n",
                "--1065"
            ],
            "metadata": {
                "language": "sql",
                "azdata_cell_guid": "12cc7f58-0a63-4f4f-909b-05672b4a44cc"
            },
            "outputs": [
                {
                    "output_type": "display_data",
                    "data": {
                        "text/html": "(1 row affected)"
                    },
                    "metadata": {}
                },
                {
                    "output_type": "display_data",
                    "data": {
                        "text/html": "Total execution time: 00:00:00.048"
                    },
                    "metadata": {}
                },
                {
                    "output_type": "execute_result",
                    "execution_count": 13,
                    "data": {
                        "application/vnd.dataresource+json": {
                            "schema": {
                                "fields": [
                                    {
                                        "name": "CustomerID"
                                    },
                                    {
                                        "name": "CustomerName"
                                    },
                                    {
                                        "name": "BillToCustomerID"
                                    },
                                    {
                                        "name": "CustomerCategoryID"
                                    },
                                    {
                                        "name": "BuyingGroupID"
                                    },
                                    {
                                        "name": "PrimaryContactPersonID"
                                    },
                                    {
                                        "name": "AlternateContactPersonID"
                                    },
                                    {
                                        "name": "DeliveryMethodID"
                                    },
                                    {
                                        "name": "DeliveryCityID"
                                    },
                                    {
                                        "name": "PostalCityID"
                                    },
                                    {
                                        "name": "CreditLimit"
                                    },
                                    {
                                        "name": "AccountOpenedDate"
                                    },
                                    {
                                        "name": "StandardDiscountPercentage"
                                    },
                                    {
                                        "name": "IsStatementSent"
                                    },
                                    {
                                        "name": "IsOnCreditHold"
                                    },
                                    {
                                        "name": "PaymentDays"
                                    },
                                    {
                                        "name": "PhoneNumber"
                                    },
                                    {
                                        "name": "FaxNumber"
                                    },
                                    {
                                        "name": "DeliveryRun"
                                    },
                                    {
                                        "name": "RunPosition"
                                    },
                                    {
                                        "name": "WebsiteURL"
                                    },
                                    {
                                        "name": "DeliveryAddressLine1"
                                    },
                                    {
                                        "name": "DeliveryAddressLine2"
                                    },
                                    {
                                        "name": "DeliveryPostalCode"
                                    },
                                    {
                                        "name": "DeliveryLocation"
                                    },
                                    {
                                        "name": "PostalAddressLine1"
                                    },
                                    {
                                        "name": "PostalAddressLine2"
                                    },
                                    {
                                        "name": "PostalPostalCode"
                                    },
                                    {
                                        "name": "LastEditedBy"
                                    },
                                    {
                                        "name": "ValidFrom"
                                    },
                                    {
                                        "name": "ValidTo"
                                    }
                                ]
                            },
                            "data": [
                                {
                                    "CustomerID": "33",
                                    "CustomerName": "Tailspin Toys (Boyden Arbor, SC)",
                                    "BillToCustomerID": "1",
                                    "CustomerCategoryID": "3",
                                    "BuyingGroupID": "1",
                                    "PrimaryContactPersonID": "1065",
                                    "AlternateContactPersonID": "1066",
                                    "DeliveryMethodID": "3",
                                    "DeliveryCityID": "3736",
                                    "PostalCityID": "3736",
                                    "CreditLimit": "NULL",
                                    "AccountOpenedDate": "2013-01-01",
                                    "StandardDiscountPercentage": "0.000",
                                    "IsStatementSent": "0",
                                    "IsOnCreditHold": "0",
                                    "PaymentDays": "7",
                                    "PhoneNumber": "(803) 555-0100",
                                    "FaxNumber": "(803) 555-0101",
                                    "DeliveryRun": "",
                                    "RunPosition": "",
                                    "WebsiteURL": "http://www.tailspintoys.com/BoydenArbor",
                                    "DeliveryAddressLine1": "Shop 151",
                                    "DeliveryAddressLine2": "799 Karnik Boulevard",
                                    "DeliveryPostalCode": "90497",
                                    "DeliveryLocation": "0xE6100000010CCCD655DC130341406E47DD73853C54C0",
                                    "PostalAddressLine1": "PO Box 135",
                                    "PostalAddressLine2": "Ghoshville",
                                    "PostalPostalCode": "90497",
                                    "LastEditedBy": "1",
                                    "ValidFrom": "2013-01-01 00:00:00.0000000",
                                    "ValidTo": "9999-12-31 23:59:59.9999999"
                                }
                            ]
                        },
                        "text/html": "<table><tr><th>CustomerID</th><th>CustomerName</th><th>BillToCustomerID</th><th>CustomerCategoryID</th><th>BuyingGroupID</th><th>PrimaryContactPersonID</th><th>AlternateContactPersonID</th><th>DeliveryMethodID</th><th>DeliveryCityID</th><th>PostalCityID</th><th>CreditLimit</th><th>AccountOpenedDate</th><th>StandardDiscountPercentage</th><th>IsStatementSent</th><th>IsOnCreditHold</th><th>PaymentDays</th><th>PhoneNumber</th><th>FaxNumber</th><th>DeliveryRun</th><th>RunPosition</th><th>WebsiteURL</th><th>DeliveryAddressLine1</th><th>DeliveryAddressLine2</th><th>DeliveryPostalCode</th><th>DeliveryLocation</th><th>PostalAddressLine1</th><th>PostalAddressLine2</th><th>PostalPostalCode</th><th>LastEditedBy</th><th>ValidFrom</th><th>ValidTo</th></tr><tr><td>33</td><td>Tailspin Toys (Boyden Arbor, SC)</td><td>1</td><td>3</td><td>1</td><td>1065</td><td>1066</td><td>3</td><td>3736</td><td>3736</td><td>NULL</td><td>2013-01-01</td><td>0.000</td><td>0</td><td>0</td><td>7</td><td>(803) 555-0100</td><td>(803) 555-0101</td><td></td><td></td><td>http://www.tailspintoys.com/BoydenArbor</td><td>Shop 151</td><td>799 Karnik Boulevard</td><td>90497</td><td>0xE6100000010CCCD655DC130341406E47DD73853C54C0</td><td>PO Box 135</td><td>Ghoshville</td><td>90497</td><td>1</td><td>2013-01-01 00:00:00.0000000</td><td>9999-12-31 23:59:59.9999999</td></tr></table>"
                    },
                    "metadata": {}
                }
            ],
            "execution_count": 13
        },
        {
            "cell_type": "markdown",
            "source": [
                "On 2016-03-07 someone wearing a small Halloween Skull Mask and small pink Furry animal socks from WideWorldImporters was seen stabbing someone to death in an alleyway. Witnesses say the suspect was a woman. After some investigation, a smudged crumpled receipt was found with the address suite 13. Who might the suspect be?"
            ],
            "metadata": {
                "language": "sql",
                "azdata_cell_guid": "a7eee60f-2d33-432a-ba59-a69867810a27"
            },
            "attachments": {}
        },
        {
            "cell_type": "code",
            "source": [
                "USE WideWorldImporters\r\n",
                "SELECT *\r\n",
                "FROM Purchasing.PurchaseOrderLines\r\n",
                "WHERE [Description] LIKE '%socks%';"
            ],
            "metadata": {
                "language": "sql",
                "azdata_cell_guid": "2a6fbe48-29cb-436b-a9bc-84a08445b735",
                "tags": []
            },
            "outputs": [
                {
                    "output_type": "display_data",
                    "data": {
                        "text/html": "(4 rows affected)"
                    },
                    "metadata": {}
                },
                {
                    "output_type": "display_data",
                    "data": {
                        "text/html": "Total execution time: 00:00:00.038"
                    },
                    "metadata": {}
                },
                {
                    "output_type": "execute_result",
                    "execution_count": 17,
                    "data": {
                        "application/vnd.dataresource+json": {
                            "schema": {
                                "fields": [
                                    {
                                        "name": "PurchaseOrderLineID"
                                    },
                                    {
                                        "name": "PurchaseOrderID"
                                    },
                                    {
                                        "name": "StockItemID"
                                    },
                                    {
                                        "name": "OrderedOuters"
                                    },
                                    {
                                        "name": "Description"
                                    },
                                    {
                                        "name": "ReceivedOuters"
                                    },
                                    {
                                        "name": "PackageTypeID"
                                    },
                                    {
                                        "name": "ExpectedUnitPricePerOuter"
                                    },
                                    {
                                        "name": "LastReceiptDate"
                                    },
                                    {
                                        "name": "IsOrderLineFinalized"
                                    },
                                    {
                                        "name": "LastEditedBy"
                                    },
                                    {
                                        "name": "LastEditedWhen"
                                    }
                                ]
                            },
                            "data": [
                                {
                                    "PurchaseOrderLineID": "32",
                                    "PurchaseOrderID": "2",
                                    "StockItemID": "138",
                                    "OrderedOuters": "23",
                                    "Description": "Furry animal socks (Pink) S",
                                    "ReceivedOuters": "23",
                                    "PackageTypeID": "9",
                                    "ExpectedUnitPricePerOuter": "18.00",
                                    "LastReceiptDate": "2013-01-02",
                                    "IsOrderLineFinalized": "1",
                                    "LastEditedBy": "6",
                                    "LastEditedWhen": "2013-01-02 07:00:00.0000000"
                                },
                                {
                                    "PurchaseOrderLineID": "33",
                                    "PurchaseOrderID": "2",
                                    "StockItemID": "141",
                                    "OrderedOuters": "16",
                                    "Description": "Furry animal socks (Pink) XL",
                                    "ReceivedOuters": "16",
                                    "PackageTypeID": "9",
                                    "ExpectedUnitPricePerOuter": "18.00",
                                    "LastReceiptDate": "2013-01-02",
                                    "IsOrderLineFinalized": "1",
                                    "LastEditedBy": "6",
                                    "LastEditedWhen": "2013-01-02 07:00:00.0000000"
                                },
                                {
                                    "PurchaseOrderLineID": "147",
                                    "PurchaseOrderID": "12",
                                    "StockItemID": "139",
                                    "OrderedOuters": "8",
                                    "Description": "Furry animal socks (Pink) M",
                                    "ReceivedOuters": "8",
                                    "PackageTypeID": "9",
                                    "ExpectedUnitPricePerOuter": "18.00",
                                    "LastReceiptDate": "2013-01-04",
                                    "IsOrderLineFinalized": "1",
                                    "LastEditedBy": "3",
                                    "LastEditedWhen": "2013-01-04 07:00:00.0000000"
                                },
                                {
                                    "PurchaseOrderLineID": "207",
                                    "PurchaseOrderID": "26",
                                    "StockItemID": "140",
                                    "OrderedOuters": "26",
                                    "Description": "Furry animal socks (Pink) L",
                                    "ReceivedOuters": "26",
                                    "PackageTypeID": "9",
                                    "ExpectedUnitPricePerOuter": "18.00",
                                    "LastReceiptDate": "2013-01-08",
                                    "IsOrderLineFinalized": "1",
                                    "LastEditedBy": "17",
                                    "LastEditedWhen": "2013-01-08 07:00:00.0000000"
                                }
                            ]
                        },
                        "text/html": "<table><tr><th>PurchaseOrderLineID</th><th>PurchaseOrderID</th><th>StockItemID</th><th>OrderedOuters</th><th>Description</th><th>ReceivedOuters</th><th>PackageTypeID</th><th>ExpectedUnitPricePerOuter</th><th>LastReceiptDate</th><th>IsOrderLineFinalized</th><th>LastEditedBy</th><th>LastEditedWhen</th></tr><tr><td>32</td><td>2</td><td>138</td><td>23</td><td>Furry animal socks (Pink) S</td><td>23</td><td>9</td><td>18.00</td><td>2013-01-02</td><td>1</td><td>6</td><td>2013-01-02 07:00:00.0000000</td></tr><tr><td>33</td><td>2</td><td>141</td><td>16</td><td>Furry animal socks (Pink) XL</td><td>16</td><td>9</td><td>18.00</td><td>2013-01-02</td><td>1</td><td>6</td><td>2013-01-02 07:00:00.0000000</td></tr><tr><td>147</td><td>12</td><td>139</td><td>8</td><td>Furry animal socks (Pink) M</td><td>8</td><td>9</td><td>18.00</td><td>2013-01-04</td><td>1</td><td>3</td><td>2013-01-04 07:00:00.0000000</td></tr><tr><td>207</td><td>26</td><td>140</td><td>26</td><td>Furry animal socks (Pink) L</td><td>26</td><td>9</td><td>18.00</td><td>2013-01-08</td><td>1</td><td>17</td><td>2013-01-08 07:00:00.0000000</td></tr></table>"
                    },
                    "metadata": {}
                }
            ],
            "execution_count": 17
        },
        {
            "cell_type": "code",
            "source": [
                "USE WideWorldImporters\r\n",
                "SELECT *\r\n",
                "FROM  Sales.Customers\r\n",
                "WHERE DeliveryAddressLine1 LIKE '%suite 13%';"
            ],
            "metadata": {
                "language": "sql",
                "azdata_cell_guid": "42dac1bd-9c28-4c55-8b93-6776e296c11c"
            },
            "outputs": [
                {
                    "output_type": "display_data",
                    "data": {
                        "text/html": "(13 rows affected)"
                    },
                    "metadata": {}
                },
                {
                    "output_type": "display_data",
                    "data": {
                        "text/html": "Total execution time: 00:00:00.020"
                    },
                    "metadata": {}
                },
                {
                    "output_type": "execute_result",
                    "execution_count": 18,
                    "data": {
                        "application/vnd.dataresource+json": {
                            "schema": {
                                "fields": [
                                    {
                                        "name": "CustomerID"
                                    },
                                    {
                                        "name": "CustomerName"
                                    },
                                    {
                                        "name": "BillToCustomerID"
                                    },
                                    {
                                        "name": "CustomerCategoryID"
                                    },
                                    {
                                        "name": "BuyingGroupID"
                                    },
                                    {
                                        "name": "PrimaryContactPersonID"
                                    },
                                    {
                                        "name": "AlternateContactPersonID"
                                    },
                                    {
                                        "name": "DeliveryMethodID"
                                    },
                                    {
                                        "name": "DeliveryCityID"
                                    },
                                    {
                                        "name": "PostalCityID"
                                    },
                                    {
                                        "name": "CreditLimit"
                                    },
                                    {
                                        "name": "AccountOpenedDate"
                                    },
                                    {
                                        "name": "StandardDiscountPercentage"
                                    },
                                    {
                                        "name": "IsStatementSent"
                                    },
                                    {
                                        "name": "IsOnCreditHold"
                                    },
                                    {
                                        "name": "PaymentDays"
                                    },
                                    {
                                        "name": "PhoneNumber"
                                    },
                                    {
                                        "name": "FaxNumber"
                                    },
                                    {
                                        "name": "DeliveryRun"
                                    },
                                    {
                                        "name": "RunPosition"
                                    },
                                    {
                                        "name": "WebsiteURL"
                                    },
                                    {
                                        "name": "DeliveryAddressLine1"
                                    },
                                    {
                                        "name": "DeliveryAddressLine2"
                                    },
                                    {
                                        "name": "DeliveryPostalCode"
                                    },
                                    {
                                        "name": "DeliveryLocation"
                                    },
                                    {
                                        "name": "PostalAddressLine1"
                                    },
                                    {
                                        "name": "PostalAddressLine2"
                                    },
                                    {
                                        "name": "PostalPostalCode"
                                    },
                                    {
                                        "name": "LastEditedBy"
                                    },
                                    {
                                        "name": "ValidFrom"
                                    },
                                    {
                                        "name": "ValidTo"
                                    }
                                ]
                            },
                            "data": [
                                {
                                    "CustomerID": "153",
                                    "CustomerName": "Tailspin Toys (Marcell, MN)",
                                    "BillToCustomerID": "1",
                                    "CustomerCategoryID": "3",
                                    "BuyingGroupID": "1",
                                    "PrimaryContactPersonID": "1305",
                                    "AlternateContactPersonID": "1306",
                                    "DeliveryMethodID": "3",
                                    "DeliveryCityID": "20901",
                                    "PostalCityID": "20901",
                                    "CreditLimit": "NULL",
                                    "AccountOpenedDate": "2013-01-01",
                                    "StandardDiscountPercentage": "0.000",
                                    "IsStatementSent": "0",
                                    "IsOnCreditHold": "0",
                                    "PaymentDays": "7",
                                    "PhoneNumber": "(218) 555-0100",
                                    "FaxNumber": "(218) 555-0101",
                                    "DeliveryRun": "",
                                    "RunPosition": "",
                                    "WebsiteURL": "http://www.tailspintoys.com/Marcell",
                                    "DeliveryAddressLine1": "Suite 130",
                                    "DeliveryAddressLine2": "1952 Laramee Street",
                                    "DeliveryPostalCode": "90729",
                                    "DeliveryLocation": "0xE6100000010CD704076AE7CB47409D3C7661356C57C0",
                                    "PostalAddressLine1": "PO Box 9967",
                                    "PostalAddressLine2": "Jantunenville",
                                    "PostalPostalCode": "90729",
                                    "LastEditedBy": "1",
                                    "ValidFrom": "2013-01-01 00:00:00.0000000",
                                    "ValidTo": "9999-12-31 23:59:59.9999999"
                                },
                                {
                                    "CustomerID": "178",
                                    "CustomerName": "Tailspin Toys (Armstrong Creek, WI)",
                                    "BillToCustomerID": "1",
                                    "CustomerCategoryID": "3",
                                    "BuyingGroupID": "1",
                                    "PrimaryContactPersonID": "1355",
                                    "AlternateContactPersonID": "1356",
                                    "DeliveryMethodID": "3",
                                    "DeliveryCityID": "1207",
                                    "PostalCityID": "1207",
                                    "CreditLimit": "NULL",
                                    "AccountOpenedDate": "2013-01-01",
                                    "StandardDiscountPercentage": "0.000",
                                    "IsStatementSent": "0",
                                    "IsOnCreditHold": "0",
                                    "PaymentDays": "7",
                                    "PhoneNumber": "(262) 555-0100",
                                    "FaxNumber": "(262) 555-0101",
                                    "DeliveryRun": "",
                                    "RunPosition": "",
                                    "WebsiteURL": "http://www.tailspintoys.com/ArmstrongCreek",
                                    "DeliveryAddressLine1": "Suite 139",
                                    "DeliveryAddressLine2": "902 Rozitis Crescent",
                                    "DeliveryPostalCode": "90397",
                                    "DeliveryLocation": "0xE6100000010CD854CCF742D44640697FB1088F1C56C0",
                                    "PostalAddressLine1": "PO Box 3364",
                                    "PostalAddressLine2": "Dikshitville",
                                    "PostalPostalCode": "90397",
                                    "LastEditedBy": "1",
                                    "ValidFrom": "2013-01-01 00:00:00.0000000",
                                    "ValidTo": "9999-12-31 23:59:59.9999999"
                                },
                                {
                                    "CustomerID": "405",
                                    "CustomerName": "Wingtip Toys (Bourbonnais, IL)",
                                    "BillToCustomerID": "401",
                                    "CustomerCategoryID": "3",
                                    "BuyingGroupID": "2",
                                    "PrimaryContactPersonID": "2009",
                                    "AlternateContactPersonID": "2010",
                                    "DeliveryMethodID": "3",
                                    "DeliveryCityID": "3659",
                                    "PostalCityID": "3659",
                                    "CreditLimit": "NULL",
                                    "AccountOpenedDate": "2013-01-01",
                                    "StandardDiscountPercentage": "0.000",
                                    "IsStatementSent": "0",
                                    "IsOnCreditHold": "0",
                                    "PaymentDays": "7",
                                    "PhoneNumber": "(217) 555-0100",
                                    "FaxNumber": "(217) 555-0101",
                                    "DeliveryRun": "",
                                    "RunPosition": "",
                                    "WebsiteURL": "http://www.wingtiptoys.com/Bourbonnais",
                                    "DeliveryAddressLine1": "Suite 139",
                                    "DeliveryAddressLine2": "510 Dumina Boulevard",
                                    "DeliveryPostalCode": "90582",
                                    "DeliveryLocation": "0xE6100000010CB22F3432239244403586EFB300F855C0",
                                    "PostalAddressLine1": "PO Box 4631",
                                    "PostalAddressLine2": "Thakurville",
                                    "PostalPostalCode": "90582",
                                    "LastEditedBy": "1",
                                    "ValidFrom": "2013-01-01 00:00:00.0000000",
                                    "ValidTo": "9999-12-31 23:59:59.9999999"
                                },
                                {
                                    "CustomerID": "549",
                                    "CustomerName": "Wingtip Toys (Lake Ronkonkoma, NY)",
                                    "BillToCustomerID": "401",
                                    "CustomerCategoryID": "3",
                                    "BuyingGroupID": "2",
                                    "PrimaryContactPersonID": "2297",
                                    "AlternateContactPersonID": "2298",
                                    "DeliveryMethodID": "3",
                                    "DeliveryCityID": "18446",
                                    "PostalCityID": "18446",
                                    "CreditLimit": "NULL",
                                    "AccountOpenedDate": "2013-01-01",
                                    "StandardDiscountPercentage": "0.000",
                                    "IsStatementSent": "0",
                                    "IsOnCreditHold": "0",
                                    "PaymentDays": "7",
                                    "PhoneNumber": "(212) 555-0100",
                                    "FaxNumber": "(212) 555-0101",
                                    "DeliveryRun": "",
                                    "RunPosition": "",
                                    "WebsiteURL": "http://www.wingtiptoys.com/LakeRonkonkoma",
                                    "DeliveryAddressLine1": "Suite 131",
                                    "DeliveryAddressLine2": "576 Sedlar Road",
                                    "DeliveryPostalCode": "90437",
                                    "DeliveryLocation": "0xE6100000010CFCB84780E46A44409660CCF1654852C0",
                                    "PostalAddressLine1": "PO Box 3313",
                                    "PostalAddressLine2": "Saulitisville",
                                    "PostalPostalCode": "90437",
                                    "LastEditedBy": "1",
                                    "ValidFrom": "2013-01-01 00:00:00.0000000",
                                    "ValidTo": "9999-12-31 23:59:59.9999999"
                                },
                                {
                                    "CustomerID": "806",
                                    "CustomerName": "Shi Tu",
                                    "BillToCustomerID": "806",
                                    "CustomerCategoryID": "3",
                                    "BuyingGroupID": "NULL",
                                    "PrimaryContactPersonID": "3006",
                                    "AlternateContactPersonID": "NULL",
                                    "DeliveryMethodID": "3",
                                    "DeliveryCityID": "31685",
                                    "PostalCityID": "31685",
                                    "CreditLimit": "3000.00",
                                    "AccountOpenedDate": "2013-01-01",
                                    "StandardDiscountPercentage": "0.000",
                                    "IsStatementSent": "0",
                                    "IsOnCreditHold": "0",
                                    "PaymentDays": "7",
                                    "PhoneNumber": "(307) 555-0100",
                                    "FaxNumber": "(307) 555-0101",
                                    "DeliveryRun": "",
                                    "RunPosition": "",
                                    "WebsiteURL": "http://www.microsoft.com/ShiTu/",
                                    "DeliveryAddressLine1": "Suite 13",
                                    "DeliveryAddressLine2": "808 Riutta Street",
                                    "DeliveryPostalCode": "90673",
                                    "DeliveryLocation": "0xE6100000010CFEDDF1DC31E3444016855D143DC75AC0",
                                    "PostalAddressLine1": "PO Box 7197",
                                    "PostalAddressLine2": "Nadarville",
                                    "PostalPostalCode": "90673",
                                    "LastEditedBy": "1",
                                    "ValidFrom": "2013-01-01 00:00:00.0000000",
                                    "ValidTo": "9999-12-31 23:59:59.9999999"
                                },
                                {
                                    "CustomerID": "814",
                                    "CustomerName": "Johanna Hoornstra",
                                    "BillToCustomerID": "814",
                                    "CustomerCategoryID": "3",
                                    "BuyingGroupID": "NULL",
                                    "PrimaryContactPersonID": "3014",
                                    "AlternateContactPersonID": "NULL",
                                    "DeliveryMethodID": "3",
                                    "DeliveryCityID": "26752",
                                    "PostalCityID": "26752",
                                    "CreditLimit": "2310.00",
                                    "AccountOpenedDate": "2013-01-01",
                                    "StandardDiscountPercentage": "0.000",
                                    "IsStatementSent": "0",
                                    "IsOnCreditHold": "0",
                                    "PaymentDays": "7",
                                    "PhoneNumber": "(210) 555-0100",
                                    "FaxNumber": "(210) 555-0101",
                                    "DeliveryRun": "",
                                    "RunPosition": "",
                                    "WebsiteURL": "http://www.microsoft.com/JohannaHoornstra/",
                                    "DeliveryAddressLine1": "Suite 13",
                                    "DeliveryAddressLine2": "285 Dupuy Street",
                                    "DeliveryPostalCode": "90650",
                                    "DeliveryLocation": "0xE6100000010CC7BAB88D06AC3B40F937C368B16858C0",
                                    "PostalAddressLine1": "PO Box 2475",
                                    "PostalAddressLine2": "Lanctotville",
                                    "PostalPostalCode": "90650",
                                    "LastEditedBy": "8",
                                    "ValidFrom": "2014-07-01 16:00:00.0000000",
                                    "ValidTo": "9999-12-31 23:59:59.9999999"
                                },
                                {
                                    "CustomerID": "816",
                                    "CustomerName": "Harsha Huq",
                                    "BillToCustomerID": "816",
                                    "CustomerCategoryID": "6",
                                    "BuyingGroupID": "NULL",
                                    "PrimaryContactPersonID": "3016",
                                    "AlternateContactPersonID": "NULL",
                                    "DeliveryMethodID": "3",
                                    "DeliveryCityID": "8892",
                                    "PostalCityID": "8892",
                                    "CreditLimit": "2400.00",
                                    "AccountOpenedDate": "2013-01-01",
                                    "StandardDiscountPercentage": "0.000",
                                    "IsStatementSent": "0",
                                    "IsOnCreditHold": "0",
                                    "PaymentDays": "7",
                                    "PhoneNumber": "(314) 555-0100",
                                    "FaxNumber": "(314) 555-0101",
                                    "DeliveryRun": "",
                                    "RunPosition": "",
                                    "WebsiteURL": "http://www.microsoft.com/HarshaHuq/",
                                    "DeliveryAddressLine1": "Suite 13",
                                    "DeliveryAddressLine2": "868 Prikrylova Street",
                                    "DeliveryPostalCode": "90051",
                                    "DeliveryLocation": "0xE6100000010CF1A6B62FFB854240CCE37A255AA057C0",
                                    "PostalAddressLine1": "PO Box 1891",
                                    "PostalAddressLine2": "Ograville",
                                    "PostalPostalCode": "90051",
                                    "LastEditedBy": "1",
                                    "ValidFrom": "2013-01-01 00:00:00.0000000",
                                    "ValidTo": "9999-12-31 23:59:59.9999999"
                                },
                                {
                                    "CustomerID": "839",
                                    "CustomerName": "Juan Morse",
                                    "BillToCustomerID": "839",
                                    "CustomerCategoryID": "3",
                                    "BuyingGroupID": "NULL",
                                    "PrimaryContactPersonID": "3039",
                                    "AlternateContactPersonID": "NULL",
                                    "DeliveryMethodID": "3",
                                    "DeliveryCityID": "13868",
                                    "PostalCityID": "13868",
                                    "CreditLimit": "4200.00",
                                    "AccountOpenedDate": "2013-01-01",
                                    "StandardDiscountPercentage": "0.000",
                                    "IsStatementSent": "0",
                                    "IsOnCreditHold": "0",
                                    "PaymentDays": "7",
                                    "PhoneNumber": "(423) 555-0100",
                                    "FaxNumber": "(423) 555-0101",
                                    "DeliveryRun": "",
                                    "RunPosition": "",
                                    "WebsiteURL": "http://www.microsoft.com/JuanMorse/",
                                    "DeliveryAddressLine1": "Suite 13",
                                    "DeliveryAddressLine2": "51 Nechita Crescent",
                                    "DeliveryPostalCode": "90523",
                                    "DeliveryLocation": "0xE6100000010CEF3614E3A1D44140577E7445040B55C0",
                                    "PostalAddressLine1": "PO Box 2068",
                                    "PostalAddressLine2": "Rochaville",
                                    "PostalPostalCode": "90523",
                                    "LastEditedBy": "20",
                                    "ValidFrom": "2013-07-01 16:00:00.0000000",
                                    "ValidTo": "9999-12-31 23:59:59.9999999"
                                },
                                {
                                    "CustomerID": "853",
                                    "CustomerName": "Caterina Pinto",
                                    "BillToCustomerID": "853",
                                    "CustomerCategoryID": "6",
                                    "BuyingGroupID": "NULL",
                                    "PrimaryContactPersonID": "3053",
                                    "AlternateContactPersonID": "NULL",
                                    "DeliveryMethodID": "3",
                                    "DeliveryCityID": "242",
                                    "PostalCityID": "242",
                                    "CreditLimit": "3000.00",
                                    "AccountOpenedDate": "2013-01-01",
                                    "StandardDiscountPercentage": "0.000",
                                    "IsStatementSent": "0",
                                    "IsOnCreditHold": "0",
                                    "PaymentDays": "7",
                                    "PhoneNumber": "(907) 555-0100",
                                    "FaxNumber": "(907) 555-0101",
                                    "DeliveryRun": "",
                                    "RunPosition": "",
                                    "WebsiteURL": "http://www.microsoft.com/CaterinaPinto/",
                                    "DeliveryAddressLine1": "Suite 13",
                                    "DeliveryAddressLine2": "1278 Lam Street",
                                    "DeliveryPostalCode": "90112",
                                    "DeliveryLocation": "0xE6100000010C5B4645F707794C4084C76DEA724563C0",
                                    "PostalAddressLine1": "PO Box 7206",
                                    "PostalAddressLine2": "Karacaville",
                                    "PostalPostalCode": "90112",
                                    "LastEditedBy": "1",
                                    "ValidFrom": "2013-01-01 00:00:00.0000000",
                                    "ValidTo": "9999-12-31 23:59:59.9999999"
                                },
                                {
                                    "CustomerID": "942",
                                    "CustomerName": "Chaayaadaevi Sonti",
                                    "BillToCustomerID": "942",
                                    "CustomerCategoryID": "7",
                                    "BuyingGroupID": "NULL",
                                    "PrimaryContactPersonID": "3142",
                                    "AlternateContactPersonID": "NULL",
                                    "DeliveryMethodID": "3",
                                    "DeliveryCityID": "29123",
                                    "PostalCityID": "29123",
                                    "CreditLimit": "1700.00",
                                    "AccountOpenedDate": "2013-01-01",
                                    "StandardDiscountPercentage": "0.000",
                                    "IsStatementSent": "0",
                                    "IsOnCreditHold": "0",
                                    "PaymentDays": "7",
                                    "PhoneNumber": "(217) 555-0100",
                                    "FaxNumber": "(217) 555-0101",
                                    "DeliveryRun": "",
                                    "RunPosition": "",
                                    "WebsiteURL": "http://www.microsoft.com/ChaayaadaeviSonti/",
                                    "DeliveryAddressLine1": "Suite 13",
                                    "DeliveryAddressLine2": "701 Sedlar Boulevard",
                                    "DeliveryPostalCode": "90593",
                                    "DeliveryLocation": "0xE6100000010CE8C7BA13473B4340A96510C49E8256C0",
                                    "PostalAddressLine1": "PO Box 1904",
                                    "PostalAddressLine2": "Deyville",
                                    "PostalPostalCode": "90593",
                                    "LastEditedBy": "1",
                                    "ValidFrom": "2013-01-01 00:00:00.0000000",
                                    "ValidTo": "9999-12-31 23:59:59.9999999"
                                },
                                {
                                    "CustomerID": "974",
                                    "CustomerName": "Emil Roman",
                                    "BillToCustomerID": "974",
                                    "CustomerCategoryID": "5",
                                    "BuyingGroupID": "NULL",
                                    "PrimaryContactPersonID": "3174",
                                    "AlternateContactPersonID": "NULL",
                                    "DeliveryMethodID": "3",
                                    "DeliveryCityID": "18004",
                                    "PostalCityID": "18004",
                                    "CreditLimit": "1600.00",
                                    "AccountOpenedDate": "2013-01-01",
                                    "StandardDiscountPercentage": "0.000",
                                    "IsStatementSent": "0",
                                    "IsOnCreditHold": "0",
                                    "PaymentDays": "7",
                                    "PhoneNumber": "(210) 555-0100",
                                    "FaxNumber": "(210) 555-0101",
                                    "DeliveryRun": "",
                                    "RunPosition": "",
                                    "WebsiteURL": "http://www.microsoft.com/EmilRoman/",
                                    "DeliveryAddressLine1": "Suite 13",
                                    "DeliveryAddressLine2": "1301 Bhutia Street",
                                    "DeliveryPostalCode": "90580",
                                    "DeliveryLocation": "0xE6100000010C1FEE8F9CF10840402D8DA905406058C0",
                                    "PostalAddressLine1": "PO Box 7922",
                                    "PostalAddressLine2": "Trivediville",
                                    "PostalPostalCode": "90580",
                                    "LastEditedBy": "1",
                                    "ValidFrom": "2013-01-01 00:00:00.0000000",
                                    "ValidTo": "9999-12-31 23:59:59.9999999"
                                },
                                {
                                    "CustomerID": "1032",
                                    "CustomerName": "Som Mukherjee",
                                    "BillToCustomerID": "1032",
                                    "CustomerCategoryID": "3",
                                    "BuyingGroupID": "NULL",
                                    "PrimaryContactPersonID": "3232",
                                    "AlternateContactPersonID": "NULL",
                                    "DeliveryMethodID": "3",
                                    "DeliveryCityID": "22998",
                                    "PostalCityID": "22998",
                                    "CreditLimit": "3100.00",
                                    "AccountOpenedDate": "2014-08-25",
                                    "StandardDiscountPercentage": "0.000",
                                    "IsStatementSent": "0",
                                    "IsOnCreditHold": "0",
                                    "PaymentDays": "7",
                                    "PhoneNumber": "(385) 555-0100",
                                    "FaxNumber": "(385) 555-0101",
                                    "DeliveryRun": "NULL",
                                    "RunPosition": "NULL",
                                    "WebsiteURL": "http://www.microsoft.com/",
                                    "DeliveryAddressLine1": "Suite 13",
                                    "DeliveryAddressLine2": "263 Meredith Crescent",
                                    "DeliveryPostalCode": "90747",
                                    "DeliveryLocation": "0xE6100000010C5E143DF031C34340FE2B2B4DCAE55BC0",
                                    "PostalAddressLine1": "PO Box 8436",
                                    "PostalAddressLine2": "Debrajville",
                                    "PostalPostalCode": "90747",
                                    "LastEditedBy": "1",
                                    "ValidFrom": "2014-08-25 00:00:00.0000000",
                                    "ValidTo": "9999-12-31 23:59:59.9999999"
                                },
                                {
                                    "CustomerID": "1034",
                                    "CustomerName": "Aishwarya Dantuluri",
                                    "BillToCustomerID": "1034",
                                    "CustomerCategoryID": "3",
                                    "BuyingGroupID": "NULL",
                                    "PrimaryContactPersonID": "3234",
                                    "AlternateContactPersonID": "NULL",
                                    "DeliveryMethodID": "3",
                                    "DeliveryCityID": "3018",
                                    "PostalCityID": "3018",
                                    "CreditLimit": "3885.00",
                                    "AccountOpenedDate": "2014-09-03",
                                    "StandardDiscountPercentage": "0.000",
                                    "IsStatementSent": "0",
                                    "IsOnCreditHold": "0",
                                    "PaymentDays": "7",
                                    "PhoneNumber": "(209) 555-0100",
                                    "FaxNumber": "(209) 555-0101",
                                    "DeliveryRun": "NULL",
                                    "RunPosition": "NULL",
                                    "WebsiteURL": "http://www.microsoft.com/",
                                    "DeliveryAddressLine1": "Suite 13",
                                    "DeliveryAddressLine2": "1167 Femke Lane",
                                    "DeliveryPostalCode": "90735",
                                    "DeliveryLocation": "0xE6100000010C52A3EB1DC9B443409DEBA0B79D6D5EC0",
                                    "PostalAddressLine1": "PO Box 1421",
                                    "PostalAddressLine2": "Minaville",
                                    "PostalPostalCode": "90735",
                                    "LastEditedBy": "15",
                                    "ValidFrom": "2015-07-01 16:00:00.0000000",
                                    "ValidTo": "9999-12-31 23:59:59.9999999"
                                }
                            ]
                        },
                        "text/html": "<table><tr><th>CustomerID</th><th>CustomerName</th><th>BillToCustomerID</th><th>CustomerCategoryID</th><th>BuyingGroupID</th><th>PrimaryContactPersonID</th><th>AlternateContactPersonID</th><th>DeliveryMethodID</th><th>DeliveryCityID</th><th>PostalCityID</th><th>CreditLimit</th><th>AccountOpenedDate</th><th>StandardDiscountPercentage</th><th>IsStatementSent</th><th>IsOnCreditHold</th><th>PaymentDays</th><th>PhoneNumber</th><th>FaxNumber</th><th>DeliveryRun</th><th>RunPosition</th><th>WebsiteURL</th><th>DeliveryAddressLine1</th><th>DeliveryAddressLine2</th><th>DeliveryPostalCode</th><th>DeliveryLocation</th><th>PostalAddressLine1</th><th>PostalAddressLine2</th><th>PostalPostalCode</th><th>LastEditedBy</th><th>ValidFrom</th><th>ValidTo</th></tr><tr><td>153</td><td>Tailspin Toys (Marcell, MN)</td><td>1</td><td>3</td><td>1</td><td>1305</td><td>1306</td><td>3</td><td>20901</td><td>20901</td><td>NULL</td><td>2013-01-01</td><td>0.000</td><td>0</td><td>0</td><td>7</td><td>(218) 555-0100</td><td>(218) 555-0101</td><td></td><td></td><td>http://www.tailspintoys.com/Marcell</td><td>Suite 130</td><td>1952 Laramee Street</td><td>90729</td><td>0xE6100000010CD704076AE7CB47409D3C7661356C57C0</td><td>PO Box 9967</td><td>Jantunenville</td><td>90729</td><td>1</td><td>2013-01-01 00:00:00.0000000</td><td>9999-12-31 23:59:59.9999999</td></tr><tr><td>178</td><td>Tailspin Toys (Armstrong Creek, WI)</td><td>1</td><td>3</td><td>1</td><td>1355</td><td>1356</td><td>3</td><td>1207</td><td>1207</td><td>NULL</td><td>2013-01-01</td><td>0.000</td><td>0</td><td>0</td><td>7</td><td>(262) 555-0100</td><td>(262) 555-0101</td><td></td><td></td><td>http://www.tailspintoys.com/ArmstrongCreek</td><td>Suite 139</td><td>902 Rozitis Crescent</td><td>90397</td><td>0xE6100000010CD854CCF742D44640697FB1088F1C56C0</td><td>PO Box 3364</td><td>Dikshitville</td><td>90397</td><td>1</td><td>2013-01-01 00:00:00.0000000</td><td>9999-12-31 23:59:59.9999999</td></tr><tr><td>405</td><td>Wingtip Toys (Bourbonnais, IL)</td><td>401</td><td>3</td><td>2</td><td>2009</td><td>2010</td><td>3</td><td>3659</td><td>3659</td><td>NULL</td><td>2013-01-01</td><td>0.000</td><td>0</td><td>0</td><td>7</td><td>(217) 555-0100</td><td>(217) 555-0101</td><td></td><td></td><td>http://www.wingtiptoys.com/Bourbonnais</td><td>Suite 139</td><td>510 Dumina Boulevard</td><td>90582</td><td>0xE6100000010CB22F3432239244403586EFB300F855C0</td><td>PO Box 4631</td><td>Thakurville</td><td>90582</td><td>1</td><td>2013-01-01 00:00:00.0000000</td><td>9999-12-31 23:59:59.9999999</td></tr><tr><td>549</td><td>Wingtip Toys (Lake Ronkonkoma, NY)</td><td>401</td><td>3</td><td>2</td><td>2297</td><td>2298</td><td>3</td><td>18446</td><td>18446</td><td>NULL</td><td>2013-01-01</td><td>0.000</td><td>0</td><td>0</td><td>7</td><td>(212) 555-0100</td><td>(212) 555-0101</td><td></td><td></td><td>http://www.wingtiptoys.com/LakeRonkonkoma</td><td>Suite 131</td><td>576 Sedlar Road</td><td>90437</td><td>0xE6100000010CFCB84780E46A44409660CCF1654852C0</td><td>PO Box 3313</td><td>Saulitisville</td><td>90437</td><td>1</td><td>2013-01-01 00:00:00.0000000</td><td>9999-12-31 23:59:59.9999999</td></tr><tr><td>806</td><td>Shi Tu</td><td>806</td><td>3</td><td>NULL</td><td>3006</td><td>NULL</td><td>3</td><td>31685</td><td>31685</td><td>3000.00</td><td>2013-01-01</td><td>0.000</td><td>0</td><td>0</td><td>7</td><td>(307) 555-0100</td><td>(307) 555-0101</td><td></td><td></td><td>http://www.microsoft.com/ShiTu/</td><td>Suite 13</td><td>808 Riutta Street</td><td>90673</td><td>0xE6100000010CFEDDF1DC31E3444016855D143DC75AC0</td><td>PO Box 7197</td><td>Nadarville</td><td>90673</td><td>1</td><td>2013-01-01 00:00:00.0000000</td><td>9999-12-31 23:59:59.9999999</td></tr><tr><td>814</td><td>Johanna Hoornstra</td><td>814</td><td>3</td><td>NULL</td><td>3014</td><td>NULL</td><td>3</td><td>26752</td><td>26752</td><td>2310.00</td><td>2013-01-01</td><td>0.000</td><td>0</td><td>0</td><td>7</td><td>(210) 555-0100</td><td>(210) 555-0101</td><td></td><td></td><td>http://www.microsoft.com/JohannaHoornstra/</td><td>Suite 13</td><td>285 Dupuy Street</td><td>90650</td><td>0xE6100000010CC7BAB88D06AC3B40F937C368B16858C0</td><td>PO Box 2475</td><td>Lanctotville</td><td>90650</td><td>8</td><td>2014-07-01 16:00:00.0000000</td><td>9999-12-31 23:59:59.9999999</td></tr><tr><td>816</td><td>Harsha Huq</td><td>816</td><td>6</td><td>NULL</td><td>3016</td><td>NULL</td><td>3</td><td>8892</td><td>8892</td><td>2400.00</td><td>2013-01-01</td><td>0.000</td><td>0</td><td>0</td><td>7</td><td>(314) 555-0100</td><td>(314) 555-0101</td><td></td><td></td><td>http://www.microsoft.com/HarshaHuq/</td><td>Suite 13</td><td>868 Prikrylova Street</td><td>90051</td><td>0xE6100000010CF1A6B62FFB854240CCE37A255AA057C0</td><td>PO Box 1891</td><td>Ograville</td><td>90051</td><td>1</td><td>2013-01-01 00:00:00.0000000</td><td>9999-12-31 23:59:59.9999999</td></tr><tr><td>839</td><td>Juan Morse</td><td>839</td><td>3</td><td>NULL</td><td>3039</td><td>NULL</td><td>3</td><td>13868</td><td>13868</td><td>4200.00</td><td>2013-01-01</td><td>0.000</td><td>0</td><td>0</td><td>7</td><td>(423) 555-0100</td><td>(423) 555-0101</td><td></td><td></td><td>http://www.microsoft.com/JuanMorse/</td><td>Suite 13</td><td>51 Nechita Crescent</td><td>90523</td><td>0xE6100000010CEF3614E3A1D44140577E7445040B55C0</td><td>PO Box 2068</td><td>Rochaville</td><td>90523</td><td>20</td><td>2013-07-01 16:00:00.0000000</td><td>9999-12-31 23:59:59.9999999</td></tr><tr><td>853</td><td>Caterina Pinto</td><td>853</td><td>6</td><td>NULL</td><td>3053</td><td>NULL</td><td>3</td><td>242</td><td>242</td><td>3000.00</td><td>2013-01-01</td><td>0.000</td><td>0</td><td>0</td><td>7</td><td>(907) 555-0100</td><td>(907) 555-0101</td><td></td><td></td><td>http://www.microsoft.com/CaterinaPinto/</td><td>Suite 13</td><td>1278 Lam Street</td><td>90112</td><td>0xE6100000010C5B4645F707794C4084C76DEA724563C0</td><td>PO Box 7206</td><td>Karacaville</td><td>90112</td><td>1</td><td>2013-01-01 00:00:00.0000000</td><td>9999-12-31 23:59:59.9999999</td></tr><tr><td>942</td><td>Chaayaadaevi Sonti</td><td>942</td><td>7</td><td>NULL</td><td>3142</td><td>NULL</td><td>3</td><td>29123</td><td>29123</td><td>1700.00</td><td>2013-01-01</td><td>0.000</td><td>0</td><td>0</td><td>7</td><td>(217) 555-0100</td><td>(217) 555-0101</td><td></td><td></td><td>http://www.microsoft.com/ChaayaadaeviSonti/</td><td>Suite 13</td><td>701 Sedlar Boulevard</td><td>90593</td><td>0xE6100000010CE8C7BA13473B4340A96510C49E8256C0</td><td>PO Box 1904</td><td>Deyville</td><td>90593</td><td>1</td><td>2013-01-01 00:00:00.0000000</td><td>9999-12-31 23:59:59.9999999</td></tr><tr><td>974</td><td>Emil Roman</td><td>974</td><td>5</td><td>NULL</td><td>3174</td><td>NULL</td><td>3</td><td>18004</td><td>18004</td><td>1600.00</td><td>2013-01-01</td><td>0.000</td><td>0</td><td>0</td><td>7</td><td>(210) 555-0100</td><td>(210) 555-0101</td><td></td><td></td><td>http://www.microsoft.com/EmilRoman/</td><td>Suite 13</td><td>1301 Bhutia Street</td><td>90580</td><td>0xE6100000010C1FEE8F9CF10840402D8DA905406058C0</td><td>PO Box 7922</td><td>Trivediville</td><td>90580</td><td>1</td><td>2013-01-01 00:00:00.0000000</td><td>9999-12-31 23:59:59.9999999</td></tr><tr><td>1032</td><td>Som Mukherjee</td><td>1032</td><td>3</td><td>NULL</td><td>3232</td><td>NULL</td><td>3</td><td>22998</td><td>22998</td><td>3100.00</td><td>2014-08-25</td><td>0.000</td><td>0</td><td>0</td><td>7</td><td>(385) 555-0100</td><td>(385) 555-0101</td><td>NULL</td><td>NULL</td><td>http://www.microsoft.com/</td><td>Suite 13</td><td>263 Meredith Crescent</td><td>90747</td><td>0xE6100000010C5E143DF031C34340FE2B2B4DCAE55BC0</td><td>PO Box 8436</td><td>Debrajville</td><td>90747</td><td>1</td><td>2014-08-25 00:00:00.0000000</td><td>9999-12-31 23:59:59.9999999</td></tr><tr><td>1034</td><td>Aishwarya Dantuluri</td><td>1034</td><td>3</td><td>NULL</td><td>3234</td><td>NULL</td><td>3</td><td>3018</td><td>3018</td><td>3885.00</td><td>2014-09-03</td><td>0.000</td><td>0</td><td>0</td><td>7</td><td>(209) 555-0100</td><td>(209) 555-0101</td><td>NULL</td><td>NULL</td><td>http://www.microsoft.com/</td><td>Suite 13</td><td>1167 Femke Lane</td><td>90735</td><td>0xE6100000010C52A3EB1DC9B443409DEBA0B79D6D5EC0</td><td>PO Box 1421</td><td>Minaville</td><td>90735</td><td>15</td><td>2015-07-01 16:00:00.0000000</td><td>9999-12-31 23:59:59.9999999</td></tr></table>"
                    },
                    "metadata": {}
                }
            ],
            "execution_count": 18
        },
        {
            "cell_type": "code",
            "source": [
                "USE WideWorldImporters\r\n",
                "SELECT *\r\n",
                "FROM Purchasing.PurchaseOrders\r\n",
                "WHERE PurchaseOrderID=2;\r\n",
                "--CONTACT PERSON ID =2\r\n",
                "SELECT *\r\n",
                "FROM Sales.Customers\r\n",
                "WHERE CustomerID = 1034;\r\n",
                "--1034 is Aishwarya Dantuluri\r\n",
                ""
            ],
            "metadata": {
                "language": "sql",
                "azdata_cell_guid": "13b32aad-994e-4a33-9612-2da6d99bddc7"
            },
            "outputs": [
                {
                    "output_type": "display_data",
                    "data": {
                        "text/html": "(1 row affected)"
                    },
                    "metadata": {}
                },
                {
                    "output_type": "display_data",
                    "data": {
                        "text/html": "(1 row affected)"
                    },
                    "metadata": {}
                },
                {
                    "output_type": "display_data",
                    "data": {
                        "text/html": "Total execution time: 00:00:00.059"
                    },
                    "metadata": {}
                },
                {
                    "output_type": "execute_result",
                    "execution_count": 16,
                    "data": {
                        "application/vnd.dataresource+json": {
                            "schema": {
                                "fields": [
                                    {
                                        "name": "PurchaseOrderID"
                                    },
                                    {
                                        "name": "SupplierID"
                                    },
                                    {
                                        "name": "OrderDate"
                                    },
                                    {
                                        "name": "DeliveryMethodID"
                                    },
                                    {
                                        "name": "ContactPersonID"
                                    },
                                    {
                                        "name": "ExpectedDeliveryDate"
                                    },
                                    {
                                        "name": "SupplierReference"
                                    },
                                    {
                                        "name": "IsOrderFinalized"
                                    },
                                    {
                                        "name": "Comments"
                                    },
                                    {
                                        "name": "InternalComments"
                                    },
                                    {
                                        "name": "LastEditedBy"
                                    },
                                    {
                                        "name": "LastEditedWhen"
                                    }
                                ]
                            },
                            "data": [
                                {
                                    "PurchaseOrderID": "2",
                                    "SupplierID": "4",
                                    "OrderDate": "2013-01-01",
                                    "DeliveryMethodID": "7",
                                    "ContactPersonID": "2",
                                    "ExpectedDeliveryDate": "2013-01-15",
                                    "SupplierReference": "293092",
                                    "IsOrderFinalized": "1",
                                    "Comments": "NULL",
                                    "InternalComments": "NULL",
                                    "LastEditedBy": "6",
                                    "LastEditedWhen": "2013-01-02 07:00:00.0000000"
                                }
                            ]
                        },
                        "text/html": "<table><tr><th>PurchaseOrderID</th><th>SupplierID</th><th>OrderDate</th><th>DeliveryMethodID</th><th>ContactPersonID</th><th>ExpectedDeliveryDate</th><th>SupplierReference</th><th>IsOrderFinalized</th><th>Comments</th><th>InternalComments</th><th>LastEditedBy</th><th>LastEditedWhen</th></tr><tr><td>2</td><td>4</td><td>2013-01-01</td><td>7</td><td>2</td><td>2013-01-15</td><td>293092</td><td>1</td><td>NULL</td><td>NULL</td><td>6</td><td>2013-01-02 07:00:00.0000000</td></tr></table>"
                    },
                    "metadata": {}
                },
                {
                    "output_type": "execute_result",
                    "execution_count": 16,
                    "data": {
                        "application/vnd.dataresource+json": {
                            "schema": {
                                "fields": [
                                    {
                                        "name": "CustomerID"
                                    },
                                    {
                                        "name": "CustomerName"
                                    },
                                    {
                                        "name": "BillToCustomerID"
                                    },
                                    {
                                        "name": "CustomerCategoryID"
                                    },
                                    {
                                        "name": "BuyingGroupID"
                                    },
                                    {
                                        "name": "PrimaryContactPersonID"
                                    },
                                    {
                                        "name": "AlternateContactPersonID"
                                    },
                                    {
                                        "name": "DeliveryMethodID"
                                    },
                                    {
                                        "name": "DeliveryCityID"
                                    },
                                    {
                                        "name": "PostalCityID"
                                    },
                                    {
                                        "name": "CreditLimit"
                                    },
                                    {
                                        "name": "AccountOpenedDate"
                                    },
                                    {
                                        "name": "StandardDiscountPercentage"
                                    },
                                    {
                                        "name": "IsStatementSent"
                                    },
                                    {
                                        "name": "IsOnCreditHold"
                                    },
                                    {
                                        "name": "PaymentDays"
                                    },
                                    {
                                        "name": "PhoneNumber"
                                    },
                                    {
                                        "name": "FaxNumber"
                                    },
                                    {
                                        "name": "DeliveryRun"
                                    },
                                    {
                                        "name": "RunPosition"
                                    },
                                    {
                                        "name": "WebsiteURL"
                                    },
                                    {
                                        "name": "DeliveryAddressLine1"
                                    },
                                    {
                                        "name": "DeliveryAddressLine2"
                                    },
                                    {
                                        "name": "DeliveryPostalCode"
                                    },
                                    {
                                        "name": "DeliveryLocation"
                                    },
                                    {
                                        "name": "PostalAddressLine1"
                                    },
                                    {
                                        "name": "PostalAddressLine2"
                                    },
                                    {
                                        "name": "PostalPostalCode"
                                    },
                                    {
                                        "name": "LastEditedBy"
                                    },
                                    {
                                        "name": "ValidFrom"
                                    },
                                    {
                                        "name": "ValidTo"
                                    }
                                ]
                            },
                            "data": [
                                {
                                    "CustomerID": "1034",
                                    "CustomerName": "Aishwarya Dantuluri",
                                    "BillToCustomerID": "1034",
                                    "CustomerCategoryID": "3",
                                    "BuyingGroupID": "NULL",
                                    "PrimaryContactPersonID": "3234",
                                    "AlternateContactPersonID": "NULL",
                                    "DeliveryMethodID": "3",
                                    "DeliveryCityID": "3018",
                                    "PostalCityID": "3018",
                                    "CreditLimit": "3885.00",
                                    "AccountOpenedDate": "2014-09-03",
                                    "StandardDiscountPercentage": "0.000",
                                    "IsStatementSent": "0",
                                    "IsOnCreditHold": "0",
                                    "PaymentDays": "7",
                                    "PhoneNumber": "(209) 555-0100",
                                    "FaxNumber": "(209) 555-0101",
                                    "DeliveryRun": "NULL",
                                    "RunPosition": "NULL",
                                    "WebsiteURL": "http://www.microsoft.com/",
                                    "DeliveryAddressLine1": "Suite 13",
                                    "DeliveryAddressLine2": "1167 Femke Lane",
                                    "DeliveryPostalCode": "90735",
                                    "DeliveryLocation": "0xE6100000010C52A3EB1DC9B443409DEBA0B79D6D5EC0",
                                    "PostalAddressLine1": "PO Box 1421",
                                    "PostalAddressLine2": "Minaville",
                                    "PostalPostalCode": "90735",
                                    "LastEditedBy": "15",
                                    "ValidFrom": "2015-07-01 16:00:00.0000000",
                                    "ValidTo": "9999-12-31 23:59:59.9999999"
                                }
                            ]
                        },
                        "text/html": "<table><tr><th>CustomerID</th><th>CustomerName</th><th>BillToCustomerID</th><th>CustomerCategoryID</th><th>BuyingGroupID</th><th>PrimaryContactPersonID</th><th>AlternateContactPersonID</th><th>DeliveryMethodID</th><th>DeliveryCityID</th><th>PostalCityID</th><th>CreditLimit</th><th>AccountOpenedDate</th><th>StandardDiscountPercentage</th><th>IsStatementSent</th><th>IsOnCreditHold</th><th>PaymentDays</th><th>PhoneNumber</th><th>FaxNumber</th><th>DeliveryRun</th><th>RunPosition</th><th>WebsiteURL</th><th>DeliveryAddressLine1</th><th>DeliveryAddressLine2</th><th>DeliveryPostalCode</th><th>DeliveryLocation</th><th>PostalAddressLine1</th><th>PostalAddressLine2</th><th>PostalPostalCode</th><th>LastEditedBy</th><th>ValidFrom</th><th>ValidTo</th></tr><tr><td>1034</td><td>Aishwarya Dantuluri</td><td>1034</td><td>3</td><td>NULL</td><td>3234</td><td>NULL</td><td>3</td><td>3018</td><td>3018</td><td>3885.00</td><td>2014-09-03</td><td>0.000</td><td>0</td><td>0</td><td>7</td><td>(209) 555-0100</td><td>(209) 555-0101</td><td>NULL</td><td>NULL</td><td>http://www.microsoft.com/</td><td>Suite 13</td><td>1167 Femke Lane</td><td>90735</td><td>0xE6100000010C52A3EB1DC9B443409DEBA0B79D6D5EC0</td><td>PO Box 1421</td><td>Minaville</td><td>90735</td><td>15</td><td>2015-07-01 16:00:00.0000000</td><td>9999-12-31 23:59:59.9999999</td></tr></table>"
                    },
                    "metadata": {}
                }
            ],
            "execution_count": 16
        }
    ]
}