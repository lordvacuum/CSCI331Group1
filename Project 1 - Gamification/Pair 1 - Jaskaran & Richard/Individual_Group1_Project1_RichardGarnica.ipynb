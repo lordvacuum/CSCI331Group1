{
    "metadata": {
        "kernelspec": {
            "name": "SQL",
            "display_name": "SQL",
            "language": "sql"
        },
        "language_info": {
            "name": "sql",
            "version": ""
        }
    },
    "nbformat_minor": 2,
    "nbformat": 4,
    "cells": [
        {
            "cell_type": "markdown",
            "source": [
                "## Case #001: The Warehouse of Forgotten Goods\n",
                "\n",
                "Brief Case: <span style=\"font-family: -apple-system, BlinkMacSystemFont, sans-serif; color: var(--vscode-foreground);\">In Boston according to Adventureworks there are plenty of items which are in stock, yet aren't selling. This is a major concern as it leads to financial losses&nbsp;</span>     \n",
                "\n",
                "<span style=\"font-family: -apple-system, BlinkMacSystemFont, sans-serif; color: var(--vscode-foreground);\">Your task is to analyze the inventory records, identify products that have&nbsp; never been sold, and determine potential reason for their lack of sasles.</span>\n",
                "\n",
                "## <span style=\"font-family: -apple-system, BlinkMacSystemFont, sans-serif; color: var(--vscode-foreground);\">Objectives</span>\n",
                "\n",
                "<span style=\"font-family: -apple-system, BlinkMacSystemFont, sans-serif; color: var(--vscode-foreground);\">1. Identify products that exist in inventory but have never been sold</span>\n",
                "\n",
                "<span style=\"font-family: -apple-system, BlinkMacSystemFont, sans-serif; color: var(--vscode-foreground);\">2. Check if these products were included in any special promotions</span>\n",
                "\n",
                "3\\. Provide recommendations on how to handle unsold inventory \n",
                "\n",
                "## Schemas Needed to Solve the Case\n",
                "\n",
                "<span style=\"font-family: -apple-system, BlinkMacSystemFont, sans-serif; color: var(--vscode-foreground);\">ProductInverntory,&nbsp;</span>      <span style=\"font-family: -apple-system, BlinkMacSystemFont, sans-serif; color: var(--vscode-foreground);\">SalesOrderDetail,&nbsp;</span>      <span style=\"font-family: -apple-system, BlinkMacSystemFont, sans-serif; color: var(--vscode-foreground);\">SpecialOfferProduct</span>"
            ],
            "metadata": {
                "azdata_cell_guid": "76c3b158-9fd7-4978-a48e-8d4b09894e88"
            },
            "attachments": {}
        },
        {
            "cell_type": "code",
            "source": [
                "USE AdventureWorks2019;\n",
                "GO\n",
                "\n",
                "-- Retrieve unsold products, check if they were in promotions, and ensure no duplicates\n",
                "SELECT\n",
                "    pi.ProductID,\n",
                "    p.Name AS ProductName,\n",
                "    CASE \n",
                "        WHEN MAX(sp.ProductID) IS NOT NULL THEN 'Yes' \n",
                "        ELSE 'No' \n",
                "    END AS InPromotion\n",
                "FROM Production.ProductInventory AS pi\n",
                "    JOIN Production.Product AS p\n",
                "    ON pi.ProductID = p.ProductID\n",
                "    LEFT JOIN Sales.SpecialOfferProduct AS sp\n",
                "    ON pi.ProductID = sp.ProductID\n",
                "WHERE pi.ProductID NOT IN (\n",
                "    SELECT sod.ProductID\n",
                "FROM Sales.SalesOrderDetail AS sod\n",
                ")\n",
                "GROUP BY pi.ProductID, p.Name;"
            ],
            "metadata": {
                "azdata_cell_guid": "0b6ef7b4-7810-4ab6-84f5-2376ee3cfa98",
                "language": "sql"
            },
            "outputs": [
                {
                    "output_type": "display_data",
                    "data": {
                        "text/html": "Commands completed successfully."
                    },
                    "metadata": {}
                },
                {
                    "output_type": "display_data",
                    "data": {
                        "text/html": "Warning: Null value is eliminated by an aggregate or other SET operation."
                    },
                    "metadata": {}
                },
                {
                    "output_type": "display_data",
                    "data": {
                        "text/html": "(222 rows affected)"
                    },
                    "metadata": {}
                },
                {
                    "output_type": "display_data",
                    "data": {
                        "text/html": "Total execution time: 00:00:00.055"
                    },
                    "metadata": {}
                },
                {
                    "output_type": "execute_result",
                    "execution_count": 13,
                    "data": {
                        "application/vnd.dataresource+json": {
                            "schema": {
                                "fields": [
                                    {
                                        "name": "ProductID"
                                    },
                                    {
                                        "name": "ProductName"
                                    },
                                    {
                                        "name": "InPromotion"
                                    }
                                ]
                            },
                            "data": [
                                {
                                    "ProductID": "1",
                                    "ProductName": "Adjustable Race",
                                    "InPromotion": "No"
                                },
                                {
                                    "ProductID": "2",
                                    "ProductName": "Bearing Ball",
                                    "InPromotion": "No"
                                },
                                {
                                    "ProductID": "3",
                                    "ProductName": "BB Ball Bearing",
                                    "InPromotion": "No"
                                },
                                {
                                    "ProductID": "4",
                                    "ProductName": "Headset Ball Bearings",
                                    "InPromotion": "No"
                                },
                                {
                                    "ProductID": "316",
                                    "ProductName": "Blade",
                                    "InPromotion": "No"
                                },
                                {
                                    "ProductID": "317",
                                    "ProductName": "LL Crankarm",
                                    "InPromotion": "No"
                                },
                                {
                                    "ProductID": "318",
                                    "ProductName": "ML Crankarm",
                                    "InPromotion": "No"
                                },
                                {
                                    "ProductID": "319",
                                    "ProductName": "HL Crankarm",
                                    "InPromotion": "No"
                                },
                                {
                                    "ProductID": "320",
                                    "ProductName": "Chainring Bolts",
                                    "InPromotion": "No"
                                },
                                {
                                    "ProductID": "321",
                                    "ProductName": "Chainring Nut",
                                    "InPromotion": "No"
                                },
                                {
                                    "ProductID": "322",
                                    "ProductName": "Chainring",
                                    "InPromotion": "No"
                                },
                                {
                                    "ProductID": "323",
                                    "ProductName": "Crown Race",
                                    "InPromotion": "No"
                                },
                                {
                                    "ProductID": "324",
                                    "ProductName": "Chain Stays",
                                    "InPromotion": "No"
                                },
                                {
                                    "ProductID": "325",
                                    "ProductName": "Decal 1",
                                    "InPromotion": "No"
                                },
                                {
                                    "ProductID": "326",
                                    "ProductName": "Decal 2",
                                    "InPromotion": "No"
                                },
                                {
                                    "ProductID": "327",
                                    "ProductName": "Down Tube",
                                    "InPromotion": "No"
                                },
                                {
                                    "ProductID": "328",
                                    "ProductName": "Mountain End Caps",
                                    "InPromotion": "No"
                                },
                                {
                                    "ProductID": "329",
                                    "ProductName": "Road End Caps",
                                    "InPromotion": "No"
                                },
                                {
                                    "ProductID": "330",
                                    "ProductName": "Touring End Caps",
                                    "InPromotion": "No"
                                },
                                {
                                    "ProductID": "331",
                                    "ProductName": "Fork End",
                                    "InPromotion": "No"
                                },
                                {
                                    "ProductID": "332",
                                    "ProductName": "Freewheel",
                                    "InPromotion": "No"
                                },
                                {
                                    "ProductID": "341",
                                    "ProductName": "Flat Washer 1",
                                    "InPromotion": "No"
                                },
                                {
                                    "ProductID": "342",
                                    "ProductName": "Flat Washer 6",
                                    "InPromotion": "No"
                                },
                                {
                                    "ProductID": "343",
                                    "ProductName": "Flat Washer 2",
                                    "InPromotion": "No"
                                },
                                {
                                    "ProductID": "344",
                                    "ProductName": "Flat Washer 9",
                                    "InPromotion": "No"
                                },
                                {
                                    "ProductID": "345",
                                    "ProductName": "Flat Washer 4",
                                    "InPromotion": "No"
                                },
                                {
                                    "ProductID": "346",
                                    "ProductName": "Flat Washer 3",
                                    "InPromotion": "No"
                                },
                                {
                                    "ProductID": "347",
                                    "ProductName": "Flat Washer 8",
                                    "InPromotion": "No"
                                },
                                {
                                    "ProductID": "348",
                                    "ProductName": "Flat Washer 5",
                                    "InPromotion": "No"
                                },
                                {
                                    "ProductID": "349",
                                    "ProductName": "Flat Washer 7",
                                    "InPromotion": "No"
                                },
                                {
                                    "ProductID": "350",
                                    "ProductName": "Fork Crown",
                                    "InPromotion": "No"
                                },
                                {
                                    "ProductID": "351",
                                    "ProductName": "Front Derailleur Cage",
                                    "InPromotion": "No"
                                },
                                {
                                    "ProductID": "352",
                                    "ProductName": "Front Derailleur Linkage",
                                    "InPromotion": "No"
                                },
                                {
                                    "ProductID": "355",
                                    "ProductName": "Guide Pulley",
                                    "InPromotion": "No"
                                },
                                {
                                    "ProductID": "356",
                                    "ProductName": "LL Grip Tape",
                                    "InPromotion": "No"
                                },
                                {
                                    "ProductID": "357",
                                    "ProductName": "ML Grip Tape",
                                    "InPromotion": "No"
                                },
                                {
                                    "ProductID": "358",
                                    "ProductName": "HL Grip Tape",
                                    "InPromotion": "No"
                                },
                                {
                                    "ProductID": "359",
                                    "ProductName": "Thin-Jam Hex Nut 9",
                                    "InPromotion": "No"
                                },
                                {
                                    "ProductID": "360",
                                    "ProductName": "Thin-Jam Hex Nut 10",
                                    "InPromotion": "No"
                                },
                                {
                                    "ProductID": "361",
                                    "ProductName": "Thin-Jam Hex Nut 1",
                                    "InPromotion": "No"
                                },
                                {
                                    "ProductID": "362",
                                    "ProductName": "Thin-Jam Hex Nut 2",
                                    "InPromotion": "No"
                                },
                                {
                                    "ProductID": "363",
                                    "ProductName": "Thin-Jam Hex Nut 15",
                                    "InPromotion": "No"
                                },
                                {
                                    "ProductID": "364",
                                    "ProductName": "Thin-Jam Hex Nut 16",
                                    "InPromotion": "No"
                                },
                                {
                                    "ProductID": "365",
                                    "ProductName": "Thin-Jam Hex Nut 5",
                                    "InPromotion": "No"
                                },
                                {
                                    "ProductID": "366",
                                    "ProductName": "Thin-Jam Hex Nut 6",
                                    "InPromotion": "No"
                                },
                                {
                                    "ProductID": "367",
                                    "ProductName": "Thin-Jam Hex Nut 3",
                                    "InPromotion": "No"
                                },
                                {
                                    "ProductID": "368",
                                    "ProductName": "Thin-Jam Hex Nut 4",
                                    "InPromotion": "No"
                                },
                                {
                                    "ProductID": "369",
                                    "ProductName": "Thin-Jam Hex Nut 13",
                                    "InPromotion": "No"
                                },
                                {
                                    "ProductID": "370",
                                    "ProductName": "Thin-Jam Hex Nut 14",
                                    "InPromotion": "No"
                                },
                                {
                                    "ProductID": "371",
                                    "ProductName": "Thin-Jam Hex Nut 7",
                                    "InPromotion": "No"
                                },
                                {
                                    "ProductID": "372",
                                    "ProductName": "Thin-Jam Hex Nut 8",
                                    "InPromotion": "No"
                                },
                                {
                                    "ProductID": "373",
                                    "ProductName": "Thin-Jam Hex Nut 12",
                                    "InPromotion": "No"
                                },
                                {
                                    "ProductID": "374",
                                    "ProductName": "Thin-Jam Hex Nut 11",
                                    "InPromotion": "No"
                                },
                                {
                                    "ProductID": "375",
                                    "ProductName": "Hex Nut 5",
                                    "InPromotion": "No"
                                },
                                {
                                    "ProductID": "376",
                                    "ProductName": "Hex Nut 6",
                                    "InPromotion": "No"
                                },
                                {
                                    "ProductID": "377",
                                    "ProductName": "Hex Nut 16",
                                    "InPromotion": "No"
                                },
                                {
                                    "ProductID": "378",
                                    "ProductName": "Hex Nut 17",
                                    "InPromotion": "No"
                                },
                                {
                                    "ProductID": "379",
                                    "ProductName": "Hex Nut 7",
                                    "InPromotion": "No"
                                },
                                {
                                    "ProductID": "380",
                                    "ProductName": "Hex Nut 8",
                                    "InPromotion": "No"
                                },
                                {
                                    "ProductID": "381",
                                    "ProductName": "Hex Nut 9",
                                    "InPromotion": "No"
                                },
                                {
                                    "ProductID": "382",
                                    "ProductName": "Hex Nut 22",
                                    "InPromotion": "No"
                                },
                                {
                                    "ProductID": "383",
                                    "ProductName": "Hex Nut 23",
                                    "InPromotion": "No"
                                },
                                {
                                    "ProductID": "384",
                                    "ProductName": "Hex Nut 12",
                                    "InPromotion": "No"
                                },
                                {
                                    "ProductID": "385",
                                    "ProductName": "Hex Nut 13",
                                    "InPromotion": "No"
                                },
                                {
                                    "ProductID": "386",
                                    "ProductName": "Hex Nut 1",
                                    "InPromotion": "No"
                                },
                                {
                                    "ProductID": "387",
                                    "ProductName": "Hex Nut 10",
                                    "InPromotion": "No"
                                },
                                {
                                    "ProductID": "388",
                                    "ProductName": "Hex Nut 11",
                                    "InPromotion": "No"
                                },
                                {
                                    "ProductID": "389",
                                    "ProductName": "Hex Nut 2",
                                    "InPromotion": "No"
                                },
                                {
                                    "ProductID": "390",
                                    "ProductName": "Hex Nut 20",
                                    "InPromotion": "No"
                                },
                                {
                                    "ProductID": "391",
                                    "ProductName": "Hex Nut 21",
                                    "InPromotion": "No"
                                },
                                {
                                    "ProductID": "392",
                                    "ProductName": "Hex Nut 3",
                                    "InPromotion": "No"
                                },
                                {
                                    "ProductID": "393",
                                    "ProductName": "Hex Nut 14",
                                    "InPromotion": "No"
                                },
                                {
                                    "ProductID": "394",
                                    "ProductName": "Hex Nut 15",
                                    "InPromotion": "No"
                                },
                                {
                                    "ProductID": "395",
                                    "ProductName": "Hex Nut 4",
                                    "InPromotion": "No"
                                },
                                {
                                    "ProductID": "396",
                                    "ProductName": "Hex Nut 18",
                                    "InPromotion": "No"
                                },
                                {
                                    "ProductID": "397",
                                    "ProductName": "Hex Nut 19",
                                    "InPromotion": "No"
                                },
                                {
                                    "ProductID": "398",
                                    "ProductName": "Handlebar Tube",
                                    "InPromotion": "No"
                                },
                                {
                                    "ProductID": "399",
                                    "ProductName": "Head Tube",
                                    "InPromotion": "No"
                                },
                                {
                                    "ProductID": "400",
                                    "ProductName": "LL Hub",
                                    "InPromotion": "No"
                                },
                                {
                                    "ProductID": "401",
                                    "ProductName": "HL Hub",
                                    "InPromotion": "No"
                                },
                                {
                                    "ProductID": "402",
                                    "ProductName": "Keyed Washer",
                                    "InPromotion": "No"
                                },
                                {
                                    "ProductID": "403",
                                    "ProductName": "External Lock Washer 3",
                                    "InPromotion": "No"
                                },
                                {
                                    "ProductID": "404",
                                    "ProductName": "External Lock Washer 4",
                                    "InPromotion": "No"
                                },
                                {
                                    "ProductID": "405",
                                    "ProductName": "External Lock Washer 9",
                                    "InPromotion": "No"
                                },
                                {
                                    "ProductID": "406",
                                    "ProductName": "External Lock Washer 5",
                                    "InPromotion": "No"
                                },
                                {
                                    "ProductID": "407",
                                    "ProductName": "External Lock Washer 7",
                                    "InPromotion": "No"
                                },
                                {
                                    "ProductID": "408",
                                    "ProductName": "External Lock Washer 6",
                                    "InPromotion": "No"
                                },
                                {
                                    "ProductID": "409",
                                    "ProductName": "External Lock Washer 1",
                                    "InPromotion": "No"
                                },
                                {
                                    "ProductID": "410",
                                    "ProductName": "External Lock Washer 8",
                                    "InPromotion": "No"
                                },
                                {
                                    "ProductID": "411",
                                    "ProductName": "External Lock Washer 2",
                                    "InPromotion": "No"
                                },
                                {
                                    "ProductID": "412",
                                    "ProductName": "Internal Lock Washer 3",
                                    "InPromotion": "No"
                                },
                                {
                                    "ProductID": "413",
                                    "ProductName": "Internal Lock Washer 4",
                                    "InPromotion": "No"
                                },
                                {
                                    "ProductID": "414",
                                    "ProductName": "Internal Lock Washer 9",
                                    "InPromotion": "No"
                                },
                                {
                                    "ProductID": "415",
                                    "ProductName": "Internal Lock Washer 5",
                                    "InPromotion": "No"
                                },
                                {
                                    "ProductID": "416",
                                    "ProductName": "Internal Lock Washer 7",
                                    "InPromotion": "No"
                                },
                                {
                                    "ProductID": "417",
                                    "ProductName": "Internal Lock Washer 6",
                                    "InPromotion": "No"
                                },
                                {
                                    "ProductID": "418",
                                    "ProductName": "Internal Lock Washer 10",
                                    "InPromotion": "No"
                                },
                                {
                                    "ProductID": "419",
                                    "ProductName": "Internal Lock Washer 1",
                                    "InPromotion": "No"
                                },
                                {
                                    "ProductID": "420",
                                    "ProductName": "Internal Lock Washer 8",
                                    "InPromotion": "No"
                                },
                                {
                                    "ProductID": "421",
                                    "ProductName": "Internal Lock Washer 2",
                                    "InPromotion": "No"
                                },
                                {
                                    "ProductID": "422",
                                    "ProductName": "Thin-Jam Lock Nut 9",
                                    "InPromotion": "No"
                                },
                                {
                                    "ProductID": "423",
                                    "ProductName": "Thin-Jam Lock Nut 10",
                                    "InPromotion": "No"
                                },
                                {
                                    "ProductID": "424",
                                    "ProductName": "Thin-Jam Lock Nut 1",
                                    "InPromotion": "No"
                                },
                                {
                                    "ProductID": "425",
                                    "ProductName": "Thin-Jam Lock Nut 2",
                                    "InPromotion": "No"
                                },
                                {
                                    "ProductID": "426",
                                    "ProductName": "Thin-Jam Lock Nut 15",
                                    "InPromotion": "No"
                                },
                                {
                                    "ProductID": "427",
                                    "ProductName": "Thin-Jam Lock Nut 16",
                                    "InPromotion": "No"
                                },
                                {
                                    "ProductID": "428",
                                    "ProductName": "Thin-Jam Lock Nut 5",
                                    "InPromotion": "No"
                                },
                                {
                                    "ProductID": "429",
                                    "ProductName": "Thin-Jam Lock Nut 6",
                                    "InPromotion": "No"
                                },
                                {
                                    "ProductID": "430",
                                    "ProductName": "Thin-Jam Lock Nut 3",
                                    "InPromotion": "No"
                                },
                                {
                                    "ProductID": "431",
                                    "ProductName": "Thin-Jam Lock Nut 4",
                                    "InPromotion": "No"
                                },
                                {
                                    "ProductID": "432",
                                    "ProductName": "Thin-Jam Lock Nut 13",
                                    "InPromotion": "No"
                                },
                                {
                                    "ProductID": "433",
                                    "ProductName": "Thin-Jam Lock Nut 14",
                                    "InPromotion": "No"
                                },
                                {
                                    "ProductID": "434",
                                    "ProductName": "Thin-Jam Lock Nut 7",
                                    "InPromotion": "No"
                                },
                                {
                                    "ProductID": "435",
                                    "ProductName": "Thin-Jam Lock Nut 8",
                                    "InPromotion": "No"
                                },
                                {
                                    "ProductID": "436",
                                    "ProductName": "Thin-Jam Lock Nut 12",
                                    "InPromotion": "No"
                                },
                                {
                                    "ProductID": "437",
                                    "ProductName": "Thin-Jam Lock Nut 11",
                                    "InPromotion": "No"
                                },
                                {
                                    "ProductID": "438",
                                    "ProductName": "Lock Nut 5",
                                    "InPromotion": "No"
                                },
                                {
                                    "ProductID": "439",
                                    "ProductName": "Lock Nut 6",
                                    "InPromotion": "No"
                                },
                                {
                                    "ProductID": "440",
                                    "ProductName": "Lock Nut 16",
                                    "InPromotion": "No"
                                },
                                {
                                    "ProductID": "441",
                                    "ProductName": "Lock Nut 17",
                                    "InPromotion": "No"
                                },
                                {
                                    "ProductID": "442",
                                    "ProductName": "Lock Nut 7",
                                    "InPromotion": "No"
                                },
                                {
                                    "ProductID": "443",
                                    "ProductName": "Lock Nut 8",
                                    "InPromotion": "No"
                                },
                                {
                                    "ProductID": "444",
                                    "ProductName": "Lock Nut 9",
                                    "InPromotion": "No"
                                },
                                {
                                    "ProductID": "445",
                                    "ProductName": "Lock Nut 22",
                                    "InPromotion": "No"
                                },
                                {
                                    "ProductID": "446",
                                    "ProductName": "Lock Nut 23",
                                    "InPromotion": "No"
                                },
                                {
                                    "ProductID": "447",
                                    "ProductName": "Lock Nut 12",
                                    "InPromotion": "No"
                                },
                                {
                                    "ProductID": "448",
                                    "ProductName": "Lock Nut 13",
                                    "InPromotion": "No"
                                },
                                {
                                    "ProductID": "449",
                                    "ProductName": "Lock Nut 1",
                                    "InPromotion": "No"
                                },
                                {
                                    "ProductID": "450",
                                    "ProductName": "Lock Nut 10",
                                    "InPromotion": "No"
                                },
                                {
                                    "ProductID": "451",
                                    "ProductName": "Lock Nut 11",
                                    "InPromotion": "No"
                                },
                                {
                                    "ProductID": "452",
                                    "ProductName": "Lock Nut 2",
                                    "InPromotion": "No"
                                },
                                {
                                    "ProductID": "453",
                                    "ProductName": "Lock Nut 20",
                                    "InPromotion": "No"
                                },
                                {
                                    "ProductID": "454",
                                    "ProductName": "Lock Nut 21",
                                    "InPromotion": "No"
                                },
                                {
                                    "ProductID": "455",
                                    "ProductName": "Lock Nut 3",
                                    "InPromotion": "No"
                                },
                                {
                                    "ProductID": "456",
                                    "ProductName": "Lock Nut 14",
                                    "InPromotion": "No"
                                },
                                {
                                    "ProductID": "457",
                                    "ProductName": "Lock Nut 15",
                                    "InPromotion": "No"
                                },
                                {
                                    "ProductID": "458",
                                    "ProductName": "Lock Nut 4",
                                    "InPromotion": "No"
                                },
                                {
                                    "ProductID": "459",
                                    "ProductName": "Lock Nut 19",
                                    "InPromotion": "No"
                                },
                                {
                                    "ProductID": "460",
                                    "ProductName": "Lock Nut 18",
                                    "InPromotion": "No"
                                },
                                {
                                    "ProductID": "461",
                                    "ProductName": "Lock Ring",
                                    "InPromotion": "No"
                                },
                                {
                                    "ProductID": "462",
                                    "ProductName": "Lower Head Race",
                                    "InPromotion": "No"
                                },
                                {
                                    "ProductID": "463",
                                    "ProductName": "Lock Washer 4",
                                    "InPromotion": "No"
                                },
                                {
                                    "ProductID": "464",
                                    "ProductName": "Lock Washer 5",
                                    "InPromotion": "No"
                                },
                                {
                                    "ProductID": "465",
                                    "ProductName": "Lock Washer 10",
                                    "InPromotion": "No"
                                },
                                {
                                    "ProductID": "466",
                                    "ProductName": "Lock Washer 6",
                                    "InPromotion": "No"
                                },
                                {
                                    "ProductID": "467",
                                    "ProductName": "Lock Washer 13",
                                    "InPromotion": "No"
                                },
                                {
                                    "ProductID": "468",
                                    "ProductName": "Lock Washer 8",
                                    "InPromotion": "No"
                                },
                                {
                                    "ProductID": "469",
                                    "ProductName": "Lock Washer 1",
                                    "InPromotion": "No"
                                },
                                {
                                    "ProductID": "470",
                                    "ProductName": "Lock Washer 7",
                                    "InPromotion": "No"
                                },
                                {
                                    "ProductID": "471",
                                    "ProductName": "Lock Washer 12",
                                    "InPromotion": "No"
                                },
                                {
                                    "ProductID": "472",
                                    "ProductName": "Lock Washer 2",
                                    "InPromotion": "No"
                                },
                                {
                                    "ProductID": "473",
                                    "ProductName": "Lock Washer 9",
                                    "InPromotion": "No"
                                },
                                {
                                    "ProductID": "474",
                                    "ProductName": "Lock Washer 3",
                                    "InPromotion": "No"
                                },
                                {
                                    "ProductID": "475",
                                    "ProductName": "Lock Washer 11",
                                    "InPromotion": "No"
                                },
                                {
                                    "ProductID": "476",
                                    "ProductName": "Metal Angle",
                                    "InPromotion": "No"
                                },
                                {
                                    "ProductID": "477",
                                    "ProductName": "Metal Bar 1",
                                    "InPromotion": "No"
                                },
                                {
                                    "ProductID": "478",
                                    "ProductName": "Metal Bar 2",
                                    "InPromotion": "No"
                                },
                                {
                                    "ProductID": "479",
                                    "ProductName": "Metal Plate 2",
                                    "InPromotion": "No"
                                },
                                {
                                    "ProductID": "480",
                                    "ProductName": "Metal Plate 1",
                                    "InPromotion": "No"
                                },
                                {
                                    "ProductID": "481",
                                    "ProductName": "Metal Plate 3",
                                    "InPromotion": "No"
                                },
                                {
                                    "ProductID": "482",
                                    "ProductName": "Metal Sheet 2",
                                    "InPromotion": "No"
                                },
                                {
                                    "ProductID": "483",
                                    "ProductName": "Metal Sheet 3",
                                    "InPromotion": "No"
                                },
                                {
                                    "ProductID": "484",
                                    "ProductName": "Metal Sheet 7",
                                    "InPromotion": "No"
                                },
                                {
                                    "ProductID": "485",
                                    "ProductName": "Metal Sheet 4",
                                    "InPromotion": "No"
                                },
                                {
                                    "ProductID": "486",
                                    "ProductName": "Metal Sheet 5",
                                    "InPromotion": "No"
                                },
                                {
                                    "ProductID": "487",
                                    "ProductName": "Metal Sheet 6",
                                    "InPromotion": "No"
                                },
                                {
                                    "ProductID": "488",
                                    "ProductName": "Metal Sheet 1",
                                    "InPromotion": "No"
                                },
                                {
                                    "ProductID": "489",
                                    "ProductName": "Metal Tread Plate",
                                    "InPromotion": "No"
                                },
                                {
                                    "ProductID": "490",
                                    "ProductName": "LL Nipple",
                                    "InPromotion": "No"
                                },
                                {
                                    "ProductID": "491",
                                    "ProductName": "HL Nipple",
                                    "InPromotion": "No"
                                },
                                {
                                    "ProductID": "492",
                                    "ProductName": "Paint - Black",
                                    "InPromotion": "No"
                                },
                                {
                                    "ProductID": "493",
                                    "ProductName": "Paint - Red",
                                    "InPromotion": "No"
                                },
                                {
                                    "ProductID": "494",
                                    "ProductName": "Paint - Silver",
                                    "InPromotion": "No"
                                },
                                {
                                    "ProductID": "495",
                                    "ProductName": "Paint - Blue",
                                    "InPromotion": "No"
                                },
                                {
                                    "ProductID": "496",
                                    "ProductName": "Paint - Yellow",
                                    "InPromotion": "No"
                                },
                                {
                                    "ProductID": "497",
                                    "ProductName": "Pinch Bolt",
                                    "InPromotion": "No"
                                },
                                {
                                    "ProductID": "504",
                                    "ProductName": "Cup-Shaped Race",
                                    "InPromotion": "No"
                                },
                                {
                                    "ProductID": "505",
                                    "ProductName": "Cone-Shaped Race",
                                    "InPromotion": "No"
                                },
                                {
                                    "ProductID": "506",
                                    "ProductName": "Reflector",
                                    "InPromotion": "No"
                                },
                                {
                                    "ProductID": "507",
                                    "ProductName": "LL Mountain Rim",
                                    "InPromotion": "No"
                                },
                                {
                                    "ProductID": "508",
                                    "ProductName": "ML Mountain Rim",
                                    "InPromotion": "No"
                                },
                                {
                                    "ProductID": "509",
                                    "ProductName": "HL Mountain Rim",
                                    "InPromotion": "No"
                                },
                                {
                                    "ProductID": "510",
                                    "ProductName": "LL Road Rim",
                                    "InPromotion": "No"
                                },
                                {
                                    "ProductID": "511",
                                    "ProductName": "ML Road Rim",
                                    "InPromotion": "No"
                                },
                                {
                                    "ProductID": "512",
                                    "ProductName": "HL Road Rim",
                                    "InPromotion": "No"
                                },
                                {
                                    "ProductID": "513",
                                    "ProductName": "Touring Rim",
                                    "InPromotion": "No"
                                },
                                {
                                    "ProductID": "514",
                                    "ProductName": "LL Mountain Seat Assembly",
                                    "InPromotion": "No"
                                },
                                {
                                    "ProductID": "515",
                                    "ProductName": "ML Mountain Seat Assembly",
                                    "InPromotion": "No"
                                },
                                {
                                    "ProductID": "516",
                                    "ProductName": "HL Mountain Seat Assembly",
                                    "InPromotion": "No"
                                },
                                {
                                    "ProductID": "517",
                                    "ProductName": "LL Road Seat Assembly",
                                    "InPromotion": "No"
                                },
                                {
                                    "ProductID": "518",
                                    "ProductName": "ML Road Seat Assembly",
                                    "InPromotion": "No"
                                },
                                {
                                    "ProductID": "519",
                                    "ProductName": "HL Road Seat Assembly",
                                    "InPromotion": "No"
                                },
                                {
                                    "ProductID": "520",
                                    "ProductName": "LL Touring Seat Assembly",
                                    "InPromotion": "No"
                                },
                                {
                                    "ProductID": "521",
                                    "ProductName": "ML Touring Seat Assembly",
                                    "InPromotion": "No"
                                },
                                {
                                    "ProductID": "522",
                                    "ProductName": "HL Touring Seat Assembly",
                                    "InPromotion": "No"
                                },
                                {
                                    "ProductID": "523",
                                    "ProductName": "LL Spindle/Axle",
                                    "InPromotion": "No"
                                },
                                {
                                    "ProductID": "524",
                                    "ProductName": "HL Spindle/Axle",
                                    "InPromotion": "No"
                                },
                                {
                                    "ProductID": "525",
                                    "ProductName": "LL Shell",
                                    "InPromotion": "No"
                                },
                                {
                                    "ProductID": "526",
                                    "ProductName": "HL Shell",
                                    "InPromotion": "No"
                                },
                                {
                                    "ProductID": "527",
                                    "ProductName": "Spokes",
                                    "InPromotion": "No"
                                },
                                {
                                    "ProductID": "528",
                                    "ProductName": "Seat Lug",
                                    "InPromotion": "No"
                                },
                                {
                                    "ProductID": "529",
                                    "ProductName": "Stem",
                                    "InPromotion": "No"
                                },
                                {
                                    "ProductID": "530",
                                    "ProductName": "Seat Post",
                                    "InPromotion": "No"
                                },
                                {
                                    "ProductID": "531",
                                    "ProductName": "Steerer",
                                    "InPromotion": "No"
                                },
                                {
                                    "ProductID": "532",
                                    "ProductName": "Seat Stays",
                                    "InPromotion": "No"
                                },
                                {
                                    "ProductID": "533",
                                    "ProductName": "Seat Tube",
                                    "InPromotion": "No"
                                },
                                {
                                    "ProductID": "534",
                                    "ProductName": "Top Tube",
                                    "InPromotion": "No"
                                },
                                {
                                    "ProductID": "535",
                                    "ProductName": "Tension Pulley",
                                    "InPromotion": "No"
                                },
                                {
                                    "ProductID": "679",
                                    "ProductName": "Rear Derailleur Cage",
                                    "InPromotion": "No"
                                },
                                {
                                    "ProductID": "803",
                                    "ProductName": "ML Fork",
                                    "InPromotion": "Yes"
                                },
                                {
                                    "ProductID": "812",
                                    "ProductName": "ML Road Handlebars",
                                    "InPromotion": "Yes"
                                },
                                {
                                    "ProductID": "818",
                                    "ProductName": "LL Road Front Wheel",
                                    "InPromotion": "Yes"
                                },
                                {
                                    "ProductID": "821",
                                    "ProductName": "Touring Front Wheel",
                                    "InPromotion": "Yes"
                                },
                                {
                                    "ProductID": "829",
                                    "ProductName": "Touring Rear Wheel",
                                    "InPromotion": "Yes"
                                },
                                {
                                    "ProductID": "842",
                                    "ProductName": "Touring-Panniers, Large",
                                    "InPromotion": "Yes"
                                },
                                {
                                    "ProductID": "845",
                                    "ProductName": "Mountain Pump",
                                    "InPromotion": "Yes"
                                },
                                {
                                    "ProductID": "846",
                                    "ProductName": "Taillights - Battery-Powered",
                                    "InPromotion": "Yes"
                                },
                                {
                                    "ProductID": "847",
                                    "ProductName": "Headlights - Dual-Beam",
                                    "InPromotion": "Yes"
                                },
                                {
                                    "ProductID": "848",
                                    "ProductName": "Headlights - Weatherproof",
                                    "InPromotion": "Yes"
                                },
                                {
                                    "ProductID": "851",
                                    "ProductName": "Men's Sports Shorts, XL",
                                    "InPromotion": "Yes"
                                },
                                {
                                    "ProductID": "912",
                                    "ProductName": "ML Road Seat/Saddle",
                                    "InPromotion": "Yes"
                                },
                                {
                                    "ProductID": "995",
                                    "ProductName": "ML Bottom Bracket",
                                    "InPromotion": "Yes"
                                }
                            ]
                        },
                        "text/html": "<table><tr><th>ProductID</th><th>ProductName</th><th>InPromotion</th></tr><tr><td>1</td><td>Adjustable Race</td><td>No</td></tr><tr><td>2</td><td>Bearing Ball</td><td>No</td></tr><tr><td>3</td><td>BB Ball Bearing</td><td>No</td></tr><tr><td>4</td><td>Headset Ball Bearings</td><td>No</td></tr><tr><td>316</td><td>Blade</td><td>No</td></tr><tr><td>317</td><td>LL Crankarm</td><td>No</td></tr><tr><td>318</td><td>ML Crankarm</td><td>No</td></tr><tr><td>319</td><td>HL Crankarm</td><td>No</td></tr><tr><td>320</td><td>Chainring Bolts</td><td>No</td></tr><tr><td>321</td><td>Chainring Nut</td><td>No</td></tr><tr><td>322</td><td>Chainring</td><td>No</td></tr><tr><td>323</td><td>Crown Race</td><td>No</td></tr><tr><td>324</td><td>Chain Stays</td><td>No</td></tr><tr><td>325</td><td>Decal 1</td><td>No</td></tr><tr><td>326</td><td>Decal 2</td><td>No</td></tr><tr><td>327</td><td>Down Tube</td><td>No</td></tr><tr><td>328</td><td>Mountain End Caps</td><td>No</td></tr><tr><td>329</td><td>Road End Caps</td><td>No</td></tr><tr><td>330</td><td>Touring End Caps</td><td>No</td></tr><tr><td>331</td><td>Fork End</td><td>No</td></tr><tr><td>332</td><td>Freewheel</td><td>No</td></tr><tr><td>341</td><td>Flat Washer 1</td><td>No</td></tr><tr><td>342</td><td>Flat Washer 6</td><td>No</td></tr><tr><td>343</td><td>Flat Washer 2</td><td>No</td></tr><tr><td>344</td><td>Flat Washer 9</td><td>No</td></tr><tr><td>345</td><td>Flat Washer 4</td><td>No</td></tr><tr><td>346</td><td>Flat Washer 3</td><td>No</td></tr><tr><td>347</td><td>Flat Washer 8</td><td>No</td></tr><tr><td>348</td><td>Flat Washer 5</td><td>No</td></tr><tr><td>349</td><td>Flat Washer 7</td><td>No</td></tr><tr><td>350</td><td>Fork Crown</td><td>No</td></tr><tr><td>351</td><td>Front Derailleur Cage</td><td>No</td></tr><tr><td>352</td><td>Front Derailleur Linkage</td><td>No</td></tr><tr><td>355</td><td>Guide Pulley</td><td>No</td></tr><tr><td>356</td><td>LL Grip Tape</td><td>No</td></tr><tr><td>357</td><td>ML Grip Tape</td><td>No</td></tr><tr><td>358</td><td>HL Grip Tape</td><td>No</td></tr><tr><td>359</td><td>Thin-Jam Hex Nut 9</td><td>No</td></tr><tr><td>360</td><td>Thin-Jam Hex Nut 10</td><td>No</td></tr><tr><td>361</td><td>Thin-Jam Hex Nut 1</td><td>No</td></tr><tr><td>362</td><td>Thin-Jam Hex Nut 2</td><td>No</td></tr><tr><td>363</td><td>Thin-Jam Hex Nut 15</td><td>No</td></tr><tr><td>364</td><td>Thin-Jam Hex Nut 16</td><td>No</td></tr><tr><td>365</td><td>Thin-Jam Hex Nut 5</td><td>No</td></tr><tr><td>366</td><td>Thin-Jam Hex Nut 6</td><td>No</td></tr><tr><td>367</td><td>Thin-Jam Hex Nut 3</td><td>No</td></tr><tr><td>368</td><td>Thin-Jam Hex Nut 4</td><td>No</td></tr><tr><td>369</td><td>Thin-Jam Hex Nut 13</td><td>No</td></tr><tr><td>370</td><td>Thin-Jam Hex Nut 14</td><td>No</td></tr><tr><td>371</td><td>Thin-Jam Hex Nut 7</td><td>No</td></tr><tr><td>372</td><td>Thin-Jam Hex Nut 8</td><td>No</td></tr><tr><td>373</td><td>Thin-Jam Hex Nut 12</td><td>No</td></tr><tr><td>374</td><td>Thin-Jam Hex Nut 11</td><td>No</td></tr><tr><td>375</td><td>Hex Nut 5</td><td>No</td></tr><tr><td>376</td><td>Hex Nut 6</td><td>No</td></tr><tr><td>377</td><td>Hex Nut 16</td><td>No</td></tr><tr><td>378</td><td>Hex Nut 17</td><td>No</td></tr><tr><td>379</td><td>Hex Nut 7</td><td>No</td></tr><tr><td>380</td><td>Hex Nut 8</td><td>No</td></tr><tr><td>381</td><td>Hex Nut 9</td><td>No</td></tr><tr><td>382</td><td>Hex Nut 22</td><td>No</td></tr><tr><td>383</td><td>Hex Nut 23</td><td>No</td></tr><tr><td>384</td><td>Hex Nut 12</td><td>No</td></tr><tr><td>385</td><td>Hex Nut 13</td><td>No</td></tr><tr><td>386</td><td>Hex Nut 1</td><td>No</td></tr><tr><td>387</td><td>Hex Nut 10</td><td>No</td></tr><tr><td>388</td><td>Hex Nut 11</td><td>No</td></tr><tr><td>389</td><td>Hex Nut 2</td><td>No</td></tr><tr><td>390</td><td>Hex Nut 20</td><td>No</td></tr><tr><td>391</td><td>Hex Nut 21</td><td>No</td></tr><tr><td>392</td><td>Hex Nut 3</td><td>No</td></tr><tr><td>393</td><td>Hex Nut 14</td><td>No</td></tr><tr><td>394</td><td>Hex Nut 15</td><td>No</td></tr><tr><td>395</td><td>Hex Nut 4</td><td>No</td></tr><tr><td>396</td><td>Hex Nut 18</td><td>No</td></tr><tr><td>397</td><td>Hex Nut 19</td><td>No</td></tr><tr><td>398</td><td>Handlebar Tube</td><td>No</td></tr><tr><td>399</td><td>Head Tube</td><td>No</td></tr><tr><td>400</td><td>LL Hub</td><td>No</td></tr><tr><td>401</td><td>HL Hub</td><td>No</td></tr><tr><td>402</td><td>Keyed Washer</td><td>No</td></tr><tr><td>403</td><td>External Lock Washer 3</td><td>No</td></tr><tr><td>404</td><td>External Lock Washer 4</td><td>No</td></tr><tr><td>405</td><td>External Lock Washer 9</td><td>No</td></tr><tr><td>406</td><td>External Lock Washer 5</td><td>No</td></tr><tr><td>407</td><td>External Lock Washer 7</td><td>No</td></tr><tr><td>408</td><td>External Lock Washer 6</td><td>No</td></tr><tr><td>409</td><td>External Lock Washer 1</td><td>No</td></tr><tr><td>410</td><td>External Lock Washer 8</td><td>No</td></tr><tr><td>411</td><td>External Lock Washer 2</td><td>No</td></tr><tr><td>412</td><td>Internal Lock Washer 3</td><td>No</td></tr><tr><td>413</td><td>Internal Lock Washer 4</td><td>No</td></tr><tr><td>414</td><td>Internal Lock Washer 9</td><td>No</td></tr><tr><td>415</td><td>Internal Lock Washer 5</td><td>No</td></tr><tr><td>416</td><td>Internal Lock Washer 7</td><td>No</td></tr><tr><td>417</td><td>Internal Lock Washer 6</td><td>No</td></tr><tr><td>418</td><td>Internal Lock Washer 10</td><td>No</td></tr><tr><td>419</td><td>Internal Lock Washer 1</td><td>No</td></tr><tr><td>420</td><td>Internal Lock Washer 8</td><td>No</td></tr><tr><td>421</td><td>Internal Lock Washer 2</td><td>No</td></tr><tr><td>422</td><td>Thin-Jam Lock Nut 9</td><td>No</td></tr><tr><td>423</td><td>Thin-Jam Lock Nut 10</td><td>No</td></tr><tr><td>424</td><td>Thin-Jam Lock Nut 1</td><td>No</td></tr><tr><td>425</td><td>Thin-Jam Lock Nut 2</td><td>No</td></tr><tr><td>426</td><td>Thin-Jam Lock Nut 15</td><td>No</td></tr><tr><td>427</td><td>Thin-Jam Lock Nut 16</td><td>No</td></tr><tr><td>428</td><td>Thin-Jam Lock Nut 5</td><td>No</td></tr><tr><td>429</td><td>Thin-Jam Lock Nut 6</td><td>No</td></tr><tr><td>430</td><td>Thin-Jam Lock Nut 3</td><td>No</td></tr><tr><td>431</td><td>Thin-Jam Lock Nut 4</td><td>No</td></tr><tr><td>432</td><td>Thin-Jam Lock Nut 13</td><td>No</td></tr><tr><td>433</td><td>Thin-Jam Lock Nut 14</td><td>No</td></tr><tr><td>434</td><td>Thin-Jam Lock Nut 7</td><td>No</td></tr><tr><td>435</td><td>Thin-Jam Lock Nut 8</td><td>No</td></tr><tr><td>436</td><td>Thin-Jam Lock Nut 12</td><td>No</td></tr><tr><td>437</td><td>Thin-Jam Lock Nut 11</td><td>No</td></tr><tr><td>438</td><td>Lock Nut 5</td><td>No</td></tr><tr><td>439</td><td>Lock Nut 6</td><td>No</td></tr><tr><td>440</td><td>Lock Nut 16</td><td>No</td></tr><tr><td>441</td><td>Lock Nut 17</td><td>No</td></tr><tr><td>442</td><td>Lock Nut 7</td><td>No</td></tr><tr><td>443</td><td>Lock Nut 8</td><td>No</td></tr><tr><td>444</td><td>Lock Nut 9</td><td>No</td></tr><tr><td>445</td><td>Lock Nut 22</td><td>No</td></tr><tr><td>446</td><td>Lock Nut 23</td><td>No</td></tr><tr><td>447</td><td>Lock Nut 12</td><td>No</td></tr><tr><td>448</td><td>Lock Nut 13</td><td>No</td></tr><tr><td>449</td><td>Lock Nut 1</td><td>No</td></tr><tr><td>450</td><td>Lock Nut 10</td><td>No</td></tr><tr><td>451</td><td>Lock Nut 11</td><td>No</td></tr><tr><td>452</td><td>Lock Nut 2</td><td>No</td></tr><tr><td>453</td><td>Lock Nut 20</td><td>No</td></tr><tr><td>454</td><td>Lock Nut 21</td><td>No</td></tr><tr><td>455</td><td>Lock Nut 3</td><td>No</td></tr><tr><td>456</td><td>Lock Nut 14</td><td>No</td></tr><tr><td>457</td><td>Lock Nut 15</td><td>No</td></tr><tr><td>458</td><td>Lock Nut 4</td><td>No</td></tr><tr><td>459</td><td>Lock Nut 19</td><td>No</td></tr><tr><td>460</td><td>Lock Nut 18</td><td>No</td></tr><tr><td>461</td><td>Lock Ring</td><td>No</td></tr><tr><td>462</td><td>Lower Head Race</td><td>No</td></tr><tr><td>463</td><td>Lock Washer 4</td><td>No</td></tr><tr><td>464</td><td>Lock Washer 5</td><td>No</td></tr><tr><td>465</td><td>Lock Washer 10</td><td>No</td></tr><tr><td>466</td><td>Lock Washer 6</td><td>No</td></tr><tr><td>467</td><td>Lock Washer 13</td><td>No</td></tr><tr><td>468</td><td>Lock Washer 8</td><td>No</td></tr><tr><td>469</td><td>Lock Washer 1</td><td>No</td></tr><tr><td>470</td><td>Lock Washer 7</td><td>No</td></tr><tr><td>471</td><td>Lock Washer 12</td><td>No</td></tr><tr><td>472</td><td>Lock Washer 2</td><td>No</td></tr><tr><td>473</td><td>Lock Washer 9</td><td>No</td></tr><tr><td>474</td><td>Lock Washer 3</td><td>No</td></tr><tr><td>475</td><td>Lock Washer 11</td><td>No</td></tr><tr><td>476</td><td>Metal Angle</td><td>No</td></tr><tr><td>477</td><td>Metal Bar 1</td><td>No</td></tr><tr><td>478</td><td>Metal Bar 2</td><td>No</td></tr><tr><td>479</td><td>Metal Plate 2</td><td>No</td></tr><tr><td>480</td><td>Metal Plate 1</td><td>No</td></tr><tr><td>481</td><td>Metal Plate 3</td><td>No</td></tr><tr><td>482</td><td>Metal Sheet 2</td><td>No</td></tr><tr><td>483</td><td>Metal Sheet 3</td><td>No</td></tr><tr><td>484</td><td>Metal Sheet 7</td><td>No</td></tr><tr><td>485</td><td>Metal Sheet 4</td><td>No</td></tr><tr><td>486</td><td>Metal Sheet 5</td><td>No</td></tr><tr><td>487</td><td>Metal Sheet 6</td><td>No</td></tr><tr><td>488</td><td>Metal Sheet 1</td><td>No</td></tr><tr><td>489</td><td>Metal Tread Plate</td><td>No</td></tr><tr><td>490</td><td>LL Nipple</td><td>No</td></tr><tr><td>491</td><td>HL Nipple</td><td>No</td></tr><tr><td>492</td><td>Paint - Black</td><td>No</td></tr><tr><td>493</td><td>Paint - Red</td><td>No</td></tr><tr><td>494</td><td>Paint - Silver</td><td>No</td></tr><tr><td>495</td><td>Paint - Blue</td><td>No</td></tr><tr><td>496</td><td>Paint - Yellow</td><td>No</td></tr><tr><td>497</td><td>Pinch Bolt</td><td>No</td></tr><tr><td>504</td><td>Cup-Shaped Race</td><td>No</td></tr><tr><td>505</td><td>Cone-Shaped Race</td><td>No</td></tr><tr><td>506</td><td>Reflector</td><td>No</td></tr><tr><td>507</td><td>LL Mountain Rim</td><td>No</td></tr><tr><td>508</td><td>ML Mountain Rim</td><td>No</td></tr><tr><td>509</td><td>HL Mountain Rim</td><td>No</td></tr><tr><td>510</td><td>LL Road Rim</td><td>No</td></tr><tr><td>511</td><td>ML Road Rim</td><td>No</td></tr><tr><td>512</td><td>HL Road Rim</td><td>No</td></tr><tr><td>513</td><td>Touring Rim</td><td>No</td></tr><tr><td>514</td><td>LL Mountain Seat Assembly</td><td>No</td></tr><tr><td>515</td><td>ML Mountain Seat Assembly</td><td>No</td></tr><tr><td>516</td><td>HL Mountain Seat Assembly</td><td>No</td></tr><tr><td>517</td><td>LL Road Seat Assembly</td><td>No</td></tr><tr><td>518</td><td>ML Road Seat Assembly</td><td>No</td></tr><tr><td>519</td><td>HL Road Seat Assembly</td><td>No</td></tr><tr><td>520</td><td>LL Touring Seat Assembly</td><td>No</td></tr><tr><td>521</td><td>ML Touring Seat Assembly</td><td>No</td></tr><tr><td>522</td><td>HL Touring Seat Assembly</td><td>No</td></tr><tr><td>523</td><td>LL Spindle/Axle</td><td>No</td></tr><tr><td>524</td><td>HL Spindle/Axle</td><td>No</td></tr><tr><td>525</td><td>LL Shell</td><td>No</td></tr><tr><td>526</td><td>HL Shell</td><td>No</td></tr><tr><td>527</td><td>Spokes</td><td>No</td></tr><tr><td>528</td><td>Seat Lug</td><td>No</td></tr><tr><td>529</td><td>Stem</td><td>No</td></tr><tr><td>530</td><td>Seat Post</td><td>No</td></tr><tr><td>531</td><td>Steerer</td><td>No</td></tr><tr><td>532</td><td>Seat Stays</td><td>No</td></tr><tr><td>533</td><td>Seat Tube</td><td>No</td></tr><tr><td>534</td><td>Top Tube</td><td>No</td></tr><tr><td>535</td><td>Tension Pulley</td><td>No</td></tr><tr><td>679</td><td>Rear Derailleur Cage</td><td>No</td></tr><tr><td>803</td><td>ML Fork</td><td>Yes</td></tr><tr><td>812</td><td>ML Road Handlebars</td><td>Yes</td></tr><tr><td>818</td><td>LL Road Front Wheel</td><td>Yes</td></tr><tr><td>821</td><td>Touring Front Wheel</td><td>Yes</td></tr><tr><td>829</td><td>Touring Rear Wheel</td><td>Yes</td></tr><tr><td>842</td><td>Touring-Panniers, Large</td><td>Yes</td></tr><tr><td>845</td><td>Mountain Pump</td><td>Yes</td></tr><tr><td>846</td><td>Taillights - Battery-Powered</td><td>Yes</td></tr><tr><td>847</td><td>Headlights - Dual-Beam</td><td>Yes</td></tr><tr><td>848</td><td>Headlights - Weatherproof</td><td>Yes</td></tr><tr><td>851</td><td>Men&#39;s Sports Shorts, XL</td><td>Yes</td></tr><tr><td>912</td><td>ML Road Seat/Saddle</td><td>Yes</td></tr><tr><td>995</td><td>ML Bottom Bracket</td><td>Yes</td></tr></table>"
                    },
                    "metadata": {}
                }
            ],
            "execution_count": 13
        },
        {
            "cell_type": "markdown",
            "source": [
                "## Case 002:\n",
                "\n",
                "The sales team at WideWorldImportes have notived that some products are not selling as much as others. The low performance of these products are a lack of space for new inventory.\n",
                "\n",
                "Your task is to find the peoduct with the lowerst totla quantity sold and provide insights into why it might not be performing well\n",
                "\n",
                "## Objectives\n",
                "\n",
                "1\\. Retrieve all products that have been sold and calculate their total revenue \n",
                "\n",
                "2\\. Identify the product with the lowerst total revenue\n",
                "\n",
                "3\\. Provide reccomendations based on the results\n",
                "\n",
                "## Schemas Needed to Solve the Case\n",
                "\n",
                "Sales.OrderLines\n",
                "\n",
                "Sales.Products"
            ],
            "metadata": {
                "language": "sql",
                "azdata_cell_guid": "253c09b6-ae71-42c2-bd7b-864ecb170a80"
            },
            "attachments": {}
        },
        {
            "cell_type": "code",
            "source": [
                "USE WideWorldImporters;\n",
                "GO\n",
                "\n",
                "WITH\n",
                "    LeastSoldProduct\n",
                "    AS\n",
                "    (\n",
                "        SELECT\n",
                "            Description,\n",
                "            SUM(Quantity * UnitPrice) AS TotalRevenue\n",
                "        FROM Sales.OrderLines\n",
                "        GROUP BY Description\n",
                "    )\n",
                "SELECT TOP 1\n",
                "    Description,\n",
                "    TotalRevenue\n",
                "FROM LeastSoldProduct\n",
                "ORDER BY TotalRevenue ASC;\n",
                ""
            ],
            "metadata": {
                "azdata_cell_guid": "df07a84c-c149-4ebe-be89-355ac502db50",
                "language": "sql",
                "tags": []
            },
            "outputs": [
                {
                    "output_type": "display_data",
                    "data": {
                        "text/html": "Commands completed successfully."
                    },
                    "metadata": {}
                },
                {
                    "output_type": "display_data",
                    "data": {
                        "text/html": "(1 row affected)"
                    },
                    "metadata": {}
                },
                {
                    "output_type": "display_data",
                    "data": {
                        "text/html": "Total execution time: 00:00:00.032"
                    },
                    "metadata": {}
                },
                {
                    "output_type": "execute_result",
                    "execution_count": 20,
                    "data": {
                        "application/vnd.dataresource+json": {
                            "schema": {
                                "fields": [
                                    {
                                        "name": "Description"
                                    },
                                    {
                                        "name": "TotalRevenue"
                                    }
                                ]
                            },
                            "data": [
                                {
                                    "Description": "Packing knife with metal insert blade (Yellow) 9mm",
                                    "TotalRevenue": "57361.50"
                                }
                            ]
                        },
                        "text/html": "<table><tr><th>Description</th><th>TotalRevenue</th></tr><tr><td>Packing knife with metal insert blade (Yellow) 9mm</td><td>57361.50</td></tr></table>"
                    },
                    "metadata": {}
                }
            ],
            "execution_count": 20
        },
        {
            "cell_type": "markdown",
            "source": [
                "## Case003:\n",
                "\n",
                "It is that time of year again for WideWorldImporters to check for discrepancies with supplier payments aand actual purchase orders. Check to see if there are any mismatching or missing orders to prevent accounting errors\n",
                "\n",
                "## Objectives\n",
                "\n",
                "1\\. Identify all suppliers who have received payments using Purchasing.SupplierTransactions\n",
                "\n",
                "2\\. Cross-check these payments against purchasing.purchaseOrders to ensure there is a matching purchase order\n",
                "\n",
                "3\\. Find suppliers who have transactions but no purchase orders \n",
                "\n",
                "4\\. Get all relevant details of suppliers (name transaction amount, and payment method (if none return blank table)\n",
                "\n",
                "## Schemas Needed to Solve the Case\n",
                "\n",
                "Purchasing.SupplierTransactions\n",
                "\n",
                "<span style=\"font-family: -apple-system, BlinkMacSystemFont, sans-serif; color: var(--vscode-foreground);\">Purchasing.PurchaseOrders</span>\n",
                "\n",
                "Purchasing.Suppliers\n",
                "\n",
                "Application.PaymentMethods"
            ],
            "metadata": {
                "azdata_cell_guid": "00c9b1a7-dd90-45a8-b9b0-c87e304ba3c6"
            },
            "attachments": {}
        },
        {
            "cell_type": "code",
            "source": [
                "USE WideWorldImporters;\n",
                "GO\n",
                "\n",
                "WITH\n",
                "    PaymentsWithoutOrders\n",
                "    AS\n",
                "    (\n",
                "        SELECT\n",
                "            st.SupplierID,\n",
                "            s.SupplierName,\n",
                "            SUM(st.TransactionAmount) AS TotalPaid,\n",
                "            pm.PaymentMethodName\n",
                "        FROM Purchasing.SupplierTransactions AS st\n",
                "            JOIN Purchasing.Suppliers AS s\n",
                "            ON st.SupplierID = s.SupplierID\n",
                "            LEFT JOIN Application.PaymentMethods AS pm\n",
                "            ON st.PaymentMethodID = pm.PaymentMethodID\n",
                "            LEFT JOIN Purchasing.PurchaseOrders po\n",
                "            ON st.SupplierID = po.SupplierID\n",
                "        WHERE po.PurchaseOrderID IS NULL\n",
                "        --no matching purchase order\n",
                "        GROUP BY st.SupplierID, s.SupplierName, pm.PaymentMethodName\n",
                "    )\n",
                "SELECT\n",
                "    SupplierID,\n",
                "    SupplierName,\n",
                "    TotalPaid,\n",
                "    PaymentMethodName\n",
                "FROM PaymentsWithoutOrders\n",
                "ORDER BY TotalPaid DESC;"
            ],
            "metadata": {
                "azdata_cell_guid": "1c93a8df-3dd6-4c82-a9ae-54c54dc0f0ab",
                "language": "sql"
            },
            "outputs": [],
            "execution_count": null
        },
        {
            "cell_type": "markdown",
            "source": [
                "## Case004\n",
                "\n",
                "In WideWorldImporters, there have been some major concerns on unpaid supplier balances. Those unpaid supplier balances (Supplier debt) have to be collected sometime soon.\n",
                "\n",
                "Your task is to identify the suppliers who are currently in debt with us and assess potential financial tisks\n",
                "\n",
                "## Objectives\n",
                "\n",
                "1\\. Get all outstanding balances from supplier transactions\n",
                "\n",
                "2\\. Calculate the totla unpaid amount per supplier\n",
                "\n",
                "3\\. Order the suppliers based on their total amount of debt in descending order to prioritize certain suppliers over others\n",
                "\n",
                "4\\. Provixe a clear and structure report for financial review (table)\n",
                "\n",
                "## Schemas Needed to Solve the Case\n",
                "\n",
                "Purchasing.SupplierTransactions\n",
                "\n",
                "Purchasing.Suppliers\n",
                "\n",
                "  \n",
                "\n",
                "This query"
            ],
            "metadata": {
                "language": "sql",
                "azdata_cell_guid": "5025b85e-4b0e-4464-beb8-3be14142fb20"
            },
            "attachments": {}
        },
        {
            "cell_type": "code",
            "source": [
                "USE WideWorldImporters\n",
                "GO\n",
                "\n",
                "WITH\n",
                "    SupplierDebt\n",
                "    AS\n",
                "    (\n",
                "        SELECT\n",
                "            t.SupplierID,\n",
                "            s.SupplierName,\n",
                "            SUM(t.OutstandingBalance) AS TotalOutstanding\n",
                "        FROM Purchasing.SupplierTransactions AS t\n",
                "            INNER JOIN Purchasing.Suppliers AS s\n",
                "            ON t.SupplierID = s.SupplierID\n",
                "        WHERE t.OutstandingBalance > 0\n",
                "        GROUP BY t.SupplierID, s.SupplierName\n",
                "    )\n",
                "SELECT\n",
                "    SupplierName, TotalOutstanding\n",
                "FROM SupplierDebt\n",
                "ORDER BY TotalOutstanding DESC;"
            ],
            "metadata": {
                "azdata_cell_guid": "40a0147d-4c42-4580-9ab0-017b019054b1",
                "language": "sql"
            },
            "outputs": [
                {
                    "output_type": "display_data",
                    "data": {
                        "text/html": "Commands completed successfully."
                    },
                    "metadata": {}
                },
                {
                    "output_type": "display_data",
                    "data": {
                        "text/html": "(2 rows affected)"
                    },
                    "metadata": {}
                },
                {
                    "output_type": "display_data",
                    "data": {
                        "text/html": "Total execution time: 00:00:00.026"
                    },
                    "metadata": {}
                },
                {
                    "output_type": "execute_result",
                    "metadata": {},
                    "execution_count": 3,
                    "data": {
                        "application/vnd.dataresource+json": {
                            "schema": {
                                "fields": [
                                    {
                                        "name": "SupplierName"
                                    },
                                    {
                                        "name": "TotalOutstanding"
                                    }
                                ]
                            },
                            "data": [
                                {
                                    "SupplierName": "Fabrikam, Inc.",
                                    "TotalOutstanding": "1871894.10"
                                },
                                {
                                    "SupplierName": "Litware, Inc.",
                                    "TotalOutstanding": "849784.11"
                                }
                            ]
                        },
                        "text/html": [
                            "<table>",
                            "<tr><th>SupplierName</th><th>TotalOutstanding</th></tr>",
                            "<tr><td>Fabrikam, Inc.</td><td>1871894.10</td></tr>",
                            "<tr><td>Litware, Inc.</td><td>849784.11</td></tr>",
                            "</table>"
                        ]
                    }
                }
            ],
            "execution_count": 3
        },
        {
            "cell_type": "markdown",
            "source": [
                "## Case005:\n",
                "\n",
                "The inventory management team at AdventureWorks2019 hasn't done an inventory run in a while and needs to do one at this moment to ensure all stock levels are above their reorder point. \n",
                "\n",
                "Your task is to identify all products that are either at or below their reorder point.\n",
                "\n",
                "## Objectives\n",
                "\n",
                "1\\. Get all products and their inventorty levels from AdventureWorks systems\n",
                "\n",
                "2\\. Exclude all products that have sufficient stock\n",
                "\n",
                "3\\. Identify only those products that need to be restocked\n",
                "\n",
                "4\\. Provide an ordered list of the products to know which ones have to be ordered first\n",
                "\n",
                "## Schemas Needed to Solve the Case\n",
                "\n",
                "Production.Product\n",
                "\n",
                "Production.ProductInventory\n",
                "\n",
                "  \n",
                "\n",
                "### Small explanation\n",
                "\n",
                "This query gets procuts that need to be restocked\n",
                "\n",
                "  \n",
                "\n",
                "The first select cluase retrieves all products and their inventory levels, while the second one filters out products that don't need to be restocked\n",
                "\n",
                "  \n",
                "\n",
                "except operator ensures only products with low or zero inventory remina in our final output"
            ],
            "metadata": {
                "language": "sql",
                "azdata_cell_guid": "a8aef0c8-f6a3-4def-8f34-6b6497868e39"
            },
            "attachments": {}
        },
        {
            "cell_type": "code",
            "source": [
                "USE AdventureWorks2019\n",
                "GO\n",
                "\n",
                "--gets the product information needed for the query \n",
                "    SELECT\n",
                "        p.ProductID,\n",
                "        p.ReorderPoint,\n",
                "        pi.Quantity\n",
                "    FROM\n",
                "        Production.Product AS p\n",
                "        JOIN Production.ProductInventory pi\n",
                "        ON p.ProductID = pi.ProductID\n",
                "\n",
                "EXCEPT\n",
                "\n",
                "    -- gets the products where Quantity is less than or equal to the reorder point\n",
                "    SELECT\n",
                "        p.ProductID,\n",
                "        p.ReorderPoint,\n",
                "        pi.Quantity\n",
                "    FROM Production.Product AS p\n",
                "        JOIN Production.ProductInventory AS pi\n",
                "        ON p.ProductID = pi.ProductID\n",
                "    WHERE pi.Quantity > p.ReorderPoint\n",
                "ORDER BY ProductID;"
            ],
            "metadata": {
                "azdata_cell_guid": "9134fed4-f21e-41e8-a223-649840412181",
                "language": "sql"
            },
            "outputs": [
                {
                    "output_type": "display_data",
                    "data": {
                        "text/html": "Commands completed successfully."
                    },
                    "metadata": {}
                },
                {
                    "output_type": "display_data",
                    "data": {
                        "text/html": "(859 rows affected)"
                    },
                    "metadata": {}
                },
                {
                    "output_type": "display_data",
                    "data": {
                        "text/html": "Total execution time: 00:00:00.033"
                    },
                    "metadata": {}
                },
                {
                    "output_type": "execute_result",
                    "metadata": {},
                    "execution_count": 5,
                    "data": {
                        "application/vnd.dataresource+json": {
                            "schema": {
                                "fields": [
                                    {
                                        "name": "ProductID"
                                    },
                                    {
                                        "name": "ReorderPoint"
                                    },
                                    {
                                        "name": "Quantity"
                                    }
                                ]
                            },
                            "data": [
                                {
                                    "ProductID": "1",
                                    "ReorderPoint": "750",
                                    "Quantity": "324"
                                },
                                {
                                    "ProductID": "1",
                                    "ReorderPoint": "750",
                                    "Quantity": "353"
                                },
                                {
                                    "ProductID": "1",
                                    "ReorderPoint": "750",
                                    "Quantity": "408"
                                },
                                {
                                    "ProductID": "2",
                                    "ReorderPoint": "750",
                                    "Quantity": "318"
                                },
                                {
                                    "ProductID": "2",
                                    "ReorderPoint": "750",
                                    "Quantity": "364"
                                },
                                {
                                    "ProductID": "2",
                                    "ReorderPoint": "750",
                                    "Quantity": "427"
                                },
                                {
                                    "ProductID": "3",
                                    "ReorderPoint": "600",
                                    "Quantity": "324"
                                },
                                {
                                    "ProductID": "3",
                                    "ReorderPoint": "600",
                                    "Quantity": "443"
                                },
                                {
                                    "ProductID": "3",
                                    "ReorderPoint": "600",
                                    "Quantity": "585"
                                },
                                {
                                    "ProductID": "4",
                                    "ReorderPoint": "600",
                                    "Quantity": "388"
                                },
                                {
                                    "ProductID": "4",
                                    "ReorderPoint": "600",
                                    "Quantity": "422"
                                },
                                {
                                    "ProductID": "4",
                                    "ReorderPoint": "600",
                                    "Quantity": "512"
                                },
                                {
                                    "ProductID": "316",
                                    "ReorderPoint": "600",
                                    "Quantity": "388"
                                },
                                {
                                    "ProductID": "316",
                                    "ReorderPoint": "600",
                                    "Quantity": "441"
                                },
                                {
                                    "ProductID": "316",
                                    "ReorderPoint": "600",
                                    "Quantity": "532"
                                },
                                {
                                    "ProductID": "317",
                                    "ReorderPoint": "375",
                                    "Quantity": "152"
                                },
                                {
                                    "ProductID": "317",
                                    "ReorderPoint": "375",
                                    "Quantity": "158"
                                },
                                {
                                    "ProductID": "317",
                                    "ReorderPoint": "375",
                                    "Quantity": "283"
                                },
                                {
                                    "ProductID": "318",
                                    "ReorderPoint": "375",
                                    "Quantity": "132"
                                },
                                {
                                    "ProductID": "318",
                                    "ReorderPoint": "375",
                                    "Quantity": "136"
                                },
                                {
                                    "ProductID": "318",
                                    "ReorderPoint": "375",
                                    "Quantity": "171"
                                },
                                {
                                    "ProductID": "319",
                                    "ReorderPoint": "375",
                                    "Quantity": "184"
                                },
                                {
                                    "ProductID": "319",
                                    "ReorderPoint": "375",
                                    "Quantity": "305"
                                },
                                {
                                    "ProductID": "319",
                                    "ReorderPoint": "375",
                                    "Quantity": "308"
                                },
                                {
                                    "ProductID": "320",
                                    "ReorderPoint": "750",
                                    "Quantity": "283"
                                },
                                {
                                    "ProductID": "320",
                                    "ReorderPoint": "750",
                                    "Quantity": "372"
                                },
                                {
                                    "ProductID": "320",
                                    "ReorderPoint": "750",
                                    "Quantity": "481"
                                },
                                {
                                    "ProductID": "321",
                                    "ReorderPoint": "750",
                                    "Quantity": "540"
                                },
                                {
                                    "ProductID": "321",
                                    "ReorderPoint": "750",
                                    "Quantity": "569"
                                },
                                {
                                    "ProductID": "321",
                                    "ReorderPoint": "750",
                                    "Quantity": "641"
                                },
                                {
                                    "ProductID": "322",
                                    "ReorderPoint": "750",
                                    "Quantity": "475"
                                },
                                {
                                    "ProductID": "322",
                                    "ReorderPoint": "750",
                                    "Quantity": "587"
                                },
                                {
                                    "ProductID": "322",
                                    "ReorderPoint": "750",
                                    "Quantity": "622"
                                },
                                {
                                    "ProductID": "323",
                                    "ReorderPoint": "750",
                                    "Quantity": "513"
                                },
                                {
                                    "ProductID": "323",
                                    "ReorderPoint": "750",
                                    "Quantity": "568"
                                },
                                {
                                    "ProductID": "323",
                                    "ReorderPoint": "750",
                                    "Quantity": "603"
                                },
                                {
                                    "ProductID": "324",
                                    "ReorderPoint": "750",
                                    "Quantity": "476"
                                },
                                {
                                    "ProductID": "324",
                                    "ReorderPoint": "750",
                                    "Quantity": "568"
                                },
                                {
                                    "ProductID": "324",
                                    "ReorderPoint": "750",
                                    "Quantity": "585"
                                },
                                {
                                    "ProductID": "325",
                                    "ReorderPoint": "750",
                                    "Quantity": "540"
                                },
                                {
                                    "ProductID": "325",
                                    "ReorderPoint": "750",
                                    "Quantity": "569"
                                },
                                {
                                    "ProductID": "325",
                                    "ReorderPoint": "750",
                                    "Quantity": "641"
                                },
                                {
                                    "ProductID": "326",
                                    "ReorderPoint": "750",
                                    "Quantity": "475"
                                },
                                {
                                    "ProductID": "326",
                                    "ReorderPoint": "750",
                                    "Quantity": "587"
                                },
                                {
                                    "ProductID": "326",
                                    "ReorderPoint": "750",
                                    "Quantity": "622"
                                },
                                {
                                    "ProductID": "327",
                                    "ReorderPoint": "600",
                                    "Quantity": "408"
                                },
                                {
                                    "ProductID": "327",
                                    "ReorderPoint": "600",
                                    "Quantity": "443"
                                },
                                {
                                    "ProductID": "327",
                                    "ReorderPoint": "600",
                                    "Quantity": "513"
                                },
                                {
                                    "ProductID": "328",
                                    "ReorderPoint": "750",
                                    "Quantity": "476"
                                },
                                {
                                    "ProductID": "328",
                                    "ReorderPoint": "750",
                                    "Quantity": "568"
                                },
                                {
                                    "ProductID": "328",
                                    "ReorderPoint": "750",
                                    "Quantity": "585"
                                },
                                {
                                    "ProductID": "329",
                                    "ReorderPoint": "750",
                                    "Quantity": "467"
                                },
                                {
                                    "ProductID": "329",
                                    "ReorderPoint": "750",
                                    "Quantity": "558"
                                },
                                {
                                    "ProductID": "329",
                                    "ReorderPoint": "750",
                                    "Quantity": "576"
                                },
                                {
                                    "ProductID": "330",
                                    "ReorderPoint": "750",
                                    "Quantity": "457"
                                },
                                {
                                    "ProductID": "330",
                                    "ReorderPoint": "750",
                                    "Quantity": "548"
                                },
                                {
                                    "ProductID": "330",
                                    "ReorderPoint": "750",
                                    "Quantity": "566"
                                },
                                {
                                    "ProductID": "331",
                                    "ReorderPoint": "600",
                                    "Quantity": "390"
                                },
                                {
                                    "ProductID": "331",
                                    "ReorderPoint": "600",
                                    "Quantity": "441"
                                },
                                {
                                    "ProductID": "331",
                                    "ReorderPoint": "600",
                                    "Quantity": "574"
                                },
                                {
                                    "ProductID": "332",
                                    "ReorderPoint": "375",
                                    "Quantity": "233"
                                },
                                {
                                    "ProductID": "332",
                                    "ReorderPoint": "375",
                                    "Quantity": "267"
                                },
                                {
                                    "ProductID": "332",
                                    "ReorderPoint": "375",
                                    "Quantity": "344"
                                },
                                {
                                    "ProductID": "341",
                                    "ReorderPoint": "750",
                                    "Quantity": "339"
                                },
                                {
                                    "ProductID": "341",
                                    "ReorderPoint": "750",
                                    "Quantity": "372"
                                },
                                {
                                    "ProductID": "341",
                                    "ReorderPoint": "750",
                                    "Quantity": "392"
                                },
                                {
                                    "ProductID": "342",
                                    "ReorderPoint": "750",
                                    "Quantity": "336"
                                },
                                {
                                    "ProductID": "342",
                                    "ReorderPoint": "750",
                                    "Quantity": "369"
                                },
                                {
                                    "ProductID": "342",
                                    "ReorderPoint": "750",
                                    "Quantity": "388"
                                },
                                {
                                    "ProductID": "343",
                                    "ReorderPoint": "750",
                                    "Quantity": "499"
                                },
                                {
                                    "ProductID": "343",
                                    "ReorderPoint": "750",
                                    "Quantity": "568"
                                },
                                {
                                    "ProductID": "343",
                                    "ReorderPoint": "750",
                                    "Quantity": "606"
                                },
                                {
                                    "ProductID": "344",
                                    "ReorderPoint": "750",
                                    "Quantity": "332"
                                },
                                {
                                    "ProductID": "344",
                                    "ReorderPoint": "750",
                                    "Quantity": "358"
                                },
                                {
                                    "ProductID": "344",
                                    "ReorderPoint": "750",
                                    "Quantity": "382"
                                },
                                {
                                    "ProductID": "345",
                                    "ReorderPoint": "750",
                                    "Quantity": "300"
                                },
                                {
                                    "ProductID": "345",
                                    "ReorderPoint": "750",
                                    "Quantity": "315"
                                },
                                {
                                    "ProductID": "345",
                                    "ReorderPoint": "750",
                                    "Quantity": "321"
                                },
                                {
                                    "ProductID": "346",
                                    "ReorderPoint": "750",
                                    "Quantity": "476"
                                },
                                {
                                    "ProductID": "346",
                                    "ReorderPoint": "750",
                                    "Quantity": "585"
                                },
                                {
                                    "ProductID": "346",
                                    "ReorderPoint": "750",
                                    "Quantity": "641"
                                },
                                {
                                    "ProductID": "347",
                                    "ReorderPoint": "750",
                                    "Quantity": "246"
                                },
                                {
                                    "ProductID": "347",
                                    "ReorderPoint": "750",
                                    "Quantity": "318"
                                },
                                {
                                    "ProductID": "347",
                                    "ReorderPoint": "750",
                                    "Quantity": "332"
                                },
                                {
                                    "ProductID": "348",
                                    "ReorderPoint": "750",
                                    "Quantity": "251"
                                },
                                {
                                    "ProductID": "348",
                                    "ReorderPoint": "750",
                                    "Quantity": "323"
                                },
                                {
                                    "ProductID": "348",
                                    "ReorderPoint": "750",
                                    "Quantity": "337"
                                },
                                {
                                    "ProductID": "349",
                                    "ReorderPoint": "750",
                                    "Quantity": "256"
                                },
                                {
                                    "ProductID": "349",
                                    "ReorderPoint": "750",
                                    "Quantity": "328"
                                },
                                {
                                    "ProductID": "349",
                                    "ReorderPoint": "750",
                                    "Quantity": "342"
                                },
                                {
                                    "ProductID": "350",
                                    "ReorderPoint": "600",
                                    "Quantity": "313"
                                },
                                {
                                    "ProductID": "350",
                                    "ReorderPoint": "600",
                                    "Quantity": "406"
                                },
                                {
                                    "ProductID": "351",
                                    "ReorderPoint": "600",
                                    "Quantity": "145"
                                },
                                {
                                    "ProductID": "351",
                                    "ReorderPoint": "600",
                                    "Quantity": "179"
                                },
                                {
                                    "ProductID": "351",
                                    "ReorderPoint": "600",
                                    "Quantity": "281"
                                },
                                {
                                    "ProductID": "352",
                                    "ReorderPoint": "600",
                                    "Quantity": "195"
                                },
                                {
                                    "ProductID": "352",
                                    "ReorderPoint": "600",
                                    "Quantity": "278"
                                },
                                {
                                    "ProductID": "352",
                                    "ReorderPoint": "600",
                                    "Quantity": "300"
                                },
                                {
                                    "ProductID": "355",
                                    "ReorderPoint": "600",
                                    "Quantity": "257"
                                },
                                {
                                    "ProductID": "355",
                                    "ReorderPoint": "600",
                                    "Quantity": "276"
                                },
                                {
                                    "ProductID": "355",
                                    "ReorderPoint": "600",
                                    "Quantity": "289"
                                },
                                {
                                    "ProductID": "356",
                                    "ReorderPoint": "600",
                                    "Quantity": "243"
                                },
                                {
                                    "ProductID": "356",
                                    "ReorderPoint": "600",
                                    "Quantity": "262"
                                },
                                {
                                    "ProductID": "356",
                                    "ReorderPoint": "600",
                                    "Quantity": "275"
                                },
                                {
                                    "ProductID": "357",
                                    "ReorderPoint": "600",
                                    "Quantity": "228"
                                },
                                {
                                    "ProductID": "357",
                                    "ReorderPoint": "600",
                                    "Quantity": "248"
                                },
                                {
                                    "ProductID": "357",
                                    "ReorderPoint": "600",
                                    "Quantity": "260"
                                },
                                {
                                    "ProductID": "358",
                                    "ReorderPoint": "600",
                                    "Quantity": "214"
                                },
                                {
                                    "ProductID": "358",
                                    "ReorderPoint": "600",
                                    "Quantity": "233"
                                },
                                {
                                    "ProductID": "358",
                                    "ReorderPoint": "600",
                                    "Quantity": "246"
                                },
                                {
                                    "ProductID": "359",
                                    "ReorderPoint": "750",
                                    "Quantity": "360"
                                },
                                {
                                    "ProductID": "359",
                                    "ReorderPoint": "750",
                                    "Quantity": "369"
                                },
                                {
                                    "ProductID": "359",
                                    "ReorderPoint": "750",
                                    "Quantity": "374"
                                },
                                {
                                    "ProductID": "360",
                                    "ReorderPoint": "750",
                                    "Quantity": "353"
                                },
                                {
                                    "ProductID": "360",
                                    "ReorderPoint": "750",
                                    "Quantity": "363"
                                },
                                {
                                    "ProductID": "360",
                                    "ReorderPoint": "750",
                                    "Quantity": "368"
                                },
                                {
                                    "ProductID": "361",
                                    "ReorderPoint": "750",
                                    "Quantity": "499"
                                },
                                {
                                    "ProductID": "361",
                                    "ReorderPoint": "750",
                                    "Quantity": "531"
                                },
                                {
                                    "ProductID": "361",
                                    "ReorderPoint": "750",
                                    "Quantity": "601"
                                },
                                {
                                    "ProductID": "362",
                                    "ReorderPoint": "750",
                                    "Quantity": "315"
                                },
                                {
                                    "ProductID": "362",
                                    "ReorderPoint": "750",
                                    "Quantity": "334"
                                },
                                {
                                    "ProductID": "362",
                                    "ReorderPoint": "750",
                                    "Quantity": "377"
                                },
                                {
                                    "ProductID": "363",
                                    "ReorderPoint": "750",
                                    "Quantity": "499"
                                },
                                {
                                    "ProductID": "363",
                                    "ReorderPoint": "750",
                                    "Quantity": "619"
                                },
                                {
                                    "ProductID": "363",
                                    "ReorderPoint": "750",
                                    "Quantity": "643"
                                },
                                {
                                    "ProductID": "364",
                                    "ReorderPoint": "750",
                                    "Quantity": "326"
                                },
                                {
                                    "ProductID": "364",
                                    "ReorderPoint": "750",
                                    "Quantity": "358"
                                },
                                {
                                    "ProductID": "364",
                                    "ReorderPoint": "750",
                                    "Quantity": "368"
                                },
                                {
                                    "ProductID": "365",
                                    "ReorderPoint": "750",
                                    "Quantity": "411"
                                },
                                {
                                    "ProductID": "365",
                                    "ReorderPoint": "750",
                                    "Quantity": "619"
                                },
                                {
                                    "ProductID": "365",
                                    "ReorderPoint": "750",
                                    "Quantity": "691"
                                },
                                {
                                    "ProductID": "366",
                                    "ReorderPoint": "750",
                                    "Quantity": "299"
                                },
                                {
                                    "ProductID": "366",
                                    "ReorderPoint": "750",
                                    "Quantity": "318"
                                },
                                {
                                    "ProductID": "366",
                                    "ReorderPoint": "750",
                                    "Quantity": "412"
                                },
                                {
                                    "ProductID": "367",
                                    "ReorderPoint": "750",
                                    "Quantity": "569"
                                },
                                {
                                    "ProductID": "367",
                                    "ReorderPoint": "750",
                                    "Quantity": "643"
                                },
                                {
                                    "ProductID": "367",
                                    "ReorderPoint": "750",
                                    "Quantity": "689"
                                },
                                {
                                    "ProductID": "368",
                                    "ReorderPoint": "750",
                                    "Quantity": "360"
                                },
                                {
                                    "ProductID": "368",
                                    "ReorderPoint": "750",
                                    "Quantity": "369"
                                },
                                {
                                    "ProductID": "368",
                                    "ReorderPoint": "750",
                                    "Quantity": "374"
                                },
                                {
                                    "ProductID": "369",
                                    "ReorderPoint": "750",
                                    "Quantity": "353"
                                },
                                {
                                    "ProductID": "369",
                                    "ReorderPoint": "750",
                                    "Quantity": "363"
                                },
                                {
                                    "ProductID": "369",
                                    "ReorderPoint": "750",
                                    "Quantity": "368"
                                },
                                {
                                    "ProductID": "370",
                                    "ReorderPoint": "750",
                                    "Quantity": "155"
                                },
                                {
                                    "ProductID": "370",
                                    "ReorderPoint": "750",
                                    "Quantity": "252"
                                },
                                {
                                    "ProductID": "370",
                                    "ReorderPoint": "750",
                                    "Quantity": "476"
                                },
                                {
                                    "ProductID": "371",
                                    "ReorderPoint": "750",
                                    "Quantity": "547"
                                },
                                {
                                    "ProductID": "371",
                                    "ReorderPoint": "750",
                                    "Quantity": "585"
                                },
                                {
                                    "ProductID": "371",
                                    "ReorderPoint": "750",
                                    "Quantity": "649"
                                },
                                {
                                    "ProductID": "372",
                                    "ReorderPoint": "750",
                                    "Quantity": "272"
                                },
                                {
                                    "ProductID": "372",
                                    "ReorderPoint": "750",
                                    "Quantity": "281"
                                },
                                {
                                    "ProductID": "372",
                                    "ReorderPoint": "750",
                                    "Quantity": "344"
                                },
                                {
                                    "ProductID": "373",
                                    "ReorderPoint": "750",
                                    "Quantity": "275"
                                },
                                {
                                    "ProductID": "373",
                                    "ReorderPoint": "750",
                                    "Quantity": "284"
                                },
                                {
                                    "ProductID": "373",
                                    "ReorderPoint": "750",
                                    "Quantity": "347"
                                },
                                {
                                    "ProductID": "374",
                                    "ReorderPoint": "750",
                                    "Quantity": "278"
                                },
                                {
                                    "ProductID": "374",
                                    "ReorderPoint": "750",
                                    "Quantity": "288"
                                },
                                {
                                    "ProductID": "374",
                                    "ReorderPoint": "750",
                                    "Quantity": "350"
                                },
                                {
                                    "ProductID": "375",
                                    "ReorderPoint": "750",
                                    "Quantity": "281"
                                },
                                {
                                    "ProductID": "375",
                                    "ReorderPoint": "750",
                                    "Quantity": "291"
                                },
                                {
                                    "ProductID": "375",
                                    "ReorderPoint": "750",
                                    "Quantity": "353"
                                },
                                {
                                    "ProductID": "376",
                                    "ReorderPoint": "750",
                                    "Quantity": "547"
                                },
                                {
                                    "ProductID": "376",
                                    "ReorderPoint": "750",
                                    "Quantity": "585"
                                },
                                {
                                    "ProductID": "376",
                                    "ReorderPoint": "750",
                                    "Quantity": "649"
                                },
                                {
                                    "ProductID": "377",
                                    "ReorderPoint": "750",
                                    "Quantity": "249"
                                },
                                {
                                    "ProductID": "377",
                                    "ReorderPoint": "750",
                                    "Quantity": "299"
                                },
                                {
                                    "ProductID": "377",
                                    "ReorderPoint": "750",
                                    "Quantity": "393"
                                },
                                {
                                    "ProductID": "378",
                                    "ReorderPoint": "750",
                                    "Quantity": "244"
                                },
                                {
                                    "ProductID": "378",
                                    "ReorderPoint": "750",
                                    "Quantity": "294"
                                },
                                {
                                    "ProductID": "378",
                                    "ReorderPoint": "750",
                                    "Quantity": "388"
                                },
                                {
                                    "ProductID": "379",
                                    "ReorderPoint": "750",
                                    "Quantity": "323"
                                },
                                {
                                    "ProductID": "379",
                                    "ReorderPoint": "750",
                                    "Quantity": "691"
                                },
                                {
                                    "ProductID": "380",
                                    "ReorderPoint": "750",
                                    "Quantity": "156"
                                },
                                {
                                    "ProductID": "380",
                                    "ReorderPoint": "750",
                                    "Quantity": "264"
                                },
                                {
                                    "ProductID": "380",
                                    "ReorderPoint": "750",
                                    "Quantity": "350"
                                },
                                {
                                    "ProductID": "381",
                                    "ReorderPoint": "750",
                                    "Quantity": "163"
                                },
                                {
                                    "ProductID": "381",
                                    "ReorderPoint": "750",
                                    "Quantity": "270"
                                },
                                {
                                    "ProductID": "381",
                                    "ReorderPoint": "750",
                                    "Quantity": "356"
                                },
                                {
                                    "ProductID": "382",
                                    "ReorderPoint": "750",
                                    "Quantity": "169"
                                },
                                {
                                    "ProductID": "382",
                                    "ReorderPoint": "750",
                                    "Quantity": "276"
                                },
                                {
                                    "ProductID": "382",
                                    "ReorderPoint": "750",
                                    "Quantity": "363"
                                },
                                {
                                    "ProductID": "383",
                                    "ReorderPoint": "750",
                                    "Quantity": "587"
                                },
                                {
                                    "ProductID": "383",
                                    "ReorderPoint": "750",
                                    "Quantity": "638"
                                },
                                {
                                    "ProductID": "383",
                                    "ReorderPoint": "750",
                                    "Quantity": "676"
                                },
                                {
                                    "ProductID": "384",
                                    "ReorderPoint": "750",
                                    "Quantity": "217"
                                },
                                {
                                    "ProductID": "384",
                                    "ReorderPoint": "750",
                                    "Quantity": "299"
                                },
                                {
                                    "ProductID": "384",
                                    "ReorderPoint": "750",
                                    "Quantity": "304"
                                },
                                {
                                    "ProductID": "385",
                                    "ReorderPoint": "750",
                                    "Quantity": "526"
                                },
                                {
                                    "ProductID": "385",
                                    "ReorderPoint": "750",
                                    "Quantity": "619"
                                },
                                {
                                    "ProductID": "385",
                                    "ReorderPoint": "750",
                                    "Quantity": "633"
                                },
                                {
                                    "ProductID": "386",
                                    "ReorderPoint": "750",
                                    "Quantity": "148"
                                },
                                {
                                    "ProductID": "386",
                                    "ReorderPoint": "750",
                                    "Quantity": "192"
                                },
                                {
                                    "ProductID": "386",
                                    "ReorderPoint": "750",
                                    "Quantity": "385"
                                },
                                {
                                    "ProductID": "387",
                                    "ReorderPoint": "750",
                                    "Quantity": "524"
                                },
                                {
                                    "ProductID": "387",
                                    "ReorderPoint": "750",
                                    "Quantity": "654"
                                },
                                {
                                    "ProductID": "387",
                                    "ReorderPoint": "750",
                                    "Quantity": "710"
                                },
                                {
                                    "ProductID": "388",
                                    "ReorderPoint": "750",
                                    "Quantity": "140"
                                },
                                {
                                    "ProductID": "388",
                                    "ReorderPoint": "750",
                                    "Quantity": "292"
                                },
                                {
                                    "ProductID": "388",
                                    "ReorderPoint": "750",
                                    "Quantity": "366"
                                },
                                {
                                    "ProductID": "389",
                                    "ReorderPoint": "750",
                                    "Quantity": "460"
                                },
                                {
                                    "ProductID": "389",
                                    "ReorderPoint": "750",
                                    "Quantity": "657"
                                },
                                {
                                    "ProductID": "389",
                                    "ReorderPoint": "750",
                                    "Quantity": "691"
                                },
                                {
                                    "ProductID": "390",
                                    "ReorderPoint": "750",
                                    "Quantity": "140"
                                },
                                {
                                    "ProductID": "390",
                                    "ReorderPoint": "750",
                                    "Quantity": "292"
                                },
                                {
                                    "ProductID": "390",
                                    "ReorderPoint": "750",
                                    "Quantity": "366"
                                },
                                {
                                    "ProductID": "391",
                                    "ReorderPoint": "750",
                                    "Quantity": "144"
                                },
                                {
                                    "ProductID": "391",
                                    "ReorderPoint": "750",
                                    "Quantity": "296"
                                },
                                {
                                    "ProductID": "391",
                                    "ReorderPoint": "750",
                                    "Quantity": "369"
                                },
                                {
                                    "ProductID": "392",
                                    "ReorderPoint": "750",
                                    "Quantity": "147"
                                },
                                {
                                    "ProductID": "392",
                                    "ReorderPoint": "750",
                                    "Quantity": "299"
                                },
                                {
                                    "ProductID": "392",
                                    "ReorderPoint": "750",
                                    "Quantity": "372"
                                },
                                {
                                    "ProductID": "393",
                                    "ReorderPoint": "750",
                                    "Quantity": "497"
                                },
                                {
                                    "ProductID": "393",
                                    "ReorderPoint": "750",
                                    "Quantity": "603"
                                },
                                {
                                    "ProductID": "394",
                                    "ReorderPoint": "750",
                                    "Quantity": "150"
                                },
                                {
                                    "ProductID": "394",
                                    "ReorderPoint": "750",
                                    "Quantity": "302"
                                },
                                {
                                    "ProductID": "394",
                                    "ReorderPoint": "750",
                                    "Quantity": "459"
                                },
                                {
                                    "ProductID": "395",
                                    "ReorderPoint": "750",
                                    "Quantity": "148"
                                },
                                {
                                    "ProductID": "395",
                                    "ReorderPoint": "750",
                                    "Quantity": "281"
                                },
                                {
                                    "ProductID": "395",
                                    "ReorderPoint": "750",
                                    "Quantity": "355"
                                },
                                {
                                    "ProductID": "396",
                                    "ReorderPoint": "750",
                                    "Quantity": "585"
                                },
                                {
                                    "ProductID": "396",
                                    "ReorderPoint": "750",
                                    "Quantity": "603"
                                },
                                {
                                    "ProductID": "396",
                                    "ReorderPoint": "750",
                                    "Quantity": "636"
                                },
                                {
                                    "ProductID": "397",
                                    "ReorderPoint": "750",
                                    "Quantity": "339"
                                },
                                {
                                    "ProductID": "397",
                                    "ReorderPoint": "750",
                                    "Quantity": "550"
                                },
                                {
                                    "ProductID": "398",
                                    "ReorderPoint": "600",
                                    "Quantity": "372"
                                },
                                {
                                    "ProductID": "398",
                                    "ReorderPoint": "600",
                                    "Quantity": "404"
                                },
                                {
                                    "ProductID": "398",
                                    "ReorderPoint": "600",
                                    "Quantity": "550"
                                },
                                {
                                    "ProductID": "399",
                                    "ReorderPoint": "600",
                                    "Quantity": "366"
                                },
                                {
                                    "ProductID": "399",
                                    "ReorderPoint": "600",
                                    "Quantity": "398"
                                },
                                {
                                    "ProductID": "399",
                                    "ReorderPoint": "600",
                                    "Quantity": "544"
                                },
                                {
                                    "ProductID": "400",
                                    "ReorderPoint": "375",
                                    "Quantity": "246"
                                },
                                {
                                    "ProductID": "400",
                                    "ReorderPoint": "375",
                                    "Quantity": "260"
                                },
                                {
                                    "ProductID": "400",
                                    "ReorderPoint": "375",
                                    "Quantity": "284"
                                },
                                {
                                    "ProductID": "401",
                                    "ReorderPoint": "375",
                                    "Quantity": "212"
                                },
                                {
                                    "ProductID": "401",
                                    "ReorderPoint": "375",
                                    "Quantity": "283"
                                },
                                {
                                    "ProductID": "401",
                                    "ReorderPoint": "375",
                                    "Quantity": "302"
                                },
                                {
                                    "ProductID": "402",
                                    "ReorderPoint": "750",
                                    "Quantity": "316"
                                },
                                {
                                    "ProductID": "402",
                                    "ReorderPoint": "750",
                                    "Quantity": "321"
                                },
                                {
                                    "ProductID": "402",
                                    "ReorderPoint": "750",
                                    "Quantity": "353"
                                },
                                {
                                    "ProductID": "403",
                                    "ReorderPoint": "750",
                                    "Quantity": "313"
                                },
                                {
                                    "ProductID": "403",
                                    "ReorderPoint": "750",
                                    "Quantity": "318"
                                },
                                {
                                    "ProductID": "403",
                                    "ReorderPoint": "750",
                                    "Quantity": "350"
                                },
                                {
                                    "ProductID": "404",
                                    "ReorderPoint": "750",
                                    "Quantity": "310"
                                },
                                {
                                    "ProductID": "404",
                                    "ReorderPoint": "750",
                                    "Quantity": "315"
                                },
                                {
                                    "ProductID": "404",
                                    "ReorderPoint": "750",
                                    "Quantity": "347"
                                },
                                {
                                    "ProductID": "405",
                                    "ReorderPoint": "750",
                                    "Quantity": "307"
                                },
                                {
                                    "ProductID": "405",
                                    "ReorderPoint": "750",
                                    "Quantity": "312"
                                },
                                {
                                    "ProductID": "405",
                                    "ReorderPoint": "750",
                                    "Quantity": "344"
                                },
                                {
                                    "ProductID": "406",
                                    "ReorderPoint": "750",
                                    "Quantity": "304"
                                },
                                {
                                    "ProductID": "406",
                                    "ReorderPoint": "750",
                                    "Quantity": "308"
                                },
                                {
                                    "ProductID": "406",
                                    "ReorderPoint": "750",
                                    "Quantity": "340"
                                },
                                {
                                    "ProductID": "407",
                                    "ReorderPoint": "750",
                                    "Quantity": "460"
                                },
                                {
                                    "ProductID": "407",
                                    "ReorderPoint": "750",
                                    "Quantity": "587"
                                },
                                {
                                    "ProductID": "407",
                                    "ReorderPoint": "750",
                                    "Quantity": "625"
                                },
                                {
                                    "ProductID": "408",
                                    "ReorderPoint": "750",
                                    "Quantity": "296"
                                },
                                {
                                    "ProductID": "408",
                                    "ReorderPoint": "750",
                                    "Quantity": "344"
                                },
                                {
                                    "ProductID": "408",
                                    "ReorderPoint": "750",
                                    "Quantity": "417"
                                },
                                {
                                    "ProductID": "409",
                                    "ReorderPoint": "750",
                                    "Quantity": "292"
                                },
                                {
                                    "ProductID": "409",
                                    "ReorderPoint": "750",
                                    "Quantity": "340"
                                },
                                {
                                    "ProductID": "409",
                                    "ReorderPoint": "750",
                                    "Quantity": "414"
                                },
                                {
                                    "ProductID": "410",
                                    "ReorderPoint": "750",
                                    "Quantity": "289"
                                },
                                {
                                    "ProductID": "410",
                                    "ReorderPoint": "750",
                                    "Quantity": "337"
                                },
                                {
                                    "ProductID": "410",
                                    "ReorderPoint": "750",
                                    "Quantity": "411"
                                },
                                {
                                    "ProductID": "411",
                                    "ReorderPoint": "750",
                                    "Quantity": "459"
                                },
                                {
                                    "ProductID": "411",
                                    "ReorderPoint": "750",
                                    "Quantity": "552"
                                },
                                {
                                    "ProductID": "411",
                                    "ReorderPoint": "750",
                                    "Quantity": "603"
                                },
                                {
                                    "ProductID": "412",
                                    "ReorderPoint": "750",
                                    "Quantity": "156"
                                },
                                {
                                    "ProductID": "412",
                                    "ReorderPoint": "750",
                                    "Quantity": "299"
                                },
                                {
                                    "ProductID": "412",
                                    "ReorderPoint": "750",
                                    "Quantity": "321"
                                },
                                {
                                    "ProductID": "413",
                                    "ReorderPoint": "750",
                                    "Quantity": "459"
                                },
                                {
                                    "ProductID": "413",
                                    "ReorderPoint": "750",
                                    "Quantity": "603"
                                },
                                {
                                    "ProductID": "413",
                                    "ReorderPoint": "750",
                                    "Quantity": "641"
                                },
                                {
                                    "ProductID": "414",
                                    "ReorderPoint": "750",
                                    "Quantity": "321"
                                },
                                {
                                    "ProductID": "414",
                                    "ReorderPoint": "750",
                                    "Quantity": "371"
                                },
                                {
                                    "ProductID": "414",
                                    "ReorderPoint": "750",
                                    "Quantity": "427"
                                },
                                {
                                    "ProductID": "415",
                                    "ReorderPoint": "750",
                                    "Quantity": "316"
                                },
                                {
                                    "ProductID": "415",
                                    "ReorderPoint": "750",
                                    "Quantity": "366"
                                },
                                {
                                    "ProductID": "415",
                                    "ReorderPoint": "750",
                                    "Quantity": "422"
                                },
                                {
                                    "ProductID": "416",
                                    "ReorderPoint": "750",
                                    "Quantity": "312"
                                },
                                {
                                    "ProductID": "416",
                                    "ReorderPoint": "750",
                                    "Quantity": "361"
                                },
                                {
                                    "ProductID": "416",
                                    "ReorderPoint": "750",
                                    "Quantity": "417"
                                },
                                {
                                    "ProductID": "417",
                                    "ReorderPoint": "750",
                                    "Quantity": "516"
                                },
                                {
                                    "ProductID": "417",
                                    "ReorderPoint": "750",
                                    "Quantity": "572"
                                },
                                {
                                    "ProductID": "417",
                                    "ReorderPoint": "750",
                                    "Quantity": "627"
                                },
                                {
                                    "ProductID": "418",
                                    "ReorderPoint": "750",
                                    "Quantity": "248"
                                },
                                {
                                    "ProductID": "418",
                                    "ReorderPoint": "750",
                                    "Quantity": "283"
                                },
                                {
                                    "ProductID": "418",
                                    "ReorderPoint": "750",
                                    "Quantity": "388"
                                },
                                {
                                    "ProductID": "419",
                                    "ReorderPoint": "750",
                                    "Quantity": "246"
                                },
                                {
                                    "ProductID": "419",
                                    "ReorderPoint": "750",
                                    "Quantity": "281"
                                },
                                {
                                    "ProductID": "419",
                                    "ReorderPoint": "750",
                                    "Quantity": "387"
                                },
                                {
                                    "ProductID": "420",
                                    "ReorderPoint": "750",
                                    "Quantity": "244"
                                },
                                {
                                    "ProductID": "420",
                                    "ReorderPoint": "750",
                                    "Quantity": "280"
                                },
                                {
                                    "ProductID": "420",
                                    "ReorderPoint": "750",
                                    "Quantity": "385"
                                },
                                {
                                    "ProductID": "421",
                                    "ReorderPoint": "750",
                                    "Quantity": "243"
                                },
                                {
                                    "ProductID": "421",
                                    "ReorderPoint": "750",
                                    "Quantity": "278"
                                },
                                {
                                    "ProductID": "421",
                                    "ReorderPoint": "750",
                                    "Quantity": "384"
                                },
                                {
                                    "ProductID": "422",
                                    "ReorderPoint": "750",
                                    "Quantity": "497"
                                },
                                {
                                    "ProductID": "422",
                                    "ReorderPoint": "750",
                                    "Quantity": "515"
                                },
                                {
                                    "ProductID": "422",
                                    "ReorderPoint": "750",
                                    "Quantity": "620"
                                },
                                {
                                    "ProductID": "423",
                                    "ReorderPoint": "750",
                                    "Quantity": "496"
                                },
                                {
                                    "ProductID": "423",
                                    "ReorderPoint": "750",
                                    "Quantity": "513"
                                },
                                {
                                    "ProductID": "423",
                                    "ReorderPoint": "750",
                                    "Quantity": "619"
                                },
                                {
                                    "ProductID": "424",
                                    "ReorderPoint": "750",
                                    "Quantity": "494"
                                },
                                {
                                    "ProductID": "424",
                                    "ReorderPoint": "750",
                                    "Quantity": "512"
                                },
                                {
                                    "ProductID": "424",
                                    "ReorderPoint": "750",
                                    "Quantity": "617"
                                },
                                {
                                    "ProductID": "425",
                                    "ReorderPoint": "750",
                                    "Quantity": "492"
                                },
                                {
                                    "ProductID": "425",
                                    "ReorderPoint": "750",
                                    "Quantity": "510"
                                },
                                {
                                    "ProductID": "425",
                                    "ReorderPoint": "750",
                                    "Quantity": "616"
                                },
                                {
                                    "ProductID": "426",
                                    "ReorderPoint": "750",
                                    "Quantity": "491"
                                },
                                {
                                    "ProductID": "426",
                                    "ReorderPoint": "750",
                                    "Quantity": "508"
                                },
                                {
                                    "ProductID": "426",
                                    "ReorderPoint": "750",
                                    "Quantity": "614"
                                },
                                {
                                    "ProductID": "427",
                                    "ReorderPoint": "750",
                                    "Quantity": "489"
                                },
                                {
                                    "ProductID": "427",
                                    "ReorderPoint": "750",
                                    "Quantity": "507"
                                },
                                {
                                    "ProductID": "427",
                                    "ReorderPoint": "750",
                                    "Quantity": "612"
                                },
                                {
                                    "ProductID": "428",
                                    "ReorderPoint": "750",
                                    "Quantity": "488"
                                },
                                {
                                    "ProductID": "428",
                                    "ReorderPoint": "750",
                                    "Quantity": "505"
                                },
                                {
                                    "ProductID": "428",
                                    "ReorderPoint": "750",
                                    "Quantity": "611"
                                },
                                {
                                    "ProductID": "429",
                                    "ReorderPoint": "750",
                                    "Quantity": "486"
                                },
                                {
                                    "ProductID": "429",
                                    "ReorderPoint": "750",
                                    "Quantity": "504"
                                },
                                {
                                    "ProductID": "429",
                                    "ReorderPoint": "750",
                                    "Quantity": "609"
                                },
                                {
                                    "ProductID": "430",
                                    "ReorderPoint": "750",
                                    "Quantity": "484"
                                },
                                {
                                    "ProductID": "430",
                                    "ReorderPoint": "750",
                                    "Quantity": "502"
                                },
                                {
                                    "ProductID": "430",
                                    "ReorderPoint": "750",
                                    "Quantity": "608"
                                },
                                {
                                    "ProductID": "431",
                                    "ReorderPoint": "750",
                                    "Quantity": "488"
                                },
                                {
                                    "ProductID": "431",
                                    "ReorderPoint": "750",
                                    "Quantity": "505"
                                },
                                {
                                    "ProductID": "431",
                                    "ReorderPoint": "750",
                                    "Quantity": "611"
                                },
                                {
                                    "ProductID": "432",
                                    "ReorderPoint": "750",
                                    "Quantity": "491"
                                },
                                {
                                    "ProductID": "432",
                                    "ReorderPoint": "750",
                                    "Quantity": "508"
                                },
                                {
                                    "ProductID": "432",
                                    "ReorderPoint": "750",
                                    "Quantity": "614"
                                },
                                {
                                    "ProductID": "433",
                                    "ReorderPoint": "750",
                                    "Quantity": "494"
                                },
                                {
                                    "ProductID": "433",
                                    "ReorderPoint": "750",
                                    "Quantity": "512"
                                },
                                {
                                    "ProductID": "433",
                                    "ReorderPoint": "750",
                                    "Quantity": "617"
                                },
                                {
                                    "ProductID": "434",
                                    "ReorderPoint": "750",
                                    "Quantity": "497"
                                },
                                {
                                    "ProductID": "434",
                                    "ReorderPoint": "750",
                                    "Quantity": "515"
                                },
                                {
                                    "ProductID": "434",
                                    "ReorderPoint": "750",
                                    "Quantity": "620"
                                },
                                {
                                    "ProductID": "435",
                                    "ReorderPoint": "750",
                                    "Quantity": "500"
                                },
                                {
                                    "ProductID": "435",
                                    "ReorderPoint": "750",
                                    "Quantity": "518"
                                },
                                {
                                    "ProductID": "435",
                                    "ReorderPoint": "750",
                                    "Quantity": "624"
                                },
                                {
                                    "ProductID": "436",
                                    "ReorderPoint": "750",
                                    "Quantity": "504"
                                },
                                {
                                    "ProductID": "436",
                                    "ReorderPoint": "750",
                                    "Quantity": "521"
                                },
                                {
                                    "ProductID": "436",
                                    "ReorderPoint": "750",
                                    "Quantity": "627"
                                },
                                {
                                    "ProductID": "437",
                                    "ReorderPoint": "750",
                                    "Quantity": "507"
                                },
                                {
                                    "ProductID": "437",
                                    "ReorderPoint": "750",
                                    "Quantity": "524"
                                },
                                {
                                    "ProductID": "437",
                                    "ReorderPoint": "750",
                                    "Quantity": "630"
                                },
                                {
                                    "ProductID": "438",
                                    "ReorderPoint": "750",
                                    "Quantity": "510"
                                },
                                {
                                    "ProductID": "438",
                                    "ReorderPoint": "750",
                                    "Quantity": "528"
                                },
                                {
                                    "ProductID": "438",
                                    "ReorderPoint": "750",
                                    "Quantity": "633"
                                },
                                {
                                    "ProductID": "439",
                                    "ReorderPoint": "750",
                                    "Quantity": "513"
                                },
                                {
                                    "ProductID": "439",
                                    "ReorderPoint": "750",
                                    "Quantity": "531"
                                },
                                {
                                    "ProductID": "439",
                                    "ReorderPoint": "750",
                                    "Quantity": "636"
                                },
                                {
                                    "ProductID": "440",
                                    "ReorderPoint": "750",
                                    "Quantity": "516"
                                },
                                {
                                    "ProductID": "440",
                                    "ReorderPoint": "750",
                                    "Quantity": "534"
                                },
                                {
                                    "ProductID": "440",
                                    "ReorderPoint": "750",
                                    "Quantity": "640"
                                },
                                {
                                    "ProductID": "441",
                                    "ReorderPoint": "750",
                                    "Quantity": "512"
                                },
                                {
                                    "ProductID": "441",
                                    "ReorderPoint": "750",
                                    "Quantity": "529"
                                },
                                {
                                    "ProductID": "441",
                                    "ReorderPoint": "750",
                                    "Quantity": "635"
                                },
                                {
                                    "ProductID": "442",
                                    "ReorderPoint": "750",
                                    "Quantity": "507"
                                },
                                {
                                    "ProductID": "442",
                                    "ReorderPoint": "750",
                                    "Quantity": "524"
                                },
                                {
                                    "ProductID": "442",
                                    "ReorderPoint": "750",
                                    "Quantity": "630"
                                },
                                {
                                    "ProductID": "443",
                                    "ReorderPoint": "750",
                                    "Quantity": "502"
                                },
                                {
                                    "ProductID": "443",
                                    "ReorderPoint": "750",
                                    "Quantity": "520"
                                },
                                {
                                    "ProductID": "443",
                                    "ReorderPoint": "750",
                                    "Quantity": "625"
                                },
                                {
                                    "ProductID": "444",
                                    "ReorderPoint": "750",
                                    "Quantity": "497"
                                },
                                {
                                    "ProductID": "444",
                                    "ReorderPoint": "750",
                                    "Quantity": "515"
                                },
                                {
                                    "ProductID": "444",
                                    "ReorderPoint": "750",
                                    "Quantity": "620"
                                },
                                {
                                    "ProductID": "445",
                                    "ReorderPoint": "750",
                                    "Quantity": "492"
                                },
                                {
                                    "ProductID": "445",
                                    "ReorderPoint": "750",
                                    "Quantity": "510"
                                },
                                {
                                    "ProductID": "445",
                                    "ReorderPoint": "750",
                                    "Quantity": "616"
                                },
                                {
                                    "ProductID": "446",
                                    "ReorderPoint": "750",
                                    "Quantity": "488"
                                },
                                {
                                    "ProductID": "446",
                                    "ReorderPoint": "750",
                                    "Quantity": "505"
                                },
                                {
                                    "ProductID": "446",
                                    "ReorderPoint": "750",
                                    "Quantity": "611"
                                },
                                {
                                    "ProductID": "447",
                                    "ReorderPoint": "750",
                                    "Quantity": "483"
                                },
                                {
                                    "ProductID": "447",
                                    "ReorderPoint": "750",
                                    "Quantity": "500"
                                },
                                {
                                    "ProductID": "447",
                                    "ReorderPoint": "750",
                                    "Quantity": "606"
                                },
                                {
                                    "ProductID": "448",
                                    "ReorderPoint": "750",
                                    "Quantity": "478"
                                },
                                {
                                    "ProductID": "448",
                                    "ReorderPoint": "750",
                                    "Quantity": "496"
                                },
                                {
                                    "ProductID": "448",
                                    "ReorderPoint": "750",
                                    "Quantity": "601"
                                },
                                {
                                    "ProductID": "449",
                                    "ReorderPoint": "750",
                                    "Quantity": "473"
                                },
                                {
                                    "ProductID": "449",
                                    "ReorderPoint": "750",
                                    "Quantity": "491"
                                },
                                {
                                    "ProductID": "449",
                                    "ReorderPoint": "750",
                                    "Quantity": "596"
                                },
                                {
                                    "ProductID": "450",
                                    "ReorderPoint": "750",
                                    "Quantity": "468"
                                },
                                {
                                    "ProductID": "450",
                                    "ReorderPoint": "750",
                                    "Quantity": "486"
                                },
                                {
                                    "ProductID": "450",
                                    "ReorderPoint": "750",
                                    "Quantity": "592"
                                },
                                {
                                    "ProductID": "451",
                                    "ReorderPoint": "750",
                                    "Quantity": "472"
                                },
                                {
                                    "ProductID": "451",
                                    "ReorderPoint": "750",
                                    "Quantity": "489"
                                },
                                {
                                    "ProductID": "451",
                                    "ReorderPoint": "750",
                                    "Quantity": "595"
                                },
                                {
                                    "ProductID": "452",
                                    "ReorderPoint": "750",
                                    "Quantity": "475"
                                },
                                {
                                    "ProductID": "452",
                                    "ReorderPoint": "750",
                                    "Quantity": "492"
                                },
                                {
                                    "ProductID": "452",
                                    "ReorderPoint": "750",
                                    "Quantity": "598"
                                },
                                {
                                    "ProductID": "453",
                                    "ReorderPoint": "750",
                                    "Quantity": "478"
                                },
                                {
                                    "ProductID": "453",
                                    "ReorderPoint": "750",
                                    "Quantity": "496"
                                },
                                {
                                    "ProductID": "453",
                                    "ReorderPoint": "750",
                                    "Quantity": "601"
                                },
                                {
                                    "ProductID": "454",
                                    "ReorderPoint": "750",
                                    "Quantity": "481"
                                },
                                {
                                    "ProductID": "454",
                                    "ReorderPoint": "750",
                                    "Quantity": "499"
                                },
                                {
                                    "ProductID": "454",
                                    "ReorderPoint": "750",
                                    "Quantity": "604"
                                },
                                {
                                    "ProductID": "455",
                                    "ReorderPoint": "750",
                                    "Quantity": "484"
                                },
                                {
                                    "ProductID": "455",
                                    "ReorderPoint": "750",
                                    "Quantity": "502"
                                },
                                {
                                    "ProductID": "455",
                                    "ReorderPoint": "750",
                                    "Quantity": "608"
                                },
                                {
                                    "ProductID": "456",
                                    "ReorderPoint": "750",
                                    "Quantity": "488"
                                },
                                {
                                    "ProductID": "456",
                                    "ReorderPoint": "750",
                                    "Quantity": "505"
                                },
                                {
                                    "ProductID": "456",
                                    "ReorderPoint": "750",
                                    "Quantity": "611"
                                },
                                {
                                    "ProductID": "457",
                                    "ReorderPoint": "750",
                                    "Quantity": "491"
                                },
                                {
                                    "ProductID": "457",
                                    "ReorderPoint": "750",
                                    "Quantity": "508"
                                },
                                {
                                    "ProductID": "457",
                                    "ReorderPoint": "750",
                                    "Quantity": "614"
                                },
                                {
                                    "ProductID": "458",
                                    "ReorderPoint": "750",
                                    "Quantity": "494"
                                },
                                {
                                    "ProductID": "458",
                                    "ReorderPoint": "750",
                                    "Quantity": "512"
                                },
                                {
                                    "ProductID": "458",
                                    "ReorderPoint": "750",
                                    "Quantity": "617"
                                },
                                {
                                    "ProductID": "459",
                                    "ReorderPoint": "750",
                                    "Quantity": "497"
                                },
                                {
                                    "ProductID": "459",
                                    "ReorderPoint": "750",
                                    "Quantity": "515"
                                },
                                {
                                    "ProductID": "459",
                                    "ReorderPoint": "750",
                                    "Quantity": "620"
                                },
                                {
                                    "ProductID": "460",
                                    "ReorderPoint": "750",
                                    "Quantity": "500"
                                },
                                {
                                    "ProductID": "460",
                                    "ReorderPoint": "750",
                                    "Quantity": "518"
                                },
                                {
                                    "ProductID": "460",
                                    "ReorderPoint": "750",
                                    "Quantity": "624"
                                },
                                {
                                    "ProductID": "461",
                                    "ReorderPoint": "750",
                                    "Quantity": "504"
                                },
                                {
                                    "ProductID": "461",
                                    "ReorderPoint": "750",
                                    "Quantity": "521"
                                },
                                {
                                    "ProductID": "461",
                                    "ReorderPoint": "750",
                                    "Quantity": "627"
                                },
                                {
                                    "ProductID": "462",
                                    "ReorderPoint": "750",
                                    "Quantity": "187"
                                },
                                {
                                    "ProductID": "462",
                                    "ReorderPoint": "750",
                                    "Quantity": "204"
                                },
                                {
                                    "ProductID": "462",
                                    "ReorderPoint": "750",
                                    "Quantity": "310"
                                },
                                {
                                    "ProductID": "463",
                                    "ReorderPoint": "750",
                                    "Quantity": "499"
                                },
                                {
                                    "ProductID": "463",
                                    "ReorderPoint": "750",
                                    "Quantity": "566"
                                },
                                {
                                    "ProductID": "463",
                                    "ReorderPoint": "750",
                                    "Quantity": "620"
                                },
                                {
                                    "ProductID": "464",
                                    "ReorderPoint": "750",
                                    "Quantity": "500"
                                },
                                {
                                    "ProductID": "464",
                                    "ReorderPoint": "750",
                                    "Quantity": "568"
                                },
                                {
                                    "ProductID": "464",
                                    "ReorderPoint": "750",
                                    "Quantity": "622"
                                },
                                {
                                    "ProductID": "465",
                                    "ReorderPoint": "750",
                                    "Quantity": "502"
                                },
                                {
                                    "ProductID": "465",
                                    "ReorderPoint": "750",
                                    "Quantity": "569"
                                },
                                {
                                    "ProductID": "465",
                                    "ReorderPoint": "750",
                                    "Quantity": "624"
                                },
                                {
                                    "ProductID": "466",
                                    "ReorderPoint": "750",
                                    "Quantity": "504"
                                },
                                {
                                    "ProductID": "466",
                                    "ReorderPoint": "750",
                                    "Quantity": "571"
                                },
                                {
                                    "ProductID": "466",
                                    "ReorderPoint": "750",
                                    "Quantity": "625"
                                },
                                {
                                    "ProductID": "467",
                                    "ReorderPoint": "750",
                                    "Quantity": "505"
                                },
                                {
                                    "ProductID": "467",
                                    "ReorderPoint": "750",
                                    "Quantity": "572"
                                },
                                {
                                    "ProductID": "467",
                                    "ReorderPoint": "750",
                                    "Quantity": "627"
                                },
                                {
                                    "ProductID": "468",
                                    "ReorderPoint": "750",
                                    "Quantity": "507"
                                },
                                {
                                    "ProductID": "468",
                                    "ReorderPoint": "750",
                                    "Quantity": "574"
                                },
                                {
                                    "ProductID": "468",
                                    "ReorderPoint": "750",
                                    "Quantity": "628"
                                },
                                {
                                    "ProductID": "469",
                                    "ReorderPoint": "750",
                                    "Quantity": "508"
                                },
                                {
                                    "ProductID": "469",
                                    "ReorderPoint": "750",
                                    "Quantity": "576"
                                },
                                {
                                    "ProductID": "469",
                                    "ReorderPoint": "750",
                                    "Quantity": "630"
                                },
                                {
                                    "ProductID": "470",
                                    "ReorderPoint": "750",
                                    "Quantity": "510"
                                },
                                {
                                    "ProductID": "470",
                                    "ReorderPoint": "750",
                                    "Quantity": "577"
                                },
                                {
                                    "ProductID": "470",
                                    "ReorderPoint": "750",
                                    "Quantity": "632"
                                },
                                {
                                    "ProductID": "471",
                                    "ReorderPoint": "750",
                                    "Quantity": "512"
                                },
                                {
                                    "ProductID": "471",
                                    "ReorderPoint": "750",
                                    "Quantity": "579"
                                },
                                {
                                    "ProductID": "471",
                                    "ReorderPoint": "750",
                                    "Quantity": "633"
                                },
                                {
                                    "ProductID": "472",
                                    "ReorderPoint": "750",
                                    "Quantity": "513"
                                },
                                {
                                    "ProductID": "472",
                                    "ReorderPoint": "750",
                                    "Quantity": "580"
                                },
                                {
                                    "ProductID": "472",
                                    "ReorderPoint": "750",
                                    "Quantity": "635"
                                },
                                {
                                    "ProductID": "473",
                                    "ReorderPoint": "750",
                                    "Quantity": "515"
                                },
                                {
                                    "ProductID": "473",
                                    "ReorderPoint": "750",
                                    "Quantity": "582"
                                },
                                {
                                    "ProductID": "473",
                                    "ReorderPoint": "750",
                                    "Quantity": "636"
                                },
                                {
                                    "ProductID": "474",
                                    "ReorderPoint": "750",
                                    "Quantity": "516"
                                },
                                {
                                    "ProductID": "474",
                                    "ReorderPoint": "750",
                                    "Quantity": "584"
                                },
                                {
                                    "ProductID": "474",
                                    "ReorderPoint": "750",
                                    "Quantity": "638"
                                },
                                {
                                    "ProductID": "475",
                                    "ReorderPoint": "750",
                                    "Quantity": "518"
                                },
                                {
                                    "ProductID": "475",
                                    "ReorderPoint": "750",
                                    "Quantity": "585"
                                },
                                {
                                    "ProductID": "475",
                                    "ReorderPoint": "750",
                                    "Quantity": "640"
                                },
                                {
                                    "ProductID": "476",
                                    "ReorderPoint": "750",
                                    "Quantity": "324"
                                },
                                {
                                    "ProductID": "476",
                                    "ReorderPoint": "750",
                                    "Quantity": "355"
                                },
                                {
                                    "ProductID": "476",
                                    "ReorderPoint": "750",
                                    "Quantity": "404"
                                },
                                {
                                    "ProductID": "477",
                                    "ReorderPoint": "750",
                                    "Quantity": "323"
                                },
                                {
                                    "ProductID": "477",
                                    "ReorderPoint": "750",
                                    "Quantity": "353"
                                },
                                {
                                    "ProductID": "477",
                                    "ReorderPoint": "750",
                                    "Quantity": "403"
                                },
                                {
                                    "ProductID": "478",
                                    "ReorderPoint": "750",
                                    "Quantity": "497"
                                },
                                {
                                    "ProductID": "478",
                                    "ReorderPoint": "750",
                                    "Quantity": "568"
                                },
                                {
                                    "ProductID": "478",
                                    "ReorderPoint": "750",
                                    "Quantity": "622"
                                },
                                {
                                    "ProductID": "479",
                                    "ReorderPoint": "750",
                                    "Quantity": "198"
                                },
                                {
                                    "ProductID": "479",
                                    "ReorderPoint": "750",
                                    "Quantity": "390"
                                },
                                {
                                    "ProductID": "479",
                                    "ReorderPoint": "750",
                                    "Quantity": "441"
                                },
                                {
                                    "ProductID": "480",
                                    "ReorderPoint": "750",
                                    "Quantity": "457"
                                },
                                {
                                    "ProductID": "480",
                                    "ReorderPoint": "750",
                                    "Quantity": "515"
                                },
                                {
                                    "ProductID": "480",
                                    "ReorderPoint": "750",
                                    "Quantity": "689"
                                },
                                {
                                    "ProductID": "481",
                                    "ReorderPoint": "750",
                                    "Quantity": "196"
                                },
                                {
                                    "ProductID": "481",
                                    "ReorderPoint": "750",
                                    "Quantity": "374"
                                },
                                {
                                    "ProductID": "481",
                                    "ReorderPoint": "750",
                                    "Quantity": "427"
                                },
                                {
                                    "ProductID": "482",
                                    "ReorderPoint": "750",
                                    "Quantity": "176"
                                },
                                {
                                    "ProductID": "482",
                                    "ReorderPoint": "750",
                                    "Quantity": "321"
                                },
                                {
                                    "ProductID": "482",
                                    "ReorderPoint": "750",
                                    "Quantity": "427"
                                },
                                {
                                    "ProductID": "483",
                                    "ReorderPoint": "750",
                                    "Quantity": "459"
                                },
                                {
                                    "ProductID": "483",
                                    "ReorderPoint": "750",
                                    "Quantity": "531"
                                },
                                {
                                    "ProductID": "483",
                                    "ReorderPoint": "750",
                                    "Quantity": "691"
                                },
                                {
                                    "ProductID": "484",
                                    "ReorderPoint": "750",
                                    "Quantity": "196"
                                },
                                {
                                    "ProductID": "484",
                                    "ReorderPoint": "750",
                                    "Quantity": "374"
                                },
                                {
                                    "ProductID": "484",
                                    "ReorderPoint": "750",
                                    "Quantity": "427"
                                },
                                {
                                    "ProductID": "485",
                                    "ReorderPoint": "750",
                                    "Quantity": "176"
                                },
                                {
                                    "ProductID": "485",
                                    "ReorderPoint": "750",
                                    "Quantity": "321"
                                },
                                {
                                    "ProductID": "485",
                                    "ReorderPoint": "750",
                                    "Quantity": "427"
                                },
                                {
                                    "ProductID": "486",
                                    "ReorderPoint": "750",
                                    "Quantity": "457"
                                },
                                {
                                    "ProductID": "486",
                                    "ReorderPoint": "750",
                                    "Quantity": "515"
                                },
                                {
                                    "ProductID": "486",
                                    "ReorderPoint": "750",
                                    "Quantity": "689"
                                },
                                {
                                    "ProductID": "487",
                                    "ReorderPoint": "750",
                                    "Quantity": "324"
                                },
                                {
                                    "ProductID": "487",
                                    "ReorderPoint": "750",
                                    "Quantity": "331"
                                },
                                {
                                    "ProductID": "487",
                                    "ReorderPoint": "750",
                                    "Quantity": "337"
                                },
                                {
                                    "ProductID": "488",
                                    "ReorderPoint": "750",
                                    "Quantity": "305"
                                },
                                {
                                    "ProductID": "488",
                                    "ReorderPoint": "750",
                                    "Quantity": "312"
                                },
                                {
                                    "ProductID": "488",
                                    "ReorderPoint": "750",
                                    "Quantity": "318"
                                },
                                {
                                    "ProductID": "489",
                                    "ReorderPoint": "750",
                                    "Quantity": "606"
                                },
                                {
                                    "ProductID": "489",
                                    "ReorderPoint": "750",
                                    "Quantity": "612"
                                },
                                {
                                    "ProductID": "489",
                                    "ReorderPoint": "750",
                                    "Quantity": "619"
                                },
                                {
                                    "ProductID": "490",
                                    "ReorderPoint": "750",
                                    "Quantity": "587"
                                },
                                {
                                    "ProductID": "490",
                                    "ReorderPoint": "750",
                                    "Quantity": "593"
                                },
                                {
                                    "ProductID": "490",
                                    "ReorderPoint": "750",
                                    "Quantity": "600"
                                },
                                {
                                    "ProductID": "491",
                                    "ReorderPoint": "750",
                                    "Quantity": "248"
                                },
                                {
                                    "ProductID": "491",
                                    "ReorderPoint": "750",
                                    "Quantity": "254"
                                },
                                {
                                    "ProductID": "491",
                                    "ReorderPoint": "750",
                                    "Quantity": "420"
                                },
                                {
                                    "ProductID": "492",
                                    "ReorderPoint": "45",
                                    "Quantity": "14"
                                },
                                {
                                    "ProductID": "492",
                                    "ReorderPoint": "45",
                                    "Quantity": "16"
                                },
                                {
                                    "ProductID": "492",
                                    "ReorderPoint": "45",
                                    "Quantity": "17"
                                },
                                {
                                    "ProductID": "493",
                                    "ReorderPoint": "45",
                                    "Quantity": "24"
                                },
                                {
                                    "ProductID": "493",
                                    "ReorderPoint": "45",
                                    "Quantity": "28"
                                },
                                {
                                    "ProductID": "493",
                                    "ReorderPoint": "45",
                                    "Quantity": "41"
                                },
                                {
                                    "ProductID": "494",
                                    "ReorderPoint": "45",
                                    "Quantity": "4"
                                },
                                {
                                    "ProductID": "494",
                                    "ReorderPoint": "45",
                                    "Quantity": "12"
                                },
                                {
                                    "ProductID": "495",
                                    "ReorderPoint": "45",
                                    "Quantity": "25"
                                },
                                {
                                    "ProductID": "495",
                                    "ReorderPoint": "45",
                                    "Quantity": "35"
                                },
                                {
                                    "ProductID": "496",
                                    "ReorderPoint": "45",
                                    "Quantity": "25"
                                },
                                {
                                    "ProductID": "496",
                                    "ReorderPoint": "45",
                                    "Quantity": "30"
                                },
                                {
                                    "ProductID": "496",
                                    "ReorderPoint": "45",
                                    "Quantity": "44"
                                },
                                {
                                    "ProductID": "497",
                                    "ReorderPoint": "750",
                                    "Quantity": "273"
                                },
                                {
                                    "ProductID": "497",
                                    "ReorderPoint": "750",
                                    "Quantity": "336"
                                },
                                {
                                    "ProductID": "497",
                                    "ReorderPoint": "750",
                                    "Quantity": "364"
                                },
                                {
                                    "ProductID": "504",
                                    "ReorderPoint": "750",
                                    "Quantity": "320"
                                },
                                {
                                    "ProductID": "504",
                                    "ReorderPoint": "750",
                                    "Quantity": "372"
                                },
                                {
                                    "ProductID": "504",
                                    "ReorderPoint": "750",
                                    "Quantity": "392"
                                },
                                {
                                    "ProductID": "505",
                                    "ReorderPoint": "750",
                                    "Quantity": "283"
                                },
                                {
                                    "ProductID": "505",
                                    "ReorderPoint": "750",
                                    "Quantity": "299"
                                },
                                {
                                    "ProductID": "505",
                                    "ReorderPoint": "750",
                                    "Quantity": "388"
                                },
                                {
                                    "ProductID": "506",
                                    "ReorderPoint": "750",
                                    "Quantity": "121"
                                },
                                {
                                    "ProductID": "506",
                                    "ReorderPoint": "750",
                                    "Quantity": "316"
                                },
                                {
                                    "ProductID": "506",
                                    "ReorderPoint": "750",
                                    "Quantity": "390"
                                },
                                {
                                    "ProductID": "507",
                                    "ReorderPoint": "600",
                                    "Quantity": "542"
                                },
                                {
                                    "ProductID": "508",
                                    "ReorderPoint": "600",
                                    "Quantity": "550"
                                },
                                {
                                    "ProductID": "509",
                                    "ReorderPoint": "600",
                                    "Quantity": "558"
                                },
                                {
                                    "ProductID": "510",
                                    "ReorderPoint": "600",
                                    "Quantity": "316"
                                },
                                {
                                    "ProductID": "510",
                                    "ReorderPoint": "600",
                                    "Quantity": "406"
                                },
                                {
                                    "ProductID": "511",
                                    "ReorderPoint": "600",
                                    "Quantity": "350"
                                },
                                {
                                    "ProductID": "511",
                                    "ReorderPoint": "600",
                                    "Quantity": "390"
                                },
                                {
                                    "ProductID": "512",
                                    "ReorderPoint": "600",
                                    "Quantity": "281"
                                },
                                {
                                    "ProductID": "512",
                                    "ReorderPoint": "600",
                                    "Quantity": "334"
                                },
                                {
                                    "ProductID": "514",
                                    "ReorderPoint": "375",
                                    "Quantity": "212"
                                },
                                {
                                    "ProductID": "514",
                                    "ReorderPoint": "375",
                                    "Quantity": "267"
                                },
                                {
                                    "ProductID": "514",
                                    "ReorderPoint": "375",
                                    "Quantity": "318"
                                },
                                {
                                    "ProductID": "515",
                                    "ReorderPoint": "375",
                                    "Quantity": "214"
                                },
                                {
                                    "ProductID": "515",
                                    "ReorderPoint": "375",
                                    "Quantity": "268"
                                },
                                {
                                    "ProductID": "515",
                                    "ReorderPoint": "375",
                                    "Quantity": "320"
                                },
                                {
                                    "ProductID": "516",
                                    "ReorderPoint": "375",
                                    "Quantity": "216"
                                },
                                {
                                    "ProductID": "516",
                                    "ReorderPoint": "375",
                                    "Quantity": "270"
                                },
                                {
                                    "ProductID": "516",
                                    "ReorderPoint": "375",
                                    "Quantity": "321"
                                },
                                {
                                    "ProductID": "517",
                                    "ReorderPoint": "375",
                                    "Quantity": "217"
                                },
                                {
                                    "ProductID": "517",
                                    "ReorderPoint": "375",
                                    "Quantity": "272"
                                },
                                {
                                    "ProductID": "517",
                                    "ReorderPoint": "375",
                                    "Quantity": "323"
                                },
                                {
                                    "ProductID": "518",
                                    "ReorderPoint": "375",
                                    "Quantity": "219"
                                },
                                {
                                    "ProductID": "518",
                                    "ReorderPoint": "375",
                                    "Quantity": "273"
                                },
                                {
                                    "ProductID": "518",
                                    "ReorderPoint": "375",
                                    "Quantity": "324"
                                },
                                {
                                    "ProductID": "519",
                                    "ReorderPoint": "375",
                                    "Quantity": "220"
                                },
                                {
                                    "ProductID": "519",
                                    "ReorderPoint": "375",
                                    "Quantity": "275"
                                },
                                {
                                    "ProductID": "519",
                                    "ReorderPoint": "375",
                                    "Quantity": "326"
                                },
                                {
                                    "ProductID": "520",
                                    "ReorderPoint": "375",
                                    "Quantity": "222"
                                },
                                {
                                    "ProductID": "520",
                                    "ReorderPoint": "375",
                                    "Quantity": "276"
                                },
                                {
                                    "ProductID": "520",
                                    "ReorderPoint": "375",
                                    "Quantity": "328"
                                },
                                {
                                    "ProductID": "521",
                                    "ReorderPoint": "375",
                                    "Quantity": "224"
                                },
                                {
                                    "ProductID": "521",
                                    "ReorderPoint": "375",
                                    "Quantity": "278"
                                },
                                {
                                    "ProductID": "521",
                                    "ReorderPoint": "375",
                                    "Quantity": "329"
                                },
                                {
                                    "ProductID": "522",
                                    "ReorderPoint": "375",
                                    "Quantity": "225"
                                },
                                {
                                    "ProductID": "522",
                                    "ReorderPoint": "375",
                                    "Quantity": "280"
                                },
                                {
                                    "ProductID": "522",
                                    "ReorderPoint": "375",
                                    "Quantity": "331"
                                },
                                {
                                    "ProductID": "523",
                                    "ReorderPoint": "375",
                                    "Quantity": "139"
                                },
                                {
                                    "ProductID": "523",
                                    "ReorderPoint": "375",
                                    "Quantity": "164"
                                },
                                {
                                    "ProductID": "523",
                                    "ReorderPoint": "375",
                                    "Quantity": "209"
                                },
                                {
                                    "ProductID": "524",
                                    "ReorderPoint": "375",
                                    "Quantity": "107"
                                },
                                {
                                    "ProductID": "524",
                                    "ReorderPoint": "375",
                                    "Quantity": "124"
                                },
                                {
                                    "ProductID": "524",
                                    "ReorderPoint": "375",
                                    "Quantity": "228"
                                },
                                {
                                    "ProductID": "526",
                                    "ReorderPoint": "600",
                                    "Quantity": "587"
                                },
                                {
                                    "ProductID": "527",
                                    "ReorderPoint": "750",
                                    "Quantity": "702"
                                },
                                {
                                    "ProductID": "528",
                                    "ReorderPoint": "750",
                                    "Quantity": "729"
                                },
                                {
                                    "ProductID": "529",
                                    "ReorderPoint": "375",
                                    "Quantity": "371"
                                },
                                {
                                    "ProductID": "530",
                                    "ReorderPoint": "375",
                                    "Quantity": "336"
                                },
                                {
                                    "ProductID": "531",
                                    "ReorderPoint": "375",
                                    "Quantity": "374"
                                },
                                {
                                    "ProductID": "532",
                                    "ReorderPoint": "600",
                                    "Quantity": "542"
                                },
                                {
                                    "ProductID": "534",
                                    "ReorderPoint": "375",
                                    "Quantity": "278"
                                },
                                {
                                    "ProductID": "535",
                                    "ReorderPoint": "600",
                                    "Quantity": "409"
                                },
                                {
                                    "ProductID": "535",
                                    "ReorderPoint": "600",
                                    "Quantity": "427"
                                },
                                {
                                    "ProductID": "679",
                                    "ReorderPoint": "375",
                                    "Quantity": "121"
                                },
                                {
                                    "ProductID": "679",
                                    "ReorderPoint": "375",
                                    "Quantity": "136"
                                },
                                {
                                    "ProductID": "679",
                                    "ReorderPoint": "375",
                                    "Quantity": "164"
                                },
                                {
                                    "ProductID": "747",
                                    "ReorderPoint": "375",
                                    "Quantity": "107"
                                },
                                {
                                    "ProductID": "747",
                                    "ReorderPoint": "375",
                                    "Quantity": "121"
                                },
                                {
                                    "ProductID": "747",
                                    "ReorderPoint": "375",
                                    "Quantity": "137"
                                },
                                {
                                    "ProductID": "747",
                                    "ReorderPoint": "375",
                                    "Quantity": "148"
                                },
                                {
                                    "ProductID": "747",
                                    "ReorderPoint": "375",
                                    "Quantity": "160"
                                },
                                {
                                    "ProductID": "747",
                                    "ReorderPoint": "375",
                                    "Quantity": "161"
                                },
                                {
                                    "ProductID": "748",
                                    "ReorderPoint": "375",
                                    "Quantity": "91"
                                },
                                {
                                    "ProductID": "748",
                                    "ReorderPoint": "375",
                                    "Quantity": "105"
                                },
                                {
                                    "ProductID": "748",
                                    "ReorderPoint": "375",
                                    "Quantity": "121"
                                },
                                {
                                    "ProductID": "748",
                                    "ReorderPoint": "375",
                                    "Quantity": "132"
                                },
                                {
                                    "ProductID": "748",
                                    "ReorderPoint": "375",
                                    "Quantity": "144"
                                },
                                {
                                    "ProductID": "748",
                                    "ReorderPoint": "375",
                                    "Quantity": "145"
                                },
                                {
                                    "ProductID": "749",
                                    "ReorderPoint": "75",
                                    "Quantity": "60"
                                },
                                {
                                    "ProductID": "749",
                                    "ReorderPoint": "75",
                                    "Quantity": "73"
                                },
                                {
                                    "ProductID": "751",
                                    "ReorderPoint": "75",
                                    "Quantity": "32"
                                },
                                {
                                    "ProductID": "752",
                                    "ReorderPoint": "75",
                                    "Quantity": "52"
                                },
                                {
                                    "ProductID": "753",
                                    "ReorderPoint": "75",
                                    "Quantity": "51"
                                },
                                {
                                    "ProductID": "754",
                                    "ReorderPoint": "75",
                                    "Quantity": "65"
                                },
                                {
                                    "ProductID": "755",
                                    "ReorderPoint": "75",
                                    "Quantity": "62"
                                },
                                {
                                    "ProductID": "755",
                                    "ReorderPoint": "75",
                                    "Quantity": "75"
                                },
                                {
                                    "ProductID": "756",
                                    "ReorderPoint": "75",
                                    "Quantity": "30"
                                },
                                {
                                    "ProductID": "757",
                                    "ReorderPoint": "75",
                                    "Quantity": "56"
                                },
                                {
                                    "ProductID": "758",
                                    "ReorderPoint": "75",
                                    "Quantity": "49"
                                },
                                {
                                    "ProductID": "759",
                                    "ReorderPoint": "75",
                                    "Quantity": "51"
                                },
                                {
                                    "ProductID": "761",
                                    "ReorderPoint": "75",
                                    "Quantity": "67"
                                },
                                {
                                    "ProductID": "762",
                                    "ReorderPoint": "75",
                                    "Quantity": "62"
                                },
                                {
                                    "ProductID": "762",
                                    "ReorderPoint": "75",
                                    "Quantity": "75"
                                },
                                {
                                    "ProductID": "764",
                                    "ReorderPoint": "75",
                                    "Quantity": "32"
                                },
                                {
                                    "ProductID": "765",
                                    "ReorderPoint": "75",
                                    "Quantity": "56"
                                },
                                {
                                    "ProductID": "766",
                                    "ReorderPoint": "75",
                                    "Quantity": "49"
                                },
                                {
                                    "ProductID": "768",
                                    "ReorderPoint": "75",
                                    "Quantity": "67"
                                },
                                {
                                    "ProductID": "769",
                                    "ReorderPoint": "75",
                                    "Quantity": "60"
                                },
                                {
                                    "ProductID": "769",
                                    "ReorderPoint": "75",
                                    "Quantity": "73"
                                },
                                {
                                    "ProductID": "771",
                                    "ReorderPoint": "75",
                                    "Quantity": "49"
                                },
                                {
                                    "ProductID": "772",
                                    "ReorderPoint": "75",
                                    "Quantity": "65"
                                },
                                {
                                    "ProductID": "773",
                                    "ReorderPoint": "75",
                                    "Quantity": "75"
                                },
                                {
                                    "ProductID": "774",
                                    "ReorderPoint": "75",
                                    "Quantity": "62"
                                },
                                {
                                    "ProductID": "775",
                                    "ReorderPoint": "75",
                                    "Quantity": "56"
                                },
                                {
                                    "ProductID": "777",
                                    "ReorderPoint": "75",
                                    "Quantity": "49"
                                },
                                {
                                    "ProductID": "778",
                                    "ReorderPoint": "75",
                                    "Quantity": "65"
                                },
                                {
                                    "ProductID": "779",
                                    "ReorderPoint": "75",
                                    "Quantity": "62"
                                },
                                {
                                    "ProductID": "779",
                                    "ReorderPoint": "75",
                                    "Quantity": "75"
                                },
                                {
                                    "ProductID": "781",
                                    "ReorderPoint": "75",
                                    "Quantity": "32"
                                },
                                {
                                    "ProductID": "783",
                                    "ReorderPoint": "75",
                                    "Quantity": "65"
                                },
                                {
                                    "ProductID": "784",
                                    "ReorderPoint": "75",
                                    "Quantity": "62"
                                },
                                {
                                    "ProductID": "784",
                                    "ReorderPoint": "75",
                                    "Quantity": "75"
                                },
                                {
                                    "ProductID": "785",
                                    "ReorderPoint": "75",
                                    "Quantity": "62"
                                },
                                {
                                    "ProductID": "785",
                                    "ReorderPoint": "75",
                                    "Quantity": "75"
                                },
                                {
                                    "ProductID": "787",
                                    "ReorderPoint": "75",
                                    "Quantity": "32"
                                },
                                {
                                    "ProductID": "788",
                                    "ReorderPoint": "75",
                                    "Quantity": "52"
                                },
                                {
                                    "ProductID": "789",
                                    "ReorderPoint": "75",
                                    "Quantity": "51"
                                },
                                {
                                    "ProductID": "791",
                                    "ReorderPoint": "75",
                                    "Quantity": "67"
                                },
                                {
                                    "ProductID": "793",
                                    "ReorderPoint": "75",
                                    "Quantity": "56"
                                },
                                {
                                    "ProductID": "794",
                                    "ReorderPoint": "75",
                                    "Quantity": "49"
                                },
                                {
                                    "ProductID": "796",
                                    "ReorderPoint": "75",
                                    "Quantity": "65"
                                },
                                {
                                    "ProductID": "797",
                                    "ReorderPoint": "75",
                                    "Quantity": "67"
                                },
                                {
                                    "ProductID": "798",
                                    "ReorderPoint": "75",
                                    "Quantity": "60"
                                },
                                {
                                    "ProductID": "798",
                                    "ReorderPoint": "75",
                                    "Quantity": "73"
                                },
                                {
                                    "ProductID": "800",
                                    "ReorderPoint": "75",
                                    "Quantity": "30"
                                },
                                {
                                    "ProductID": "801",
                                    "ReorderPoint": "75",
                                    "Quantity": "56"
                                },
                                {
                                    "ProductID": "802",
                                    "ReorderPoint": "375",
                                    "Quantity": "240"
                                },
                                {
                                    "ProductID": "802",
                                    "ReorderPoint": "375",
                                    "Quantity": "273"
                                },
                                {
                                    "ProductID": "802",
                                    "ReorderPoint": "375",
                                    "Quantity": "350"
                                },
                                {
                                    "ProductID": "803",
                                    "ReorderPoint": "375",
                                    "Quantity": "246"
                                },
                                {
                                    "ProductID": "803",
                                    "ReorderPoint": "375",
                                    "Quantity": "280"
                                },
                                {
                                    "ProductID": "803",
                                    "ReorderPoint": "375",
                                    "Quantity": "356"
                                },
                                {
                                    "ProductID": "804",
                                    "ReorderPoint": "375",
                                    "Quantity": "252"
                                },
                                {
                                    "ProductID": "804",
                                    "ReorderPoint": "375",
                                    "Quantity": "286"
                                },
                                {
                                    "ProductID": "804",
                                    "ReorderPoint": "375",
                                    "Quantity": "363"
                                },
                                {
                                    "ProductID": "805",
                                    "ReorderPoint": "375",
                                    "Quantity": "212"
                                },
                                {
                                    "ProductID": "805",
                                    "ReorderPoint": "375",
                                    "Quantity": "265"
                                },
                                {
                                    "ProductID": "805",
                                    "ReorderPoint": "375",
                                    "Quantity": "284"
                                },
                                {
                                    "ProductID": "806",
                                    "ReorderPoint": "375",
                                    "Quantity": "216"
                                },
                                {
                                    "ProductID": "806",
                                    "ReorderPoint": "375",
                                    "Quantity": "268"
                                },
                                {
                                    "ProductID": "806",
                                    "ReorderPoint": "375",
                                    "Quantity": "288"
                                },
                                {
                                    "ProductID": "807",
                                    "ReorderPoint": "375",
                                    "Quantity": "219"
                                },
                                {
                                    "ProductID": "807",
                                    "ReorderPoint": "375",
                                    "Quantity": "272"
                                },
                                {
                                    "ProductID": "807",
                                    "ReorderPoint": "375",
                                    "Quantity": "291"
                                },
                                {
                                    "ProductID": "808",
                                    "ReorderPoint": "375",
                                    "Quantity": "267"
                                },
                                {
                                    "ProductID": "808",
                                    "ReorderPoint": "375",
                                    "Quantity": "276"
                                },
                                {
                                    "ProductID": "808",
                                    "ReorderPoint": "375",
                                    "Quantity": "316"
                                },
                                {
                                    "ProductID": "809",
                                    "ReorderPoint": "375",
                                    "Quantity": "264"
                                },
                                {
                                    "ProductID": "809",
                                    "ReorderPoint": "375",
                                    "Quantity": "273"
                                },
                                {
                                    "ProductID": "809",
                                    "ReorderPoint": "375",
                                    "Quantity": "313"
                                },
                                {
                                    "ProductID": "810",
                                    "ReorderPoint": "375",
                                    "Quantity": "260"
                                },
                                {
                                    "ProductID": "810",
                                    "ReorderPoint": "375",
                                    "Quantity": "270"
                                },
                                {
                                    "ProductID": "810",
                                    "ReorderPoint": "375",
                                    "Quantity": "310"
                                },
                                {
                                    "ProductID": "811",
                                    "ReorderPoint": "375",
                                    "Quantity": "257"
                                },
                                {
                                    "ProductID": "811",
                                    "ReorderPoint": "375",
                                    "Quantity": "267"
                                },
                                {
                                    "ProductID": "811",
                                    "ReorderPoint": "375",
                                    "Quantity": "307"
                                },
                                {
                                    "ProductID": "812",
                                    "ReorderPoint": "375",
                                    "Quantity": "254"
                                },
                                {
                                    "ProductID": "812",
                                    "ReorderPoint": "375",
                                    "Quantity": "264"
                                },
                                {
                                    "ProductID": "812",
                                    "ReorderPoint": "375",
                                    "Quantity": "304"
                                },
                                {
                                    "ProductID": "813",
                                    "ReorderPoint": "375",
                                    "Quantity": "251"
                                },
                                {
                                    "ProductID": "813",
                                    "ReorderPoint": "375",
                                    "Quantity": "260"
                                },
                                {
                                    "ProductID": "813",
                                    "ReorderPoint": "375",
                                    "Quantity": "300"
                                },
                                {
                                    "ProductID": "814",
                                    "ReorderPoint": "375",
                                    "Quantity": "96"
                                },
                                {
                                    "ProductID": "814",
                                    "ReorderPoint": "375",
                                    "Quantity": "110"
                                },
                                {
                                    "ProductID": "814",
                                    "ReorderPoint": "375",
                                    "Quantity": "126"
                                },
                                {
                                    "ProductID": "814",
                                    "ReorderPoint": "375",
                                    "Quantity": "137"
                                },
                                {
                                    "ProductID": "814",
                                    "ReorderPoint": "375",
                                    "Quantity": "148"
                                },
                                {
                                    "ProductID": "814",
                                    "ReorderPoint": "375",
                                    "Quantity": "150"
                                },
                                {
                                    "ProductID": "815",
                                    "ReorderPoint": "375",
                                    "Quantity": "265"
                                },
                                {
                                    "ProductID": "820",
                                    "ReorderPoint": "375",
                                    "Quantity": "232"
                                },
                                {
                                    "ProductID": "821",
                                    "ReorderPoint": "375",
                                    "Quantity": "304"
                                },
                                {
                                    "ProductID": "822",
                                    "ReorderPoint": "375",
                                    "Quantity": "100"
                                },
                                {
                                    "ProductID": "822",
                                    "ReorderPoint": "375",
                                    "Quantity": "115"
                                },
                                {
                                    "ProductID": "822",
                                    "ReorderPoint": "375",
                                    "Quantity": "131"
                                },
                                {
                                    "ProductID": "822",
                                    "ReorderPoint": "375",
                                    "Quantity": "142"
                                },
                                {
                                    "ProductID": "822",
                                    "ReorderPoint": "375",
                                    "Quantity": "153"
                                },
                                {
                                    "ProductID": "822",
                                    "ReorderPoint": "375",
                                    "Quantity": "155"
                                },
                                {
                                    "ProductID": "823",
                                    "ReorderPoint": "375",
                                    "Quantity": "256"
                                },
                                {
                                    "ProductID": "828",
                                    "ReorderPoint": "375",
                                    "Quantity": "284"
                                },
                                {
                                    "ProductID": "829",
                                    "ReorderPoint": "375",
                                    "Quantity": "265"
                                },
                                {
                                    "ProductID": "853",
                                    "ReorderPoint": "3",
                                    "Quantity": "0"
                                },
                                {
                                    "ProductID": "859",
                                    "ReorderPoint": "3",
                                    "Quantity": "0"
                                },
                                {
                                    "ProductID": "876",
                                    "ReorderPoint": "3",
                                    "Quantity": "0"
                                },
                                {
                                    "ProductID": "882",
                                    "ReorderPoint": "3",
                                    "Quantity": "0"
                                },
                                {
                                    "ProductID": "894",
                                    "ReorderPoint": "375",
                                    "Quantity": "155"
                                },
                                {
                                    "ProductID": "894",
                                    "ReorderPoint": "375",
                                    "Quantity": "337"
                                },
                                {
                                    "ProductID": "894",
                                    "ReorderPoint": "375",
                                    "Quantity": "355"
                                },
                                {
                                    "ProductID": "907",
                                    "ReorderPoint": "375",
                                    "Quantity": "158"
                                },
                                {
                                    "ProductID": "907",
                                    "ReorderPoint": "375",
                                    "Quantity": "228"
                                },
                                {
                                    "ProductID": "907",
                                    "ReorderPoint": "375",
                                    "Quantity": "337"
                                },
                                {
                                    "ProductID": "908",
                                    "ReorderPoint": "375",
                                    "Quantity": "195"
                                },
                                {
                                    "ProductID": "908",
                                    "ReorderPoint": "375",
                                    "Quantity": "214"
                                },
                                {
                                    "ProductID": "909",
                                    "ReorderPoint": "375",
                                    "Quantity": "72"
                                },
                                {
                                    "ProductID": "909",
                                    "ReorderPoint": "375",
                                    "Quantity": "120"
                                },
                                {
                                    "ProductID": "909",
                                    "ReorderPoint": "375",
                                    "Quantity": "230"
                                },
                                {
                                    "ProductID": "910",
                                    "ReorderPoint": "375",
                                    "Quantity": "91"
                                },
                                {
                                    "ProductID": "910",
                                    "ReorderPoint": "375",
                                    "Quantity": "96"
                                },
                                {
                                    "ProductID": "910",
                                    "ReorderPoint": "375",
                                    "Quantity": "168"
                                },
                                {
                                    "ProductID": "911",
                                    "ReorderPoint": "375",
                                    "Quantity": "283"
                                },
                                {
                                    "ProductID": "911",
                                    "ReorderPoint": "375",
                                    "Quantity": "302"
                                },
                                {
                                    "ProductID": "911",
                                    "ReorderPoint": "375",
                                    "Quantity": "321"
                                },
                                {
                                    "ProductID": "912",
                                    "ReorderPoint": "375",
                                    "Quantity": "246"
                                },
                                {
                                    "ProductID": "912",
                                    "ReorderPoint": "375",
                                    "Quantity": "302"
                                },
                                {
                                    "ProductID": "912",
                                    "ReorderPoint": "375",
                                    "Quantity": "353"
                                },
                                {
                                    "ProductID": "913",
                                    "ReorderPoint": "375",
                                    "Quantity": "145"
                                },
                                {
                                    "ProductID": "913",
                                    "ReorderPoint": "375",
                                    "Quantity": "153"
                                },
                                {
                                    "ProductID": "913",
                                    "ReorderPoint": "375",
                                    "Quantity": "169"
                                },
                                {
                                    "ProductID": "914",
                                    "ReorderPoint": "375",
                                    "Quantity": "171"
                                },
                                {
                                    "ProductID": "914",
                                    "ReorderPoint": "375",
                                    "Quantity": "248"
                                },
                                {
                                    "ProductID": "915",
                                    "ReorderPoint": "375",
                                    "Quantity": "83"
                                },
                                {
                                    "ProductID": "915",
                                    "ReorderPoint": "375",
                                    "Quantity": "158"
                                },
                                {
                                    "ProductID": "915",
                                    "ReorderPoint": "375",
                                    "Quantity": "161"
                                },
                                {
                                    "ProductID": "916",
                                    "ReorderPoint": "375",
                                    "Quantity": "276"
                                },
                                {
                                    "ProductID": "916",
                                    "ReorderPoint": "375",
                                    "Quantity": "288"
                                },
                                {
                                    "ProductID": "921",
                                    "ReorderPoint": "375",
                                    "Quantity": "243"
                                },
                                {
                                    "ProductID": "921",
                                    "ReorderPoint": "375",
                                    "Quantity": "286"
                                },
                                {
                                    "ProductID": "922",
                                    "ReorderPoint": "375",
                                    "Quantity": "241"
                                },
                                {
                                    "ProductID": "922",
                                    "ReorderPoint": "375",
                                    "Quantity": "264"
                                },
                                {
                                    "ProductID": "923",
                                    "ReorderPoint": "375",
                                    "Quantity": "240"
                                },
                                {
                                    "ProductID": "923",
                                    "ReorderPoint": "375",
                                    "Quantity": "262"
                                },
                                {
                                    "ProductID": "928",
                                    "ReorderPoint": "375",
                                    "Quantity": "240"
                                },
                                {
                                    "ProductID": "928",
                                    "ReorderPoint": "375",
                                    "Quantity": "369"
                                },
                                {
                                    "ProductID": "929",
                                    "ReorderPoint": "375",
                                    "Quantity": "284"
                                },
                                {
                                    "ProductID": "930",
                                    "ReorderPoint": "375",
                                    "Quantity": "232"
                                },
                                {
                                    "ProductID": "930",
                                    "ReorderPoint": "375",
                                    "Quantity": "267"
                                },
                                {
                                    "ProductID": "931",
                                    "ReorderPoint": "375",
                                    "Quantity": "236"
                                },
                                {
                                    "ProductID": "931",
                                    "ReorderPoint": "375",
                                    "Quantity": "252"
                                },
                                {
                                    "ProductID": "932",
                                    "ReorderPoint": "375",
                                    "Quantity": "192"
                                },
                                {
                                    "ProductID": "933",
                                    "ReorderPoint": "375",
                                    "Quantity": "228"
                                },
                                {
                                    "ProductID": "933",
                                    "ReorderPoint": "375",
                                    "Quantity": "299"
                                },
                                {
                                    "ProductID": "934",
                                    "ReorderPoint": "375",
                                    "Quantity": "233"
                                },
                                {
                                    "ProductID": "934",
                                    "ReorderPoint": "375",
                                    "Quantity": "249"
                                },
                                {
                                    "ProductID": "935",
                                    "ReorderPoint": "375",
                                    "Quantity": "156"
                                },
                                {
                                    "ProductID": "935",
                                    "ReorderPoint": "375",
                                    "Quantity": "174"
                                },
                                {
                                    "ProductID": "935",
                                    "ReorderPoint": "375",
                                    "Quantity": "182"
                                },
                                {
                                    "ProductID": "936",
                                    "ReorderPoint": "375",
                                    "Quantity": "155"
                                },
                                {
                                    "ProductID": "936",
                                    "ReorderPoint": "375",
                                    "Quantity": "172"
                                },
                                {
                                    "ProductID": "936",
                                    "ReorderPoint": "375",
                                    "Quantity": "180"
                                },
                                {
                                    "ProductID": "937",
                                    "ReorderPoint": "375",
                                    "Quantity": "153"
                                },
                                {
                                    "ProductID": "937",
                                    "ReorderPoint": "375",
                                    "Quantity": "171"
                                },
                                {
                                    "ProductID": "937",
                                    "ReorderPoint": "375",
                                    "Quantity": "179"
                                },
                                {
                                    "ProductID": "938",
                                    "ReorderPoint": "375",
                                    "Quantity": "152"
                                },
                                {
                                    "ProductID": "938",
                                    "ReorderPoint": "375",
                                    "Quantity": "169"
                                },
                                {
                                    "ProductID": "938",
                                    "ReorderPoint": "375",
                                    "Quantity": "177"
                                },
                                {
                                    "ProductID": "939",
                                    "ReorderPoint": "375",
                                    "Quantity": "150"
                                },
                                {
                                    "ProductID": "939",
                                    "ReorderPoint": "375",
                                    "Quantity": "168"
                                },
                                {
                                    "ProductID": "939",
                                    "ReorderPoint": "375",
                                    "Quantity": "176"
                                },
                                {
                                    "ProductID": "940",
                                    "ReorderPoint": "375",
                                    "Quantity": "267"
                                },
                                {
                                    "ProductID": "940",
                                    "ReorderPoint": "375",
                                    "Quantity": "316"
                                },
                                {
                                    "ProductID": "940",
                                    "ReorderPoint": "375",
                                    "Quantity": "323"
                                },
                                {
                                    "ProductID": "941",
                                    "ReorderPoint": "375",
                                    "Quantity": "235"
                                },
                                {
                                    "ProductID": "941",
                                    "ReorderPoint": "375",
                                    "Quantity": "262"
                                },
                                {
                                    "ProductID": "942",
                                    "ReorderPoint": "375",
                                    "Quantity": "105"
                                },
                                {
                                    "ProductID": "942",
                                    "ReorderPoint": "375",
                                    "Quantity": "120"
                                },
                                {
                                    "ProductID": "942",
                                    "ReorderPoint": "375",
                                    "Quantity": "136"
                                },
                                {
                                    "ProductID": "942",
                                    "ReorderPoint": "375",
                                    "Quantity": "147"
                                },
                                {
                                    "ProductID": "942",
                                    "ReorderPoint": "375",
                                    "Quantity": "158"
                                },
                                {
                                    "ProductID": "942",
                                    "ReorderPoint": "375",
                                    "Quantity": "160"
                                },
                                {
                                    "ProductID": "943",
                                    "ReorderPoint": "375",
                                    "Quantity": "88"
                                },
                                {
                                    "ProductID": "943",
                                    "ReorderPoint": "375",
                                    "Quantity": "102"
                                },
                                {
                                    "ProductID": "943",
                                    "ReorderPoint": "375",
                                    "Quantity": "118"
                                },
                                {
                                    "ProductID": "943",
                                    "ReorderPoint": "375",
                                    "Quantity": "129"
                                },
                                {
                                    "ProductID": "943",
                                    "ReorderPoint": "375",
                                    "Quantity": "140"
                                },
                                {
                                    "ProductID": "943",
                                    "ReorderPoint": "375",
                                    "Quantity": "142"
                                },
                                {
                                    "ProductID": "944",
                                    "ReorderPoint": "375",
                                    "Quantity": "81"
                                },
                                {
                                    "ProductID": "944",
                                    "ReorderPoint": "375",
                                    "Quantity": "96"
                                },
                                {
                                    "ProductID": "944",
                                    "ReorderPoint": "375",
                                    "Quantity": "112"
                                },
                                {
                                    "ProductID": "944",
                                    "ReorderPoint": "375",
                                    "Quantity": "123"
                                },
                                {
                                    "ProductID": "944",
                                    "ReorderPoint": "375",
                                    "Quantity": "134"
                                },
                                {
                                    "ProductID": "944",
                                    "ReorderPoint": "375",
                                    "Quantity": "136"
                                },
                                {
                                    "ProductID": "945",
                                    "ReorderPoint": "375",
                                    "Quantity": "236"
                                },
                                {
                                    "ProductID": "945",
                                    "ReorderPoint": "375",
                                    "Quantity": "270"
                                },
                                {
                                    "ProductID": "945",
                                    "ReorderPoint": "375",
                                    "Quantity": "347"
                                },
                                {
                                    "ProductID": "946",
                                    "ReorderPoint": "375",
                                    "Quantity": "248"
                                },
                                {
                                    "ProductID": "946",
                                    "ReorderPoint": "375",
                                    "Quantity": "257"
                                },
                                {
                                    "ProductID": "946",
                                    "ReorderPoint": "375",
                                    "Quantity": "297"
                                },
                                {
                                    "ProductID": "947",
                                    "ReorderPoint": "375",
                                    "Quantity": "244"
                                },
                                {
                                    "ProductID": "947",
                                    "ReorderPoint": "375",
                                    "Quantity": "254"
                                },
                                {
                                    "ProductID": "947",
                                    "ReorderPoint": "375",
                                    "Quantity": "294"
                                },
                                {
                                    "ProductID": "948",
                                    "ReorderPoint": "375",
                                    "Quantity": "347"
                                },
                                {
                                    "ProductID": "949",
                                    "ReorderPoint": "375",
                                    "Quantity": "265"
                                },
                                {
                                    "ProductID": "949",
                                    "ReorderPoint": "375",
                                    "Quantity": "284"
                                },
                                {
                                    "ProductID": "949",
                                    "ReorderPoint": "375",
                                    "Quantity": "336"
                                },
                                {
                                    "ProductID": "950",
                                    "ReorderPoint": "375",
                                    "Quantity": "272"
                                },
                                {
                                    "ProductID": "950",
                                    "ReorderPoint": "375",
                                    "Quantity": "291"
                                },
                                {
                                    "ProductID": "950",
                                    "ReorderPoint": "375",
                                    "Quantity": "342"
                                },
                                {
                                    "ProductID": "951",
                                    "ReorderPoint": "375",
                                    "Quantity": "278"
                                },
                                {
                                    "ProductID": "951",
                                    "ReorderPoint": "375",
                                    "Quantity": "297"
                                },
                                {
                                    "ProductID": "951",
                                    "ReorderPoint": "375",
                                    "Quantity": "348"
                                },
                                {
                                    "ProductID": "952",
                                    "ReorderPoint": "375",
                                    "Quantity": "161"
                                },
                                {
                                    "ProductID": "952",
                                    "ReorderPoint": "375",
                                    "Quantity": "192"
                                },
                                {
                                    "ProductID": "952",
                                    "ReorderPoint": "375",
                                    "Quantity": "236"
                                },
                                {
                                    "ProductID": "953",
                                    "ReorderPoint": "75",
                                    "Quantity": "49"
                                },
                                {
                                    "ProductID": "954",
                                    "ReorderPoint": "75",
                                    "Quantity": "65"
                                },
                                {
                                    "ProductID": "955",
                                    "ReorderPoint": "75",
                                    "Quantity": "62"
                                },
                                {
                                    "ProductID": "955",
                                    "ReorderPoint": "75",
                                    "Quantity": "75"
                                },
                                {
                                    "ProductID": "956",
                                    "ReorderPoint": "75",
                                    "Quantity": "35"
                                },
                                {
                                    "ProductID": "956",
                                    "ReorderPoint": "75",
                                    "Quantity": "40"
                                },
                                {
                                    "ProductID": "957",
                                    "ReorderPoint": "75",
                                    "Quantity": "51"
                                },
                                {
                                    "ProductID": "958",
                                    "ReorderPoint": "75",
                                    "Quantity": "35"
                                },
                                {
                                    "ProductID": "960",
                                    "ReorderPoint": "75",
                                    "Quantity": "54"
                                },
                                {
                                    "ProductID": "962",
                                    "ReorderPoint": "75",
                                    "Quantity": "67"
                                },
                                {
                                    "ProductID": "963",
                                    "ReorderPoint": "75",
                                    "Quantity": "36"
                                },
                                {
                                    "ProductID": "965",
                                    "ReorderPoint": "75",
                                    "Quantity": "72"
                                },
                                {
                                    "ProductID": "967",
                                    "ReorderPoint": "75",
                                    "Quantity": "67"
                                },
                                {
                                    "ProductID": "968",
                                    "ReorderPoint": "75",
                                    "Quantity": "60"
                                },
                                {
                                    "ProductID": "968",
                                    "ReorderPoint": "75",
                                    "Quantity": "73"
                                },
                                {
                                    "ProductID": "969",
                                    "ReorderPoint": "75",
                                    "Quantity": "30"
                                },
                                {
                                    "ProductID": "970",
                                    "ReorderPoint": "75",
                                    "Quantity": "60"
                                },
                                {
                                    "ProductID": "970",
                                    "ReorderPoint": "75",
                                    "Quantity": "73"
                                },
                                {
                                    "ProductID": "972",
                                    "ReorderPoint": "75",
                                    "Quantity": "30"
                                },
                                {
                                    "ProductID": "974",
                                    "ReorderPoint": "75",
                                    "Quantity": "67"
                                },
                                {
                                    "ProductID": "975",
                                    "ReorderPoint": "75",
                                    "Quantity": "60"
                                },
                                {
                                    "ProductID": "975",
                                    "ReorderPoint": "75",
                                    "Quantity": "73"
                                },
                                {
                                    "ProductID": "977",
                                    "ReorderPoint": "75",
                                    "Quantity": "65"
                                },
                                {
                                    "ProductID": "978",
                                    "ReorderPoint": "75",
                                    "Quantity": "72"
                                },
                                {
                                    "ProductID": "980",
                                    "ReorderPoint": "75",
                                    "Quantity": "51"
                                },
                                {
                                    "ProductID": "981",
                                    "ReorderPoint": "75",
                                    "Quantity": "67"
                                },
                                {
                                    "ProductID": "982",
                                    "ReorderPoint": "75",
                                    "Quantity": "73"
                                },
                                {
                                    "ProductID": "983",
                                    "ReorderPoint": "75",
                                    "Quantity": "60"
                                },
                                {
                                    "ProductID": "984",
                                    "ReorderPoint": "75",
                                    "Quantity": "73"
                                },
                                {
                                    "ProductID": "985",
                                    "ReorderPoint": "75",
                                    "Quantity": "60"
                                },
                                {
                                    "ProductID": "986",
                                    "ReorderPoint": "75",
                                    "Quantity": "30"
                                },
                                {
                                    "ProductID": "987",
                                    "ReorderPoint": "75",
                                    "Quantity": "56"
                                },
                                {
                                    "ProductID": "989",
                                    "ReorderPoint": "75",
                                    "Quantity": "51"
                                },
                                {
                                    "ProductID": "990",
                                    "ReorderPoint": "75",
                                    "Quantity": "67"
                                },
                                {
                                    "ProductID": "991",
                                    "ReorderPoint": "75",
                                    "Quantity": "73"
                                },
                                {
                                    "ProductID": "992",
                                    "ReorderPoint": "75",
                                    "Quantity": "60"
                                },
                                {
                                    "ProductID": "993",
                                    "ReorderPoint": "75",
                                    "Quantity": "30"
                                },
                                {
                                    "ProductID": "994",
                                    "ReorderPoint": "375",
                                    "Quantity": "212"
                                },
                                {
                                    "ProductID": "994",
                                    "ReorderPoint": "375",
                                    "Quantity": "244"
                                },
                                {
                                    "ProductID": "994",
                                    "ReorderPoint": "375",
                                    "Quantity": "358"
                                },
                                {
                                    "ProductID": "995",
                                    "ReorderPoint": "375",
                                    "Quantity": "230"
                                },
                                {
                                    "ProductID": "995",
                                    "ReorderPoint": "375",
                                    "Quantity": "265"
                                },
                                {
                                    "ProductID": "995",
                                    "ReorderPoint": "375",
                                    "Quantity": "321"
                                },
                                {
                                    "ProductID": "996",
                                    "ReorderPoint": "375",
                                    "Quantity": "174"
                                },
                                {
                                    "ProductID": "996",
                                    "ReorderPoint": "375",
                                    "Quantity": "321"
                                },
                                {
                                    "ProductID": "997",
                                    "ReorderPoint": "75",
                                    "Quantity": "30"
                                },
                                {
                                    "ProductID": "998",
                                    "ReorderPoint": "75",
                                    "Quantity": "56"
                                }
                            ]
                        },
                        "text/html": [
                            "<table>",
                            "<tr><th>ProductID</th><th>ReorderPoint</th><th>Quantity</th></tr>",
                            "<tr><td>1</td><td>750</td><td>324</td></tr>",
                            "<tr><td>1</td><td>750</td><td>353</td></tr>",
                            "<tr><td>1</td><td>750</td><td>408</td></tr>",
                            "<tr><td>2</td><td>750</td><td>318</td></tr>",
                            "<tr><td>2</td><td>750</td><td>364</td></tr>",
                            "<tr><td>2</td><td>750</td><td>427</td></tr>",
                            "<tr><td>3</td><td>600</td><td>324</td></tr>",
                            "<tr><td>3</td><td>600</td><td>443</td></tr>",
                            "<tr><td>3</td><td>600</td><td>585</td></tr>",
                            "<tr><td>4</td><td>600</td><td>388</td></tr>",
                            "<tr><td>4</td><td>600</td><td>422</td></tr>",
                            "<tr><td>4</td><td>600</td><td>512</td></tr>",
                            "<tr><td>316</td><td>600</td><td>388</td></tr>",
                            "<tr><td>316</td><td>600</td><td>441</td></tr>",
                            "<tr><td>316</td><td>600</td><td>532</td></tr>",
                            "<tr><td>317</td><td>375</td><td>152</td></tr>",
                            "<tr><td>317</td><td>375</td><td>158</td></tr>",
                            "<tr><td>317</td><td>375</td><td>283</td></tr>",
                            "<tr><td>318</td><td>375</td><td>132</td></tr>",
                            "<tr><td>318</td><td>375</td><td>136</td></tr>",
                            "<tr><td>318</td><td>375</td><td>171</td></tr>",
                            "<tr><td>319</td><td>375</td><td>184</td></tr>",
                            "<tr><td>319</td><td>375</td><td>305</td></tr>",
                            "<tr><td>319</td><td>375</td><td>308</td></tr>",
                            "<tr><td>320</td><td>750</td><td>283</td></tr>",
                            "<tr><td>320</td><td>750</td><td>372</td></tr>",
                            "<tr><td>320</td><td>750</td><td>481</td></tr>",
                            "<tr><td>321</td><td>750</td><td>540</td></tr>",
                            "<tr><td>321</td><td>750</td><td>569</td></tr>",
                            "<tr><td>321</td><td>750</td><td>641</td></tr>",
                            "<tr><td>322</td><td>750</td><td>475</td></tr>",
                            "<tr><td>322</td><td>750</td><td>587</td></tr>",
                            "<tr><td>322</td><td>750</td><td>622</td></tr>",
                            "<tr><td>323</td><td>750</td><td>513</td></tr>",
                            "<tr><td>323</td><td>750</td><td>568</td></tr>",
                            "<tr><td>323</td><td>750</td><td>603</td></tr>",
                            "<tr><td>324</td><td>750</td><td>476</td></tr>",
                            "<tr><td>324</td><td>750</td><td>568</td></tr>",
                            "<tr><td>324</td><td>750</td><td>585</td></tr>",
                            "<tr><td>325</td><td>750</td><td>540</td></tr>",
                            "<tr><td>325</td><td>750</td><td>569</td></tr>",
                            "<tr><td>325</td><td>750</td><td>641</td></tr>",
                            "<tr><td>326</td><td>750</td><td>475</td></tr>",
                            "<tr><td>326</td><td>750</td><td>587</td></tr>",
                            "<tr><td>326</td><td>750</td><td>622</td></tr>",
                            "<tr><td>327</td><td>600</td><td>408</td></tr>",
                            "<tr><td>327</td><td>600</td><td>443</td></tr>",
                            "<tr><td>327</td><td>600</td><td>513</td></tr>",
                            "<tr><td>328</td><td>750</td><td>476</td></tr>",
                            "<tr><td>328</td><td>750</td><td>568</td></tr>",
                            "<tr><td>328</td><td>750</td><td>585</td></tr>",
                            "<tr><td>329</td><td>750</td><td>467</td></tr>",
                            "<tr><td>329</td><td>750</td><td>558</td></tr>",
                            "<tr><td>329</td><td>750</td><td>576</td></tr>",
                            "<tr><td>330</td><td>750</td><td>457</td></tr>",
                            "<tr><td>330</td><td>750</td><td>548</td></tr>",
                            "<tr><td>330</td><td>750</td><td>566</td></tr>",
                            "<tr><td>331</td><td>600</td><td>390</td></tr>",
                            "<tr><td>331</td><td>600</td><td>441</td></tr>",
                            "<tr><td>331</td><td>600</td><td>574</td></tr>",
                            "<tr><td>332</td><td>375</td><td>233</td></tr>",
                            "<tr><td>332</td><td>375</td><td>267</td></tr>",
                            "<tr><td>332</td><td>375</td><td>344</td></tr>",
                            "<tr><td>341</td><td>750</td><td>339</td></tr>",
                            "<tr><td>341</td><td>750</td><td>372</td></tr>",
                            "<tr><td>341</td><td>750</td><td>392</td></tr>",
                            "<tr><td>342</td><td>750</td><td>336</td></tr>",
                            "<tr><td>342</td><td>750</td><td>369</td></tr>",
                            "<tr><td>342</td><td>750</td><td>388</td></tr>",
                            "<tr><td>343</td><td>750</td><td>499</td></tr>",
                            "<tr><td>343</td><td>750</td><td>568</td></tr>",
                            "<tr><td>343</td><td>750</td><td>606</td></tr>",
                            "<tr><td>344</td><td>750</td><td>332</td></tr>",
                            "<tr><td>344</td><td>750</td><td>358</td></tr>",
                            "<tr><td>344</td><td>750</td><td>382</td></tr>",
                            "<tr><td>345</td><td>750</td><td>300</td></tr>",
                            "<tr><td>345</td><td>750</td><td>315</td></tr>",
                            "<tr><td>345</td><td>750</td><td>321</td></tr>",
                            "<tr><td>346</td><td>750</td><td>476</td></tr>",
                            "<tr><td>346</td><td>750</td><td>585</td></tr>",
                            "<tr><td>346</td><td>750</td><td>641</td></tr>",
                            "<tr><td>347</td><td>750</td><td>246</td></tr>",
                            "<tr><td>347</td><td>750</td><td>318</td></tr>",
                            "<tr><td>347</td><td>750</td><td>332</td></tr>",
                            "<tr><td>348</td><td>750</td><td>251</td></tr>",
                            "<tr><td>348</td><td>750</td><td>323</td></tr>",
                            "<tr><td>348</td><td>750</td><td>337</td></tr>",
                            "<tr><td>349</td><td>750</td><td>256</td></tr>",
                            "<tr><td>349</td><td>750</td><td>328</td></tr>",
                            "<tr><td>349</td><td>750</td><td>342</td></tr>",
                            "<tr><td>350</td><td>600</td><td>313</td></tr>",
                            "<tr><td>350</td><td>600</td><td>406</td></tr>",
                            "<tr><td>351</td><td>600</td><td>145</td></tr>",
                            "<tr><td>351</td><td>600</td><td>179</td></tr>",
                            "<tr><td>351</td><td>600</td><td>281</td></tr>",
                            "<tr><td>352</td><td>600</td><td>195</td></tr>",
                            "<tr><td>352</td><td>600</td><td>278</td></tr>",
                            "<tr><td>352</td><td>600</td><td>300</td></tr>",
                            "<tr><td>355</td><td>600</td><td>257</td></tr>",
                            "<tr><td>355</td><td>600</td><td>276</td></tr>",
                            "<tr><td>355</td><td>600</td><td>289</td></tr>",
                            "<tr><td>356</td><td>600</td><td>243</td></tr>",
                            "<tr><td>356</td><td>600</td><td>262</td></tr>",
                            "<tr><td>356</td><td>600</td><td>275</td></tr>",
                            "<tr><td>357</td><td>600</td><td>228</td></tr>",
                            "<tr><td>357</td><td>600</td><td>248</td></tr>",
                            "<tr><td>357</td><td>600</td><td>260</td></tr>",
                            "<tr><td>358</td><td>600</td><td>214</td></tr>",
                            "<tr><td>358</td><td>600</td><td>233</td></tr>",
                            "<tr><td>358</td><td>600</td><td>246</td></tr>",
                            "<tr><td>359</td><td>750</td><td>360</td></tr>",
                            "<tr><td>359</td><td>750</td><td>369</td></tr>",
                            "<tr><td>359</td><td>750</td><td>374</td></tr>",
                            "<tr><td>360</td><td>750</td><td>353</td></tr>",
                            "<tr><td>360</td><td>750</td><td>363</td></tr>",
                            "<tr><td>360</td><td>750</td><td>368</td></tr>",
                            "<tr><td>361</td><td>750</td><td>499</td></tr>",
                            "<tr><td>361</td><td>750</td><td>531</td></tr>",
                            "<tr><td>361</td><td>750</td><td>601</td></tr>",
                            "<tr><td>362</td><td>750</td><td>315</td></tr>",
                            "<tr><td>362</td><td>750</td><td>334</td></tr>",
                            "<tr><td>362</td><td>750</td><td>377</td></tr>",
                            "<tr><td>363</td><td>750</td><td>499</td></tr>",
                            "<tr><td>363</td><td>750</td><td>619</td></tr>",
                            "<tr><td>363</td><td>750</td><td>643</td></tr>",
                            "<tr><td>364</td><td>750</td><td>326</td></tr>",
                            "<tr><td>364</td><td>750</td><td>358</td></tr>",
                            "<tr><td>364</td><td>750</td><td>368</td></tr>",
                            "<tr><td>365</td><td>750</td><td>411</td></tr>",
                            "<tr><td>365</td><td>750</td><td>619</td></tr>",
                            "<tr><td>365</td><td>750</td><td>691</td></tr>",
                            "<tr><td>366</td><td>750</td><td>299</td></tr>",
                            "<tr><td>366</td><td>750</td><td>318</td></tr>",
                            "<tr><td>366</td><td>750</td><td>412</td></tr>",
                            "<tr><td>367</td><td>750</td><td>569</td></tr>",
                            "<tr><td>367</td><td>750</td><td>643</td></tr>",
                            "<tr><td>367</td><td>750</td><td>689</td></tr>",
                            "<tr><td>368</td><td>750</td><td>360</td></tr>",
                            "<tr><td>368</td><td>750</td><td>369</td></tr>",
                            "<tr><td>368</td><td>750</td><td>374</td></tr>",
                            "<tr><td>369</td><td>750</td><td>353</td></tr>",
                            "<tr><td>369</td><td>750</td><td>363</td></tr>",
                            "<tr><td>369</td><td>750</td><td>368</td></tr>",
                            "<tr><td>370</td><td>750</td><td>155</td></tr>",
                            "<tr><td>370</td><td>750</td><td>252</td></tr>",
                            "<tr><td>370</td><td>750</td><td>476</td></tr>",
                            "<tr><td>371</td><td>750</td><td>547</td></tr>",
                            "<tr><td>371</td><td>750</td><td>585</td></tr>",
                            "<tr><td>371</td><td>750</td><td>649</td></tr>",
                            "<tr><td>372</td><td>750</td><td>272</td></tr>",
                            "<tr><td>372</td><td>750</td><td>281</td></tr>",
                            "<tr><td>372</td><td>750</td><td>344</td></tr>",
                            "<tr><td>373</td><td>750</td><td>275</td></tr>",
                            "<tr><td>373</td><td>750</td><td>284</td></tr>",
                            "<tr><td>373</td><td>750</td><td>347</td></tr>",
                            "<tr><td>374</td><td>750</td><td>278</td></tr>",
                            "<tr><td>374</td><td>750</td><td>288</td></tr>",
                            "<tr><td>374</td><td>750</td><td>350</td></tr>",
                            "<tr><td>375</td><td>750</td><td>281</td></tr>",
                            "<tr><td>375</td><td>750</td><td>291</td></tr>",
                            "<tr><td>375</td><td>750</td><td>353</td></tr>",
                            "<tr><td>376</td><td>750</td><td>547</td></tr>",
                            "<tr><td>376</td><td>750</td><td>585</td></tr>",
                            "<tr><td>376</td><td>750</td><td>649</td></tr>",
                            "<tr><td>377</td><td>750</td><td>249</td></tr>",
                            "<tr><td>377</td><td>750</td><td>299</td></tr>",
                            "<tr><td>377</td><td>750</td><td>393</td></tr>",
                            "<tr><td>378</td><td>750</td><td>244</td></tr>",
                            "<tr><td>378</td><td>750</td><td>294</td></tr>",
                            "<tr><td>378</td><td>750</td><td>388</td></tr>",
                            "<tr><td>379</td><td>750</td><td>323</td></tr>",
                            "<tr><td>379</td><td>750</td><td>691</td></tr>",
                            "<tr><td>380</td><td>750</td><td>156</td></tr>",
                            "<tr><td>380</td><td>750</td><td>264</td></tr>",
                            "<tr><td>380</td><td>750</td><td>350</td></tr>",
                            "<tr><td>381</td><td>750</td><td>163</td></tr>",
                            "<tr><td>381</td><td>750</td><td>270</td></tr>",
                            "<tr><td>381</td><td>750</td><td>356</td></tr>",
                            "<tr><td>382</td><td>750</td><td>169</td></tr>",
                            "<tr><td>382</td><td>750</td><td>276</td></tr>",
                            "<tr><td>382</td><td>750</td><td>363</td></tr>",
                            "<tr><td>383</td><td>750</td><td>587</td></tr>",
                            "<tr><td>383</td><td>750</td><td>638</td></tr>",
                            "<tr><td>383</td><td>750</td><td>676</td></tr>",
                            "<tr><td>384</td><td>750</td><td>217</td></tr>",
                            "<tr><td>384</td><td>750</td><td>299</td></tr>",
                            "<tr><td>384</td><td>750</td><td>304</td></tr>",
                            "<tr><td>385</td><td>750</td><td>526</td></tr>",
                            "<tr><td>385</td><td>750</td><td>619</td></tr>",
                            "<tr><td>385</td><td>750</td><td>633</td></tr>",
                            "<tr><td>386</td><td>750</td><td>148</td></tr>",
                            "<tr><td>386</td><td>750</td><td>192</td></tr>",
                            "<tr><td>386</td><td>750</td><td>385</td></tr>",
                            "<tr><td>387</td><td>750</td><td>524</td></tr>",
                            "<tr><td>387</td><td>750</td><td>654</td></tr>",
                            "<tr><td>387</td><td>750</td><td>710</td></tr>",
                            "<tr><td>388</td><td>750</td><td>140</td></tr>",
                            "<tr><td>388</td><td>750</td><td>292</td></tr>",
                            "<tr><td>388</td><td>750</td><td>366</td></tr>",
                            "<tr><td>389</td><td>750</td><td>460</td></tr>",
                            "<tr><td>389</td><td>750</td><td>657</td></tr>",
                            "<tr><td>389</td><td>750</td><td>691</td></tr>",
                            "<tr><td>390</td><td>750</td><td>140</td></tr>",
                            "<tr><td>390</td><td>750</td><td>292</td></tr>",
                            "<tr><td>390</td><td>750</td><td>366</td></tr>",
                            "<tr><td>391</td><td>750</td><td>144</td></tr>",
                            "<tr><td>391</td><td>750</td><td>296</td></tr>",
                            "<tr><td>391</td><td>750</td><td>369</td></tr>",
                            "<tr><td>392</td><td>750</td><td>147</td></tr>",
                            "<tr><td>392</td><td>750</td><td>299</td></tr>",
                            "<tr><td>392</td><td>750</td><td>372</td></tr>",
                            "<tr><td>393</td><td>750</td><td>497</td></tr>",
                            "<tr><td>393</td><td>750</td><td>603</td></tr>",
                            "<tr><td>394</td><td>750</td><td>150</td></tr>",
                            "<tr><td>394</td><td>750</td><td>302</td></tr>",
                            "<tr><td>394</td><td>750</td><td>459</td></tr>",
                            "<tr><td>395</td><td>750</td><td>148</td></tr>",
                            "<tr><td>395</td><td>750</td><td>281</td></tr>",
                            "<tr><td>395</td><td>750</td><td>355</td></tr>",
                            "<tr><td>396</td><td>750</td><td>585</td></tr>",
                            "<tr><td>396</td><td>750</td><td>603</td></tr>",
                            "<tr><td>396</td><td>750</td><td>636</td></tr>",
                            "<tr><td>397</td><td>750</td><td>339</td></tr>",
                            "<tr><td>397</td><td>750</td><td>550</td></tr>",
                            "<tr><td>398</td><td>600</td><td>372</td></tr>",
                            "<tr><td>398</td><td>600</td><td>404</td></tr>",
                            "<tr><td>398</td><td>600</td><td>550</td></tr>",
                            "<tr><td>399</td><td>600</td><td>366</td></tr>",
                            "<tr><td>399</td><td>600</td><td>398</td></tr>",
                            "<tr><td>399</td><td>600</td><td>544</td></tr>",
                            "<tr><td>400</td><td>375</td><td>246</td></tr>",
                            "<tr><td>400</td><td>375</td><td>260</td></tr>",
                            "<tr><td>400</td><td>375</td><td>284</td></tr>",
                            "<tr><td>401</td><td>375</td><td>212</td></tr>",
                            "<tr><td>401</td><td>375</td><td>283</td></tr>",
                            "<tr><td>401</td><td>375</td><td>302</td></tr>",
                            "<tr><td>402</td><td>750</td><td>316</td></tr>",
                            "<tr><td>402</td><td>750</td><td>321</td></tr>",
                            "<tr><td>402</td><td>750</td><td>353</td></tr>",
                            "<tr><td>403</td><td>750</td><td>313</td></tr>",
                            "<tr><td>403</td><td>750</td><td>318</td></tr>",
                            "<tr><td>403</td><td>750</td><td>350</td></tr>",
                            "<tr><td>404</td><td>750</td><td>310</td></tr>",
                            "<tr><td>404</td><td>750</td><td>315</td></tr>",
                            "<tr><td>404</td><td>750</td><td>347</td></tr>",
                            "<tr><td>405</td><td>750</td><td>307</td></tr>",
                            "<tr><td>405</td><td>750</td><td>312</td></tr>",
                            "<tr><td>405</td><td>750</td><td>344</td></tr>",
                            "<tr><td>406</td><td>750</td><td>304</td></tr>",
                            "<tr><td>406</td><td>750</td><td>308</td></tr>",
                            "<tr><td>406</td><td>750</td><td>340</td></tr>",
                            "<tr><td>407</td><td>750</td><td>460</td></tr>",
                            "<tr><td>407</td><td>750</td><td>587</td></tr>",
                            "<tr><td>407</td><td>750</td><td>625</td></tr>",
                            "<tr><td>408</td><td>750</td><td>296</td></tr>",
                            "<tr><td>408</td><td>750</td><td>344</td></tr>",
                            "<tr><td>408</td><td>750</td><td>417</td></tr>",
                            "<tr><td>409</td><td>750</td><td>292</td></tr>",
                            "<tr><td>409</td><td>750</td><td>340</td></tr>",
                            "<tr><td>409</td><td>750</td><td>414</td></tr>",
                            "<tr><td>410</td><td>750</td><td>289</td></tr>",
                            "<tr><td>410</td><td>750</td><td>337</td></tr>",
                            "<tr><td>410</td><td>750</td><td>411</td></tr>",
                            "<tr><td>411</td><td>750</td><td>459</td></tr>",
                            "<tr><td>411</td><td>750</td><td>552</td></tr>",
                            "<tr><td>411</td><td>750</td><td>603</td></tr>",
                            "<tr><td>412</td><td>750</td><td>156</td></tr>",
                            "<tr><td>412</td><td>750</td><td>299</td></tr>",
                            "<tr><td>412</td><td>750</td><td>321</td></tr>",
                            "<tr><td>413</td><td>750</td><td>459</td></tr>",
                            "<tr><td>413</td><td>750</td><td>603</td></tr>",
                            "<tr><td>413</td><td>750</td><td>641</td></tr>",
                            "<tr><td>414</td><td>750</td><td>321</td></tr>",
                            "<tr><td>414</td><td>750</td><td>371</td></tr>",
                            "<tr><td>414</td><td>750</td><td>427</td></tr>",
                            "<tr><td>415</td><td>750</td><td>316</td></tr>",
                            "<tr><td>415</td><td>750</td><td>366</td></tr>",
                            "<tr><td>415</td><td>750</td><td>422</td></tr>",
                            "<tr><td>416</td><td>750</td><td>312</td></tr>",
                            "<tr><td>416</td><td>750</td><td>361</td></tr>",
                            "<tr><td>416</td><td>750</td><td>417</td></tr>",
                            "<tr><td>417</td><td>750</td><td>516</td></tr>",
                            "<tr><td>417</td><td>750</td><td>572</td></tr>",
                            "<tr><td>417</td><td>750</td><td>627</td></tr>",
                            "<tr><td>418</td><td>750</td><td>248</td></tr>",
                            "<tr><td>418</td><td>750</td><td>283</td></tr>",
                            "<tr><td>418</td><td>750</td><td>388</td></tr>",
                            "<tr><td>419</td><td>750</td><td>246</td></tr>",
                            "<tr><td>419</td><td>750</td><td>281</td></tr>",
                            "<tr><td>419</td><td>750</td><td>387</td></tr>",
                            "<tr><td>420</td><td>750</td><td>244</td></tr>",
                            "<tr><td>420</td><td>750</td><td>280</td></tr>",
                            "<tr><td>420</td><td>750</td><td>385</td></tr>",
                            "<tr><td>421</td><td>750</td><td>243</td></tr>",
                            "<tr><td>421</td><td>750</td><td>278</td></tr>",
                            "<tr><td>421</td><td>750</td><td>384</td></tr>",
                            "<tr><td>422</td><td>750</td><td>497</td></tr>",
                            "<tr><td>422</td><td>750</td><td>515</td></tr>",
                            "<tr><td>422</td><td>750</td><td>620</td></tr>",
                            "<tr><td>423</td><td>750</td><td>496</td></tr>",
                            "<tr><td>423</td><td>750</td><td>513</td></tr>",
                            "<tr><td>423</td><td>750</td><td>619</td></tr>",
                            "<tr><td>424</td><td>750</td><td>494</td></tr>",
                            "<tr><td>424</td><td>750</td><td>512</td></tr>",
                            "<tr><td>424</td><td>750</td><td>617</td></tr>",
                            "<tr><td>425</td><td>750</td><td>492</td></tr>",
                            "<tr><td>425</td><td>750</td><td>510</td></tr>",
                            "<tr><td>425</td><td>750</td><td>616</td></tr>",
                            "<tr><td>426</td><td>750</td><td>491</td></tr>",
                            "<tr><td>426</td><td>750</td><td>508</td></tr>",
                            "<tr><td>426</td><td>750</td><td>614</td></tr>",
                            "<tr><td>427</td><td>750</td><td>489</td></tr>",
                            "<tr><td>427</td><td>750</td><td>507</td></tr>",
                            "<tr><td>427</td><td>750</td><td>612</td></tr>",
                            "<tr><td>428</td><td>750</td><td>488</td></tr>",
                            "<tr><td>428</td><td>750</td><td>505</td></tr>",
                            "<tr><td>428</td><td>750</td><td>611</td></tr>",
                            "<tr><td>429</td><td>750</td><td>486</td></tr>",
                            "<tr><td>429</td><td>750</td><td>504</td></tr>",
                            "<tr><td>429</td><td>750</td><td>609</td></tr>",
                            "<tr><td>430</td><td>750</td><td>484</td></tr>",
                            "<tr><td>430</td><td>750</td><td>502</td></tr>",
                            "<tr><td>430</td><td>750</td><td>608</td></tr>",
                            "<tr><td>431</td><td>750</td><td>488</td></tr>",
                            "<tr><td>431</td><td>750</td><td>505</td></tr>",
                            "<tr><td>431</td><td>750</td><td>611</td></tr>",
                            "<tr><td>432</td><td>750</td><td>491</td></tr>",
                            "<tr><td>432</td><td>750</td><td>508</td></tr>",
                            "<tr><td>432</td><td>750</td><td>614</td></tr>",
                            "<tr><td>433</td><td>750</td><td>494</td></tr>",
                            "<tr><td>433</td><td>750</td><td>512</td></tr>",
                            "<tr><td>433</td><td>750</td><td>617</td></tr>",
                            "<tr><td>434</td><td>750</td><td>497</td></tr>",
                            "<tr><td>434</td><td>750</td><td>515</td></tr>",
                            "<tr><td>434</td><td>750</td><td>620</td></tr>",
                            "<tr><td>435</td><td>750</td><td>500</td></tr>",
                            "<tr><td>435</td><td>750</td><td>518</td></tr>",
                            "<tr><td>435</td><td>750</td><td>624</td></tr>",
                            "<tr><td>436</td><td>750</td><td>504</td></tr>",
                            "<tr><td>436</td><td>750</td><td>521</td></tr>",
                            "<tr><td>436</td><td>750</td><td>627</td></tr>",
                            "<tr><td>437</td><td>750</td><td>507</td></tr>",
                            "<tr><td>437</td><td>750</td><td>524</td></tr>",
                            "<tr><td>437</td><td>750</td><td>630</td></tr>",
                            "<tr><td>438</td><td>750</td><td>510</td></tr>",
                            "<tr><td>438</td><td>750</td><td>528</td></tr>",
                            "<tr><td>438</td><td>750</td><td>633</td></tr>",
                            "<tr><td>439</td><td>750</td><td>513</td></tr>",
                            "<tr><td>439</td><td>750</td><td>531</td></tr>",
                            "<tr><td>439</td><td>750</td><td>636</td></tr>",
                            "<tr><td>440</td><td>750</td><td>516</td></tr>",
                            "<tr><td>440</td><td>750</td><td>534</td></tr>",
                            "<tr><td>440</td><td>750</td><td>640</td></tr>",
                            "<tr><td>441</td><td>750</td><td>512</td></tr>",
                            "<tr><td>441</td><td>750</td><td>529</td></tr>",
                            "<tr><td>441</td><td>750</td><td>635</td></tr>",
                            "<tr><td>442</td><td>750</td><td>507</td></tr>",
                            "<tr><td>442</td><td>750</td><td>524</td></tr>",
                            "<tr><td>442</td><td>750</td><td>630</td></tr>",
                            "<tr><td>443</td><td>750</td><td>502</td></tr>",
                            "<tr><td>443</td><td>750</td><td>520</td></tr>",
                            "<tr><td>443</td><td>750</td><td>625</td></tr>",
                            "<tr><td>444</td><td>750</td><td>497</td></tr>",
                            "<tr><td>444</td><td>750</td><td>515</td></tr>",
                            "<tr><td>444</td><td>750</td><td>620</td></tr>",
                            "<tr><td>445</td><td>750</td><td>492</td></tr>",
                            "<tr><td>445</td><td>750</td><td>510</td></tr>",
                            "<tr><td>445</td><td>750</td><td>616</td></tr>",
                            "<tr><td>446</td><td>750</td><td>488</td></tr>",
                            "<tr><td>446</td><td>750</td><td>505</td></tr>",
                            "<tr><td>446</td><td>750</td><td>611</td></tr>",
                            "<tr><td>447</td><td>750</td><td>483</td></tr>",
                            "<tr><td>447</td><td>750</td><td>500</td></tr>",
                            "<tr><td>447</td><td>750</td><td>606</td></tr>",
                            "<tr><td>448</td><td>750</td><td>478</td></tr>",
                            "<tr><td>448</td><td>750</td><td>496</td></tr>",
                            "<tr><td>448</td><td>750</td><td>601</td></tr>",
                            "<tr><td>449</td><td>750</td><td>473</td></tr>",
                            "<tr><td>449</td><td>750</td><td>491</td></tr>",
                            "<tr><td>449</td><td>750</td><td>596</td></tr>",
                            "<tr><td>450</td><td>750</td><td>468</td></tr>",
                            "<tr><td>450</td><td>750</td><td>486</td></tr>",
                            "<tr><td>450</td><td>750</td><td>592</td></tr>",
                            "<tr><td>451</td><td>750</td><td>472</td></tr>",
                            "<tr><td>451</td><td>750</td><td>489</td></tr>",
                            "<tr><td>451</td><td>750</td><td>595</td></tr>",
                            "<tr><td>452</td><td>750</td><td>475</td></tr>",
                            "<tr><td>452</td><td>750</td><td>492</td></tr>",
                            "<tr><td>452</td><td>750</td><td>598</td></tr>",
                            "<tr><td>453</td><td>750</td><td>478</td></tr>",
                            "<tr><td>453</td><td>750</td><td>496</td></tr>",
                            "<tr><td>453</td><td>750</td><td>601</td></tr>",
                            "<tr><td>454</td><td>750</td><td>481</td></tr>",
                            "<tr><td>454</td><td>750</td><td>499</td></tr>",
                            "<tr><td>454</td><td>750</td><td>604</td></tr>",
                            "<tr><td>455</td><td>750</td><td>484</td></tr>",
                            "<tr><td>455</td><td>750</td><td>502</td></tr>",
                            "<tr><td>455</td><td>750</td><td>608</td></tr>",
                            "<tr><td>456</td><td>750</td><td>488</td></tr>",
                            "<tr><td>456</td><td>750</td><td>505</td></tr>",
                            "<tr><td>456</td><td>750</td><td>611</td></tr>",
                            "<tr><td>457</td><td>750</td><td>491</td></tr>",
                            "<tr><td>457</td><td>750</td><td>508</td></tr>",
                            "<tr><td>457</td><td>750</td><td>614</td></tr>",
                            "<tr><td>458</td><td>750</td><td>494</td></tr>",
                            "<tr><td>458</td><td>750</td><td>512</td></tr>",
                            "<tr><td>458</td><td>750</td><td>617</td></tr>",
                            "<tr><td>459</td><td>750</td><td>497</td></tr>",
                            "<tr><td>459</td><td>750</td><td>515</td></tr>",
                            "<tr><td>459</td><td>750</td><td>620</td></tr>",
                            "<tr><td>460</td><td>750</td><td>500</td></tr>",
                            "<tr><td>460</td><td>750</td><td>518</td></tr>",
                            "<tr><td>460</td><td>750</td><td>624</td></tr>",
                            "<tr><td>461</td><td>750</td><td>504</td></tr>",
                            "<tr><td>461</td><td>750</td><td>521</td></tr>",
                            "<tr><td>461</td><td>750</td><td>627</td></tr>",
                            "<tr><td>462</td><td>750</td><td>187</td></tr>",
                            "<tr><td>462</td><td>750</td><td>204</td></tr>",
                            "<tr><td>462</td><td>750</td><td>310</td></tr>",
                            "<tr><td>463</td><td>750</td><td>499</td></tr>",
                            "<tr><td>463</td><td>750</td><td>566</td></tr>",
                            "<tr><td>463</td><td>750</td><td>620</td></tr>",
                            "<tr><td>464</td><td>750</td><td>500</td></tr>",
                            "<tr><td>464</td><td>750</td><td>568</td></tr>",
                            "<tr><td>464</td><td>750</td><td>622</td></tr>",
                            "<tr><td>465</td><td>750</td><td>502</td></tr>",
                            "<tr><td>465</td><td>750</td><td>569</td></tr>",
                            "<tr><td>465</td><td>750</td><td>624</td></tr>",
                            "<tr><td>466</td><td>750</td><td>504</td></tr>",
                            "<tr><td>466</td><td>750</td><td>571</td></tr>",
                            "<tr><td>466</td><td>750</td><td>625</td></tr>",
                            "<tr><td>467</td><td>750</td><td>505</td></tr>",
                            "<tr><td>467</td><td>750</td><td>572</td></tr>",
                            "<tr><td>467</td><td>750</td><td>627</td></tr>",
                            "<tr><td>468</td><td>750</td><td>507</td></tr>",
                            "<tr><td>468</td><td>750</td><td>574</td></tr>",
                            "<tr><td>468</td><td>750</td><td>628</td></tr>",
                            "<tr><td>469</td><td>750</td><td>508</td></tr>",
                            "<tr><td>469</td><td>750</td><td>576</td></tr>",
                            "<tr><td>469</td><td>750</td><td>630</td></tr>",
                            "<tr><td>470</td><td>750</td><td>510</td></tr>",
                            "<tr><td>470</td><td>750</td><td>577</td></tr>",
                            "<tr><td>470</td><td>750</td><td>632</td></tr>",
                            "<tr><td>471</td><td>750</td><td>512</td></tr>",
                            "<tr><td>471</td><td>750</td><td>579</td></tr>",
                            "<tr><td>471</td><td>750</td><td>633</td></tr>",
                            "<tr><td>472</td><td>750</td><td>513</td></tr>",
                            "<tr><td>472</td><td>750</td><td>580</td></tr>",
                            "<tr><td>472</td><td>750</td><td>635</td></tr>",
                            "<tr><td>473</td><td>750</td><td>515</td></tr>",
                            "<tr><td>473</td><td>750</td><td>582</td></tr>",
                            "<tr><td>473</td><td>750</td><td>636</td></tr>",
                            "<tr><td>474</td><td>750</td><td>516</td></tr>",
                            "<tr><td>474</td><td>750</td><td>584</td></tr>",
                            "<tr><td>474</td><td>750</td><td>638</td></tr>",
                            "<tr><td>475</td><td>750</td><td>518</td></tr>",
                            "<tr><td>475</td><td>750</td><td>585</td></tr>",
                            "<tr><td>475</td><td>750</td><td>640</td></tr>",
                            "<tr><td>476</td><td>750</td><td>324</td></tr>",
                            "<tr><td>476</td><td>750</td><td>355</td></tr>",
                            "<tr><td>476</td><td>750</td><td>404</td></tr>",
                            "<tr><td>477</td><td>750</td><td>323</td></tr>",
                            "<tr><td>477</td><td>750</td><td>353</td></tr>",
                            "<tr><td>477</td><td>750</td><td>403</td></tr>",
                            "<tr><td>478</td><td>750</td><td>497</td></tr>",
                            "<tr><td>478</td><td>750</td><td>568</td></tr>",
                            "<tr><td>478</td><td>750</td><td>622</td></tr>",
                            "<tr><td>479</td><td>750</td><td>198</td></tr>",
                            "<tr><td>479</td><td>750</td><td>390</td></tr>",
                            "<tr><td>479</td><td>750</td><td>441</td></tr>",
                            "<tr><td>480</td><td>750</td><td>457</td></tr>",
                            "<tr><td>480</td><td>750</td><td>515</td></tr>",
                            "<tr><td>480</td><td>750</td><td>689</td></tr>",
                            "<tr><td>481</td><td>750</td><td>196</td></tr>",
                            "<tr><td>481</td><td>750</td><td>374</td></tr>",
                            "<tr><td>481</td><td>750</td><td>427</td></tr>",
                            "<tr><td>482</td><td>750</td><td>176</td></tr>",
                            "<tr><td>482</td><td>750</td><td>321</td></tr>",
                            "<tr><td>482</td><td>750</td><td>427</td></tr>",
                            "<tr><td>483</td><td>750</td><td>459</td></tr>",
                            "<tr><td>483</td><td>750</td><td>531</td></tr>",
                            "<tr><td>483</td><td>750</td><td>691</td></tr>",
                            "<tr><td>484</td><td>750</td><td>196</td></tr>",
                            "<tr><td>484</td><td>750</td><td>374</td></tr>",
                            "<tr><td>484</td><td>750</td><td>427</td></tr>",
                            "<tr><td>485</td><td>750</td><td>176</td></tr>",
                            "<tr><td>485</td><td>750</td><td>321</td></tr>",
                            "<tr><td>485</td><td>750</td><td>427</td></tr>",
                            "<tr><td>486</td><td>750</td><td>457</td></tr>",
                            "<tr><td>486</td><td>750</td><td>515</td></tr>",
                            "<tr><td>486</td><td>750</td><td>689</td></tr>",
                            "<tr><td>487</td><td>750</td><td>324</td></tr>",
                            "<tr><td>487</td><td>750</td><td>331</td></tr>",
                            "<tr><td>487</td><td>750</td><td>337</td></tr>",
                            "<tr><td>488</td><td>750</td><td>305</td></tr>",
                            "<tr><td>488</td><td>750</td><td>312</td></tr>",
                            "<tr><td>488</td><td>750</td><td>318</td></tr>",
                            "<tr><td>489</td><td>750</td><td>606</td></tr>",
                            "<tr><td>489</td><td>750</td><td>612</td></tr>",
                            "<tr><td>489</td><td>750</td><td>619</td></tr>",
                            "<tr><td>490</td><td>750</td><td>587</td></tr>",
                            "<tr><td>490</td><td>750</td><td>593</td></tr>",
                            "<tr><td>490</td><td>750</td><td>600</td></tr>",
                            "<tr><td>491</td><td>750</td><td>248</td></tr>",
                            "<tr><td>491</td><td>750</td><td>254</td></tr>",
                            "<tr><td>491</td><td>750</td><td>420</td></tr>",
                            "<tr><td>492</td><td>45</td><td>14</td></tr>",
                            "<tr><td>492</td><td>45</td><td>16</td></tr>",
                            "<tr><td>492</td><td>45</td><td>17</td></tr>",
                            "<tr><td>493</td><td>45</td><td>24</td></tr>",
                            "<tr><td>493</td><td>45</td><td>28</td></tr>",
                            "<tr><td>493</td><td>45</td><td>41</td></tr>",
                            "<tr><td>494</td><td>45</td><td>4</td></tr>",
                            "<tr><td>494</td><td>45</td><td>12</td></tr>",
                            "<tr><td>495</td><td>45</td><td>25</td></tr>",
                            "<tr><td>495</td><td>45</td><td>35</td></tr>",
                            "<tr><td>496</td><td>45</td><td>25</td></tr>",
                            "<tr><td>496</td><td>45</td><td>30</td></tr>",
                            "<tr><td>496</td><td>45</td><td>44</td></tr>",
                            "<tr><td>497</td><td>750</td><td>273</td></tr>",
                            "<tr><td>497</td><td>750</td><td>336</td></tr>",
                            "<tr><td>497</td><td>750</td><td>364</td></tr>",
                            "<tr><td>504</td><td>750</td><td>320</td></tr>",
                            "<tr><td>504</td><td>750</td><td>372</td></tr>",
                            "<tr><td>504</td><td>750</td><td>392</td></tr>",
                            "<tr><td>505</td><td>750</td><td>283</td></tr>",
                            "<tr><td>505</td><td>750</td><td>299</td></tr>",
                            "<tr><td>505</td><td>750</td><td>388</td></tr>",
                            "<tr><td>506</td><td>750</td><td>121</td></tr>",
                            "<tr><td>506</td><td>750</td><td>316</td></tr>",
                            "<tr><td>506</td><td>750</td><td>390</td></tr>",
                            "<tr><td>507</td><td>600</td><td>542</td></tr>",
                            "<tr><td>508</td><td>600</td><td>550</td></tr>",
                            "<tr><td>509</td><td>600</td><td>558</td></tr>",
                            "<tr><td>510</td><td>600</td><td>316</td></tr>",
                            "<tr><td>510</td><td>600</td><td>406</td></tr>",
                            "<tr><td>511</td><td>600</td><td>350</td></tr>",
                            "<tr><td>511</td><td>600</td><td>390</td></tr>",
                            "<tr><td>512</td><td>600</td><td>281</td></tr>",
                            "<tr><td>512</td><td>600</td><td>334</td></tr>",
                            "<tr><td>514</td><td>375</td><td>212</td></tr>",
                            "<tr><td>514</td><td>375</td><td>267</td></tr>",
                            "<tr><td>514</td><td>375</td><td>318</td></tr>",
                            "<tr><td>515</td><td>375</td><td>214</td></tr>",
                            "<tr><td>515</td><td>375</td><td>268</td></tr>",
                            "<tr><td>515</td><td>375</td><td>320</td></tr>",
                            "<tr><td>516</td><td>375</td><td>216</td></tr>",
                            "<tr><td>516</td><td>375</td><td>270</td></tr>",
                            "<tr><td>516</td><td>375</td><td>321</td></tr>",
                            "<tr><td>517</td><td>375</td><td>217</td></tr>",
                            "<tr><td>517</td><td>375</td><td>272</td></tr>",
                            "<tr><td>517</td><td>375</td><td>323</td></tr>",
                            "<tr><td>518</td><td>375</td><td>219</td></tr>",
                            "<tr><td>518</td><td>375</td><td>273</td></tr>",
                            "<tr><td>518</td><td>375</td><td>324</td></tr>",
                            "<tr><td>519</td><td>375</td><td>220</td></tr>",
                            "<tr><td>519</td><td>375</td><td>275</td></tr>",
                            "<tr><td>519</td><td>375</td><td>326</td></tr>",
                            "<tr><td>520</td><td>375</td><td>222</td></tr>",
                            "<tr><td>520</td><td>375</td><td>276</td></tr>",
                            "<tr><td>520</td><td>375</td><td>328</td></tr>",
                            "<tr><td>521</td><td>375</td><td>224</td></tr>",
                            "<tr><td>521</td><td>375</td><td>278</td></tr>",
                            "<tr><td>521</td><td>375</td><td>329</td></tr>",
                            "<tr><td>522</td><td>375</td><td>225</td></tr>",
                            "<tr><td>522</td><td>375</td><td>280</td></tr>",
                            "<tr><td>522</td><td>375</td><td>331</td></tr>",
                            "<tr><td>523</td><td>375</td><td>139</td></tr>",
                            "<tr><td>523</td><td>375</td><td>164</td></tr>",
                            "<tr><td>523</td><td>375</td><td>209</td></tr>",
                            "<tr><td>524</td><td>375</td><td>107</td></tr>",
                            "<tr><td>524</td><td>375</td><td>124</td></tr>",
                            "<tr><td>524</td><td>375</td><td>228</td></tr>",
                            "<tr><td>526</td><td>600</td><td>587</td></tr>",
                            "<tr><td>527</td><td>750</td><td>702</td></tr>",
                            "<tr><td>528</td><td>750</td><td>729</td></tr>",
                            "<tr><td>529</td><td>375</td><td>371</td></tr>",
                            "<tr><td>530</td><td>375</td><td>336</td></tr>",
                            "<tr><td>531</td><td>375</td><td>374</td></tr>",
                            "<tr><td>532</td><td>600</td><td>542</td></tr>",
                            "<tr><td>534</td><td>375</td><td>278</td></tr>",
                            "<tr><td>535</td><td>600</td><td>409</td></tr>",
                            "<tr><td>535</td><td>600</td><td>427</td></tr>",
                            "<tr><td>679</td><td>375</td><td>121</td></tr>",
                            "<tr><td>679</td><td>375</td><td>136</td></tr>",
                            "<tr><td>679</td><td>375</td><td>164</td></tr>",
                            "<tr><td>747</td><td>375</td><td>107</td></tr>",
                            "<tr><td>747</td><td>375</td><td>121</td></tr>",
                            "<tr><td>747</td><td>375</td><td>137</td></tr>",
                            "<tr><td>747</td><td>375</td><td>148</td></tr>",
                            "<tr><td>747</td><td>375</td><td>160</td></tr>",
                            "<tr><td>747</td><td>375</td><td>161</td></tr>",
                            "<tr><td>748</td><td>375</td><td>91</td></tr>",
                            "<tr><td>748</td><td>375</td><td>105</td></tr>",
                            "<tr><td>748</td><td>375</td><td>121</td></tr>",
                            "<tr><td>748</td><td>375</td><td>132</td></tr>",
                            "<tr><td>748</td><td>375</td><td>144</td></tr>",
                            "<tr><td>748</td><td>375</td><td>145</td></tr>",
                            "<tr><td>749</td><td>75</td><td>60</td></tr>",
                            "<tr><td>749</td><td>75</td><td>73</td></tr>",
                            "<tr><td>751</td><td>75</td><td>32</td></tr>",
                            "<tr><td>752</td><td>75</td><td>52</td></tr>",
                            "<tr><td>753</td><td>75</td><td>51</td></tr>",
                            "<tr><td>754</td><td>75</td><td>65</td></tr>",
                            "<tr><td>755</td><td>75</td><td>62</td></tr>",
                            "<tr><td>755</td><td>75</td><td>75</td></tr>",
                            "<tr><td>756</td><td>75</td><td>30</td></tr>",
                            "<tr><td>757</td><td>75</td><td>56</td></tr>",
                            "<tr><td>758</td><td>75</td><td>49</td></tr>",
                            "<tr><td>759</td><td>75</td><td>51</td></tr>",
                            "<tr><td>761</td><td>75</td><td>67</td></tr>",
                            "<tr><td>762</td><td>75</td><td>62</td></tr>",
                            "<tr><td>762</td><td>75</td><td>75</td></tr>",
                            "<tr><td>764</td><td>75</td><td>32</td></tr>",
                            "<tr><td>765</td><td>75</td><td>56</td></tr>",
                            "<tr><td>766</td><td>75</td><td>49</td></tr>",
                            "<tr><td>768</td><td>75</td><td>67</td></tr>",
                            "<tr><td>769</td><td>75</td><td>60</td></tr>",
                            "<tr><td>769</td><td>75</td><td>73</td></tr>",
                            "<tr><td>771</td><td>75</td><td>49</td></tr>",
                            "<tr><td>772</td><td>75</td><td>65</td></tr>",
                            "<tr><td>773</td><td>75</td><td>75</td></tr>",
                            "<tr><td>774</td><td>75</td><td>62</td></tr>",
                            "<tr><td>775</td><td>75</td><td>56</td></tr>",
                            "<tr><td>777</td><td>75</td><td>49</td></tr>",
                            "<tr><td>778</td><td>75</td><td>65</td></tr>",
                            "<tr><td>779</td><td>75</td><td>62</td></tr>",
                            "<tr><td>779</td><td>75</td><td>75</td></tr>",
                            "<tr><td>781</td><td>75</td><td>32</td></tr>",
                            "<tr><td>783</td><td>75</td><td>65</td></tr>",
                            "<tr><td>784</td><td>75</td><td>62</td></tr>",
                            "<tr><td>784</td><td>75</td><td>75</td></tr>",
                            "<tr><td>785</td><td>75</td><td>62</td></tr>",
                            "<tr><td>785</td><td>75</td><td>75</td></tr>",
                            "<tr><td>787</td><td>75</td><td>32</td></tr>",
                            "<tr><td>788</td><td>75</td><td>52</td></tr>",
                            "<tr><td>789</td><td>75</td><td>51</td></tr>",
                            "<tr><td>791</td><td>75</td><td>67</td></tr>",
                            "<tr><td>793</td><td>75</td><td>56</td></tr>",
                            "<tr><td>794</td><td>75</td><td>49</td></tr>",
                            "<tr><td>796</td><td>75</td><td>65</td></tr>",
                            "<tr><td>797</td><td>75</td><td>67</td></tr>",
                            "<tr><td>798</td><td>75</td><td>60</td></tr>",
                            "<tr><td>798</td><td>75</td><td>73</td></tr>",
                            "<tr><td>800</td><td>75</td><td>30</td></tr>",
                            "<tr><td>801</td><td>75</td><td>56</td></tr>",
                            "<tr><td>802</td><td>375</td><td>240</td></tr>",
                            "<tr><td>802</td><td>375</td><td>273</td></tr>",
                            "<tr><td>802</td><td>375</td><td>350</td></tr>",
                            "<tr><td>803</td><td>375</td><td>246</td></tr>",
                            "<tr><td>803</td><td>375</td><td>280</td></tr>",
                            "<tr><td>803</td><td>375</td><td>356</td></tr>",
                            "<tr><td>804</td><td>375</td><td>252</td></tr>",
                            "<tr><td>804</td><td>375</td><td>286</td></tr>",
                            "<tr><td>804</td><td>375</td><td>363</td></tr>",
                            "<tr><td>805</td><td>375</td><td>212</td></tr>",
                            "<tr><td>805</td><td>375</td><td>265</td></tr>",
                            "<tr><td>805</td><td>375</td><td>284</td></tr>",
                            "<tr><td>806</td><td>375</td><td>216</td></tr>",
                            "<tr><td>806</td><td>375</td><td>268</td></tr>",
                            "<tr><td>806</td><td>375</td><td>288</td></tr>",
                            "<tr><td>807</td><td>375</td><td>219</td></tr>",
                            "<tr><td>807</td><td>375</td><td>272</td></tr>",
                            "<tr><td>807</td><td>375</td><td>291</td></tr>",
                            "<tr><td>808</td><td>375</td><td>267</td></tr>",
                            "<tr><td>808</td><td>375</td><td>276</td></tr>",
                            "<tr><td>808</td><td>375</td><td>316</td></tr>",
                            "<tr><td>809</td><td>375</td><td>264</td></tr>",
                            "<tr><td>809</td><td>375</td><td>273</td></tr>",
                            "<tr><td>809</td><td>375</td><td>313</td></tr>",
                            "<tr><td>810</td><td>375</td><td>260</td></tr>",
                            "<tr><td>810</td><td>375</td><td>270</td></tr>",
                            "<tr><td>810</td><td>375</td><td>310</td></tr>",
                            "<tr><td>811</td><td>375</td><td>257</td></tr>",
                            "<tr><td>811</td><td>375</td><td>267</td></tr>",
                            "<tr><td>811</td><td>375</td><td>307</td></tr>",
                            "<tr><td>812</td><td>375</td><td>254</td></tr>",
                            "<tr><td>812</td><td>375</td><td>264</td></tr>",
                            "<tr><td>812</td><td>375</td><td>304</td></tr>",
                            "<tr><td>813</td><td>375</td><td>251</td></tr>",
                            "<tr><td>813</td><td>375</td><td>260</td></tr>",
                            "<tr><td>813</td><td>375</td><td>300</td></tr>",
                            "<tr><td>814</td><td>375</td><td>96</td></tr>",
                            "<tr><td>814</td><td>375</td><td>110</td></tr>",
                            "<tr><td>814</td><td>375</td><td>126</td></tr>",
                            "<tr><td>814</td><td>375</td><td>137</td></tr>",
                            "<tr><td>814</td><td>375</td><td>148</td></tr>",
                            "<tr><td>814</td><td>375</td><td>150</td></tr>",
                            "<tr><td>815</td><td>375</td><td>265</td></tr>",
                            "<tr><td>820</td><td>375</td><td>232</td></tr>",
                            "<tr><td>821</td><td>375</td><td>304</td></tr>",
                            "<tr><td>822</td><td>375</td><td>100</td></tr>",
                            "<tr><td>822</td><td>375</td><td>115</td></tr>",
                            "<tr><td>822</td><td>375</td><td>131</td></tr>",
                            "<tr><td>822</td><td>375</td><td>142</td></tr>",
                            "<tr><td>822</td><td>375</td><td>153</td></tr>",
                            "<tr><td>822</td><td>375</td><td>155</td></tr>",
                            "<tr><td>823</td><td>375</td><td>256</td></tr>",
                            "<tr><td>828</td><td>375</td><td>284</td></tr>",
                            "<tr><td>829</td><td>375</td><td>265</td></tr>",
                            "<tr><td>853</td><td>3</td><td>0</td></tr>",
                            "<tr><td>859</td><td>3</td><td>0</td></tr>",
                            "<tr><td>876</td><td>3</td><td>0</td></tr>",
                            "<tr><td>882</td><td>3</td><td>0</td></tr>",
                            "<tr><td>894</td><td>375</td><td>155</td></tr>",
                            "<tr><td>894</td><td>375</td><td>337</td></tr>",
                            "<tr><td>894</td><td>375</td><td>355</td></tr>",
                            "<tr><td>907</td><td>375</td><td>158</td></tr>",
                            "<tr><td>907</td><td>375</td><td>228</td></tr>",
                            "<tr><td>907</td><td>375</td><td>337</td></tr>",
                            "<tr><td>908</td><td>375</td><td>195</td></tr>",
                            "<tr><td>908</td><td>375</td><td>214</td></tr>",
                            "<tr><td>909</td><td>375</td><td>72</td></tr>",
                            "<tr><td>909</td><td>375</td><td>120</td></tr>",
                            "<tr><td>909</td><td>375</td><td>230</td></tr>",
                            "<tr><td>910</td><td>375</td><td>91</td></tr>",
                            "<tr><td>910</td><td>375</td><td>96</td></tr>",
                            "<tr><td>910</td><td>375</td><td>168</td></tr>",
                            "<tr><td>911</td><td>375</td><td>283</td></tr>",
                            "<tr><td>911</td><td>375</td><td>302</td></tr>",
                            "<tr><td>911</td><td>375</td><td>321</td></tr>",
                            "<tr><td>912</td><td>375</td><td>246</td></tr>",
                            "<tr><td>912</td><td>375</td><td>302</td></tr>",
                            "<tr><td>912</td><td>375</td><td>353</td></tr>",
                            "<tr><td>913</td><td>375</td><td>145</td></tr>",
                            "<tr><td>913</td><td>375</td><td>153</td></tr>",
                            "<tr><td>913</td><td>375</td><td>169</td></tr>",
                            "<tr><td>914</td><td>375</td><td>171</td></tr>",
                            "<tr><td>914</td><td>375</td><td>248</td></tr>",
                            "<tr><td>915</td><td>375</td><td>83</td></tr>",
                            "<tr><td>915</td><td>375</td><td>158</td></tr>",
                            "<tr><td>915</td><td>375</td><td>161</td></tr>",
                            "<tr><td>916</td><td>375</td><td>276</td></tr>",
                            "<tr><td>916</td><td>375</td><td>288</td></tr>",
                            "<tr><td>921</td><td>375</td><td>243</td></tr>",
                            "<tr><td>921</td><td>375</td><td>286</td></tr>",
                            "<tr><td>922</td><td>375</td><td>241</td></tr>",
                            "<tr><td>922</td><td>375</td><td>264</td></tr>",
                            "<tr><td>923</td><td>375</td><td>240</td></tr>",
                            "<tr><td>923</td><td>375</td><td>262</td></tr>",
                            "<tr><td>928</td><td>375</td><td>240</td></tr>",
                            "<tr><td>928</td><td>375</td><td>369</td></tr>",
                            "<tr><td>929</td><td>375</td><td>284</td></tr>",
                            "<tr><td>930</td><td>375</td><td>232</td></tr>",
                            "<tr><td>930</td><td>375</td><td>267</td></tr>",
                            "<tr><td>931</td><td>375</td><td>236</td></tr>",
                            "<tr><td>931</td><td>375</td><td>252</td></tr>",
                            "<tr><td>932</td><td>375</td><td>192</td></tr>",
                            "<tr><td>933</td><td>375</td><td>228</td></tr>",
                            "<tr><td>933</td><td>375</td><td>299</td></tr>",
                            "<tr><td>934</td><td>375</td><td>233</td></tr>",
                            "<tr><td>934</td><td>375</td><td>249</td></tr>",
                            "<tr><td>935</td><td>375</td><td>156</td></tr>",
                            "<tr><td>935</td><td>375</td><td>174</td></tr>",
                            "<tr><td>935</td><td>375</td><td>182</td></tr>",
                            "<tr><td>936</td><td>375</td><td>155</td></tr>",
                            "<tr><td>936</td><td>375</td><td>172</td></tr>",
                            "<tr><td>936</td><td>375</td><td>180</td></tr>",
                            "<tr><td>937</td><td>375</td><td>153</td></tr>",
                            "<tr><td>937</td><td>375</td><td>171</td></tr>",
                            "<tr><td>937</td><td>375</td><td>179</td></tr>",
                            "<tr><td>938</td><td>375</td><td>152</td></tr>",
                            "<tr><td>938</td><td>375</td><td>169</td></tr>",
                            "<tr><td>938</td><td>375</td><td>177</td></tr>",
                            "<tr><td>939</td><td>375</td><td>150</td></tr>",
                            "<tr><td>939</td><td>375</td><td>168</td></tr>",
                            "<tr><td>939</td><td>375</td><td>176</td></tr>",
                            "<tr><td>940</td><td>375</td><td>267</td></tr>",
                            "<tr><td>940</td><td>375</td><td>316</td></tr>",
                            "<tr><td>940</td><td>375</td><td>323</td></tr>",
                            "<tr><td>941</td><td>375</td><td>235</td></tr>",
                            "<tr><td>941</td><td>375</td><td>262</td></tr>",
                            "<tr><td>942</td><td>375</td><td>105</td></tr>",
                            "<tr><td>942</td><td>375</td><td>120</td></tr>",
                            "<tr><td>942</td><td>375</td><td>136</td></tr>",
                            "<tr><td>942</td><td>375</td><td>147</td></tr>",
                            "<tr><td>942</td><td>375</td><td>158</td></tr>",
                            "<tr><td>942</td><td>375</td><td>160</td></tr>",
                            "<tr><td>943</td><td>375</td><td>88</td></tr>",
                            "<tr><td>943</td><td>375</td><td>102</td></tr>",
                            "<tr><td>943</td><td>375</td><td>118</td></tr>",
                            "<tr><td>943</td><td>375</td><td>129</td></tr>",
                            "<tr><td>943</td><td>375</td><td>140</td></tr>",
                            "<tr><td>943</td><td>375</td><td>142</td></tr>",
                            "<tr><td>944</td><td>375</td><td>81</td></tr>",
                            "<tr><td>944</td><td>375</td><td>96</td></tr>",
                            "<tr><td>944</td><td>375</td><td>112</td></tr>",
                            "<tr><td>944</td><td>375</td><td>123</td></tr>",
                            "<tr><td>944</td><td>375</td><td>134</td></tr>",
                            "<tr><td>944</td><td>375</td><td>136</td></tr>",
                            "<tr><td>945</td><td>375</td><td>236</td></tr>",
                            "<tr><td>945</td><td>375</td><td>270</td></tr>",
                            "<tr><td>945</td><td>375</td><td>347</td></tr>",
                            "<tr><td>946</td><td>375</td><td>248</td></tr>",
                            "<tr><td>946</td><td>375</td><td>257</td></tr>",
                            "<tr><td>946</td><td>375</td><td>297</td></tr>",
                            "<tr><td>947</td><td>375</td><td>244</td></tr>",
                            "<tr><td>947</td><td>375</td><td>254</td></tr>",
                            "<tr><td>947</td><td>375</td><td>294</td></tr>",
                            "<tr><td>948</td><td>375</td><td>347</td></tr>",
                            "<tr><td>949</td><td>375</td><td>265</td></tr>",
                            "<tr><td>949</td><td>375</td><td>284</td></tr>",
                            "<tr><td>949</td><td>375</td><td>336</td></tr>",
                            "<tr><td>950</td><td>375</td><td>272</td></tr>",
                            "<tr><td>950</td><td>375</td><td>291</td></tr>",
                            "<tr><td>950</td><td>375</td><td>342</td></tr>",
                            "<tr><td>951</td><td>375</td><td>278</td></tr>",
                            "<tr><td>951</td><td>375</td><td>297</td></tr>",
                            "<tr><td>951</td><td>375</td><td>348</td></tr>",
                            "<tr><td>952</td><td>375</td><td>161</td></tr>",
                            "<tr><td>952</td><td>375</td><td>192</td></tr>",
                            "<tr><td>952</td><td>375</td><td>236</td></tr>",
                            "<tr><td>953</td><td>75</td><td>49</td></tr>",
                            "<tr><td>954</td><td>75</td><td>65</td></tr>",
                            "<tr><td>955</td><td>75</td><td>62</td></tr>",
                            "<tr><td>955</td><td>75</td><td>75</td></tr>",
                            "<tr><td>956</td><td>75</td><td>35</td></tr>",
                            "<tr><td>956</td><td>75</td><td>40</td></tr>",
                            "<tr><td>957</td><td>75</td><td>51</td></tr>",
                            "<tr><td>958</td><td>75</td><td>35</td></tr>",
                            "<tr><td>960</td><td>75</td><td>54</td></tr>",
                            "<tr><td>962</td><td>75</td><td>67</td></tr>",
                            "<tr><td>963</td><td>75</td><td>36</td></tr>",
                            "<tr><td>965</td><td>75</td><td>72</td></tr>",
                            "<tr><td>967</td><td>75</td><td>67</td></tr>",
                            "<tr><td>968</td><td>75</td><td>60</td></tr>",
                            "<tr><td>968</td><td>75</td><td>73</td></tr>",
                            "<tr><td>969</td><td>75</td><td>30</td></tr>",
                            "<tr><td>970</td><td>75</td><td>60</td></tr>",
                            "<tr><td>970</td><td>75</td><td>73</td></tr>",
                            "<tr><td>972</td><td>75</td><td>30</td></tr>",
                            "<tr><td>974</td><td>75</td><td>67</td></tr>",
                            "<tr><td>975</td><td>75</td><td>60</td></tr>",
                            "<tr><td>975</td><td>75</td><td>73</td></tr>",
                            "<tr><td>977</td><td>75</td><td>65</td></tr>",
                            "<tr><td>978</td><td>75</td><td>72</td></tr>",
                            "<tr><td>980</td><td>75</td><td>51</td></tr>",
                            "<tr><td>981</td><td>75</td><td>67</td></tr>",
                            "<tr><td>982</td><td>75</td><td>73</td></tr>",
                            "<tr><td>983</td><td>75</td><td>60</td></tr>",
                            "<tr><td>984</td><td>75</td><td>73</td></tr>",
                            "<tr><td>985</td><td>75</td><td>60</td></tr>",
                            "<tr><td>986</td><td>75</td><td>30</td></tr>",
                            "<tr><td>987</td><td>75</td><td>56</td></tr>",
                            "<tr><td>989</td><td>75</td><td>51</td></tr>",
                            "<tr><td>990</td><td>75</td><td>67</td></tr>",
                            "<tr><td>991</td><td>75</td><td>73</td></tr>",
                            "<tr><td>992</td><td>75</td><td>60</td></tr>",
                            "<tr><td>993</td><td>75</td><td>30</td></tr>",
                            "<tr><td>994</td><td>375</td><td>212</td></tr>",
                            "<tr><td>994</td><td>375</td><td>244</td></tr>",
                            "<tr><td>994</td><td>375</td><td>358</td></tr>",
                            "<tr><td>995</td><td>375</td><td>230</td></tr>",
                            "<tr><td>995</td><td>375</td><td>265</td></tr>",
                            "<tr><td>995</td><td>375</td><td>321</td></tr>",
                            "<tr><td>996</td><td>375</td><td>174</td></tr>",
                            "<tr><td>996</td><td>375</td><td>321</td></tr>",
                            "<tr><td>997</td><td>75</td><td>30</td></tr>",
                            "<tr><td>998</td><td>75</td><td>56</td></tr>",
                            "</table>"
                        ]
                    }
                }
            ],
            "execution_count": 5
        },
        {
            "cell_type": "markdown",
            "source": [
                "## Case006\n",
                "\n",
                "The sales department at WideWorldImporters are wanting to show appreciation to their top performing salespeople based on the number of invoices they have managed to process. \n",
                "\n",
                "Your task is to get the top 5 salespeople based on the total number of invoices they have processed\n",
                "\n",
                "## Objectives\n",
                "\n",
                "1\\. Count the total number of invoices each salesperson has handled\n",
                "\n",
                "2\\. Get the salesperson's name from the table Application.People\n",
                "\n",
                "3\\. Order the salespeople baed on the number of orders they have processed\n",
                "\n",
                "4\\. Display their names along with the number of orders they have processed\n",
                "\n",
                "## Schemas Needed to Solve the Case\n",
                "\n",
                "Sales.Invoices\n",
                "\n",
                "Application.People\n",
                "\n",
                "###   \n",
                "\n",
                "### Small explanation\n",
                "\n",
                "This query identifies the top 5 salespeople according to the number of invoives they have processed. \n",
                "\n",
                "We use a common Table Expression named SalesCount to count the total number of invoices for each salesperson (using their ID)\n",
                "\n",
                "The outer query the combines the data from SalesCount to the Application.People table in order to get the associated information of the top 5 salespeople, which will be displayed in a table along with the total number of invoices they processed"
            ],
            "metadata": {
                "language": "sql",
                "azdata_cell_guid": "f07667d2-976c-4b26-8544-4bd5b2dc9c19"
            },
            "attachments": {}
        },
        {
            "cell_type": "code",
            "source": [
                "Use WideWorldImporters\n",
                "GO\n",
                "\n",
                "WITH\n",
                "    SalesCount\n",
                "    AS\n",
                "    (\n",
                "        SELECT\n",
                "            SalespersonPersonID,\n",
                "            COUNT(InvoiceID) AS TotalInvoices\n",
                "        FROM Sales.Invoices\n",
                "        GROUP BY SalespersonPersonID\n",
                "    )\n",
                "SELECT TOP 5\n",
                "    sp.FullName AS SalesPerson,\n",
                "    sc.TotalInvoices\n",
                "FROM SalesCount AS sc\n",
                "    INNER JOIN Application.People AS sp\n",
                "    ON sc.SalespersonPersonID = sp.PersonID\n",
                "ORDER BY sc.TotalInvoices DESC;"
            ],
            "metadata": {
                "azdata_cell_guid": "8c11b16f-40cc-4d27-8275-b5512f3841a9",
                "language": "sql"
            },
            "outputs": [
                {
                    "output_type": "display_data",
                    "data": {
                        "text/html": "Commands completed successfully."
                    },
                    "metadata": {}
                },
                {
                    "output_type": "display_data",
                    "data": {
                        "text/html": "(5 rows affected)"
                    },
                    "metadata": {}
                },
                {
                    "output_type": "display_data",
                    "data": {
                        "text/html": "Total execution time: 00:00:00.110"
                    },
                    "metadata": {}
                },
                {
                    "output_type": "execute_result",
                    "metadata": {},
                    "execution_count": 9,
                    "data": {
                        "application/vnd.dataresource+json": {
                            "schema": {
                                "fields": [
                                    {
                                        "name": "SalesPerson"
                                    },
                                    {
                                        "name": "TotalInvoices"
                                    }
                                ]
                            },
                            "data": [
                                {
                                    "SalesPerson": "Archer Lamble",
                                    "TotalInvoices": "7184"
                                },
                                {
                                    "SalesPerson": "Kayla Woodcock",
                                    "TotalInvoices": "7160"
                                },
                                {
                                    "SalesPerson": "Hudson Hollinworth",
                                    "TotalInvoices": "7079"
                                },
                                {
                                    "SalesPerson": "Taj Shand",
                                    "TotalInvoices": "7074"
                                },
                                {
                                    "SalesPerson": "Sophia Hinton",
                                    "TotalInvoices": "7073"
                                }
                            ]
                        },
                        "text/html": [
                            "<table>",
                            "<tr><th>SalesPerson</th><th>TotalInvoices</th></tr>",
                            "<tr><td>Archer Lamble</td><td>7184</td></tr>",
                            "<tr><td>Kayla Woodcock</td><td>7160</td></tr>",
                            "<tr><td>Hudson Hollinworth</td><td>7079</td></tr>",
                            "<tr><td>Taj Shand</td><td>7074</td></tr>",
                            "<tr><td>Sophia Hinton</td><td>7073</td></tr>",
                            "</table>"
                        ]
                    }
                }
            ],
            "execution_count": 9
        },
        {
            "cell_type": "markdown",
            "source": [
                "## Case007\n",
                "\n",
                "HR at AdventureWorks2019 wants to check how are the different types of shifts currently assigned. They are currently waiting for the count of each shift. \n",
                "\n",
                "Your task is to give HR the total number of employees who are currnetly in our the Shift table, but splitting the count into the respective shift type\n",
                "\n",
                "## Objectives\n",
                "\n",
                "1\\. Get all the Shift IDs from both tables required for this case\n",
                "\n",
                "2\\. Combine both datasets including duplicates to prevent losing data\n",
                "\n",
                "3\\. Count the total number of times a shift occurs in both tables\n",
                "\n",
                "4\\. Sort the results in ascending order to identify the least assigned shift\n",
                "\n",
                "## Schemas Needed to Solve the Case\n",
                "\n",
                "HumanResources.Shift\n",
                "\n",
                "HumanResources.EmployeeDepartmentHistory\n",
                "\n",
                "  \n",
                "\n",
                "This query is currently counting the number of employees who have a certain shift type (1, 2, 3)\n",
                "\n",
                "The union all operator combines the two tables (HumanResources.Shift and HumanResources.EmployeeDepartmentHistory) which keeps all duplicates\n",
                "\n",
                "The outer query simply groups the results by their shiftID and counts the number of times a certain shift type appears and displays it in least to most"
            ],
            "metadata": {
                "azdata_cell_guid": "97a43ced-c3b5-47ef-972d-2667b33dd50d"
            },
            "attachments": {}
        },
        {
            "cell_type": "code",
            "source": [
                "USE AdventureWorks2019\n",
                "Go\n",
                "\n",
                "SELECT ShiftID, COUNT(ShiftID) AS ShiftCount\n",
                "FROM (\n",
                "            SELECT ShiftID\n",
                "        FROM HumanResources.Shift\n",
                "\n",
                "    UNION ALL\n",
                "    \n",
                "        SELECT ShiftID\n",
                "        FROM HumanResources.EmployeeDepartmentHistory\n",
                ") AS DataUsed\n",
                "GROUP BY ShiftID\n",
                "ORDER BY ShiftCount ASC;"
            ],
            "metadata": {
                "azdata_cell_guid": "5b4d66bc-f22a-4197-a4d0-0777bafb8e5f",
                "language": "sql"
            },
            "outputs": [
                {
                    "output_type": "display_data",
                    "data": {
                        "text/html": "Commands completed successfully."
                    },
                    "metadata": {}
                },
                {
                    "output_type": "display_data",
                    "data": {
                        "text/html": "(3 rows affected)"
                    },
                    "metadata": {}
                },
                {
                    "output_type": "display_data",
                    "data": {
                        "text/html": "Total execution time: 00:00:00.013"
                    },
                    "metadata": {}
                },
                {
                    "output_type": "execute_result",
                    "metadata": {},
                    "execution_count": 8,
                    "data": {
                        "application/vnd.dataresource+json": {
                            "schema": {
                                "fields": [
                                    {
                                        "name": "ShiftID"
                                    },
                                    {
                                        "name": "ShiftCount"
                                    }
                                ]
                            },
                            "data": [
                                {
                                    "ShiftID": "3",
                                    "ShiftCount": "53"
                                },
                                {
                                    "ShiftID": "2",
                                    "ShiftCount": "63"
                                },
                                {
                                    "ShiftID": "1",
                                    "ShiftCount": "183"
                                }
                            ]
                        },
                        "text/html": [
                            "<table>",
                            "<tr><th>ShiftID</th><th>ShiftCount</th></tr>",
                            "<tr><td>3</td><td>53</td></tr>",
                            "<tr><td>2</td><td>63</td></tr>",
                            "<tr><td>1</td><td>183</td></tr>",
                            "</table>"
                        ]
                    }
                }
            ],
            "execution_count": 8
        }
    ]
}