{
    "metadata": {
        "kernelspec": {
            "name": "SQL",
            "display_name": "SQL",
            "language": "sql"
        },
        "language_info": {
            "name": "sql",
            "version": ""
        }
    },
    "nbformat_minor": 2,
    "nbformat": 4,
    "cells": [
        {
            "cell_type": "markdown",
            "source": [
                "**Case 001**  \n",
                "  \n",
                "Answer: Touring Equipment Center  \n",
                "  \n",
                "Explanation of final query:  \n",
                "  \n",
                "Using except operator with a subquery and then joining it we can acquire the list of inactive vendors. Using the where clause we can get the id ending in 8 and with an extra stipulation we can get the one whose name includes \"Touring\""
            ],
            "metadata": {
                "azdata_cell_guid": "e9512ab6-be8e-4c5b-8dc9-ad19593431db"
            },
            "attachments": {}
        },
        {
            "cell_type": "markdown",
            "source": [
                "**Case 002**  \n",
                "  \n",
                "Answer: José Saraiva  \n",
                "  \n",
                "Explanation of final query:  \n",
                "  \n",
                "Idenitfy high value orders by multiplying quanitity and price and join product details with the sales person details. Using the where clauses stupiulate any patterns in the date and product Ids as well as order values. Notice that allt he results have the same salesman."
            ],
            "metadata": {
                "azdata_cell_guid": "5e6e269a-ccbe-4193-87bd-08343e2d1fc5"
            },
            "attachments": {}
        },
        {
            "cell_type": "markdown",
            "source": [
                "**Case 003**\n",
                "\n",
                "Answer: Mikael Sandberg\n",
                "\n",
                "Explanation of final query:\n",
                "\n",
                "Idenitfy business Ids ending in 0. Use Joins get links between vendor orders and their sales person. Concatonate the name of the buyer. Using wheres get the date stipulations, and price stipulations you want and also find the -berg buyer. Answer should be all buyers are the same single person working with multiple vendors."
            ],
            "metadata": {
                "azdata_cell_guid": "e1bc8510-33aa-4300-8b47-372aac64b505"
            },
            "attachments": {}
        },
        {
            "cell_type": "markdown",
            "source": [
                "**Case 004**\n",
                "\n",
                "Answer: Mountain-200 Black, 42 and <span style=\"font-family: -apple-system, BlinkMacSystemFont, sans-serif; color: var(--vscode-foreground);\">Road-550-W Yellow, 38</span>\n",
                "\n",
                "Explanation of final query:   \n",
                "  \n",
                "Use a join to get the product data with the product name ans such. THe where's will do most of the heavy lifting thats where we specify the id parameter we're looking for, the date timeframe, the order quantity, and the transaction id parameter."
            ],
            "metadata": {
                "azdata_cell_guid": "7c27edad-60b8-40d1-9485-4142e208a245"
            },
            "attachments": {}
        },
        {
            "cell_type": "markdown",
            "source": [
                "**Case 005**\n",
                "\n",
                "Answer: HL Fork\n",
                "\n",
                "Explanation of final query: \n",
                "\n",
                "Idenitfy the in house items. Do this by getting the list of all products and excluding those in purchasing.productvendor. Join this sub query with the regular list so you can get product names. Use a where clause to get the names who have \"fork\" and whos IDs end in 4."
            ],
            "metadata": {
                "azdata_cell_guid": "927a0e39-6f50-4c71-8761-8669b1a7c37f"
            },
            "attachments": {}
        },
        {
            "cell_type": "markdown",
            "source": [
                "**Case 006**\n",
                "\n",
                "Answer: Seat Stays\n",
                "\n",
                "Explanation of final query: \n",
                "\n",
                "Idenitfy the items that have not been sold with a left join where we'll get all items even with no order id, and we use a where clause to get those where the ID is specifically null. Using the where clause we can specify the name parameters and the ProductID ending in 2."
            ],
            "metadata": {
                "azdata_cell_guid": "a8a7c579-443c-4456-b3d4-107b55b8abec"
            },
            "attachments": {}
        },
        {
            "cell_type": "markdown",
            "source": [
                "**Case 007**\n",
                "\n",
                "Answer: Road-150 Red, 62\n",
                "\n",
                "Explanation of final query: \n",
                "\n",
                "Identify all items. WIth the where clause acqurie those items with a name that includes Road and where the price of the object is over $3000. You will get a bunch of results but since the briefing says we want to pick the largest variant, you will pick the 62 inch."
            ],
            "metadata": {
                "azdata_cell_guid": "e032cc72-e513-4854-b8b9-cb47088c1920"
            },
            "attachments": {}
        }
    ]
}