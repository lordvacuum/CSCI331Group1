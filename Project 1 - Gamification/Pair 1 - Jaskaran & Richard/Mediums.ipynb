{
    "metadata": {
        "kernelspec": {
            "name": "SQL",
            "display_name": "SQL",
            "language": "sql"
        },
        "language_info": {
            "name": "sql",
            "version": ""
        }
    },
    "nbformat_minor": 2,
    "nbformat": 4,
    "cells": [
        {
            "cell_type": "markdown",
            "source": [
                "**Mediums Explored**"
            ],
            "metadata": {
                "azdata_cell_guid": "e1f4cb30-99e1-446d-acba-63587fd133dd"
            },
            "attachments": {}
        },
        {
            "cell_type": "markdown",
            "source": [
                "Jaskaran Bains:\n",
                "\n",
                "Medium Username: consulter\n",
                "\n",
                "Medium Article: https://medium.com/@vishalbarvaliya/in-vs-exists-in-sql-c44a45da4961\n",
                "\n",
                "Thoughts:   \n",
                "This article I just found interesting unfortunately couldn't find much written on making sql games or gamificaiton. The article discusses the differences between using IN and EXISTS and maybe it might be more apparent to advance users but for us beginners it's a cool little glimpse into the depth. Essentially this article states that they kind of accomplish the same task there are big performance reasons for utilizing one over the other and concludingly statest that IN is reasonable for smaller tasks and EXISTS for when youre working with alot of rows, while also mentioning the IN struglles with nulls where EXISTS is slightly more reliable in those situations."
            ],
            "metadata": {
                "azdata_cell_guid": "b10070f1-c572-415c-a604-d37df4a0349d"
            },
            "attachments": {}
        },
        {
            "cell_type": "markdown",
            "source": [
                "Richard Garnica:\n",
                "\n",
                "Medium Username: richyg2004\n",
                "\n",
                "Medium Article: [https://medium.com/@Kapeka0/how-i-found-my-first-sql-injection-in-nasa-69ad029f6f7b](https://medium.com/@Kapeka0/how-i-found-my-first-sql-injection-in-nasa-69ad029f6f7b)\n",
                "\n",
                "Thoughts:  \n",
                "I found this article interesting because it briefly discusses what might be expected in the field of cybersecurity, which is a field I am interested in. It took user Kapeka some time to make a working bug detector so he could hack and report bugs to NASA for some recognition of his work ethic and knowledge. He went through a lot to get to his point of success and eventually made his way into SQLi vulnerabilities in modern systems, so it stuck with me and inspired me to continue going down a path I want to pursue even if it requires me to further my education just as he did."
            ],
            "metadata": {
                "azdata_cell_guid": "2c949ae1-aeb9-4c4d-ad55-0387389c63bb"
            },
            "attachments": {}
        }
    ]
}