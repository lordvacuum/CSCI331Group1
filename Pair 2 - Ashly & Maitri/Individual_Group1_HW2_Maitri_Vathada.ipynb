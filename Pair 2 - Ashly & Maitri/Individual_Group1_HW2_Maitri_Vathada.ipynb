{
    "metadata": {
        "kernelspec": {
            "name": "SQL",
            "display_name": "SQL",
            "language": "sql"
        },
        "language_info": {
            "name": "sql",
            "version": ""
        }
    },
    "nbformat_minor": 2,
    "nbformat": 4,
    "cells": [
        {
            "cell_type": "code",
            "source": [
                "USE WideWorldImporters\n",
                "SELECT CustomerID, CustomerName, CustomerCategoryID\n",
                "FROM Sales.Customers\n",
                "WHERE CustomerCategoryID = 7;"
            ],
            "metadata": {
                "azdata_cell_guid": "8959a8c2-661b-408a-b150-857c693da3cc",
                "language": "sql"
            },
            "outputs": [],
            "execution_count": null
        },
        {
            "cell_type": "code",
            "source": [
                "USE WideWorldImporters\r\n",
                "SELECT CustomerID, CustomerName, CustomerCategoryID\r\n",
                "FROM Sales.Customers\r\n",
                "WHERE CustomerCategoryID = 8;"
            ],
            "metadata": {
                "azdata_cell_guid": "5c0023b2-a5fe-4270-83ba-b3a75e8ca0d5",
                "language": "sql"
            },
            "outputs": [],
            "execution_count": null
        },
        {
            "cell_type": "code",
            "source": [
                "USE WideWorldImporters\r\n",
                "SELECT CustomerID, CustomerName, CustomerCategoryID\r\n",
                "FROM Sales.Customers\r\n",
                "WHERE CustomerName = 'Tailspin Toys (Head Office)';"
            ],
            "metadata": {
                "azdata_cell_guid": "d660b1a9-ceb1-4646-a507-18e40b177de4",
                "language": "sql"
            },
            "outputs": [],
            "execution_count": null
        },
        {
            "cell_type": "code",
            "source": [
                "USE WideWorldImporters\r\n",
                "SELECT CustomerID, CustomerName, CustomerCategoryID\r\n",
                "FROM Sales.Customers\r\n",
                "WHERE CustomerName LIKE 'Tailspin Toys%';"
            ],
            "metadata": {
                "azdata_cell_guid": "5b17c882-26cc-40ab-ba12-cd29117070a8",
                "language": "sql"
            },
            "outputs": [],
            "execution_count": null
        },
        {
            "cell_type": "code",
            "source": [
                "USE WideWorldImporters\r\n",
                "SELECT CustomerID, CustomerName, CustomerCategoryID\r\n",
                "FROM Sales.Customers\r\n",
                "WHERE CustomerName LIKE '%Toys%';"
            ],
            "metadata": {
                "azdata_cell_guid": "634ce193-2034-4f0c-88a7-e22fa25938d0",
                "language": "sql"
            },
            "outputs": [],
            "execution_count": null
        },
        {
            "cell_type": "code",
            "source": [
                "USE WideWorldImporters\r\n",
                "SELECT CustomerID, SalespersonPersonID\r\n",
                "FROM Sales.Orders\r\n",
                "WHERE SalespersonPersonID = 3;"
            ],
            "metadata": {
                "azdata_cell_guid": "956cff33-6e3a-4035-b77a-d05b53838661",
                "language": "sql"
            },
            "outputs": [],
            "execution_count": null
        },
        {
            "cell_type": "code",
            "source": [
                "USE WideWorldImporters\r\n",
                "SELECT CustomerID, SalespersonPersonID\r\n",
                "FROM Sales.Orders\r\n",
                "WHERE SalespersonPersonID = 3 AND CustomerID = 414;"
            ],
            "metadata": {
                "azdata_cell_guid": "8beb6623-04cf-44e8-9156-97fa023a28a4",
                "language": "sql"
            },
            "outputs": [],
            "execution_count": null
        },
        {
            "cell_type": "code",
            "source": [
                "USE WideWorldImporters\r\n",
                "SELECT OrderID, CustomerID, SalespersonPersonID, OrderDate\r\n",
                "FROM Sales.Orders\r\n",
                "WHERE OrderID IN (1,2,3);"
            ],
            "metadata": {
                "azdata_cell_guid": "d5bc7398-3dc1-46e7-97ff-93784a58385e",
                "language": "sql",
                "tags": []
            },
            "outputs": [],
            "execution_count": null
        },
        {
            "cell_type": "code",
            "source": [
                "USE WideWorldImporters\r\n",
                "SELECT OrderID, CustomerID, SalespersonPersonID, OrderDate\r\n",
                "FROM Sales.Orders\r\n",
                "WHERE OrderID NOT IN (1,2,3);"
            ],
            "metadata": {
                "azdata_cell_guid": "1b2923de-0854-4c41-a56d-a183c9fd60b8",
                "language": "sql"
            },
            "outputs": [],
            "execution_count": null
        },
        {
            "cell_type": "code",
            "source": [
                "USE WideWorldImporters\r\n",
                "SELECT OrderID, CustomerID, SalespersonPersonID, OrderDate\r\n",
                "FROM Sales.Orders\r\n",
                "WHERE OrderID > 73590;"
            ],
            "metadata": {
                "azdata_cell_guid": "59876b7e-2006-4f82-b2be-6e3821374d90",
                "language": "sql"
            },
            "outputs": [],
            "execution_count": null
        },
        {
            "cell_type": "markdown",
            "source": [
                "Exercise 1"
            ],
            "metadata": {
                "azdata_cell_guid": "13eb475d-4e68-482f-81ad-0facfbf6bc85"
            },
            "attachments": {}
        },
        {
            "cell_type": "code",
            "source": [
                "USE TSQLV6\r\n",
                "SELECT orderid, orderdate, custid, empid\r\n",
                "FROM Sales.Orders\r\n",
                "WHERE YEAR(orderdate) = 2021 AND MONTH(orderdate) = 6;"
            ],
            "metadata": {
                "azdata_cell_guid": "05f62e67-035c-4850-a280-254bcb2f7dee",
                "language": "sql",
                "tags": []
            },
            "outputs": [],
            "execution_count": null
        },
        {
            "cell_type": "markdown",
            "source": [
                "Exercise 2"
            ],
            "metadata": {
                "azdata_cell_guid": "f3b8e940-c08d-4da9-a7f3-7c4c05eb274b"
            },
            "attachments": {}
        },
        {
            "cell_type": "code",
            "source": [
                "USE TSQLV6\r\n",
                "SELECT orderid, orderdate, custid, empid\r\n",
                "FROM Sales.Orders\r\n",
                "WHERE orderdate = DATEADD(day, -1, EOMONTH(orderdate))"
            ],
            "metadata": {
                "azdata_cell_guid": "dbe8e83e-16d9-45ea-b3d3-f44a0956a13d",
                "language": "sql"
            },
            "outputs": [],
            "execution_count": null
        },
        {
            "cell_type": "markdown",
            "source": [
                "Exercise 3"
            ],
            "metadata": {
                "azdata_cell_guid": "9cfd33d7-6c99-49b7-99cf-4b427c5db7f4"
            },
            "attachments": {}
        },
        {
            "cell_type": "code",
            "source": [
                "USE TSQLV6\r\n",
                "SELECT empid, firstname, lastname\r\n",
                "FROM HR.Employees\r\n",
                "WHERE lastname LIKE N'%e%e%e';"
            ],
            "metadata": {
                "azdata_cell_guid": "0022caa7-c46e-4835-a25a-9fe347dae00d",
                "language": "sql",
                "tags": []
            },
            "outputs": [],
            "execution_count": null
        },
        {
            "cell_type": "markdown",
            "source": [
                "Exercise 4"
            ],
            "metadata": {
                "azdata_cell_guid": "8d979a27-e7d3-4912-8682-0774d24f7099"
            },
            "attachments": {}
        },
        {
            "cell_type": "code",
            "source": [
                "USE TSQLV6\r\n",
                "SELECT orderid, (qty * unitprice) as totalvalue\r\n",
                "FROM Sales.OrderDetails\r\n",
                "WHERE (qty * unitprice) > 10000"
            ],
            "metadata": {
                "azdata_cell_guid": "608eb5b5-efb6-4b92-9120-8e23479269af",
                "language": "sql"
            },
            "outputs": [],
            "execution_count": null
        },
        {
            "cell_type": "markdown",
            "source": [
                "Exercise 5"
            ],
            "metadata": {
                "azdata_cell_guid": "dc39f316-e2bc-43a3-9a38-f2250805f9e8"
            },
            "attachments": {}
        },
        {
            "cell_type": "code",
            "source": [
                "USE TSQLV6\r\n",
                "SELECT empid, lastname\r\n",
                "FROM HR.Employees\r\n",
                "WHERE lastname LIKE N'';"
            ],
            "metadata": {
                "azdata_cell_guid": "90b6f4b4-f6c0-4e2f-a038-a12bba578bd5",
                "language": "sql"
            },
            "outputs": [],
            "execution_count": null
        },
        {
            "cell_type": "markdown",
            "source": [
                "Exercise 6\n",
                "\n",
                "The first query results shows the specified orderdate and before. The second query's result is that it shows the employee that has the specific order date."
            ],
            "metadata": {
                "azdata_cell_guid": "70576319-6528-47e4-a629-ffeeb7521f81"
            },
            "attachments": {}
        },
        {
            "cell_type": "markdown",
            "source": [
                "Exercise 7"
            ],
            "metadata": {
                "azdata_cell_guid": "aeab4c93-e190-4e96-873c-6c08b051ba4b"
            },
            "attachments": {}
        },
        {
            "cell_type": "code",
            "source": [
                "USE TSQLV6\r\n",
                "SELECT TOP(3)  shipcountry, AVG(freight)\r\n",
                "FROM Sales.Orders\r\n",
                "WHERE orderdate BETWEEN '20210101' AND '20220101'\r\n",
                "GROUP BY shipcountry\r\n",
                "ORDER BY AVG(freight) DESC;"
            ],
            "metadata": {
                "azdata_cell_guid": "5849afad-72e7-4960-b94a-715de1e7811f",
                "language": "sql"
            },
            "outputs": [],
            "execution_count": null
        },
        {
            "cell_type": "markdown",
            "source": [
                "Exercise 8"
            ],
            "metadata": {
                "azdata_cell_guid": "d0de5ccd-1a53-45f7-bf97-a650b02d4856"
            },
            "attachments": {}
        },
        {
            "cell_type": "code",
            "source": [
                "USE TSQLV6\r\n",
                "SELECT custid, orderdate, orderid\r\n",
                "FROM Sales.Orders\r\n",
                "Order BY custid"
            ],
            "metadata": {
                "azdata_cell_guid": "486b26d9-da34-47f4-8da8-bde418eca4e1",
                "language": "sql"
            },
            "outputs": [],
            "execution_count": null
        },
        {
            "cell_type": "markdown",
            "source": [
                "Exercise 9"
            ],
            "metadata": {
                "azdata_cell_guid": "ec424184-02ab-4c4a-a83f-5cdffd00358d"
            },
            "attachments": {}
        },
        {
            "cell_type": "code",
            "source": [
                "USE TSQLV6\r\n",
                "SELECT empid, firstname, lastname, titleofcourtesy,\r\n",
                "CASE titleofcourtesy\r\n",
                "    WHEN 'Mr.' THEN 'MALE'\r\n",
                "    WHEN 'Mrs.' THEN 'FEMALE'\r\n",
                "    WHEN 'Ms.' THEN 'FEMALE'\r\n",
                "    ELSE 'UNKNOWN'\r\n",
                "END AS gender\r\n",
                "FROM HR.Employees;"
            ],
            "metadata": {
                "azdata_cell_guid": "e2ae572f-6fd9-4564-9c85-0b465a158566",
                "language": "sql"
            },
            "outputs": [],
            "execution_count": null
        },
        {
            "cell_type": "markdown",
            "source": [
                "Exercise 10"
            ],
            "metadata": {
                "azdata_cell_guid": "f1a34d98-8685-498f-9abf-473883a1f984"
            },
            "attachments": {}
        },
        {
            "cell_type": "code",
            "source": [
                "SELECT custid, region\r\n",
                "FROM Sales.Customers\r\n",
                "ORDER BY \r\n",
                "CASE \r\n",
                "    WHEN region IS NULL THEN 1 \r\n",
                "    ELSE 0 \r\n",
                "END, \r\n",
                "region;"
            ],
            "metadata": {
                "azdata_cell_guid": "583aa6cb-15b1-437f-a53c-ae5d0a581c5c",
                "language": "sql"
            },
            "outputs": [],
            "execution_count": null
        }
    ]
}